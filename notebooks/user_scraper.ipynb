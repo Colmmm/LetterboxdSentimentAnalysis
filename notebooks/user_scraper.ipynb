{
 "cells": [
  {
   "cell_type": "markdown",
   "id": "675ef286",
   "metadata": {
    "papermill": {
     "duration": 0.00755,
     "end_time": "2024-09-01T15:22:55.408846",
     "exception": false,
     "start_time": "2024-09-01T15:22:55.401296",
     "status": "completed"
    },
    "tags": []
   },
   "source": [
    "# 1. Setting Up the Environment\n",
    "\n",
    "## 1.1. Install dependencies:\n",
    "This command updates the system's package list and installs various libraries required for running Chrome and Selenium."
   ]
  },
  {
   "cell_type": "code",
   "execution_count": 1,
   "id": "756b088a",
   "metadata": {
    "execution": {
     "iopub.execute_input": "2024-09-01T15:22:55.425417Z",
     "iopub.status.busy": "2024-09-01T15:22:55.424894Z",
     "iopub.status.idle": "2024-09-01T15:23:17.797105Z",
     "shell.execute_reply": "2024-09-01T15:23:17.795646Z"
    },
    "papermill": {
     "duration": 22.384053,
     "end_time": "2024-09-01T15:23:17.800223",
     "exception": false,
     "start_time": "2024-09-01T15:22:55.416170",
     "status": "completed"
    },
    "tags": []
   },
   "outputs": [
    {
     "name": "stdout",
     "output_type": "stream",
     "text": [
      "Get:1 http://security.ubuntu.com/ubuntu focal-security InRelease [128 kB]\r\n",
      "Get:2 http://packages.cloud.google.com/apt gcsfuse-focal InRelease [1227 B]\r\n",
      "Get:3 https://packages.cloud.google.com/apt cloud-sdk InRelease [1618 B]\r\n",
      "Hit:4 http://archive.ubuntu.com/ubuntu focal InRelease\r\n",
      "Get:5 http://archive.ubuntu.com/ubuntu focal-updates InRelease [128 kB]\r\n",
      "Get:6 http://security.ubuntu.com/ubuntu focal-security/restricted amd64 Packages [3926 kB]\r\n",
      "Get:7 http://security.ubuntu.com/ubuntu focal-security/universe amd64 Packages [1258 kB]\r\n",
      "Get:8 http://security.ubuntu.com/ubuntu focal-security/main amd64 Packages [3933 kB]\r\n",
      "Get:9 http://archive.ubuntu.com/ubuntu focal-backports InRelease [128 kB]\r\n",
      "Get:10 http://security.ubuntu.com/ubuntu focal-security/multiverse amd64 Packages [30.9 kB]\r\n",
      "Get:11 https://packages.cloud.google.com/apt cloud-sdk/main amd64 Packages [3214 kB]\r\n",
      "Get:12 https://packages.cloud.google.com/apt cloud-sdk/main all Packages [1511 kB]\r\n",
      "Get:13 http://archive.ubuntu.com/ubuntu focal-updates/universe amd64 Packages [1545 kB]\r\n",
      "Get:14 http://archive.ubuntu.com/ubuntu focal-updates/main amd64 Packages [4398 kB]\r\n",
      "Get:15 http://archive.ubuntu.com/ubuntu focal-updates/multiverse amd64 Packages [33.5 kB]\r\n",
      "Get:16 http://archive.ubuntu.com/ubuntu focal-updates/restricted amd64 Packages [4077 kB]\r\n",
      "\r\n",
      "E: Repository 'http://packages.cloud.google.com/apt gcsfuse-focal InRelease' changed its 'Origin' value from 'namespaces/gcs-fuse-prod/repositories/gcsfuse-focal' to 'gcsfuse-focal'\r\n",
      "E: Repository 'http://packages.cloud.google.com/apt gcsfuse-focal InRelease' changed its 'Label' value from 'namespaces/gcs-fuse-prod/repositories/gcsfuse-focal' to 'gcsfuse-focal'\r\n",
      "N: This must be accepted explicitly before updates for this repository can be applied. See apt-secure(8) manpage for details.\r\n",
      "\r\n",
      "\r\n",
      "\r\n",
      "libfontconfig1 is already the newest version (2.13.1-2ubuntu3).\r\n",
      "libvulkan1 is already the newest version (1.2.131.2-1).\r\n",
      "libvulkan1 set to manually installed.\r\n",
      "The following additional packages will be installed:\r\n",
      "  gconf-service gconf-service-backend libglib2.0-bin libudev1\r\n",
      "Recommended packages:\r\n",
      "  xdg-user-dirs\r\n",
      "The following NEW packages will be installed:\r\n",
      "  gconf-service gconf-service-backend gconf2-common libdbus-glib-1-2 libgbm1\r\n",
      "  libgconf-2-4 libu2f-udev libwayland-server0 udev\r\n",
      "The following packages will be upgraded:\r\n",
      "  libglib2.0-0 libglib2.0-bin libnss3 libudev1\r\n",
      "4 upgraded, 9 newly installed, 0 to remove and 128 not upgraded.\r\n",
      "Need to get 5180 kB of archives.\r\n",
      "After this operation, 18.4 MB of additional disk space will be used.\r\n",
      "Get:1 http://archive.ubuntu.com/ubuntu focal-updates/main amd64 libudev1 amd64 245.4-4ubuntu3.23 [75.6 kB]\r\n",
      "Get:2 http://archive.ubuntu.com/ubuntu focal-updates/main amd64 libglib2.0-bin amd64 2.64.6-1~ubuntu20.04.7 [72.8 kB]\r\n",
      "Get:3 http://archive.ubuntu.com/ubuntu focal-updates/main amd64 libglib2.0-0 amd64 2.64.6-1~ubuntu20.04.7 [1289 kB]\r\n",
      "Get:4 http://archive.ubuntu.com/ubuntu focal-updates/main amd64 udev amd64 245.4-4ubuntu3.23 [1366 kB]\r\n",
      "Get:5 http://archive.ubuntu.com/ubuntu focal/main amd64 libdbus-glib-1-2 amd64 0.110-5fakssync1 [59.1 kB]\r\n",
      "Get:6 http://archive.ubuntu.com/ubuntu focal/universe amd64 gconf2-common all 3.2.6-6ubuntu1 [698 kB]\r\n",
      "Get:7 http://archive.ubuntu.com/ubuntu focal/universe amd64 libgconf-2-4 amd64 3.2.6-6ubuntu1 [84.8 kB]\r\n",
      "Get:8 http://archive.ubuntu.com/ubuntu focal/universe amd64 gconf-service-backend amd64 3.2.6-6ubuntu1 [58.6 kB]\r\n",
      "Get:9 http://archive.ubuntu.com/ubuntu focal/universe amd64 gconf-service amd64 3.2.6-6ubuntu1 [17.4 kB]\r\n",
      "Get:10 http://archive.ubuntu.com/ubuntu focal-updates/main amd64 libwayland-server0 amd64 1.18.0-1ubuntu0.1 [31.3 kB]\r\n",
      "Get:11 http://archive.ubuntu.com/ubuntu focal-updates/main amd64 libgbm1 amd64 21.2.6-0ubuntu0.1~20.04.2 [29.2 kB]\r\n",
      "Get:12 http://archive.ubuntu.com/ubuntu focal-updates/main amd64 libnss3 amd64 2:3.98-0ubuntu0.20.04.2 [1391 kB]\r\n",
      "Get:13 http://archive.ubuntu.com/ubuntu focal/main amd64 libu2f-udev all 1.1.10-1 [6108 B]\r\n",
      "Fetched 5180 kB in 0s (29.8 MB/s)\r\n",
      "(Reading database ... 108782 files and directories currently installed.)\r\n",
      "Preparing to unpack .../libudev1_245.4-4ubuntu3.23_amd64.deb ...\r\n",
      "Unpacking libudev1:amd64 (245.4-4ubuntu3.23) over (245.4-4ubuntu3.22) ...\r\n",
      "Setting up libudev1:amd64 (245.4-4ubuntu3.23) ...\r\n",
      "(Reading database ... 108782 files and directories currently installed.)\r\n",
      "Preparing to unpack .../00-libglib2.0-bin_2.64.6-1~ubuntu20.04.7_amd64.deb ...\r\n",
      "Unpacking libglib2.0-bin (2.64.6-1~ubuntu20.04.7) over (2.64.6-1~ubuntu20.04.6) ...\r\n",
      "Preparing to unpack .../01-libglib2.0-0_2.64.6-1~ubuntu20.04.7_amd64.deb ...\r\n",
      "Unpacking libglib2.0-0:amd64 (2.64.6-1~ubuntu20.04.7) over (2.64.6-1~ubuntu20.04.6) ...\r\n",
      "Selecting previously unselected package udev.\r\n",
      "Preparing to unpack .../02-udev_245.4-4ubuntu3.23_amd64.deb ...\r\n",
      "Unpacking udev (245.4-4ubuntu3.23) ...\r\n",
      "Selecting previously unselected package libdbus-glib-1-2:amd64.\r\n",
      "Preparing to unpack .../03-libdbus-glib-1-2_0.110-5fakssync1_amd64.deb ...\r\n",
      "Unpacking libdbus-glib-1-2:amd64 (0.110-5fakssync1) ...\r\n",
      "Selecting previously unselected package gconf2-common.\r\n",
      "Preparing to unpack .../04-gconf2-common_3.2.6-6ubuntu1_all.deb ...\r\n",
      "Unpacking gconf2-common (3.2.6-6ubuntu1) ...\r\n",
      "Selecting previously unselected package libgconf-2-4:amd64.\r\n",
      "Preparing to unpack .../05-libgconf-2-4_3.2.6-6ubuntu1_amd64.deb ...\r\n",
      "Unpacking libgconf-2-4:amd64 (3.2.6-6ubuntu1) ...\r\n",
      "Selecting previously unselected package gconf-service-backend.\r\n",
      "Preparing to unpack .../06-gconf-service-backend_3.2.6-6ubuntu1_amd64.deb ...\r\n",
      "Unpacking gconf-service-backend (3.2.6-6ubuntu1) ...\r\n",
      "Selecting previously unselected package gconf-service.\r\n",
      "Preparing to unpack .../07-gconf-service_3.2.6-6ubuntu1_amd64.deb ...\r\n",
      "Unpacking gconf-service (3.2.6-6ubuntu1) ...\r\n",
      "Selecting previously unselected package libwayland-server0:amd64.\r\n",
      "Preparing to unpack .../08-libwayland-server0_1.18.0-1ubuntu0.1_amd64.deb ...\r\n",
      "Unpacking libwayland-server0:amd64 (1.18.0-1ubuntu0.1) ...\r\n",
      "Selecting previously unselected package libgbm1:amd64.\r\n",
      "Preparing to unpack .../09-libgbm1_21.2.6-0ubuntu0.1~20.04.2_amd64.deb ...\r\n",
      "Unpacking libgbm1:amd64 (21.2.6-0ubuntu0.1~20.04.2) ...\r\n",
      "Preparing to unpack .../10-libnss3_2%3a3.98-0ubuntu0.20.04.2_amd64.deb ...\r\n",
      "Unpacking libnss3:amd64 (2:3.98-0ubuntu0.20.04.2) over (2:3.49.1-1ubuntu1.9) ...\r\n",
      "Selecting previously unselected package libu2f-udev.\r\n",
      "Preparing to unpack .../11-libu2f-udev_1.1.10-1_all.deb ...\r\n",
      "Unpacking libu2f-udev (1.1.10-1) ...\r\n",
      "Setting up libwayland-server0:amd64 (1.18.0-1ubuntu0.1) ...\r\n",
      "Setting up libgbm1:amd64 (21.2.6-0ubuntu0.1~20.04.2) ...\r\n",
      "Setting up libglib2.0-0:amd64 (2.64.6-1~ubuntu20.04.7) ...\r\n",
      "Setting up libglib2.0-bin (2.64.6-1~ubuntu20.04.7) ...\r\n",
      "Setting up libnss3:amd64 (2:3.98-0ubuntu0.20.04.2) ...\r\n",
      "Setting up gconf2-common (3.2.6-6ubuntu1) ...\r\n",
      "\r\n",
      "Creating config file /etc/gconf/2/path with new version\r\n",
      "Setting up libdbus-glib-1-2:amd64 (0.110-5fakssync1) ...\r\n",
      "Setting up udev (245.4-4ubuntu3.23) ...\r\n",
      "invoke-rc.d: could not determine current runlevel\r\n",
      "invoke-rc.d: policy-rc.d denied execution of start.\r\n",
      "Setting up libgconf-2-4:amd64 (3.2.6-6ubuntu1) ...\r\n",
      "Setting up libu2f-udev (1.1.10-1) ...\r\n",
      "Failed to send reload request: No such file or directory\r\n",
      "Setting up gconf-service (3.2.6-6ubuntu1) ...\r\n",
      "Setting up gconf-service-backend (3.2.6-6ubuntu1) ...\r\n",
      "Processing triggers for libc-bin (2.31-0ubuntu9.9) ...\r\n",
      "Processing triggers for systemd (245.4-4ubuntu3.22) ...\r\n",
      "Processing triggers for man-db (2.9.1-1) ...\r\n",
      "\r\n",
      "\r\n",
      "\r\n",
      "0 upgraded, 0 newly installed, 0 to remove and 128 not upgraded.\r\n"
     ]
    }
   ],
   "source": [
    "!apt-get update -y\n",
    "!apt-get install -y \\\n",
    "libglib2.0-0 \\\n",
    "libnss3 \\\n",
    "libdbus-glib-1-2 \\\n",
    "libgconf-2-4 \\\n",
    "libfontconfig1 \\\n",
    "libvulkan1 \\\n",
    "gconf2-common \\\n",
    "libwayland-server0 \\\n",
    "libgbm1 \\\n",
    "udev \\\n",
    "libu2f-udev \n",
    "!apt --fix-broken install -y  "
   ]
  },
  {
   "cell_type": "markdown",
   "id": "7bc4cff9",
   "metadata": {
    "papermill": {
     "duration": 0.019471,
     "end_time": "2024-09-01T15:23:17.838978",
     "exception": false,
     "start_time": "2024-09-01T15:23:17.819507",
     "status": "completed"
    },
    "tags": []
   },
   "source": [
    "## 1.2. Download and extract Chrome:\n",
    "\n",
    "To use Selenium, you will need to download and install Chrome and Chromedriver.\n",
    "\n",
    "* **Chrome**: Chrome is a popular web browser that is known for its speed and security.\n",
    "* **Chromedriver**: Chromedriver is a tool that allows Selenium to interact with Chrome.\n",
    "\n",
    "Downloads the latest stable version of Chrome for Linux and extracts it to the /usr/bin directory."
   ]
  },
  {
   "cell_type": "code",
   "execution_count": 2,
   "id": "c02a9115",
   "metadata": {
    "execution": {
     "iopub.execute_input": "2024-09-01T15:23:17.878763Z",
     "iopub.status.busy": "2024-09-01T15:23:17.878346Z",
     "iopub.status.idle": "2024-09-01T15:23:28.779252Z",
     "shell.execute_reply": "2024-09-01T15:23:28.777682Z"
    },
    "papermill": {
     "duration": 10.924707,
     "end_time": "2024-09-01T15:23:28.782405",
     "exception": false,
     "start_time": "2024-09-01T15:23:17.857698",
     "status": "completed"
    },
    "tags": []
   },
   "outputs": [
    {
     "name": "stdout",
     "output_type": "stream",
     "text": [
      "--2024-09-01 15:23:18--  https://edgedl.me.gvt1.com/edgedl/chrome/chrome-for-testing/116.0.5845.96/linux64/chrome-linux64.zip\r\n",
      "Resolving edgedl.me.gvt1.com (edgedl.me.gvt1.com)... 34.104.35.123, 2600:1900:4110:86f::\r\n",
      "Connecting to edgedl.me.gvt1.com (edgedl.me.gvt1.com)|34.104.35.123|:443... connected.\r\n",
      "HTTP request sent, awaiting response... 302 Found\r\n",
      "Location: https://storage.googleapis.com/chrome-for-testing-public/116.0.5845.96/linux64/chrome-linux64.zip [following]\r\n",
      "--2024-09-01 15:23:19--  https://storage.googleapis.com/chrome-for-testing-public/116.0.5845.96/linux64/chrome-linux64.zip\r\n",
      "Resolving storage.googleapis.com (storage.googleapis.com)... 108.177.127.207, 108.177.119.207, 142.251.31.207, ...\r\n",
      "Connecting to storage.googleapis.com (storage.googleapis.com)|108.177.127.207|:443... connected.\r\n",
      "HTTP request sent, awaiting response... 200 OK\r\n",
      "Length: 145898081 (139M) [application/zip]\r\n",
      "Saving to: '/tmp/chrome-linux64.zip'\r\n",
      "\r\n",
      "chrome-linux64.zip  100%[===================>] 139.14M  38.7MB/s    in 4.1s    \r\n",
      "\r\n",
      "2024-09-01 15:23:23 (34.1 MB/s) - '/tmp/chrome-linux64.zip' saved [145898081/145898081]\r\n",
      "\r\n",
      "Archive:  /tmp/chrome-linux64.zip\r\n",
      "  inflating: /usr/bin/chrome-linux64/MEIPreload/manifest.json  \r\n",
      "  inflating: /usr/bin/chrome-linux64/MEIPreload/preloaded_data.pb  \r\n",
      "  inflating: /usr/bin/chrome-linux64/chrome  \r\n",
      "  inflating: /usr/bin/chrome-linux64/chrome-wrapper  \r\n",
      "  inflating: /usr/bin/chrome-linux64/chrome_100_percent.pak  \r\n",
      "  inflating: /usr/bin/chrome-linux64/chrome_200_percent.pak  \r\n",
      "  inflating: /usr/bin/chrome-linux64/chrome_crashpad_handler  \r\n",
      "  inflating: /usr/bin/chrome-linux64/chrome_sandbox  \r\n",
      "  inflating: /usr/bin/chrome-linux64/icudtl.dat  \r\n",
      "  inflating: /usr/bin/chrome-linux64/libEGL.so  \r\n",
      "  inflating: /usr/bin/chrome-linux64/libGLESv2.so  \r\n",
      "  inflating: /usr/bin/chrome-linux64/libvk_swiftshader.so  \r\n",
      "  inflating: /usr/bin/chrome-linux64/libvulkan.so.1  \r\n",
      "  inflating: /usr/bin/chrome-linux64/nacl_helper  \r\n",
      "  inflating: /usr/bin/chrome-linux64/nacl_helper_bootstrap  \r\n",
      "  inflating: /usr/bin/chrome-linux64/nacl_irt_x86_64.nexe  \r\n",
      " extracting: /usr/bin/chrome-linux64/product_logo_48.png  \r\n",
      "  inflating: /usr/bin/chrome-linux64/resources.pak  \r\n",
      "  inflating: /usr/bin/chrome-linux64/v8_context_snapshot.bin  \r\n",
      "  inflating: /usr/bin/chrome-linux64/vk_swiftshader_icd.json  \r\n",
      "  inflating: /usr/bin/chrome-linux64/xdg-mime  \r\n",
      "  inflating: /usr/bin/chrome-linux64/xdg-settings  \r\n",
      "   creating: /usr/bin/chrome-linux64/locales/\r\n",
      "  inflating: /usr/bin/chrome-linux64/locales/fr.pak.info  \r\n",
      "  inflating: /usr/bin/chrome-linux64/locales/ur.pak.info  \r\n",
      "  inflating: /usr/bin/chrome-linux64/locales/sw.pak  \r\n",
      "  inflating: /usr/bin/chrome-linux64/locales/ar.pak  \r\n",
      "  inflating: /usr/bin/chrome-linux64/locales/sk.pak.info  \r\n",
      "  inflating: /usr/bin/chrome-linux64/locales/hu.pak.info  \r\n",
      "  inflating: /usr/bin/chrome-linux64/locales/ms.pak  \r\n",
      "  inflating: /usr/bin/chrome-linux64/locales/vi.pak.info  \r\n",
      "  inflating: /usr/bin/chrome-linux64/locales/es.pak  \r\n",
      "  inflating: /usr/bin/chrome-linux64/locales/he.pak.info  \r\n",
      "  inflating: /usr/bin/chrome-linux64/locales/hr.pak  \r\n",
      "  inflating: /usr/bin/chrome-linux64/locales/en-GB.pak  \r\n",
      "  inflating: /usr/bin/chrome-linux64/locales/zh-CN.pak  \r\n",
      "  inflating: /usr/bin/chrome-linux64/locales/pt-BR.pak.info  \r\n",
      "  inflating: /usr/bin/chrome-linux64/locales/en-US.pak.info  \r\n",
      "  inflating: /usr/bin/chrome-linux64/locales/de.pak.info  \r\n",
      "  inflating: /usr/bin/chrome-linux64/locales/af.pak.info  \r\n",
      "  inflating: /usr/bin/chrome-linux64/locales/fil.pak  \r\n",
      "  inflating: /usr/bin/chrome-linux64/locales/el.pak  \r\n",
      "  inflating: /usr/bin/chrome-linux64/locales/bg.pak  \r\n",
      "  inflating: /usr/bin/chrome-linux64/locales/fa.pak  \r\n",
      "  inflating: /usr/bin/chrome-linux64/locales/uk.pak  \r\n",
      "  inflating: /usr/bin/chrome-linux64/locales/kn.pak  \r\n",
      "  inflating: /usr/bin/chrome-linux64/locales/en-GB.pak.info  \r\n",
      "  inflating: /usr/bin/chrome-linux64/locales/sl.pak  \r\n",
      "  inflating: /usr/bin/chrome-linux64/locales/sv.pak.info  \r\n",
      "  inflating: /usr/bin/chrome-linux64/locales/ko.pak  \r\n",
      "  inflating: /usr/bin/chrome-linux64/locales/nb.pak  \r\n",
      "  inflating: /usr/bin/chrome-linux64/locales/tr.pak  \r\n",
      "  inflating: /usr/bin/chrome-linux64/locales/th.pak.info  \r\n",
      "  inflating: /usr/bin/chrome-linux64/locales/ar.pak.info  \r\n",
      "  inflating: /usr/bin/chrome-linux64/locales/pt-PT.pak.info  \r\n",
      "  inflating: /usr/bin/chrome-linux64/locales/pt-PT.pak  \r\n",
      "  inflating: /usr/bin/chrome-linux64/locales/vi.pak  \r\n",
      "  inflating: /usr/bin/chrome-linux64/locales/ml.pak.info  \r\n",
      "  inflating: /usr/bin/chrome-linux64/locales/es.pak.info  \r\n",
      "  inflating: /usr/bin/chrome-linux64/locales/mr.pak.info  \r\n",
      "  inflating: /usr/bin/chrome-linux64/locales/tr.pak.info  \r\n",
      "  inflating: /usr/bin/chrome-linux64/locales/hi.pak.info  \r\n",
      "  inflating: /usr/bin/chrome-linux64/locales/fa.pak.info  \r\n",
      "  inflating: /usr/bin/chrome-linux64/locales/ja.pak  \r\n",
      "  inflating: /usr/bin/chrome-linux64/locales/bg.pak.info  \r\n",
      "  inflating: /usr/bin/chrome-linux64/locales/sr.pak.info  \r\n",
      "  inflating: /usr/bin/chrome-linux64/locales/fi.pak  \r\n",
      "  inflating: /usr/bin/chrome-linux64/locales/ca.pak  \r\n",
      "  inflating: /usr/bin/chrome-linux64/locales/et.pak.info  \r\n",
      "  inflating: /usr/bin/chrome-linux64/locales/ko.pak.info  \r\n",
      "  inflating: /usr/bin/chrome-linux64/locales/gu.pak  \r\n",
      "  inflating: /usr/bin/chrome-linux64/locales/et.pak  \r\n",
      "  inflating: /usr/bin/chrome-linux64/locales/it.pak.info  \r\n",
      "  inflating: /usr/bin/chrome-linux64/locales/lv.pak.info  \r\n",
      "  inflating: /usr/bin/chrome-linux64/locales/sr.pak  \r\n",
      "  inflating: /usr/bin/chrome-linux64/locales/bn.pak  \r\n",
      "  inflating: /usr/bin/chrome-linux64/locales/pl.pak  \r\n",
      "  inflating: /usr/bin/chrome-linux64/locales/el.pak.info  \r\n",
      "  inflating: /usr/bin/chrome-linux64/locales/lv.pak  \r\n",
      "  inflating: /usr/bin/chrome-linux64/locales/ca.pak.info  \r\n",
      "  inflating: /usr/bin/chrome-linux64/locales/uk.pak.info  \r\n",
      "  inflating: /usr/bin/chrome-linux64/locales/nl.pak  \r\n",
      "  inflating: /usr/bin/chrome-linux64/locales/sw.pak.info  \r\n",
      "  inflating: /usr/bin/chrome-linux64/locales/de.pak  \r\n",
      "  inflating: /usr/bin/chrome-linux64/locales/af.pak  \r\n",
      "  inflating: /usr/bin/chrome-linux64/locales/hi.pak  \r\n",
      "  inflating: /usr/bin/chrome-linux64/locales/pl.pak.info  \r\n",
      "  inflating: /usr/bin/chrome-linux64/locales/he.pak  \r\n",
      "  inflating: /usr/bin/chrome-linux64/locales/sv.pak  \r\n",
      "  inflating: /usr/bin/chrome-linux64/locales/ms.pak.info  \r\n",
      "  inflating: /usr/bin/chrome-linux64/locales/sk.pak  \r\n",
      "  inflating: /usr/bin/chrome-linux64/locales/bn.pak.info  \r\n",
      "  inflating: /usr/bin/chrome-linux64/locales/cs.pak.info  \r\n",
      "  inflating: /usr/bin/chrome-linux64/locales/kn.pak.info  \r\n",
      "  inflating: /usr/bin/chrome-linux64/locales/zh-CN.pak.info  \r\n",
      "  inflating: /usr/bin/chrome-linux64/locales/id.pak.info  \r\n",
      "  inflating: /usr/bin/chrome-linux64/locales/es-419.pak.info  \r\n",
      "  inflating: /usr/bin/chrome-linux64/locales/lt.pak  \r\n",
      "  inflating: /usr/bin/chrome-linux64/locales/ur.pak  \r\n",
      "  inflating: /usr/bin/chrome-linux64/locales/ta.pak.info  \r\n",
      "  inflating: /usr/bin/chrome-linux64/locales/zh-TW.pak  \r\n",
      "  inflating: /usr/bin/chrome-linux64/locales/te.pak  \r\n",
      "  inflating: /usr/bin/chrome-linux64/locales/ja.pak.info  \r\n",
      "  inflating: /usr/bin/chrome-linux64/locales/en-US.pak  \r\n",
      "  inflating: /usr/bin/chrome-linux64/locales/nb.pak.info  \r\n",
      "  inflating: /usr/bin/chrome-linux64/locales/it.pak  \r\n",
      "  inflating: /usr/bin/chrome-linux64/locales/es-419.pak  \r\n",
      "  inflating: /usr/bin/chrome-linux64/locales/nl.pak.info  \r\n",
      "  inflating: /usr/bin/chrome-linux64/locales/cs.pak  \r\n",
      "  inflating: /usr/bin/chrome-linux64/locales/zh-TW.pak.info  \r\n",
      "  inflating: /usr/bin/chrome-linux64/locales/ru.pak.info  \r\n",
      "  inflating: /usr/bin/chrome-linux64/locales/da.pak  \r\n",
      "  inflating: /usr/bin/chrome-linux64/locales/lt.pak.info  \r\n",
      "  inflating: /usr/bin/chrome-linux64/locales/ml.pak  \r\n",
      "  inflating: /usr/bin/chrome-linux64/locales/mr.pak  \r\n",
      "  inflating: /usr/bin/chrome-linux64/locales/pt-BR.pak  \r\n",
      "  inflating: /usr/bin/chrome-linux64/locales/da.pak.info  \r\n",
      "  inflating: /usr/bin/chrome-linux64/locales/te.pak.info  \r\n",
      "  inflating: /usr/bin/chrome-linux64/locales/fil.pak.info  \r\n",
      "  inflating: /usr/bin/chrome-linux64/locales/ta.pak  \r\n",
      "  inflating: /usr/bin/chrome-linux64/locales/id.pak  \r\n",
      "  inflating: /usr/bin/chrome-linux64/locales/am.pak.info  \r\n",
      "  inflating: /usr/bin/chrome-linux64/locales/am.pak  \r\n",
      "  inflating: /usr/bin/chrome-linux64/locales/hu.pak  \r\n",
      "  inflating: /usr/bin/chrome-linux64/locales/fi.pak.info  \r\n",
      "  inflating: /usr/bin/chrome-linux64/locales/sl.pak.info  \r\n",
      "  inflating: /usr/bin/chrome-linux64/locales/ro.pak  \r\n",
      "  inflating: /usr/bin/chrome-linux64/locales/th.pak  \r\n",
      "  inflating: /usr/bin/chrome-linux64/locales/fr.pak  \r\n",
      "  inflating: /usr/bin/chrome-linux64/locales/gu.pak.info  \r\n",
      "  inflating: /usr/bin/chrome-linux64/locales/ru.pak  \r\n",
      "  inflating: /usr/bin/chrome-linux64/locales/ro.pak.info  \r\n",
      "  inflating: /usr/bin/chrome-linux64/locales/hr.pak.info  \r\n",
      "   creating: /usr/bin/chrome-linux64/resources/\r\n",
      "   creating: /usr/bin/chrome-linux64/resources/inspector_overlay/\r\n",
      "  inflating: /usr/bin/chrome-linux64/resources/inspector_overlay/inspector_overlay_resources.grd  \r\n",
      "  inflating: /usr/bin/chrome-linux64/resources/inspector_overlay/main.js  \r\n"
     ]
    }
   ],
   "source": [
    "!wget -P /tmp https://edgedl.me.gvt1.com/edgedl/chrome/chrome-for-testing/116.0.5845.96/linux64/chrome-linux64.zip\n",
    "!unzip /tmp/chrome-linux64.zip -d /usr/bin/"
   ]
  },
  {
   "cell_type": "markdown",
   "id": "fc7cc236",
   "metadata": {
    "papermill": {
     "duration": 0.023606,
     "end_time": "2024-09-01T15:23:28.829982",
     "exception": false,
     "start_time": "2024-09-01T15:23:28.806376",
     "status": "completed"
    },
    "tags": []
   },
   "source": [
    "## 1.3. Download and extract Chromedriver:\n",
    "\n",
    "As it was done in the previous code."
   ]
  },
  {
   "cell_type": "code",
   "execution_count": 3,
   "id": "211b46ef",
   "metadata": {
    "execution": {
     "iopub.execute_input": "2024-09-01T15:23:28.879981Z",
     "iopub.status.busy": "2024-09-01T15:23:28.879499Z",
     "iopub.status.idle": "2024-09-01T15:23:32.391281Z",
     "shell.execute_reply": "2024-09-01T15:23:32.389934Z"
    },
    "papermill": {
     "duration": 3.540593,
     "end_time": "2024-09-01T15:23:32.394329",
     "exception": false,
     "start_time": "2024-09-01T15:23:28.853736",
     "status": "completed"
    },
    "tags": []
   },
   "outputs": [
    {
     "name": "stdout",
     "output_type": "stream",
     "text": [
      "--2024-09-01 15:23:29--  https://edgedl.me.gvt1.com/edgedl/chrome/chrome-for-testing/116.0.5845.96/linux64/chromedriver-linux64.zip\r\n",
      "Resolving edgedl.me.gvt1.com (edgedl.me.gvt1.com)... 34.104.35.123, 2600:1900:4110:86f::\r\n",
      "Connecting to edgedl.me.gvt1.com (edgedl.me.gvt1.com)|34.104.35.123|:443... connected.\r\n",
      "HTTP request sent, awaiting response... 302 Found\r\n",
      "Location: https://storage.googleapis.com/chrome-for-testing-public/116.0.5845.96/linux64/chromedriver-linux64.zip [following]\r\n",
      "--2024-09-01 15:23:29--  https://storage.googleapis.com/chrome-for-testing-public/116.0.5845.96/linux64/chromedriver-linux64.zip\r\n",
      "Resolving storage.googleapis.com (storage.googleapis.com)... 108.177.119.207, 108.177.127.207, 173.194.79.207, ...\r\n",
      "Connecting to storage.googleapis.com (storage.googleapis.com)|108.177.119.207|:443... connected.\r\n",
      "HTTP request sent, awaiting response... 200 OK\r\n",
      "Length: 7271942 (6.9M) [application/zip]\r\n",
      "Saving to: '/tmp/chromedriver-linux64.zip'\r\n",
      "\r\n",
      "chromedriver-linux6 100%[===================>]   6.93M  8.66MB/s    in 0.8s    \r\n",
      "\r\n",
      "2024-09-01 15:23:30 (8.66 MB/s) - '/tmp/chromedriver-linux64.zip' saved [7271942/7271942]\r\n",
      "\r\n",
      "Archive:  /tmp/chromedriver-linux64.zip\r\n",
      "  inflating: /usr/bin/chromedriver-linux64/LICENSE.chromedriver  \r\n",
      "  inflating: /usr/bin/chromedriver-linux64/chromedriver  \r\n"
     ]
    }
   ],
   "source": [
    "!wget -P /tmp https://edgedl.me.gvt1.com/edgedl/chrome/chrome-for-testing/116.0.5845.96/linux64/chromedriver-linux64.zip\n",
    "!unzip /tmp/chromedriver-linux64.zip -d /usr/bin/"
   ]
  },
  {
   "cell_type": "markdown",
   "id": "679bdc7a",
   "metadata": {
    "papermill": {
     "duration": 0.023979,
     "end_time": "2024-09-01T15:23:32.443099",
     "exception": false,
     "start_time": "2024-09-01T15:23:32.419120",
     "status": "completed"
    },
    "tags": []
   },
   "source": [
    "## 1.4. Install Python libraries"
   ]
  },
  {
   "cell_type": "code",
   "execution_count": 4,
   "id": "c7633460",
   "metadata": {
    "execution": {
     "iopub.execute_input": "2024-09-01T15:23:32.493556Z",
     "iopub.status.busy": "2024-09-01T15:23:32.493050Z",
     "iopub.status.idle": "2024-09-01T15:24:06.609291Z",
     "shell.execute_reply": "2024-09-01T15:24:06.607802Z"
    },
    "papermill": {
     "duration": 34.145017,
     "end_time": "2024-09-01T15:24:06.612283",
     "exception": false,
     "start_time": "2024-09-01T15:23:32.467266",
     "status": "completed"
    },
    "tags": []
   },
   "outputs": [
    {
     "name": "stdout",
     "output_type": "stream",
     "text": [
      "\r\n",
      "\r\n",
      "\r\n",
      "The following additional packages will be installed:\r\n",
      "  apparmor chromium-browser chromium-chromedriver liblzo2-2 snapd\r\n",
      "  squashfs-tools\r\n",
      "Suggested packages:\r\n",
      "  apparmor-profiles-extra apparmor-utils zenity | kdialog\r\n",
      "The following NEW packages will be installed:\r\n",
      "  apparmor chromium-browser chromium-chromedriver liblzo2-2 python3-selenium\r\n",
      "  snapd squashfs-tools\r\n",
      "0 upgraded, 7 newly installed, 0 to remove and 128 not upgraded.\r\n",
      "Need to get 25.9 MB of archives.\r\n",
      "After this operation, 107 MB of additional disk space will be used.\r\n",
      "Get:1 http://archive.ubuntu.com/ubuntu focal-updates/main amd64 apparmor amd64 2.13.3-7ubuntu5.3 [502 kB]\r\n",
      "Get:2 http://archive.ubuntu.com/ubuntu focal/main amd64 liblzo2-2 amd64 2.10-2 [50.8 kB]\r\n",
      "Get:3 http://archive.ubuntu.com/ubuntu focal-updates/main amd64 squashfs-tools amd64 1:4.4-1ubuntu0.3 [117 kB]\r\n",
      "Get:4 http://archive.ubuntu.com/ubuntu focal-updates/main amd64 snapd amd64 2.63+20.04ubuntu0.1 [25.1 MB]\r\n",
      "Get:5 http://archive.ubuntu.com/ubuntu focal-updates/universe amd64 chromium-browser amd64 1:85.0.4183.83-0ubuntu0.20.04.3 [48.5 kB]\r\n",
      "Get:6 http://archive.ubuntu.com/ubuntu focal-updates/universe amd64 chromium-chromedriver amd64 1:85.0.4183.83-0ubuntu0.20.04.3 [2496 B]\r\n",
      "Get:7 http://archive.ubuntu.com/ubuntu focal/universe amd64 python3-selenium all 4.0.0~a1+dfsg1-1.1 [86.2 kB]\r\n",
      "Fetched 25.9 MB in 2s (16.4 MB/s)\r\n",
      "Preconfiguring packages ...\r\n",
      "\n",
      "\u001b7\u001b[0;23r\u001b8\u001b[1ASelecting previously unselected package apparmor.\r\n",
      "(Reading database ... 109076 files and directories currently installed.)\r\n",
      "Preparing to unpack .../apparmor_2.13.3-7ubuntu5.3_amd64.deb ...\r\n",
      "\u001b7\u001b[24;0f\u001b[42m\u001b[30mProgress: [  0%]\u001b[49m\u001b[39m [..........................................................] \u001b8\u001b7\u001b[24;0f\u001b[42m\u001b[30mProgress: [  3%]\u001b[49m\u001b[39m [##........................................................] \u001b8Unpacking apparmor (2.13.3-7ubuntu5.3) ...\r\n",
      "\u001b7\u001b[24;0f\u001b[42m\u001b[30mProgress: [  7%]\u001b[49m\u001b[39m [####......................................................] \u001b8Selecting previously unselected package liblzo2-2:amd64.\r\n",
      "Preparing to unpack .../liblzo2-2_2.10-2_amd64.deb ...\r\n",
      "\u001b7\u001b[24;0f\u001b[42m\u001b[30mProgress: [ 10%]\u001b[49m\u001b[39m [######....................................................] \u001b8Unpacking liblzo2-2:amd64 (2.10-2) ...\r\n",
      "\u001b7\u001b[24;0f\u001b[42m\u001b[30mProgress: [ 14%]\u001b[49m\u001b[39m [########..................................................] \u001b8Selecting previously unselected package squashfs-tools.\r\n",
      "Preparing to unpack .../squashfs-tools_1%3a4.4-1ubuntu0.3_amd64.deb ...\r\n",
      "\u001b7\u001b[24;0f\u001b[42m\u001b[30mProgress: [ 17%]\u001b[49m\u001b[39m [#########.................................................] \u001b8Unpacking squashfs-tools (1:4.4-1ubuntu0.3) ...\r\n",
      "\u001b7\u001b[24;0f\u001b[42m\u001b[30mProgress: [ 21%]\u001b[49m\u001b[39m [############..............................................] \u001b8Selecting previously unselected package snapd.\r\n",
      "Preparing to unpack .../snapd_2.63+20.04ubuntu0.1_amd64.deb ...\r\n",
      "\u001b7\u001b[24;0f\u001b[42m\u001b[30mProgress: [ 24%]\u001b[49m\u001b[39m [##############............................................] \u001b8Unpacking snapd (2.63+20.04ubuntu0.1) ...\r\n",
      "\u001b7\u001b[24;0f\u001b[42m\u001b[30mProgress: [ 28%]\u001b[49m\u001b[39m [################..........................................] \u001b8Setting up apparmor (2.13.3-7ubuntu5.3) ...\r\n",
      "\u001b7\u001b[24;0f\u001b[42m\u001b[30mProgress: [ 31%]\u001b[49m\u001b[39m [##################........................................] \u001b8Created symlink /etc/systemd/system/sysinit.target.wants/apparmor.service -> /lib/systemd/system/apparmor.service.\r\n",
      "\u001b7\u001b[24;0f\u001b[42m\u001b[30mProgress: [ 34%]\u001b[49m\u001b[39m [###################.......................................] \u001b8Setting up liblzo2-2:amd64 (2.10-2) ...\r\n",
      "\u001b7\u001b[24;0f\u001b[42m\u001b[30mProgress: [ 38%]\u001b[49m\u001b[39m [######################....................................] \u001b8\u001b7\u001b[24;0f\u001b[42m\u001b[30mProgress: [ 41%]\u001b[49m\u001b[39m [########################..................................] \u001b8Setting up squashfs-tools (1:4.4-1ubuntu0.3) ...\r\n",
      "\u001b7\u001b[24;0f\u001b[42m\u001b[30mProgress: [ 45%]\u001b[49m\u001b[39m [##########################................................] \u001b8\u001b7\u001b[24;0f\u001b[42m\u001b[30mProgress: [ 48%]\u001b[49m\u001b[39m [############################..............................] \u001b8Setting up snapd (2.63+20.04ubuntu0.1) ...\r\n",
      "\u001b7\u001b[24;0f\u001b[42m\u001b[30mProgress: [ 52%]\u001b[49m\u001b[39m [#############################.............................] \u001b8Created symlink /etc/systemd/system/multi-user.target.wants/snapd.apparmor.service -> /lib/systemd/system/snapd.apparmor.service.\r\n",
      "Created symlink /etc/systemd/system/multi-user.target.wants/snapd.autoimport.service -> /lib/systemd/system/snapd.autoimport.service.\r\n",
      "Created symlink /etc/systemd/system/multi-user.target.wants/snapd.core-fixup.service -> /lib/systemd/system/snapd.core-fixup.service.\r\n",
      "Created symlink /etc/systemd/system/multi-user.target.wants/snapd.recovery-chooser-trigger.service -> /lib/systemd/system/snapd.recovery-chooser-trigger.service.\r\n",
      "Created symlink /etc/systemd/system/multi-user.target.wants/snapd.seeded.service -> /lib/systemd/system/snapd.seeded.service.\r\n",
      "Created symlink /etc/systemd/system/cloud-final.service.wants/snapd.seeded.service -> /lib/systemd/system/snapd.seeded.service.\r\n",
      "Created symlink /etc/systemd/system/multi-user.target.wants/snapd.service -> /lib/systemd/system/snapd.service.\r\n",
      "Created symlink /etc/systemd/system/timers.target.wants/snapd.snap-repair.timer -> /lib/systemd/system/snapd.snap-repair.timer.\r\n",
      "Created symlink /etc/systemd/system/sockets.target.wants/snapd.socket -> /lib/systemd/system/snapd.socket.\r\n",
      "Created symlink /etc/systemd/system/final.target.wants/snapd.system-shutdown.service -> /lib/systemd/system/snapd.system-shutdown.service.\r\n",
      "\u001b7\u001b[24;0f\u001b[42m\u001b[30mProgress: [ 55%]\u001b[49m\u001b[39m [################################..........................] \u001b8Selecting previously unselected package chromium-browser.\r\n",
      "(Reading database ... 109369 files and directories currently installed.)\r\n",
      "Preparing to unpack .../chromium-browser_1%3a85.0.4183.83-0ubuntu0.20.04.3_amd64.deb ...\r\n",
      "\u001b7\u001b[24;0f\u001b[42m\u001b[30mProgress: [ 59%]\u001b[49m\u001b[39m [##################################........................] \u001b8=> Installing the chromium snap\r\n",
      "==> Checking connectivity with the snap store\r\n",
      "===> System doesn't have a working snapd, skipping\r\n",
      "Unpacking chromium-browser (1:85.0.4183.83-0ubuntu0.20.04.3) ...\r\n",
      "\u001b7\u001b[24;0f\u001b[42m\u001b[30mProgress: [ 62%]\u001b[49m\u001b[39m [####################################......................] \u001b8Selecting previously unselected package chromium-chromedriver.\r\n",
      "Preparing to unpack .../chromium-chromedriver_1%3a85.0.4183.83-0ubuntu0.20.04.3_amd64.deb ...\r\n",
      "\u001b7\u001b[24;0f\u001b[42m\u001b[30mProgress: [ 66%]\u001b[49m\u001b[39m [######################################....................] \u001b8Unpacking chromium-chromedriver (1:85.0.4183.83-0ubuntu0.20.04.3) ...\r\n",
      "\u001b7\u001b[24;0f\u001b[42m\u001b[30mProgress: [ 69%]\u001b[49m\u001b[39m [#######################################...................] \u001b8Selecting previously unselected package python3-selenium.\r\n",
      "Preparing to unpack .../python3-selenium_4.0.0~a1+dfsg1-1.1_all.deb ...\r\n",
      "\u001b7\u001b[24;0f\u001b[42m\u001b[30mProgress: [ 72%]\u001b[49m\u001b[39m [##########################################................] \u001b8Unpacking python3-selenium (4.0.0~a1+dfsg1-1.1) ...\r\n",
      "\u001b7\u001b[24;0f\u001b[42m\u001b[30mProgress: [ 76%]\u001b[49m\u001b[39m [############################################..............] \u001b8Setting up python3-selenium (4.0.0~a1+dfsg1-1.1) ...\r\n",
      "\u001b7\u001b[24;0f\u001b[42m\u001b[30mProgress: [ 79%]\u001b[49m\u001b[39m [##############################################............] \u001b8\u001b7\u001b[24;0f\u001b[42m\u001b[30mProgress: [ 83%]\u001b[49m\u001b[39m [################################################..........] \u001b8Setting up chromium-browser (1:85.0.4183.83-0ubuntu0.20.04.3) ...\r\n",
      "\u001b7\u001b[24;0f\u001b[42m\u001b[30mProgress: [ 86%]\u001b[49m\u001b[39m [##################################################........] \u001b8update-alternatives: using /usr/bin/chromium-browser to provide /usr/bin/x-www-browser (x-www-browser) in auto mode\r\n",
      "update-alternatives: using /usr/bin/chromium-browser to provide /usr/bin/gnome-www-browser (gnome-www-browser) in auto mode\r\n",
      "\u001b7\u001b[24;0f\u001b[42m\u001b[30mProgress: [ 90%]\u001b[49m\u001b[39m [####################################################......] \u001b8Setting up chromium-chromedriver (1:85.0.4183.83-0ubuntu0.20.04.3) ...\r\n",
      "\u001b7\u001b[24;0f\u001b[42m\u001b[30mProgress: [ 93%]\u001b[49m\u001b[39m [#####################################################.....] \u001b8\u001b7\u001b[24;0f\u001b[42m\u001b[30mProgress: [ 97%]\u001b[49m\u001b[39m [########################################################..] \u001b8Processing triggers for mime-support (3.64ubuntu1) ...\r\n",
      "Processing triggers for hicolor-icon-theme (0.17-2) ...\r\n",
      "Processing triggers for libc-bin (2.31-0ubuntu9.9) ...\r\n",
      "Processing triggers for systemd (245.4-4ubuntu3.22) ...\r\n",
      "Processing triggers for man-db (2.9.1-1) ...\r\n",
      "Processing triggers for dbus (1.12.16-2ubuntu2.3) ...\r\n",
      "\r\n",
      "\u001b7\u001b[0;24r\u001b8\u001b[1A\u001b[JCollecting selenium==3.141.0\r\n",
      "  Obtaining dependency information for selenium==3.141.0 from https://files.pythonhosted.org/packages/80/d6/4294f0b4bce4de0abf13e17190289f9d0613b0a44e5dd6a7f5ca98459853/selenium-3.141.0-py2.py3-none-any.whl.metadata\r\n",
      "  Downloading selenium-3.141.0-py2.py3-none-any.whl.metadata (6.6 kB)\r\n",
      "Requirement already satisfied: urllib3 in /opt/conda/lib/python3.10/site-packages (from selenium==3.141.0) (1.26.15)\r\n",
      "Downloading selenium-3.141.0-py2.py3-none-any.whl (904 kB)\r\n",
      "\u001b[2K   \u001b[90m━━━━━━━━━━━━━━━━━━━━━━━━━━━━━━━━━━━━━━━━\u001b[0m \u001b[32m904.6/904.6 kB\u001b[0m \u001b[31m13.3 MB/s\u001b[0m eta \u001b[36m0:00:00\u001b[0m\r\n",
      "\u001b[?25hInstalling collected packages: selenium\r\n",
      "Successfully installed selenium-3.141.0\r\n"
     ]
    }
   ],
   "source": [
    "!apt install -y python3-selenium\n",
    "!pip install selenium==3.141.0"
   ]
  },
  {
   "cell_type": "markdown",
   "id": "69e546e6",
   "metadata": {
    "papermill": {
     "duration": 0.031447,
     "end_time": "2024-09-01T15:24:06.675861",
     "exception": false,
     "start_time": "2024-09-01T15:24:06.644414",
     "status": "completed"
    },
    "tags": []
   },
   "source": [
    "# 2.Importing Libraries\n",
    "\n",
    "You will also need to install the following Python libraries:\n",
    "\n",
    "* **selenium**: The Selenium library provides the API for interacting with web pages.\n",
    "* **webdriver**: The webdriver library provides a way to interact with web drivers, such as Chromedriver.\n",
    "* **BeautifulSoup**: The BeautifulSoup library is used for parsing HTML content."
   ]
  },
  {
   "cell_type": "code",
   "execution_count": 5,
   "id": "5e881707",
   "metadata": {
    "_cell_guid": "b1076dfc-b9ad-4769-8c92-a6c4dae69d19",
    "_uuid": "8f2839f25d086af736a60e9eeb907d3b93b6e0e5",
    "execution": {
     "iopub.execute_input": "2024-09-01T15:24:06.742415Z",
     "iopub.status.busy": "2024-09-01T15:24:06.741929Z",
     "iopub.status.idle": "2024-09-01T15:24:08.098061Z",
     "shell.execute_reply": "2024-09-01T15:24:08.096793Z"
    },
    "papermill": {
     "duration": 1.393371,
     "end_time": "2024-09-01T15:24:08.101104",
     "exception": false,
     "start_time": "2024-09-01T15:24:06.707733",
     "status": "completed"
    },
    "tags": []
   },
   "outputs": [],
   "source": [
    "import pandas as pd # data processing, CSV file I/O (e.g. pd.read_csv)\n",
    "import requests\n",
    "from bs4 import BeautifulSoup\n",
    "from tqdm import tqdm"
   ]
  },
  {
   "cell_type": "code",
   "execution_count": 6,
   "id": "ef70b3be",
   "metadata": {
    "execution": {
     "iopub.execute_input": "2024-09-01T15:24:08.168190Z",
     "iopub.status.busy": "2024-09-01T15:24:08.167555Z",
     "iopub.status.idle": "2024-09-01T15:24:08.175953Z",
     "shell.execute_reply": "2024-09-01T15:24:08.174671Z"
    },
    "papermill": {
     "duration": 0.046296,
     "end_time": "2024-09-01T15:24:08.179163",
     "exception": false,
     "start_time": "2024-09-01T15:24:08.132867",
     "status": "completed"
    },
    "tags": []
   },
   "outputs": [],
   "source": [
    "from retrying import retry\n",
    "import time\n",
    "import traceback"
   ]
  },
  {
   "cell_type": "markdown",
   "id": "a1eefa92",
   "metadata": {
    "papermill": {
     "duration": 0.03261,
     "end_time": "2024-09-01T15:24:08.312968",
     "exception": false,
     "start_time": "2024-09-01T15:24:08.280358",
     "status": "completed"
    },
    "tags": []
   },
   "source": [
    "# 3. Configuring Chrome Driver\n",
    "\n",
    "These functions define the locations of Chrome and Chromedriver executables. Additionally, initialize_driver creates a Chrome webdriver instance with specific options:\n",
    "\n",
    "* *--headless*: Runs Chrome in headless mode, making it invisible.\n",
    "* *--no-sandbox*: Disables the sandbox for improved performance.\n",
    "* *--start-fullscreen*: Starts Chrome in fullscreen mode.\n",
    "* *--allow-insecure-localhost*: Allows access to insecure local websites (if needed).\n",
    "* *--disable-dev-shm-usage*: Disables shared memory usage for Chrome.\n",
    "* *user-agent*: Sets the user agent string to mimic a regular browser."
   ]
  },
  {
   "cell_type": "code",
   "execution_count": 7,
   "id": "fd30a7ec",
   "metadata": {
    "execution": {
     "iopub.execute_input": "2024-09-01T15:24:08.379574Z",
     "iopub.status.busy": "2024-09-01T15:24:08.379131Z",
     "iopub.status.idle": "2024-09-01T15:24:08.416145Z",
     "shell.execute_reply": "2024-09-01T15:24:08.414832Z"
    },
    "papermill": {
     "duration": 0.073856,
     "end_time": "2024-09-01T15:24:08.419163",
     "exception": false,
     "start_time": "2024-09-01T15:24:08.345307",
     "status": "completed"
    },
    "tags": []
   },
   "outputs": [],
   "source": [
    "from selenium import webdriver\n",
    "from selenium.webdriver.chrome.options import Options\n",
    "from selenium.webdriver.common.by import By\n",
    "from selenium.webdriver.support.ui import WebDriverWait\n",
    "from selenium.webdriver.support import expected_conditions as EC\n",
    "from selenium.webdriver.common.action_chains import ActionChains\n",
    "\n",
    "CHROME_BINARY_LOCATION = \"/usr/bin/chrome-linux64/chrome\"\n",
    "CHROMEDRIVER_BINARY_LOCATION = \"/usr/bin/chromedriver-linux64/chromedriver\"\n",
    "\n",
    "def add_driver_options(options):\n",
    "    \"\"\"\n",
    "    Add configurable options\n",
    "    \"\"\"\n",
    "    chrome_options = Options()\n",
    "    for opt in options:\n",
    "        chrome_options.add_argument(opt)\n",
    "    return chrome_options\n",
    "\n",
    "def initialize_driver():\n",
    "    \"\"\"\n",
    "    Initialize the web driver\n",
    "    \"\"\"\n",
    "    driver_config = {\n",
    "        \"options\": [\n",
    "            \"--headless\",\n",
    "            \"--no-sandbox\",\n",
    "            \"--start-fullscreen\",\n",
    "            \"--allow-insecure-localhost\",\n",
    "            \"--disable-dev-shm-usage\",\n",
    "            \"user-agent=Chrome/116.0.5845.96\"\n",
    "        ],\n",
    "    }\n",
    "    options = add_driver_options(driver_config[\"options\"])\n",
    "    options.binary_location = CHROME_BINARY_LOCATION\n",
    "    driver = webdriver.Chrome(\n",
    "        executable_path=CHROMEDRIVER_BINARY_LOCATION,\n",
    "        options=options)\n",
    "    return driver\n"
   ]
  },
  {
   "cell_type": "markdown",
   "id": "e1e14466",
   "metadata": {
    "papermill": {
     "duration": 0.031965,
     "end_time": "2024-09-01T15:24:08.484830",
     "exception": false,
     "start_time": "2024-09-01T15:24:08.452865",
     "status": "completed"
    },
    "tags": []
   },
   "source": [
    "# 4) Scrape letterboxd reviews from "
   ]
  },
  {
   "cell_type": "code",
   "execution_count": 8,
   "id": "75080a0a",
   "metadata": {
    "execution": {
     "iopub.execute_input": "2024-09-01T15:24:08.552081Z",
     "iopub.status.busy": "2024-09-01T15:24:08.550571Z",
     "iopub.status.idle": "2024-09-01T15:24:08.566396Z",
     "shell.execute_reply": "2024-09-01T15:24:08.565222Z"
    },
    "papermill": {
     "duration": 0.052114,
     "end_time": "2024-09-01T15:24:08.568978",
     "exception": false,
     "start_time": "2024-09-01T15:24:08.516864",
     "status": "completed"
    },
    "tags": []
   },
   "outputs": [],
   "source": [
    "from selenium import webdriver\n",
    "from selenium.webdriver.chrome.service import Service\n",
    "from selenium.webdriver.chrome.options import Options\n",
    "from selenium.webdriver.common.by import By\n",
    "from selenium.webdriver.support.ui import WebDriverWait\n",
    "from selenium.webdriver.support import expected_conditions as EC\n",
    "from tqdm import tqdm\n",
    "import pandas as pd\n",
    "\n",
    "# Define the WebDriver initialization function\n",
    "def initialize_driver():\n",
    "    CHROME_BINARY_LOCATION = \"/usr/bin/chrome-linux64/chrome\"\n",
    "    CHROMEDRIVER_BINARY_LOCATION = \"/usr/bin/chromedriver-linux64/chromedriver\"\n",
    "\n",
    "    chrome_options = Options()\n",
    "    chrome_options.binary_location = CHROME_BINARY_LOCATION\n",
    "    chrome_options.add_argument(\"--headless\")\n",
    "    chrome_options.add_argument(\"--no-sandbox\")\n",
    "    chrome_options.add_argument(\"--start-fullscreen\")\n",
    "    chrome_options.add_argument(\"--allow-insecure-localhost\")\n",
    "    chrome_options.add_argument(\"--disable-dev-shm-usage\")\n",
    "    chrome_options.add_argument(\"user-agent=Chrome/116.0.5845.96\")\n",
    "\n",
    "    driver = webdriver.Chrome(\n",
    "        executable_path=CHROMEDRIVER_BINARY_LOCATION,\n",
    "        options=chrome_options\n",
    "    )\n",
    "    return driver\n",
    "\n",
    "def scrape_user_urls(driver, num_users):\n",
    "    # Initialize an empty DataFrame to store user URLs\n",
    "    df = pd.DataFrame(columns=[\"user_url\"])  # Initialize df to avoid UnboundLocalError\n",
    "    all_user_urls = []\n",
    "    \n",
    "    # Code for scraping user URLs\n",
    "    try:\n",
    "        page = 1\n",
    "        users_scraped = 0\n",
    "        \n",
    "        while users_scraped < num_users:\n",
    "            print(f\"Processing Page {page}:\")\n",
    "            driver.get(f\"https://letterboxd.com/members/popular/page/{page}/\")\n",
    "            WebDriverWait(driver, 10).until(\n",
    "                EC.presence_of_all_elements_located((By.CSS_SELECTOR, 'a.avatar.-a40'))\n",
    "            )\n",
    "            \n",
    "            user_elements = driver.find_elements(By.CSS_SELECTOR, 'a.avatar.-a40')\n",
    "            page_user_urls = [element.get_attribute('href') for element in user_elements]\n",
    "            \n",
    "            all_user_urls.extend(page_user_urls)\n",
    "            users_scraped += len(page_user_urls)\n",
    "            page += 1\n",
    "            \n",
    "            # Break if we exceed the desired number of users\n",
    "            if users_scraped >= num_users:\n",
    "                break\n",
    "        \n",
    "        # Slice the list to only include the desired number of users\n",
    "        all_user_urls = all_user_urls[:num_users]\n",
    "        \n",
    "        # Convert the list to a DataFrame\n",
    "        df = pd.DataFrame({\"user_url\": all_user_urls})\n",
    "    \n",
    "    except TimeoutException:\n",
    "        print(\"Timeout occurred during scraping. Proceeding with available data.\")\n",
    "    \n",
    "    finally:\n",
    "        driver.quit()\n",
    "        print(\"Connection closed successfully!\\n\\n\")\n",
    "    \n",
    "    return df\n",
    "\n"
   ]
  },
  {
   "cell_type": "code",
   "execution_count": 9,
   "id": "eaa4a25d",
   "metadata": {
    "execution": {
     "iopub.execute_input": "2024-09-01T15:24:08.636296Z",
     "iopub.status.busy": "2024-09-01T15:24:08.635816Z",
     "iopub.status.idle": "2024-09-01T15:24:08.659786Z",
     "shell.execute_reply": "2024-09-01T15:24:08.658594Z"
    },
    "papermill": {
     "duration": 0.061336,
     "end_time": "2024-09-01T15:24:08.662556",
     "exception": false,
     "start_time": "2024-09-01T15:24:08.601220",
     "status": "completed"
    },
    "tags": []
   },
   "outputs": [],
   "source": [
    "from selenium import webdriver\n",
    "from selenium.webdriver.chrome.service import Service\n",
    "from selenium.webdriver.chrome.options import Options\n",
    "from selenium.webdriver.common.by import By\n",
    "from selenium.webdriver.support.ui import WebDriverWait\n",
    "from selenium.webdriver.support import expected_conditions as EC\n",
    "from selenium.common.exceptions import NoSuchElementException, TimeoutException\n",
    "from tqdm import tqdm\n",
    "import pandas as pd\n",
    "\n",
    "def initialize_driver():\n",
    "    CHROME_BINARY_LOCATION = \"/usr/bin/chrome-linux64/chrome\"\n",
    "    CHROMEDRIVER_BINARY_LOCATION = \"/usr/bin/chromedriver-linux64/chromedriver\"\n",
    "\n",
    "    chrome_options = Options()\n",
    "    chrome_options.binary_location = CHROME_BINARY_LOCATION\n",
    "    chrome_options.add_argument(\"--headless\")\n",
    "    chrome_options.add_argument(\"--no-sandbox\")\n",
    "    chrome_options.add_argument(\"--start-fullscreen\")\n",
    "    chrome_options.add_argument(\"--allow-insecure-localhost\")\n",
    "    chrome_options.add_argument(\"--disable-dev-shm-usage\")\n",
    "    chrome_options.add_argument(\"user-agent=Chrome/116.0.5845.96\")\n",
    "\n",
    "    driver = webdriver.Chrome(\n",
    "        executable_path=CHROMEDRIVER_BINARY_LOCATION,\n",
    "        options=chrome_options\n",
    "    )\n",
    "    return driver\n",
    "\n",
    "def normalize_rating(star_rating):\n",
    "    rating_map = {'★': 0.2, '½': 0.1}\n",
    "    return sum(rating_map[char] for char in star_rating if char in rating_map)\n",
    "\n",
    "def extract_review_details(element):\n",
    "    review = {}    \n",
    "\n",
    "    # Existing code to extract movie name, review text, rating, etc.\n",
    "    try:\n",
    "        movie_name_element = element.find_element(By.CSS_SELECTOR, 'h2.headline-2 a')\n",
    "        review['movie_title'] = movie_name_element.text\n",
    "        review['movie_user_url'] = movie_name_element.get_attribute('href') #.replace(f\"{review['username']}/\", \"\") #Need the replace to get rid of username part\n",
    "    except NoSuchElementException:\n",
    "        review['movie_title'] = None\n",
    "        review['movie_user_url'] = None\n",
    "\n",
    "    try:\n",
    "        review_text_element = element.find_element(By.CSS_SELECTOR, 'div.body-text.-prose.collapsible-text')\n",
    "        review['review_text'] = review_text_element.text\n",
    "    except NoSuchElementException:\n",
    "        review['review_text'] = None\n",
    "\n",
    "    try:\n",
    "        rating_element = element.find_element(By.CSS_SELECTOR, 'span.rating')\n",
    "        review['rating'] = normalize_rating(rating_element.text)\n",
    "    except NoSuchElementException:\n",
    "        review['rating'] = None\n",
    "\n",
    "    try:\n",
    "        review_date_element = element.find_element(By.CSS_SELECTOR, 'span.date')\n",
    "        review['review_date'] = review_date_element.text\n",
    "    except NoSuchElementException:\n",
    "        review['review_date'] = None\n",
    "\n",
    "    try:\n",
    "        movie_release_date_element = element.find_element(By.CSS_SELECTOR, 'small.metadata a')\n",
    "        review['movie_year'] = movie_release_date_element.text\n",
    "    except NoSuchElementException:\n",
    "        review['movie_year'] = None\n",
    "\n",
    "    # New code to extract 'Liked' status\n",
    "    try:\n",
    "        liked_element = element.find_element(By.CSS_SELECTOR, 'span.has-icon.icon-16.icon-liked')\n",
    "        review['liked'] = True\n",
    "    except NoSuchElementException:\n",
    "        review['liked'] = False\n",
    "        \n",
    "    # Extract username from username url\n",
    "    \n",
    "    \n",
    "    return review\n",
    "\n",
    "def scrape_reviews_from_user(driver, user_url, num_reviews_per_user):\n",
    "    all_reviews = []\n",
    "    page = 1\n",
    "\n",
    "    while len(all_reviews) < num_reviews_per_user:\n",
    "        try:\n",
    "            driver.get(f\"{user_url}/films/reviews/by/added/page/{page}/\")\n",
    "            WebDriverWait(driver, 10).until(\n",
    "                EC.presence_of_all_elements_located((By.CSS_SELECTOR, 'div.film-detail-content'))\n",
    "            )\n",
    "            review_elements = driver.find_elements(By.CSS_SELECTOR, 'div.film-detail-content')\n",
    "\n",
    "            for element in review_elements:\n",
    "                if len(all_reviews) >= num_reviews_per_user:\n",
    "                    break\n",
    "                \n",
    "                review = extract_review_details(element)\n",
    "                review['user_url'] = user_url\n",
    "\n",
    "                if review['review_text'] and review['rating'] is not None:\n",
    "                    all_reviews.append(review)\n",
    "            \n",
    "            if len(all_reviews) < num_reviews_per_user:\n",
    "                page += 1\n",
    "            else:\n",
    "                break\n",
    "        \n",
    "        except TimeoutException:\n",
    "            print(f\"Timeout while loading page {page} for user {user_url}\")\n",
    "            break\n",
    "\n",
    "    return all_reviews"
   ]
  },
  {
   "cell_type": "code",
   "execution_count": 10,
   "id": "64ccffc5",
   "metadata": {
    "execution": {
     "iopub.execute_input": "2024-09-01T15:24:08.730987Z",
     "iopub.status.busy": "2024-09-01T15:24:08.730079Z",
     "iopub.status.idle": "2024-09-01T15:24:08.741977Z",
     "shell.execute_reply": "2024-09-01T15:24:08.740621Z"
    },
    "papermill": {
     "duration": 0.048643,
     "end_time": "2024-09-01T15:24:08.744579",
     "exception": false,
     "start_time": "2024-09-01T15:24:08.695936",
     "status": "completed"
    },
    "tags": []
   },
   "outputs": [],
   "source": [
    "import os\n",
    "\n",
    "def save_checkpoint(df, checkpoint_filename):\n",
    "    \"\"\"\n",
    "    Save the DataFrame to a CSV file as a checkpoint.\n",
    "\n",
    "    Args:\n",
    "        df (pd.DataFrame): The DataFrame to save.\n",
    "        checkpoint_filename (str): The filename for the checkpoint.\n",
    "    \"\"\"\n",
    "    df.to_csv(checkpoint_filename, index=False)\n",
    "    print(f\"Checkpoint saved to {checkpoint_filename}\")\n",
    "\n",
    "def scrape_reviews_from_users(driver, user_urls, num_reviews_per_user, checkpoint_filename=\"user_reviews_checkpoint.csv\"):\n",
    "    \"\"\"\n",
    "    Scrape reviews from a list of user URLs on Letterboxd, saving progress at checkpoints.\n",
    "    \n",
    "    Args:\n",
    "        driver (webdriver.Chrome): The initialized Chrome driver.\n",
    "        user_urls (pd.Series): Series of user URLs.\n",
    "        num_reviews_per_user (int): Number of reviews to scrape per user.\n",
    "        checkpoint_filename (str): Filename to save checkpoints.\n",
    "    \n",
    "    Returns:\n",
    "        pd.DataFrame: DataFrame containing the scraped reviews.\n",
    "    \"\"\"\n",
    "    print(\"Successfully connected to WebDriver!\")\n",
    "    all_reviews = []\n",
    "    checkpoint_interval = 10  # Save every 10 users\n",
    "\n",
    "    for idx, user_url in enumerate(tqdm(user_urls, desc=\"Processing Users\"), start=1):\n",
    "        print(f\"Scraping reviews for user: {user_url}\")\n",
    "        user_reviews = scrape_reviews_from_user(driver, user_url, num_reviews_per_user)\n",
    "        all_reviews.extend(user_reviews)\n",
    "\n",
    "        # Save checkpoint at intervals\n",
    "        if idx % checkpoint_interval == 0:\n",
    "            df = pd.DataFrame(all_reviews)\n",
    "            save_checkpoint(df, checkpoint_filename)\n",
    "    \n",
    "    # Save the final data\n",
    "    df = pd.DataFrame(all_reviews)\n",
    "    save_checkpoint(df, checkpoint_filename)\n",
    "\n",
    "    print(\"Reviews successfully scraped from user URLs!\\nReviews preview:\")\n",
    "    print(df.head().to_string())\n",
    "    print(\"\\nClosing connection to selenium WebDriver...\")\n",
    "    driver.quit()\n",
    "    print(\"Connection closed successfully!\\n\\n\")\n",
    "\n",
    "    return df\n"
   ]
  },
  {
   "cell_type": "code",
   "execution_count": 11,
   "id": "d10c1cc5",
   "metadata": {
    "execution": {
     "iopub.execute_input": "2024-09-01T15:24:08.812997Z",
     "iopub.status.busy": "2024-09-01T15:24:08.812590Z",
     "iopub.status.idle": "2024-09-01T15:24:15.081700Z",
     "shell.execute_reply": "2024-09-01T15:24:15.080379Z"
    },
    "papermill": {
     "duration": 6.307369,
     "end_time": "2024-09-01T15:24:15.084653",
     "exception": false,
     "start_time": "2024-09-01T15:24:08.777284",
     "status": "completed"
    },
    "tags": []
   },
   "outputs": [
    {
     "name": "stdout",
     "output_type": "stream",
     "text": [
      "Processing Page 1:\n",
      "Connection closed successfully!\n",
      "\n",
      "\n"
     ]
    }
   ],
   "source": [
    "# Scrape user urls\n",
    "if __name__ == \"__main__\":\n",
    "    driver = initialize_driver()\n",
    "    try:\n",
    "        num_users_to_scrape = 10  # Adjust this number as needed\n",
    "        user_urls_df = scrape_user_urls(driver, num_users_to_scrape)\n",
    "        user_urls_df.to_csv('/kaggle/working/user_urls.csv', index=False)\n",
    "    finally:\n",
    "        driver.quit()  # Ensure the driver is closed after usage"
   ]
  },
  {
   "cell_type": "code",
   "execution_count": 12,
   "id": "84048d6c",
   "metadata": {
    "execution": {
     "iopub.execute_input": "2024-09-01T15:24:15.151665Z",
     "iopub.status.busy": "2024-09-01T15:24:15.151225Z",
     "iopub.status.idle": "2024-09-01T15:25:29.780773Z",
     "shell.execute_reply": "2024-09-01T15:25:29.779284Z"
    },
    "papermill": {
     "duration": 74.666479,
     "end_time": "2024-09-01T15:25:29.783987",
     "exception": false,
     "start_time": "2024-09-01T15:24:15.117508",
     "status": "completed"
    },
    "tags": []
   },
   "outputs": [
    {
     "name": "stdout",
     "output_type": "stream",
     "text": [
      "Successfully connected to WebDriver!\n"
     ]
    },
    {
     "name": "stderr",
     "output_type": "stream",
     "text": [
      "Processing Users:   0%|          | 0/10 [00:00<?, ?it/s]"
     ]
    },
    {
     "name": "stdout",
     "output_type": "stream",
     "text": [
      "Scraping reviews for user: https://letterboxd.com/kurstboy/\n"
     ]
    },
    {
     "name": "stderr",
     "output_type": "stream",
     "text": [
      "Processing Users:  10%|█         | 1/10 [00:08<01:18,  8.77s/it]"
     ]
    },
    {
     "name": "stdout",
     "output_type": "stream",
     "text": [
      "Scraping reviews for user: https://letterboxd.com/deathproof/\n"
     ]
    },
    {
     "name": "stderr",
     "output_type": "stream",
     "text": [
      "Processing Users:  20%|██        | 2/10 [00:19<01:20, 10.06s/it]"
     ]
    },
    {
     "name": "stdout",
     "output_type": "stream",
     "text": [
      "Scraping reviews for user: https://letterboxd.com/jay/\n"
     ]
    },
    {
     "name": "stderr",
     "output_type": "stream",
     "text": [
      "Processing Users:  30%|███       | 3/10 [00:26<01:00,  8.59s/it]"
     ]
    },
    {
     "name": "stdout",
     "output_type": "stream",
     "text": [
      "Scraping reviews for user: https://letterboxd.com/schaffrillas/\n"
     ]
    },
    {
     "name": "stderr",
     "output_type": "stream",
     "text": [
      "Processing Users:  40%|████      | 4/10 [00:31<00:42,  7.06s/it]"
     ]
    },
    {
     "name": "stdout",
     "output_type": "stream",
     "text": [
      "Scraping reviews for user: https://letterboxd.com/davidehrlich/\n"
     ]
    },
    {
     "name": "stderr",
     "output_type": "stream",
     "text": [
      "Processing Users:  50%|█████     | 5/10 [00:36<00:32,  6.56s/it]"
     ]
    },
    {
     "name": "stdout",
     "output_type": "stream",
     "text": [
      "Scraping reviews for user: https://letterboxd.com/ingridgoeswest/\n"
     ]
    },
    {
     "name": "stderr",
     "output_type": "stream",
     "text": [
      "Processing Users:  60%|██████    | 6/10 [00:44<00:27,  6.93s/it]"
     ]
    },
    {
     "name": "stdout",
     "output_type": "stream",
     "text": [
      "Scraping reviews for user: https://letterboxd.com/silentdawn/\n"
     ]
    },
    {
     "name": "stderr",
     "output_type": "stream",
     "text": [
      "Processing Users:  70%|███████   | 7/10 [00:51<00:20,  6.82s/it]"
     ]
    },
    {
     "name": "stdout",
     "output_type": "stream",
     "text": [
      "Scraping reviews for user: https://letterboxd.com/thejoshl/\n"
     ]
    },
    {
     "name": "stderr",
     "output_type": "stream",
     "text": [
      "Processing Users:  80%|████████  | 8/10 [01:01<00:15,  7.93s/it]"
     ]
    },
    {
     "name": "stdout",
     "output_type": "stream",
     "text": [
      "Scraping reviews for user: https://letterboxd.com/colonelmortimer/\n"
     ]
    },
    {
     "name": "stderr",
     "output_type": "stream",
     "text": [
      "Processing Users:  90%|█████████ | 9/10 [01:07<00:07,  7.24s/it]"
     ]
    },
    {
     "name": "stdout",
     "output_type": "stream",
     "text": [
      "Scraping reviews for user: https://letterboxd.com/suspirliam/\n"
     ]
    },
    {
     "name": "stderr",
     "output_type": "stream",
     "text": [
      "Processing Users: 100%|██████████| 10/10 [01:13<00:00,  7.33s/it]"
     ]
    },
    {
     "name": "stdout",
     "output_type": "stream",
     "text": [
      "Checkpoint saved to user_reviews_checkpoint.csv\n",
      "Checkpoint saved to user_reviews_checkpoint.csv\n",
      "Reviews successfully scraped from user URLs!\n",
      "Reviews preview:\n",
      "          movie_title                                                   movie_user_url                                                                                                                                                                                                                                                                                                                                                                                                                                                                                                                          review_text  rating            review_date movie_year  liked                            user_url\n",
      "0  The Heartbreak Kid  https://letterboxd.com/kurstboy/film/the-heartbreak-kid-1972/1/                                                                                                                                                                                                                                                                                                                                                                                                                                                                                                              40 to 50 out of 5 stars     1.0  Rewatched 28 Aug 2024       1972   True    https://letterboxd.com/kurstboy/\n",
      "1   Design for Living          https://letterboxd.com/kurstboy/film/design-for-living/                                                                                                                                                                                                                                                                                                                                                                                                                                                                                               lubitsch just knows how to get it done     0.9    Watched 27 Aug 2024       1933   True    https://letterboxd.com/kurstboy/\n",
      "2                Trap                  https://letterboxd.com/kurstboy/film/trap-2024/                                                                                                                                                                                                                                                                                                                                                                                                                                                 you gotta wonder if m night shyamalan has ever had a conversation with a human being     0.8    Watched 01 Aug 2024       2024   True    https://letterboxd.com/kurstboy/\n",
      "3      The Bling Ring         https://letterboxd.com/deathproof/film/the-bling-ring/9/                                                                                                                                                                                                                                                                                                         earlier tonight i was declaring this one of the best movies ever made, to which a random girl nearby questioned, \"...are you joking?\", and i proudly responded, \"no, i'm dead serious\", BECAUSE I WAS DEAD SERIOUS BABEYYYYY     1.0  Rewatched 21 Aug 2024       2013   True  https://letterboxd.com/deathproof/\n",
      "4         Poor Things       https://letterboxd.com/deathproof/film/poor-things-2023/1/  “in fact, when i list the ways you’ve wronged me, jesus christ himself would probably beat your head in with a bat”\\nstill can’t beat most of his previous films in my personal opinion, but all things considered, yorgos is maybe my favorite filmmaker working right now (alongside lynne ramsay). the satisfaction and excitement i’ve been experiencing watching his career trajectory, especially now that he’s found a creative bond with emma stone, is almost indescribable. makes me feel like a kid on christmas morning     0.9  Rewatched 18 May 2024       2023   True  https://letterboxd.com/deathproof/\n",
      "\n",
      "Closing connection to selenium WebDriver...\n",
      "Connection closed successfully!\n",
      "\n",
      "\n"
     ]
    },
    {
     "name": "stderr",
     "output_type": "stream",
     "text": [
      "\n"
     ]
    }
   ],
   "source": [
    "# Scrape reviews from user urls\n",
    "if __name__ == \"__main__\":\n",
    "    driver = initialize_driver()\n",
    "    try:\n",
    "        num_reviews_per_user = 3  # Adjust as needed\n",
    "        user_urls_df = pd.read_csv('user_urls.csv')  # Assuming you have a CSV file of user URLs\n",
    "        reviews_df = scrape_reviews_from_users(driver, user_urls_df['user_url'], num_reviews_per_user)\n",
    "        reviews_df.to_csv('/kaggle/working/user_reviews.csv')\n",
    "    finally:\n",
    "        driver.quit()  # Ensure the driver is closed after usage"
   ]
  },
  {
   "cell_type": "code",
   "execution_count": 13,
   "id": "9f3ca135",
   "metadata": {
    "execution": {
     "iopub.execute_input": "2024-09-01T15:25:29.855493Z",
     "iopub.status.busy": "2024-09-01T15:25:29.855010Z",
     "iopub.status.idle": "2024-09-01T15:25:29.877057Z",
     "shell.execute_reply": "2024-09-01T15:25:29.875791Z"
    },
    "papermill": {
     "duration": 0.060708,
     "end_time": "2024-09-01T15:25:29.879773",
     "exception": false,
     "start_time": "2024-09-01T15:25:29.819065",
     "status": "completed"
    },
    "tags": []
   },
   "outputs": [
    {
     "data": {
      "text/html": [
       "<div>\n",
       "<style scoped>\n",
       "    .dataframe tbody tr th:only-of-type {\n",
       "        vertical-align: middle;\n",
       "    }\n",
       "\n",
       "    .dataframe tbody tr th {\n",
       "        vertical-align: top;\n",
       "    }\n",
       "\n",
       "    .dataframe thead th {\n",
       "        text-align: right;\n",
       "    }\n",
       "</style>\n",
       "<table border=\"1\" class=\"dataframe\">\n",
       "  <thead>\n",
       "    <tr style=\"text-align: right;\">\n",
       "      <th></th>\n",
       "      <th>movie_title</th>\n",
       "      <th>movie_user_url</th>\n",
       "      <th>review_text</th>\n",
       "      <th>rating</th>\n",
       "      <th>review_date</th>\n",
       "      <th>movie_year</th>\n",
       "      <th>liked</th>\n",
       "      <th>user_url</th>\n",
       "    </tr>\n",
       "  </thead>\n",
       "  <tbody>\n",
       "    <tr>\n",
       "      <th>0</th>\n",
       "      <td>The Heartbreak Kid</td>\n",
       "      <td>https://letterboxd.com/kurstboy/film/the-heart...</td>\n",
       "      <td>40 to 50 out of 5 stars</td>\n",
       "      <td>1.0</td>\n",
       "      <td>Rewatched 28 Aug 2024</td>\n",
       "      <td>1972</td>\n",
       "      <td>True</td>\n",
       "      <td>https://letterboxd.com/kurstboy/</td>\n",
       "    </tr>\n",
       "    <tr>\n",
       "      <th>1</th>\n",
       "      <td>Design for Living</td>\n",
       "      <td>https://letterboxd.com/kurstboy/film/design-fo...</td>\n",
       "      <td>lubitsch just knows how to get it done</td>\n",
       "      <td>0.9</td>\n",
       "      <td>Watched 27 Aug 2024</td>\n",
       "      <td>1933</td>\n",
       "      <td>True</td>\n",
       "      <td>https://letterboxd.com/kurstboy/</td>\n",
       "    </tr>\n",
       "    <tr>\n",
       "      <th>2</th>\n",
       "      <td>Trap</td>\n",
       "      <td>https://letterboxd.com/kurstboy/film/trap-2024/</td>\n",
       "      <td>you gotta wonder if m night shyamalan has ever...</td>\n",
       "      <td>0.8</td>\n",
       "      <td>Watched 01 Aug 2024</td>\n",
       "      <td>2024</td>\n",
       "      <td>True</td>\n",
       "      <td>https://letterboxd.com/kurstboy/</td>\n",
       "    </tr>\n",
       "    <tr>\n",
       "      <th>3</th>\n",
       "      <td>The Bling Ring</td>\n",
       "      <td>https://letterboxd.com/deathproof/film/the-bli...</td>\n",
       "      <td>earlier tonight i was declaring this one of th...</td>\n",
       "      <td>1.0</td>\n",
       "      <td>Rewatched 21 Aug 2024</td>\n",
       "      <td>2013</td>\n",
       "      <td>True</td>\n",
       "      <td>https://letterboxd.com/deathproof/</td>\n",
       "    </tr>\n",
       "    <tr>\n",
       "      <th>4</th>\n",
       "      <td>Poor Things</td>\n",
       "      <td>https://letterboxd.com/deathproof/film/poor-th...</td>\n",
       "      <td>“in fact, when i list the ways you’ve wronged ...</td>\n",
       "      <td>0.9</td>\n",
       "      <td>Rewatched 18 May 2024</td>\n",
       "      <td>2023</td>\n",
       "      <td>True</td>\n",
       "      <td>https://letterboxd.com/deathproof/</td>\n",
       "    </tr>\n",
       "  </tbody>\n",
       "</table>\n",
       "</div>"
      ],
      "text/plain": [
       "          movie_title                                     movie_user_url  \\\n",
       "0  The Heartbreak Kid  https://letterboxd.com/kurstboy/film/the-heart...   \n",
       "1   Design for Living  https://letterboxd.com/kurstboy/film/design-fo...   \n",
       "2                Trap    https://letterboxd.com/kurstboy/film/trap-2024/   \n",
       "3      The Bling Ring  https://letterboxd.com/deathproof/film/the-bli...   \n",
       "4         Poor Things  https://letterboxd.com/deathproof/film/poor-th...   \n",
       "\n",
       "                                         review_text  rating  \\\n",
       "0                            40 to 50 out of 5 stars     1.0   \n",
       "1             lubitsch just knows how to get it done     0.9   \n",
       "2  you gotta wonder if m night shyamalan has ever...     0.8   \n",
       "3  earlier tonight i was declaring this one of th...     1.0   \n",
       "4  “in fact, when i list the ways you’ve wronged ...     0.9   \n",
       "\n",
       "             review_date movie_year  liked                            user_url  \n",
       "0  Rewatched 28 Aug 2024       1972   True    https://letterboxd.com/kurstboy/  \n",
       "1    Watched 27 Aug 2024       1933   True    https://letterboxd.com/kurstboy/  \n",
       "2    Watched 01 Aug 2024       2024   True    https://letterboxd.com/kurstboy/  \n",
       "3  Rewatched 21 Aug 2024       2013   True  https://letterboxd.com/deathproof/  \n",
       "4  Rewatched 18 May 2024       2023   True  https://letterboxd.com/deathproof/  "
      ]
     },
     "execution_count": 13,
     "metadata": {},
     "output_type": "execute_result"
    }
   ],
   "source": [
    "reviews_df.head()"
   ]
  },
  {
   "cell_type": "code",
   "execution_count": null,
   "id": "8de24a29",
   "metadata": {
    "papermill": {
     "duration": 0.035873,
     "end_time": "2024-09-01T15:25:29.951552",
     "exception": false,
     "start_time": "2024-09-01T15:25:29.915679",
     "status": "completed"
    },
    "tags": []
   },
   "outputs": [],
   "source": []
  }
 ],
 "metadata": {
  "kaggle": {
   "accelerator": "none",
   "dataSources": [],
   "dockerImageVersionId": 30635,
   "isGpuEnabled": false,
   "isInternetEnabled": true,
   "language": "python",
   "sourceType": "notebook"
  },
  "kernelspec": {
   "display_name": "Python 3",
   "language": "python",
   "name": "python3"
  },
  "language_info": {
   "codemirror_mode": {
    "name": "ipython",
    "version": 3
   },
   "file_extension": ".py",
   "mimetype": "text/x-python",
   "name": "python",
   "nbconvert_exporter": "python",
   "pygments_lexer": "ipython3",
   "version": "3.10.12"
  },
  "papermill": {
   "default_parameters": {},
   "duration": 159.883829,
   "end_time": "2024-09-01T15:25:30.610045",
   "environment_variables": {},
   "exception": null,
   "input_path": "__notebook__.ipynb",
   "output_path": "__notebook__.ipynb",
   "parameters": {},
   "start_time": "2024-09-01T15:22:50.726216",
   "version": "2.4.0"
  }
 },
 "nbformat": 4,
 "nbformat_minor": 5
}
