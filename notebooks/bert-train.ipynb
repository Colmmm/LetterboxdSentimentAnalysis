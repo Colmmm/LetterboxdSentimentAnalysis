{
 "cells": [
  {
   "cell_type": "markdown",
   "id": "1c04bed8",
   "metadata": {
    "papermill": {
     "duration": 0.007817,
     "end_time": "2024-08-29T16:55:26.686062",
     "exception": false,
     "start_time": "2024-08-29T16:55:26.678245",
     "status": "completed"
    },
    "tags": []
   },
   "source": [
    "## 1) Read in data"
   ]
  },
  {
   "cell_type": "code",
   "execution_count": 1,
   "id": "2ffb68c6",
   "metadata": {
    "execution": {
     "iopub.execute_input": "2024-08-29T16:55:26.702443Z",
     "iopub.status.busy": "2024-08-29T16:55:26.701615Z",
     "iopub.status.idle": "2024-08-29T16:55:28.804923Z",
     "shell.execute_reply": "2024-08-29T16:55:28.804106Z"
    },
    "papermill": {
     "duration": 2.114524,
     "end_time": "2024-08-29T16:55:28.807721",
     "exception": false,
     "start_time": "2024-08-29T16:55:26.693197",
     "status": "completed"
    },
    "tags": []
   },
   "outputs": [],
   "source": [
    "import pandas as pd\n",
    "from sklearn.model_selection import train_test_split\n",
    "from sklearn.preprocessing import LabelEncoder"
   ]
  },
  {
   "cell_type": "code",
   "execution_count": 2,
   "id": "a85f47e6",
   "metadata": {
    "execution": {
     "iopub.execute_input": "2024-08-29T16:55:28.823485Z",
     "iopub.status.busy": "2024-08-29T16:55:28.823047Z",
     "iopub.status.idle": "2024-08-29T16:55:29.385061Z",
     "shell.execute_reply": "2024-08-29T16:55:29.383834Z"
    },
    "papermill": {
     "duration": 0.572853,
     "end_time": "2024-08-29T16:55:29.387695",
     "exception": false,
     "start_time": "2024-08-29T16:55:28.814842",
     "status": "completed"
    },
    "tags": []
   },
   "outputs": [
    {
     "name": "stdout",
     "output_type": "stream",
     "text": [
      "(77289, 2)\n"
     ]
    },
    {
     "data": {
      "text/html": [
       "<div>\n",
       "<style scoped>\n",
       "    .dataframe tbody tr th:only-of-type {\n",
       "        vertical-align: middle;\n",
       "    }\n",
       "\n",
       "    .dataframe tbody tr th {\n",
       "        vertical-align: top;\n",
       "    }\n",
       "\n",
       "    .dataframe thead th {\n",
       "        text-align: right;\n",
       "    }\n",
       "</style>\n",
       "<table border=\"1\" class=\"dataframe\">\n",
       "  <thead>\n",
       "    <tr style=\"text-align: right;\">\n",
       "      <th></th>\n",
       "      <th>review_text</th>\n",
       "      <th>rating</th>\n",
       "    </tr>\n",
       "  </thead>\n",
       "  <tbody>\n",
       "    <tr>\n",
       "      <th>0</th>\n",
       "      <td>feminism displayed at its worst.</td>\n",
       "      <td>3</td>\n",
       "    </tr>\n",
       "    <tr>\n",
       "      <th>1</th>\n",
       "      <td>Ryan Gosling... Get in my bed RN please.\\nThis...</td>\n",
       "      <td>9</td>\n",
       "    </tr>\n",
       "    <tr>\n",
       "      <th>2</th>\n",
       "      <td>im sorry to all the barbies hair that i’ve cut...</td>\n",
       "      <td>9</td>\n",
       "    </tr>\n",
       "    <tr>\n",
       "      <th>3</th>\n",
       "      <td>Micheal cera.</td>\n",
       "      <td>6</td>\n",
       "    </tr>\n",
       "    <tr>\n",
       "      <th>4</th>\n",
       "      <td>Amazing, ending part made me cry 😢</td>\n",
       "      <td>7</td>\n",
       "    </tr>\n",
       "  </tbody>\n",
       "</table>\n",
       "</div>"
      ],
      "text/plain": [
       "                                         review_text  rating\n",
       "0                   feminism displayed at its worst.       3\n",
       "1  Ryan Gosling... Get in my bed RN please.\\nThis...       9\n",
       "2  im sorry to all the barbies hair that i’ve cut...       9\n",
       "3                                      Micheal cera.       6\n",
       "4                 Amazing, ending part made me cry 😢       7"
      ]
     },
     "execution_count": 2,
     "metadata": {},
     "output_type": "execute_result"
    }
   ],
   "source": [
    "reviews_df = pd.read_csv(\"/kaggle/input/process-scraped-reviews/processed_reviews.csv\")\n",
    "# Convert ratings to integer labels (0 to 9)\n",
    "reviews_df['rating'] = (reviews_df['rating'] * 10 -1).astype(int)\n",
    "print(reviews_df.shape)\n",
    "reviews_df.head()"
   ]
  },
  {
   "cell_type": "code",
   "execution_count": 3,
   "id": "b461cab4",
   "metadata": {
    "execution": {
     "iopub.execute_input": "2024-08-29T16:55:29.405844Z",
     "iopub.status.busy": "2024-08-29T16:55:29.405455Z",
     "iopub.status.idle": "2024-08-29T16:55:29.409820Z",
     "shell.execute_reply": "2024-08-29T16:55:29.408779Z"
    },
    "papermill": {
     "duration": 0.016633,
     "end_time": "2024-08-29T16:55:29.413163",
     "exception": false,
     "start_time": "2024-08-29T16:55:29.396530",
     "status": "completed"
    },
    "tags": []
   },
   "outputs": [],
   "source": [
    "# doing a test run with smaller dataset\n",
    "#reviews_df = reviews_df.iloc[:3000]\n",
    "#reviews_df.shape"
   ]
  },
  {
   "cell_type": "markdown",
   "id": "902029a5",
   "metadata": {
    "papermill": {
     "duration": 0.007621,
     "end_time": "2024-08-29T16:55:29.428904",
     "exception": false,
     "start_time": "2024-08-29T16:55:29.421283",
     "status": "completed"
    },
    "tags": []
   },
   "source": [
    "# 2) Prepare Data"
   ]
  },
  {
   "cell_type": "code",
   "execution_count": 4,
   "id": "6a1fef83",
   "metadata": {
    "execution": {
     "iopub.execute_input": "2024-08-29T16:55:29.445659Z",
     "iopub.status.busy": "2024-08-29T16:55:29.445266Z",
     "iopub.status.idle": "2024-08-29T16:55:49.879222Z",
     "shell.execute_reply": "2024-08-29T16:55:49.878391Z"
    },
    "papermill": {
     "duration": 20.445353,
     "end_time": "2024-08-29T16:55:49.881796",
     "exception": false,
     "start_time": "2024-08-29T16:55:29.436443",
     "status": "completed"
    },
    "tags": []
   },
   "outputs": [],
   "source": [
    "import pandas as pd\n",
    "from sklearn.model_selection import train_test_split\n",
    "from transformers import DistilBertTokenizer, DistilBertForSequenceClassification, Trainer, TrainingArguments\n",
    "from torch.utils.data import Dataset, DataLoader, TensorDataset\n",
    "import torch\n",
    "from torch import nn"
   ]
  },
  {
   "cell_type": "markdown",
   "id": "493c021a",
   "metadata": {
    "papermill": {
     "duration": 0.007093,
     "end_time": "2024-08-29T16:55:49.896525",
     "exception": false,
     "start_time": "2024-08-29T16:55:49.889432",
     "status": "completed"
    },
    "tags": []
   },
   "source": [
    "## 2A) Split data into train/validation "
   ]
  },
  {
   "cell_type": "code",
   "execution_count": 5,
   "id": "4ff24316",
   "metadata": {
    "execution": {
     "iopub.execute_input": "2024-08-29T16:55:49.912697Z",
     "iopub.status.busy": "2024-08-29T16:55:49.912018Z",
     "iopub.status.idle": "2024-08-29T16:55:49.931531Z",
     "shell.execute_reply": "2024-08-29T16:55:49.930454Z"
    },
    "papermill": {
     "duration": 0.030097,
     "end_time": "2024-08-29T16:55:49.933818",
     "exception": false,
     "start_time": "2024-08-29T16:55:49.903721",
     "status": "completed"
    },
    "tags": []
   },
   "outputs": [],
   "source": [
    "from sklearn.model_selection import train_test_split\n",
    "\n",
    "# Load and split the DataFrame\n",
    "train_df, val_df = train_test_split(reviews_df, test_size=0.2, random_state=42)"
   ]
  },
  {
   "cell_type": "markdown",
   "id": "f782691f",
   "metadata": {
    "papermill": {
     "duration": 0.007224,
     "end_time": "2024-08-29T16:55:49.948329",
     "exception": false,
     "start_time": "2024-08-29T16:55:49.941105",
     "status": "completed"
    },
    "tags": []
   },
   "source": [
    "## 2B) Tokenize data"
   ]
  },
  {
   "cell_type": "code",
   "execution_count": 6,
   "id": "70539ae5",
   "metadata": {
    "execution": {
     "iopub.execute_input": "2024-08-29T16:55:49.964070Z",
     "iopub.status.busy": "2024-08-29T16:55:49.963672Z",
     "iopub.status.idle": "2024-08-29T16:55:50.847303Z",
     "shell.execute_reply": "2024-08-29T16:55:50.846279Z"
    },
    "papermill": {
     "duration": 0.894046,
     "end_time": "2024-08-29T16:55:50.849619",
     "exception": false,
     "start_time": "2024-08-29T16:55:49.955573",
     "status": "completed"
    },
    "tags": []
   },
   "outputs": [
    {
     "data": {
      "application/vnd.jupyter.widget-view+json": {
       "model_id": "d8de22eb33444fef82ec1dc85fc07035",
       "version_major": 2,
       "version_minor": 0
      },
      "text/plain": [
       "tokenizer_config.json:   0%|          | 0.00/48.0 [00:00<?, ?B/s]"
      ]
     },
     "metadata": {},
     "output_type": "display_data"
    },
    {
     "data": {
      "application/vnd.jupyter.widget-view+json": {
       "model_id": "6b6ebdfb03684455ac5564ea0360c9c5",
       "version_major": 2,
       "version_minor": 0
      },
      "text/plain": [
       "vocab.txt:   0%|          | 0.00/232k [00:00<?, ?B/s]"
      ]
     },
     "metadata": {},
     "output_type": "display_data"
    },
    {
     "data": {
      "application/vnd.jupyter.widget-view+json": {
       "model_id": "6fa77929686e48dbb462032d6e43d43f",
       "version_major": 2,
       "version_minor": 0
      },
      "text/plain": [
       "config.json:   0%|          | 0.00/629 [00:00<?, ?B/s]"
      ]
     },
     "metadata": {},
     "output_type": "display_data"
    },
    {
     "name": "stderr",
     "output_type": "stream",
     "text": [
      "/opt/conda/lib/python3.10/site-packages/transformers/tokenization_utils_base.py:1601: FutureWarning: `clean_up_tokenization_spaces` was not set. It will be set to `True` by default. This behavior will be depracted in transformers v4.45, and will be then set to `False` by default. For more details check this issue: https://github.com/huggingface/transformers/issues/31884\n",
      "  warnings.warn(\n"
     ]
    }
   ],
   "source": [
    "# Initialize the tokenizer\n",
    "tokenizer = DistilBertTokenizer.from_pretrained('distilbert-base-uncased-finetuned-sst-2-english')\n",
    "\n",
    "# Tokenize the reviews\n",
    "def tokenize_reviews(reviews, tokenizer, max_length=512):\n",
    "    encodings = tokenizer(reviews, truncation=True, padding=True, max_length=max_length, return_tensors='pt')\n",
    "    return encodings['input_ids'], encodings['attention_mask']"
   ]
  },
  {
   "cell_type": "markdown",
   "id": "f663e239",
   "metadata": {
    "papermill": {
     "duration": 0.008218,
     "end_time": "2024-08-29T16:55:50.866351",
     "exception": false,
     "start_time": "2024-08-29T16:55:50.858133",
     "status": "completed"
    },
    "tags": []
   },
   "source": [
    "## 2c) Use custom Dataset object"
   ]
  },
  {
   "cell_type": "code",
   "execution_count": 7,
   "id": "5437aa46",
   "metadata": {
    "execution": {
     "iopub.execute_input": "2024-08-29T16:55:50.884427Z",
     "iopub.status.busy": "2024-08-29T16:55:50.884030Z",
     "iopub.status.idle": "2024-08-29T16:55:50.894256Z",
     "shell.execute_reply": "2024-08-29T16:55:50.893187Z"
    },
    "papermill": {
     "duration": 0.021748,
     "end_time": "2024-08-29T16:55:50.896318",
     "exception": false,
     "start_time": "2024-08-29T16:55:50.874570",
     "status": "completed"
    },
    "tags": []
   },
   "outputs": [],
   "source": [
    "from torch.utils.data import Dataset, DataLoader\n",
    "\n",
    "class ReviewsDataset(Dataset):\n",
    "    def __init__(self, dataframe, tokenizer, max_length):\n",
    "        self.tokenizer = tokenizer\n",
    "        self.data = dataframe\n",
    "        self.max_length = max_length\n",
    "\n",
    "    def __len__(self):\n",
    "        return len(self.data)\n",
    "\n",
    "    def __getitem__(self, idx):\n",
    "        review = self.data.iloc[idx]\n",
    "        encoding = self.tokenizer(\n",
    "            review['review_text'],\n",
    "            truncation=True,\n",
    "            padding='max_length',\n",
    "            max_length=self.max_length,\n",
    "            return_tensors='pt'\n",
    "        )\n",
    "        return {\n",
    "            'input_ids': encoding['input_ids'].squeeze(),\n",
    "            'attention_mask': encoding['attention_mask'].squeeze(),\n",
    "            'labels': torch.tensor(review['rating'], dtype=torch.long)\n",
    "        }\n",
    "\n",
    "# Parameters\n",
    "max_length = 128\n",
    "\n",
    "# Prepare datasets\n",
    "train_dataset = ReviewsDataset(train_df, tokenizer, max_length)\n",
    "val_dataset = ReviewsDataset(val_df, tokenizer, max_length)\n",
    "\n",
    "# Data loaders\n",
    "train_loader = DataLoader(train_dataset, batch_size=16, shuffle=True)\n",
    "val_loader = DataLoader(val_dataset, batch_size=16)"
   ]
  },
  {
   "cell_type": "markdown",
   "id": "698a18a5",
   "metadata": {
    "papermill": {
     "duration": 0.00817,
     "end_time": "2024-08-29T16:55:50.912754",
     "exception": false,
     "start_time": "2024-08-29T16:55:50.904584",
     "status": "completed"
    },
    "tags": []
   },
   "source": [
    "# 3) Setting up the model"
   ]
  },
  {
   "cell_type": "code",
   "execution_count": 8,
   "id": "60cf1122",
   "metadata": {
    "execution": {
     "iopub.execute_input": "2024-08-29T16:55:50.930712Z",
     "iopub.status.busy": "2024-08-29T16:55:50.930354Z",
     "iopub.status.idle": "2024-08-29T16:55:50.935081Z",
     "shell.execute_reply": "2024-08-29T16:55:50.934067Z"
    },
    "papermill": {
     "duration": 0.01617,
     "end_time": "2024-08-29T16:55:50.937205",
     "exception": false,
     "start_time": "2024-08-29T16:55:50.921035",
     "status": "completed"
    },
    "tags": []
   },
   "outputs": [],
   "source": [
    "from transformers import DistilBertTokenizer, DistilBertForSequenceClassification\n",
    "import torch\n",
    "from torch import nn"
   ]
  },
  {
   "cell_type": "code",
   "execution_count": 9,
   "id": "95da963b",
   "metadata": {
    "execution": {
     "iopub.execute_input": "2024-08-29T16:55:50.954865Z",
     "iopub.status.busy": "2024-08-29T16:55:50.954549Z",
     "iopub.status.idle": "2024-08-29T16:55:54.374545Z",
     "shell.execute_reply": "2024-08-29T16:55:54.373481Z"
    },
    "papermill": {
     "duration": 3.431639,
     "end_time": "2024-08-29T16:55:54.377041",
     "exception": false,
     "start_time": "2024-08-29T16:55:50.945402",
     "status": "completed"
    },
    "tags": []
   },
   "outputs": [
    {
     "data": {
      "application/vnd.jupyter.widget-view+json": {
       "model_id": "66335965015c4f92b8adb9dc0e4c036e",
       "version_major": 2,
       "version_minor": 0
      },
      "text/plain": [
       "model.safetensors:   0%|          | 0.00/268M [00:00<?, ?B/s]"
      ]
     },
     "metadata": {},
     "output_type": "display_data"
    },
    {
     "name": "stderr",
     "output_type": "stream",
     "text": [
      "Some weights of DistilBertForSequenceClassification were not initialized from the model checkpoint at distilbert-base-uncased-finetuned-sst-2-english and are newly initialized because the shapes did not match:\n",
      "- classifier.bias: found shape torch.Size([2]) in the checkpoint and torch.Size([10]) in the model instantiated\n",
      "- classifier.weight: found shape torch.Size([2, 768]) in the checkpoint and torch.Size([10, 768]) in the model instantiated\n",
      "You should probably TRAIN this model on a down-stream task to be able to use it for predictions and inference.\n"
     ]
    },
    {
     "name": "stdout",
     "output_type": "stream",
     "text": [
      "DistilBertForSequenceClassification(\n",
      "  (distilbert): DistilBertModel(\n",
      "    (embeddings): Embeddings(\n",
      "      (word_embeddings): Embedding(30522, 768, padding_idx=0)\n",
      "      (position_embeddings): Embedding(512, 768)\n",
      "      (LayerNorm): LayerNorm((768,), eps=1e-12, elementwise_affine=True)\n",
      "      (dropout): Dropout(p=0.1, inplace=False)\n",
      "    )\n",
      "    (transformer): Transformer(\n",
      "      (layer): ModuleList(\n",
      "        (0-5): 6 x TransformerBlock(\n",
      "          (attention): MultiHeadSelfAttention(\n",
      "            (dropout): Dropout(p=0.1, inplace=False)\n",
      "            (q_lin): Linear(in_features=768, out_features=768, bias=True)\n",
      "            (k_lin): Linear(in_features=768, out_features=768, bias=True)\n",
      "            (v_lin): Linear(in_features=768, out_features=768, bias=True)\n",
      "            (out_lin): Linear(in_features=768, out_features=768, bias=True)\n",
      "          )\n",
      "          (sa_layer_norm): LayerNorm((768,), eps=1e-12, elementwise_affine=True)\n",
      "          (ffn): FFN(\n",
      "            (dropout): Dropout(p=0.1, inplace=False)\n",
      "            (lin1): Linear(in_features=768, out_features=3072, bias=True)\n",
      "            (lin2): Linear(in_features=3072, out_features=768, bias=True)\n",
      "            (activation): GELUActivation()\n",
      "          )\n",
      "          (output_layer_norm): LayerNorm((768,), eps=1e-12, elementwise_affine=True)\n",
      "        )\n",
      "      )\n",
      "    )\n",
      "  )\n",
      "  (pre_classifier): Linear(in_features=768, out_features=768, bias=True)\n",
      "  (classifier): Linear(in_features=768, out_features=10, bias=True)\n",
      "  (dropout): Dropout(p=0.2, inplace=False)\n",
      ")\n"
     ]
    }
   ],
   "source": [
    "# Load the pre-trained model and modify it\n",
    "model = DistilBertForSequenceClassification.from_pretrained(\"distilbert-base-uncased-finetuned-sst-2-english\", num_labels=10, ignore_mismatched_sizes=True)\n",
    "\n",
    "print(model)"
   ]
  },
  {
   "cell_type": "markdown",
   "id": "89a0f1c5",
   "metadata": {
    "papermill": {
     "duration": 0.008275,
     "end_time": "2024-08-29T16:55:54.394125",
     "exception": false,
     "start_time": "2024-08-29T16:55:54.385850",
     "status": "completed"
    },
    "tags": []
   },
   "source": [
    "# 4) Training"
   ]
  },
  {
   "cell_type": "code",
   "execution_count": 10,
   "id": "a9e8cfa7",
   "metadata": {
    "execution": {
     "iopub.execute_input": "2024-08-29T16:55:54.412118Z",
     "iopub.status.busy": "2024-08-29T16:55:54.411722Z",
     "iopub.status.idle": "2024-08-29T16:55:54.786955Z",
     "shell.execute_reply": "2024-08-29T16:55:54.786085Z"
    },
    "papermill": {
     "duration": 0.387064,
     "end_time": "2024-08-29T16:55:54.789334",
     "exception": false,
     "start_time": "2024-08-29T16:55:54.402270",
     "status": "completed"
    },
    "tags": []
   },
   "outputs": [
    {
     "name": "stderr",
     "output_type": "stream",
     "text": [
      "/opt/conda/lib/python3.10/site-packages/transformers/training_args.py:1525: FutureWarning: `evaluation_strategy` is deprecated and will be removed in version 4.46 of 🤗 Transformers. Use `eval_strategy` instead\n",
      "  warnings.warn(\n"
     ]
    }
   ],
   "source": [
    "from transformers import Trainer, TrainingArguments\n",
    "\n",
    "# Define training arguments\n",
    "training_args = TrainingArguments(\n",
    "    output_dir='./results',\n",
    "    num_train_epochs=3,\n",
    "    per_device_train_batch_size=16,\n",
    "    per_device_eval_batch_size=16,\n",
    "    warmup_steps=500,\n",
    "    weight_decay=0.01,\n",
    "    logging_dir='./logs',\n",
    "    logging_steps=10,\n",
    "    evaluation_strategy='epoch',\n",
    "    report_to=\"none\"\n",
    ")\n",
    "\n",
    "# Initialize Trainer\n",
    "trainer = Trainer(\n",
    "    model=model,\n",
    "    args=training_args,\n",
    "    train_dataset=train_dataset,\n",
    "    eval_dataset=val_dataset,\n",
    "    tokenizer=tokenizer,\n",
    ")"
   ]
  },
  {
   "cell_type": "code",
   "execution_count": 11,
   "id": "f0bf62de",
   "metadata": {
    "execution": {
     "iopub.execute_input": "2024-08-29T16:55:54.808120Z",
     "iopub.status.busy": "2024-08-29T16:55:54.807747Z",
     "iopub.status.idle": "2024-08-29T17:25:30.961677Z",
     "shell.execute_reply": "2024-08-29T17:25:30.960640Z"
    },
    "papermill": {
     "duration": 1776.165909,
     "end_time": "2024-08-29T17:25:30.964104",
     "exception": false,
     "start_time": "2024-08-29T16:55:54.798195",
     "status": "completed"
    },
    "tags": []
   },
   "outputs": [
    {
     "data": {
      "text/html": [
       "\n",
       "    <div>\n",
       "      \n",
       "      <progress value='11595' max='11595' style='width:300px; height:20px; vertical-align: middle;'></progress>\n",
       "      [11595/11595 29:33, Epoch 3/3]\n",
       "    </div>\n",
       "    <table border=\"1\" class=\"dataframe\">\n",
       "  <thead>\n",
       " <tr style=\"text-align: left;\">\n",
       "      <th>Epoch</th>\n",
       "      <th>Training Loss</th>\n",
       "      <th>Validation Loss</th>\n",
       "    </tr>\n",
       "  </thead>\n",
       "  <tbody>\n",
       "    <tr>\n",
       "      <td>1</td>\n",
       "      <td>1.798200</td>\n",
       "      <td>1.664720</td>\n",
       "    </tr>\n",
       "    <tr>\n",
       "      <td>2</td>\n",
       "      <td>1.502100</td>\n",
       "      <td>1.629758</td>\n",
       "    </tr>\n",
       "    <tr>\n",
       "      <td>3</td>\n",
       "      <td>1.037800</td>\n",
       "      <td>1.842091</td>\n",
       "    </tr>\n",
       "  </tbody>\n",
       "</table><p>"
      ],
      "text/plain": [
       "<IPython.core.display.HTML object>"
      ]
     },
     "metadata": {},
     "output_type": "display_data"
    },
    {
     "data": {
      "text/plain": [
       "TrainOutput(global_step=11595, training_loss=1.4745688259935728, metrics={'train_runtime': 1774.6957, 'train_samples_per_second': 104.521, 'train_steps_per_second': 6.534, 'total_flos': 6143820200179200.0, 'train_loss': 1.4745688259935728, 'epoch': 3.0})"
      ]
     },
     "execution_count": 11,
     "metadata": {},
     "output_type": "execute_result"
    }
   ],
   "source": [
    "# Train the model\n",
    "trainer.train()"
   ]
  },
  {
   "cell_type": "code",
   "execution_count": 12,
   "id": "50a0e99d",
   "metadata": {
    "execution": {
     "iopub.execute_input": "2024-08-29T17:25:30.984323Z",
     "iopub.status.busy": "2024-08-29T17:25:30.983958Z",
     "iopub.status.idle": "2024-08-29T17:25:31.672267Z",
     "shell.execute_reply": "2024-08-29T17:25:31.671258Z"
    },
    "papermill": {
     "duration": 0.701136,
     "end_time": "2024-08-29T17:25:31.674650",
     "exception": false,
     "start_time": "2024-08-29T17:25:30.973514",
     "status": "completed"
    },
    "tags": []
   },
   "outputs": [
    {
     "data": {
      "text/plain": [
       "('./bert-sentiment-letterboxd-classification/tokenizer_config.json',\n",
       " './bert-sentiment-letterboxd-classification/special_tokens_map.json',\n",
       " './bert-sentiment-letterboxd-classification/vocab.txt',\n",
       " './bert-sentiment-letterboxd-classification/added_tokens.json')"
      ]
     },
     "execution_count": 12,
     "metadata": {},
     "output_type": "execute_result"
    }
   ],
   "source": [
    "# Save the model and tokenizer\n",
    "model_path = './bert-sentiment-letterboxd-classification'\n",
    "model.save_pretrained(model_path)\n",
    "tokenizer.save_pretrained(model_path)"
   ]
  },
  {
   "cell_type": "code",
   "execution_count": 13,
   "id": "50d75797",
   "metadata": {
    "execution": {
     "iopub.execute_input": "2024-08-29T17:25:31.694982Z",
     "iopub.status.busy": "2024-08-29T17:25:31.694623Z",
     "iopub.status.idle": "2024-08-29T17:25:32.249809Z",
     "shell.execute_reply": "2024-08-29T17:25:32.248862Z"
    },
    "papermill": {
     "duration": 0.567898,
     "end_time": "2024-08-29T17:25:32.252129",
     "exception": false,
     "start_time": "2024-08-29T17:25:31.684231",
     "status": "completed"
    },
    "tags": []
   },
   "outputs": [
    {
     "name": "stderr",
     "output_type": "stream",
     "text": [
      "/opt/conda/lib/python3.10/site-packages/transformers/tokenization_utils_base.py:1601: FutureWarning: `clean_up_tokenization_spaces` was not set. It will be set to `True` by default. This behavior will be depracted in transformers v4.45, and will be then set to `False` by default. For more details check this issue: https://github.com/huggingface/transformers/issues/31884\n",
      "  warnings.warn(\n",
      "Hardware accelerator e.g. GPU is available in the environment, but no `device` argument is passed to the `Pipeline` object. Model will be on CPU.\n"
     ]
    }
   ],
   "source": [
    "from transformers import pipeline\n",
    "\n",
    "# Load the fine-tuned model\n",
    "model = DistilBertForSequenceClassification.from_pretrained(model_path)\n",
    "\n",
    "# Load the tokenizer\n",
    "tokenizer = DistilBertTokenizer.from_pretrained(\"distilbert-base-uncased-finetuned-sst-2-english\")\n",
    "\n",
    "# Create a prediction pipeline\n",
    "classifier = pipeline('text-classification', model=model, tokenizer=tokenizer)"
   ]
  },
  {
   "cell_type": "code",
   "execution_count": 14,
   "id": "3b17c66e",
   "metadata": {
    "execution": {
     "iopub.execute_input": "2024-08-29T17:25:32.271991Z",
     "iopub.status.busy": "2024-08-29T17:25:32.271629Z",
     "iopub.status.idle": "2024-08-29T17:25:32.281975Z",
     "shell.execute_reply": "2024-08-29T17:25:32.281011Z"
    },
    "papermill": {
     "duration": 0.022667,
     "end_time": "2024-08-29T17:25:32.284158",
     "exception": false,
     "start_time": "2024-08-29T17:25:32.261491",
     "status": "completed"
    },
    "tags": []
   },
   "outputs": [],
   "source": [
    "def convert_label_to_stars(label):\n",
    "    \"\"\"\n",
    "    Convert label to a star rating in text format.\n",
    "    \n",
    "    Parameters:\n",
    "    - label (str): Model label (e.g., 'LABEL_0' to 'LABEL_9')\n",
    "    \n",
    "    Returns:\n",
    "    - str: Star rating in text format (e.g., '★', '★★★½')\n",
    "    \"\"\"\n",
    "    label_to_stars = {\n",
    "        'LABEL_0': '½',\n",
    "        'LABEL_1': '★',\n",
    "        'LABEL_2': '★½',\n",
    "        'LABEL_3': '★★',\n",
    "        'LABEL_4': '★★½',\n",
    "        'LABEL_5': '★★★',\n",
    "        'LABEL_6': '★★★½',\n",
    "        'LABEL_7': '★★★★',\n",
    "        'LABEL_8': '★★★★½',\n",
    "        'LABEL_9': '★★★★★'\n",
    "    }\n",
    "    return label_to_stars.get(label, 'Unknown')\n",
    "\n",
    "\n",
    "def normalize_rating(star_rating):\n",
    "    \"\"\"\n",
    "    Convert star rating in text format to a normalized rating score.\n",
    "    \n",
    "    Parameters:\n",
    "    - star_rating (str): Star rating in text format (e.g., '★★★★½')\n",
    "    \n",
    "    Returns:\n",
    "    - float: Normalized rating score.\n",
    "    \"\"\"\n",
    "    rating_map = {'★': 1, '½': 0.5}\n",
    "    return sum(rating_map[char] for char in star_rating if char in rating_map)\n",
    "\n",
    "def predict_rating_from_review(review_text):\n",
    "    prediction = classifier(review_text)\n",
    "\n",
    "    # Convert the prediction to star rating and get confidence score\n",
    "    predicted_label = prediction[0]['label']\n",
    "    confidence_score = prediction[0]['score']\n",
    "    star_rating_text = convert_label_to_stars(predicted_label)\n",
    "    star_rating = normalize_rating(star_rating_text)\n",
    "\n",
    "    # Output the star rating and confidence score\n",
    "    print(f\"Predicted Rating: {star_rating_text} ({star_rating} stars)\")\n",
    "    print(f\"Confidence Score: {confidence_score:.2f}\")\n",
    "    \n",
    "    return {'star_rating': star_rating, 'star_rating_text': star_rating_text,  'confidence_score': confidence_score }\n",
    "    "
   ]
  },
  {
   "cell_type": "code",
   "execution_count": 15,
   "id": "44d5f296",
   "metadata": {
    "execution": {
     "iopub.execute_input": "2024-08-29T17:25:32.303480Z",
     "iopub.status.busy": "2024-08-29T17:25:32.303174Z",
     "iopub.status.idle": "2024-08-29T17:25:32.432487Z",
     "shell.execute_reply": "2024-08-29T17:25:32.431235Z"
    },
    "papermill": {
     "duration": 0.142311,
     "end_time": "2024-08-29T17:25:32.435436",
     "exception": false,
     "start_time": "2024-08-29T17:25:32.293125",
     "status": "completed"
    },
    "tags": []
   },
   "outputs": [
    {
     "name": "stdout",
     "output_type": "stream",
     "text": [
      "Predicted Rating: ★★★★★ (5 stars)\n",
      "Confidence Score: 0.97\n"
     ]
    },
    {
     "data": {
      "text/plain": [
       "{'star_rating': 5,\n",
       " 'star_rating_text': '★★★★★',\n",
       " 'confidence_score': 0.968124270439148}"
      ]
     },
     "execution_count": 15,
     "metadata": {},
     "output_type": "execute_result"
    }
   ],
   "source": [
    "# Example prediction\n",
    "predict_rating_from_review(\"Best movie ever!\")"
   ]
  },
  {
   "cell_type": "code",
   "execution_count": 16,
   "id": "db0e0989",
   "metadata": {
    "execution": {
     "iopub.execute_input": "2024-08-29T17:25:32.457353Z",
     "iopub.status.busy": "2024-08-29T17:25:32.457002Z",
     "iopub.status.idle": "2024-08-29T17:25:32.495154Z",
     "shell.execute_reply": "2024-08-29T17:25:32.494021Z"
    },
    "papermill": {
     "duration": 0.05111,
     "end_time": "2024-08-29T17:25:32.497480",
     "exception": false,
     "start_time": "2024-08-29T17:25:32.446370",
     "status": "completed"
    },
    "tags": []
   },
   "outputs": [
    {
     "name": "stdout",
     "output_type": "stream",
     "text": [
      "Predicted Rating: ★★★ (3 stars)\n",
      "Confidence Score: 0.89\n"
     ]
    },
    {
     "data": {
      "text/plain": [
       "{'star_rating': 3,\n",
       " 'star_rating_text': '★★★',\n",
       " 'confidence_score': 0.8850893974304199}"
      ]
     },
     "execution_count": 16,
     "metadata": {},
     "output_type": "execute_result"
    }
   ],
   "source": [
    "predict_rating_from_review(\"Okay movie, not my favourite!\")"
   ]
  },
  {
   "cell_type": "code",
   "execution_count": 17,
   "id": "c1657708",
   "metadata": {
    "execution": {
     "iopub.execute_input": "2024-08-29T17:25:32.519649Z",
     "iopub.status.busy": "2024-08-29T17:25:32.518730Z",
     "iopub.status.idle": "2024-08-29T17:25:32.555176Z",
     "shell.execute_reply": "2024-08-29T17:25:32.554046Z"
    },
    "papermill": {
     "duration": 0.049969,
     "end_time": "2024-08-29T17:25:32.557649",
     "exception": false,
     "start_time": "2024-08-29T17:25:32.507680",
     "status": "completed"
    },
    "tags": []
   },
   "outputs": [
    {
     "name": "stdout",
     "output_type": "stream",
     "text": [
      "Predicted Rating: ½ (0.5 stars)\n",
      "Confidence Score: 0.65\n"
     ]
    },
    {
     "data": {
      "text/plain": [
       "{'star_rating': 0.5,\n",
       " 'star_rating_text': '½',\n",
       " 'confidence_score': 0.6540469527244568}"
      ]
     },
     "execution_count": 17,
     "metadata": {},
     "output_type": "execute_result"
    }
   ],
   "source": [
    "predict_rating_from_review(\"Worst movie ever!\")"
   ]
  }
 ],
 "metadata": {
  "kaggle": {
   "accelerator": "gpu",
   "dataSources": [
    {
     "datasetId": 5581345,
     "sourceId": 9267593,
     "sourceType": "datasetVersion"
    },
    {
     "sourceId": 194474283,
     "sourceType": "kernelVersion"
    }
   ],
   "dockerImageVersionId": 30761,
   "isGpuEnabled": true,
   "isInternetEnabled": true,
   "language": "python",
   "sourceType": "notebook"
  },
  "kernelspec": {
   "display_name": "Python 3",
   "language": "python",
   "name": "python3"
  },
  "language_info": {
   "codemirror_mode": {
    "name": "ipython",
    "version": 3
   },
   "file_extension": ".py",
   "mimetype": "text/x-python",
   "name": "python",
   "nbconvert_exporter": "python",
   "pygments_lexer": "ipython3",
   "version": "3.10.14"
  },
  "papermill": {
   "default_parameters": {},
   "duration": 1812.493459,
   "end_time": "2024-08-29T17:25:36.175259",
   "environment_variables": {},
   "exception": null,
   "input_path": "__notebook__.ipynb",
   "output_path": "__notebook__.ipynb",
   "parameters": {},
   "start_time": "2024-08-29T16:55:23.681800",
   "version": "2.6.0"
  },
  "widgets": {
   "application/vnd.jupyter.widget-state+json": {
    "state": {
     "0628abf596a944fca500ea3964fe72a9": {
      "model_module": "@jupyter-widgets/controls",
      "model_module_version": "1.5.0",
      "model_name": "FloatProgressModel",
      "state": {
       "_dom_classes": [],
       "_model_module": "@jupyter-widgets/controls",
       "_model_module_version": "1.5.0",
       "_model_name": "FloatProgressModel",
       "_view_count": null,
       "_view_module": "@jupyter-widgets/controls",
       "_view_module_version": "1.5.0",
       "_view_name": "ProgressView",
       "bar_style": "success",
       "description": "",
       "description_tooltip": null,
       "layout": "IPY_MODEL_727cd9ede88d486782d5d0974ac0d550",
       "max": 48.0,
       "min": 0.0,
       "orientation": "horizontal",
       "style": "IPY_MODEL_f146abdfa97744a384e310a39816959b",
       "value": 48.0
      }
     },
     "0629a38c7e674e62a4b03be6f578f503": {
      "model_module": "@jupyter-widgets/base",
      "model_module_version": "1.2.0",
      "model_name": "LayoutModel",
      "state": {
       "_model_module": "@jupyter-widgets/base",
       "_model_module_version": "1.2.0",
       "_model_name": "LayoutModel",
       "_view_count": null,
       "_view_module": "@jupyter-widgets/base",
       "_view_module_version": "1.2.0",
       "_view_name": "LayoutView",
       "align_content": null,
       "align_items": null,
       "align_self": null,
       "border": null,
       "bottom": null,
       "display": null,
       "flex": null,
       "flex_flow": null,
       "grid_area": null,
       "grid_auto_columns": null,
       "grid_auto_flow": null,
       "grid_auto_rows": null,
       "grid_column": null,
       "grid_gap": null,
       "grid_row": null,
       "grid_template_areas": null,
       "grid_template_columns": null,
       "grid_template_rows": null,
       "height": null,
       "justify_content": null,
       "justify_items": null,
       "left": null,
       "margin": null,
       "max_height": null,
       "max_width": null,
       "min_height": null,
       "min_width": null,
       "object_fit": null,
       "object_position": null,
       "order": null,
       "overflow": null,
       "overflow_x": null,
       "overflow_y": null,
       "padding": null,
       "right": null,
       "top": null,
       "visibility": null,
       "width": null
      }
     },
     "0d0b0f4dbab94d17b5fac084e6b4bb5a": {
      "model_module": "@jupyter-widgets/controls",
      "model_module_version": "1.5.0",
      "model_name": "HTMLModel",
      "state": {
       "_dom_classes": [],
       "_model_module": "@jupyter-widgets/controls",
       "_model_module_version": "1.5.0",
       "_model_name": "HTMLModel",
       "_view_count": null,
       "_view_module": "@jupyter-widgets/controls",
       "_view_module_version": "1.5.0",
       "_view_name": "HTMLView",
       "description": "",
       "description_tooltip": null,
       "layout": "IPY_MODEL_2f9ec2cccee944e2a13ed71d59c5b2cd",
       "placeholder": "​",
       "style": "IPY_MODEL_e802cc3be17d4fec83acc5d9956b4d50",
       "value": " 268M/268M [00:02&lt;00:00, 131MB/s]"
      }
     },
     "10e7aea34a174770885c6aff886dcf61": {
      "model_module": "@jupyter-widgets/base",
      "model_module_version": "1.2.0",
      "model_name": "LayoutModel",
      "state": {
       "_model_module": "@jupyter-widgets/base",
       "_model_module_version": "1.2.0",
       "_model_name": "LayoutModel",
       "_view_count": null,
       "_view_module": "@jupyter-widgets/base",
       "_view_module_version": "1.2.0",
       "_view_name": "LayoutView",
       "align_content": null,
       "align_items": null,
       "align_self": null,
       "border": null,
       "bottom": null,
       "display": null,
       "flex": null,
       "flex_flow": null,
       "grid_area": null,
       "grid_auto_columns": null,
       "grid_auto_flow": null,
       "grid_auto_rows": null,
       "grid_column": null,
       "grid_gap": null,
       "grid_row": null,
       "grid_template_areas": null,
       "grid_template_columns": null,
       "grid_template_rows": null,
       "height": null,
       "justify_content": null,
       "justify_items": null,
       "left": null,
       "margin": null,
       "max_height": null,
       "max_width": null,
       "min_height": null,
       "min_width": null,
       "object_fit": null,
       "object_position": null,
       "order": null,
       "overflow": null,
       "overflow_x": null,
       "overflow_y": null,
       "padding": null,
       "right": null,
       "top": null,
       "visibility": null,
       "width": null
      }
     },
     "115427c2ca2c429b8e512514d0c1e73e": {
      "model_module": "@jupyter-widgets/controls",
      "model_module_version": "1.5.0",
      "model_name": "DescriptionStyleModel",
      "state": {
       "_model_module": "@jupyter-widgets/controls",
       "_model_module_version": "1.5.0",
       "_model_name": "DescriptionStyleModel",
       "_view_count": null,
       "_view_module": "@jupyter-widgets/base",
       "_view_module_version": "1.2.0",
       "_view_name": "StyleView",
       "description_width": ""
      }
     },
     "12eae599048243488611979dd45a698e": {
      "model_module": "@jupyter-widgets/base",
      "model_module_version": "1.2.0",
      "model_name": "LayoutModel",
      "state": {
       "_model_module": "@jupyter-widgets/base",
       "_model_module_version": "1.2.0",
       "_model_name": "LayoutModel",
       "_view_count": null,
       "_view_module": "@jupyter-widgets/base",
       "_view_module_version": "1.2.0",
       "_view_name": "LayoutView",
       "align_content": null,
       "align_items": null,
       "align_self": null,
       "border": null,
       "bottom": null,
       "display": null,
       "flex": null,
       "flex_flow": null,
       "grid_area": null,
       "grid_auto_columns": null,
       "grid_auto_flow": null,
       "grid_auto_rows": null,
       "grid_column": null,
       "grid_gap": null,
       "grid_row": null,
       "grid_template_areas": null,
       "grid_template_columns": null,
       "grid_template_rows": null,
       "height": null,
       "justify_content": null,
       "justify_items": null,
       "left": null,
       "margin": null,
       "max_height": null,
       "max_width": null,
       "min_height": null,
       "min_width": null,
       "object_fit": null,
       "object_position": null,
       "order": null,
       "overflow": null,
       "overflow_x": null,
       "overflow_y": null,
       "padding": null,
       "right": null,
       "top": null,
       "visibility": null,
       "width": null
      }
     },
     "2f1a08b7dd274198ac513209625d00c3": {
      "model_module": "@jupyter-widgets/base",
      "model_module_version": "1.2.0",
      "model_name": "LayoutModel",
      "state": {
       "_model_module": "@jupyter-widgets/base",
       "_model_module_version": "1.2.0",
       "_model_name": "LayoutModel",
       "_view_count": null,
       "_view_module": "@jupyter-widgets/base",
       "_view_module_version": "1.2.0",
       "_view_name": "LayoutView",
       "align_content": null,
       "align_items": null,
       "align_self": null,
       "border": null,
       "bottom": null,
       "display": null,
       "flex": null,
       "flex_flow": null,
       "grid_area": null,
       "grid_auto_columns": null,
       "grid_auto_flow": null,
       "grid_auto_rows": null,
       "grid_column": null,
       "grid_gap": null,
       "grid_row": null,
       "grid_template_areas": null,
       "grid_template_columns": null,
       "grid_template_rows": null,
       "height": null,
       "justify_content": null,
       "justify_items": null,
       "left": null,
       "margin": null,
       "max_height": null,
       "max_width": null,
       "min_height": null,
       "min_width": null,
       "object_fit": null,
       "object_position": null,
       "order": null,
       "overflow": null,
       "overflow_x": null,
       "overflow_y": null,
       "padding": null,
       "right": null,
       "top": null,
       "visibility": null,
       "width": null
      }
     },
     "2f9ec2cccee944e2a13ed71d59c5b2cd": {
      "model_module": "@jupyter-widgets/base",
      "model_module_version": "1.2.0",
      "model_name": "LayoutModel",
      "state": {
       "_model_module": "@jupyter-widgets/base",
       "_model_module_version": "1.2.0",
       "_model_name": "LayoutModel",
       "_view_count": null,
       "_view_module": "@jupyter-widgets/base",
       "_view_module_version": "1.2.0",
       "_view_name": "LayoutView",
       "align_content": null,
       "align_items": null,
       "align_self": null,
       "border": null,
       "bottom": null,
       "display": null,
       "flex": null,
       "flex_flow": null,
       "grid_area": null,
       "grid_auto_columns": null,
       "grid_auto_flow": null,
       "grid_auto_rows": null,
       "grid_column": null,
       "grid_gap": null,
       "grid_row": null,
       "grid_template_areas": null,
       "grid_template_columns": null,
       "grid_template_rows": null,
       "height": null,
       "justify_content": null,
       "justify_items": null,
       "left": null,
       "margin": null,
       "max_height": null,
       "max_width": null,
       "min_height": null,
       "min_width": null,
       "object_fit": null,
       "object_position": null,
       "order": null,
       "overflow": null,
       "overflow_x": null,
       "overflow_y": null,
       "padding": null,
       "right": null,
       "top": null,
       "visibility": null,
       "width": null
      }
     },
     "35c0f364a2d64b0c9605478a7a561a5c": {
      "model_module": "@jupyter-widgets/controls",
      "model_module_version": "1.5.0",
      "model_name": "HTMLModel",
      "state": {
       "_dom_classes": [],
       "_model_module": "@jupyter-widgets/controls",
       "_model_module_version": "1.5.0",
       "_model_name": "HTMLModel",
       "_view_count": null,
       "_view_module": "@jupyter-widgets/controls",
       "_view_module_version": "1.5.0",
       "_view_name": "HTMLView",
       "description": "",
       "description_tooltip": null,
       "layout": "IPY_MODEL_fa24b2f804784dedb89265008c592165",
       "placeholder": "​",
       "style": "IPY_MODEL_ac71311f79004dfc842440f81affcce8",
       "value": " 629/629 [00:00&lt;00:00, 47.4kB/s]"
      }
     },
     "3a5c1a5e8faa455e9c40cf1ee7511817": {
      "model_module": "@jupyter-widgets/controls",
      "model_module_version": "1.5.0",
      "model_name": "HTMLModel",
      "state": {
       "_dom_classes": [],
       "_model_module": "@jupyter-widgets/controls",
       "_model_module_version": "1.5.0",
       "_model_name": "HTMLModel",
       "_view_count": null,
       "_view_module": "@jupyter-widgets/controls",
       "_view_module_version": "1.5.0",
       "_view_name": "HTMLView",
       "description": "",
       "description_tooltip": null,
       "layout": "IPY_MODEL_2f1a08b7dd274198ac513209625d00c3",
       "placeholder": "​",
       "style": "IPY_MODEL_dd375de7d97345848b56bce60a0ab3a3",
       "value": "model.safetensors: 100%"
      }
     },
     "437dc7aee81746c1b7779a7d91844a9e": {
      "model_module": "@jupyter-widgets/base",
      "model_module_version": "1.2.0",
      "model_name": "LayoutModel",
      "state": {
       "_model_module": "@jupyter-widgets/base",
       "_model_module_version": "1.2.0",
       "_model_name": "LayoutModel",
       "_view_count": null,
       "_view_module": "@jupyter-widgets/base",
       "_view_module_version": "1.2.0",
       "_view_name": "LayoutView",
       "align_content": null,
       "align_items": null,
       "align_self": null,
       "border": null,
       "bottom": null,
       "display": null,
       "flex": null,
       "flex_flow": null,
       "grid_area": null,
       "grid_auto_columns": null,
       "grid_auto_flow": null,
       "grid_auto_rows": null,
       "grid_column": null,
       "grid_gap": null,
       "grid_row": null,
       "grid_template_areas": null,
       "grid_template_columns": null,
       "grid_template_rows": null,
       "height": null,
       "justify_content": null,
       "justify_items": null,
       "left": null,
       "margin": null,
       "max_height": null,
       "max_width": null,
       "min_height": null,
       "min_width": null,
       "object_fit": null,
       "object_position": null,
       "order": null,
       "overflow": null,
       "overflow_x": null,
       "overflow_y": null,
       "padding": null,
       "right": null,
       "top": null,
       "visibility": null,
       "width": null
      }
     },
     "5a21fe2752d84f65b09812ca6c6dd5b6": {
      "model_module": "@jupyter-widgets/controls",
      "model_module_version": "1.5.0",
      "model_name": "HTMLModel",
      "state": {
       "_dom_classes": [],
       "_model_module": "@jupyter-widgets/controls",
       "_model_module_version": "1.5.0",
       "_model_name": "HTMLModel",
       "_view_count": null,
       "_view_module": "@jupyter-widgets/controls",
       "_view_module_version": "1.5.0",
       "_view_name": "HTMLView",
       "description": "",
       "description_tooltip": null,
       "layout": "IPY_MODEL_f073811a888c4f79ae9ebc893208bce7",
       "placeholder": "​",
       "style": "IPY_MODEL_115427c2ca2c429b8e512514d0c1e73e",
       "value": "tokenizer_config.json: 100%"
      }
     },
     "66335965015c4f92b8adb9dc0e4c036e": {
      "model_module": "@jupyter-widgets/controls",
      "model_module_version": "1.5.0",
      "model_name": "HBoxModel",
      "state": {
       "_dom_classes": [],
       "_model_module": "@jupyter-widgets/controls",
       "_model_module_version": "1.5.0",
       "_model_name": "HBoxModel",
       "_view_count": null,
       "_view_module": "@jupyter-widgets/controls",
       "_view_module_version": "1.5.0",
       "_view_name": "HBoxView",
       "box_style": "",
       "children": [
        "IPY_MODEL_3a5c1a5e8faa455e9c40cf1ee7511817",
        "IPY_MODEL_c80526797a8543b287f8b5c2bcfbd15f",
        "IPY_MODEL_0d0b0f4dbab94d17b5fac084e6b4bb5a"
       ],
       "layout": "IPY_MODEL_f2199f973dc1442aa6eae973469b8386"
      }
     },
     "6b6ebdfb03684455ac5564ea0360c9c5": {
      "model_module": "@jupyter-widgets/controls",
      "model_module_version": "1.5.0",
      "model_name": "HBoxModel",
      "state": {
       "_dom_classes": [],
       "_model_module": "@jupyter-widgets/controls",
       "_model_module_version": "1.5.0",
       "_model_name": "HBoxModel",
       "_view_count": null,
       "_view_module": "@jupyter-widgets/controls",
       "_view_module_version": "1.5.0",
       "_view_name": "HBoxView",
       "box_style": "",
       "children": [
        "IPY_MODEL_d891b2c5b3fe40c5a950731bcffdce02",
        "IPY_MODEL_cb01f2f3948941158f7c4821f2e8e41f",
        "IPY_MODEL_e1d7417938b940aab01be715b1f8e589"
       ],
       "layout": "IPY_MODEL_ad4d2f5719ff467199d08f635bdac67d"
      }
     },
     "6fa77929686e48dbb462032d6e43d43f": {
      "model_module": "@jupyter-widgets/controls",
      "model_module_version": "1.5.0",
      "model_name": "HBoxModel",
      "state": {
       "_dom_classes": [],
       "_model_module": "@jupyter-widgets/controls",
       "_model_module_version": "1.5.0",
       "_model_name": "HBoxModel",
       "_view_count": null,
       "_view_module": "@jupyter-widgets/controls",
       "_view_module_version": "1.5.0",
       "_view_name": "HBoxView",
       "box_style": "",
       "children": [
        "IPY_MODEL_ad8619d81f064727b6547f49753d39b2",
        "IPY_MODEL_c429364ea72c444c8d3adcf9f2bff6a9",
        "IPY_MODEL_35c0f364a2d64b0c9605478a7a561a5c"
       ],
       "layout": "IPY_MODEL_437dc7aee81746c1b7779a7d91844a9e"
      }
     },
     "727cd9ede88d486782d5d0974ac0d550": {
      "model_module": "@jupyter-widgets/base",
      "model_module_version": "1.2.0",
      "model_name": "LayoutModel",
      "state": {
       "_model_module": "@jupyter-widgets/base",
       "_model_module_version": "1.2.0",
       "_model_name": "LayoutModel",
       "_view_count": null,
       "_view_module": "@jupyter-widgets/base",
       "_view_module_version": "1.2.0",
       "_view_name": "LayoutView",
       "align_content": null,
       "align_items": null,
       "align_self": null,
       "border": null,
       "bottom": null,
       "display": null,
       "flex": null,
       "flex_flow": null,
       "grid_area": null,
       "grid_auto_columns": null,
       "grid_auto_flow": null,
       "grid_auto_rows": null,
       "grid_column": null,
       "grid_gap": null,
       "grid_row": null,
       "grid_template_areas": null,
       "grid_template_columns": null,
       "grid_template_rows": null,
       "height": null,
       "justify_content": null,
       "justify_items": null,
       "left": null,
       "margin": null,
       "max_height": null,
       "max_width": null,
       "min_height": null,
       "min_width": null,
       "object_fit": null,
       "object_position": null,
       "order": null,
       "overflow": null,
       "overflow_x": null,
       "overflow_y": null,
       "padding": null,
       "right": null,
       "top": null,
       "visibility": null,
       "width": null
      }
     },
     "7377dfa015034ac19d02bf68f5b3304b": {
      "model_module": "@jupyter-widgets/controls",
      "model_module_version": "1.5.0",
      "model_name": "DescriptionStyleModel",
      "state": {
       "_model_module": "@jupyter-widgets/controls",
       "_model_module_version": "1.5.0",
       "_model_name": "DescriptionStyleModel",
       "_view_count": null,
       "_view_module": "@jupyter-widgets/base",
       "_view_module_version": "1.2.0",
       "_view_name": "StyleView",
       "description_width": ""
      }
     },
     "7883aa22bf9246b2b0fdff30b96ae6dc": {
      "model_module": "@jupyter-widgets/base",
      "model_module_version": "1.2.0",
      "model_name": "LayoutModel",
      "state": {
       "_model_module": "@jupyter-widgets/base",
       "_model_module_version": "1.2.0",
       "_model_name": "LayoutModel",
       "_view_count": null,
       "_view_module": "@jupyter-widgets/base",
       "_view_module_version": "1.2.0",
       "_view_name": "LayoutView",
       "align_content": null,
       "align_items": null,
       "align_self": null,
       "border": null,
       "bottom": null,
       "display": null,
       "flex": null,
       "flex_flow": null,
       "grid_area": null,
       "grid_auto_columns": null,
       "grid_auto_flow": null,
       "grid_auto_rows": null,
       "grid_column": null,
       "grid_gap": null,
       "grid_row": null,
       "grid_template_areas": null,
       "grid_template_columns": null,
       "grid_template_rows": null,
       "height": null,
       "justify_content": null,
       "justify_items": null,
       "left": null,
       "margin": null,
       "max_height": null,
       "max_width": null,
       "min_height": null,
       "min_width": null,
       "object_fit": null,
       "object_position": null,
       "order": null,
       "overflow": null,
       "overflow_x": null,
       "overflow_y": null,
       "padding": null,
       "right": null,
       "top": null,
       "visibility": null,
       "width": null
      }
     },
     "8efc7f6d8f5b44e3bc7db2b858a1bb10": {
      "model_module": "@jupyter-widgets/base",
      "model_module_version": "1.2.0",
      "model_name": "LayoutModel",
      "state": {
       "_model_module": "@jupyter-widgets/base",
       "_model_module_version": "1.2.0",
       "_model_name": "LayoutModel",
       "_view_count": null,
       "_view_module": "@jupyter-widgets/base",
       "_view_module_version": "1.2.0",
       "_view_name": "LayoutView",
       "align_content": null,
       "align_items": null,
       "align_self": null,
       "border": null,
       "bottom": null,
       "display": null,
       "flex": null,
       "flex_flow": null,
       "grid_area": null,
       "grid_auto_columns": null,
       "grid_auto_flow": null,
       "grid_auto_rows": null,
       "grid_column": null,
       "grid_gap": null,
       "grid_row": null,
       "grid_template_areas": null,
       "grid_template_columns": null,
       "grid_template_rows": null,
       "height": null,
       "justify_content": null,
       "justify_items": null,
       "left": null,
       "margin": null,
       "max_height": null,
       "max_width": null,
       "min_height": null,
       "min_width": null,
       "object_fit": null,
       "object_position": null,
       "order": null,
       "overflow": null,
       "overflow_x": null,
       "overflow_y": null,
       "padding": null,
       "right": null,
       "top": null,
       "visibility": null,
       "width": null
      }
     },
     "9aa96b35ac464380ba34c59c8fc5ea1c": {
      "model_module": "@jupyter-widgets/base",
      "model_module_version": "1.2.0",
      "model_name": "LayoutModel",
      "state": {
       "_model_module": "@jupyter-widgets/base",
       "_model_module_version": "1.2.0",
       "_model_name": "LayoutModel",
       "_view_count": null,
       "_view_module": "@jupyter-widgets/base",
       "_view_module_version": "1.2.0",
       "_view_name": "LayoutView",
       "align_content": null,
       "align_items": null,
       "align_self": null,
       "border": null,
       "bottom": null,
       "display": null,
       "flex": null,
       "flex_flow": null,
       "grid_area": null,
       "grid_auto_columns": null,
       "grid_auto_flow": null,
       "grid_auto_rows": null,
       "grid_column": null,
       "grid_gap": null,
       "grid_row": null,
       "grid_template_areas": null,
       "grid_template_columns": null,
       "grid_template_rows": null,
       "height": null,
       "justify_content": null,
       "justify_items": null,
       "left": null,
       "margin": null,
       "max_height": null,
       "max_width": null,
       "min_height": null,
       "min_width": null,
       "object_fit": null,
       "object_position": null,
       "order": null,
       "overflow": null,
       "overflow_x": null,
       "overflow_y": null,
       "padding": null,
       "right": null,
       "top": null,
       "visibility": null,
       "width": null
      }
     },
     "ab37e4695ca14328a2c53c7c6fa18007": {
      "model_module": "@jupyter-widgets/base",
      "model_module_version": "1.2.0",
      "model_name": "LayoutModel",
      "state": {
       "_model_module": "@jupyter-widgets/base",
       "_model_module_version": "1.2.0",
       "_model_name": "LayoutModel",
       "_view_count": null,
       "_view_module": "@jupyter-widgets/base",
       "_view_module_version": "1.2.0",
       "_view_name": "LayoutView",
       "align_content": null,
       "align_items": null,
       "align_self": null,
       "border": null,
       "bottom": null,
       "display": null,
       "flex": null,
       "flex_flow": null,
       "grid_area": null,
       "grid_auto_columns": null,
       "grid_auto_flow": null,
       "grid_auto_rows": null,
       "grid_column": null,
       "grid_gap": null,
       "grid_row": null,
       "grid_template_areas": null,
       "grid_template_columns": null,
       "grid_template_rows": null,
       "height": null,
       "justify_content": null,
       "justify_items": null,
       "left": null,
       "margin": null,
       "max_height": null,
       "max_width": null,
       "min_height": null,
       "min_width": null,
       "object_fit": null,
       "object_position": null,
       "order": null,
       "overflow": null,
       "overflow_x": null,
       "overflow_y": null,
       "padding": null,
       "right": null,
       "top": null,
       "visibility": null,
       "width": null
      }
     },
     "ac71311f79004dfc842440f81affcce8": {
      "model_module": "@jupyter-widgets/controls",
      "model_module_version": "1.5.0",
      "model_name": "DescriptionStyleModel",
      "state": {
       "_model_module": "@jupyter-widgets/controls",
       "_model_module_version": "1.5.0",
       "_model_name": "DescriptionStyleModel",
       "_view_count": null,
       "_view_module": "@jupyter-widgets/base",
       "_view_module_version": "1.2.0",
       "_view_name": "StyleView",
       "description_width": ""
      }
     },
     "ad4d2f5719ff467199d08f635bdac67d": {
      "model_module": "@jupyter-widgets/base",
      "model_module_version": "1.2.0",
      "model_name": "LayoutModel",
      "state": {
       "_model_module": "@jupyter-widgets/base",
       "_model_module_version": "1.2.0",
       "_model_name": "LayoutModel",
       "_view_count": null,
       "_view_module": "@jupyter-widgets/base",
       "_view_module_version": "1.2.0",
       "_view_name": "LayoutView",
       "align_content": null,
       "align_items": null,
       "align_self": null,
       "border": null,
       "bottom": null,
       "display": null,
       "flex": null,
       "flex_flow": null,
       "grid_area": null,
       "grid_auto_columns": null,
       "grid_auto_flow": null,
       "grid_auto_rows": null,
       "grid_column": null,
       "grid_gap": null,
       "grid_row": null,
       "grid_template_areas": null,
       "grid_template_columns": null,
       "grid_template_rows": null,
       "height": null,
       "justify_content": null,
       "justify_items": null,
       "left": null,
       "margin": null,
       "max_height": null,
       "max_width": null,
       "min_height": null,
       "min_width": null,
       "object_fit": null,
       "object_position": null,
       "order": null,
       "overflow": null,
       "overflow_x": null,
       "overflow_y": null,
       "padding": null,
       "right": null,
       "top": null,
       "visibility": null,
       "width": null
      }
     },
     "ad8619d81f064727b6547f49753d39b2": {
      "model_module": "@jupyter-widgets/controls",
      "model_module_version": "1.5.0",
      "model_name": "HTMLModel",
      "state": {
       "_dom_classes": [],
       "_model_module": "@jupyter-widgets/controls",
       "_model_module_version": "1.5.0",
       "_model_name": "HTMLModel",
       "_view_count": null,
       "_view_module": "@jupyter-widgets/controls",
       "_view_module_version": "1.5.0",
       "_view_name": "HTMLView",
       "description": "",
       "description_tooltip": null,
       "layout": "IPY_MODEL_12eae599048243488611979dd45a698e",
       "placeholder": "​",
       "style": "IPY_MODEL_c695d5cd908a477290fe2624072191f7",
       "value": "config.json: 100%"
      }
     },
     "b547c5de8c4745e4992a755c05a32466": {
      "model_module": "@jupyter-widgets/controls",
      "model_module_version": "1.5.0",
      "model_name": "ProgressStyleModel",
      "state": {
       "_model_module": "@jupyter-widgets/controls",
       "_model_module_version": "1.5.0",
       "_model_name": "ProgressStyleModel",
       "_view_count": null,
       "_view_module": "@jupyter-widgets/base",
       "_view_module_version": "1.2.0",
       "_view_name": "StyleView",
       "bar_color": null,
       "description_width": ""
      }
     },
     "c0a40fbef41b496da37de5bfcff7c3b3": {
      "model_module": "@jupyter-widgets/controls",
      "model_module_version": "1.5.0",
      "model_name": "ProgressStyleModel",
      "state": {
       "_model_module": "@jupyter-widgets/controls",
       "_model_module_version": "1.5.0",
       "_model_name": "ProgressStyleModel",
       "_view_count": null,
       "_view_module": "@jupyter-widgets/base",
       "_view_module_version": "1.2.0",
       "_view_name": "StyleView",
       "bar_color": null,
       "description_width": ""
      }
     },
     "c429364ea72c444c8d3adcf9f2bff6a9": {
      "model_module": "@jupyter-widgets/controls",
      "model_module_version": "1.5.0",
      "model_name": "FloatProgressModel",
      "state": {
       "_dom_classes": [],
       "_model_module": "@jupyter-widgets/controls",
       "_model_module_version": "1.5.0",
       "_model_name": "FloatProgressModel",
       "_view_count": null,
       "_view_module": "@jupyter-widgets/controls",
       "_view_module_version": "1.5.0",
       "_view_name": "ProgressView",
       "bar_style": "success",
       "description": "",
       "description_tooltip": null,
       "layout": "IPY_MODEL_ab37e4695ca14328a2c53c7c6fa18007",
       "max": 629.0,
       "min": 0.0,
       "orientation": "horizontal",
       "style": "IPY_MODEL_cbcce172431e45088487ffeca47f347b",
       "value": 629.0
      }
     },
     "c5737e81d5b64cd49a9fe5e28657abec": {
      "model_module": "@jupyter-widgets/base",
      "model_module_version": "1.2.0",
      "model_name": "LayoutModel",
      "state": {
       "_model_module": "@jupyter-widgets/base",
       "_model_module_version": "1.2.0",
       "_model_name": "LayoutModel",
       "_view_count": null,
       "_view_module": "@jupyter-widgets/base",
       "_view_module_version": "1.2.0",
       "_view_name": "LayoutView",
       "align_content": null,
       "align_items": null,
       "align_self": null,
       "border": null,
       "bottom": null,
       "display": null,
       "flex": null,
       "flex_flow": null,
       "grid_area": null,
       "grid_auto_columns": null,
       "grid_auto_flow": null,
       "grid_auto_rows": null,
       "grid_column": null,
       "grid_gap": null,
       "grid_row": null,
       "grid_template_areas": null,
       "grid_template_columns": null,
       "grid_template_rows": null,
       "height": null,
       "justify_content": null,
       "justify_items": null,
       "left": null,
       "margin": null,
       "max_height": null,
       "max_width": null,
       "min_height": null,
       "min_width": null,
       "object_fit": null,
       "object_position": null,
       "order": null,
       "overflow": null,
       "overflow_x": null,
       "overflow_y": null,
       "padding": null,
       "right": null,
       "top": null,
       "visibility": null,
       "width": null
      }
     },
     "c695d5cd908a477290fe2624072191f7": {
      "model_module": "@jupyter-widgets/controls",
      "model_module_version": "1.5.0",
      "model_name": "DescriptionStyleModel",
      "state": {
       "_model_module": "@jupyter-widgets/controls",
       "_model_module_version": "1.5.0",
       "_model_name": "DescriptionStyleModel",
       "_view_count": null,
       "_view_module": "@jupyter-widgets/base",
       "_view_module_version": "1.2.0",
       "_view_name": "StyleView",
       "description_width": ""
      }
     },
     "c80526797a8543b287f8b5c2bcfbd15f": {
      "model_module": "@jupyter-widgets/controls",
      "model_module_version": "1.5.0",
      "model_name": "FloatProgressModel",
      "state": {
       "_dom_classes": [],
       "_model_module": "@jupyter-widgets/controls",
       "_model_module_version": "1.5.0",
       "_model_name": "FloatProgressModel",
       "_view_count": null,
       "_view_module": "@jupyter-widgets/controls",
       "_view_module_version": "1.5.0",
       "_view_name": "ProgressView",
       "bar_style": "success",
       "description": "",
       "description_tooltip": null,
       "layout": "IPY_MODEL_10e7aea34a174770885c6aff886dcf61",
       "max": 267832558.0,
       "min": 0.0,
       "orientation": "horizontal",
       "style": "IPY_MODEL_c0a40fbef41b496da37de5bfcff7c3b3",
       "value": 267832558.0
      }
     },
     "c9a109e7aea74097817e2280498624f0": {
      "model_module": "@jupyter-widgets/controls",
      "model_module_version": "1.5.0",
      "model_name": "HTMLModel",
      "state": {
       "_dom_classes": [],
       "_model_module": "@jupyter-widgets/controls",
       "_model_module_version": "1.5.0",
       "_model_name": "HTMLModel",
       "_view_count": null,
       "_view_module": "@jupyter-widgets/controls",
       "_view_module_version": "1.5.0",
       "_view_name": "HTMLView",
       "description": "",
       "description_tooltip": null,
       "layout": "IPY_MODEL_9aa96b35ac464380ba34c59c8fc5ea1c",
       "placeholder": "​",
       "style": "IPY_MODEL_7377dfa015034ac19d02bf68f5b3304b",
       "value": " 48.0/48.0 [00:00&lt;00:00, 3.42kB/s]"
      }
     },
     "cb01f2f3948941158f7c4821f2e8e41f": {
      "model_module": "@jupyter-widgets/controls",
      "model_module_version": "1.5.0",
      "model_name": "FloatProgressModel",
      "state": {
       "_dom_classes": [],
       "_model_module": "@jupyter-widgets/controls",
       "_model_module_version": "1.5.0",
       "_model_name": "FloatProgressModel",
       "_view_count": null,
       "_view_module": "@jupyter-widgets/controls",
       "_view_module_version": "1.5.0",
       "_view_name": "ProgressView",
       "bar_style": "success",
       "description": "",
       "description_tooltip": null,
       "layout": "IPY_MODEL_0629a38c7e674e62a4b03be6f578f503",
       "max": 231508.0,
       "min": 0.0,
       "orientation": "horizontal",
       "style": "IPY_MODEL_b547c5de8c4745e4992a755c05a32466",
       "value": 231508.0
      }
     },
     "cbcce172431e45088487ffeca47f347b": {
      "model_module": "@jupyter-widgets/controls",
      "model_module_version": "1.5.0",
      "model_name": "ProgressStyleModel",
      "state": {
       "_model_module": "@jupyter-widgets/controls",
       "_model_module_version": "1.5.0",
       "_model_name": "ProgressStyleModel",
       "_view_count": null,
       "_view_module": "@jupyter-widgets/base",
       "_view_module_version": "1.2.0",
       "_view_name": "StyleView",
       "bar_color": null,
       "description_width": ""
      }
     },
     "d20e57916a4d4cbdb48c8ad269a79a54": {
      "model_module": "@jupyter-widgets/controls",
      "model_module_version": "1.5.0",
      "model_name": "DescriptionStyleModel",
      "state": {
       "_model_module": "@jupyter-widgets/controls",
       "_model_module_version": "1.5.0",
       "_model_name": "DescriptionStyleModel",
       "_view_count": null,
       "_view_module": "@jupyter-widgets/base",
       "_view_module_version": "1.2.0",
       "_view_name": "StyleView",
       "description_width": ""
      }
     },
     "d891b2c5b3fe40c5a950731bcffdce02": {
      "model_module": "@jupyter-widgets/controls",
      "model_module_version": "1.5.0",
      "model_name": "HTMLModel",
      "state": {
       "_dom_classes": [],
       "_model_module": "@jupyter-widgets/controls",
       "_model_module_version": "1.5.0",
       "_model_name": "HTMLModel",
       "_view_count": null,
       "_view_module": "@jupyter-widgets/controls",
       "_view_module_version": "1.5.0",
       "_view_name": "HTMLView",
       "description": "",
       "description_tooltip": null,
       "layout": "IPY_MODEL_c5737e81d5b64cd49a9fe5e28657abec",
       "placeholder": "​",
       "style": "IPY_MODEL_d20e57916a4d4cbdb48c8ad269a79a54",
       "value": "vocab.txt: 100%"
      }
     },
     "d8de22eb33444fef82ec1dc85fc07035": {
      "model_module": "@jupyter-widgets/controls",
      "model_module_version": "1.5.0",
      "model_name": "HBoxModel",
      "state": {
       "_dom_classes": [],
       "_model_module": "@jupyter-widgets/controls",
       "_model_module_version": "1.5.0",
       "_model_name": "HBoxModel",
       "_view_count": null,
       "_view_module": "@jupyter-widgets/controls",
       "_view_module_version": "1.5.0",
       "_view_name": "HBoxView",
       "box_style": "",
       "children": [
        "IPY_MODEL_5a21fe2752d84f65b09812ca6c6dd5b6",
        "IPY_MODEL_0628abf596a944fca500ea3964fe72a9",
        "IPY_MODEL_c9a109e7aea74097817e2280498624f0"
       ],
       "layout": "IPY_MODEL_8efc7f6d8f5b44e3bc7db2b858a1bb10"
      }
     },
     "dd375de7d97345848b56bce60a0ab3a3": {
      "model_module": "@jupyter-widgets/controls",
      "model_module_version": "1.5.0",
      "model_name": "DescriptionStyleModel",
      "state": {
       "_model_module": "@jupyter-widgets/controls",
       "_model_module_version": "1.5.0",
       "_model_name": "DescriptionStyleModel",
       "_view_count": null,
       "_view_module": "@jupyter-widgets/base",
       "_view_module_version": "1.2.0",
       "_view_name": "StyleView",
       "description_width": ""
      }
     },
     "e0f83cce09034dceac99993b430b26ba": {
      "model_module": "@jupyter-widgets/controls",
      "model_module_version": "1.5.0",
      "model_name": "DescriptionStyleModel",
      "state": {
       "_model_module": "@jupyter-widgets/controls",
       "_model_module_version": "1.5.0",
       "_model_name": "DescriptionStyleModel",
       "_view_count": null,
       "_view_module": "@jupyter-widgets/base",
       "_view_module_version": "1.2.0",
       "_view_name": "StyleView",
       "description_width": ""
      }
     },
     "e1d7417938b940aab01be715b1f8e589": {
      "model_module": "@jupyter-widgets/controls",
      "model_module_version": "1.5.0",
      "model_name": "HTMLModel",
      "state": {
       "_dom_classes": [],
       "_model_module": "@jupyter-widgets/controls",
       "_model_module_version": "1.5.0",
       "_model_name": "HTMLModel",
       "_view_count": null,
       "_view_module": "@jupyter-widgets/controls",
       "_view_module_version": "1.5.0",
       "_view_name": "HTMLView",
       "description": "",
       "description_tooltip": null,
       "layout": "IPY_MODEL_7883aa22bf9246b2b0fdff30b96ae6dc",
       "placeholder": "​",
       "style": "IPY_MODEL_e0f83cce09034dceac99993b430b26ba",
       "value": " 232k/232k [00:00&lt;00:00, 3.33MB/s]"
      }
     },
     "e802cc3be17d4fec83acc5d9956b4d50": {
      "model_module": "@jupyter-widgets/controls",
      "model_module_version": "1.5.0",
      "model_name": "DescriptionStyleModel",
      "state": {
       "_model_module": "@jupyter-widgets/controls",
       "_model_module_version": "1.5.0",
       "_model_name": "DescriptionStyleModel",
       "_view_count": null,
       "_view_module": "@jupyter-widgets/base",
       "_view_module_version": "1.2.0",
       "_view_name": "StyleView",
       "description_width": ""
      }
     },
     "f073811a888c4f79ae9ebc893208bce7": {
      "model_module": "@jupyter-widgets/base",
      "model_module_version": "1.2.0",
      "model_name": "LayoutModel",
      "state": {
       "_model_module": "@jupyter-widgets/base",
       "_model_module_version": "1.2.0",
       "_model_name": "LayoutModel",
       "_view_count": null,
       "_view_module": "@jupyter-widgets/base",
       "_view_module_version": "1.2.0",
       "_view_name": "LayoutView",
       "align_content": null,
       "align_items": null,
       "align_self": null,
       "border": null,
       "bottom": null,
       "display": null,
       "flex": null,
       "flex_flow": null,
       "grid_area": null,
       "grid_auto_columns": null,
       "grid_auto_flow": null,
       "grid_auto_rows": null,
       "grid_column": null,
       "grid_gap": null,
       "grid_row": null,
       "grid_template_areas": null,
       "grid_template_columns": null,
       "grid_template_rows": null,
       "height": null,
       "justify_content": null,
       "justify_items": null,
       "left": null,
       "margin": null,
       "max_height": null,
       "max_width": null,
       "min_height": null,
       "min_width": null,
       "object_fit": null,
       "object_position": null,
       "order": null,
       "overflow": null,
       "overflow_x": null,
       "overflow_y": null,
       "padding": null,
       "right": null,
       "top": null,
       "visibility": null,
       "width": null
      }
     },
     "f146abdfa97744a384e310a39816959b": {
      "model_module": "@jupyter-widgets/controls",
      "model_module_version": "1.5.0",
      "model_name": "ProgressStyleModel",
      "state": {
       "_model_module": "@jupyter-widgets/controls",
       "_model_module_version": "1.5.0",
       "_model_name": "ProgressStyleModel",
       "_view_count": null,
       "_view_module": "@jupyter-widgets/base",
       "_view_module_version": "1.2.0",
       "_view_name": "StyleView",
       "bar_color": null,
       "description_width": ""
      }
     },
     "f2199f973dc1442aa6eae973469b8386": {
      "model_module": "@jupyter-widgets/base",
      "model_module_version": "1.2.0",
      "model_name": "LayoutModel",
      "state": {
       "_model_module": "@jupyter-widgets/base",
       "_model_module_version": "1.2.0",
       "_model_name": "LayoutModel",
       "_view_count": null,
       "_view_module": "@jupyter-widgets/base",
       "_view_module_version": "1.2.0",
       "_view_name": "LayoutView",
       "align_content": null,
       "align_items": null,
       "align_self": null,
       "border": null,
       "bottom": null,
       "display": null,
       "flex": null,
       "flex_flow": null,
       "grid_area": null,
       "grid_auto_columns": null,
       "grid_auto_flow": null,
       "grid_auto_rows": null,
       "grid_column": null,
       "grid_gap": null,
       "grid_row": null,
       "grid_template_areas": null,
       "grid_template_columns": null,
       "grid_template_rows": null,
       "height": null,
       "justify_content": null,
       "justify_items": null,
       "left": null,
       "margin": null,
       "max_height": null,
       "max_width": null,
       "min_height": null,
       "min_width": null,
       "object_fit": null,
       "object_position": null,
       "order": null,
       "overflow": null,
       "overflow_x": null,
       "overflow_y": null,
       "padding": null,
       "right": null,
       "top": null,
       "visibility": null,
       "width": null
      }
     },
     "fa24b2f804784dedb89265008c592165": {
      "model_module": "@jupyter-widgets/base",
      "model_module_version": "1.2.0",
      "model_name": "LayoutModel",
      "state": {
       "_model_module": "@jupyter-widgets/base",
       "_model_module_version": "1.2.0",
       "_model_name": "LayoutModel",
       "_view_count": null,
       "_view_module": "@jupyter-widgets/base",
       "_view_module_version": "1.2.0",
       "_view_name": "LayoutView",
       "align_content": null,
       "align_items": null,
       "align_self": null,
       "border": null,
       "bottom": null,
       "display": null,
       "flex": null,
       "flex_flow": null,
       "grid_area": null,
       "grid_auto_columns": null,
       "grid_auto_flow": null,
       "grid_auto_rows": null,
       "grid_column": null,
       "grid_gap": null,
       "grid_row": null,
       "grid_template_areas": null,
       "grid_template_columns": null,
       "grid_template_rows": null,
       "height": null,
       "justify_content": null,
       "justify_items": null,
       "left": null,
       "margin": null,
       "max_height": null,
       "max_width": null,
       "min_height": null,
       "min_width": null,
       "object_fit": null,
       "object_position": null,
       "order": null,
       "overflow": null,
       "overflow_x": null,
       "overflow_y": null,
       "padding": null,
       "right": null,
       "top": null,
       "visibility": null,
       "width": null
      }
     }
    },
    "version_major": 2,
    "version_minor": 0
   }
  }
 },
 "nbformat": 4,
 "nbformat_minor": 5
}
