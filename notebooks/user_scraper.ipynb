{
 "cells": [
  {
   "cell_type": "markdown",
   "id": "0690afc3",
   "metadata": {
    "papermill": {
     "duration": 0.008299,
     "end_time": "2024-08-27T23:11:25.197541",
     "exception": false,
     "start_time": "2024-08-27T23:11:25.189242",
     "status": "completed"
    },
    "tags": []
   },
   "source": [
    "# 1. Setting Up the Environment\n",
    "\n",
    "## 1.1. Install dependencies:\n",
    "This command updates the system's package list and installs various libraries required for running Chrome and Selenium."
   ]
  },
  {
   "cell_type": "code",
   "execution_count": 1,
   "id": "0e6b8229",
   "metadata": {
    "execution": {
     "iopub.execute_input": "2024-08-27T23:11:25.215147Z",
     "iopub.status.busy": "2024-08-27T23:11:25.214709Z",
     "iopub.status.idle": "2024-08-27T23:11:51.829858Z",
     "shell.execute_reply": "2024-08-27T23:11:51.828481Z"
    },
    "papermill": {
     "duration": 26.627191,
     "end_time": "2024-08-27T23:11:51.832780",
     "exception": false,
     "start_time": "2024-08-27T23:11:25.205589",
     "status": "completed"
    },
    "tags": []
   },
   "outputs": [
    {
     "name": "stdout",
     "output_type": "stream",
     "text": [
      "Get:1 http://packages.cloud.google.com/apt gcsfuse-focal InRelease [1227 B]\r\n",
      "Get:2 https://packages.cloud.google.com/apt cloud-sdk InRelease [1618 B]\r\n",
      "Get:3 http://security.ubuntu.com/ubuntu focal-security InRelease [128 kB]\r\n",
      "Hit:4 http://archive.ubuntu.com/ubuntu focal InRelease\r\n",
      "Get:5 http://archive.ubuntu.com/ubuntu focal-updates InRelease [128 kB]\r\n",
      "Get:6 https://packages.cloud.google.com/apt cloud-sdk/main all Packages [1511 kB]\r\n",
      "Get:7 https://packages.cloud.google.com/apt cloud-sdk/main amd64 Packages [3214 kB]\r\n",
      "Get:8 http://security.ubuntu.com/ubuntu focal-security/restricted amd64 Packages [3926 kB]\r\n",
      "Get:9 http://archive.ubuntu.com/ubuntu focal-backports InRelease [128 kB]\r\n",
      "Get:10 http://archive.ubuntu.com/ubuntu focal-updates/main amd64 Packages [4398 kB]\r\n",
      "Get:11 http://security.ubuntu.com/ubuntu focal-security/main amd64 Packages [3933 kB]\r\n",
      "Get:12 http://archive.ubuntu.com/ubuntu focal-updates/multiverse amd64 Packages [33.5 kB]\r\n",
      "Get:13 http://archive.ubuntu.com/ubuntu focal-updates/universe amd64 Packages [1545 kB]\r\n",
      "Get:14 http://archive.ubuntu.com/ubuntu focal-updates/restricted amd64 Packages [4077 kB]\r\n",
      "Get:15 http://security.ubuntu.com/ubuntu focal-security/universe amd64 Packages [1258 kB]\r\n",
      "Get:16 http://security.ubuntu.com/ubuntu focal-security/multiverse amd64 Packages [30.9 kB]\r\n",
      "\r\n",
      "E: Repository 'http://packages.cloud.google.com/apt gcsfuse-focal InRelease' changed its 'Origin' value from 'namespaces/gcs-fuse-prod/repositories/gcsfuse-focal' to 'gcsfuse-focal'\r\n",
      "E: Repository 'http://packages.cloud.google.com/apt gcsfuse-focal InRelease' changed its 'Label' value from 'namespaces/gcs-fuse-prod/repositories/gcsfuse-focal' to 'gcsfuse-focal'\r\n",
      "N: This must be accepted explicitly before updates for this repository can be applied. See apt-secure(8) manpage for details.\r\n",
      "\r\n",
      "\r\n",
      "\r\n",
      "libfontconfig1 is already the newest version (2.13.1-2ubuntu3).\r\n",
      "libvulkan1 is already the newest version (1.2.131.2-1).\r\n",
      "libvulkan1 set to manually installed.\r\n",
      "The following additional packages will be installed:\r\n",
      "  gconf-service gconf-service-backend libglib2.0-bin libudev1\r\n",
      "Recommended packages:\r\n",
      "  xdg-user-dirs\r\n",
      "The following NEW packages will be installed:\r\n",
      "  gconf-service gconf-service-backend gconf2-common libdbus-glib-1-2 libgbm1\r\n",
      "  libgconf-2-4 libu2f-udev libwayland-server0 udev\r\n",
      "The following packages will be upgraded:\r\n",
      "  libglib2.0-0 libglib2.0-bin libnss3 libudev1\r\n",
      "4 upgraded, 9 newly installed, 0 to remove and 128 not upgraded.\r\n",
      "Need to get 5180 kB of archives.\r\n",
      "After this operation, 18.4 MB of additional disk space will be used.\r\n",
      "Get:1 http://archive.ubuntu.com/ubuntu focal-updates/main amd64 libudev1 amd64 245.4-4ubuntu3.23 [75.6 kB]\r\n",
      "Get:2 http://archive.ubuntu.com/ubuntu focal-updates/main amd64 libglib2.0-bin amd64 2.64.6-1~ubuntu20.04.7 [72.8 kB]\r\n",
      "Get:3 http://archive.ubuntu.com/ubuntu focal-updates/main amd64 libglib2.0-0 amd64 2.64.6-1~ubuntu20.04.7 [1289 kB]\r\n",
      "Get:4 http://archive.ubuntu.com/ubuntu focal-updates/main amd64 udev amd64 245.4-4ubuntu3.23 [1366 kB]\r\n",
      "Get:5 http://archive.ubuntu.com/ubuntu focal/main amd64 libdbus-glib-1-2 amd64 0.110-5fakssync1 [59.1 kB]\r\n",
      "Get:6 http://archive.ubuntu.com/ubuntu focal/universe amd64 gconf2-common all 3.2.6-6ubuntu1 [698 kB]\r\n",
      "Get:7 http://archive.ubuntu.com/ubuntu focal/universe amd64 libgconf-2-4 amd64 3.2.6-6ubuntu1 [84.8 kB]\r\n",
      "Get:8 http://archive.ubuntu.com/ubuntu focal/universe amd64 gconf-service-backend amd64 3.2.6-6ubuntu1 [58.6 kB]\r\n",
      "Get:9 http://archive.ubuntu.com/ubuntu focal/universe amd64 gconf-service amd64 3.2.6-6ubuntu1 [17.4 kB]\r\n",
      "Get:10 http://archive.ubuntu.com/ubuntu focal-updates/main amd64 libwayland-server0 amd64 1.18.0-1ubuntu0.1 [31.3 kB]\r\n",
      "Get:11 http://archive.ubuntu.com/ubuntu focal-updates/main amd64 libgbm1 amd64 21.2.6-0ubuntu0.1~20.04.2 [29.2 kB]\r\n",
      "Get:12 http://archive.ubuntu.com/ubuntu focal-updates/main amd64 libnss3 amd64 2:3.98-0ubuntu0.20.04.2 [1391 kB]\r\n",
      "Get:13 http://archive.ubuntu.com/ubuntu focal/main amd64 libu2f-udev all 1.1.10-1 [6108 B]\r\n",
      "Fetched 5180 kB in 3s (1969 kB/s)\r\n",
      "(Reading database ... 108782 files and directories currently installed.)\r\n",
      "Preparing to unpack .../libudev1_245.4-4ubuntu3.23_amd64.deb ...\r\n",
      "Unpacking libudev1:amd64 (245.4-4ubuntu3.23) over (245.4-4ubuntu3.22) ...\r\n",
      "Setting up libudev1:amd64 (245.4-4ubuntu3.23) ...\r\n",
      "(Reading database ... 108782 files and directories currently installed.)\r\n",
      "Preparing to unpack .../00-libglib2.0-bin_2.64.6-1~ubuntu20.04.7_amd64.deb ...\r\n",
      "Unpacking libglib2.0-bin (2.64.6-1~ubuntu20.04.7) over (2.64.6-1~ubuntu20.04.6) ...\r\n",
      "Preparing to unpack .../01-libglib2.0-0_2.64.6-1~ubuntu20.04.7_amd64.deb ...\r\n",
      "Unpacking libglib2.0-0:amd64 (2.64.6-1~ubuntu20.04.7) over (2.64.6-1~ubuntu20.04.6) ...\r\n",
      "Selecting previously unselected package udev.\r\n",
      "Preparing to unpack .../02-udev_245.4-4ubuntu3.23_amd64.deb ...\r\n",
      "Unpacking udev (245.4-4ubuntu3.23) ...\r\n",
      "Selecting previously unselected package libdbus-glib-1-2:amd64.\r\n",
      "Preparing to unpack .../03-libdbus-glib-1-2_0.110-5fakssync1_amd64.deb ...\r\n",
      "Unpacking libdbus-glib-1-2:amd64 (0.110-5fakssync1) ...\r\n",
      "Selecting previously unselected package gconf2-common.\r\n",
      "Preparing to unpack .../04-gconf2-common_3.2.6-6ubuntu1_all.deb ...\r\n",
      "Unpacking gconf2-common (3.2.6-6ubuntu1) ...\r\n",
      "Selecting previously unselected package libgconf-2-4:amd64.\r\n",
      "Preparing to unpack .../05-libgconf-2-4_3.2.6-6ubuntu1_amd64.deb ...\r\n",
      "Unpacking libgconf-2-4:amd64 (3.2.6-6ubuntu1) ...\r\n",
      "Selecting previously unselected package gconf-service-backend.\r\n",
      "Preparing to unpack .../06-gconf-service-backend_3.2.6-6ubuntu1_amd64.deb ...\r\n",
      "Unpacking gconf-service-backend (3.2.6-6ubuntu1) ...\r\n",
      "Selecting previously unselected package gconf-service.\r\n",
      "Preparing to unpack .../07-gconf-service_3.2.6-6ubuntu1_amd64.deb ...\r\n",
      "Unpacking gconf-service (3.2.6-6ubuntu1) ...\r\n",
      "Selecting previously unselected package libwayland-server0:amd64.\r\n",
      "Preparing to unpack .../08-libwayland-server0_1.18.0-1ubuntu0.1_amd64.deb ...\r\n",
      "Unpacking libwayland-server0:amd64 (1.18.0-1ubuntu0.1) ...\r\n",
      "Selecting previously unselected package libgbm1:amd64.\r\n",
      "Preparing to unpack .../09-libgbm1_21.2.6-0ubuntu0.1~20.04.2_amd64.deb ...\r\n",
      "Unpacking libgbm1:amd64 (21.2.6-0ubuntu0.1~20.04.2) ...\r\n",
      "Preparing to unpack .../10-libnss3_2%3a3.98-0ubuntu0.20.04.2_amd64.deb ...\r\n",
      "Unpacking libnss3:amd64 (2:3.98-0ubuntu0.20.04.2) over (2:3.49.1-1ubuntu1.9) ...\r\n",
      "Selecting previously unselected package libu2f-udev.\r\n",
      "Preparing to unpack .../11-libu2f-udev_1.1.10-1_all.deb ...\r\n",
      "Unpacking libu2f-udev (1.1.10-1) ...\r\n",
      "Setting up libwayland-server0:amd64 (1.18.0-1ubuntu0.1) ...\r\n",
      "Setting up libgbm1:amd64 (21.2.6-0ubuntu0.1~20.04.2) ...\r\n",
      "Setting up libglib2.0-0:amd64 (2.64.6-1~ubuntu20.04.7) ...\r\n",
      "Setting up libglib2.0-bin (2.64.6-1~ubuntu20.04.7) ...\r\n",
      "Setting up libnss3:amd64 (2:3.98-0ubuntu0.20.04.2) ...\r\n",
      "Setting up gconf2-common (3.2.6-6ubuntu1) ...\r\n",
      "\r\n",
      "Creating config file /etc/gconf/2/path with new version\r\n",
      "Setting up libdbus-glib-1-2:amd64 (0.110-5fakssync1) ...\r\n",
      "Setting up udev (245.4-4ubuntu3.23) ...\r\n",
      "invoke-rc.d: could not determine current runlevel\r\n",
      "invoke-rc.d: policy-rc.d denied execution of start.\r\n",
      "Setting up libgconf-2-4:amd64 (3.2.6-6ubuntu1) ...\r\n",
      "Setting up libu2f-udev (1.1.10-1) ...\r\n",
      "Failed to send reload request: No such file or directory\r\n",
      "Setting up gconf-service (3.2.6-6ubuntu1) ...\r\n",
      "Setting up gconf-service-backend (3.2.6-6ubuntu1) ...\r\n",
      "Processing triggers for libc-bin (2.31-0ubuntu9.9) ...\r\n",
      "Processing triggers for systemd (245.4-4ubuntu3.22) ...\r\n",
      "Processing triggers for man-db (2.9.1-1) ...\r\n",
      "\r\n",
      "\r\n",
      "\r\n",
      "0 upgraded, 0 newly installed, 0 to remove and 128 not upgraded.\r\n"
     ]
    }
   ],
   "source": [
    "!apt-get update -y\n",
    "!apt-get install -y \\\n",
    "libglib2.0-0 \\\n",
    "libnss3 \\\n",
    "libdbus-glib-1-2 \\\n",
    "libgconf-2-4 \\\n",
    "libfontconfig1 \\\n",
    "libvulkan1 \\\n",
    "gconf2-common \\\n",
    "libwayland-server0 \\\n",
    "libgbm1 \\\n",
    "udev \\\n",
    "libu2f-udev \n",
    "!apt --fix-broken install -y  "
   ]
  },
  {
   "cell_type": "markdown",
   "id": "6ec2f04c",
   "metadata": {
    "papermill": {
     "duration": 0.022453,
     "end_time": "2024-08-27T23:11:51.876239",
     "exception": false,
     "start_time": "2024-08-27T23:11:51.853786",
     "status": "completed"
    },
    "tags": []
   },
   "source": [
    "## 1.2. Download and extract Chrome:\n",
    "\n",
    "To use Selenium, you will need to download and install Chrome and Chromedriver.\n",
    "\n",
    "* **Chrome**: Chrome is a popular web browser that is known for its speed and security.\n",
    "* **Chromedriver**: Chromedriver is a tool that allows Selenium to interact with Chrome.\n",
    "\n",
    "Downloads the latest stable version of Chrome for Linux and extracts it to the /usr/bin directory."
   ]
  },
  {
   "cell_type": "code",
   "execution_count": 2,
   "id": "54315238",
   "metadata": {
    "execution": {
     "iopub.execute_input": "2024-08-27T23:11:51.920257Z",
     "iopub.status.busy": "2024-08-27T23:11:51.919815Z",
     "iopub.status.idle": "2024-08-27T23:12:03.962102Z",
     "shell.execute_reply": "2024-08-27T23:12:03.960668Z"
    },
    "papermill": {
     "duration": 12.067751,
     "end_time": "2024-08-27T23:12:03.965017",
     "exception": false,
     "start_time": "2024-08-27T23:11:51.897266",
     "status": "completed"
    },
    "tags": []
   },
   "outputs": [
    {
     "name": "stdout",
     "output_type": "stream",
     "text": [
      "--2024-08-27 23:11:52--  https://edgedl.me.gvt1.com/edgedl/chrome/chrome-for-testing/116.0.5845.96/linux64/chrome-linux64.zip\r\n",
      "Resolving edgedl.me.gvt1.com (edgedl.me.gvt1.com)... 34.104.35.123, 2600:1900:4110:86f::\r\n",
      "Connecting to edgedl.me.gvt1.com (edgedl.me.gvt1.com)|34.104.35.123|:443... connected.\r\n",
      "HTTP request sent, awaiting response... 302 Found\r\n",
      "Location: https://storage.googleapis.com/chrome-for-testing-public/116.0.5845.96/linux64/chrome-linux64.zip [following]\r\n",
      "--2024-08-27 23:11:53--  https://storage.googleapis.com/chrome-for-testing-public/116.0.5845.96/linux64/chrome-linux64.zip\r\n",
      "Resolving storage.googleapis.com (storage.googleapis.com)... 142.251.170.207, 74.125.203.207, 142.251.8.207, ...\r\n",
      "Connecting to storage.googleapis.com (storage.googleapis.com)|142.251.170.207|:443... connected.\r\n",
      "HTTP request sent, awaiting response... 200 OK\r\n",
      "Length: 145898081 (139M) [application/zip]\r\n",
      "Saving to: '/tmp/chrome-linux64.zip'\r\n",
      "\r\n",
      "chrome-linux64.zip  100%[===================>] 139.14M  31.3MB/s    in 5.3s    \r\n",
      "\r\n",
      "2024-08-27 23:11:58 (26.3 MB/s) - '/tmp/chrome-linux64.zip' saved [145898081/145898081]\r\n",
      "\r\n",
      "Archive:  /tmp/chrome-linux64.zip\r\n",
      "  inflating: /usr/bin/chrome-linux64/MEIPreload/manifest.json  \r\n",
      "  inflating: /usr/bin/chrome-linux64/MEIPreload/preloaded_data.pb  \r\n",
      "  inflating: /usr/bin/chrome-linux64/chrome  \r\n",
      "  inflating: /usr/bin/chrome-linux64/chrome-wrapper  \r\n",
      "  inflating: /usr/bin/chrome-linux64/chrome_100_percent.pak  \r\n",
      "  inflating: /usr/bin/chrome-linux64/chrome_200_percent.pak  \r\n",
      "  inflating: /usr/bin/chrome-linux64/chrome_crashpad_handler  \r\n",
      "  inflating: /usr/bin/chrome-linux64/chrome_sandbox  \r\n",
      "  inflating: /usr/bin/chrome-linux64/icudtl.dat  \r\n",
      "  inflating: /usr/bin/chrome-linux64/libEGL.so  \r\n",
      "  inflating: /usr/bin/chrome-linux64/libGLESv2.so  \r\n",
      "  inflating: /usr/bin/chrome-linux64/libvk_swiftshader.so  \r\n",
      "  inflating: /usr/bin/chrome-linux64/libvulkan.so.1  \r\n",
      "  inflating: /usr/bin/chrome-linux64/nacl_helper  \r\n",
      "  inflating: /usr/bin/chrome-linux64/nacl_helper_bootstrap  \r\n",
      "  inflating: /usr/bin/chrome-linux64/nacl_irt_x86_64.nexe  \r\n",
      " extracting: /usr/bin/chrome-linux64/product_logo_48.png  \r\n",
      "  inflating: /usr/bin/chrome-linux64/resources.pak  \r\n",
      "  inflating: /usr/bin/chrome-linux64/v8_context_snapshot.bin  \r\n",
      "  inflating: /usr/bin/chrome-linux64/vk_swiftshader_icd.json  \r\n",
      "  inflating: /usr/bin/chrome-linux64/xdg-mime  \r\n",
      "  inflating: /usr/bin/chrome-linux64/xdg-settings  \r\n",
      "   creating: /usr/bin/chrome-linux64/locales/\r\n",
      "  inflating: /usr/bin/chrome-linux64/locales/fr.pak.info  \r\n",
      "  inflating: /usr/bin/chrome-linux64/locales/ur.pak.info  \r\n",
      "  inflating: /usr/bin/chrome-linux64/locales/sw.pak  \r\n",
      "  inflating: /usr/bin/chrome-linux64/locales/ar.pak  \r\n",
      "  inflating: /usr/bin/chrome-linux64/locales/sk.pak.info  \r\n",
      "  inflating: /usr/bin/chrome-linux64/locales/hu.pak.info  \r\n",
      "  inflating: /usr/bin/chrome-linux64/locales/ms.pak  \r\n",
      "  inflating: /usr/bin/chrome-linux64/locales/vi.pak.info  \r\n",
      "  inflating: /usr/bin/chrome-linux64/locales/es.pak  \r\n",
      "  inflating: /usr/bin/chrome-linux64/locales/he.pak.info  \r\n",
      "  inflating: /usr/bin/chrome-linux64/locales/hr.pak  \r\n",
      "  inflating: /usr/bin/chrome-linux64/locales/en-GB.pak  \r\n",
      "  inflating: /usr/bin/chrome-linux64/locales/zh-CN.pak  \r\n",
      "  inflating: /usr/bin/chrome-linux64/locales/pt-BR.pak.info  \r\n",
      "  inflating: /usr/bin/chrome-linux64/locales/en-US.pak.info  \r\n",
      "  inflating: /usr/bin/chrome-linux64/locales/de.pak.info  \r\n",
      "  inflating: /usr/bin/chrome-linux64/locales/af.pak.info  \r\n",
      "  inflating: /usr/bin/chrome-linux64/locales/fil.pak  \r\n",
      "  inflating: /usr/bin/chrome-linux64/locales/el.pak  \r\n",
      "  inflating: /usr/bin/chrome-linux64/locales/bg.pak  \r\n",
      "  inflating: /usr/bin/chrome-linux64/locales/fa.pak  \r\n",
      "  inflating: /usr/bin/chrome-linux64/locales/uk.pak  \r\n",
      "  inflating: /usr/bin/chrome-linux64/locales/kn.pak  \r\n",
      "  inflating: /usr/bin/chrome-linux64/locales/en-GB.pak.info  \r\n",
      "  inflating: /usr/bin/chrome-linux64/locales/sl.pak  \r\n",
      "  inflating: /usr/bin/chrome-linux64/locales/sv.pak.info  \r\n",
      "  inflating: /usr/bin/chrome-linux64/locales/ko.pak  \r\n",
      "  inflating: /usr/bin/chrome-linux64/locales/nb.pak  \r\n",
      "  inflating: /usr/bin/chrome-linux64/locales/tr.pak  \r\n",
      "  inflating: /usr/bin/chrome-linux64/locales/th.pak.info  \r\n",
      "  inflating: /usr/bin/chrome-linux64/locales/ar.pak.info  \r\n",
      "  inflating: /usr/bin/chrome-linux64/locales/pt-PT.pak.info  \r\n",
      "  inflating: /usr/bin/chrome-linux64/locales/pt-PT.pak  \r\n",
      "  inflating: /usr/bin/chrome-linux64/locales/vi.pak  \r\n",
      "  inflating: /usr/bin/chrome-linux64/locales/ml.pak.info  \r\n",
      "  inflating: /usr/bin/chrome-linux64/locales/es.pak.info  \r\n",
      "  inflating: /usr/bin/chrome-linux64/locales/mr.pak.info  \r\n",
      "  inflating: /usr/bin/chrome-linux64/locales/tr.pak.info  \r\n",
      "  inflating: /usr/bin/chrome-linux64/locales/hi.pak.info  \r\n",
      "  inflating: /usr/bin/chrome-linux64/locales/fa.pak.info  \r\n",
      "  inflating: /usr/bin/chrome-linux64/locales/ja.pak  \r\n",
      "  inflating: /usr/bin/chrome-linux64/locales/bg.pak.info  \r\n",
      "  inflating: /usr/bin/chrome-linux64/locales/sr.pak.info  \r\n",
      "  inflating: /usr/bin/chrome-linux64/locales/fi.pak  \r\n",
      "  inflating: /usr/bin/chrome-linux64/locales/ca.pak  \r\n",
      "  inflating: /usr/bin/chrome-linux64/locales/et.pak.info  \r\n",
      "  inflating: /usr/bin/chrome-linux64/locales/ko.pak.info  \r\n",
      "  inflating: /usr/bin/chrome-linux64/locales/gu.pak  \r\n",
      "  inflating: /usr/bin/chrome-linux64/locales/et.pak  \r\n",
      "  inflating: /usr/bin/chrome-linux64/locales/it.pak.info  \r\n",
      "  inflating: /usr/bin/chrome-linux64/locales/lv.pak.info  \r\n",
      "  inflating: /usr/bin/chrome-linux64/locales/sr.pak  \r\n",
      "  inflating: /usr/bin/chrome-linux64/locales/bn.pak  \r\n",
      "  inflating: /usr/bin/chrome-linux64/locales/pl.pak  \r\n",
      "  inflating: /usr/bin/chrome-linux64/locales/el.pak.info  \r\n",
      "  inflating: /usr/bin/chrome-linux64/locales/lv.pak  \r\n",
      "  inflating: /usr/bin/chrome-linux64/locales/ca.pak.info  \r\n",
      "  inflating: /usr/bin/chrome-linux64/locales/uk.pak.info  \r\n",
      "  inflating: /usr/bin/chrome-linux64/locales/nl.pak  \r\n",
      "  inflating: /usr/bin/chrome-linux64/locales/sw.pak.info  \r\n",
      "  inflating: /usr/bin/chrome-linux64/locales/de.pak  \r\n",
      "  inflating: /usr/bin/chrome-linux64/locales/af.pak  \r\n",
      "  inflating: /usr/bin/chrome-linux64/locales/hi.pak  \r\n",
      "  inflating: /usr/bin/chrome-linux64/locales/pl.pak.info  \r\n",
      "  inflating: /usr/bin/chrome-linux64/locales/he.pak  \r\n",
      "  inflating: /usr/bin/chrome-linux64/locales/sv.pak  \r\n",
      "  inflating: /usr/bin/chrome-linux64/locales/ms.pak.info  \r\n",
      "  inflating: /usr/bin/chrome-linux64/locales/sk.pak  \r\n",
      "  inflating: /usr/bin/chrome-linux64/locales/bn.pak.info  \r\n",
      "  inflating: /usr/bin/chrome-linux64/locales/cs.pak.info  \r\n",
      "  inflating: /usr/bin/chrome-linux64/locales/kn.pak.info  \r\n",
      "  inflating: /usr/bin/chrome-linux64/locales/zh-CN.pak.info  \r\n",
      "  inflating: /usr/bin/chrome-linux64/locales/id.pak.info  \r\n",
      "  inflating: /usr/bin/chrome-linux64/locales/es-419.pak.info  \r\n",
      "  inflating: /usr/bin/chrome-linux64/locales/lt.pak  \r\n",
      "  inflating: /usr/bin/chrome-linux64/locales/ur.pak  \r\n",
      "  inflating: /usr/bin/chrome-linux64/locales/ta.pak.info  \r\n",
      "  inflating: /usr/bin/chrome-linux64/locales/zh-TW.pak  \r\n",
      "  inflating: /usr/bin/chrome-linux64/locales/te.pak  \r\n",
      "  inflating: /usr/bin/chrome-linux64/locales/ja.pak.info  \r\n",
      "  inflating: /usr/bin/chrome-linux64/locales/en-US.pak  \r\n",
      "  inflating: /usr/bin/chrome-linux64/locales/nb.pak.info  \r\n",
      "  inflating: /usr/bin/chrome-linux64/locales/it.pak  \r\n",
      "  inflating: /usr/bin/chrome-linux64/locales/es-419.pak  \r\n",
      "  inflating: /usr/bin/chrome-linux64/locales/nl.pak.info  \r\n",
      "  inflating: /usr/bin/chrome-linux64/locales/cs.pak  \r\n",
      "  inflating: /usr/bin/chrome-linux64/locales/zh-TW.pak.info  \r\n",
      "  inflating: /usr/bin/chrome-linux64/locales/ru.pak.info  \r\n",
      "  inflating: /usr/bin/chrome-linux64/locales/da.pak  \r\n",
      "  inflating: /usr/bin/chrome-linux64/locales/lt.pak.info  \r\n",
      "  inflating: /usr/bin/chrome-linux64/locales/ml.pak  \r\n",
      "  inflating: /usr/bin/chrome-linux64/locales/mr.pak  \r\n",
      "  inflating: /usr/bin/chrome-linux64/locales/pt-BR.pak  \r\n",
      "  inflating: /usr/bin/chrome-linux64/locales/da.pak.info  \r\n",
      "  inflating: /usr/bin/chrome-linux64/locales/te.pak.info  \r\n",
      "  inflating: /usr/bin/chrome-linux64/locales/fil.pak.info  \r\n",
      "  inflating: /usr/bin/chrome-linux64/locales/ta.pak  \r\n",
      "  inflating: /usr/bin/chrome-linux64/locales/id.pak  \r\n",
      "  inflating: /usr/bin/chrome-linux64/locales/am.pak.info  \r\n",
      "  inflating: /usr/bin/chrome-linux64/locales/am.pak  \r\n",
      "  inflating: /usr/bin/chrome-linux64/locales/hu.pak  \r\n",
      "  inflating: /usr/bin/chrome-linux64/locales/fi.pak.info  \r\n",
      "  inflating: /usr/bin/chrome-linux64/locales/sl.pak.info  \r\n",
      "  inflating: /usr/bin/chrome-linux64/locales/ro.pak  \r\n",
      "  inflating: /usr/bin/chrome-linux64/locales/th.pak  \r\n",
      "  inflating: /usr/bin/chrome-linux64/locales/fr.pak  \r\n",
      "  inflating: /usr/bin/chrome-linux64/locales/gu.pak.info  \r\n",
      "  inflating: /usr/bin/chrome-linux64/locales/ru.pak  \r\n",
      "  inflating: /usr/bin/chrome-linux64/locales/ro.pak.info  \r\n",
      "  inflating: /usr/bin/chrome-linux64/locales/hr.pak.info  \r\n",
      "   creating: /usr/bin/chrome-linux64/resources/\r\n",
      "   creating: /usr/bin/chrome-linux64/resources/inspector_overlay/\r\n",
      "  inflating: /usr/bin/chrome-linux64/resources/inspector_overlay/inspector_overlay_resources.grd  \r\n",
      "  inflating: /usr/bin/chrome-linux64/resources/inspector_overlay/main.js  \r\n"
     ]
    }
   ],
   "source": [
    "!wget -P /tmp https://edgedl.me.gvt1.com/edgedl/chrome/chrome-for-testing/116.0.5845.96/linux64/chrome-linux64.zip\n",
    "!unzip /tmp/chrome-linux64.zip -d /usr/bin/"
   ]
  },
  {
   "cell_type": "markdown",
   "id": "2b9ff342",
   "metadata": {
    "papermill": {
     "duration": 0.025966,
     "end_time": "2024-08-27T23:12:04.016985",
     "exception": false,
     "start_time": "2024-08-27T23:12:03.991019",
     "status": "completed"
    },
    "tags": []
   },
   "source": [
    "## 1.3. Download and extract Chromedriver:\n",
    "\n",
    "As it was done in the previous code."
   ]
  },
  {
   "cell_type": "code",
   "execution_count": 3,
   "id": "945b04d7",
   "metadata": {
    "execution": {
     "iopub.execute_input": "2024-08-27T23:12:04.071875Z",
     "iopub.status.busy": "2024-08-27T23:12:04.071429Z",
     "iopub.status.idle": "2024-08-27T23:12:08.190337Z",
     "shell.execute_reply": "2024-08-27T23:12:08.189021Z"
    },
    "papermill": {
     "duration": 4.150219,
     "end_time": "2024-08-27T23:12:08.193347",
     "exception": false,
     "start_time": "2024-08-27T23:12:04.043128",
     "status": "completed"
    },
    "tags": []
   },
   "outputs": [
    {
     "name": "stdout",
     "output_type": "stream",
     "text": [
      "--2024-08-27 23:12:05--  https://edgedl.me.gvt1.com/edgedl/chrome/chrome-for-testing/116.0.5845.96/linux64/chromedriver-linux64.zip\r\n",
      "Resolving edgedl.me.gvt1.com (edgedl.me.gvt1.com)... 34.104.35.123, 2600:1900:4110:86f::\r\n",
      "Connecting to edgedl.me.gvt1.com (edgedl.me.gvt1.com)|34.104.35.123|:443... connected.\r\n",
      "HTTP request sent, awaiting response... 302 Found\r\n",
      "Location: https://storage.googleapis.com/chrome-for-testing-public/116.0.5845.96/linux64/chromedriver-linux64.zip [following]\r\n",
      "--2024-08-27 23:12:05--  https://storage.googleapis.com/chrome-for-testing-public/116.0.5845.96/linux64/chromedriver-linux64.zip\r\n",
      "Resolving storage.googleapis.com (storage.googleapis.com)... 64.233.188.207, 173.194.174.207, 74.125.204.207, ...\r\n",
      "Connecting to storage.googleapis.com (storage.googleapis.com)|64.233.188.207|:443... connected.\r\n",
      "HTTP request sent, awaiting response... 200 OK\r\n",
      "Length: 7271942 (6.9M) [application/zip]\r\n",
      "Saving to: '/tmp/chromedriver-linux64.zip'\r\n",
      "\r\n",
      "chromedriver-linux6 100%[===================>]   6.93M  6.37MB/s    in 1.1s    \r\n",
      "\r\n",
      "2024-08-27 23:12:06 (6.37 MB/s) - '/tmp/chromedriver-linux64.zip' saved [7271942/7271942]\r\n",
      "\r\n",
      "Archive:  /tmp/chromedriver-linux64.zip\r\n",
      "  inflating: /usr/bin/chromedriver-linux64/LICENSE.chromedriver  \r\n",
      "  inflating: /usr/bin/chromedriver-linux64/chromedriver  \r\n"
     ]
    }
   ],
   "source": [
    "!wget -P /tmp https://edgedl.me.gvt1.com/edgedl/chrome/chrome-for-testing/116.0.5845.96/linux64/chromedriver-linux64.zip\n",
    "!unzip /tmp/chromedriver-linux64.zip -d /usr/bin/"
   ]
  },
  {
   "cell_type": "markdown",
   "id": "b81940ef",
   "metadata": {
    "papermill": {
     "duration": 0.027077,
     "end_time": "2024-08-27T23:12:08.247729",
     "exception": false,
     "start_time": "2024-08-27T23:12:08.220652",
     "status": "completed"
    },
    "tags": []
   },
   "source": [
    "## 1.4. Install Python libraries"
   ]
  },
  {
   "cell_type": "code",
   "execution_count": 4,
   "id": "d8e8e955",
   "metadata": {
    "execution": {
     "iopub.execute_input": "2024-08-27T23:12:08.305708Z",
     "iopub.status.busy": "2024-08-27T23:12:08.304547Z",
     "iopub.status.idle": "2024-08-27T23:12:45.466615Z",
     "shell.execute_reply": "2024-08-27T23:12:45.465247Z"
    },
    "papermill": {
     "duration": 37.194492,
     "end_time": "2024-08-27T23:12:45.469469",
     "exception": false,
     "start_time": "2024-08-27T23:12:08.274977",
     "status": "completed"
    },
    "tags": []
   },
   "outputs": [
    {
     "name": "stdout",
     "output_type": "stream",
     "text": [
      "\r\n",
      "\r\n",
      "\r\n",
      "The following additional packages will be installed:\r\n",
      "  apparmor chromium-browser chromium-chromedriver liblzo2-2 snapd\r\n",
      "  squashfs-tools\r\n",
      "Suggested packages:\r\n",
      "  apparmor-profiles-extra apparmor-utils zenity | kdialog\r\n",
      "The following NEW packages will be installed:\r\n",
      "  apparmor chromium-browser chromium-chromedriver liblzo2-2 python3-selenium\r\n",
      "  snapd squashfs-tools\r\n",
      "0 upgraded, 7 newly installed, 0 to remove and 128 not upgraded.\r\n",
      "Need to get 25.9 MB of archives.\r\n",
      "After this operation, 107 MB of additional disk space will be used.\r\n",
      "Get:1 http://archive.ubuntu.com/ubuntu focal-updates/main amd64 apparmor amd64 2.13.3-7ubuntu5.3 [502 kB]\r\n",
      "Get:2 http://archive.ubuntu.com/ubuntu focal/main amd64 liblzo2-2 amd64 2.10-2 [50.8 kB]\r\n",
      "Get:3 http://archive.ubuntu.com/ubuntu focal-updates/main amd64 squashfs-tools amd64 1:4.4-1ubuntu0.3 [117 kB]\r\n",
      "Get:4 http://archive.ubuntu.com/ubuntu focal-updates/main amd64 snapd amd64 2.63+20.04ubuntu0.1 [25.1 MB]\r\n",
      "Get:5 http://archive.ubuntu.com/ubuntu focal-updates/universe amd64 chromium-browser amd64 1:85.0.4183.83-0ubuntu0.20.04.3 [48.5 kB]\r\n",
      "Get:6 http://archive.ubuntu.com/ubuntu focal-updates/universe amd64 chromium-chromedriver amd64 1:85.0.4183.83-0ubuntu0.20.04.3 [2496 B]\r\n",
      "Get:7 http://archive.ubuntu.com/ubuntu focal/universe amd64 python3-selenium all 4.0.0~a1+dfsg1-1.1 [86.2 kB]\r\n",
      "Fetched 25.9 MB in 4s (6238 kB/s)\r\n",
      "Preconfiguring packages ...\r\n",
      "\n",
      "\u001b7\u001b[0;23r\u001b8\u001b[1ASelecting previously unselected package apparmor.\r\n",
      "(Reading database ... 109076 files and directories currently installed.)\r\n",
      "Preparing to unpack .../apparmor_2.13.3-7ubuntu5.3_amd64.deb ...\r\n",
      "\u001b7\u001b[24;0f\u001b[42m\u001b[30mProgress: [  0%]\u001b[49m\u001b[39m [..........................................................] \u001b8\u001b7\u001b[24;0f\u001b[42m\u001b[30mProgress: [  3%]\u001b[49m\u001b[39m [##........................................................] \u001b8Unpacking apparmor (2.13.3-7ubuntu5.3) ...\r\n",
      "\u001b7\u001b[24;0f\u001b[42m\u001b[30mProgress: [  7%]\u001b[49m\u001b[39m [####......................................................] \u001b8Selecting previously unselected package liblzo2-2:amd64.\r\n",
      "Preparing to unpack .../liblzo2-2_2.10-2_amd64.deb ...\r\n",
      "\u001b7\u001b[24;0f\u001b[42m\u001b[30mProgress: [ 10%]\u001b[49m\u001b[39m [######....................................................] \u001b8Unpacking liblzo2-2:amd64 (2.10-2) ...\r\n",
      "\u001b7\u001b[24;0f\u001b[42m\u001b[30mProgress: [ 14%]\u001b[49m\u001b[39m [########..................................................] \u001b8Selecting previously unselected package squashfs-tools.\r\n",
      "Preparing to unpack .../squashfs-tools_1%3a4.4-1ubuntu0.3_amd64.deb ...\r\n",
      "\u001b7\u001b[24;0f\u001b[42m\u001b[30mProgress: [ 17%]\u001b[49m\u001b[39m [#########.................................................] \u001b8Unpacking squashfs-tools (1:4.4-1ubuntu0.3) ...\r\n",
      "\u001b7\u001b[24;0f\u001b[42m\u001b[30mProgress: [ 21%]\u001b[49m\u001b[39m [############..............................................] \u001b8Selecting previously unselected package snapd.\r\n",
      "Preparing to unpack .../snapd_2.63+20.04ubuntu0.1_amd64.deb ...\r\n",
      "\u001b7\u001b[24;0f\u001b[42m\u001b[30mProgress: [ 24%]\u001b[49m\u001b[39m [##############............................................] \u001b8Unpacking snapd (2.63+20.04ubuntu0.1) ...\r\n",
      "\u001b7\u001b[24;0f\u001b[42m\u001b[30mProgress: [ 28%]\u001b[49m\u001b[39m [################..........................................] \u001b8Setting up apparmor (2.13.3-7ubuntu5.3) ...\r\n",
      "\u001b7\u001b[24;0f\u001b[42m\u001b[30mProgress: [ 31%]\u001b[49m\u001b[39m [##################........................................] \u001b8Created symlink /etc/systemd/system/sysinit.target.wants/apparmor.service -> /lib/systemd/system/apparmor.service.\r\n",
      "\u001b7\u001b[24;0f\u001b[42m\u001b[30mProgress: [ 34%]\u001b[49m\u001b[39m [###################.......................................] \u001b8Setting up liblzo2-2:amd64 (2.10-2) ...\r\n",
      "\u001b7\u001b[24;0f\u001b[42m\u001b[30mProgress: [ 38%]\u001b[49m\u001b[39m [######################....................................] \u001b8\u001b7\u001b[24;0f\u001b[42m\u001b[30mProgress: [ 41%]\u001b[49m\u001b[39m [########################..................................] \u001b8Setting up squashfs-tools (1:4.4-1ubuntu0.3) ...\r\n",
      "\u001b7\u001b[24;0f\u001b[42m\u001b[30mProgress: [ 45%]\u001b[49m\u001b[39m [##########################................................] \u001b8\u001b7\u001b[24;0f\u001b[42m\u001b[30mProgress: [ 48%]\u001b[49m\u001b[39m [############################..............................] \u001b8Setting up snapd (2.63+20.04ubuntu0.1) ...\r\n",
      "\u001b7\u001b[24;0f\u001b[42m\u001b[30mProgress: [ 52%]\u001b[49m\u001b[39m [#############################.............................] \u001b8Created symlink /etc/systemd/system/multi-user.target.wants/snapd.apparmor.service -> /lib/systemd/system/snapd.apparmor.service.\r\n",
      "Created symlink /etc/systemd/system/multi-user.target.wants/snapd.autoimport.service -> /lib/systemd/system/snapd.autoimport.service.\r\n",
      "Created symlink /etc/systemd/system/multi-user.target.wants/snapd.core-fixup.service -> /lib/systemd/system/snapd.core-fixup.service.\r\n",
      "Created symlink /etc/systemd/system/multi-user.target.wants/snapd.recovery-chooser-trigger.service -> /lib/systemd/system/snapd.recovery-chooser-trigger.service.\r\n",
      "Created symlink /etc/systemd/system/multi-user.target.wants/snapd.seeded.service -> /lib/systemd/system/snapd.seeded.service.\r\n",
      "Created symlink /etc/systemd/system/cloud-final.service.wants/snapd.seeded.service -> /lib/systemd/system/snapd.seeded.service.\r\n",
      "Created symlink /etc/systemd/system/multi-user.target.wants/snapd.service -> /lib/systemd/system/snapd.service.\r\n",
      "Created symlink /etc/systemd/system/timers.target.wants/snapd.snap-repair.timer -> /lib/systemd/system/snapd.snap-repair.timer.\r\n",
      "Created symlink /etc/systemd/system/sockets.target.wants/snapd.socket -> /lib/systemd/system/snapd.socket.\r\n",
      "Created symlink /etc/systemd/system/final.target.wants/snapd.system-shutdown.service -> /lib/systemd/system/snapd.system-shutdown.service.\r\n",
      "\u001b7\u001b[24;0f\u001b[42m\u001b[30mProgress: [ 55%]\u001b[49m\u001b[39m [################################..........................] \u001b8Selecting previously unselected package chromium-browser.\r\n",
      "(Reading database ... 109369 files and directories currently installed.)\r\n",
      "Preparing to unpack .../chromium-browser_1%3a85.0.4183.83-0ubuntu0.20.04.3_amd64.deb ...\r\n",
      "\u001b7\u001b[24;0f\u001b[42m\u001b[30mProgress: [ 59%]\u001b[49m\u001b[39m [##################################........................] \u001b8=> Installing the chromium snap\r\n",
      "==> Checking connectivity with the snap store\r\n",
      "===> System doesn't have a working snapd, skipping\r\n",
      "Unpacking chromium-browser (1:85.0.4183.83-0ubuntu0.20.04.3) ...\r\n",
      "\u001b7\u001b[24;0f\u001b[42m\u001b[30mProgress: [ 62%]\u001b[49m\u001b[39m [####################################......................] \u001b8Selecting previously unselected package chromium-chromedriver.\r\n",
      "Preparing to unpack .../chromium-chromedriver_1%3a85.0.4183.83-0ubuntu0.20.04.3_amd64.deb ...\r\n",
      "\u001b7\u001b[24;0f\u001b[42m\u001b[30mProgress: [ 66%]\u001b[49m\u001b[39m [######################################....................] \u001b8Unpacking chromium-chromedriver (1:85.0.4183.83-0ubuntu0.20.04.3) ...\r\n",
      "\u001b7\u001b[24;0f\u001b[42m\u001b[30mProgress: [ 69%]\u001b[49m\u001b[39m [#######################################...................] \u001b8Selecting previously unselected package python3-selenium.\r\n",
      "Preparing to unpack .../python3-selenium_4.0.0~a1+dfsg1-1.1_all.deb ...\r\n",
      "\u001b7\u001b[24;0f\u001b[42m\u001b[30mProgress: [ 72%]\u001b[49m\u001b[39m [##########################################................] \u001b8Unpacking python3-selenium (4.0.0~a1+dfsg1-1.1) ...\r\n",
      "\u001b7\u001b[24;0f\u001b[42m\u001b[30mProgress: [ 76%]\u001b[49m\u001b[39m [############################################..............] \u001b8Setting up python3-selenium (4.0.0~a1+dfsg1-1.1) ...\r\n",
      "\u001b7\u001b[24;0f\u001b[42m\u001b[30mProgress: [ 79%]\u001b[49m\u001b[39m [##############################################............] \u001b8\u001b7\u001b[24;0f\u001b[42m\u001b[30mProgress: [ 83%]\u001b[49m\u001b[39m [################################################..........] \u001b8Setting up chromium-browser (1:85.0.4183.83-0ubuntu0.20.04.3) ...\r\n",
      "\u001b7\u001b[24;0f\u001b[42m\u001b[30mProgress: [ 86%]\u001b[49m\u001b[39m [##################################################........] \u001b8update-alternatives: using /usr/bin/chromium-browser to provide /usr/bin/x-www-browser (x-www-browser) in auto mode\r\n",
      "update-alternatives: using /usr/bin/chromium-browser to provide /usr/bin/gnome-www-browser (gnome-www-browser) in auto mode\r\n",
      "\u001b7\u001b[24;0f\u001b[42m\u001b[30mProgress: [ 90%]\u001b[49m\u001b[39m [####################################################......] \u001b8Setting up chromium-chromedriver (1:85.0.4183.83-0ubuntu0.20.04.3) ...\r\n",
      "\u001b7\u001b[24;0f\u001b[42m\u001b[30mProgress: [ 93%]\u001b[49m\u001b[39m [#####################################################.....] \u001b8\u001b7\u001b[24;0f\u001b[42m\u001b[30mProgress: [ 97%]\u001b[49m\u001b[39m [########################################################..] \u001b8Processing triggers for mime-support (3.64ubuntu1) ...\r\n",
      "Processing triggers for hicolor-icon-theme (0.17-2) ...\r\n",
      "Processing triggers for libc-bin (2.31-0ubuntu9.9) ...\r\n",
      "Processing triggers for systemd (245.4-4ubuntu3.22) ...\r\n",
      "Processing triggers for man-db (2.9.1-1) ...\r\n",
      "Processing triggers for dbus (1.12.16-2ubuntu2.3) ...\r\n",
      "\r\n",
      "\u001b7\u001b[0;24r\u001b8\u001b[1A\u001b[JCollecting selenium==3.141.0\r\n",
      "  Obtaining dependency information for selenium==3.141.0 from https://files.pythonhosted.org/packages/80/d6/4294f0b4bce4de0abf13e17190289f9d0613b0a44e5dd6a7f5ca98459853/selenium-3.141.0-py2.py3-none-any.whl.metadata\r\n",
      "  Downloading selenium-3.141.0-py2.py3-none-any.whl.metadata (6.6 kB)\r\n",
      "Requirement already satisfied: urllib3 in /opt/conda/lib/python3.10/site-packages (from selenium==3.141.0) (1.26.15)\r\n",
      "Downloading selenium-3.141.0-py2.py3-none-any.whl (904 kB)\r\n",
      "\u001b[2K   \u001b[90m━━━━━━━━━━━━━━━━━━━━━━━━━━━━━━━━━━━━━━━━\u001b[0m \u001b[32m904.6/904.6 kB\u001b[0m \u001b[31m11.1 MB/s\u001b[0m eta \u001b[36m0:00:00\u001b[0m\r\n",
      "\u001b[?25hInstalling collected packages: selenium\r\n",
      "Successfully installed selenium-3.141.0\r\n"
     ]
    }
   ],
   "source": [
    "!apt install -y python3-selenium\n",
    "!pip install selenium==3.141.0"
   ]
  },
  {
   "cell_type": "markdown",
   "id": "46b3d573",
   "metadata": {
    "papermill": {
     "duration": 0.036664,
     "end_time": "2024-08-27T23:12:45.542168",
     "exception": false,
     "start_time": "2024-08-27T23:12:45.505504",
     "status": "completed"
    },
    "tags": []
   },
   "source": [
    "# 2.Importing Libraries\n",
    "\n",
    "You will also need to install the following Python libraries:\n",
    "\n",
    "* **selenium**: The Selenium library provides the API for interacting with web pages.\n",
    "* **webdriver**: The webdriver library provides a way to interact with web drivers, such as Chromedriver.\n",
    "* **BeautifulSoup**: The BeautifulSoup library is used for parsing HTML content."
   ]
  },
  {
   "cell_type": "code",
   "execution_count": 5,
   "id": "a6c6403e",
   "metadata": {
    "_cell_guid": "b1076dfc-b9ad-4769-8c92-a6c4dae69d19",
    "_uuid": "8f2839f25d086af736a60e9eeb907d3b93b6e0e5",
    "execution": {
     "iopub.execute_input": "2024-08-27T23:12:45.616533Z",
     "iopub.status.busy": "2024-08-27T23:12:45.616081Z",
     "iopub.status.idle": "2024-08-27T23:12:46.890243Z",
     "shell.execute_reply": "2024-08-27T23:12:46.889041Z"
    },
    "papermill": {
     "duration": 1.315255,
     "end_time": "2024-08-27T23:12:46.893667",
     "exception": false,
     "start_time": "2024-08-27T23:12:45.578412",
     "status": "completed"
    },
    "tags": []
   },
   "outputs": [],
   "source": [
    "import pandas as pd # data processing, CSV file I/O (e.g. pd.read_csv)\n",
    "import requests\n",
    "from bs4 import BeautifulSoup\n",
    "from tqdm import tqdm"
   ]
  },
  {
   "cell_type": "code",
   "execution_count": 6,
   "id": "d146db29",
   "metadata": {
    "execution": {
     "iopub.execute_input": "2024-08-27T23:12:46.968881Z",
     "iopub.status.busy": "2024-08-27T23:12:46.968260Z",
     "iopub.status.idle": "2024-08-27T23:12:46.975744Z",
     "shell.execute_reply": "2024-08-27T23:12:46.974737Z"
    },
    "papermill": {
     "duration": 0.047579,
     "end_time": "2024-08-27T23:12:46.978293",
     "exception": false,
     "start_time": "2024-08-27T23:12:46.930714",
     "status": "completed"
    },
    "tags": []
   },
   "outputs": [],
   "source": [
    "from retrying import retry\n",
    "import time\n",
    "import traceback"
   ]
  },
  {
   "cell_type": "markdown",
   "id": "907bd2e4",
   "metadata": {
    "papermill": {
     "duration": 0.036478,
     "end_time": "2024-08-27T23:12:47.115348",
     "exception": false,
     "start_time": "2024-08-27T23:12:47.078870",
     "status": "completed"
    },
    "tags": []
   },
   "source": [
    "# 3. Configuring Chrome Driver\n",
    "\n",
    "These functions define the locations of Chrome and Chromedriver executables. Additionally, initialize_driver creates a Chrome webdriver instance with specific options:\n",
    "\n",
    "* *--headless*: Runs Chrome in headless mode, making it invisible.\n",
    "* *--no-sandbox*: Disables the sandbox for improved performance.\n",
    "* *--start-fullscreen*: Starts Chrome in fullscreen mode.\n",
    "* *--allow-insecure-localhost*: Allows access to insecure local websites (if needed).\n",
    "* *--disable-dev-shm-usage*: Disables shared memory usage for Chrome.\n",
    "* *user-agent*: Sets the user agent string to mimic a regular browser."
   ]
  },
  {
   "cell_type": "code",
   "execution_count": 7,
   "id": "deb09e52",
   "metadata": {
    "execution": {
     "iopub.execute_input": "2024-08-27T23:12:47.189761Z",
     "iopub.status.busy": "2024-08-27T23:12:47.189348Z",
     "iopub.status.idle": "2024-08-27T23:12:47.224532Z",
     "shell.execute_reply": "2024-08-27T23:12:47.223461Z"
    },
    "papermill": {
     "duration": 0.076484,
     "end_time": "2024-08-27T23:12:47.227549",
     "exception": false,
     "start_time": "2024-08-27T23:12:47.151065",
     "status": "completed"
    },
    "tags": []
   },
   "outputs": [],
   "source": [
    "from selenium import webdriver\n",
    "from selenium.webdriver.chrome.options import Options\n",
    "from selenium.webdriver.common.by import By\n",
    "from selenium.webdriver.support.ui import WebDriverWait\n",
    "from selenium.webdriver.support import expected_conditions as EC\n",
    "from selenium.webdriver.common.action_chains import ActionChains\n",
    "\n",
    "CHROME_BINARY_LOCATION = \"/usr/bin/chrome-linux64/chrome\"\n",
    "CHROMEDRIVER_BINARY_LOCATION = \"/usr/bin/chromedriver-linux64/chromedriver\"\n",
    "\n",
    "def add_driver_options(options):\n",
    "    \"\"\"\n",
    "    Add configurable options\n",
    "    \"\"\"\n",
    "    chrome_options = Options()\n",
    "    for opt in options:\n",
    "        chrome_options.add_argument(opt)\n",
    "    return chrome_options\n",
    "\n",
    "def initialize_driver():\n",
    "    \"\"\"\n",
    "    Initialize the web driver\n",
    "    \"\"\"\n",
    "    driver_config = {\n",
    "        \"options\": [\n",
    "            \"--headless\",\n",
    "            \"--no-sandbox\",\n",
    "            \"--start-fullscreen\",\n",
    "            \"--allow-insecure-localhost\",\n",
    "            \"--disable-dev-shm-usage\",\n",
    "            \"user-agent=Chrome/116.0.5845.96\"\n",
    "        ],\n",
    "    }\n",
    "    options = add_driver_options(driver_config[\"options\"])\n",
    "    options.binary_location = CHROME_BINARY_LOCATION\n",
    "    driver = webdriver.Chrome(\n",
    "        executable_path=CHROMEDRIVER_BINARY_LOCATION,\n",
    "        options=options)\n",
    "    return driver\n"
   ]
  },
  {
   "cell_type": "markdown",
   "id": "91119051",
   "metadata": {
    "papermill": {
     "duration": 0.036089,
     "end_time": "2024-08-27T23:12:47.300147",
     "exception": false,
     "start_time": "2024-08-27T23:12:47.264058",
     "status": "completed"
    },
    "tags": []
   },
   "source": [
    "# 4. Using Selenium: Example\n",
    "\n",
    "Here's a breakdown of how I'm using Selenium to extract book information from Goodreads, with a practical example:\n",
    "\n",
    "\n",
    "If you want a full version of this dataset, you can check and vote it in https://www.kaggle.com/datasets/cristaliss/ultimate-book-collection-top-100-books-up-to-2023"
   ]
  },
  {
   "cell_type": "code",
   "execution_count": 8,
   "id": "8cd0ddd1",
   "metadata": {
    "execution": {
     "iopub.execute_input": "2024-08-27T23:12:47.373886Z",
     "iopub.status.busy": "2024-08-27T23:12:47.373469Z",
     "iopub.status.idle": "2024-08-27T23:12:47.393741Z",
     "shell.execute_reply": "2024-08-27T23:12:47.392528Z"
    },
    "papermill": {
     "duration": 0.060641,
     "end_time": "2024-08-27T23:12:47.396608",
     "exception": false,
     "start_time": "2024-08-27T23:12:47.335967",
     "status": "completed"
    },
    "tags": []
   },
   "outputs": [],
   "source": [
    "import pandas as pd\n",
    "from tqdm import tqdm\n",
    "\n",
    "def extract_series_info(series_string):\n",
    "    # Split the series string based on ', #' or ' #'\n",
    "    if ', #' in series_string:\n",
    "        series_list = series_string.split(', #')\n",
    "    elif ' #' in series_string:\n",
    "        series_list = series_string.split(' #')\n",
    "    else:\n",
    "        # If no separator is found, assume the whole string is the series name\n",
    "        return series_string, ''\n",
    "\n",
    "    # Extract the series name and release number\n",
    "    series_name = series_list[0]\n",
    "    release_number = series_list[1]\n",
    "\n",
    "    return series_name, release_number\n",
    "\n",
    "def extract_series_and_release(title_name):\n",
    "    series_info_temp = title_name.split('(')\n",
    "    if len(series_info_temp) > 1:\n",
    "        release_info = series_info_temp[-1].replace(')', '')\n",
    "        if len(release_info.split(';')) > 1:\n",
    "            series_temp = []\n",
    "            release_temp = []\n",
    "            for b in release_info.split(\";\"):\n",
    "                series_list, release_list = extract_series_info(b)\n",
    "                series_temp.append(series_list)\n",
    "                release_temp.append(release_list)\n",
    "            series_list = ','.join(series_temp)\n",
    "            release_list = ','.join(release_temp)\n",
    "        else:\n",
    "            series_list, release_list = extract_series_info(release_info)\n",
    "\n",
    "        title_name = title_name.replace(f' ({release_info})', '')\n",
    "    else:\n",
    "        series_list = ''\n",
    "        release_list = ''\n",
    "\n",
    "    return series_list, release_list\n",
    "\n",
    "\n",
    "def extract_books_info(driver, url):\n",
    "    \"\"\"\n",
    "    Extracts book information from a Goodreads URL using Selenium.\n",
    "\n",
    "    Args:\n",
    "        driver (selenium.webdriver.chrome.webdriver.WebDriver): The initialized Chrome driver.\n",
    "        url (str): The URL of the Goodreads page containing book information.\n",
    "\n",
    "    Returns:\n",
    "        pd.DataFrame: A DataFrame containing the extracted book data.\n",
    "\n",
    "    Raises:\n",
    "        Exception: If an error occurs during the scraping process.\n",
    "    \"\"\"\n",
    "    try:\n",
    "        driver.get(url)\n",
    "\n",
    "        # Wait for the page to load completely\n",
    "        WebDriverWait(driver, 10).until(\n",
    "            EC.presence_of_element_located((By.CLASS_NAME, \"bookTitle\"))\n",
    "        )\n",
    "\n",
    "        # Extract book elements using Selenium\n",
    "        title_elements = driver.find_elements(By.CLASS_NAME, \"bookTitle\")\n",
    "        author_elements = driver.find_elements(By.CLASS_NAME, \"authorName\")\n",
    "\n",
    "        book_data = {\n",
    "            'book_titles': [],\n",
    "            'series_info': [],\n",
    "            'release_numbers': [],\n",
    "            'authors_raw': []\n",
    "        }\n",
    "\n",
    "        for title in tqdm(title_elements, total=len(title_elements), desc='Processing Books'):\n",
    "            book_url = \"https://www.goodreads.com\" + title.get_attribute('href')\n",
    "\n",
    "            # Extract title using Selenium\n",
    "            title_span = title.find_element(By.TAG_NAME, 'span')\n",
    "            title_name = title_span.get_attribute('innerHTML').strip()\n",
    "\n",
    "            # Extract series and release information using Selenium\n",
    "            series_list, release_list = extract_series_and_release(title_name)\n",
    "            book_data['series_info'].append(series_list)\n",
    "            book_data['release_numbers'].append(release_list)\n",
    "            book_data['book_titles'].append(title_name)\n",
    "\n",
    "            # Extract authors using Selenium\n",
    "            authors_raw = []\n",
    "            for author in author_elements:\n",
    "                author_element = author.find_element(By.TAG_NAME, 'span')\n",
    "                if author_element:\n",
    "                    authors_raw.append(author_element.get_attribute('innerHTML').strip())\n",
    "                else:\n",
    "                    authors_raw.append('')\n",
    "            book_data['authors_raw'] = authors_raw\n",
    "\n",
    "        df_book = pd.DataFrame(book_data)\n",
    "\n",
    "        return df_book\n",
    "\n",
    "    except Exception as e:\n",
    "        print(f\"An error occurred during scraping: {e}\")\n",
    "        raise\n",
    "\n",
    "# Example usage\n",
    "#driver = initialize_driver()\n",
    "#url = \"https://www.goodreads.com/list/best_of_year/2023\"\n",
    "#books = extract_books_info(driver, url)"
   ]
  },
  {
   "cell_type": "code",
   "execution_count": null,
   "id": "024b9c87",
   "metadata": {
    "papermill": {
     "duration": 0.035911,
     "end_time": "2024-08-27T23:12:47.469003",
     "exception": false,
     "start_time": "2024-08-27T23:12:47.433092",
     "status": "completed"
    },
    "tags": []
   },
   "outputs": [],
   "source": []
  },
  {
   "cell_type": "markdown",
   "id": "4e1a4be5",
   "metadata": {
    "papermill": {
     "duration": 0.035756,
     "end_time": "2024-08-27T23:12:47.541029",
     "exception": false,
     "start_time": "2024-08-27T23:12:47.505273",
     "status": "completed"
    },
    "tags": []
   },
   "source": [
    "# 5) Scrape letterboxd reviews from "
   ]
  },
  {
   "cell_type": "code",
   "execution_count": 9,
   "id": "76d7ab14",
   "metadata": {
    "execution": {
     "iopub.execute_input": "2024-08-27T23:12:47.616320Z",
     "iopub.status.busy": "2024-08-27T23:12:47.615905Z",
     "iopub.status.idle": "2024-08-27T23:12:47.630765Z",
     "shell.execute_reply": "2024-08-27T23:12:47.629419Z"
    },
    "papermill": {
     "duration": 0.055724,
     "end_time": "2024-08-27T23:12:47.633599",
     "exception": false,
     "start_time": "2024-08-27T23:12:47.577875",
     "status": "completed"
    },
    "tags": []
   },
   "outputs": [],
   "source": [
    "from selenium import webdriver\n",
    "from selenium.webdriver.chrome.service import Service\n",
    "from selenium.webdriver.chrome.options import Options\n",
    "from selenium.webdriver.common.by import By\n",
    "from selenium.webdriver.support.ui import WebDriverWait\n",
    "from selenium.webdriver.support import expected_conditions as EC\n",
    "from tqdm import tqdm\n",
    "import pandas as pd\n",
    "\n",
    "# Define the WebDriver initialization function\n",
    "def initialize_driver():\n",
    "    CHROME_BINARY_LOCATION = \"/usr/bin/chrome-linux64/chrome\"\n",
    "    CHROMEDRIVER_BINARY_LOCATION = \"/usr/bin/chromedriver-linux64/chromedriver\"\n",
    "\n",
    "    chrome_options = Options()\n",
    "    chrome_options.binary_location = CHROME_BINARY_LOCATION\n",
    "    chrome_options.add_argument(\"--headless\")\n",
    "    chrome_options.add_argument(\"--no-sandbox\")\n",
    "    chrome_options.add_argument(\"--start-fullscreen\")\n",
    "    chrome_options.add_argument(\"--allow-insecure-localhost\")\n",
    "    chrome_options.add_argument(\"--disable-dev-shm-usage\")\n",
    "    chrome_options.add_argument(\"user-agent=Chrome/116.0.5845.96\")\n",
    "\n",
    "    driver = webdriver.Chrome(\n",
    "        executable_path=CHROMEDRIVER_BINARY_LOCATION,\n",
    "        options=chrome_options\n",
    "    )\n",
    "    return driver\n",
    "\n",
    "def scrape_user_urls(driver, num_users):\n",
    "    # Initialize an empty DataFrame to store user URLs\n",
    "    df = pd.DataFrame(columns=[\"user_url\"])  # Initialize df to avoid UnboundLocalError\n",
    "    all_user_urls = []\n",
    "    \n",
    "    # Code for scraping user URLs\n",
    "    try:\n",
    "        page = 1\n",
    "        users_scraped = 0\n",
    "        \n",
    "        while users_scraped < num_users:\n",
    "            print(f\"Processing Page {page}:\")\n",
    "            driver.get(f\"https://letterboxd.com/members/popular/page/{page}/\")\n",
    "            WebDriverWait(driver, 10).until(\n",
    "                EC.presence_of_all_elements_located((By.CSS_SELECTOR, 'a.avatar.-a40'))\n",
    "            )\n",
    "            \n",
    "            user_elements = driver.find_elements(By.CSS_SELECTOR, 'a.avatar.-a40')\n",
    "            page_user_urls = [element.get_attribute('href') for element in user_elements]\n",
    "            \n",
    "            all_user_urls.extend(page_user_urls)\n",
    "            users_scraped += len(page_user_urls)\n",
    "            page += 1\n",
    "            \n",
    "            # Break if we exceed the desired number of users\n",
    "            if users_scraped >= num_users:\n",
    "                break\n",
    "        \n",
    "        # Slice the list to only include the desired number of users\n",
    "        all_user_urls = all_user_urls[:num_users]\n",
    "        \n",
    "        # Convert the list to a DataFrame\n",
    "        df = pd.DataFrame({\"user_url\": all_user_urls})\n",
    "    \n",
    "    except TimeoutException:\n",
    "        print(\"Timeout occurred during scraping. Proceeding with available data.\")\n",
    "    \n",
    "    finally:\n",
    "        driver.quit()\n",
    "        print(\"Connection closed successfully!\\n\\n\")\n",
    "    \n",
    "    return df\n",
    "\n"
   ]
  },
  {
   "cell_type": "code",
   "execution_count": 10,
   "id": "40aef755",
   "metadata": {
    "execution": {
     "iopub.execute_input": "2024-08-27T23:12:47.708595Z",
     "iopub.status.busy": "2024-08-27T23:12:47.708220Z",
     "iopub.status.idle": "2024-08-27T23:12:47.738577Z",
     "shell.execute_reply": "2024-08-27T23:12:47.737452Z"
    },
    "papermill": {
     "duration": 0.071524,
     "end_time": "2024-08-27T23:12:47.741539",
     "exception": false,
     "start_time": "2024-08-27T23:12:47.670015",
     "status": "completed"
    },
    "tags": []
   },
   "outputs": [],
   "source": [
    "from selenium import webdriver\n",
    "from selenium.webdriver.chrome.service import Service\n",
    "from selenium.webdriver.chrome.options import Options\n",
    "from selenium.webdriver.common.by import By\n",
    "from selenium.webdriver.support.ui import WebDriverWait\n",
    "from selenium.webdriver.support import expected_conditions as EC\n",
    "from selenium.common.exceptions import NoSuchElementException, TimeoutException\n",
    "from tqdm import tqdm\n",
    "import pandas as pd\n",
    "\n",
    "def initialize_driver():\n",
    "    CHROME_BINARY_LOCATION = \"/usr/bin/chrome-linux64/chrome\"\n",
    "    CHROMEDRIVER_BINARY_LOCATION = \"/usr/bin/chromedriver-linux64/chromedriver\"\n",
    "\n",
    "    chrome_options = Options()\n",
    "    chrome_options.binary_location = CHROME_BINARY_LOCATION\n",
    "    chrome_options.add_argument(\"--headless\")\n",
    "    chrome_options.add_argument(\"--no-sandbox\")\n",
    "    chrome_options.add_argument(\"--start-fullscreen\")\n",
    "    chrome_options.add_argument(\"--allow-insecure-localhost\")\n",
    "    chrome_options.add_argument(\"--disable-dev-shm-usage\")\n",
    "    chrome_options.add_argument(\"user-agent=Chrome/116.0.5845.96\")\n",
    "\n",
    "    driver = webdriver.Chrome(\n",
    "        executable_path=CHROMEDRIVER_BINARY_LOCATION,\n",
    "        options=chrome_options\n",
    "    )\n",
    "    return driver\n",
    "\n",
    "def normalize_rating(star_rating):\n",
    "    rating_map = {'★': 0.2, '½': 0.1}\n",
    "    return sum(rating_map[char] for char in star_rating if char in rating_map)\n",
    "\n",
    "def extract_review_details(element):\n",
    "    review = {}\n",
    "    \n",
    "    try:\n",
    "        movie_name_element = element.find_element(By.CSS_SELECTOR, 'h2.headline-2 a')\n",
    "        review['movie_title'] = movie_name_element.text\n",
    "        review['movie_url'] = movie_name_element.get_attribute('href')\n",
    "    except NoSuchElementException:\n",
    "        review['movie_title'] = None\n",
    "        review['movie_url'] = None\n",
    "\n",
    "    try:\n",
    "        review_text_element = element.find_element(By.CSS_SELECTOR, 'div.body-text.-prose.collapsible-text')\n",
    "        review['review_text'] = review_text_element.text\n",
    "    except NoSuchElementException:\n",
    "        review['review_text'] = None\n",
    "\n",
    "    try:\n",
    "        rating_element = element.find_element(By.CSS_SELECTOR, 'span.rating')\n",
    "        review['rating'] = normalize_rating(rating_element.text)\n",
    "    except NoSuchElementException:\n",
    "        review['rating'] = None\n",
    "\n",
    "    try:\n",
    "        review_date_element = element.find_element(By.CSS_SELECTOR, 'span.date')\n",
    "        review['review_date'] = review_date_element.text\n",
    "    except NoSuchElementException:\n",
    "        review['review_date'] = None\n",
    "\n",
    "    try:\n",
    "        movie_release_date_element = element.find_element(By.CSS_SELECTOR, 'small.metadata a')\n",
    "        review['movie_year'] = movie_release_date_element.text\n",
    "    except NoSuchElementException:\n",
    "        review['movie_year'] = None\n",
    "    \n",
    "    return review\n",
    "\n",
    "def scrape_reviews_from_user(driver, user_url, num_reviews_per_user):\n",
    "    all_reviews = []\n",
    "    page = 1\n",
    "\n",
    "    while len(all_reviews) < num_reviews_per_user:\n",
    "        try:\n",
    "            driver.get(f\"{user_url}/films/reviews/by/added/page/{page}/\")\n",
    "            WebDriverWait(driver, 10).until(\n",
    "                EC.presence_of_all_elements_located((By.CSS_SELECTOR, 'div.film-detail-content'))\n",
    "            )\n",
    "            review_elements = driver.find_elements(By.CSS_SELECTOR, 'div.film-detail-content')\n",
    "\n",
    "            for element in review_elements:\n",
    "                if len(all_reviews) >= num_reviews_per_user:\n",
    "                    break\n",
    "                \n",
    "                review = extract_review_details(element)\n",
    "                review['user_url'] = user_url\n",
    "\n",
    "                if review['review_text'] and review['rating'] is not None:\n",
    "                    all_reviews.append(review)\n",
    "            \n",
    "            if len(all_reviews) < num_reviews_per_user:\n",
    "                page += 1\n",
    "            else:\n",
    "                break\n",
    "        \n",
    "        except TimeoutException:\n",
    "            print(f\"Timeout while loading page {page} for user {user_url}\")\n",
    "            break\n",
    "\n",
    "    return all_reviews"
   ]
  },
  {
   "cell_type": "code",
   "execution_count": 11,
   "id": "e0d19622",
   "metadata": {
    "execution": {
     "iopub.execute_input": "2024-08-27T23:12:47.815522Z",
     "iopub.status.busy": "2024-08-27T23:12:47.814739Z",
     "iopub.status.idle": "2024-08-27T23:12:47.825689Z",
     "shell.execute_reply": "2024-08-27T23:12:47.824580Z"
    },
    "papermill": {
     "duration": 0.050898,
     "end_time": "2024-08-27T23:12:47.828476",
     "exception": false,
     "start_time": "2024-08-27T23:12:47.777578",
     "status": "completed"
    },
    "tags": []
   },
   "outputs": [],
   "source": [
    "import os\n",
    "\n",
    "def save_checkpoint(df, checkpoint_filename):\n",
    "    \"\"\"\n",
    "    Save the DataFrame to a CSV file as a checkpoint.\n",
    "\n",
    "    Args:\n",
    "        df (pd.DataFrame): The DataFrame to save.\n",
    "        checkpoint_filename (str): The filename for the checkpoint.\n",
    "    \"\"\"\n",
    "    df.to_csv(checkpoint_filename, index=False)\n",
    "    print(f\"Checkpoint saved to {checkpoint_filename}\")\n",
    "\n",
    "def scrape_reviews_from_users(driver, user_urls, num_reviews_per_user, checkpoint_filename=\"user_reviews_checkpoint.csv\"):\n",
    "    \"\"\"\n",
    "    Scrape reviews from a list of user URLs on Letterboxd, saving progress at checkpoints.\n",
    "    \n",
    "    Args:\n",
    "        driver (webdriver.Chrome): The initialized Chrome driver.\n",
    "        user_urls (pd.Series): Series of user URLs.\n",
    "        num_reviews_per_user (int): Number of reviews to scrape per user.\n",
    "        checkpoint_filename (str): Filename to save checkpoints.\n",
    "    \n",
    "    Returns:\n",
    "        pd.DataFrame: DataFrame containing the scraped reviews.\n",
    "    \"\"\"\n",
    "    print(\"Successfully connected to WebDriver!\")\n",
    "    all_reviews = []\n",
    "    checkpoint_interval = 10  # Save every 10 users\n",
    "\n",
    "    for idx, user_url in enumerate(tqdm(user_urls, desc=\"Processing Users\"), start=1):\n",
    "        print(f\"Scraping reviews for user: {user_url}\")\n",
    "        user_reviews = scrape_reviews_from_user(driver, user_url, num_reviews_per_user)\n",
    "        all_reviews.extend(user_reviews)\n",
    "\n",
    "        # Save checkpoint at intervals\n",
    "        if idx % checkpoint_interval == 0:\n",
    "            df = pd.DataFrame(all_reviews)\n",
    "            save_checkpoint(df, checkpoint_filename)\n",
    "    \n",
    "    # Save the final data\n",
    "    df = pd.DataFrame(all_reviews)\n",
    "    save_checkpoint(df, checkpoint_filename)\n",
    "\n",
    "    print(\"Reviews successfully scraped from user URLs!\\nReviews preview:\")\n",
    "    print(df.head().to_string())\n",
    "    print(\"\\nClosing connection to selenium WebDriver...\")\n",
    "    driver.quit()\n",
    "    print(\"Connection closed successfully!\\n\\n\")\n",
    "\n",
    "    return df\n"
   ]
  },
  {
   "cell_type": "code",
   "execution_count": 12,
   "id": "c377e539",
   "metadata": {
    "execution": {
     "iopub.execute_input": "2024-08-27T23:12:47.925655Z",
     "iopub.status.busy": "2024-08-27T23:12:47.925261Z",
     "iopub.status.idle": "2024-08-27T23:15:27.943034Z",
     "shell.execute_reply": "2024-08-27T23:15:27.941497Z"
    },
    "papermill": {
     "duration": 160.064012,
     "end_time": "2024-08-27T23:15:27.945736",
     "exception": false,
     "start_time": "2024-08-27T23:12:47.881724",
     "status": "completed"
    },
    "tags": []
   },
   "outputs": [
    {
     "name": "stdout",
     "output_type": "stream",
     "text": [
      "Processing Page 1:\n",
      "Processing Page 2:\n",
      "Processing Page 3:\n",
      "Processing Page 4:\n",
      "Processing Page 5:\n",
      "Processing Page 6:\n",
      "Connection closed successfully!\n",
      "\n",
      "\n"
     ]
    }
   ],
   "source": [
    "# Scrape user urls\n",
    "if __name__ == \"__main__\":\n",
    "    driver = initialize_driver()\n",
    "    try:\n",
    "        num_users_to_scrape = 200  # Adjust this number as needed\n",
    "        user_urls_df = scrape_user_urls(driver, num_users_to_scrape)\n",
    "        user_urls_df.to_csv('/kaggle/working/user_urls.csv', index=False)\n",
    "    finally:\n",
    "        driver.quit()  # Ensure the driver is closed after usage"
   ]
  },
  {
   "cell_type": "code",
   "execution_count": 13,
   "id": "deffdd1b",
   "metadata": {
    "execution": {
     "iopub.execute_input": "2024-08-27T23:15:28.022878Z",
     "iopub.status.busy": "2024-08-27T23:15:28.021602Z",
     "iopub.status.idle": "2024-08-28T03:19:00.176759Z",
     "shell.execute_reply": "2024-08-28T03:19:00.174761Z"
    },
    "papermill": {
     "duration": 14612.198458,
     "end_time": "2024-08-28T03:19:00.180839",
     "exception": false,
     "start_time": "2024-08-27T23:15:27.982381",
     "status": "completed"
    },
    "tags": []
   },
   "outputs": [
    {
     "name": "stdout",
     "output_type": "stream",
     "text": [
      "Successfully connected to WebDriver!\n"
     ]
    },
    {
     "name": "stderr",
     "output_type": "stream",
     "text": [
      "Processing Users:   0%|          | 0/200 [00:00<?, ?it/s]"
     ]
    },
    {
     "name": "stdout",
     "output_type": "stream",
     "text": [
      "Scraping reviews for user: https://letterboxd.com/kurstboy/\n"
     ]
    },
    {
     "name": "stderr",
     "output_type": "stream",
     "text": [
      "Processing Users:   0%|          | 1/200 [03:03<10:07:39, 183.21s/it]"
     ]
    },
    {
     "name": "stdout",
     "output_type": "stream",
     "text": [
      "Scraping reviews for user: https://letterboxd.com/deathproof/\n"
     ]
    },
    {
     "name": "stderr",
     "output_type": "stream",
     "text": [
      "Processing Users:   1%|          | 2/200 [03:53<5:47:21, 105.26s/it] "
     ]
    },
    {
     "name": "stdout",
     "output_type": "stream",
     "text": [
      "Scraping reviews for user: https://letterboxd.com/jay/\n"
     ]
    },
    {
     "name": "stderr",
     "output_type": "stream",
     "text": [
      "Processing Users:   2%|▏         | 3/200 [04:38<4:14:55, 77.64s/it] "
     ]
    },
    {
     "name": "stdout",
     "output_type": "stream",
     "text": [
      "Scraping reviews for user: https://letterboxd.com/schaffrillas/\n"
     ]
    },
    {
     "name": "stderr",
     "output_type": "stream",
     "text": [
      "Processing Users:   2%|▏         | 4/200 [05:19<3:26:26, 63.20s/it]"
     ]
    },
    {
     "name": "stdout",
     "output_type": "stream",
     "text": [
      "Scraping reviews for user: https://letterboxd.com/davidehrlich/\n"
     ]
    },
    {
     "name": "stderr",
     "output_type": "stream",
     "text": [
      "Processing Users:   2%|▎         | 5/200 [06:02<3:01:06, 55.72s/it]"
     ]
    },
    {
     "name": "stdout",
     "output_type": "stream",
     "text": [
      "Scraping reviews for user: https://letterboxd.com/ingridgoeswest/\n"
     ]
    },
    {
     "name": "stderr",
     "output_type": "stream",
     "text": [
      "Processing Users:   3%|▎         | 6/200 [06:49<2:50:35, 52.76s/it]"
     ]
    },
    {
     "name": "stdout",
     "output_type": "stream",
     "text": [
      "Scraping reviews for user: https://letterboxd.com/silentdawn/\n"
     ]
    },
    {
     "name": "stderr",
     "output_type": "stream",
     "text": [
      "Processing Users:   4%|▎         | 7/200 [07:33<2:40:27, 49.89s/it]"
     ]
    },
    {
     "name": "stdout",
     "output_type": "stream",
     "text": [
      "Scraping reviews for user: https://letterboxd.com/thejoshl/\n"
     ]
    },
    {
     "name": "stderr",
     "output_type": "stream",
     "text": [
      "Processing Users:   4%|▍         | 8/200 [08:17<2:33:36, 48.00s/it]"
     ]
    },
    {
     "name": "stdout",
     "output_type": "stream",
     "text": [
      "Scraping reviews for user: https://letterboxd.com/colonelmortimer/\n"
     ]
    },
    {
     "name": "stderr",
     "output_type": "stream",
     "text": [
      "Processing Users:   4%|▍         | 9/200 [09:00<2:28:37, 46.69s/it]"
     ]
    },
    {
     "name": "stdout",
     "output_type": "stream",
     "text": [
      "Scraping reviews for user: https://letterboxd.com/suspirliam/\n"
     ]
    },
    {
     "name": "stderr",
     "output_type": "stream",
     "text": [
      "Processing Users:   5%|▌         | 10/200 [09:43<2:23:56, 45.46s/it]"
     ]
    },
    {
     "name": "stdout",
     "output_type": "stream",
     "text": [
      "Checkpoint saved to user_reviews_checkpoint.csv\n",
      "Scraping reviews for user: https://letterboxd.com/superpulse/\n"
     ]
    },
    {
     "name": "stderr",
     "output_type": "stream",
     "text": [
      "Processing Users:   6%|▌         | 11/200 [10:26<2:20:31, 44.61s/it]"
     ]
    },
    {
     "name": "stdout",
     "output_type": "stream",
     "text": [
      "Scraping reviews for user: https://letterboxd.com/24framesofnick/\n"
     ]
    },
    {
     "name": "stderr",
     "output_type": "stream",
     "text": [
      "Processing Users:   6%|▌         | 12/200 [11:09<2:17:56, 44.02s/it]"
     ]
    },
    {
     "name": "stdout",
     "output_type": "stream",
     "text": [
      "Scraping reviews for user: https://letterboxd.com/davidlsims/\n"
     ]
    },
    {
     "name": "stderr",
     "output_type": "stream",
     "text": [
      "Processing Users:   6%|▋         | 13/200 [11:49<2:14:12, 43.06s/it]"
     ]
    },
    {
     "name": "stdout",
     "output_type": "stream",
     "text": [
      "Scraping reviews for user: https://letterboxd.com/brat/\n"
     ]
    },
    {
     "name": "stderr",
     "output_type": "stream",
     "text": [
      "Processing Users:   7%|▋         | 14/200 [12:17<1:59:12, 38.46s/it]"
     ]
    },
    {
     "name": "stdout",
     "output_type": "stream",
     "text": [
      "Scraping reviews for user: https://letterboxd.com/aarnwlsn/\n"
     ]
    },
    {
     "name": "stderr",
     "output_type": "stream",
     "text": [
      "Processing Users:   8%|▊         | 15/200 [13:02<2:04:23, 40.34s/it]"
     ]
    },
    {
     "name": "stdout",
     "output_type": "stream",
     "text": [
      "Scraping reviews for user: https://letterboxd.com/sapphicquinn/\n"
     ]
    },
    {
     "name": "stderr",
     "output_type": "stream",
     "text": [
      "Processing Users:   8%|▊         | 16/200 [13:49<2:10:22, 42.51s/it]"
     ]
    },
    {
     "name": "stdout",
     "output_type": "stream",
     "text": [
      "Scraping reviews for user: https://letterboxd.com/usercillian/\n"
     ]
    },
    {
     "name": "stderr",
     "output_type": "stream",
     "text": [
      "Processing Users:   8%|▊         | 17/200 [14:35<2:12:34, 43.47s/it]"
     ]
    },
    {
     "name": "stdout",
     "output_type": "stream",
     "text": [
      "Scraping reviews for user: https://letterboxd.com/tototoro/\n"
     ]
    },
    {
     "name": "stderr",
     "output_type": "stream",
     "text": [
      "Processing Users:   9%|▉         | 18/200 [15:18<2:11:34, 43.37s/it]"
     ]
    },
    {
     "name": "stdout",
     "output_type": "stream",
     "text": [
      "Scraping reviews for user: https://letterboxd.com/sophiedarcy/\n"
     ]
    },
    {
     "name": "stderr",
     "output_type": "stream",
     "text": [
      "Processing Users:  10%|▉         | 19/200 [16:05<2:13:50, 44.37s/it]"
     ]
    },
    {
     "name": "stdout",
     "output_type": "stream",
     "text": [
      "Scraping reviews for user: https://letterboxd.com/jaragon23/\n"
     ]
    },
    {
     "name": "stderr",
     "output_type": "stream",
     "text": [
      "Processing Users:  10%|█         | 20/200 [16:52<2:15:13, 45.07s/it]"
     ]
    },
    {
     "name": "stdout",
     "output_type": "stream",
     "text": [
      "Checkpoint saved to user_reviews_checkpoint.csv\n",
      "Scraping reviews for user: https://letterboxd.com/ianamurray/\n"
     ]
    },
    {
     "name": "stderr",
     "output_type": "stream",
     "text": [
      "Processing Users:  10%|█         | 21/200 [17:39<2:16:30, 45.76s/it]"
     ]
    },
    {
     "name": "stdout",
     "output_type": "stream",
     "text": [
      "Scraping reviews for user: https://letterboxd.com/zoerosebryant/\n"
     ]
    },
    {
     "name": "stderr",
     "output_type": "stream",
     "text": [
      "Processing Users:  11%|█         | 22/200 [18:26<2:17:00, 46.18s/it]"
     ]
    },
    {
     "name": "stdout",
     "output_type": "stream",
     "text": [
      "Scraping reviews for user: https://letterboxd.com/childrenofmen/\n"
     ]
    },
    {
     "name": "stderr",
     "output_type": "stream",
     "text": [
      "Processing Users:  12%|█▏        | 23/200 [19:47<2:46:59, 56.61s/it]"
     ]
    },
    {
     "name": "stdout",
     "output_type": "stream",
     "text": [
      "Scraping reviews for user: https://letterboxd.com/dirkh/\n"
     ]
    },
    {
     "name": "stderr",
     "output_type": "stream",
     "text": [
      "Processing Users:  12%|█▏        | 24/200 [20:38<2:41:09, 54.94s/it]"
     ]
    },
    {
     "name": "stdout",
     "output_type": "stream",
     "text": [
      "Scraping reviews for user: https://letterboxd.com/fuchsiadyke/\n"
     ]
    },
    {
     "name": "stderr",
     "output_type": "stream",
     "text": [
      "Processing Users:  12%|█▎        | 25/200 [29:44<9:49:26, 202.09s/it]"
     ]
    },
    {
     "name": "stdout",
     "output_type": "stream",
     "text": [
      "Scraping reviews for user: https://letterboxd.com/jeaba/\n"
     ]
    },
    {
     "name": "stderr",
     "output_type": "stream",
     "text": [
      "Processing Users:  13%|█▎        | 26/200 [30:30<7:30:55, 155.49s/it]"
     ]
    },
    {
     "name": "stdout",
     "output_type": "stream",
     "text": [
      "Scraping reviews for user: https://letterboxd.com/rickdeckard/\n"
     ]
    },
    {
     "name": "stderr",
     "output_type": "stream",
     "text": [
      "Processing Users:  14%|█▎        | 27/200 [31:18<5:55:01, 123.13s/it]"
     ]
    },
    {
     "name": "stdout",
     "output_type": "stream",
     "text": [
      "Scraping reviews for user: https://letterboxd.com/elihayes/\n"
     ]
    },
    {
     "name": "stderr",
     "output_type": "stream",
     "text": [
      "Processing Users:  14%|█▍        | 28/200 [32:08<4:49:41, 101.06s/it]"
     ]
    },
    {
     "name": "stdout",
     "output_type": "stream",
     "text": [
      "Scraping reviews for user: https://letterboxd.com/nycsubwayrat/\n"
     ]
    },
    {
     "name": "stderr",
     "output_type": "stream",
     "text": [
      "Processing Users:  14%|█▍        | 29/200 [32:55<4:02:25, 85.06s/it] "
     ]
    },
    {
     "name": "stdout",
     "output_type": "stream",
     "text": [
      "Scraping reviews for user: https://letterboxd.com/darrencb/\n"
     ]
    },
    {
     "name": "stderr",
     "output_type": "stream",
     "text": [
      "Processing Users:  15%|█▌        | 30/200 [33:42<3:28:45, 73.68s/it]"
     ]
    },
    {
     "name": "stdout",
     "output_type": "stream",
     "text": [
      "Checkpoint saved to user_reviews_checkpoint.csv\n",
      "Scraping reviews for user: https://letterboxd.com/kurstboy/\n"
     ]
    },
    {
     "name": "stderr",
     "output_type": "stream",
     "text": [
      "Processing Users:  16%|█▌        | 31/200 [34:29<3:04:50, 65.62s/it]"
     ]
    },
    {
     "name": "stdout",
     "output_type": "stream",
     "text": [
      "Scraping reviews for user: https://letterboxd.com/deathproof/\n"
     ]
    },
    {
     "name": "stderr",
     "output_type": "stream",
     "text": [
      "Processing Users:  16%|█▌        | 32/200 [35:21<2:52:27, 61.59s/it]"
     ]
    },
    {
     "name": "stdout",
     "output_type": "stream",
     "text": [
      "Scraping reviews for user: https://letterboxd.com/jay/\n"
     ]
    },
    {
     "name": "stderr",
     "output_type": "stream",
     "text": [
      "Processing Users:  16%|█▋        | 33/200 [36:07<2:38:20, 56.89s/it]"
     ]
    },
    {
     "name": "stdout",
     "output_type": "stream",
     "text": [
      "Scraping reviews for user: https://letterboxd.com/schaffrillas/\n"
     ]
    },
    {
     "name": "stderr",
     "output_type": "stream",
     "text": [
      "Processing Users:  17%|█▋        | 34/200 [36:50<2:25:46, 52.69s/it]"
     ]
    },
    {
     "name": "stdout",
     "output_type": "stream",
     "text": [
      "Scraping reviews for user: https://letterboxd.com/davidehrlich/\n"
     ]
    },
    {
     "name": "stderr",
     "output_type": "stream",
     "text": [
      "Processing Users:  18%|█▊        | 35/200 [37:43<2:24:40, 52.61s/it]"
     ]
    },
    {
     "name": "stdout",
     "output_type": "stream",
     "text": [
      "Scraping reviews for user: https://letterboxd.com/franhoepfner/\n"
     ]
    },
    {
     "name": "stderr",
     "output_type": "stream",
     "text": [
      "Processing Users:  18%|█▊        | 36/200 [38:31<2:20:22, 51.36s/it]"
     ]
    },
    {
     "name": "stdout",
     "output_type": "stream",
     "text": [
      "Scraping reviews for user: https://letterboxd.com/kfavs/\n"
     ]
    },
    {
     "name": "stderr",
     "output_type": "stream",
     "text": [
      "Processing Users:  18%|█▊        | 37/200 [39:18<2:16:11, 50.13s/it]"
     ]
    },
    {
     "name": "stdout",
     "output_type": "stream",
     "text": [
      "Scraping reviews for user: https://letterboxd.com/georgecarmi/\n"
     ]
    },
    {
     "name": "stderr",
     "output_type": "stream",
     "text": [
      "Processing Users:  19%|█▉        | 38/200 [40:12<2:17:50, 51.05s/it]"
     ]
    },
    {
     "name": "stdout",
     "output_type": "stream",
     "text": [
      "Scraping reviews for user: https://letterboxd.com/riverjphoenix/\n"
     ]
    },
    {
     "name": "stderr",
     "output_type": "stream",
     "text": [
      "Processing Users:  20%|█▉        | 39/200 [40:55<2:11:10, 48.88s/it]"
     ]
    },
    {
     "name": "stdout",
     "output_type": "stream",
     "text": [
      "Scraping reviews for user: https://letterboxd.com/murielcampos/\n"
     ]
    },
    {
     "name": "stderr",
     "output_type": "stream",
     "text": [
      "Processing Users:  20%|██        | 40/200 [41:59<2:21:47, 53.17s/it]"
     ]
    },
    {
     "name": "stdout",
     "output_type": "stream",
     "text": [
      "Checkpoint saved to user_reviews_checkpoint.csv\n",
      "Scraping reviews for user: https://letterboxd.com/kun/\n"
     ]
    },
    {
     "name": "stderr",
     "output_type": "stream",
     "text": [
      "Processing Users:  20%|██        | 41/200 [42:42<2:13:31, 50.39s/it]"
     ]
    },
    {
     "name": "stdout",
     "output_type": "stream",
     "text": [
      "Scraping reviews for user: https://letterboxd.com/highlife/\n"
     ]
    },
    {
     "name": "stderr",
     "output_type": "stream",
     "text": [
      "Processing Users:  21%|██        | 42/200 [43:27<2:08:19, 48.73s/it]"
     ]
    },
    {
     "name": "stdout",
     "output_type": "stream",
     "text": [
      "Scraping reviews for user: https://letterboxd.com/elementarii/\n"
     ]
    },
    {
     "name": "stderr",
     "output_type": "stream",
     "text": [
      "Processing Users:  22%|██▏       | 43/200 [44:13<2:04:47, 47.69s/it]"
     ]
    },
    {
     "name": "stdout",
     "output_type": "stream",
     "text": [
      "Scraping reviews for user: https://letterboxd.com/leslieburke/\n"
     ]
    },
    {
     "name": "stderr",
     "output_type": "stream",
     "text": [
      "Processing Users:  22%|██▏       | 44/200 [47:34<4:03:55, 93.82s/it]"
     ]
    },
    {
     "name": "stdout",
     "output_type": "stream",
     "text": [
      "Scraping reviews for user: https://letterboxd.com/eely/\n"
     ]
    },
    {
     "name": "stderr",
     "output_type": "stream",
     "text": [
      "Processing Users:  22%|██▎       | 45/200 [48:20<3:24:56, 79.33s/it]"
     ]
    },
    {
     "name": "stdout",
     "output_type": "stream",
     "text": [
      "Scraping reviews for user: https://letterboxd.com/juggernaut323/\n"
     ]
    },
    {
     "name": "stderr",
     "output_type": "stream",
     "text": [
      "Processing Users:  23%|██▎       | 46/200 [49:10<3:01:28, 70.70s/it]"
     ]
    },
    {
     "name": "stdout",
     "output_type": "stream",
     "text": [
      "Scraping reviews for user: https://letterboxd.com/sapphical/\n"
     ]
    },
    {
     "name": "stderr",
     "output_type": "stream",
     "text": [
      "Processing Users:  24%|██▎       | 47/200 [50:00<2:44:43, 64.60s/it]"
     ]
    },
    {
     "name": "stdout",
     "output_type": "stream",
     "text": [
      "Scraping reviews for user: https://letterboxd.com/barbiesswanlake/\n"
     ]
    },
    {
     "name": "stderr",
     "output_type": "stream",
     "text": [
      "Processing Users:  24%|██▍       | 48/200 [50:57<2:37:36, 62.22s/it]"
     ]
    },
    {
     "name": "stdout",
     "output_type": "stream",
     "text": [
      "Scraping reviews for user: https://letterboxd.com/davidfinchher/\n"
     ]
    },
    {
     "name": "stderr",
     "output_type": "stream",
     "text": [
      "Processing Users:  24%|██▍       | 49/200 [51:46<2:26:16, 58.12s/it]"
     ]
    },
    {
     "name": "stdout",
     "output_type": "stream",
     "text": [
      "Scraping reviews for user: https://letterboxd.com/stk5/\n"
     ]
    },
    {
     "name": "stderr",
     "output_type": "stream",
     "text": [
      "Processing Users:  25%|██▌       | 50/200 [52:34<2:17:49, 55.13s/it]"
     ]
    },
    {
     "name": "stdout",
     "output_type": "stream",
     "text": [
      "Checkpoint saved to user_reviews_checkpoint.csv\n",
      "Scraping reviews for user: https://letterboxd.com/mrmoviesrd/\n"
     ]
    },
    {
     "name": "stderr",
     "output_type": "stream",
     "text": [
      "Processing Users:  26%|██▌       | 51/200 [53:23<2:12:10, 53.22s/it]"
     ]
    },
    {
     "name": "stdout",
     "output_type": "stream",
     "text": [
      "Scraping reviews for user: https://letterboxd.com/cantinaband/\n"
     ]
    },
    {
     "name": "stderr",
     "output_type": "stream",
     "text": [
      "Processing Users:  26%|██▌       | 52/200 [54:09<2:06:18, 51.21s/it]"
     ]
    },
    {
     "name": "stdout",
     "output_type": "stream",
     "text": [
      "Scraping reviews for user: https://letterboxd.com/hollieamanda/\n"
     ]
    },
    {
     "name": "stderr",
     "output_type": "stream",
     "text": [
      "Processing Users:  26%|██▋       | 53/200 [54:55<2:01:25, 49.56s/it]"
     ]
    },
    {
     "name": "stdout",
     "output_type": "stream",
     "text": [
      "Scraping reviews for user: https://letterboxd.com/filipe_furtado/\n"
     ]
    },
    {
     "name": "stderr",
     "output_type": "stream",
     "text": [
      "Processing Users:  27%|██▋       | 54/200 [55:45<2:01:18, 49.85s/it]"
     ]
    },
    {
     "name": "stdout",
     "output_type": "stream",
     "text": [
      "Scraping reviews for user: https://letterboxd.com/theonlyoneram_/\n"
     ]
    },
    {
     "name": "stderr",
     "output_type": "stream",
     "text": [
      "Processing Users:  28%|██▊       | 55/200 [56:33<1:58:46, 49.15s/it]"
     ]
    },
    {
     "name": "stdout",
     "output_type": "stream",
     "text": [
      "Scraping reviews for user: https://letterboxd.com/willhunting/\n"
     ]
    },
    {
     "name": "stderr",
     "output_type": "stream",
     "text": [
      "Processing Users:  28%|██▊       | 56/200 [57:20<1:56:19, 48.47s/it]"
     ]
    },
    {
     "name": "stdout",
     "output_type": "stream",
     "text": [
      "Scraping reviews for user: https://letterboxd.com/ellakemp/\n"
     ]
    },
    {
     "name": "stderr",
     "output_type": "stream",
     "text": [
      "Processing Users:  28%|██▊       | 57/200 [57:44<1:37:57, 41.10s/it]"
     ]
    },
    {
     "name": "stdout",
     "output_type": "stream",
     "text": [
      "Scraping reviews for user: https://letterboxd.com/leeyim/\n"
     ]
    },
    {
     "name": "stderr",
     "output_type": "stream",
     "text": [
      "Processing Users:  29%|██▉       | 58/200 [58:26<1:38:22, 41.56s/it]"
     ]
    },
    {
     "name": "stdout",
     "output_type": "stream",
     "text": [
      "Scraping reviews for user: https://letterboxd.com/ilyclemmie/\n"
     ]
    },
    {
     "name": "stderr",
     "output_type": "stream",
     "text": [
      "Processing Users:  30%|██▉       | 59/200 [59:18<1:45:01, 44.69s/it]"
     ]
    },
    {
     "name": "stdout",
     "output_type": "stream",
     "text": [
      "Scraping reviews for user: https://letterboxd.com/lovelltrin/\n"
     ]
    },
    {
     "name": "stderr",
     "output_type": "stream",
     "text": [
      "Processing Users:  30%|███       | 60/200 [1:00:00<1:42:19, 43.86s/it]"
     ]
    },
    {
     "name": "stdout",
     "output_type": "stream",
     "text": [
      "Checkpoint saved to user_reviews_checkpoint.csv\n",
      "Scraping reviews for user: https://letterboxd.com/comrade_yui/\n"
     ]
    },
    {
     "name": "stderr",
     "output_type": "stream",
     "text": [
      "Processing Users:  30%|███       | 61/200 [1:00:44<1:41:14, 43.70s/it]"
     ]
    },
    {
     "name": "stdout",
     "output_type": "stream",
     "text": [
      "Scraping reviews for user: https://letterboxd.com/ellefnning/\n"
     ]
    },
    {
     "name": "stderr",
     "output_type": "stream",
     "text": [
      "Processing Users:  31%|███       | 62/200 [1:01:29<1:41:49, 44.27s/it]"
     ]
    },
    {
     "name": "stdout",
     "output_type": "stream",
     "text": [
      "Scraping reviews for user: https://letterboxd.com/alexlawther/\n"
     ]
    },
    {
     "name": "stderr",
     "output_type": "stream",
     "text": [
      "Processing Users:  32%|███▏      | 63/200 [1:02:25<1:49:13, 47.83s/it]"
     ]
    },
    {
     "name": "stdout",
     "output_type": "stream",
     "text": [
      "Scraping reviews for user: https://letterboxd.com/nevermore1985/\n"
     ]
    },
    {
     "name": "stderr",
     "output_type": "stream",
     "text": [
      "Processing Users:  32%|███▏      | 64/200 [1:03:16<1:50:03, 48.56s/it]"
     ]
    },
    {
     "name": "stdout",
     "output_type": "stream",
     "text": [
      "Scraping reviews for user: https://letterboxd.com/hewasthrfriendd/\n"
     ]
    },
    {
     "name": "stderr",
     "output_type": "stream",
     "text": [
      "Processing Users:  32%|███▎      | 65/200 [1:04:05<1:49:33, 48.69s/it]"
     ]
    },
    {
     "name": "stdout",
     "output_type": "stream",
     "text": [
      "Scraping reviews for user: https://letterboxd.com/kurstboy/\n"
     ]
    },
    {
     "name": "stderr",
     "output_type": "stream",
     "text": [
      "Processing Users:  33%|███▎      | 66/200 [1:04:52<1:47:42, 48.23s/it]"
     ]
    },
    {
     "name": "stdout",
     "output_type": "stream",
     "text": [
      "Scraping reviews for user: https://letterboxd.com/deathproof/\n"
     ]
    },
    {
     "name": "stderr",
     "output_type": "stream",
     "text": [
      "Processing Users:  34%|███▎      | 67/200 [1:05:44<1:49:44, 49.51s/it]"
     ]
    },
    {
     "name": "stdout",
     "output_type": "stream",
     "text": [
      "Scraping reviews for user: https://letterboxd.com/jay/\n"
     ]
    },
    {
     "name": "stderr",
     "output_type": "stream",
     "text": [
      "Processing Users:  34%|███▍      | 68/200 [1:06:31<1:47:21, 48.80s/it]"
     ]
    },
    {
     "name": "stdout",
     "output_type": "stream",
     "text": [
      "Scraping reviews for user: https://letterboxd.com/schaffrillas/\n"
     ]
    },
    {
     "name": "stderr",
     "output_type": "stream",
     "text": [
      "Processing Users:  34%|███▍      | 69/200 [1:07:14<1:42:45, 47.06s/it]"
     ]
    },
    {
     "name": "stdout",
     "output_type": "stream",
     "text": [
      "Scraping reviews for user: https://letterboxd.com/davidehrlich/\n"
     ]
    },
    {
     "name": "stderr",
     "output_type": "stream",
     "text": [
      "Processing Users:  35%|███▌      | 70/200 [1:07:59<1:40:17, 46.29s/it]"
     ]
    },
    {
     "name": "stdout",
     "output_type": "stream",
     "text": [
      "Checkpoint saved to user_reviews_checkpoint.csv\n",
      "Scraping reviews for user: https://letterboxd.com/enniomorricone/\n"
     ]
    },
    {
     "name": "stderr",
     "output_type": "stream",
     "text": [
      "Processing Users:  36%|███▌      | 71/200 [1:08:43<1:38:23, 45.76s/it]"
     ]
    },
    {
     "name": "stdout",
     "output_type": "stream",
     "text": [
      "Scraping reviews for user: https://letterboxd.com/russman/\n"
     ]
    },
    {
     "name": "stderr",
     "output_type": "stream",
     "text": [
      "Processing Users:  36%|███▌      | 72/200 [1:09:31<1:38:49, 46.32s/it]"
     ]
    },
    {
     "name": "stdout",
     "output_type": "stream",
     "text": [
      "Scraping reviews for user: https://letterboxd.com/will_sloan/\n"
     ]
    },
    {
     "name": "stderr",
     "output_type": "stream",
     "text": [
      "Processing Users:  36%|███▋      | 73/200 [1:13:46<3:50:34, 108.93s/it]"
     ]
    },
    {
     "name": "stdout",
     "output_type": "stream",
     "text": [
      "Scraping reviews for user: https://letterboxd.com/artwithin/\n"
     ]
    },
    {
     "name": "stderr",
     "output_type": "stream",
     "text": [
      "Processing Users:  37%|███▋      | 74/200 [1:14:34<3:10:24, 90.67s/it] "
     ]
    },
    {
     "name": "stdout",
     "output_type": "stream",
     "text": [
      "Scraping reviews for user: https://letterboxd.com/estheronfilm/\n"
     ]
    },
    {
     "name": "stderr",
     "output_type": "stream",
     "text": [
      "Processing Users:  38%|███▊      | 75/200 [1:15:24<2:43:27, 78.46s/it]"
     ]
    },
    {
     "name": "stdout",
     "output_type": "stream",
     "text": [
      "Scraping reviews for user: https://letterboxd.com/screeningnotes/\n"
     ]
    },
    {
     "name": "stderr",
     "output_type": "stream",
     "text": [
      "Processing Users:  38%|███▊      | 76/200 [1:16:22<2:29:42, 72.44s/it]"
     ]
    },
    {
     "name": "stdout",
     "output_type": "stream",
     "text": [
      "Scraping reviews for user: https://letterboxd.com/coffeevirus/\n"
     ]
    },
    {
     "name": "stderr",
     "output_type": "stream",
     "text": [
      "Processing Users:  38%|███▊      | 77/200 [1:17:13<2:15:06, 65.90s/it]"
     ]
    },
    {
     "name": "stdout",
     "output_type": "stream",
     "text": [
      "Scraping reviews for user: https://letterboxd.com/amandathejedi/\n"
     ]
    },
    {
     "name": "stderr",
     "output_type": "stream",
     "text": [
      "Processing Users:  39%|███▉      | 78/200 [1:18:26<2:18:30, 68.12s/it]"
     ]
    },
    {
     "name": "stdout",
     "output_type": "stream",
     "text": [
      "Scraping reviews for user: https://letterboxd.com/sethsreviews/\n"
     ]
    },
    {
     "name": "stderr",
     "output_type": "stream",
     "text": [
      "Processing Users:  40%|███▉      | 79/200 [1:19:13<2:04:28, 61.72s/it]"
     ]
    },
    {
     "name": "stdout",
     "output_type": "stream",
     "text": [
      "Scraping reviews for user: https://letterboxd.com/kyledunne/\n"
     ]
    },
    {
     "name": "stderr",
     "output_type": "stream",
     "text": [
      "Processing Users:  40%|████      | 80/200 [1:20:36<2:16:06, 68.05s/it]"
     ]
    },
    {
     "name": "stdout",
     "output_type": "stream",
     "text": [
      "Checkpoint saved to user_reviews_checkpoint.csv\n",
      "Scraping reviews for user: https://letterboxd.com/henryspencerirl/\n"
     ]
    },
    {
     "name": "stderr",
     "output_type": "stream",
     "text": [
      "Processing Users:  40%|████      | 81/200 [1:21:23<2:02:37, 61.82s/it]"
     ]
    },
    {
     "name": "stdout",
     "output_type": "stream",
     "text": [
      "Scraping reviews for user: https://letterboxd.com/settingsun/\n"
     ]
    },
    {
     "name": "stderr",
     "output_type": "stream",
     "text": [
      "Processing Users:  41%|████      | 82/200 [1:22:19<1:58:07, 60.06s/it]"
     ]
    },
    {
     "name": "stdout",
     "output_type": "stream",
     "text": [
      "Scraping reviews for user: https://letterboxd.com/dakotajoaquin/\n"
     ]
    },
    {
     "name": "stderr",
     "output_type": "stream",
     "text": [
      "Processing Users:  42%|████▏     | 83/200 [1:23:08<1:50:24, 56.62s/it]"
     ]
    },
    {
     "name": "stdout",
     "output_type": "stream",
     "text": [
      "Scraping reviews for user: https://letterboxd.com/alor/\n"
     ]
    },
    {
     "name": "stderr",
     "output_type": "stream",
     "text": [
      "Processing Users:  42%|████▏     | 84/200 [1:23:53<1:43:00, 53.28s/it]"
     ]
    },
    {
     "name": "stdout",
     "output_type": "stream",
     "text": [
      "Scraping reviews for user: https://letterboxd.com/arkhamoutlaw10/\n"
     ]
    },
    {
     "name": "stderr",
     "output_type": "stream",
     "text": [
      "Processing Users:  42%|████▎     | 85/200 [1:24:46<1:41:35, 53.01s/it]"
     ]
    },
    {
     "name": "stdout",
     "output_type": "stream",
     "text": [
      "Scraping reviews for user: https://letterboxd.com/elaurapictures/\n"
     ]
    },
    {
     "name": "stderr",
     "output_type": "stream",
     "text": [
      "Processing Users:  43%|████▎     | 86/200 [1:25:41<1:42:14, 53.81s/it]"
     ]
    },
    {
     "name": "stdout",
     "output_type": "stream",
     "text": [
      "Scraping reviews for user: https://letterboxd.com/sophiaplanos/\n"
     ]
    },
    {
     "name": "stderr",
     "output_type": "stream",
     "text": [
      "Processing Users:  44%|████▎     | 87/200 [1:26:35<1:41:26, 53.86s/it]"
     ]
    },
    {
     "name": "stdout",
     "output_type": "stream",
     "text": [
      "Scraping reviews for user: https://letterboxd.com/jlalibs/\n"
     ]
    },
    {
     "name": "stderr",
     "output_type": "stream",
     "text": [
      "Processing Users:  44%|████▍     | 88/200 [1:27:21<1:35:40, 51.25s/it]"
     ]
    },
    {
     "name": "stdout",
     "output_type": "stream",
     "text": [
      "Scraping reviews for user: https://letterboxd.com/gemko/\n"
     ]
    },
    {
     "name": "stderr",
     "output_type": "stream",
     "text": [
      "Processing Users:  44%|████▍     | 89/200 [1:28:13<1:35:22, 51.56s/it]"
     ]
    },
    {
     "name": "stdout",
     "output_type": "stream",
     "text": [
      "Scraping reviews for user: https://letterboxd.com/alovelynite/\n"
     ]
    },
    {
     "name": "stderr",
     "output_type": "stream",
     "text": [
      "Processing Users:  45%|████▌     | 90/200 [1:29:04<1:34:26, 51.52s/it]"
     ]
    },
    {
     "name": "stdout",
     "output_type": "stream",
     "text": [
      "Checkpoint saved to user_reviews_checkpoint.csv\n",
      "Scraping reviews for user: https://letterboxd.com/davechen/\n"
     ]
    },
    {
     "name": "stderr",
     "output_type": "stream",
     "text": [
      "Processing Users:  46%|████▌     | 91/200 [1:29:52<1:31:25, 50.33s/it]"
     ]
    },
    {
     "name": "stdout",
     "output_type": "stream",
     "text": [
      "Scraping reviews for user: https://letterboxd.com/niceguys/\n"
     ]
    },
    {
     "name": "stderr",
     "output_type": "stream",
     "text": [
      "Processing Users:  46%|████▌     | 92/200 [1:30:42<1:30:45, 50.42s/it]"
     ]
    },
    {
     "name": "stdout",
     "output_type": "stream",
     "text": [
      "Scraping reviews for user: https://letterboxd.com/jakepcole/\n"
     ]
    },
    {
     "name": "stderr",
     "output_type": "stream",
     "text": [
      "Processing Users:  46%|████▋     | 93/200 [1:31:32<1:29:27, 50.16s/it]"
     ]
    },
    {
     "name": "stdout",
     "output_type": "stream",
     "text": [
      "Scraping reviews for user: https://letterboxd.com/bethanyinfilm/\n"
     ]
    },
    {
     "name": "stderr",
     "output_type": "stream",
     "text": [
      "Processing Users:  47%|████▋     | 94/200 [1:32:22<1:28:37, 50.16s/it]"
     ]
    },
    {
     "name": "stdout",
     "output_type": "stream",
     "text": [
      "Scraping reviews for user: https://letterboxd.com/ihe/\n"
     ]
    },
    {
     "name": "stderr",
     "output_type": "stream",
     "text": [
      "Processing Users:  48%|████▊     | 95/200 [1:33:15<1:29:04, 50.90s/it]"
     ]
    },
    {
     "name": "stdout",
     "output_type": "stream",
     "text": [
      "Scraping reviews for user: https://letterboxd.com/jack/\n"
     ]
    },
    {
     "name": "stderr",
     "output_type": "stream",
     "text": [
      "Processing Users:  48%|████▊     | 96/200 [1:33:39<1:14:38, 43.06s/it]"
     ]
    },
    {
     "name": "stdout",
     "output_type": "stream",
     "text": [
      "Scraping reviews for user: https://letterboxd.com/cineaccess/\n"
     ]
    },
    {
     "name": "stderr",
     "output_type": "stream",
     "text": [
      "Processing Users:  48%|████▊     | 97/200 [1:34:31<1:18:02, 45.46s/it]"
     ]
    },
    {
     "name": "stdout",
     "output_type": "stream",
     "text": [
      "Scraping reviews for user: https://letterboxd.com/megbitchell/\n"
     ]
    },
    {
     "name": "stderr",
     "output_type": "stream",
     "text": [
      "Processing Users:  49%|████▉     | 98/200 [1:35:27<1:22:51, 48.74s/it]"
     ]
    },
    {
     "name": "stdout",
     "output_type": "stream",
     "text": [
      "Scraping reviews for user: https://letterboxd.com/hstrawberry/\n"
     ]
    },
    {
     "name": "stderr",
     "output_type": "stream",
     "text": [
      "Processing Users:  50%|████▉     | 99/200 [1:36:18<1:23:08, 49.39s/it]"
     ]
    },
    {
     "name": "stdout",
     "output_type": "stream",
     "text": [
      "Scraping reviews for user: https://letterboxd.com/zoltarak/\n"
     ]
    },
    {
     "name": "stderr",
     "output_type": "stream",
     "text": [
      "Processing Users:  50%|█████     | 100/200 [1:37:20<1:28:36, 53.16s/it]"
     ]
    },
    {
     "name": "stdout",
     "output_type": "stream",
     "text": [
      "Checkpoint saved to user_reviews_checkpoint.csv\n",
      "Scraping reviews for user: https://letterboxd.com/kurstboy/\n"
     ]
    },
    {
     "name": "stderr",
     "output_type": "stream",
     "text": [
      "Processing Users:  50%|█████     | 101/200 [1:38:09<1:25:50, 52.03s/it]"
     ]
    },
    {
     "name": "stdout",
     "output_type": "stream",
     "text": [
      "Scraping reviews for user: https://letterboxd.com/deathproof/\n"
     ]
    },
    {
     "name": "stderr",
     "output_type": "stream",
     "text": [
      "Processing Users:  51%|█████     | 102/200 [1:39:06<1:27:26, 53.53s/it]"
     ]
    },
    {
     "name": "stdout",
     "output_type": "stream",
     "text": [
      "Scraping reviews for user: https://letterboxd.com/jay/\n"
     ]
    },
    {
     "name": "stderr",
     "output_type": "stream",
     "text": [
      "Processing Users:  52%|█████▏    | 103/200 [1:39:58<1:25:28, 52.87s/it]"
     ]
    },
    {
     "name": "stdout",
     "output_type": "stream",
     "text": [
      "Scraping reviews for user: https://letterboxd.com/schaffrillas/\n"
     ]
    },
    {
     "name": "stderr",
     "output_type": "stream",
     "text": [
      "Processing Users:  52%|█████▏    | 104/200 [1:40:52<1:25:24, 53.38s/it]"
     ]
    },
    {
     "name": "stdout",
     "output_type": "stream",
     "text": [
      "Scraping reviews for user: https://letterboxd.com/davidehrlich/\n"
     ]
    },
    {
     "name": "stderr",
     "output_type": "stream",
     "text": [
      "Processing Users:  52%|█████▎    | 105/200 [1:41:43<1:23:14, 52.57s/it]"
     ]
    },
    {
     "name": "stdout",
     "output_type": "stream",
     "text": [
      "Scraping reviews for user: https://letterboxd.com/andredenervaux/\n"
     ]
    },
    {
     "name": "stderr",
     "output_type": "stream",
     "text": [
      "Processing Users:  53%|█████▎    | 106/200 [1:42:35<1:22:00, 52.34s/it]"
     ]
    },
    {
     "name": "stdout",
     "output_type": "stream",
     "text": [
      "Scraping reviews for user: https://letterboxd.com/seanfennessey/\n"
     ]
    },
    {
     "name": "stderr",
     "output_type": "stream",
     "text": [
      "Processing Users:  54%|█████▎    | 107/200 [1:43:34<1:24:36, 54.59s/it]"
     ]
    },
    {
     "name": "stdout",
     "output_type": "stream",
     "text": [
      "Scraping reviews for user: https://letterboxd.com/hauteprincesses/\n"
     ]
    },
    {
     "name": "stderr",
     "output_type": "stream",
     "text": [
      "Processing Users:  54%|█████▍    | 108/200 [1:44:27<1:22:42, 53.94s/it]"
     ]
    },
    {
     "name": "stdout",
     "output_type": "stream",
     "text": [
      "Scraping reviews for user: https://letterboxd.com/mulaney/\n"
     ]
    },
    {
     "name": "stderr",
     "output_type": "stream",
     "text": [
      "Processing Users:  55%|█████▍    | 109/200 [1:45:26<1:24:14, 55.54s/it]"
     ]
    },
    {
     "name": "stdout",
     "output_type": "stream",
     "text": [
      "Scraping reviews for user: https://letterboxd.com/kristenyoonsoo/\n"
     ]
    },
    {
     "name": "stderr",
     "output_type": "stream",
     "text": [
      "Processing Users:  55%|█████▌    | 110/200 [1:46:28<1:26:17, 57.52s/it]"
     ]
    },
    {
     "name": "stdout",
     "output_type": "stream",
     "text": [
      "Checkpoint saved to user_reviews_checkpoint.csv\n",
      "Scraping reviews for user: https://letterboxd.com/phrynefisher/\n"
     ]
    },
    {
     "name": "stderr",
     "output_type": "stream",
     "text": [
      "Processing Users:  56%|█████▌    | 111/200 [1:47:20<1:22:51, 55.86s/it]"
     ]
    },
    {
     "name": "stdout",
     "output_type": "stream",
     "text": [
      "Scraping reviews for user: https://letterboxd.com/starwarss/\n"
     ]
    },
    {
     "name": "stderr",
     "output_type": "stream",
     "text": [
      "Processing Users:  56%|█████▌    | 112/200 [1:48:11<1:19:51, 54.45s/it]"
     ]
    },
    {
     "name": "stdout",
     "output_type": "stream",
     "text": [
      "Scraping reviews for user: https://letterboxd.com/cuqui/\n"
     ]
    },
    {
     "name": "stderr",
     "output_type": "stream",
     "text": [
      "Processing Users:  56%|█████▋    | 113/200 [1:49:05<1:18:30, 54.14s/it]"
     ]
    },
    {
     "name": "stdout",
     "output_type": "stream",
     "text": [
      "Scraping reviews for user: https://letterboxd.com/tonyterror/\n"
     ]
    },
    {
     "name": "stderr",
     "output_type": "stream",
     "text": [
      "Processing Users:  57%|█████▋    | 114/200 [1:50:07<1:21:12, 56.65s/it]"
     ]
    },
    {
     "name": "stdout",
     "output_type": "stream",
     "text": [
      "Scraping reviews for user: https://letterboxd.com/cinemavoid/\n"
     ]
    },
    {
     "name": "stderr",
     "output_type": "stream",
     "text": [
      "Processing Users:  57%|█████▊    | 115/200 [1:51:03<1:19:46, 56.32s/it]"
     ]
    },
    {
     "name": "stdout",
     "output_type": "stream",
     "text": [
      "Scraping reviews for user: https://letterboxd.com/dave/\n"
     ]
    },
    {
     "name": "stderr",
     "output_type": "stream",
     "text": [
      "Processing Users:  58%|█████▊    | 116/200 [1:51:59<1:18:33, 56.12s/it]"
     ]
    },
    {
     "name": "stdout",
     "output_type": "stream",
     "text": [
      "Scraping reviews for user: https://letterboxd.com/iovewitch/\n"
     ]
    },
    {
     "name": "stderr",
     "output_type": "stream",
     "text": [
      "Processing Users:  58%|█████▊    | 117/200 [1:52:53<1:17:02, 55.70s/it]"
     ]
    },
    {
     "name": "stdout",
     "output_type": "stream",
     "text": [
      "Scraping reviews for user: https://letterboxd.com/jjbjr/\n"
     ]
    },
    {
     "name": "stderr",
     "output_type": "stream",
     "text": [
      "Processing Users:  59%|█████▉    | 118/200 [1:53:47<1:15:07, 54.97s/it]"
     ]
    },
    {
     "name": "stdout",
     "output_type": "stream",
     "text": [
      "Scraping reviews for user: https://letterboxd.com/austinburke/\n"
     ]
    },
    {
     "name": "stderr",
     "output_type": "stream",
     "text": [
      "Processing Users:  60%|█████▉    | 119/200 [1:54:41<1:13:54, 54.75s/it]"
     ]
    },
    {
     "name": "stdout",
     "output_type": "stream",
     "text": [
      "Scraping reviews for user: https://letterboxd.com/allisoncm/\n"
     ]
    },
    {
     "name": "stderr",
     "output_type": "stream",
     "text": [
      "Processing Users:  60%|██████    | 120/200 [1:55:54<1:20:29, 60.37s/it]"
     ]
    },
    {
     "name": "stdout",
     "output_type": "stream",
     "text": [
      "Checkpoint saved to user_reviews_checkpoint.csv\n",
      "Scraping reviews for user: https://letterboxd.com/lilfilm/\n"
     ]
    },
    {
     "name": "stderr",
     "output_type": "stream",
     "text": [
      "Processing Users:  60%|██████    | 121/200 [2:03:57<4:06:22, 187.12s/it]"
     ]
    },
    {
     "name": "stdout",
     "output_type": "stream",
     "text": [
      "Timeout while loading page 76 for user https://letterboxd.com/lilfilm/\n",
      "Scraping reviews for user: https://letterboxd.com/yazzjames/\n"
     ]
    },
    {
     "name": "stderr",
     "output_type": "stream",
     "text": [
      "Processing Users:  61%|██████    | 122/200 [2:04:53<3:11:53, 147.60s/it]"
     ]
    },
    {
     "name": "stdout",
     "output_type": "stream",
     "text": [
      "Scraping reviews for user: https://letterboxd.com/coreywagstaff/\n"
     ]
    },
    {
     "name": "stderr",
     "output_type": "stream",
     "text": [
      "Processing Users:  62%|██████▏   | 123/200 [2:05:50<2:34:39, 120.51s/it]"
     ]
    },
    {
     "name": "stdout",
     "output_type": "stream",
     "text": [
      "Scraping reviews for user: https://letterboxd.com/aksually/\n"
     ]
    },
    {
     "name": "stderr",
     "output_type": "stream",
     "text": [
      "Processing Users:  62%|██████▏   | 124/200 [2:07:20<2:21:01, 111.33s/it]"
     ]
    },
    {
     "name": "stdout",
     "output_type": "stream",
     "text": [
      "Scraping reviews for user: https://letterboxd.com/moviesrtherapy/\n"
     ]
    },
    {
     "name": "stderr",
     "output_type": "stream",
     "text": [
      "Processing Users:  62%|██████▎   | 125/200 [2:08:14<1:57:43, 94.18s/it] "
     ]
    },
    {
     "name": "stdout",
     "output_type": "stream",
     "text": [
      "Scraping reviews for user: https://letterboxd.com/catelyn/\n"
     ]
    },
    {
     "name": "stderr",
     "output_type": "stream",
     "text": [
      "Processing Users:  63%|██████▎   | 126/200 [2:14:20<3:36:45, 175.75s/it]"
     ]
    },
    {
     "name": "stdout",
     "output_type": "stream",
     "text": [
      "Scraping reviews for user: https://letterboxd.com/karenhan/\n"
     ]
    },
    {
     "name": "stderr",
     "output_type": "stream",
     "text": [
      "Processing Users:  64%|██████▎   | 127/200 [2:16:44<3:22:06, 166.11s/it]"
     ]
    },
    {
     "name": "stdout",
     "output_type": "stream",
     "text": [
      "Scraping reviews for user: https://letterboxd.com/elcochran90/\n"
     ]
    },
    {
     "name": "stderr",
     "output_type": "stream",
     "text": [
      "Processing Users:  64%|██████▍   | 128/200 [2:17:40<2:39:50, 133.20s/it]"
     ]
    },
    {
     "name": "stdout",
     "output_type": "stream",
     "text": [
      "Scraping reviews for user: https://letterboxd.com/pointbreakfan/\n"
     ]
    },
    {
     "name": "stderr",
     "output_type": "stream",
     "text": [
      "Processing Users:  64%|██████▍   | 129/200 [2:18:41<2:11:51, 111.43s/it]"
     ]
    },
    {
     "name": "stdout",
     "output_type": "stream",
     "text": [
      "Scraping reviews for user: https://letterboxd.com/neilbahadur/\n"
     ]
    },
    {
     "name": "stderr",
     "output_type": "stream",
     "text": [
      "Processing Users:  65%|██████▌   | 130/200 [2:19:36<1:50:22, 94.60s/it] "
     ]
    },
    {
     "name": "stdout",
     "output_type": "stream",
     "text": [
      "Checkpoint saved to user_reviews_checkpoint.csv\n",
      "Scraping reviews for user: https://letterboxd.com/pd187/\n"
     ]
    },
    {
     "name": "stderr",
     "output_type": "stream",
     "text": [
      "Processing Users:  66%|██████▌   | 131/200 [2:20:33<1:35:40, 83.19s/it]"
     ]
    },
    {
     "name": "stdout",
     "output_type": "stream",
     "text": [
      "Scraping reviews for user: https://letterboxd.com/apocalypsenow/\n"
     ]
    },
    {
     "name": "stderr",
     "output_type": "stream",
     "text": [
      "Processing Users:  66%|██████▌   | 132/200 [2:21:32<1:26:16, 76.13s/it]"
     ]
    },
    {
     "name": "stdout",
     "output_type": "stream",
     "text": [
      "Scraping reviews for user: https://letterboxd.com/yijian/\n"
     ]
    },
    {
     "name": "stderr",
     "output_type": "stream",
     "text": [
      "Processing Users:  66%|██████▋   | 133/200 [2:22:33<1:19:55, 71.57s/it]"
     ]
    },
    {
     "name": "stdout",
     "output_type": "stream",
     "text": [
      "Scraping reviews for user: https://letterboxd.com/m__ollymac/\n"
     ]
    },
    {
     "name": "stderr",
     "output_type": "stream",
     "text": [
      "Processing Users:  67%|██████▋   | 134/200 [2:23:35<1:15:26, 68.59s/it]"
     ]
    },
    {
     "name": "stdout",
     "output_type": "stream",
     "text": [
      "Scraping reviews for user: https://letterboxd.com/dselwyns/\n"
     ]
    },
    {
     "name": "stderr",
     "output_type": "stream",
     "text": [
      "Processing Users:  68%|██████▊   | 135/200 [2:24:32<1:10:46, 65.33s/it]"
     ]
    },
    {
     "name": "stdout",
     "output_type": "stream",
     "text": [
      "Scraping reviews for user: https://letterboxd.com/kurstboy/\n"
     ]
    },
    {
     "name": "stderr",
     "output_type": "stream",
     "text": [
      "Processing Users:  68%|██████▊   | 136/200 [2:25:36<1:08:59, 64.69s/it]"
     ]
    },
    {
     "name": "stdout",
     "output_type": "stream",
     "text": [
      "Scraping reviews for user: https://letterboxd.com/deathproof/\n"
     ]
    },
    {
     "name": "stderr",
     "output_type": "stream",
     "text": [
      "Processing Users:  68%|██████▊   | 137/200 [2:26:46<1:09:43, 66.41s/it]"
     ]
    },
    {
     "name": "stdout",
     "output_type": "stream",
     "text": [
      "Scraping reviews for user: https://letterboxd.com/jay/\n"
     ]
    },
    {
     "name": "stderr",
     "output_type": "stream",
     "text": [
      "Processing Users:  69%|██████▉   | 138/200 [2:27:48<1:07:19, 65.15s/it]"
     ]
    },
    {
     "name": "stdout",
     "output_type": "stream",
     "text": [
      "Scraping reviews for user: https://letterboxd.com/schaffrillas/\n"
     ]
    },
    {
     "name": "stderr",
     "output_type": "stream",
     "text": [
      "Processing Users:  70%|██████▉   | 139/200 [2:28:48<1:04:42, 63.64s/it]"
     ]
    },
    {
     "name": "stdout",
     "output_type": "stream",
     "text": [
      "Scraping reviews for user: https://letterboxd.com/davidehrlich/\n"
     ]
    },
    {
     "name": "stderr",
     "output_type": "stream",
     "text": [
      "Processing Users:  70%|███████   | 140/200 [2:29:49<1:02:34, 62.57s/it]"
     ]
    },
    {
     "name": "stdout",
     "output_type": "stream",
     "text": [
      "Checkpoint saved to user_reviews_checkpoint.csv\n",
      "Scraping reviews for user: https://letterboxd.com/cinemaclown/\n"
     ]
    },
    {
     "name": "stderr",
     "output_type": "stream",
     "text": [
      "Processing Users:  70%|███████   | 141/200 [2:30:59<1:03:59, 65.07s/it]"
     ]
    },
    {
     "name": "stdout",
     "output_type": "stream",
     "text": [
      "Scraping reviews for user: https://letterboxd.com/sharktale/\n"
     ]
    },
    {
     "name": "stderr",
     "output_type": "stream",
     "text": [
      "Processing Users:  71%|███████   | 142/200 [2:32:03<1:02:33, 64.72s/it]"
     ]
    },
    {
     "name": "stdout",
     "output_type": "stream",
     "text": [
      "Scraping reviews for user: https://letterboxd.com/mildredsfierce/\n"
     ]
    },
    {
     "name": "stderr",
     "output_type": "stream",
     "text": [
      "Processing Users:  72%|███████▏  | 143/200 [2:33:08<1:01:36, 64.84s/it]"
     ]
    },
    {
     "name": "stdout",
     "output_type": "stream",
     "text": [
      "Scraping reviews for user: https://letterboxd.com/marianjune/\n"
     ]
    },
    {
     "name": "stderr",
     "output_type": "stream",
     "text": [
      "Processing Users:  72%|███████▏  | 144/200 [2:34:10<59:34, 63.83s/it]  "
     ]
    },
    {
     "name": "stdout",
     "output_type": "stream",
     "text": [
      "Scraping reviews for user: https://letterboxd.com/jurassicstark/\n"
     ]
    },
    {
     "name": "stderr",
     "output_type": "stream",
     "text": [
      "Processing Users:  72%|███████▎  | 145/200 [2:35:21<1:00:27, 65.95s/it]"
     ]
    },
    {
     "name": "stdout",
     "output_type": "stream",
     "text": [
      "Scraping reviews for user: https://letterboxd.com/justindecloux/\n"
     ]
    },
    {
     "name": "stderr",
     "output_type": "stream",
     "text": [
      "Processing Users:  73%|███████▎  | 146/200 [2:36:24<58:33, 65.06s/it]  "
     ]
    },
    {
     "name": "stdout",
     "output_type": "stream",
     "text": [
      "Scraping reviews for user: https://letterboxd.com/seahorseronan/\n"
     ]
    },
    {
     "name": "stderr",
     "output_type": "stream",
     "text": [
      "Processing Users:  74%|███████▎  | 147/200 [2:37:31<58:03, 65.72s/it]"
     ]
    },
    {
     "name": "stdout",
     "output_type": "stream",
     "text": [
      "Scraping reviews for user: https://letterboxd.com/theendofcinema/\n"
     ]
    },
    {
     "name": "stderr",
     "output_type": "stream",
     "text": [
      "Processing Users:  74%|███████▍  | 148/200 [2:38:33<55:51, 64.46s/it]"
     ]
    },
    {
     "name": "stdout",
     "output_type": "stream",
     "text": [
      "Scraping reviews for user: https://letterboxd.com/sarahlovett/\n"
     ]
    },
    {
     "name": "stderr",
     "output_type": "stream",
     "text": [
      "Processing Users:  74%|███████▍  | 149/200 [2:39:35<54:16, 63.86s/it]"
     ]
    },
    {
     "name": "stdout",
     "output_type": "stream",
     "text": [
      "Scraping reviews for user: https://letterboxd.com/clairacurtis/\n"
     ]
    },
    {
     "name": "stderr",
     "output_type": "stream",
     "text": [
      "Processing Users:  75%|███████▌  | 150/200 [2:40:42<54:01, 64.83s/it]"
     ]
    },
    {
     "name": "stdout",
     "output_type": "stream",
     "text": [
      "Checkpoint saved to user_reviews_checkpoint.csv\n",
      "Scraping reviews for user: https://letterboxd.com/incomingmail/\n"
     ]
    },
    {
     "name": "stderr",
     "output_type": "stream",
     "text": [
      "Processing Users:  76%|███████▌  | 151/200 [2:41:55<55:02, 67.39s/it]"
     ]
    },
    {
     "name": "stdout",
     "output_type": "stream",
     "text": [
      "Scraping reviews for user: https://letterboxd.com/campbart/\n"
     ]
    },
    {
     "name": "stderr",
     "output_type": "stream",
     "text": [
      "Processing Users:  76%|███████▌  | 152/200 [2:43:13<56:25, 70.53s/it]"
     ]
    },
    {
     "name": "stdout",
     "output_type": "stream",
     "text": [
      "Scraping reviews for user: https://letterboxd.com/funeralroses/\n"
     ]
    },
    {
     "name": "stderr",
     "output_type": "stream",
     "text": [
      "Processing Users:  76%|███████▋  | 153/200 [2:44:27<55:53, 71.36s/it]"
     ]
    },
    {
     "name": "stdout",
     "output_type": "stream",
     "text": [
      "Scraping reviews for user: https://letterboxd.com/ceryslovesfilm/\n"
     ]
    },
    {
     "name": "stderr",
     "output_type": "stream",
     "text": [
      "Processing Users:  77%|███████▋  | 154/200 [2:45:35<53:55, 70.34s/it]"
     ]
    },
    {
     "name": "stdout",
     "output_type": "stream",
     "text": [
      "Scraping reviews for user: https://letterboxd.com/vontrapp/\n"
     ]
    },
    {
     "name": "stderr",
     "output_type": "stream",
     "text": [
      "Processing Users:  78%|███████▊  | 155/200 [2:46:44<52:28, 69.97s/it]"
     ]
    },
    {
     "name": "stdout",
     "output_type": "stream",
     "text": [
      "Scraping reviews for user: https://letterboxd.com/mardarrius/\n"
     ]
    },
    {
     "name": "stderr",
     "output_type": "stream",
     "text": [
      "Processing Users:  78%|███████▊  | 156/200 [2:47:52<50:55, 69.45s/it]"
     ]
    },
    {
     "name": "stdout",
     "output_type": "stream",
     "text": [
      "Scraping reviews for user: https://letterboxd.com/jbouie/\n"
     ]
    },
    {
     "name": "stderr",
     "output_type": "stream",
     "text": [
      "Processing Users:  78%|███████▊  | 157/200 [2:48:59<49:19, 68.84s/it]"
     ]
    },
    {
     "name": "stdout",
     "output_type": "stream",
     "text": [
      "Scraping reviews for user: https://letterboxd.com/traintobusan/\n"
     ]
    },
    {
     "name": "stderr",
     "output_type": "stream",
     "text": [
      "Processing Users:  79%|███████▉  | 158/200 [2:50:16<49:48, 71.15s/it]"
     ]
    },
    {
     "name": "stdout",
     "output_type": "stream",
     "text": [
      "Scraping reviews for user: https://letterboxd.com/paulswhtn/\n"
     ]
    },
    {
     "name": "stderr",
     "output_type": "stream",
     "text": [
      "Processing Users:  80%|███████▉  | 159/200 [2:51:26<48:30, 70.98s/it]"
     ]
    },
    {
     "name": "stdout",
     "output_type": "stream",
     "text": [
      "Scraping reviews for user: https://letterboxd.com/truman/\n"
     ]
    },
    {
     "name": "stderr",
     "output_type": "stream",
     "text": [
      "Processing Users:  80%|████████  | 160/200 [2:53:05<52:45, 79.14s/it]"
     ]
    },
    {
     "name": "stdout",
     "output_type": "stream",
     "text": [
      "Checkpoint saved to user_reviews_checkpoint.csv\n",
      "Scraping reviews for user: https://letterboxd.com/jaimerebanal/\n"
     ]
    },
    {
     "name": "stderr",
     "output_type": "stream",
     "text": [
      "Processing Users:  80%|████████  | 161/200 [2:53:46<44:09, 67.94s/it]"
     ]
    },
    {
     "name": "stdout",
     "output_type": "stream",
     "text": [
      "Scraping reviews for user: https://letterboxd.com/shookone/\n"
     ]
    },
    {
     "name": "stderr",
     "output_type": "stream",
     "text": [
      "Processing Users:  81%|████████  | 162/200 [2:54:57<43:26, 68.60s/it]"
     ]
    },
    {
     "name": "stdout",
     "output_type": "stream",
     "text": [
      "Scraping reviews for user: https://letterboxd.com/todd_gaines/\n"
     ]
    },
    {
     "name": "stderr",
     "output_type": "stream",
     "text": [
      "Processing Users:  82%|████████▏ | 163/200 [2:56:05<42:13, 68.48s/it]"
     ]
    },
    {
     "name": "stdout",
     "output_type": "stream",
     "text": [
      "Scraping reviews for user: https://letterboxd.com/dirkbogarde/\n"
     ]
    },
    {
     "name": "stderr",
     "output_type": "stream",
     "text": [
      "Processing Users:  82%|████████▏ | 164/200 [2:57:13<41:02, 68.41s/it]"
     ]
    },
    {
     "name": "stdout",
     "output_type": "stream",
     "text": [
      "Scraping reviews for user: https://letterboxd.com/theriverjordan/\n"
     ]
    },
    {
     "name": "stderr",
     "output_type": "stream",
     "text": [
      "Processing Users:  82%|████████▎ | 165/200 [2:58:35<42:14, 72.40s/it]"
     ]
    },
    {
     "name": "stdout",
     "output_type": "stream",
     "text": [
      "Scraping reviews for user: https://letterboxd.com/mr_dulac/\n"
     ]
    },
    {
     "name": "stderr",
     "output_type": "stream",
     "text": [
      "Processing Users:  83%|████████▎ | 166/200 [2:59:53<42:05, 74.29s/it]"
     ]
    },
    {
     "name": "stdout",
     "output_type": "stream",
     "text": [
      "Scraping reviews for user: https://letterboxd.com/jakeperalta/\n"
     ]
    },
    {
     "name": "stderr",
     "output_type": "stream",
     "text": [
      "Processing Users:  84%|████████▎ | 167/200 [3:01:04<40:15, 73.19s/it]"
     ]
    },
    {
     "name": "stdout",
     "output_type": "stream",
     "text": [
      "Scraping reviews for user: https://letterboxd.com/rudimh/\n"
     ]
    },
    {
     "name": "stderr",
     "output_type": "stream",
     "text": [
      "Processing Users:  84%|████████▍ | 168/200 [3:02:11<38:00, 71.27s/it]"
     ]
    },
    {
     "name": "stdout",
     "output_type": "stream",
     "text": [
      "Scraping reviews for user: https://letterboxd.com/itsnacool/\n"
     ]
    },
    {
     "name": "stderr",
     "output_type": "stream",
     "text": [
      "Processing Users:  84%|████████▍ | 169/200 [3:03:17<36:02, 69.76s/it]"
     ]
    },
    {
     "name": "stdout",
     "output_type": "stream",
     "text": [
      "Scraping reviews for user: https://letterboxd.com/jameskl/\n"
     ]
    },
    {
     "name": "stderr",
     "output_type": "stream",
     "text": [
      "Processing Users:  85%|████████▌ | 170/200 [3:04:29<35:12, 70.41s/it]"
     ]
    },
    {
     "name": "stdout",
     "output_type": "stream",
     "text": [
      "Checkpoint saved to user_reviews_checkpoint.csv\n",
      "Scraping reviews for user: https://letterboxd.com/kurstboy/\n"
     ]
    },
    {
     "name": "stderr",
     "output_type": "stream",
     "text": [
      "Processing Users:  86%|████████▌ | 171/200 [3:05:38<33:46, 69.87s/it]"
     ]
    },
    {
     "name": "stdout",
     "output_type": "stream",
     "text": [
      "Scraping reviews for user: https://letterboxd.com/deathproof/\n"
     ]
    },
    {
     "name": "stderr",
     "output_type": "stream",
     "text": [
      "Processing Users:  86%|████████▌ | 172/200 [3:06:55<33:42, 72.25s/it]"
     ]
    },
    {
     "name": "stdout",
     "output_type": "stream",
     "text": [
      "Scraping reviews for user: https://letterboxd.com/jay/\n"
     ]
    },
    {
     "name": "stderr",
     "output_type": "stream",
     "text": [
      "Processing Users:  86%|████████▋ | 173/200 [3:08:07<32:22, 71.96s/it]"
     ]
    },
    {
     "name": "stdout",
     "output_type": "stream",
     "text": [
      "Scraping reviews for user: https://letterboxd.com/schaffrillas/\n"
     ]
    },
    {
     "name": "stderr",
     "output_type": "stream",
     "text": [
      "Processing Users:  87%|████████▋ | 174/200 [3:09:14<30:31, 70.46s/it]"
     ]
    },
    {
     "name": "stdout",
     "output_type": "stream",
     "text": [
      "Scraping reviews for user: https://letterboxd.com/davidehrlich/\n"
     ]
    },
    {
     "name": "stderr",
     "output_type": "stream",
     "text": [
      "Processing Users:  88%|████████▊ | 175/200 [3:10:22<29:04, 69.77s/it]"
     ]
    },
    {
     "name": "stdout",
     "output_type": "stream",
     "text": [
      "Scraping reviews for user: https://letterboxd.com/kyloz/\n"
     ]
    },
    {
     "name": "stderr",
     "output_type": "stream",
     "text": [
      "Processing Users:  88%|████████▊ | 176/200 [3:11:28<27:31, 68.83s/it]"
     ]
    },
    {
     "name": "stdout",
     "output_type": "stream",
     "text": [
      "Scraping reviews for user: https://letterboxd.com/dahans/\n"
     ]
    },
    {
     "name": "stderr",
     "output_type": "stream",
     "text": [
      "Processing Users:  88%|████████▊ | 177/200 [3:12:39<26:35, 69.35s/it]"
     ]
    },
    {
     "name": "stdout",
     "output_type": "stream",
     "text": [
      "Scraping reviews for user: https://letterboxd.com/taylorfilmguy/\n"
     ]
    },
    {
     "name": "stderr",
     "output_type": "stream",
     "text": [
      "Processing Users:  89%|████████▉ | 178/200 [3:13:51<25:44, 70.20s/it]"
     ]
    },
    {
     "name": "stdout",
     "output_type": "stream",
     "text": [
      "Scraping reviews for user: https://letterboxd.com/impressionblend/\n"
     ]
    },
    {
     "name": "stderr",
     "output_type": "stream",
     "text": [
      "Processing Users:  90%|████████▉ | 179/200 [3:15:04<24:51, 71.04s/it]"
     ]
    },
    {
     "name": "stdout",
     "output_type": "stream",
     "text": [
      "Scraping reviews for user: https://letterboxd.com/thejoelynch/\n"
     ]
    },
    {
     "name": "stderr",
     "output_type": "stream",
     "text": [
      "Processing Users:  90%|█████████ | 180/200 [3:16:15<23:37, 70.85s/it]"
     ]
    },
    {
     "name": "stdout",
     "output_type": "stream",
     "text": [
      "Checkpoint saved to user_reviews_checkpoint.csv\n",
      "Scraping reviews for user: https://letterboxd.com/qmoviereviews/\n"
     ]
    },
    {
     "name": "stderr",
     "output_type": "stream",
     "text": [
      "Processing Users:  90%|█████████ | 181/200 [3:17:28<22:39, 71.53s/it]"
     ]
    },
    {
     "name": "stdout",
     "output_type": "stream",
     "text": [
      "Scraping reviews for user: https://letterboxd.com/connoreatspants/\n"
     ]
    },
    {
     "name": "stderr",
     "output_type": "stream",
     "text": [
      "Processing Users:  91%|█████████ | 182/200 [3:18:36<21:08, 70.46s/it]"
     ]
    },
    {
     "name": "stdout",
     "output_type": "stream",
     "text": [
      "Scraping reviews for user: https://letterboxd.com/thomasflight/\n"
     ]
    },
    {
     "name": "stderr",
     "output_type": "stream",
     "text": [
      "Processing Users:  92%|█████████▏| 183/200 [3:19:45<19:52, 70.13s/it]"
     ]
    },
    {
     "name": "stdout",
     "output_type": "stream",
     "text": [
      "Scraping reviews for user: https://letterboxd.com/annanomaly/\n"
     ]
    },
    {
     "name": "stderr",
     "output_type": "stream",
     "text": [
      "Processing Users:  92%|█████████▏| 184/200 [3:20:58<18:53, 70.85s/it]"
     ]
    },
    {
     "name": "stdout",
     "output_type": "stream",
     "text": [
      "Scraping reviews for user: https://letterboxd.com/cevangelista413/\n"
     ]
    },
    {
     "name": "stderr",
     "output_type": "stream",
     "text": [
      "Processing Users:  92%|█████████▎| 185/200 [3:22:14<18:05, 72.38s/it]"
     ]
    },
    {
     "name": "stdout",
     "output_type": "stream",
     "text": [
      "Scraping reviews for user: https://letterboxd.com/letmeexplain/\n"
     ]
    },
    {
     "name": "stderr",
     "output_type": "stream",
     "text": [
      "Processing Users:  93%|█████████▎| 186/200 [3:23:49<18:28, 79.20s/it]"
     ]
    },
    {
     "name": "stdout",
     "output_type": "stream",
     "text": [
      "Scraping reviews for user: https://letterboxd.com/justin_peterson/\n"
     ]
    },
    {
     "name": "stderr",
     "output_type": "stream",
     "text": [
      "Processing Users:  94%|█████████▎| 187/200 [3:25:18<17:47, 82.13s/it]"
     ]
    },
    {
     "name": "stdout",
     "output_type": "stream",
     "text": [
      "Scraping reviews for user: https://letterboxd.com/annreinking/\n"
     ]
    },
    {
     "name": "stderr",
     "output_type": "stream",
     "text": [
      "Processing Users:  94%|█████████▍| 188/200 [3:26:50<17:02, 85.17s/it]"
     ]
    },
    {
     "name": "stdout",
     "output_type": "stream",
     "text": [
      "Scraping reviews for user: https://letterboxd.com/roberto_/\n"
     ]
    },
    {
     "name": "stderr",
     "output_type": "stream",
     "text": [
      "Processing Users:  94%|█████████▍| 189/200 [3:28:01<14:51, 81.05s/it]"
     ]
    },
    {
     "name": "stdout",
     "output_type": "stream",
     "text": [
      "Scraping reviews for user: https://letterboxd.com/pobrecito/\n"
     ]
    },
    {
     "name": "stderr",
     "output_type": "stream",
     "text": [
      "Processing Users:  95%|█████████▌| 190/200 [3:31:34<20:05, 120.60s/it]"
     ]
    },
    {
     "name": "stdout",
     "output_type": "stream",
     "text": [
      "Checkpoint saved to user_reviews_checkpoint.csv\n",
      "Scraping reviews for user: https://letterboxd.com/jbird26/\n"
     ]
    },
    {
     "name": "stderr",
     "output_type": "stream",
     "text": [
      "Processing Users:  96%|█████████▌| 191/200 [3:32:46<15:52, 105.86s/it]"
     ]
    },
    {
     "name": "stdout",
     "output_type": "stream",
     "text": [
      "Scraping reviews for user: https://letterboxd.com/behaind/\n"
     ]
    },
    {
     "name": "stderr",
     "output_type": "stream",
     "text": [
      "Processing Users:  96%|█████████▌| 192/200 [3:33:57<12:44, 95.53s/it] "
     ]
    },
    {
     "name": "stdout",
     "output_type": "stream",
     "text": [
      "Scraping reviews for user: https://letterboxd.com/theblogosfear/\n"
     ]
    },
    {
     "name": "stderr",
     "output_type": "stream",
     "text": [
      "Processing Users:  96%|█████████▋| 193/200 [3:52:12<46:08, 395.43s/it]"
     ]
    },
    {
     "name": "stdout",
     "output_type": "stream",
     "text": [
      "Scraping reviews for user: https://letterboxd.com/hammerbros94/\n"
     ]
    },
    {
     "name": "stderr",
     "output_type": "stream",
     "text": [
      "Processing Users:  97%|█████████▋| 194/200 [3:53:28<29:56, 299.37s/it]"
     ]
    },
    {
     "name": "stdout",
     "output_type": "stream",
     "text": [
      "Scraping reviews for user: https://letterboxd.com/cathyk/\n"
     ]
    },
    {
     "name": "stderr",
     "output_type": "stream",
     "text": [
      "Processing Users:  98%|█████████▊| 195/200 [3:54:41<19:18, 231.66s/it]"
     ]
    },
    {
     "name": "stdout",
     "output_type": "stream",
     "text": [
      "Scraping reviews for user: https://letterboxd.com/punchdrunklizzy/\n"
     ]
    },
    {
     "name": "stderr",
     "output_type": "stream",
     "text": [
      "Processing Users:  98%|█████████▊| 196/200 [3:55:58<12:21, 185.27s/it]"
     ]
    },
    {
     "name": "stdout",
     "output_type": "stream",
     "text": [
      "Scraping reviews for user: https://letterboxd.com/fake_shemp/\n"
     ]
    },
    {
     "name": "stderr",
     "output_type": "stream",
     "text": [
      "Processing Users:  98%|█████████▊| 197/200 [3:59:42<09:50, 196.96s/it]"
     ]
    },
    {
     "name": "stdout",
     "output_type": "stream",
     "text": [
      "Scraping reviews for user: https://letterboxd.com/citizenhal/\n"
     ]
    },
    {
     "name": "stderr",
     "output_type": "stream",
     "text": [
      "Processing Users:  99%|█████████▉| 198/200 [4:00:54<05:18, 159.32s/it]"
     ]
    },
    {
     "name": "stdout",
     "output_type": "stream",
     "text": [
      "Scraping reviews for user: https://letterboxd.com/briantt/\n"
     ]
    },
    {
     "name": "stderr",
     "output_type": "stream",
     "text": [
      "Processing Users: 100%|█████████▉| 199/200 [4:02:08<02:13, 133.82s/it]"
     ]
    },
    {
     "name": "stdout",
     "output_type": "stream",
     "text": [
      "Scraping reviews for user: https://letterboxd.com/jacobknight/\n"
     ]
    },
    {
     "name": "stderr",
     "output_type": "stream",
     "text": [
      "Processing Users: 100%|██████████| 200/200 [4:03:26<00:00, 73.03s/it] "
     ]
    },
    {
     "name": "stdout",
     "output_type": "stream",
     "text": [
      "Checkpoint saved to user_reviews_checkpoint.csv\n"
     ]
    },
    {
     "name": "stderr",
     "output_type": "stream",
     "text": [
      "\n"
     ]
    },
    {
     "name": "stdout",
     "output_type": "stream",
     "text": [
      "Checkpoint saved to user_reviews_checkpoint.csv\n",
      "Reviews successfully scraped from user URLs!\n",
      "Reviews preview:\n",
      "          movie_title                                                 movie_url                                                                                                                                                                                                                                                                                                                                                                                                                                                             review_text  rating            review_date movie_year                          user_url\n",
      "0           King Kong      https://letterboxd.com/kurstboy/film/king-kong-1976/  monkey mondays #34\\nkind of flabbergasted at how much i dug this. dare i say one of the best takes on kong out there. he doesn’t look amazing but he looks leagues better than most of the stop-motion versions, and a hell of a lot better than any CGI kong. i loved how expressive his eyes were, sometimes terrifying and sometimes hilarious. some sketchy ADR aside, the whole cast is great. ever since the heartbreak kid charles grodin is always gonna… more     0.8    Watched 26 Aug 2024       1976  https://letterboxd.com/kurstboy/\n",
      "1     Bobo the Monkey     https://letterboxd.com/kurstboy/film/bobo-the-monkey/                                                                                                                                                                                                                                                                                                                                                                                                                                                      monkey mondays #33     0.8    Watched 19 Aug 2024       2021  https://letterboxd.com/kurstboy/\n",
      "2           Labyrinth           https://letterboxd.com/kurstboy/film/labyrinth/                                                                                                                                                                                                                                                                                                                                                                                                                                                     damn bro we see it!     0.8    Watched 18 Aug 2024       1986  https://letterboxd.com/kurstboy/\n",
      "3  Boys Go to Jupiter  https://letterboxd.com/kurstboy/film/boys-go-to-jupiter/                                                                                                                                                                                                                                                                                                                                                                                                                                               joyous from front to back     0.9    Watched 14 Aug 2024       2024  https://letterboxd.com/kurstboy/\n",
      "4        Citizen Kane        https://letterboxd.com/kurstboy/film/citizen-kane/                                                                                                                                                                                                                                                                                                                                                                                           monkey mondays #32\\nmonkey mondays has put me onto so many interesting movies     0.9  Rewatched 12 Aug 2024       1941  https://letterboxd.com/kurstboy/\n",
      "\n",
      "Closing connection to selenium WebDriver...\n",
      "Connection closed successfully!\n",
      "\n",
      "\n"
     ]
    }
   ],
   "source": [
    "# Scrape reviews from user urls\n",
    "if __name__ == \"__main__\":\n",
    "    driver = initialize_driver()\n",
    "    try:\n",
    "        num_reviews_per_user = 100  # Adjust as needed\n",
    "        user_urls_df = pd.read_csv('user_urls.csv')  # Assuming you have a CSV file of user URLs\n",
    "        reviews_df = scrape_reviews_from_users(driver, user_urls_df['user_url'], num_reviews_per_user)\n",
    "        reviews_df.to_csv('/kaggle/working/user_reviews.csv')\n",
    "    finally:\n",
    "        driver.quit()  # Ensure the driver is closed after usage"
   ]
  },
  {
   "cell_type": "code",
   "execution_count": 14,
   "id": "99595aff",
   "metadata": {
    "execution": {
     "iopub.execute_input": "2024-08-28T03:19:00.339957Z",
     "iopub.status.busy": "2024-08-28T03:19:00.339329Z",
     "iopub.status.idle": "2024-08-28T03:19:00.369485Z",
     "shell.execute_reply": "2024-08-28T03:19:00.368343Z"
    },
    "papermill": {
     "duration": 0.11472,
     "end_time": "2024-08-28T03:19:00.372438",
     "exception": false,
     "start_time": "2024-08-28T03:19:00.257718",
     "status": "completed"
    },
    "tags": []
   },
   "outputs": [
    {
     "data": {
      "text/html": [
       "<div>\n",
       "<style scoped>\n",
       "    .dataframe tbody tr th:only-of-type {\n",
       "        vertical-align: middle;\n",
       "    }\n",
       "\n",
       "    .dataframe tbody tr th {\n",
       "        vertical-align: top;\n",
       "    }\n",
       "\n",
       "    .dataframe thead th {\n",
       "        text-align: right;\n",
       "    }\n",
       "</style>\n",
       "<table border=\"1\" class=\"dataframe\">\n",
       "  <thead>\n",
       "    <tr style=\"text-align: right;\">\n",
       "      <th></th>\n",
       "      <th>movie_title</th>\n",
       "      <th>movie_url</th>\n",
       "      <th>review_text</th>\n",
       "      <th>rating</th>\n",
       "      <th>review_date</th>\n",
       "      <th>movie_year</th>\n",
       "      <th>user_url</th>\n",
       "    </tr>\n",
       "  </thead>\n",
       "  <tbody>\n",
       "    <tr>\n",
       "      <th>0</th>\n",
       "      <td>King Kong</td>\n",
       "      <td>https://letterboxd.com/kurstboy/film/king-kong...</td>\n",
       "      <td>monkey mondays #34\\nkind of flabbergasted at h...</td>\n",
       "      <td>0.8</td>\n",
       "      <td>Watched 26 Aug 2024</td>\n",
       "      <td>1976</td>\n",
       "      <td>https://letterboxd.com/kurstboy/</td>\n",
       "    </tr>\n",
       "    <tr>\n",
       "      <th>1</th>\n",
       "      <td>Bobo the Monkey</td>\n",
       "      <td>https://letterboxd.com/kurstboy/film/bobo-the-...</td>\n",
       "      <td>monkey mondays #33</td>\n",
       "      <td>0.8</td>\n",
       "      <td>Watched 19 Aug 2024</td>\n",
       "      <td>2021</td>\n",
       "      <td>https://letterboxd.com/kurstboy/</td>\n",
       "    </tr>\n",
       "    <tr>\n",
       "      <th>2</th>\n",
       "      <td>Labyrinth</td>\n",
       "      <td>https://letterboxd.com/kurstboy/film/labyrinth/</td>\n",
       "      <td>damn bro we see it!</td>\n",
       "      <td>0.8</td>\n",
       "      <td>Watched 18 Aug 2024</td>\n",
       "      <td>1986</td>\n",
       "      <td>https://letterboxd.com/kurstboy/</td>\n",
       "    </tr>\n",
       "    <tr>\n",
       "      <th>3</th>\n",
       "      <td>Boys Go to Jupiter</td>\n",
       "      <td>https://letterboxd.com/kurstboy/film/boys-go-t...</td>\n",
       "      <td>joyous from front to back</td>\n",
       "      <td>0.9</td>\n",
       "      <td>Watched 14 Aug 2024</td>\n",
       "      <td>2024</td>\n",
       "      <td>https://letterboxd.com/kurstboy/</td>\n",
       "    </tr>\n",
       "    <tr>\n",
       "      <th>4</th>\n",
       "      <td>Citizen Kane</td>\n",
       "      <td>https://letterboxd.com/kurstboy/film/citizen-k...</td>\n",
       "      <td>monkey mondays #32\\nmonkey mondays has put me ...</td>\n",
       "      <td>0.9</td>\n",
       "      <td>Rewatched 12 Aug 2024</td>\n",
       "      <td>1941</td>\n",
       "      <td>https://letterboxd.com/kurstboy/</td>\n",
       "    </tr>\n",
       "  </tbody>\n",
       "</table>\n",
       "</div>"
      ],
      "text/plain": [
       "          movie_title                                          movie_url  \\\n",
       "0           King Kong  https://letterboxd.com/kurstboy/film/king-kong...   \n",
       "1     Bobo the Monkey  https://letterboxd.com/kurstboy/film/bobo-the-...   \n",
       "2           Labyrinth    https://letterboxd.com/kurstboy/film/labyrinth/   \n",
       "3  Boys Go to Jupiter  https://letterboxd.com/kurstboy/film/boys-go-t...   \n",
       "4        Citizen Kane  https://letterboxd.com/kurstboy/film/citizen-k...   \n",
       "\n",
       "                                         review_text  rating  \\\n",
       "0  monkey mondays #34\\nkind of flabbergasted at h...     0.8   \n",
       "1                                 monkey mondays #33     0.8   \n",
       "2                                damn bro we see it!     0.8   \n",
       "3                          joyous from front to back     0.9   \n",
       "4  monkey mondays #32\\nmonkey mondays has put me ...     0.9   \n",
       "\n",
       "             review_date movie_year                          user_url  \n",
       "0    Watched 26 Aug 2024       1976  https://letterboxd.com/kurstboy/  \n",
       "1    Watched 19 Aug 2024       2021  https://letterboxd.com/kurstboy/  \n",
       "2    Watched 18 Aug 2024       1986  https://letterboxd.com/kurstboy/  \n",
       "3    Watched 14 Aug 2024       2024  https://letterboxd.com/kurstboy/  \n",
       "4  Rewatched 12 Aug 2024       1941  https://letterboxd.com/kurstboy/  "
      ]
     },
     "execution_count": 14,
     "metadata": {},
     "output_type": "execute_result"
    }
   ],
   "source": [
    "reviews_df.head()"
   ]
  }
 ],
 "metadata": {
  "kaggle": {
   "accelerator": "none",
   "dataSources": [
    {
     "datasetId": 4413046,
     "sourceId": 7581027,
     "sourceType": "datasetVersion"
    },
    {
     "datasetId": 5581345,
     "sourceId": 9253724,
     "sourceType": "datasetVersion"
    }
   ],
   "dockerImageVersionId": 30635,
   "isGpuEnabled": false,
   "isInternetEnabled": true,
   "language": "python",
   "sourceType": "notebook"
  },
  "kernelspec": {
   "display_name": "Python 3",
   "language": "python",
   "name": "python3"
  },
  "language_info": {
   "codemirror_mode": {
    "name": "ipython",
    "version": 3
   },
   "file_extension": ".py",
   "mimetype": "text/x-python",
   "name": "python",
   "nbconvert_exporter": "python",
   "pygments_lexer": "ipython3",
   "version": "3.10.12"
  },
  "papermill": {
   "default_parameters": {},
   "duration": 14860.501296,
   "end_time": "2024-08-28T03:19:01.313491",
   "environment_variables": {},
   "exception": null,
   "input_path": "__notebook__.ipynb",
   "output_path": "__notebook__.ipynb",
   "parameters": {},
   "start_time": "2024-08-27T23:11:20.812195",
   "version": "2.4.0"
  }
 },
 "nbformat": 4,
 "nbformat_minor": 5
}
