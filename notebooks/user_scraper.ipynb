{
 "cells": [
  {
   "cell_type": "markdown",
   "id": "83a7d926",
   "metadata": {
    "papermill": {
     "duration": 0.006144,
     "end_time": "2024-08-28T09:14:44.877996",
     "exception": false,
     "start_time": "2024-08-28T09:14:44.871852",
     "status": "completed"
    },
    "tags": []
   },
   "source": [
    "# 1. Setting Up the Environment\n",
    "\n",
    "## 1.1. Install dependencies:\n",
    "This command updates the system's package list and installs various libraries required for running Chrome and Selenium."
   ]
  },
  {
   "cell_type": "code",
   "execution_count": 1,
   "id": "de685407",
   "metadata": {
    "execution": {
     "iopub.execute_input": "2024-08-28T09:14:44.891300Z",
     "iopub.status.busy": "2024-08-28T09:14:44.890883Z",
     "iopub.status.idle": "2024-08-28T09:15:09.090569Z",
     "shell.execute_reply": "2024-08-28T09:15:09.089227Z"
    },
    "papermill": {
     "duration": 24.209327,
     "end_time": "2024-08-28T09:15:09.093250",
     "exception": false,
     "start_time": "2024-08-28T09:14:44.883923",
     "status": "completed"
    },
    "tags": []
   },
   "outputs": [
    {
     "name": "stdout",
     "output_type": "stream",
     "text": [
      "Get:1 http://packages.cloud.google.com/apt gcsfuse-focal InRelease [1227 B]\r\n",
      "Get:2 https://packages.cloud.google.com/apt cloud-sdk InRelease [1618 B]\r\n",
      "Get:3 http://security.ubuntu.com/ubuntu focal-security InRelease [128 kB]\r\n",
      "Hit:4 http://archive.ubuntu.com/ubuntu focal InRelease\r\n",
      "Get:5 http://archive.ubuntu.com/ubuntu focal-updates InRelease [128 kB]\r\n",
      "Get:6 https://packages.cloud.google.com/apt cloud-sdk/main all Packages [1511 kB]\r\n",
      "Get:7 https://packages.cloud.google.com/apt cloud-sdk/main amd64 Packages [3214 kB]\r\n",
      "Get:8 http://security.ubuntu.com/ubuntu focal-security/multiverse amd64 Packages [30.9 kB]\r\n",
      "Get:9 http://archive.ubuntu.com/ubuntu focal-backports InRelease [128 kB]\r\n",
      "Get:10 http://security.ubuntu.com/ubuntu focal-security/universe amd64 Packages [1258 kB]\r\n",
      "Get:11 http://archive.ubuntu.com/ubuntu focal-updates/multiverse amd64 Packages [33.5 kB]\r\n",
      "Get:12 http://archive.ubuntu.com/ubuntu focal-updates/universe amd64 Packages [1545 kB]\r\n",
      "Get:13 http://security.ubuntu.com/ubuntu focal-security/restricted amd64 Packages [3926 kB]\r\n",
      "Get:14 http://archive.ubuntu.com/ubuntu focal-updates/restricted amd64 Packages [4077 kB]\r\n",
      "Get:15 http://security.ubuntu.com/ubuntu focal-security/main amd64 Packages [3933 kB]\r\n",
      "Get:16 http://archive.ubuntu.com/ubuntu focal-updates/main amd64 Packages [4398 kB]\r\n",
      "\r\n",
      "E: Repository 'http://packages.cloud.google.com/apt gcsfuse-focal InRelease' changed its 'Origin' value from 'namespaces/gcs-fuse-prod/repositories/gcsfuse-focal' to 'gcsfuse-focal'\r\n",
      "E: Repository 'http://packages.cloud.google.com/apt gcsfuse-focal InRelease' changed its 'Label' value from 'namespaces/gcs-fuse-prod/repositories/gcsfuse-focal' to 'gcsfuse-focal'\r\n",
      "N: This must be accepted explicitly before updates for this repository can be applied. See apt-secure(8) manpage for details.\r\n",
      "\r\n",
      "\r\n",
      "\r\n",
      "libfontconfig1 is already the newest version (2.13.1-2ubuntu3).\r\n",
      "libvulkan1 is already the newest version (1.2.131.2-1).\r\n",
      "libvulkan1 set to manually installed.\r\n",
      "The following additional packages will be installed:\r\n",
      "  gconf-service gconf-service-backend libglib2.0-bin libudev1\r\n",
      "Recommended packages:\r\n",
      "  xdg-user-dirs\r\n",
      "The following NEW packages will be installed:\r\n",
      "  gconf-service gconf-service-backend gconf2-common libdbus-glib-1-2 libgbm1\r\n",
      "  libgconf-2-4 libu2f-udev libwayland-server0 udev\r\n",
      "The following packages will be upgraded:\r\n",
      "  libglib2.0-0 libglib2.0-bin libnss3 libudev1\r\n",
      "4 upgraded, 9 newly installed, 0 to remove and 128 not upgraded.\r\n",
      "Need to get 5180 kB of archives.\r\n",
      "After this operation, 18.4 MB of additional disk space will be used.\r\n",
      "Get:1 http://archive.ubuntu.com/ubuntu focal-updates/main amd64 libudev1 amd64 245.4-4ubuntu3.23 [75.6 kB]\r\n",
      "Get:2 http://archive.ubuntu.com/ubuntu focal-updates/main amd64 libglib2.0-bin amd64 2.64.6-1~ubuntu20.04.7 [72.8 kB]\r\n",
      "Get:3 http://archive.ubuntu.com/ubuntu focal-updates/main amd64 libglib2.0-0 amd64 2.64.6-1~ubuntu20.04.7 [1289 kB]\r\n",
      "Get:4 http://archive.ubuntu.com/ubuntu focal-updates/main amd64 udev amd64 245.4-4ubuntu3.23 [1366 kB]\r\n",
      "Get:5 http://archive.ubuntu.com/ubuntu focal/main amd64 libdbus-glib-1-2 amd64 0.110-5fakssync1 [59.1 kB]\r\n",
      "Get:6 http://archive.ubuntu.com/ubuntu focal/universe amd64 gconf2-common all 3.2.6-6ubuntu1 [698 kB]\r\n",
      "Get:7 http://archive.ubuntu.com/ubuntu focal/universe amd64 libgconf-2-4 amd64 3.2.6-6ubuntu1 [84.8 kB]\r\n",
      "Get:8 http://archive.ubuntu.com/ubuntu focal/universe amd64 gconf-service-backend amd64 3.2.6-6ubuntu1 [58.6 kB]\r\n",
      "Get:9 http://archive.ubuntu.com/ubuntu focal/universe amd64 gconf-service amd64 3.2.6-6ubuntu1 [17.4 kB]\r\n",
      "Get:10 http://archive.ubuntu.com/ubuntu focal-updates/main amd64 libwayland-server0 amd64 1.18.0-1ubuntu0.1 [31.3 kB]\r\n",
      "Get:11 http://archive.ubuntu.com/ubuntu focal-updates/main amd64 libgbm1 amd64 21.2.6-0ubuntu0.1~20.04.2 [29.2 kB]\r\n",
      "Get:12 http://archive.ubuntu.com/ubuntu focal-updates/main amd64 libnss3 amd64 2:3.98-0ubuntu0.20.04.2 [1391 kB]\r\n",
      "Get:13 http://archive.ubuntu.com/ubuntu focal/main amd64 libu2f-udev all 1.1.10-1 [6108 B]\r\n",
      "Fetched 5180 kB in 3s (2044 kB/s)\r\n",
      "(Reading database ... 108782 files and directories currently installed.)\r\n",
      "Preparing to unpack .../libudev1_245.4-4ubuntu3.23_amd64.deb ...\r\n",
      "Unpacking libudev1:amd64 (245.4-4ubuntu3.23) over (245.4-4ubuntu3.22) ...\r\n",
      "Setting up libudev1:amd64 (245.4-4ubuntu3.23) ...\r\n",
      "(Reading database ... 108782 files and directories currently installed.)\r\n",
      "Preparing to unpack .../00-libglib2.0-bin_2.64.6-1~ubuntu20.04.7_amd64.deb ...\r\n",
      "Unpacking libglib2.0-bin (2.64.6-1~ubuntu20.04.7) over (2.64.6-1~ubuntu20.04.6) ...\r\n",
      "Preparing to unpack .../01-libglib2.0-0_2.64.6-1~ubuntu20.04.7_amd64.deb ...\r\n",
      "Unpacking libglib2.0-0:amd64 (2.64.6-1~ubuntu20.04.7) over (2.64.6-1~ubuntu20.04.6) ...\r\n",
      "Selecting previously unselected package udev.\r\n",
      "Preparing to unpack .../02-udev_245.4-4ubuntu3.23_amd64.deb ...\r\n",
      "Unpacking udev (245.4-4ubuntu3.23) ...\r\n",
      "Selecting previously unselected package libdbus-glib-1-2:amd64.\r\n",
      "Preparing to unpack .../03-libdbus-glib-1-2_0.110-5fakssync1_amd64.deb ...\r\n",
      "Unpacking libdbus-glib-1-2:amd64 (0.110-5fakssync1) ...\r\n",
      "Selecting previously unselected package gconf2-common.\r\n",
      "Preparing to unpack .../04-gconf2-common_3.2.6-6ubuntu1_all.deb ...\r\n",
      "Unpacking gconf2-common (3.2.6-6ubuntu1) ...\r\n",
      "Selecting previously unselected package libgconf-2-4:amd64.\r\n",
      "Preparing to unpack .../05-libgconf-2-4_3.2.6-6ubuntu1_amd64.deb ...\r\n",
      "Unpacking libgconf-2-4:amd64 (3.2.6-6ubuntu1) ...\r\n",
      "Selecting previously unselected package gconf-service-backend.\r\n",
      "Preparing to unpack .../06-gconf-service-backend_3.2.6-6ubuntu1_amd64.deb ...\r\n",
      "Unpacking gconf-service-backend (3.2.6-6ubuntu1) ...\r\n",
      "Selecting previously unselected package gconf-service.\r\n",
      "Preparing to unpack .../07-gconf-service_3.2.6-6ubuntu1_amd64.deb ...\r\n",
      "Unpacking gconf-service (3.2.6-6ubuntu1) ...\r\n",
      "Selecting previously unselected package libwayland-server0:amd64.\r\n",
      "Preparing to unpack .../08-libwayland-server0_1.18.0-1ubuntu0.1_amd64.deb ...\r\n",
      "Unpacking libwayland-server0:amd64 (1.18.0-1ubuntu0.1) ...\r\n",
      "Selecting previously unselected package libgbm1:amd64.\r\n",
      "Preparing to unpack .../09-libgbm1_21.2.6-0ubuntu0.1~20.04.2_amd64.deb ...\r\n",
      "Unpacking libgbm1:amd64 (21.2.6-0ubuntu0.1~20.04.2) ...\r\n",
      "Preparing to unpack .../10-libnss3_2%3a3.98-0ubuntu0.20.04.2_amd64.deb ...\r\n",
      "Unpacking libnss3:amd64 (2:3.98-0ubuntu0.20.04.2) over (2:3.49.1-1ubuntu1.9) ...\r\n",
      "Selecting previously unselected package libu2f-udev.\r\n",
      "Preparing to unpack .../11-libu2f-udev_1.1.10-1_all.deb ...\r\n",
      "Unpacking libu2f-udev (1.1.10-1) ...\r\n",
      "Setting up libwayland-server0:amd64 (1.18.0-1ubuntu0.1) ...\r\n",
      "Setting up libgbm1:amd64 (21.2.6-0ubuntu0.1~20.04.2) ...\r\n",
      "Setting up libglib2.0-0:amd64 (2.64.6-1~ubuntu20.04.7) ...\r\n",
      "Setting up libglib2.0-bin (2.64.6-1~ubuntu20.04.7) ...\r\n",
      "Setting up libnss3:amd64 (2:3.98-0ubuntu0.20.04.2) ...\r\n",
      "Setting up gconf2-common (3.2.6-6ubuntu1) ...\r\n",
      "\r\n",
      "Creating config file /etc/gconf/2/path with new version\r\n",
      "Setting up libdbus-glib-1-2:amd64 (0.110-5fakssync1) ...\r\n",
      "Setting up udev (245.4-4ubuntu3.23) ...\r\n",
      "invoke-rc.d: could not determine current runlevel\r\n",
      "invoke-rc.d: policy-rc.d denied execution of start.\r\n",
      "Setting up libgconf-2-4:amd64 (3.2.6-6ubuntu1) ...\r\n",
      "Setting up libu2f-udev (1.1.10-1) ...\r\n",
      "Failed to send reload request: No such file or directory\r\n",
      "Setting up gconf-service (3.2.6-6ubuntu1) ...\r\n",
      "Setting up gconf-service-backend (3.2.6-6ubuntu1) ...\r\n",
      "Processing triggers for libc-bin (2.31-0ubuntu9.9) ...\r\n",
      "Processing triggers for systemd (245.4-4ubuntu3.22) ...\r\n",
      "Processing triggers for man-db (2.9.1-1) ...\r\n",
      "\r\n",
      "\r\n",
      "\r\n",
      "0 upgraded, 0 newly installed, 0 to remove and 128 not upgraded.\r\n"
     ]
    }
   ],
   "source": [
    "!apt-get update -y\n",
    "!apt-get install -y \\\n",
    "libglib2.0-0 \\\n",
    "libnss3 \\\n",
    "libdbus-glib-1-2 \\\n",
    "libgconf-2-4 \\\n",
    "libfontconfig1 \\\n",
    "libvulkan1 \\\n",
    "gconf2-common \\\n",
    "libwayland-server0 \\\n",
    "libgbm1 \\\n",
    "udev \\\n",
    "libu2f-udev \n",
    "!apt --fix-broken install -y  "
   ]
  },
  {
   "cell_type": "markdown",
   "id": "216991a1",
   "metadata": {
    "papermill": {
     "duration": 0.014018,
     "end_time": "2024-08-28T09:15:09.121960",
     "exception": false,
     "start_time": "2024-08-28T09:15:09.107942",
     "status": "completed"
    },
    "tags": []
   },
   "source": [
    "## 1.2. Download and extract Chrome:\n",
    "\n",
    "To use Selenium, you will need to download and install Chrome and Chromedriver.\n",
    "\n",
    "* **Chrome**: Chrome is a popular web browser that is known for its speed and security.\n",
    "* **Chromedriver**: Chromedriver is a tool that allows Selenium to interact with Chrome.\n",
    "\n",
    "Downloads the latest stable version of Chrome for Linux and extracts it to the /usr/bin directory."
   ]
  },
  {
   "cell_type": "code",
   "execution_count": 2,
   "id": "39d44b8c",
   "metadata": {
    "execution": {
     "iopub.execute_input": "2024-08-28T09:15:09.153138Z",
     "iopub.status.busy": "2024-08-28T09:15:09.152338Z",
     "iopub.status.idle": "2024-08-28T09:15:24.077759Z",
     "shell.execute_reply": "2024-08-28T09:15:24.076515Z"
    },
    "papermill": {
     "duration": 14.944121,
     "end_time": "2024-08-28T09:15:24.080513",
     "exception": false,
     "start_time": "2024-08-28T09:15:09.136392",
     "status": "completed"
    },
    "tags": []
   },
   "outputs": [
    {
     "name": "stdout",
     "output_type": "stream",
     "text": [
      "--2024-08-28 09:15:10--  https://edgedl.me.gvt1.com/edgedl/chrome/chrome-for-testing/116.0.5845.96/linux64/chrome-linux64.zip\r\n",
      "Resolving edgedl.me.gvt1.com (edgedl.me.gvt1.com)... 34.104.35.123, 2600:1900:4110:86f::\r\n",
      "Connecting to edgedl.me.gvt1.com (edgedl.me.gvt1.com)|34.104.35.123|:443... connected.\r\n",
      "HTTP request sent, awaiting response... 302 Found\r\n",
      "Location: https://storage.googleapis.com/chrome-for-testing-public/116.0.5845.96/linux64/chrome-linux64.zip [following]\r\n",
      "--2024-08-28 09:15:10--  https://storage.googleapis.com/chrome-for-testing-public/116.0.5845.96/linux64/chrome-linux64.zip\r\n",
      "Resolving storage.googleapis.com (storage.googleapis.com)... 142.251.8.207, 142.250.157.207, 64.233.187.207, ...\r\n",
      "Connecting to storage.googleapis.com (storage.googleapis.com)|142.251.8.207|:443... connected.\r\n",
      "HTTP request sent, awaiting response... 200 OK\r\n",
      "Length: 145898081 (139M) [application/zip]\r\n",
      "Saving to: '/tmp/chrome-linux64.zip'\r\n",
      "\r\n",
      "chrome-linux64.zip  100%[===================>] 139.14M  16.2MB/s    in 8.4s    \r\n",
      "\r\n",
      "2024-08-28 09:15:19 (16.6 MB/s) - '/tmp/chrome-linux64.zip' saved [145898081/145898081]\r\n",
      "\r\n",
      "Archive:  /tmp/chrome-linux64.zip\r\n",
      "  inflating: /usr/bin/chrome-linux64/MEIPreload/manifest.json  \r\n",
      "  inflating: /usr/bin/chrome-linux64/MEIPreload/preloaded_data.pb  \r\n",
      "  inflating: /usr/bin/chrome-linux64/chrome  \r\n",
      "  inflating: /usr/bin/chrome-linux64/chrome-wrapper  \r\n",
      "  inflating: /usr/bin/chrome-linux64/chrome_100_percent.pak  \r\n",
      "  inflating: /usr/bin/chrome-linux64/chrome_200_percent.pak  \r\n",
      "  inflating: /usr/bin/chrome-linux64/chrome_crashpad_handler  \r\n",
      "  inflating: /usr/bin/chrome-linux64/chrome_sandbox  \r\n",
      "  inflating: /usr/bin/chrome-linux64/icudtl.dat  \r\n",
      "  inflating: /usr/bin/chrome-linux64/libEGL.so  \r\n",
      "  inflating: /usr/bin/chrome-linux64/libGLESv2.so  \r\n",
      "  inflating: /usr/bin/chrome-linux64/libvk_swiftshader.so  \r\n",
      "  inflating: /usr/bin/chrome-linux64/libvulkan.so.1  \r\n",
      "  inflating: /usr/bin/chrome-linux64/nacl_helper  \r\n",
      "  inflating: /usr/bin/chrome-linux64/nacl_helper_bootstrap  \r\n",
      "  inflating: /usr/bin/chrome-linux64/nacl_irt_x86_64.nexe  \r\n",
      " extracting: /usr/bin/chrome-linux64/product_logo_48.png  \r\n",
      "  inflating: /usr/bin/chrome-linux64/resources.pak  \r\n",
      "  inflating: /usr/bin/chrome-linux64/v8_context_snapshot.bin  \r\n",
      "  inflating: /usr/bin/chrome-linux64/vk_swiftshader_icd.json  \r\n",
      "  inflating: /usr/bin/chrome-linux64/xdg-mime  \r\n",
      "  inflating: /usr/bin/chrome-linux64/xdg-settings  \r\n",
      "   creating: /usr/bin/chrome-linux64/locales/\r\n",
      "  inflating: /usr/bin/chrome-linux64/locales/fr.pak.info  \r\n",
      "  inflating: /usr/bin/chrome-linux64/locales/ur.pak.info  \r\n",
      "  inflating: /usr/bin/chrome-linux64/locales/sw.pak  \r\n",
      "  inflating: /usr/bin/chrome-linux64/locales/ar.pak  \r\n",
      "  inflating: /usr/bin/chrome-linux64/locales/sk.pak.info  \r\n",
      "  inflating: /usr/bin/chrome-linux64/locales/hu.pak.info  \r\n",
      "  inflating: /usr/bin/chrome-linux64/locales/ms.pak  \r\n",
      "  inflating: /usr/bin/chrome-linux64/locales/vi.pak.info  \r\n",
      "  inflating: /usr/bin/chrome-linux64/locales/es.pak  \r\n",
      "  inflating: /usr/bin/chrome-linux64/locales/he.pak.info  \r\n",
      "  inflating: /usr/bin/chrome-linux64/locales/hr.pak  \r\n",
      "  inflating: /usr/bin/chrome-linux64/locales/en-GB.pak  \r\n",
      "  inflating: /usr/bin/chrome-linux64/locales/zh-CN.pak  \r\n",
      "  inflating: /usr/bin/chrome-linux64/locales/pt-BR.pak.info  \r\n",
      "  inflating: /usr/bin/chrome-linux64/locales/en-US.pak.info  \r\n",
      "  inflating: /usr/bin/chrome-linux64/locales/de.pak.info  \r\n",
      "  inflating: /usr/bin/chrome-linux64/locales/af.pak.info  \r\n",
      "  inflating: /usr/bin/chrome-linux64/locales/fil.pak  \r\n",
      "  inflating: /usr/bin/chrome-linux64/locales/el.pak  \r\n",
      "  inflating: /usr/bin/chrome-linux64/locales/bg.pak  \r\n",
      "  inflating: /usr/bin/chrome-linux64/locales/fa.pak  \r\n",
      "  inflating: /usr/bin/chrome-linux64/locales/uk.pak  \r\n",
      "  inflating: /usr/bin/chrome-linux64/locales/kn.pak  \r\n",
      "  inflating: /usr/bin/chrome-linux64/locales/en-GB.pak.info  \r\n",
      "  inflating: /usr/bin/chrome-linux64/locales/sl.pak  \r\n",
      "  inflating: /usr/bin/chrome-linux64/locales/sv.pak.info  \r\n",
      "  inflating: /usr/bin/chrome-linux64/locales/ko.pak  \r\n",
      "  inflating: /usr/bin/chrome-linux64/locales/nb.pak  \r\n",
      "  inflating: /usr/bin/chrome-linux64/locales/tr.pak  \r\n",
      "  inflating: /usr/bin/chrome-linux64/locales/th.pak.info  \r\n",
      "  inflating: /usr/bin/chrome-linux64/locales/ar.pak.info  \r\n",
      "  inflating: /usr/bin/chrome-linux64/locales/pt-PT.pak.info  \r\n",
      "  inflating: /usr/bin/chrome-linux64/locales/pt-PT.pak  \r\n",
      "  inflating: /usr/bin/chrome-linux64/locales/vi.pak  \r\n",
      "  inflating: /usr/bin/chrome-linux64/locales/ml.pak.info  \r\n",
      "  inflating: /usr/bin/chrome-linux64/locales/es.pak.info  \r\n",
      "  inflating: /usr/bin/chrome-linux64/locales/mr.pak.info  \r\n",
      "  inflating: /usr/bin/chrome-linux64/locales/tr.pak.info  \r\n",
      "  inflating: /usr/bin/chrome-linux64/locales/hi.pak.info  \r\n",
      "  inflating: /usr/bin/chrome-linux64/locales/fa.pak.info  \r\n",
      "  inflating: /usr/bin/chrome-linux64/locales/ja.pak  \r\n",
      "  inflating: /usr/bin/chrome-linux64/locales/bg.pak.info  \r\n",
      "  inflating: /usr/bin/chrome-linux64/locales/sr.pak.info  \r\n",
      "  inflating: /usr/bin/chrome-linux64/locales/fi.pak  \r\n",
      "  inflating: /usr/bin/chrome-linux64/locales/ca.pak  \r\n",
      "  inflating: /usr/bin/chrome-linux64/locales/et.pak.info  \r\n",
      "  inflating: /usr/bin/chrome-linux64/locales/ko.pak.info  \r\n",
      "  inflating: /usr/bin/chrome-linux64/locales/gu.pak  \r\n",
      "  inflating: /usr/bin/chrome-linux64/locales/et.pak  \r\n",
      "  inflating: /usr/bin/chrome-linux64/locales/it.pak.info  \r\n",
      "  inflating: /usr/bin/chrome-linux64/locales/lv.pak.info  \r\n",
      "  inflating: /usr/bin/chrome-linux64/locales/sr.pak  \r\n",
      "  inflating: /usr/bin/chrome-linux64/locales/bn.pak  \r\n",
      "  inflating: /usr/bin/chrome-linux64/locales/pl.pak  \r\n",
      "  inflating: /usr/bin/chrome-linux64/locales/el.pak.info  \r\n",
      "  inflating: /usr/bin/chrome-linux64/locales/lv.pak  \r\n",
      "  inflating: /usr/bin/chrome-linux64/locales/ca.pak.info  \r\n",
      "  inflating: /usr/bin/chrome-linux64/locales/uk.pak.info  \r\n",
      "  inflating: /usr/bin/chrome-linux64/locales/nl.pak  \r\n",
      "  inflating: /usr/bin/chrome-linux64/locales/sw.pak.info  \r\n",
      "  inflating: /usr/bin/chrome-linux64/locales/de.pak  \r\n",
      "  inflating: /usr/bin/chrome-linux64/locales/af.pak  \r\n",
      "  inflating: /usr/bin/chrome-linux64/locales/hi.pak  \r\n",
      "  inflating: /usr/bin/chrome-linux64/locales/pl.pak.info  \r\n",
      "  inflating: /usr/bin/chrome-linux64/locales/he.pak  \r\n",
      "  inflating: /usr/bin/chrome-linux64/locales/sv.pak  \r\n",
      "  inflating: /usr/bin/chrome-linux64/locales/ms.pak.info  \r\n",
      "  inflating: /usr/bin/chrome-linux64/locales/sk.pak  \r\n",
      "  inflating: /usr/bin/chrome-linux64/locales/bn.pak.info  \r\n",
      "  inflating: /usr/bin/chrome-linux64/locales/cs.pak.info  \r\n",
      "  inflating: /usr/bin/chrome-linux64/locales/kn.pak.info  \r\n",
      "  inflating: /usr/bin/chrome-linux64/locales/zh-CN.pak.info  \r\n",
      "  inflating: /usr/bin/chrome-linux64/locales/id.pak.info  \r\n",
      "  inflating: /usr/bin/chrome-linux64/locales/es-419.pak.info  \r\n",
      "  inflating: /usr/bin/chrome-linux64/locales/lt.pak  \r\n",
      "  inflating: /usr/bin/chrome-linux64/locales/ur.pak  \r\n",
      "  inflating: /usr/bin/chrome-linux64/locales/ta.pak.info  \r\n",
      "  inflating: /usr/bin/chrome-linux64/locales/zh-TW.pak  \r\n",
      "  inflating: /usr/bin/chrome-linux64/locales/te.pak  \r\n",
      "  inflating: /usr/bin/chrome-linux64/locales/ja.pak.info  \r\n",
      "  inflating: /usr/bin/chrome-linux64/locales/en-US.pak  \r\n",
      "  inflating: /usr/bin/chrome-linux64/locales/nb.pak.info  \r\n",
      "  inflating: /usr/bin/chrome-linux64/locales/it.pak  \r\n",
      "  inflating: /usr/bin/chrome-linux64/locales/es-419.pak  \r\n",
      "  inflating: /usr/bin/chrome-linux64/locales/nl.pak.info  \r\n",
      "  inflating: /usr/bin/chrome-linux64/locales/cs.pak  \r\n",
      "  inflating: /usr/bin/chrome-linux64/locales/zh-TW.pak.info  \r\n",
      "  inflating: /usr/bin/chrome-linux64/locales/ru.pak.info  \r\n",
      "  inflating: /usr/bin/chrome-linux64/locales/da.pak  \r\n",
      "  inflating: /usr/bin/chrome-linux64/locales/lt.pak.info  \r\n",
      "  inflating: /usr/bin/chrome-linux64/locales/ml.pak  \r\n",
      "  inflating: /usr/bin/chrome-linux64/locales/mr.pak  \r\n",
      "  inflating: /usr/bin/chrome-linux64/locales/pt-BR.pak  \r\n",
      "  inflating: /usr/bin/chrome-linux64/locales/da.pak.info  \r\n",
      "  inflating: /usr/bin/chrome-linux64/locales/te.pak.info  \r\n",
      "  inflating: /usr/bin/chrome-linux64/locales/fil.pak.info  \r\n",
      "  inflating: /usr/bin/chrome-linux64/locales/ta.pak  \r\n",
      "  inflating: /usr/bin/chrome-linux64/locales/id.pak  \r\n",
      "  inflating: /usr/bin/chrome-linux64/locales/am.pak.info  \r\n",
      "  inflating: /usr/bin/chrome-linux64/locales/am.pak  \r\n",
      "  inflating: /usr/bin/chrome-linux64/locales/hu.pak  \r\n",
      "  inflating: /usr/bin/chrome-linux64/locales/fi.pak.info  \r\n",
      "  inflating: /usr/bin/chrome-linux64/locales/sl.pak.info  \r\n",
      "  inflating: /usr/bin/chrome-linux64/locales/ro.pak  \r\n",
      "  inflating: /usr/bin/chrome-linux64/locales/th.pak  \r\n",
      "  inflating: /usr/bin/chrome-linux64/locales/fr.pak  \r\n",
      "  inflating: /usr/bin/chrome-linux64/locales/gu.pak.info  \r\n",
      "  inflating: /usr/bin/chrome-linux64/locales/ru.pak  \r\n",
      "  inflating: /usr/bin/chrome-linux64/locales/ro.pak.info  \r\n",
      "  inflating: /usr/bin/chrome-linux64/locales/hr.pak.info  \r\n",
      "   creating: /usr/bin/chrome-linux64/resources/\r\n",
      "   creating: /usr/bin/chrome-linux64/resources/inspector_overlay/\r\n",
      "  inflating: /usr/bin/chrome-linux64/resources/inspector_overlay/inspector_overlay_resources.grd  \r\n",
      "  inflating: /usr/bin/chrome-linux64/resources/inspector_overlay/main.js  \r\n"
     ]
    }
   ],
   "source": [
    "!wget -P /tmp https://edgedl.me.gvt1.com/edgedl/chrome/chrome-for-testing/116.0.5845.96/linux64/chrome-linux64.zip\n",
    "!unzip /tmp/chrome-linux64.zip -d /usr/bin/"
   ]
  },
  {
   "cell_type": "markdown",
   "id": "c84fadbc",
   "metadata": {
    "papermill": {
     "duration": 0.017976,
     "end_time": "2024-08-28T09:15:24.117704",
     "exception": false,
     "start_time": "2024-08-28T09:15:24.099728",
     "status": "completed"
    },
    "tags": []
   },
   "source": [
    "## 1.3. Download and extract Chromedriver:\n",
    "\n",
    "As it was done in the previous code."
   ]
  },
  {
   "cell_type": "code",
   "execution_count": 3,
   "id": "b49110c8",
   "metadata": {
    "execution": {
     "iopub.execute_input": "2024-08-28T09:15:24.158023Z",
     "iopub.status.busy": "2024-08-28T09:15:24.157087Z",
     "iopub.status.idle": "2024-08-28T09:15:28.773475Z",
     "shell.execute_reply": "2024-08-28T09:15:28.772152Z"
    },
    "papermill": {
     "duration": 4.640133,
     "end_time": "2024-08-28T09:15:28.776231",
     "exception": false,
     "start_time": "2024-08-28T09:15:24.136098",
     "status": "completed"
    },
    "tags": []
   },
   "outputs": [
    {
     "name": "stdout",
     "output_type": "stream",
     "text": [
      "--2024-08-28 09:15:25--  https://edgedl.me.gvt1.com/edgedl/chrome/chrome-for-testing/116.0.5845.96/linux64/chromedriver-linux64.zip\r\n",
      "Resolving edgedl.me.gvt1.com (edgedl.me.gvt1.com)... 34.104.35.123, 2600:1900:4110:86f::\r\n",
      "Connecting to edgedl.me.gvt1.com (edgedl.me.gvt1.com)|34.104.35.123|:443... connected.\r\n",
      "HTTP request sent, awaiting response... 302 Found\r\n",
      "Location: https://storage.googleapis.com/chrome-for-testing-public/116.0.5845.96/linux64/chromedriver-linux64.zip [following]\r\n",
      "--2024-08-28 09:15:25--  https://storage.googleapis.com/chrome-for-testing-public/116.0.5845.96/linux64/chromedriver-linux64.zip\r\n",
      "Resolving storage.googleapis.com (storage.googleapis.com)... 64.233.188.207, 142.250.157.207, 74.125.204.207, ...\r\n",
      "Connecting to storage.googleapis.com (storage.googleapis.com)|64.233.188.207|:443... connected.\r\n",
      "HTTP request sent, awaiting response... 200 OK\r\n",
      "Length: 7271942 (6.9M) [application/zip]\r\n",
      "Saving to: '/tmp/chromedriver-linux64.zip'\r\n",
      "\r\n",
      "chromedriver-linux6 100%[===================>]   6.93M  6.38MB/s    in 1.1s    \r\n",
      "\r\n",
      "2024-08-28 09:15:27 (6.38 MB/s) - '/tmp/chromedriver-linux64.zip' saved [7271942/7271942]\r\n",
      "\r\n",
      "Archive:  /tmp/chromedriver-linux64.zip\r\n",
      "  inflating: /usr/bin/chromedriver-linux64/LICENSE.chromedriver  \r\n",
      "  inflating: /usr/bin/chromedriver-linux64/chromedriver  \r\n"
     ]
    }
   ],
   "source": [
    "!wget -P /tmp https://edgedl.me.gvt1.com/edgedl/chrome/chrome-for-testing/116.0.5845.96/linux64/chromedriver-linux64.zip\n",
    "!unzip /tmp/chromedriver-linux64.zip -d /usr/bin/"
   ]
  },
  {
   "cell_type": "markdown",
   "id": "496b34c5",
   "metadata": {
    "papermill": {
     "duration": 0.023757,
     "end_time": "2024-08-28T09:15:28.819074",
     "exception": false,
     "start_time": "2024-08-28T09:15:28.795317",
     "status": "completed"
    },
    "tags": []
   },
   "source": [
    "## 1.4. Install Python libraries"
   ]
  },
  {
   "cell_type": "code",
   "execution_count": 4,
   "id": "d31e43ed",
   "metadata": {
    "execution": {
     "iopub.execute_input": "2024-08-28T09:15:28.860965Z",
     "iopub.status.busy": "2024-08-28T09:15:28.860553Z",
     "iopub.status.idle": "2024-08-28T09:16:01.301670Z",
     "shell.execute_reply": "2024-08-28T09:16:01.300552Z"
    },
    "papermill": {
     "duration": 32.465458,
     "end_time": "2024-08-28T09:16:01.304330",
     "exception": false,
     "start_time": "2024-08-28T09:15:28.838872",
     "status": "completed"
    },
    "tags": []
   },
   "outputs": [
    {
     "name": "stdout",
     "output_type": "stream",
     "text": [
      "\r\n",
      "\r\n",
      "\r\n",
      "The following additional packages will be installed:\r\n",
      "  apparmor chromium-browser chromium-chromedriver liblzo2-2 snapd\r\n",
      "  squashfs-tools\r\n",
      "Suggested packages:\r\n",
      "  apparmor-profiles-extra apparmor-utils zenity | kdialog\r\n",
      "The following NEW packages will be installed:\r\n",
      "  apparmor chromium-browser chromium-chromedriver liblzo2-2 python3-selenium\r\n",
      "  snapd squashfs-tools\r\n",
      "0 upgraded, 7 newly installed, 0 to remove and 128 not upgraded.\r\n",
      "Need to get 25.9 MB of archives.\r\n",
      "After this operation, 107 MB of additional disk space will be used.\r\n",
      "Get:1 http://archive.ubuntu.com/ubuntu focal-updates/main amd64 apparmor amd64 2.13.3-7ubuntu5.3 [502 kB]\r\n",
      "Get:2 http://archive.ubuntu.com/ubuntu focal/main amd64 liblzo2-2 amd64 2.10-2 [50.8 kB]\r\n",
      "Get:3 http://archive.ubuntu.com/ubuntu focal-updates/main amd64 squashfs-tools amd64 1:4.4-1ubuntu0.3 [117 kB]\r\n",
      "Get:4 http://archive.ubuntu.com/ubuntu focal-updates/main amd64 snapd amd64 2.63+20.04ubuntu0.1 [25.1 MB]\r\n",
      "Get:5 http://archive.ubuntu.com/ubuntu focal-updates/universe amd64 chromium-browser amd64 1:85.0.4183.83-0ubuntu0.20.04.3 [48.5 kB]\r\n",
      "Get:6 http://archive.ubuntu.com/ubuntu focal-updates/universe amd64 chromium-chromedriver amd64 1:85.0.4183.83-0ubuntu0.20.04.3 [2496 B]\r\n",
      "Get:7 http://archive.ubuntu.com/ubuntu focal/universe amd64 python3-selenium all 4.0.0~a1+dfsg1-1.1 [86.2 kB]\r\n",
      "Fetched 25.9 MB in 4s (6891 kB/s)\r\n",
      "Preconfiguring packages ...\r\n",
      "\n",
      "\u001b7\u001b[0;23r\u001b8\u001b[1ASelecting previously unselected package apparmor.\r\n",
      "(Reading database ... 109076 files and directories currently installed.)\r\n",
      "Preparing to unpack .../apparmor_2.13.3-7ubuntu5.3_amd64.deb ...\r\n",
      "\u001b7\u001b[24;0f\u001b[42m\u001b[30mProgress: [  0%]\u001b[49m\u001b[39m [..........................................................] \u001b8\u001b7\u001b[24;0f\u001b[42m\u001b[30mProgress: [  3%]\u001b[49m\u001b[39m [##........................................................] \u001b8Unpacking apparmor (2.13.3-7ubuntu5.3) ...\r\n",
      "\u001b7\u001b[24;0f\u001b[42m\u001b[30mProgress: [  7%]\u001b[49m\u001b[39m [####......................................................] \u001b8Selecting previously unselected package liblzo2-2:amd64.\r\n",
      "Preparing to unpack .../liblzo2-2_2.10-2_amd64.deb ...\r\n",
      "\u001b7\u001b[24;0f\u001b[42m\u001b[30mProgress: [ 10%]\u001b[49m\u001b[39m [######....................................................] \u001b8Unpacking liblzo2-2:amd64 (2.10-2) ...\r\n",
      "\u001b7\u001b[24;0f\u001b[42m\u001b[30mProgress: [ 14%]\u001b[49m\u001b[39m [########..................................................] \u001b8Selecting previously unselected package squashfs-tools.\r\n",
      "Preparing to unpack .../squashfs-tools_1%3a4.4-1ubuntu0.3_amd64.deb ...\r\n",
      "\u001b7\u001b[24;0f\u001b[42m\u001b[30mProgress: [ 17%]\u001b[49m\u001b[39m [#########.................................................] \u001b8Unpacking squashfs-tools (1:4.4-1ubuntu0.3) ...\r\n",
      "\u001b7\u001b[24;0f\u001b[42m\u001b[30mProgress: [ 21%]\u001b[49m\u001b[39m [############..............................................] \u001b8Selecting previously unselected package snapd.\r\n",
      "Preparing to unpack .../snapd_2.63+20.04ubuntu0.1_amd64.deb ...\r\n",
      "\u001b7\u001b[24;0f\u001b[42m\u001b[30mProgress: [ 24%]\u001b[49m\u001b[39m [##############............................................] \u001b8Unpacking snapd (2.63+20.04ubuntu0.1) ...\r\n",
      "\u001b7\u001b[24;0f\u001b[42m\u001b[30mProgress: [ 28%]\u001b[49m\u001b[39m [################..........................................] \u001b8Setting up apparmor (2.13.3-7ubuntu5.3) ...\r\n",
      "\u001b7\u001b[24;0f\u001b[42m\u001b[30mProgress: [ 31%]\u001b[49m\u001b[39m [##################........................................] \u001b8Created symlink /etc/systemd/system/sysinit.target.wants/apparmor.service -> /lib/systemd/system/apparmor.service.\r\n",
      "\u001b7\u001b[24;0f\u001b[42m\u001b[30mProgress: [ 34%]\u001b[49m\u001b[39m [###################.......................................] \u001b8Setting up liblzo2-2:amd64 (2.10-2) ...\r\n",
      "\u001b7\u001b[24;0f\u001b[42m\u001b[30mProgress: [ 38%]\u001b[49m\u001b[39m [######################....................................] \u001b8\u001b7\u001b[24;0f\u001b[42m\u001b[30mProgress: [ 41%]\u001b[49m\u001b[39m [########################..................................] \u001b8Setting up squashfs-tools (1:4.4-1ubuntu0.3) ...\r\n",
      "\u001b7\u001b[24;0f\u001b[42m\u001b[30mProgress: [ 45%]\u001b[49m\u001b[39m [##########################................................] \u001b8\u001b7\u001b[24;0f\u001b[42m\u001b[30mProgress: [ 48%]\u001b[49m\u001b[39m [############################..............................] \u001b8Setting up snapd (2.63+20.04ubuntu0.1) ...\r\n",
      "\u001b7\u001b[24;0f\u001b[42m\u001b[30mProgress: [ 52%]\u001b[49m\u001b[39m [#############################.............................] \u001b8Created symlink /etc/systemd/system/multi-user.target.wants/snapd.apparmor.service -> /lib/systemd/system/snapd.apparmor.service.\r\n",
      "Created symlink /etc/systemd/system/multi-user.target.wants/snapd.autoimport.service -> /lib/systemd/system/snapd.autoimport.service.\r\n",
      "Created symlink /etc/systemd/system/multi-user.target.wants/snapd.core-fixup.service -> /lib/systemd/system/snapd.core-fixup.service.\r\n",
      "Created symlink /etc/systemd/system/multi-user.target.wants/snapd.recovery-chooser-trigger.service -> /lib/systemd/system/snapd.recovery-chooser-trigger.service.\r\n",
      "Created symlink /etc/systemd/system/multi-user.target.wants/snapd.seeded.service -> /lib/systemd/system/snapd.seeded.service.\r\n",
      "Created symlink /etc/systemd/system/cloud-final.service.wants/snapd.seeded.service -> /lib/systemd/system/snapd.seeded.service.\r\n",
      "Created symlink /etc/systemd/system/multi-user.target.wants/snapd.service -> /lib/systemd/system/snapd.service.\r\n",
      "Created symlink /etc/systemd/system/timers.target.wants/snapd.snap-repair.timer -> /lib/systemd/system/snapd.snap-repair.timer.\r\n",
      "Created symlink /etc/systemd/system/sockets.target.wants/snapd.socket -> /lib/systemd/system/snapd.socket.\r\n",
      "Created symlink /etc/systemd/system/final.target.wants/snapd.system-shutdown.service -> /lib/systemd/system/snapd.system-shutdown.service.\r\n",
      "\u001b7\u001b[24;0f\u001b[42m\u001b[30mProgress: [ 55%]\u001b[49m\u001b[39m [################################..........................] \u001b8Selecting previously unselected package chromium-browser.\r\n",
      "(Reading database ... 109369 files and directories currently installed.)\r\n",
      "Preparing to unpack .../chromium-browser_1%3a85.0.4183.83-0ubuntu0.20.04.3_amd64.deb ...\r\n",
      "\u001b7\u001b[24;0f\u001b[42m\u001b[30mProgress: [ 59%]\u001b[49m\u001b[39m [##################################........................] \u001b8=> Installing the chromium snap\r\n",
      "==> Checking connectivity with the snap store\r\n",
      "===> System doesn't have a working snapd, skipping\r\n",
      "Unpacking chromium-browser (1:85.0.4183.83-0ubuntu0.20.04.3) ...\r\n",
      "\u001b7\u001b[24;0f\u001b[42m\u001b[30mProgress: [ 62%]\u001b[49m\u001b[39m [####################################......................] \u001b8Selecting previously unselected package chromium-chromedriver.\r\n",
      "Preparing to unpack .../chromium-chromedriver_1%3a85.0.4183.83-0ubuntu0.20.04.3_amd64.deb ...\r\n",
      "\u001b7\u001b[24;0f\u001b[42m\u001b[30mProgress: [ 66%]\u001b[49m\u001b[39m [######################################....................] \u001b8Unpacking chromium-chromedriver (1:85.0.4183.83-0ubuntu0.20.04.3) ...\r\n",
      "\u001b7\u001b[24;0f\u001b[42m\u001b[30mProgress: [ 69%]\u001b[49m\u001b[39m [#######################################...................] \u001b8Selecting previously unselected package python3-selenium.\r\n",
      "Preparing to unpack .../python3-selenium_4.0.0~a1+dfsg1-1.1_all.deb ...\r\n",
      "\u001b7\u001b[24;0f\u001b[42m\u001b[30mProgress: [ 72%]\u001b[49m\u001b[39m [##########################################................] \u001b8Unpacking python3-selenium (4.0.0~a1+dfsg1-1.1) ...\r\n",
      "\u001b7\u001b[24;0f\u001b[42m\u001b[30mProgress: [ 76%]\u001b[49m\u001b[39m [############################################..............] \u001b8Setting up python3-selenium (4.0.0~a1+dfsg1-1.1) ...\r\n",
      "\u001b7\u001b[24;0f\u001b[42m\u001b[30mProgress: [ 79%]\u001b[49m\u001b[39m [##############################################............] \u001b8\u001b7\u001b[24;0f\u001b[42m\u001b[30mProgress: [ 83%]\u001b[49m\u001b[39m [################################################..........] \u001b8Setting up chromium-browser (1:85.0.4183.83-0ubuntu0.20.04.3) ...\r\n",
      "\u001b7\u001b[24;0f\u001b[42m\u001b[30mProgress: [ 86%]\u001b[49m\u001b[39m [##################################################........] \u001b8update-alternatives: using /usr/bin/chromium-browser to provide /usr/bin/x-www-browser (x-www-browser) in auto mode\r\n",
      "update-alternatives: using /usr/bin/chromium-browser to provide /usr/bin/gnome-www-browser (gnome-www-browser) in auto mode\r\n",
      "\u001b7\u001b[24;0f\u001b[42m\u001b[30mProgress: [ 90%]\u001b[49m\u001b[39m [####################################################......] \u001b8Setting up chromium-chromedriver (1:85.0.4183.83-0ubuntu0.20.04.3) ...\r\n",
      "\u001b7\u001b[24;0f\u001b[42m\u001b[30mProgress: [ 93%]\u001b[49m\u001b[39m [#####################################################.....] \u001b8\u001b7\u001b[24;0f\u001b[42m\u001b[30mProgress: [ 97%]\u001b[49m\u001b[39m [########################################################..] \u001b8Processing triggers for mime-support (3.64ubuntu1) ...\r\n",
      "Processing triggers for hicolor-icon-theme (0.17-2) ...\r\n",
      "Processing triggers for libc-bin (2.31-0ubuntu9.9) ...\r\n",
      "Processing triggers for systemd (245.4-4ubuntu3.22) ...\r\n",
      "Processing triggers for man-db (2.9.1-1) ...\r\n",
      "Processing triggers for dbus (1.12.16-2ubuntu2.3) ...\r\n",
      "\r\n",
      "\u001b7\u001b[0;24r\u001b8\u001b[1A\u001b[JCollecting selenium==3.141.0\r\n",
      "  Obtaining dependency information for selenium==3.141.0 from https://files.pythonhosted.org/packages/80/d6/4294f0b4bce4de0abf13e17190289f9d0613b0a44e5dd6a7f5ca98459853/selenium-3.141.0-py2.py3-none-any.whl.metadata\r\n",
      "  Downloading selenium-3.141.0-py2.py3-none-any.whl.metadata (6.6 kB)\r\n",
      "Requirement already satisfied: urllib3 in /opt/conda/lib/python3.10/site-packages (from selenium==3.141.0) (1.26.15)\r\n",
      "Downloading selenium-3.141.0-py2.py3-none-any.whl (904 kB)\r\n",
      "\u001b[2K   \u001b[90m━━━━━━━━━━━━━━━━━━━━━━━━━━━━━━━━━━━━━━━━\u001b[0m \u001b[32m904.6/904.6 kB\u001b[0m \u001b[31m12.1 MB/s\u001b[0m eta \u001b[36m0:00:00\u001b[0m\r\n",
      "\u001b[?25hInstalling collected packages: selenium\r\n",
      "Successfully installed selenium-3.141.0\r\n"
     ]
    }
   ],
   "source": [
    "!apt install -y python3-selenium\n",
    "!pip install selenium==3.141.0"
   ]
  },
  {
   "cell_type": "markdown",
   "id": "ceae29c3",
   "metadata": {
    "papermill": {
     "duration": 0.02399,
     "end_time": "2024-08-28T09:16:01.352821",
     "exception": false,
     "start_time": "2024-08-28T09:16:01.328831",
     "status": "completed"
    },
    "tags": []
   },
   "source": [
    "# 2.Importing Libraries\n",
    "\n",
    "You will also need to install the following Python libraries:\n",
    "\n",
    "* **selenium**: The Selenium library provides the API for interacting with web pages.\n",
    "* **webdriver**: The webdriver library provides a way to interact with web drivers, such as Chromedriver.\n",
    "* **BeautifulSoup**: The BeautifulSoup library is used for parsing HTML content."
   ]
  },
  {
   "cell_type": "code",
   "execution_count": 5,
   "id": "dd3ee0de",
   "metadata": {
    "_cell_guid": "b1076dfc-b9ad-4769-8c92-a6c4dae69d19",
    "_uuid": "8f2839f25d086af736a60e9eeb907d3b93b6e0e5",
    "execution": {
     "iopub.execute_input": "2024-08-28T09:16:01.404293Z",
     "iopub.status.busy": "2024-08-28T09:16:01.403526Z",
     "iopub.status.idle": "2024-08-28T09:16:02.517795Z",
     "shell.execute_reply": "2024-08-28T09:16:02.516685Z"
    },
    "papermill": {
     "duration": 1.143828,
     "end_time": "2024-08-28T09:16:02.520994",
     "exception": false,
     "start_time": "2024-08-28T09:16:01.377166",
     "status": "completed"
    },
    "tags": []
   },
   "outputs": [],
   "source": [
    "import pandas as pd # data processing, CSV file I/O (e.g. pd.read_csv)\n",
    "import requests\n",
    "from bs4 import BeautifulSoup\n",
    "from tqdm import tqdm"
   ]
  },
  {
   "cell_type": "code",
   "execution_count": 6,
   "id": "ea6e6206",
   "metadata": {
    "execution": {
     "iopub.execute_input": "2024-08-28T09:16:02.572278Z",
     "iopub.status.busy": "2024-08-28T09:16:02.570989Z",
     "iopub.status.idle": "2024-08-28T09:16:02.578623Z",
     "shell.execute_reply": "2024-08-28T09:16:02.577572Z"
    },
    "papermill": {
     "duration": 0.035881,
     "end_time": "2024-08-28T09:16:02.581455",
     "exception": false,
     "start_time": "2024-08-28T09:16:02.545574",
     "status": "completed"
    },
    "tags": []
   },
   "outputs": [],
   "source": [
    "from retrying import retry\n",
    "import time\n",
    "import traceback"
   ]
  },
  {
   "cell_type": "markdown",
   "id": "620042c2",
   "metadata": {
    "papermill": {
     "duration": 0.024883,
     "end_time": "2024-08-28T09:16:02.703079",
     "exception": false,
     "start_time": "2024-08-28T09:16:02.678196",
     "status": "completed"
    },
    "tags": []
   },
   "source": [
    "# 3. Configuring Chrome Driver\n",
    "\n",
    "These functions define the locations of Chrome and Chromedriver executables. Additionally, initialize_driver creates a Chrome webdriver instance with specific options:\n",
    "\n",
    "* *--headless*: Runs Chrome in headless mode, making it invisible.\n",
    "* *--no-sandbox*: Disables the sandbox for improved performance.\n",
    "* *--start-fullscreen*: Starts Chrome in fullscreen mode.\n",
    "* *--allow-insecure-localhost*: Allows access to insecure local websites (if needed).\n",
    "* *--disable-dev-shm-usage*: Disables shared memory usage for Chrome.\n",
    "* *user-agent*: Sets the user agent string to mimic a regular browser."
   ]
  },
  {
   "cell_type": "code",
   "execution_count": 7,
   "id": "6936b5af",
   "metadata": {
    "execution": {
     "iopub.execute_input": "2024-08-28T09:16:02.754770Z",
     "iopub.status.busy": "2024-08-28T09:16:02.754363Z",
     "iopub.status.idle": "2024-08-28T09:16:02.784740Z",
     "shell.execute_reply": "2024-08-28T09:16:02.783887Z"
    },
    "papermill": {
     "duration": 0.059061,
     "end_time": "2024-08-28T09:16:02.787243",
     "exception": false,
     "start_time": "2024-08-28T09:16:02.728182",
     "status": "completed"
    },
    "tags": []
   },
   "outputs": [],
   "source": [
    "from selenium import webdriver\n",
    "from selenium.webdriver.chrome.options import Options\n",
    "from selenium.webdriver.common.by import By\n",
    "from selenium.webdriver.support.ui import WebDriverWait\n",
    "from selenium.webdriver.support import expected_conditions as EC\n",
    "from selenium.webdriver.common.action_chains import ActionChains\n",
    "\n",
    "CHROME_BINARY_LOCATION = \"/usr/bin/chrome-linux64/chrome\"\n",
    "CHROMEDRIVER_BINARY_LOCATION = \"/usr/bin/chromedriver-linux64/chromedriver\"\n",
    "\n",
    "def add_driver_options(options):\n",
    "    \"\"\"\n",
    "    Add configurable options\n",
    "    \"\"\"\n",
    "    chrome_options = Options()\n",
    "    for opt in options:\n",
    "        chrome_options.add_argument(opt)\n",
    "    return chrome_options\n",
    "\n",
    "def initialize_driver():\n",
    "    \"\"\"\n",
    "    Initialize the web driver\n",
    "    \"\"\"\n",
    "    driver_config = {\n",
    "        \"options\": [\n",
    "            \"--headless\",\n",
    "            \"--no-sandbox\",\n",
    "            \"--start-fullscreen\",\n",
    "            \"--allow-insecure-localhost\",\n",
    "            \"--disable-dev-shm-usage\",\n",
    "            \"user-agent=Chrome/116.0.5845.96\"\n",
    "        ],\n",
    "    }\n",
    "    options = add_driver_options(driver_config[\"options\"])\n",
    "    options.binary_location = CHROME_BINARY_LOCATION\n",
    "    driver = webdriver.Chrome(\n",
    "        executable_path=CHROMEDRIVER_BINARY_LOCATION,\n",
    "        options=options)\n",
    "    return driver\n"
   ]
  },
  {
   "cell_type": "markdown",
   "id": "c5d92466",
   "metadata": {
    "papermill": {
     "duration": 0.024123,
     "end_time": "2024-08-28T09:16:02.836104",
     "exception": false,
     "start_time": "2024-08-28T09:16:02.811981",
     "status": "completed"
    },
    "tags": []
   },
   "source": [
    "# 4. Using Selenium: Example\n",
    "\n",
    "Here's a breakdown of how I'm using Selenium to extract book information from Goodreads, with a practical example:\n",
    "\n",
    "\n",
    "If you want a full version of this dataset, you can check and vote it in https://www.kaggle.com/datasets/cristaliss/ultimate-book-collection-top-100-books-up-to-2023"
   ]
  },
  {
   "cell_type": "code",
   "execution_count": 8,
   "id": "456d32da",
   "metadata": {
    "execution": {
     "iopub.execute_input": "2024-08-28T09:16:02.887634Z",
     "iopub.status.busy": "2024-08-28T09:16:02.887261Z",
     "iopub.status.idle": "2024-08-28T09:16:02.901779Z",
     "shell.execute_reply": "2024-08-28T09:16:02.900661Z"
    },
    "papermill": {
     "duration": 0.043569,
     "end_time": "2024-08-28T09:16:02.904231",
     "exception": false,
     "start_time": "2024-08-28T09:16:02.860662",
     "status": "completed"
    },
    "tags": []
   },
   "outputs": [],
   "source": [
    "import pandas as pd\n",
    "from tqdm import tqdm\n",
    "\n",
    "def extract_series_info(series_string):\n",
    "    # Split the series string based on ', #' or ' #'\n",
    "    if ', #' in series_string:\n",
    "        series_list = series_string.split(', #')\n",
    "    elif ' #' in series_string:\n",
    "        series_list = series_string.split(' #')\n",
    "    else:\n",
    "        # If no separator is found, assume the whole string is the series name\n",
    "        return series_string, ''\n",
    "\n",
    "    # Extract the series name and release number\n",
    "    series_name = series_list[0]\n",
    "    release_number = series_list[1]\n",
    "\n",
    "    return series_name, release_number\n",
    "\n",
    "def extract_series_and_release(title_name):\n",
    "    series_info_temp = title_name.split('(')\n",
    "    if len(series_info_temp) > 1:\n",
    "        release_info = series_info_temp[-1].replace(')', '')\n",
    "        if len(release_info.split(';')) > 1:\n",
    "            series_temp = []\n",
    "            release_temp = []\n",
    "            for b in release_info.split(\";\"):\n",
    "                series_list, release_list = extract_series_info(b)\n",
    "                series_temp.append(series_list)\n",
    "                release_temp.append(release_list)\n",
    "            series_list = ','.join(series_temp)\n",
    "            release_list = ','.join(release_temp)\n",
    "        else:\n",
    "            series_list, release_list = extract_series_info(release_info)\n",
    "\n",
    "        title_name = title_name.replace(f' ({release_info})', '')\n",
    "    else:\n",
    "        series_list = ''\n",
    "        release_list = ''\n",
    "\n",
    "    return series_list, release_list\n",
    "\n",
    "\n",
    "def extract_books_info(driver, url):\n",
    "    \"\"\"\n",
    "    Extracts book information from a Goodreads URL using Selenium.\n",
    "\n",
    "    Args:\n",
    "        driver (selenium.webdriver.chrome.webdriver.WebDriver): The initialized Chrome driver.\n",
    "        url (str): The URL of the Goodreads page containing book information.\n",
    "\n",
    "    Returns:\n",
    "        pd.DataFrame: A DataFrame containing the extracted book data.\n",
    "\n",
    "    Raises:\n",
    "        Exception: If an error occurs during the scraping process.\n",
    "    \"\"\"\n",
    "    try:\n",
    "        driver.get(url)\n",
    "\n",
    "        # Wait for the page to load completely\n",
    "        WebDriverWait(driver, 10).until(\n",
    "            EC.presence_of_element_located((By.CLASS_NAME, \"bookTitle\"))\n",
    "        )\n",
    "\n",
    "        # Extract book elements using Selenium\n",
    "        title_elements = driver.find_elements(By.CLASS_NAME, \"bookTitle\")\n",
    "        author_elements = driver.find_elements(By.CLASS_NAME, \"authorName\")\n",
    "\n",
    "        book_data = {\n",
    "            'book_titles': [],\n",
    "            'series_info': [],\n",
    "            'release_numbers': [],\n",
    "            'authors_raw': []\n",
    "        }\n",
    "\n",
    "        for title in tqdm(title_elements, total=len(title_elements), desc='Processing Books'):\n",
    "            book_url = \"https://www.goodreads.com\" + title.get_attribute('href')\n",
    "\n",
    "            # Extract title using Selenium\n",
    "            title_span = title.find_element(By.TAG_NAME, 'span')\n",
    "            title_name = title_span.get_attribute('innerHTML').strip()\n",
    "\n",
    "            # Extract series and release information using Selenium\n",
    "            series_list, release_list = extract_series_and_release(title_name)\n",
    "            book_data['series_info'].append(series_list)\n",
    "            book_data['release_numbers'].append(release_list)\n",
    "            book_data['book_titles'].append(title_name)\n",
    "\n",
    "            # Extract authors using Selenium\n",
    "            authors_raw = []\n",
    "            for author in author_elements:\n",
    "                author_element = author.find_element(By.TAG_NAME, 'span')\n",
    "                if author_element:\n",
    "                    authors_raw.append(author_element.get_attribute('innerHTML').strip())\n",
    "                else:\n",
    "                    authors_raw.append('')\n",
    "            book_data['authors_raw'] = authors_raw\n",
    "\n",
    "        df_book = pd.DataFrame(book_data)\n",
    "\n",
    "        return df_book\n",
    "\n",
    "    except Exception as e:\n",
    "        print(f\"An error occurred during scraping: {e}\")\n",
    "        raise\n",
    "\n",
    "# Example usage\n",
    "#driver = initialize_driver()\n",
    "#url = \"https://www.goodreads.com/list/best_of_year/2023\"\n",
    "#books = extract_books_info(driver, url)"
   ]
  },
  {
   "cell_type": "code",
   "execution_count": null,
   "id": "d895e2f9",
   "metadata": {
    "papermill": {
     "duration": 0.024343,
     "end_time": "2024-08-28T09:16:02.954414",
     "exception": false,
     "start_time": "2024-08-28T09:16:02.930071",
     "status": "completed"
    },
    "tags": []
   },
   "outputs": [],
   "source": []
  },
  {
   "cell_type": "markdown",
   "id": "e28cda49",
   "metadata": {
    "papermill": {
     "duration": 0.024026,
     "end_time": "2024-08-28T09:16:03.002976",
     "exception": false,
     "start_time": "2024-08-28T09:16:02.978950",
     "status": "completed"
    },
    "tags": []
   },
   "source": [
    "# 5) Scrape letterboxd reviews from "
   ]
  },
  {
   "cell_type": "code",
   "execution_count": 9,
   "id": "2a907fd5",
   "metadata": {
    "execution": {
     "iopub.execute_input": "2024-08-28T09:16:03.055358Z",
     "iopub.status.busy": "2024-08-28T09:16:03.054957Z",
     "iopub.status.idle": "2024-08-28T09:16:03.065877Z",
     "shell.execute_reply": "2024-08-28T09:16:03.064903Z"
    },
    "papermill": {
     "duration": 0.039467,
     "end_time": "2024-08-28T09:16:03.067954",
     "exception": false,
     "start_time": "2024-08-28T09:16:03.028487",
     "status": "completed"
    },
    "tags": []
   },
   "outputs": [],
   "source": [
    "from selenium import webdriver\n",
    "from selenium.webdriver.chrome.service import Service\n",
    "from selenium.webdriver.chrome.options import Options\n",
    "from selenium.webdriver.common.by import By\n",
    "from selenium.webdriver.support.ui import WebDriverWait\n",
    "from selenium.webdriver.support import expected_conditions as EC\n",
    "from tqdm import tqdm\n",
    "import pandas as pd\n",
    "\n",
    "# Define the WebDriver initialization function\n",
    "def initialize_driver():\n",
    "    CHROME_BINARY_LOCATION = \"/usr/bin/chrome-linux64/chrome\"\n",
    "    CHROMEDRIVER_BINARY_LOCATION = \"/usr/bin/chromedriver-linux64/chromedriver\"\n",
    "\n",
    "    chrome_options = Options()\n",
    "    chrome_options.binary_location = CHROME_BINARY_LOCATION\n",
    "    chrome_options.add_argument(\"--headless\")\n",
    "    chrome_options.add_argument(\"--no-sandbox\")\n",
    "    chrome_options.add_argument(\"--start-fullscreen\")\n",
    "    chrome_options.add_argument(\"--allow-insecure-localhost\")\n",
    "    chrome_options.add_argument(\"--disable-dev-shm-usage\")\n",
    "    chrome_options.add_argument(\"user-agent=Chrome/116.0.5845.96\")\n",
    "\n",
    "    driver = webdriver.Chrome(\n",
    "        executable_path=CHROMEDRIVER_BINARY_LOCATION,\n",
    "        options=chrome_options\n",
    "    )\n",
    "    return driver\n",
    "\n",
    "def scrape_user_urls(driver, num_users):\n",
    "    # Initialize an empty DataFrame to store user URLs\n",
    "    df = pd.DataFrame(columns=[\"user_url\"])  # Initialize df to avoid UnboundLocalError\n",
    "    all_user_urls = []\n",
    "    \n",
    "    # Code for scraping user URLs\n",
    "    try:\n",
    "        page = 1\n",
    "        users_scraped = 0\n",
    "        \n",
    "        while users_scraped < num_users:\n",
    "            print(f\"Processing Page {page}:\")\n",
    "            driver.get(f\"https://letterboxd.com/members/popular/page/{page}/\")\n",
    "            WebDriverWait(driver, 10).until(\n",
    "                EC.presence_of_all_elements_located((By.CSS_SELECTOR, 'a.avatar.-a40'))\n",
    "            )\n",
    "            \n",
    "            user_elements = driver.find_elements(By.CSS_SELECTOR, 'a.avatar.-a40')\n",
    "            page_user_urls = [element.get_attribute('href') for element in user_elements]\n",
    "            \n",
    "            all_user_urls.extend(page_user_urls)\n",
    "            users_scraped += len(page_user_urls)\n",
    "            page += 1\n",
    "            \n",
    "            # Break if we exceed the desired number of users\n",
    "            if users_scraped >= num_users:\n",
    "                break\n",
    "        \n",
    "        # Slice the list to only include the desired number of users\n",
    "        all_user_urls = all_user_urls[:num_users]\n",
    "        \n",
    "        # Convert the list to a DataFrame\n",
    "        df = pd.DataFrame({\"user_url\": all_user_urls})\n",
    "    \n",
    "    except TimeoutException:\n",
    "        print(\"Timeout occurred during scraping. Proceeding with available data.\")\n",
    "    \n",
    "    finally:\n",
    "        driver.quit()\n",
    "        print(\"Connection closed successfully!\\n\\n\")\n",
    "    \n",
    "    return df\n",
    "\n"
   ]
  },
  {
   "cell_type": "code",
   "execution_count": 10,
   "id": "77c08117",
   "metadata": {
    "execution": {
     "iopub.execute_input": "2024-08-28T09:16:03.119956Z",
     "iopub.status.busy": "2024-08-28T09:16:03.119547Z",
     "iopub.status.idle": "2024-08-28T09:16:03.136620Z",
     "shell.execute_reply": "2024-08-28T09:16:03.135610Z"
    },
    "papermill": {
     "duration": 0.045958,
     "end_time": "2024-08-28T09:16:03.138895",
     "exception": false,
     "start_time": "2024-08-28T09:16:03.092937",
     "status": "completed"
    },
    "tags": []
   },
   "outputs": [],
   "source": [
    "from selenium import webdriver\n",
    "from selenium.webdriver.chrome.service import Service\n",
    "from selenium.webdriver.chrome.options import Options\n",
    "from selenium.webdriver.common.by import By\n",
    "from selenium.webdriver.support.ui import WebDriverWait\n",
    "from selenium.webdriver.support import expected_conditions as EC\n",
    "from selenium.common.exceptions import NoSuchElementException, TimeoutException\n",
    "from tqdm import tqdm\n",
    "import pandas as pd\n",
    "\n",
    "def initialize_driver():\n",
    "    CHROME_BINARY_LOCATION = \"/usr/bin/chrome-linux64/chrome\"\n",
    "    CHROMEDRIVER_BINARY_LOCATION = \"/usr/bin/chromedriver-linux64/chromedriver\"\n",
    "\n",
    "    chrome_options = Options()\n",
    "    chrome_options.binary_location = CHROME_BINARY_LOCATION\n",
    "    chrome_options.add_argument(\"--headless\")\n",
    "    chrome_options.add_argument(\"--no-sandbox\")\n",
    "    chrome_options.add_argument(\"--start-fullscreen\")\n",
    "    chrome_options.add_argument(\"--allow-insecure-localhost\")\n",
    "    chrome_options.add_argument(\"--disable-dev-shm-usage\")\n",
    "    chrome_options.add_argument(\"user-agent=Chrome/116.0.5845.96\")\n",
    "\n",
    "    driver = webdriver.Chrome(\n",
    "        executable_path=CHROMEDRIVER_BINARY_LOCATION,\n",
    "        options=chrome_options\n",
    "    )\n",
    "    return driver\n",
    "\n",
    "def normalize_rating(star_rating):\n",
    "    rating_map = {'★': 0.2, '½': 0.1}\n",
    "    return sum(rating_map[char] for char in star_rating if char in rating_map)\n",
    "\n",
    "def extract_review_details(element):\n",
    "    review = {}\n",
    "    \n",
    "    try:\n",
    "        movie_name_element = element.find_element(By.CSS_SELECTOR, 'h2.headline-2 a')\n",
    "        review['movie_title'] = movie_name_element.text\n",
    "        review['movie_url'] = movie_name_element.get_attribute('href')\n",
    "    except NoSuchElementException:\n",
    "        review['movie_title'] = None\n",
    "        review['movie_url'] = None\n",
    "\n",
    "    try:\n",
    "        review_text_element = element.find_element(By.CSS_SELECTOR, 'div.body-text.-prose.collapsible-text')\n",
    "        review['review_text'] = review_text_element.text\n",
    "    except NoSuchElementException:\n",
    "        review['review_text'] = None\n",
    "\n",
    "    try:\n",
    "        rating_element = element.find_element(By.CSS_SELECTOR, 'span.rating')\n",
    "        review['rating'] = normalize_rating(rating_element.text)\n",
    "    except NoSuchElementException:\n",
    "        review['rating'] = None\n",
    "\n",
    "    try:\n",
    "        review_date_element = element.find_element(By.CSS_SELECTOR, 'span.date')\n",
    "        review['review_date'] = review_date_element.text\n",
    "    except NoSuchElementException:\n",
    "        review['review_date'] = None\n",
    "\n",
    "    try:\n",
    "        movie_release_date_element = element.find_element(By.CSS_SELECTOR, 'small.metadata a')\n",
    "        review['movie_year'] = movie_release_date_element.text\n",
    "    except NoSuchElementException:\n",
    "        review['movie_year'] = None\n",
    "    \n",
    "    return review\n",
    "\n",
    "def scrape_reviews_from_user(driver, user_url, num_reviews_per_user):\n",
    "    all_reviews = []\n",
    "    page = 1\n",
    "\n",
    "    while len(all_reviews) < num_reviews_per_user:\n",
    "        try:\n",
    "            driver.get(f\"{user_url}/films/reviews/by/added/page/{page}/\")\n",
    "            WebDriverWait(driver, 10).until(\n",
    "                EC.presence_of_all_elements_located((By.CSS_SELECTOR, 'div.film-detail-content'))\n",
    "            )\n",
    "            review_elements = driver.find_elements(By.CSS_SELECTOR, 'div.film-detail-content')\n",
    "\n",
    "            for element in review_elements:\n",
    "                if len(all_reviews) >= num_reviews_per_user:\n",
    "                    break\n",
    "                \n",
    "                review = extract_review_details(element)\n",
    "                review['user_url'] = user_url\n",
    "\n",
    "                if review['review_text'] and review['rating'] is not None:\n",
    "                    all_reviews.append(review)\n",
    "            \n",
    "            if len(all_reviews) < num_reviews_per_user:\n",
    "                page += 1\n",
    "            else:\n",
    "                break\n",
    "        \n",
    "        except TimeoutException:\n",
    "            print(f\"Timeout while loading page {page} for user {user_url}\")\n",
    "            break\n",
    "\n",
    "    return all_reviews"
   ]
  },
  {
   "cell_type": "code",
   "execution_count": 11,
   "id": "aaad795b",
   "metadata": {
    "execution": {
     "iopub.execute_input": "2024-08-28T09:16:03.192845Z",
     "iopub.status.busy": "2024-08-28T09:16:03.192134Z",
     "iopub.status.idle": "2024-08-28T09:16:03.200841Z",
     "shell.execute_reply": "2024-08-28T09:16:03.199682Z"
    },
    "papermill": {
     "duration": 0.037762,
     "end_time": "2024-08-28T09:16:03.203398",
     "exception": false,
     "start_time": "2024-08-28T09:16:03.165636",
     "status": "completed"
    },
    "tags": []
   },
   "outputs": [],
   "source": [
    "import os\n",
    "\n",
    "def save_checkpoint(df, checkpoint_filename):\n",
    "    \"\"\"\n",
    "    Save the DataFrame to a CSV file as a checkpoint.\n",
    "\n",
    "    Args:\n",
    "        df (pd.DataFrame): The DataFrame to save.\n",
    "        checkpoint_filename (str): The filename for the checkpoint.\n",
    "    \"\"\"\n",
    "    df.to_csv(checkpoint_filename, index=False)\n",
    "    print(f\"Checkpoint saved to {checkpoint_filename}\")\n",
    "\n",
    "def scrape_reviews_from_users(driver, user_urls, num_reviews_per_user, checkpoint_filename=\"user_reviews_checkpoint.csv\"):\n",
    "    \"\"\"\n",
    "    Scrape reviews from a list of user URLs on Letterboxd, saving progress at checkpoints.\n",
    "    \n",
    "    Args:\n",
    "        driver (webdriver.Chrome): The initialized Chrome driver.\n",
    "        user_urls (pd.Series): Series of user URLs.\n",
    "        num_reviews_per_user (int): Number of reviews to scrape per user.\n",
    "        checkpoint_filename (str): Filename to save checkpoints.\n",
    "    \n",
    "    Returns:\n",
    "        pd.DataFrame: DataFrame containing the scraped reviews.\n",
    "    \"\"\"\n",
    "    print(\"Successfully connected to WebDriver!\")\n",
    "    all_reviews = []\n",
    "    checkpoint_interval = 10  # Save every 10 users\n",
    "\n",
    "    for idx, user_url in enumerate(tqdm(user_urls, desc=\"Processing Users\"), start=1):\n",
    "        print(f\"Scraping reviews for user: {user_url}\")\n",
    "        user_reviews = scrape_reviews_from_user(driver, user_url, num_reviews_per_user)\n",
    "        all_reviews.extend(user_reviews)\n",
    "\n",
    "        # Save checkpoint at intervals\n",
    "        if idx % checkpoint_interval == 0:\n",
    "            df = pd.DataFrame(all_reviews)\n",
    "            save_checkpoint(df, checkpoint_filename)\n",
    "    \n",
    "    # Save the final data\n",
    "    df = pd.DataFrame(all_reviews)\n",
    "    save_checkpoint(df, checkpoint_filename)\n",
    "\n",
    "    print(\"Reviews successfully scraped from user URLs!\\nReviews preview:\")\n",
    "    print(df.head().to_string())\n",
    "    print(\"\\nClosing connection to selenium WebDriver...\")\n",
    "    driver.quit()\n",
    "    print(\"Connection closed successfully!\\n\\n\")\n",
    "\n",
    "    return df\n"
   ]
  },
  {
   "cell_type": "code",
   "execution_count": 12,
   "id": "51cf2847",
   "metadata": {
    "execution": {
     "iopub.execute_input": "2024-08-28T09:16:03.255125Z",
     "iopub.status.busy": "2024-08-28T09:16:03.254731Z",
     "iopub.status.idle": "2024-08-28T09:19:25.874284Z",
     "shell.execute_reply": "2024-08-28T09:19:25.873235Z"
    },
    "papermill": {
     "duration": 202.648744,
     "end_time": "2024-08-28T09:19:25.876725",
     "exception": false,
     "start_time": "2024-08-28T09:16:03.227981",
     "status": "completed"
    },
    "tags": []
   },
   "outputs": [
    {
     "name": "stdout",
     "output_type": "stream",
     "text": [
      "Processing Page 1:\n",
      "Processing Page 2:\n",
      "Processing Page 3:\n",
      "Processing Page 4:\n",
      "Processing Page 5:\n",
      "Processing Page 6:\n",
      "Processing Page 7:\n",
      "Processing Page 8:\n",
      "Processing Page 9:\n",
      "Processing Page 10:\n",
      "Processing Page 11:\n",
      "Processing Page 12:\n",
      "Processing Page 13:\n",
      "Processing Page 14:\n",
      "Processing Page 15:\n",
      "Connection closed successfully!\n",
      "\n",
      "\n"
     ]
    }
   ],
   "source": [
    "# Scrape user urls\n",
    "if __name__ == \"__main__\":\n",
    "    driver = initialize_driver()\n",
    "    try:\n",
    "        num_users_to_scrape = 500  # Adjust this number as needed\n",
    "        user_urls_df = scrape_user_urls(driver, num_users_to_scrape)\n",
    "        user_urls_df.to_csv('/kaggle/working/user_urls.csv', index=False)\n",
    "    finally:\n",
    "        driver.quit()  # Ensure the driver is closed after usage"
   ]
  },
  {
   "cell_type": "code",
   "execution_count": 13,
   "id": "16094fe8",
   "metadata": {
    "execution": {
     "iopub.execute_input": "2024-08-28T09:19:25.931806Z",
     "iopub.status.busy": "2024-08-28T09:19:25.930876Z",
     "iopub.status.idle": "2024-08-28T16:42:33.395945Z",
     "shell.execute_reply": "2024-08-28T16:42:33.394209Z"
    },
    "papermill": {
     "duration": 26587.496238,
     "end_time": "2024-08-28T16:42:33.398900",
     "exception": false,
     "start_time": "2024-08-28T09:19:25.902662",
     "status": "completed"
    },
    "tags": []
   },
   "outputs": [
    {
     "name": "stdout",
     "output_type": "stream",
     "text": [
      "Successfully connected to WebDriver!\n"
     ]
    },
    {
     "name": "stderr",
     "output_type": "stream",
     "text": [
      "Processing Users:   0%|          | 0/500 [00:00<?, ?it/s]"
     ]
    },
    {
     "name": "stdout",
     "output_type": "stream",
     "text": [
      "Scraping reviews for user: https://letterboxd.com/kurstboy/\n"
     ]
    },
    {
     "name": "stderr",
     "output_type": "stream",
     "text": [
      "Processing Users:   0%|          | 1/500 [02:52<23:53:58, 172.42s/it]"
     ]
    },
    {
     "name": "stdout",
     "output_type": "stream",
     "text": [
      "Scraping reviews for user: https://letterboxd.com/deathproof/\n"
     ]
    },
    {
     "name": "stderr",
     "output_type": "stream",
     "text": [
      "Processing Users:   0%|          | 2/500 [03:34<13:13:42, 95.63s/it] "
     ]
    },
    {
     "name": "stdout",
     "output_type": "stream",
     "text": [
      "Scraping reviews for user: https://letterboxd.com/jay/\n"
     ]
    },
    {
     "name": "stderr",
     "output_type": "stream",
     "text": [
      "Processing Users:   1%|          | 3/500 [04:11<9:29:31, 68.76s/it] "
     ]
    },
    {
     "name": "stdout",
     "output_type": "stream",
     "text": [
      "Scraping reviews for user: https://letterboxd.com/schaffrillas/\n"
     ]
    },
    {
     "name": "stderr",
     "output_type": "stream",
     "text": [
      "Processing Users:   1%|          | 4/500 [04:45<7:37:01, 55.28s/it]"
     ]
    },
    {
     "name": "stdout",
     "output_type": "stream",
     "text": [
      "Scraping reviews for user: https://letterboxd.com/davidehrlich/\n"
     ]
    },
    {
     "name": "stderr",
     "output_type": "stream",
     "text": [
      "Processing Users:   1%|          | 5/500 [05:20<6:35:40, 47.96s/it]"
     ]
    },
    {
     "name": "stdout",
     "output_type": "stream",
     "text": [
      "Scraping reviews for user: https://letterboxd.com/ingridgoeswest/\n"
     ]
    },
    {
     "name": "stderr",
     "output_type": "stream",
     "text": [
      "Processing Users:   1%|          | 6/500 [05:59<6:10:03, 44.95s/it]"
     ]
    },
    {
     "name": "stdout",
     "output_type": "stream",
     "text": [
      "Scraping reviews for user: https://letterboxd.com/silentdawn/\n"
     ]
    },
    {
     "name": "stderr",
     "output_type": "stream",
     "text": [
      "Processing Users:   1%|▏         | 7/500 [06:37<5:50:06, 42.61s/it]"
     ]
    },
    {
     "name": "stdout",
     "output_type": "stream",
     "text": [
      "Scraping reviews for user: https://letterboxd.com/thejoshl/\n"
     ]
    },
    {
     "name": "stderr",
     "output_type": "stream",
     "text": [
      "Processing Users:   2%|▏         | 8/500 [07:15<5:37:45, 41.19s/it]"
     ]
    },
    {
     "name": "stdout",
     "output_type": "stream",
     "text": [
      "Scraping reviews for user: https://letterboxd.com/colonelmortimer/\n"
     ]
    },
    {
     "name": "stderr",
     "output_type": "stream",
     "text": [
      "Processing Users:   2%|▏         | 9/500 [07:51<5:24:19, 39.63s/it]"
     ]
    },
    {
     "name": "stdout",
     "output_type": "stream",
     "text": [
      "Scraping reviews for user: https://letterboxd.com/suspirliam/\n"
     ]
    },
    {
     "name": "stderr",
     "output_type": "stream",
     "text": [
      "Processing Users:   2%|▏         | 10/500 [08:27<5:14:07, 38.46s/it]"
     ]
    },
    {
     "name": "stdout",
     "output_type": "stream",
     "text": [
      "Checkpoint saved to user_reviews_checkpoint.csv\n",
      "Scraping reviews for user: https://letterboxd.com/superpulse/\n"
     ]
    },
    {
     "name": "stderr",
     "output_type": "stream",
     "text": [
      "Processing Users:   2%|▏         | 11/500 [09:01<5:02:46, 37.15s/it]"
     ]
    },
    {
     "name": "stdout",
     "output_type": "stream",
     "text": [
      "Scraping reviews for user: https://letterboxd.com/24framesofnick/\n"
     ]
    },
    {
     "name": "stderr",
     "output_type": "stream",
     "text": [
      "Processing Users:   2%|▏         | 12/500 [09:37<4:58:44, 36.73s/it]"
     ]
    },
    {
     "name": "stdout",
     "output_type": "stream",
     "text": [
      "Scraping reviews for user: https://letterboxd.com/davidlsims/\n"
     ]
    },
    {
     "name": "stderr",
     "output_type": "stream",
     "text": [
      "Processing Users:   3%|▎         | 13/500 [10:11<4:51:15, 35.88s/it]"
     ]
    },
    {
     "name": "stdout",
     "output_type": "stream",
     "text": [
      "Scraping reviews for user: https://letterboxd.com/brat/\n"
     ]
    },
    {
     "name": "stderr",
     "output_type": "stream",
     "text": [
      "Processing Users:   3%|▎         | 14/500 [10:33<4:17:22, 31.77s/it]"
     ]
    },
    {
     "name": "stdout",
     "output_type": "stream",
     "text": [
      "Scraping reviews for user: https://letterboxd.com/aarnwlsn/\n"
     ]
    },
    {
     "name": "stderr",
     "output_type": "stream",
     "text": [
      "Processing Users:   3%|▎         | 15/500 [11:09<4:25:59, 32.91s/it]"
     ]
    },
    {
     "name": "stdout",
     "output_type": "stream",
     "text": [
      "Scraping reviews for user: https://letterboxd.com/sapphicquinn/\n"
     ]
    },
    {
     "name": "stderr",
     "output_type": "stream",
     "text": [
      "Processing Users:   3%|▎         | 16/500 [11:48<4:40:00, 34.71s/it]"
     ]
    },
    {
     "name": "stdout",
     "output_type": "stream",
     "text": [
      "Scraping reviews for user: https://letterboxd.com/usercillian/\n"
     ]
    },
    {
     "name": "stderr",
     "output_type": "stream",
     "text": [
      "Processing Users:   3%|▎         | 17/500 [12:24<4:42:53, 35.14s/it]"
     ]
    },
    {
     "name": "stdout",
     "output_type": "stream",
     "text": [
      "Scraping reviews for user: https://letterboxd.com/tototoro/\n"
     ]
    },
    {
     "name": "stderr",
     "output_type": "stream",
     "text": [
      "Processing Users:   4%|▎         | 18/500 [13:00<4:43:33, 35.30s/it]"
     ]
    },
    {
     "name": "stdout",
     "output_type": "stream",
     "text": [
      "Scraping reviews for user: https://letterboxd.com/sophiedarcy/\n"
     ]
    },
    {
     "name": "stderr",
     "output_type": "stream",
     "text": [
      "Processing Users:   4%|▍         | 19/500 [13:38<4:50:47, 36.27s/it]"
     ]
    },
    {
     "name": "stdout",
     "output_type": "stream",
     "text": [
      "Scraping reviews for user: https://letterboxd.com/jaragon23/\n"
     ]
    },
    {
     "name": "stderr",
     "output_type": "stream",
     "text": [
      "Processing Users:   4%|▍         | 20/500 [14:16<4:54:54, 36.86s/it]"
     ]
    },
    {
     "name": "stdout",
     "output_type": "stream",
     "text": [
      "Checkpoint saved to user_reviews_checkpoint.csv\n",
      "Scraping reviews for user: https://letterboxd.com/ianamurray/\n"
     ]
    },
    {
     "name": "stderr",
     "output_type": "stream",
     "text": [
      "Processing Users:   4%|▍         | 21/500 [14:56<5:01:23, 37.75s/it]"
     ]
    },
    {
     "name": "stdout",
     "output_type": "stream",
     "text": [
      "Scraping reviews for user: https://letterboxd.com/zoerosebryant/\n"
     ]
    },
    {
     "name": "stderr",
     "output_type": "stream",
     "text": [
      "Processing Users:   4%|▍         | 22/500 [15:36<5:05:13, 38.31s/it]"
     ]
    },
    {
     "name": "stdout",
     "output_type": "stream",
     "text": [
      "Scraping reviews for user: https://letterboxd.com/childrenofmen/\n"
     ]
    },
    {
     "name": "stderr",
     "output_type": "stream",
     "text": [
      "Processing Users:   5%|▍         | 23/500 [16:45<6:17:19, 47.46s/it]"
     ]
    },
    {
     "name": "stdout",
     "output_type": "stream",
     "text": [
      "Scraping reviews for user: https://letterboxd.com/dirkh/\n"
     ]
    },
    {
     "name": "stderr",
     "output_type": "stream",
     "text": [
      "Processing Users:   5%|▍         | 24/500 [17:23<5:55:10, 44.77s/it]"
     ]
    },
    {
     "name": "stdout",
     "output_type": "stream",
     "text": [
      "Scraping reviews for user: https://letterboxd.com/fuchsiadyke/\n"
     ]
    },
    {
     "name": "stderr",
     "output_type": "stream",
     "text": [
      "Processing Users:   5%|▌         | 25/500 [25:14<22:45:47, 172.52s/it]"
     ]
    },
    {
     "name": "stdout",
     "output_type": "stream",
     "text": [
      "Timeout while loading page 104 for user https://letterboxd.com/fuchsiadyke/\n",
      "Scraping reviews for user: https://letterboxd.com/jeaba/\n"
     ]
    },
    {
     "name": "stderr",
     "output_type": "stream",
     "text": [
      "Processing Users:   5%|▌         | 26/500 [25:53<17:25:53, 132.39s/it]"
     ]
    },
    {
     "name": "stdout",
     "output_type": "stream",
     "text": [
      "Scraping reviews for user: https://letterboxd.com/rickdeckard/\n"
     ]
    },
    {
     "name": "stderr",
     "output_type": "stream",
     "text": [
      "Processing Users:   5%|▌         | 27/500 [26:33<13:46:15, 104.81s/it]"
     ]
    },
    {
     "name": "stdout",
     "output_type": "stream",
     "text": [
      "Scraping reviews for user: https://letterboxd.com/elihayes/\n"
     ]
    },
    {
     "name": "stderr",
     "output_type": "stream",
     "text": [
      "Processing Users:   6%|▌         | 28/500 [27:15<11:16:58, 86.06s/it] "
     ]
    },
    {
     "name": "stdout",
     "output_type": "stream",
     "text": [
      "Scraping reviews for user: https://letterboxd.com/nycsubwayrat/\n"
     ]
    },
    {
     "name": "stderr",
     "output_type": "stream",
     "text": [
      "Processing Users:   6%|▌         | 29/500 [27:54<9:23:14, 71.75s/it] "
     ]
    },
    {
     "name": "stdout",
     "output_type": "stream",
     "text": [
      "Scraping reviews for user: https://letterboxd.com/darrencb/\n"
     ]
    },
    {
     "name": "stderr",
     "output_type": "stream",
     "text": [
      "Processing Users:   6%|▌         | 30/500 [28:33<8:05:47, 62.01s/it]"
     ]
    },
    {
     "name": "stdout",
     "output_type": "stream",
     "text": [
      "Checkpoint saved to user_reviews_checkpoint.csv\n",
      "Scraping reviews for user: https://letterboxd.com/kurstboy/\n"
     ]
    },
    {
     "name": "stderr",
     "output_type": "stream",
     "text": [
      "Processing Users:   6%|▌         | 31/500 [29:11<7:08:54, 54.87s/it]"
     ]
    },
    {
     "name": "stdout",
     "output_type": "stream",
     "text": [
      "Scraping reviews for user: https://letterboxd.com/deathproof/\n"
     ]
    },
    {
     "name": "stderr",
     "output_type": "stream",
     "text": [
      "Processing Users:   6%|▋         | 32/500 [29:54<6:39:51, 51.26s/it]"
     ]
    },
    {
     "name": "stdout",
     "output_type": "stream",
     "text": [
      "Scraping reviews for user: https://letterboxd.com/jay/\n"
     ]
    },
    {
     "name": "stderr",
     "output_type": "stream",
     "text": [
      "Processing Users:   7%|▋         | 33/500 [30:33<6:10:30, 47.60s/it]"
     ]
    },
    {
     "name": "stdout",
     "output_type": "stream",
     "text": [
      "Scraping reviews for user: https://letterboxd.com/schaffrillas/\n"
     ]
    },
    {
     "name": "stderr",
     "output_type": "stream",
     "text": [
      "Processing Users:   7%|▋         | 34/500 [31:11<5:46:32, 44.62s/it]"
     ]
    },
    {
     "name": "stdout",
     "output_type": "stream",
     "text": [
      "Scraping reviews for user: https://letterboxd.com/davidehrlich/\n"
     ]
    },
    {
     "name": "stderr",
     "output_type": "stream",
     "text": [
      "Processing Users:   7%|▋         | 35/500 [31:48<5:28:17, 42.36s/it]"
     ]
    },
    {
     "name": "stdout",
     "output_type": "stream",
     "text": [
      "Scraping reviews for user: https://letterboxd.com/franhoepfner/\n"
     ]
    },
    {
     "name": "stderr",
     "output_type": "stream",
     "text": [
      "Processing Users:   7%|▋         | 36/500 [32:29<5:24:56, 42.02s/it]"
     ]
    },
    {
     "name": "stdout",
     "output_type": "stream",
     "text": [
      "Scraping reviews for user: https://letterboxd.com/kfavs/\n"
     ]
    },
    {
     "name": "stderr",
     "output_type": "stream",
     "text": [
      "Processing Users:   7%|▋         | 37/500 [33:08<5:16:53, 41.07s/it]"
     ]
    },
    {
     "name": "stdout",
     "output_type": "stream",
     "text": [
      "Scraping reviews for user: https://letterboxd.com/georgecarmi/\n"
     ]
    },
    {
     "name": "stderr",
     "output_type": "stream",
     "text": [
      "Processing Users:   8%|▊         | 38/500 [33:50<5:19:40, 41.52s/it]"
     ]
    },
    {
     "name": "stdout",
     "output_type": "stream",
     "text": [
      "Scraping reviews for user: https://letterboxd.com/riverjphoenix/\n"
     ]
    },
    {
     "name": "stderr",
     "output_type": "stream",
     "text": [
      "Processing Users:   8%|▊         | 39/500 [34:30<5:13:22, 40.79s/it]"
     ]
    },
    {
     "name": "stdout",
     "output_type": "stream",
     "text": [
      "Scraping reviews for user: https://letterboxd.com/murielcampos/\n"
     ]
    },
    {
     "name": "stderr",
     "output_type": "stream",
     "text": [
      "Processing Users:   8%|▊         | 40/500 [35:26<5:48:23, 45.44s/it]"
     ]
    },
    {
     "name": "stdout",
     "output_type": "stream",
     "text": [
      "Checkpoint saved to user_reviews_checkpoint.csv\n",
      "Scraping reviews for user: https://letterboxd.com/kun/\n"
     ]
    },
    {
     "name": "stderr",
     "output_type": "stream",
     "text": [
      "Processing Users:   8%|▊         | 41/500 [36:05<5:34:13, 43.69s/it]"
     ]
    },
    {
     "name": "stdout",
     "output_type": "stream",
     "text": [
      "Scraping reviews for user: https://letterboxd.com/highlife/\n"
     ]
    },
    {
     "name": "stderr",
     "output_type": "stream",
     "text": [
      "Processing Users:   8%|▊         | 42/500 [36:44<5:22:37, 42.27s/it]"
     ]
    },
    {
     "name": "stdout",
     "output_type": "stream",
     "text": [
      "Scraping reviews for user: https://letterboxd.com/elementarii/\n"
     ]
    },
    {
     "name": "stderr",
     "output_type": "stream",
     "text": [
      "Processing Users:   9%|▊         | 43/500 [37:24<5:16:55, 41.61s/it]"
     ]
    },
    {
     "name": "stdout",
     "output_type": "stream",
     "text": [
      "Scraping reviews for user: https://letterboxd.com/leslieburke/\n"
     ]
    },
    {
     "name": "stderr",
     "output_type": "stream",
     "text": [
      "Processing Users:   9%|▉         | 44/500 [40:17<10:15:27, 80.98s/it]"
     ]
    },
    {
     "name": "stdout",
     "output_type": "stream",
     "text": [
      "Scraping reviews for user: https://letterboxd.com/eely/\n"
     ]
    },
    {
     "name": "stderr",
     "output_type": "stream",
     "text": [
      "Processing Users:   9%|▉         | 45/500 [40:57<8:39:17, 68.48s/it] "
     ]
    },
    {
     "name": "stdout",
     "output_type": "stream",
     "text": [
      "Scraping reviews for user: https://letterboxd.com/juggernaut323/\n"
     ]
    },
    {
     "name": "stderr",
     "output_type": "stream",
     "text": [
      "Processing Users:   9%|▉         | 46/500 [41:43<7:47:15, 61.75s/it]"
     ]
    },
    {
     "name": "stdout",
     "output_type": "stream",
     "text": [
      "Scraping reviews for user: https://letterboxd.com/sapphical/\n"
     ]
    },
    {
     "name": "stderr",
     "output_type": "stream",
     "text": [
      "Processing Users:   9%|▉         | 47/500 [42:27<7:05:57, 56.42s/it]"
     ]
    },
    {
     "name": "stdout",
     "output_type": "stream",
     "text": [
      "Scraping reviews for user: https://letterboxd.com/barbiesswanlake/\n"
     ]
    },
    {
     "name": "stderr",
     "output_type": "stream",
     "text": [
      "Processing Users:  10%|▉         | 48/500 [43:14<6:44:41, 53.72s/it]"
     ]
    },
    {
     "name": "stdout",
     "output_type": "stream",
     "text": [
      "Scraping reviews for user: https://letterboxd.com/davidfinchher/\n"
     ]
    },
    {
     "name": "stderr",
     "output_type": "stream",
     "text": [
      "Processing Users:  10%|▉         | 49/500 [43:53<6:11:33, 49.43s/it]"
     ]
    },
    {
     "name": "stdout",
     "output_type": "stream",
     "text": [
      "Scraping reviews for user: https://letterboxd.com/stk5/\n"
     ]
    },
    {
     "name": "stderr",
     "output_type": "stream",
     "text": [
      "Processing Users:  10%|█         | 50/500 [44:33<5:49:32, 46.61s/it]"
     ]
    },
    {
     "name": "stdout",
     "output_type": "stream",
     "text": [
      "Checkpoint saved to user_reviews_checkpoint.csv\n",
      "Scraping reviews for user: https://letterboxd.com/mrmoviesrd/\n"
     ]
    },
    {
     "name": "stderr",
     "output_type": "stream",
     "text": [
      "Processing Users:  10%|█         | 51/500 [45:12<5:31:22, 44.28s/it]"
     ]
    },
    {
     "name": "stdout",
     "output_type": "stream",
     "text": [
      "Scraping reviews for user: https://letterboxd.com/cantinaband/\n"
     ]
    },
    {
     "name": "stderr",
     "output_type": "stream",
     "text": [
      "Processing Users:  10%|█         | 52/500 [45:51<5:18:22, 42.64s/it]"
     ]
    },
    {
     "name": "stdout",
     "output_type": "stream",
     "text": [
      "Scraping reviews for user: https://letterboxd.com/hollieamanda/\n"
     ]
    },
    {
     "name": "stderr",
     "output_type": "stream",
     "text": [
      "Processing Users:  11%|█         | 53/500 [46:31<5:10:33, 41.69s/it]"
     ]
    },
    {
     "name": "stdout",
     "output_type": "stream",
     "text": [
      "Scraping reviews for user: https://letterboxd.com/filipe_furtado/\n"
     ]
    },
    {
     "name": "stderr",
     "output_type": "stream",
     "text": [
      "Processing Users:  11%|█         | 54/500 [47:13<5:11:47, 41.95s/it]"
     ]
    },
    {
     "name": "stdout",
     "output_type": "stream",
     "text": [
      "Scraping reviews for user: https://letterboxd.com/theonlyoneram_/\n"
     ]
    },
    {
     "name": "stderr",
     "output_type": "stream",
     "text": [
      "Processing Users:  11%|█         | 55/500 [47:59<5:20:24, 43.20s/it]"
     ]
    },
    {
     "name": "stdout",
     "output_type": "stream",
     "text": [
      "Scraping reviews for user: https://letterboxd.com/willhunting/\n"
     ]
    },
    {
     "name": "stderr",
     "output_type": "stream",
     "text": [
      "Processing Users:  11%|█         | 56/500 [48:46<5:26:51, 44.17s/it]"
     ]
    },
    {
     "name": "stdout",
     "output_type": "stream",
     "text": [
      "Scraping reviews for user: https://letterboxd.com/ellakemp/\n"
     ]
    },
    {
     "name": "stderr",
     "output_type": "stream",
     "text": [
      "Processing Users:  11%|█▏        | 57/500 [49:06<4:32:45, 36.94s/it]"
     ]
    },
    {
     "name": "stdout",
     "output_type": "stream",
     "text": [
      "Scraping reviews for user: https://letterboxd.com/leeyim/\n"
     ]
    },
    {
     "name": "stderr",
     "output_type": "stream",
     "text": [
      "Processing Users:  12%|█▏        | 58/500 [49:40<4:26:52, 36.23s/it]"
     ]
    },
    {
     "name": "stdout",
     "output_type": "stream",
     "text": [
      "Scraping reviews for user: https://letterboxd.com/ilyclemmie/\n"
     ]
    },
    {
     "name": "stderr",
     "output_type": "stream",
     "text": [
      "Processing Users:  12%|█▏        | 59/500 [50:22<4:38:01, 37.83s/it]"
     ]
    },
    {
     "name": "stdout",
     "output_type": "stream",
     "text": [
      "Scraping reviews for user: https://letterboxd.com/lovelltrin/\n"
     ]
    },
    {
     "name": "stderr",
     "output_type": "stream",
     "text": [
      "Processing Users:  12%|█▏        | 60/500 [50:56<4:29:42, 36.78s/it]"
     ]
    },
    {
     "name": "stdout",
     "output_type": "stream",
     "text": [
      "Checkpoint saved to user_reviews_checkpoint.csv\n",
      "Scraping reviews for user: https://letterboxd.com/comrade_yui/\n"
     ]
    },
    {
     "name": "stderr",
     "output_type": "stream",
     "text": [
      "Processing Users:  12%|█▏        | 61/500 [51:33<4:28:12, 36.66s/it]"
     ]
    },
    {
     "name": "stdout",
     "output_type": "stream",
     "text": [
      "Scraping reviews for user: https://letterboxd.com/ellefnning/\n"
     ]
    },
    {
     "name": "stderr",
     "output_type": "stream",
     "text": [
      "Processing Users:  12%|█▏        | 62/500 [52:11<4:32:13, 37.29s/it]"
     ]
    },
    {
     "name": "stdout",
     "output_type": "stream",
     "text": [
      "Scraping reviews for user: https://letterboxd.com/alexlawther/\n"
     ]
    },
    {
     "name": "stderr",
     "output_type": "stream",
     "text": [
      "Processing Users:  13%|█▎        | 63/500 [52:59<4:53:16, 40.27s/it]"
     ]
    },
    {
     "name": "stdout",
     "output_type": "stream",
     "text": [
      "Scraping reviews for user: https://letterboxd.com/nevermore1985/\n"
     ]
    },
    {
     "name": "stderr",
     "output_type": "stream",
     "text": [
      "Processing Users:  13%|█▎        | 64/500 [53:38<4:51:35, 40.13s/it]"
     ]
    },
    {
     "name": "stdout",
     "output_type": "stream",
     "text": [
      "Scraping reviews for user: https://letterboxd.com/hewasthrfriendd/\n"
     ]
    },
    {
     "name": "stderr",
     "output_type": "stream",
     "text": [
      "Processing Users:  13%|█▎        | 65/500 [54:19<4:50:59, 40.14s/it]"
     ]
    },
    {
     "name": "stdout",
     "output_type": "stream",
     "text": [
      "Scraping reviews for user: https://letterboxd.com/kurstboy/\n"
     ]
    },
    {
     "name": "stderr",
     "output_type": "stream",
     "text": [
      "Processing Users:  13%|█▎        | 66/500 [54:57<4:47:08, 39.70s/it]"
     ]
    },
    {
     "name": "stdout",
     "output_type": "stream",
     "text": [
      "Scraping reviews for user: https://letterboxd.com/deathproof/\n"
     ]
    },
    {
     "name": "stderr",
     "output_type": "stream",
     "text": [
      "Processing Users:  13%|█▎        | 67/500 [55:40<4:52:46, 40.57s/it]"
     ]
    },
    {
     "name": "stdout",
     "output_type": "stream",
     "text": [
      "Scraping reviews for user: https://letterboxd.com/jay/\n"
     ]
    },
    {
     "name": "stderr",
     "output_type": "stream",
     "text": [
      "Processing Users:  14%|█▎        | 68/500 [56:18<4:47:07, 39.88s/it]"
     ]
    },
    {
     "name": "stdout",
     "output_type": "stream",
     "text": [
      "Scraping reviews for user: https://letterboxd.com/schaffrillas/\n"
     ]
    },
    {
     "name": "stderr",
     "output_type": "stream",
     "text": [
      "Processing Users:  14%|█▍        | 69/500 [56:55<4:39:56, 38.97s/it]"
     ]
    },
    {
     "name": "stdout",
     "output_type": "stream",
     "text": [
      "Scraping reviews for user: https://letterboxd.com/davidehrlich/\n"
     ]
    },
    {
     "name": "stderr",
     "output_type": "stream",
     "text": [
      "Processing Users:  14%|█▍        | 70/500 [57:32<4:35:23, 38.43s/it]"
     ]
    },
    {
     "name": "stdout",
     "output_type": "stream",
     "text": [
      "Checkpoint saved to user_reviews_checkpoint.csv\n",
      "Scraping reviews for user: https://letterboxd.com/enniomorricone/\n"
     ]
    },
    {
     "name": "stderr",
     "output_type": "stream",
     "text": [
      "Processing Users:  14%|█▍        | 71/500 [58:09<4:31:39, 38.00s/it]"
     ]
    },
    {
     "name": "stdout",
     "output_type": "stream",
     "text": [
      "Scraping reviews for user: https://letterboxd.com/russman/\n"
     ]
    },
    {
     "name": "stderr",
     "output_type": "stream",
     "text": [
      "Processing Users:  14%|█▍        | 72/500 [58:50<4:37:24, 38.89s/it]"
     ]
    },
    {
     "name": "stdout",
     "output_type": "stream",
     "text": [
      "Scraping reviews for user: https://letterboxd.com/will_sloan/\n"
     ]
    },
    {
     "name": "stderr",
     "output_type": "stream",
     "text": [
      "Processing Users:  15%|█▍        | 73/500 [1:02:22<10:46:12, 90.80s/it]"
     ]
    },
    {
     "name": "stdout",
     "output_type": "stream",
     "text": [
      "Scraping reviews for user: https://letterboxd.com/artwithin/\n"
     ]
    },
    {
     "name": "stderr",
     "output_type": "stream",
     "text": [
      "Processing Users:  15%|█▍        | 74/500 [1:03:02<8:57:10, 75.66s/it] "
     ]
    },
    {
     "name": "stdout",
     "output_type": "stream",
     "text": [
      "Scraping reviews for user: https://letterboxd.com/estheronfilm/\n"
     ]
    },
    {
     "name": "stderr",
     "output_type": "stream",
     "text": [
      "Processing Users:  15%|█▌        | 75/500 [1:03:42<7:39:45, 64.91s/it]"
     ]
    },
    {
     "name": "stdout",
     "output_type": "stream",
     "text": [
      "Scraping reviews for user: https://letterboxd.com/screeningnotes/\n"
     ]
    },
    {
     "name": "stderr",
     "output_type": "stream",
     "text": [
      "Processing Users:  15%|█▌        | 76/500 [1:04:29<7:01:09, 59.60s/it]"
     ]
    },
    {
     "name": "stdout",
     "output_type": "stream",
     "text": [
      "Scraping reviews for user: https://letterboxd.com/coffeevirus/\n"
     ]
    },
    {
     "name": "stderr",
     "output_type": "stream",
     "text": [
      "Processing Users:  15%|█▌        | 77/500 [1:05:09<6:17:16, 53.51s/it]"
     ]
    },
    {
     "name": "stdout",
     "output_type": "stream",
     "text": [
      "Scraping reviews for user: https://letterboxd.com/amandathejedi/\n"
     ]
    },
    {
     "name": "stderr",
     "output_type": "stream",
     "text": [
      "Processing Users:  16%|█▌        | 78/500 [1:06:07<6:26:42, 54.98s/it]"
     ]
    },
    {
     "name": "stdout",
     "output_type": "stream",
     "text": [
      "Scraping reviews for user: https://letterboxd.com/sethsreviews/\n"
     ]
    },
    {
     "name": "stderr",
     "output_type": "stream",
     "text": [
      "Processing Users:  16%|█▌        | 79/500 [1:06:43<5:46:40, 49.41s/it]"
     ]
    },
    {
     "name": "stdout",
     "output_type": "stream",
     "text": [
      "Scraping reviews for user: https://letterboxd.com/kyledunne/\n"
     ]
    },
    {
     "name": "stderr",
     "output_type": "stream",
     "text": [
      "Processing Users:  16%|█▌        | 80/500 [1:07:52<6:25:53, 55.13s/it]"
     ]
    },
    {
     "name": "stdout",
     "output_type": "stream",
     "text": [
      "Checkpoint saved to user_reviews_checkpoint.csv\n",
      "Scraping reviews for user: https://letterboxd.com/henryspencerirl/\n"
     ]
    },
    {
     "name": "stderr",
     "output_type": "stream",
     "text": [
      "Processing Users:  16%|█▌        | 81/500 [1:08:30<5:49:30, 50.05s/it]"
     ]
    },
    {
     "name": "stdout",
     "output_type": "stream",
     "text": [
      "Scraping reviews for user: https://letterboxd.com/settingsun/\n"
     ]
    },
    {
     "name": "stderr",
     "output_type": "stream",
     "text": [
      "Processing Users:  16%|█▋        | 82/500 [1:09:18<5:44:59, 49.52s/it]"
     ]
    },
    {
     "name": "stdout",
     "output_type": "stream",
     "text": [
      "Scraping reviews for user: https://letterboxd.com/dakotajoaquin/\n"
     ]
    },
    {
     "name": "stderr",
     "output_type": "stream",
     "text": [
      "Processing Users:  17%|█▋        | 83/500 [1:09:58<5:23:28, 46.54s/it]"
     ]
    },
    {
     "name": "stdout",
     "output_type": "stream",
     "text": [
      "Scraping reviews for user: https://letterboxd.com/alor/\n"
     ]
    },
    {
     "name": "stderr",
     "output_type": "stream",
     "text": [
      "Processing Users:  17%|█▋        | 84/500 [1:10:35<5:02:47, 43.67s/it]"
     ]
    },
    {
     "name": "stdout",
     "output_type": "stream",
     "text": [
      "Scraping reviews for user: https://letterboxd.com/arkhamoutlaw10/\n"
     ]
    },
    {
     "name": "stderr",
     "output_type": "stream",
     "text": [
      "Processing Users:  17%|█▋        | 85/500 [1:11:18<4:59:59, 43.37s/it]"
     ]
    },
    {
     "name": "stdout",
     "output_type": "stream",
     "text": [
      "Scraping reviews for user: https://letterboxd.com/elaurapictures/\n"
     ]
    },
    {
     "name": "stderr",
     "output_type": "stream",
     "text": [
      "Processing Users:  17%|█▋        | 86/500 [1:12:04<5:04:48, 44.18s/it]"
     ]
    },
    {
     "name": "stdout",
     "output_type": "stream",
     "text": [
      "Scraping reviews for user: https://letterboxd.com/sophiaplanos/\n"
     ]
    },
    {
     "name": "stderr",
     "output_type": "stream",
     "text": [
      "Processing Users:  17%|█▋        | 87/500 [1:12:49<5:05:58, 44.45s/it]"
     ]
    },
    {
     "name": "stdout",
     "output_type": "stream",
     "text": [
      "Scraping reviews for user: https://letterboxd.com/jlalibs/\n"
     ]
    },
    {
     "name": "stderr",
     "output_type": "stream",
     "text": [
      "Processing Users:  18%|█▊        | 88/500 [1:13:27<4:52:02, 42.53s/it]"
     ]
    },
    {
     "name": "stdout",
     "output_type": "stream",
     "text": [
      "Scraping reviews for user: https://letterboxd.com/gemko/\n"
     ]
    },
    {
     "name": "stderr",
     "output_type": "stream",
     "text": [
      "Processing Users:  18%|█▊        | 89/500 [1:14:10<4:51:47, 42.60s/it]"
     ]
    },
    {
     "name": "stdout",
     "output_type": "stream",
     "text": [
      "Scraping reviews for user: https://letterboxd.com/alovelynite/\n"
     ]
    },
    {
     "name": "stderr",
     "output_type": "stream",
     "text": [
      "Processing Users:  18%|█▊        | 90/500 [1:14:53<4:51:44, 42.69s/it]"
     ]
    },
    {
     "name": "stdout",
     "output_type": "stream",
     "text": [
      "Checkpoint saved to user_reviews_checkpoint.csv\n",
      "Scraping reviews for user: https://letterboxd.com/davechen/\n"
     ]
    },
    {
     "name": "stderr",
     "output_type": "stream",
     "text": [
      "Processing Users:  18%|█▊        | 91/500 [1:15:31<4:43:17, 41.56s/it]"
     ]
    },
    {
     "name": "stdout",
     "output_type": "stream",
     "text": [
      "Scraping reviews for user: https://letterboxd.com/niceguys/\n"
     ]
    },
    {
     "name": "stderr",
     "output_type": "stream",
     "text": [
      "Processing Users:  18%|█▊        | 92/500 [1:16:13<4:41:45, 41.43s/it]"
     ]
    },
    {
     "name": "stdout",
     "output_type": "stream",
     "text": [
      "Scraping reviews for user: https://letterboxd.com/jakepcole/\n"
     ]
    },
    {
     "name": "stderr",
     "output_type": "stream",
     "text": [
      "Processing Users:  19%|█▊        | 93/500 [1:16:53<4:37:56, 40.97s/it]"
     ]
    },
    {
     "name": "stdout",
     "output_type": "stream",
     "text": [
      "Scraping reviews for user: https://letterboxd.com/bethanyinfilm/\n"
     ]
    },
    {
     "name": "stderr",
     "output_type": "stream",
     "text": [
      "Processing Users:  19%|█▉        | 94/500 [1:17:36<4:41:45, 41.64s/it]"
     ]
    },
    {
     "name": "stdout",
     "output_type": "stream",
     "text": [
      "Scraping reviews for user: https://letterboxd.com/ihe/\n"
     ]
    },
    {
     "name": "stderr",
     "output_type": "stream",
     "text": [
      "Processing Users:  19%|█▉        | 95/500 [1:18:19<4:44:26, 42.14s/it]"
     ]
    },
    {
     "name": "stdout",
     "output_type": "stream",
     "text": [
      "Scraping reviews for user: https://letterboxd.com/jack/\n"
     ]
    },
    {
     "name": "stderr",
     "output_type": "stream",
     "text": [
      "Processing Users:  19%|█▉        | 96/500 [1:18:41<4:03:03, 36.10s/it]"
     ]
    },
    {
     "name": "stdout",
     "output_type": "stream",
     "text": [
      "Scraping reviews for user: https://letterboxd.com/cineaccess/\n"
     ]
    },
    {
     "name": "stderr",
     "output_type": "stream",
     "text": [
      "Processing Users:  19%|█▉        | 97/500 [1:19:23<4:14:10, 37.84s/it]"
     ]
    },
    {
     "name": "stdout",
     "output_type": "stream",
     "text": [
      "Scraping reviews for user: https://letterboxd.com/megbitchell/\n"
     ]
    },
    {
     "name": "stderr",
     "output_type": "stream",
     "text": [
      "Processing Users:  20%|█▉        | 98/500 [1:20:10<4:31:50, 40.57s/it]"
     ]
    },
    {
     "name": "stdout",
     "output_type": "stream",
     "text": [
      "Scraping reviews for user: https://letterboxd.com/hstrawberry/\n"
     ]
    },
    {
     "name": "stderr",
     "output_type": "stream",
     "text": [
      "Processing Users:  20%|█▉        | 99/500 [1:20:52<4:34:32, 41.08s/it]"
     ]
    },
    {
     "name": "stdout",
     "output_type": "stream",
     "text": [
      "Scraping reviews for user: https://letterboxd.com/zoltarak/\n"
     ]
    },
    {
     "name": "stderr",
     "output_type": "stream",
     "text": [
      "Processing Users:  20%|██        | 100/500 [1:21:39<4:45:17, 42.79s/it]"
     ]
    },
    {
     "name": "stdout",
     "output_type": "stream",
     "text": [
      "Checkpoint saved to user_reviews_checkpoint.csv\n",
      "Scraping reviews for user: https://letterboxd.com/kurstboy/\n"
     ]
    },
    {
     "name": "stderr",
     "output_type": "stream",
     "text": [
      "Processing Users:  20%|██        | 101/500 [1:22:21<4:43:39, 42.65s/it]"
     ]
    },
    {
     "name": "stdout",
     "output_type": "stream",
     "text": [
      "Scraping reviews for user: https://letterboxd.com/deathproof/\n"
     ]
    },
    {
     "name": "stderr",
     "output_type": "stream",
     "text": [
      "Processing Users:  20%|██        | 102/500 [1:23:08<4:50:27, 43.79s/it]"
     ]
    },
    {
     "name": "stdout",
     "output_type": "stream",
     "text": [
      "Scraping reviews for user: https://letterboxd.com/jay/\n"
     ]
    },
    {
     "name": "stderr",
     "output_type": "stream",
     "text": [
      "Processing Users:  21%|██        | 103/500 [1:23:50<4:46:31, 43.30s/it]"
     ]
    },
    {
     "name": "stdout",
     "output_type": "stream",
     "text": [
      "Scraping reviews for user: https://letterboxd.com/schaffrillas/\n"
     ]
    },
    {
     "name": "stderr",
     "output_type": "stream",
     "text": [
      "Processing Users:  21%|██        | 104/500 [1:24:30<4:38:55, 42.26s/it]"
     ]
    },
    {
     "name": "stdout",
     "output_type": "stream",
     "text": [
      "Scraping reviews for user: https://letterboxd.com/davidehrlich/\n"
     ]
    },
    {
     "name": "stderr",
     "output_type": "stream",
     "text": [
      "Processing Users:  21%|██        | 105/500 [1:25:11<4:35:42, 41.88s/it]"
     ]
    },
    {
     "name": "stdout",
     "output_type": "stream",
     "text": [
      "Scraping reviews for user: https://letterboxd.com/andredenervaux/\n"
     ]
    },
    {
     "name": "stderr",
     "output_type": "stream",
     "text": [
      "Processing Users:  21%|██        | 106/500 [1:25:54<4:38:47, 42.46s/it]"
     ]
    },
    {
     "name": "stdout",
     "output_type": "stream",
     "text": [
      "Scraping reviews for user: https://letterboxd.com/seanfennessey/\n"
     ]
    },
    {
     "name": "stderr",
     "output_type": "stream",
     "text": [
      "Processing Users:  21%|██▏       | 107/500 [1:26:43<4:50:34, 44.36s/it]"
     ]
    },
    {
     "name": "stdout",
     "output_type": "stream",
     "text": [
      "Scraping reviews for user: https://letterboxd.com/hauteprincesses/\n"
     ]
    },
    {
     "name": "stderr",
     "output_type": "stream",
     "text": [
      "Processing Users:  22%|██▏       | 108/500 [1:27:26<4:47:03, 43.94s/it]"
     ]
    },
    {
     "name": "stdout",
     "output_type": "stream",
     "text": [
      "Scraping reviews for user: https://letterboxd.com/mulaney/\n"
     ]
    },
    {
     "name": "stderr",
     "output_type": "stream",
     "text": [
      "Processing Users:  22%|██▏       | 109/500 [1:28:15<4:55:05, 45.28s/it]"
     ]
    },
    {
     "name": "stdout",
     "output_type": "stream",
     "text": [
      "Scraping reviews for user: https://letterboxd.com/kristenyoonsoo/\n"
     ]
    },
    {
     "name": "stderr",
     "output_type": "stream",
     "text": [
      "Processing Users:  22%|██▏       | 110/500 [1:29:03<5:00:15, 46.19s/it]"
     ]
    },
    {
     "name": "stdout",
     "output_type": "stream",
     "text": [
      "Checkpoint saved to user_reviews_checkpoint.csv\n",
      "Scraping reviews for user: https://letterboxd.com/phrynefisher/\n"
     ]
    },
    {
     "name": "stderr",
     "output_type": "stream",
     "text": [
      "Processing Users:  22%|██▏       | 111/500 [1:29:46<4:52:24, 45.10s/it]"
     ]
    },
    {
     "name": "stdout",
     "output_type": "stream",
     "text": [
      "Scraping reviews for user: https://letterboxd.com/starwarss/\n"
     ]
    },
    {
     "name": "stderr",
     "output_type": "stream",
     "text": [
      "Processing Users:  22%|██▏       | 112/500 [1:30:26<4:42:37, 43.70s/it]"
     ]
    },
    {
     "name": "stdout",
     "output_type": "stream",
     "text": [
      "Scraping reviews for user: https://letterboxd.com/cuqui/\n"
     ]
    },
    {
     "name": "stderr",
     "output_type": "stream",
     "text": [
      "Processing Users:  23%|██▎       | 113/500 [1:31:09<4:41:10, 43.59s/it]"
     ]
    },
    {
     "name": "stdout",
     "output_type": "stream",
     "text": [
      "Scraping reviews for user: https://letterboxd.com/tonyterror/\n"
     ]
    },
    {
     "name": "stderr",
     "output_type": "stream",
     "text": [
      "Processing Users:  23%|██▎       | 114/500 [1:31:58<4:50:40, 45.18s/it]"
     ]
    },
    {
     "name": "stdout",
     "output_type": "stream",
     "text": [
      "Scraping reviews for user: https://letterboxd.com/cinemavoid/\n"
     ]
    },
    {
     "name": "stderr",
     "output_type": "stream",
     "text": [
      "Processing Users:  23%|██▎       | 115/500 [1:32:38<4:38:39, 43.43s/it]"
     ]
    },
    {
     "name": "stdout",
     "output_type": "stream",
     "text": [
      "Scraping reviews for user: https://letterboxd.com/dave/\n"
     ]
    },
    {
     "name": "stderr",
     "output_type": "stream",
     "text": [
      "Processing Users:  23%|██▎       | 116/500 [1:33:22<4:39:23, 43.66s/it]"
     ]
    },
    {
     "name": "stdout",
     "output_type": "stream",
     "text": [
      "Scraping reviews for user: https://letterboxd.com/iovewitch/\n"
     ]
    },
    {
     "name": "stderr",
     "output_type": "stream",
     "text": [
      "Processing Users:  23%|██▎       | 117/500 [1:34:05<4:38:26, 43.62s/it]"
     ]
    },
    {
     "name": "stdout",
     "output_type": "stream",
     "text": [
      "Scraping reviews for user: https://letterboxd.com/jjbjr/\n"
     ]
    },
    {
     "name": "stderr",
     "output_type": "stream",
     "text": [
      "Processing Users:  24%|██▎       | 118/500 [1:34:46<4:31:22, 42.63s/it]"
     ]
    },
    {
     "name": "stdout",
     "output_type": "stream",
     "text": [
      "Scraping reviews for user: https://letterboxd.com/austinburke/\n"
     ]
    },
    {
     "name": "stderr",
     "output_type": "stream",
     "text": [
      "Processing Users:  24%|██▍       | 119/500 [1:35:28<4:29:57, 42.51s/it]"
     ]
    },
    {
     "name": "stdout",
     "output_type": "stream",
     "text": [
      "Scraping reviews for user: https://letterboxd.com/allisoncm/\n"
     ]
    },
    {
     "name": "stderr",
     "output_type": "stream",
     "text": [
      "Processing Users:  24%|██▍       | 120/500 [1:36:34<5:14:33, 49.67s/it]"
     ]
    },
    {
     "name": "stdout",
     "output_type": "stream",
     "text": [
      "Checkpoint saved to user_reviews_checkpoint.csv\n",
      "Scraping reviews for user: https://letterboxd.com/lilfilm/\n"
     ]
    },
    {
     "name": "stderr",
     "output_type": "stream",
     "text": [
      "Processing Users:  24%|██▍       | 121/500 [1:42:57<15:45:11, 149.63s/it]"
     ]
    },
    {
     "name": "stdout",
     "output_type": "stream",
     "text": [
      "Timeout while loading page 76 for user https://letterboxd.com/lilfilm/\n",
      "Scraping reviews for user: https://letterboxd.com/yazzjames/\n"
     ]
    },
    {
     "name": "stderr",
     "output_type": "stream",
     "text": [
      "Processing Users:  24%|██▍       | 122/500 [1:43:41<12:22:44, 117.90s/it]"
     ]
    },
    {
     "name": "stdout",
     "output_type": "stream",
     "text": [
      "Scraping reviews for user: https://letterboxd.com/coreywagstaff/\n"
     ]
    },
    {
     "name": "stderr",
     "output_type": "stream",
     "text": [
      "Processing Users:  25%|██▍       | 123/500 [1:44:24<9:59:46, 95.45s/it]  "
     ]
    },
    {
     "name": "stdout",
     "output_type": "stream",
     "text": [
      "Scraping reviews for user: https://letterboxd.com/aksually/\n"
     ]
    },
    {
     "name": "stderr",
     "output_type": "stream",
     "text": [
      "Processing Users:  25%|██▍       | 124/500 [1:45:32<9:05:55, 87.12s/it]"
     ]
    },
    {
     "name": "stdout",
     "output_type": "stream",
     "text": [
      "Scraping reviews for user: https://letterboxd.com/moviesrtherapy/\n"
     ]
    },
    {
     "name": "stderr",
     "output_type": "stream",
     "text": [
      "Processing Users:  25%|██▌       | 125/500 [1:46:12<7:37:33, 73.21s/it]"
     ]
    },
    {
     "name": "stdout",
     "output_type": "stream",
     "text": [
      "Scraping reviews for user: https://letterboxd.com/catelyn/\n"
     ]
    },
    {
     "name": "stderr",
     "output_type": "stream",
     "text": [
      "Processing Users:  25%|██▌       | 126/500 [1:50:46<13:51:35, 133.41s/it]"
     ]
    },
    {
     "name": "stdout",
     "output_type": "stream",
     "text": [
      "Scraping reviews for user: https://letterboxd.com/karenhan/\n"
     ]
    },
    {
     "name": "stderr",
     "output_type": "stream",
     "text": [
      "Processing Users:  25%|██▌       | 127/500 [1:52:34<13:00:50, 125.60s/it]"
     ]
    },
    {
     "name": "stdout",
     "output_type": "stream",
     "text": [
      "Scraping reviews for user: https://letterboxd.com/elcochran90/\n"
     ]
    },
    {
     "name": "stderr",
     "output_type": "stream",
     "text": [
      "Processing Users:  26%|██▌       | 128/500 [1:53:14<10:20:12, 100.03s/it]"
     ]
    },
    {
     "name": "stdout",
     "output_type": "stream",
     "text": [
      "Scraping reviews for user: https://letterboxd.com/pointbreakfan/\n"
     ]
    },
    {
     "name": "stderr",
     "output_type": "stream",
     "text": [
      "Processing Users:  26%|██▌       | 129/500 [1:53:59<8:36:27, 83.53s/it]  "
     ]
    },
    {
     "name": "stdout",
     "output_type": "stream",
     "text": [
      "Scraping reviews for user: https://letterboxd.com/neilbahadur/\n"
     ]
    },
    {
     "name": "stderr",
     "output_type": "stream",
     "text": [
      "Processing Users:  26%|██▌       | 130/500 [1:54:39<7:14:40, 70.49s/it]"
     ]
    },
    {
     "name": "stdout",
     "output_type": "stream",
     "text": [
      "Checkpoint saved to user_reviews_checkpoint.csv\n",
      "Scraping reviews for user: https://letterboxd.com/pd187/\n"
     ]
    },
    {
     "name": "stderr",
     "output_type": "stream",
     "text": [
      "Processing Users:  26%|██▌       | 131/500 [1:55:20<6:18:59, 61.62s/it]"
     ]
    },
    {
     "name": "stdout",
     "output_type": "stream",
     "text": [
      "Scraping reviews for user: https://letterboxd.com/apocalypsenow/\n"
     ]
    },
    {
     "name": "stderr",
     "output_type": "stream",
     "text": [
      "Processing Users:  26%|██▋       | 132/500 [1:56:04<5:45:46, 56.38s/it]"
     ]
    },
    {
     "name": "stdout",
     "output_type": "stream",
     "text": [
      "Scraping reviews for user: https://letterboxd.com/yijian/\n"
     ]
    },
    {
     "name": "stderr",
     "output_type": "stream",
     "text": [
      "Processing Users:  27%|██▋       | 133/500 [1:56:49<5:23:20, 52.86s/it]"
     ]
    },
    {
     "name": "stdout",
     "output_type": "stream",
     "text": [
      "Scraping reviews for user: https://letterboxd.com/m__ollymac/\n"
     ]
    },
    {
     "name": "stderr",
     "output_type": "stream",
     "text": [
      "Processing Users:  27%|██▋       | 134/500 [1:57:33<5:07:01, 50.33s/it]"
     ]
    },
    {
     "name": "stdout",
     "output_type": "stream",
     "text": [
      "Scraping reviews for user: https://letterboxd.com/dselwyns/\n"
     ]
    },
    {
     "name": "stderr",
     "output_type": "stream",
     "text": [
      "Processing Users:  27%|██▋       | 135/500 [1:58:14<4:49:26, 47.58s/it]"
     ]
    },
    {
     "name": "stdout",
     "output_type": "stream",
     "text": [
      "Scraping reviews for user: https://letterboxd.com/kurstboy/\n"
     ]
    },
    {
     "name": "stderr",
     "output_type": "stream",
     "text": [
      "Processing Users:  27%|██▋       | 136/500 [1:58:59<4:42:17, 46.53s/it]"
     ]
    },
    {
     "name": "stdout",
     "output_type": "stream",
     "text": [
      "Scraping reviews for user: https://letterboxd.com/deathproof/\n"
     ]
    },
    {
     "name": "stderr",
     "output_type": "stream",
     "text": [
      "Processing Users:  27%|██▋       | 137/500 [1:59:48<4:46:43, 47.39s/it]"
     ]
    },
    {
     "name": "stdout",
     "output_type": "stream",
     "text": [
      "Scraping reviews for user: https://letterboxd.com/jay/\n"
     ]
    },
    {
     "name": "stderr",
     "output_type": "stream",
     "text": [
      "Processing Users:  28%|██▊       | 138/500 [2:00:31<4:38:36, 46.18s/it]"
     ]
    },
    {
     "name": "stdout",
     "output_type": "stream",
     "text": [
      "Scraping reviews for user: https://letterboxd.com/schaffrillas/\n"
     ]
    },
    {
     "name": "stderr",
     "output_type": "stream",
     "text": [
      "Processing Users:  28%|██▊       | 139/500 [2:01:14<4:31:54, 45.19s/it]"
     ]
    },
    {
     "name": "stdout",
     "output_type": "stream",
     "text": [
      "Scraping reviews for user: https://letterboxd.com/davidehrlich/\n"
     ]
    },
    {
     "name": "stderr",
     "output_type": "stream",
     "text": [
      "Processing Users:  28%|██▊       | 140/500 [2:01:56<4:25:34, 44.26s/it]"
     ]
    },
    {
     "name": "stdout",
     "output_type": "stream",
     "text": [
      "Checkpoint saved to user_reviews_checkpoint.csv\n",
      "Scraping reviews for user: https://letterboxd.com/cinemaclown/\n"
     ]
    },
    {
     "name": "stderr",
     "output_type": "stream",
     "text": [
      "Processing Users:  28%|██▊       | 141/500 [2:02:44<4:31:22, 45.36s/it]"
     ]
    },
    {
     "name": "stdout",
     "output_type": "stream",
     "text": [
      "Scraping reviews for user: https://letterboxd.com/sharktale/\n"
     ]
    },
    {
     "name": "stderr",
     "output_type": "stream",
     "text": [
      "Processing Users:  28%|██▊       | 142/500 [2:03:28<4:27:32, 44.84s/it]"
     ]
    },
    {
     "name": "stdout",
     "output_type": "stream",
     "text": [
      "Scraping reviews for user: https://letterboxd.com/mildredsfierce/\n"
     ]
    },
    {
     "name": "stderr",
     "output_type": "stream",
     "text": [
      "Processing Users:  29%|██▊       | 143/500 [2:04:12<4:25:18, 44.59s/it]"
     ]
    },
    {
     "name": "stdout",
     "output_type": "stream",
     "text": [
      "Scraping reviews for user: https://letterboxd.com/marianjune/\n"
     ]
    },
    {
     "name": "stderr",
     "output_type": "stream",
     "text": [
      "Processing Users:  29%|██▉       | 144/500 [2:04:54<4:20:18, 43.87s/it]"
     ]
    },
    {
     "name": "stdout",
     "output_type": "stream",
     "text": [
      "Scraping reviews for user: https://letterboxd.com/jurassicstark/\n"
     ]
    },
    {
     "name": "stderr",
     "output_type": "stream",
     "text": [
      "Processing Users:  29%|██▉       | 145/500 [2:05:42<4:27:17, 45.18s/it]"
     ]
    },
    {
     "name": "stdout",
     "output_type": "stream",
     "text": [
      "Scraping reviews for user: https://letterboxd.com/justindecloux/\n"
     ]
    },
    {
     "name": "stderr",
     "output_type": "stream",
     "text": [
      "Processing Users:  29%|██▉       | 146/500 [2:06:24<4:20:11, 44.10s/it]"
     ]
    },
    {
     "name": "stdout",
     "output_type": "stream",
     "text": [
      "Scraping reviews for user: https://letterboxd.com/seahorseronan/\n"
     ]
    },
    {
     "name": "stderr",
     "output_type": "stream",
     "text": [
      "Processing Users:  29%|██▉       | 147/500 [2:07:07<4:18:15, 43.90s/it]"
     ]
    },
    {
     "name": "stdout",
     "output_type": "stream",
     "text": [
      "Scraping reviews for user: https://letterboxd.com/theendofcinema/\n"
     ]
    },
    {
     "name": "stderr",
     "output_type": "stream",
     "text": [
      "Processing Users:  30%|██▉       | 148/500 [2:07:47<4:10:13, 42.65s/it]"
     ]
    },
    {
     "name": "stdout",
     "output_type": "stream",
     "text": [
      "Scraping reviews for user: https://letterboxd.com/sarahlovett/\n"
     ]
    },
    {
     "name": "stderr",
     "output_type": "stream",
     "text": [
      "Processing Users:  30%|██▉       | 149/500 [2:08:28<4:07:24, 42.29s/it]"
     ]
    },
    {
     "name": "stdout",
     "output_type": "stream",
     "text": [
      "Scraping reviews for user: https://letterboxd.com/clairacurtis/\n"
     ]
    },
    {
     "name": "stderr",
     "output_type": "stream",
     "text": [
      "Processing Users:  30%|███       | 150/500 [2:09:12<4:09:35, 42.79s/it]"
     ]
    },
    {
     "name": "stdout",
     "output_type": "stream",
     "text": [
      "Checkpoint saved to user_reviews_checkpoint.csv\n",
      "Scraping reviews for user: https://letterboxd.com/incomingmail/\n"
     ]
    },
    {
     "name": "stderr",
     "output_type": "stream",
     "text": [
      "Processing Users:  30%|███       | 151/500 [2:10:02<4:20:59, 44.87s/it]"
     ]
    },
    {
     "name": "stdout",
     "output_type": "stream",
     "text": [
      "Scraping reviews for user: https://letterboxd.com/campbart/\n"
     ]
    },
    {
     "name": "stderr",
     "output_type": "stream",
     "text": [
      "Processing Users:  30%|███       | 152/500 [2:10:54<4:32:32, 46.99s/it]"
     ]
    },
    {
     "name": "stdout",
     "output_type": "stream",
     "text": [
      "Scraping reviews for user: https://letterboxd.com/funeralroses/\n"
     ]
    },
    {
     "name": "stderr",
     "output_type": "stream",
     "text": [
      "Processing Users:  31%|███       | 153/500 [2:11:42<4:34:00, 47.38s/it]"
     ]
    },
    {
     "name": "stdout",
     "output_type": "stream",
     "text": [
      "Scraping reviews for user: https://letterboxd.com/ceryslovesfilm/\n"
     ]
    },
    {
     "name": "stderr",
     "output_type": "stream",
     "text": [
      "Processing Users:  31%|███       | 154/500 [2:12:26<4:26:26, 46.20s/it]"
     ]
    },
    {
     "name": "stdout",
     "output_type": "stream",
     "text": [
      "Scraping reviews for user: https://letterboxd.com/vontrapp/\n"
     ]
    },
    {
     "name": "stderr",
     "output_type": "stream",
     "text": [
      "Processing Users:  31%|███       | 155/500 [2:13:12<4:25:54, 46.24s/it]"
     ]
    },
    {
     "name": "stdout",
     "output_type": "stream",
     "text": [
      "Scraping reviews for user: https://letterboxd.com/mardarrius/\n"
     ]
    },
    {
     "name": "stderr",
     "output_type": "stream",
     "text": [
      "Processing Users:  31%|███       | 156/500 [2:13:57<4:22:47, 45.83s/it]"
     ]
    },
    {
     "name": "stdout",
     "output_type": "stream",
     "text": [
      "Scraping reviews for user: https://letterboxd.com/jbouie/\n"
     ]
    },
    {
     "name": "stderr",
     "output_type": "stream",
     "text": [
      "Processing Users:  31%|███▏      | 157/500 [2:14:41<4:18:53, 45.29s/it]"
     ]
    },
    {
     "name": "stdout",
     "output_type": "stream",
     "text": [
      "Scraping reviews for user: https://letterboxd.com/traintobusan/\n"
     ]
    },
    {
     "name": "stderr",
     "output_type": "stream",
     "text": [
      "Processing Users:  32%|███▏      | 158/500 [2:15:31<4:26:12, 46.70s/it]"
     ]
    },
    {
     "name": "stdout",
     "output_type": "stream",
     "text": [
      "Scraping reviews for user: https://letterboxd.com/paulswhtn/\n"
     ]
    },
    {
     "name": "stderr",
     "output_type": "stream",
     "text": [
      "Processing Users:  32%|███▏      | 159/500 [2:16:17<4:23:24, 46.35s/it]"
     ]
    },
    {
     "name": "stdout",
     "output_type": "stream",
     "text": [
      "Scraping reviews for user: https://letterboxd.com/truman/\n"
     ]
    },
    {
     "name": "stderr",
     "output_type": "stream",
     "text": [
      "Processing Users:  32%|███▏      | 160/500 [2:17:19<4:50:17, 51.23s/it]"
     ]
    },
    {
     "name": "stdout",
     "output_type": "stream",
     "text": [
      "Checkpoint saved to user_reviews_checkpoint.csv\n",
      "Scraping reviews for user: https://letterboxd.com/jaimerebanal/\n"
     ]
    },
    {
     "name": "stderr",
     "output_type": "stream",
     "text": [
      "Processing Users:  32%|███▏      | 161/500 [2:17:47<4:09:24, 44.14s/it]"
     ]
    },
    {
     "name": "stdout",
     "output_type": "stream",
     "text": [
      "Scraping reviews for user: https://letterboxd.com/shookone/\n"
     ]
    },
    {
     "name": "stderr",
     "output_type": "stream",
     "text": [
      "Processing Users:  32%|███▏      | 162/500 [2:18:31<4:09:38, 44.31s/it]"
     ]
    },
    {
     "name": "stdout",
     "output_type": "stream",
     "text": [
      "Scraping reviews for user: https://letterboxd.com/todd_gaines/\n"
     ]
    },
    {
     "name": "stderr",
     "output_type": "stream",
     "text": [
      "Processing Users:  33%|███▎      | 163/500 [2:19:14<4:06:38, 43.91s/it]"
     ]
    },
    {
     "name": "stdout",
     "output_type": "stream",
     "text": [
      "Scraping reviews for user: https://letterboxd.com/dirkbogarde/\n"
     ]
    },
    {
     "name": "stderr",
     "output_type": "stream",
     "text": [
      "Processing Users:  33%|███▎      | 164/500 [2:19:59<4:07:29, 44.19s/it]"
     ]
    },
    {
     "name": "stdout",
     "output_type": "stream",
     "text": [
      "Scraping reviews for user: https://letterboxd.com/theriverjordan/\n"
     ]
    },
    {
     "name": "stderr",
     "output_type": "stream",
     "text": [
      "Processing Users:  33%|███▎      | 165/500 [2:20:40<4:01:25, 43.24s/it]"
     ]
    },
    {
     "name": "stdout",
     "output_type": "stream",
     "text": [
      "Scraping reviews for user: https://letterboxd.com/mr_dulac/\n"
     ]
    },
    {
     "name": "stderr",
     "output_type": "stream",
     "text": [
      "Processing Users:  33%|███▎      | 166/500 [2:21:28<4:08:36, 44.66s/it]"
     ]
    },
    {
     "name": "stdout",
     "output_type": "stream",
     "text": [
      "Scraping reviews for user: https://letterboxd.com/jakeperalta/\n"
     ]
    },
    {
     "name": "stderr",
     "output_type": "stream",
     "text": [
      "Processing Users:  33%|███▎      | 167/500 [2:22:14<4:10:12, 45.08s/it]"
     ]
    },
    {
     "name": "stdout",
     "output_type": "stream",
     "text": [
      "Scraping reviews for user: https://letterboxd.com/rudimh/\n"
     ]
    },
    {
     "name": "stderr",
     "output_type": "stream",
     "text": [
      "Processing Users:  34%|███▎      | 168/500 [2:22:57<4:06:04, 44.47s/it]"
     ]
    },
    {
     "name": "stdout",
     "output_type": "stream",
     "text": [
      "Scraping reviews for user: https://letterboxd.com/itsnacool/\n"
     ]
    },
    {
     "name": "stderr",
     "output_type": "stream",
     "text": [
      "Processing Users:  34%|███▍      | 169/500 [2:23:38<3:58:52, 43.30s/it]"
     ]
    },
    {
     "name": "stdout",
     "output_type": "stream",
     "text": [
      "Scraping reviews for user: https://letterboxd.com/jameskl/\n"
     ]
    },
    {
     "name": "stderr",
     "output_type": "stream",
     "text": [
      "Processing Users:  34%|███▍      | 170/500 [2:24:23<4:01:44, 43.95s/it]"
     ]
    },
    {
     "name": "stdout",
     "output_type": "stream",
     "text": [
      "Checkpoint saved to user_reviews_checkpoint.csv\n",
      "Scraping reviews for user: https://letterboxd.com/kurstboy/\n"
     ]
    },
    {
     "name": "stderr",
     "output_type": "stream",
     "text": [
      "Processing Users:  34%|███▍      | 171/500 [2:25:07<4:00:50, 43.92s/it]"
     ]
    },
    {
     "name": "stdout",
     "output_type": "stream",
     "text": [
      "Scraping reviews for user: https://letterboxd.com/deathproof/\n"
     ]
    },
    {
     "name": "stderr",
     "output_type": "stream",
     "text": [
      "Processing Users:  34%|███▍      | 172/500 [2:25:57<4:08:59, 45.55s/it]"
     ]
    },
    {
     "name": "stdout",
     "output_type": "stream",
     "text": [
      "Scraping reviews for user: https://letterboxd.com/jay/\n"
     ]
    },
    {
     "name": "stderr",
     "output_type": "stream",
     "text": [
      "Processing Users:  35%|███▍      | 173/500 [2:26:42<4:07:16, 45.37s/it]"
     ]
    },
    {
     "name": "stdout",
     "output_type": "stream",
     "text": [
      "Scraping reviews for user: https://letterboxd.com/schaffrillas/\n"
     ]
    },
    {
     "name": "stderr",
     "output_type": "stream",
     "text": [
      "Processing Users:  35%|███▍      | 174/500 [2:27:23<4:00:48, 44.32s/it]"
     ]
    },
    {
     "name": "stdout",
     "output_type": "stream",
     "text": [
      "Scraping reviews for user: https://letterboxd.com/davidehrlich/\n"
     ]
    },
    {
     "name": "stderr",
     "output_type": "stream",
     "text": [
      "Processing Users:  35%|███▌      | 175/500 [2:28:06<3:56:48, 43.72s/it]"
     ]
    },
    {
     "name": "stdout",
     "output_type": "stream",
     "text": [
      "Scraping reviews for user: https://letterboxd.com/kyloz/\n"
     ]
    },
    {
     "name": "stderr",
     "output_type": "stream",
     "text": [
      "Processing Users:  35%|███▌      | 176/500 [2:28:47<3:51:58, 42.96s/it]"
     ]
    },
    {
     "name": "stdout",
     "output_type": "stream",
     "text": [
      "Scraping reviews for user: https://letterboxd.com/dahans/\n"
     ]
    },
    {
     "name": "stderr",
     "output_type": "stream",
     "text": [
      "Processing Users:  35%|███▌      | 177/500 [2:29:31<3:53:28, 43.37s/it]"
     ]
    },
    {
     "name": "stdout",
     "output_type": "stream",
     "text": [
      "Scraping reviews for user: https://letterboxd.com/taylorfilmguy/\n"
     ]
    },
    {
     "name": "stderr",
     "output_type": "stream",
     "text": [
      "Processing Users:  36%|███▌      | 178/500 [2:30:17<3:55:46, 43.93s/it]"
     ]
    },
    {
     "name": "stdout",
     "output_type": "stream",
     "text": [
      "Scraping reviews for user: https://letterboxd.com/impressionblend/\n"
     ]
    },
    {
     "name": "stderr",
     "output_type": "stream",
     "text": [
      "Processing Users:  36%|███▌      | 179/500 [2:31:00<3:54:47, 43.89s/it]"
     ]
    },
    {
     "name": "stdout",
     "output_type": "stream",
     "text": [
      "Scraping reviews for user: https://letterboxd.com/thejoelynch/\n"
     ]
    },
    {
     "name": "stderr",
     "output_type": "stream",
     "text": [
      "Processing Users:  36%|███▌      | 180/500 [2:31:41<3:48:53, 42.92s/it]"
     ]
    },
    {
     "name": "stdout",
     "output_type": "stream",
     "text": [
      "Checkpoint saved to user_reviews_checkpoint.csv\n",
      "Scraping reviews for user: https://letterboxd.com/qmoviereviews/\n"
     ]
    },
    {
     "name": "stderr",
     "output_type": "stream",
     "text": [
      "Processing Users:  36%|███▌      | 181/500 [2:32:24<3:49:04, 43.09s/it]"
     ]
    },
    {
     "name": "stdout",
     "output_type": "stream",
     "text": [
      "Scraping reviews for user: https://letterboxd.com/connoreatspants/\n"
     ]
    },
    {
     "name": "stderr",
     "output_type": "stream",
     "text": [
      "Processing Users:  36%|███▋      | 182/500 [2:33:04<3:42:33, 41.99s/it]"
     ]
    },
    {
     "name": "stdout",
     "output_type": "stream",
     "text": [
      "Scraping reviews for user: https://letterboxd.com/thomasflight/\n"
     ]
    },
    {
     "name": "stderr",
     "output_type": "stream",
     "text": [
      "Processing Users:  37%|███▋      | 183/500 [2:33:44<3:39:07, 41.48s/it]"
     ]
    },
    {
     "name": "stdout",
     "output_type": "stream",
     "text": [
      "Scraping reviews for user: https://letterboxd.com/annanomaly/\n"
     ]
    },
    {
     "name": "stderr",
     "output_type": "stream",
     "text": [
      "Processing Users:  37%|███▋      | 184/500 [2:34:27<3:40:00, 41.77s/it]"
     ]
    },
    {
     "name": "stdout",
     "output_type": "stream",
     "text": [
      "Scraping reviews for user: https://letterboxd.com/cevangelista413/\n"
     ]
    },
    {
     "name": "stderr",
     "output_type": "stream",
     "text": [
      "Processing Users:  37%|███▋      | 185/500 [2:35:10<3:41:15, 42.14s/it]"
     ]
    },
    {
     "name": "stdout",
     "output_type": "stream",
     "text": [
      "Scraping reviews for user: https://letterboxd.com/letmeexplain/\n"
     ]
    },
    {
     "name": "stderr",
     "output_type": "stream",
     "text": [
      "Processing Users:  37%|███▋      | 186/500 [2:36:04<3:59:36, 45.79s/it]"
     ]
    },
    {
     "name": "stdout",
     "output_type": "stream",
     "text": [
      "Scraping reviews for user: https://letterboxd.com/justin_peterson/\n"
     ]
    },
    {
     "name": "stderr",
     "output_type": "stream",
     "text": [
      "Processing Users:  37%|███▋      | 187/500 [2:36:50<3:59:45, 45.96s/it]"
     ]
    },
    {
     "name": "stdout",
     "output_type": "stream",
     "text": [
      "Scraping reviews for user: https://letterboxd.com/annreinking/\n"
     ]
    },
    {
     "name": "stderr",
     "output_type": "stream",
     "text": [
      "Processing Users:  38%|███▊      | 188/500 [2:37:44<4:11:42, 48.41s/it]"
     ]
    },
    {
     "name": "stdout",
     "output_type": "stream",
     "text": [
      "Scraping reviews for user: https://letterboxd.com/roberto_/\n"
     ]
    },
    {
     "name": "stderr",
     "output_type": "stream",
     "text": [
      "Processing Users:  38%|███▊      | 189/500 [2:38:24<3:57:01, 45.73s/it]"
     ]
    },
    {
     "name": "stdout",
     "output_type": "stream",
     "text": [
      "Scraping reviews for user: https://letterboxd.com/pobrecito/\n"
     ]
    },
    {
     "name": "stderr",
     "output_type": "stream",
     "text": [
      "Processing Users:  38%|███▊      | 190/500 [2:40:21<5:46:16, 67.02s/it]"
     ]
    },
    {
     "name": "stdout",
     "output_type": "stream",
     "text": [
      "Checkpoint saved to user_reviews_checkpoint.csv\n",
      "Scraping reviews for user: https://letterboxd.com/jbird26/\n"
     ]
    },
    {
     "name": "stderr",
     "output_type": "stream",
     "text": [
      "Processing Users:  38%|███▊      | 191/500 [2:41:01<5:03:43, 58.98s/it]"
     ]
    },
    {
     "name": "stdout",
     "output_type": "stream",
     "text": [
      "Scraping reviews for user: https://letterboxd.com/behaind/\n"
     ]
    },
    {
     "name": "stderr",
     "output_type": "stream",
     "text": [
      "Processing Users:  38%|███▊      | 192/500 [2:41:40<4:31:55, 52.97s/it]"
     ]
    },
    {
     "name": "stdout",
     "output_type": "stream",
     "text": [
      "Scraping reviews for user: https://letterboxd.com/theblogosfear/\n"
     ]
    },
    {
     "name": "stderr",
     "output_type": "stream",
     "text": [
      "Processing Users:  39%|███▊      | 193/500 [2:51:21<18:02:11, 211.50s/it]"
     ]
    },
    {
     "name": "stdout",
     "output_type": "stream",
     "text": [
      "Scraping reviews for user: https://letterboxd.com/hammerbros94/\n"
     ]
    },
    {
     "name": "stderr",
     "output_type": "stream",
     "text": [
      "Processing Users:  39%|███▉      | 194/500 [2:52:04<13:41:16, 161.03s/it]"
     ]
    },
    {
     "name": "stdout",
     "output_type": "stream",
     "text": [
      "Scraping reviews for user: https://letterboxd.com/cathyk/\n"
     ]
    },
    {
     "name": "stderr",
     "output_type": "stream",
     "text": [
      "Processing Users:  39%|███▉      | 195/500 [2:52:46<10:36:46, 125.27s/it]"
     ]
    },
    {
     "name": "stdout",
     "output_type": "stream",
     "text": [
      "Scraping reviews for user: https://letterboxd.com/punchdrunklizzy/\n"
     ]
    },
    {
     "name": "stderr",
     "output_type": "stream",
     "text": [
      "Processing Users:  39%|███▉      | 196/500 [2:53:30<8:30:45, 100.81s/it] "
     ]
    },
    {
     "name": "stdout",
     "output_type": "stream",
     "text": [
      "Scraping reviews for user: https://letterboxd.com/fake_shemp/\n"
     ]
    },
    {
     "name": "stderr",
     "output_type": "stream",
     "text": [
      "Processing Users:  39%|███▉      | 197/500 [2:55:35<9:05:44, 108.07s/it]"
     ]
    },
    {
     "name": "stdout",
     "output_type": "stream",
     "text": [
      "Scraping reviews for user: https://letterboxd.com/citizenhal/\n"
     ]
    },
    {
     "name": "stderr",
     "output_type": "stream",
     "text": [
      "Processing Users:  40%|███▉      | 198/500 [2:56:18<7:26:17, 88.67s/it] "
     ]
    },
    {
     "name": "stdout",
     "output_type": "stream",
     "text": [
      "Scraping reviews for user: https://letterboxd.com/briantt/\n"
     ]
    },
    {
     "name": "stderr",
     "output_type": "stream",
     "text": [
      "Processing Users:  40%|███▉      | 199/500 [2:56:58<6:10:57, 73.95s/it]"
     ]
    },
    {
     "name": "stdout",
     "output_type": "stream",
     "text": [
      "Scraping reviews for user: https://letterboxd.com/jacobknight/\n"
     ]
    },
    {
     "name": "stderr",
     "output_type": "stream",
     "text": [
      "Processing Users:  40%|████      | 200/500 [2:57:42<5:24:25, 64.88s/it]"
     ]
    },
    {
     "name": "stdout",
     "output_type": "stream",
     "text": [
      "Checkpoint saved to user_reviews_checkpoint.csv\n",
      "Scraping reviews for user: https://letterboxd.com/jakealdacoffey/\n"
     ]
    },
    {
     "name": "stderr",
     "output_type": "stream",
     "text": [
      "Processing Users:  40%|████      | 201/500 [2:58:25<4:51:28, 58.49s/it]"
     ]
    },
    {
     "name": "stdout",
     "output_type": "stream",
     "text": [
      "Scraping reviews for user: https://letterboxd.com/evilbjork/\n"
     ]
    },
    {
     "name": "stderr",
     "output_type": "stream",
     "text": [
      "Processing Users:  40%|████      | 202/500 [2:59:08<4:27:23, 53.84s/it]"
     ]
    },
    {
     "name": "stdout",
     "output_type": "stream",
     "text": [
      "Scraping reviews for user: https://letterboxd.com/timcop/\n"
     ]
    },
    {
     "name": "stderr",
     "output_type": "stream",
     "text": [
      "Processing Users:  41%|████      | 203/500 [2:59:50<4:08:55, 50.29s/it]"
     ]
    },
    {
     "name": "stdout",
     "output_type": "stream",
     "text": [
      "Scraping reviews for user: https://letterboxd.com/adaydreaming/\n"
     ]
    },
    {
     "name": "stderr",
     "output_type": "stream",
     "text": [
      "Processing Users:  41%|████      | 204/500 [3:00:35<3:59:23, 48.53s/it]"
     ]
    },
    {
     "name": "stdout",
     "output_type": "stream",
     "text": [
      "Scraping reviews for user: https://letterboxd.com/flynnryder/\n"
     ]
    },
    {
     "name": "stderr",
     "output_type": "stream",
     "text": [
      "Processing Users:  41%|████      | 205/500 [3:01:19<3:52:33, 47.30s/it]"
     ]
    },
    {
     "name": "stdout",
     "output_type": "stream",
     "text": [
      "Scraping reviews for user: https://letterboxd.com/kurstboy/\n"
     ]
    },
    {
     "name": "stderr",
     "output_type": "stream",
     "text": [
      "Processing Users:  41%|████      | 206/500 [3:02:01<3:44:03, 45.72s/it]"
     ]
    },
    {
     "name": "stdout",
     "output_type": "stream",
     "text": [
      "Scraping reviews for user: https://letterboxd.com/deathproof/\n"
     ]
    },
    {
     "name": "stderr",
     "output_type": "stream",
     "text": [
      "Processing Users:  41%|████▏     | 207/500 [3:02:50<3:47:07, 46.51s/it]"
     ]
    },
    {
     "name": "stdout",
     "output_type": "stream",
     "text": [
      "Scraping reviews for user: https://letterboxd.com/jay/\n"
     ]
    },
    {
     "name": "stderr",
     "output_type": "stream",
     "text": [
      "Processing Users:  42%|████▏     | 208/500 [3:03:31<3:39:33, 45.12s/it]"
     ]
    },
    {
     "name": "stdout",
     "output_type": "stream",
     "text": [
      "Scraping reviews for user: https://letterboxd.com/schaffrillas/\n"
     ]
    },
    {
     "name": "stderr",
     "output_type": "stream",
     "text": [
      "Processing Users:  42%|████▏     | 209/500 [3:04:11<3:30:11, 43.34s/it]"
     ]
    },
    {
     "name": "stdout",
     "output_type": "stream",
     "text": [
      "Scraping reviews for user: https://letterboxd.com/davidehrlich/\n"
     ]
    },
    {
     "name": "stderr",
     "output_type": "stream",
     "text": [
      "Processing Users:  42%|████▏     | 210/500 [3:04:51<3:25:07, 42.44s/it]"
     ]
    },
    {
     "name": "stdout",
     "output_type": "stream",
     "text": [
      "Checkpoint saved to user_reviews_checkpoint.csv\n",
      "Scraping reviews for user: https://letterboxd.com/ashmatxx/\n"
     ]
    },
    {
     "name": "stderr",
     "output_type": "stream",
     "text": [
      "Processing Users:  42%|████▏     | 211/500 [3:05:35<3:26:30, 42.87s/it]"
     ]
    },
    {
     "name": "stdout",
     "output_type": "stream",
     "text": [
      "Scraping reviews for user: https://letterboxd.com/cobrarocky/\n"
     ]
    },
    {
     "name": "stderr",
     "output_type": "stream",
     "text": [
      "Processing Users:  42%|████▏     | 212/500 [3:06:15<3:22:20, 42.15s/it]"
     ]
    },
    {
     "name": "stdout",
     "output_type": "stream",
     "text": [
      "Scraping reviews for user: https://letterboxd.com/brendohare/\n"
     ]
    },
    {
     "name": "stderr",
     "output_type": "stream",
     "text": [
      "Processing Users:  43%|████▎     | 213/500 [3:07:10<3:40:16, 46.05s/it]"
     ]
    },
    {
     "name": "stdout",
     "output_type": "stream",
     "text": [
      "Scraping reviews for user: https://letterboxd.com/chrisvfeil/\n"
     ]
    },
    {
     "name": "stderr",
     "output_type": "stream",
     "text": [
      "Processing Users:  43%|████▎     | 214/500 [3:07:54<3:35:15, 45.16s/it]"
     ]
    },
    {
     "name": "stdout",
     "output_type": "stream",
     "text": [
      "Scraping reviews for user: https://letterboxd.com/theportman/\n"
     ]
    },
    {
     "name": "stderr",
     "output_type": "stream",
     "text": [
      "Processing Users:  43%|████▎     | 215/500 [3:08:41<3:37:36, 45.81s/it]"
     ]
    },
    {
     "name": "stdout",
     "output_type": "stream",
     "text": [
      "Scraping reviews for user: https://letterboxd.com/reibureibu/\n"
     ]
    },
    {
     "name": "stderr",
     "output_type": "stream",
     "text": [
      "Processing Users:  43%|████▎     | 216/500 [3:09:57<4:20:36, 55.06s/it]"
     ]
    },
    {
     "name": "stdout",
     "output_type": "stream",
     "text": [
      "Scraping reviews for user: https://letterboxd.com/lucyskeet/\n"
     ]
    },
    {
     "name": "stderr",
     "output_type": "stream",
     "text": [
      "Processing Users:  43%|████▎     | 217/500 [3:10:49<4:14:57, 54.05s/it]"
     ]
    },
    {
     "name": "stdout",
     "output_type": "stream",
     "text": [
      "Scraping reviews for user: https://letterboxd.com/sknnysoul/\n"
     ]
    },
    {
     "name": "stderr",
     "output_type": "stream",
     "text": [
      "Processing Users:  44%|████▎     | 218/500 [3:11:33<3:59:24, 50.94s/it]"
     ]
    },
    {
     "name": "stdout",
     "output_type": "stream",
     "text": [
      "Scraping reviews for user: https://letterboxd.com/pullmanism/\n"
     ]
    },
    {
     "name": "stderr",
     "output_type": "stream",
     "text": [
      "Processing Users:  44%|████▍     | 219/500 [3:12:18<3:50:40, 49.25s/it]"
     ]
    },
    {
     "name": "stdout",
     "output_type": "stream",
     "text": [
      "Scraping reviews for user: https://letterboxd.com/oliviathebi/\n"
     ]
    },
    {
     "name": "stderr",
     "output_type": "stream",
     "text": [
      "Processing Users:  44%|████▍     | 220/500 [3:13:03<3:43:57, 47.99s/it]"
     ]
    },
    {
     "name": "stdout",
     "output_type": "stream",
     "text": [
      "Checkpoint saved to user_reviews_checkpoint.csv\n",
      "Scraping reviews for user: https://letterboxd.com/peterstanley/\n"
     ]
    },
    {
     "name": "stderr",
     "output_type": "stream",
     "text": [
      "Processing Users:  44%|████▍     | 221/500 [3:13:48<3:38:26, 46.98s/it]"
     ]
    },
    {
     "name": "stdout",
     "output_type": "stream",
     "text": [
      "Scraping reviews for user: https://letterboxd.com/chloeac/\n"
     ]
    },
    {
     "name": "stderr",
     "output_type": "stream",
     "text": [
      "Processing Users:  44%|████▍     | 222/500 [3:14:33<3:35:19, 46.47s/it]"
     ]
    },
    {
     "name": "stdout",
     "output_type": "stream",
     "text": [
      "Scraping reviews for user: https://letterboxd.com/larsenonfilm/\n"
     ]
    },
    {
     "name": "stderr",
     "output_type": "stream",
     "text": [
      "Processing Users:  45%|████▍     | 223/500 [3:14:56<3:01:42, 39.36s/it]"
     ]
    },
    {
     "name": "stdout",
     "output_type": "stream",
     "text": [
      "Scraping reviews for user: https://letterboxd.com/brianformo/\n"
     ]
    },
    {
     "name": "stderr",
     "output_type": "stream",
     "text": [
      "Processing Users:  45%|████▍     | 224/500 [3:15:17<2:36:01, 33.92s/it]"
     ]
    },
    {
     "name": "stdout",
     "output_type": "stream",
     "text": [
      "Scraping reviews for user: https://letterboxd.com/martinisheen/\n"
     ]
    },
    {
     "name": "stderr",
     "output_type": "stream",
     "text": [
      "Processing Users:  45%|████▌     | 225/500 [3:16:01<2:48:46, 36.82s/it]"
     ]
    },
    {
     "name": "stdout",
     "output_type": "stream",
     "text": [
      "Scraping reviews for user: https://letterboxd.com/riotglasses/\n"
     ]
    },
    {
     "name": "stderr",
     "output_type": "stream",
     "text": [
      "Processing Users:  45%|████▌     | 226/500 [3:17:07<3:28:09, 45.58s/it]"
     ]
    },
    {
     "name": "stdout",
     "output_type": "stream",
     "text": [
      "Scraping reviews for user: https://letterboxd.com/sammeltzer/\n"
     ]
    },
    {
     "name": "stderr",
     "output_type": "stream",
     "text": [
      "Processing Users:  45%|████▌     | 227/500 [3:18:39<4:30:42, 59.50s/it]"
     ]
    },
    {
     "name": "stdout",
     "output_type": "stream",
     "text": [
      "Scraping reviews for user: https://letterboxd.com/grooveman/\n"
     ]
    },
    {
     "name": "stderr",
     "output_type": "stream",
     "text": [
      "Processing Users:  46%|████▌     | 228/500 [3:19:24<4:10:18, 55.21s/it]"
     ]
    },
    {
     "name": "stdout",
     "output_type": "stream",
     "text": [
      "Scraping reviews for user: https://letterboxd.com/cineflek/\n"
     ]
    },
    {
     "name": "stderr",
     "output_type": "stream",
     "text": [
      "Processing Users:  46%|████▌     | 229/500 [3:20:08<3:53:37, 51.73s/it]"
     ]
    },
    {
     "name": "stdout",
     "output_type": "stream",
     "text": [
      "Scraping reviews for user: https://letterboxd.com/kevinyang/\n"
     ]
    },
    {
     "name": "stderr",
     "output_type": "stream",
     "text": [
      "Processing Users:  46%|████▌     | 230/500 [3:20:48<3:37:26, 48.32s/it]"
     ]
    },
    {
     "name": "stdout",
     "output_type": "stream",
     "text": [
      "Checkpoint saved to user_reviews_checkpoint.csv\n",
      "Scraping reviews for user: https://letterboxd.com/lastcooldude/\n"
     ]
    },
    {
     "name": "stderr",
     "output_type": "stream",
     "text": [
      "Processing Users:  46%|████▌     | 231/500 [3:21:33<3:32:49, 47.47s/it]"
     ]
    },
    {
     "name": "stdout",
     "output_type": "stream",
     "text": [
      "Scraping reviews for user: https://letterboxd.com/flanaganfilm/\n"
     ]
    },
    {
     "name": "stderr",
     "output_type": "stream",
     "text": [
      "Processing Users:  46%|████▋     | 232/500 [3:22:19<3:29:55, 47.00s/it]"
     ]
    },
    {
     "name": "stdout",
     "output_type": "stream",
     "text": [
      "Timeout while loading page 8 for user https://letterboxd.com/flanaganfilm/\n",
      "Scraping reviews for user: https://letterboxd.com/madihatesfilm/\n"
     ]
    },
    {
     "name": "stderr",
     "output_type": "stream",
     "text": [
      "Processing Users:  47%|████▋     | 233/500 [3:23:05<3:27:06, 46.54s/it]"
     ]
    },
    {
     "name": "stdout",
     "output_type": "stream",
     "text": [
      "Scraping reviews for user: https://letterboxd.com/freyainthcities/\n"
     ]
    },
    {
     "name": "stderr",
     "output_type": "stream",
     "text": [
      "Processing Users:  47%|████▋     | 234/500 [3:23:50<3:24:05, 46.04s/it]"
     ]
    },
    {
     "name": "stdout",
     "output_type": "stream",
     "text": [
      "Scraping reviews for user: https://letterboxd.com/zaragwen/\n"
     ]
    },
    {
     "name": "stderr",
     "output_type": "stream",
     "text": [
      "Processing Users:  47%|████▋     | 235/500 [3:24:37<3:24:51, 46.38s/it]"
     ]
    },
    {
     "name": "stdout",
     "output_type": "stream",
     "text": [
      "Scraping reviews for user: https://letterboxd.com/finnpoe/\n"
     ]
    },
    {
     "name": "stderr",
     "output_type": "stream",
     "text": [
      "Processing Users:  47%|████▋     | 236/500 [3:25:22<3:22:57, 46.13s/it]"
     ]
    },
    {
     "name": "stdout",
     "output_type": "stream",
     "text": [
      "Scraping reviews for user: https://letterboxd.com/b1mb1m/\n"
     ]
    },
    {
     "name": "stderr",
     "output_type": "stream",
     "text": [
      "Processing Users:  47%|████▋     | 237/500 [3:26:06<3:19:34, 45.53s/it]"
     ]
    },
    {
     "name": "stdout",
     "output_type": "stream",
     "text": [
      "Scraping reviews for user: https://letterboxd.com/elsergiomunoz/\n"
     ]
    },
    {
     "name": "stderr",
     "output_type": "stream",
     "text": [
      "Processing Users:  48%|████▊     | 238/500 [3:26:51<3:17:17, 45.18s/it]"
     ]
    },
    {
     "name": "stdout",
     "output_type": "stream",
     "text": [
      "Scraping reviews for user: https://letterboxd.com/cosmonautmarkie/\n"
     ]
    },
    {
     "name": "stderr",
     "output_type": "stream",
     "text": [
      "Processing Users:  48%|████▊     | 239/500 [3:27:19<2:53:53, 39.97s/it]"
     ]
    },
    {
     "name": "stdout",
     "output_type": "stream",
     "text": [
      "Timeout while loading page 5 for user https://letterboxd.com/cosmonautmarkie/\n",
      "Scraping reviews for user: https://letterboxd.com/etolkin/\n"
     ]
    },
    {
     "name": "stderr",
     "output_type": "stream",
     "text": [
      "Processing Users:  48%|████▊     | 240/500 [3:28:03<2:58:56, 41.30s/it]"
     ]
    },
    {
     "name": "stdout",
     "output_type": "stream",
     "text": [
      "Checkpoint saved to user_reviews_checkpoint.csv\n",
      "Scraping reviews for user: https://letterboxd.com/kurstboy/\n"
     ]
    },
    {
     "name": "stderr",
     "output_type": "stream",
     "text": [
      "Processing Users:  48%|████▊     | 241/500 [3:28:47<3:01:51, 42.13s/it]"
     ]
    },
    {
     "name": "stdout",
     "output_type": "stream",
     "text": [
      "Scraping reviews for user: https://letterboxd.com/deathproof/\n"
     ]
    },
    {
     "name": "stderr",
     "output_type": "stream",
     "text": [
      "Processing Users:  48%|████▊     | 242/500 [3:29:37<3:11:11, 44.46s/it]"
     ]
    },
    {
     "name": "stdout",
     "output_type": "stream",
     "text": [
      "Scraping reviews for user: https://letterboxd.com/jay/\n"
     ]
    },
    {
     "name": "stderr",
     "output_type": "stream",
     "text": [
      "Processing Users:  49%|████▊     | 243/500 [3:30:21<3:10:21, 44.44s/it]"
     ]
    },
    {
     "name": "stdout",
     "output_type": "stream",
     "text": [
      "Scraping reviews for user: https://letterboxd.com/schaffrillas/\n"
     ]
    },
    {
     "name": "stderr",
     "output_type": "stream",
     "text": [
      "Processing Users:  49%|████▉     | 244/500 [3:31:01<3:03:34, 43.03s/it]"
     ]
    },
    {
     "name": "stdout",
     "output_type": "stream",
     "text": [
      "Scraping reviews for user: https://letterboxd.com/davidehrlich/\n"
     ]
    },
    {
     "name": "stderr",
     "output_type": "stream",
     "text": [
      "Processing Users:  49%|████▉     | 245/500 [3:31:42<3:00:23, 42.44s/it]"
     ]
    },
    {
     "name": "stdout",
     "output_type": "stream",
     "text": [
      "Scraping reviews for user: https://letterboxd.com/ddarko42/\n"
     ]
    },
    {
     "name": "stderr",
     "output_type": "stream",
     "text": [
      "Processing Users:  49%|████▉     | 246/500 [3:32:25<2:59:33, 42.42s/it]"
     ]
    },
    {
     "name": "stdout",
     "output_type": "stream",
     "text": [
      "Scraping reviews for user: https://letterboxd.com/clarajarl/\n"
     ]
    },
    {
     "name": "stderr",
     "output_type": "stream",
     "text": [
      "Processing Users:  49%|████▉     | 247/500 [3:33:14<3:07:16, 44.41s/it]"
     ]
    },
    {
     "name": "stdout",
     "output_type": "stream",
     "text": [
      "Scraping reviews for user: https://letterboxd.com/simonramshaw/\n"
     ]
    },
    {
     "name": "stderr",
     "output_type": "stream",
     "text": [
      "Processing Users:  50%|████▉     | 248/500 [3:34:00<3:09:21, 45.09s/it]"
     ]
    },
    {
     "name": "stdout",
     "output_type": "stream",
     "text": [
      "Scraping reviews for user: https://letterboxd.com/willhollis/\n"
     ]
    },
    {
     "name": "stderr",
     "output_type": "stream",
     "text": [
      "Processing Users:  50%|████▉     | 249/500 [3:34:48<3:11:23, 45.75s/it]"
     ]
    },
    {
     "name": "stdout",
     "output_type": "stream",
     "text": [
      "Scraping reviews for user: https://letterboxd.com/fcbarcelona/\n",
      "Timeout while loading page 3 for user https://letterboxd.com/fcbarcelona/\n"
     ]
    },
    {
     "name": "stderr",
     "output_type": "stream",
     "text": [
      "Processing Users:  50%|█████     | 250/500 [3:35:08<2:39:15, 38.22s/it]"
     ]
    },
    {
     "name": "stdout",
     "output_type": "stream",
     "text": [
      "Checkpoint saved to user_reviews_checkpoint.csv\n",
      "Scraping reviews for user: https://letterboxd.com/cammmalot/\n"
     ]
    },
    {
     "name": "stderr",
     "output_type": "stream",
     "text": [
      "Processing Users:  50%|█████     | 251/500 [3:35:53<2:46:51, 40.21s/it]"
     ]
    },
    {
     "name": "stdout",
     "output_type": "stream",
     "text": [
      "Scraping reviews for user: https://letterboxd.com/hauntedhippie/\n"
     ]
    },
    {
     "name": "stderr",
     "output_type": "stream",
     "text": [
      "Processing Users:  50%|█████     | 252/500 [3:36:34<2:46:29, 40.28s/it]"
     ]
    },
    {
     "name": "stdout",
     "output_type": "stream",
     "text": [
      "Scraping reviews for user: https://letterboxd.com/dayaonfilm/\n"
     ]
    },
    {
     "name": "stderr",
     "output_type": "stream",
     "text": [
      "Processing Users:  51%|█████     | 253/500 [3:37:14<2:46:28, 40.44s/it]"
     ]
    },
    {
     "name": "stdout",
     "output_type": "stream",
     "text": [
      "Scraping reviews for user: https://letterboxd.com/magrosleau/\n"
     ]
    },
    {
     "name": "stderr",
     "output_type": "stream",
     "text": [
      "Processing Users:  51%|█████     | 254/500 [3:37:27<2:11:33, 32.09s/it]"
     ]
    },
    {
     "name": "stdout",
     "output_type": "stream",
     "text": [
      "Timeout while loading page 1 for user https://letterboxd.com/magrosleau/\n",
      "Scraping reviews for user: https://letterboxd.com/nickwibert/\n"
     ]
    },
    {
     "name": "stderr",
     "output_type": "stream",
     "text": [
      "Processing Users:  51%|█████     | 255/500 [3:38:10<2:24:22, 35.36s/it]"
     ]
    },
    {
     "name": "stdout",
     "output_type": "stream",
     "text": [
      "Scraping reviews for user: https://letterboxd.com/kanye/\n"
     ]
    },
    {
     "name": "stderr",
     "output_type": "stream",
     "text": [
      "Processing Users:  51%|█████     | 256/500 [3:38:50<2:29:29, 36.76s/it]"
     ]
    },
    {
     "name": "stdout",
     "output_type": "stream",
     "text": [
      "Scraping reviews for user: https://letterboxd.com/jennyslate/\n"
     ]
    },
    {
     "name": "stderr",
     "output_type": "stream",
     "text": [
      "Processing Users:  51%|█████▏    | 257/500 [3:39:34<2:37:11, 38.81s/it]"
     ]
    },
    {
     "name": "stdout",
     "output_type": "stream",
     "text": [
      "Scraping reviews for user: https://letterboxd.com/unawarewolf/\n"
     ]
    },
    {
     "name": "stderr",
     "output_type": "stream",
     "text": [
      "Processing Users:  52%|█████▏    | 258/500 [3:40:30<2:57:47, 44.08s/it]"
     ]
    },
    {
     "name": "stdout",
     "output_type": "stream",
     "text": [
      "Scraping reviews for user: https://letterboxd.com/hepburnluv/\n"
     ]
    },
    {
     "name": "stderr",
     "output_type": "stream",
     "text": [
      "Processing Users:  52%|█████▏    | 259/500 [3:41:15<2:57:39, 44.23s/it]"
     ]
    },
    {
     "name": "stdout",
     "output_type": "stream",
     "text": [
      "Scraping reviews for user: https://letterboxd.com/raybean/\n"
     ]
    },
    {
     "name": "stderr",
     "output_type": "stream",
     "text": [
      "Processing Users:  52%|█████▏    | 260/500 [3:41:54<2:51:17, 42.82s/it]"
     ]
    },
    {
     "name": "stdout",
     "output_type": "stream",
     "text": [
      "Checkpoint saved to user_reviews_checkpoint.csv\n",
      "Scraping reviews for user: https://letterboxd.com/riley_danson/\n"
     ]
    },
    {
     "name": "stderr",
     "output_type": "stream",
     "text": [
      "Processing Users:  52%|█████▏    | 261/500 [3:42:42<2:57:14, 44.49s/it]"
     ]
    },
    {
     "name": "stdout",
     "output_type": "stream",
     "text": [
      "Scraping reviews for user: https://letterboxd.com/cinemonika/\n"
     ]
    },
    {
     "name": "stderr",
     "output_type": "stream",
     "text": [
      "Processing Users:  52%|█████▏    | 262/500 [3:43:22<2:50:19, 42.94s/it]"
     ]
    },
    {
     "name": "stdout",
     "output_type": "stream",
     "text": [
      "Scraping reviews for user: https://letterboxd.com/stephenage/\n"
     ]
    },
    {
     "name": "stderr",
     "output_type": "stream",
     "text": [
      "Processing Users:  53%|█████▎    | 263/500 [3:44:06<2:50:47, 43.24s/it]"
     ]
    },
    {
     "name": "stdout",
     "output_type": "stream",
     "text": [
      "Scraping reviews for user: https://letterboxd.com/juliendonkeyboi/\n"
     ]
    },
    {
     "name": "stderr",
     "output_type": "stream",
     "text": [
      "Processing Users:  53%|█████▎    | 264/500 [3:44:49<2:50:06, 43.25s/it]"
     ]
    },
    {
     "name": "stdout",
     "output_type": "stream",
     "text": [
      "Scraping reviews for user: https://letterboxd.com/alexil/\n"
     ]
    },
    {
     "name": "stderr",
     "output_type": "stream",
     "text": [
      "Processing Users:  53%|█████▎    | 265/500 [3:45:32<2:48:52, 43.12s/it]"
     ]
    },
    {
     "name": "stdout",
     "output_type": "stream",
     "text": [
      "Scraping reviews for user: https://letterboxd.com/mitchell/\n"
     ]
    },
    {
     "name": "stderr",
     "output_type": "stream",
     "text": [
      "Processing Users:  53%|█████▎    | 266/500 [3:45:56<2:26:16, 37.51s/it]"
     ]
    },
    {
     "name": "stdout",
     "output_type": "stream",
     "text": [
      "Scraping reviews for user: https://letterboxd.com/ksenijab/\n"
     ]
    },
    {
     "name": "stderr",
     "output_type": "stream",
     "text": [
      "Processing Users:  53%|█████▎    | 267/500 [3:46:41<2:34:25, 39.77s/it]"
     ]
    },
    {
     "name": "stdout",
     "output_type": "stream",
     "text": [
      "Scraping reviews for user: https://letterboxd.com/kevflixandchill/\n"
     ]
    },
    {
     "name": "stderr",
     "output_type": "stream",
     "text": [
      "Processing Users:  54%|█████▎    | 268/500 [3:47:24<2:36:43, 40.53s/it]"
     ]
    },
    {
     "name": "stdout",
     "output_type": "stream",
     "text": [
      "Scraping reviews for user: https://letterboxd.com/schlockvalue/\n"
     ]
    },
    {
     "name": "stderr",
     "output_type": "stream",
     "text": [
      "Processing Users:  54%|█████▍    | 269/500 [3:48:18<2:52:27, 44.79s/it]"
     ]
    },
    {
     "name": "stdout",
     "output_type": "stream",
     "text": [
      "Scraping reviews for user: https://letterboxd.com/apple__/\n"
     ]
    },
    {
     "name": "stderr",
     "output_type": "stream",
     "text": [
      "Processing Users:  54%|█████▍    | 270/500 [3:48:58<2:45:20, 43.13s/it]"
     ]
    },
    {
     "name": "stdout",
     "output_type": "stream",
     "text": [
      "Checkpoint saved to user_reviews_checkpoint.csv\n",
      "Scraping reviews for user: https://letterboxd.com/melodramafilms/\n"
     ]
    },
    {
     "name": "stderr",
     "output_type": "stream",
     "text": [
      "Processing Users:  54%|█████▍    | 271/500 [3:49:37<2:39:58, 41.91s/it]"
     ]
    },
    {
     "name": "stdout",
     "output_type": "stream",
     "text": [
      "Scraping reviews for user: https://letterboxd.com/chavrosbaby/\n"
     ]
    },
    {
     "name": "stderr",
     "output_type": "stream",
     "text": [
      "Processing Users:  54%|█████▍    | 272/500 [3:50:16<2:36:02, 41.06s/it]"
     ]
    },
    {
     "name": "stdout",
     "output_type": "stream",
     "text": [
      "Scraping reviews for user: https://letterboxd.com/graceowen/\n"
     ]
    },
    {
     "name": "stderr",
     "output_type": "stream",
     "text": [
      "Processing Users:  55%|█████▍    | 273/500 [3:51:15<2:55:47, 46.47s/it]"
     ]
    },
    {
     "name": "stdout",
     "output_type": "stream",
     "text": [
      "Scraping reviews for user: https://letterboxd.com/nickmcc2/\n"
     ]
    },
    {
     "name": "stderr",
     "output_type": "stream",
     "text": [
      "Processing Users:  55%|█████▍    | 274/500 [3:52:08<3:02:54, 48.56s/it]"
     ]
    },
    {
     "name": "stdout",
     "output_type": "stream",
     "text": [
      "Scraping reviews for user: https://letterboxd.com/aboutlalalala/\n"
     ]
    },
    {
     "name": "stderr",
     "output_type": "stream",
     "text": [
      "Processing Users:  55%|█████▌    | 275/500 [3:52:57<3:01:49, 48.49s/it]"
     ]
    },
    {
     "name": "stdout",
     "output_type": "stream",
     "text": [
      "Scraping reviews for user: https://letterboxd.com/kurstboy/\n"
     ]
    },
    {
     "name": "stderr",
     "output_type": "stream",
     "text": [
      "Processing Users:  55%|█████▌    | 276/500 [3:53:39<2:54:10, 46.65s/it]"
     ]
    },
    {
     "name": "stdout",
     "output_type": "stream",
     "text": [
      "Scraping reviews for user: https://letterboxd.com/deathproof/\n"
     ]
    },
    {
     "name": "stderr",
     "output_type": "stream",
     "text": [
      "Processing Users:  55%|█████▌    | 277/500 [3:54:27<2:55:20, 47.18s/it]"
     ]
    },
    {
     "name": "stdout",
     "output_type": "stream",
     "text": [
      "Scraping reviews for user: https://letterboxd.com/jay/\n"
     ]
    },
    {
     "name": "stderr",
     "output_type": "stream",
     "text": [
      "Processing Users:  56%|█████▌    | 278/500 [3:55:10<2:49:24, 45.78s/it]"
     ]
    },
    {
     "name": "stdout",
     "output_type": "stream",
     "text": [
      "Scraping reviews for user: https://letterboxd.com/schaffrillas/\n"
     ]
    },
    {
     "name": "stderr",
     "output_type": "stream",
     "text": [
      "Processing Users:  56%|█████▌    | 279/500 [3:55:50<2:42:46, 44.19s/it]"
     ]
    },
    {
     "name": "stdout",
     "output_type": "stream",
     "text": [
      "Scraping reviews for user: https://letterboxd.com/davidehrlich/\n"
     ]
    },
    {
     "name": "stderr",
     "output_type": "stream",
     "text": [
      "Processing Users:  56%|█████▌    | 280/500 [3:56:32<2:39:23, 43.47s/it]"
     ]
    },
    {
     "name": "stdout",
     "output_type": "stream",
     "text": [
      "Checkpoint saved to user_reviews_checkpoint.csv\n",
      "Scraping reviews for user: https://letterboxd.com/gc11/\n"
     ]
    },
    {
     "name": "stderr",
     "output_type": "stream",
     "text": [
      "Processing Users:  56%|█████▌    | 281/500 [3:57:18<2:40:47, 44.05s/it]"
     ]
    },
    {
     "name": "stdout",
     "output_type": "stream",
     "text": [
      "Scraping reviews for user: https://letterboxd.com/nickusen/\n"
     ]
    },
    {
     "name": "stderr",
     "output_type": "stream",
     "text": [
      "Processing Users:  56%|█████▋    | 282/500 [3:59:28<4:14:07, 69.94s/it]"
     ]
    },
    {
     "name": "stdout",
     "output_type": "stream",
     "text": [
      "Timeout while loading page 26 for user https://letterboxd.com/nickusen/\n",
      "Scraping reviews for user: https://letterboxd.com/ethan_mateo/\n"
     ]
    },
    {
     "name": "stderr",
     "output_type": "stream",
     "text": [
      "Processing Users:  57%|█████▋    | 283/500 [4:00:10<3:42:16, 61.46s/it]"
     ]
    },
    {
     "name": "stdout",
     "output_type": "stream",
     "text": [
      "Scraping reviews for user: https://letterboxd.com/lautengcokj/\n"
     ]
    },
    {
     "name": "stderr",
     "output_type": "stream",
     "text": [
      "Processing Users:  57%|█████▋    | 284/500 [4:00:55<3:23:43, 56.59s/it]"
     ]
    },
    {
     "name": "stdout",
     "output_type": "stream",
     "text": [
      "Scraping reviews for user: https://letterboxd.com/kevintporter/\n"
     ]
    },
    {
     "name": "stderr",
     "output_type": "stream",
     "text": [
      "Processing Users:  57%|█████▋    | 285/500 [4:02:06<3:38:13, 60.90s/it]"
     ]
    },
    {
     "name": "stdout",
     "output_type": "stream",
     "text": [
      "Scraping reviews for user: https://letterboxd.com/worsethan/\n"
     ]
    },
    {
     "name": "stderr",
     "output_type": "stream",
     "text": [
      "Processing Users:  57%|█████▋    | 286/500 [4:02:47<3:16:01, 54.96s/it]"
     ]
    },
    {
     "name": "stdout",
     "output_type": "stream",
     "text": [
      "Scraping reviews for user: https://letterboxd.com/punq/\n"
     ]
    },
    {
     "name": "stderr",
     "output_type": "stream",
     "text": [
      "Processing Users:  57%|█████▋    | 287/500 [4:03:29<3:01:22, 51.09s/it]"
     ]
    },
    {
     "name": "stdout",
     "output_type": "stream",
     "text": [
      "Scraping reviews for user: https://letterboxd.com/mskiesha/\n"
     ]
    },
    {
     "name": "stderr",
     "output_type": "stream",
     "text": [
      "Processing Users:  58%|█████▊    | 288/500 [4:04:13<2:53:23, 49.07s/it]"
     ]
    },
    {
     "name": "stdout",
     "output_type": "stream",
     "text": [
      "Scraping reviews for user: https://letterboxd.com/man_out_of_time/\n"
     ]
    },
    {
     "name": "stderr",
     "output_type": "stream",
     "text": [
      "Processing Users:  58%|█████▊    | 289/500 [4:04:55<2:44:30, 46.78s/it]"
     ]
    },
    {
     "name": "stdout",
     "output_type": "stream",
     "text": [
      "Scraping reviews for user: https://letterboxd.com/tylercwhitmore/\n"
     ]
    },
    {
     "name": "stderr",
     "output_type": "stream",
     "text": [
      "Processing Users:  58%|█████▊    | 290/500 [4:05:37<2:38:54, 45.40s/it]"
     ]
    },
    {
     "name": "stdout",
     "output_type": "stream",
     "text": [
      "Checkpoint saved to user_reviews_checkpoint.csv\n",
      "Scraping reviews for user: https://letterboxd.com/annakendrick/\n"
     ]
    },
    {
     "name": "stderr",
     "output_type": "stream",
     "text": [
      "Processing Users:  58%|█████▊    | 291/500 [4:06:22<2:37:56, 45.34s/it]"
     ]
    },
    {
     "name": "stdout",
     "output_type": "stream",
     "text": [
      "Scraping reviews for user: https://letterboxd.com/justbrianna/\n"
     ]
    },
    {
     "name": "stderr",
     "output_type": "stream",
     "text": [
      "Processing Users:  58%|█████▊    | 292/500 [4:13:13<8:57:52, 155.16s/it]"
     ]
    },
    {
     "name": "stdout",
     "output_type": "stream",
     "text": [
      "Timeout while loading page 79 for user https://letterboxd.com/justbrianna/\n",
      "Scraping reviews for user: https://letterboxd.com/samthompson22/\n"
     ]
    },
    {
     "name": "stderr",
     "output_type": "stream",
     "text": [
      "Processing Users:  59%|█████▊    | 293/500 [4:13:55<6:57:37, 121.05s/it]"
     ]
    },
    {
     "name": "stdout",
     "output_type": "stream",
     "text": [
      "Scraping reviews for user: https://letterboxd.com/johncassavetes/\n"
     ]
    },
    {
     "name": "stderr",
     "output_type": "stream",
     "text": [
      "Processing Users:  59%|█████▉    | 294/500 [4:15:18<6:16:48, 109.75s/it]"
     ]
    },
    {
     "name": "stdout",
     "output_type": "stream",
     "text": [
      "Scraping reviews for user: https://letterboxd.com/spicyboyivy/\n"
     ]
    },
    {
     "name": "stderr",
     "output_type": "stream",
     "text": [
      "Processing Users:  59%|█████▉    | 295/500 [4:17:19<6:26:38, 113.17s/it]"
     ]
    },
    {
     "name": "stdout",
     "output_type": "stream",
     "text": [
      "Scraping reviews for user: https://letterboxd.com/harlequinade/\n"
     ]
    },
    {
     "name": "stderr",
     "output_type": "stream",
     "text": [
      "Processing Users:  59%|█████▉    | 296/500 [4:18:05<5:16:03, 92.96s/it] "
     ]
    },
    {
     "name": "stdout",
     "output_type": "stream",
     "text": [
      "Scraping reviews for user: https://letterboxd.com/menzayd/\n"
     ]
    },
    {
     "name": "stderr",
     "output_type": "stream",
     "text": [
      "Processing Users:  59%|█████▉    | 297/500 [4:24:18<9:58:19, 176.85s/it]"
     ]
    },
    {
     "name": "stdout",
     "output_type": "stream",
     "text": [
      "Scraping reviews for user: https://letterboxd.com/agastak/\n"
     ]
    },
    {
     "name": "stderr",
     "output_type": "stream",
     "text": [
      "Processing Users:  60%|█████▉    | 298/500 [4:25:00<7:39:20, 136.44s/it]"
     ]
    },
    {
     "name": "stdout",
     "output_type": "stream",
     "text": [
      "Scraping reviews for user: https://letterboxd.com/blackswannss/\n"
     ]
    },
    {
     "name": "stderr",
     "output_type": "stream",
     "text": [
      "Processing Users:  60%|█████▉    | 299/500 [4:25:44<6:04:25, 108.78s/it]"
     ]
    },
    {
     "name": "stdout",
     "output_type": "stream",
     "text": [
      "Scraping reviews for user: https://letterboxd.com/grifflightning/\n",
      "Timeout while loading page 14 for user https://letterboxd.com/grifflightning/\n"
     ]
    },
    {
     "name": "stderr",
     "output_type": "stream",
     "text": [
      "Processing Users:  60%|██████    | 300/500 [4:26:59<5:28:59, 98.70s/it] "
     ]
    },
    {
     "name": "stdout",
     "output_type": "stream",
     "text": [
      "Checkpoint saved to user_reviews_checkpoint.csv\n",
      "Scraping reviews for user: https://letterboxd.com/natb294/\n"
     ]
    },
    {
     "name": "stderr",
     "output_type": "stream",
     "text": [
      "Processing Users:  60%|██████    | 301/500 [4:27:44<4:33:50, 82.57s/it]"
     ]
    },
    {
     "name": "stdout",
     "output_type": "stream",
     "text": [
      "Scraping reviews for user: https://letterboxd.com/brendanmichaels/\n"
     ]
    },
    {
     "name": "stderr",
     "output_type": "stream",
     "text": [
      "Processing Users:  60%|██████    | 302/500 [4:28:31<3:56:55, 71.79s/it]"
     ]
    },
    {
     "name": "stdout",
     "output_type": "stream",
     "text": [
      "Scraping reviews for user: https://letterboxd.com/nibiru_truth/\n"
     ]
    },
    {
     "name": "stderr",
     "output_type": "stream",
     "text": [
      "Processing Users:  61%|██████    | 303/500 [4:29:24<3:37:20, 66.20s/it]"
     ]
    },
    {
     "name": "stdout",
     "output_type": "stream",
     "text": [
      "Scraping reviews for user: https://letterboxd.com/thehandmaiden/\n"
     ]
    },
    {
     "name": "stderr",
     "output_type": "stream",
     "text": [
      "Processing Users:  61%|██████    | 304/500 [4:30:17<3:23:04, 62.17s/it]"
     ]
    },
    {
     "name": "stdout",
     "output_type": "stream",
     "text": [
      "Scraping reviews for user: https://letterboxd.com/steele98/\n"
     ]
    },
    {
     "name": "stderr",
     "output_type": "stream",
     "text": [
      "Processing Users:  61%|██████    | 305/500 [4:31:04<3:07:39, 57.74s/it]"
     ]
    },
    {
     "name": "stdout",
     "output_type": "stream",
     "text": [
      "Scraping reviews for user: https://letterboxd.com/dawsonejoyce/\n"
     ]
    },
    {
     "name": "stderr",
     "output_type": "stream",
     "text": [
      "Processing Users:  61%|██████    | 306/500 [4:31:57<3:01:48, 56.23s/it]"
     ]
    },
    {
     "name": "stdout",
     "output_type": "stream",
     "text": [
      "Scraping reviews for user: https://letterboxd.com/reservoirdvgs/\n"
     ]
    },
    {
     "name": "stderr",
     "output_type": "stream",
     "text": [
      "Processing Users:  61%|██████▏   | 307/500 [4:32:42<2:49:40, 52.75s/it]"
     ]
    },
    {
     "name": "stdout",
     "output_type": "stream",
     "text": [
      "Scraping reviews for user: https://letterboxd.com/morgtionpicture/\n"
     ]
    },
    {
     "name": "stderr",
     "output_type": "stream",
     "text": [
      "Processing Users:  62%|██████▏   | 308/500 [4:33:29<2:43:59, 51.25s/it]"
     ]
    },
    {
     "name": "stdout",
     "output_type": "stream",
     "text": [
      "Scraping reviews for user: https://letterboxd.com/indiasfilms/\n"
     ]
    },
    {
     "name": "stderr",
     "output_type": "stream",
     "text": [
      "Processing Users:  62%|██████▏   | 309/500 [4:34:25<2:47:27, 52.61s/it]"
     ]
    },
    {
     "name": "stdout",
     "output_type": "stream",
     "text": [
      "Scraping reviews for user: https://letterboxd.com/rendyjones/\n"
     ]
    },
    {
     "name": "stderr",
     "output_type": "stream",
     "text": [
      "Processing Users:  62%|██████▏   | 310/500 [4:35:12<2:40:46, 50.77s/it]"
     ]
    },
    {
     "name": "stdout",
     "output_type": "stream",
     "text": [
      "Checkpoint saved to user_reviews_checkpoint.csv\n",
      "Scraping reviews for user: https://letterboxd.com/kurstboy/\n"
     ]
    },
    {
     "name": "stderr",
     "output_type": "stream",
     "text": [
      "Processing Users:  62%|██████▏   | 311/500 [4:35:57<2:35:00, 49.21s/it]"
     ]
    },
    {
     "name": "stdout",
     "output_type": "stream",
     "text": [
      "Scraping reviews for user: https://letterboxd.com/deathproof/\n"
     ]
    },
    {
     "name": "stderr",
     "output_type": "stream",
     "text": [
      "Processing Users:  62%|██████▏   | 312/500 [4:36:50<2:37:41, 50.33s/it]"
     ]
    },
    {
     "name": "stdout",
     "output_type": "stream",
     "text": [
      "Scraping reviews for user: https://letterboxd.com/jay/\n"
     ]
    },
    {
     "name": "stderr",
     "output_type": "stream",
     "text": [
      "Processing Users:  63%|██████▎   | 313/500 [4:37:35<2:31:59, 48.77s/it]"
     ]
    },
    {
     "name": "stdout",
     "output_type": "stream",
     "text": [
      "Scraping reviews for user: https://letterboxd.com/schaffrillas/\n"
     ]
    },
    {
     "name": "stderr",
     "output_type": "stream",
     "text": [
      "Processing Users:  63%|██████▎   | 314/500 [4:38:18<2:25:12, 46.84s/it]"
     ]
    },
    {
     "name": "stdout",
     "output_type": "stream",
     "text": [
      "Scraping reviews for user: https://letterboxd.com/davidehrlich/\n"
     ]
    },
    {
     "name": "stderr",
     "output_type": "stream",
     "text": [
      "Processing Users:  63%|██████▎   | 315/500 [4:39:00<2:19:49, 45.35s/it]"
     ]
    },
    {
     "name": "stdout",
     "output_type": "stream",
     "text": [
      "Scraping reviews for user: https://letterboxd.com/sarahabob/\n"
     ]
    },
    {
     "name": "stderr",
     "output_type": "stream",
     "text": [
      "Processing Users:  63%|██████▎   | 316/500 [4:39:43<2:17:26, 44.82s/it]"
     ]
    },
    {
     "name": "stdout",
     "output_type": "stream",
     "text": [
      "Scraping reviews for user: https://letterboxd.com/justinwuah/\n"
     ]
    },
    {
     "name": "stderr",
     "output_type": "stream",
     "text": [
      "Processing Users:  63%|██████▎   | 317/500 [4:40:25<2:14:17, 44.03s/it]"
     ]
    },
    {
     "name": "stdout",
     "output_type": "stream",
     "text": [
      "Scraping reviews for user: https://letterboxd.com/sonnywortzik/\n"
     ]
    },
    {
     "name": "stderr",
     "output_type": "stream",
     "text": [
      "Processing Users:  64%|██████▎   | 318/500 [4:41:31<2:33:08, 50.49s/it]"
     ]
    },
    {
     "name": "stdout",
     "output_type": "stream",
     "text": [
      "Scraping reviews for user: https://letterboxd.com/hectorx/\n"
     ]
    },
    {
     "name": "stderr",
     "output_type": "stream",
     "text": [
      "Processing Users:  64%|██████▍   | 319/500 [4:42:14<2:25:14, 48.15s/it]"
     ]
    },
    {
     "name": "stdout",
     "output_type": "stream",
     "text": [
      "Scraping reviews for user: https://letterboxd.com/silentjoe13/\n"
     ]
    },
    {
     "name": "stderr",
     "output_type": "stream",
     "text": [
      "Processing Users:  64%|██████▍   | 320/500 [4:43:01<2:23:34, 47.86s/it]"
     ]
    },
    {
     "name": "stdout",
     "output_type": "stream",
     "text": [
      "Checkpoint saved to user_reviews_checkpoint.csv\n",
      "Scraping reviews for user: https://letterboxd.com/popcornideology/\n"
     ]
    },
    {
     "name": "stderr",
     "output_type": "stream",
     "text": [
      "Processing Users:  64%|██████▍   | 321/500 [4:43:46<2:20:16, 47.02s/it]"
     ]
    },
    {
     "name": "stdout",
     "output_type": "stream",
     "text": [
      "Scraping reviews for user: https://letterboxd.com/hooviesmovies/\n"
     ]
    },
    {
     "name": "stderr",
     "output_type": "stream",
     "text": [
      "Processing Users:  64%|██████▍   | 322/500 [4:44:30<2:16:34, 46.04s/it]"
     ]
    },
    {
     "name": "stdout",
     "output_type": "stream",
     "text": [
      "Scraping reviews for user: https://letterboxd.com/subsahaaron/\n"
     ]
    },
    {
     "name": "stderr",
     "output_type": "stream",
     "text": [
      "Processing Users:  65%|██████▍   | 323/500 [4:45:38<2:35:28, 52.70s/it]"
     ]
    },
    {
     "name": "stdout",
     "output_type": "stream",
     "text": [
      "Scraping reviews for user: https://letterboxd.com/dreamscape40/\n"
     ]
    },
    {
     "name": "stderr",
     "output_type": "stream",
     "text": [
      "Processing Users:  65%|██████▍   | 324/500 [4:46:24<2:28:55, 50.77s/it]"
     ]
    },
    {
     "name": "stdout",
     "output_type": "stream",
     "text": [
      "Scraping reviews for user: https://letterboxd.com/jah776/\n"
     ]
    },
    {
     "name": "stderr",
     "output_type": "stream",
     "text": [
      "Processing Users:  65%|██████▌   | 325/500 [4:47:23<2:34:51, 53.10s/it]"
     ]
    },
    {
     "name": "stdout",
     "output_type": "stream",
     "text": [
      "Scraping reviews for user: https://letterboxd.com/shutupmikeginn/\n"
     ]
    },
    {
     "name": "stderr",
     "output_type": "stream",
     "text": [
      "Processing Users:  65%|██████▌   | 326/500 [4:48:06<2:25:26, 50.15s/it]"
     ]
    },
    {
     "name": "stdout",
     "output_type": "stream",
     "text": [
      "Scraping reviews for user: https://letterboxd.com/dumbsville/\n"
     ]
    },
    {
     "name": "stderr",
     "output_type": "stream",
     "text": [
      "Processing Users:  65%|██████▌   | 327/500 [4:48:50<2:19:02, 48.22s/it]"
     ]
    },
    {
     "name": "stdout",
     "output_type": "stream",
     "text": [
      "Scraping reviews for user: https://letterboxd.com/theblackphillip/\n"
     ]
    },
    {
     "name": "stderr",
     "output_type": "stream",
     "text": [
      "Processing Users:  66%|██████▌   | 328/500 [4:49:32<2:13:10, 46.46s/it]"
     ]
    },
    {
     "name": "stdout",
     "output_type": "stream",
     "text": [
      "Scraping reviews for user: https://letterboxd.com/oliviahockey/\n"
     ]
    },
    {
     "name": "stderr",
     "output_type": "stream",
     "text": [
      "Processing Users:  66%|██████▌   | 329/500 [4:50:19<2:12:41, 46.56s/it]"
     ]
    },
    {
     "name": "stdout",
     "output_type": "stream",
     "text": [
      "Scraping reviews for user: https://letterboxd.com/samvanhallgren/\n"
     ]
    },
    {
     "name": "stderr",
     "output_type": "stream",
     "text": [
      "Processing Users:  66%|██████▌   | 330/500 [4:51:05<2:11:38, 46.46s/it]"
     ]
    },
    {
     "name": "stdout",
     "output_type": "stream",
     "text": [
      "Checkpoint saved to user_reviews_checkpoint.csv\n",
      "Scraping reviews for user: https://letterboxd.com/caityperrie/\n"
     ]
    },
    {
     "name": "stderr",
     "output_type": "stream",
     "text": [
      "Processing Users:  66%|██████▌   | 331/500 [4:51:51<2:10:31, 46.34s/it]"
     ]
    },
    {
     "name": "stdout",
     "output_type": "stream",
     "text": [
      "Scraping reviews for user: https://letterboxd.com/slig001/\n"
     ]
    },
    {
     "name": "stderr",
     "output_type": "stream",
     "text": [
      "Processing Users:  66%|██████▋   | 332/500 [4:52:43<2:14:06, 47.89s/it]"
     ]
    },
    {
     "name": "stdout",
     "output_type": "stream",
     "text": [
      "Scraping reviews for user: https://letterboxd.com/harinef/\n"
     ]
    },
    {
     "name": "stderr",
     "output_type": "stream",
     "text": [
      "Processing Users:  67%|██████▋   | 333/500 [4:54:06<2:43:00, 58.57s/it]"
     ]
    },
    {
     "name": "stdout",
     "output_type": "stream",
     "text": [
      "Timeout while loading page 15 for user https://letterboxd.com/harinef/\n",
      "Scraping reviews for user: https://letterboxd.com/balanders/\n"
     ]
    },
    {
     "name": "stderr",
     "output_type": "stream",
     "text": [
      "Processing Users:  67%|██████▋   | 334/500 [4:54:59<2:37:03, 56.77s/it]"
     ]
    },
    {
     "name": "stdout",
     "output_type": "stream",
     "text": [
      "Scraping reviews for user: https://letterboxd.com/gwenlikesfilm/\n"
     ]
    },
    {
     "name": "stderr",
     "output_type": "stream",
     "text": [
      "Processing Users:  67%|██████▋   | 335/500 [4:55:51<2:32:53, 55.60s/it]"
     ]
    },
    {
     "name": "stdout",
     "output_type": "stream",
     "text": [
      "Scraping reviews for user: https://letterboxd.com/filmsbi/\n"
     ]
    },
    {
     "name": "stderr",
     "output_type": "stream",
     "text": [
      "Processing Users:  67%|██████▋   | 336/500 [4:56:39<2:25:10, 53.11s/it]"
     ]
    },
    {
     "name": "stdout",
     "output_type": "stream",
     "text": [
      "Scraping reviews for user: https://letterboxd.com/flynnslicker/\n"
     ]
    },
    {
     "name": "stderr",
     "output_type": "stream",
     "text": [
      "Processing Users:  67%|██████▋   | 337/500 [4:57:01<1:59:29, 43.98s/it]"
     ]
    },
    {
     "name": "stdout",
     "output_type": "stream",
     "text": [
      "Scraping reviews for user: https://letterboxd.com/josiahmorgan11/\n"
     ]
    },
    {
     "name": "stderr",
     "output_type": "stream",
     "text": [
      "Processing Users:  68%|██████▊   | 338/500 [5:00:30<4:11:50, 93.28s/it]"
     ]
    },
    {
     "name": "stdout",
     "output_type": "stream",
     "text": [
      "Scraping reviews for user: https://letterboxd.com/vinsim27/\n"
     ]
    },
    {
     "name": "stderr",
     "output_type": "stream",
     "text": [
      "Processing Users:  68%|██████▊   | 339/500 [5:01:13<3:29:47, 78.18s/it]"
     ]
    },
    {
     "name": "stdout",
     "output_type": "stream",
     "text": [
      "Scraping reviews for user: https://letterboxd.com/bobbywags/\n"
     ]
    },
    {
     "name": "stderr",
     "output_type": "stream",
     "text": [
      "Processing Users:  68%|██████▊   | 340/500 [5:01:56<3:00:27, 67.67s/it]"
     ]
    },
    {
     "name": "stdout",
     "output_type": "stream",
     "text": [
      "Checkpoint saved to user_reviews_checkpoint.csv\n",
      "Scraping reviews for user: https://letterboxd.com/stautis/\n"
     ]
    },
    {
     "name": "stderr",
     "output_type": "stream",
     "text": [
      "Processing Users:  68%|██████▊   | 341/500 [5:02:42<2:42:13, 61.22s/it]"
     ]
    },
    {
     "name": "stdout",
     "output_type": "stream",
     "text": [
      "Scraping reviews for user: https://letterboxd.com/thejacko/\n"
     ]
    },
    {
     "name": "stderr",
     "output_type": "stream",
     "text": [
      "Processing Users:  68%|██████▊   | 342/500 [5:03:27<2:28:06, 56.25s/it]"
     ]
    },
    {
     "name": "stdout",
     "output_type": "stream",
     "text": [
      "Scraping reviews for user: https://letterboxd.com/cobbb/\n"
     ]
    },
    {
     "name": "stderr",
     "output_type": "stream",
     "text": [
      "Processing Users:  69%|██████▊   | 343/500 [5:04:12<2:18:45, 53.03s/it]"
     ]
    },
    {
     "name": "stdout",
     "output_type": "stream",
     "text": [
      "Scraping reviews for user: https://letterboxd.com/ryangosling/\n"
     ]
    },
    {
     "name": "stderr",
     "output_type": "stream",
     "text": [
      "Processing Users:  69%|██████▉   | 344/500 [5:05:12<2:22:59, 55.00s/it]"
     ]
    },
    {
     "name": "stdout",
     "output_type": "stream",
     "text": [
      "Scraping reviews for user: https://letterboxd.com/caddicarus/\n"
     ]
    },
    {
     "name": "stderr",
     "output_type": "stream",
     "text": [
      "Processing Users:  69%|██████▉   | 345/500 [5:05:37<1:58:52, 46.02s/it]"
     ]
    },
    {
     "name": "stdout",
     "output_type": "stream",
     "text": [
      "Scraping reviews for user: https://letterboxd.com/kurstboy/\n"
     ]
    },
    {
     "name": "stderr",
     "output_type": "stream",
     "text": [
      "Processing Users:  69%|██████▉   | 346/500 [5:06:20<1:56:09, 45.26s/it]"
     ]
    },
    {
     "name": "stdout",
     "output_type": "stream",
     "text": [
      "Scraping reviews for user: https://letterboxd.com/deathproof/\n"
     ]
    },
    {
     "name": "stderr",
     "output_type": "stream",
     "text": [
      "Processing Users:  69%|██████▉   | 347/500 [5:07:10<1:58:45, 46.57s/it]"
     ]
    },
    {
     "name": "stdout",
     "output_type": "stream",
     "text": [
      "Scraping reviews for user: https://letterboxd.com/jay/\n"
     ]
    },
    {
     "name": "stderr",
     "output_type": "stream",
     "text": [
      "Processing Users:  70%|██████▉   | 348/500 [5:07:54<1:56:24, 45.95s/it]"
     ]
    },
    {
     "name": "stdout",
     "output_type": "stream",
     "text": [
      "Scraping reviews for user: https://letterboxd.com/schaffrillas/\n"
     ]
    },
    {
     "name": "stderr",
     "output_type": "stream",
     "text": [
      "Processing Users:  70%|██████▉   | 349/500 [5:08:37<1:52:51, 44.85s/it]"
     ]
    },
    {
     "name": "stdout",
     "output_type": "stream",
     "text": [
      "Scraping reviews for user: https://letterboxd.com/davidehrlich/\n"
     ]
    },
    {
     "name": "stderr",
     "output_type": "stream",
     "text": [
      "Processing Users:  70%|███████   | 350/500 [5:09:20<1:50:48, 44.32s/it]"
     ]
    },
    {
     "name": "stdout",
     "output_type": "stream",
     "text": [
      "Checkpoint saved to user_reviews_checkpoint.csv\n",
      "Scraping reviews for user: https://letterboxd.com/colintroy/\n"
     ]
    },
    {
     "name": "stderr",
     "output_type": "stream",
     "text": [
      "Processing Users:  70%|███████   | 351/500 [5:10:01<1:47:59, 43.49s/it]"
     ]
    },
    {
     "name": "stdout",
     "output_type": "stream",
     "text": [
      "Scraping reviews for user: https://letterboxd.com/followtheblind/\n"
     ]
    },
    {
     "name": "stderr",
     "output_type": "stream",
     "text": [
      "Processing Users:  70%|███████   | 352/500 [5:10:59<1:57:28, 47.63s/it]"
     ]
    },
    {
     "name": "stdout",
     "output_type": "stream",
     "text": [
      "Scraping reviews for user: https://letterboxd.com/heyitsvasili/\n"
     ]
    },
    {
     "name": "stderr",
     "output_type": "stream",
     "text": [
      "Processing Users:  71%|███████   | 353/500 [5:11:45<1:55:57, 47.33s/it]"
     ]
    },
    {
     "name": "stdout",
     "output_type": "stream",
     "text": [
      "Scraping reviews for user: https://letterboxd.com/angelicajade/\n"
     ]
    },
    {
     "name": "stderr",
     "output_type": "stream",
     "text": [
      "Processing Users:  71%|███████   | 354/500 [5:12:40<2:00:51, 49.66s/it]"
     ]
    },
    {
     "name": "stdout",
     "output_type": "stream",
     "text": [
      "Scraping reviews for user: https://letterboxd.com/leschroeck/\n"
     ]
    },
    {
     "name": "stderr",
     "output_type": "stream",
     "text": [
      "Processing Users:  71%|███████   | 355/500 [5:13:22<1:54:25, 47.35s/it]"
     ]
    },
    {
     "name": "stdout",
     "output_type": "stream",
     "text": [
      "Scraping reviews for user: https://letterboxd.com/ultimateparker/\n"
     ]
    },
    {
     "name": "stderr",
     "output_type": "stream",
     "text": [
      "Processing Users:  71%|███████   | 356/500 [5:14:08<1:52:23, 46.83s/it]"
     ]
    },
    {
     "name": "stdout",
     "output_type": "stream",
     "text": [
      "Scraping reviews for user: https://letterboxd.com/mank/\n"
     ]
    },
    {
     "name": "stderr",
     "output_type": "stream",
     "text": [
      "Processing Users:  71%|███████▏  | 357/500 [5:14:51<1:49:04, 45.77s/it]"
     ]
    },
    {
     "name": "stdout",
     "output_type": "stream",
     "text": [
      "Scraping reviews for user: https://letterboxd.com/amandaayoung/\n"
     ]
    },
    {
     "name": "stderr",
     "output_type": "stream",
     "text": [
      "Processing Users:  72%|███████▏  | 358/500 [5:15:35<1:46:43, 45.10s/it]"
     ]
    },
    {
     "name": "stdout",
     "output_type": "stream",
     "text": [
      "Scraping reviews for user: https://letterboxd.com/sarahsquirm/\n"
     ]
    },
    {
     "name": "stderr",
     "output_type": "stream",
     "text": [
      "Processing Users:  72%|███████▏  | 359/500 [5:17:32<2:36:32, 66.62s/it]"
     ]
    },
    {
     "name": "stdout",
     "output_type": "stream",
     "text": [
      "Scraping reviews for user: https://letterboxd.com/lesaladino/\n"
     ]
    },
    {
     "name": "stderr",
     "output_type": "stream",
     "text": [
      "Processing Users:  72%|███████▏  | 360/500 [5:18:15<2:18:54, 59.53s/it]"
     ]
    },
    {
     "name": "stdout",
     "output_type": "stream",
     "text": [
      "Checkpoint saved to user_reviews_checkpoint.csv\n",
      "Scraping reviews for user: https://letterboxd.com/phoebejl/\n"
     ]
    },
    {
     "name": "stderr",
     "output_type": "stream",
     "text": [
      "Processing Users:  72%|███████▏  | 361/500 [5:18:58<2:06:46, 54.72s/it]"
     ]
    },
    {
     "name": "stdout",
     "output_type": "stream",
     "text": [
      "Scraping reviews for user: https://letterboxd.com/colinandrews/\n"
     ]
    },
    {
     "name": "stderr",
     "output_type": "stream",
     "text": [
      "Processing Users:  72%|███████▏  | 362/500 [5:19:37<1:55:14, 50.11s/it]"
     ]
    },
    {
     "name": "stdout",
     "output_type": "stream",
     "text": [
      "Scraping reviews for user: https://letterboxd.com/owenpatnaude/\n"
     ]
    },
    {
     "name": "stderr",
     "output_type": "stream",
     "text": [
      "Processing Users:  73%|███████▎  | 363/500 [5:20:22<1:50:19, 48.31s/it]"
     ]
    },
    {
     "name": "stdout",
     "output_type": "stream",
     "text": [
      "Scraping reviews for user: https://letterboxd.com/syaoran/\n"
     ]
    },
    {
     "name": "stderr",
     "output_type": "stream",
     "text": [
      "Processing Users:  73%|███████▎  | 364/500 [5:21:01<1:43:41, 45.75s/it]"
     ]
    },
    {
     "name": "stdout",
     "output_type": "stream",
     "text": [
      "Scraping reviews for user: https://letterboxd.com/wizardchurch/\n"
     ]
    },
    {
     "name": "stderr",
     "output_type": "stream",
     "text": [
      "Processing Users:  73%|███████▎  | 365/500 [5:21:54<1:47:34, 47.81s/it]"
     ]
    },
    {
     "name": "stdout",
     "output_type": "stream",
     "text": [
      "Scraping reviews for user: https://letterboxd.com/nolanscheetz/\n"
     ]
    },
    {
     "name": "stderr",
     "output_type": "stream",
     "text": [
      "Processing Users:  73%|███████▎  | 366/500 [5:22:36<1:43:07, 46.18s/it]"
     ]
    },
    {
     "name": "stdout",
     "output_type": "stream",
     "text": [
      "Scraping reviews for user: https://letterboxd.com/benmatthewempey/\n"
     ]
    },
    {
     "name": "stderr",
     "output_type": "stream",
     "text": [
      "Processing Users:  73%|███████▎  | 367/500 [5:23:20<1:40:41, 45.42s/it]"
     ]
    },
    {
     "name": "stdout",
     "output_type": "stream",
     "text": [
      "Scraping reviews for user: https://letterboxd.com/drlemon/\n"
     ]
    },
    {
     "name": "stderr",
     "output_type": "stream",
     "text": [
      "Processing Users:  74%|███████▎  | 368/500 [5:24:05<1:39:46, 45.35s/it]"
     ]
    },
    {
     "name": "stdout",
     "output_type": "stream",
     "text": [
      "Scraping reviews for user: https://letterboxd.com/girlactress/\n"
     ]
    },
    {
     "name": "stderr",
     "output_type": "stream",
     "text": [
      "Processing Users:  74%|███████▍  | 369/500 [5:24:35<1:28:49, 40.68s/it]"
     ]
    },
    {
     "name": "stdout",
     "output_type": "stream",
     "text": [
      "Timeout while loading page 5 for user https://letterboxd.com/girlactress/\n",
      "Scraping reviews for user: https://letterboxd.com/zachpopereviews/\n"
     ]
    },
    {
     "name": "stderr",
     "output_type": "stream",
     "text": [
      "Processing Users:  74%|███████▍  | 370/500 [5:25:20<1:30:43, 41.87s/it]"
     ]
    },
    {
     "name": "stdout",
     "output_type": "stream",
     "text": [
      "Checkpoint saved to user_reviews_checkpoint.csv\n",
      "Scraping reviews for user: https://letterboxd.com/colinfirths/\n"
     ]
    },
    {
     "name": "stderr",
     "output_type": "stream",
     "text": [
      "Processing Users:  74%|███████▍  | 371/500 [5:26:00<1:29:08, 41.46s/it]"
     ]
    },
    {
     "name": "stdout",
     "output_type": "stream",
     "text": [
      "Scraping reviews for user: https://letterboxd.com/tediously_brief/\n"
     ]
    },
    {
     "name": "stderr",
     "output_type": "stream",
     "text": [
      "Processing Users:  74%|███████▍  | 372/500 [5:27:17<1:51:16, 52.16s/it]"
     ]
    },
    {
     "name": "stdout",
     "output_type": "stream",
     "text": [
      "Scraping reviews for user: https://letterboxd.com/supremelemon/\n"
     ]
    },
    {
     "name": "stderr",
     "output_type": "stream",
     "text": [
      "Processing Users:  75%|███████▍  | 373/500 [5:27:57<1:42:37, 48.48s/it]"
     ]
    },
    {
     "name": "stdout",
     "output_type": "stream",
     "text": [
      "Scraping reviews for user: https://letterboxd.com/gremlita/\n"
     ]
    },
    {
     "name": "stderr",
     "output_type": "stream",
     "text": [
      "Processing Users:  75%|███████▍  | 374/500 [5:29:54<2:25:10, 69.13s/it]"
     ]
    },
    {
     "name": "stdout",
     "output_type": "stream",
     "text": [
      "Timeout while loading page 23 for user https://letterboxd.com/gremlita/\n",
      "Scraping reviews for user: https://letterboxd.com/mariamicia13/\n"
     ]
    },
    {
     "name": "stderr",
     "output_type": "stream",
     "text": [
      "Processing Users:  75%|███████▌  | 375/500 [5:30:38<2:07:46, 61.33s/it]"
     ]
    },
    {
     "name": "stdout",
     "output_type": "stream",
     "text": [
      "Scraping reviews for user: https://letterboxd.com/gabbwoo/\n"
     ]
    },
    {
     "name": "stderr",
     "output_type": "stream",
     "text": [
      "Processing Users:  75%|███████▌  | 376/500 [5:31:20<1:54:59, 55.64s/it]"
     ]
    },
    {
     "name": "stdout",
     "output_type": "stream",
     "text": [
      "Scraping reviews for user: https://letterboxd.com/cultureshocker/\n"
     ]
    },
    {
     "name": "stderr",
     "output_type": "stream",
     "text": [
      "Processing Users:  75%|███████▌  | 377/500 [5:32:07<1:48:33, 52.96s/it]"
     ]
    },
    {
     "name": "stdout",
     "output_type": "stream",
     "text": [
      "Scraping reviews for user: https://letterboxd.com/adrianam/\n"
     ]
    },
    {
     "name": "stderr",
     "output_type": "stream",
     "text": [
      "Processing Users:  76%|███████▌  | 378/500 [5:32:49<1:40:59, 49.67s/it]"
     ]
    },
    {
     "name": "stdout",
     "output_type": "stream",
     "text": [
      "Scraping reviews for user: https://letterboxd.com/darkestparadise/\n"
     ]
    },
    {
     "name": "stderr",
     "output_type": "stream",
     "text": [
      "Processing Users:  76%|███████▌  | 379/500 [5:33:32<1:36:37, 47.92s/it]"
     ]
    },
    {
     "name": "stdout",
     "output_type": "stream",
     "text": [
      "Scraping reviews for user: https://letterboxd.com/pudgymccabe/\n"
     ]
    },
    {
     "name": "stderr",
     "output_type": "stream",
     "text": [
      "Processing Users:  76%|███████▌  | 380/500 [5:34:16<1:32:58, 46.49s/it]"
     ]
    },
    {
     "name": "stdout",
     "output_type": "stream",
     "text": [
      "Checkpoint saved to user_reviews_checkpoint.csv\n",
      "Scraping reviews for user: https://letterboxd.com/kurstboy/\n"
     ]
    },
    {
     "name": "stderr",
     "output_type": "stream",
     "text": [
      "Processing Users:  76%|███████▌  | 381/500 [5:34:58<1:29:33, 45.15s/it]"
     ]
    },
    {
     "name": "stdout",
     "output_type": "stream",
     "text": [
      "Scraping reviews for user: https://letterboxd.com/deathproof/\n"
     ]
    },
    {
     "name": "stderr",
     "output_type": "stream",
     "text": [
      "Processing Users:  76%|███████▋  | 382/500 [5:35:46<1:30:25, 45.97s/it]"
     ]
    },
    {
     "name": "stdout",
     "output_type": "stream",
     "text": [
      "Scraping reviews for user: https://letterboxd.com/jay/\n"
     ]
    },
    {
     "name": "stderr",
     "output_type": "stream",
     "text": [
      "Processing Users:  77%|███████▋  | 383/500 [5:36:27<1:27:16, 44.75s/it]"
     ]
    },
    {
     "name": "stdout",
     "output_type": "stream",
     "text": [
      "Scraping reviews for user: https://letterboxd.com/schaffrillas/\n"
     ]
    },
    {
     "name": "stderr",
     "output_type": "stream",
     "text": [
      "Processing Users:  77%|███████▋  | 384/500 [5:37:08<1:23:55, 43.41s/it]"
     ]
    },
    {
     "name": "stdout",
     "output_type": "stream",
     "text": [
      "Scraping reviews for user: https://letterboxd.com/davidehrlich/\n"
     ]
    },
    {
     "name": "stderr",
     "output_type": "stream",
     "text": [
      "Processing Users:  77%|███████▋  | 385/500 [5:37:48<1:21:17, 42.42s/it]"
     ]
    },
    {
     "name": "stdout",
     "output_type": "stream",
     "text": [
      "Scraping reviews for user: https://letterboxd.com/jrwhite/\n"
     ]
    },
    {
     "name": "stderr",
     "output_type": "stream",
     "text": [
      "Processing Users:  77%|███████▋  | 386/500 [5:38:31<1:20:55, 42.59s/it]"
     ]
    },
    {
     "name": "stdout",
     "output_type": "stream",
     "text": [
      "Scraping reviews for user: https://letterboxd.com/katiewalshstx/\n"
     ]
    },
    {
     "name": "stderr",
     "output_type": "stream",
     "text": [
      "Processing Users:  77%|███████▋  | 387/500 [5:45:47<5:02:43, 160.74s/it]"
     ]
    },
    {
     "name": "stdout",
     "output_type": "stream",
     "text": [
      "Scraping reviews for user: https://letterboxd.com/shrek4underated/\n"
     ]
    },
    {
     "name": "stderr",
     "output_type": "stream",
     "text": [
      "Processing Users:  78%|███████▊  | 388/500 [5:46:27<3:52:20, 124.47s/it]"
     ]
    },
    {
     "name": "stdout",
     "output_type": "stream",
     "text": [
      "Scraping reviews for user: https://letterboxd.com/itsdrewclark/\n"
     ]
    },
    {
     "name": "stderr",
     "output_type": "stream",
     "text": [
      "Processing Users:  78%|███████▊  | 389/500 [5:47:10<3:05:16, 100.14s/it]"
     ]
    },
    {
     "name": "stdout",
     "output_type": "stream",
     "text": [
      "Scraping reviews for user: https://letterboxd.com/tuoto/\n"
     ]
    },
    {
     "name": "stderr",
     "output_type": "stream",
     "text": [
      "Processing Users:  78%|███████▊  | 390/500 [5:47:51<2:30:38, 82.17s/it] "
     ]
    },
    {
     "name": "stdout",
     "output_type": "stream",
     "text": [
      "Checkpoint saved to user_reviews_checkpoint.csv\n",
      "Scraping reviews for user: https://letterboxd.com/rosamundpike/\n"
     ]
    },
    {
     "name": "stderr",
     "output_type": "stream",
     "text": [
      "Processing Users:  78%|███████▊  | 391/500 [5:48:33<2:07:39, 70.28s/it]"
     ]
    },
    {
     "name": "stdout",
     "output_type": "stream",
     "text": [
      "Scraping reviews for user: https://letterboxd.com/scotttobias/\n"
     ]
    },
    {
     "name": "stderr",
     "output_type": "stream",
     "text": [
      "Processing Users:  78%|███████▊  | 392/500 [5:49:12<1:49:34, 60.87s/it]"
     ]
    },
    {
     "name": "stdout",
     "output_type": "stream",
     "text": [
      "Scraping reviews for user: https://letterboxd.com/quantumpotpie/\n"
     ]
    },
    {
     "name": "stderr",
     "output_type": "stream",
     "text": [
      "Processing Users:  79%|███████▊  | 393/500 [5:49:58<1:40:36, 56.41s/it]"
     ]
    },
    {
     "name": "stdout",
     "output_type": "stream",
     "text": [
      "Scraping reviews for user: https://letterboxd.com/starrysunflower/\n"
     ]
    },
    {
     "name": "stderr",
     "output_type": "stream",
     "text": [
      "Processing Users:  79%|███████▉  | 394/500 [5:50:40<1:31:59, 52.07s/it]"
     ]
    },
    {
     "name": "stdout",
     "output_type": "stream",
     "text": [
      "Scraping reviews for user: https://letterboxd.com/jimmycthatsme/\n"
     ]
    },
    {
     "name": "stderr",
     "output_type": "stream",
     "text": [
      "Processing Users:  79%|███████▉  | 395/500 [5:51:38<1:34:14, 53.85s/it]"
     ]
    },
    {
     "name": "stdout",
     "output_type": "stream",
     "text": [
      "Timeout while loading page 11 for user https://letterboxd.com/jimmycthatsme/\n",
      "Scraping reviews for user: https://letterboxd.com/othavio232/\n"
     ]
    },
    {
     "name": "stderr",
     "output_type": "stream",
     "text": [
      "Processing Users:  79%|███████▉  | 396/500 [5:52:54<1:44:34, 60.33s/it]"
     ]
    },
    {
     "name": "stdout",
     "output_type": "stream",
     "text": [
      "Scraping reviews for user: https://letterboxd.com/kennedylizrose/\n"
     ]
    },
    {
     "name": "stderr",
     "output_type": "stream",
     "text": [
      "Processing Users:  79%|███████▉  | 397/500 [5:53:35<1:34:03, 54.79s/it]"
     ]
    },
    {
     "name": "stdout",
     "output_type": "stream",
     "text": [
      "Scraping reviews for user: https://letterboxd.com/cilliansheart/\n"
     ]
    },
    {
     "name": "stderr",
     "output_type": "stream",
     "text": [
      "Processing Users:  80%|███████▉  | 398/500 [5:54:18<1:26:48, 51.07s/it]"
     ]
    },
    {
     "name": "stdout",
     "output_type": "stream",
     "text": [
      "Scraping reviews for user: https://letterboxd.com/bertz/\n"
     ]
    },
    {
     "name": "stderr",
     "output_type": "stream",
     "text": [
      "Processing Users:  80%|███████▉  | 399/500 [5:55:15<1:28:55, 52.83s/it]"
     ]
    },
    {
     "name": "stdout",
     "output_type": "stream",
     "text": [
      "Scraping reviews for user: https://letterboxd.com/whyandre/\n"
     ]
    },
    {
     "name": "stderr",
     "output_type": "stream",
     "text": [
      "Processing Users:  80%|████████  | 400/500 [5:55:58<1:23:06, 49.86s/it]"
     ]
    },
    {
     "name": "stdout",
     "output_type": "stream",
     "text": [
      "Checkpoint saved to user_reviews_checkpoint.csv\n",
      "Scraping reviews for user: https://letterboxd.com/hongweikai/\n"
     ]
    },
    {
     "name": "stderr",
     "output_type": "stream",
     "text": [
      "Processing Users:  80%|████████  | 401/500 [5:56:36<1:16:31, 46.37s/it]"
     ]
    },
    {
     "name": "stdout",
     "output_type": "stream",
     "text": [
      "Scraping reviews for user: https://letterboxd.com/diogoserafim/\n"
     ]
    },
    {
     "name": "stderr",
     "output_type": "stream",
     "text": [
      "Processing Users:  80%|████████  | 402/500 [5:57:15<1:11:58, 44.06s/it]"
     ]
    },
    {
     "name": "stdout",
     "output_type": "stream",
     "text": [
      "Scraping reviews for user: https://letterboxd.com/mi_m0/\n"
     ]
    },
    {
     "name": "stderr",
     "output_type": "stream",
     "text": [
      "Processing Users:  81%|████████  | 403/500 [5:57:59<1:11:18, 44.10s/it]"
     ]
    },
    {
     "name": "stdout",
     "output_type": "stream",
     "text": [
      "Scraping reviews for user: https://letterboxd.com/gracespelman/\n"
     ]
    },
    {
     "name": "stderr",
     "output_type": "stream",
     "text": [
      "Processing Users:  81%|████████  | 404/500 [5:58:40<1:09:09, 43.23s/it]"
     ]
    },
    {
     "name": "stdout",
     "output_type": "stream",
     "text": [
      "Scraping reviews for user: https://letterboxd.com/naughty/\n"
     ]
    },
    {
     "name": "stderr",
     "output_type": "stream",
     "text": [
      "Processing Users:  81%|████████  | 405/500 [5:59:24<1:08:59, 43.57s/it]"
     ]
    },
    {
     "name": "stdout",
     "output_type": "stream",
     "text": [
      "Scraping reviews for user: https://letterboxd.com/ralfmakesmovies/\n"
     ]
    },
    {
     "name": "stderr",
     "output_type": "stream",
     "text": [
      "Processing Users:  81%|████████  | 406/500 [5:59:54<1:01:33, 39.29s/it]"
     ]
    },
    {
     "name": "stdout",
     "output_type": "stream",
     "text": [
      "Timeout while loading page 5 for user https://letterboxd.com/ralfmakesmovies/\n",
      "Scraping reviews for user: https://letterboxd.com/vegto389/\n"
     ]
    },
    {
     "name": "stderr",
     "output_type": "stream",
     "text": [
      "Processing Users:  81%|████████▏ | 407/500 [6:00:38<1:03:13, 40.79s/it]"
     ]
    },
    {
     "name": "stdout",
     "output_type": "stream",
     "text": [
      "Scraping reviews for user: https://letterboxd.com/rdaniel55/\n"
     ]
    },
    {
     "name": "stderr",
     "output_type": "stream",
     "text": [
      "Processing Users:  82%|████████▏ | 408/500 [6:01:21<1:03:42, 41.54s/it]"
     ]
    },
    {
     "name": "stdout",
     "output_type": "stream",
     "text": [
      "Scraping reviews for user: https://letterboxd.com/missflo/\n"
     ]
    },
    {
     "name": "stderr",
     "output_type": "stream",
     "text": [
      "Processing Users:  82%|████████▏ | 409/500 [6:02:06<1:04:20, 42.42s/it]"
     ]
    },
    {
     "name": "stdout",
     "output_type": "stream",
     "text": [
      "Scraping reviews for user: https://letterboxd.com/oppenmommy/\n"
     ]
    },
    {
     "name": "stderr",
     "output_type": "stream",
     "text": [
      "Processing Users:  82%|████████▏ | 410/500 [6:02:56<1:07:10, 44.78s/it]"
     ]
    },
    {
     "name": "stdout",
     "output_type": "stream",
     "text": [
      "Checkpoint saved to user_reviews_checkpoint.csv\n",
      "Scraping reviews for user: https://letterboxd.com/sakana1/\n"
     ]
    },
    {
     "name": "stderr",
     "output_type": "stream",
     "text": [
      "Processing Users:  82%|████████▏ | 411/500 [6:03:44<1:07:52, 45.76s/it]"
     ]
    },
    {
     "name": "stdout",
     "output_type": "stream",
     "text": [
      "Scraping reviews for user: https://letterboxd.com/julps2/\n"
     ]
    },
    {
     "name": "stderr",
     "output_type": "stream",
     "text": [
      "Processing Users:  82%|████████▏ | 412/500 [6:04:26<1:05:31, 44.68s/it]"
     ]
    },
    {
     "name": "stdout",
     "output_type": "stream",
     "text": [
      "Scraping reviews for user: https://letterboxd.com/advokate/\n"
     ]
    },
    {
     "name": "stderr",
     "output_type": "stream",
     "text": [
      "Processing Users:  83%|████████▎ | 413/500 [6:05:10<1:04:25, 44.43s/it]"
     ]
    },
    {
     "name": "stdout",
     "output_type": "stream",
     "text": [
      "Scraping reviews for user: https://letterboxd.com/scumbalina/\n"
     ]
    },
    {
     "name": "stderr",
     "output_type": "stream",
     "text": [
      "Processing Users:  83%|████████▎ | 414/500 [6:06:03<1:07:16, 46.93s/it]"
     ]
    },
    {
     "name": "stdout",
     "output_type": "stream",
     "text": [
      "Scraping reviews for user: https://letterboxd.com/miag0th/\n"
     ]
    },
    {
     "name": "stderr",
     "output_type": "stream",
     "text": [
      "Processing Users:  83%|████████▎ | 415/500 [6:06:50<1:06:38, 47.05s/it]"
     ]
    },
    {
     "name": "stdout",
     "output_type": "stream",
     "text": [
      "Scraping reviews for user: https://letterboxd.com/kurstboy/\n"
     ]
    },
    {
     "name": "stderr",
     "output_type": "stream",
     "text": [
      "Processing Users:  83%|████████▎ | 416/500 [6:07:33<1:03:57, 45.68s/it]"
     ]
    },
    {
     "name": "stdout",
     "output_type": "stream",
     "text": [
      "Scraping reviews for user: https://letterboxd.com/deathproof/\n"
     ]
    },
    {
     "name": "stderr",
     "output_type": "stream",
     "text": [
      "Processing Users:  83%|████████▎ | 417/500 [6:08:20<1:04:01, 46.29s/it]"
     ]
    },
    {
     "name": "stdout",
     "output_type": "stream",
     "text": [
      "Scraping reviews for user: https://letterboxd.com/jay/\n"
     ]
    },
    {
     "name": "stderr",
     "output_type": "stream",
     "text": [
      "Processing Users:  84%|████████▎ | 418/500 [6:09:02<1:01:28, 44.98s/it]"
     ]
    },
    {
     "name": "stdout",
     "output_type": "stream",
     "text": [
      "Scraping reviews for user: https://letterboxd.com/schaffrillas/\n"
     ]
    },
    {
     "name": "stderr",
     "output_type": "stream",
     "text": [
      "Processing Users:  84%|████████▍ | 419/500 [6:09:42<58:36, 43.41s/it]  "
     ]
    },
    {
     "name": "stdout",
     "output_type": "stream",
     "text": [
      "Scraping reviews for user: https://letterboxd.com/davidehrlich/\n"
     ]
    },
    {
     "name": "stderr",
     "output_type": "stream",
     "text": [
      "Processing Users:  84%|████████▍ | 420/500 [6:10:24<57:20, 43.00s/it]"
     ]
    },
    {
     "name": "stdout",
     "output_type": "stream",
     "text": [
      "Checkpoint saved to user_reviews_checkpoint.csv\n",
      "Scraping reviews for user: https://letterboxd.com/jupinwhm/\n"
     ]
    },
    {
     "name": "stderr",
     "output_type": "stream",
     "text": [
      "Processing Users:  84%|████████▍ | 421/500 [6:11:07<56:31, 42.94s/it]"
     ]
    },
    {
     "name": "stdout",
     "output_type": "stream",
     "text": [
      "Scraping reviews for user: https://letterboxd.com/ahbr/\n"
     ]
    },
    {
     "name": "stderr",
     "output_type": "stream",
     "text": [
      "Processing Users:  84%|████████▍ | 422/500 [6:11:58<58:52, 45.28s/it]"
     ]
    },
    {
     "name": "stdout",
     "output_type": "stream",
     "text": [
      "Scraping reviews for user: https://letterboxd.com/leahp22/\n"
     ]
    },
    {
     "name": "stderr",
     "output_type": "stream",
     "text": [
      "Processing Users:  85%|████████▍ | 423/500 [6:12:38<56:16, 43.86s/it]"
     ]
    },
    {
     "name": "stdout",
     "output_type": "stream",
     "text": [
      "Scraping reviews for user: https://letterboxd.com/steventhomas/\n"
     ]
    },
    {
     "name": "stderr",
     "output_type": "stream",
     "text": [
      "Processing Users:  85%|████████▍ | 424/500 [6:13:24<56:27, 44.58s/it]"
     ]
    },
    {
     "name": "stdout",
     "output_type": "stream",
     "text": [
      "Scraping reviews for user: https://letterboxd.com/cameronkanachki/\n"
     ]
    },
    {
     "name": "stderr",
     "output_type": "stream",
     "text": [
      "Processing Users:  85%|████████▌ | 425/500 [6:14:05<54:22, 43.49s/it]"
     ]
    },
    {
     "name": "stdout",
     "output_type": "stream",
     "text": [
      "Scraping reviews for user: https://letterboxd.com/ladieswholunch/\n"
     ]
    },
    {
     "name": "stderr",
     "output_type": "stream",
     "text": [
      "Processing Users:  85%|████████▌ | 426/500 [6:14:48<53:31, 43.40s/it]"
     ]
    },
    {
     "name": "stdout",
     "output_type": "stream",
     "text": [
      "Scraping reviews for user: https://letterboxd.com/alexcolemann/\n"
     ]
    },
    {
     "name": "stderr",
     "output_type": "stream",
     "text": [
      "Processing Users:  85%|████████▌ | 427/500 [6:15:30<52:03, 42.78s/it]"
     ]
    },
    {
     "name": "stdout",
     "output_type": "stream",
     "text": [
      "Timeout while loading page 8 for user https://letterboxd.com/alexcolemann/\n",
      "Scraping reviews for user: https://letterboxd.com/ashonfilm/\n"
     ]
    },
    {
     "name": "stderr",
     "output_type": "stream",
     "text": [
      "Processing Users:  86%|████████▌ | 428/500 [6:16:13<51:21, 42.80s/it]"
     ]
    },
    {
     "name": "stdout",
     "output_type": "stream",
     "text": [
      "Scraping reviews for user: https://letterboxd.com/oliviaolive/\n"
     ]
    },
    {
     "name": "stderr",
     "output_type": "stream",
     "text": [
      "Processing Users:  86%|████████▌ | 429/500 [6:16:55<50:20, 42.54s/it]"
     ]
    },
    {
     "name": "stdout",
     "output_type": "stream",
     "text": [
      "Scraping reviews for user: https://letterboxd.com/milkbbi/\n"
     ]
    },
    {
     "name": "stderr",
     "output_type": "stream",
     "text": [
      "Processing Users:  86%|████████▌ | 430/500 [6:17:35<48:52, 41.89s/it]"
     ]
    },
    {
     "name": "stdout",
     "output_type": "stream",
     "text": [
      "Checkpoint saved to user_reviews_checkpoint.csv\n",
      "Scraping reviews for user: https://letterboxd.com/markmooney/\n"
     ]
    },
    {
     "name": "stderr",
     "output_type": "stream",
     "text": [
      "Processing Users:  86%|████████▌ | 431/500 [6:18:17<48:13, 41.94s/it]"
     ]
    },
    {
     "name": "stdout",
     "output_type": "stream",
     "text": [
      "Scraping reviews for user: https://letterboxd.com/jamesbong/\n"
     ]
    },
    {
     "name": "stderr",
     "output_type": "stream",
     "text": [
      "Processing Users:  86%|████████▋ | 432/500 [6:19:04<49:07, 43.34s/it]"
     ]
    },
    {
     "name": "stdout",
     "output_type": "stream",
     "text": [
      "Scraping reviews for user: https://letterboxd.com/filmspotting/\n"
     ]
    },
    {
     "name": "stderr",
     "output_type": "stream",
     "text": [
      "Processing Users:  87%|████████▋ | 433/500 [6:19:45<47:46, 42.78s/it]"
     ]
    },
    {
     "name": "stdout",
     "output_type": "stream",
     "text": [
      "Scraping reviews for user: https://letterboxd.com/voyage1969/\n"
     ]
    },
    {
     "name": "stderr",
     "output_type": "stream",
     "text": [
      "Processing Users:  87%|████████▋ | 434/500 [6:20:32<48:28, 44.07s/it]"
     ]
    },
    {
     "name": "stdout",
     "output_type": "stream",
     "text": [
      "Scraping reviews for user: https://letterboxd.com/sofiaboutellas/\n"
     ]
    },
    {
     "name": "stderr",
     "output_type": "stream",
     "text": [
      "Processing Users:  87%|████████▋ | 435/500 [6:21:25<50:26, 46.56s/it]"
     ]
    },
    {
     "name": "stdout",
     "output_type": "stream",
     "text": [
      "Scraping reviews for user: https://letterboxd.com/jackstobart/\n"
     ]
    },
    {
     "name": "stderr",
     "output_type": "stream",
     "text": [
      "Processing Users:  87%|████████▋ | 436/500 [6:29:26<3:08:58, 177.16s/it]"
     ]
    },
    {
     "name": "stdout",
     "output_type": "stream",
     "text": [
      "Timeout while loading page 91 for user https://letterboxd.com/jackstobart/\n",
      "Scraping reviews for user: https://letterboxd.com/alimovieguy726/\n"
     ]
    },
    {
     "name": "stderr",
     "output_type": "stream",
     "text": [
      "Processing Users:  87%|████████▋ | 437/500 [6:30:15<2:25:29, 138.57s/it]"
     ]
    },
    {
     "name": "stdout",
     "output_type": "stream",
     "text": [
      "Scraping reviews for user: https://letterboxd.com/cinefan27/\n"
     ]
    },
    {
     "name": "stderr",
     "output_type": "stream",
     "text": [
      "Processing Users:  88%|████████▊ | 438/500 [6:30:59<1:53:49, 110.15s/it]"
     ]
    },
    {
     "name": "stdout",
     "output_type": "stream",
     "text": [
      "Scraping reviews for user: https://letterboxd.com/varghese_no1/\n"
     ]
    },
    {
     "name": "stderr",
     "output_type": "stream",
     "text": [
      "Processing Users:  88%|████████▊ | 439/500 [6:32:32<1:46:50, 105.08s/it]"
     ]
    },
    {
     "name": "stdout",
     "output_type": "stream",
     "text": [
      "Scraping reviews for user: https://letterboxd.com/juliareviewsqc/\n"
     ]
    },
    {
     "name": "stderr",
     "output_type": "stream",
     "text": [
      "Processing Users:  88%|████████▊ | 440/500 [6:33:22<1:28:29, 88.48s/it] "
     ]
    },
    {
     "name": "stdout",
     "output_type": "stream",
     "text": [
      "Checkpoint saved to user_reviews_checkpoint.csv\n",
      "Scraping reviews for user: https://letterboxd.com/dialnfornick/\n"
     ]
    },
    {
     "name": "stderr",
     "output_type": "stream",
     "text": [
      "Processing Users:  88%|████████▊ | 441/500 [6:34:05<1:13:47, 75.04s/it]"
     ]
    },
    {
     "name": "stdout",
     "output_type": "stream",
     "text": [
      "Scraping reviews for user: https://letterboxd.com/michaelhaneke/\n"
     ]
    },
    {
     "name": "stderr",
     "output_type": "stream",
     "text": [
      "Processing Users:  88%|████████▊ | 442/500 [6:34:50<1:03:42, 65.90s/it]"
     ]
    },
    {
     "name": "stdout",
     "output_type": "stream",
     "text": [
      "Scraping reviews for user: https://letterboxd.com/lifeasfiction/\n"
     ]
    },
    {
     "name": "stderr",
     "output_type": "stream",
     "text": [
      "Processing Users:  89%|████████▊ | 443/500 [6:35:31<55:33, 58.48s/it]  "
     ]
    },
    {
     "name": "stdout",
     "output_type": "stream",
     "text": [
      "Scraping reviews for user: https://letterboxd.com/marcissus/\n"
     ]
    },
    {
     "name": "stderr",
     "output_type": "stream",
     "text": [
      "Processing Users:  89%|████████▉ | 444/500 [6:36:10<48:56, 52.43s/it]"
     ]
    },
    {
     "name": "stdout",
     "output_type": "stream",
     "text": [
      "Scraping reviews for user: https://letterboxd.com/patricksproull/\n"
     ]
    },
    {
     "name": "stderr",
     "output_type": "stream",
     "text": [
      "Processing Users:  89%|████████▉ | 445/500 [6:36:51<44:57, 49.05s/it]"
     ]
    },
    {
     "name": "stdout",
     "output_type": "stream",
     "text": [
      "Scraping reviews for user: https://letterboxd.com/damsavies/\n"
     ]
    },
    {
     "name": "stderr",
     "output_type": "stream",
     "text": [
      "Processing Users:  89%|████████▉ | 446/500 [6:37:31<41:53, 46.55s/it]"
     ]
    },
    {
     "name": "stdout",
     "output_type": "stream",
     "text": [
      "Scraping reviews for user: https://letterboxd.com/jizzmonkey/\n"
     ]
    },
    {
     "name": "stderr",
     "output_type": "stream",
     "text": [
      "Processing Users:  89%|████████▉ | 447/500 [6:38:10<38:57, 44.11s/it]"
     ]
    },
    {
     "name": "stdout",
     "output_type": "stream",
     "text": [
      "Scraping reviews for user: https://letterboxd.com/psychopike/\n"
     ]
    },
    {
     "name": "stderr",
     "output_type": "stream",
     "text": [
      "Processing Users:  90%|████████▉ | 448/500 [6:39:05<41:01, 47.35s/it]"
     ]
    },
    {
     "name": "stdout",
     "output_type": "stream",
     "text": [
      "Scraping reviews for user: https://letterboxd.com/carleythorne/\n"
     ]
    },
    {
     "name": "stderr",
     "output_type": "stream",
     "text": [
      "Processing Users:  90%|████████▉ | 449/500 [6:39:43<37:55, 44.63s/it]"
     ]
    },
    {
     "name": "stdout",
     "output_type": "stream",
     "text": [
      "Scraping reviews for user: https://letterboxd.com/filmexpress/\n"
     ]
    },
    {
     "name": "stderr",
     "output_type": "stream",
     "text": [
      "Processing Users:  90%|█████████ | 450/500 [6:40:24<36:19, 43.58s/it]"
     ]
    },
    {
     "name": "stdout",
     "output_type": "stream",
     "text": [
      "Checkpoint saved to user_reviews_checkpoint.csv\n",
      "Scraping reviews for user: https://letterboxd.com/kurstboy/\n"
     ]
    },
    {
     "name": "stderr",
     "output_type": "stream",
     "text": [
      "Processing Users:  90%|█████████ | 451/500 [6:41:06<35:05, 42.98s/it]"
     ]
    },
    {
     "name": "stdout",
     "output_type": "stream",
     "text": [
      "Scraping reviews for user: https://letterboxd.com/deathproof/\n"
     ]
    },
    {
     "name": "stderr",
     "output_type": "stream",
     "text": [
      "Processing Users:  90%|█████████ | 452/500 [6:41:54<35:35, 44.48s/it]"
     ]
    },
    {
     "name": "stdout",
     "output_type": "stream",
     "text": [
      "Scraping reviews for user: https://letterboxd.com/jay/\n"
     ]
    },
    {
     "name": "stderr",
     "output_type": "stream",
     "text": [
      "Processing Users:  91%|█████████ | 453/500 [6:42:36<34:22, 43.89s/it]"
     ]
    },
    {
     "name": "stdout",
     "output_type": "stream",
     "text": [
      "Scraping reviews for user: https://letterboxd.com/schaffrillas/\n"
     ]
    },
    {
     "name": "stderr",
     "output_type": "stream",
     "text": [
      "Processing Users:  91%|█████████ | 454/500 [6:43:15<32:25, 42.29s/it]"
     ]
    },
    {
     "name": "stdout",
     "output_type": "stream",
     "text": [
      "Scraping reviews for user: https://letterboxd.com/davidehrlich/\n"
     ]
    },
    {
     "name": "stderr",
     "output_type": "stream",
     "text": [
      "Processing Users:  91%|█████████ | 455/500 [6:43:56<31:22, 41.83s/it]"
     ]
    },
    {
     "name": "stdout",
     "output_type": "stream",
     "text": [
      "Scraping reviews for user: https://letterboxd.com/realkinoshit/\n"
     ]
    },
    {
     "name": "stderr",
     "output_type": "stream",
     "text": [
      "Processing Users:  91%|█████████ | 456/500 [6:44:23<27:30, 37.51s/it]"
     ]
    },
    {
     "name": "stdout",
     "output_type": "stream",
     "text": [
      "Scraping reviews for user: https://letterboxd.com/tylot_lantern/\n"
     ]
    },
    {
     "name": "stderr",
     "output_type": "stream",
     "text": [
      "Processing Users:  91%|█████████▏| 457/500 [6:45:04<27:42, 38.65s/it]"
     ]
    },
    {
     "name": "stdout",
     "output_type": "stream",
     "text": [
      "Scraping reviews for user: https://letterboxd.com/philbertdy/\n"
     ]
    },
    {
     "name": "stderr",
     "output_type": "stream",
     "text": [
      "Processing Users:  92%|█████████▏| 458/500 [6:45:45<27:30, 39.29s/it]"
     ]
    },
    {
     "name": "stdout",
     "output_type": "stream",
     "text": [
      "Scraping reviews for user: https://letterboxd.com/brofromanother/\n"
     ]
    },
    {
     "name": "stderr",
     "output_type": "stream",
     "text": [
      "Processing Users:  92%|█████████▏| 459/500 [6:46:55<33:02, 48.37s/it]"
     ]
    },
    {
     "name": "stdout",
     "output_type": "stream",
     "text": [
      "Scraping reviews for user: https://letterboxd.com/cinemaexcelsior/\n"
     ]
    },
    {
     "name": "stderr",
     "output_type": "stream",
     "text": [
      "Processing Users:  92%|█████████▏| 460/500 [6:47:35<30:41, 46.04s/it]"
     ]
    },
    {
     "name": "stdout",
     "output_type": "stream",
     "text": [
      "Checkpoint saved to user_reviews_checkpoint.csv\n",
      "Scraping reviews for user: https://letterboxd.com/magnafarta/\n"
     ]
    },
    {
     "name": "stderr",
     "output_type": "stream",
     "text": [
      "Processing Users:  92%|█████████▏| 461/500 [6:48:15<28:45, 44.23s/it]"
     ]
    },
    {
     "name": "stdout",
     "output_type": "stream",
     "text": [
      "Scraping reviews for user: https://letterboxd.com/timeistheking/\n"
     ]
    },
    {
     "name": "stderr",
     "output_type": "stream",
     "text": [
      "Processing Users:  92%|█████████▏| 462/500 [6:48:59<27:56, 44.13s/it]"
     ]
    },
    {
     "name": "stdout",
     "output_type": "stream",
     "text": [
      "Scraping reviews for user: https://letterboxd.com/dansooth/\n"
     ]
    },
    {
     "name": "stderr",
     "output_type": "stream",
     "text": [
      "Processing Users:  93%|█████████▎| 463/500 [6:49:40<26:40, 43.25s/it]"
     ]
    },
    {
     "name": "stdout",
     "output_type": "stream",
     "text": [
      "Scraping reviews for user: https://letterboxd.com/jarodzsz/\n"
     ]
    },
    {
     "name": "stderr",
     "output_type": "stream",
     "text": [
      "Processing Users:  93%|█████████▎| 464/500 [6:50:22<25:43, 42.87s/it]"
     ]
    },
    {
     "name": "stdout",
     "output_type": "stream",
     "text": [
      "Scraping reviews for user: https://letterboxd.com/bartonfinked/\n"
     ]
    },
    {
     "name": "stderr",
     "output_type": "stream",
     "text": [
      "Processing Users:  93%|█████████▎| 465/500 [6:51:04<24:47, 42.49s/it]"
     ]
    },
    {
     "name": "stdout",
     "output_type": "stream",
     "text": [
      "Scraping reviews for user: https://letterboxd.com/marshayame/\n"
     ]
    },
    {
     "name": "stderr",
     "output_type": "stream",
     "text": [
      "Processing Users:  93%|█████████▎| 466/500 [6:51:48<24:17, 42.87s/it]"
     ]
    },
    {
     "name": "stdout",
     "output_type": "stream",
     "text": [
      "Scraping reviews for user: https://letterboxd.com/rylanfilms/\n"
     ]
    },
    {
     "name": "stderr",
     "output_type": "stream",
     "text": [
      "Processing Users:  93%|█████████▎| 467/500 [6:52:33<23:54, 43.48s/it]"
     ]
    },
    {
     "name": "stdout",
     "output_type": "stream",
     "text": [
      "Scraping reviews for user: https://letterboxd.com/iamthatroby/\n"
     ]
    },
    {
     "name": "stderr",
     "output_type": "stream",
     "text": [
      "Processing Users:  94%|█████████▎| 468/500 [6:53:15<23:05, 43.29s/it]"
     ]
    },
    {
     "name": "stdout",
     "output_type": "stream",
     "text": [
      "Scraping reviews for user: https://letterboxd.com/lifewithnopants/\n"
     ]
    },
    {
     "name": "stderr",
     "output_type": "stream",
     "text": [
      "Processing Users:  94%|█████████▍| 469/500 [6:54:19<25:32, 49.43s/it]"
     ]
    },
    {
     "name": "stdout",
     "output_type": "stream",
     "text": [
      "Scraping reviews for user: https://letterboxd.com/tripeazy96/\n"
     ]
    },
    {
     "name": "stderr",
     "output_type": "stream",
     "text": [
      "Processing Users:  94%|█████████▍| 470/500 [6:55:01<23:32, 47.07s/it]"
     ]
    },
    {
     "name": "stdout",
     "output_type": "stream",
     "text": [
      "Checkpoint saved to user_reviews_checkpoint.csv\n",
      "Scraping reviews for user: https://letterboxd.com/cinebro/\n"
     ]
    },
    {
     "name": "stderr",
     "output_type": "stream",
     "text": [
      "Processing Users:  94%|█████████▍| 471/500 [6:59:50<57:51, 119.71s/it]"
     ]
    },
    {
     "name": "stdout",
     "output_type": "stream",
     "text": [
      "Scraping reviews for user: https://letterboxd.com/labuzamovies/\n"
     ]
    },
    {
     "name": "stderr",
     "output_type": "stream",
     "text": [
      "Processing Users:  94%|█████████▍| 472/500 [7:00:36<45:34, 97.67s/it] "
     ]
    },
    {
     "name": "stdout",
     "output_type": "stream",
     "text": [
      "Scraping reviews for user: https://letterboxd.com/tasharobinson/\n"
     ]
    },
    {
     "name": "stderr",
     "output_type": "stream",
     "text": [
      "Processing Users:  95%|█████████▍| 473/500 [7:01:18<36:22, 80.82s/it]"
     ]
    },
    {
     "name": "stdout",
     "output_type": "stream",
     "text": [
      "Scraping reviews for user: https://letterboxd.com/chris_ofdeath/\n"
     ]
    },
    {
     "name": "stderr",
     "output_type": "stream",
     "text": [
      "Processing Users:  95%|█████████▍| 474/500 [7:02:01<30:06, 69.50s/it]"
     ]
    },
    {
     "name": "stdout",
     "output_type": "stream",
     "text": [
      "Scraping reviews for user: https://letterboxd.com/doinkdedoink/\n"
     ]
    },
    {
     "name": "stderr",
     "output_type": "stream",
     "text": [
      "Processing Users:  95%|█████████▌| 475/500 [7:02:43<25:31, 61.28s/it]"
     ]
    },
    {
     "name": "stdout",
     "output_type": "stream",
     "text": [
      "Scraping reviews for user: https://letterboxd.com/yeshomo/\n"
     ]
    },
    {
     "name": "stderr",
     "output_type": "stream",
     "text": [
      "Processing Users:  95%|█████████▌| 476/500 [7:03:21<21:45, 54.40s/it]"
     ]
    },
    {
     "name": "stdout",
     "output_type": "stream",
     "text": [
      "Scraping reviews for user: https://letterboxd.com/nerdkultur/\n"
     ]
    },
    {
     "name": "stderr",
     "output_type": "stream",
     "text": [
      "Processing Users:  95%|█████████▌| 477/500 [7:04:03<19:23, 50.59s/it]"
     ]
    },
    {
     "name": "stdout",
     "output_type": "stream",
     "text": [
      "Scraping reviews for user: https://letterboxd.com/ashtonkinley/\n"
     ]
    },
    {
     "name": "stderr",
     "output_type": "stream",
     "text": [
      "Processing Users:  96%|█████████▌| 478/500 [7:04:46<17:45, 48.41s/it]"
     ]
    },
    {
     "name": "stdout",
     "output_type": "stream",
     "text": [
      "Scraping reviews for user: https://letterboxd.com/ndc32002/\n"
     ]
    },
    {
     "name": "stderr",
     "output_type": "stream",
     "text": [
      "Processing Users:  96%|█████████▌| 479/500 [7:05:25<15:53, 45.40s/it]"
     ]
    },
    {
     "name": "stdout",
     "output_type": "stream",
     "text": [
      "Scraping reviews for user: https://letterboxd.com/hbarletto242/\n"
     ]
    },
    {
     "name": "stderr",
     "output_type": "stream",
     "text": [
      "Processing Users:  96%|█████████▌| 480/500 [7:06:11<15:12, 45.63s/it]"
     ]
    },
    {
     "name": "stdout",
     "output_type": "stream",
     "text": [
      "Checkpoint saved to user_reviews_checkpoint.csv\n",
      "Scraping reviews for user: https://letterboxd.com/timbrayton/\n"
     ]
    },
    {
     "name": "stderr",
     "output_type": "stream",
     "text": [
      "Processing Users:  96%|█████████▌| 481/500 [7:06:49<13:47, 43.54s/it]"
     ]
    },
    {
     "name": "stdout",
     "output_type": "stream",
     "text": [
      "Scraping reviews for user: https://letterboxd.com/nadwatches/\n"
     ]
    },
    {
     "name": "stderr",
     "output_type": "stream",
     "text": [
      "Processing Users:  96%|█████████▋| 482/500 [7:07:32<12:59, 43.31s/it]"
     ]
    },
    {
     "name": "stdout",
     "output_type": "stream",
     "text": [
      "Scraping reviews for user: https://letterboxd.com/jvince/\n"
     ]
    },
    {
     "name": "stderr",
     "output_type": "stream",
     "text": [
      "Processing Users:  97%|█████████▋| 483/500 [7:08:16<12:17, 43.38s/it]"
     ]
    },
    {
     "name": "stdout",
     "output_type": "stream",
     "text": [
      "Scraping reviews for user: https://letterboxd.com/kylielemaster/\n"
     ]
    },
    {
     "name": "stderr",
     "output_type": "stream",
     "text": [
      "Processing Users:  97%|█████████▋| 484/500 [7:08:58<11:28, 43.01s/it]"
     ]
    },
    {
     "name": "stdout",
     "output_type": "stream",
     "text": [
      "Scraping reviews for user: https://letterboxd.com/phantasmes/\n"
     ]
    },
    {
     "name": "stderr",
     "output_type": "stream",
     "text": [
      "Processing Users:  97%|█████████▋| 485/500 [7:09:47<11:12, 44.81s/it]"
     ]
    },
    {
     "name": "stdout",
     "output_type": "stream",
     "text": [
      "Scraping reviews for user: https://letterboxd.com/kurstboy/\n"
     ]
    },
    {
     "name": "stderr",
     "output_type": "stream",
     "text": [
      "Processing Users:  97%|█████████▋| 486/500 [7:11:09<13:03, 55.98s/it]"
     ]
    },
    {
     "name": "stdout",
     "output_type": "stream",
     "text": [
      "Scraping reviews for user: https://letterboxd.com/deathproof/\n"
     ]
    },
    {
     "name": "stderr",
     "output_type": "stream",
     "text": [
      "Processing Users:  97%|█████████▋| 487/500 [7:11:57<11:35, 53.50s/it]"
     ]
    },
    {
     "name": "stdout",
     "output_type": "stream",
     "text": [
      "Scraping reviews for user: https://letterboxd.com/jay/\n"
     ]
    },
    {
     "name": "stderr",
     "output_type": "stream",
     "text": [
      "Processing Users:  98%|█████████▊| 488/500 [7:12:38<09:58, 49.88s/it]"
     ]
    },
    {
     "name": "stdout",
     "output_type": "stream",
     "text": [
      "Scraping reviews for user: https://letterboxd.com/schaffrillas/\n"
     ]
    },
    {
     "name": "stderr",
     "output_type": "stream",
     "text": [
      "Processing Users:  98%|█████████▊| 489/500 [7:13:17<08:31, 46.50s/it]"
     ]
    },
    {
     "name": "stdout",
     "output_type": "stream",
     "text": [
      "Scraping reviews for user: https://letterboxd.com/davidehrlich/\n"
     ]
    },
    {
     "name": "stderr",
     "output_type": "stream",
     "text": [
      "Processing Users:  98%|█████████▊| 490/500 [7:13:57<07:26, 44.66s/it]"
     ]
    },
    {
     "name": "stdout",
     "output_type": "stream",
     "text": [
      "Checkpoint saved to user_reviews_checkpoint.csv\n",
      "Scraping reviews for user: https://letterboxd.com/elliebean/\n"
     ]
    },
    {
     "name": "stderr",
     "output_type": "stream",
     "text": [
      "Processing Users:  98%|█████████▊| 491/500 [7:15:04<07:42, 51.39s/it]"
     ]
    },
    {
     "name": "stdout",
     "output_type": "stream",
     "text": [
      "Scraping reviews for user: https://letterboxd.com/denduffy/\n"
     ]
    },
    {
     "name": "stderr",
     "output_type": "stream",
     "text": [
      "Processing Users:  98%|█████████▊| 492/500 [7:15:47<06:30, 48.86s/it]"
     ]
    },
    {
     "name": "stdout",
     "output_type": "stream",
     "text": [
      "Scraping reviews for user: https://letterboxd.com/geneparmesan/\n"
     ]
    },
    {
     "name": "stderr",
     "output_type": "stream",
     "text": [
      "Processing Users:  99%|█████████▊| 493/500 [7:16:31<05:31, 47.33s/it]"
     ]
    },
    {
     "name": "stdout",
     "output_type": "stream",
     "text": [
      "Scraping reviews for user: https://letterboxd.com/gdw/\n"
     ]
    },
    {
     "name": "stderr",
     "output_type": "stream",
     "text": [
      "Processing Users:  99%|█████████▉| 494/500 [7:17:17<04:42, 47.07s/it]"
     ]
    },
    {
     "name": "stdout",
     "output_type": "stream",
     "text": [
      "Scraping reviews for user: https://letterboxd.com/popofett/\n"
     ]
    },
    {
     "name": "stderr",
     "output_type": "stream",
     "text": [
      "Processing Users:  99%|█████████▉| 495/500 [7:18:00<03:48, 45.72s/it]"
     ]
    },
    {
     "name": "stdout",
     "output_type": "stream",
     "text": [
      "Scraping reviews for user: https://letterboxd.com/cvall96/\n"
     ]
    },
    {
     "name": "stderr",
     "output_type": "stream",
     "text": [
      "Processing Users:  99%|█████████▉| 496/500 [7:18:49<03:06, 46.58s/it]"
     ]
    },
    {
     "name": "stdout",
     "output_type": "stream",
     "text": [
      "Scraping reviews for user: https://letterboxd.com/namelessvero/\n"
     ]
    },
    {
     "name": "stderr",
     "output_type": "stream",
     "text": [
      "Processing Users:  99%|█████████▉| 497/500 [7:19:36<02:20, 46.82s/it]"
     ]
    },
    {
     "name": "stdout",
     "output_type": "stream",
     "text": [
      "Scraping reviews for user: https://letterboxd.com/tobiasandersen2/\n"
     ]
    },
    {
     "name": "stderr",
     "output_type": "stream",
     "text": [
      "Processing Users: 100%|█████████▉| 498/500 [7:19:56<01:17, 38.80s/it]"
     ]
    },
    {
     "name": "stdout",
     "output_type": "stream",
     "text": [
      "Timeout while loading page 3 for user https://letterboxd.com/tobiasandersen2/\n",
      "Scraping reviews for user: https://letterboxd.com/eclectic_em/\n"
     ]
    },
    {
     "name": "stderr",
     "output_type": "stream",
     "text": [
      "Processing Users: 100%|█████████▉| 499/500 [7:20:40<00:40, 40.35s/it]"
     ]
    },
    {
     "name": "stdout",
     "output_type": "stream",
     "text": [
      "Scraping reviews for user: https://letterboxd.com/jockrivette/\n"
     ]
    },
    {
     "name": "stderr",
     "output_type": "stream",
     "text": [
      "Processing Users: 100%|██████████| 500/500 [7:23:00<00:00, 53.16s/it]"
     ]
    },
    {
     "name": "stdout",
     "output_type": "stream",
     "text": [
      "Checkpoint saved to user_reviews_checkpoint.csv\n"
     ]
    },
    {
     "name": "stderr",
     "output_type": "stream",
     "text": [
      "\n"
     ]
    },
    {
     "name": "stdout",
     "output_type": "stream",
     "text": [
      "Checkpoint saved to user_reviews_checkpoint.csv\n",
      "Reviews successfully scraped from user URLs!\n",
      "Reviews preview:\n",
      "          movie_title                                                 movie_url                                                                                                                                                                                                                                                                                                                                                                                                                                                             review_text  rating          review_date movie_year                          user_url\n",
      "0   Design for Living   https://letterboxd.com/kurstboy/film/design-for-living/                                                                                                                                                                                                                                                                                                                                                                                                                                  lubitsch just knows how to get it done     0.9  Watched 27 Aug 2024       1933  https://letterboxd.com/kurstboy/\n",
      "1           King Kong      https://letterboxd.com/kurstboy/film/king-kong-1976/  monkey mondays #34\\nkind of flabbergasted at how much i dug this. dare i say one of the best takes on kong out there. he doesn’t look amazing but he looks leagues better than most of the stop-motion versions, and a hell of a lot better than any CGI kong. i loved how expressive his eyes were, sometimes terrifying and sometimes hilarious. some sketchy ADR aside, the whole cast is great. ever since the heartbreak kid charles grodin is always gonna… more     0.8  Watched 26 Aug 2024       1976  https://letterboxd.com/kurstboy/\n",
      "2     Bobo the Monkey     https://letterboxd.com/kurstboy/film/bobo-the-monkey/                                                                                                                                                                                                                                                                                                                                                                                                                                                      monkey mondays #33     0.8  Watched 19 Aug 2024       2021  https://letterboxd.com/kurstboy/\n",
      "3           Labyrinth           https://letterboxd.com/kurstboy/film/labyrinth/                                                                                                                                                                                                                                                                                                                                                                                                                                                     damn bro we see it!     0.8  Watched 18 Aug 2024       1986  https://letterboxd.com/kurstboy/\n",
      "4  Boys Go to Jupiter  https://letterboxd.com/kurstboy/film/boys-go-to-jupiter/                                                                                                                                                                                                                                                                                                                                                                                                                                               joyous from front to back     0.9  Watched 14 Aug 2024       2024  https://letterboxd.com/kurstboy/\n",
      "\n",
      "Closing connection to selenium WebDriver...\n",
      "Connection closed successfully!\n",
      "\n",
      "\n"
     ]
    }
   ],
   "source": [
    "# Scrape reviews from user urls\n",
    "if __name__ == \"__main__\":\n",
    "    driver = initialize_driver()\n",
    "    try:\n",
    "        num_reviews_per_user = 100  # Adjust as needed\n",
    "        user_urls_df = pd.read_csv('user_urls.csv')  # Assuming you have a CSV file of user URLs\n",
    "        reviews_df = scrape_reviews_from_users(driver, user_urls_df['user_url'], num_reviews_per_user)\n",
    "        reviews_df.to_csv('/kaggle/working/user_reviews.csv')\n",
    "    finally:\n",
    "        driver.quit()  # Ensure the driver is closed after usage"
   ]
  },
  {
   "cell_type": "code",
   "execution_count": 14,
   "id": "d0d652a8",
   "metadata": {
    "execution": {
     "iopub.execute_input": "2024-08-28T16:42:33.587729Z",
     "iopub.status.busy": "2024-08-28T16:42:33.586887Z",
     "iopub.status.idle": "2024-08-28T16:42:33.613704Z",
     "shell.execute_reply": "2024-08-28T16:42:33.612665Z"
    },
    "papermill": {
     "duration": 0.124866,
     "end_time": "2024-08-28T16:42:33.615821",
     "exception": false,
     "start_time": "2024-08-28T16:42:33.490955",
     "status": "completed"
    },
    "tags": []
   },
   "outputs": [
    {
     "data": {
      "text/html": [
       "<div>\n",
       "<style scoped>\n",
       "    .dataframe tbody tr th:only-of-type {\n",
       "        vertical-align: middle;\n",
       "    }\n",
       "\n",
       "    .dataframe tbody tr th {\n",
       "        vertical-align: top;\n",
       "    }\n",
       "\n",
       "    .dataframe thead th {\n",
       "        text-align: right;\n",
       "    }\n",
       "</style>\n",
       "<table border=\"1\" class=\"dataframe\">\n",
       "  <thead>\n",
       "    <tr style=\"text-align: right;\">\n",
       "      <th></th>\n",
       "      <th>movie_title</th>\n",
       "      <th>movie_url</th>\n",
       "      <th>review_text</th>\n",
       "      <th>rating</th>\n",
       "      <th>review_date</th>\n",
       "      <th>movie_year</th>\n",
       "      <th>user_url</th>\n",
       "    </tr>\n",
       "  </thead>\n",
       "  <tbody>\n",
       "    <tr>\n",
       "      <th>0</th>\n",
       "      <td>Design for Living</td>\n",
       "      <td>https://letterboxd.com/kurstboy/film/design-fo...</td>\n",
       "      <td>lubitsch just knows how to get it done</td>\n",
       "      <td>0.9</td>\n",
       "      <td>Watched 27 Aug 2024</td>\n",
       "      <td>1933</td>\n",
       "      <td>https://letterboxd.com/kurstboy/</td>\n",
       "    </tr>\n",
       "    <tr>\n",
       "      <th>1</th>\n",
       "      <td>King Kong</td>\n",
       "      <td>https://letterboxd.com/kurstboy/film/king-kong...</td>\n",
       "      <td>monkey mondays #34\\nkind of flabbergasted at h...</td>\n",
       "      <td>0.8</td>\n",
       "      <td>Watched 26 Aug 2024</td>\n",
       "      <td>1976</td>\n",
       "      <td>https://letterboxd.com/kurstboy/</td>\n",
       "    </tr>\n",
       "    <tr>\n",
       "      <th>2</th>\n",
       "      <td>Bobo the Monkey</td>\n",
       "      <td>https://letterboxd.com/kurstboy/film/bobo-the-...</td>\n",
       "      <td>monkey mondays #33</td>\n",
       "      <td>0.8</td>\n",
       "      <td>Watched 19 Aug 2024</td>\n",
       "      <td>2021</td>\n",
       "      <td>https://letterboxd.com/kurstboy/</td>\n",
       "    </tr>\n",
       "    <tr>\n",
       "      <th>3</th>\n",
       "      <td>Labyrinth</td>\n",
       "      <td>https://letterboxd.com/kurstboy/film/labyrinth/</td>\n",
       "      <td>damn bro we see it!</td>\n",
       "      <td>0.8</td>\n",
       "      <td>Watched 18 Aug 2024</td>\n",
       "      <td>1986</td>\n",
       "      <td>https://letterboxd.com/kurstboy/</td>\n",
       "    </tr>\n",
       "    <tr>\n",
       "      <th>4</th>\n",
       "      <td>Boys Go to Jupiter</td>\n",
       "      <td>https://letterboxd.com/kurstboy/film/boys-go-t...</td>\n",
       "      <td>joyous from front to back</td>\n",
       "      <td>0.9</td>\n",
       "      <td>Watched 14 Aug 2024</td>\n",
       "      <td>2024</td>\n",
       "      <td>https://letterboxd.com/kurstboy/</td>\n",
       "    </tr>\n",
       "  </tbody>\n",
       "</table>\n",
       "</div>"
      ],
      "text/plain": [
       "          movie_title                                          movie_url  \\\n",
       "0   Design for Living  https://letterboxd.com/kurstboy/film/design-fo...   \n",
       "1           King Kong  https://letterboxd.com/kurstboy/film/king-kong...   \n",
       "2     Bobo the Monkey  https://letterboxd.com/kurstboy/film/bobo-the-...   \n",
       "3           Labyrinth    https://letterboxd.com/kurstboy/film/labyrinth/   \n",
       "4  Boys Go to Jupiter  https://letterboxd.com/kurstboy/film/boys-go-t...   \n",
       "\n",
       "                                         review_text  rating  \\\n",
       "0             lubitsch just knows how to get it done     0.9   \n",
       "1  monkey mondays #34\\nkind of flabbergasted at h...     0.8   \n",
       "2                                 monkey mondays #33     0.8   \n",
       "3                                damn bro we see it!     0.8   \n",
       "4                          joyous from front to back     0.9   \n",
       "\n",
       "           review_date movie_year                          user_url  \n",
       "0  Watched 27 Aug 2024       1933  https://letterboxd.com/kurstboy/  \n",
       "1  Watched 26 Aug 2024       1976  https://letterboxd.com/kurstboy/  \n",
       "2  Watched 19 Aug 2024       2021  https://letterboxd.com/kurstboy/  \n",
       "3  Watched 18 Aug 2024       1986  https://letterboxd.com/kurstboy/  \n",
       "4  Watched 14 Aug 2024       2024  https://letterboxd.com/kurstboy/  "
      ]
     },
     "execution_count": 14,
     "metadata": {},
     "output_type": "execute_result"
    }
   ],
   "source": [
    "reviews_df.head()"
   ]
  }
 ],
 "metadata": {
  "kaggle": {
   "accelerator": "none",
   "dataSources": [
    {
     "datasetId": 4413046,
     "sourceId": 7581027,
     "sourceType": "datasetVersion"
    },
    {
     "datasetId": 5581345,
     "sourceId": 9253724,
     "sourceType": "datasetVersion"
    }
   ],
   "dockerImageVersionId": 30635,
   "isGpuEnabled": false,
   "isInternetEnabled": true,
   "language": "python",
   "sourceType": "notebook"
  },
  "kernelspec": {
   "display_name": "Python 3",
   "language": "python",
   "name": "python3"
  },
  "language_info": {
   "codemirror_mode": {
    "name": "ipython",
    "version": 3
   },
   "file_extension": ".py",
   "mimetype": "text/x-python",
   "name": "python",
   "nbconvert_exporter": "python",
   "pygments_lexer": "ipython3",
   "version": "3.10.12"
  },
  "papermill": {
   "default_parameters": {},
   "duration": 26873.358611,
   "end_time": "2024-08-28T16:42:34.581096",
   "environment_variables": {},
   "exception": null,
   "input_path": "__notebook__.ipynb",
   "output_path": "__notebook__.ipynb",
   "parameters": {},
   "start_time": "2024-08-28T09:14:41.222485",
   "version": "2.4.0"
  }
 },
 "nbformat": 4,
 "nbformat_minor": 5
}
