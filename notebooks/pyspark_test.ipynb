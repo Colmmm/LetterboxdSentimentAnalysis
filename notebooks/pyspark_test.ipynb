{
 "cells": [
  {
   "cell_type": "code",
   "execution_count": 1,
   "id": "8f58385b-5096-47d9-b9d6-7c491e22aab7",
   "metadata": {},
   "outputs": [
    {
     "name": "stderr",
     "output_type": "stream",
     "text": [
      "Setting default log level to \"WARN\".\n",
      "To adjust logging level use sc.setLogLevel(newLevel). For SparkR, use setLogLevel(newLevel).\n",
      "24/08/25 16:11:23 WARN NativeCodeLoader: Unable to load native-hadoop library for your platform... using builtin-java classes where applicable\n"
     ]
    }
   ],
   "source": [
    "from pyspark.sql import SparkSession\n",
    "\n",
    "# Initialize a Spark session\n",
    "spark = SparkSession.builder \\\n",
    "    .appName(\"Movie Reviews Analysis\") \\\n",
    "    .getOrCreate()"
   ]
  },
  {
   "cell_type": "code",
   "execution_count": 9,
   "id": "6bc19d7e-7031-453b-ae28-2dd291e17b23",
   "metadata": {},
   "outputs": [
    {
     "name": "stdout",
     "output_type": "stream",
     "text": [
      "root\n",
      " |-- movie_title: string (nullable = true)\n",
      " |-- movie_year: integer (nullable = true)\n",
      " |-- user_url: string (nullable = true)\n",
      " |-- review_text: string (nullable = true)\n",
      " |-- rating: double (nullable = true)\n",
      " |-- review_date: string (nullable = true)\n",
      " |-- movie_url: string (nullable = true)\n",
      "\n",
      "+-----------+----------+---------------------------------------+--------------------------------------------------------------------------------------------------------------------------------------------------------------------------------------------------------------------------------------------------------------------+------------------+-----------+-----------------------------------+\n",
      "|movie_title|movie_year|user_url                               |review_text                                                                                                                                                                                                                                                         |rating            |review_date|movie_url                          |\n",
      "+-----------+----------+---------------------------------------+--------------------------------------------------------------------------------------------------------------------------------------------------------------------------------------------------------------------------------------------------------------------+------------------+-----------+-----------------------------------+\n",
      "|Barbie     |2023      |https://letterboxd.com/katec0605/      |Addressed my inert fear of pink and pretty dresses and changed me into a Barbie girl                                                                                                                                                                                |0.6000000000000001|24 Aug 2024|https://letterboxd.com/film/barbie/|\n",
      "|Barbie     |2023      |https://letterboxd.com/neguebaleitadas/|Perfeitamente decente.\\nNão finge ser o que não é, e o que é?\\nUm filme maravilhosamente simples, o que torna a mensagem bem fácil de ser percebida, e é sim, uma mensagem extremamente importante, uma visão bem humorada e divertida sobre o sexismo do século 21.|0.7000000000000001|24 Aug 2024|https://letterboxd.com/film/barbie/|\n",
      "+-----------+----------+---------------------------------------+--------------------------------------------------------------------------------------------------------------------------------------------------------------------------------------------------------------------------------------------------------------------+------------------+-----------+-----------------------------------+\n",
      "only showing top 2 rows\n",
      "\n"
     ]
    }
   ],
   "source": [
    "reviews_df = spark.read.csv(\n",
    "    \"../data/reviews_from_movies.csv\",\n",
    "    header=True,\n",
    "    inferSchema=True,\n",
    "    multiLine=True,         # Handles multiline fields\n",
    "    escape='\"',             # Escapes quotes within fields\n",
    "    quote='\"',              # Indicates that quotes are used for enclosing fields\n",
    "    ignoreLeadingWhiteSpace=True,\n",
    "    ignoreTrailingWhiteSpace=True\n",
    ")\n",
    "\n",
    "# Show the DataFrame schema\n",
    "reviews_df.printSchema()\n",
    "\n",
    "# Show a preview of the data\n",
    "reviews_df.show(2, truncate=False)"
   ]
  },
  {
   "cell_type": "code",
   "execution_count": 10,
   "id": "1e291993-86f1-4c07-bc03-53841f8be108",
   "metadata": {},
   "outputs": [
    {
     "name": "stdout",
     "output_type": "stream",
     "text": [
      "+--------------------+\n",
      "|            user_url|\n",
      "+--------------------+\n",
      "|https://letterbox...|\n",
      "|https://letterbox...|\n",
      "|https://letterbox...|\n",
      "|https://letterbox...|\n",
      "|https://letterbox...|\n",
      "+--------------------+\n",
      "only showing top 5 rows\n",
      "\n"
     ]
    }
   ],
   "source": [
    "reviews_df.select(\"user_url\").show(5)"
   ]
  },
  {
   "cell_type": "code",
   "execution_count": 11,
   "id": "6b5f96f0-13f4-4045-a325-ea33dd4ffd16",
   "metadata": {},
   "outputs": [
    {
     "name": "stdout",
     "output_type": "stream",
     "text": [
      "+--------------------+--------------------+\n",
      "|         review_text|      cleaned_review|\n",
      "+--------------------+--------------------+\n",
      "|Addressed my iner...|addressed my iner...|\n",
      "|Perfeitamente dec...|perfeitamente dec...|\n",
      "|  senti a dor do ken|  senti a dor do ken|\n",
      "|it was good for t...|it was good for t...|\n",
      "|l'univers la da i...|lunivers la da in...|\n",
      "+--------------------+--------------------+\n",
      "only showing top 5 rows\n",
      "\n"
     ]
    }
   ],
   "source": [
    "from pyspark.sql.functions import col, lower, regexp_replace\n",
    "\n",
    "# Example: Clean text and create a new column\n",
    "reviews_df = reviews_df.withColumn(\"cleaned_review\", \n",
    "                                   lower(col(\"review_text\"))) \\\n",
    "                       .withColumn(\"cleaned_review\", \n",
    "                                   regexp_replace(col(\"cleaned_review\"), \"[^a-zA-Z\\s]\", \"\"))\n",
    "\n",
    "# Show the cleaned data\n",
    "reviews_df.select(\"review_text\", \"cleaned_review\").show(5)\n"
   ]
  },
  {
   "cell_type": "code",
   "execution_count": 12,
   "id": "ee7a9bed-9584-45fe-8c67-b2a82bc49faf",
   "metadata": {},
   "outputs": [
    {
     "name": "stderr",
     "output_type": "stream",
     "text": [
      "                                                                                \r"
     ]
    },
    {
     "name": "stdout",
     "output_type": "stream",
     "text": [
      "+--------------------+\n",
      "|            features|\n",
      "+--------------------+\n",
      "|(5000,[1029,1720,...|\n",
      "|(5000,[82,154,221...|\n",
      "|(5000,[154,2208,3...|\n",
      "|(5000,[366,453,48...|\n",
      "|(5000,[30,98,480,...|\n",
      "+--------------------+\n",
      "only showing top 5 rows\n",
      "\n"
     ]
    }
   ],
   "source": [
    "from pyspark.ml.feature import Tokenizer, StopWordsRemover, HashingTF, IDF\n",
    "from pyspark.ml.pipeline import Pipeline\n",
    "\n",
    "# Tokenize the text\n",
    "tokenizer = Tokenizer(inputCol=\"cleaned_review\", outputCol=\"words\")\n",
    "\n",
    "# Remove stop words\n",
    "remover = StopWordsRemover(inputCol=\"words\", outputCol=\"filtered\")\n",
    "\n",
    "# Compute term frequencies\n",
    "hashingTF = HashingTF(inputCol=\"filtered\", outputCol=\"rawFeatures\", numFeatures=5000)\n",
    "\n",
    "# Compute inverse document frequencies\n",
    "idf = IDF(inputCol=\"rawFeatures\", outputCol=\"features\")\n",
    "\n",
    "# Build the pipeline\n",
    "pipeline = Pipeline(stages=[tokenizer, remover, hashingTF, idf])\n",
    "\n",
    "# Fit and transform the data\n",
    "reviews_df = pipeline.fit(reviews_df).transform(reviews_df)\n",
    "\n",
    "# Show the processed features\n",
    "reviews_df.select(\"features\").show(5)"
   ]
  },
  {
   "cell_type": "code",
   "execution_count": 14,
   "id": "65d4fdf3-0541-4dfd-85fa-0247a08fd163",
   "metadata": {},
   "outputs": [
    {
     "name": "stdout",
     "output_type": "stream",
     "text": [
      "root\n",
      " |-- movie_title: string (nullable = true)\n",
      " |-- movie_year: integer (nullable = true)\n",
      " |-- user_url: string (nullable = true)\n",
      " |-- review_text: string (nullable = true)\n",
      " |-- rating: double (nullable = true)\n",
      " |-- review_date: string (nullable = true)\n",
      " |-- movie_url: string (nullable = true)\n",
      " |-- cleaned_review: string (nullable = true)\n",
      " |-- words: array (nullable = true)\n",
      " |    |-- element: string (containsNull = true)\n",
      " |-- filtered: array (nullable = true)\n",
      " |    |-- element: string (containsNull = true)\n",
      " |-- rawFeatures: vector (nullable = true)\n",
      " |-- features: vector (nullable = true)\n",
      "\n"
     ]
    }
   ],
   "source": [
    "reviews_df.printSchema()"
   ]
  },
  {
   "cell_type": "code",
   "execution_count": 21,
   "id": "fef66a44-2b21-4c71-aee4-1422cdd68c97",
   "metadata": {},
   "outputs": [
    {
     "name": "stdout",
     "output_type": "stream",
     "text": [
      "+------------------+---------------+-----------------------+\n",
      "|            rating|rating_category|rating_category_encoded|\n",
      "+------------------+---------------+-----------------------+\n",
      "|0.6000000000000001|        neutral|                    1.0|\n",
      "|0.7000000000000001|           good|                    0.0|\n",
      "|               1.0|           good|                    0.0|\n",
      "|0.7000000000000001|           good|                    0.0|\n",
      "|0.6000000000000001|        neutral|                    1.0|\n",
      "+------------------+---------------+-----------------------+\n",
      "only showing top 5 rows\n",
      "\n"
     ]
    }
   ],
   "source": [
    "from pyspark.sql.functions import when, col\n",
    "\n",
    "# 1. Categorize ratings into 'bad', 'neutral', 'good'\n",
    "reviews_df = reviews_df.withColumn(\n",
    "    \"rating_category\",\n",
    "    when(col(\"rating\") <= 0.4, \"bad\")\n",
    "    .when((col(\"rating\") > 0.4) & (col(\"rating\") <= 0.7), \"neutral\")\n",
    "    .when(col(\"rating\") > 0.7, \"good\")\n",
    ")\n",
    "\n",
    "# 2. Encode these categories into numeric labels\n",
    "indexer = StringIndexer(inputCol=\"rating_category\", outputCol=\"rating_category_encoded\")\n",
    "reviews_df = indexer.fit(reviews_df).transform(reviews_df)\n",
    "\n",
    "# 3. Verify the creation of the encoded column\n",
    "reviews_df.select(\"rating\", \"rating_category\", \"rating_category_encoded\").show(5)"
   ]
  },
  {
   "cell_type": "code",
   "execution_count": null,
   "id": "d47a290c-2201-4d2f-a42c-c2dc42b2b445",
   "metadata": {},
   "outputs": [],
   "source": []
  },
  {
   "cell_type": "code",
   "execution_count": 22,
   "id": "051998ff-0598-4bdb-a27f-d1d971df8d11",
   "metadata": {},
   "outputs": [
    {
     "name": "stderr",
     "output_type": "stream",
     "text": [
      "24/08/25 17:00:58 WARN InstanceBuilder: Failed to load implementation from:dev.ludovic.netlib.blas.JNIBLAS\n"
     ]
    },
    {
     "name": "stdout",
     "output_type": "stream",
     "text": [
      "Accuracy: 0.36363636363636365\n"
     ]
    }
   ],
   "source": [
    "from pyspark.ml.classification import LogisticRegression\n",
    "from pyspark.ml.evaluation import MulticlassClassificationEvaluator\n",
    "from pyspark.ml.feature import StringIndexer\n",
    "\n",
    "# Convert labels to index (if necessary)\n",
    "indexer = StringIndexer(inputCol=\"rating_category_encoded\", outputCol=\"label\")\n",
    "reviews_df = indexer.fit(reviews_df).transform(reviews_df)\n",
    "\n",
    "# Split data\n",
    "train, test = reviews_df.randomSplit([0.8, 0.2], seed=12345)\n",
    "\n",
    "# Initialize and train the model\n",
    "lr = LogisticRegression(featuresCol=\"features\", labelCol=\"label\")\n",
    "model = lr.fit(train)\n",
    "\n",
    "# Predict on the test set\n",
    "predictions = model.transform(test)\n",
    "\n",
    "# Evaluate the model\n",
    "evaluator = MulticlassClassificationEvaluator(labelCol=\"label\", predictionCol=\"prediction\", metricName=\"accuracy\")\n",
    "accuracy = evaluator.evaluate(predictions)\n",
    "print(f\"Accuracy: {accuracy}\")"
   ]
  },
  {
   "cell_type": "code",
   "execution_count": 23,
   "id": "eca664eb-a0a0-40fa-809d-f0c1d85b4d8a",
   "metadata": {},
   "outputs": [
    {
     "data": {
      "text/plain": [
       "DataFrame[movie_title: string, movie_year: int, user_url: string, review_text: string, rating: double, review_date: string, movie_url: string, cleaned_review: string, words: array<string>, filtered: array<string>, rawFeatures: vector, features: vector, rating_category: string, rating_category_encoded: double, label: double]"
      ]
     },
     "execution_count": 23,
     "metadata": {},
     "output_type": "execute_result"
    }
   ],
   "source": [
    "reviews_df"
   ]
  },
  {
   "cell_type": "code",
   "execution_count": null,
   "id": "376165da-2ea3-490f-b7e6-8c7e32fe419c",
   "metadata": {},
   "outputs": [],
   "source": []
  }
 ],
 "metadata": {
  "kernelspec": {
   "display_name": "Python 3 (ipykernel)",
   "language": "python",
   "name": "python3"
  },
  "language_info": {
   "codemirror_mode": {
    "name": "ipython",
    "version": 3
   },
   "file_extension": ".py",
   "mimetype": "text/x-python",
   "name": "python",
   "nbconvert_exporter": "python",
   "pygments_lexer": "ipython3",
   "version": "3.11.6"
  }
 },
 "nbformat": 4,
 "nbformat_minor": 5
}
