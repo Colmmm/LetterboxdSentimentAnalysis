{
 "cells": [
  {
   "cell_type": "code",
   "execution_count": 1,
   "id": "f156384b-17ce-4ef7-89b8-5388f0ea4618",
   "metadata": {},
   "outputs": [],
   "source": [
    "from selenium import webdriver\n",
    "from selenium.webdriver.common.by import By\n",
    "from selenium.webdriver.chrome.service import Service"
   ]
  },
  {
   "cell_type": "code",
   "execution_count": 2,
   "id": "3212eecc-a61a-4a41-8011-7d3a75b22272",
   "metadata": {},
   "outputs": [],
   "source": [
    "# Set up the Selenium WebDriver to connect to the Selenium server (replace 'selenium' with your service name if different)\n",
    "options = webdriver.ChromeOptions()\n",
    "options.add_argument('--headless')  # Run in headless mode to avoid opening a UI\n",
    "driver = webdriver.Remote(\n",
    "    command_executor='http://selenium:4444/wd/hub',\n",
    "    options=options\n",
    ")"
   ]
  },
  {
   "cell_type": "code",
   "execution_count": 3,
   "id": "cf7ab96f-c7da-4a8b-b6e6-4ea07e2feb4f",
   "metadata": {},
   "outputs": [],
   "source": [
    "# Go to the Letterboxd popular movies page\n",
    "driver.get(\"https://letterboxd.com/films/popular/page/1/\")"
   ]
  },
  {
   "cell_type": "code",
   "execution_count": 5,
   "id": "49d6f971-c4df-44a9-bab7-974b18866dcb",
   "metadata": {},
   "outputs": [],
   "source": [
    "# Find all elements that contain movie links\n",
    "movie_elements = driver.find_elements(By.CSS_SELECTOR, 'a.frame')\n",
    "\n",
    "# Extract URLs from the elements\n",
    "movie_urls = [element.get_attribute('href') for element in movie_elements]"
   ]
  },
  {
   "cell_type": "code",
   "execution_count": 6,
   "id": "0566545a-7a97-4c30-adf4-165f21415f13",
   "metadata": {},
   "outputs": [
    {
     "data": {
      "text/plain": [
       "['https://letterboxd.com/film/barbie/',\n",
       " 'https://letterboxd.com/film/parasite-2019/',\n",
       " 'https://letterboxd.com/film/everything-everywhere-all-at-once/',\n",
       " 'https://letterboxd.com/film/fight-club/',\n",
       " 'https://letterboxd.com/film/la-la-land/',\n",
       " 'https://letterboxd.com/film/interstellar/',\n",
       " 'https://letterboxd.com/film/oppenheimer-2023/',\n",
       " 'https://letterboxd.com/film/joker-2019/',\n",
       " 'https://letterboxd.com/film/dune-2021/',\n",
       " 'https://letterboxd.com/film/pulp-fiction/',\n",
       " 'https://letterboxd.com/film/whiplash-2014/',\n",
       " 'https://letterboxd.com/film/spider-man-into-the-spider-verse/',\n",
       " 'https://letterboxd.com/film/get-out-2017/',\n",
       " 'https://letterboxd.com/film/the-batman/',\n",
       " 'https://letterboxd.com/film/the-dark-knight/',\n",
       " 'https://letterboxd.com/film/saltburn/',\n",
       " 'https://letterboxd.com/film/the-truman-show/',\n",
       " 'https://letterboxd.com/film/spider-man-across-the-spider-verse/',\n",
       " 'https://letterboxd.com/film/lady-bird/',\n",
       " 'https://letterboxd.com/film/american-psycho/',\n",
       " 'https://letterboxd.com/film/dune-part-two/',\n",
       " 'https://letterboxd.com/film/the-grand-budapest-hotel/',\n",
       " 'https://letterboxd.com/film/the-wolf-of-wall-street/',\n",
       " 'https://letterboxd.com/film/eternal-sunshine-of-the-spotless-mind/',\n",
       " 'https://letterboxd.com/film/spirited-away/',\n",
       " 'https://letterboxd.com/film/spider-man-no-way-home/',\n",
       " 'https://letterboxd.com/film/the-menu-2022/',\n",
       " 'https://letterboxd.com/film/gone-girl/',\n",
       " 'https://letterboxd.com/film/the-shining/',\n",
       " 'https://letterboxd.com/film/once-upon-a-time-in-hollywood/',\n",
       " 'https://letterboxd.com/film/black-swan/',\n",
       " 'https://letterboxd.com/film/little-women-2019/',\n",
       " 'https://letterboxd.com/film/se7en/',\n",
       " 'https://letterboxd.com/film/avengers-infinity-war/',\n",
       " 'https://letterboxd.com/film/the-silence-of-the-lambs/',\n",
       " 'https://letterboxd.com/film/kill-bill-vol-1/',\n",
       " 'https://letterboxd.com/film/avengers-endgame/',\n",
       " 'https://letterboxd.com/film/glass-onion/',\n",
       " 'https://letterboxd.com/film/shutter-island/',\n",
       " 'https://letterboxd.com/film/django-unchained/',\n",
       " 'https://letterboxd.com/film/dead-poets-society/',\n",
       " 'https://letterboxd.com/film/scott-pilgrim-vs-the-world/',\n",
       " 'https://letterboxd.com/film/fantastic-mr-fox/',\n",
       " 'https://letterboxd.com/film/the-perks-of-being-a-wallflower/',\n",
       " 'https://letterboxd.com/film/blade-runner-2049/',\n",
       " 'https://letterboxd.com/film/the-lord-of-the-rings-the-fellowship-of-the-ring/',\n",
       " 'https://letterboxd.com/film/past-lives/']"
      ]
     },
     "execution_count": 6,
     "metadata": {},
     "output_type": "execute_result"
    }
   ],
   "source": [
    "movie_urls"
   ]
  },
  {
   "cell_type": "code",
   "execution_count": 1,
   "id": "f11be2ba-0df7-4f03-a43c-77236159a838",
   "metadata": {},
   "outputs": [],
   "source": [
    "import argparse\n",
    "import pandas as pd\n",
    "from selenium import webdriver\n",
    "from selenium.webdriver.common.by import By\n",
    "from selenium.webdriver.chrome.service import Service\n",
    "\n",
    "def scrape_movie_urls(num_movies):\n",
    "    # Setup WebDriver\n",
    "    options = webdriver.ChromeOptions()\n",
    "    options.add_argument('--headless')\n",
    "    driver = webdriver.Remote(\n",
    "        command_executor='http://selenium:4444/wd/hub',\n",
    "        options=options\n",
    "    )\n",
    "    movie_urls = []\n",
    "    page = 1\n",
    "    while len(movie_urls) < num_movies:\n",
    "        driver.get(f\"https://letterboxd.com/films/popular/page/{page}/\")\n",
    "        elements = driver.find_elements(By.CSS_SELECTOR, 'a.frame')\n",
    "        for element in elements:\n",
    "            if len(movie_urls) >= num_movies:\n",
    "                break\n",
    "            movie_urls.append(element.get_attribute('href'))\n",
    "        page += 1\n",
    "    \n",
    "    df = pd.DataFrame(movie_urls, columns=['url'])\n",
    "    return df\n",
    "    #df.to_csv('/app/data/movie_urls.csv', index=False)\n"
   ]
  },
  {
   "cell_type": "code",
   "execution_count": 2,
   "id": "9acf53b8-7c3d-4db6-abf2-501c9174b038",
   "metadata": {},
   "outputs": [
    {
     "data": {
      "text/html": [
       "<div>\n",
       "<style scoped>\n",
       "    .dataframe tbody tr th:only-of-type {\n",
       "        vertical-align: middle;\n",
       "    }\n",
       "\n",
       "    .dataframe tbody tr th {\n",
       "        vertical-align: top;\n",
       "    }\n",
       "\n",
       "    .dataframe thead th {\n",
       "        text-align: right;\n",
       "    }\n",
       "</style>\n",
       "<table border=\"1\" class=\"dataframe\">\n",
       "  <thead>\n",
       "    <tr style=\"text-align: right;\">\n",
       "      <th></th>\n",
       "      <th>url</th>\n",
       "    </tr>\n",
       "  </thead>\n",
       "  <tbody>\n",
       "    <tr>\n",
       "      <th>0</th>\n",
       "      <td>https://letterboxd.com/film/barbie/</td>\n",
       "    </tr>\n",
       "    <tr>\n",
       "      <th>1</th>\n",
       "      <td>https://letterboxd.com/film/parasite-2019/</td>\n",
       "    </tr>\n",
       "    <tr>\n",
       "      <th>2</th>\n",
       "      <td>https://letterboxd.com/film/everything-everywh...</td>\n",
       "    </tr>\n",
       "    <tr>\n",
       "      <th>3</th>\n",
       "      <td>https://letterboxd.com/film/fight-club/</td>\n",
       "    </tr>\n",
       "    <tr>\n",
       "      <th>4</th>\n",
       "      <td>https://letterboxd.com/film/la-la-land/</td>\n",
       "    </tr>\n",
       "  </tbody>\n",
       "</table>\n",
       "</div>"
      ],
      "text/plain": [
       "                                                 url\n",
       "0                https://letterboxd.com/film/barbie/\n",
       "1         https://letterboxd.com/film/parasite-2019/\n",
       "2  https://letterboxd.com/film/everything-everywh...\n",
       "3            https://letterboxd.com/film/fight-club/\n",
       "4            https://letterboxd.com/film/la-la-land/"
      ]
     },
     "execution_count": 2,
     "metadata": {},
     "output_type": "execute_result"
    }
   ],
   "source": [
    "x = scrape_movie_urls(5)\n",
    "x"
   ]
  },
  {
   "cell_type": "code",
   "execution_count": 3,
   "id": "ae0e3f1c-3307-488e-91ac-07fadf627ba6",
   "metadata": {},
   "outputs": [],
   "source": [
    "def normalize_rating(star_rating):\n",
    "    rating_map = {'★': 0.2, '½': 0.1}\n",
    "    return sum(rating_map[char] for char in star_rating if char in rating_map)\n",
    "\n",
    "def scrape_reviews_per_movie(num_reviews_per_movie):\n",
    "    # Setup WebDriver\n",
    "    options = webdriver.ChromeOptions()\n",
    "    options.add_argument('--headless')\n",
    "    print(\"Attempting to connect to Selenium WebDriver...\")\n",
    "    \n",
    "    driver = webdriver.Remote(\n",
    "        command_executor='http://selenium:4444/wd/hub',\n",
    "        options=options\n",
    "    )\n",
    "    print(\"Successfully connected to WebDriver!\")\n",
    "    \n",
    "    movie_urls = pd.read_csv('/app/data/movie_urls.csv')['url'].tolist()\n",
    "    all_reviews = []\n",
    "\n",
    "    for movie_url in movie_urls:\n",
    "        print(f\"Scraping reviews for movie: {movie_url}\")\n",
    "        movie_reviews = []\n",
    "        driver.get(f\"{movie_url}/reviews/\")\n",
    "        \n",
    "        page = 1\n",
    "        while len(movie_reviews) < num_reviews_per_movie:\n",
    "            review_elements = driver.find_elements(By.CSS_SELECTOR, 'div.film-detail-content')\n",
    "            \n",
    "            for element in review_elements:\n",
    "                if len(movie_reviews) >= num_reviews_per_movie:\n",
    "                    break\n",
    "                \n",
    "                review_text_element = element.find_element(By.CSS_SELECTOR, 'div.body-text.-prose.collapsible-text')\n",
    "                review_text = review_text_element.text if review_text_element else None\n",
    "                \n",
    "                rating_element = element.find_element(By.CSS_SELECTOR, 'span.rating')\n",
    "                star_rating = rating_element.text if rating_element else None\n",
    "                \n",
    "                if review_text and star_rating is not None:\n",
    "                    movie_reviews.append({\n",
    "                        'movie_url': movie_url,\n",
    "                        'review': review_text,\n",
    "                        'rating': normalize_rating(star_rating)\n",
    "                    })\n",
    "            \n",
    "            # Go to next page if needed\n",
    "            if len(movie_reviews) < num_reviews_per_movie:\n",
    "                page += 1\n",
    "                driver.get(f\"{movie_url}/reviews/page/{page}/\")\n",
    "            else:\n",
    "                break\n",
    "        \n",
    "        all_reviews.extend(movie_reviews)\n",
    "    \n",
    "    df = pd.DataFrame(all_reviews)\n",
    "    return df\n",
    "\n",
    "    #df.to_csv('/app/data/movie_reviews.csv', index=False)"
   ]
  },
  {
   "cell_type": "code",
   "execution_count": 12,
   "id": "0baa541c-169e-4efc-b97d-a0d80cdc0980",
   "metadata": {},
   "outputs": [],
   "source": [
    "y = scrape_movie_urls(1)"
   ]
  },
  {
   "cell_type": "code",
   "execution_count": 13,
   "id": "47463785-e64b-4a3f-9578-325f74fbee49",
   "metadata": {},
   "outputs": [
    {
     "data": {
      "text/html": [
       "<div>\n",
       "<style scoped>\n",
       "    .dataframe tbody tr th:only-of-type {\n",
       "        vertical-align: middle;\n",
       "    }\n",
       "\n",
       "    .dataframe tbody tr th {\n",
       "        vertical-align: top;\n",
       "    }\n",
       "\n",
       "    .dataframe thead th {\n",
       "        text-align: right;\n",
       "    }\n",
       "</style>\n",
       "<table border=\"1\" class=\"dataframe\">\n",
       "  <thead>\n",
       "    <tr style=\"text-align: right;\">\n",
       "      <th></th>\n",
       "      <th>url</th>\n",
       "    </tr>\n",
       "  </thead>\n",
       "  <tbody>\n",
       "    <tr>\n",
       "      <th>0</th>\n",
       "      <td>https://letterboxd.com/film/barbie/</td>\n",
       "    </tr>\n",
       "  </tbody>\n",
       "</table>\n",
       "</div>"
      ],
      "text/plain": [
       "                                   url\n",
       "0  https://letterboxd.com/film/barbie/"
      ]
     },
     "execution_count": 13,
     "metadata": {},
     "output_type": "execute_result"
    }
   ],
   "source": [
    "y"
   ]
  },
  {
   "cell_type": "code",
   "execution_count": null,
   "id": "1ae1b1e3-d932-43b8-bc08-9a42c207ebc9",
   "metadata": {},
   "outputs": [],
   "source": []
  },
  {
   "cell_type": "code",
   "execution_count": null,
   "id": "e53a35d7-190c-4f5c-b57a-ae828235fe8e",
   "metadata": {},
   "outputs": [],
   "source": []
  },
  {
   "cell_type": "code",
   "execution_count": null,
   "id": "6fdf000c-d03d-4e10-bbb6-8fed0343931d",
   "metadata": {},
   "outputs": [],
   "source": []
  },
  {
   "cell_type": "code",
   "execution_count": null,
   "id": "c6f382d1-66c7-4c99-9393-f3ffb37cdbe1",
   "metadata": {},
   "outputs": [],
   "source": []
  },
  {
   "cell_type": "code",
   "execution_count": null,
   "id": "6d924fcb-6c19-42ba-bef2-533aeae44d93",
   "metadata": {},
   "outputs": [],
   "source": []
  },
  {
   "cell_type": "code",
   "execution_count": null,
   "id": "22720f87-74e1-4a4f-ba91-eca33e739286",
   "metadata": {},
   "outputs": [],
   "source": []
  },
  {
   "cell_type": "code",
   "execution_count": null,
   "id": "b57d6b26-702a-46f9-bf79-bdd26ca25cab",
   "metadata": {},
   "outputs": [],
   "source": []
  },
  {
   "cell_type": "code",
   "execution_count": null,
   "id": "e9bda9ee-51d7-4fe3-985e-189ac9791bc9",
   "metadata": {},
   "outputs": [],
   "source": []
  },
  {
   "cell_type": "code",
   "execution_count": null,
   "id": "17b0660b-ac86-4314-84e1-c184d51b56b9",
   "metadata": {},
   "outputs": [],
   "source": []
  },
  {
   "cell_type": "code",
   "execution_count": null,
   "id": "cb6786ff-ebb0-4c0e-84f6-a16242741d0a",
   "metadata": {},
   "outputs": [],
   "source": []
  },
  {
   "cell_type": "code",
   "execution_count": null,
   "id": "1b198911-9e30-47f9-8043-8412dbd045c1",
   "metadata": {},
   "outputs": [],
   "source": []
  },
  {
   "cell_type": "code",
   "execution_count": null,
   "id": "af0c77e3-3d98-4ee7-8985-5d9137c488f6",
   "metadata": {
    "editable": true,
    "slideshow": {
     "slide_type": ""
    },
    "tags": []
   },
   "outputs": [],
   "source": [
    "def normalize_rating(star_rating):\n",
    "    rating_map = {'★': 0.2, '½': 0.1}\n",
    "    return sum(rating_map[char] for char in star_rating if char in rating_map)\n",
    "\n",
    "# Example usage:\n",
    "normalized_reviews = [{'review': r['review'], 'rating': normalize_rating(r['rating'])} for r in reviews]\n"
   ]
  }
 ],
 "metadata": {
  "kernelspec": {
   "display_name": "Python 3 (ipykernel)",
   "language": "python",
   "name": "python3"
  },
  "language_info": {
   "codemirror_mode": {
    "name": "ipython",
    "version": 3
   },
   "file_extension": ".py",
   "mimetype": "text/x-python",
   "name": "python",
   "nbconvert_exporter": "python",
   "pygments_lexer": "ipython3",
   "version": "3.11.6"
  }
 },
 "nbformat": 4,
 "nbformat_minor": 5
}
