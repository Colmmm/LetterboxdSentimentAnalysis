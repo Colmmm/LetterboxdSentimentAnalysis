{
 "cells": [
  {
   "cell_type": "markdown",
   "id": "974120e2",
   "metadata": {
    "papermill": {
     "duration": 0.005639,
     "end_time": "2024-09-03T15:57:42.817586",
     "exception": false,
     "start_time": "2024-09-03T15:57:42.811947",
     "status": "completed"
    },
    "tags": []
   },
   "source": [
    "# 1. Setting Up the Environment\n",
    "\n",
    "## 1.1. Install dependencies:\n",
    "This command updates the system's package list and installs various libraries required for running Chrome and Selenium."
   ]
  },
  {
   "cell_type": "code",
   "execution_count": 1,
   "id": "901b43d0",
   "metadata": {
    "execution": {
     "iopub.execute_input": "2024-09-03T15:57:42.829843Z",
     "iopub.status.busy": "2024-09-03T15:57:42.829431Z",
     "iopub.status.idle": "2024-09-03T15:58:06.746288Z",
     "shell.execute_reply": "2024-09-03T15:58:06.744965Z"
    },
    "papermill": {
     "duration": 23.925724,
     "end_time": "2024-09-03T15:58:06.748716",
     "exception": false,
     "start_time": "2024-09-03T15:57:42.822992",
     "status": "completed"
    },
    "tags": []
   },
   "outputs": [
    {
     "name": "stdout",
     "output_type": "stream",
     "text": [
      "Get:1 http://packages.cloud.google.com/apt gcsfuse-focal InRelease [1227 B]\r\n",
      "Get:2 https://packages.cloud.google.com/apt cloud-sdk InRelease [1618 B]\r\n",
      "Hit:3 http://archive.ubuntu.com/ubuntu focal InRelease\r\n",
      "Get:4 http://security.ubuntu.com/ubuntu focal-security InRelease [128 kB]\r\n",
      "Get:5 http://archive.ubuntu.com/ubuntu focal-updates InRelease [128 kB]\r\n",
      "Get:6 https://packages.cloud.google.com/apt cloud-sdk/main all Packages [1511 kB]\r\n",
      "Get:7 https://packages.cloud.google.com/apt cloud-sdk/main amd64 Packages [3214 kB]\r\n",
      "Get:8 http://archive.ubuntu.com/ubuntu focal-backports InRelease [128 kB]\r\n",
      "Get:9 http://security.ubuntu.com/ubuntu focal-security/restricted amd64 Packages [3926 kB]\r\n",
      "Get:10 http://archive.ubuntu.com/ubuntu focal-updates/universe amd64 Packages [1555 kB]\r\n",
      "Get:11 http://archive.ubuntu.com/ubuntu focal-updates/restricted amd64 Packages [4079 kB]\r\n",
      "Get:12 http://security.ubuntu.com/ubuntu focal-security/main amd64 Packages [3934 kB]\r\n",
      "Get:13 http://archive.ubuntu.com/ubuntu focal-updates/multiverse amd64 Packages [33.5 kB]\r\n",
      "Get:14 http://archive.ubuntu.com/ubuntu focal-updates/main amd64 Packages [4399 kB]\r\n",
      "Get:15 http://security.ubuntu.com/ubuntu focal-security/multiverse amd64 Packages [30.9 kB]\r\n",
      "Get:16 http://security.ubuntu.com/ubuntu focal-security/universe amd64 Packages [1269 kB]\r\n",
      "\r\n",
      "E: Repository 'http://packages.cloud.google.com/apt gcsfuse-focal InRelease' changed its 'Origin' value from 'namespaces/gcs-fuse-prod/repositories/gcsfuse-focal' to 'gcsfuse-focal'\r\n",
      "E: Repository 'http://packages.cloud.google.com/apt gcsfuse-focal InRelease' changed its 'Label' value from 'namespaces/gcs-fuse-prod/repositories/gcsfuse-focal' to 'gcsfuse-focal'\r\n",
      "N: This must be accepted explicitly before updates for this repository can be applied. See apt-secure(8) manpage for details.\r\n",
      "\r\n",
      "\r\n",
      "\r\n",
      "libfontconfig1 is already the newest version (2.13.1-2ubuntu3).\r\n",
      "libvulkan1 is already the newest version (1.2.131.2-1).\r\n",
      "libvulkan1 set to manually installed.\r\n",
      "The following additional packages will be installed:\r\n",
      "  gconf-service gconf-service-backend libglib2.0-bin libudev1\r\n",
      "Recommended packages:\r\n",
      "  xdg-user-dirs\r\n",
      "The following NEW packages will be installed:\r\n",
      "  gconf-service gconf-service-backend gconf2-common libdbus-glib-1-2 libgbm1\r\n",
      "  libgconf-2-4 libu2f-udev libwayland-server0 udev\r\n",
      "The following packages will be upgraded:\r\n",
      "  libglib2.0-0 libglib2.0-bin libnss3 libudev1\r\n",
      "4 upgraded, 9 newly installed, 0 to remove and 128 not upgraded.\r\n",
      "Need to get 5180 kB of archives.\r\n",
      "After this operation, 18.4 MB of additional disk space will be used.\r\n",
      "Get:1 http://archive.ubuntu.com/ubuntu focal-updates/main amd64 libudev1 amd64 245.4-4ubuntu3.23 [75.6 kB]\r\n",
      "Get:2 http://archive.ubuntu.com/ubuntu focal-updates/main amd64 libglib2.0-bin amd64 2.64.6-1~ubuntu20.04.7 [72.8 kB]\r\n",
      "Get:3 http://archive.ubuntu.com/ubuntu focal-updates/main amd64 libglib2.0-0 amd64 2.64.6-1~ubuntu20.04.7 [1289 kB]\r\n",
      "Get:4 http://archive.ubuntu.com/ubuntu focal-updates/main amd64 udev amd64 245.4-4ubuntu3.23 [1366 kB]\r\n",
      "Get:5 http://archive.ubuntu.com/ubuntu focal/main amd64 libdbus-glib-1-2 amd64 0.110-5fakssync1 [59.1 kB]\r\n",
      "Get:6 http://archive.ubuntu.com/ubuntu focal/universe amd64 gconf2-common all 3.2.6-6ubuntu1 [698 kB]\r\n",
      "Get:7 http://archive.ubuntu.com/ubuntu focal/universe amd64 libgconf-2-4 amd64 3.2.6-6ubuntu1 [84.8 kB]\r\n",
      "Get:8 http://archive.ubuntu.com/ubuntu focal/universe amd64 gconf-service-backend amd64 3.2.6-6ubuntu1 [58.6 kB]\r\n",
      "Get:9 http://archive.ubuntu.com/ubuntu focal/universe amd64 gconf-service amd64 3.2.6-6ubuntu1 [17.4 kB]\r\n",
      "Get:10 http://archive.ubuntu.com/ubuntu focal-updates/main amd64 libwayland-server0 amd64 1.18.0-1ubuntu0.1 [31.3 kB]\r\n",
      "Get:11 http://archive.ubuntu.com/ubuntu focal-updates/main amd64 libgbm1 amd64 21.2.6-0ubuntu0.1~20.04.2 [29.2 kB]\r\n",
      "Get:12 http://archive.ubuntu.com/ubuntu focal-updates/main amd64 libnss3 amd64 2:3.98-0ubuntu0.20.04.2 [1391 kB]\r\n",
      "Get:13 http://archive.ubuntu.com/ubuntu focal/main amd64 libu2f-udev all 1.1.10-1 [6108 B]\r\n",
      "Fetched 5180 kB in 3s (2005 kB/s)\r\n",
      "(Reading database ... 108782 files and directories currently installed.)\r\n",
      "Preparing to unpack .../libudev1_245.4-4ubuntu3.23_amd64.deb ...\r\n",
      "Unpacking libudev1:amd64 (245.4-4ubuntu3.23) over (245.4-4ubuntu3.22) ...\r\n",
      "Setting up libudev1:amd64 (245.4-4ubuntu3.23) ...\r\n",
      "(Reading database ... 108782 files and directories currently installed.)\r\n",
      "Preparing to unpack .../00-libglib2.0-bin_2.64.6-1~ubuntu20.04.7_amd64.deb ...\r\n",
      "Unpacking libglib2.0-bin (2.64.6-1~ubuntu20.04.7) over (2.64.6-1~ubuntu20.04.6) ...\r\n",
      "Preparing to unpack .../01-libglib2.0-0_2.64.6-1~ubuntu20.04.7_amd64.deb ...\r\n",
      "Unpacking libglib2.0-0:amd64 (2.64.6-1~ubuntu20.04.7) over (2.64.6-1~ubuntu20.04.6) ...\r\n",
      "Selecting previously unselected package udev.\r\n",
      "Preparing to unpack .../02-udev_245.4-4ubuntu3.23_amd64.deb ...\r\n",
      "Unpacking udev (245.4-4ubuntu3.23) ...\r\n",
      "Selecting previously unselected package libdbus-glib-1-2:amd64.\r\n",
      "Preparing to unpack .../03-libdbus-glib-1-2_0.110-5fakssync1_amd64.deb ...\r\n",
      "Unpacking libdbus-glib-1-2:amd64 (0.110-5fakssync1) ...\r\n",
      "Selecting previously unselected package gconf2-common.\r\n",
      "Preparing to unpack .../04-gconf2-common_3.2.6-6ubuntu1_all.deb ...\r\n",
      "Unpacking gconf2-common (3.2.6-6ubuntu1) ...\r\n",
      "Selecting previously unselected package libgconf-2-4:amd64.\r\n",
      "Preparing to unpack .../05-libgconf-2-4_3.2.6-6ubuntu1_amd64.deb ...\r\n",
      "Unpacking libgconf-2-4:amd64 (3.2.6-6ubuntu1) ...\r\n",
      "Selecting previously unselected package gconf-service-backend.\r\n",
      "Preparing to unpack .../06-gconf-service-backend_3.2.6-6ubuntu1_amd64.deb ...\r\n",
      "Unpacking gconf-service-backend (3.2.6-6ubuntu1) ...\r\n",
      "Selecting previously unselected package gconf-service.\r\n",
      "Preparing to unpack .../07-gconf-service_3.2.6-6ubuntu1_amd64.deb ...\r\n",
      "Unpacking gconf-service (3.2.6-6ubuntu1) ...\r\n",
      "Selecting previously unselected package libwayland-server0:amd64.\r\n",
      "Preparing to unpack .../08-libwayland-server0_1.18.0-1ubuntu0.1_amd64.deb ...\r\n",
      "Unpacking libwayland-server0:amd64 (1.18.0-1ubuntu0.1) ...\r\n",
      "Selecting previously unselected package libgbm1:amd64.\r\n",
      "Preparing to unpack .../09-libgbm1_21.2.6-0ubuntu0.1~20.04.2_amd64.deb ...\r\n",
      "Unpacking libgbm1:amd64 (21.2.6-0ubuntu0.1~20.04.2) ...\r\n",
      "Preparing to unpack .../10-libnss3_2%3a3.98-0ubuntu0.20.04.2_amd64.deb ...\r\n",
      "Unpacking libnss3:amd64 (2:3.98-0ubuntu0.20.04.2) over (2:3.49.1-1ubuntu1.9) ...\r\n",
      "Selecting previously unselected package libu2f-udev.\r\n",
      "Preparing to unpack .../11-libu2f-udev_1.1.10-1_all.deb ...\r\n",
      "Unpacking libu2f-udev (1.1.10-1) ...\r\n",
      "Setting up libwayland-server0:amd64 (1.18.0-1ubuntu0.1) ...\r\n",
      "Setting up libgbm1:amd64 (21.2.6-0ubuntu0.1~20.04.2) ...\r\n",
      "Setting up libglib2.0-0:amd64 (2.64.6-1~ubuntu20.04.7) ...\r\n",
      "Setting up libglib2.0-bin (2.64.6-1~ubuntu20.04.7) ...\r\n",
      "Setting up libnss3:amd64 (2:3.98-0ubuntu0.20.04.2) ...\r\n",
      "Setting up gconf2-common (3.2.6-6ubuntu1) ...\r\n",
      "\r\n",
      "Creating config file /etc/gconf/2/path with new version\r\n",
      "Setting up libdbus-glib-1-2:amd64 (0.110-5fakssync1) ...\r\n",
      "Setting up udev (245.4-4ubuntu3.23) ...\r\n",
      "invoke-rc.d: could not determine current runlevel\r\n",
      "invoke-rc.d: policy-rc.d denied execution of start.\r\n",
      "Setting up libgconf-2-4:amd64 (3.2.6-6ubuntu1) ...\r\n",
      "Setting up libu2f-udev (1.1.10-1) ...\r\n",
      "Failed to send reload request: No such file or directory\r\n",
      "Setting up gconf-service (3.2.6-6ubuntu1) ...\r\n",
      "Setting up gconf-service-backend (3.2.6-6ubuntu1) ...\r\n",
      "Processing triggers for libc-bin (2.31-0ubuntu9.9) ...\r\n",
      "Processing triggers for systemd (245.4-4ubuntu3.22) ...\r\n",
      "Processing triggers for man-db (2.9.1-1) ...\r\n",
      "\r\n",
      "\r\n",
      "\r\n",
      "0 upgraded, 0 newly installed, 0 to remove and 128 not upgraded.\r\n"
     ]
    }
   ],
   "source": [
    "!apt-get update -y\n",
    "!apt-get install -y \\\n",
    "libglib2.0-0 \\\n",
    "libnss3 \\\n",
    "libdbus-glib-1-2 \\\n",
    "libgconf-2-4 \\\n",
    "libfontconfig1 \\\n",
    "libvulkan1 \\\n",
    "gconf2-common \\\n",
    "libwayland-server0 \\\n",
    "libgbm1 \\\n",
    "udev \\\n",
    "libu2f-udev \n",
    "!apt --fix-broken install -y  "
   ]
  },
  {
   "cell_type": "markdown",
   "id": "5e1b0468",
   "metadata": {
    "papermill": {
     "duration": 0.013573,
     "end_time": "2024-09-03T15:58:06.776463",
     "exception": false,
     "start_time": "2024-09-03T15:58:06.762890",
     "status": "completed"
    },
    "tags": []
   },
   "source": [
    "## 1.2. Download and extract Chrome:\n",
    "\n",
    "To use Selenium, you will need to download and install Chrome and Chromedriver.\n",
    "\n",
    "* **Chrome**: Chrome is a popular web browser that is known for its speed and security.\n",
    "* **Chromedriver**: Chromedriver is a tool that allows Selenium to interact with Chrome.\n",
    "\n",
    "Downloads the latest stable version of Chrome for Linux and extracts it to the /usr/bin directory."
   ]
  },
  {
   "cell_type": "code",
   "execution_count": 2,
   "id": "72bee945",
   "metadata": {
    "execution": {
     "iopub.execute_input": "2024-09-03T15:58:06.806613Z",
     "iopub.status.busy": "2024-09-03T15:58:06.806196Z",
     "iopub.status.idle": "2024-09-03T15:58:20.621722Z",
     "shell.execute_reply": "2024-09-03T15:58:20.620538Z"
    },
    "papermill": {
     "duration": 13.833937,
     "end_time": "2024-09-03T15:58:20.624377",
     "exception": false,
     "start_time": "2024-09-03T15:58:06.790440",
     "status": "completed"
    },
    "tags": []
   },
   "outputs": [
    {
     "name": "stdout",
     "output_type": "stream",
     "text": [
      "--2024-09-03 15:58:07--  https://edgedl.me.gvt1.com/edgedl/chrome/chrome-for-testing/116.0.5845.96/linux64/chrome-linux64.zip\r\n",
      "Resolving edgedl.me.gvt1.com (edgedl.me.gvt1.com)... 34.104.35.123, 2600:1900:4110:86f::\r\n",
      "Connecting to edgedl.me.gvt1.com (edgedl.me.gvt1.com)|34.104.35.123|:443... connected.\r\n",
      "HTTP request sent, awaiting response... 302 Found\r\n",
      "Location: https://storage.googleapis.com/chrome-for-testing-public/116.0.5845.96/linux64/chrome-linux64.zip [following]\r\n",
      "--2024-09-03 15:58:08--  https://storage.googleapis.com/chrome-for-testing-public/116.0.5845.96/linux64/chrome-linux64.zip\r\n",
      "Resolving storage.googleapis.com (storage.googleapis.com)... 142.251.8.207, 108.177.97.207, 142.250.157.207, ...\r\n",
      "Connecting to storage.googleapis.com (storage.googleapis.com)|142.251.8.207|:443... connected.\r\n",
      "HTTP request sent, awaiting response... 200 OK\r\n",
      "Length: 145898081 (139M) [application/zip]\r\n",
      "Saving to: '/tmp/chrome-linux64.zip'\r\n",
      "\r\n",
      "chrome-linux64.zip  100%[===================>] 139.14M  24.1MB/s    in 6.5s    \r\n",
      "\r\n",
      "2024-09-03 15:58:15 (21.2 MB/s) - '/tmp/chrome-linux64.zip' saved [145898081/145898081]\r\n",
      "\r\n",
      "Archive:  /tmp/chrome-linux64.zip\r\n",
      "  inflating: /usr/bin/chrome-linux64/MEIPreload/manifest.json  \r\n",
      "  inflating: /usr/bin/chrome-linux64/MEIPreload/preloaded_data.pb  \r\n",
      "  inflating: /usr/bin/chrome-linux64/chrome  \r\n",
      "  inflating: /usr/bin/chrome-linux64/chrome-wrapper  \r\n",
      "  inflating: /usr/bin/chrome-linux64/chrome_100_percent.pak  \r\n",
      "  inflating: /usr/bin/chrome-linux64/chrome_200_percent.pak  \r\n",
      "  inflating: /usr/bin/chrome-linux64/chrome_crashpad_handler  \r\n",
      "  inflating: /usr/bin/chrome-linux64/chrome_sandbox  \r\n",
      "  inflating: /usr/bin/chrome-linux64/icudtl.dat  \r\n",
      "  inflating: /usr/bin/chrome-linux64/libEGL.so  \r\n",
      "  inflating: /usr/bin/chrome-linux64/libGLESv2.so  \r\n",
      "  inflating: /usr/bin/chrome-linux64/libvk_swiftshader.so  \r\n",
      "  inflating: /usr/bin/chrome-linux64/libvulkan.so.1  \r\n",
      "  inflating: /usr/bin/chrome-linux64/nacl_helper  \r\n",
      "  inflating: /usr/bin/chrome-linux64/nacl_helper_bootstrap  \r\n",
      "  inflating: /usr/bin/chrome-linux64/nacl_irt_x86_64.nexe  \r\n",
      " extracting: /usr/bin/chrome-linux64/product_logo_48.png  \r\n",
      "  inflating: /usr/bin/chrome-linux64/resources.pak  \r\n",
      "  inflating: /usr/bin/chrome-linux64/v8_context_snapshot.bin  \r\n",
      "  inflating: /usr/bin/chrome-linux64/vk_swiftshader_icd.json  \r\n",
      "  inflating: /usr/bin/chrome-linux64/xdg-mime  \r\n",
      "  inflating: /usr/bin/chrome-linux64/xdg-settings  \r\n",
      "   creating: /usr/bin/chrome-linux64/locales/\r\n",
      "  inflating: /usr/bin/chrome-linux64/locales/fr.pak.info  \r\n",
      "  inflating: /usr/bin/chrome-linux64/locales/ur.pak.info  \r\n",
      "  inflating: /usr/bin/chrome-linux64/locales/sw.pak  \r\n",
      "  inflating: /usr/bin/chrome-linux64/locales/ar.pak  \r\n",
      "  inflating: /usr/bin/chrome-linux64/locales/sk.pak.info  \r\n",
      "  inflating: /usr/bin/chrome-linux64/locales/hu.pak.info  \r\n",
      "  inflating: /usr/bin/chrome-linux64/locales/ms.pak  \r\n",
      "  inflating: /usr/bin/chrome-linux64/locales/vi.pak.info  \r\n",
      "  inflating: /usr/bin/chrome-linux64/locales/es.pak  \r\n",
      "  inflating: /usr/bin/chrome-linux64/locales/he.pak.info  \r\n",
      "  inflating: /usr/bin/chrome-linux64/locales/hr.pak  \r\n",
      "  inflating: /usr/bin/chrome-linux64/locales/en-GB.pak  \r\n",
      "  inflating: /usr/bin/chrome-linux64/locales/zh-CN.pak  \r\n",
      "  inflating: /usr/bin/chrome-linux64/locales/pt-BR.pak.info  \r\n",
      "  inflating: /usr/bin/chrome-linux64/locales/en-US.pak.info  \r\n",
      "  inflating: /usr/bin/chrome-linux64/locales/de.pak.info  \r\n",
      "  inflating: /usr/bin/chrome-linux64/locales/af.pak.info  \r\n",
      "  inflating: /usr/bin/chrome-linux64/locales/fil.pak  \r\n",
      "  inflating: /usr/bin/chrome-linux64/locales/el.pak  \r\n",
      "  inflating: /usr/bin/chrome-linux64/locales/bg.pak  \r\n",
      "  inflating: /usr/bin/chrome-linux64/locales/fa.pak  \r\n",
      "  inflating: /usr/bin/chrome-linux64/locales/uk.pak  \r\n",
      "  inflating: /usr/bin/chrome-linux64/locales/kn.pak  \r\n",
      "  inflating: /usr/bin/chrome-linux64/locales/en-GB.pak.info  \r\n",
      "  inflating: /usr/bin/chrome-linux64/locales/sl.pak  \r\n",
      "  inflating: /usr/bin/chrome-linux64/locales/sv.pak.info  \r\n",
      "  inflating: /usr/bin/chrome-linux64/locales/ko.pak  \r\n",
      "  inflating: /usr/bin/chrome-linux64/locales/nb.pak  \r\n",
      "  inflating: /usr/bin/chrome-linux64/locales/tr.pak  \r\n",
      "  inflating: /usr/bin/chrome-linux64/locales/th.pak.info  \r\n",
      "  inflating: /usr/bin/chrome-linux64/locales/ar.pak.info  \r\n",
      "  inflating: /usr/bin/chrome-linux64/locales/pt-PT.pak.info  \r\n",
      "  inflating: /usr/bin/chrome-linux64/locales/pt-PT.pak  \r\n",
      "  inflating: /usr/bin/chrome-linux64/locales/vi.pak  \r\n",
      "  inflating: /usr/bin/chrome-linux64/locales/ml.pak.info  \r\n",
      "  inflating: /usr/bin/chrome-linux64/locales/es.pak.info  \r\n",
      "  inflating: /usr/bin/chrome-linux64/locales/mr.pak.info  \r\n",
      "  inflating: /usr/bin/chrome-linux64/locales/tr.pak.info  \r\n",
      "  inflating: /usr/bin/chrome-linux64/locales/hi.pak.info  \r\n",
      "  inflating: /usr/bin/chrome-linux64/locales/fa.pak.info  \r\n",
      "  inflating: /usr/bin/chrome-linux64/locales/ja.pak  \r\n",
      "  inflating: /usr/bin/chrome-linux64/locales/bg.pak.info  \r\n",
      "  inflating: /usr/bin/chrome-linux64/locales/sr.pak.info  \r\n",
      "  inflating: /usr/bin/chrome-linux64/locales/fi.pak  \r\n",
      "  inflating: /usr/bin/chrome-linux64/locales/ca.pak  \r\n",
      "  inflating: /usr/bin/chrome-linux64/locales/et.pak.info  \r\n",
      "  inflating: /usr/bin/chrome-linux64/locales/ko.pak.info  \r\n",
      "  inflating: /usr/bin/chrome-linux64/locales/gu.pak  \r\n",
      "  inflating: /usr/bin/chrome-linux64/locales/et.pak  \r\n",
      "  inflating: /usr/bin/chrome-linux64/locales/it.pak.info  \r\n",
      "  inflating: /usr/bin/chrome-linux64/locales/lv.pak.info  \r\n",
      "  inflating: /usr/bin/chrome-linux64/locales/sr.pak  \r\n",
      "  inflating: /usr/bin/chrome-linux64/locales/bn.pak  \r\n",
      "  inflating: /usr/bin/chrome-linux64/locales/pl.pak  \r\n",
      "  inflating: /usr/bin/chrome-linux64/locales/el.pak.info  \r\n",
      "  inflating: /usr/bin/chrome-linux64/locales/lv.pak  \r\n",
      "  inflating: /usr/bin/chrome-linux64/locales/ca.pak.info  \r\n",
      "  inflating: /usr/bin/chrome-linux64/locales/uk.pak.info  \r\n",
      "  inflating: /usr/bin/chrome-linux64/locales/nl.pak  \r\n",
      "  inflating: /usr/bin/chrome-linux64/locales/sw.pak.info  \r\n",
      "  inflating: /usr/bin/chrome-linux64/locales/de.pak  \r\n",
      "  inflating: /usr/bin/chrome-linux64/locales/af.pak  \r\n",
      "  inflating: /usr/bin/chrome-linux64/locales/hi.pak  \r\n",
      "  inflating: /usr/bin/chrome-linux64/locales/pl.pak.info  \r\n",
      "  inflating: /usr/bin/chrome-linux64/locales/he.pak  \r\n",
      "  inflating: /usr/bin/chrome-linux64/locales/sv.pak  \r\n",
      "  inflating: /usr/bin/chrome-linux64/locales/ms.pak.info  \r\n",
      "  inflating: /usr/bin/chrome-linux64/locales/sk.pak  \r\n",
      "  inflating: /usr/bin/chrome-linux64/locales/bn.pak.info  \r\n",
      "  inflating: /usr/bin/chrome-linux64/locales/cs.pak.info  \r\n",
      "  inflating: /usr/bin/chrome-linux64/locales/kn.pak.info  \r\n",
      "  inflating: /usr/bin/chrome-linux64/locales/zh-CN.pak.info  \r\n",
      "  inflating: /usr/bin/chrome-linux64/locales/id.pak.info  \r\n",
      "  inflating: /usr/bin/chrome-linux64/locales/es-419.pak.info  \r\n",
      "  inflating: /usr/bin/chrome-linux64/locales/lt.pak  \r\n",
      "  inflating: /usr/bin/chrome-linux64/locales/ur.pak  \r\n",
      "  inflating: /usr/bin/chrome-linux64/locales/ta.pak.info  \r\n",
      "  inflating: /usr/bin/chrome-linux64/locales/zh-TW.pak  \r\n",
      "  inflating: /usr/bin/chrome-linux64/locales/te.pak  \r\n",
      "  inflating: /usr/bin/chrome-linux64/locales/ja.pak.info  \r\n",
      "  inflating: /usr/bin/chrome-linux64/locales/en-US.pak  \r\n",
      "  inflating: /usr/bin/chrome-linux64/locales/nb.pak.info  \r\n",
      "  inflating: /usr/bin/chrome-linux64/locales/it.pak  \r\n",
      "  inflating: /usr/bin/chrome-linux64/locales/es-419.pak  \r\n",
      "  inflating: /usr/bin/chrome-linux64/locales/nl.pak.info  \r\n",
      "  inflating: /usr/bin/chrome-linux64/locales/cs.pak  \r\n",
      "  inflating: /usr/bin/chrome-linux64/locales/zh-TW.pak.info  \r\n",
      "  inflating: /usr/bin/chrome-linux64/locales/ru.pak.info  \r\n",
      "  inflating: /usr/bin/chrome-linux64/locales/da.pak  \r\n",
      "  inflating: /usr/bin/chrome-linux64/locales/lt.pak.info  \r\n",
      "  inflating: /usr/bin/chrome-linux64/locales/ml.pak  \r\n",
      "  inflating: /usr/bin/chrome-linux64/locales/mr.pak  \r\n",
      "  inflating: /usr/bin/chrome-linux64/locales/pt-BR.pak  \r\n",
      "  inflating: /usr/bin/chrome-linux64/locales/da.pak.info  \r\n",
      "  inflating: /usr/bin/chrome-linux64/locales/te.pak.info  \r\n",
      "  inflating: /usr/bin/chrome-linux64/locales/fil.pak.info  \r\n",
      "  inflating: /usr/bin/chrome-linux64/locales/ta.pak  \r\n",
      "  inflating: /usr/bin/chrome-linux64/locales/id.pak  \r\n",
      "  inflating: /usr/bin/chrome-linux64/locales/am.pak.info  \r\n",
      "  inflating: /usr/bin/chrome-linux64/locales/am.pak  \r\n",
      "  inflating: /usr/bin/chrome-linux64/locales/hu.pak  \r\n",
      "  inflating: /usr/bin/chrome-linux64/locales/fi.pak.info  \r\n",
      "  inflating: /usr/bin/chrome-linux64/locales/sl.pak.info  \r\n",
      "  inflating: /usr/bin/chrome-linux64/locales/ro.pak  \r\n",
      "  inflating: /usr/bin/chrome-linux64/locales/th.pak  \r\n",
      "  inflating: /usr/bin/chrome-linux64/locales/fr.pak  \r\n",
      "  inflating: /usr/bin/chrome-linux64/locales/gu.pak.info  \r\n",
      "  inflating: /usr/bin/chrome-linux64/locales/ru.pak  \r\n",
      "  inflating: /usr/bin/chrome-linux64/locales/ro.pak.info  \r\n",
      "  inflating: /usr/bin/chrome-linux64/locales/hr.pak.info  \r\n",
      "   creating: /usr/bin/chrome-linux64/resources/\r\n",
      "   creating: /usr/bin/chrome-linux64/resources/inspector_overlay/\r\n",
      "  inflating: /usr/bin/chrome-linux64/resources/inspector_overlay/inspector_overlay_resources.grd  \r\n",
      "  inflating: /usr/bin/chrome-linux64/resources/inspector_overlay/main.js  \r\n"
     ]
    }
   ],
   "source": [
    "!wget -P /tmp https://edgedl.me.gvt1.com/edgedl/chrome/chrome-for-testing/116.0.5845.96/linux64/chrome-linux64.zip\n",
    "!unzip /tmp/chrome-linux64.zip -d /usr/bin/"
   ]
  },
  {
   "cell_type": "markdown",
   "id": "413f8219",
   "metadata": {
    "papermill": {
     "duration": 0.017616,
     "end_time": "2024-09-03T15:58:20.660264",
     "exception": false,
     "start_time": "2024-09-03T15:58:20.642648",
     "status": "completed"
    },
    "tags": []
   },
   "source": [
    "## 1.3. Download and extract Chromedriver:\n",
    "\n",
    "As it was done in the previous code."
   ]
  },
  {
   "cell_type": "code",
   "execution_count": 3,
   "id": "ee0bd1b4",
   "metadata": {
    "execution": {
     "iopub.execute_input": "2024-09-03T15:58:20.698458Z",
     "iopub.status.busy": "2024-09-03T15:58:20.698043Z",
     "iopub.status.idle": "2024-09-03T15:58:25.208527Z",
     "shell.execute_reply": "2024-09-03T15:58:25.207229Z"
    },
    "papermill": {
     "duration": 4.533024,
     "end_time": "2024-09-03T15:58:25.211119",
     "exception": false,
     "start_time": "2024-09-03T15:58:20.678095",
     "status": "completed"
    },
    "tags": []
   },
   "outputs": [
    {
     "name": "stdout",
     "output_type": "stream",
     "text": [
      "--2024-09-03 15:58:21--  https://edgedl.me.gvt1.com/edgedl/chrome/chrome-for-testing/116.0.5845.96/linux64/chromedriver-linux64.zip\r\n",
      "Resolving edgedl.me.gvt1.com (edgedl.me.gvt1.com)... 34.104.35.123, 2600:1900:4110:86f::\r\n",
      "Connecting to edgedl.me.gvt1.com (edgedl.me.gvt1.com)|34.104.35.123|:443... connected.\r\n",
      "HTTP request sent, awaiting response... 302 Found\r\n",
      "Location: https://storage.googleapis.com/chrome-for-testing-public/116.0.5845.96/linux64/chromedriver-linux64.zip [following]\r\n",
      "--2024-09-03 15:58:21--  https://storage.googleapis.com/chrome-for-testing-public/116.0.5845.96/linux64/chromedriver-linux64.zip\r\n",
      "Resolving storage.googleapis.com (storage.googleapis.com)... 74.125.203.207, 142.251.170.207, 142.251.8.207, ...\r\n",
      "Connecting to storage.googleapis.com (storage.googleapis.com)|74.125.203.207|:443... connected.\r\n",
      "HTTP request sent, awaiting response... 200 OK\r\n",
      "Length: 7271942 (6.9M) [application/zip]\r\n",
      "Saving to: '/tmp/chromedriver-linux64.zip'\r\n",
      "\r\n",
      "chromedriver-linux6 100%[===================>]   6.93M  6.51MB/s    in 1.1s    \r\n",
      "\r\n",
      "2024-09-03 15:58:23 (6.51 MB/s) - '/tmp/chromedriver-linux64.zip' saved [7271942/7271942]\r\n",
      "\r\n",
      "Archive:  /tmp/chromedriver-linux64.zip\r\n",
      "  inflating: /usr/bin/chromedriver-linux64/LICENSE.chromedriver  \r\n",
      "  inflating: /usr/bin/chromedriver-linux64/chromedriver  \r\n"
     ]
    }
   ],
   "source": [
    "!wget -P /tmp https://edgedl.me.gvt1.com/edgedl/chrome/chrome-for-testing/116.0.5845.96/linux64/chromedriver-linux64.zip\n",
    "!unzip /tmp/chromedriver-linux64.zip -d /usr/bin/"
   ]
  },
  {
   "cell_type": "markdown",
   "id": "ab1d3934",
   "metadata": {
    "papermill": {
     "duration": 0.018154,
     "end_time": "2024-09-03T15:58:25.247778",
     "exception": false,
     "start_time": "2024-09-03T15:58:25.229624",
     "status": "completed"
    },
    "tags": []
   },
   "source": [
    "## 1.4. Install Python libraries"
   ]
  },
  {
   "cell_type": "code",
   "execution_count": 4,
   "id": "417cfeeb",
   "metadata": {
    "execution": {
     "iopub.execute_input": "2024-09-03T15:58:25.286303Z",
     "iopub.status.busy": "2024-09-03T15:58:25.285888Z",
     "iopub.status.idle": "2024-09-03T15:58:57.857097Z",
     "shell.execute_reply": "2024-09-03T15:58:57.855776Z"
    },
    "papermill": {
     "duration": 32.593738,
     "end_time": "2024-09-03T15:58:57.859770",
     "exception": false,
     "start_time": "2024-09-03T15:58:25.266032",
     "status": "completed"
    },
    "tags": []
   },
   "outputs": [
    {
     "name": "stdout",
     "output_type": "stream",
     "text": [
      "\r\n",
      "\r\n",
      "\r\n",
      "The following additional packages will be installed:\r\n",
      "  apparmor chromium-browser chromium-chromedriver liblzo2-2 snapd\r\n",
      "  squashfs-tools\r\n",
      "Suggested packages:\r\n",
      "  apparmor-profiles-extra apparmor-utils zenity | kdialog\r\n",
      "The following NEW packages will be installed:\r\n",
      "  apparmor chromium-browser chromium-chromedriver liblzo2-2 python3-selenium\r\n",
      "  snapd squashfs-tools\r\n",
      "0 upgraded, 7 newly installed, 0 to remove and 128 not upgraded.\r\n",
      "Need to get 25.9 MB of archives.\r\n",
      "After this operation, 107 MB of additional disk space will be used.\r\n",
      "Get:1 http://archive.ubuntu.com/ubuntu focal-updates/main amd64 apparmor amd64 2.13.3-7ubuntu5.3 [502 kB]\r\n",
      "Get:2 http://archive.ubuntu.com/ubuntu focal/main amd64 liblzo2-2 amd64 2.10-2 [50.8 kB]\r\n",
      "Get:3 http://archive.ubuntu.com/ubuntu focal-updates/main amd64 squashfs-tools amd64 1:4.4-1ubuntu0.3 [117 kB]\r\n",
      "Get:4 http://archive.ubuntu.com/ubuntu focal-updates/main amd64 snapd amd64 2.63+20.04ubuntu0.1 [25.1 MB]\r\n",
      "Get:5 http://archive.ubuntu.com/ubuntu focal-updates/universe amd64 chromium-browser amd64 1:85.0.4183.83-0ubuntu0.20.04.3 [48.5 kB]\r\n",
      "Get:6 http://archive.ubuntu.com/ubuntu focal-updates/universe amd64 chromium-chromedriver amd64 1:85.0.4183.83-0ubuntu0.20.04.3 [2496 B]\r\n",
      "Get:7 http://archive.ubuntu.com/ubuntu focal/universe amd64 python3-selenium all 4.0.0~a1+dfsg1-1.1 [86.2 kB]\r\n",
      "Fetched 25.9 MB in 4s (6727 kB/s)\r\n",
      "Preconfiguring packages ...\r\n",
      "\n",
      "\u001b7\u001b[0;23r\u001b8\u001b[1ASelecting previously unselected package apparmor.\r\n",
      "(Reading database ... 109076 files and directories currently installed.)\r\n",
      "Preparing to unpack .../apparmor_2.13.3-7ubuntu5.3_amd64.deb ...\r\n",
      "\u001b7\u001b[24;0f\u001b[42m\u001b[30mProgress: [  0%]\u001b[49m\u001b[39m [..........................................................] \u001b8\u001b7\u001b[24;0f\u001b[42m\u001b[30mProgress: [  3%]\u001b[49m\u001b[39m [##........................................................] \u001b8Unpacking apparmor (2.13.3-7ubuntu5.3) ...\r\n",
      "\u001b7\u001b[24;0f\u001b[42m\u001b[30mProgress: [  7%]\u001b[49m\u001b[39m [####......................................................] \u001b8Selecting previously unselected package liblzo2-2:amd64.\r\n",
      "Preparing to unpack .../liblzo2-2_2.10-2_amd64.deb ...\r\n",
      "\u001b7\u001b[24;0f\u001b[42m\u001b[30mProgress: [ 10%]\u001b[49m\u001b[39m [######....................................................] \u001b8Unpacking liblzo2-2:amd64 (2.10-2) ...\r\n",
      "\u001b7\u001b[24;0f\u001b[42m\u001b[30mProgress: [ 14%]\u001b[49m\u001b[39m [########..................................................] \u001b8Selecting previously unselected package squashfs-tools.\r\n",
      "Preparing to unpack .../squashfs-tools_1%3a4.4-1ubuntu0.3_amd64.deb ...\r\n",
      "\u001b7\u001b[24;0f\u001b[42m\u001b[30mProgress: [ 17%]\u001b[49m\u001b[39m [#########.................................................] \u001b8Unpacking squashfs-tools (1:4.4-1ubuntu0.3) ...\r\n",
      "\u001b7\u001b[24;0f\u001b[42m\u001b[30mProgress: [ 21%]\u001b[49m\u001b[39m [############..............................................] \u001b8Selecting previously unselected package snapd.\r\n",
      "Preparing to unpack .../snapd_2.63+20.04ubuntu0.1_amd64.deb ...\r\n",
      "\u001b7\u001b[24;0f\u001b[42m\u001b[30mProgress: [ 24%]\u001b[49m\u001b[39m [##############............................................] \u001b8Unpacking snapd (2.63+20.04ubuntu0.1) ...\r\n",
      "\u001b7\u001b[24;0f\u001b[42m\u001b[30mProgress: [ 28%]\u001b[49m\u001b[39m [################..........................................] \u001b8Setting up apparmor (2.13.3-7ubuntu5.3) ...\r\n",
      "\u001b7\u001b[24;0f\u001b[42m\u001b[30mProgress: [ 31%]\u001b[49m\u001b[39m [##################........................................] \u001b8Created symlink /etc/systemd/system/sysinit.target.wants/apparmor.service -> /lib/systemd/system/apparmor.service.\r\n",
      "\u001b7\u001b[24;0f\u001b[42m\u001b[30mProgress: [ 34%]\u001b[49m\u001b[39m [###################.......................................] \u001b8Setting up liblzo2-2:amd64 (2.10-2) ...\r\n",
      "\u001b7\u001b[24;0f\u001b[42m\u001b[30mProgress: [ 38%]\u001b[49m\u001b[39m [######################....................................] \u001b8\u001b7\u001b[24;0f\u001b[42m\u001b[30mProgress: [ 41%]\u001b[49m\u001b[39m [########################..................................] \u001b8Setting up squashfs-tools (1:4.4-1ubuntu0.3) ...\r\n",
      "\u001b7\u001b[24;0f\u001b[42m\u001b[30mProgress: [ 45%]\u001b[49m\u001b[39m [##########################................................] \u001b8\u001b7\u001b[24;0f\u001b[42m\u001b[30mProgress: [ 48%]\u001b[49m\u001b[39m [############################..............................] \u001b8Setting up snapd (2.63+20.04ubuntu0.1) ...\r\n",
      "\u001b7\u001b[24;0f\u001b[42m\u001b[30mProgress: [ 52%]\u001b[49m\u001b[39m [#############################.............................] \u001b8Created symlink /etc/systemd/system/multi-user.target.wants/snapd.apparmor.service -> /lib/systemd/system/snapd.apparmor.service.\r\n",
      "Created symlink /etc/systemd/system/multi-user.target.wants/snapd.autoimport.service -> /lib/systemd/system/snapd.autoimport.service.\r\n",
      "Created symlink /etc/systemd/system/multi-user.target.wants/snapd.core-fixup.service -> /lib/systemd/system/snapd.core-fixup.service.\r\n",
      "Created symlink /etc/systemd/system/multi-user.target.wants/snapd.recovery-chooser-trigger.service -> /lib/systemd/system/snapd.recovery-chooser-trigger.service.\r\n",
      "Created symlink /etc/systemd/system/multi-user.target.wants/snapd.seeded.service -> /lib/systemd/system/snapd.seeded.service.\r\n",
      "Created symlink /etc/systemd/system/cloud-final.service.wants/snapd.seeded.service -> /lib/systemd/system/snapd.seeded.service.\r\n",
      "Created symlink /etc/systemd/system/multi-user.target.wants/snapd.service -> /lib/systemd/system/snapd.service.\r\n",
      "Created symlink /etc/systemd/system/timers.target.wants/snapd.snap-repair.timer -> /lib/systemd/system/snapd.snap-repair.timer.\r\n",
      "Created symlink /etc/systemd/system/sockets.target.wants/snapd.socket -> /lib/systemd/system/snapd.socket.\r\n",
      "Created symlink /etc/systemd/system/final.target.wants/snapd.system-shutdown.service -> /lib/systemd/system/snapd.system-shutdown.service.\r\n",
      "\u001b7\u001b[24;0f\u001b[42m\u001b[30mProgress: [ 55%]\u001b[49m\u001b[39m [################################..........................] \u001b8Selecting previously unselected package chromium-browser.\r\n",
      "(Reading database ... 109369 files and directories currently installed.)\r\n",
      "Preparing to unpack .../chromium-browser_1%3a85.0.4183.83-0ubuntu0.20.04.3_amd64.deb ...\r\n",
      "\u001b7\u001b[24;0f\u001b[42m\u001b[30mProgress: [ 59%]\u001b[49m\u001b[39m [##################################........................] \u001b8=> Installing the chromium snap\r\n",
      "==> Checking connectivity with the snap store\r\n",
      "===> System doesn't have a working snapd, skipping\r\n",
      "Unpacking chromium-browser (1:85.0.4183.83-0ubuntu0.20.04.3) ...\r\n",
      "\u001b7\u001b[24;0f\u001b[42m\u001b[30mProgress: [ 62%]\u001b[49m\u001b[39m [####################################......................] \u001b8Selecting previously unselected package chromium-chromedriver.\r\n",
      "Preparing to unpack .../chromium-chromedriver_1%3a85.0.4183.83-0ubuntu0.20.04.3_amd64.deb ...\r\n",
      "\u001b7\u001b[24;0f\u001b[42m\u001b[30mProgress: [ 66%]\u001b[49m\u001b[39m [######################################....................] \u001b8Unpacking chromium-chromedriver (1:85.0.4183.83-0ubuntu0.20.04.3) ...\r\n",
      "\u001b7\u001b[24;0f\u001b[42m\u001b[30mProgress: [ 69%]\u001b[49m\u001b[39m [#######################################...................] \u001b8Selecting previously unselected package python3-selenium.\r\n",
      "Preparing to unpack .../python3-selenium_4.0.0~a1+dfsg1-1.1_all.deb ...\r\n",
      "\u001b7\u001b[24;0f\u001b[42m\u001b[30mProgress: [ 72%]\u001b[49m\u001b[39m [##########################################................] \u001b8Unpacking python3-selenium (4.0.0~a1+dfsg1-1.1) ...\r\n",
      "\u001b7\u001b[24;0f\u001b[42m\u001b[30mProgress: [ 76%]\u001b[49m\u001b[39m [############################################..............] \u001b8Setting up python3-selenium (4.0.0~a1+dfsg1-1.1) ...\r\n",
      "\u001b7\u001b[24;0f\u001b[42m\u001b[30mProgress: [ 79%]\u001b[49m\u001b[39m [##############################################............] \u001b8\u001b7\u001b[24;0f\u001b[42m\u001b[30mProgress: [ 83%]\u001b[49m\u001b[39m [################################################..........] \u001b8Setting up chromium-browser (1:85.0.4183.83-0ubuntu0.20.04.3) ...\r\n",
      "\u001b7\u001b[24;0f\u001b[42m\u001b[30mProgress: [ 86%]\u001b[49m\u001b[39m [##################################################........] \u001b8update-alternatives: using /usr/bin/chromium-browser to provide /usr/bin/x-www-browser (x-www-browser) in auto mode\r\n",
      "update-alternatives: using /usr/bin/chromium-browser to provide /usr/bin/gnome-www-browser (gnome-www-browser) in auto mode\r\n",
      "\u001b7\u001b[24;0f\u001b[42m\u001b[30mProgress: [ 90%]\u001b[49m\u001b[39m [####################################################......] \u001b8Setting up chromium-chromedriver (1:85.0.4183.83-0ubuntu0.20.04.3) ...\r\n",
      "\u001b7\u001b[24;0f\u001b[42m\u001b[30mProgress: [ 93%]\u001b[49m\u001b[39m [#####################################################.....] \u001b8\u001b7\u001b[24;0f\u001b[42m\u001b[30mProgress: [ 97%]\u001b[49m\u001b[39m [########################################################..] \u001b8Processing triggers for mime-support (3.64ubuntu1) ...\r\n",
      "Processing triggers for hicolor-icon-theme (0.17-2) ...\r\n",
      "Processing triggers for libc-bin (2.31-0ubuntu9.9) ...\r\n",
      "Processing triggers for systemd (245.4-4ubuntu3.22) ...\r\n",
      "Processing triggers for man-db (2.9.1-1) ...\r\n",
      "Processing triggers for dbus (1.12.16-2ubuntu2.3) ...\r\n",
      "\r\n",
      "\u001b7\u001b[0;24r\u001b8\u001b[1A\u001b[JCollecting selenium==3.141.0\r\n",
      "  Obtaining dependency information for selenium==3.141.0 from https://files.pythonhosted.org/packages/80/d6/4294f0b4bce4de0abf13e17190289f9d0613b0a44e5dd6a7f5ca98459853/selenium-3.141.0-py2.py3-none-any.whl.metadata\r\n",
      "  Downloading selenium-3.141.0-py2.py3-none-any.whl.metadata (6.6 kB)\r\n",
      "Requirement already satisfied: urllib3 in /opt/conda/lib/python3.10/site-packages (from selenium==3.141.0) (1.26.15)\r\n",
      "Downloading selenium-3.141.0-py2.py3-none-any.whl (904 kB)\r\n",
      "\u001b[2K   \u001b[90m━━━━━━━━━━━━━━━━━━━━━━━━━━━━━━━━━━━━━━━━\u001b[0m \u001b[32m904.6/904.6 kB\u001b[0m \u001b[31m10.5 MB/s\u001b[0m eta \u001b[36m0:00:00\u001b[0m\r\n",
      "\u001b[?25hInstalling collected packages: selenium\r\n",
      "Successfully installed selenium-3.141.0\r\n"
     ]
    }
   ],
   "source": [
    "!apt install -y python3-selenium\n",
    "!pip install selenium==3.141.0"
   ]
  },
  {
   "cell_type": "markdown",
   "id": "9d818c83",
   "metadata": {
    "papermill": {
     "duration": 0.023537,
     "end_time": "2024-09-03T15:58:57.907601",
     "exception": false,
     "start_time": "2024-09-03T15:58:57.884064",
     "status": "completed"
    },
    "tags": []
   },
   "source": [
    "# 2.Importing Libraries\n",
    "\n",
    "You will also need to install the following Python libraries:\n",
    "\n",
    "* **selenium**: The Selenium library provides the API for interacting with web pages.\n",
    "* **webdriver**: The webdriver library provides a way to interact with web drivers, such as Chromedriver.\n",
    "* **BeautifulSoup**: The BeautifulSoup library is used for parsing HTML content."
   ]
  },
  {
   "cell_type": "code",
   "execution_count": 5,
   "id": "9b3b9ef0",
   "metadata": {
    "_cell_guid": "b1076dfc-b9ad-4769-8c92-a6c4dae69d19",
    "_uuid": "8f2839f25d086af736a60e9eeb907d3b93b6e0e5",
    "execution": {
     "iopub.execute_input": "2024-09-03T15:58:57.958446Z",
     "iopub.status.busy": "2024-09-03T15:58:57.958040Z",
     "iopub.status.idle": "2024-09-03T15:58:59.033870Z",
     "shell.execute_reply": "2024-09-03T15:58:59.032810Z"
    },
    "papermill": {
     "duration": 1.104668,
     "end_time": "2024-09-03T15:58:59.036519",
     "exception": false,
     "start_time": "2024-09-03T15:58:57.931851",
     "status": "completed"
    },
    "tags": []
   },
   "outputs": [],
   "source": [
    "import pandas as pd # data processing, CSV file I/O (e.g. pd.read_csv)\n",
    "import requests\n",
    "from bs4 import BeautifulSoup\n",
    "from tqdm import tqdm\n",
    "from retrying import retry\n",
    "import time\n",
    "import traceback\n",
    "import os"
   ]
  },
  {
   "cell_type": "markdown",
   "id": "695e7108",
   "metadata": {
    "papermill": {
     "duration": 0.023859,
     "end_time": "2024-09-03T15:58:59.084568",
     "exception": false,
     "start_time": "2024-09-03T15:58:59.060709",
     "status": "completed"
    },
    "tags": []
   },
   "source": [
    "# 3. Configuring Chrome Driver\n",
    "\n",
    "These functions define the locations of Chrome and Chromedriver executables. Additionally, initialize_driver creates a Chrome webdriver instance with specific options:\n",
    "\n",
    "* *--headless*: Runs Chrome in headless mode, making it invisible.\n",
    "* *--no-sandbox*: Disables the sandbox for improved performance.\n",
    "* *--start-fullscreen*: Starts Chrome in fullscreen mode.\n",
    "* *--allow-insecure-localhost*: Allows access to insecure local websites (if needed).\n",
    "* *--disable-dev-shm-usage*: Disables shared memory usage for Chrome.\n",
    "* *user-agent*: Sets the user agent string to mimic a regular browser."
   ]
  },
  {
   "cell_type": "code",
   "execution_count": 6,
   "id": "7bb4457d",
   "metadata": {
    "execution": {
     "iopub.execute_input": "2024-09-03T15:58:59.196854Z",
     "iopub.status.busy": "2024-09-03T15:58:59.195704Z",
     "iopub.status.idle": "2024-09-03T15:58:59.226509Z",
     "shell.execute_reply": "2024-09-03T15:58:59.225584Z"
    },
    "papermill": {
     "duration": 0.058971,
     "end_time": "2024-09-03T15:58:59.229008",
     "exception": false,
     "start_time": "2024-09-03T15:58:59.170037",
     "status": "completed"
    },
    "tags": []
   },
   "outputs": [],
   "source": [
    "from selenium import webdriver\n",
    "from selenium.webdriver.chrome.options import Options\n",
    "from selenium.webdriver.common.by import By\n",
    "from selenium.webdriver.support.ui import WebDriverWait\n",
    "from selenium.webdriver.support import expected_conditions as EC\n",
    "from selenium.webdriver.common.action_chains import ActionChains\n",
    "from selenium.common.exceptions import NoSuchElementException, TimeoutException, StaleElementReferenceException\n",
    "\n",
    "CHROME_BINARY_LOCATION = \"/usr/bin/chrome-linux64/chrome\"\n",
    "CHROMEDRIVER_BINARY_LOCATION = \"/usr/bin/chromedriver-linux64/chromedriver\"\n",
    "\n",
    "def add_driver_options(options):\n",
    "    \"\"\"\n",
    "    Add configurable options\n",
    "    \"\"\"\n",
    "    chrome_options = Options()\n",
    "    for opt in options:\n",
    "        chrome_options.add_argument(opt)\n",
    "    return chrome_options\n",
    "\n",
    "def initialize_driver():\n",
    "    \"\"\"\n",
    "    Initialize the web driver\n",
    "    \"\"\"\n",
    "    driver_config = {\n",
    "        \"options\": [\n",
    "            \"--headless\",\n",
    "            \"--no-sandbox\",\n",
    "            \"--start-fullscreen\",\n",
    "            \"--allow-insecure-localhost\",\n",
    "            \"--disable-dev-shm-usage\",\n",
    "            \"user-agent=Chrome/116.0.5845.96\"\n",
    "        ],\n",
    "    }\n",
    "    options = add_driver_options(driver_config[\"options\"])\n",
    "    options.binary_location = CHROME_BINARY_LOCATION\n",
    "    driver = webdriver.Chrome(\n",
    "        executable_path=CHROMEDRIVER_BINARY_LOCATION,\n",
    "        options=options)\n",
    "    return driver\n"
   ]
  },
  {
   "cell_type": "markdown",
   "id": "30302733",
   "metadata": {
    "papermill": {
     "duration": 0.024247,
     "end_time": "2024-09-03T15:58:59.277797",
     "exception": false,
     "start_time": "2024-09-03T15:58:59.253550",
     "status": "completed"
    },
    "tags": []
   },
   "source": [
    "# 4) Scrape metadata"
   ]
  },
  {
   "cell_type": "code",
   "execution_count": 7,
   "id": "27a5dd9d",
   "metadata": {
    "execution": {
     "iopub.execute_input": "2024-09-03T15:58:59.329664Z",
     "iopub.status.busy": "2024-09-03T15:58:59.328936Z",
     "iopub.status.idle": "2024-09-03T15:58:59.352072Z",
     "shell.execute_reply": "2024-09-03T15:58:59.351113Z"
    },
    "papermill": {
     "duration": 0.051711,
     "end_time": "2024-09-03T15:58:59.354374",
     "exception": false,
     "start_time": "2024-09-03T15:58:59.302663",
     "status": "completed"
    },
    "tags": []
   },
   "outputs": [],
   "source": [
    "from selenium.common.exceptions import TimeoutException, NoSuchElementException\n",
    "from tqdm import tqdm\n",
    "import pandas as pd\n",
    "import os\n",
    "\n",
    "def extract_movie_metadata(movie_url, driver):\n",
    "    movie_metadata = {}\n",
    "\n",
    "    try:\n",
    "        # Load the movie page\n",
    "        driver.get(movie_url)\n",
    "        WebDriverWait(driver, 20).until(\n",
    "            EC.presence_of_all_elements_located((By.CSS_SELECTOR, 'ul.film-stats'))\n",
    "        )\n",
    "\n",
    "        # Extract watches\n",
    "        try:\n",
    "            watches_element = driver.find_element(By.CSS_SELECTOR, 'li.stat.filmstat-watches a')\n",
    "            watches_text = watches_element.get_attribute('data-original-title')\n",
    "            movie_metadata['watches'] = int(watches_text.split()[2].replace(',', ''))\n",
    "        except (NoSuchElementException, ValueError):\n",
    "            movie_metadata['watches'] = None\n",
    "\n",
    "        # Extract likes\n",
    "        try:\n",
    "            likes_element = driver.find_element(By.CSS_SELECTOR, 'li.stat.filmstat-likes a')\n",
    "            likes_text = likes_element.get_attribute('data-original-title')\n",
    "            movie_metadata['likes'] = int(likes_text.split()[2].replace(',', ''))\n",
    "        except (NoSuchElementException, ValueError):\n",
    "            movie_metadata['likes'] = None\n",
    "\n",
    "        # Extract lists\n",
    "        try:\n",
    "            lists_element = driver.find_element(By.CSS_SELECTOR, 'li.stat.filmstat-lists a')\n",
    "            lists_text = lists_element.get_attribute('data-original-title')\n",
    "            movie_metadata['lists'] = int(lists_text.split()[2].replace(',', ''))\n",
    "        except (NoSuchElementException, ValueError):\n",
    "            movie_metadata['lists'] = None\n",
    "\n",
    "        # Extract synopsis\n",
    "        try:\n",
    "            synopsis_element = driver.find_element(By.CSS_SELECTOR, 'div.review.body-text.-prose.-hero.prettify div.truncate p')\n",
    "            movie_metadata['synopsis'] = synopsis_element.text\n",
    "        except NoSuchElementException:\n",
    "            movie_metadata['synopsis'] = None\n",
    "\n",
    "        # Extract fans\n",
    "        try:\n",
    "            fans_element = driver.find_element(By.CSS_SELECTOR, 'a.all-link.more-link')\n",
    "            fans_text = fans_element.text.split()[0]\n",
    "            if 'K' in fans_text:\n",
    "                fans_text = str(float(fans_text.replace('K', '')) * 1000)\n",
    "            elif 'M' in fans_text:\n",
    "                fans_text = str(float(fans_text.replace('M', '')) * 1000000)\n",
    "            fans_text = fans_text.replace('\\xa0', '').replace(',', '').split('.')[0]\n",
    "            movie_metadata['fans'] = int(fans_text)\n",
    "        except (NoSuchElementException, ValueError):\n",
    "            movie_metadata['fans'] = None\n",
    "\n",
    "        # Extract average rating and total number of ratings\n",
    "        try:\n",
    "            average_rating_element = driver.find_element(By.CSS_SELECTOR, 'span.average-rating a.tooltip.display-rating').get_attribute(\"data-original-title\")\n",
    "            movie_metadata['average_rating'] = float(average_rating_element.split()[3])\n",
    "            movie_metadata['total_ratings'] = int(average_rating_element.split()[6].replace(\",\", \"\"))\n",
    "        except (NoSuchElementException, ValueError):\n",
    "            movie_metadata['average_rating'] = None\n",
    "            movie_metadata['total_ratings'] = None\n",
    "\n",
    "        # Extract rating distribution\n",
    "        try:\n",
    "            histogram_element = driver.find_element(By.CSS_SELECTOR, 'div.rating-histogram.clear.rating-histogram-exploded')\n",
    "            rating_bars = histogram_element.find_elements(By.CSS_SELECTOR, 'li.rating-histogram-bar')\n",
    "            rating_distribution = []\n",
    "            for bar in rating_bars:\n",
    "                rating_text = bar.find_element(By.CSS_SELECTOR, 'a').get_attribute('data-original-title')\n",
    "                num_ratings = int(rating_text.split()[0].replace('\\xa0', '').replace(',', ''))\n",
    "                rating_distribution.append(num_ratings)\n",
    "            if movie_metadata['total_ratings']:\n",
    "                rating_distribution = [rating / movie_metadata['total_ratings'] for rating in rating_distribution]\n",
    "            movie_metadata['rating_distribution'] = rating_distribution\n",
    "        except (NoSuchElementException, ValueError):\n",
    "            movie_metadata['rating_distribution'] = None\n",
    "\n",
    "        # Extract genres from a different page\n",
    "        driver.get(f\"{movie_url}genres/\")\n",
    "        try:\n",
    "            genres_element = driver.find_element(By.CSS_SELECTOR, 'div#tab-genres p')\n",
    "            movie_metadata['genres'] = [genre.text for genre in genres_element.find_elements(By.TAG_NAME, 'a')]\n",
    "        except (NoSuchElementException, ValueError):\n",
    "            movie_metadata['genres'] = []\n",
    "\n",
    "    except TimeoutException:\n",
    "        print(f\"Timeout while loading {movie_url}\")\n",
    "        movie_metadata = None  # Returning None if there's a timeout\n",
    "\n",
    "    return movie_metadata\n",
    "\n",
    "def save_checkpoint(df, checkpoint_filename):\n",
    "    df.to_csv(checkpoint_filename, index=False)\n",
    "    print(f\"Checkpoint saved to {checkpoint_filename}\")\n",
    "\n",
    "def scrape_movie_metadata(movie_urls, driver, checkpoint_filename=\"movie_metadata_checkpoint.csv\", existing_metadata=None):\n",
    "    if existing_metadata is None:\n",
    "        existing_metadata = pd.DataFrame()\n",
    "\n",
    "    scraped_urls = set(existing_metadata['movie_url']) if 'movie_url' in existing_metadata.columns else set()\n",
    "    new_metadata = []\n",
    "    checkpoint_interval = 10\n",
    "\n",
    "    for idx, url in enumerate(tqdm(movie_urls, desc=\"Processing Movies\"), start=1):\n",
    "        if url not in scraped_urls:\n",
    "            metadata = extract_movie_metadata(url, driver)\n",
    "            if metadata:  # Only add if metadata is successfully retrieved\n",
    "                metadata['movie_url'] = url  # Use 'movie_url' instead of 'url'\n",
    "                new_metadata.append(metadata)\n",
    "                scraped_urls.add(url)\n",
    "\n",
    "        if idx % checkpoint_interval == 0:\n",
    "            df = pd.DataFrame(new_metadata)\n",
    "            movie_metadata_df = pd.concat([existing_metadata, df], ignore_index=True)\n",
    "            save_checkpoint(movie_metadata_df, checkpoint_filename)\n",
    "\n",
    "    new_metadata_df = pd.DataFrame(new_metadata)\n",
    "    movie_metadata_df = pd.concat([existing_metadata, new_metadata_df], ignore_index=True)\n",
    "    save_checkpoint(movie_metadata_df, checkpoint_filename)\n",
    "\n",
    "    return movie_metadata_df\n"
   ]
  },
  {
   "cell_type": "code",
   "execution_count": 8,
   "id": "9592c56b",
   "metadata": {
    "execution": {
     "iopub.execute_input": "2024-09-03T15:58:59.404793Z",
     "iopub.status.busy": "2024-09-03T15:58:59.404395Z",
     "iopub.status.idle": "2024-09-03T15:58:59.615891Z",
     "shell.execute_reply": "2024-09-03T15:58:59.614704Z"
    },
    "papermill": {
     "duration": 0.239365,
     "end_time": "2024-09-03T15:58:59.618075",
     "exception": false,
     "start_time": "2024-09-03T15:58:59.378710",
     "status": "completed"
    },
    "tags": []
   },
   "outputs": [
    {
     "name": "stdout",
     "output_type": "stream",
     "text": [
      "4248 10000\n"
     ]
    },
    {
     "data": {
      "text/html": [
       "<div>\n",
       "<style scoped>\n",
       "    .dataframe tbody tr th:only-of-type {\n",
       "        vertical-align: middle;\n",
       "    }\n",
       "\n",
       "    .dataframe tbody tr th {\n",
       "        vertical-align: top;\n",
       "    }\n",
       "\n",
       "    .dataframe thead th {\n",
       "        text-align: right;\n",
       "    }\n",
       "</style>\n",
       "<table border=\"1\" class=\"dataframe\">\n",
       "  <thead>\n",
       "    <tr style=\"text-align: right;\">\n",
       "      <th></th>\n",
       "      <th>movie_title</th>\n",
       "      <th>movie_user_url</th>\n",
       "      <th>review_text</th>\n",
       "      <th>rating</th>\n",
       "      <th>review_date</th>\n",
       "      <th>movie_year</th>\n",
       "      <th>liked</th>\n",
       "      <th>user_url</th>\n",
       "      <th>username</th>\n",
       "      <th>movie_url</th>\n",
       "    </tr>\n",
       "  </thead>\n",
       "  <tbody>\n",
       "    <tr>\n",
       "      <th>0</th>\n",
       "      <td>The Bikeriders</td>\n",
       "      <td>https://letterboxd.com/kurstboy/film/the-biker...</td>\n",
       "      <td>michael shannon knocks it out of the park as a...</td>\n",
       "      <td>0.7</td>\n",
       "      <td>Watched 01 Sep 2024</td>\n",
       "      <td>2023.0</td>\n",
       "      <td>True</td>\n",
       "      <td>https://letterboxd.com/kurstboy/</td>\n",
       "      <td>kurstboy</td>\n",
       "      <td>https://letterboxd.com/film/the-bikeriders/</td>\n",
       "    </tr>\n",
       "    <tr>\n",
       "      <th>1</th>\n",
       "      <td>The Heartbreak Kid</td>\n",
       "      <td>https://letterboxd.com/kurstboy/film/the-heart...</td>\n",
       "      <td>40 to 50 out of 5 stars</td>\n",
       "      <td>1.0</td>\n",
       "      <td>Rewatched 28 Aug 2024</td>\n",
       "      <td>1972.0</td>\n",
       "      <td>True</td>\n",
       "      <td>https://letterboxd.com/kurstboy/</td>\n",
       "      <td>kurstboy</td>\n",
       "      <td>https://letterboxd.com/film/the-heartbreak-kid...</td>\n",
       "    </tr>\n",
       "    <tr>\n",
       "      <th>2</th>\n",
       "      <td>Design for Living</td>\n",
       "      <td>https://letterboxd.com/kurstboy/film/design-fo...</td>\n",
       "      <td>lubitsch just knows how to get it done</td>\n",
       "      <td>0.9</td>\n",
       "      <td>Watched 27 Aug 2024</td>\n",
       "      <td>1933.0</td>\n",
       "      <td>True</td>\n",
       "      <td>https://letterboxd.com/kurstboy/</td>\n",
       "      <td>kurstboy</td>\n",
       "      <td>https://letterboxd.com/film/design-for-living/</td>\n",
       "    </tr>\n",
       "    <tr>\n",
       "      <th>3</th>\n",
       "      <td>King Kong</td>\n",
       "      <td>https://letterboxd.com/kurstboy/film/king-kong...</td>\n",
       "      <td>monkey mondays #34\\nkind of flabbergasted at h...</td>\n",
       "      <td>0.8</td>\n",
       "      <td>Watched 26 Aug 2024</td>\n",
       "      <td>1976.0</td>\n",
       "      <td>True</td>\n",
       "      <td>https://letterboxd.com/kurstboy/</td>\n",
       "      <td>kurstboy</td>\n",
       "      <td>https://letterboxd.com/film/king-kong-1976/</td>\n",
       "    </tr>\n",
       "    <tr>\n",
       "      <th>4</th>\n",
       "      <td>Bobo the Monkey</td>\n",
       "      <td>https://letterboxd.com/kurstboy/film/bobo-the-...</td>\n",
       "      <td>monkey mondays #33</td>\n",
       "      <td>0.8</td>\n",
       "      <td>Watched 19 Aug 2024</td>\n",
       "      <td>2021.0</td>\n",
       "      <td>True</td>\n",
       "      <td>https://letterboxd.com/kurstboy/</td>\n",
       "      <td>kurstboy</td>\n",
       "      <td>https://letterboxd.com/film/bobo-the-monkey/</td>\n",
       "    </tr>\n",
       "  </tbody>\n",
       "</table>\n",
       "</div>"
      ],
      "text/plain": [
       "          movie_title                                     movie_user_url  \\\n",
       "0      The Bikeriders  https://letterboxd.com/kurstboy/film/the-biker...   \n",
       "1  The Heartbreak Kid  https://letterboxd.com/kurstboy/film/the-heart...   \n",
       "2   Design for Living  https://letterboxd.com/kurstboy/film/design-fo...   \n",
       "3           King Kong  https://letterboxd.com/kurstboy/film/king-kong...   \n",
       "4     Bobo the Monkey  https://letterboxd.com/kurstboy/film/bobo-the-...   \n",
       "\n",
       "                                         review_text  rating  \\\n",
       "0  michael shannon knocks it out of the park as a...     0.7   \n",
       "1                            40 to 50 out of 5 stars     1.0   \n",
       "2             lubitsch just knows how to get it done     0.9   \n",
       "3  monkey mondays #34\\nkind of flabbergasted at h...     0.8   \n",
       "4                                 monkey mondays #33     0.8   \n",
       "\n",
       "             review_date  movie_year  liked                          user_url  \\\n",
       "0    Watched 01 Sep 2024      2023.0   True  https://letterboxd.com/kurstboy/   \n",
       "1  Rewatched 28 Aug 2024      1972.0   True  https://letterboxd.com/kurstboy/   \n",
       "2    Watched 27 Aug 2024      1933.0   True  https://letterboxd.com/kurstboy/   \n",
       "3    Watched 26 Aug 2024      1976.0   True  https://letterboxd.com/kurstboy/   \n",
       "4    Watched 19 Aug 2024      2021.0   True  https://letterboxd.com/kurstboy/   \n",
       "\n",
       "   username                                          movie_url  \n",
       "0  kurstboy        https://letterboxd.com/film/the-bikeriders/  \n",
       "1  kurstboy  https://letterboxd.com/film/the-heartbreak-kid...  \n",
       "2  kurstboy     https://letterboxd.com/film/design-for-living/  \n",
       "3  kurstboy        https://letterboxd.com/film/king-kong-1976/  \n",
       "4  kurstboy       https://letterboxd.com/film/bobo-the-monkey/  "
      ]
     },
     "execution_count": 8,
     "metadata": {},
     "output_type": "execute_result"
    }
   ],
   "source": [
    "# read in user reviews and get unique movie urls\n",
    "user_reviews = pd.read_csv(\"/kaggle/input/user-reviews-100-100/user_reviews.csv\", index_col=0)\n",
    "#user_reviews = user_reviews.loc[:300]\n",
    "# get movie urls to scrape\n",
    "movie_urls = user_reviews.movie_url.unique()\n",
    "#movie_urls = movie_urls[:10]\n",
    "# preview them\n",
    "print(len(movie_urls), len(user_reviews))\n",
    "user_reviews.head()"
   ]
  },
  {
   "cell_type": "code",
   "execution_count": 9,
   "id": "b3fe6087",
   "metadata": {
    "execution": {
     "iopub.execute_input": "2024-09-03T15:58:59.668779Z",
     "iopub.status.busy": "2024-09-03T15:58:59.668398Z",
     "iopub.status.idle": "2024-09-03T15:58:59.674870Z",
     "shell.execute_reply": "2024-09-03T15:58:59.673748Z"
    },
    "papermill": {
     "duration": 0.034282,
     "end_time": "2024-09-03T15:58:59.677133",
     "exception": false,
     "start_time": "2024-09-03T15:58:59.642851",
     "status": "completed"
    },
    "tags": []
   },
   "outputs": [],
   "source": [
    "def load_existing_metadata():\n",
    "    # Define the local file path and Kaggle input path\n",
    "    local_file = \"movie_metadata_checkpoint.csv\"\n",
    "    kaggle_file = \"/kaggle/input/add-metadata-to-user-reviews/movie_metadata_checkpoint.csv\"\n",
    "    \n",
    "    # Check if the local file exists\n",
    "    if os.path.exists(local_file):\n",
    "        print(f\"Loading metadata from local file: {local_file}\")\n",
    "        df = pd.read_csv(local_file)\n",
    "    elif os.path.exists(kaggle_file):\n",
    "        print(f\"Local file not found. Loading metadata from Kaggle input path: {kaggle_file}\")\n",
    "        df = pd.read_csv(kaggle_file)\n",
    "    else:\n",
    "        print(f\"No local or kaggle input file found\")\n",
    "        df = None\n",
    "    return df\n"
   ]
  },
  {
   "cell_type": "code",
   "execution_count": 10,
   "id": "64396dc5",
   "metadata": {
    "execution": {
     "iopub.execute_input": "2024-09-03T15:58:59.728974Z",
     "iopub.status.busy": "2024-09-03T15:58:59.727737Z",
     "iopub.status.idle": "2024-09-03T21:58:18.604430Z",
     "shell.execute_reply": "2024-09-03T21:58:18.601464Z"
    },
    "papermill": {
     "duration": 21558.906539,
     "end_time": "2024-09-03T21:58:18.608521",
     "exception": false,
     "start_time": "2024-09-03T15:58:59.701982",
     "status": "completed"
    },
    "tags": []
   },
   "outputs": [
    {
     "name": "stdout",
     "output_type": "stream",
     "text": [
      "Local file not found. Loading metadata from Kaggle input path: /kaggle/input/add-metadata-to-user-reviews/movie_metadata_checkpoint.csv\n"
     ]
    },
    {
     "name": "stderr",
     "output_type": "stream",
     "text": [
      "Processing Movies:   0%|          | 0/4248 [00:00<?, ?it/s]"
     ]
    },
    {
     "name": "stdout",
     "output_type": "stream",
     "text": [
      "Checkpoint saved to movie_metadata_checkpoint.csv\n"
     ]
    },
    {
     "name": "stderr",
     "output_type": "stream",
     "text": [
      "Processing Movies:   3%|▎         | 140/4248 [02:18<39:52,  1.72it/s] "
     ]
    },
    {
     "name": "stdout",
     "output_type": "stream",
     "text": [
      "Checkpoint saved to movie_metadata_checkpoint.csv\n",
      "Checkpoint saved to movie_metadata_checkpoint.csv\n",
      "Checkpoint saved to movie_metadata_checkpoint.csv\n",
      "Checkpoint saved to movie_metadata_checkpoint.csv\n",
      "Checkpoint saved to movie_metadata_checkpoint.csv\n",
      "Checkpoint saved to movie_metadata_checkpoint.csv\n",
      "Checkpoint saved to movie_metadata_checkpoint.csv\n",
      "Checkpoint saved to movie_metadata_checkpoint.csv\n",
      "Checkpoint saved to movie_metadata_checkpoint.csv\n",
      "Checkpoint saved to movie_metadata_checkpoint.csv\n",
      "Checkpoint saved to movie_metadata_checkpoint.csv\n",
      "Checkpoint saved to movie_metadata_checkpoint.csv\n",
      "Checkpoint saved to movie_metadata_checkpoint.csv\n"
     ]
    },
    {
     "name": "stderr",
     "output_type": "stream",
     "text": [
      "Processing Movies:   5%|▍         | 210/4248 [02:18<21:09,  3.18it/s]"
     ]
    },
    {
     "name": "stdout",
     "output_type": "stream",
     "text": [
      "Checkpoint saved to movie_metadata_checkpoint.csv\n",
      "Checkpoint saved to movie_metadata_checkpoint.csv\n",
      "Checkpoint saved to movie_metadata_checkpoint.csv\n",
      "Checkpoint saved to movie_metadata_checkpoint.csv\n",
      "Checkpoint saved to movie_metadata_checkpoint.csv\n",
      "Checkpoint saved to movie_metadata_checkpoint.csv\n",
      "Checkpoint saved to movie_metadata_checkpoint.csv\n",
      "Checkpoint saved to movie_metadata_checkpoint.csv\n",
      "Checkpoint saved to movie_metadata_checkpoint.csv\n",
      "Checkpoint saved to movie_metadata_checkpoint.csv\n",
      "Checkpoint saved to movie_metadata_checkpoint.csv\n",
      "Checkpoint saved to movie_metadata_checkpoint.csv\n",
      "Checkpoint saved to movie_metadata_checkpoint.csv\n"
     ]
    },
    {
     "name": "stderr",
     "output_type": "stream",
     "text": [
      "Processing Movies:   7%|▋         | 277/4248 [02:20<13:29,  4.91it/s]"
     ]
    },
    {
     "name": "stdout",
     "output_type": "stream",
     "text": [
      "Checkpoint saved to movie_metadata_checkpoint.csv\n"
     ]
    },
    {
     "name": "stderr",
     "output_type": "stream",
     "text": [
      "Processing Movies:   7%|▋         | 288/4248 [03:16<54:52,  1.20it/s]"
     ]
    },
    {
     "name": "stdout",
     "output_type": "stream",
     "text": [
      "Checkpoint saved to movie_metadata_checkpoint.csv\n"
     ]
    },
    {
     "name": "stderr",
     "output_type": "stream",
     "text": [
      "Processing Movies:   7%|▋         | 299/4248 [04:05<2:19:21,  2.12s/it]"
     ]
    },
    {
     "name": "stdout",
     "output_type": "stream",
     "text": [
      "Checkpoint saved to movie_metadata_checkpoint.csv\n"
     ]
    },
    {
     "name": "stderr",
     "output_type": "stream",
     "text": [
      "Processing Movies:   7%|▋         | 310/4248 [05:03<4:35:01,  4.19s/it]"
     ]
    },
    {
     "name": "stdout",
     "output_type": "stream",
     "text": [
      "Checkpoint saved to movie_metadata_checkpoint.csv\n"
     ]
    },
    {
     "name": "stderr",
     "output_type": "stream",
     "text": [
      "Processing Movies:   8%|▊         | 320/4248 [05:49<4:47:53,  4.40s/it]"
     ]
    },
    {
     "name": "stdout",
     "output_type": "stream",
     "text": [
      "Checkpoint saved to movie_metadata_checkpoint.csv\n"
     ]
    },
    {
     "name": "stderr",
     "output_type": "stream",
     "text": [
      "Processing Movies:   8%|▊         | 330/4248 [06:40<6:06:47,  5.62s/it]"
     ]
    },
    {
     "name": "stdout",
     "output_type": "stream",
     "text": [
      "Checkpoint saved to movie_metadata_checkpoint.csv\n"
     ]
    },
    {
     "name": "stderr",
     "output_type": "stream",
     "text": [
      "Processing Movies:   8%|▊         | 340/4248 [07:27<5:02:05,  4.64s/it]"
     ]
    },
    {
     "name": "stdout",
     "output_type": "stream",
     "text": [
      "Checkpoint saved to movie_metadata_checkpoint.csv\n"
     ]
    },
    {
     "name": "stderr",
     "output_type": "stream",
     "text": [
      "Processing Movies:   8%|▊         | 350/4248 [08:25<6:10:05,  5.70s/it]"
     ]
    },
    {
     "name": "stdout",
     "output_type": "stream",
     "text": [
      "Checkpoint saved to movie_metadata_checkpoint.csv\n"
     ]
    },
    {
     "name": "stderr",
     "output_type": "stream",
     "text": [
      "Processing Movies:   8%|▊         | 360/4248 [09:19<5:59:00,  5.54s/it]"
     ]
    },
    {
     "name": "stdout",
     "output_type": "stream",
     "text": [
      "Checkpoint saved to movie_metadata_checkpoint.csv\n"
     ]
    },
    {
     "name": "stderr",
     "output_type": "stream",
     "text": [
      "Processing Movies:   9%|▊         | 370/4248 [10:09<5:59:45,  5.57s/it]"
     ]
    },
    {
     "name": "stdout",
     "output_type": "stream",
     "text": [
      "Checkpoint saved to movie_metadata_checkpoint.csv\n"
     ]
    },
    {
     "name": "stderr",
     "output_type": "stream",
     "text": [
      "Processing Movies:   9%|▉         | 380/4248 [10:59<6:44:43,  6.28s/it]"
     ]
    },
    {
     "name": "stdout",
     "output_type": "stream",
     "text": [
      "Checkpoint saved to movie_metadata_checkpoint.csv\n"
     ]
    },
    {
     "name": "stderr",
     "output_type": "stream",
     "text": [
      "Processing Movies:   9%|▉         | 390/4248 [11:52<5:30:09,  5.13s/it]"
     ]
    },
    {
     "name": "stdout",
     "output_type": "stream",
     "text": [
      "Checkpoint saved to movie_metadata_checkpoint.csv\n"
     ]
    },
    {
     "name": "stderr",
     "output_type": "stream",
     "text": [
      "Processing Movies:   9%|▉         | 400/4248 [12:40<5:05:41,  4.77s/it]"
     ]
    },
    {
     "name": "stdout",
     "output_type": "stream",
     "text": [
      "Checkpoint saved to movie_metadata_checkpoint.csv\n"
     ]
    },
    {
     "name": "stderr",
     "output_type": "stream",
     "text": [
      "Processing Movies:  10%|▉         | 410/4248 [13:32<5:39:45,  5.31s/it]"
     ]
    },
    {
     "name": "stdout",
     "output_type": "stream",
     "text": [
      "Checkpoint saved to movie_metadata_checkpoint.csv\n"
     ]
    },
    {
     "name": "stderr",
     "output_type": "stream",
     "text": [
      "Processing Movies:  10%|▉         | 420/4248 [14:21<5:14:32,  4.93s/it]"
     ]
    },
    {
     "name": "stdout",
     "output_type": "stream",
     "text": [
      "Checkpoint saved to movie_metadata_checkpoint.csv\n"
     ]
    },
    {
     "name": "stderr",
     "output_type": "stream",
     "text": [
      "Processing Movies:  10%|█         | 430/4248 [15:03<3:45:47,  3.55s/it]"
     ]
    },
    {
     "name": "stdout",
     "output_type": "stream",
     "text": [
      "Checkpoint saved to movie_metadata_checkpoint.csv\n"
     ]
    },
    {
     "name": "stderr",
     "output_type": "stream",
     "text": [
      "Processing Movies:  10%|█         | 440/4248 [15:59<5:59:09,  5.66s/it]"
     ]
    },
    {
     "name": "stdout",
     "output_type": "stream",
     "text": [
      "Checkpoint saved to movie_metadata_checkpoint.csv\n"
     ]
    },
    {
     "name": "stderr",
     "output_type": "stream",
     "text": [
      "Processing Movies:  11%|█         | 450/4248 [16:59<6:48:05,  6.45s/it]"
     ]
    },
    {
     "name": "stdout",
     "output_type": "stream",
     "text": [
      "Checkpoint saved to movie_metadata_checkpoint.csv\n"
     ]
    },
    {
     "name": "stderr",
     "output_type": "stream",
     "text": [
      "Processing Movies:  11%|█         | 460/4248 [17:50<5:59:58,  5.70s/it]"
     ]
    },
    {
     "name": "stdout",
     "output_type": "stream",
     "text": [
      "Checkpoint saved to movie_metadata_checkpoint.csv\n"
     ]
    },
    {
     "name": "stderr",
     "output_type": "stream",
     "text": [
      "Processing Movies:  11%|█         | 470/4248 [18:46<5:48:25,  5.53s/it]"
     ]
    },
    {
     "name": "stdout",
     "output_type": "stream",
     "text": [
      "Checkpoint saved to movie_metadata_checkpoint.csv\n"
     ]
    },
    {
     "name": "stderr",
     "output_type": "stream",
     "text": [
      "Processing Movies:  11%|█▏        | 480/4248 [19:42<5:48:38,  5.55s/it]"
     ]
    },
    {
     "name": "stdout",
     "output_type": "stream",
     "text": [
      "Checkpoint saved to movie_metadata_checkpoint.csv\n"
     ]
    },
    {
     "name": "stderr",
     "output_type": "stream",
     "text": [
      "Processing Movies:  12%|█▏        | 490/4248 [20:36<5:29:41,  5.26s/it]"
     ]
    },
    {
     "name": "stdout",
     "output_type": "stream",
     "text": [
      "Checkpoint saved to movie_metadata_checkpoint.csv\n"
     ]
    },
    {
     "name": "stderr",
     "output_type": "stream",
     "text": [
      "Processing Movies:  12%|█▏        | 500/4248 [21:33<5:52:14,  5.64s/it]"
     ]
    },
    {
     "name": "stdout",
     "output_type": "stream",
     "text": [
      "Checkpoint saved to movie_metadata_checkpoint.csv\n"
     ]
    },
    {
     "name": "stderr",
     "output_type": "stream",
     "text": [
      "Processing Movies:  12%|█▏        | 510/4248 [22:25<5:00:02,  4.82s/it]"
     ]
    },
    {
     "name": "stdout",
     "output_type": "stream",
     "text": [
      "Checkpoint saved to movie_metadata_checkpoint.csv\n"
     ]
    },
    {
     "name": "stderr",
     "output_type": "stream",
     "text": [
      "Processing Movies:  12%|█▏        | 520/4248 [23:22<5:54:12,  5.70s/it]"
     ]
    },
    {
     "name": "stdout",
     "output_type": "stream",
     "text": [
      "Checkpoint saved to movie_metadata_checkpoint.csv\n"
     ]
    },
    {
     "name": "stderr",
     "output_type": "stream",
     "text": [
      "Processing Movies:  12%|█▏        | 530/4248 [24:17<5:26:26,  5.27s/it]"
     ]
    },
    {
     "name": "stdout",
     "output_type": "stream",
     "text": [
      "Checkpoint saved to movie_metadata_checkpoint.csv\n"
     ]
    },
    {
     "name": "stderr",
     "output_type": "stream",
     "text": [
      "Processing Movies:  13%|█▎        | 540/4248 [25:11<5:54:40,  5.74s/it]"
     ]
    },
    {
     "name": "stdout",
     "output_type": "stream",
     "text": [
      "Checkpoint saved to movie_metadata_checkpoint.csv\n"
     ]
    },
    {
     "name": "stderr",
     "output_type": "stream",
     "text": [
      "Processing Movies:  13%|█▎        | 550/4248 [26:05<5:20:14,  5.20s/it]"
     ]
    },
    {
     "name": "stdout",
     "output_type": "stream",
     "text": [
      "Checkpoint saved to movie_metadata_checkpoint.csv\n"
     ]
    },
    {
     "name": "stderr",
     "output_type": "stream",
     "text": [
      "Processing Movies:  13%|█▎        | 560/4248 [26:59<5:36:22,  5.47s/it]"
     ]
    },
    {
     "name": "stdout",
     "output_type": "stream",
     "text": [
      "Checkpoint saved to movie_metadata_checkpoint.csv\n"
     ]
    },
    {
     "name": "stderr",
     "output_type": "stream",
     "text": [
      "Processing Movies:  13%|█▎        | 570/4248 [27:51<5:43:43,  5.61s/it]"
     ]
    },
    {
     "name": "stdout",
     "output_type": "stream",
     "text": [
      "Checkpoint saved to movie_metadata_checkpoint.csv\n"
     ]
    },
    {
     "name": "stderr",
     "output_type": "stream",
     "text": [
      "Processing Movies:  14%|█▎        | 580/4248 [28:49<5:55:09,  5.81s/it]"
     ]
    },
    {
     "name": "stdout",
     "output_type": "stream",
     "text": [
      "Checkpoint saved to movie_metadata_checkpoint.csv\n"
     ]
    },
    {
     "name": "stderr",
     "output_type": "stream",
     "text": [
      "Processing Movies:  14%|█▍        | 590/4248 [29:44<5:40:07,  5.58s/it]"
     ]
    },
    {
     "name": "stdout",
     "output_type": "stream",
     "text": [
      "Checkpoint saved to movie_metadata_checkpoint.csv\n"
     ]
    },
    {
     "name": "stderr",
     "output_type": "stream",
     "text": [
      "Processing Movies:  14%|█▍        | 600/4248 [30:40<4:44:18,  4.68s/it]"
     ]
    },
    {
     "name": "stdout",
     "output_type": "stream",
     "text": [
      "Checkpoint saved to movie_metadata_checkpoint.csv\n"
     ]
    },
    {
     "name": "stderr",
     "output_type": "stream",
     "text": [
      "Processing Movies:  14%|█▍        | 610/4248 [31:33<5:22:05,  5.31s/it]"
     ]
    },
    {
     "name": "stdout",
     "output_type": "stream",
     "text": [
      "Checkpoint saved to movie_metadata_checkpoint.csv\n"
     ]
    },
    {
     "name": "stderr",
     "output_type": "stream",
     "text": [
      "Processing Movies:  15%|█▍        | 620/4248 [32:28<5:47:48,  5.75s/it]"
     ]
    },
    {
     "name": "stdout",
     "output_type": "stream",
     "text": [
      "Checkpoint saved to movie_metadata_checkpoint.csv\n"
     ]
    },
    {
     "name": "stderr",
     "output_type": "stream",
     "text": [
      "Processing Movies:  15%|█▍        | 630/4248 [33:24<5:36:29,  5.58s/it]"
     ]
    },
    {
     "name": "stdout",
     "output_type": "stream",
     "text": [
      "Checkpoint saved to movie_metadata_checkpoint.csv\n"
     ]
    },
    {
     "name": "stderr",
     "output_type": "stream",
     "text": [
      "Processing Movies:  15%|█▌        | 640/4248 [34:22<6:11:22,  6.18s/it]"
     ]
    },
    {
     "name": "stdout",
     "output_type": "stream",
     "text": [
      "Checkpoint saved to movie_metadata_checkpoint.csv\n"
     ]
    },
    {
     "name": "stderr",
     "output_type": "stream",
     "text": [
      "Processing Movies:  15%|█▌        | 650/4248 [35:18<5:33:42,  5.57s/it]"
     ]
    },
    {
     "name": "stdout",
     "output_type": "stream",
     "text": [
      "Checkpoint saved to movie_metadata_checkpoint.csv\n"
     ]
    },
    {
     "name": "stderr",
     "output_type": "stream",
     "text": [
      "Processing Movies:  16%|█▌        | 660/4248 [36:09<5:15:23,  5.27s/it]"
     ]
    },
    {
     "name": "stdout",
     "output_type": "stream",
     "text": [
      "Checkpoint saved to movie_metadata_checkpoint.csv\n"
     ]
    },
    {
     "name": "stderr",
     "output_type": "stream",
     "text": [
      "Processing Movies:  16%|█▌        | 670/4248 [36:55<3:48:30,  3.83s/it]"
     ]
    },
    {
     "name": "stdout",
     "output_type": "stream",
     "text": [
      "Checkpoint saved to movie_metadata_checkpoint.csv\n"
     ]
    },
    {
     "name": "stderr",
     "output_type": "stream",
     "text": [
      "Processing Movies:  16%|█▌        | 680/4248 [37:36<4:36:50,  4.66s/it]"
     ]
    },
    {
     "name": "stdout",
     "output_type": "stream",
     "text": [
      "Checkpoint saved to movie_metadata_checkpoint.csv\n"
     ]
    },
    {
     "name": "stderr",
     "output_type": "stream",
     "text": [
      "Processing Movies:  16%|█▌        | 690/4248 [38:31<5:46:48,  5.85s/it]"
     ]
    },
    {
     "name": "stdout",
     "output_type": "stream",
     "text": [
      "Checkpoint saved to movie_metadata_checkpoint.csv\n"
     ]
    },
    {
     "name": "stderr",
     "output_type": "stream",
     "text": [
      "Processing Movies:  16%|█▋        | 700/4248 [39:24<5:26:41,  5.52s/it]"
     ]
    },
    {
     "name": "stdout",
     "output_type": "stream",
     "text": [
      "Checkpoint saved to movie_metadata_checkpoint.csv\n"
     ]
    },
    {
     "name": "stderr",
     "output_type": "stream",
     "text": [
      "Processing Movies:  17%|█▋        | 710/4248 [40:22<5:41:26,  5.79s/it]"
     ]
    },
    {
     "name": "stdout",
     "output_type": "stream",
     "text": [
      "Checkpoint saved to movie_metadata_checkpoint.csv\n"
     ]
    },
    {
     "name": "stderr",
     "output_type": "stream",
     "text": [
      "Processing Movies:  17%|█▋        | 720/4248 [41:11<5:02:27,  5.14s/it]"
     ]
    },
    {
     "name": "stdout",
     "output_type": "stream",
     "text": [
      "Checkpoint saved to movie_metadata_checkpoint.csv\n"
     ]
    },
    {
     "name": "stderr",
     "output_type": "stream",
     "text": [
      "Processing Movies:  17%|█▋        | 730/4248 [41:49<3:40:49,  3.77s/it]"
     ]
    },
    {
     "name": "stdout",
     "output_type": "stream",
     "text": [
      "Checkpoint saved to movie_metadata_checkpoint.csv\n"
     ]
    },
    {
     "name": "stderr",
     "output_type": "stream",
     "text": [
      "Processing Movies:  17%|█▋        | 740/4248 [42:36<5:06:27,  5.24s/it]"
     ]
    },
    {
     "name": "stdout",
     "output_type": "stream",
     "text": [
      "Checkpoint saved to movie_metadata_checkpoint.csv\n"
     ]
    },
    {
     "name": "stderr",
     "output_type": "stream",
     "text": [
      "Processing Movies:  18%|█▊        | 750/4248 [43:21<4:38:39,  4.78s/it]"
     ]
    },
    {
     "name": "stdout",
     "output_type": "stream",
     "text": [
      "Checkpoint saved to movie_metadata_checkpoint.csv\n"
     ]
    },
    {
     "name": "stderr",
     "output_type": "stream",
     "text": [
      "Processing Movies:  18%|█▊        | 760/4248 [44:04<3:06:01,  3.20s/it]"
     ]
    },
    {
     "name": "stdout",
     "output_type": "stream",
     "text": [
      "Checkpoint saved to movie_metadata_checkpoint.csv\n"
     ]
    },
    {
     "name": "stderr",
     "output_type": "stream",
     "text": [
      "Processing Movies:  18%|█▊        | 770/4248 [44:46<5:01:31,  5.20s/it]"
     ]
    },
    {
     "name": "stdout",
     "output_type": "stream",
     "text": [
      "Checkpoint saved to movie_metadata_checkpoint.csv\n"
     ]
    },
    {
     "name": "stderr",
     "output_type": "stream",
     "text": [
      "Processing Movies:  18%|█▊        | 780/4248 [45:45<5:12:22,  5.40s/it]"
     ]
    },
    {
     "name": "stdout",
     "output_type": "stream",
     "text": [
      "Checkpoint saved to movie_metadata_checkpoint.csv\n"
     ]
    },
    {
     "name": "stderr",
     "output_type": "stream",
     "text": [
      "Processing Movies:  19%|█▊        | 790/4248 [46:36<4:41:24,  4.88s/it]"
     ]
    },
    {
     "name": "stdout",
     "output_type": "stream",
     "text": [
      "Checkpoint saved to movie_metadata_checkpoint.csv\n"
     ]
    },
    {
     "name": "stderr",
     "output_type": "stream",
     "text": [
      "Processing Movies:  19%|█▉        | 800/4248 [47:26<5:07:40,  5.35s/it]"
     ]
    },
    {
     "name": "stdout",
     "output_type": "stream",
     "text": [
      "Checkpoint saved to movie_metadata_checkpoint.csv\n"
     ]
    },
    {
     "name": "stderr",
     "output_type": "stream",
     "text": [
      "Processing Movies:  19%|█▉        | 810/4248 [48:20<5:39:28,  5.92s/it]"
     ]
    },
    {
     "name": "stdout",
     "output_type": "stream",
     "text": [
      "Checkpoint saved to movie_metadata_checkpoint.csv\n"
     ]
    },
    {
     "name": "stderr",
     "output_type": "stream",
     "text": [
      "Processing Movies:  19%|█▉        | 820/4248 [50:42<8:04:15,  8.48s/it]"
     ]
    },
    {
     "name": "stdout",
     "output_type": "stream",
     "text": [
      "Checkpoint saved to movie_metadata_checkpoint.csv\n"
     ]
    },
    {
     "name": "stderr",
     "output_type": "stream",
     "text": [
      "Processing Movies:  20%|█▉        | 830/4248 [51:43<5:49:28,  6.13s/it]"
     ]
    },
    {
     "name": "stdout",
     "output_type": "stream",
     "text": [
      "Checkpoint saved to movie_metadata_checkpoint.csv\n"
     ]
    },
    {
     "name": "stderr",
     "output_type": "stream",
     "text": [
      "Processing Movies:  20%|█▉        | 840/4248 [52:34<5:00:12,  5.29s/it]"
     ]
    },
    {
     "name": "stdout",
     "output_type": "stream",
     "text": [
      "Checkpoint saved to movie_metadata_checkpoint.csv\n"
     ]
    },
    {
     "name": "stderr",
     "output_type": "stream",
     "text": [
      "Processing Movies:  20%|██        | 850/4248 [53:27<4:56:34,  5.24s/it]"
     ]
    },
    {
     "name": "stdout",
     "output_type": "stream",
     "text": [
      "Checkpoint saved to movie_metadata_checkpoint.csv\n"
     ]
    },
    {
     "name": "stderr",
     "output_type": "stream",
     "text": [
      "Processing Movies:  20%|██        | 860/4248 [54:24<5:15:40,  5.59s/it]"
     ]
    },
    {
     "name": "stdout",
     "output_type": "stream",
     "text": [
      "Checkpoint saved to movie_metadata_checkpoint.csv\n"
     ]
    },
    {
     "name": "stderr",
     "output_type": "stream",
     "text": [
      "Processing Movies:  20%|██        | 870/4248 [55:21<5:23:27,  5.75s/it]"
     ]
    },
    {
     "name": "stdout",
     "output_type": "stream",
     "text": [
      "Checkpoint saved to movie_metadata_checkpoint.csv\n"
     ]
    },
    {
     "name": "stderr",
     "output_type": "stream",
     "text": [
      "Processing Movies:  21%|██        | 880/4248 [56:20<5:23:23,  5.76s/it]"
     ]
    },
    {
     "name": "stdout",
     "output_type": "stream",
     "text": [
      "Checkpoint saved to movie_metadata_checkpoint.csv\n"
     ]
    },
    {
     "name": "stderr",
     "output_type": "stream",
     "text": [
      "Processing Movies:  21%|██        | 890/4248 [57:16<5:26:07,  5.83s/it]"
     ]
    },
    {
     "name": "stdout",
     "output_type": "stream",
     "text": [
      "Checkpoint saved to movie_metadata_checkpoint.csv\n"
     ]
    },
    {
     "name": "stderr",
     "output_type": "stream",
     "text": [
      "Processing Movies:  21%|██        | 900/4248 [58:15<5:32:48,  5.96s/it]"
     ]
    },
    {
     "name": "stdout",
     "output_type": "stream",
     "text": [
      "Checkpoint saved to movie_metadata_checkpoint.csv\n"
     ]
    },
    {
     "name": "stderr",
     "output_type": "stream",
     "text": [
      "Processing Movies:  21%|██▏       | 910/4248 [59:05<4:33:51,  4.92s/it]"
     ]
    },
    {
     "name": "stdout",
     "output_type": "stream",
     "text": [
      "Checkpoint saved to movie_metadata_checkpoint.csv\n"
     ]
    },
    {
     "name": "stderr",
     "output_type": "stream",
     "text": [
      "Processing Movies:  22%|██▏       | 920/4248 [1:00:00<5:08:16,  5.56s/it]"
     ]
    },
    {
     "name": "stdout",
     "output_type": "stream",
     "text": [
      "Checkpoint saved to movie_metadata_checkpoint.csv\n"
     ]
    },
    {
     "name": "stderr",
     "output_type": "stream",
     "text": [
      "Processing Movies:  22%|██▏       | 930/4248 [1:00:56<5:26:00,  5.90s/it]"
     ]
    },
    {
     "name": "stdout",
     "output_type": "stream",
     "text": [
      "Checkpoint saved to movie_metadata_checkpoint.csv\n"
     ]
    },
    {
     "name": "stderr",
     "output_type": "stream",
     "text": [
      "Processing Movies:  22%|██▏       | 940/4248 [1:01:55<5:25:18,  5.90s/it]"
     ]
    },
    {
     "name": "stdout",
     "output_type": "stream",
     "text": [
      "Checkpoint saved to movie_metadata_checkpoint.csv\n"
     ]
    },
    {
     "name": "stderr",
     "output_type": "stream",
     "text": [
      "Processing Movies:  22%|██▏       | 950/4248 [1:02:54<5:20:17,  5.83s/it]"
     ]
    },
    {
     "name": "stdout",
     "output_type": "stream",
     "text": [
      "Checkpoint saved to movie_metadata_checkpoint.csv\n"
     ]
    },
    {
     "name": "stderr",
     "output_type": "stream",
     "text": [
      "Processing Movies:  23%|██▎       | 960/4248 [1:03:55<5:34:04,  6.10s/it]"
     ]
    },
    {
     "name": "stdout",
     "output_type": "stream",
     "text": [
      "Checkpoint saved to movie_metadata_checkpoint.csv\n"
     ]
    },
    {
     "name": "stderr",
     "output_type": "stream",
     "text": [
      "Processing Movies:  23%|██▎       | 970/4248 [1:04:53<5:16:11,  5.79s/it]"
     ]
    },
    {
     "name": "stdout",
     "output_type": "stream",
     "text": [
      "Checkpoint saved to movie_metadata_checkpoint.csv\n"
     ]
    },
    {
     "name": "stderr",
     "output_type": "stream",
     "text": [
      "Processing Movies:  23%|██▎       | 980/4248 [1:05:53<5:22:17,  5.92s/it]"
     ]
    },
    {
     "name": "stdout",
     "output_type": "stream",
     "text": [
      "Checkpoint saved to movie_metadata_checkpoint.csv\n"
     ]
    },
    {
     "name": "stderr",
     "output_type": "stream",
     "text": [
      "Processing Movies:  23%|██▎       | 990/4248 [1:06:49<5:02:53,  5.58s/it]"
     ]
    },
    {
     "name": "stdout",
     "output_type": "stream",
     "text": [
      "Checkpoint saved to movie_metadata_checkpoint.csv\n"
     ]
    },
    {
     "name": "stderr",
     "output_type": "stream",
     "text": [
      "Processing Movies:  24%|██▎       | 1000/4248 [1:07:46<5:19:28,  5.90s/it]"
     ]
    },
    {
     "name": "stdout",
     "output_type": "stream",
     "text": [
      "Checkpoint saved to movie_metadata_checkpoint.csv\n"
     ]
    },
    {
     "name": "stderr",
     "output_type": "stream",
     "text": [
      "Processing Movies:  24%|██▍       | 1010/4248 [1:08:46<5:07:10,  5.69s/it]"
     ]
    },
    {
     "name": "stdout",
     "output_type": "stream",
     "text": [
      "Checkpoint saved to movie_metadata_checkpoint.csv\n"
     ]
    },
    {
     "name": "stderr",
     "output_type": "stream",
     "text": [
      "Processing Movies:  24%|██▍       | 1020/4248 [1:09:46<5:33:55,  6.21s/it]"
     ]
    },
    {
     "name": "stdout",
     "output_type": "stream",
     "text": [
      "Checkpoint saved to movie_metadata_checkpoint.csv\n"
     ]
    },
    {
     "name": "stderr",
     "output_type": "stream",
     "text": [
      "Processing Movies:  24%|██▍       | 1030/4248 [1:10:40<5:02:04,  5.63s/it]"
     ]
    },
    {
     "name": "stdout",
     "output_type": "stream",
     "text": [
      "Checkpoint saved to movie_metadata_checkpoint.csv\n"
     ]
    },
    {
     "name": "stderr",
     "output_type": "stream",
     "text": [
      "Processing Movies:  24%|██▍       | 1040/4248 [1:11:28<4:09:17,  4.66s/it]"
     ]
    },
    {
     "name": "stdout",
     "output_type": "stream",
     "text": [
      "Checkpoint saved to movie_metadata_checkpoint.csv\n"
     ]
    },
    {
     "name": "stderr",
     "output_type": "stream",
     "text": [
      "Processing Movies:  25%|██▍       | 1050/4248 [1:12:24<5:13:02,  5.87s/it]"
     ]
    },
    {
     "name": "stdout",
     "output_type": "stream",
     "text": [
      "Checkpoint saved to movie_metadata_checkpoint.csv\n"
     ]
    },
    {
     "name": "stderr",
     "output_type": "stream",
     "text": [
      "Processing Movies:  25%|██▍       | 1060/4248 [1:13:18<4:56:53,  5.59s/it]"
     ]
    },
    {
     "name": "stdout",
     "output_type": "stream",
     "text": [
      "Checkpoint saved to movie_metadata_checkpoint.csv\n"
     ]
    },
    {
     "name": "stderr",
     "output_type": "stream",
     "text": [
      "Processing Movies:  25%|██▌       | 1070/4248 [1:14:12<4:48:48,  5.45s/it]"
     ]
    },
    {
     "name": "stdout",
     "output_type": "stream",
     "text": [
      "Checkpoint saved to movie_metadata_checkpoint.csv\n"
     ]
    },
    {
     "name": "stderr",
     "output_type": "stream",
     "text": [
      "Processing Movies:  25%|██▌       | 1080/4248 [1:15:11<5:42:34,  6.49s/it]"
     ]
    },
    {
     "name": "stdout",
     "output_type": "stream",
     "text": [
      "Checkpoint saved to movie_metadata_checkpoint.csv\n"
     ]
    },
    {
     "name": "stderr",
     "output_type": "stream",
     "text": [
      "Processing Movies:  26%|██▌       | 1090/4248 [1:16:11<5:11:53,  5.93s/it]"
     ]
    },
    {
     "name": "stdout",
     "output_type": "stream",
     "text": [
      "Checkpoint saved to movie_metadata_checkpoint.csv\n"
     ]
    },
    {
     "name": "stderr",
     "output_type": "stream",
     "text": [
      "Processing Movies:  26%|██▌       | 1100/4248 [1:17:06<4:32:16,  5.19s/it]"
     ]
    },
    {
     "name": "stdout",
     "output_type": "stream",
     "text": [
      "Checkpoint saved to movie_metadata_checkpoint.csv\n"
     ]
    },
    {
     "name": "stderr",
     "output_type": "stream",
     "text": [
      "Processing Movies:  26%|██▌       | 1110/4248 [1:18:06<5:11:47,  5.96s/it]"
     ]
    },
    {
     "name": "stdout",
     "output_type": "stream",
     "text": [
      "Checkpoint saved to movie_metadata_checkpoint.csv\n"
     ]
    },
    {
     "name": "stderr",
     "output_type": "stream",
     "text": [
      "Processing Movies:  26%|██▋       | 1120/4248 [1:19:00<4:23:16,  5.05s/it]"
     ]
    },
    {
     "name": "stdout",
     "output_type": "stream",
     "text": [
      "Checkpoint saved to movie_metadata_checkpoint.csv\n"
     ]
    },
    {
     "name": "stderr",
     "output_type": "stream",
     "text": [
      "Processing Movies:  27%|██▋       | 1130/4248 [1:19:54<4:36:44,  5.33s/it]"
     ]
    },
    {
     "name": "stdout",
     "output_type": "stream",
     "text": [
      "Checkpoint saved to movie_metadata_checkpoint.csv\n"
     ]
    },
    {
     "name": "stderr",
     "output_type": "stream",
     "text": [
      "Processing Movies:  27%|██▋       | 1140/4248 [1:20:56<5:18:33,  6.15s/it]"
     ]
    },
    {
     "name": "stdout",
     "output_type": "stream",
     "text": [
      "Checkpoint saved to movie_metadata_checkpoint.csv\n"
     ]
    },
    {
     "name": "stderr",
     "output_type": "stream",
     "text": [
      "Processing Movies:  27%|██▋       | 1150/4248 [1:22:01<5:36:28,  6.52s/it]"
     ]
    },
    {
     "name": "stdout",
     "output_type": "stream",
     "text": [
      "Checkpoint saved to movie_metadata_checkpoint.csv\n"
     ]
    },
    {
     "name": "stderr",
     "output_type": "stream",
     "text": [
      "Processing Movies:  27%|██▋       | 1160/4248 [1:23:00<5:11:42,  6.06s/it]"
     ]
    },
    {
     "name": "stdout",
     "output_type": "stream",
     "text": [
      "Checkpoint saved to movie_metadata_checkpoint.csv\n"
     ]
    },
    {
     "name": "stderr",
     "output_type": "stream",
     "text": [
      "Processing Movies:  28%|██▊       | 1170/4248 [1:23:56<4:54:37,  5.74s/it]"
     ]
    },
    {
     "name": "stdout",
     "output_type": "stream",
     "text": [
      "Checkpoint saved to movie_metadata_checkpoint.csv\n"
     ]
    },
    {
     "name": "stderr",
     "output_type": "stream",
     "text": [
      "Processing Movies:  28%|██▊       | 1180/4248 [1:24:56<4:48:32,  5.64s/it]"
     ]
    },
    {
     "name": "stdout",
     "output_type": "stream",
     "text": [
      "Checkpoint saved to movie_metadata_checkpoint.csv\n"
     ]
    },
    {
     "name": "stderr",
     "output_type": "stream",
     "text": [
      "Processing Movies:  28%|██▊       | 1190/4248 [1:25:52<4:49:22,  5.68s/it]"
     ]
    },
    {
     "name": "stdout",
     "output_type": "stream",
     "text": [
      "Checkpoint saved to movie_metadata_checkpoint.csv\n"
     ]
    },
    {
     "name": "stderr",
     "output_type": "stream",
     "text": [
      "Processing Movies:  28%|██▊       | 1200/4248 [1:26:53<5:15:07,  6.20s/it]"
     ]
    },
    {
     "name": "stdout",
     "output_type": "stream",
     "text": [
      "Checkpoint saved to movie_metadata_checkpoint.csv\n"
     ]
    },
    {
     "name": "stderr",
     "output_type": "stream",
     "text": [
      "Processing Movies:  28%|██▊       | 1210/4248 [1:27:58<5:21:33,  6.35s/it]"
     ]
    },
    {
     "name": "stdout",
     "output_type": "stream",
     "text": [
      "Checkpoint saved to movie_metadata_checkpoint.csv\n"
     ]
    },
    {
     "name": "stderr",
     "output_type": "stream",
     "text": [
      "Processing Movies:  29%|██▊       | 1220/4248 [1:29:04<5:29:56,  6.54s/it]"
     ]
    },
    {
     "name": "stdout",
     "output_type": "stream",
     "text": [
      "Checkpoint saved to movie_metadata_checkpoint.csv\n"
     ]
    },
    {
     "name": "stderr",
     "output_type": "stream",
     "text": [
      "Processing Movies:  29%|██▉       | 1230/4248 [1:30:02<4:59:50,  5.96s/it]"
     ]
    },
    {
     "name": "stdout",
     "output_type": "stream",
     "text": [
      "Checkpoint saved to movie_metadata_checkpoint.csv\n"
     ]
    },
    {
     "name": "stderr",
     "output_type": "stream",
     "text": [
      "Processing Movies:  29%|██▉       | 1240/4248 [1:31:04<5:17:06,  6.33s/it]"
     ]
    },
    {
     "name": "stdout",
     "output_type": "stream",
     "text": [
      "Checkpoint saved to movie_metadata_checkpoint.csv\n"
     ]
    },
    {
     "name": "stderr",
     "output_type": "stream",
     "text": [
      "Processing Movies:  29%|██▉       | 1250/4248 [1:32:05<5:03:04,  6.07s/it]"
     ]
    },
    {
     "name": "stdout",
     "output_type": "stream",
     "text": [
      "Checkpoint saved to movie_metadata_checkpoint.csv\n"
     ]
    },
    {
     "name": "stderr",
     "output_type": "stream",
     "text": [
      "Processing Movies:  30%|██▉       | 1260/4248 [1:32:56<4:05:12,  4.92s/it]"
     ]
    },
    {
     "name": "stdout",
     "output_type": "stream",
     "text": [
      "Checkpoint saved to movie_metadata_checkpoint.csv\n"
     ]
    },
    {
     "name": "stderr",
     "output_type": "stream",
     "text": [
      "Processing Movies:  30%|██▉       | 1270/4248 [1:33:58<5:11:17,  6.27s/it]"
     ]
    },
    {
     "name": "stdout",
     "output_type": "stream",
     "text": [
      "Checkpoint saved to movie_metadata_checkpoint.csv\n"
     ]
    },
    {
     "name": "stderr",
     "output_type": "stream",
     "text": [
      "Processing Movies:  30%|███       | 1280/4248 [1:34:58<5:02:17,  6.11s/it]"
     ]
    },
    {
     "name": "stdout",
     "output_type": "stream",
     "text": [
      "Checkpoint saved to movie_metadata_checkpoint.csv\n"
     ]
    },
    {
     "name": "stderr",
     "output_type": "stream",
     "text": [
      "Processing Movies:  30%|███       | 1290/4248 [1:35:55<4:31:20,  5.50s/it]"
     ]
    },
    {
     "name": "stdout",
     "output_type": "stream",
     "text": [
      "Checkpoint saved to movie_metadata_checkpoint.csv\n"
     ]
    },
    {
     "name": "stderr",
     "output_type": "stream",
     "text": [
      "Processing Movies:  31%|███       | 1300/4248 [1:36:51<4:22:40,  5.35s/it]"
     ]
    },
    {
     "name": "stdout",
     "output_type": "stream",
     "text": [
      "Checkpoint saved to movie_metadata_checkpoint.csv\n"
     ]
    },
    {
     "name": "stderr",
     "output_type": "stream",
     "text": [
      "Processing Movies:  31%|███       | 1310/4248 [1:37:54<4:47:05,  5.86s/it]"
     ]
    },
    {
     "name": "stdout",
     "output_type": "stream",
     "text": [
      "Checkpoint saved to movie_metadata_checkpoint.csv\n"
     ]
    },
    {
     "name": "stderr",
     "output_type": "stream",
     "text": [
      "Processing Movies:  31%|███       | 1320/4248 [1:38:57<5:04:26,  6.24s/it]"
     ]
    },
    {
     "name": "stdout",
     "output_type": "stream",
     "text": [
      "Checkpoint saved to movie_metadata_checkpoint.csv\n"
     ]
    },
    {
     "name": "stderr",
     "output_type": "stream",
     "text": [
      "Processing Movies:  31%|███▏      | 1330/4248 [1:39:51<4:26:34,  5.48s/it]"
     ]
    },
    {
     "name": "stdout",
     "output_type": "stream",
     "text": [
      "Checkpoint saved to movie_metadata_checkpoint.csv\n"
     ]
    },
    {
     "name": "stderr",
     "output_type": "stream",
     "text": [
      "Processing Movies:  32%|███▏      | 1340/4248 [1:40:50<4:40:12,  5.78s/it]"
     ]
    },
    {
     "name": "stdout",
     "output_type": "stream",
     "text": [
      "Checkpoint saved to movie_metadata_checkpoint.csv\n"
     ]
    },
    {
     "name": "stderr",
     "output_type": "stream",
     "text": [
      "Processing Movies:  32%|███▏      | 1350/4248 [1:41:47<4:44:28,  5.89s/it]"
     ]
    },
    {
     "name": "stdout",
     "output_type": "stream",
     "text": [
      "Checkpoint saved to movie_metadata_checkpoint.csv\n"
     ]
    },
    {
     "name": "stderr",
     "output_type": "stream",
     "text": [
      "Processing Movies:  32%|███▏      | 1360/4248 [1:42:44<4:05:24,  5.10s/it]"
     ]
    },
    {
     "name": "stdout",
     "output_type": "stream",
     "text": [
      "Checkpoint saved to movie_metadata_checkpoint.csv\n"
     ]
    },
    {
     "name": "stderr",
     "output_type": "stream",
     "text": [
      "Processing Movies:  32%|███▏      | 1370/4248 [1:43:44<4:40:55,  5.86s/it]"
     ]
    },
    {
     "name": "stdout",
     "output_type": "stream",
     "text": [
      "Checkpoint saved to movie_metadata_checkpoint.csv\n"
     ]
    },
    {
     "name": "stderr",
     "output_type": "stream",
     "text": [
      "Processing Movies:  32%|███▏      | 1380/4248 [1:44:42<4:42:19,  5.91s/it]"
     ]
    },
    {
     "name": "stdout",
     "output_type": "stream",
     "text": [
      "Checkpoint saved to movie_metadata_checkpoint.csv\n"
     ]
    },
    {
     "name": "stderr",
     "output_type": "stream",
     "text": [
      "Processing Movies:  33%|███▎      | 1390/4248 [1:45:38<4:38:42,  5.85s/it]"
     ]
    },
    {
     "name": "stdout",
     "output_type": "stream",
     "text": [
      "Checkpoint saved to movie_metadata_checkpoint.csv\n"
     ]
    },
    {
     "name": "stderr",
     "output_type": "stream",
     "text": [
      "Processing Movies:  33%|███▎      | 1400/4248 [1:46:41<5:12:27,  6.58s/it]"
     ]
    },
    {
     "name": "stdout",
     "output_type": "stream",
     "text": [
      "Checkpoint saved to movie_metadata_checkpoint.csv\n"
     ]
    },
    {
     "name": "stderr",
     "output_type": "stream",
     "text": [
      "Processing Movies:  33%|███▎      | 1410/4248 [1:47:48<5:44:15,  7.28s/it]"
     ]
    },
    {
     "name": "stdout",
     "output_type": "stream",
     "text": [
      "Checkpoint saved to movie_metadata_checkpoint.csv\n"
     ]
    },
    {
     "name": "stderr",
     "output_type": "stream",
     "text": [
      "Processing Movies:  33%|███▎      | 1420/4248 [1:48:46<4:31:38,  5.76s/it]"
     ]
    },
    {
     "name": "stdout",
     "output_type": "stream",
     "text": [
      "Checkpoint saved to movie_metadata_checkpoint.csv\n"
     ]
    },
    {
     "name": "stderr",
     "output_type": "stream",
     "text": [
      "Processing Movies:  34%|███▎      | 1430/4248 [1:49:46<4:39:55,  5.96s/it]"
     ]
    },
    {
     "name": "stdout",
     "output_type": "stream",
     "text": [
      "Checkpoint saved to movie_metadata_checkpoint.csv\n"
     ]
    },
    {
     "name": "stderr",
     "output_type": "stream",
     "text": [
      "Processing Movies:  34%|███▍      | 1440/4248 [1:50:49<5:04:38,  6.51s/it]"
     ]
    },
    {
     "name": "stdout",
     "output_type": "stream",
     "text": [
      "Checkpoint saved to movie_metadata_checkpoint.csv\n"
     ]
    },
    {
     "name": "stderr",
     "output_type": "stream",
     "text": [
      "Processing Movies:  34%|███▍      | 1450/4248 [1:51:45<4:22:37,  5.63s/it]"
     ]
    },
    {
     "name": "stdout",
     "output_type": "stream",
     "text": [
      "Checkpoint saved to movie_metadata_checkpoint.csv\n"
     ]
    },
    {
     "name": "stderr",
     "output_type": "stream",
     "text": [
      "Processing Movies:  34%|███▍      | 1460/4248 [1:52:43<4:37:57,  5.98s/it]"
     ]
    },
    {
     "name": "stdout",
     "output_type": "stream",
     "text": [
      "Checkpoint saved to movie_metadata_checkpoint.csv\n"
     ]
    },
    {
     "name": "stderr",
     "output_type": "stream",
     "text": [
      "Processing Movies:  35%|███▍      | 1470/4248 [1:53:41<4:34:11,  5.92s/it]"
     ]
    },
    {
     "name": "stdout",
     "output_type": "stream",
     "text": [
      "Checkpoint saved to movie_metadata_checkpoint.csv\n"
     ]
    },
    {
     "name": "stderr",
     "output_type": "stream",
     "text": [
      "Processing Movies:  35%|███▍      | 1480/4248 [1:54:43<4:42:26,  6.12s/it]"
     ]
    },
    {
     "name": "stdout",
     "output_type": "stream",
     "text": [
      "Checkpoint saved to movie_metadata_checkpoint.csv\n"
     ]
    },
    {
     "name": "stderr",
     "output_type": "stream",
     "text": [
      "Processing Movies:  35%|███▌      | 1490/4248 [1:55:42<4:34:29,  5.97s/it]"
     ]
    },
    {
     "name": "stdout",
     "output_type": "stream",
     "text": [
      "Checkpoint saved to movie_metadata_checkpoint.csv\n"
     ]
    },
    {
     "name": "stderr",
     "output_type": "stream",
     "text": [
      "Processing Movies:  35%|███▌      | 1500/4248 [1:56:38<4:36:06,  6.03s/it]"
     ]
    },
    {
     "name": "stdout",
     "output_type": "stream",
     "text": [
      "Checkpoint saved to movie_metadata_checkpoint.csv\n"
     ]
    },
    {
     "name": "stderr",
     "output_type": "stream",
     "text": [
      "Processing Movies:  36%|███▌      | 1510/4248 [1:57:30<3:55:52,  5.17s/it]"
     ]
    },
    {
     "name": "stdout",
     "output_type": "stream",
     "text": [
      "Checkpoint saved to movie_metadata_checkpoint.csv\n"
     ]
    },
    {
     "name": "stderr",
     "output_type": "stream",
     "text": [
      "Processing Movies:  36%|███▌      | 1520/4248 [1:58:33<4:44:39,  6.26s/it]"
     ]
    },
    {
     "name": "stdout",
     "output_type": "stream",
     "text": [
      "Checkpoint saved to movie_metadata_checkpoint.csv\n"
     ]
    },
    {
     "name": "stderr",
     "output_type": "stream",
     "text": [
      "Processing Movies:  36%|███▌      | 1530/4248 [1:59:36<4:55:17,  6.52s/it]"
     ]
    },
    {
     "name": "stdout",
     "output_type": "stream",
     "text": [
      "Checkpoint saved to movie_metadata_checkpoint.csv\n"
     ]
    },
    {
     "name": "stderr",
     "output_type": "stream",
     "text": [
      "Processing Movies:  36%|███▋      | 1540/4248 [2:00:38<4:23:16,  5.83s/it]"
     ]
    },
    {
     "name": "stdout",
     "output_type": "stream",
     "text": [
      "Checkpoint saved to movie_metadata_checkpoint.csv\n"
     ]
    },
    {
     "name": "stderr",
     "output_type": "stream",
     "text": [
      "Processing Movies:  36%|███▋      | 1550/4248 [2:01:40<4:46:30,  6.37s/it]"
     ]
    },
    {
     "name": "stdout",
     "output_type": "stream",
     "text": [
      "Checkpoint saved to movie_metadata_checkpoint.csv\n"
     ]
    },
    {
     "name": "stderr",
     "output_type": "stream",
     "text": [
      "Processing Movies:  37%|███▋      | 1560/4248 [2:02:41<4:39:20,  6.24s/it]"
     ]
    },
    {
     "name": "stdout",
     "output_type": "stream",
     "text": [
      "Checkpoint saved to movie_metadata_checkpoint.csv\n"
     ]
    },
    {
     "name": "stderr",
     "output_type": "stream",
     "text": [
      "Processing Movies:  37%|███▋      | 1570/4248 [2:03:40<4:28:05,  6.01s/it]"
     ]
    },
    {
     "name": "stdout",
     "output_type": "stream",
     "text": [
      "Checkpoint saved to movie_metadata_checkpoint.csv\n"
     ]
    },
    {
     "name": "stderr",
     "output_type": "stream",
     "text": [
      "Processing Movies:  37%|███▋      | 1580/4248 [2:04:42<4:25:04,  5.96s/it]"
     ]
    },
    {
     "name": "stdout",
     "output_type": "stream",
     "text": [
      "Checkpoint saved to movie_metadata_checkpoint.csv\n"
     ]
    },
    {
     "name": "stderr",
     "output_type": "stream",
     "text": [
      "Processing Movies:  37%|███▋      | 1590/4248 [2:05:37<4:10:29,  5.65s/it]"
     ]
    },
    {
     "name": "stdout",
     "output_type": "stream",
     "text": [
      "Checkpoint saved to movie_metadata_checkpoint.csv\n"
     ]
    },
    {
     "name": "stderr",
     "output_type": "stream",
     "text": [
      "Processing Movies:  38%|███▊      | 1600/4248 [2:06:36<4:24:21,  5.99s/it]"
     ]
    },
    {
     "name": "stdout",
     "output_type": "stream",
     "text": [
      "Checkpoint saved to movie_metadata_checkpoint.csv\n"
     ]
    },
    {
     "name": "stderr",
     "output_type": "stream",
     "text": [
      "Processing Movies:  38%|███▊      | 1610/4248 [2:07:32<3:49:43,  5.22s/it]"
     ]
    },
    {
     "name": "stdout",
     "output_type": "stream",
     "text": [
      "Checkpoint saved to movie_metadata_checkpoint.csv\n"
     ]
    },
    {
     "name": "stderr",
     "output_type": "stream",
     "text": [
      "Processing Movies:  38%|███▊      | 1620/4248 [2:08:17<3:20:12,  4.57s/it]"
     ]
    },
    {
     "name": "stdout",
     "output_type": "stream",
     "text": [
      "Checkpoint saved to movie_metadata_checkpoint.csv\n"
     ]
    },
    {
     "name": "stderr",
     "output_type": "stream",
     "text": [
      "Processing Movies:  38%|███▊      | 1630/4248 [2:09:15<4:21:52,  6.00s/it]"
     ]
    },
    {
     "name": "stdout",
     "output_type": "stream",
     "text": [
      "Checkpoint saved to movie_metadata_checkpoint.csv\n"
     ]
    },
    {
     "name": "stderr",
     "output_type": "stream",
     "text": [
      "Processing Movies:  39%|███▊      | 1640/4248 [2:09:59<3:14:26,  4.47s/it]"
     ]
    },
    {
     "name": "stdout",
     "output_type": "stream",
     "text": [
      "Checkpoint saved to movie_metadata_checkpoint.csv\n"
     ]
    },
    {
     "name": "stderr",
     "output_type": "stream",
     "text": [
      "Processing Movies:  39%|███▉      | 1650/4248 [2:10:49<3:36:15,  4.99s/it]"
     ]
    },
    {
     "name": "stdout",
     "output_type": "stream",
     "text": [
      "Checkpoint saved to movie_metadata_checkpoint.csv\n"
     ]
    },
    {
     "name": "stderr",
     "output_type": "stream",
     "text": [
      "Processing Movies:  39%|███▉      | 1660/4248 [2:11:42<3:42:45,  5.16s/it]"
     ]
    },
    {
     "name": "stdout",
     "output_type": "stream",
     "text": [
      "Checkpoint saved to movie_metadata_checkpoint.csv\n"
     ]
    },
    {
     "name": "stderr",
     "output_type": "stream",
     "text": [
      "Processing Movies:  39%|███▉      | 1670/4248 [2:12:28<3:04:23,  4.29s/it]"
     ]
    },
    {
     "name": "stdout",
     "output_type": "stream",
     "text": [
      "Checkpoint saved to movie_metadata_checkpoint.csv\n"
     ]
    },
    {
     "name": "stderr",
     "output_type": "stream",
     "text": [
      "Processing Movies:  40%|███▉      | 1680/4248 [2:13:19<3:56:24,  5.52s/it]"
     ]
    },
    {
     "name": "stdout",
     "output_type": "stream",
     "text": [
      "Checkpoint saved to movie_metadata_checkpoint.csv\n"
     ]
    },
    {
     "name": "stderr",
     "output_type": "stream",
     "text": [
      "Processing Movies:  40%|███▉      | 1690/4248 [2:14:17<4:20:52,  6.12s/it]"
     ]
    },
    {
     "name": "stdout",
     "output_type": "stream",
     "text": [
      "Checkpoint saved to movie_metadata_checkpoint.csv\n"
     ]
    },
    {
     "name": "stderr",
     "output_type": "stream",
     "text": [
      "Processing Movies:  40%|████      | 1700/4248 [2:15:13<4:13:17,  5.96s/it]"
     ]
    },
    {
     "name": "stdout",
     "output_type": "stream",
     "text": [
      "Checkpoint saved to movie_metadata_checkpoint.csv\n"
     ]
    },
    {
     "name": "stderr",
     "output_type": "stream",
     "text": [
      "Processing Movies:  40%|████      | 1710/4248 [2:16:05<4:07:09,  5.84s/it]"
     ]
    },
    {
     "name": "stdout",
     "output_type": "stream",
     "text": [
      "Checkpoint saved to movie_metadata_checkpoint.csv\n"
     ]
    },
    {
     "name": "stderr",
     "output_type": "stream",
     "text": [
      "Processing Movies:  40%|████      | 1720/4248 [2:17:05<4:16:57,  6.10s/it]"
     ]
    },
    {
     "name": "stdout",
     "output_type": "stream",
     "text": [
      "Checkpoint saved to movie_metadata_checkpoint.csv\n"
     ]
    },
    {
     "name": "stderr",
     "output_type": "stream",
     "text": [
      "Processing Movies:  41%|████      | 1730/4248 [2:18:02<4:22:04,  6.24s/it]"
     ]
    },
    {
     "name": "stdout",
     "output_type": "stream",
     "text": [
      "Checkpoint saved to movie_metadata_checkpoint.csv\n"
     ]
    },
    {
     "name": "stderr",
     "output_type": "stream",
     "text": [
      "Processing Movies:  41%|████      | 1740/4248 [2:18:59<3:58:38,  5.71s/it]"
     ]
    },
    {
     "name": "stdout",
     "output_type": "stream",
     "text": [
      "Checkpoint saved to movie_metadata_checkpoint.csv\n"
     ]
    },
    {
     "name": "stderr",
     "output_type": "stream",
     "text": [
      "Processing Movies:  41%|████      | 1750/4248 [2:19:51<3:26:30,  4.96s/it]"
     ]
    },
    {
     "name": "stdout",
     "output_type": "stream",
     "text": [
      "Checkpoint saved to movie_metadata_checkpoint.csv\n"
     ]
    },
    {
     "name": "stderr",
     "output_type": "stream",
     "text": [
      "Processing Movies:  41%|████▏     | 1760/4248 [2:20:46<4:01:42,  5.83s/it]"
     ]
    },
    {
     "name": "stdout",
     "output_type": "stream",
     "text": [
      "Checkpoint saved to movie_metadata_checkpoint.csv\n"
     ]
    },
    {
     "name": "stderr",
     "output_type": "stream",
     "text": [
      "Processing Movies:  42%|████▏     | 1770/4248 [2:21:34<2:55:59,  4.26s/it]"
     ]
    },
    {
     "name": "stdout",
     "output_type": "stream",
     "text": [
      "Checkpoint saved to movie_metadata_checkpoint.csv\n"
     ]
    },
    {
     "name": "stderr",
     "output_type": "stream",
     "text": [
      "Processing Movies:  42%|████▏     | 1780/4248 [2:22:30<4:08:29,  6.04s/it]"
     ]
    },
    {
     "name": "stdout",
     "output_type": "stream",
     "text": [
      "Checkpoint saved to movie_metadata_checkpoint.csv\n"
     ]
    },
    {
     "name": "stderr",
     "output_type": "stream",
     "text": [
      "Processing Movies:  42%|████▏     | 1790/4248 [2:23:29<4:04:45,  5.97s/it]"
     ]
    },
    {
     "name": "stdout",
     "output_type": "stream",
     "text": [
      "Checkpoint saved to movie_metadata_checkpoint.csv\n"
     ]
    },
    {
     "name": "stderr",
     "output_type": "stream",
     "text": [
      "Processing Movies:  42%|████▏     | 1800/4248 [2:24:26<3:57:43,  5.83s/it]"
     ]
    },
    {
     "name": "stdout",
     "output_type": "stream",
     "text": [
      "Checkpoint saved to movie_metadata_checkpoint.csv\n"
     ]
    },
    {
     "name": "stderr",
     "output_type": "stream",
     "text": [
      "Processing Movies:  43%|████▎     | 1810/4248 [2:25:22<3:50:55,  5.68s/it]"
     ]
    },
    {
     "name": "stdout",
     "output_type": "stream",
     "text": [
      "Checkpoint saved to movie_metadata_checkpoint.csv\n"
     ]
    },
    {
     "name": "stderr",
     "output_type": "stream",
     "text": [
      "Processing Movies:  43%|████▎     | 1820/4248 [2:26:14<2:57:28,  4.39s/it]"
     ]
    },
    {
     "name": "stdout",
     "output_type": "stream",
     "text": [
      "Checkpoint saved to movie_metadata_checkpoint.csv\n"
     ]
    },
    {
     "name": "stderr",
     "output_type": "stream",
     "text": [
      "Processing Movies:  43%|████▎     | 1830/4248 [2:27:05<3:17:06,  4.89s/it]"
     ]
    },
    {
     "name": "stdout",
     "output_type": "stream",
     "text": [
      "Checkpoint saved to movie_metadata_checkpoint.csv\n"
     ]
    },
    {
     "name": "stderr",
     "output_type": "stream",
     "text": [
      "Processing Movies:  43%|████▎     | 1840/4248 [2:27:59<3:30:52,  5.25s/it]"
     ]
    },
    {
     "name": "stdout",
     "output_type": "stream",
     "text": [
      "Checkpoint saved to movie_metadata_checkpoint.csv\n"
     ]
    },
    {
     "name": "stderr",
     "output_type": "stream",
     "text": [
      "Processing Movies:  44%|████▎     | 1850/4248 [2:28:51<3:31:19,  5.29s/it]"
     ]
    },
    {
     "name": "stdout",
     "output_type": "stream",
     "text": [
      "Checkpoint saved to movie_metadata_checkpoint.csv\n"
     ]
    },
    {
     "name": "stderr",
     "output_type": "stream",
     "text": [
      "Processing Movies:  44%|████▍     | 1860/4248 [2:29:37<2:47:38,  4.21s/it]"
     ]
    },
    {
     "name": "stdout",
     "output_type": "stream",
     "text": [
      "Checkpoint saved to movie_metadata_checkpoint.csv\n"
     ]
    },
    {
     "name": "stderr",
     "output_type": "stream",
     "text": [
      "Processing Movies:  44%|████▍     | 1870/4248 [2:30:35<3:53:49,  5.90s/it]"
     ]
    },
    {
     "name": "stdout",
     "output_type": "stream",
     "text": [
      "Checkpoint saved to movie_metadata_checkpoint.csv\n"
     ]
    },
    {
     "name": "stderr",
     "output_type": "stream",
     "text": [
      "Processing Movies:  44%|████▍     | 1880/4248 [2:31:29<3:28:29,  5.28s/it]"
     ]
    },
    {
     "name": "stdout",
     "output_type": "stream",
     "text": [
      "Checkpoint saved to movie_metadata_checkpoint.csv\n"
     ]
    },
    {
     "name": "stderr",
     "output_type": "stream",
     "text": [
      "Processing Movies:  44%|████▍     | 1890/4248 [2:32:27<3:50:29,  5.86s/it]"
     ]
    },
    {
     "name": "stdout",
     "output_type": "stream",
     "text": [
      "Checkpoint saved to movie_metadata_checkpoint.csv\n"
     ]
    },
    {
     "name": "stderr",
     "output_type": "stream",
     "text": [
      "Processing Movies:  45%|████▍     | 1900/4248 [2:33:24<3:49:42,  5.87s/it]"
     ]
    },
    {
     "name": "stdout",
     "output_type": "stream",
     "text": [
      "Checkpoint saved to movie_metadata_checkpoint.csv\n"
     ]
    },
    {
     "name": "stderr",
     "output_type": "stream",
     "text": [
      "Processing Movies:  45%|████▍     | 1910/4248 [2:34:23<3:49:13,  5.88s/it]"
     ]
    },
    {
     "name": "stdout",
     "output_type": "stream",
     "text": [
      "Checkpoint saved to movie_metadata_checkpoint.csv\n"
     ]
    },
    {
     "name": "stderr",
     "output_type": "stream",
     "text": [
      "Processing Movies:  45%|████▌     | 1920/4248 [2:35:25<3:58:19,  6.14s/it]"
     ]
    },
    {
     "name": "stdout",
     "output_type": "stream",
     "text": [
      "Checkpoint saved to movie_metadata_checkpoint.csv\n"
     ]
    },
    {
     "name": "stderr",
     "output_type": "stream",
     "text": [
      "Processing Movies:  45%|████▌     | 1930/4248 [2:36:25<3:57:03,  6.14s/it]"
     ]
    },
    {
     "name": "stdout",
     "output_type": "stream",
     "text": [
      "Checkpoint saved to movie_metadata_checkpoint.csv\n"
     ]
    },
    {
     "name": "stderr",
     "output_type": "stream",
     "text": [
      "Processing Movies:  46%|████▌     | 1940/4248 [2:37:24<3:57:13,  6.17s/it]"
     ]
    },
    {
     "name": "stdout",
     "output_type": "stream",
     "text": [
      "Checkpoint saved to movie_metadata_checkpoint.csv\n"
     ]
    },
    {
     "name": "stderr",
     "output_type": "stream",
     "text": [
      "Processing Movies:  46%|████▌     | 1950/4248 [2:38:24<3:58:20,  6.22s/it]"
     ]
    },
    {
     "name": "stdout",
     "output_type": "stream",
     "text": [
      "Checkpoint saved to movie_metadata_checkpoint.csv\n"
     ]
    },
    {
     "name": "stderr",
     "output_type": "stream",
     "text": [
      "Processing Movies:  46%|████▌     | 1960/4248 [2:39:21<3:26:33,  5.42s/it]"
     ]
    },
    {
     "name": "stdout",
     "output_type": "stream",
     "text": [
      "Checkpoint saved to movie_metadata_checkpoint.csv\n"
     ]
    },
    {
     "name": "stderr",
     "output_type": "stream",
     "text": [
      "Processing Movies:  46%|████▋     | 1970/4248 [2:40:22<4:06:53,  6.50s/it]"
     ]
    },
    {
     "name": "stdout",
     "output_type": "stream",
     "text": [
      "Checkpoint saved to movie_metadata_checkpoint.csv\n"
     ]
    },
    {
     "name": "stderr",
     "output_type": "stream",
     "text": [
      "Processing Movies:  47%|████▋     | 1980/4248 [2:41:26<3:51:30,  6.12s/it]"
     ]
    },
    {
     "name": "stdout",
     "output_type": "stream",
     "text": [
      "Checkpoint saved to movie_metadata_checkpoint.csv\n"
     ]
    },
    {
     "name": "stderr",
     "output_type": "stream",
     "text": [
      "Processing Movies:  47%|████▋     | 1990/4248 [2:42:27<3:52:16,  6.17s/it]"
     ]
    },
    {
     "name": "stdout",
     "output_type": "stream",
     "text": [
      "Checkpoint saved to movie_metadata_checkpoint.csv\n"
     ]
    },
    {
     "name": "stderr",
     "output_type": "stream",
     "text": [
      "Processing Movies:  47%|████▋     | 2000/4248 [2:43:27<3:21:52,  5.39s/it]"
     ]
    },
    {
     "name": "stdout",
     "output_type": "stream",
     "text": [
      "Checkpoint saved to movie_metadata_checkpoint.csv\n"
     ]
    },
    {
     "name": "stderr",
     "output_type": "stream",
     "text": [
      "Processing Movies:  47%|████▋     | 2010/4248 [2:44:34<3:42:33,  5.97s/it]"
     ]
    },
    {
     "name": "stdout",
     "output_type": "stream",
     "text": [
      "Checkpoint saved to movie_metadata_checkpoint.csv\n"
     ]
    },
    {
     "name": "stderr",
     "output_type": "stream",
     "text": [
      "Processing Movies:  48%|████▊     | 2020/4248 [2:45:39<3:58:07,  6.41s/it]"
     ]
    },
    {
     "name": "stdout",
     "output_type": "stream",
     "text": [
      "Checkpoint saved to movie_metadata_checkpoint.csv\n"
     ]
    },
    {
     "name": "stderr",
     "output_type": "stream",
     "text": [
      "Processing Movies:  48%|████▊     | 2030/4248 [2:46:43<4:04:40,  6.62s/it]"
     ]
    },
    {
     "name": "stdout",
     "output_type": "stream",
     "text": [
      "Checkpoint saved to movie_metadata_checkpoint.csv\n"
     ]
    },
    {
     "name": "stderr",
     "output_type": "stream",
     "text": [
      "Processing Movies:  48%|████▊     | 2040/4248 [2:47:41<3:57:01,  6.44s/it]"
     ]
    },
    {
     "name": "stdout",
     "output_type": "stream",
     "text": [
      "Checkpoint saved to movie_metadata_checkpoint.csv\n"
     ]
    },
    {
     "name": "stderr",
     "output_type": "stream",
     "text": [
      "Processing Movies:  48%|████▊     | 2050/4248 [2:48:37<3:18:58,  5.43s/it]"
     ]
    },
    {
     "name": "stdout",
     "output_type": "stream",
     "text": [
      "Checkpoint saved to movie_metadata_checkpoint.csv\n"
     ]
    },
    {
     "name": "stderr",
     "output_type": "stream",
     "text": [
      "Processing Movies:  48%|████▊     | 2060/4248 [2:49:38<3:39:38,  6.02s/it]"
     ]
    },
    {
     "name": "stdout",
     "output_type": "stream",
     "text": [
      "Checkpoint saved to movie_metadata_checkpoint.csv\n"
     ]
    },
    {
     "name": "stderr",
     "output_type": "stream",
     "text": [
      "Processing Movies:  49%|████▊     | 2070/4248 [2:50:34<3:08:40,  5.20s/it]"
     ]
    },
    {
     "name": "stdout",
     "output_type": "stream",
     "text": [
      "Checkpoint saved to movie_metadata_checkpoint.csv\n"
     ]
    },
    {
     "name": "stderr",
     "output_type": "stream",
     "text": [
      "Processing Movies:  49%|████▉     | 2080/4248 [2:51:36<3:42:12,  6.15s/it]"
     ]
    },
    {
     "name": "stdout",
     "output_type": "stream",
     "text": [
      "Checkpoint saved to movie_metadata_checkpoint.csv\n"
     ]
    },
    {
     "name": "stderr",
     "output_type": "stream",
     "text": [
      "Processing Movies:  49%|████▉     | 2090/4248 [2:52:32<3:34:56,  5.98s/it]"
     ]
    },
    {
     "name": "stdout",
     "output_type": "stream",
     "text": [
      "Checkpoint saved to movie_metadata_checkpoint.csv\n"
     ]
    },
    {
     "name": "stderr",
     "output_type": "stream",
     "text": [
      "Processing Movies:  49%|████▉     | 2100/4248 [2:53:28<3:20:38,  5.60s/it]"
     ]
    },
    {
     "name": "stdout",
     "output_type": "stream",
     "text": [
      "Checkpoint saved to movie_metadata_checkpoint.csv\n"
     ]
    },
    {
     "name": "stderr",
     "output_type": "stream",
     "text": [
      "Processing Movies:  50%|████▉     | 2110/4248 [2:54:19<2:37:17,  4.41s/it]"
     ]
    },
    {
     "name": "stdout",
     "output_type": "stream",
     "text": [
      "Checkpoint saved to movie_metadata_checkpoint.csv\n"
     ]
    },
    {
     "name": "stderr",
     "output_type": "stream",
     "text": [
      "Processing Movies:  50%|████▉     | 2120/4248 [2:55:17<3:23:40,  5.74s/it]"
     ]
    },
    {
     "name": "stdout",
     "output_type": "stream",
     "text": [
      "Checkpoint saved to movie_metadata_checkpoint.csv\n"
     ]
    },
    {
     "name": "stderr",
     "output_type": "stream",
     "text": [
      "Processing Movies:  50%|█████     | 2130/4248 [2:56:16<3:28:49,  5.92s/it]"
     ]
    },
    {
     "name": "stdout",
     "output_type": "stream",
     "text": [
      "Checkpoint saved to movie_metadata_checkpoint.csv\n"
     ]
    },
    {
     "name": "stderr",
     "output_type": "stream",
     "text": [
      "Processing Movies:  50%|█████     | 2140/4248 [2:57:20<3:47:04,  6.46s/it]"
     ]
    },
    {
     "name": "stdout",
     "output_type": "stream",
     "text": [
      "Checkpoint saved to movie_metadata_checkpoint.csv\n"
     ]
    },
    {
     "name": "stderr",
     "output_type": "stream",
     "text": [
      "Processing Movies:  51%|█████     | 2150/4248 [2:58:17<3:12:12,  5.50s/it]"
     ]
    },
    {
     "name": "stdout",
     "output_type": "stream",
     "text": [
      "Checkpoint saved to movie_metadata_checkpoint.csv\n"
     ]
    },
    {
     "name": "stderr",
     "output_type": "stream",
     "text": [
      "Processing Movies:  51%|█████     | 2160/4248 [2:59:17<3:30:45,  6.06s/it]"
     ]
    },
    {
     "name": "stdout",
     "output_type": "stream",
     "text": [
      "Checkpoint saved to movie_metadata_checkpoint.csv\n"
     ]
    },
    {
     "name": "stderr",
     "output_type": "stream",
     "text": [
      "Processing Movies:  51%|█████     | 2170/4248 [3:00:23<3:50:45,  6.66s/it]"
     ]
    },
    {
     "name": "stdout",
     "output_type": "stream",
     "text": [
      "Checkpoint saved to movie_metadata_checkpoint.csv\n"
     ]
    },
    {
     "name": "stderr",
     "output_type": "stream",
     "text": [
      "Processing Movies:  51%|█████▏    | 2180/4248 [3:01:16<2:40:58,  4.67s/it]"
     ]
    },
    {
     "name": "stdout",
     "output_type": "stream",
     "text": [
      "Checkpoint saved to movie_metadata_checkpoint.csv\n"
     ]
    },
    {
     "name": "stderr",
     "output_type": "stream",
     "text": [
      "Processing Movies:  52%|█████▏    | 2190/4248 [3:02:08<2:40:59,  4.69s/it]"
     ]
    },
    {
     "name": "stdout",
     "output_type": "stream",
     "text": [
      "Checkpoint saved to movie_metadata_checkpoint.csv\n"
     ]
    },
    {
     "name": "stderr",
     "output_type": "stream",
     "text": [
      "Processing Movies:  52%|█████▏    | 2200/4248 [3:03:05<3:09:18,  5.55s/it]"
     ]
    },
    {
     "name": "stdout",
     "output_type": "stream",
     "text": [
      "Checkpoint saved to movie_metadata_checkpoint.csv\n"
     ]
    },
    {
     "name": "stderr",
     "output_type": "stream",
     "text": [
      "Processing Movies:  52%|█████▏    | 2210/4248 [3:03:57<3:09:32,  5.58s/it]"
     ]
    },
    {
     "name": "stdout",
     "output_type": "stream",
     "text": [
      "Checkpoint saved to movie_metadata_checkpoint.csv\n"
     ]
    },
    {
     "name": "stderr",
     "output_type": "stream",
     "text": [
      "Processing Movies:  52%|█████▏    | 2220/4248 [3:04:50<3:02:15,  5.39s/it]"
     ]
    },
    {
     "name": "stdout",
     "output_type": "stream",
     "text": [
      "Checkpoint saved to movie_metadata_checkpoint.csv\n"
     ]
    },
    {
     "name": "stderr",
     "output_type": "stream",
     "text": [
      "Processing Movies:  52%|█████▏    | 2230/4248 [3:05:43<2:42:56,  4.84s/it]"
     ]
    },
    {
     "name": "stdout",
     "output_type": "stream",
     "text": [
      "Checkpoint saved to movie_metadata_checkpoint.csv\n"
     ]
    },
    {
     "name": "stderr",
     "output_type": "stream",
     "text": [
      "Processing Movies:  53%|█████▎    | 2240/4248 [3:06:38<3:09:21,  5.66s/it]"
     ]
    },
    {
     "name": "stdout",
     "output_type": "stream",
     "text": [
      "Checkpoint saved to movie_metadata_checkpoint.csv\n"
     ]
    },
    {
     "name": "stderr",
     "output_type": "stream",
     "text": [
      "Processing Movies:  53%|█████▎    | 2250/4248 [3:07:35<3:17:11,  5.92s/it]"
     ]
    },
    {
     "name": "stdout",
     "output_type": "stream",
     "text": [
      "Checkpoint saved to movie_metadata_checkpoint.csv\n"
     ]
    },
    {
     "name": "stderr",
     "output_type": "stream",
     "text": [
      "Processing Movies:  53%|█████▎    | 2260/4248 [3:08:36<3:24:33,  6.17s/it]"
     ]
    },
    {
     "name": "stdout",
     "output_type": "stream",
     "text": [
      "Checkpoint saved to movie_metadata_checkpoint.csv\n"
     ]
    },
    {
     "name": "stderr",
     "output_type": "stream",
     "text": [
      "Processing Movies:  53%|█████▎    | 2270/4248 [3:09:34<2:59:12,  5.44s/it]"
     ]
    },
    {
     "name": "stdout",
     "output_type": "stream",
     "text": [
      "Checkpoint saved to movie_metadata_checkpoint.csv\n"
     ]
    },
    {
     "name": "stderr",
     "output_type": "stream",
     "text": [
      "Processing Movies:  54%|█████▎    | 2280/4248 [3:10:33<3:12:29,  5.87s/it]"
     ]
    },
    {
     "name": "stdout",
     "output_type": "stream",
     "text": [
      "Checkpoint saved to movie_metadata_checkpoint.csv\n"
     ]
    },
    {
     "name": "stderr",
     "output_type": "stream",
     "text": [
      "Processing Movies:  54%|█████▍    | 2290/4248 [3:11:22<2:49:04,  5.18s/it]"
     ]
    },
    {
     "name": "stdout",
     "output_type": "stream",
     "text": [
      "Checkpoint saved to movie_metadata_checkpoint.csv\n"
     ]
    },
    {
     "name": "stderr",
     "output_type": "stream",
     "text": [
      "Processing Movies:  54%|█████▍    | 2300/4248 [3:12:13<2:45:21,  5.09s/it]"
     ]
    },
    {
     "name": "stdout",
     "output_type": "stream",
     "text": [
      "Checkpoint saved to movie_metadata_checkpoint.csv\n"
     ]
    },
    {
     "name": "stderr",
     "output_type": "stream",
     "text": [
      "Processing Movies:  54%|█████▍    | 2310/4248 [3:12:57<2:07:35,  3.95s/it]"
     ]
    },
    {
     "name": "stdout",
     "output_type": "stream",
     "text": [
      "Checkpoint saved to movie_metadata_checkpoint.csv\n"
     ]
    },
    {
     "name": "stderr",
     "output_type": "stream",
     "text": [
      "Processing Movies:  55%|█████▍    | 2320/4248 [3:13:48<2:59:14,  5.58s/it]"
     ]
    },
    {
     "name": "stdout",
     "output_type": "stream",
     "text": [
      "Checkpoint saved to movie_metadata_checkpoint.csv\n"
     ]
    },
    {
     "name": "stderr",
     "output_type": "stream",
     "text": [
      "Processing Movies:  55%|█████▍    | 2330/4248 [3:14:34<2:08:38,  4.02s/it]"
     ]
    },
    {
     "name": "stdout",
     "output_type": "stream",
     "text": [
      "Checkpoint saved to movie_metadata_checkpoint.csv\n"
     ]
    },
    {
     "name": "stderr",
     "output_type": "stream",
     "text": [
      "Processing Movies:  55%|█████▌    | 2340/4248 [3:15:21<2:42:58,  5.12s/it]"
     ]
    },
    {
     "name": "stdout",
     "output_type": "stream",
     "text": [
      "Checkpoint saved to movie_metadata_checkpoint.csv\n"
     ]
    },
    {
     "name": "stderr",
     "output_type": "stream",
     "text": [
      "Processing Movies:  55%|█████▌    | 2350/4248 [3:16:06<2:12:32,  4.19s/it]"
     ]
    },
    {
     "name": "stdout",
     "output_type": "stream",
     "text": [
      "Checkpoint saved to movie_metadata_checkpoint.csv\n"
     ]
    },
    {
     "name": "stderr",
     "output_type": "stream",
     "text": [
      "Processing Movies:  56%|█████▌    | 2360/4248 [3:17:04<3:00:15,  5.73s/it]"
     ]
    },
    {
     "name": "stdout",
     "output_type": "stream",
     "text": [
      "Checkpoint saved to movie_metadata_checkpoint.csv\n"
     ]
    },
    {
     "name": "stderr",
     "output_type": "stream",
     "text": [
      "Processing Movies:  56%|█████▌    | 2370/4248 [3:17:58<2:31:13,  4.83s/it]"
     ]
    },
    {
     "name": "stdout",
     "output_type": "stream",
     "text": [
      "Checkpoint saved to movie_metadata_checkpoint.csv\n"
     ]
    },
    {
     "name": "stderr",
     "output_type": "stream",
     "text": [
      "Processing Movies:  56%|█████▌    | 2380/4248 [3:18:59<3:13:12,  6.21s/it]"
     ]
    },
    {
     "name": "stdout",
     "output_type": "stream",
     "text": [
      "Checkpoint saved to movie_metadata_checkpoint.csv\n"
     ]
    },
    {
     "name": "stderr",
     "output_type": "stream",
     "text": [
      "Processing Movies:  56%|█████▋    | 2390/4248 [3:19:55<2:57:04,  5.72s/it]"
     ]
    },
    {
     "name": "stdout",
     "output_type": "stream",
     "text": [
      "Checkpoint saved to movie_metadata_checkpoint.csv\n"
     ]
    },
    {
     "name": "stderr",
     "output_type": "stream",
     "text": [
      "Processing Movies:  56%|█████▋    | 2400/4248 [3:20:50<2:52:51,  5.61s/it]"
     ]
    },
    {
     "name": "stdout",
     "output_type": "stream",
     "text": [
      "Checkpoint saved to movie_metadata_checkpoint.csv\n"
     ]
    },
    {
     "name": "stderr",
     "output_type": "stream",
     "text": [
      "Processing Movies:  57%|█████▋    | 2410/4248 [3:21:44<2:52:42,  5.64s/it]"
     ]
    },
    {
     "name": "stdout",
     "output_type": "stream",
     "text": [
      "Checkpoint saved to movie_metadata_checkpoint.csv\n"
     ]
    },
    {
     "name": "stderr",
     "output_type": "stream",
     "text": [
      "Processing Movies:  57%|█████▋    | 2420/4248 [3:22:39<2:58:33,  5.86s/it]"
     ]
    },
    {
     "name": "stdout",
     "output_type": "stream",
     "text": [
      "Checkpoint saved to movie_metadata_checkpoint.csv\n"
     ]
    },
    {
     "name": "stderr",
     "output_type": "stream",
     "text": [
      "Processing Movies:  57%|█████▋    | 2430/4248 [3:23:27<2:32:06,  5.02s/it]"
     ]
    },
    {
     "name": "stdout",
     "output_type": "stream",
     "text": [
      "Checkpoint saved to movie_metadata_checkpoint.csv\n"
     ]
    },
    {
     "name": "stderr",
     "output_type": "stream",
     "text": [
      "Processing Movies:  57%|█████▋    | 2440/4248 [3:24:13<2:22:41,  4.74s/it]"
     ]
    },
    {
     "name": "stdout",
     "output_type": "stream",
     "text": [
      "Checkpoint saved to movie_metadata_checkpoint.csv\n"
     ]
    },
    {
     "name": "stderr",
     "output_type": "stream",
     "text": [
      "Processing Movies:  58%|█████▊    | 2450/4248 [3:24:59<2:31:00,  5.04s/it]"
     ]
    },
    {
     "name": "stdout",
     "output_type": "stream",
     "text": [
      "Checkpoint saved to movie_metadata_checkpoint.csv\n"
     ]
    },
    {
     "name": "stderr",
     "output_type": "stream",
     "text": [
      "Processing Movies:  58%|█████▊    | 2460/4248 [3:25:45<2:22:19,  4.78s/it]"
     ]
    },
    {
     "name": "stdout",
     "output_type": "stream",
     "text": [
      "Checkpoint saved to movie_metadata_checkpoint.csv\n"
     ]
    },
    {
     "name": "stderr",
     "output_type": "stream",
     "text": [
      "Processing Movies:  58%|█████▊    | 2470/4248 [3:26:29<2:09:23,  4.37s/it]"
     ]
    },
    {
     "name": "stdout",
     "output_type": "stream",
     "text": [
      "Checkpoint saved to movie_metadata_checkpoint.csv\n"
     ]
    },
    {
     "name": "stderr",
     "output_type": "stream",
     "text": [
      "Processing Movies:  58%|█████▊    | 2480/4248 [3:27:09<1:55:39,  3.93s/it]"
     ]
    },
    {
     "name": "stdout",
     "output_type": "stream",
     "text": [
      "Checkpoint saved to movie_metadata_checkpoint.csv\n"
     ]
    },
    {
     "name": "stderr",
     "output_type": "stream",
     "text": [
      "Processing Movies:  59%|█████▊    | 2490/4248 [3:27:52<2:23:20,  4.89s/it]"
     ]
    },
    {
     "name": "stdout",
     "output_type": "stream",
     "text": [
      "Checkpoint saved to movie_metadata_checkpoint.csv\n"
     ]
    },
    {
     "name": "stderr",
     "output_type": "stream",
     "text": [
      "Processing Movies:  59%|█████▉    | 2500/4248 [3:28:41<2:32:50,  5.25s/it]"
     ]
    },
    {
     "name": "stdout",
     "output_type": "stream",
     "text": [
      "Checkpoint saved to movie_metadata_checkpoint.csv\n"
     ]
    },
    {
     "name": "stderr",
     "output_type": "stream",
     "text": [
      "Processing Movies:  59%|█████▉    | 2510/4248 [3:29:32<2:26:28,  5.06s/it]"
     ]
    },
    {
     "name": "stdout",
     "output_type": "stream",
     "text": [
      "Checkpoint saved to movie_metadata_checkpoint.csv\n"
     ]
    },
    {
     "name": "stderr",
     "output_type": "stream",
     "text": [
      "Processing Movies:  59%|█████▉    | 2520/4248 [3:30:32<2:58:50,  6.21s/it]"
     ]
    },
    {
     "name": "stdout",
     "output_type": "stream",
     "text": [
      "Checkpoint saved to movie_metadata_checkpoint.csv\n"
     ]
    },
    {
     "name": "stderr",
     "output_type": "stream",
     "text": [
      "Processing Movies:  60%|█████▉    | 2530/4248 [3:31:31<2:50:27,  5.95s/it]"
     ]
    },
    {
     "name": "stdout",
     "output_type": "stream",
     "text": [
      "Checkpoint saved to movie_metadata_checkpoint.csv\n"
     ]
    },
    {
     "name": "stderr",
     "output_type": "stream",
     "text": [
      "Processing Movies:  60%|█████▉    | 2540/4248 [3:32:27<2:46:36,  5.85s/it]"
     ]
    },
    {
     "name": "stdout",
     "output_type": "stream",
     "text": [
      "Checkpoint saved to movie_metadata_checkpoint.csv\n"
     ]
    },
    {
     "name": "stderr",
     "output_type": "stream",
     "text": [
      "Processing Movies:  60%|██████    | 2550/4248 [3:33:27<2:52:27,  6.09s/it]"
     ]
    },
    {
     "name": "stdout",
     "output_type": "stream",
     "text": [
      "Checkpoint saved to movie_metadata_checkpoint.csv\n"
     ]
    },
    {
     "name": "stderr",
     "output_type": "stream",
     "text": [
      "Processing Movies:  60%|██████    | 2560/4248 [3:34:28<2:53:37,  6.17s/it]"
     ]
    },
    {
     "name": "stdout",
     "output_type": "stream",
     "text": [
      "Checkpoint saved to movie_metadata_checkpoint.csv\n"
     ]
    },
    {
     "name": "stderr",
     "output_type": "stream",
     "text": [
      "Processing Movies:  60%|██████    | 2570/4248 [3:35:18<1:47:43,  3.85s/it]"
     ]
    },
    {
     "name": "stdout",
     "output_type": "stream",
     "text": [
      "Checkpoint saved to movie_metadata_checkpoint.csv\n"
     ]
    },
    {
     "name": "stderr",
     "output_type": "stream",
     "text": [
      "Processing Movies:  61%|██████    | 2580/4248 [3:35:59<1:56:44,  4.20s/it]"
     ]
    },
    {
     "name": "stdout",
     "output_type": "stream",
     "text": [
      "Checkpoint saved to movie_metadata_checkpoint.csv\n"
     ]
    },
    {
     "name": "stderr",
     "output_type": "stream",
     "text": [
      "Processing Movies:  61%|██████    | 2590/4248 [3:36:40<2:00:52,  4.37s/it]"
     ]
    },
    {
     "name": "stdout",
     "output_type": "stream",
     "text": [
      "Checkpoint saved to movie_metadata_checkpoint.csv\n"
     ]
    },
    {
     "name": "stderr",
     "output_type": "stream",
     "text": [
      "Processing Movies:  61%|██████    | 2600/4248 [3:37:23<2:09:11,  4.70s/it]"
     ]
    },
    {
     "name": "stdout",
     "output_type": "stream",
     "text": [
      "Checkpoint saved to movie_metadata_checkpoint.csv\n"
     ]
    },
    {
     "name": "stderr",
     "output_type": "stream",
     "text": [
      "Processing Movies:  61%|██████▏   | 2610/4248 [3:38:14<2:16:02,  4.98s/it]"
     ]
    },
    {
     "name": "stdout",
     "output_type": "stream",
     "text": [
      "Checkpoint saved to movie_metadata_checkpoint.csv\n"
     ]
    },
    {
     "name": "stderr",
     "output_type": "stream",
     "text": [
      "Processing Movies:  62%|██████▏   | 2620/4248 [3:38:58<2:20:44,  5.19s/it]"
     ]
    },
    {
     "name": "stdout",
     "output_type": "stream",
     "text": [
      "Checkpoint saved to movie_metadata_checkpoint.csv\n"
     ]
    },
    {
     "name": "stderr",
     "output_type": "stream",
     "text": [
      "Processing Movies:  62%|██████▏   | 2630/4248 [3:39:36<1:50:44,  4.11s/it]"
     ]
    },
    {
     "name": "stdout",
     "output_type": "stream",
     "text": [
      "Checkpoint saved to movie_metadata_checkpoint.csv\n"
     ]
    },
    {
     "name": "stderr",
     "output_type": "stream",
     "text": [
      "Processing Movies:  62%|██████▏   | 2640/4248 [3:40:28<2:26:47,  5.48s/it]"
     ]
    },
    {
     "name": "stdout",
     "output_type": "stream",
     "text": [
      "Checkpoint saved to movie_metadata_checkpoint.csv\n"
     ]
    },
    {
     "name": "stderr",
     "output_type": "stream",
     "text": [
      "Processing Movies:  62%|██████▏   | 2650/4248 [3:41:21<2:31:41,  5.70s/it]"
     ]
    },
    {
     "name": "stdout",
     "output_type": "stream",
     "text": [
      "Checkpoint saved to movie_metadata_checkpoint.csv\n"
     ]
    },
    {
     "name": "stderr",
     "output_type": "stream",
     "text": [
      "Processing Movies:  63%|██████▎   | 2660/4248 [3:42:20<2:37:36,  5.95s/it]"
     ]
    },
    {
     "name": "stdout",
     "output_type": "stream",
     "text": [
      "Checkpoint saved to movie_metadata_checkpoint.csv\n"
     ]
    },
    {
     "name": "stderr",
     "output_type": "stream",
     "text": [
      "Processing Movies:  63%|██████▎   | 2670/4248 [3:43:18<2:36:43,  5.96s/it]"
     ]
    },
    {
     "name": "stdout",
     "output_type": "stream",
     "text": [
      "Checkpoint saved to movie_metadata_checkpoint.csv\n"
     ]
    },
    {
     "name": "stderr",
     "output_type": "stream",
     "text": [
      "Processing Movies:  63%|██████▎   | 2680/4248 [3:44:19<2:36:18,  5.98s/it]"
     ]
    },
    {
     "name": "stdout",
     "output_type": "stream",
     "text": [
      "Checkpoint saved to movie_metadata_checkpoint.csv\n"
     ]
    },
    {
     "name": "stderr",
     "output_type": "stream",
     "text": [
      "Processing Movies:  63%|██████▎   | 2690/4248 [3:45:15<2:28:43,  5.73s/it]"
     ]
    },
    {
     "name": "stdout",
     "output_type": "stream",
     "text": [
      "Checkpoint saved to movie_metadata_checkpoint.csv\n"
     ]
    },
    {
     "name": "stderr",
     "output_type": "stream",
     "text": [
      "Processing Movies:  64%|██████▎   | 2700/4248 [3:46:19<2:45:33,  6.42s/it]"
     ]
    },
    {
     "name": "stdout",
     "output_type": "stream",
     "text": [
      "Checkpoint saved to movie_metadata_checkpoint.csv\n"
     ]
    },
    {
     "name": "stderr",
     "output_type": "stream",
     "text": [
      "Processing Movies:  64%|██████▍   | 2710/4248 [3:47:18<2:26:40,  5.72s/it]"
     ]
    },
    {
     "name": "stdout",
     "output_type": "stream",
     "text": [
      "Checkpoint saved to movie_metadata_checkpoint.csv\n"
     ]
    },
    {
     "name": "stderr",
     "output_type": "stream",
     "text": [
      "Processing Movies:  64%|██████▍   | 2720/4248 [3:48:19<2:34:04,  6.05s/it]"
     ]
    },
    {
     "name": "stdout",
     "output_type": "stream",
     "text": [
      "Checkpoint saved to movie_metadata_checkpoint.csv\n"
     ]
    },
    {
     "name": "stderr",
     "output_type": "stream",
     "text": [
      "Processing Movies:  64%|██████▍   | 2730/4248 [3:49:19<2:19:24,  5.51s/it]"
     ]
    },
    {
     "name": "stdout",
     "output_type": "stream",
     "text": [
      "Checkpoint saved to movie_metadata_checkpoint.csv\n"
     ]
    },
    {
     "name": "stderr",
     "output_type": "stream",
     "text": [
      "Processing Movies:  65%|██████▍   | 2740/4248 [3:50:11<2:09:47,  5.16s/it]"
     ]
    },
    {
     "name": "stdout",
     "output_type": "stream",
     "text": [
      "Checkpoint saved to movie_metadata_checkpoint.csv\n"
     ]
    },
    {
     "name": "stderr",
     "output_type": "stream",
     "text": [
      "Processing Movies:  65%|██████▍   | 2750/4248 [3:50:56<1:40:28,  4.02s/it]"
     ]
    },
    {
     "name": "stdout",
     "output_type": "stream",
     "text": [
      "Checkpoint saved to movie_metadata_checkpoint.csv\n"
     ]
    },
    {
     "name": "stderr",
     "output_type": "stream",
     "text": [
      "Processing Movies:  65%|██████▍   | 2760/4248 [3:51:46<2:12:18,  5.33s/it]"
     ]
    },
    {
     "name": "stdout",
     "output_type": "stream",
     "text": [
      "Checkpoint saved to movie_metadata_checkpoint.csv\n"
     ]
    },
    {
     "name": "stderr",
     "output_type": "stream",
     "text": [
      "Processing Movies:  65%|██████▌   | 2770/4248 [3:52:39<2:10:56,  5.32s/it]"
     ]
    },
    {
     "name": "stdout",
     "output_type": "stream",
     "text": [
      "Checkpoint saved to movie_metadata_checkpoint.csv\n"
     ]
    },
    {
     "name": "stderr",
     "output_type": "stream",
     "text": [
      "Processing Movies:  65%|██████▌   | 2780/4248 [3:53:37<2:21:56,  5.80s/it]"
     ]
    },
    {
     "name": "stdout",
     "output_type": "stream",
     "text": [
      "Checkpoint saved to movie_metadata_checkpoint.csv\n"
     ]
    },
    {
     "name": "stderr",
     "output_type": "stream",
     "text": [
      "Processing Movies:  66%|██████▌   | 2790/4248 [3:54:34<2:14:40,  5.54s/it]"
     ]
    },
    {
     "name": "stdout",
     "output_type": "stream",
     "text": [
      "Checkpoint saved to movie_metadata_checkpoint.csv\n"
     ]
    },
    {
     "name": "stderr",
     "output_type": "stream",
     "text": [
      "Processing Movies:  66%|██████▌   | 2800/4248 [3:55:31<2:21:44,  5.87s/it]"
     ]
    },
    {
     "name": "stdout",
     "output_type": "stream",
     "text": [
      "Checkpoint saved to movie_metadata_checkpoint.csv\n"
     ]
    },
    {
     "name": "stderr",
     "output_type": "stream",
     "text": [
      "Processing Movies:  66%|██████▌   | 2810/4248 [3:56:27<2:14:00,  5.59s/it]"
     ]
    },
    {
     "name": "stdout",
     "output_type": "stream",
     "text": [
      "Checkpoint saved to movie_metadata_checkpoint.csv\n"
     ]
    },
    {
     "name": "stderr",
     "output_type": "stream",
     "text": [
      "Processing Movies:  66%|██████▋   | 2820/4248 [3:57:13<2:00:37,  5.07s/it]"
     ]
    },
    {
     "name": "stdout",
     "output_type": "stream",
     "text": [
      "Checkpoint saved to movie_metadata_checkpoint.csv\n"
     ]
    },
    {
     "name": "stderr",
     "output_type": "stream",
     "text": [
      "Processing Movies:  67%|██████▋   | 2830/4248 [3:58:01<2:06:27,  5.35s/it]"
     ]
    },
    {
     "name": "stdout",
     "output_type": "stream",
     "text": [
      "Checkpoint saved to movie_metadata_checkpoint.csv\n"
     ]
    },
    {
     "name": "stderr",
     "output_type": "stream",
     "text": [
      "Processing Movies:  67%|██████▋   | 2840/4248 [3:58:51<2:01:27,  5.18s/it]"
     ]
    },
    {
     "name": "stdout",
     "output_type": "stream",
     "text": [
      "Checkpoint saved to movie_metadata_checkpoint.csv\n"
     ]
    },
    {
     "name": "stderr",
     "output_type": "stream",
     "text": [
      "Processing Movies:  67%|██████▋   | 2850/4248 [3:59:29<1:39:05,  4.25s/it]"
     ]
    },
    {
     "name": "stdout",
     "output_type": "stream",
     "text": [
      "Checkpoint saved to movie_metadata_checkpoint.csv\n"
     ]
    },
    {
     "name": "stderr",
     "output_type": "stream",
     "text": [
      "Processing Movies:  67%|██████▋   | 2860/4248 [4:00:17<1:44:12,  4.50s/it]"
     ]
    },
    {
     "name": "stdout",
     "output_type": "stream",
     "text": [
      "Checkpoint saved to movie_metadata_checkpoint.csv\n"
     ]
    },
    {
     "name": "stderr",
     "output_type": "stream",
     "text": [
      "Processing Movies:  68%|██████▊   | 2870/4248 [4:00:57<1:37:49,  4.26s/it]"
     ]
    },
    {
     "name": "stdout",
     "output_type": "stream",
     "text": [
      "Checkpoint saved to movie_metadata_checkpoint.csv\n"
     ]
    },
    {
     "name": "stderr",
     "output_type": "stream",
     "text": [
      "Processing Movies:  68%|██████▊   | 2880/4248 [4:01:38<1:29:25,  3.92s/it]"
     ]
    },
    {
     "name": "stdout",
     "output_type": "stream",
     "text": [
      "Checkpoint saved to movie_metadata_checkpoint.csv\n"
     ]
    },
    {
     "name": "stderr",
     "output_type": "stream",
     "text": [
      "Processing Movies:  68%|██████▊   | 2890/4248 [4:02:36<2:12:51,  5.87s/it]"
     ]
    },
    {
     "name": "stdout",
     "output_type": "stream",
     "text": [
      "Checkpoint saved to movie_metadata_checkpoint.csv\n"
     ]
    },
    {
     "name": "stderr",
     "output_type": "stream",
     "text": [
      "Processing Movies:  68%|██████▊   | 2900/4248 [4:03:35<2:17:17,  6.11s/it]"
     ]
    },
    {
     "name": "stdout",
     "output_type": "stream",
     "text": [
      "Checkpoint saved to movie_metadata_checkpoint.csv\n"
     ]
    },
    {
     "name": "stderr",
     "output_type": "stream",
     "text": [
      "Processing Movies:  69%|██████▊   | 2910/4248 [4:04:36<2:08:05,  5.74s/it]"
     ]
    },
    {
     "name": "stdout",
     "output_type": "stream",
     "text": [
      "Checkpoint saved to movie_metadata_checkpoint.csv\n"
     ]
    },
    {
     "name": "stderr",
     "output_type": "stream",
     "text": [
      "Processing Movies:  69%|██████▊   | 2920/4248 [4:05:22<1:25:43,  3.87s/it]"
     ]
    },
    {
     "name": "stdout",
     "output_type": "stream",
     "text": [
      "Checkpoint saved to movie_metadata_checkpoint.csv\n"
     ]
    },
    {
     "name": "stderr",
     "output_type": "stream",
     "text": [
      "Processing Movies:  69%|██████▉   | 2930/4248 [4:06:15<2:04:23,  5.66s/it]"
     ]
    },
    {
     "name": "stdout",
     "output_type": "stream",
     "text": [
      "Checkpoint saved to movie_metadata_checkpoint.csv\n"
     ]
    },
    {
     "name": "stderr",
     "output_type": "stream",
     "text": [
      "Processing Movies:  69%|██████▉   | 2940/4248 [4:07:11<1:45:25,  4.84s/it]"
     ]
    },
    {
     "name": "stdout",
     "output_type": "stream",
     "text": [
      "Checkpoint saved to movie_metadata_checkpoint.csv\n"
     ]
    },
    {
     "name": "stderr",
     "output_type": "stream",
     "text": [
      "Processing Movies:  69%|██████▉   | 2950/4248 [4:07:56<1:52:20,  5.19s/it]"
     ]
    },
    {
     "name": "stdout",
     "output_type": "stream",
     "text": [
      "Checkpoint saved to movie_metadata_checkpoint.csv\n"
     ]
    },
    {
     "name": "stderr",
     "output_type": "stream",
     "text": [
      "Processing Movies:  70%|██████▉   | 2960/4248 [4:08:35<1:31:34,  4.27s/it]"
     ]
    },
    {
     "name": "stdout",
     "output_type": "stream",
     "text": [
      "Checkpoint saved to movie_metadata_checkpoint.csv\n"
     ]
    },
    {
     "name": "stderr",
     "output_type": "stream",
     "text": [
      "Processing Movies:  70%|██████▉   | 2970/4248 [4:09:14<1:11:16,  3.35s/it]"
     ]
    },
    {
     "name": "stdout",
     "output_type": "stream",
     "text": [
      "Checkpoint saved to movie_metadata_checkpoint.csv\n"
     ]
    },
    {
     "name": "stderr",
     "output_type": "stream",
     "text": [
      "Processing Movies:  70%|███████   | 2980/4248 [4:10:01<1:35:50,  4.54s/it]"
     ]
    },
    {
     "name": "stdout",
     "output_type": "stream",
     "text": [
      "Checkpoint saved to movie_metadata_checkpoint.csv\n"
     ]
    },
    {
     "name": "stderr",
     "output_type": "stream",
     "text": [
      "Processing Movies:  70%|███████   | 2990/4248 [4:10:42<1:17:42,  3.71s/it]"
     ]
    },
    {
     "name": "stdout",
     "output_type": "stream",
     "text": [
      "Checkpoint saved to movie_metadata_checkpoint.csv\n"
     ]
    },
    {
     "name": "stderr",
     "output_type": "stream",
     "text": [
      "Processing Movies:  71%|███████   | 3000/4248 [4:11:21<1:27:04,  4.19s/it]"
     ]
    },
    {
     "name": "stdout",
     "output_type": "stream",
     "text": [
      "Checkpoint saved to movie_metadata_checkpoint.csv\n"
     ]
    },
    {
     "name": "stderr",
     "output_type": "stream",
     "text": [
      "Processing Movies:  71%|███████   | 3010/4248 [4:11:56<1:15:20,  3.65s/it]"
     ]
    },
    {
     "name": "stdout",
     "output_type": "stream",
     "text": [
      "Checkpoint saved to movie_metadata_checkpoint.csv\n"
     ]
    },
    {
     "name": "stderr",
     "output_type": "stream",
     "text": [
      "Processing Movies:  71%|███████   | 3020/4248 [4:12:46<1:43:32,  5.06s/it]"
     ]
    },
    {
     "name": "stdout",
     "output_type": "stream",
     "text": [
      "Checkpoint saved to movie_metadata_checkpoint.csv\n"
     ]
    },
    {
     "name": "stderr",
     "output_type": "stream",
     "text": [
      "Processing Movies:  71%|███████▏  | 3030/4248 [4:13:34<1:34:40,  4.66s/it]"
     ]
    },
    {
     "name": "stdout",
     "output_type": "stream",
     "text": [
      "Checkpoint saved to movie_metadata_checkpoint.csv\n"
     ]
    },
    {
     "name": "stderr",
     "output_type": "stream",
     "text": [
      "Processing Movies:  72%|███████▏  | 3040/4248 [4:14:31<1:58:09,  5.87s/it]"
     ]
    },
    {
     "name": "stdout",
     "output_type": "stream",
     "text": [
      "Checkpoint saved to movie_metadata_checkpoint.csv\n"
     ]
    },
    {
     "name": "stderr",
     "output_type": "stream",
     "text": [
      "Processing Movies:  72%|███████▏  | 3050/4248 [4:15:26<1:33:50,  4.70s/it]"
     ]
    },
    {
     "name": "stdout",
     "output_type": "stream",
     "text": [
      "Checkpoint saved to movie_metadata_checkpoint.csv\n"
     ]
    },
    {
     "name": "stderr",
     "output_type": "stream",
     "text": [
      "Processing Movies:  72%|███████▏  | 3060/4248 [4:16:22<2:01:24,  6.13s/it]"
     ]
    },
    {
     "name": "stdout",
     "output_type": "stream",
     "text": [
      "Checkpoint saved to movie_metadata_checkpoint.csv\n"
     ]
    },
    {
     "name": "stderr",
     "output_type": "stream",
     "text": [
      "Processing Movies:  72%|███████▏  | 3070/4248 [4:17:24<2:02:08,  6.22s/it]"
     ]
    },
    {
     "name": "stdout",
     "output_type": "stream",
     "text": [
      "Checkpoint saved to movie_metadata_checkpoint.csv\n"
     ]
    },
    {
     "name": "stderr",
     "output_type": "stream",
     "text": [
      "Processing Movies:  73%|███████▎  | 3080/4248 [4:18:26<1:59:46,  6.15s/it]"
     ]
    },
    {
     "name": "stdout",
     "output_type": "stream",
     "text": [
      "Checkpoint saved to movie_metadata_checkpoint.csv\n"
     ]
    },
    {
     "name": "stderr",
     "output_type": "stream",
     "text": [
      "Processing Movies:  73%|███████▎  | 3090/4248 [4:19:21<1:54:08,  5.91s/it]"
     ]
    },
    {
     "name": "stdout",
     "output_type": "stream",
     "text": [
      "Checkpoint saved to movie_metadata_checkpoint.csv\n"
     ]
    },
    {
     "name": "stderr",
     "output_type": "stream",
     "text": [
      "Processing Movies:  73%|███████▎  | 3100/4248 [4:20:21<1:50:40,  5.78s/it]"
     ]
    },
    {
     "name": "stdout",
     "output_type": "stream",
     "text": [
      "Checkpoint saved to movie_metadata_checkpoint.csv\n"
     ]
    },
    {
     "name": "stderr",
     "output_type": "stream",
     "text": [
      "Processing Movies:  73%|███████▎  | 3110/4248 [4:21:13<1:28:55,  4.69s/it]"
     ]
    },
    {
     "name": "stdout",
     "output_type": "stream",
     "text": [
      "Checkpoint saved to movie_metadata_checkpoint.csv\n"
     ]
    },
    {
     "name": "stderr",
     "output_type": "stream",
     "text": [
      "Processing Movies:  73%|███████▎  | 3120/4248 [4:22:08<1:54:36,  6.10s/it]"
     ]
    },
    {
     "name": "stdout",
     "output_type": "stream",
     "text": [
      "Checkpoint saved to movie_metadata_checkpoint.csv\n"
     ]
    },
    {
     "name": "stderr",
     "output_type": "stream",
     "text": [
      "Processing Movies:  74%|███████▎  | 3130/4248 [4:23:07<1:50:27,  5.93s/it]"
     ]
    },
    {
     "name": "stdout",
     "output_type": "stream",
     "text": [
      "Checkpoint saved to movie_metadata_checkpoint.csv\n"
     ]
    },
    {
     "name": "stderr",
     "output_type": "stream",
     "text": [
      "Processing Movies:  74%|███████▍  | 3140/4248 [4:24:01<1:37:25,  5.28s/it]"
     ]
    },
    {
     "name": "stdout",
     "output_type": "stream",
     "text": [
      "Checkpoint saved to movie_metadata_checkpoint.csv\n"
     ]
    },
    {
     "name": "stderr",
     "output_type": "stream",
     "text": [
      "Processing Movies:  74%|███████▍  | 3150/4248 [4:24:50<1:24:40,  4.63s/it]"
     ]
    },
    {
     "name": "stdout",
     "output_type": "stream",
     "text": [
      "Checkpoint saved to movie_metadata_checkpoint.csv\n"
     ]
    },
    {
     "name": "stderr",
     "output_type": "stream",
     "text": [
      "Processing Movies:  74%|███████▍  | 3160/4248 [4:25:33<1:08:48,  3.79s/it]"
     ]
    },
    {
     "name": "stdout",
     "output_type": "stream",
     "text": [
      "Checkpoint saved to movie_metadata_checkpoint.csv\n"
     ]
    },
    {
     "name": "stderr",
     "output_type": "stream",
     "text": [
      "Processing Movies:  75%|███████▍  | 3170/4248 [4:26:22<1:39:37,  5.54s/it]"
     ]
    },
    {
     "name": "stdout",
     "output_type": "stream",
     "text": [
      "Checkpoint saved to movie_metadata_checkpoint.csv\n"
     ]
    },
    {
     "name": "stderr",
     "output_type": "stream",
     "text": [
      "Processing Movies:  75%|███████▍  | 3180/4248 [4:27:09<1:19:23,  4.46s/it]"
     ]
    },
    {
     "name": "stdout",
     "output_type": "stream",
     "text": [
      "Checkpoint saved to movie_metadata_checkpoint.csv\n"
     ]
    },
    {
     "name": "stderr",
     "output_type": "stream",
     "text": [
      "Processing Movies:  75%|███████▌  | 3190/4248 [4:27:48<1:16:48,  4.36s/it]"
     ]
    },
    {
     "name": "stdout",
     "output_type": "stream",
     "text": [
      "Checkpoint saved to movie_metadata_checkpoint.csv\n"
     ]
    },
    {
     "name": "stderr",
     "output_type": "stream",
     "text": [
      "Processing Movies:  75%|███████▌  | 3200/4248 [4:28:30<1:06:46,  3.82s/it]"
     ]
    },
    {
     "name": "stdout",
     "output_type": "stream",
     "text": [
      "Checkpoint saved to movie_metadata_checkpoint.csv\n"
     ]
    },
    {
     "name": "stderr",
     "output_type": "stream",
     "text": [
      "Processing Movies:  76%|███████▌  | 3210/4248 [4:29:13<1:16:11,  4.40s/it]"
     ]
    },
    {
     "name": "stdout",
     "output_type": "stream",
     "text": [
      "Checkpoint saved to movie_metadata_checkpoint.csv\n"
     ]
    },
    {
     "name": "stderr",
     "output_type": "stream",
     "text": [
      "Processing Movies:  76%|███████▌  | 3220/4248 [4:30:03<1:31:20,  5.33s/it]"
     ]
    },
    {
     "name": "stdout",
     "output_type": "stream",
     "text": [
      "Checkpoint saved to movie_metadata_checkpoint.csv\n"
     ]
    },
    {
     "name": "stderr",
     "output_type": "stream",
     "text": [
      "Processing Movies:  76%|███████▌  | 3230/4248 [4:30:48<1:15:57,  4.48s/it]"
     ]
    },
    {
     "name": "stdout",
     "output_type": "stream",
     "text": [
      "Checkpoint saved to movie_metadata_checkpoint.csv\n"
     ]
    },
    {
     "name": "stderr",
     "output_type": "stream",
     "text": [
      "Processing Movies:  76%|███████▋  | 3240/4248 [4:31:52<1:47:43,  6.41s/it]"
     ]
    },
    {
     "name": "stdout",
     "output_type": "stream",
     "text": [
      "Checkpoint saved to movie_metadata_checkpoint.csv\n"
     ]
    },
    {
     "name": "stderr",
     "output_type": "stream",
     "text": [
      "Processing Movies:  77%|███████▋  | 3250/4248 [4:32:49<1:40:40,  6.05s/it]"
     ]
    },
    {
     "name": "stdout",
     "output_type": "stream",
     "text": [
      "Checkpoint saved to movie_metadata_checkpoint.csv\n"
     ]
    },
    {
     "name": "stderr",
     "output_type": "stream",
     "text": [
      "Processing Movies:  77%|███████▋  | 3260/4248 [4:33:35<1:23:08,  5.05s/it]"
     ]
    },
    {
     "name": "stdout",
     "output_type": "stream",
     "text": [
      "Checkpoint saved to movie_metadata_checkpoint.csv\n"
     ]
    },
    {
     "name": "stderr",
     "output_type": "stream",
     "text": [
      "Processing Movies:  77%|███████▋  | 3270/4248 [4:34:28<1:10:44,  4.34s/it]"
     ]
    },
    {
     "name": "stdout",
     "output_type": "stream",
     "text": [
      "Checkpoint saved to movie_metadata_checkpoint.csv\n"
     ]
    },
    {
     "name": "stderr",
     "output_type": "stream",
     "text": [
      "Processing Movies:  77%|███████▋  | 3280/4248 [4:35:20<1:20:40,  5.00s/it]"
     ]
    },
    {
     "name": "stdout",
     "output_type": "stream",
     "text": [
      "Checkpoint saved to movie_metadata_checkpoint.csv\n"
     ]
    },
    {
     "name": "stderr",
     "output_type": "stream",
     "text": [
      "Processing Movies:  77%|███████▋  | 3290/4248 [4:36:08<1:20:07,  5.02s/it]"
     ]
    },
    {
     "name": "stdout",
     "output_type": "stream",
     "text": [
      "Checkpoint saved to movie_metadata_checkpoint.csv\n"
     ]
    },
    {
     "name": "stderr",
     "output_type": "stream",
     "text": [
      "Processing Movies:  78%|███████▊  | 3300/4248 [4:36:44<1:03:06,  3.99s/it]"
     ]
    },
    {
     "name": "stdout",
     "output_type": "stream",
     "text": [
      "Checkpoint saved to movie_metadata_checkpoint.csv\n"
     ]
    },
    {
     "name": "stderr",
     "output_type": "stream",
     "text": [
      "Processing Movies:  78%|███████▊  | 3310/4248 [4:37:22<1:06:28,  4.25s/it]"
     ]
    },
    {
     "name": "stdout",
     "output_type": "stream",
     "text": [
      "Checkpoint saved to movie_metadata_checkpoint.csv\n"
     ]
    },
    {
     "name": "stderr",
     "output_type": "stream",
     "text": [
      "Processing Movies:  78%|███████▊  | 3320/4248 [4:38:19<1:33:03,  6.02s/it]"
     ]
    },
    {
     "name": "stdout",
     "output_type": "stream",
     "text": [
      "Checkpoint saved to movie_metadata_checkpoint.csv\n"
     ]
    },
    {
     "name": "stderr",
     "output_type": "stream",
     "text": [
      "Processing Movies:  78%|███████▊  | 3330/4248 [4:39:15<1:26:30,  5.65s/it]"
     ]
    },
    {
     "name": "stdout",
     "output_type": "stream",
     "text": [
      "Checkpoint saved to movie_metadata_checkpoint.csv\n"
     ]
    },
    {
     "name": "stderr",
     "output_type": "stream",
     "text": [
      "Processing Movies:  79%|███████▊  | 3340/4248 [4:40:07<1:13:55,  4.88s/it]"
     ]
    },
    {
     "name": "stdout",
     "output_type": "stream",
     "text": [
      "Checkpoint saved to movie_metadata_checkpoint.csv\n"
     ]
    },
    {
     "name": "stderr",
     "output_type": "stream",
     "text": [
      "Processing Movies:  79%|███████▉  | 3350/4248 [4:41:01<1:20:21,  5.37s/it]"
     ]
    },
    {
     "name": "stdout",
     "output_type": "stream",
     "text": [
      "Checkpoint saved to movie_metadata_checkpoint.csv\n"
     ]
    },
    {
     "name": "stderr",
     "output_type": "stream",
     "text": [
      "Processing Movies:  79%|███████▉  | 3360/4248 [4:41:57<1:23:15,  5.63s/it]"
     ]
    },
    {
     "name": "stdout",
     "output_type": "stream",
     "text": [
      "Checkpoint saved to movie_metadata_checkpoint.csv\n"
     ]
    },
    {
     "name": "stderr",
     "output_type": "stream",
     "text": [
      "Processing Movies:  79%|███████▉  | 3370/4248 [4:43:01<1:37:11,  6.64s/it]"
     ]
    },
    {
     "name": "stdout",
     "output_type": "stream",
     "text": [
      "Checkpoint saved to movie_metadata_checkpoint.csv\n"
     ]
    },
    {
     "name": "stderr",
     "output_type": "stream",
     "text": [
      "Processing Movies:  80%|███████▉  | 3380/4248 [4:43:58<1:24:39,  5.85s/it]"
     ]
    },
    {
     "name": "stdout",
     "output_type": "stream",
     "text": [
      "Checkpoint saved to movie_metadata_checkpoint.csv\n"
     ]
    },
    {
     "name": "stderr",
     "output_type": "stream",
     "text": [
      "Processing Movies:  80%|███████▉  | 3390/4248 [4:44:46<59:11,  4.14s/it]  "
     ]
    },
    {
     "name": "stdout",
     "output_type": "stream",
     "text": [
      "Checkpoint saved to movie_metadata_checkpoint.csv\n"
     ]
    },
    {
     "name": "stderr",
     "output_type": "stream",
     "text": [
      "Processing Movies:  80%|████████  | 3400/4248 [4:45:46<1:27:11,  6.17s/it]"
     ]
    },
    {
     "name": "stdout",
     "output_type": "stream",
     "text": [
      "Checkpoint saved to movie_metadata_checkpoint.csv\n"
     ]
    },
    {
     "name": "stderr",
     "output_type": "stream",
     "text": [
      "Processing Movies:  80%|████████  | 3410/4248 [4:46:50<1:28:13,  6.32s/it]"
     ]
    },
    {
     "name": "stdout",
     "output_type": "stream",
     "text": [
      "Checkpoint saved to movie_metadata_checkpoint.csv\n"
     ]
    },
    {
     "name": "stderr",
     "output_type": "stream",
     "text": [
      "Processing Movies:  81%|████████  | 3420/4248 [4:47:47<1:15:17,  5.46s/it]"
     ]
    },
    {
     "name": "stdout",
     "output_type": "stream",
     "text": [
      "Checkpoint saved to movie_metadata_checkpoint.csv\n"
     ]
    },
    {
     "name": "stderr",
     "output_type": "stream",
     "text": [
      "Processing Movies:  81%|████████  | 3430/4248 [4:48:43<1:17:35,  5.69s/it]"
     ]
    },
    {
     "name": "stdout",
     "output_type": "stream",
     "text": [
      "Checkpoint saved to movie_metadata_checkpoint.csv\n"
     ]
    },
    {
     "name": "stderr",
     "output_type": "stream",
     "text": [
      "Processing Movies:  81%|████████  | 3440/4248 [4:49:40<1:16:16,  5.66s/it]"
     ]
    },
    {
     "name": "stdout",
     "output_type": "stream",
     "text": [
      "Checkpoint saved to movie_metadata_checkpoint.csv\n"
     ]
    },
    {
     "name": "stderr",
     "output_type": "stream",
     "text": [
      "Processing Movies:  81%|████████  | 3450/4248 [4:50:37<1:18:23,  5.89s/it]"
     ]
    },
    {
     "name": "stdout",
     "output_type": "stream",
     "text": [
      "Checkpoint saved to movie_metadata_checkpoint.csv\n"
     ]
    },
    {
     "name": "stderr",
     "output_type": "stream",
     "text": [
      "Processing Movies:  81%|████████▏ | 3460/4248 [4:51:31<1:11:24,  5.44s/it]"
     ]
    },
    {
     "name": "stdout",
     "output_type": "stream",
     "text": [
      "Checkpoint saved to movie_metadata_checkpoint.csv\n"
     ]
    },
    {
     "name": "stderr",
     "output_type": "stream",
     "text": [
      "Processing Movies:  82%|████████▏ | 3470/4248 [4:52:24<1:06:13,  5.11s/it]"
     ]
    },
    {
     "name": "stdout",
     "output_type": "stream",
     "text": [
      "Checkpoint saved to movie_metadata_checkpoint.csv\n"
     ]
    },
    {
     "name": "stderr",
     "output_type": "stream",
     "text": [
      "Processing Movies:  82%|████████▏ | 3480/4248 [4:53:21<1:11:21,  5.57s/it]"
     ]
    },
    {
     "name": "stdout",
     "output_type": "stream",
     "text": [
      "Checkpoint saved to movie_metadata_checkpoint.csv\n"
     ]
    },
    {
     "name": "stderr",
     "output_type": "stream",
     "text": [
      "Processing Movies:  82%|████████▏ | 3490/4248 [4:54:13<1:02:44,  4.97s/it]"
     ]
    },
    {
     "name": "stdout",
     "output_type": "stream",
     "text": [
      "Checkpoint saved to movie_metadata_checkpoint.csv\n"
     ]
    },
    {
     "name": "stderr",
     "output_type": "stream",
     "text": [
      "Processing Movies:  82%|████████▏ | 3500/4248 [4:55:01<50:44,  4.07s/it]  "
     ]
    },
    {
     "name": "stdout",
     "output_type": "stream",
     "text": [
      "Checkpoint saved to movie_metadata_checkpoint.csv\n"
     ]
    },
    {
     "name": "stderr",
     "output_type": "stream",
     "text": [
      "Processing Movies:  83%|████████▎ | 3510/4248 [4:55:41<49:43,  4.04s/it]"
     ]
    },
    {
     "name": "stdout",
     "output_type": "stream",
     "text": [
      "Checkpoint saved to movie_metadata_checkpoint.csv\n"
     ]
    },
    {
     "name": "stderr",
     "output_type": "stream",
     "text": [
      "Processing Movies:  83%|████████▎ | 3520/4248 [4:56:25<57:23,  4.73s/it]"
     ]
    },
    {
     "name": "stdout",
     "output_type": "stream",
     "text": [
      "Checkpoint saved to movie_metadata_checkpoint.csv\n"
     ]
    },
    {
     "name": "stderr",
     "output_type": "stream",
     "text": [
      "Processing Movies:  83%|████████▎ | 3530/4248 [4:57:00<41:32,  3.47s/it]"
     ]
    },
    {
     "name": "stdout",
     "output_type": "stream",
     "text": [
      "Checkpoint saved to movie_metadata_checkpoint.csv\n"
     ]
    },
    {
     "name": "stderr",
     "output_type": "stream",
     "text": [
      "Processing Movies:  83%|████████▎ | 3540/4248 [4:57:48<58:21,  4.95s/it]  "
     ]
    },
    {
     "name": "stdout",
     "output_type": "stream",
     "text": [
      "Checkpoint saved to movie_metadata_checkpoint.csv\n"
     ]
    },
    {
     "name": "stderr",
     "output_type": "stream",
     "text": [
      "Processing Movies:  84%|████████▎ | 3550/4248 [4:58:25<39:50,  3.42s/it]"
     ]
    },
    {
     "name": "stdout",
     "output_type": "stream",
     "text": [
      "Checkpoint saved to movie_metadata_checkpoint.csv\n"
     ]
    },
    {
     "name": "stderr",
     "output_type": "stream",
     "text": [
      "Processing Movies:  84%|████████▍ | 3560/4248 [4:59:03<52:35,  4.59s/it]"
     ]
    },
    {
     "name": "stdout",
     "output_type": "stream",
     "text": [
      "Checkpoint saved to movie_metadata_checkpoint.csv\n"
     ]
    },
    {
     "name": "stderr",
     "output_type": "stream",
     "text": [
      "Processing Movies:  84%|████████▍ | 3570/4248 [4:59:41<36:58,  3.27s/it]"
     ]
    },
    {
     "name": "stdout",
     "output_type": "stream",
     "text": [
      "Checkpoint saved to movie_metadata_checkpoint.csv\n"
     ]
    },
    {
     "name": "stderr",
     "output_type": "stream",
     "text": [
      "Processing Movies:  84%|████████▍ | 3580/4248 [5:00:30<57:13,  5.14s/it]"
     ]
    },
    {
     "name": "stdout",
     "output_type": "stream",
     "text": [
      "Checkpoint saved to movie_metadata_checkpoint.csv\n"
     ]
    },
    {
     "name": "stderr",
     "output_type": "stream",
     "text": [
      "Processing Movies:  85%|████████▍ | 3590/4248 [5:01:31<1:06:21,  6.05s/it]"
     ]
    },
    {
     "name": "stdout",
     "output_type": "stream",
     "text": [
      "Checkpoint saved to movie_metadata_checkpoint.csv\n"
     ]
    },
    {
     "name": "stderr",
     "output_type": "stream",
     "text": [
      "Processing Movies:  85%|████████▍ | 3600/4248 [5:02:30<1:06:00,  6.11s/it]"
     ]
    },
    {
     "name": "stdout",
     "output_type": "stream",
     "text": [
      "Checkpoint saved to movie_metadata_checkpoint.csv\n"
     ]
    },
    {
     "name": "stderr",
     "output_type": "stream",
     "text": [
      "Processing Movies:  85%|████████▍ | 3610/4248 [5:03:27<1:00:55,  5.73s/it]"
     ]
    },
    {
     "name": "stdout",
     "output_type": "stream",
     "text": [
      "Checkpoint saved to movie_metadata_checkpoint.csv\n"
     ]
    },
    {
     "name": "stderr",
     "output_type": "stream",
     "text": [
      "Processing Movies:  85%|████████▌ | 3620/4248 [5:04:18<55:08,  5.27s/it]"
     ]
    },
    {
     "name": "stdout",
     "output_type": "stream",
     "text": [
      "Checkpoint saved to movie_metadata_checkpoint.csv\n"
     ]
    },
    {
     "name": "stderr",
     "output_type": "stream",
     "text": [
      "Processing Movies:  85%|████████▌ | 3630/4248 [5:05:14<59:03,  5.73s/it]"
     ]
    },
    {
     "name": "stdout",
     "output_type": "stream",
     "text": [
      "Checkpoint saved to movie_metadata_checkpoint.csv\n"
     ]
    },
    {
     "name": "stderr",
     "output_type": "stream",
     "text": [
      "Processing Movies:  86%|████████▌ | 3640/4248 [5:06:12<58:42,  5.79s/it]"
     ]
    },
    {
     "name": "stdout",
     "output_type": "stream",
     "text": [
      "Checkpoint saved to movie_metadata_checkpoint.csv\n"
     ]
    },
    {
     "name": "stderr",
     "output_type": "stream",
     "text": [
      "Processing Movies:  86%|████████▌ | 3650/4248 [5:07:06<56:45,  5.69s/it]"
     ]
    },
    {
     "name": "stdout",
     "output_type": "stream",
     "text": [
      "Checkpoint saved to movie_metadata_checkpoint.csv\n"
     ]
    },
    {
     "name": "stderr",
     "output_type": "stream",
     "text": [
      "Processing Movies:  86%|████████▌ | 3660/4248 [5:08:03<53:03,  5.41s/it]"
     ]
    },
    {
     "name": "stdout",
     "output_type": "stream",
     "text": [
      "Checkpoint saved to movie_metadata_checkpoint.csv\n"
     ]
    },
    {
     "name": "stderr",
     "output_type": "stream",
     "text": [
      "Processing Movies:  86%|████████▋ | 3670/4248 [5:08:55<52:08,  5.41s/it]"
     ]
    },
    {
     "name": "stdout",
     "output_type": "stream",
     "text": [
      "Checkpoint saved to movie_metadata_checkpoint.csv\n"
     ]
    },
    {
     "name": "stderr",
     "output_type": "stream",
     "text": [
      "Processing Movies:  87%|████████▋ | 3680/4248 [5:09:50<52:23,  5.53s/it]"
     ]
    },
    {
     "name": "stdout",
     "output_type": "stream",
     "text": [
      "Checkpoint saved to movie_metadata_checkpoint.csv\n"
     ]
    },
    {
     "name": "stderr",
     "output_type": "stream",
     "text": [
      "Processing Movies:  87%|████████▋ | 3690/4248 [5:10:44<48:43,  5.24s/it]"
     ]
    },
    {
     "name": "stdout",
     "output_type": "stream",
     "text": [
      "Checkpoint saved to movie_metadata_checkpoint.csv\n"
     ]
    },
    {
     "name": "stderr",
     "output_type": "stream",
     "text": [
      "Processing Movies:  87%|████████▋ | 3700/4248 [5:11:43<57:03,  6.25s/it]"
     ]
    },
    {
     "name": "stdout",
     "output_type": "stream",
     "text": [
      "Checkpoint saved to movie_metadata_checkpoint.csv\n"
     ]
    },
    {
     "name": "stderr",
     "output_type": "stream",
     "text": [
      "Processing Movies:  87%|████████▋ | 3710/4248 [5:12:36<38:54,  4.34s/it]"
     ]
    },
    {
     "name": "stdout",
     "output_type": "stream",
     "text": [
      "Checkpoint saved to movie_metadata_checkpoint.csv\n"
     ]
    },
    {
     "name": "stderr",
     "output_type": "stream",
     "text": [
      "Processing Movies:  88%|████████▊ | 3720/4248 [5:13:23<45:35,  5.18s/it]"
     ]
    },
    {
     "name": "stdout",
     "output_type": "stream",
     "text": [
      "Checkpoint saved to movie_metadata_checkpoint.csv\n"
     ]
    },
    {
     "name": "stderr",
     "output_type": "stream",
     "text": [
      "Processing Movies:  88%|████████▊ | 3730/4248 [5:14:19<47:34,  5.51s/it]"
     ]
    },
    {
     "name": "stdout",
     "output_type": "stream",
     "text": [
      "Checkpoint saved to movie_metadata_checkpoint.csv\n"
     ]
    },
    {
     "name": "stderr",
     "output_type": "stream",
     "text": [
      "Processing Movies:  88%|████████▊ | 3740/4248 [5:15:01<37:47,  4.46s/it]"
     ]
    },
    {
     "name": "stdout",
     "output_type": "stream",
     "text": [
      "Checkpoint saved to movie_metadata_checkpoint.csv\n"
     ]
    },
    {
     "name": "stderr",
     "output_type": "stream",
     "text": [
      "Processing Movies:  88%|████████▊ | 3750/4248 [5:15:42<38:25,  4.63s/it]"
     ]
    },
    {
     "name": "stdout",
     "output_type": "stream",
     "text": [
      "Checkpoint saved to movie_metadata_checkpoint.csv\n"
     ]
    },
    {
     "name": "stderr",
     "output_type": "stream",
     "text": [
      "Processing Movies:  89%|████████▊ | 3760/4248 [5:16:28<33:53,  4.17s/it]"
     ]
    },
    {
     "name": "stdout",
     "output_type": "stream",
     "text": [
      "Checkpoint saved to movie_metadata_checkpoint.csv\n"
     ]
    },
    {
     "name": "stderr",
     "output_type": "stream",
     "text": [
      "Processing Movies:  89%|████████▊ | 3770/4248 [5:17:09<36:37,  4.60s/it]"
     ]
    },
    {
     "name": "stdout",
     "output_type": "stream",
     "text": [
      "Checkpoint saved to movie_metadata_checkpoint.csv\n"
     ]
    },
    {
     "name": "stderr",
     "output_type": "stream",
     "text": [
      "Processing Movies:  89%|████████▉ | 3780/4248 [5:17:58<39:49,  5.11s/it]"
     ]
    },
    {
     "name": "stdout",
     "output_type": "stream",
     "text": [
      "Checkpoint saved to movie_metadata_checkpoint.csv\n"
     ]
    },
    {
     "name": "stderr",
     "output_type": "stream",
     "text": [
      "Processing Movies:  89%|████████▉ | 3790/4248 [5:18:51<41:56,  5.49s/it]"
     ]
    },
    {
     "name": "stdout",
     "output_type": "stream",
     "text": [
      "Checkpoint saved to movie_metadata_checkpoint.csv\n"
     ]
    },
    {
     "name": "stderr",
     "output_type": "stream",
     "text": [
      "Processing Movies:  89%|████████▉ | 3800/4248 [5:19:46<40:37,  5.44s/it]"
     ]
    },
    {
     "name": "stdout",
     "output_type": "stream",
     "text": [
      "Checkpoint saved to movie_metadata_checkpoint.csv\n"
     ]
    },
    {
     "name": "stderr",
     "output_type": "stream",
     "text": [
      "Processing Movies:  90%|████████▉ | 3810/4248 [5:20:41<41:21,  5.66s/it]"
     ]
    },
    {
     "name": "stdout",
     "output_type": "stream",
     "text": [
      "Checkpoint saved to movie_metadata_checkpoint.csv\n"
     ]
    },
    {
     "name": "stderr",
     "output_type": "stream",
     "text": [
      "Processing Movies:  90%|████████▉ | 3820/4248 [5:21:38<40:40,  5.70s/it]"
     ]
    },
    {
     "name": "stdout",
     "output_type": "stream",
     "text": [
      "Checkpoint saved to movie_metadata_checkpoint.csv\n"
     ]
    },
    {
     "name": "stderr",
     "output_type": "stream",
     "text": [
      "Processing Movies:  90%|█████████ | 3830/4248 [5:22:31<35:56,  5.16s/it]"
     ]
    },
    {
     "name": "stdout",
     "output_type": "stream",
     "text": [
      "Checkpoint saved to movie_metadata_checkpoint.csv\n"
     ]
    },
    {
     "name": "stderr",
     "output_type": "stream",
     "text": [
      "Processing Movies:  90%|█████████ | 3840/4248 [5:23:16<35:10,  5.17s/it]"
     ]
    },
    {
     "name": "stdout",
     "output_type": "stream",
     "text": [
      "Checkpoint saved to movie_metadata_checkpoint.csv\n"
     ]
    },
    {
     "name": "stderr",
     "output_type": "stream",
     "text": [
      "Processing Movies:  91%|█████████ | 3850/4248 [5:24:07<34:01,  5.13s/it]"
     ]
    },
    {
     "name": "stdout",
     "output_type": "stream",
     "text": [
      "Checkpoint saved to movie_metadata_checkpoint.csv\n"
     ]
    },
    {
     "name": "stderr",
     "output_type": "stream",
     "text": [
      "Processing Movies:  91%|█████████ | 3860/4248 [5:25:04<37:12,  5.75s/it]"
     ]
    },
    {
     "name": "stdout",
     "output_type": "stream",
     "text": [
      "Checkpoint saved to movie_metadata_checkpoint.csv\n"
     ]
    },
    {
     "name": "stderr",
     "output_type": "stream",
     "text": [
      "Processing Movies:  91%|█████████ | 3870/4248 [5:25:59<31:57,  5.07s/it]"
     ]
    },
    {
     "name": "stdout",
     "output_type": "stream",
     "text": [
      "Checkpoint saved to movie_metadata_checkpoint.csv\n"
     ]
    },
    {
     "name": "stderr",
     "output_type": "stream",
     "text": [
      "Processing Movies:  91%|█████████▏| 3880/4248 [5:26:56<31:47,  5.18s/it]"
     ]
    },
    {
     "name": "stdout",
     "output_type": "stream",
     "text": [
      "Checkpoint saved to movie_metadata_checkpoint.csv\n"
     ]
    },
    {
     "name": "stderr",
     "output_type": "stream",
     "text": [
      "Processing Movies:  92%|█████████▏| 3890/4248 [5:27:40<27:44,  4.65s/it]"
     ]
    },
    {
     "name": "stdout",
     "output_type": "stream",
     "text": [
      "Checkpoint saved to movie_metadata_checkpoint.csv\n"
     ]
    },
    {
     "name": "stderr",
     "output_type": "stream",
     "text": [
      "Processing Movies:  92%|█████████▏| 3900/4248 [5:28:39<33:07,  5.71s/it]"
     ]
    },
    {
     "name": "stdout",
     "output_type": "stream",
     "text": [
      "Checkpoint saved to movie_metadata_checkpoint.csv\n"
     ]
    },
    {
     "name": "stderr",
     "output_type": "stream",
     "text": [
      "Processing Movies:  92%|█████████▏| 3910/4248 [5:29:40<35:01,  6.22s/it]"
     ]
    },
    {
     "name": "stdout",
     "output_type": "stream",
     "text": [
      "Checkpoint saved to movie_metadata_checkpoint.csv\n"
     ]
    },
    {
     "name": "stderr",
     "output_type": "stream",
     "text": [
      "Processing Movies:  92%|█████████▏| 3920/4248 [5:30:39<33:25,  6.11s/it]"
     ]
    },
    {
     "name": "stdout",
     "output_type": "stream",
     "text": [
      "Checkpoint saved to movie_metadata_checkpoint.csv\n"
     ]
    },
    {
     "name": "stderr",
     "output_type": "stream",
     "text": [
      "Processing Movies:  93%|█████████▎| 3930/4248 [5:31:28<30:43,  5.80s/it]"
     ]
    },
    {
     "name": "stdout",
     "output_type": "stream",
     "text": [
      "Checkpoint saved to movie_metadata_checkpoint.csv\n"
     ]
    },
    {
     "name": "stderr",
     "output_type": "stream",
     "text": [
      "Processing Movies:  93%|█████████▎| 3940/4248 [5:32:20<29:12,  5.69s/it]"
     ]
    },
    {
     "name": "stdout",
     "output_type": "stream",
     "text": [
      "Checkpoint saved to movie_metadata_checkpoint.csv\n"
     ]
    },
    {
     "name": "stderr",
     "output_type": "stream",
     "text": [
      "Processing Movies:  93%|█████████▎| 3950/4248 [5:33:09<25:41,  5.17s/it]"
     ]
    },
    {
     "name": "stdout",
     "output_type": "stream",
     "text": [
      "Checkpoint saved to movie_metadata_checkpoint.csv\n"
     ]
    },
    {
     "name": "stderr",
     "output_type": "stream",
     "text": [
      "Processing Movies:  93%|█████████▎| 3960/4248 [5:33:58<25:40,  5.35s/it]"
     ]
    },
    {
     "name": "stdout",
     "output_type": "stream",
     "text": [
      "Checkpoint saved to movie_metadata_checkpoint.csv\n"
     ]
    },
    {
     "name": "stderr",
     "output_type": "stream",
     "text": [
      "Processing Movies:  93%|█████████▎| 3970/4248 [5:34:53<27:43,  5.98s/it]"
     ]
    },
    {
     "name": "stdout",
     "output_type": "stream",
     "text": [
      "Checkpoint saved to movie_metadata_checkpoint.csv\n"
     ]
    },
    {
     "name": "stderr",
     "output_type": "stream",
     "text": [
      "Processing Movies:  94%|█████████▎| 3980/4248 [5:35:42<22:35,  5.06s/it]"
     ]
    },
    {
     "name": "stdout",
     "output_type": "stream",
     "text": [
      "Checkpoint saved to movie_metadata_checkpoint.csv\n"
     ]
    },
    {
     "name": "stderr",
     "output_type": "stream",
     "text": [
      "Processing Movies:  94%|█████████▍| 3990/4248 [5:36:22<14:03,  3.27s/it]"
     ]
    },
    {
     "name": "stdout",
     "output_type": "stream",
     "text": [
      "Checkpoint saved to movie_metadata_checkpoint.csv\n"
     ]
    },
    {
     "name": "stderr",
     "output_type": "stream",
     "text": [
      "Processing Movies:  94%|█████████▍| 4000/4248 [5:37:06<15:30,  3.75s/it]"
     ]
    },
    {
     "name": "stdout",
     "output_type": "stream",
     "text": [
      "Checkpoint saved to movie_metadata_checkpoint.csv\n"
     ]
    },
    {
     "name": "stderr",
     "output_type": "stream",
     "text": [
      "Processing Movies:  94%|█████████▍| 4010/4248 [5:37:54<18:51,  4.75s/it]"
     ]
    },
    {
     "name": "stdout",
     "output_type": "stream",
     "text": [
      "Checkpoint saved to movie_metadata_checkpoint.csv\n"
     ]
    },
    {
     "name": "stderr",
     "output_type": "stream",
     "text": [
      "Processing Movies:  95%|█████████▍| 4020/4248 [5:38:42<20:49,  5.48s/it]"
     ]
    },
    {
     "name": "stdout",
     "output_type": "stream",
     "text": [
      "Checkpoint saved to movie_metadata_checkpoint.csv\n"
     ]
    },
    {
     "name": "stderr",
     "output_type": "stream",
     "text": [
      "Processing Movies:  95%|█████████▍| 4030/4248 [5:39:41<23:35,  6.49s/it]"
     ]
    },
    {
     "name": "stdout",
     "output_type": "stream",
     "text": [
      "Checkpoint saved to movie_metadata_checkpoint.csv\n"
     ]
    },
    {
     "name": "stderr",
     "output_type": "stream",
     "text": [
      "Processing Movies:  95%|█████████▌| 4040/4248 [5:40:39<20:38,  5.96s/it]"
     ]
    },
    {
     "name": "stdout",
     "output_type": "stream",
     "text": [
      "Checkpoint saved to movie_metadata_checkpoint.csv\n"
     ]
    },
    {
     "name": "stderr",
     "output_type": "stream",
     "text": [
      "Processing Movies:  95%|█████████▌| 4050/4248 [5:41:43<20:33,  6.23s/it]"
     ]
    },
    {
     "name": "stdout",
     "output_type": "stream",
     "text": [
      "Checkpoint saved to movie_metadata_checkpoint.csv\n"
     ]
    },
    {
     "name": "stderr",
     "output_type": "stream",
     "text": [
      "Processing Movies:  96%|█████████▌| 4060/4248 [5:42:46<19:03,  6.08s/it]"
     ]
    },
    {
     "name": "stdout",
     "output_type": "stream",
     "text": [
      "Checkpoint saved to movie_metadata_checkpoint.csv\n"
     ]
    },
    {
     "name": "stderr",
     "output_type": "stream",
     "text": [
      "Processing Movies:  96%|█████████▌| 4070/4248 [5:43:52<19:46,  6.67s/it]"
     ]
    },
    {
     "name": "stdout",
     "output_type": "stream",
     "text": [
      "Checkpoint saved to movie_metadata_checkpoint.csv\n"
     ]
    },
    {
     "name": "stderr",
     "output_type": "stream",
     "text": [
      "Processing Movies:  96%|█████████▌| 4080/4248 [5:44:52<16:52,  6.03s/it]"
     ]
    },
    {
     "name": "stdout",
     "output_type": "stream",
     "text": [
      "Checkpoint saved to movie_metadata_checkpoint.csv\n"
     ]
    },
    {
     "name": "stderr",
     "output_type": "stream",
     "text": [
      "Processing Movies:  96%|█████████▋| 4090/4248 [5:45:47<15:35,  5.92s/it]"
     ]
    },
    {
     "name": "stdout",
     "output_type": "stream",
     "text": [
      "Checkpoint saved to movie_metadata_checkpoint.csv\n"
     ]
    },
    {
     "name": "stderr",
     "output_type": "stream",
     "text": [
      "Processing Movies:  97%|█████████▋| 4100/4248 [5:46:43<14:22,  5.83s/it]"
     ]
    },
    {
     "name": "stdout",
     "output_type": "stream",
     "text": [
      "Checkpoint saved to movie_metadata_checkpoint.csv\n"
     ]
    },
    {
     "name": "stderr",
     "output_type": "stream",
     "text": [
      "Processing Movies:  97%|█████████▋| 4110/4248 [5:47:36<12:52,  5.59s/it]"
     ]
    },
    {
     "name": "stdout",
     "output_type": "stream",
     "text": [
      "Checkpoint saved to movie_metadata_checkpoint.csv\n"
     ]
    },
    {
     "name": "stderr",
     "output_type": "stream",
     "text": [
      "Processing Movies:  97%|█████████▋| 4120/4248 [5:48:27<10:37,  4.98s/it]"
     ]
    },
    {
     "name": "stdout",
     "output_type": "stream",
     "text": [
      "Checkpoint saved to movie_metadata_checkpoint.csv\n"
     ]
    },
    {
     "name": "stderr",
     "output_type": "stream",
     "text": [
      "Processing Movies:  97%|█████████▋| 4130/4248 [5:49:17<11:31,  5.86s/it]"
     ]
    },
    {
     "name": "stdout",
     "output_type": "stream",
     "text": [
      "Checkpoint saved to movie_metadata_checkpoint.csv\n"
     ]
    },
    {
     "name": "stderr",
     "output_type": "stream",
     "text": [
      "Processing Movies:  97%|█████████▋| 4140/4248 [5:50:08<08:44,  4.86s/it]"
     ]
    },
    {
     "name": "stdout",
     "output_type": "stream",
     "text": [
      "Checkpoint saved to movie_metadata_checkpoint.csv\n"
     ]
    },
    {
     "name": "stderr",
     "output_type": "stream",
     "text": [
      "Processing Movies:  98%|█████████▊| 4150/4248 [5:51:00<07:56,  4.87s/it]"
     ]
    },
    {
     "name": "stdout",
     "output_type": "stream",
     "text": [
      "Checkpoint saved to movie_metadata_checkpoint.csv\n"
     ]
    },
    {
     "name": "stderr",
     "output_type": "stream",
     "text": [
      "Processing Movies:  98%|█████████▊| 4160/4248 [5:51:58<08:26,  5.76s/it]"
     ]
    },
    {
     "name": "stdout",
     "output_type": "stream",
     "text": [
      "Checkpoint saved to movie_metadata_checkpoint.csv\n"
     ]
    },
    {
     "name": "stderr",
     "output_type": "stream",
     "text": [
      "Processing Movies:  98%|█████████▊| 4170/4248 [5:52:51<07:43,  5.94s/it]"
     ]
    },
    {
     "name": "stdout",
     "output_type": "stream",
     "text": [
      "Checkpoint saved to movie_metadata_checkpoint.csv\n"
     ]
    },
    {
     "name": "stderr",
     "output_type": "stream",
     "text": [
      "Processing Movies:  98%|█████████▊| 4180/4248 [5:53:55<07:21,  6.49s/it]"
     ]
    },
    {
     "name": "stdout",
     "output_type": "stream",
     "text": [
      "Checkpoint saved to movie_metadata_checkpoint.csv\n"
     ]
    },
    {
     "name": "stderr",
     "output_type": "stream",
     "text": [
      "Processing Movies:  99%|█████████▊| 4190/4248 [5:54:40<04:04,  4.21s/it]"
     ]
    },
    {
     "name": "stdout",
     "output_type": "stream",
     "text": [
      "Checkpoint saved to movie_metadata_checkpoint.csv\n"
     ]
    },
    {
     "name": "stderr",
     "output_type": "stream",
     "text": [
      "Processing Movies:  99%|█████████▉| 4200/4248 [5:55:32<03:42,  4.63s/it]"
     ]
    },
    {
     "name": "stdout",
     "output_type": "stream",
     "text": [
      "Checkpoint saved to movie_metadata_checkpoint.csv\n"
     ]
    },
    {
     "name": "stderr",
     "output_type": "stream",
     "text": [
      "Processing Movies:  99%|█████████▉| 4210/4248 [5:56:18<02:52,  4.54s/it]"
     ]
    },
    {
     "name": "stdout",
     "output_type": "stream",
     "text": [
      "Checkpoint saved to movie_metadata_checkpoint.csv\n"
     ]
    },
    {
     "name": "stderr",
     "output_type": "stream",
     "text": [
      "Processing Movies:  99%|█████████▉| 4220/4248 [5:57:05<02:02,  4.36s/it]"
     ]
    },
    {
     "name": "stdout",
     "output_type": "stream",
     "text": [
      "Checkpoint saved to movie_metadata_checkpoint.csv\n"
     ]
    },
    {
     "name": "stderr",
     "output_type": "stream",
     "text": [
      "Processing Movies: 100%|█████████▉| 4230/4248 [5:57:46<01:22,  4.60s/it]"
     ]
    },
    {
     "name": "stdout",
     "output_type": "stream",
     "text": [
      "Checkpoint saved to movie_metadata_checkpoint.csv\n"
     ]
    },
    {
     "name": "stderr",
     "output_type": "stream",
     "text": [
      "Processing Movies: 100%|█████████▉| 4240/4248 [5:58:30<00:36,  4.53s/it]"
     ]
    },
    {
     "name": "stdout",
     "output_type": "stream",
     "text": [
      "Checkpoint saved to movie_metadata_checkpoint.csv\n"
     ]
    },
    {
     "name": "stderr",
     "output_type": "stream",
     "text": [
      "Processing Movies: 100%|██████████| 4248/4248 [5:59:12<00:00,  5.07s/it]\n"
     ]
    },
    {
     "name": "stdout",
     "output_type": "stream",
     "text": [
      "Checkpoint saved to movie_metadata_checkpoint.csv\n"
     ]
    }
   ],
   "source": [
    "# Scrape reviews from user urls\n",
    "if __name__ == \"__main__\":\n",
    "    driver = initialize_driver()\n",
    "    try:\n",
    "        # load checkpoint\n",
    "        existing_metadata_df = load_existing_metadata()\n",
    "        # Scrape the metadata\n",
    "        metadata_df = scrape_movie_metadata(movie_urls, driver, checkpoint_filename=\"movie_metadata_checkpoint.csv\", existing_metadata=existing_metadata_df)\n",
    "        metadata_df.to_csv('movie_metadata.csv', index=False)\n",
    "    finally:\n",
    "        driver.quit()  # Ensure the driver is closed after usage"
   ]
  },
  {
   "cell_type": "code",
   "execution_count": 11,
   "id": "a5580fd6",
   "metadata": {
    "execution": {
     "iopub.execute_input": "2024-09-03T21:58:19.248900Z",
     "iopub.status.busy": "2024-09-03T21:58:19.247741Z",
     "iopub.status.idle": "2024-09-03T21:58:19.281105Z",
     "shell.execute_reply": "2024-09-03T21:58:19.280030Z"
    },
    "papermill": {
     "duration": 0.362302,
     "end_time": "2024-09-03T21:58:19.283370",
     "exception": false,
     "start_time": "2024-09-03T21:58:18.921068",
     "status": "completed"
    },
    "tags": []
   },
   "outputs": [
    {
     "data": {
      "text/html": [
       "<div>\n",
       "<style scoped>\n",
       "    .dataframe tbody tr th:only-of-type {\n",
       "        vertical-align: middle;\n",
       "    }\n",
       "\n",
       "    .dataframe tbody tr th {\n",
       "        vertical-align: top;\n",
       "    }\n",
       "\n",
       "    .dataframe thead th {\n",
       "        text-align: right;\n",
       "    }\n",
       "</style>\n",
       "<table border=\"1\" class=\"dataframe\">\n",
       "  <thead>\n",
       "    <tr style=\"text-align: right;\">\n",
       "      <th></th>\n",
       "      <th>watches</th>\n",
       "      <th>likes</th>\n",
       "      <th>lists</th>\n",
       "      <th>synopsis</th>\n",
       "      <th>fans</th>\n",
       "      <th>average_rating</th>\n",
       "      <th>total_ratings</th>\n",
       "      <th>rating_distribution</th>\n",
       "      <th>genres</th>\n",
       "      <th>movie_url</th>\n",
       "    </tr>\n",
       "  </thead>\n",
       "  <tbody>\n",
       "    <tr>\n",
       "      <th>0</th>\n",
       "      <td>219787.0</td>\n",
       "      <td>61821.0</td>\n",
       "      <td>58513.0</td>\n",
       "      <td>After a chance encounter at a local bar, stron...</td>\n",
       "      <td>472.0</td>\n",
       "      <td>3.40</td>\n",
       "      <td>192864.0</td>\n",
       "      <td>[0.0019391903102704497, 0.006714576074332172, ...</td>\n",
       "      <td>['Crime', 'Drama']</td>\n",
       "      <td>https://letterboxd.com/film/the-bikeriders/</td>\n",
       "    </tr>\n",
       "    <tr>\n",
       "      <th>1</th>\n",
       "      <td>25535.0</td>\n",
       "      <td>8856.0</td>\n",
       "      <td>19728.0</td>\n",
       "      <td>Three days into his Miami honeymoon with needy...</td>\n",
       "      <td>291.0</td>\n",
       "      <td>3.93</td>\n",
       "      <td>18023.0</td>\n",
       "      <td>[0.0021639016811851523, 0.004716195971813794, ...</td>\n",
       "      <td>['Romance', 'Comedy']</td>\n",
       "      <td>https://letterboxd.com/film/the-heartbreak-kid...</td>\n",
       "    </tr>\n",
       "    <tr>\n",
       "      <th>2</th>\n",
       "      <td>25090.0</td>\n",
       "      <td>8498.0</td>\n",
       "      <td>15777.0</td>\n",
       "      <td>An independent woman can’t choose between the ...</td>\n",
       "      <td>227.0</td>\n",
       "      <td>3.90</td>\n",
       "      <td>17118.0</td>\n",
       "      <td>[0.0009346886318495151, 0.002511975698095572, ...</td>\n",
       "      <td>['Comedy', 'Romance']</td>\n",
       "      <td>https://letterboxd.com/film/design-for-living/</td>\n",
       "    </tr>\n",
       "    <tr>\n",
       "      <th>3</th>\n",
       "      <td>36763.0</td>\n",
       "      <td>4655.0</td>\n",
       "      <td>10915.0</td>\n",
       "      <td>An oil company expedition disturbs the peace o...</td>\n",
       "      <td>17.0</td>\n",
       "      <td>2.94</td>\n",
       "      <td>21139.0</td>\n",
       "      <td>[0.007379724679502341, 0.026396707507450684, 0...</td>\n",
       "      <td>['Fantasy', 'Adventure']</td>\n",
       "      <td>https://letterboxd.com/film/king-kong-1976/</td>\n",
       "    </tr>\n",
       "    <tr>\n",
       "      <th>4</th>\n",
       "      <td>8341.0</td>\n",
       "      <td>2233.0</td>\n",
       "      <td>1360.0</td>\n",
       "      <td>A little monkey fakes death to evade the law.</td>\n",
       "      <td>NaN</td>\n",
       "      <td>3.63</td>\n",
       "      <td>3653.0</td>\n",
       "      <td>[0.004106214070626882, 0.005748699698877635, 0...</td>\n",
       "      <td>['Animation']</td>\n",
       "      <td>https://letterboxd.com/film/bobo-the-monkey/</td>\n",
       "    </tr>\n",
       "  </tbody>\n",
       "</table>\n",
       "</div>"
      ],
      "text/plain": [
       "    watches    likes    lists  \\\n",
       "0  219787.0  61821.0  58513.0   \n",
       "1   25535.0   8856.0  19728.0   \n",
       "2   25090.0   8498.0  15777.0   \n",
       "3   36763.0   4655.0  10915.0   \n",
       "4    8341.0   2233.0   1360.0   \n",
       "\n",
       "                                            synopsis   fans  average_rating  \\\n",
       "0  After a chance encounter at a local bar, stron...  472.0            3.40   \n",
       "1  Three days into his Miami honeymoon with needy...  291.0            3.93   \n",
       "2  An independent woman can’t choose between the ...  227.0            3.90   \n",
       "3  An oil company expedition disturbs the peace o...   17.0            2.94   \n",
       "4      A little monkey fakes death to evade the law.    NaN            3.63   \n",
       "\n",
       "   total_ratings                                rating_distribution  \\\n",
       "0       192864.0  [0.0019391903102704497, 0.006714576074332172, ...   \n",
       "1        18023.0  [0.0021639016811851523, 0.004716195971813794, ...   \n",
       "2        17118.0  [0.0009346886318495151, 0.002511975698095572, ...   \n",
       "3        21139.0  [0.007379724679502341, 0.026396707507450684, 0...   \n",
       "4         3653.0  [0.004106214070626882, 0.005748699698877635, 0...   \n",
       "\n",
       "                     genres                                          movie_url  \n",
       "0        ['Crime', 'Drama']        https://letterboxd.com/film/the-bikeriders/  \n",
       "1     ['Romance', 'Comedy']  https://letterboxd.com/film/the-heartbreak-kid...  \n",
       "2     ['Comedy', 'Romance']     https://letterboxd.com/film/design-for-living/  \n",
       "3  ['Fantasy', 'Adventure']        https://letterboxd.com/film/king-kong-1976/  \n",
       "4             ['Animation']       https://letterboxd.com/film/bobo-the-monkey/  "
      ]
     },
     "execution_count": 11,
     "metadata": {},
     "output_type": "execute_result"
    }
   ],
   "source": [
    "# Display the DataFrame\n",
    "metadata_df.head()"
   ]
  },
  {
   "cell_type": "markdown",
   "id": "900a5519",
   "metadata": {
    "papermill": {
     "duration": 0.319299,
     "end_time": "2024-09-03T21:58:19.913374",
     "exception": false,
     "start_time": "2024-09-03T21:58:19.594075",
     "status": "completed"
    },
    "tags": []
   },
   "source": [
    "# 5) Add movie metadata to user reviews"
   ]
  },
  {
   "cell_type": "code",
   "execution_count": 12,
   "id": "da9257d3",
   "metadata": {
    "execution": {
     "iopub.execute_input": "2024-09-03T21:58:20.533249Z",
     "iopub.status.busy": "2024-09-03T21:58:20.532194Z",
     "iopub.status.idle": "2024-09-03T21:58:21.015621Z",
     "shell.execute_reply": "2024-09-03T21:58:21.014617Z"
    },
    "papermill": {
     "duration": 0.796905,
     "end_time": "2024-09-03T21:58:21.018331",
     "exception": false,
     "start_time": "2024-09-03T21:58:20.221426",
     "status": "completed"
    },
    "tags": []
   },
   "outputs": [],
   "source": [
    "user_reviews_with_metadata = pd.merge(user_reviews, metadata_df, on='movie_url', how='left')\n",
    "user_reviews_with_metadata.to_csv('user_reviews_with_metadata.csv', index=False)"
   ]
  },
  {
   "cell_type": "code",
   "execution_count": 13,
   "id": "6be7dcad",
   "metadata": {
    "execution": {
     "iopub.execute_input": "2024-09-03T21:58:21.762079Z",
     "iopub.status.busy": "2024-09-03T21:58:21.761261Z",
     "iopub.status.idle": "2024-09-03T21:58:21.785874Z",
     "shell.execute_reply": "2024-09-03T21:58:21.784868Z"
    },
    "papermill": {
     "duration": 0.459179,
     "end_time": "2024-09-03T21:58:21.788593",
     "exception": false,
     "start_time": "2024-09-03T21:58:21.329414",
     "status": "completed"
    },
    "tags": []
   },
   "outputs": [
    {
     "name": "stdout",
     "output_type": "stream",
     "text": [
      "(10000, 19)\n"
     ]
    },
    {
     "data": {
      "text/html": [
       "<div>\n",
       "<style scoped>\n",
       "    .dataframe tbody tr th:only-of-type {\n",
       "        vertical-align: middle;\n",
       "    }\n",
       "\n",
       "    .dataframe tbody tr th {\n",
       "        vertical-align: top;\n",
       "    }\n",
       "\n",
       "    .dataframe thead th {\n",
       "        text-align: right;\n",
       "    }\n",
       "</style>\n",
       "<table border=\"1\" class=\"dataframe\">\n",
       "  <thead>\n",
       "    <tr style=\"text-align: right;\">\n",
       "      <th></th>\n",
       "      <th>movie_title</th>\n",
       "      <th>movie_user_url</th>\n",
       "      <th>review_text</th>\n",
       "      <th>rating</th>\n",
       "      <th>review_date</th>\n",
       "      <th>movie_year</th>\n",
       "      <th>liked</th>\n",
       "      <th>user_url</th>\n",
       "      <th>username</th>\n",
       "      <th>movie_url</th>\n",
       "      <th>watches</th>\n",
       "      <th>likes</th>\n",
       "      <th>lists</th>\n",
       "      <th>synopsis</th>\n",
       "      <th>fans</th>\n",
       "      <th>average_rating</th>\n",
       "      <th>total_ratings</th>\n",
       "      <th>rating_distribution</th>\n",
       "      <th>genres</th>\n",
       "    </tr>\n",
       "  </thead>\n",
       "  <tbody>\n",
       "    <tr>\n",
       "      <th>0</th>\n",
       "      <td>The Bikeriders</td>\n",
       "      <td>https://letterboxd.com/kurstboy/film/the-biker...</td>\n",
       "      <td>michael shannon knocks it out of the park as a...</td>\n",
       "      <td>0.7</td>\n",
       "      <td>Watched 01 Sep 2024</td>\n",
       "      <td>2023.0</td>\n",
       "      <td>True</td>\n",
       "      <td>https://letterboxd.com/kurstboy/</td>\n",
       "      <td>kurstboy</td>\n",
       "      <td>https://letterboxd.com/film/the-bikeriders/</td>\n",
       "      <td>219787.0</td>\n",
       "      <td>61821.0</td>\n",
       "      <td>58513.0</td>\n",
       "      <td>After a chance encounter at a local bar, stron...</td>\n",
       "      <td>472.0</td>\n",
       "      <td>3.40</td>\n",
       "      <td>192864.0</td>\n",
       "      <td>[0.0019391903102704497, 0.006714576074332172, ...</td>\n",
       "      <td>['Crime', 'Drama']</td>\n",
       "    </tr>\n",
       "    <tr>\n",
       "      <th>1</th>\n",
       "      <td>The Heartbreak Kid</td>\n",
       "      <td>https://letterboxd.com/kurstboy/film/the-heart...</td>\n",
       "      <td>40 to 50 out of 5 stars</td>\n",
       "      <td>1.0</td>\n",
       "      <td>Rewatched 28 Aug 2024</td>\n",
       "      <td>1972.0</td>\n",
       "      <td>True</td>\n",
       "      <td>https://letterboxd.com/kurstboy/</td>\n",
       "      <td>kurstboy</td>\n",
       "      <td>https://letterboxd.com/film/the-heartbreak-kid...</td>\n",
       "      <td>25535.0</td>\n",
       "      <td>8856.0</td>\n",
       "      <td>19728.0</td>\n",
       "      <td>Three days into his Miami honeymoon with needy...</td>\n",
       "      <td>291.0</td>\n",
       "      <td>3.93</td>\n",
       "      <td>18023.0</td>\n",
       "      <td>[0.0021639016811851523, 0.004716195971813794, ...</td>\n",
       "      <td>['Romance', 'Comedy']</td>\n",
       "    </tr>\n",
       "    <tr>\n",
       "      <th>2</th>\n",
       "      <td>Design for Living</td>\n",
       "      <td>https://letterboxd.com/kurstboy/film/design-fo...</td>\n",
       "      <td>lubitsch just knows how to get it done</td>\n",
       "      <td>0.9</td>\n",
       "      <td>Watched 27 Aug 2024</td>\n",
       "      <td>1933.0</td>\n",
       "      <td>True</td>\n",
       "      <td>https://letterboxd.com/kurstboy/</td>\n",
       "      <td>kurstboy</td>\n",
       "      <td>https://letterboxd.com/film/design-for-living/</td>\n",
       "      <td>25090.0</td>\n",
       "      <td>8498.0</td>\n",
       "      <td>15777.0</td>\n",
       "      <td>An independent woman can’t choose between the ...</td>\n",
       "      <td>227.0</td>\n",
       "      <td>3.90</td>\n",
       "      <td>17118.0</td>\n",
       "      <td>[0.0009346886318495151, 0.002511975698095572, ...</td>\n",
       "      <td>['Comedy', 'Romance']</td>\n",
       "    </tr>\n",
       "    <tr>\n",
       "      <th>3</th>\n",
       "      <td>King Kong</td>\n",
       "      <td>https://letterboxd.com/kurstboy/film/king-kong...</td>\n",
       "      <td>monkey mondays #34\\nkind of flabbergasted at h...</td>\n",
       "      <td>0.8</td>\n",
       "      <td>Watched 26 Aug 2024</td>\n",
       "      <td>1976.0</td>\n",
       "      <td>True</td>\n",
       "      <td>https://letterboxd.com/kurstboy/</td>\n",
       "      <td>kurstboy</td>\n",
       "      <td>https://letterboxd.com/film/king-kong-1976/</td>\n",
       "      <td>36763.0</td>\n",
       "      <td>4655.0</td>\n",
       "      <td>10915.0</td>\n",
       "      <td>An oil company expedition disturbs the peace o...</td>\n",
       "      <td>17.0</td>\n",
       "      <td>2.94</td>\n",
       "      <td>21139.0</td>\n",
       "      <td>[0.007379724679502341, 0.026396707507450684, 0...</td>\n",
       "      <td>['Fantasy', 'Adventure']</td>\n",
       "    </tr>\n",
       "    <tr>\n",
       "      <th>4</th>\n",
       "      <td>Bobo the Monkey</td>\n",
       "      <td>https://letterboxd.com/kurstboy/film/bobo-the-...</td>\n",
       "      <td>monkey mondays #33</td>\n",
       "      <td>0.8</td>\n",
       "      <td>Watched 19 Aug 2024</td>\n",
       "      <td>2021.0</td>\n",
       "      <td>True</td>\n",
       "      <td>https://letterboxd.com/kurstboy/</td>\n",
       "      <td>kurstboy</td>\n",
       "      <td>https://letterboxd.com/film/bobo-the-monkey/</td>\n",
       "      <td>8341.0</td>\n",
       "      <td>2233.0</td>\n",
       "      <td>1360.0</td>\n",
       "      <td>A little monkey fakes death to evade the law.</td>\n",
       "      <td>NaN</td>\n",
       "      <td>3.63</td>\n",
       "      <td>3653.0</td>\n",
       "      <td>[0.004106214070626882, 0.005748699698877635, 0...</td>\n",
       "      <td>['Animation']</td>\n",
       "    </tr>\n",
       "  </tbody>\n",
       "</table>\n",
       "</div>"
      ],
      "text/plain": [
       "          movie_title                                     movie_user_url  \\\n",
       "0      The Bikeriders  https://letterboxd.com/kurstboy/film/the-biker...   \n",
       "1  The Heartbreak Kid  https://letterboxd.com/kurstboy/film/the-heart...   \n",
       "2   Design for Living  https://letterboxd.com/kurstboy/film/design-fo...   \n",
       "3           King Kong  https://letterboxd.com/kurstboy/film/king-kong...   \n",
       "4     Bobo the Monkey  https://letterboxd.com/kurstboy/film/bobo-the-...   \n",
       "\n",
       "                                         review_text  rating  \\\n",
       "0  michael shannon knocks it out of the park as a...     0.7   \n",
       "1                            40 to 50 out of 5 stars     1.0   \n",
       "2             lubitsch just knows how to get it done     0.9   \n",
       "3  monkey mondays #34\\nkind of flabbergasted at h...     0.8   \n",
       "4                                 monkey mondays #33     0.8   \n",
       "\n",
       "             review_date  movie_year  liked                          user_url  \\\n",
       "0    Watched 01 Sep 2024      2023.0   True  https://letterboxd.com/kurstboy/   \n",
       "1  Rewatched 28 Aug 2024      1972.0   True  https://letterboxd.com/kurstboy/   \n",
       "2    Watched 27 Aug 2024      1933.0   True  https://letterboxd.com/kurstboy/   \n",
       "3    Watched 26 Aug 2024      1976.0   True  https://letterboxd.com/kurstboy/   \n",
       "4    Watched 19 Aug 2024      2021.0   True  https://letterboxd.com/kurstboy/   \n",
       "\n",
       "   username                                          movie_url   watches  \\\n",
       "0  kurstboy        https://letterboxd.com/film/the-bikeriders/  219787.0   \n",
       "1  kurstboy  https://letterboxd.com/film/the-heartbreak-kid...   25535.0   \n",
       "2  kurstboy     https://letterboxd.com/film/design-for-living/   25090.0   \n",
       "3  kurstboy        https://letterboxd.com/film/king-kong-1976/   36763.0   \n",
       "4  kurstboy       https://letterboxd.com/film/bobo-the-monkey/    8341.0   \n",
       "\n",
       "     likes    lists                                           synopsis   fans  \\\n",
       "0  61821.0  58513.0  After a chance encounter at a local bar, stron...  472.0   \n",
       "1   8856.0  19728.0  Three days into his Miami honeymoon with needy...  291.0   \n",
       "2   8498.0  15777.0  An independent woman can’t choose between the ...  227.0   \n",
       "3   4655.0  10915.0  An oil company expedition disturbs the peace o...   17.0   \n",
       "4   2233.0   1360.0      A little monkey fakes death to evade the law.    NaN   \n",
       "\n",
       "   average_rating  total_ratings  \\\n",
       "0            3.40       192864.0   \n",
       "1            3.93        18023.0   \n",
       "2            3.90        17118.0   \n",
       "3            2.94        21139.0   \n",
       "4            3.63         3653.0   \n",
       "\n",
       "                                 rating_distribution                    genres  \n",
       "0  [0.0019391903102704497, 0.006714576074332172, ...        ['Crime', 'Drama']  \n",
       "1  [0.0021639016811851523, 0.004716195971813794, ...     ['Romance', 'Comedy']  \n",
       "2  [0.0009346886318495151, 0.002511975698095572, ...     ['Comedy', 'Romance']  \n",
       "3  [0.007379724679502341, 0.026396707507450684, 0...  ['Fantasy', 'Adventure']  \n",
       "4  [0.004106214070626882, 0.005748699698877635, 0...             ['Animation']  "
      ]
     },
     "execution_count": 13,
     "metadata": {},
     "output_type": "execute_result"
    }
   ],
   "source": [
    "print(user_reviews_with_metadata.shape)\n",
    "user_reviews_with_metadata.head()"
   ]
  },
  {
   "cell_type": "code",
   "execution_count": null,
   "id": "ded78590",
   "metadata": {
    "papermill": {
     "duration": 0.309734,
     "end_time": "2024-09-03T21:58:22.410318",
     "exception": false,
     "start_time": "2024-09-03T21:58:22.100584",
     "status": "completed"
    },
    "tags": []
   },
   "outputs": [],
   "source": []
  }
 ],
 "metadata": {
  "kaggle": {
   "accelerator": "none",
   "dataSources": [
    {
     "datasetId": 5638372,
     "sourceId": 9310209,
     "sourceType": "datasetVersion"
    },
    {
     "sourceId": 195023362,
     "sourceType": "kernelVersion"
    },
    {
     "sourceId": 195023541,
     "sourceType": "kernelVersion"
    }
   ],
   "dockerImageVersionId": 30635,
   "isGpuEnabled": false,
   "isInternetEnabled": true,
   "language": "python",
   "sourceType": "notebook"
  },
  "kernelspec": {
   "display_name": "Python 3",
   "language": "python",
   "name": "python3"
  },
  "language_info": {
   "codemirror_mode": {
    "name": "ipython",
    "version": 3
   },
   "file_extension": ".py",
   "mimetype": "text/x-python",
   "name": "python",
   "nbconvert_exporter": "python",
   "pygments_lexer": "ipython3",
   "version": "3.10.12"
  },
  "papermill": {
   "default_parameters": {},
   "duration": 21644.412315,
   "end_time": "2024-09-03T21:58:23.584727",
   "environment_variables": {},
   "exception": null,
   "input_path": "__notebook__.ipynb",
   "output_path": "__notebook__.ipynb",
   "parameters": {},
   "start_time": "2024-09-03T15:57:39.172412",
   "version": "2.4.0"
  }
 },
 "nbformat": 4,
 "nbformat_minor": 5
}
