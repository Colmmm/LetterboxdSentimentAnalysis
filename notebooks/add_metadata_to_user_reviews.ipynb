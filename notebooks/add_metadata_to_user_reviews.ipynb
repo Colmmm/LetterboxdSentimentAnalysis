{
 "cells": [
  {
   "cell_type": "markdown",
   "id": "6fda6f45",
   "metadata": {
    "papermill": {
     "duration": 0.007896,
     "end_time": "2024-09-02T16:34:20.019576",
     "exception": false,
     "start_time": "2024-09-02T16:34:20.011680",
     "status": "completed"
    },
    "tags": []
   },
   "source": [
    "# 1. Setting Up the Environment\n",
    "\n",
    "## 1.1. Install dependencies:\n",
    "This command updates the system's package list and installs various libraries required for running Chrome and Selenium."
   ]
  },
  {
   "cell_type": "code",
   "execution_count": 1,
   "id": "1a203479",
   "metadata": {
    "execution": {
     "iopub.execute_input": "2024-09-02T16:34:20.036039Z",
     "iopub.status.busy": "2024-09-02T16:34:20.035603Z",
     "iopub.status.idle": "2024-09-02T16:34:45.854531Z",
     "shell.execute_reply": "2024-09-02T16:34:45.853145Z"
    },
    "papermill": {
     "duration": 25.830427,
     "end_time": "2024-09-02T16:34:45.857375",
     "exception": false,
     "start_time": "2024-09-02T16:34:20.026948",
     "status": "completed"
    },
    "tags": []
   },
   "outputs": [
    {
     "name": "stdout",
     "output_type": "stream",
     "text": [
      "Get:1 http://packages.cloud.google.com/apt gcsfuse-focal InRelease [1227 B]\r\n",
      "Get:2 https://packages.cloud.google.com/apt cloud-sdk InRelease [1618 B]\r\n",
      "Get:3 http://security.ubuntu.com/ubuntu focal-security InRelease [128 kB]\r\n",
      "Hit:4 http://archive.ubuntu.com/ubuntu focal InRelease\r\n",
      "Get:5 https://packages.cloud.google.com/apt cloud-sdk/main amd64 Packages [3214 kB]\r\n",
      "Get:6 http://archive.ubuntu.com/ubuntu focal-updates InRelease [128 kB]\r\n",
      "Get:7 https://packages.cloud.google.com/apt cloud-sdk/main all Packages [1511 kB]\r\n",
      "Get:8 http://security.ubuntu.com/ubuntu focal-security/restricted amd64 Packages [3926 kB]\r\n",
      "Get:9 http://archive.ubuntu.com/ubuntu focal-backports InRelease [128 kB]\r\n",
      "Get:10 http://archive.ubuntu.com/ubuntu focal-updates/main amd64 Packages [4398 kB]\r\n",
      "Get:11 http://security.ubuntu.com/ubuntu focal-security/universe amd64 Packages [1269 kB]\r\n",
      "Get:12 http://security.ubuntu.com/ubuntu focal-security/multiverse amd64 Packages [30.9 kB]\r\n",
      "Get:13 http://security.ubuntu.com/ubuntu focal-security/main amd64 Packages [3934 kB]\r\n",
      "Get:14 http://archive.ubuntu.com/ubuntu focal-updates/restricted amd64 Packages [4077 kB]\r\n",
      "Get:15 http://archive.ubuntu.com/ubuntu focal-updates/universe amd64 Packages [1555 kB]\r\n",
      "Get:16 http://archive.ubuntu.com/ubuntu focal-updates/multiverse amd64 Packages [33.5 kB]\r\n",
      "\r\n",
      "E: Repository 'http://packages.cloud.google.com/apt gcsfuse-focal InRelease' changed its 'Origin' value from 'namespaces/gcs-fuse-prod/repositories/gcsfuse-focal' to 'gcsfuse-focal'\r\n",
      "E: Repository 'http://packages.cloud.google.com/apt gcsfuse-focal InRelease' changed its 'Label' value from 'namespaces/gcs-fuse-prod/repositories/gcsfuse-focal' to 'gcsfuse-focal'\r\n",
      "N: This must be accepted explicitly before updates for this repository can be applied. See apt-secure(8) manpage for details.\r\n",
      "\r\n",
      "\r\n",
      "\r\n",
      "libfontconfig1 is already the newest version (2.13.1-2ubuntu3).\r\n",
      "libvulkan1 is already the newest version (1.2.131.2-1).\r\n",
      "libvulkan1 set to manually installed.\r\n",
      "The following additional packages will be installed:\r\n",
      "  gconf-service gconf-service-backend libglib2.0-bin libudev1\r\n",
      "Recommended packages:\r\n",
      "  xdg-user-dirs\r\n",
      "The following NEW packages will be installed:\r\n",
      "  gconf-service gconf-service-backend gconf2-common libdbus-glib-1-2 libgbm1\r\n",
      "  libgconf-2-4 libu2f-udev libwayland-server0 udev\r\n",
      "The following packages will be upgraded:\r\n",
      "  libglib2.0-0 libglib2.0-bin libnss3 libudev1\r\n",
      "4 upgraded, 9 newly installed, 0 to remove and 128 not upgraded.\r\n",
      "Need to get 5180 kB of archives.\r\n",
      "After this operation, 18.4 MB of additional disk space will be used.\r\n",
      "Get:1 http://archive.ubuntu.com/ubuntu focal-updates/main amd64 libudev1 amd64 245.4-4ubuntu3.23 [75.6 kB]\r\n",
      "Get:2 http://archive.ubuntu.com/ubuntu focal-updates/main amd64 libglib2.0-bin amd64 2.64.6-1~ubuntu20.04.7 [72.8 kB]\r\n",
      "Get:3 http://archive.ubuntu.com/ubuntu focal-updates/main amd64 libglib2.0-0 amd64 2.64.6-1~ubuntu20.04.7 [1289 kB]\r\n",
      "Get:4 http://archive.ubuntu.com/ubuntu focal-updates/main amd64 udev amd64 245.4-4ubuntu3.23 [1366 kB]\r\n",
      "Get:5 http://archive.ubuntu.com/ubuntu focal/main amd64 libdbus-glib-1-2 amd64 0.110-5fakssync1 [59.1 kB]\r\n",
      "Get:6 http://archive.ubuntu.com/ubuntu focal/universe amd64 gconf2-common all 3.2.6-6ubuntu1 [698 kB]\r\n",
      "Get:7 http://archive.ubuntu.com/ubuntu focal/universe amd64 libgconf-2-4 amd64 3.2.6-6ubuntu1 [84.8 kB]\r\n",
      "Get:8 http://archive.ubuntu.com/ubuntu focal/universe amd64 gconf-service-backend amd64 3.2.6-6ubuntu1 [58.6 kB]\r\n",
      "Get:9 http://archive.ubuntu.com/ubuntu focal/universe amd64 gconf-service amd64 3.2.6-6ubuntu1 [17.4 kB]\r\n",
      "Get:10 http://archive.ubuntu.com/ubuntu focal-updates/main amd64 libwayland-server0 amd64 1.18.0-1ubuntu0.1 [31.3 kB]\r\n",
      "Get:11 http://archive.ubuntu.com/ubuntu focal-updates/main amd64 libgbm1 amd64 21.2.6-0ubuntu0.1~20.04.2 [29.2 kB]\r\n",
      "Get:12 http://archive.ubuntu.com/ubuntu focal-updates/main amd64 libnss3 amd64 2:3.98-0ubuntu0.20.04.2 [1391 kB]\r\n",
      "Get:13 http://archive.ubuntu.com/ubuntu focal/main amd64 libu2f-udev all 1.1.10-1 [6108 B]\r\n",
      "Fetched 5180 kB in 2s (2173 kB/s)\r\n",
      "(Reading database ... 108782 files and directories currently installed.)\r\n",
      "Preparing to unpack .../libudev1_245.4-4ubuntu3.23_amd64.deb ...\r\n",
      "Unpacking libudev1:amd64 (245.4-4ubuntu3.23) over (245.4-4ubuntu3.22) ...\r\n",
      "Setting up libudev1:amd64 (245.4-4ubuntu3.23) ...\r\n",
      "(Reading database ... 108782 files and directories currently installed.)\r\n",
      "Preparing to unpack .../00-libglib2.0-bin_2.64.6-1~ubuntu20.04.7_amd64.deb ...\r\n",
      "Unpacking libglib2.0-bin (2.64.6-1~ubuntu20.04.7) over (2.64.6-1~ubuntu20.04.6) ...\r\n",
      "Preparing to unpack .../01-libglib2.0-0_2.64.6-1~ubuntu20.04.7_amd64.deb ...\r\n",
      "Unpacking libglib2.0-0:amd64 (2.64.6-1~ubuntu20.04.7) over (2.64.6-1~ubuntu20.04.6) ...\r\n",
      "Selecting previously unselected package udev.\r\n",
      "Preparing to unpack .../02-udev_245.4-4ubuntu3.23_amd64.deb ...\r\n",
      "Unpacking udev (245.4-4ubuntu3.23) ...\r\n",
      "Selecting previously unselected package libdbus-glib-1-2:amd64.\r\n",
      "Preparing to unpack .../03-libdbus-glib-1-2_0.110-5fakssync1_amd64.deb ...\r\n",
      "Unpacking libdbus-glib-1-2:amd64 (0.110-5fakssync1) ...\r\n",
      "Selecting previously unselected package gconf2-common.\r\n",
      "Preparing to unpack .../04-gconf2-common_3.2.6-6ubuntu1_all.deb ...\r\n",
      "Unpacking gconf2-common (3.2.6-6ubuntu1) ...\r\n",
      "Selecting previously unselected package libgconf-2-4:amd64.\r\n",
      "Preparing to unpack .../05-libgconf-2-4_3.2.6-6ubuntu1_amd64.deb ...\r\n",
      "Unpacking libgconf-2-4:amd64 (3.2.6-6ubuntu1) ...\r\n",
      "Selecting previously unselected package gconf-service-backend.\r\n",
      "Preparing to unpack .../06-gconf-service-backend_3.2.6-6ubuntu1_amd64.deb ...\r\n",
      "Unpacking gconf-service-backend (3.2.6-6ubuntu1) ...\r\n",
      "Selecting previously unselected package gconf-service.\r\n",
      "Preparing to unpack .../07-gconf-service_3.2.6-6ubuntu1_amd64.deb ...\r\n",
      "Unpacking gconf-service (3.2.6-6ubuntu1) ...\r\n",
      "Selecting previously unselected package libwayland-server0:amd64.\r\n",
      "Preparing to unpack .../08-libwayland-server0_1.18.0-1ubuntu0.1_amd64.deb ...\r\n",
      "Unpacking libwayland-server0:amd64 (1.18.0-1ubuntu0.1) ...\r\n",
      "Selecting previously unselected package libgbm1:amd64.\r\n",
      "Preparing to unpack .../09-libgbm1_21.2.6-0ubuntu0.1~20.04.2_amd64.deb ...\r\n",
      "Unpacking libgbm1:amd64 (21.2.6-0ubuntu0.1~20.04.2) ...\r\n",
      "Preparing to unpack .../10-libnss3_2%3a3.98-0ubuntu0.20.04.2_amd64.deb ...\r\n",
      "Unpacking libnss3:amd64 (2:3.98-0ubuntu0.20.04.2) over (2:3.49.1-1ubuntu1.9) ...\r\n",
      "Selecting previously unselected package libu2f-udev.\r\n",
      "Preparing to unpack .../11-libu2f-udev_1.1.10-1_all.deb ...\r\n",
      "Unpacking libu2f-udev (1.1.10-1) ...\r\n",
      "Setting up libwayland-server0:amd64 (1.18.0-1ubuntu0.1) ...\r\n",
      "Setting up libgbm1:amd64 (21.2.6-0ubuntu0.1~20.04.2) ...\r\n",
      "Setting up libglib2.0-0:amd64 (2.64.6-1~ubuntu20.04.7) ...\r\n",
      "Setting up libglib2.0-bin (2.64.6-1~ubuntu20.04.7) ...\r\n",
      "Setting up libnss3:amd64 (2:3.98-0ubuntu0.20.04.2) ...\r\n",
      "Setting up gconf2-common (3.2.6-6ubuntu1) ...\r\n",
      "\r\n",
      "Creating config file /etc/gconf/2/path with new version\r\n",
      "Setting up libdbus-glib-1-2:amd64 (0.110-5fakssync1) ...\r\n",
      "Setting up udev (245.4-4ubuntu3.23) ...\r\n",
      "invoke-rc.d: could not determine current runlevel\r\n",
      "invoke-rc.d: policy-rc.d denied execution of start.\r\n",
      "Setting up libgconf-2-4:amd64 (3.2.6-6ubuntu1) ...\r\n",
      "Setting up libu2f-udev (1.1.10-1) ...\r\n",
      "Failed to send reload request: No such file or directory\r\n",
      "Setting up gconf-service (3.2.6-6ubuntu1) ...\r\n",
      "Setting up gconf-service-backend (3.2.6-6ubuntu1) ...\r\n",
      "Processing triggers for libc-bin (2.31-0ubuntu9.9) ...\r\n",
      "Processing triggers for systemd (245.4-4ubuntu3.22) ...\r\n",
      "Processing triggers for man-db (2.9.1-1) ...\r\n",
      "\r\n",
      "\r\n",
      "\r\n",
      "0 upgraded, 0 newly installed, 0 to remove and 128 not upgraded.\r\n"
     ]
    }
   ],
   "source": [
    "!apt-get update -y\n",
    "!apt-get install -y \\\n",
    "libglib2.0-0 \\\n",
    "libnss3 \\\n",
    "libdbus-glib-1-2 \\\n",
    "libgconf-2-4 \\\n",
    "libfontconfig1 \\\n",
    "libvulkan1 \\\n",
    "gconf2-common \\\n",
    "libwayland-server0 \\\n",
    "libgbm1 \\\n",
    "udev \\\n",
    "libu2f-udev \n",
    "!apt --fix-broken install -y  "
   ]
  },
  {
   "cell_type": "markdown",
   "id": "5c36fdb4",
   "metadata": {
    "papermill": {
     "duration": 0.020589,
     "end_time": "2024-09-02T16:34:45.898646",
     "exception": false,
     "start_time": "2024-09-02T16:34:45.878057",
     "status": "completed"
    },
    "tags": []
   },
   "source": [
    "## 1.2. Download and extract Chrome:\n",
    "\n",
    "To use Selenium, you will need to download and install Chrome and Chromedriver.\n",
    "\n",
    "* **Chrome**: Chrome is a popular web browser that is known for its speed and security.\n",
    "* **Chromedriver**: Chromedriver is a tool that allows Selenium to interact with Chrome.\n",
    "\n",
    "Downloads the latest stable version of Chrome for Linux and extracts it to the /usr/bin directory."
   ]
  },
  {
   "cell_type": "code",
   "execution_count": 2,
   "id": "138c22f0",
   "metadata": {
    "execution": {
     "iopub.execute_input": "2024-09-02T16:34:45.943022Z",
     "iopub.status.busy": "2024-09-02T16:34:45.942020Z",
     "iopub.status.idle": "2024-09-02T16:34:58.863354Z",
     "shell.execute_reply": "2024-09-02T16:34:58.861869Z"
    },
    "papermill": {
     "duration": 12.947192,
     "end_time": "2024-09-02T16:34:58.866325",
     "exception": false,
     "start_time": "2024-09-02T16:34:45.919133",
     "status": "completed"
    },
    "tags": []
   },
   "outputs": [
    {
     "name": "stdout",
     "output_type": "stream",
     "text": [
      "--2024-09-02 16:34:46--  https://edgedl.me.gvt1.com/edgedl/chrome/chrome-for-testing/116.0.5845.96/linux64/chrome-linux64.zip\r\n",
      "Resolving edgedl.me.gvt1.com (edgedl.me.gvt1.com)... 34.104.35.123, 2600:1900:4110:86f::\r\n",
      "Connecting to edgedl.me.gvt1.com (edgedl.me.gvt1.com)|34.104.35.123|:443... connected.\r\n",
      "HTTP request sent, awaiting response... 302 Found\r\n",
      "Location: https://storage.googleapis.com/chrome-for-testing-public/116.0.5845.96/linux64/chrome-linux64.zip [following]\r\n",
      "--2024-09-02 16:34:47--  https://storage.googleapis.com/chrome-for-testing-public/116.0.5845.96/linux64/chrome-linux64.zip\r\n",
      "Resolving storage.googleapis.com (storage.googleapis.com)... 64.233.188.207, 64.233.189.207, 74.125.204.207, ...\r\n",
      "Connecting to storage.googleapis.com (storage.googleapis.com)|64.233.188.207|:443... connected.\r\n",
      "HTTP request sent, awaiting response... 200 OK\r\n",
      "Length: 145898081 (139M) [application/zip]\r\n",
      "Saving to: '/tmp/chrome-linux64.zip'\r\n",
      "\r\n",
      "chrome-linux64.zip  100%[===================>] 139.14M  30.3MB/s    in 5.4s    \r\n",
      "\r\n",
      "2024-09-02 16:34:53 (25.7 MB/s) - '/tmp/chrome-linux64.zip' saved [145898081/145898081]\r\n",
      "\r\n",
      "Archive:  /tmp/chrome-linux64.zip\r\n",
      "  inflating: /usr/bin/chrome-linux64/MEIPreload/manifest.json  \r\n",
      "  inflating: /usr/bin/chrome-linux64/MEIPreload/preloaded_data.pb  \r\n",
      "  inflating: /usr/bin/chrome-linux64/chrome  \r\n",
      "  inflating: /usr/bin/chrome-linux64/chrome-wrapper  \r\n",
      "  inflating: /usr/bin/chrome-linux64/chrome_100_percent.pak  \r\n",
      "  inflating: /usr/bin/chrome-linux64/chrome_200_percent.pak  \r\n",
      "  inflating: /usr/bin/chrome-linux64/chrome_crashpad_handler  \r\n",
      "  inflating: /usr/bin/chrome-linux64/chrome_sandbox  \r\n",
      "  inflating: /usr/bin/chrome-linux64/icudtl.dat  \r\n",
      "  inflating: /usr/bin/chrome-linux64/libEGL.so  \r\n",
      "  inflating: /usr/bin/chrome-linux64/libGLESv2.so  \r\n",
      "  inflating: /usr/bin/chrome-linux64/libvk_swiftshader.so  \r\n",
      "  inflating: /usr/bin/chrome-linux64/libvulkan.so.1  \r\n",
      "  inflating: /usr/bin/chrome-linux64/nacl_helper  \r\n",
      "  inflating: /usr/bin/chrome-linux64/nacl_helper_bootstrap  \r\n",
      "  inflating: /usr/bin/chrome-linux64/nacl_irt_x86_64.nexe  \r\n",
      " extracting: /usr/bin/chrome-linux64/product_logo_48.png  \r\n",
      "  inflating: /usr/bin/chrome-linux64/resources.pak  \r\n",
      "  inflating: /usr/bin/chrome-linux64/v8_context_snapshot.bin  \r\n",
      "  inflating: /usr/bin/chrome-linux64/vk_swiftshader_icd.json  \r\n",
      "  inflating: /usr/bin/chrome-linux64/xdg-mime  \r\n",
      "  inflating: /usr/bin/chrome-linux64/xdg-settings  \r\n",
      "   creating: /usr/bin/chrome-linux64/locales/\r\n",
      "  inflating: /usr/bin/chrome-linux64/locales/fr.pak.info  \r\n",
      "  inflating: /usr/bin/chrome-linux64/locales/ur.pak.info  \r\n",
      "  inflating: /usr/bin/chrome-linux64/locales/sw.pak  \r\n",
      "  inflating: /usr/bin/chrome-linux64/locales/ar.pak  \r\n",
      "  inflating: /usr/bin/chrome-linux64/locales/sk.pak.info  \r\n",
      "  inflating: /usr/bin/chrome-linux64/locales/hu.pak.info  \r\n",
      "  inflating: /usr/bin/chrome-linux64/locales/ms.pak  \r\n",
      "  inflating: /usr/bin/chrome-linux64/locales/vi.pak.info  \r\n",
      "  inflating: /usr/bin/chrome-linux64/locales/es.pak  \r\n",
      "  inflating: /usr/bin/chrome-linux64/locales/he.pak.info  \r\n",
      "  inflating: /usr/bin/chrome-linux64/locales/hr.pak  \r\n",
      "  inflating: /usr/bin/chrome-linux64/locales/en-GB.pak  \r\n",
      "  inflating: /usr/bin/chrome-linux64/locales/zh-CN.pak  \r\n",
      "  inflating: /usr/bin/chrome-linux64/locales/pt-BR.pak.info  \r\n",
      "  inflating: /usr/bin/chrome-linux64/locales/en-US.pak.info  \r\n",
      "  inflating: /usr/bin/chrome-linux64/locales/de.pak.info  \r\n",
      "  inflating: /usr/bin/chrome-linux64/locales/af.pak.info  \r\n",
      "  inflating: /usr/bin/chrome-linux64/locales/fil.pak  \r\n",
      "  inflating: /usr/bin/chrome-linux64/locales/el.pak  \r\n",
      "  inflating: /usr/bin/chrome-linux64/locales/bg.pak  \r\n",
      "  inflating: /usr/bin/chrome-linux64/locales/fa.pak  \r\n",
      "  inflating: /usr/bin/chrome-linux64/locales/uk.pak  \r\n",
      "  inflating: /usr/bin/chrome-linux64/locales/kn.pak  \r\n",
      "  inflating: /usr/bin/chrome-linux64/locales/en-GB.pak.info  \r\n",
      "  inflating: /usr/bin/chrome-linux64/locales/sl.pak  \r\n",
      "  inflating: /usr/bin/chrome-linux64/locales/sv.pak.info  \r\n",
      "  inflating: /usr/bin/chrome-linux64/locales/ko.pak  \r\n",
      "  inflating: /usr/bin/chrome-linux64/locales/nb.pak  \r\n",
      "  inflating: /usr/bin/chrome-linux64/locales/tr.pak  \r\n",
      "  inflating: /usr/bin/chrome-linux64/locales/th.pak.info  \r\n",
      "  inflating: /usr/bin/chrome-linux64/locales/ar.pak.info  \r\n",
      "  inflating: /usr/bin/chrome-linux64/locales/pt-PT.pak.info  \r\n",
      "  inflating: /usr/bin/chrome-linux64/locales/pt-PT.pak  \r\n",
      "  inflating: /usr/bin/chrome-linux64/locales/vi.pak  \r\n",
      "  inflating: /usr/bin/chrome-linux64/locales/ml.pak.info  \r\n",
      "  inflating: /usr/bin/chrome-linux64/locales/es.pak.info  \r\n",
      "  inflating: /usr/bin/chrome-linux64/locales/mr.pak.info  \r\n",
      "  inflating: /usr/bin/chrome-linux64/locales/tr.pak.info  \r\n",
      "  inflating: /usr/bin/chrome-linux64/locales/hi.pak.info  \r\n",
      "  inflating: /usr/bin/chrome-linux64/locales/fa.pak.info  \r\n",
      "  inflating: /usr/bin/chrome-linux64/locales/ja.pak  \r\n",
      "  inflating: /usr/bin/chrome-linux64/locales/bg.pak.info  \r\n",
      "  inflating: /usr/bin/chrome-linux64/locales/sr.pak.info  \r\n",
      "  inflating: /usr/bin/chrome-linux64/locales/fi.pak  \r\n",
      "  inflating: /usr/bin/chrome-linux64/locales/ca.pak  \r\n",
      "  inflating: /usr/bin/chrome-linux64/locales/et.pak.info  \r\n",
      "  inflating: /usr/bin/chrome-linux64/locales/ko.pak.info  \r\n",
      "  inflating: /usr/bin/chrome-linux64/locales/gu.pak  \r\n",
      "  inflating: /usr/bin/chrome-linux64/locales/et.pak  \r\n",
      "  inflating: /usr/bin/chrome-linux64/locales/it.pak.info  \r\n",
      "  inflating: /usr/bin/chrome-linux64/locales/lv.pak.info  \r\n",
      "  inflating: /usr/bin/chrome-linux64/locales/sr.pak  \r\n",
      "  inflating: /usr/bin/chrome-linux64/locales/bn.pak  \r\n",
      "  inflating: /usr/bin/chrome-linux64/locales/pl.pak  \r\n",
      "  inflating: /usr/bin/chrome-linux64/locales/el.pak.info  \r\n",
      "  inflating: /usr/bin/chrome-linux64/locales/lv.pak  \r\n",
      "  inflating: /usr/bin/chrome-linux64/locales/ca.pak.info  \r\n",
      "  inflating: /usr/bin/chrome-linux64/locales/uk.pak.info  \r\n",
      "  inflating: /usr/bin/chrome-linux64/locales/nl.pak  \r\n",
      "  inflating: /usr/bin/chrome-linux64/locales/sw.pak.info  \r\n",
      "  inflating: /usr/bin/chrome-linux64/locales/de.pak  \r\n",
      "  inflating: /usr/bin/chrome-linux64/locales/af.pak  \r\n",
      "  inflating: /usr/bin/chrome-linux64/locales/hi.pak  \r\n",
      "  inflating: /usr/bin/chrome-linux64/locales/pl.pak.info  \r\n",
      "  inflating: /usr/bin/chrome-linux64/locales/he.pak  \r\n",
      "  inflating: /usr/bin/chrome-linux64/locales/sv.pak  \r\n",
      "  inflating: /usr/bin/chrome-linux64/locales/ms.pak.info  \r\n",
      "  inflating: /usr/bin/chrome-linux64/locales/sk.pak  \r\n",
      "  inflating: /usr/bin/chrome-linux64/locales/bn.pak.info  \r\n",
      "  inflating: /usr/bin/chrome-linux64/locales/cs.pak.info  \r\n",
      "  inflating: /usr/bin/chrome-linux64/locales/kn.pak.info  \r\n",
      "  inflating: /usr/bin/chrome-linux64/locales/zh-CN.pak.info  \r\n",
      "  inflating: /usr/bin/chrome-linux64/locales/id.pak.info  \r\n",
      "  inflating: /usr/bin/chrome-linux64/locales/es-419.pak.info  \r\n",
      "  inflating: /usr/bin/chrome-linux64/locales/lt.pak  \r\n",
      "  inflating: /usr/bin/chrome-linux64/locales/ur.pak  \r\n",
      "  inflating: /usr/bin/chrome-linux64/locales/ta.pak.info  \r\n",
      "  inflating: /usr/bin/chrome-linux64/locales/zh-TW.pak  \r\n",
      "  inflating: /usr/bin/chrome-linux64/locales/te.pak  \r\n",
      "  inflating: /usr/bin/chrome-linux64/locales/ja.pak.info  \r\n",
      "  inflating: /usr/bin/chrome-linux64/locales/en-US.pak  \r\n",
      "  inflating: /usr/bin/chrome-linux64/locales/nb.pak.info  \r\n",
      "  inflating: /usr/bin/chrome-linux64/locales/it.pak  \r\n",
      "  inflating: /usr/bin/chrome-linux64/locales/es-419.pak  \r\n",
      "  inflating: /usr/bin/chrome-linux64/locales/nl.pak.info  \r\n",
      "  inflating: /usr/bin/chrome-linux64/locales/cs.pak  \r\n",
      "  inflating: /usr/bin/chrome-linux64/locales/zh-TW.pak.info  \r\n",
      "  inflating: /usr/bin/chrome-linux64/locales/ru.pak.info  \r\n",
      "  inflating: /usr/bin/chrome-linux64/locales/da.pak  \r\n",
      "  inflating: /usr/bin/chrome-linux64/locales/lt.pak.info  \r\n",
      "  inflating: /usr/bin/chrome-linux64/locales/ml.pak  \r\n",
      "  inflating: /usr/bin/chrome-linux64/locales/mr.pak  \r\n",
      "  inflating: /usr/bin/chrome-linux64/locales/pt-BR.pak  \r\n",
      "  inflating: /usr/bin/chrome-linux64/locales/da.pak.info  \r\n",
      "  inflating: /usr/bin/chrome-linux64/locales/te.pak.info  \r\n",
      "  inflating: /usr/bin/chrome-linux64/locales/fil.pak.info  \r\n",
      "  inflating: /usr/bin/chrome-linux64/locales/ta.pak  \r\n",
      "  inflating: /usr/bin/chrome-linux64/locales/id.pak  \r\n",
      "  inflating: /usr/bin/chrome-linux64/locales/am.pak.info  \r\n",
      "  inflating: /usr/bin/chrome-linux64/locales/am.pak  \r\n",
      "  inflating: /usr/bin/chrome-linux64/locales/hu.pak  \r\n",
      "  inflating: /usr/bin/chrome-linux64/locales/fi.pak.info  \r\n",
      "  inflating: /usr/bin/chrome-linux64/locales/sl.pak.info  \r\n",
      "  inflating: /usr/bin/chrome-linux64/locales/ro.pak  \r\n",
      "  inflating: /usr/bin/chrome-linux64/locales/th.pak  \r\n",
      "  inflating: /usr/bin/chrome-linux64/locales/fr.pak  \r\n",
      "  inflating: /usr/bin/chrome-linux64/locales/gu.pak.info  \r\n",
      "  inflating: /usr/bin/chrome-linux64/locales/ru.pak  \r\n",
      "  inflating: /usr/bin/chrome-linux64/locales/ro.pak.info  \r\n",
      "  inflating: /usr/bin/chrome-linux64/locales/hr.pak.info  \r\n",
      "   creating: /usr/bin/chrome-linux64/resources/\r\n",
      "   creating: /usr/bin/chrome-linux64/resources/inspector_overlay/\r\n",
      "  inflating: /usr/bin/chrome-linux64/resources/inspector_overlay/inspector_overlay_resources.grd  \r\n",
      "  inflating: /usr/bin/chrome-linux64/resources/inspector_overlay/main.js  \r\n"
     ]
    }
   ],
   "source": [
    "!wget -P /tmp https://edgedl.me.gvt1.com/edgedl/chrome/chrome-for-testing/116.0.5845.96/linux64/chrome-linux64.zip\n",
    "!unzip /tmp/chrome-linux64.zip -d /usr/bin/"
   ]
  },
  {
   "cell_type": "markdown",
   "id": "18716521",
   "metadata": {
    "papermill": {
     "duration": 0.025081,
     "end_time": "2024-09-02T16:34:58.917241",
     "exception": false,
     "start_time": "2024-09-02T16:34:58.892160",
     "status": "completed"
    },
    "tags": []
   },
   "source": [
    "## 1.3. Download and extract Chromedriver:\n",
    "\n",
    "As it was done in the previous code."
   ]
  },
  {
   "cell_type": "code",
   "execution_count": 3,
   "id": "2116dfee",
   "metadata": {
    "execution": {
     "iopub.execute_input": "2024-09-02T16:34:58.971421Z",
     "iopub.status.busy": "2024-09-02T16:34:58.970304Z",
     "iopub.status.idle": "2024-09-02T16:35:02.962475Z",
     "shell.execute_reply": "2024-09-02T16:35:02.960986Z"
    },
    "papermill": {
     "duration": 4.022651,
     "end_time": "2024-09-02T16:35:02.965476",
     "exception": false,
     "start_time": "2024-09-02T16:34:58.942825",
     "status": "completed"
    },
    "tags": []
   },
   "outputs": [
    {
     "name": "stdout",
     "output_type": "stream",
     "text": [
      "--2024-09-02 16:35:00--  https://edgedl.me.gvt1.com/edgedl/chrome/chrome-for-testing/116.0.5845.96/linux64/chromedriver-linux64.zip\r\n",
      "Resolving edgedl.me.gvt1.com (edgedl.me.gvt1.com)... 34.104.35.123, 2600:1900:4110:86f::\r\n",
      "Connecting to edgedl.me.gvt1.com (edgedl.me.gvt1.com)|34.104.35.123|:443... connected.\r\n",
      "HTTP request sent, awaiting response... 302 Found\r\n",
      "Location: https://storage.googleapis.com/chrome-for-testing-public/116.0.5845.96/linux64/chromedriver-linux64.zip [following]\r\n",
      "--2024-09-02 16:35:00--  https://storage.googleapis.com/chrome-for-testing-public/116.0.5845.96/linux64/chromedriver-linux64.zip\r\n",
      "Resolving storage.googleapis.com (storage.googleapis.com)... 64.233.188.207, 74.125.203.207, 142.251.170.207, ...\r\n",
      "Connecting to storage.googleapis.com (storage.googleapis.com)|64.233.188.207|:443... connected.\r\n",
      "HTTP request sent, awaiting response... 200 OK\r\n",
      "Length: 7271942 (6.9M) [application/zip]\r\n",
      "Saving to: '/tmp/chromedriver-linux64.zip'\r\n",
      "\r\n",
      "chromedriver-linux6 100%[===================>]   6.93M  6.34MB/s    in 1.1s    \r\n",
      "\r\n",
      "2024-09-02 16:35:01 (6.34 MB/s) - '/tmp/chromedriver-linux64.zip' saved [7271942/7271942]\r\n",
      "\r\n",
      "Archive:  /tmp/chromedriver-linux64.zip\r\n",
      "  inflating: /usr/bin/chromedriver-linux64/LICENSE.chromedriver  \r\n",
      "  inflating: /usr/bin/chromedriver-linux64/chromedriver  \r\n"
     ]
    }
   ],
   "source": [
    "!wget -P /tmp https://edgedl.me.gvt1.com/edgedl/chrome/chrome-for-testing/116.0.5845.96/linux64/chromedriver-linux64.zip\n",
    "!unzip /tmp/chromedriver-linux64.zip -d /usr/bin/"
   ]
  },
  {
   "cell_type": "markdown",
   "id": "4e00f213",
   "metadata": {
    "papermill": {
     "duration": 0.026633,
     "end_time": "2024-09-02T16:35:03.020410",
     "exception": false,
     "start_time": "2024-09-02T16:35:02.993777",
     "status": "completed"
    },
    "tags": []
   },
   "source": [
    "## 1.4. Install Python libraries"
   ]
  },
  {
   "cell_type": "code",
   "execution_count": 4,
   "id": "38550195",
   "metadata": {
    "execution": {
     "iopub.execute_input": "2024-09-02T16:35:03.082912Z",
     "iopub.status.busy": "2024-09-02T16:35:03.082430Z",
     "iopub.status.idle": "2024-09-02T16:35:39.508751Z",
     "shell.execute_reply": "2024-09-02T16:35:39.507292Z"
    },
    "papermill": {
     "duration": 36.461073,
     "end_time": "2024-09-02T16:35:39.512010",
     "exception": false,
     "start_time": "2024-09-02T16:35:03.050937",
     "status": "completed"
    },
    "tags": []
   },
   "outputs": [
    {
     "name": "stdout",
     "output_type": "stream",
     "text": [
      "\r\n",
      "\r\n",
      "\r\n",
      "The following additional packages will be installed:\r\n",
      "  apparmor chromium-browser chromium-chromedriver liblzo2-2 snapd\r\n",
      "  squashfs-tools\r\n",
      "Suggested packages:\r\n",
      "  apparmor-profiles-extra apparmor-utils zenity | kdialog\r\n",
      "The following NEW packages will be installed:\r\n",
      "  apparmor chromium-browser chromium-chromedriver liblzo2-2 python3-selenium\r\n",
      "  snapd squashfs-tools\r\n",
      "0 upgraded, 7 newly installed, 0 to remove and 128 not upgraded.\r\n",
      "Need to get 25.9 MB of archives.\r\n",
      "After this operation, 107 MB of additional disk space will be used.\r\n",
      "Get:1 http://archive.ubuntu.com/ubuntu focal-updates/main amd64 apparmor amd64 2.13.3-7ubuntu5.3 [502 kB]\r\n",
      "Get:2 http://archive.ubuntu.com/ubuntu focal/main amd64 liblzo2-2 amd64 2.10-2 [50.8 kB]\r\n",
      "Get:3 http://archive.ubuntu.com/ubuntu focal-updates/main amd64 squashfs-tools amd64 1:4.4-1ubuntu0.3 [117 kB]\r\n",
      "Get:4 http://archive.ubuntu.com/ubuntu focal-updates/main amd64 snapd amd64 2.63+20.04ubuntu0.1 [25.1 MB]\r\n",
      "Get:5 http://archive.ubuntu.com/ubuntu focal-updates/universe amd64 chromium-browser amd64 1:85.0.4183.83-0ubuntu0.20.04.3 [48.5 kB]\r\n",
      "Get:6 http://archive.ubuntu.com/ubuntu focal-updates/universe amd64 chromium-chromedriver amd64 1:85.0.4183.83-0ubuntu0.20.04.3 [2496 B]\r\n",
      "Get:7 http://archive.ubuntu.com/ubuntu focal/universe amd64 python3-selenium all 4.0.0~a1+dfsg1-1.1 [86.2 kB]\r\n",
      "Fetched 25.9 MB in 4s (6255 kB/s)\r\n",
      "Preconfiguring packages ...\r\n",
      "\n",
      "\u001b7\u001b[0;23r\u001b8\u001b[1ASelecting previously unselected package apparmor.\r\n",
      "(Reading database ... 109076 files and directories currently installed.)\r\n",
      "Preparing to unpack .../apparmor_2.13.3-7ubuntu5.3_amd64.deb ...\r\n",
      "\u001b7\u001b[24;0f\u001b[42m\u001b[30mProgress: [  0%]\u001b[49m\u001b[39m [..........................................................] \u001b8\u001b7\u001b[24;0f\u001b[42m\u001b[30mProgress: [  3%]\u001b[49m\u001b[39m [##........................................................] \u001b8Unpacking apparmor (2.13.3-7ubuntu5.3) ...\r\n",
      "\u001b7\u001b[24;0f\u001b[42m\u001b[30mProgress: [  7%]\u001b[49m\u001b[39m [####......................................................] \u001b8Selecting previously unselected package liblzo2-2:amd64.\r\n",
      "Preparing to unpack .../liblzo2-2_2.10-2_amd64.deb ...\r\n",
      "\u001b7\u001b[24;0f\u001b[42m\u001b[30mProgress: [ 10%]\u001b[49m\u001b[39m [######....................................................] \u001b8Unpacking liblzo2-2:amd64 (2.10-2) ...\r\n",
      "\u001b7\u001b[24;0f\u001b[42m\u001b[30mProgress: [ 14%]\u001b[49m\u001b[39m [########..................................................] \u001b8Selecting previously unselected package squashfs-tools.\r\n",
      "Preparing to unpack .../squashfs-tools_1%3a4.4-1ubuntu0.3_amd64.deb ...\r\n",
      "\u001b7\u001b[24;0f\u001b[42m\u001b[30mProgress: [ 17%]\u001b[49m\u001b[39m [#########.................................................] \u001b8Unpacking squashfs-tools (1:4.4-1ubuntu0.3) ...\r\n",
      "\u001b7\u001b[24;0f\u001b[42m\u001b[30mProgress: [ 21%]\u001b[49m\u001b[39m [############..............................................] \u001b8Selecting previously unselected package snapd.\r\n",
      "Preparing to unpack .../snapd_2.63+20.04ubuntu0.1_amd64.deb ...\r\n",
      "\u001b7\u001b[24;0f\u001b[42m\u001b[30mProgress: [ 24%]\u001b[49m\u001b[39m [##############............................................] \u001b8Unpacking snapd (2.63+20.04ubuntu0.1) ...\r\n",
      "\u001b7\u001b[24;0f\u001b[42m\u001b[30mProgress: [ 28%]\u001b[49m\u001b[39m [################..........................................] \u001b8Setting up apparmor (2.13.3-7ubuntu5.3) ...\r\n",
      "\u001b7\u001b[24;0f\u001b[42m\u001b[30mProgress: [ 31%]\u001b[49m\u001b[39m [##################........................................] \u001b8Created symlink /etc/systemd/system/sysinit.target.wants/apparmor.service -> /lib/systemd/system/apparmor.service.\r\n",
      "\u001b7\u001b[24;0f\u001b[42m\u001b[30mProgress: [ 34%]\u001b[49m\u001b[39m [###################.......................................] \u001b8Setting up liblzo2-2:amd64 (2.10-2) ...\r\n",
      "\u001b7\u001b[24;0f\u001b[42m\u001b[30mProgress: [ 38%]\u001b[49m\u001b[39m [######################....................................] \u001b8\u001b7\u001b[24;0f\u001b[42m\u001b[30mProgress: [ 41%]\u001b[49m\u001b[39m [########################..................................] \u001b8Setting up squashfs-tools (1:4.4-1ubuntu0.3) ...\r\n",
      "\u001b7\u001b[24;0f\u001b[42m\u001b[30mProgress: [ 45%]\u001b[49m\u001b[39m [##########################................................] \u001b8\u001b7\u001b[24;0f\u001b[42m\u001b[30mProgress: [ 48%]\u001b[49m\u001b[39m [############################..............................] \u001b8Setting up snapd (2.63+20.04ubuntu0.1) ...\r\n",
      "\u001b7\u001b[24;0f\u001b[42m\u001b[30mProgress: [ 52%]\u001b[49m\u001b[39m [#############################.............................] \u001b8Created symlink /etc/systemd/system/multi-user.target.wants/snapd.apparmor.service -> /lib/systemd/system/snapd.apparmor.service.\r\n",
      "Created symlink /etc/systemd/system/multi-user.target.wants/snapd.autoimport.service -> /lib/systemd/system/snapd.autoimport.service.\r\n",
      "Created symlink /etc/systemd/system/multi-user.target.wants/snapd.core-fixup.service -> /lib/systemd/system/snapd.core-fixup.service.\r\n",
      "Created symlink /etc/systemd/system/multi-user.target.wants/snapd.recovery-chooser-trigger.service -> /lib/systemd/system/snapd.recovery-chooser-trigger.service.\r\n",
      "Created symlink /etc/systemd/system/multi-user.target.wants/snapd.seeded.service -> /lib/systemd/system/snapd.seeded.service.\r\n",
      "Created symlink /etc/systemd/system/cloud-final.service.wants/snapd.seeded.service -> /lib/systemd/system/snapd.seeded.service.\r\n",
      "Created symlink /etc/systemd/system/multi-user.target.wants/snapd.service -> /lib/systemd/system/snapd.service.\r\n",
      "Created symlink /etc/systemd/system/timers.target.wants/snapd.snap-repair.timer -> /lib/systemd/system/snapd.snap-repair.timer.\r\n",
      "Created symlink /etc/systemd/system/sockets.target.wants/snapd.socket -> /lib/systemd/system/snapd.socket.\r\n",
      "Created symlink /etc/systemd/system/final.target.wants/snapd.system-shutdown.service -> /lib/systemd/system/snapd.system-shutdown.service.\r\n",
      "\u001b7\u001b[24;0f\u001b[42m\u001b[30mProgress: [ 55%]\u001b[49m\u001b[39m [################################..........................] \u001b8Selecting previously unselected package chromium-browser.\r\n",
      "(Reading database ... 109369 files and directories currently installed.)\r\n",
      "Preparing to unpack .../chromium-browser_1%3a85.0.4183.83-0ubuntu0.20.04.3_amd64.deb ...\r\n",
      "\u001b7\u001b[24;0f\u001b[42m\u001b[30mProgress: [ 59%]\u001b[49m\u001b[39m [##################################........................] \u001b8=> Installing the chromium snap\r\n",
      "==> Checking connectivity with the snap store\r\n",
      "===> System doesn't have a working snapd, skipping\r\n",
      "Unpacking chromium-browser (1:85.0.4183.83-0ubuntu0.20.04.3) ...\r\n",
      "\u001b7\u001b[24;0f\u001b[42m\u001b[30mProgress: [ 62%]\u001b[49m\u001b[39m [####################################......................] \u001b8Selecting previously unselected package chromium-chromedriver.\r\n",
      "Preparing to unpack .../chromium-chromedriver_1%3a85.0.4183.83-0ubuntu0.20.04.3_amd64.deb ...\r\n",
      "\u001b7\u001b[24;0f\u001b[42m\u001b[30mProgress: [ 66%]\u001b[49m\u001b[39m [######################################....................] \u001b8Unpacking chromium-chromedriver (1:85.0.4183.83-0ubuntu0.20.04.3) ...\r\n",
      "\u001b7\u001b[24;0f\u001b[42m\u001b[30mProgress: [ 69%]\u001b[49m\u001b[39m [#######################################...................] \u001b8Selecting previously unselected package python3-selenium.\r\n",
      "Preparing to unpack .../python3-selenium_4.0.0~a1+dfsg1-1.1_all.deb ...\r\n",
      "\u001b7\u001b[24;0f\u001b[42m\u001b[30mProgress: [ 72%]\u001b[49m\u001b[39m [##########################################................] \u001b8Unpacking python3-selenium (4.0.0~a1+dfsg1-1.1) ...\r\n",
      "\u001b7\u001b[24;0f\u001b[42m\u001b[30mProgress: [ 76%]\u001b[49m\u001b[39m [############################################..............] \u001b8Setting up python3-selenium (4.0.0~a1+dfsg1-1.1) ...\r\n",
      "\u001b7\u001b[24;0f\u001b[42m\u001b[30mProgress: [ 79%]\u001b[49m\u001b[39m [##############################################............] \u001b8\u001b7\u001b[24;0f\u001b[42m\u001b[30mProgress: [ 83%]\u001b[49m\u001b[39m [################################################..........] \u001b8Setting up chromium-browser (1:85.0.4183.83-0ubuntu0.20.04.3) ...\r\n",
      "\u001b7\u001b[24;0f\u001b[42m\u001b[30mProgress: [ 86%]\u001b[49m\u001b[39m [##################################################........] \u001b8update-alternatives: using /usr/bin/chromium-browser to provide /usr/bin/x-www-browser (x-www-browser) in auto mode\r\n",
      "update-alternatives: using /usr/bin/chromium-browser to provide /usr/bin/gnome-www-browser (gnome-www-browser) in auto mode\r\n",
      "\u001b7\u001b[24;0f\u001b[42m\u001b[30mProgress: [ 90%]\u001b[49m\u001b[39m [####################################################......] \u001b8Setting up chromium-chromedriver (1:85.0.4183.83-0ubuntu0.20.04.3) ...\r\n",
      "\u001b7\u001b[24;0f\u001b[42m\u001b[30mProgress: [ 93%]\u001b[49m\u001b[39m [#####################################################.....] \u001b8\u001b7\u001b[24;0f\u001b[42m\u001b[30mProgress: [ 97%]\u001b[49m\u001b[39m [########################################################..] \u001b8Processing triggers for mime-support (3.64ubuntu1) ...\r\n",
      "Processing triggers for hicolor-icon-theme (0.17-2) ...\r\n",
      "Processing triggers for libc-bin (2.31-0ubuntu9.9) ...\r\n",
      "Processing triggers for systemd (245.4-4ubuntu3.22) ...\r\n",
      "Processing triggers for man-db (2.9.1-1) ...\r\n",
      "Processing triggers for dbus (1.12.16-2ubuntu2.3) ...\r\n",
      "\r\n",
      "\u001b7\u001b[0;24r\u001b8\u001b[1A\u001b[JCollecting selenium==3.141.0\r\n",
      "  Obtaining dependency information for selenium==3.141.0 from https://files.pythonhosted.org/packages/80/d6/4294f0b4bce4de0abf13e17190289f9d0613b0a44e5dd6a7f5ca98459853/selenium-3.141.0-py2.py3-none-any.whl.metadata\r\n",
      "  Downloading selenium-3.141.0-py2.py3-none-any.whl.metadata (6.6 kB)\r\n",
      "Requirement already satisfied: urllib3 in /opt/conda/lib/python3.10/site-packages (from selenium==3.141.0) (1.26.15)\r\n",
      "Downloading selenium-3.141.0-py2.py3-none-any.whl (904 kB)\r\n",
      "\u001b[2K   \u001b[90m━━━━━━━━━━━━━━━━━━━━━━━━━━━━━━━━━━━━━━━━\u001b[0m \u001b[32m904.6/904.6 kB\u001b[0m \u001b[31m10.0 MB/s\u001b[0m eta \u001b[36m0:00:00\u001b[0m\r\n",
      "\u001b[?25hInstalling collected packages: selenium\r\n",
      "Successfully installed selenium-3.141.0\r\n"
     ]
    }
   ],
   "source": [
    "!apt install -y python3-selenium\n",
    "!pip install selenium==3.141.0"
   ]
  },
  {
   "cell_type": "markdown",
   "id": "72a3f15d",
   "metadata": {
    "papermill": {
     "duration": 0.03439,
     "end_time": "2024-09-02T16:35:39.581134",
     "exception": false,
     "start_time": "2024-09-02T16:35:39.546744",
     "status": "completed"
    },
    "tags": []
   },
   "source": [
    "# 2.Importing Libraries\n",
    "\n",
    "You will also need to install the following Python libraries:\n",
    "\n",
    "* **selenium**: The Selenium library provides the API for interacting with web pages.\n",
    "* **webdriver**: The webdriver library provides a way to interact with web drivers, such as Chromedriver.\n",
    "* **BeautifulSoup**: The BeautifulSoup library is used for parsing HTML content."
   ]
  },
  {
   "cell_type": "code",
   "execution_count": 5,
   "id": "6de36eda",
   "metadata": {
    "_cell_guid": "b1076dfc-b9ad-4769-8c92-a6c4dae69d19",
    "_uuid": "8f2839f25d086af736a60e9eeb907d3b93b6e0e5",
    "execution": {
     "iopub.execute_input": "2024-09-02T16:35:39.653456Z",
     "iopub.status.busy": "2024-09-02T16:35:39.652282Z",
     "iopub.status.idle": "2024-09-02T16:35:40.933341Z",
     "shell.execute_reply": "2024-09-02T16:35:40.932137Z"
    },
    "papermill": {
     "duration": 1.320738,
     "end_time": "2024-09-02T16:35:40.936892",
     "exception": false,
     "start_time": "2024-09-02T16:35:39.616154",
     "status": "completed"
    },
    "tags": []
   },
   "outputs": [],
   "source": [
    "import pandas as pd # data processing, CSV file I/O (e.g. pd.read_csv)\n",
    "import requests\n",
    "from bs4 import BeautifulSoup\n",
    "from tqdm import tqdm\n",
    "from retrying import retry\n",
    "import time\n",
    "import traceback\n",
    "import os"
   ]
  },
  {
   "cell_type": "markdown",
   "id": "cda73bab",
   "metadata": {
    "papermill": {
     "duration": 0.04339,
     "end_time": "2024-09-02T16:35:41.015501",
     "exception": false,
     "start_time": "2024-09-02T16:35:40.972111",
     "status": "completed"
    },
    "tags": []
   },
   "source": [
    "# 3. Configuring Chrome Driver\n",
    "\n",
    "These functions define the locations of Chrome and Chromedriver executables. Additionally, initialize_driver creates a Chrome webdriver instance with specific options:\n",
    "\n",
    "* *--headless*: Runs Chrome in headless mode, making it invisible.\n",
    "* *--no-sandbox*: Disables the sandbox for improved performance.\n",
    "* *--start-fullscreen*: Starts Chrome in fullscreen mode.\n",
    "* *--allow-insecure-localhost*: Allows access to insecure local websites (if needed).\n",
    "* *--disable-dev-shm-usage*: Disables shared memory usage for Chrome.\n",
    "* *user-agent*: Sets the user agent string to mimic a regular browser."
   ]
  },
  {
   "cell_type": "code",
   "execution_count": 6,
   "id": "3ebaca6f",
   "metadata": {
    "execution": {
     "iopub.execute_input": "2024-09-02T16:35:41.160326Z",
     "iopub.status.busy": "2024-09-02T16:35:41.159696Z",
     "iopub.status.idle": "2024-09-02T16:35:41.196230Z",
     "shell.execute_reply": "2024-09-02T16:35:41.195002Z"
    },
    "papermill": {
     "duration": 0.076141,
     "end_time": "2024-09-02T16:35:41.199167",
     "exception": false,
     "start_time": "2024-09-02T16:35:41.123026",
     "status": "completed"
    },
    "tags": []
   },
   "outputs": [],
   "source": [
    "from selenium import webdriver\n",
    "from selenium.webdriver.chrome.options import Options\n",
    "from selenium.webdriver.common.by import By\n",
    "from selenium.webdriver.support.ui import WebDriverWait\n",
    "from selenium.webdriver.support import expected_conditions as EC\n",
    "from selenium.webdriver.common.action_chains import ActionChains\n",
    "from selenium.common.exceptions import NoSuchElementException, TimeoutException, StaleElementReferenceException\n",
    "\n",
    "CHROME_BINARY_LOCATION = \"/usr/bin/chrome-linux64/chrome\"\n",
    "CHROMEDRIVER_BINARY_LOCATION = \"/usr/bin/chromedriver-linux64/chromedriver\"\n",
    "\n",
    "def add_driver_options(options):\n",
    "    \"\"\"\n",
    "    Add configurable options\n",
    "    \"\"\"\n",
    "    chrome_options = Options()\n",
    "    for opt in options:\n",
    "        chrome_options.add_argument(opt)\n",
    "    return chrome_options\n",
    "\n",
    "def initialize_driver():\n",
    "    \"\"\"\n",
    "    Initialize the web driver\n",
    "    \"\"\"\n",
    "    driver_config = {\n",
    "        \"options\": [\n",
    "            \"--headless\",\n",
    "            \"--no-sandbox\",\n",
    "            \"--start-fullscreen\",\n",
    "            \"--allow-insecure-localhost\",\n",
    "            \"--disable-dev-shm-usage\",\n",
    "            \"user-agent=Chrome/116.0.5845.96\"\n",
    "        ],\n",
    "    }\n",
    "    options = add_driver_options(driver_config[\"options\"])\n",
    "    options.binary_location = CHROME_BINARY_LOCATION\n",
    "    driver = webdriver.Chrome(\n",
    "        executable_path=CHROMEDRIVER_BINARY_LOCATION,\n",
    "        options=options)\n",
    "    return driver\n"
   ]
  },
  {
   "cell_type": "markdown",
   "id": "0c91414b",
   "metadata": {
    "papermill": {
     "duration": 0.035312,
     "end_time": "2024-09-02T16:35:41.269731",
     "exception": false,
     "start_time": "2024-09-02T16:35:41.234419",
     "status": "completed"
    },
    "tags": []
   },
   "source": [
    "# 4) Scrape metadata"
   ]
  },
  {
   "cell_type": "code",
   "execution_count": 7,
   "id": "f771baa4",
   "metadata": {
    "execution": {
     "iopub.execute_input": "2024-09-02T16:35:41.343746Z",
     "iopub.status.busy": "2024-09-02T16:35:41.343325Z",
     "iopub.status.idle": "2024-09-02T16:35:41.374880Z",
     "shell.execute_reply": "2024-09-02T16:35:41.373717Z"
    },
    "papermill": {
     "duration": 0.07171,
     "end_time": "2024-09-02T16:35:41.377717",
     "exception": false,
     "start_time": "2024-09-02T16:35:41.306007",
     "status": "completed"
    },
    "tags": []
   },
   "outputs": [],
   "source": [
    "from selenium.common.exceptions import TimeoutException, NoSuchElementException\n",
    "from tqdm import tqdm\n",
    "import pandas as pd\n",
    "import os\n",
    "\n",
    "def extract_movie_metadata(movie_url, driver):\n",
    "    movie_metadata = {}\n",
    "\n",
    "    try:\n",
    "        # Load the movie page\n",
    "        driver.get(movie_url)\n",
    "        WebDriverWait(driver, 20).until(\n",
    "            EC.presence_of_all_elements_located((By.CSS_SELECTOR, 'ul.film-stats'))\n",
    "        )\n",
    "\n",
    "        # Extract watches\n",
    "        try:\n",
    "            watches_element = driver.find_element(By.CSS_SELECTOR, 'li.stat.filmstat-watches a')\n",
    "            watches_text = watches_element.get_attribute('data-original-title')\n",
    "            movie_metadata['watches'] = int(watches_text.split()[2].replace(',', ''))\n",
    "        except (NoSuchElementException, ValueError):\n",
    "            movie_metadata['watches'] = None\n",
    "\n",
    "        # Extract likes\n",
    "        try:\n",
    "            likes_element = driver.find_element(By.CSS_SELECTOR, 'li.stat.filmstat-likes a')\n",
    "            likes_text = likes_element.get_attribute('data-original-title')\n",
    "            movie_metadata['likes'] = int(likes_text.split()[2].replace(',', ''))\n",
    "        except (NoSuchElementException, ValueError):\n",
    "            movie_metadata['likes'] = None\n",
    "\n",
    "        # Extract lists\n",
    "        try:\n",
    "            lists_element = driver.find_element(By.CSS_SELECTOR, 'li.stat.filmstat-lists a')\n",
    "            lists_text = lists_element.get_attribute('data-original-title')\n",
    "            movie_metadata['lists'] = int(lists_text.split()[2].replace(',', ''))\n",
    "        except (NoSuchElementException, ValueError):\n",
    "            movie_metadata['lists'] = None\n",
    "\n",
    "        # Extract synopsis\n",
    "        try:\n",
    "            synopsis_element = driver.find_element(By.CSS_SELECTOR, 'div.review.body-text.-prose.-hero.prettify div.truncate p')\n",
    "            movie_metadata['synopsis'] = synopsis_element.text\n",
    "        except NoSuchElementException:\n",
    "            movie_metadata['synopsis'] = None\n",
    "\n",
    "        # Extract fans\n",
    "        try:\n",
    "            fans_element = driver.find_element(By.CSS_SELECTOR, 'a.all-link.more-link')\n",
    "            fans_text = fans_element.text.split()[0]\n",
    "            if 'K' in fans_text:\n",
    "                fans_text = str(float(fans_text.replace('K', '')) * 1000)\n",
    "            elif 'M' in fans_text:\n",
    "                fans_text = str(float(fans_text.replace('M', '')) * 1000000)\n",
    "            fans_text = fans_text.replace('\\xa0', '').replace(',', '').split('.')[0]\n",
    "            movie_metadata['fans'] = int(fans_text)\n",
    "        except (NoSuchElementException, ValueError):\n",
    "            movie_metadata['fans'] = None\n",
    "\n",
    "        # Extract average rating and total number of ratings\n",
    "        try:\n",
    "            average_rating_element = driver.find_element(By.CSS_SELECTOR, 'span.average-rating a.tooltip.display-rating').get_attribute(\"data-original-title\")\n",
    "            movie_metadata['average_rating'] = float(average_rating_element.split()[3])\n",
    "            movie_metadata['total_ratings'] = int(average_rating_element.split()[6].replace(\",\", \"\"))\n",
    "        except (NoSuchElementException, ValueError):\n",
    "            movie_metadata['average_rating'] = None\n",
    "            movie_metadata['total_ratings'] = None\n",
    "\n",
    "        # Extract rating distribution\n",
    "        try:\n",
    "            histogram_element = driver.find_element(By.CSS_SELECTOR, 'div.rating-histogram.clear.rating-histogram-exploded')\n",
    "            rating_bars = histogram_element.find_elements(By.CSS_SELECTOR, 'li.rating-histogram-bar')\n",
    "            rating_distribution = []\n",
    "            for bar in rating_bars:\n",
    "                rating_text = bar.find_element(By.CSS_SELECTOR, 'a').get_attribute('data-original-title')\n",
    "                num_ratings = int(rating_text.split()[0].replace('\\xa0', '').replace(',', ''))\n",
    "                rating_distribution.append(num_ratings)\n",
    "            if movie_metadata['total_ratings']:\n",
    "                rating_distribution = [rating / movie_metadata['total_ratings'] for rating in rating_distribution]\n",
    "            movie_metadata['rating_distribution'] = rating_distribution\n",
    "        except (NoSuchElementException, ValueError):\n",
    "            movie_metadata['rating_distribution'] = None\n",
    "\n",
    "        # Extract genres from a different page\n",
    "        driver.get(f\"{movie_url}genres/\")\n",
    "        try:\n",
    "            genres_element = driver.find_element(By.CSS_SELECTOR, 'div#tab-genres p')\n",
    "            movie_metadata['genres'] = [genre.text for genre in genres_element.find_elements(By.TAG_NAME, 'a')]\n",
    "        except (NoSuchElementException, ValueError):\n",
    "            movie_metadata['genres'] = []\n",
    "\n",
    "    except TimeoutException:\n",
    "        print(f\"Timeout while loading {movie_url}\")\n",
    "        movie_metadata = None  # Returning None if there's a timeout\n",
    "\n",
    "    return movie_metadata\n",
    "\n",
    "def save_checkpoint(df, checkpoint_filename):\n",
    "    df.to_csv(checkpoint_filename, index=False)\n",
    "    print(f\"Checkpoint saved to {checkpoint_filename}\")\n",
    "\n",
    "def scrape_movie_metadata(movie_urls, driver, checkpoint_filename=\"movie_metadata_checkpoint.csv\", existing_metadata=None):\n",
    "    if existing_metadata is None:\n",
    "        existing_metadata = pd.DataFrame()\n",
    "\n",
    "    scraped_urls = set(existing_metadata['movie_url']) if 'movie_url' in existing_metadata.columns else set()\n",
    "    new_metadata = []\n",
    "    checkpoint_interval = 10\n",
    "\n",
    "    for idx, url in enumerate(tqdm(movie_urls, desc=\"Processing Movies\"), start=1):\n",
    "        if url not in scraped_urls:\n",
    "            metadata = extract_movie_metadata(url, driver)\n",
    "            if metadata:  # Only add if metadata is successfully retrieved\n",
    "                metadata['movie_url'] = url  # Use 'movie_url' instead of 'url'\n",
    "                new_metadata.append(metadata)\n",
    "                scraped_urls.add(url)\n",
    "\n",
    "        if idx % checkpoint_interval == 0:\n",
    "            df = pd.DataFrame(new_metadata)\n",
    "            movie_metadata_df = pd.concat([existing_metadata, df], ignore_index=True)\n",
    "            save_checkpoint(movie_metadata_df, checkpoint_filename)\n",
    "\n",
    "    new_metadata_df = pd.DataFrame(new_metadata)\n",
    "    movie_metadata_df = pd.concat([existing_metadata, new_metadata_df], ignore_index=True)\n",
    "    save_checkpoint(movie_metadata_df, checkpoint_filename)\n",
    "\n",
    "    return movie_metadata_df\n"
   ]
  },
  {
   "cell_type": "code",
   "execution_count": 8,
   "id": "e38643d5",
   "metadata": {
    "execution": {
     "iopub.execute_input": "2024-09-02T16:35:41.453310Z",
     "iopub.status.busy": "2024-09-02T16:35:41.452768Z",
     "iopub.status.idle": "2024-09-02T16:35:41.686614Z",
     "shell.execute_reply": "2024-09-02T16:35:41.685292Z"
    },
    "papermill": {
     "duration": 0.273845,
     "end_time": "2024-09-02T16:35:41.689471",
     "exception": false,
     "start_time": "2024-09-02T16:35:41.415626",
     "status": "completed"
    },
    "tags": []
   },
   "outputs": [
    {
     "name": "stdout",
     "output_type": "stream",
     "text": [
      "276 301\n"
     ]
    },
    {
     "data": {
      "text/html": [
       "<div>\n",
       "<style scoped>\n",
       "    .dataframe tbody tr th:only-of-type {\n",
       "        vertical-align: middle;\n",
       "    }\n",
       "\n",
       "    .dataframe tbody tr th {\n",
       "        vertical-align: top;\n",
       "    }\n",
       "\n",
       "    .dataframe thead th {\n",
       "        text-align: right;\n",
       "    }\n",
       "</style>\n",
       "<table border=\"1\" class=\"dataframe\">\n",
       "  <thead>\n",
       "    <tr style=\"text-align: right;\">\n",
       "      <th></th>\n",
       "      <th>movie_title</th>\n",
       "      <th>movie_user_url</th>\n",
       "      <th>review_text</th>\n",
       "      <th>rating</th>\n",
       "      <th>review_date</th>\n",
       "      <th>movie_year</th>\n",
       "      <th>liked</th>\n",
       "      <th>user_url</th>\n",
       "      <th>username</th>\n",
       "      <th>movie_url</th>\n",
       "    </tr>\n",
       "  </thead>\n",
       "  <tbody>\n",
       "    <tr>\n",
       "      <th>0</th>\n",
       "      <td>The Bikeriders</td>\n",
       "      <td>https://letterboxd.com/kurstboy/film/the-biker...</td>\n",
       "      <td>michael shannon knocks it out of the park as a...</td>\n",
       "      <td>0.7</td>\n",
       "      <td>Watched 01 Sep 2024</td>\n",
       "      <td>2023.0</td>\n",
       "      <td>True</td>\n",
       "      <td>https://letterboxd.com/kurstboy/</td>\n",
       "      <td>kurstboy</td>\n",
       "      <td>https://letterboxd.com/film/the-bikeriders/</td>\n",
       "    </tr>\n",
       "    <tr>\n",
       "      <th>1</th>\n",
       "      <td>The Heartbreak Kid</td>\n",
       "      <td>https://letterboxd.com/kurstboy/film/the-heart...</td>\n",
       "      <td>40 to 50 out of 5 stars</td>\n",
       "      <td>1.0</td>\n",
       "      <td>Rewatched 28 Aug 2024</td>\n",
       "      <td>1972.0</td>\n",
       "      <td>True</td>\n",
       "      <td>https://letterboxd.com/kurstboy/</td>\n",
       "      <td>kurstboy</td>\n",
       "      <td>https://letterboxd.com/film/the-heartbreak-kid...</td>\n",
       "    </tr>\n",
       "    <tr>\n",
       "      <th>2</th>\n",
       "      <td>Design for Living</td>\n",
       "      <td>https://letterboxd.com/kurstboy/film/design-fo...</td>\n",
       "      <td>lubitsch just knows how to get it done</td>\n",
       "      <td>0.9</td>\n",
       "      <td>Watched 27 Aug 2024</td>\n",
       "      <td>1933.0</td>\n",
       "      <td>True</td>\n",
       "      <td>https://letterboxd.com/kurstboy/</td>\n",
       "      <td>kurstboy</td>\n",
       "      <td>https://letterboxd.com/film/design-for-living/</td>\n",
       "    </tr>\n",
       "    <tr>\n",
       "      <th>3</th>\n",
       "      <td>King Kong</td>\n",
       "      <td>https://letterboxd.com/kurstboy/film/king-kong...</td>\n",
       "      <td>monkey mondays #34\\nkind of flabbergasted at h...</td>\n",
       "      <td>0.8</td>\n",
       "      <td>Watched 26 Aug 2024</td>\n",
       "      <td>1976.0</td>\n",
       "      <td>True</td>\n",
       "      <td>https://letterboxd.com/kurstboy/</td>\n",
       "      <td>kurstboy</td>\n",
       "      <td>https://letterboxd.com/film/king-kong-1976/</td>\n",
       "    </tr>\n",
       "    <tr>\n",
       "      <th>4</th>\n",
       "      <td>Bobo the Monkey</td>\n",
       "      <td>https://letterboxd.com/kurstboy/film/bobo-the-...</td>\n",
       "      <td>monkey mondays #33</td>\n",
       "      <td>0.8</td>\n",
       "      <td>Watched 19 Aug 2024</td>\n",
       "      <td>2021.0</td>\n",
       "      <td>True</td>\n",
       "      <td>https://letterboxd.com/kurstboy/</td>\n",
       "      <td>kurstboy</td>\n",
       "      <td>https://letterboxd.com/film/bobo-the-monkey/</td>\n",
       "    </tr>\n",
       "  </tbody>\n",
       "</table>\n",
       "</div>"
      ],
      "text/plain": [
       "          movie_title                                     movie_user_url  \\\n",
       "0      The Bikeriders  https://letterboxd.com/kurstboy/film/the-biker...   \n",
       "1  The Heartbreak Kid  https://letterboxd.com/kurstboy/film/the-heart...   \n",
       "2   Design for Living  https://letterboxd.com/kurstboy/film/design-fo...   \n",
       "3           King Kong  https://letterboxd.com/kurstboy/film/king-kong...   \n",
       "4     Bobo the Monkey  https://letterboxd.com/kurstboy/film/bobo-the-...   \n",
       "\n",
       "                                         review_text  rating  \\\n",
       "0  michael shannon knocks it out of the park as a...     0.7   \n",
       "1                            40 to 50 out of 5 stars     1.0   \n",
       "2             lubitsch just knows how to get it done     0.9   \n",
       "3  monkey mondays #34\\nkind of flabbergasted at h...     0.8   \n",
       "4                                 monkey mondays #33     0.8   \n",
       "\n",
       "             review_date  movie_year  liked                          user_url  \\\n",
       "0    Watched 01 Sep 2024      2023.0   True  https://letterboxd.com/kurstboy/   \n",
       "1  Rewatched 28 Aug 2024      1972.0   True  https://letterboxd.com/kurstboy/   \n",
       "2    Watched 27 Aug 2024      1933.0   True  https://letterboxd.com/kurstboy/   \n",
       "3    Watched 26 Aug 2024      1976.0   True  https://letterboxd.com/kurstboy/   \n",
       "4    Watched 19 Aug 2024      2021.0   True  https://letterboxd.com/kurstboy/   \n",
       "\n",
       "   username                                          movie_url  \n",
       "0  kurstboy        https://letterboxd.com/film/the-bikeriders/  \n",
       "1  kurstboy  https://letterboxd.com/film/the-heartbreak-kid...  \n",
       "2  kurstboy     https://letterboxd.com/film/design-for-living/  \n",
       "3  kurstboy        https://letterboxd.com/film/king-kong-1976/  \n",
       "4  kurstboy       https://letterboxd.com/film/bobo-the-monkey/  "
      ]
     },
     "execution_count": 8,
     "metadata": {},
     "output_type": "execute_result"
    }
   ],
   "source": [
    "# read in user reviews and get unique movie urls\n",
    "user_reviews = pd.read_csv(\"/kaggle/input/user-scraper/user_reviews.csv\", index_col=0)\n",
    "user_reviews = user_reviews.loc[:300]\n",
    "# get movie urls to scrape\n",
    "movie_urls = user_reviews.movie_url.unique()\n",
    "#movie_urls = movie_urls[:10]\n",
    "# preview them\n",
    "print(len(movie_urls), len(user_reviews))\n",
    "user_reviews.head()"
   ]
  },
  {
   "cell_type": "code",
   "execution_count": 9,
   "id": "c91348b9",
   "metadata": {
    "execution": {
     "iopub.execute_input": "2024-09-02T16:35:41.762555Z",
     "iopub.status.busy": "2024-09-02T16:35:41.762107Z",
     "iopub.status.idle": "2024-09-02T16:35:41.769652Z",
     "shell.execute_reply": "2024-09-02T16:35:41.768248Z"
    },
    "papermill": {
     "duration": 0.047437,
     "end_time": "2024-09-02T16:35:41.772339",
     "exception": false,
     "start_time": "2024-09-02T16:35:41.724902",
     "status": "completed"
    },
    "tags": []
   },
   "outputs": [],
   "source": [
    "def load_existing_metadata():\n",
    "    # Define the local file path and Kaggle input path\n",
    "    local_file = \"movie_metadata_checkpoint.csv\"\n",
    "    kaggle_file = \"/kaggle/input/add-metadata-to-user-reviews/movie_metadata_checkpoint.csv\"\n",
    "    \n",
    "    # Check if the local file exists\n",
    "    if os.path.exists(local_file):\n",
    "        print(f\"Loading metadata from local file: {local_file}\")\n",
    "        df = read_metadata(local_file)\n",
    "    elif os.path.exists(kaggle_file):\n",
    "        print(f\"Local file not found. Loading metadata from Kaggle input path: {kaggle_file}\")\n",
    "        df = read_metadata(kaggle_file)\n",
    "    else:\n",
    "        print(f\"No local or kaggle input file found\")\n",
    "        df = None\n",
    "    return df\n"
   ]
  },
  {
   "cell_type": "code",
   "execution_count": 10,
   "id": "f8c1eb12",
   "metadata": {
    "execution": {
     "iopub.execute_input": "2024-09-02T16:35:41.846412Z",
     "iopub.status.busy": "2024-09-02T16:35:41.845972Z",
     "iopub.status.idle": "2024-09-02T17:09:28.492458Z",
     "shell.execute_reply": "2024-09-02T17:09:28.491018Z"
    },
    "papermill": {
     "duration": 2026.687158,
     "end_time": "2024-09-02T17:09:28.496154",
     "exception": false,
     "start_time": "2024-09-02T16:35:41.808996",
     "status": "completed"
    },
    "tags": []
   },
   "outputs": [
    {
     "name": "stdout",
     "output_type": "stream",
     "text": [
      "No local or kaggle input file found\n"
     ]
    },
    {
     "name": "stderr",
     "output_type": "stream",
     "text": [
      "Processing Movies:   4%|▎         | 10/276 [03:08<32:13,  7.27s/it]"
     ]
    },
    {
     "name": "stdout",
     "output_type": "stream",
     "text": [
      "Checkpoint saved to movie_metadata_checkpoint.csv\n"
     ]
    },
    {
     "name": "stderr",
     "output_type": "stream",
     "text": [
      "Processing Movies:   4%|▍         | 11/276 [08:08<7:07:49, 96.87s/it]"
     ]
    },
    {
     "name": "stdout",
     "output_type": "stream",
     "text": [
      "Timeout while loading https://letterboxd.com/film/field-of-dreams/\n"
     ]
    },
    {
     "name": "stderr",
     "output_type": "stream",
     "text": [
      "Processing Movies:   7%|▋         | 20/276 [08:59<41:05,  9.63s/it]"
     ]
    },
    {
     "name": "stdout",
     "output_type": "stream",
     "text": [
      "Checkpoint saved to movie_metadata_checkpoint.csv\n"
     ]
    },
    {
     "name": "stderr",
     "output_type": "stream",
     "text": [
      "Processing Movies:  11%|█         | 30/276 [09:52<22:44,  5.55s/it]"
     ]
    },
    {
     "name": "stdout",
     "output_type": "stream",
     "text": [
      "Checkpoint saved to movie_metadata_checkpoint.csv\n"
     ]
    },
    {
     "name": "stderr",
     "output_type": "stream",
     "text": [
      "Processing Movies:  14%|█▍        | 40/276 [10:51<22:27,  5.71s/it]"
     ]
    },
    {
     "name": "stdout",
     "output_type": "stream",
     "text": [
      "Checkpoint saved to movie_metadata_checkpoint.csv\n"
     ]
    },
    {
     "name": "stderr",
     "output_type": "stream",
     "text": [
      "Processing Movies:  18%|█▊        | 50/276 [11:39<18:09,  4.82s/it]"
     ]
    },
    {
     "name": "stdout",
     "output_type": "stream",
     "text": [
      "Checkpoint saved to movie_metadata_checkpoint.csv\n"
     ]
    },
    {
     "name": "stderr",
     "output_type": "stream",
     "text": [
      "Processing Movies:  22%|██▏       | 60/276 [12:37<20:56,  5.82s/it]"
     ]
    },
    {
     "name": "stdout",
     "output_type": "stream",
     "text": [
      "Checkpoint saved to movie_metadata_checkpoint.csv\n"
     ]
    },
    {
     "name": "stderr",
     "output_type": "stream",
     "text": [
      "Processing Movies:  25%|██▌       | 70/276 [13:31<18:28,  5.38s/it]"
     ]
    },
    {
     "name": "stdout",
     "output_type": "stream",
     "text": [
      "Checkpoint saved to movie_metadata_checkpoint.csv\n"
     ]
    },
    {
     "name": "stderr",
     "output_type": "stream",
     "text": [
      "Processing Movies:  29%|██▉       | 80/276 [14:29<20:47,  6.36s/it]"
     ]
    },
    {
     "name": "stdout",
     "output_type": "stream",
     "text": [
      "Checkpoint saved to movie_metadata_checkpoint.csv\n"
     ]
    },
    {
     "name": "stderr",
     "output_type": "stream",
     "text": [
      "Processing Movies:  33%|███▎      | 90/276 [15:30<19:52,  6.41s/it]"
     ]
    },
    {
     "name": "stdout",
     "output_type": "stream",
     "text": [
      "Checkpoint saved to movie_metadata_checkpoint.csv\n"
     ]
    },
    {
     "name": "stderr",
     "output_type": "stream",
     "text": [
      "Processing Movies:  36%|███▌      | 100/276 [16:22<15:43,  5.36s/it]"
     ]
    },
    {
     "name": "stdout",
     "output_type": "stream",
     "text": [
      "Checkpoint saved to movie_metadata_checkpoint.csv\n"
     ]
    },
    {
     "name": "stderr",
     "output_type": "stream",
     "text": [
      "Processing Movies:  40%|███▉      | 110/276 [17:19<15:54,  5.75s/it]"
     ]
    },
    {
     "name": "stdout",
     "output_type": "stream",
     "text": [
      "Checkpoint saved to movie_metadata_checkpoint.csv\n"
     ]
    },
    {
     "name": "stderr",
     "output_type": "stream",
     "text": [
      "Processing Movies:  43%|████▎     | 120/276 [18:19<14:50,  5.71s/it]"
     ]
    },
    {
     "name": "stdout",
     "output_type": "stream",
     "text": [
      "Checkpoint saved to movie_metadata_checkpoint.csv\n"
     ]
    },
    {
     "name": "stderr",
     "output_type": "stream",
     "text": [
      "Processing Movies:  47%|████▋     | 130/276 [19:17<12:10,  5.00s/it]"
     ]
    },
    {
     "name": "stdout",
     "output_type": "stream",
     "text": [
      "Checkpoint saved to movie_metadata_checkpoint.csv\n"
     ]
    },
    {
     "name": "stderr",
     "output_type": "stream",
     "text": [
      "Processing Movies:  51%|█████     | 140/276 [20:13<12:14,  5.40s/it]"
     ]
    },
    {
     "name": "stdout",
     "output_type": "stream",
     "text": [
      "Checkpoint saved to movie_metadata_checkpoint.csv\n"
     ]
    },
    {
     "name": "stderr",
     "output_type": "stream",
     "text": [
      "Processing Movies:  54%|█████▍    | 150/276 [21:17<12:28,  5.94s/it]"
     ]
    },
    {
     "name": "stdout",
     "output_type": "stream",
     "text": [
      "Checkpoint saved to movie_metadata_checkpoint.csv\n"
     ]
    },
    {
     "name": "stderr",
     "output_type": "stream",
     "text": [
      "Processing Movies:  58%|█████▊    | 160/276 [22:15<11:58,  6.20s/it]"
     ]
    },
    {
     "name": "stdout",
     "output_type": "stream",
     "text": [
      "Checkpoint saved to movie_metadata_checkpoint.csv\n"
     ]
    },
    {
     "name": "stderr",
     "output_type": "stream",
     "text": [
      "Processing Movies:  62%|██████▏   | 170/276 [23:17<10:10,  5.76s/it]"
     ]
    },
    {
     "name": "stdout",
     "output_type": "stream",
     "text": [
      "Checkpoint saved to movie_metadata_checkpoint.csv\n"
     ]
    },
    {
     "name": "stderr",
     "output_type": "stream",
     "text": [
      "Processing Movies:  65%|██████▌   | 180/276 [24:15<09:50,  6.15s/it]"
     ]
    },
    {
     "name": "stdout",
     "output_type": "stream",
     "text": [
      "Checkpoint saved to movie_metadata_checkpoint.csv\n"
     ]
    },
    {
     "name": "stderr",
     "output_type": "stream",
     "text": [
      "Processing Movies:  69%|██████▉   | 190/276 [25:14<08:48,  6.14s/it]"
     ]
    },
    {
     "name": "stdout",
     "output_type": "stream",
     "text": [
      "Checkpoint saved to movie_metadata_checkpoint.csv\n"
     ]
    },
    {
     "name": "stderr",
     "output_type": "stream",
     "text": [
      "Processing Movies:  72%|███████▏  | 200/276 [26:15<07:30,  5.92s/it]"
     ]
    },
    {
     "name": "stdout",
     "output_type": "stream",
     "text": [
      "Checkpoint saved to movie_metadata_checkpoint.csv\n"
     ]
    },
    {
     "name": "stderr",
     "output_type": "stream",
     "text": [
      "Processing Movies:  76%|███████▌  | 210/276 [27:13<06:25,  5.83s/it]"
     ]
    },
    {
     "name": "stdout",
     "output_type": "stream",
     "text": [
      "Checkpoint saved to movie_metadata_checkpoint.csv\n"
     ]
    },
    {
     "name": "stderr",
     "output_type": "stream",
     "text": [
      "Processing Movies:  80%|███████▉  | 220/276 [28:11<05:33,  5.96s/it]"
     ]
    },
    {
     "name": "stdout",
     "output_type": "stream",
     "text": [
      "Checkpoint saved to movie_metadata_checkpoint.csv\n"
     ]
    },
    {
     "name": "stderr",
     "output_type": "stream",
     "text": [
      "Processing Movies:  83%|████████▎ | 230/276 [29:13<04:42,  6.14s/it]"
     ]
    },
    {
     "name": "stdout",
     "output_type": "stream",
     "text": [
      "Checkpoint saved to movie_metadata_checkpoint.csv\n"
     ]
    },
    {
     "name": "stderr",
     "output_type": "stream",
     "text": [
      "Processing Movies:  87%|████████▋ | 240/276 [30:13<03:38,  6.06s/it]"
     ]
    },
    {
     "name": "stdout",
     "output_type": "stream",
     "text": [
      "Checkpoint saved to movie_metadata_checkpoint.csv\n"
     ]
    },
    {
     "name": "stderr",
     "output_type": "stream",
     "text": [
      "Processing Movies:  91%|█████████ | 250/276 [31:09<02:25,  5.61s/it]"
     ]
    },
    {
     "name": "stdout",
     "output_type": "stream",
     "text": [
      "Checkpoint saved to movie_metadata_checkpoint.csv\n"
     ]
    },
    {
     "name": "stderr",
     "output_type": "stream",
     "text": [
      "Processing Movies:  94%|█████████▍| 260/276 [32:07<01:32,  5.80s/it]"
     ]
    },
    {
     "name": "stdout",
     "output_type": "stream",
     "text": [
      "Checkpoint saved to movie_metadata_checkpoint.csv\n"
     ]
    },
    {
     "name": "stderr",
     "output_type": "stream",
     "text": [
      "Processing Movies:  98%|█████████▊| 270/276 [33:07<00:36,  6.11s/it]"
     ]
    },
    {
     "name": "stdout",
     "output_type": "stream",
     "text": [
      "Checkpoint saved to movie_metadata_checkpoint.csv\n"
     ]
    },
    {
     "name": "stderr",
     "output_type": "stream",
     "text": [
      "Processing Movies: 100%|██████████| 276/276 [33:43<00:00,  7.33s/it]\n"
     ]
    },
    {
     "name": "stdout",
     "output_type": "stream",
     "text": [
      "Checkpoint saved to movie_metadata_checkpoint.csv\n"
     ]
    }
   ],
   "source": [
    "# Scrape reviews from user urls\n",
    "if __name__ == \"__main__\":\n",
    "    driver = initialize_driver()\n",
    "    try:\n",
    "        # load checkpoint\n",
    "        existing_metadata_df = load_existing_metadata()\n",
    "        # Scrape the metadata\n",
    "        metadata_df = scrape_movie_metadata(movie_urls, driver, checkpoint_filename=\"movie_metadata_checkpoint.csv\", existing_metadata=existing_metadata_df)\n",
    "        metadata_df.to_csv('movie_metadata.csv', index=False)\n",
    "    finally:\n",
    "        driver.quit()  # Ensure the driver is closed after usage"
   ]
  },
  {
   "cell_type": "code",
   "execution_count": 11,
   "id": "691700ed",
   "metadata": {
    "execution": {
     "iopub.execute_input": "2024-09-02T17:09:28.637082Z",
     "iopub.status.busy": "2024-09-02T17:09:28.636327Z",
     "iopub.status.idle": "2024-09-02T17:09:28.662324Z",
     "shell.execute_reply": "2024-09-02T17:09:28.661185Z"
    },
    "papermill": {
     "duration": 0.102862,
     "end_time": "2024-09-02T17:09:28.665184",
     "exception": false,
     "start_time": "2024-09-02T17:09:28.562322",
     "status": "completed"
    },
    "tags": []
   },
   "outputs": [
    {
     "data": {
      "text/html": [
       "<div>\n",
       "<style scoped>\n",
       "    .dataframe tbody tr th:only-of-type {\n",
       "        vertical-align: middle;\n",
       "    }\n",
       "\n",
       "    .dataframe tbody tr th {\n",
       "        vertical-align: top;\n",
       "    }\n",
       "\n",
       "    .dataframe thead th {\n",
       "        text-align: right;\n",
       "    }\n",
       "</style>\n",
       "<table border=\"1\" class=\"dataframe\">\n",
       "  <thead>\n",
       "    <tr style=\"text-align: right;\">\n",
       "      <th></th>\n",
       "      <th>watches</th>\n",
       "      <th>likes</th>\n",
       "      <th>lists</th>\n",
       "      <th>synopsis</th>\n",
       "      <th>fans</th>\n",
       "      <th>average_rating</th>\n",
       "      <th>total_ratings</th>\n",
       "      <th>rating_distribution</th>\n",
       "      <th>genres</th>\n",
       "      <th>movie_url</th>\n",
       "    </tr>\n",
       "  </thead>\n",
       "  <tbody>\n",
       "    <tr>\n",
       "      <th>0</th>\n",
       "      <td>219787.0</td>\n",
       "      <td>61821.0</td>\n",
       "      <td>58513.0</td>\n",
       "      <td>After a chance encounter at a local bar, stron...</td>\n",
       "      <td>472.0</td>\n",
       "      <td>3.40</td>\n",
       "      <td>192864.0</td>\n",
       "      <td>[0.0019391903102704497, 0.006714576074332172, ...</td>\n",
       "      <td>[Crime, Drama]</td>\n",
       "      <td>https://letterboxd.com/film/the-bikeriders/</td>\n",
       "    </tr>\n",
       "    <tr>\n",
       "      <th>1</th>\n",
       "      <td>25535.0</td>\n",
       "      <td>8856.0</td>\n",
       "      <td>19728.0</td>\n",
       "      <td>Three days into his Miami honeymoon with needy...</td>\n",
       "      <td>291.0</td>\n",
       "      <td>3.93</td>\n",
       "      <td>18023.0</td>\n",
       "      <td>[0.0021639016811851523, 0.004716195971813794, ...</td>\n",
       "      <td>[Romance, Comedy]</td>\n",
       "      <td>https://letterboxd.com/film/the-heartbreak-kid...</td>\n",
       "    </tr>\n",
       "    <tr>\n",
       "      <th>2</th>\n",
       "      <td>25090.0</td>\n",
       "      <td>8498.0</td>\n",
       "      <td>15777.0</td>\n",
       "      <td>An independent woman can’t choose between the ...</td>\n",
       "      <td>227.0</td>\n",
       "      <td>3.90</td>\n",
       "      <td>17118.0</td>\n",
       "      <td>[0.0009346886318495151, 0.002511975698095572, ...</td>\n",
       "      <td>[Comedy, Romance]</td>\n",
       "      <td>https://letterboxd.com/film/design-for-living/</td>\n",
       "    </tr>\n",
       "    <tr>\n",
       "      <th>3</th>\n",
       "      <td>36763.0</td>\n",
       "      <td>4655.0</td>\n",
       "      <td>10915.0</td>\n",
       "      <td>An oil company expedition disturbs the peace o...</td>\n",
       "      <td>17.0</td>\n",
       "      <td>2.94</td>\n",
       "      <td>21139.0</td>\n",
       "      <td>[0.007379724679502341, 0.026396707507450684, 0...</td>\n",
       "      <td>[Fantasy, Adventure]</td>\n",
       "      <td>https://letterboxd.com/film/king-kong-1976/</td>\n",
       "    </tr>\n",
       "    <tr>\n",
       "      <th>4</th>\n",
       "      <td>8341.0</td>\n",
       "      <td>2233.0</td>\n",
       "      <td>1360.0</td>\n",
       "      <td>A little monkey fakes death to evade the law.</td>\n",
       "      <td>NaN</td>\n",
       "      <td>3.63</td>\n",
       "      <td>3653.0</td>\n",
       "      <td>[0.004106214070626882, 0.005748699698877635, 0...</td>\n",
       "      <td>[Animation]</td>\n",
       "      <td>https://letterboxd.com/film/bobo-the-monkey/</td>\n",
       "    </tr>\n",
       "  </tbody>\n",
       "</table>\n",
       "</div>"
      ],
      "text/plain": [
       "    watches    likes    lists  \\\n",
       "0  219787.0  61821.0  58513.0   \n",
       "1   25535.0   8856.0  19728.0   \n",
       "2   25090.0   8498.0  15777.0   \n",
       "3   36763.0   4655.0  10915.0   \n",
       "4    8341.0   2233.0   1360.0   \n",
       "\n",
       "                                            synopsis   fans  average_rating  \\\n",
       "0  After a chance encounter at a local bar, stron...  472.0            3.40   \n",
       "1  Three days into his Miami honeymoon with needy...  291.0            3.93   \n",
       "2  An independent woman can’t choose between the ...  227.0            3.90   \n",
       "3  An oil company expedition disturbs the peace o...   17.0            2.94   \n",
       "4      A little monkey fakes death to evade the law.    NaN            3.63   \n",
       "\n",
       "   total_ratings                                rating_distribution  \\\n",
       "0       192864.0  [0.0019391903102704497, 0.006714576074332172, ...   \n",
       "1        18023.0  [0.0021639016811851523, 0.004716195971813794, ...   \n",
       "2        17118.0  [0.0009346886318495151, 0.002511975698095572, ...   \n",
       "3        21139.0  [0.007379724679502341, 0.026396707507450684, 0...   \n",
       "4         3653.0  [0.004106214070626882, 0.005748699698877635, 0...   \n",
       "\n",
       "                 genres                                          movie_url  \n",
       "0        [Crime, Drama]        https://letterboxd.com/film/the-bikeriders/  \n",
       "1     [Romance, Comedy]  https://letterboxd.com/film/the-heartbreak-kid...  \n",
       "2     [Comedy, Romance]     https://letterboxd.com/film/design-for-living/  \n",
       "3  [Fantasy, Adventure]        https://letterboxd.com/film/king-kong-1976/  \n",
       "4           [Animation]       https://letterboxd.com/film/bobo-the-monkey/  "
      ]
     },
     "execution_count": 11,
     "metadata": {},
     "output_type": "execute_result"
    }
   ],
   "source": [
    "# Display the DataFrame\n",
    "metadata_df.head()"
   ]
  },
  {
   "cell_type": "markdown",
   "id": "221c5b42",
   "metadata": {
    "papermill": {
     "duration": 0.064263,
     "end_time": "2024-09-02T17:09:28.802086",
     "exception": false,
     "start_time": "2024-09-02T17:09:28.737823",
     "status": "completed"
    },
    "tags": []
   },
   "source": [
    "# 5) Add movie metadata to user reviews"
   ]
  },
  {
   "cell_type": "code",
   "execution_count": 12,
   "id": "386eeaed",
   "metadata": {
    "execution": {
     "iopub.execute_input": "2024-09-02T17:09:28.933701Z",
     "iopub.status.busy": "2024-09-02T17:09:28.933277Z",
     "iopub.status.idle": "2024-09-02T17:09:28.969697Z",
     "shell.execute_reply": "2024-09-02T17:09:28.968571Z"
    },
    "papermill": {
     "duration": 0.105689,
     "end_time": "2024-09-02T17:09:28.972748",
     "exception": false,
     "start_time": "2024-09-02T17:09:28.867059",
     "status": "completed"
    },
    "tags": []
   },
   "outputs": [],
   "source": [
    "user_reviews_with_metadata = pd.merge(user_reviews, metadata_df, on='movie_url', how='left')\n",
    "user_reviews_with_metadata.to_csv('user_reviews_with_metadata.csv', index=False)"
   ]
  },
  {
   "cell_type": "code",
   "execution_count": 13,
   "id": "fb78aa90",
   "metadata": {
    "execution": {
     "iopub.execute_input": "2024-09-02T17:09:29.103819Z",
     "iopub.status.busy": "2024-09-02T17:09:29.103305Z",
     "iopub.status.idle": "2024-09-02T17:09:29.141837Z",
     "shell.execute_reply": "2024-09-02T17:09:29.140738Z"
    },
    "papermill": {
     "duration": 0.107664,
     "end_time": "2024-09-02T17:09:29.144814",
     "exception": false,
     "start_time": "2024-09-02T17:09:29.037150",
     "status": "completed"
    },
    "tags": []
   },
   "outputs": [
    {
     "name": "stdout",
     "output_type": "stream",
     "text": [
      "(301, 19)\n"
     ]
    },
    {
     "data": {
      "text/html": [
       "<div>\n",
       "<style scoped>\n",
       "    .dataframe tbody tr th:only-of-type {\n",
       "        vertical-align: middle;\n",
       "    }\n",
       "\n",
       "    .dataframe tbody tr th {\n",
       "        vertical-align: top;\n",
       "    }\n",
       "\n",
       "    .dataframe thead th {\n",
       "        text-align: right;\n",
       "    }\n",
       "</style>\n",
       "<table border=\"1\" class=\"dataframe\">\n",
       "  <thead>\n",
       "    <tr style=\"text-align: right;\">\n",
       "      <th></th>\n",
       "      <th>movie_title</th>\n",
       "      <th>movie_user_url</th>\n",
       "      <th>review_text</th>\n",
       "      <th>rating</th>\n",
       "      <th>review_date</th>\n",
       "      <th>movie_year</th>\n",
       "      <th>liked</th>\n",
       "      <th>user_url</th>\n",
       "      <th>username</th>\n",
       "      <th>movie_url</th>\n",
       "      <th>watches</th>\n",
       "      <th>likes</th>\n",
       "      <th>lists</th>\n",
       "      <th>synopsis</th>\n",
       "      <th>fans</th>\n",
       "      <th>average_rating</th>\n",
       "      <th>total_ratings</th>\n",
       "      <th>rating_distribution</th>\n",
       "      <th>genres</th>\n",
       "    </tr>\n",
       "  </thead>\n",
       "  <tbody>\n",
       "    <tr>\n",
       "      <th>0</th>\n",
       "      <td>The Bikeriders</td>\n",
       "      <td>https://letterboxd.com/kurstboy/film/the-biker...</td>\n",
       "      <td>michael shannon knocks it out of the park as a...</td>\n",
       "      <td>0.7</td>\n",
       "      <td>Watched 01 Sep 2024</td>\n",
       "      <td>2023.0</td>\n",
       "      <td>True</td>\n",
       "      <td>https://letterboxd.com/kurstboy/</td>\n",
       "      <td>kurstboy</td>\n",
       "      <td>https://letterboxd.com/film/the-bikeriders/</td>\n",
       "      <td>219787.0</td>\n",
       "      <td>61821.0</td>\n",
       "      <td>58513.0</td>\n",
       "      <td>After a chance encounter at a local bar, stron...</td>\n",
       "      <td>472.0</td>\n",
       "      <td>3.40</td>\n",
       "      <td>192864.0</td>\n",
       "      <td>[0.0019391903102704497, 0.006714576074332172, ...</td>\n",
       "      <td>[Crime, Drama]</td>\n",
       "    </tr>\n",
       "    <tr>\n",
       "      <th>1</th>\n",
       "      <td>The Heartbreak Kid</td>\n",
       "      <td>https://letterboxd.com/kurstboy/film/the-heart...</td>\n",
       "      <td>40 to 50 out of 5 stars</td>\n",
       "      <td>1.0</td>\n",
       "      <td>Rewatched 28 Aug 2024</td>\n",
       "      <td>1972.0</td>\n",
       "      <td>True</td>\n",
       "      <td>https://letterboxd.com/kurstboy/</td>\n",
       "      <td>kurstboy</td>\n",
       "      <td>https://letterboxd.com/film/the-heartbreak-kid...</td>\n",
       "      <td>25535.0</td>\n",
       "      <td>8856.0</td>\n",
       "      <td>19728.0</td>\n",
       "      <td>Three days into his Miami honeymoon with needy...</td>\n",
       "      <td>291.0</td>\n",
       "      <td>3.93</td>\n",
       "      <td>18023.0</td>\n",
       "      <td>[0.0021639016811851523, 0.004716195971813794, ...</td>\n",
       "      <td>[Romance, Comedy]</td>\n",
       "    </tr>\n",
       "    <tr>\n",
       "      <th>2</th>\n",
       "      <td>Design for Living</td>\n",
       "      <td>https://letterboxd.com/kurstboy/film/design-fo...</td>\n",
       "      <td>lubitsch just knows how to get it done</td>\n",
       "      <td>0.9</td>\n",
       "      <td>Watched 27 Aug 2024</td>\n",
       "      <td>1933.0</td>\n",
       "      <td>True</td>\n",
       "      <td>https://letterboxd.com/kurstboy/</td>\n",
       "      <td>kurstboy</td>\n",
       "      <td>https://letterboxd.com/film/design-for-living/</td>\n",
       "      <td>25090.0</td>\n",
       "      <td>8498.0</td>\n",
       "      <td>15777.0</td>\n",
       "      <td>An independent woman can’t choose between the ...</td>\n",
       "      <td>227.0</td>\n",
       "      <td>3.90</td>\n",
       "      <td>17118.0</td>\n",
       "      <td>[0.0009346886318495151, 0.002511975698095572, ...</td>\n",
       "      <td>[Comedy, Romance]</td>\n",
       "    </tr>\n",
       "    <tr>\n",
       "      <th>3</th>\n",
       "      <td>King Kong</td>\n",
       "      <td>https://letterboxd.com/kurstboy/film/king-kong...</td>\n",
       "      <td>monkey mondays #34\\nkind of flabbergasted at h...</td>\n",
       "      <td>0.8</td>\n",
       "      <td>Watched 26 Aug 2024</td>\n",
       "      <td>1976.0</td>\n",
       "      <td>True</td>\n",
       "      <td>https://letterboxd.com/kurstboy/</td>\n",
       "      <td>kurstboy</td>\n",
       "      <td>https://letterboxd.com/film/king-kong-1976/</td>\n",
       "      <td>36763.0</td>\n",
       "      <td>4655.0</td>\n",
       "      <td>10915.0</td>\n",
       "      <td>An oil company expedition disturbs the peace o...</td>\n",
       "      <td>17.0</td>\n",
       "      <td>2.94</td>\n",
       "      <td>21139.0</td>\n",
       "      <td>[0.007379724679502341, 0.026396707507450684, 0...</td>\n",
       "      <td>[Fantasy, Adventure]</td>\n",
       "    </tr>\n",
       "    <tr>\n",
       "      <th>4</th>\n",
       "      <td>Bobo the Monkey</td>\n",
       "      <td>https://letterboxd.com/kurstboy/film/bobo-the-...</td>\n",
       "      <td>monkey mondays #33</td>\n",
       "      <td>0.8</td>\n",
       "      <td>Watched 19 Aug 2024</td>\n",
       "      <td>2021.0</td>\n",
       "      <td>True</td>\n",
       "      <td>https://letterboxd.com/kurstboy/</td>\n",
       "      <td>kurstboy</td>\n",
       "      <td>https://letterboxd.com/film/bobo-the-monkey/</td>\n",
       "      <td>8341.0</td>\n",
       "      <td>2233.0</td>\n",
       "      <td>1360.0</td>\n",
       "      <td>A little monkey fakes death to evade the law.</td>\n",
       "      <td>NaN</td>\n",
       "      <td>3.63</td>\n",
       "      <td>3653.0</td>\n",
       "      <td>[0.004106214070626882, 0.005748699698877635, 0...</td>\n",
       "      <td>[Animation]</td>\n",
       "    </tr>\n",
       "  </tbody>\n",
       "</table>\n",
       "</div>"
      ],
      "text/plain": [
       "          movie_title                                     movie_user_url  \\\n",
       "0      The Bikeriders  https://letterboxd.com/kurstboy/film/the-biker...   \n",
       "1  The Heartbreak Kid  https://letterboxd.com/kurstboy/film/the-heart...   \n",
       "2   Design for Living  https://letterboxd.com/kurstboy/film/design-fo...   \n",
       "3           King Kong  https://letterboxd.com/kurstboy/film/king-kong...   \n",
       "4     Bobo the Monkey  https://letterboxd.com/kurstboy/film/bobo-the-...   \n",
       "\n",
       "                                         review_text  rating  \\\n",
       "0  michael shannon knocks it out of the park as a...     0.7   \n",
       "1                            40 to 50 out of 5 stars     1.0   \n",
       "2             lubitsch just knows how to get it done     0.9   \n",
       "3  monkey mondays #34\\nkind of flabbergasted at h...     0.8   \n",
       "4                                 monkey mondays #33     0.8   \n",
       "\n",
       "             review_date  movie_year  liked                          user_url  \\\n",
       "0    Watched 01 Sep 2024      2023.0   True  https://letterboxd.com/kurstboy/   \n",
       "1  Rewatched 28 Aug 2024      1972.0   True  https://letterboxd.com/kurstboy/   \n",
       "2    Watched 27 Aug 2024      1933.0   True  https://letterboxd.com/kurstboy/   \n",
       "3    Watched 26 Aug 2024      1976.0   True  https://letterboxd.com/kurstboy/   \n",
       "4    Watched 19 Aug 2024      2021.0   True  https://letterboxd.com/kurstboy/   \n",
       "\n",
       "   username                                          movie_url   watches  \\\n",
       "0  kurstboy        https://letterboxd.com/film/the-bikeriders/  219787.0   \n",
       "1  kurstboy  https://letterboxd.com/film/the-heartbreak-kid...   25535.0   \n",
       "2  kurstboy     https://letterboxd.com/film/design-for-living/   25090.0   \n",
       "3  kurstboy        https://letterboxd.com/film/king-kong-1976/   36763.0   \n",
       "4  kurstboy       https://letterboxd.com/film/bobo-the-monkey/    8341.0   \n",
       "\n",
       "     likes    lists                                           synopsis   fans  \\\n",
       "0  61821.0  58513.0  After a chance encounter at a local bar, stron...  472.0   \n",
       "1   8856.0  19728.0  Three days into his Miami honeymoon with needy...  291.0   \n",
       "2   8498.0  15777.0  An independent woman can’t choose between the ...  227.0   \n",
       "3   4655.0  10915.0  An oil company expedition disturbs the peace o...   17.0   \n",
       "4   2233.0   1360.0      A little monkey fakes death to evade the law.    NaN   \n",
       "\n",
       "   average_rating  total_ratings  \\\n",
       "0            3.40       192864.0   \n",
       "1            3.93        18023.0   \n",
       "2            3.90        17118.0   \n",
       "3            2.94        21139.0   \n",
       "4            3.63         3653.0   \n",
       "\n",
       "                                 rating_distribution                genres  \n",
       "0  [0.0019391903102704497, 0.006714576074332172, ...        [Crime, Drama]  \n",
       "1  [0.0021639016811851523, 0.004716195971813794, ...     [Romance, Comedy]  \n",
       "2  [0.0009346886318495151, 0.002511975698095572, ...     [Comedy, Romance]  \n",
       "3  [0.007379724679502341, 0.026396707507450684, 0...  [Fantasy, Adventure]  \n",
       "4  [0.004106214070626882, 0.005748699698877635, 0...           [Animation]  "
      ]
     },
     "execution_count": 13,
     "metadata": {},
     "output_type": "execute_result"
    }
   ],
   "source": [
    "print(user_reviews_with_metadata.shape)\n",
    "user_reviews_with_metadata.head()"
   ]
  },
  {
   "cell_type": "code",
   "execution_count": null,
   "id": "14336669",
   "metadata": {
    "papermill": {
     "duration": 0.064979,
     "end_time": "2024-09-02T17:09:29.279160",
     "exception": false,
     "start_time": "2024-09-02T17:09:29.214181",
     "status": "completed"
    },
    "tags": []
   },
   "outputs": [],
   "source": []
  }
 ],
 "metadata": {
  "kaggle": {
   "accelerator": "none",
   "dataSources": [
    {
     "sourceId": 195023362,
     "sourceType": "kernelVersion"
    },
    {
     "sourceId": 195023541,
     "sourceType": "kernelVersion"
    }
   ],
   "dockerImageVersionId": 30635,
   "isGpuEnabled": false,
   "isInternetEnabled": true,
   "language": "python",
   "sourceType": "notebook"
  },
  "kernelspec": {
   "display_name": "Python 3",
   "language": "python",
   "name": "python3"
  },
  "language_info": {
   "codemirror_mode": {
    "name": "ipython",
    "version": 3
   },
   "file_extension": ".py",
   "mimetype": "text/x-python",
   "name": "python",
   "nbconvert_exporter": "python",
   "pygments_lexer": "ipython3",
   "version": "3.10.12"
  },
  "papermill": {
   "default_parameters": {},
   "duration": 2114.091588,
   "end_time": "2024-09-02T17:09:29.881453",
   "environment_variables": {},
   "exception": null,
   "input_path": "__notebook__.ipynb",
   "output_path": "__notebook__.ipynb",
   "parameters": {},
   "start_time": "2024-09-02T16:34:15.789865",
   "version": "2.4.0"
  }
 },
 "nbformat": 4,
 "nbformat_minor": 5
}
