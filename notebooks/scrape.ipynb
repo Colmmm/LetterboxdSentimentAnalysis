{
 "cells": [
  {
   "cell_type": "code",
   "execution_count": null,
   "id": "37cc0e3b-abe1-4b08-b4fd-60daa7a7a048",
   "metadata": {},
   "outputs": [],
   "source": [
    "import requests\n",
    "from bs4 import BeautifulSoup\n",
    "import pandas as pd"
   ]
  },
  {
   "cell_type": "code",
   "execution_count": 48,
   "id": "1b9edf3e-7921-4cb9-b735-a702be490f77",
   "metadata": {},
   "outputs": [],
   "source": [
    "def scrape_letterboxd_reviews(movie_url, num_reviews):\n",
    "    reviews = []\n",
    "    page = 1\n",
    "    while len(reviews) < num_reviews:        \n",
    "        response = requests.get(f\"{movie_url}/reviews/page/{page}/\")\n",
    "        soup = BeautifulSoup(response.content, 'html.parser')\n",
    "        review_elements = soup.find_all('div', class_='film-detail-content')\n",
    "        \n",
    "        for element in review_elements:\n",
    "            if len(reviews) >= num_reviews:\n",
    "                break\n",
    "            \n",
    "            review_text_element = element.find('div', class_='body-text -prose collapsible-text')\n",
    "            review_text = review_text_element.get_text(strip=True) if review_text_element else \"No review text\"\n",
    "            \n",
    "            rating_element = element.find('span', class_='rating')\n",
    "            rating = rating_element.get_text(strip=True) if rating_element else \"No rating\"\n",
    "            \n",
    "            reviews.append({'review': review_text, 'rating': rating})\n",
    "        \n",
    "        page += 1\n",
    "\n",
    "    return pd.DataFrame(reviews)"
   ]
  },
  {
   "cell_type": "code",
   "execution_count": 50,
   "id": "6c7689ef-1a88-47ef-be1e-14e02de83149",
   "metadata": {},
   "outputs": [
    {
     "data": {
      "text/html": [
       "<div>\n",
       "<style scoped>\n",
       "    .dataframe tbody tr th:only-of-type {\n",
       "        vertical-align: middle;\n",
       "    }\n",
       "\n",
       "    .dataframe tbody tr th {\n",
       "        vertical-align: top;\n",
       "    }\n",
       "\n",
       "    .dataframe thead th {\n",
       "        text-align: right;\n",
       "    }\n",
       "</style>\n",
       "<table border=\"1\" class=\"dataframe\">\n",
       "  <thead>\n",
       "    <tr style=\"text-align: right;\">\n",
       "      <th></th>\n",
       "      <th>review</th>\n",
       "      <th>rating</th>\n",
       "    </tr>\n",
       "  </thead>\n",
       "  <tbody>\n",
       "    <tr>\n",
       "      <th>0</th>\n",
       "      <td>What the fucking hell.This was so amazing.I me...</td>\n",
       "      <td>★★★★</td>\n",
       "    </tr>\n",
       "    <tr>\n",
       "      <th>1</th>\n",
       "      <td>If you didn’t like this movie, you’re not fun ...</td>\n",
       "      <td>★★★★★</td>\n",
       "    </tr>\n",
       "    <tr>\n",
       "      <th>2</th>\n",
       "      <td>low score bc of disney boot licking but a like...</td>\n",
       "      <td>★</td>\n",
       "    </tr>\n",
       "    <tr>\n",
       "      <th>3</th>\n",
       "      <td>Wooooo, I’m boutta make a name for myself here</td>\n",
       "      <td>★★★★</td>\n",
       "    </tr>\n",
       "    <tr>\n",
       "      <th>4</th>\n",
       "      <td>R rated wolverine and it still feels weirdly r...</td>\n",
       "      <td>★★</td>\n",
       "    </tr>\n",
       "  </tbody>\n",
       "</table>\n",
       "</div>"
      ],
      "text/plain": [
       "                                              review rating\n",
       "0  What the fucking hell.This was so amazing.I me...   ★★★★\n",
       "1  If you didn’t like this movie, you’re not fun ...  ★★★★★\n",
       "2  low score bc of disney boot licking but a like...      ★\n",
       "3     Wooooo, I’m boutta make a name for myself here   ★★★★\n",
       "4  R rated wolverine and it still feels weirdly r...     ★★"
      ]
     },
     "execution_count": 50,
     "metadata": {},
     "output_type": "execute_result"
    }
   ],
   "source": [
    "# Example usage\n",
    "movie_url = 'https://letterboxd.com/film/deadpool-wolverine'  # Replace with actual movie URL\n",
    "num_reviews = 10\n",
    "reviews_df = scrape_letterboxd_reviews(movie_url, num_reviews)\n",
    "#reviews_df.to_csv('data/reviews.csv', index=False)\n",
    "reviews_df.head()"
   ]
  },
  {
   "cell_type": "code",
   "execution_count": null,
   "id": "284a781f-0520-4900-82d8-3b1504b3124f",
   "metadata": {},
   "outputs": [],
   "source": []
  }
 ],
 "metadata": {
  "kernelspec": {
   "display_name": "Python 3 (ipykernel)",
   "language": "python",
   "name": "python3"
  },
  "language_info": {
   "codemirror_mode": {
    "name": "ipython",
    "version": 3
   },
   "file_extension": ".py",
   "mimetype": "text/x-python",
   "name": "python",
   "nbconvert_exporter": "python",
   "pygments_lexer": "ipython3",
   "version": "3.11.6"
  }
 },
 "nbformat": 4,
 "nbformat_minor": 5
}
