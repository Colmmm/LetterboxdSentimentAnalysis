{
 "cells": [
  {
   "cell_type": "markdown",
   "id": "a1266384",
   "metadata": {
    "papermill": {
     "duration": 0.009223,
     "end_time": "2024-08-29T20:26:37.101035",
     "exception": false,
     "start_time": "2024-08-29T20:26:37.091812",
     "status": "completed"
    },
    "tags": []
   },
   "source": [
    "## 1) Read in data"
   ]
  },
  {
   "cell_type": "code",
   "execution_count": 1,
   "id": "ae175c61",
   "metadata": {
    "execution": {
     "iopub.execute_input": "2024-08-29T20:26:37.119666Z",
     "iopub.status.busy": "2024-08-29T20:26:37.119275Z",
     "iopub.status.idle": "2024-08-29T20:26:39.020903Z",
     "shell.execute_reply": "2024-08-29T20:26:39.020067Z"
    },
    "papermill": {
     "duration": 1.913752,
     "end_time": "2024-08-29T20:26:39.023308",
     "exception": false,
     "start_time": "2024-08-29T20:26:37.109556",
     "status": "completed"
    },
    "tags": []
   },
   "outputs": [],
   "source": [
    "import pandas as pd\n",
    "from sklearn.model_selection import train_test_split\n",
    "from sklearn.preprocessing import LabelEncoder"
   ]
  },
  {
   "cell_type": "code",
   "execution_count": 2,
   "id": "e40e297f",
   "metadata": {
    "execution": {
     "iopub.execute_input": "2024-08-29T20:26:39.042643Z",
     "iopub.status.busy": "2024-08-29T20:26:39.041628Z",
     "iopub.status.idle": "2024-08-29T20:26:39.550150Z",
     "shell.execute_reply": "2024-08-29T20:26:39.549147Z"
    },
    "papermill": {
     "duration": 0.520239,
     "end_time": "2024-08-29T20:26:39.552272",
     "exception": false,
     "start_time": "2024-08-29T20:26:39.032033",
     "status": "completed"
    },
    "tags": []
   },
   "outputs": [
    {
     "name": "stdout",
     "output_type": "stream",
     "text": [
      "(77289, 2)\n"
     ]
    },
    {
     "data": {
      "text/html": [
       "<div>\n",
       "<style scoped>\n",
       "    .dataframe tbody tr th:only-of-type {\n",
       "        vertical-align: middle;\n",
       "    }\n",
       "\n",
       "    .dataframe tbody tr th {\n",
       "        vertical-align: top;\n",
       "    }\n",
       "\n",
       "    .dataframe thead th {\n",
       "        text-align: right;\n",
       "    }\n",
       "</style>\n",
       "<table border=\"1\" class=\"dataframe\">\n",
       "  <thead>\n",
       "    <tr style=\"text-align: right;\">\n",
       "      <th></th>\n",
       "      <th>review_text</th>\n",
       "      <th>rating</th>\n",
       "    </tr>\n",
       "  </thead>\n",
       "  <tbody>\n",
       "    <tr>\n",
       "      <th>0</th>\n",
       "      <td>feminism displayed at its worst.</td>\n",
       "      <td>3</td>\n",
       "    </tr>\n",
       "    <tr>\n",
       "      <th>1</th>\n",
       "      <td>Ryan Gosling... Get in my bed RN please.\\nThis...</td>\n",
       "      <td>9</td>\n",
       "    </tr>\n",
       "    <tr>\n",
       "      <th>2</th>\n",
       "      <td>im sorry to all the barbies hair that i’ve cut...</td>\n",
       "      <td>9</td>\n",
       "    </tr>\n",
       "    <tr>\n",
       "      <th>3</th>\n",
       "      <td>Micheal cera.</td>\n",
       "      <td>6</td>\n",
       "    </tr>\n",
       "    <tr>\n",
       "      <th>4</th>\n",
       "      <td>Amazing, ending part made me cry 😢</td>\n",
       "      <td>7</td>\n",
       "    </tr>\n",
       "  </tbody>\n",
       "</table>\n",
       "</div>"
      ],
      "text/plain": [
       "                                         review_text  rating\n",
       "0                   feminism displayed at its worst.       3\n",
       "1  Ryan Gosling... Get in my bed RN please.\\nThis...       9\n",
       "2  im sorry to all the barbies hair that i’ve cut...       9\n",
       "3                                      Micheal cera.       6\n",
       "4                 Amazing, ending part made me cry 😢       7"
      ]
     },
     "execution_count": 2,
     "metadata": {},
     "output_type": "execute_result"
    }
   ],
   "source": [
    "reviews_df = pd.read_csv(\"/kaggle/input/process-scraped-reviews/processed_reviews.csv\")\n",
    "# Convert ratings to integer labels (0 to 9)\n",
    "reviews_df['rating'] = (reviews_df['rating'] * 10 -1).astype(int)\n",
    "print(reviews_df.shape)\n",
    "reviews_df.head()"
   ]
  },
  {
   "cell_type": "code",
   "execution_count": 3,
   "id": "9f7af677",
   "metadata": {
    "execution": {
     "iopub.execute_input": "2024-08-29T20:26:39.573129Z",
     "iopub.status.busy": "2024-08-29T20:26:39.572398Z",
     "iopub.status.idle": "2024-08-29T20:26:39.576390Z",
     "shell.execute_reply": "2024-08-29T20:26:39.575531Z"
    },
    "papermill": {
     "duration": 0.016145,
     "end_time": "2024-08-29T20:26:39.578342",
     "exception": false,
     "start_time": "2024-08-29T20:26:39.562197",
     "status": "completed"
    },
    "tags": []
   },
   "outputs": [],
   "source": [
    "# doing a test run with smaller dataset\n",
    "#reviews_df = reviews_df.iloc[:3000]\n",
    "#reviews_df.shape"
   ]
  },
  {
   "cell_type": "markdown",
   "id": "0c82ab86",
   "metadata": {
    "papermill": {
     "duration": 0.008475,
     "end_time": "2024-08-29T20:26:39.595666",
     "exception": false,
     "start_time": "2024-08-29T20:26:39.587191",
     "status": "completed"
    },
    "tags": []
   },
   "source": [
    "# 2) Prepare Data"
   ]
  },
  {
   "cell_type": "code",
   "execution_count": 4,
   "id": "4e3c8133",
   "metadata": {
    "execution": {
     "iopub.execute_input": "2024-08-29T20:26:39.614833Z",
     "iopub.status.busy": "2024-08-29T20:26:39.613997Z",
     "iopub.status.idle": "2024-08-29T20:26:58.423061Z",
     "shell.execute_reply": "2024-08-29T20:26:58.422022Z"
    },
    "papermill": {
     "duration": 18.821318,
     "end_time": "2024-08-29T20:26:58.425616",
     "exception": false,
     "start_time": "2024-08-29T20:26:39.604298",
     "status": "completed"
    },
    "tags": []
   },
   "outputs": [],
   "source": [
    "import pandas as pd\n",
    "from sklearn.model_selection import train_test_split\n",
    "from transformers import DistilBertTokenizer, DistilBertForSequenceClassification, Trainer, TrainingArguments\n",
    "from torch.utils.data import Dataset, DataLoader, TensorDataset\n",
    "import torch\n",
    "from torch import nn"
   ]
  },
  {
   "cell_type": "markdown",
   "id": "bea2e682",
   "metadata": {
    "papermill": {
     "duration": 0.008674,
     "end_time": "2024-08-29T20:26:58.443336",
     "exception": false,
     "start_time": "2024-08-29T20:26:58.434662",
     "status": "completed"
    },
    "tags": []
   },
   "source": [
    "## 2A) Split data into train/validation "
   ]
  },
  {
   "cell_type": "code",
   "execution_count": 5,
   "id": "1062d350",
   "metadata": {
    "execution": {
     "iopub.execute_input": "2024-08-29T20:26:58.463194Z",
     "iopub.status.busy": "2024-08-29T20:26:58.462439Z",
     "iopub.status.idle": "2024-08-29T20:26:58.529254Z",
     "shell.execute_reply": "2024-08-29T20:26:58.528426Z"
    },
    "papermill": {
     "duration": 0.079581,
     "end_time": "2024-08-29T20:26:58.531752",
     "exception": false,
     "start_time": "2024-08-29T20:26:58.452171",
     "status": "completed"
    },
    "tags": []
   },
   "outputs": [],
   "source": [
    "from sklearn.model_selection import train_test_split\n",
    "\n",
    "# Stratified split to create train and temp (which will be split further into validation and test)\n",
    "train_df, temp_df = train_test_split(reviews_df, test_size=0.4, stratify=reviews_df['rating'], random_state=42)\n",
    "\n",
    "# Further split temp_df into validation and test sets\n",
    "val_df, test_df = train_test_split(temp_df, test_size=0.5, stratify=temp_df['rating'], random_state=42)"
   ]
  },
  {
   "cell_type": "markdown",
   "id": "5a214085",
   "metadata": {
    "papermill": {
     "duration": 0.00857,
     "end_time": "2024-08-29T20:26:58.549660",
     "exception": false,
     "start_time": "2024-08-29T20:26:58.541090",
     "status": "completed"
    },
    "tags": []
   },
   "source": [
    "## 2B) Tokenize data"
   ]
  },
  {
   "cell_type": "code",
   "execution_count": 6,
   "id": "1711a9df",
   "metadata": {
    "execution": {
     "iopub.execute_input": "2024-08-29T20:26:58.568892Z",
     "iopub.status.busy": "2024-08-29T20:26:58.568469Z",
     "iopub.status.idle": "2024-08-29T20:27:00.718866Z",
     "shell.execute_reply": "2024-08-29T20:27:00.717832Z"
    },
    "papermill": {
     "duration": 2.162567,
     "end_time": "2024-08-29T20:27:00.720950",
     "exception": false,
     "start_time": "2024-08-29T20:26:58.558383",
     "status": "completed"
    },
    "tags": []
   },
   "outputs": [
    {
     "data": {
      "application/vnd.jupyter.widget-view+json": {
       "model_id": "300b98e311024e89bdd1886e757e65b5",
       "version_major": 2,
       "version_minor": 0
      },
      "text/plain": [
       "tokenizer_config.json:   0%|          | 0.00/48.0 [00:00<?, ?B/s]"
      ]
     },
     "metadata": {},
     "output_type": "display_data"
    },
    {
     "data": {
      "application/vnd.jupyter.widget-view+json": {
       "model_id": "bc24a3c6fb2246f5a10dedc63e0c20c7",
       "version_major": 2,
       "version_minor": 0
      },
      "text/plain": [
       "vocab.txt:   0%|          | 0.00/232k [00:00<?, ?B/s]"
      ]
     },
     "metadata": {},
     "output_type": "display_data"
    },
    {
     "data": {
      "application/vnd.jupyter.widget-view+json": {
       "model_id": "f4dc12cdd115430e984c6fbcbd02b7a4",
       "version_major": 2,
       "version_minor": 0
      },
      "text/plain": [
       "config.json:   0%|          | 0.00/629 [00:00<?, ?B/s]"
      ]
     },
     "metadata": {},
     "output_type": "display_data"
    },
    {
     "name": "stderr",
     "output_type": "stream",
     "text": [
      "/opt/conda/lib/python3.10/site-packages/transformers/tokenization_utils_base.py:1601: FutureWarning: `clean_up_tokenization_spaces` was not set. It will be set to `True` by default. This behavior will be depracted in transformers v4.45, and will be then set to `False` by default. For more details check this issue: https://github.com/huggingface/transformers/issues/31884\n",
      "  warnings.warn(\n"
     ]
    }
   ],
   "source": [
    "# Initialize the tokenizer\n",
    "tokenizer = DistilBertTokenizer.from_pretrained('distilbert-base-uncased-finetuned-sst-2-english')\n",
    "\n",
    "# Tokenize the reviews\n",
    "def tokenize_reviews(reviews, tokenizer, max_length=512):\n",
    "    encodings = tokenizer(reviews, truncation=True, padding=True, max_length=max_length, return_tensors='pt')\n",
    "    return encodings['input_ids'], encodings['attention_mask']"
   ]
  },
  {
   "cell_type": "markdown",
   "id": "038c2e94",
   "metadata": {
    "papermill": {
     "duration": 0.009166,
     "end_time": "2024-08-29T20:27:00.739630",
     "exception": false,
     "start_time": "2024-08-29T20:27:00.730464",
     "status": "completed"
    },
    "tags": []
   },
   "source": [
    "## 2c) Use custom Dataset object"
   ]
  },
  {
   "cell_type": "code",
   "execution_count": 7,
   "id": "7d68bc9f",
   "metadata": {
    "execution": {
     "iopub.execute_input": "2024-08-29T20:27:00.760273Z",
     "iopub.status.busy": "2024-08-29T20:27:00.759566Z",
     "iopub.status.idle": "2024-08-29T20:27:00.769051Z",
     "shell.execute_reply": "2024-08-29T20:27:00.768176Z"
    },
    "papermill": {
     "duration": 0.022114,
     "end_time": "2024-08-29T20:27:00.771006",
     "exception": false,
     "start_time": "2024-08-29T20:27:00.748892",
     "status": "completed"
    },
    "tags": []
   },
   "outputs": [],
   "source": [
    "from torch.utils.data import Dataset, DataLoader\n",
    "\n",
    "class ReviewsDataset(Dataset):\n",
    "    def __init__(self, dataframe, tokenizer, max_length):\n",
    "        self.tokenizer = tokenizer\n",
    "        self.data = dataframe\n",
    "        self.max_length = max_length\n",
    "\n",
    "    def __len__(self):\n",
    "        return len(self.data)\n",
    "\n",
    "    def __getitem__(self, idx):\n",
    "        review = self.data.iloc[idx]\n",
    "        encoding = self.tokenizer(\n",
    "            review['review_text'],\n",
    "            truncation=True,\n",
    "            padding='max_length',\n",
    "            max_length=self.max_length,\n",
    "            return_tensors='pt'\n",
    "        )\n",
    "        return {\n",
    "            'input_ids': encoding['input_ids'].squeeze(),\n",
    "            'attention_mask': encoding['attention_mask'].squeeze(),\n",
    "            'labels': torch.tensor(review['rating'], dtype=torch.long)\n",
    "        }\n",
    "\n",
    "# Parameters\n",
    "max_length = 128\n",
    "\n",
    "# Prepare datasets using the stratified splits\n",
    "train_dataset = ReviewsDataset(train_df, tokenizer, max_length)\n",
    "val_dataset = ReviewsDataset(val_df, tokenizer, max_length)\n",
    "test_dataset = ReviewsDataset(test_df, tokenizer, max_length)\n",
    "\n",
    "# Data loaders (if not using Trainer)\n",
    "train_loader = DataLoader(train_dataset, batch_size=16, shuffle=True)\n",
    "val_loader = DataLoader(val_dataset, batch_size=16)"
   ]
  },
  {
   "cell_type": "markdown",
   "id": "d734d108",
   "metadata": {
    "papermill": {
     "duration": 0.009235,
     "end_time": "2024-08-29T20:27:00.789749",
     "exception": false,
     "start_time": "2024-08-29T20:27:00.780514",
     "status": "completed"
    },
    "tags": []
   },
   "source": [
    "# 3) Setting up the model"
   ]
  },
  {
   "cell_type": "code",
   "execution_count": 8,
   "id": "c0dab025",
   "metadata": {
    "execution": {
     "iopub.execute_input": "2024-08-29T20:27:00.810300Z",
     "iopub.status.busy": "2024-08-29T20:27:00.809517Z",
     "iopub.status.idle": "2024-08-29T20:27:00.814125Z",
     "shell.execute_reply": "2024-08-29T20:27:00.813224Z"
    },
    "papermill": {
     "duration": 0.016963,
     "end_time": "2024-08-29T20:27:00.816022",
     "exception": false,
     "start_time": "2024-08-29T20:27:00.799059",
     "status": "completed"
    },
    "tags": []
   },
   "outputs": [],
   "source": [
    "from transformers import DistilBertTokenizer, DistilBertForSequenceClassification\n",
    "import torch\n",
    "from torch import nn"
   ]
  },
  {
   "cell_type": "code",
   "execution_count": 9,
   "id": "6c8692f7",
   "metadata": {
    "execution": {
     "iopub.execute_input": "2024-08-29T20:27:00.836636Z",
     "iopub.status.busy": "2024-08-29T20:27:00.835987Z",
     "iopub.status.idle": "2024-08-29T20:27:09.568720Z",
     "shell.execute_reply": "2024-08-29T20:27:09.567721Z"
    },
    "papermill": {
     "duration": 8.745502,
     "end_time": "2024-08-29T20:27:09.570999",
     "exception": false,
     "start_time": "2024-08-29T20:27:00.825497",
     "status": "completed"
    },
    "tags": []
   },
   "outputs": [
    {
     "data": {
      "application/vnd.jupyter.widget-view+json": {
       "model_id": "205a6e6c6d6c4e738b6bd9c7f608e40a",
       "version_major": 2,
       "version_minor": 0
      },
      "text/plain": [
       "model.safetensors:   0%|          | 0.00/268M [00:00<?, ?B/s]"
      ]
     },
     "metadata": {},
     "output_type": "display_data"
    },
    {
     "name": "stderr",
     "output_type": "stream",
     "text": [
      "Some weights of DistilBertForSequenceClassification were not initialized from the model checkpoint at distilbert-base-uncased-finetuned-sst-2-english and are newly initialized because the shapes did not match:\n",
      "- classifier.bias: found shape torch.Size([2]) in the checkpoint and torch.Size([10]) in the model instantiated\n",
      "- classifier.weight: found shape torch.Size([2, 768]) in the checkpoint and torch.Size([10, 768]) in the model instantiated\n",
      "You should probably TRAIN this model on a down-stream task to be able to use it for predictions and inference.\n"
     ]
    },
    {
     "name": "stdout",
     "output_type": "stream",
     "text": [
      "DistilBertForSequenceClassification(\n",
      "  (distilbert): DistilBertModel(\n",
      "    (embeddings): Embeddings(\n",
      "      (word_embeddings): Embedding(30522, 768, padding_idx=0)\n",
      "      (position_embeddings): Embedding(512, 768)\n",
      "      (LayerNorm): LayerNorm((768,), eps=1e-12, elementwise_affine=True)\n",
      "      (dropout): Dropout(p=0.1, inplace=False)\n",
      "    )\n",
      "    (transformer): Transformer(\n",
      "      (layer): ModuleList(\n",
      "        (0-5): 6 x TransformerBlock(\n",
      "          (attention): MultiHeadSelfAttention(\n",
      "            (dropout): Dropout(p=0.1, inplace=False)\n",
      "            (q_lin): Linear(in_features=768, out_features=768, bias=True)\n",
      "            (k_lin): Linear(in_features=768, out_features=768, bias=True)\n",
      "            (v_lin): Linear(in_features=768, out_features=768, bias=True)\n",
      "            (out_lin): Linear(in_features=768, out_features=768, bias=True)\n",
      "          )\n",
      "          (sa_layer_norm): LayerNorm((768,), eps=1e-12, elementwise_affine=True)\n",
      "          (ffn): FFN(\n",
      "            (dropout): Dropout(p=0.1, inplace=False)\n",
      "            (lin1): Linear(in_features=768, out_features=3072, bias=True)\n",
      "            (lin2): Linear(in_features=3072, out_features=768, bias=True)\n",
      "            (activation): GELUActivation()\n",
      "          )\n",
      "          (output_layer_norm): LayerNorm((768,), eps=1e-12, elementwise_affine=True)\n",
      "        )\n",
      "      )\n",
      "    )\n",
      "  )\n",
      "  (pre_classifier): Linear(in_features=768, out_features=768, bias=True)\n",
      "  (classifier): Linear(in_features=768, out_features=10, bias=True)\n",
      "  (dropout): Dropout(p=0.2, inplace=False)\n",
      ")\n"
     ]
    }
   ],
   "source": [
    "# Load the pre-trained model and modify it\n",
    "model = DistilBertForSequenceClassification.from_pretrained(\"distilbert-base-uncased-finetuned-sst-2-english\", num_labels=10, ignore_mismatched_sizes=True)\n",
    "\n",
    "print(model)"
   ]
  },
  {
   "cell_type": "markdown",
   "id": "7e8b24e8",
   "metadata": {
    "papermill": {
     "duration": 0.009669,
     "end_time": "2024-08-29T20:27:09.590642",
     "exception": false,
     "start_time": "2024-08-29T20:27:09.580973",
     "status": "completed"
    },
    "tags": []
   },
   "source": [
    "# 4) Training"
   ]
  },
  {
   "cell_type": "markdown",
   "id": "e5a7dc2a",
   "metadata": {
    "papermill": {
     "duration": 0.009276,
     "end_time": "2024-08-29T20:27:09.609659",
     "exception": false,
     "start_time": "2024-08-29T20:27:09.600383",
     "status": "completed"
    },
    "tags": []
   },
   "source": [
    "## 4a) Calculate weights and custom loss function "
   ]
  },
  {
   "cell_type": "markdown",
   "id": "d4f17f7e",
   "metadata": {
    "papermill": {
     "duration": 0.009507,
     "end_time": "2024-08-29T20:27:09.628784",
     "exception": false,
     "start_time": "2024-08-29T20:27:09.619277",
     "status": "completed"
    },
    "tags": []
   },
   "source": []
  },
  {
   "cell_type": "code",
   "execution_count": 10,
   "id": "23d30490",
   "metadata": {
    "execution": {
     "iopub.execute_input": "2024-08-29T20:27:09.650339Z",
     "iopub.status.busy": "2024-08-29T20:27:09.649467Z",
     "iopub.status.idle": "2024-08-29T20:27:09.676210Z",
     "shell.execute_reply": "2024-08-29T20:27:09.675095Z"
    },
    "papermill": {
     "duration": 0.040025,
     "end_time": "2024-08-29T20:27:09.678494",
     "exception": false,
     "start_time": "2024-08-29T20:27:09.638469",
     "status": "completed"
    },
    "tags": []
   },
   "outputs": [
    {
     "name": "stdout",
     "output_type": "stream",
     "text": [
      "Class Weights:\n",
      "(0, 10.734583333333333)\n",
      "(1, 4.973552123552124)\n",
      "(2, 5.2937671232876715)\n",
      "(3, 2.2279907754396078)\n",
      "(4, 1.814721765672693)\n",
      "(5, 0.833035136882949)\n",
      "(6, 0.7050629447181171)\n",
      "(7, 0.4290972684876749)\n",
      "(8, 0.7172993039443155)\n",
      "(9, 0.46005357142857145)\n"
     ]
    }
   ],
   "source": [
    "import torch\n",
    "from sklearn.utils.class_weight import compute_class_weight\n",
    "\n",
    "# Compute class weights\n",
    "class_weights = compute_class_weight('balanced', classes=reviews_df['rating'].unique(), y=reviews_df['rating'])\n",
    "class_weights_dict = dict(zip(reviews_df['rating'].unique(), class_weights))\n",
    "\n",
    "# Convert class weights to a tensor\n",
    "class_weights_tensor = torch.tensor([class_weights_dict[c] for c in sorted(reviews_df['rating'].unique())], dtype=torch.float)\n",
    "\n",
    "print(\"Class Weights:\", *sorted(class_weights_dict.items()), sep='\\n')"
   ]
  },
  {
   "cell_type": "markdown",
   "id": "2ac0ae30",
   "metadata": {
    "papermill": {
     "duration": 0.009384,
     "end_time": "2024-08-29T20:27:09.698014",
     "exception": false,
     "start_time": "2024-08-29T20:27:09.688630",
     "status": "completed"
    },
    "tags": []
   },
   "source": [
    "## 4b) Modify the Loss Function to Include Class Weights"
   ]
  },
  {
   "cell_type": "code",
   "execution_count": 11,
   "id": "4ac07b6b",
   "metadata": {
    "execution": {
     "iopub.execute_input": "2024-08-29T20:27:09.719897Z",
     "iopub.status.busy": "2024-08-29T20:27:09.719245Z",
     "iopub.status.idle": "2024-08-29T20:27:09.726499Z",
     "shell.execute_reply": "2024-08-29T20:27:09.725550Z"
    },
    "papermill": {
     "duration": 0.020871,
     "end_time": "2024-08-29T20:27:09.728668",
     "exception": false,
     "start_time": "2024-08-29T20:27:09.707797",
     "status": "completed"
    },
    "tags": []
   },
   "outputs": [],
   "source": [
    "from transformers import DistilBertForSequenceClassification, Trainer, TrainingArguments\n",
    "import torch.nn as nn\n",
    "\n",
    "# Define the loss function with class weights\n",
    "loss_fn = nn.CrossEntropyLoss(weight=class_weights_tensor)\n",
    "\n",
    "# Define the loss function with class weights\n",
    "class CustomTrainer(Trainer):\n",
    "    def compute_loss(self, model, inputs, return_outputs=False):\n",
    "        labels = inputs.get(\"labels\")\n",
    "        # Forward pass\n",
    "        outputs = model(**inputs)\n",
    "        logits = outputs.get(\"logits\")\n",
    "        \n",
    "        # Move the class weights tensor to the same device as the model's output\n",
    "        class_weights_device = class_weights_tensor.to(logits.device)\n",
    "        \n",
    "        # Compute weighted loss\n",
    "        loss_fn = nn.CrossEntropyLoss(weight=class_weights_device)\n",
    "        loss = loss_fn(logits, labels)\n",
    "        \n",
    "        return (loss, outputs) if return_outputs else loss"
   ]
  },
  {
   "cell_type": "markdown",
   "id": "6dfe843b",
   "metadata": {
    "papermill": {
     "duration": 0.009548,
     "end_time": "2024-08-29T20:27:09.747996",
     "exception": false,
     "start_time": "2024-08-29T20:27:09.738448",
     "status": "completed"
    },
    "tags": []
   },
   "source": [
    "## 4c) Prepare training args and initialize custom trainer"
   ]
  },
  {
   "cell_type": "code",
   "execution_count": 12,
   "id": "7ab32362",
   "metadata": {
    "execution": {
     "iopub.execute_input": "2024-08-29T20:27:09.768832Z",
     "iopub.status.busy": "2024-08-29T20:27:09.768227Z",
     "iopub.status.idle": "2024-08-29T20:27:10.118588Z",
     "shell.execute_reply": "2024-08-29T20:27:10.117584Z"
    },
    "papermill": {
     "duration": 0.363567,
     "end_time": "2024-08-29T20:27:10.121149",
     "exception": false,
     "start_time": "2024-08-29T20:27:09.757582",
     "status": "completed"
    },
    "tags": []
   },
   "outputs": [
    {
     "name": "stderr",
     "output_type": "stream",
     "text": [
      "/opt/conda/lib/python3.10/site-packages/transformers/training_args.py:1525: FutureWarning: `evaluation_strategy` is deprecated and will be removed in version 4.46 of 🤗 Transformers. Use `eval_strategy` instead\n",
      "  warnings.warn(\n"
     ]
    }
   ],
   "source": [
    "from transformers import Trainer, TrainingArguments\n",
    "\n",
    "# Define training arguments\n",
    "training_args = TrainingArguments(\n",
    "    output_dir='./results',\n",
    "    num_train_epochs=3,\n",
    "    per_device_train_batch_size=16,\n",
    "    per_device_eval_batch_size=16,\n",
    "    warmup_steps=500,\n",
    "    weight_decay=0.01,\n",
    "    logging_dir='./logs',\n",
    "    logging_steps=10,\n",
    "    evaluation_strategy='epoch',\n",
    "    report_to=\"none\"\n",
    ")\n",
    "\n",
    "# Initialize the CustomTrainer\n",
    "trainer = CustomTrainer(\n",
    "    model=model,\n",
    "    args=training_args,\n",
    "    train_dataset=train_dataset,\n",
    "    eval_dataset=val_dataset,\n",
    "    tokenizer=tokenizer,\n",
    ")"
   ]
  },
  {
   "cell_type": "markdown",
   "id": "0fc21a43",
   "metadata": {
    "papermill": {
     "duration": 0.009815,
     "end_time": "2024-08-29T20:27:10.140982",
     "exception": false,
     "start_time": "2024-08-29T20:27:10.131167",
     "status": "completed"
    },
    "tags": []
   },
   "source": [
    "## 4d ) Run training"
   ]
  },
  {
   "cell_type": "code",
   "execution_count": 13,
   "id": "6ae7f154",
   "metadata": {
    "execution": {
     "iopub.execute_input": "2024-08-29T20:27:10.162437Z",
     "iopub.status.busy": "2024-08-29T20:27:10.162050Z",
     "iopub.status.idle": "2024-08-29T20:49:39.953831Z",
     "shell.execute_reply": "2024-08-29T20:49:39.952882Z"
    },
    "papermill": {
     "duration": 1349.807279,
     "end_time": "2024-08-29T20:49:39.958036",
     "exception": false,
     "start_time": "2024-08-29T20:27:10.150757",
     "status": "completed"
    },
    "tags": []
   },
   "outputs": [
    {
     "data": {
      "text/html": [
       "\n",
       "    <div>\n",
       "      \n",
       "      <progress value='8697' max='8697' style='width:300px; height:20px; vertical-align: middle;'></progress>\n",
       "      [8697/8697 22:27, Epoch 3/3]\n",
       "    </div>\n",
       "    <table border=\"1\" class=\"dataframe\">\n",
       "  <thead>\n",
       " <tr style=\"text-align: left;\">\n",
       "      <th>Epoch</th>\n",
       "      <th>Training Loss</th>\n",
       "      <th>Validation Loss</th>\n",
       "    </tr>\n",
       "  </thead>\n",
       "  <tbody>\n",
       "    <tr>\n",
       "      <td>1</td>\n",
       "      <td>2.048100</td>\n",
       "      <td>1.936311</td>\n",
       "    </tr>\n",
       "    <tr>\n",
       "      <td>2</td>\n",
       "      <td>1.860800</td>\n",
       "      <td>1.885244</td>\n",
       "    </tr>\n",
       "    <tr>\n",
       "      <td>3</td>\n",
       "      <td>1.271300</td>\n",
       "      <td>2.141125</td>\n",
       "    </tr>\n",
       "  </tbody>\n",
       "</table><p>"
      ],
      "text/plain": [
       "<IPython.core.display.HTML object>"
      ]
     },
     "metadata": {},
     "output_type": "display_data"
    },
    {
     "data": {
      "text/plain": [
       "TrainOutput(global_step=8697, training_loss=1.722584720643153, metrics={'train_runtime': 1348.4278, 'train_samples_per_second': 103.171, 'train_steps_per_second': 6.45, 'total_flos': 4607840308953600.0, 'train_loss': 1.722584720643153, 'epoch': 3.0})"
      ]
     },
     "execution_count": 13,
     "metadata": {},
     "output_type": "execute_result"
    }
   ],
   "source": [
    "# Train the model\n",
    "trainer.train()"
   ]
  },
  {
   "cell_type": "markdown",
   "id": "43cfe7ed",
   "metadata": {
    "papermill": {
     "duration": 0.010234,
     "end_time": "2024-08-29T20:49:39.978542",
     "exception": false,
     "start_time": "2024-08-29T20:49:39.968308",
     "status": "completed"
    },
    "tags": []
   },
   "source": [
    "## 4e) Evaluate on test set"
   ]
  },
  {
   "cell_type": "code",
   "execution_count": 14,
   "id": "d0ec1897",
   "metadata": {
    "execution": {
     "iopub.execute_input": "2024-08-29T20:49:40.001240Z",
     "iopub.status.busy": "2024-08-29T20:49:40.000356Z",
     "iopub.status.idle": "2024-08-29T20:50:36.368349Z",
     "shell.execute_reply": "2024-08-29T20:50:36.367292Z"
    },
    "papermill": {
     "duration": 56.381569,
     "end_time": "2024-08-29T20:50:36.370428",
     "exception": false,
     "start_time": "2024-08-29T20:49:39.988859",
     "status": "completed"
    },
    "tags": []
   },
   "outputs": [
    {
     "data": {
      "text/html": [
       "\n",
       "    <div>\n",
       "      \n",
       "      <progress value='967' max='967' style='width:300px; height:20px; vertical-align: middle;'></progress>\n",
       "      [967/967 00:56]\n",
       "    </div>\n",
       "    "
      ],
      "text/plain": [
       "<IPython.core.display.HTML object>"
      ]
     },
     "metadata": {},
     "output_type": "display_data"
    },
    {
     "name": "stdout",
     "output_type": "stream",
     "text": [
      "{'eval_loss': 2.189265251159668, 'eval_runtime': 56.3622, 'eval_samples_per_second': 274.262, 'eval_steps_per_second': 17.157, 'epoch': 3.0}\n"
     ]
    }
   ],
   "source": [
    "# Evaluate on test set\n",
    "test_results = trainer.evaluate(test_dataset)\n",
    "print(test_results)"
   ]
  },
  {
   "cell_type": "markdown",
   "id": "f746a6e6",
   "metadata": {
    "papermill": {
     "duration": 0.010197,
     "end_time": "2024-08-29T20:50:36.391255",
     "exception": false,
     "start_time": "2024-08-29T20:50:36.381058",
     "status": "completed"
    },
    "tags": []
   },
   "source": [
    "## 5) Save model"
   ]
  },
  {
   "cell_type": "code",
   "execution_count": 15,
   "id": "7fc174f7",
   "metadata": {
    "execution": {
     "iopub.execute_input": "2024-08-29T20:50:36.414086Z",
     "iopub.status.busy": "2024-08-29T20:50:36.413708Z",
     "iopub.status.idle": "2024-08-29T20:50:37.043206Z",
     "shell.execute_reply": "2024-08-29T20:50:37.042243Z"
    },
    "papermill": {
     "duration": 0.643465,
     "end_time": "2024-08-29T20:50:37.045378",
     "exception": false,
     "start_time": "2024-08-29T20:50:36.401913",
     "status": "completed"
    },
    "tags": []
   },
   "outputs": [
    {
     "data": {
      "text/plain": [
       "('./bert-sentiment-letterboxd-classification/tokenizer_config.json',\n",
       " './bert-sentiment-letterboxd-classification/special_tokens_map.json',\n",
       " './bert-sentiment-letterboxd-classification/vocab.txt',\n",
       " './bert-sentiment-letterboxd-classification/added_tokens.json')"
      ]
     },
     "execution_count": 15,
     "metadata": {},
     "output_type": "execute_result"
    }
   ],
   "source": [
    "# Save the model and tokenizer\n",
    "model_path = './bert-sentiment-letterboxd-classification'\n",
    "model.save_pretrained(model_path)\n",
    "tokenizer.save_pretrained(model_path)"
   ]
  },
  {
   "cell_type": "markdown",
   "id": "8980b4dc",
   "metadata": {
    "papermill": {
     "duration": 0.010225,
     "end_time": "2024-08-29T20:50:37.066270",
     "exception": false,
     "start_time": "2024-08-29T20:50:37.056045",
     "status": "completed"
    },
    "tags": []
   },
   "source": [
    "## 6) Do some quick predictions"
   ]
  },
  {
   "cell_type": "code",
   "execution_count": 16,
   "id": "d4234b34",
   "metadata": {
    "execution": {
     "iopub.execute_input": "2024-08-29T20:50:37.088548Z",
     "iopub.status.busy": "2024-08-29T20:50:37.088176Z",
     "iopub.status.idle": "2024-08-29T20:50:37.845818Z",
     "shell.execute_reply": "2024-08-29T20:50:37.844838Z"
    },
    "papermill": {
     "duration": 0.77144,
     "end_time": "2024-08-29T20:50:37.848017",
     "exception": false,
     "start_time": "2024-08-29T20:50:37.076577",
     "status": "completed"
    },
    "tags": []
   },
   "outputs": [
    {
     "name": "stderr",
     "output_type": "stream",
     "text": [
      "/opt/conda/lib/python3.10/site-packages/transformers/tokenization_utils_base.py:1601: FutureWarning: `clean_up_tokenization_spaces` was not set. It will be set to `True` by default. This behavior will be depracted in transformers v4.45, and will be then set to `False` by default. For more details check this issue: https://github.com/huggingface/transformers/issues/31884\n",
      "  warnings.warn(\n"
     ]
    }
   ],
   "source": [
    "from transformers import pipeline\n",
    "\n",
    "# Check if GPU is available and set the device accordingly\n",
    "device = 0 if torch.cuda.is_available() else -1\n",
    "\n",
    "# Load the fine-tuned model\n",
    "model = DistilBertForSequenceClassification.from_pretrained(model_path)\n",
    "\n",
    "# Load the tokenizer\n",
    "tokenizer = DistilBertTokenizer.from_pretrained(\"distilbert-base-uncased-finetuned-sst-2-english\")\n",
    "\n",
    "# Create a prediction pipeline\n",
    "classifier = pipeline('text-classification', model=model, tokenizer=tokenizer, device=device)"
   ]
  },
  {
   "cell_type": "code",
   "execution_count": 17,
   "id": "cd31a091",
   "metadata": {
    "execution": {
     "iopub.execute_input": "2024-08-29T20:50:37.871489Z",
     "iopub.status.busy": "2024-08-29T20:50:37.870615Z",
     "iopub.status.idle": "2024-08-29T20:50:37.879908Z",
     "shell.execute_reply": "2024-08-29T20:50:37.878968Z"
    },
    "papermill": {
     "duration": 0.023065,
     "end_time": "2024-08-29T20:50:37.881878",
     "exception": false,
     "start_time": "2024-08-29T20:50:37.858813",
     "status": "completed"
    },
    "tags": []
   },
   "outputs": [],
   "source": [
    "def convert_label_to_stars(label):\n",
    "    \"\"\"\n",
    "    Convert label to a star rating in text format.\n",
    "    \n",
    "    Parameters:\n",
    "    - label (str): Model label (e.g., 'LABEL_0' to 'LABEL_9')\n",
    "    \n",
    "    Returns:\n",
    "    - str: Star rating in text format (e.g., '★', '★★★½')\n",
    "    \"\"\"\n",
    "    label_to_stars = {\n",
    "        'LABEL_0': '½',\n",
    "        'LABEL_1': '★',\n",
    "        'LABEL_2': '★½',\n",
    "        'LABEL_3': '★★',\n",
    "        'LABEL_4': '★★½',\n",
    "        'LABEL_5': '★★★',\n",
    "        'LABEL_6': '★★★½',\n",
    "        'LABEL_7': '★★★★',\n",
    "        'LABEL_8': '★★★★½',\n",
    "        'LABEL_9': '★★★★★'\n",
    "    }\n",
    "    return label_to_stars.get(label, 'Unknown')\n",
    "\n",
    "\n",
    "def normalize_rating(star_rating):\n",
    "    \"\"\"\n",
    "    Convert star rating in text format to a normalized rating score.\n",
    "    \n",
    "    Parameters:\n",
    "    - star_rating (str): Star rating in text format (e.g., '★★★★½')\n",
    "    \n",
    "    Returns:\n",
    "    - float: Normalized rating score.\n",
    "    \"\"\"\n",
    "    rating_map = {'★': 1, '½': 0.5}\n",
    "    return sum(rating_map[char] for char in star_rating if char in rating_map)\n",
    "\n",
    "def predict_rating_from_review(review_text):\n",
    "    prediction = classifier(review_text)\n",
    "\n",
    "    # Convert the prediction to star rating and get confidence score\n",
    "    predicted_label = prediction[0]['label']\n",
    "    confidence_score = prediction[0]['score']\n",
    "    star_rating_text = convert_label_to_stars(predicted_label)\n",
    "    star_rating = normalize_rating(star_rating_text)\n",
    "\n",
    "    # Output the star rating and confidence score\n",
    "    print(f\"Predicted Rating: {star_rating_text} ({star_rating} stars)\")\n",
    "    print(f\"Confidence Score: {confidence_score:.2f}\")\n",
    "    \n",
    "    return {'star_rating': star_rating, 'star_rating_text': star_rating_text,  'confidence_score': confidence_score }\n",
    "    "
   ]
  },
  {
   "cell_type": "code",
   "execution_count": 18,
   "id": "4fa29f66",
   "metadata": {
    "execution": {
     "iopub.execute_input": "2024-08-29T20:50:37.905025Z",
     "iopub.status.busy": "2024-08-29T20:50:37.904640Z",
     "iopub.status.idle": "2024-08-29T20:50:37.933277Z",
     "shell.execute_reply": "2024-08-29T20:50:37.932284Z"
    },
    "papermill": {
     "duration": 0.042604,
     "end_time": "2024-08-29T20:50:37.935237",
     "exception": false,
     "start_time": "2024-08-29T20:50:37.892633",
     "status": "completed"
    },
    "tags": []
   },
   "outputs": [
    {
     "name": "stdout",
     "output_type": "stream",
     "text": [
      "Predicted Rating: ★★★★★ (5 stars)\n",
      "Confidence Score: 0.91\n"
     ]
    },
    {
     "data": {
      "text/plain": [
       "{'star_rating': 5,\n",
       " 'star_rating_text': '★★★★★',\n",
       " 'confidence_score': 0.9135494232177734}"
      ]
     },
     "execution_count": 18,
     "metadata": {},
     "output_type": "execute_result"
    }
   ],
   "source": [
    "# Example prediction\n",
    "predict_rating_from_review(\"Best movie ever!\")"
   ]
  },
  {
   "cell_type": "code",
   "execution_count": 19,
   "id": "c73ebe61",
   "metadata": {
    "execution": {
     "iopub.execute_input": "2024-08-29T20:50:37.958930Z",
     "iopub.status.busy": "2024-08-29T20:50:37.958083Z",
     "iopub.status.idle": "2024-08-29T20:50:37.972454Z",
     "shell.execute_reply": "2024-08-29T20:50:37.971465Z"
    },
    "papermill": {
     "duration": 0.028303,
     "end_time": "2024-08-29T20:50:37.974429",
     "exception": false,
     "start_time": "2024-08-29T20:50:37.946126",
     "status": "completed"
    },
    "tags": []
   },
   "outputs": [
    {
     "name": "stdout",
     "output_type": "stream",
     "text": [
      "Predicted Rating: ★★½ (2.5 stars)\n",
      "Confidence Score: 0.57\n"
     ]
    },
    {
     "data": {
      "text/plain": [
       "{'star_rating': 2.5,\n",
       " 'star_rating_text': '★★½',\n",
       " 'confidence_score': 0.5710189342498779}"
      ]
     },
     "execution_count": 19,
     "metadata": {},
     "output_type": "execute_result"
    }
   ],
   "source": [
    "predict_rating_from_review(\"Okay movie, not my favourite!\")"
   ]
  },
  {
   "cell_type": "code",
   "execution_count": 20,
   "id": "fdf5bc3b",
   "metadata": {
    "execution": {
     "iopub.execute_input": "2024-08-29T20:50:37.998754Z",
     "iopub.status.busy": "2024-08-29T20:50:37.998015Z",
     "iopub.status.idle": "2024-08-29T20:50:38.012591Z",
     "shell.execute_reply": "2024-08-29T20:50:38.011693Z"
    },
    "papermill": {
     "duration": 0.028864,
     "end_time": "2024-08-29T20:50:38.014671",
     "exception": false,
     "start_time": "2024-08-29T20:50:37.985807",
     "status": "completed"
    },
    "tags": []
   },
   "outputs": [
    {
     "name": "stdout",
     "output_type": "stream",
     "text": [
      "Predicted Rating: ½ (0.5 stars)\n",
      "Confidence Score: 0.99\n"
     ]
    },
    {
     "data": {
      "text/plain": [
       "{'star_rating': 0.5,\n",
       " 'star_rating_text': '½',\n",
       " 'confidence_score': 0.9918176531791687}"
      ]
     },
     "execution_count": 20,
     "metadata": {},
     "output_type": "execute_result"
    }
   ],
   "source": [
    "predict_rating_from_review(\"Worst movie ever!\")"
   ]
  }
 ],
 "metadata": {
  "kaggle": {
   "accelerator": "none",
   "dataSources": [
    {
     "datasetId": 5581345,
     "sourceId": 9267593,
     "sourceType": "datasetVersion"
    },
    {
     "sourceId": 194474283,
     "sourceType": "kernelVersion"
    }
   ],
   "dockerImageVersionId": 30761,
   "isGpuEnabled": false,
   "isInternetEnabled": true,
   "language": "python",
   "sourceType": "notebook"
  },
  "kernelspec": {
   "display_name": "Python 3",
   "language": "python",
   "name": "python3"
  },
  "language_info": {
   "codemirror_mode": {
    "name": "ipython",
    "version": 3
   },
   "file_extension": ".py",
   "mimetype": "text/x-python",
   "name": "python",
   "nbconvert_exporter": "python",
   "pygments_lexer": "ipython3",
   "version": "3.10.14"
  },
  "papermill": {
   "default_parameters": {},
   "duration": 1447.336675,
   "end_time": "2024-08-29T20:50:41.626465",
   "environment_variables": {},
   "exception": null,
   "input_path": "__notebook__.ipynb",
   "output_path": "__notebook__.ipynb",
   "parameters": {},
   "start_time": "2024-08-29T20:26:34.289790",
   "version": "2.6.0"
  },
  "widgets": {
   "application/vnd.jupyter.widget-state+json": {
    "state": {
     "108d2cbff9ec444fa8b80eda12ba5291": {
      "model_module": "@jupyter-widgets/controls",
      "model_module_version": "1.5.0",
      "model_name": "ProgressStyleModel",
      "state": {
       "_model_module": "@jupyter-widgets/controls",
       "_model_module_version": "1.5.0",
       "_model_name": "ProgressStyleModel",
       "_view_count": null,
       "_view_module": "@jupyter-widgets/base",
       "_view_module_version": "1.2.0",
       "_view_name": "StyleView",
       "bar_color": null,
       "description_width": ""
      }
     },
     "1320ddb0e7374b518525a82caf96b59c": {
      "model_module": "@jupyter-widgets/base",
      "model_module_version": "1.2.0",
      "model_name": "LayoutModel",
      "state": {
       "_model_module": "@jupyter-widgets/base",
       "_model_module_version": "1.2.0",
       "_model_name": "LayoutModel",
       "_view_count": null,
       "_view_module": "@jupyter-widgets/base",
       "_view_module_version": "1.2.0",
       "_view_name": "LayoutView",
       "align_content": null,
       "align_items": null,
       "align_self": null,
       "border": null,
       "bottom": null,
       "display": null,
       "flex": null,
       "flex_flow": null,
       "grid_area": null,
       "grid_auto_columns": null,
       "grid_auto_flow": null,
       "grid_auto_rows": null,
       "grid_column": null,
       "grid_gap": null,
       "grid_row": null,
       "grid_template_areas": null,
       "grid_template_columns": null,
       "grid_template_rows": null,
       "height": null,
       "justify_content": null,
       "justify_items": null,
       "left": null,
       "margin": null,
       "max_height": null,
       "max_width": null,
       "min_height": null,
       "min_width": null,
       "object_fit": null,
       "object_position": null,
       "order": null,
       "overflow": null,
       "overflow_x": null,
       "overflow_y": null,
       "padding": null,
       "right": null,
       "top": null,
       "visibility": null,
       "width": null
      }
     },
     "151f34bbb7f44fff98a14ef23196373f": {
      "model_module": "@jupyter-widgets/controls",
      "model_module_version": "1.5.0",
      "model_name": "HTMLModel",
      "state": {
       "_dom_classes": [],
       "_model_module": "@jupyter-widgets/controls",
       "_model_module_version": "1.5.0",
       "_model_name": "HTMLModel",
       "_view_count": null,
       "_view_module": "@jupyter-widgets/controls",
       "_view_module_version": "1.5.0",
       "_view_name": "HTMLView",
       "description": "",
       "description_tooltip": null,
       "layout": "IPY_MODEL_7ede73e295044219b217fed45ecd800e",
       "placeholder": "​",
       "style": "IPY_MODEL_65cd164c3d51445f8d57722b1aa33f62",
       "value": "tokenizer_config.json: 100%"
      }
     },
     "205a6e6c6d6c4e738b6bd9c7f608e40a": {
      "model_module": "@jupyter-widgets/controls",
      "model_module_version": "1.5.0",
      "model_name": "HBoxModel",
      "state": {
       "_dom_classes": [],
       "_model_module": "@jupyter-widgets/controls",
       "_model_module_version": "1.5.0",
       "_model_name": "HBoxModel",
       "_view_count": null,
       "_view_module": "@jupyter-widgets/controls",
       "_view_module_version": "1.5.0",
       "_view_name": "HBoxView",
       "box_style": "",
       "children": [
        "IPY_MODEL_c544c7380b104e94a58d5692ecb1ff10",
        "IPY_MODEL_67277a2333544ef78deb139e0c2a6142",
        "IPY_MODEL_75652dd1a661461b9ffff1e9ab995ff4"
       ],
       "layout": "IPY_MODEL_6c695528fb2a439d86bc9cd0e23582a4"
      }
     },
     "2440ebc0fca44e7aa1405e8d03f9a45b": {
      "model_module": "@jupyter-widgets/controls",
      "model_module_version": "1.5.0",
      "model_name": "DescriptionStyleModel",
      "state": {
       "_model_module": "@jupyter-widgets/controls",
       "_model_module_version": "1.5.0",
       "_model_name": "DescriptionStyleModel",
       "_view_count": null,
       "_view_module": "@jupyter-widgets/base",
       "_view_module_version": "1.2.0",
       "_view_name": "StyleView",
       "description_width": ""
      }
     },
     "244debe8bb664e8aae6e2bd548d92dc5": {
      "model_module": "@jupyter-widgets/controls",
      "model_module_version": "1.5.0",
      "model_name": "DescriptionStyleModel",
      "state": {
       "_model_module": "@jupyter-widgets/controls",
       "_model_module_version": "1.5.0",
       "_model_name": "DescriptionStyleModel",
       "_view_count": null,
       "_view_module": "@jupyter-widgets/base",
       "_view_module_version": "1.2.0",
       "_view_name": "StyleView",
       "description_width": ""
      }
     },
     "283a53c16d204fc1b55eef2d4ad3a13e": {
      "model_module": "@jupyter-widgets/controls",
      "model_module_version": "1.5.0",
      "model_name": "HTMLModel",
      "state": {
       "_dom_classes": [],
       "_model_module": "@jupyter-widgets/controls",
       "_model_module_version": "1.5.0",
       "_model_name": "HTMLModel",
       "_view_count": null,
       "_view_module": "@jupyter-widgets/controls",
       "_view_module_version": "1.5.0",
       "_view_name": "HTMLView",
       "description": "",
       "description_tooltip": null,
       "layout": "IPY_MODEL_a7a5d4c9d3874f21b948642ea482613f",
       "placeholder": "​",
       "style": "IPY_MODEL_d40078c6061e4e649e349b30406d5cbf",
       "value": " 48.0/48.0 [00:00&lt;00:00, 3.83kB/s]"
      }
     },
     "2ba6a17a242d49fdb2adde180a075eb1": {
      "model_module": "@jupyter-widgets/base",
      "model_module_version": "1.2.0",
      "model_name": "LayoutModel",
      "state": {
       "_model_module": "@jupyter-widgets/base",
       "_model_module_version": "1.2.0",
       "_model_name": "LayoutModel",
       "_view_count": null,
       "_view_module": "@jupyter-widgets/base",
       "_view_module_version": "1.2.0",
       "_view_name": "LayoutView",
       "align_content": null,
       "align_items": null,
       "align_self": null,
       "border": null,
       "bottom": null,
       "display": null,
       "flex": null,
       "flex_flow": null,
       "grid_area": null,
       "grid_auto_columns": null,
       "grid_auto_flow": null,
       "grid_auto_rows": null,
       "grid_column": null,
       "grid_gap": null,
       "grid_row": null,
       "grid_template_areas": null,
       "grid_template_columns": null,
       "grid_template_rows": null,
       "height": null,
       "justify_content": null,
       "justify_items": null,
       "left": null,
       "margin": null,
       "max_height": null,
       "max_width": null,
       "min_height": null,
       "min_width": null,
       "object_fit": null,
       "object_position": null,
       "order": null,
       "overflow": null,
       "overflow_x": null,
       "overflow_y": null,
       "padding": null,
       "right": null,
       "top": null,
       "visibility": null,
       "width": null
      }
     },
     "2f7922af2bc2443bbf6853e13e515285": {
      "model_module": "@jupyter-widgets/controls",
      "model_module_version": "1.5.0",
      "model_name": "DescriptionStyleModel",
      "state": {
       "_model_module": "@jupyter-widgets/controls",
       "_model_module_version": "1.5.0",
       "_model_name": "DescriptionStyleModel",
       "_view_count": null,
       "_view_module": "@jupyter-widgets/base",
       "_view_module_version": "1.2.0",
       "_view_name": "StyleView",
       "description_width": ""
      }
     },
     "2fad963b17534f5ead944bde5d262e0d": {
      "model_module": "@jupyter-widgets/controls",
      "model_module_version": "1.5.0",
      "model_name": "HTMLModel",
      "state": {
       "_dom_classes": [],
       "_model_module": "@jupyter-widgets/controls",
       "_model_module_version": "1.5.0",
       "_model_name": "HTMLModel",
       "_view_count": null,
       "_view_module": "@jupyter-widgets/controls",
       "_view_module_version": "1.5.0",
       "_view_name": "HTMLView",
       "description": "",
       "description_tooltip": null,
       "layout": "IPY_MODEL_d82509446a8d4dcb88661209549dd870",
       "placeholder": "​",
       "style": "IPY_MODEL_2440ebc0fca44e7aa1405e8d03f9a45b",
       "value": " 232k/232k [00:00&lt;00:00, 12.0MB/s]"
      }
     },
     "300b98e311024e89bdd1886e757e65b5": {
      "model_module": "@jupyter-widgets/controls",
      "model_module_version": "1.5.0",
      "model_name": "HBoxModel",
      "state": {
       "_dom_classes": [],
       "_model_module": "@jupyter-widgets/controls",
       "_model_module_version": "1.5.0",
       "_model_name": "HBoxModel",
       "_view_count": null,
       "_view_module": "@jupyter-widgets/controls",
       "_view_module_version": "1.5.0",
       "_view_name": "HBoxView",
       "box_style": "",
       "children": [
        "IPY_MODEL_151f34bbb7f44fff98a14ef23196373f",
        "IPY_MODEL_e1ee72f6345c43ffb9bfe6f06358bb9f",
        "IPY_MODEL_283a53c16d204fc1b55eef2d4ad3a13e"
       ],
       "layout": "IPY_MODEL_af411cc8d31e454c9acee13d9835abc8"
      }
     },
     "404c52a6b67545ccbb7afd042a6b7583": {
      "model_module": "@jupyter-widgets/controls",
      "model_module_version": "1.5.0",
      "model_name": "HTMLModel",
      "state": {
       "_dom_classes": [],
       "_model_module": "@jupyter-widgets/controls",
       "_model_module_version": "1.5.0",
       "_model_name": "HTMLModel",
       "_view_count": null,
       "_view_module": "@jupyter-widgets/controls",
       "_view_module_version": "1.5.0",
       "_view_name": "HTMLView",
       "description": "",
       "description_tooltip": null,
       "layout": "IPY_MODEL_7fbff024113748f4bc97643e8a9f131a",
       "placeholder": "​",
       "style": "IPY_MODEL_fce92aa1a4a449208a4c31f087f450b5",
       "value": "config.json: 100%"
      }
     },
     "47eb71734a8e4c558261709fd25c3e2e": {
      "model_module": "@jupyter-widgets/controls",
      "model_module_version": "1.5.0",
      "model_name": "HTMLModel",
      "state": {
       "_dom_classes": [],
       "_model_module": "@jupyter-widgets/controls",
       "_model_module_version": "1.5.0",
       "_model_name": "HTMLModel",
       "_view_count": null,
       "_view_module": "@jupyter-widgets/controls",
       "_view_module_version": "1.5.0",
       "_view_name": "HTMLView",
       "description": "",
       "description_tooltip": null,
       "layout": "IPY_MODEL_2ba6a17a242d49fdb2adde180a075eb1",
       "placeholder": "​",
       "style": "IPY_MODEL_fc76ca3e85844142a36d905190825f7d",
       "value": "vocab.txt: 100%"
      }
     },
     "5441a5ded2cf4fc797997d45f623a972": {
      "model_module": "@jupyter-widgets/base",
      "model_module_version": "1.2.0",
      "model_name": "LayoutModel",
      "state": {
       "_model_module": "@jupyter-widgets/base",
       "_model_module_version": "1.2.0",
       "_model_name": "LayoutModel",
       "_view_count": null,
       "_view_module": "@jupyter-widgets/base",
       "_view_module_version": "1.2.0",
       "_view_name": "LayoutView",
       "align_content": null,
       "align_items": null,
       "align_self": null,
       "border": null,
       "bottom": null,
       "display": null,
       "flex": null,
       "flex_flow": null,
       "grid_area": null,
       "grid_auto_columns": null,
       "grid_auto_flow": null,
       "grid_auto_rows": null,
       "grid_column": null,
       "grid_gap": null,
       "grid_row": null,
       "grid_template_areas": null,
       "grid_template_columns": null,
       "grid_template_rows": null,
       "height": null,
       "justify_content": null,
       "justify_items": null,
       "left": null,
       "margin": null,
       "max_height": null,
       "max_width": null,
       "min_height": null,
       "min_width": null,
       "object_fit": null,
       "object_position": null,
       "order": null,
       "overflow": null,
       "overflow_x": null,
       "overflow_y": null,
       "padding": null,
       "right": null,
       "top": null,
       "visibility": null,
       "width": null
      }
     },
     "5b54f1ce5cab440da1fbf3d5acc7b381": {
      "model_module": "@jupyter-widgets/base",
      "model_module_version": "1.2.0",
      "model_name": "LayoutModel",
      "state": {
       "_model_module": "@jupyter-widgets/base",
       "_model_module_version": "1.2.0",
       "_model_name": "LayoutModel",
       "_view_count": null,
       "_view_module": "@jupyter-widgets/base",
       "_view_module_version": "1.2.0",
       "_view_name": "LayoutView",
       "align_content": null,
       "align_items": null,
       "align_self": null,
       "border": null,
       "bottom": null,
       "display": null,
       "flex": null,
       "flex_flow": null,
       "grid_area": null,
       "grid_auto_columns": null,
       "grid_auto_flow": null,
       "grid_auto_rows": null,
       "grid_column": null,
       "grid_gap": null,
       "grid_row": null,
       "grid_template_areas": null,
       "grid_template_columns": null,
       "grid_template_rows": null,
       "height": null,
       "justify_content": null,
       "justify_items": null,
       "left": null,
       "margin": null,
       "max_height": null,
       "max_width": null,
       "min_height": null,
       "min_width": null,
       "object_fit": null,
       "object_position": null,
       "order": null,
       "overflow": null,
       "overflow_x": null,
       "overflow_y": null,
       "padding": null,
       "right": null,
       "top": null,
       "visibility": null,
       "width": null
      }
     },
     "65cd164c3d51445f8d57722b1aa33f62": {
      "model_module": "@jupyter-widgets/controls",
      "model_module_version": "1.5.0",
      "model_name": "DescriptionStyleModel",
      "state": {
       "_model_module": "@jupyter-widgets/controls",
       "_model_module_version": "1.5.0",
       "_model_name": "DescriptionStyleModel",
       "_view_count": null,
       "_view_module": "@jupyter-widgets/base",
       "_view_module_version": "1.2.0",
       "_view_name": "StyleView",
       "description_width": ""
      }
     },
     "67277a2333544ef78deb139e0c2a6142": {
      "model_module": "@jupyter-widgets/controls",
      "model_module_version": "1.5.0",
      "model_name": "FloatProgressModel",
      "state": {
       "_dom_classes": [],
       "_model_module": "@jupyter-widgets/controls",
       "_model_module_version": "1.5.0",
       "_model_name": "FloatProgressModel",
       "_view_count": null,
       "_view_module": "@jupyter-widgets/controls",
       "_view_module_version": "1.5.0",
       "_view_name": "ProgressView",
       "bar_style": "success",
       "description": "",
       "description_tooltip": null,
       "layout": "IPY_MODEL_7550c2cd10e743538a35a2cd4fd12836",
       "max": 267832558.0,
       "min": 0.0,
       "orientation": "horizontal",
       "style": "IPY_MODEL_108d2cbff9ec444fa8b80eda12ba5291",
       "value": 267832558.0
      }
     },
     "6c695528fb2a439d86bc9cd0e23582a4": {
      "model_module": "@jupyter-widgets/base",
      "model_module_version": "1.2.0",
      "model_name": "LayoutModel",
      "state": {
       "_model_module": "@jupyter-widgets/base",
       "_model_module_version": "1.2.0",
       "_model_name": "LayoutModel",
       "_view_count": null,
       "_view_module": "@jupyter-widgets/base",
       "_view_module_version": "1.2.0",
       "_view_name": "LayoutView",
       "align_content": null,
       "align_items": null,
       "align_self": null,
       "border": null,
       "bottom": null,
       "display": null,
       "flex": null,
       "flex_flow": null,
       "grid_area": null,
       "grid_auto_columns": null,
       "grid_auto_flow": null,
       "grid_auto_rows": null,
       "grid_column": null,
       "grid_gap": null,
       "grid_row": null,
       "grid_template_areas": null,
       "grid_template_columns": null,
       "grid_template_rows": null,
       "height": null,
       "justify_content": null,
       "justify_items": null,
       "left": null,
       "margin": null,
       "max_height": null,
       "max_width": null,
       "min_height": null,
       "min_width": null,
       "object_fit": null,
       "object_position": null,
       "order": null,
       "overflow": null,
       "overflow_x": null,
       "overflow_y": null,
       "padding": null,
       "right": null,
       "top": null,
       "visibility": null,
       "width": null
      }
     },
     "6fa798894e1249edadd3dc22bce2eac6": {
      "model_module": "@jupyter-widgets/base",
      "model_module_version": "1.2.0",
      "model_name": "LayoutModel",
      "state": {
       "_model_module": "@jupyter-widgets/base",
       "_model_module_version": "1.2.0",
       "_model_name": "LayoutModel",
       "_view_count": null,
       "_view_module": "@jupyter-widgets/base",
       "_view_module_version": "1.2.0",
       "_view_name": "LayoutView",
       "align_content": null,
       "align_items": null,
       "align_self": null,
       "border": null,
       "bottom": null,
       "display": null,
       "flex": null,
       "flex_flow": null,
       "grid_area": null,
       "grid_auto_columns": null,
       "grid_auto_flow": null,
       "grid_auto_rows": null,
       "grid_column": null,
       "grid_gap": null,
       "grid_row": null,
       "grid_template_areas": null,
       "grid_template_columns": null,
       "grid_template_rows": null,
       "height": null,
       "justify_content": null,
       "justify_items": null,
       "left": null,
       "margin": null,
       "max_height": null,
       "max_width": null,
       "min_height": null,
       "min_width": null,
       "object_fit": null,
       "object_position": null,
       "order": null,
       "overflow": null,
       "overflow_x": null,
       "overflow_y": null,
       "padding": null,
       "right": null,
       "top": null,
       "visibility": null,
       "width": null
      }
     },
     "7550c2cd10e743538a35a2cd4fd12836": {
      "model_module": "@jupyter-widgets/base",
      "model_module_version": "1.2.0",
      "model_name": "LayoutModel",
      "state": {
       "_model_module": "@jupyter-widgets/base",
       "_model_module_version": "1.2.0",
       "_model_name": "LayoutModel",
       "_view_count": null,
       "_view_module": "@jupyter-widgets/base",
       "_view_module_version": "1.2.0",
       "_view_name": "LayoutView",
       "align_content": null,
       "align_items": null,
       "align_self": null,
       "border": null,
       "bottom": null,
       "display": null,
       "flex": null,
       "flex_flow": null,
       "grid_area": null,
       "grid_auto_columns": null,
       "grid_auto_flow": null,
       "grid_auto_rows": null,
       "grid_column": null,
       "grid_gap": null,
       "grid_row": null,
       "grid_template_areas": null,
       "grid_template_columns": null,
       "grid_template_rows": null,
       "height": null,
       "justify_content": null,
       "justify_items": null,
       "left": null,
       "margin": null,
       "max_height": null,
       "max_width": null,
       "min_height": null,
       "min_width": null,
       "object_fit": null,
       "object_position": null,
       "order": null,
       "overflow": null,
       "overflow_x": null,
       "overflow_y": null,
       "padding": null,
       "right": null,
       "top": null,
       "visibility": null,
       "width": null
      }
     },
     "75652dd1a661461b9ffff1e9ab995ff4": {
      "model_module": "@jupyter-widgets/controls",
      "model_module_version": "1.5.0",
      "model_name": "HTMLModel",
      "state": {
       "_dom_classes": [],
       "_model_module": "@jupyter-widgets/controls",
       "_model_module_version": "1.5.0",
       "_model_name": "HTMLModel",
       "_view_count": null,
       "_view_module": "@jupyter-widgets/controls",
       "_view_module_version": "1.5.0",
       "_view_name": "HTMLView",
       "description": "",
       "description_tooltip": null,
       "layout": "IPY_MODEL_e24398d4b29c411d8d4bad525235708c",
       "placeholder": "​",
       "style": "IPY_MODEL_244debe8bb664e8aae6e2bd548d92dc5",
       "value": " 268M/268M [00:07&lt;00:00, 42.3MB/s]"
      }
     },
     "7ede73e295044219b217fed45ecd800e": {
      "model_module": "@jupyter-widgets/base",
      "model_module_version": "1.2.0",
      "model_name": "LayoutModel",
      "state": {
       "_model_module": "@jupyter-widgets/base",
       "_model_module_version": "1.2.0",
       "_model_name": "LayoutModel",
       "_view_count": null,
       "_view_module": "@jupyter-widgets/base",
       "_view_module_version": "1.2.0",
       "_view_name": "LayoutView",
       "align_content": null,
       "align_items": null,
       "align_self": null,
       "border": null,
       "bottom": null,
       "display": null,
       "flex": null,
       "flex_flow": null,
       "grid_area": null,
       "grid_auto_columns": null,
       "grid_auto_flow": null,
       "grid_auto_rows": null,
       "grid_column": null,
       "grid_gap": null,
       "grid_row": null,
       "grid_template_areas": null,
       "grid_template_columns": null,
       "grid_template_rows": null,
       "height": null,
       "justify_content": null,
       "justify_items": null,
       "left": null,
       "margin": null,
       "max_height": null,
       "max_width": null,
       "min_height": null,
       "min_width": null,
       "object_fit": null,
       "object_position": null,
       "order": null,
       "overflow": null,
       "overflow_x": null,
       "overflow_y": null,
       "padding": null,
       "right": null,
       "top": null,
       "visibility": null,
       "width": null
      }
     },
     "7fbff024113748f4bc97643e8a9f131a": {
      "model_module": "@jupyter-widgets/base",
      "model_module_version": "1.2.0",
      "model_name": "LayoutModel",
      "state": {
       "_model_module": "@jupyter-widgets/base",
       "_model_module_version": "1.2.0",
       "_model_name": "LayoutModel",
       "_view_count": null,
       "_view_module": "@jupyter-widgets/base",
       "_view_module_version": "1.2.0",
       "_view_name": "LayoutView",
       "align_content": null,
       "align_items": null,
       "align_self": null,
       "border": null,
       "bottom": null,
       "display": null,
       "flex": null,
       "flex_flow": null,
       "grid_area": null,
       "grid_auto_columns": null,
       "grid_auto_flow": null,
       "grid_auto_rows": null,
       "grid_column": null,
       "grid_gap": null,
       "grid_row": null,
       "grid_template_areas": null,
       "grid_template_columns": null,
       "grid_template_rows": null,
       "height": null,
       "justify_content": null,
       "justify_items": null,
       "left": null,
       "margin": null,
       "max_height": null,
       "max_width": null,
       "min_height": null,
       "min_width": null,
       "object_fit": null,
       "object_position": null,
       "order": null,
       "overflow": null,
       "overflow_x": null,
       "overflow_y": null,
       "padding": null,
       "right": null,
       "top": null,
       "visibility": null,
       "width": null
      }
     },
     "93bf2de94e6f4b8eb4ed5f36bbda5d77": {
      "model_module": "@jupyter-widgets/controls",
      "model_module_version": "1.5.0",
      "model_name": "ProgressStyleModel",
      "state": {
       "_model_module": "@jupyter-widgets/controls",
       "_model_module_version": "1.5.0",
       "_model_name": "ProgressStyleModel",
       "_view_count": null,
       "_view_module": "@jupyter-widgets/base",
       "_view_module_version": "1.2.0",
       "_view_name": "StyleView",
       "bar_color": null,
       "description_width": ""
      }
     },
     "a038f6b4df3f41aaa80da234fc064ce9": {
      "model_module": "@jupyter-widgets/base",
      "model_module_version": "1.2.0",
      "model_name": "LayoutModel",
      "state": {
       "_model_module": "@jupyter-widgets/base",
       "_model_module_version": "1.2.0",
       "_model_name": "LayoutModel",
       "_view_count": null,
       "_view_module": "@jupyter-widgets/base",
       "_view_module_version": "1.2.0",
       "_view_name": "LayoutView",
       "align_content": null,
       "align_items": null,
       "align_self": null,
       "border": null,
       "bottom": null,
       "display": null,
       "flex": null,
       "flex_flow": null,
       "grid_area": null,
       "grid_auto_columns": null,
       "grid_auto_flow": null,
       "grid_auto_rows": null,
       "grid_column": null,
       "grid_gap": null,
       "grid_row": null,
       "grid_template_areas": null,
       "grid_template_columns": null,
       "grid_template_rows": null,
       "height": null,
       "justify_content": null,
       "justify_items": null,
       "left": null,
       "margin": null,
       "max_height": null,
       "max_width": null,
       "min_height": null,
       "min_width": null,
       "object_fit": null,
       "object_position": null,
       "order": null,
       "overflow": null,
       "overflow_x": null,
       "overflow_y": null,
       "padding": null,
       "right": null,
       "top": null,
       "visibility": null,
       "width": null
      }
     },
     "a2fce411b92447978d4a9c245e07254d": {
      "model_module": "@jupyter-widgets/controls",
      "model_module_version": "1.5.0",
      "model_name": "FloatProgressModel",
      "state": {
       "_dom_classes": [],
       "_model_module": "@jupyter-widgets/controls",
       "_model_module_version": "1.5.0",
       "_model_name": "FloatProgressModel",
       "_view_count": null,
       "_view_module": "@jupyter-widgets/controls",
       "_view_module_version": "1.5.0",
       "_view_name": "ProgressView",
       "bar_style": "success",
       "description": "",
       "description_tooltip": null,
       "layout": "IPY_MODEL_6fa798894e1249edadd3dc22bce2eac6",
       "max": 629.0,
       "min": 0.0,
       "orientation": "horizontal",
       "style": "IPY_MODEL_b1df518a7aaf46f593e782c304375609",
       "value": 629.0
      }
     },
     "a4283611cb114f8d8044821b7701c4fd": {
      "model_module": "@jupyter-widgets/controls",
      "model_module_version": "1.5.0",
      "model_name": "DescriptionStyleModel",
      "state": {
       "_model_module": "@jupyter-widgets/controls",
       "_model_module_version": "1.5.0",
       "_model_name": "DescriptionStyleModel",
       "_view_count": null,
       "_view_module": "@jupyter-widgets/base",
       "_view_module_version": "1.2.0",
       "_view_name": "StyleView",
       "description_width": ""
      }
     },
     "a7a5d4c9d3874f21b948642ea482613f": {
      "model_module": "@jupyter-widgets/base",
      "model_module_version": "1.2.0",
      "model_name": "LayoutModel",
      "state": {
       "_model_module": "@jupyter-widgets/base",
       "_model_module_version": "1.2.0",
       "_model_name": "LayoutModel",
       "_view_count": null,
       "_view_module": "@jupyter-widgets/base",
       "_view_module_version": "1.2.0",
       "_view_name": "LayoutView",
       "align_content": null,
       "align_items": null,
       "align_self": null,
       "border": null,
       "bottom": null,
       "display": null,
       "flex": null,
       "flex_flow": null,
       "grid_area": null,
       "grid_auto_columns": null,
       "grid_auto_flow": null,
       "grid_auto_rows": null,
       "grid_column": null,
       "grid_gap": null,
       "grid_row": null,
       "grid_template_areas": null,
       "grid_template_columns": null,
       "grid_template_rows": null,
       "height": null,
       "justify_content": null,
       "justify_items": null,
       "left": null,
       "margin": null,
       "max_height": null,
       "max_width": null,
       "min_height": null,
       "min_width": null,
       "object_fit": null,
       "object_position": null,
       "order": null,
       "overflow": null,
       "overflow_x": null,
       "overflow_y": null,
       "padding": null,
       "right": null,
       "top": null,
       "visibility": null,
       "width": null
      }
     },
     "af411cc8d31e454c9acee13d9835abc8": {
      "model_module": "@jupyter-widgets/base",
      "model_module_version": "1.2.0",
      "model_name": "LayoutModel",
      "state": {
       "_model_module": "@jupyter-widgets/base",
       "_model_module_version": "1.2.0",
       "_model_name": "LayoutModel",
       "_view_count": null,
       "_view_module": "@jupyter-widgets/base",
       "_view_module_version": "1.2.0",
       "_view_name": "LayoutView",
       "align_content": null,
       "align_items": null,
       "align_self": null,
       "border": null,
       "bottom": null,
       "display": null,
       "flex": null,
       "flex_flow": null,
       "grid_area": null,
       "grid_auto_columns": null,
       "grid_auto_flow": null,
       "grid_auto_rows": null,
       "grid_column": null,
       "grid_gap": null,
       "grid_row": null,
       "grid_template_areas": null,
       "grid_template_columns": null,
       "grid_template_rows": null,
       "height": null,
       "justify_content": null,
       "justify_items": null,
       "left": null,
       "margin": null,
       "max_height": null,
       "max_width": null,
       "min_height": null,
       "min_width": null,
       "object_fit": null,
       "object_position": null,
       "order": null,
       "overflow": null,
       "overflow_x": null,
       "overflow_y": null,
       "padding": null,
       "right": null,
       "top": null,
       "visibility": null,
       "width": null
      }
     },
     "b1df518a7aaf46f593e782c304375609": {
      "model_module": "@jupyter-widgets/controls",
      "model_module_version": "1.5.0",
      "model_name": "ProgressStyleModel",
      "state": {
       "_model_module": "@jupyter-widgets/controls",
       "_model_module_version": "1.5.0",
       "_model_name": "ProgressStyleModel",
       "_view_count": null,
       "_view_module": "@jupyter-widgets/base",
       "_view_module_version": "1.2.0",
       "_view_name": "StyleView",
       "bar_color": null,
       "description_width": ""
      }
     },
     "b47ccfaa3dc647a79941c1f200d6b878": {
      "model_module": "@jupyter-widgets/base",
      "model_module_version": "1.2.0",
      "model_name": "LayoutModel",
      "state": {
       "_model_module": "@jupyter-widgets/base",
       "_model_module_version": "1.2.0",
       "_model_name": "LayoutModel",
       "_view_count": null,
       "_view_module": "@jupyter-widgets/base",
       "_view_module_version": "1.2.0",
       "_view_name": "LayoutView",
       "align_content": null,
       "align_items": null,
       "align_self": null,
       "border": null,
       "bottom": null,
       "display": null,
       "flex": null,
       "flex_flow": null,
       "grid_area": null,
       "grid_auto_columns": null,
       "grid_auto_flow": null,
       "grid_auto_rows": null,
       "grid_column": null,
       "grid_gap": null,
       "grid_row": null,
       "grid_template_areas": null,
       "grid_template_columns": null,
       "grid_template_rows": null,
       "height": null,
       "justify_content": null,
       "justify_items": null,
       "left": null,
       "margin": null,
       "max_height": null,
       "max_width": null,
       "min_height": null,
       "min_width": null,
       "object_fit": null,
       "object_position": null,
       "order": null,
       "overflow": null,
       "overflow_x": null,
       "overflow_y": null,
       "padding": null,
       "right": null,
       "top": null,
       "visibility": null,
       "width": null
      }
     },
     "b5841ed920cf42adbb7c72bceea4c669": {
      "model_module": "@jupyter-widgets/controls",
      "model_module_version": "1.5.0",
      "model_name": "FloatProgressModel",
      "state": {
       "_dom_classes": [],
       "_model_module": "@jupyter-widgets/controls",
       "_model_module_version": "1.5.0",
       "_model_name": "FloatProgressModel",
       "_view_count": null,
       "_view_module": "@jupyter-widgets/controls",
       "_view_module_version": "1.5.0",
       "_view_name": "ProgressView",
       "bar_style": "success",
       "description": "",
       "description_tooltip": null,
       "layout": "IPY_MODEL_5441a5ded2cf4fc797997d45f623a972",
       "max": 231508.0,
       "min": 0.0,
       "orientation": "horizontal",
       "style": "IPY_MODEL_93bf2de94e6f4b8eb4ed5f36bbda5d77",
       "value": 231508.0
      }
     },
     "bc24a3c6fb2246f5a10dedc63e0c20c7": {
      "model_module": "@jupyter-widgets/controls",
      "model_module_version": "1.5.0",
      "model_name": "HBoxModel",
      "state": {
       "_dom_classes": [],
       "_model_module": "@jupyter-widgets/controls",
       "_model_module_version": "1.5.0",
       "_model_name": "HBoxModel",
       "_view_count": null,
       "_view_module": "@jupyter-widgets/controls",
       "_view_module_version": "1.5.0",
       "_view_name": "HBoxView",
       "box_style": "",
       "children": [
        "IPY_MODEL_47eb71734a8e4c558261709fd25c3e2e",
        "IPY_MODEL_b5841ed920cf42adbb7c72bceea4c669",
        "IPY_MODEL_2fad963b17534f5ead944bde5d262e0d"
       ],
       "layout": "IPY_MODEL_1320ddb0e7374b518525a82caf96b59c"
      }
     },
     "c544c7380b104e94a58d5692ecb1ff10": {
      "model_module": "@jupyter-widgets/controls",
      "model_module_version": "1.5.0",
      "model_name": "HTMLModel",
      "state": {
       "_dom_classes": [],
       "_model_module": "@jupyter-widgets/controls",
       "_model_module_version": "1.5.0",
       "_model_name": "HTMLModel",
       "_view_count": null,
       "_view_module": "@jupyter-widgets/controls",
       "_view_module_version": "1.5.0",
       "_view_name": "HTMLView",
       "description": "",
       "description_tooltip": null,
       "layout": "IPY_MODEL_b47ccfaa3dc647a79941c1f200d6b878",
       "placeholder": "​",
       "style": "IPY_MODEL_2f7922af2bc2443bbf6853e13e515285",
       "value": "model.safetensors: 100%"
      }
     },
     "c928cf323dc74a61b5d31c1fa94e4ff3": {
      "model_module": "@jupyter-widgets/controls",
      "model_module_version": "1.5.0",
      "model_name": "ProgressStyleModel",
      "state": {
       "_model_module": "@jupyter-widgets/controls",
       "_model_module_version": "1.5.0",
       "_model_name": "ProgressStyleModel",
       "_view_count": null,
       "_view_module": "@jupyter-widgets/base",
       "_view_module_version": "1.2.0",
       "_view_name": "StyleView",
       "bar_color": null,
       "description_width": ""
      }
     },
     "d40078c6061e4e649e349b30406d5cbf": {
      "model_module": "@jupyter-widgets/controls",
      "model_module_version": "1.5.0",
      "model_name": "DescriptionStyleModel",
      "state": {
       "_model_module": "@jupyter-widgets/controls",
       "_model_module_version": "1.5.0",
       "_model_name": "DescriptionStyleModel",
       "_view_count": null,
       "_view_module": "@jupyter-widgets/base",
       "_view_module_version": "1.2.0",
       "_view_name": "StyleView",
       "description_width": ""
      }
     },
     "d82509446a8d4dcb88661209549dd870": {
      "model_module": "@jupyter-widgets/base",
      "model_module_version": "1.2.0",
      "model_name": "LayoutModel",
      "state": {
       "_model_module": "@jupyter-widgets/base",
       "_model_module_version": "1.2.0",
       "_model_name": "LayoutModel",
       "_view_count": null,
       "_view_module": "@jupyter-widgets/base",
       "_view_module_version": "1.2.0",
       "_view_name": "LayoutView",
       "align_content": null,
       "align_items": null,
       "align_self": null,
       "border": null,
       "bottom": null,
       "display": null,
       "flex": null,
       "flex_flow": null,
       "grid_area": null,
       "grid_auto_columns": null,
       "grid_auto_flow": null,
       "grid_auto_rows": null,
       "grid_column": null,
       "grid_gap": null,
       "grid_row": null,
       "grid_template_areas": null,
       "grid_template_columns": null,
       "grid_template_rows": null,
       "height": null,
       "justify_content": null,
       "justify_items": null,
       "left": null,
       "margin": null,
       "max_height": null,
       "max_width": null,
       "min_height": null,
       "min_width": null,
       "object_fit": null,
       "object_position": null,
       "order": null,
       "overflow": null,
       "overflow_x": null,
       "overflow_y": null,
       "padding": null,
       "right": null,
       "top": null,
       "visibility": null,
       "width": null
      }
     },
     "e1ee72f6345c43ffb9bfe6f06358bb9f": {
      "model_module": "@jupyter-widgets/controls",
      "model_module_version": "1.5.0",
      "model_name": "FloatProgressModel",
      "state": {
       "_dom_classes": [],
       "_model_module": "@jupyter-widgets/controls",
       "_model_module_version": "1.5.0",
       "_model_name": "FloatProgressModel",
       "_view_count": null,
       "_view_module": "@jupyter-widgets/controls",
       "_view_module_version": "1.5.0",
       "_view_name": "ProgressView",
       "bar_style": "success",
       "description": "",
       "description_tooltip": null,
       "layout": "IPY_MODEL_5b54f1ce5cab440da1fbf3d5acc7b381",
       "max": 48.0,
       "min": 0.0,
       "orientation": "horizontal",
       "style": "IPY_MODEL_c928cf323dc74a61b5d31c1fa94e4ff3",
       "value": 48.0
      }
     },
     "e24398d4b29c411d8d4bad525235708c": {
      "model_module": "@jupyter-widgets/base",
      "model_module_version": "1.2.0",
      "model_name": "LayoutModel",
      "state": {
       "_model_module": "@jupyter-widgets/base",
       "_model_module_version": "1.2.0",
       "_model_name": "LayoutModel",
       "_view_count": null,
       "_view_module": "@jupyter-widgets/base",
       "_view_module_version": "1.2.0",
       "_view_name": "LayoutView",
       "align_content": null,
       "align_items": null,
       "align_self": null,
       "border": null,
       "bottom": null,
       "display": null,
       "flex": null,
       "flex_flow": null,
       "grid_area": null,
       "grid_auto_columns": null,
       "grid_auto_flow": null,
       "grid_auto_rows": null,
       "grid_column": null,
       "grid_gap": null,
       "grid_row": null,
       "grid_template_areas": null,
       "grid_template_columns": null,
       "grid_template_rows": null,
       "height": null,
       "justify_content": null,
       "justify_items": null,
       "left": null,
       "margin": null,
       "max_height": null,
       "max_width": null,
       "min_height": null,
       "min_width": null,
       "object_fit": null,
       "object_position": null,
       "order": null,
       "overflow": null,
       "overflow_x": null,
       "overflow_y": null,
       "padding": null,
       "right": null,
       "top": null,
       "visibility": null,
       "width": null
      }
     },
     "e989370455b749dba4326f81bf143a97": {
      "model_module": "@jupyter-widgets/base",
      "model_module_version": "1.2.0",
      "model_name": "LayoutModel",
      "state": {
       "_model_module": "@jupyter-widgets/base",
       "_model_module_version": "1.2.0",
       "_model_name": "LayoutModel",
       "_view_count": null,
       "_view_module": "@jupyter-widgets/base",
       "_view_module_version": "1.2.0",
       "_view_name": "LayoutView",
       "align_content": null,
       "align_items": null,
       "align_self": null,
       "border": null,
       "bottom": null,
       "display": null,
       "flex": null,
       "flex_flow": null,
       "grid_area": null,
       "grid_auto_columns": null,
       "grid_auto_flow": null,
       "grid_auto_rows": null,
       "grid_column": null,
       "grid_gap": null,
       "grid_row": null,
       "grid_template_areas": null,
       "grid_template_columns": null,
       "grid_template_rows": null,
       "height": null,
       "justify_content": null,
       "justify_items": null,
       "left": null,
       "margin": null,
       "max_height": null,
       "max_width": null,
       "min_height": null,
       "min_width": null,
       "object_fit": null,
       "object_position": null,
       "order": null,
       "overflow": null,
       "overflow_x": null,
       "overflow_y": null,
       "padding": null,
       "right": null,
       "top": null,
       "visibility": null,
       "width": null
      }
     },
     "f4dc12cdd115430e984c6fbcbd02b7a4": {
      "model_module": "@jupyter-widgets/controls",
      "model_module_version": "1.5.0",
      "model_name": "HBoxModel",
      "state": {
       "_dom_classes": [],
       "_model_module": "@jupyter-widgets/controls",
       "_model_module_version": "1.5.0",
       "_model_name": "HBoxModel",
       "_view_count": null,
       "_view_module": "@jupyter-widgets/controls",
       "_view_module_version": "1.5.0",
       "_view_name": "HBoxView",
       "box_style": "",
       "children": [
        "IPY_MODEL_404c52a6b67545ccbb7afd042a6b7583",
        "IPY_MODEL_a2fce411b92447978d4a9c245e07254d",
        "IPY_MODEL_f9bd1686df414664894e154aeb1b8daf"
       ],
       "layout": "IPY_MODEL_a038f6b4df3f41aaa80da234fc064ce9"
      }
     },
     "f9bd1686df414664894e154aeb1b8daf": {
      "model_module": "@jupyter-widgets/controls",
      "model_module_version": "1.5.0",
      "model_name": "HTMLModel",
      "state": {
       "_dom_classes": [],
       "_model_module": "@jupyter-widgets/controls",
       "_model_module_version": "1.5.0",
       "_model_name": "HTMLModel",
       "_view_count": null,
       "_view_module": "@jupyter-widgets/controls",
       "_view_module_version": "1.5.0",
       "_view_name": "HTMLView",
       "description": "",
       "description_tooltip": null,
       "layout": "IPY_MODEL_e989370455b749dba4326f81bf143a97",
       "placeholder": "​",
       "style": "IPY_MODEL_a4283611cb114f8d8044821b7701c4fd",
       "value": " 629/629 [00:00&lt;00:00, 51.2kB/s]"
      }
     },
     "fc76ca3e85844142a36d905190825f7d": {
      "model_module": "@jupyter-widgets/controls",
      "model_module_version": "1.5.0",
      "model_name": "DescriptionStyleModel",
      "state": {
       "_model_module": "@jupyter-widgets/controls",
       "_model_module_version": "1.5.0",
       "_model_name": "DescriptionStyleModel",
       "_view_count": null,
       "_view_module": "@jupyter-widgets/base",
       "_view_module_version": "1.2.0",
       "_view_name": "StyleView",
       "description_width": ""
      }
     },
     "fce92aa1a4a449208a4c31f087f450b5": {
      "model_module": "@jupyter-widgets/controls",
      "model_module_version": "1.5.0",
      "model_name": "DescriptionStyleModel",
      "state": {
       "_model_module": "@jupyter-widgets/controls",
       "_model_module_version": "1.5.0",
       "_model_name": "DescriptionStyleModel",
       "_view_count": null,
       "_view_module": "@jupyter-widgets/base",
       "_view_module_version": "1.2.0",
       "_view_name": "StyleView",
       "description_width": ""
      }
     }
    },
    "version_major": 2,
    "version_minor": 0
   }
  }
 },
 "nbformat": 4,
 "nbformat_minor": 5
}
