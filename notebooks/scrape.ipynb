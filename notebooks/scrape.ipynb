{
 "cells": [
  {
   "cell_type": "code",
   "execution_count": 19,
   "id": "37cc0e3b-abe1-4b08-b4fd-60daa7a7a048",
   "metadata": {},
   "outputs": [],
   "source": [
    "import requests\n",
    "from bs4 import BeautifulSoup\n",
    "import pandas as pd\n",
    "import numpy as np"
   ]
  },
  {
   "cell_type": "code",
   "execution_count": 11,
   "id": "5b44277e-7af8-40c4-8324-c517cc073e4e",
   "metadata": {},
   "outputs": [],
   "source": [
    "rating_map = {\n",
    "    '★★★★★': 1.0,\n",
    "    '★★★★½': 0.9,\n",
    "    '★★★★': 0.8,\n",
    "    '★★★½': 0.7,\n",
    "    '★★★': 0.6,\n",
    "    '★★½': 0.5,\n",
    "    '★★': 0.4,\n",
    "    '★½': 0.3,\n",
    "    '★': 0.2,\n",
    "    '½': 0.1,\n",
    "}\n",
    "\n",
    "def normalize_rating(star_rating):\n",
    "    return rating_map.get(star_rating, None)"
   ]
  },
  {
   "cell_type": "code",
   "execution_count": 41,
   "id": "1b9edf3e-7921-4cb9-b735-a702be490f77",
   "metadata": {},
   "outputs": [],
   "source": [
    "def scrape_letterboxd_reviews(movie_url, num_reviews):\n",
    "    reviews = []\n",
    "    page = 1\n",
    "    while len(reviews) < num_reviews:        \n",
    "        response = requests.get(f\"{movie_url}/reviews/page/{page}/\")\n",
    "        soup = BeautifulSoup(response.content, 'html.parser')\n",
    "        review_elements = soup.find_all('div', class_='film-detail-content')\n",
    "        \n",
    "        for element in review_elements:\n",
    "            if len(reviews) >= num_reviews:\n",
    "                break\n",
    "            \n",
    "            review_text_element = element.find('div', class_='body-text -prose collapsible-text')\n",
    "            review_text = review_text_element.get_text(strip=True) if review_text_element else None\n",
    "            \n",
    "            rating_element = element.find('span', class_='rating')\n",
    "            star_rating = rating_element.get_text(strip=True) if rating_element else None\n",
    "            \n",
    "            if review_text and star_rating is not None:\n",
    "                reviews.append({'review': review_text, 'rating': normalize_rating(star_rating) })\n",
    "        \n",
    "        page += 1\n",
    "\n",
    "    return pd.DataFrame(reviews)"
   ]
  },
  {
   "cell_type": "code",
   "execution_count": 42,
   "id": "6c7689ef-1a88-47ef-be1e-14e02de83149",
   "metadata": {},
   "outputs": [
    {
     "data": {
      "text/html": [
       "<div>\n",
       "<style scoped>\n",
       "    .dataframe tbody tr th:only-of-type {\n",
       "        vertical-align: middle;\n",
       "    }\n",
       "\n",
       "    .dataframe tbody tr th {\n",
       "        vertical-align: top;\n",
       "    }\n",
       "\n",
       "    .dataframe thead th {\n",
       "        text-align: right;\n",
       "    }\n",
       "</style>\n",
       "<table border=\"1\" class=\"dataframe\">\n",
       "  <thead>\n",
       "    <tr style=\"text-align: right;\">\n",
       "      <th></th>\n",
       "      <th>review</th>\n",
       "      <th>rating</th>\n",
       "    </tr>\n",
       "  </thead>\n",
       "  <tbody>\n",
       "    <tr>\n",
       "      <th>0</th>\n",
       "      <td>If it's not too meta is it even a Deadpool fil...</td>\n",
       "      <td>0.5</td>\n",
       "    </tr>\n",
       "    <tr>\n",
       "      <th>1</th>\n",
       "      <td>Genuinely good fight scenes I know it’s Stefan...</td>\n",
       "      <td>0.7</td>\n",
       "    </tr>\n",
       "    <tr>\n",
       "      <th>2</th>\n",
       "      <td>Ooh I been waiting a long time fo dis</td>\n",
       "      <td>1.0</td>\n",
       "    </tr>\n",
       "    <tr>\n",
       "      <th>3</th>\n",
       "      <td>Very funny. The plot was hard to follow but so...</td>\n",
       "      <td>0.8</td>\n",
       "    </tr>\n",
       "    <tr>\n",
       "      <th>4</th>\n",
       "      <td>who else replayed the end cus of wolverine</td>\n",
       "      <td>0.8</td>\n",
       "    </tr>\n",
       "  </tbody>\n",
       "</table>\n",
       "</div>"
      ],
      "text/plain": [
       "                                              review  rating\n",
       "0  If it's not too meta is it even a Deadpool fil...     0.5\n",
       "1  Genuinely good fight scenes I know it’s Stefan...     0.7\n",
       "2              Ooh I been waiting a long time fo dis     1.0\n",
       "3  Very funny. The plot was hard to follow but so...     0.8\n",
       "4         who else replayed the end cus of wolverine     0.8"
      ]
     },
     "execution_count": 42,
     "metadata": {},
     "output_type": "execute_result"
    }
   ],
   "source": [
    "# Example usage\n",
    "movie_url = 'https://letterboxd.com/film/deadpool-wolverine'  # Replace with actual movie URL\n",
    "num_reviews = 300\n",
    "reviews_df = scrape_letterboxd_reviews(movie_url, num_reviews)\n",
    "#reviews_df.to_csv('data/reviews.csv', index=False)\n",
    "reviews_df.head()"
   ]
  },
  {
   "cell_type": "code",
   "execution_count": 43,
   "id": "02f763a8-071c-4c98-ba67-481a5015a7be",
   "metadata": {},
   "outputs": [
    {
     "data": {
      "text/plain": [
       "array([0.1, 0.2, 0.3, 0.4, 0.5, 0.6, 0.7, 0.8, 0.9, 1. ])"
      ]
     },
     "execution_count": 43,
     "metadata": {},
     "output_type": "execute_result"
    }
   ],
   "source": [
    "np.sort( reviews_df.rating.unique()) # to double check that the rating hashmap working and non nan"
   ]
  },
  {
   "cell_type": "code",
   "execution_count": null,
   "id": "f2f2866c-aded-4579-a069-dba8fad2252d",
   "metadata": {},
   "outputs": [],
   "source": []
  },
  {
   "cell_type": "code",
   "execution_count": null,
   "id": "fa3832b4-9bff-4fa1-abba-d4b6dbbeea9b",
   "metadata": {},
   "outputs": [],
   "source": []
  }
 ],
 "metadata": {
  "kernelspec": {
   "display_name": "Python 3 (ipykernel)",
   "language": "python",
   "name": "python3"
  },
  "language_info": {
   "codemirror_mode": {
    "name": "ipython",
    "version": 3
   },
   "file_extension": ".py",
   "mimetype": "text/x-python",
   "name": "python",
   "nbconvert_exporter": "python",
   "pygments_lexer": "ipython3",
   "version": "3.11.6"
  }
 },
 "nbformat": 4,
 "nbformat_minor": 5
}
