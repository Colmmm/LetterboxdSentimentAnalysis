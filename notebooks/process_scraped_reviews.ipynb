{
 "cells": [
  {
   "cell_type": "markdown",
   "id": "6256f072",
   "metadata": {
    "papermill": {
     "duration": 0.003251,
     "end_time": "2024-08-28T20:34:00.595438",
     "exception": false,
     "start_time": "2024-08-28T20:34:00.592187",
     "status": "completed"
    },
    "tags": []
   },
   "source": [
    "## 1) Read in data"
   ]
  },
  {
   "cell_type": "code",
   "execution_count": 1,
   "id": "23eb3583",
   "metadata": {
    "execution": {
     "iopub.execute_input": "2024-08-28T20:34:00.602909Z",
     "iopub.status.busy": "2024-08-28T20:34:00.602364Z",
     "iopub.status.idle": "2024-08-28T20:34:04.660123Z",
     "shell.execute_reply": "2024-08-28T20:34:04.658810Z"
    },
    "papermill": {
     "duration": 4.064296,
     "end_time": "2024-08-28T20:34:04.662489",
     "exception": false,
     "start_time": "2024-08-28T20:34:00.598193",
     "status": "completed"
    },
    "tags": []
   },
   "outputs": [
    {
     "name": "stdout",
     "output_type": "stream",
     "text": [
      "(98834, 7) (50000, 7) (48834, 7)\n"
     ]
    },
    {
     "data": {
      "text/html": [
       "<div>\n",
       "<style scoped>\n",
       "    .dataframe tbody tr th:only-of-type {\n",
       "        vertical-align: middle;\n",
       "    }\n",
       "\n",
       "    .dataframe tbody tr th {\n",
       "        vertical-align: top;\n",
       "    }\n",
       "\n",
       "    .dataframe thead th {\n",
       "        text-align: right;\n",
       "    }\n",
       "</style>\n",
       "<table border=\"1\" class=\"dataframe\">\n",
       "  <thead>\n",
       "    <tr style=\"text-align: right;\">\n",
       "      <th></th>\n",
       "      <th>user_url</th>\n",
       "      <th>review_text</th>\n",
       "      <th>rating</th>\n",
       "      <th>review_date</th>\n",
       "      <th>movie_title</th>\n",
       "      <th>movie_year</th>\n",
       "      <th>movie_url</th>\n",
       "    </tr>\n",
       "  </thead>\n",
       "  <tbody>\n",
       "    <tr>\n",
       "      <th>0</th>\n",
       "      <td>https://letterboxd.com/aykins/</td>\n",
       "      <td>feminism displayed at its worst.</td>\n",
       "      <td>0.4</td>\n",
       "      <td>28 Aug 2024</td>\n",
       "      <td>Barbie</td>\n",
       "      <td>2023.0</td>\n",
       "      <td>https://letterboxd.com/film/barbie/</td>\n",
       "    </tr>\n",
       "    <tr>\n",
       "      <th>1</th>\n",
       "      <td>https://letterboxd.com/maiimaoo/</td>\n",
       "      <td>Ryan Gosling... Get in my bed RN please.\\nThis...</td>\n",
       "      <td>1.0</td>\n",
       "      <td>21 Jul 2023</td>\n",
       "      <td>Barbie</td>\n",
       "      <td>2023.0</td>\n",
       "      <td>https://letterboxd.com/film/barbie/</td>\n",
       "    </tr>\n",
       "    <tr>\n",
       "      <th>2</th>\n",
       "      <td>https://letterboxd.com/ambres29/</td>\n",
       "      <td>#decue avec tout ce que j'avais vu dessus j'pe...</td>\n",
       "      <td>0.4</td>\n",
       "      <td>28 Aug 2024</td>\n",
       "      <td>Barbie</td>\n",
       "      <td>2023.0</td>\n",
       "      <td>https://letterboxd.com/film/barbie/</td>\n",
       "    </tr>\n",
       "    <tr>\n",
       "      <th>3</th>\n",
       "      <td>https://letterboxd.com/whosaymaree/</td>\n",
       "      <td>im sorry to all the barbies hair that i’ve cut...</td>\n",
       "      <td>1.0</td>\n",
       "      <td>28 Aug 2024</td>\n",
       "      <td>Barbie</td>\n",
       "      <td>2023.0</td>\n",
       "      <td>https://letterboxd.com/film/barbie/</td>\n",
       "    </tr>\n",
       "    <tr>\n",
       "      <th>4</th>\n",
       "      <td>https://letterboxd.com/ronzcarm/</td>\n",
       "      <td>I'm just Ken</td>\n",
       "      <td>0.8</td>\n",
       "      <td>28 Aug 2024</td>\n",
       "      <td>Barbie</td>\n",
       "      <td>2023.0</td>\n",
       "      <td>https://letterboxd.com/film/barbie/</td>\n",
       "    </tr>\n",
       "  </tbody>\n",
       "</table>\n",
       "</div>"
      ],
      "text/plain": [
       "                              user_url  \\\n",
       "0       https://letterboxd.com/aykins/   \n",
       "1     https://letterboxd.com/maiimaoo/   \n",
       "2     https://letterboxd.com/ambres29/   \n",
       "3  https://letterboxd.com/whosaymaree/   \n",
       "4     https://letterboxd.com/ronzcarm/   \n",
       "\n",
       "                                         review_text  rating  review_date  \\\n",
       "0                   feminism displayed at its worst.     0.4  28 Aug 2024   \n",
       "1  Ryan Gosling... Get in my bed RN please.\\nThis...     1.0  21 Jul 2023   \n",
       "2  #decue avec tout ce que j'avais vu dessus j'pe...     0.4  28 Aug 2024   \n",
       "3  im sorry to all the barbies hair that i’ve cut...     1.0  28 Aug 2024   \n",
       "4                                       I'm just Ken     0.8  28 Aug 2024   \n",
       "\n",
       "  movie_title  movie_year                            movie_url  \n",
       "0      Barbie      2023.0  https://letterboxd.com/film/barbie/  \n",
       "1      Barbie      2023.0  https://letterboxd.com/film/barbie/  \n",
       "2      Barbie      2023.0  https://letterboxd.com/film/barbie/  \n",
       "3      Barbie      2023.0  https://letterboxd.com/film/barbie/  \n",
       "4      Barbie      2023.0  https://letterboxd.com/film/barbie/  "
      ]
     },
     "execution_count": 1,
     "metadata": {},
     "output_type": "execute_result"
    }
   ],
   "source": [
    "import pandas as pd\n",
    "from datasets import Dataset\n",
    "from sklearn.model_selection import train_test_split\n",
    "\n",
    "# Load your dataset (assuming a CSV file)\n",
    "reviews_from_movies_df = pd.read_csv(\"/kaggle/input/movie-scraper/movie_reviews.csv\", index_col=0)\n",
    "reviews_from_users_df = pd.read_csv(\"/kaggle/input/user-scraper/user_reviews.csv\", index_col=0)\n",
    "\n",
    "# combine them\n",
    "reviews_df = pd.concat([reviews_from_movies_df, reviews_from_users_df], ignore_index=True)\n",
    "\n",
    "print(reviews_df.shape, reviews_from_movies_df.shape, reviews_from_users_df.shape)\n",
    "reviews_df.head()"
   ]
  },
  {
   "cell_type": "markdown",
   "id": "69bf38f4",
   "metadata": {
    "papermill": {
     "duration": 0.002862,
     "end_time": "2024-08-28T20:34:04.668510",
     "exception": false,
     "start_time": "2024-08-28T20:34:04.665648",
     "status": "completed"
    },
    "tags": []
   },
   "source": [
    "## 2) Preprocess dataset (mainly remove non-English reviews for now)"
   ]
  },
  {
   "cell_type": "code",
   "execution_count": 2,
   "id": "4349361f",
   "metadata": {
    "execution": {
     "iopub.execute_input": "2024-08-28T20:34:04.676093Z",
     "iopub.status.busy": "2024-08-28T20:34:04.675636Z",
     "iopub.status.idle": "2024-08-28T20:34:21.803133Z",
     "shell.execute_reply": "2024-08-28T20:34:21.801716Z"
    },
    "papermill": {
     "duration": 17.134444,
     "end_time": "2024-08-28T20:34:21.805868",
     "exception": false,
     "start_time": "2024-08-28T20:34:04.671424",
     "status": "completed"
    },
    "tags": []
   },
   "outputs": [
    {
     "name": "stdout",
     "output_type": "stream",
     "text": [
      "Collecting langdetect\r\n",
      "  Downloading langdetect-1.0.9.tar.gz (981 kB)\r\n",
      "\u001b[2K     \u001b[90m━━━━━━━━━━━━━━━━━━━━━━━━━━━━━━━━━━━━━━\u001b[0m \u001b[32m981.5/981.5 kB\u001b[0m \u001b[31m11.5 MB/s\u001b[0m eta \u001b[36m0:00:00\u001b[0m\r\n",
      "\u001b[?25h  Preparing metadata (setup.py) ... \u001b[?25l-\b \bdone\r\n",
      "\u001b[?25hRequirement already satisfied: six in /opt/conda/lib/python3.10/site-packages (from langdetect) (1.16.0)\r\n",
      "Building wheels for collected packages: langdetect\r\n",
      "  Building wheel for langdetect (setup.py) ... \u001b[?25l-\b \bdone\r\n",
      "\u001b[?25h  Created wheel for langdetect: filename=langdetect-1.0.9-py3-none-any.whl size=993227 sha256=6115f1e5e50b878a63ca937ac3c811f8a897ad7c8235444b5f4757d78aa9ed8e\r\n",
      "  Stored in directory: /root/.cache/pip/wheels/95/03/7d/59ea870c70ce4e5a370638b5462a7711ab78fba2f655d05106\r\n",
      "Successfully built langdetect\r\n",
      "Installing collected packages: langdetect\r\n",
      "Successfully installed langdetect-1.0.9\r\n"
     ]
    }
   ],
   "source": [
    "!pip install langdetect"
   ]
  },
  {
   "cell_type": "code",
   "execution_count": 3,
   "id": "fbc74bd9",
   "metadata": {
    "execution": {
     "iopub.execute_input": "2024-08-28T20:34:21.816174Z",
     "iopub.status.busy": "2024-08-28T20:34:21.815060Z",
     "iopub.status.idle": "2024-08-28T20:46:06.647734Z",
     "shell.execute_reply": "2024-08-28T20:46:06.646374Z"
    },
    "papermill": {
     "duration": 704.840606,
     "end_time": "2024-08-28T20:46:06.650380",
     "exception": false,
     "start_time": "2024-08-28T20:34:21.809774",
     "status": "completed"
    },
    "tags": []
   },
   "outputs": [
    {
     "data": {
      "application/vnd.jupyter.widget-view+json": {
       "model_id": "4136d7f82197462391ff852458f709c4",
       "version_major": 2,
       "version_minor": 0
      },
      "text/plain": [
       "  0%|          | 0/98834 [00:00<?, ?it/s]"
      ]
     },
     "metadata": {},
     "output_type": "display_data"
    }
   ],
   "source": [
    "from langdetect import detect, DetectorFactory\n",
    "from langdetect.lang_detect_exception import LangDetectException\n",
    "from tqdm.notebook import tqdm\n",
    "\n",
    "tqdm.pandas()\n",
    "\n",
    "# Ensures consistent results\n",
    "DetectorFactory.seed = 0\n",
    "\n",
    "# Function to detect language\n",
    "def detect_language(text):\n",
    "    try:\n",
    "        return detect(text)\n",
    "    except LangDetectException:\n",
    "        return \"unknown\"\n",
    "\n",
    "# Add a language column\n",
    "reviews_df['language'] = reviews_df['review_text'].progress_apply(detect_language)\n",
    "\n",
    "# Filter to keep only English reviews\n",
    "reviews_df = reviews_df[reviews_df['language'] == 'en']\n",
    "\n",
    "# Drop the language column if no longer needed\n",
    "reviews_df.drop(columns=['language'], inplace=True)"
   ]
  },
  {
   "cell_type": "markdown",
   "id": "07f3412f",
   "metadata": {
    "papermill": {
     "duration": 0.003576,
     "end_time": "2024-08-28T20:46:06.657952",
     "exception": false,
     "start_time": "2024-08-28T20:46:06.654376",
     "status": "completed"
    },
    "tags": []
   },
   "source": [
    "## 3) Save output data"
   ]
  },
  {
   "cell_type": "code",
   "execution_count": 4,
   "id": "7be73dd0",
   "metadata": {
    "execution": {
     "iopub.execute_input": "2024-08-28T20:46:06.668091Z",
     "iopub.status.busy": "2024-08-28T20:46:06.667607Z",
     "iopub.status.idle": "2024-08-28T20:46:07.199454Z",
     "shell.execute_reply": "2024-08-28T20:46:07.198191Z"
    },
    "papermill": {
     "duration": 0.540392,
     "end_time": "2024-08-28T20:46:07.202183",
     "exception": false,
     "start_time": "2024-08-28T20:46:06.661791",
     "status": "completed"
    },
    "tags": []
   },
   "outputs": [],
   "source": [
    "# Drop unwanted columns or reorder them (to simplify for now)\n",
    "reviews_df = reviews_df[['review_text', 'rating']]\n",
    "\n",
    "# Save up to here\n",
    "reviews_df.to_csv(\"/kaggle/working/processed_reviews.csv\", index=False)"
   ]
  },
  {
   "cell_type": "code",
   "execution_count": 5,
   "id": "915b93ea",
   "metadata": {
    "execution": {
     "iopub.execute_input": "2024-08-28T20:46:07.211740Z",
     "iopub.status.busy": "2024-08-28T20:46:07.211326Z",
     "iopub.status.idle": "2024-08-28T20:46:07.223052Z",
     "shell.execute_reply": "2024-08-28T20:46:07.221991Z"
    },
    "papermill": {
     "duration": 0.019079,
     "end_time": "2024-08-28T20:46:07.225236",
     "exception": false,
     "start_time": "2024-08-28T20:46:07.206157",
     "status": "completed"
    },
    "tags": []
   },
   "outputs": [
    {
     "data": {
      "text/html": [
       "<div>\n",
       "<style scoped>\n",
       "    .dataframe tbody tr th:only-of-type {\n",
       "        vertical-align: middle;\n",
       "    }\n",
       "\n",
       "    .dataframe tbody tr th {\n",
       "        vertical-align: top;\n",
       "    }\n",
       "\n",
       "    .dataframe thead th {\n",
       "        text-align: right;\n",
       "    }\n",
       "</style>\n",
       "<table border=\"1\" class=\"dataframe\">\n",
       "  <thead>\n",
       "    <tr style=\"text-align: right;\">\n",
       "      <th></th>\n",
       "      <th>review_text</th>\n",
       "      <th>rating</th>\n",
       "    </tr>\n",
       "  </thead>\n",
       "  <tbody>\n",
       "    <tr>\n",
       "      <th>0</th>\n",
       "      <td>feminism displayed at its worst.</td>\n",
       "      <td>0.4</td>\n",
       "    </tr>\n",
       "    <tr>\n",
       "      <th>1</th>\n",
       "      <td>Ryan Gosling... Get in my bed RN please.\\nThis...</td>\n",
       "      <td>1.0</td>\n",
       "    </tr>\n",
       "    <tr>\n",
       "      <th>3</th>\n",
       "      <td>im sorry to all the barbies hair that i’ve cut...</td>\n",
       "      <td>1.0</td>\n",
       "    </tr>\n",
       "    <tr>\n",
       "      <th>7</th>\n",
       "      <td>Micheal cera.</td>\n",
       "      <td>0.7</td>\n",
       "    </tr>\n",
       "    <tr>\n",
       "      <th>8</th>\n",
       "      <td>Amazing, ending part made me cry 😢</td>\n",
       "      <td>0.8</td>\n",
       "    </tr>\n",
       "  </tbody>\n",
       "</table>\n",
       "</div>"
      ],
      "text/plain": [
       "                                         review_text  rating\n",
       "0                   feminism displayed at its worst.     0.4\n",
       "1  Ryan Gosling... Get in my bed RN please.\\nThis...     1.0\n",
       "3  im sorry to all the barbies hair that i’ve cut...     1.0\n",
       "7                                      Micheal cera.     0.7\n",
       "8                 Amazing, ending part made me cry 😢     0.8"
      ]
     },
     "execution_count": 5,
     "metadata": {},
     "output_type": "execute_result"
    }
   ],
   "source": [
    "reviews_df.head()"
   ]
  }
 ],
 "metadata": {
  "kaggle": {
   "accelerator": "none",
   "dataSources": [
    {
     "sourceId": 194398829,
     "sourceType": "kernelVersion"
    },
    {
     "sourceId": 194399329,
     "sourceType": "kernelVersion"
    }
   ],
   "dockerImageVersionId": 30761,
   "isGpuEnabled": false,
   "isInternetEnabled": true,
   "language": "python",
   "sourceType": "notebook"
  },
  "kernelspec": {
   "display_name": "Python 3",
   "language": "python",
   "name": "python3"
  },
  "language_info": {
   "codemirror_mode": {
    "name": "ipython",
    "version": 3
   },
   "file_extension": ".py",
   "mimetype": "text/x-python",
   "name": "python",
   "nbconvert_exporter": "python",
   "pygments_lexer": "ipython3",
   "version": "3.10.14"
  },
  "papermill": {
   "default_parameters": {},
   "duration": 730.483344,
   "end_time": "2024-08-28T20:46:08.253813",
   "environment_variables": {},
   "exception": null,
   "input_path": "__notebook__.ipynb",
   "output_path": "__notebook__.ipynb",
   "parameters": {},
   "start_time": "2024-08-28T20:33:57.770469",
   "version": "2.6.0"
  },
  "widgets": {
   "application/vnd.jupyter.widget-state+json": {
    "state": {
     "13ce9b3bd5a84c448a58457a7216128a": {
      "model_module": "@jupyter-widgets/base",
      "model_module_version": "1.2.0",
      "model_name": "LayoutModel",
      "state": {
       "_model_module": "@jupyter-widgets/base",
       "_model_module_version": "1.2.0",
       "_model_name": "LayoutModel",
       "_view_count": null,
       "_view_module": "@jupyter-widgets/base",
       "_view_module_version": "1.2.0",
       "_view_name": "LayoutView",
       "align_content": null,
       "align_items": null,
       "align_self": null,
       "border": null,
       "bottom": null,
       "display": null,
       "flex": null,
       "flex_flow": null,
       "grid_area": null,
       "grid_auto_columns": null,
       "grid_auto_flow": null,
       "grid_auto_rows": null,
       "grid_column": null,
       "grid_gap": null,
       "grid_row": null,
       "grid_template_areas": null,
       "grid_template_columns": null,
       "grid_template_rows": null,
       "height": null,
       "justify_content": null,
       "justify_items": null,
       "left": null,
       "margin": null,
       "max_height": null,
       "max_width": null,
       "min_height": null,
       "min_width": null,
       "object_fit": null,
       "object_position": null,
       "order": null,
       "overflow": null,
       "overflow_x": null,
       "overflow_y": null,
       "padding": null,
       "right": null,
       "top": null,
       "visibility": null,
       "width": null
      }
     },
     "16dcfe66171c4cb98c38c9872c47480e": {
      "model_module": "@jupyter-widgets/controls",
      "model_module_version": "1.5.0",
      "model_name": "HTMLModel",
      "state": {
       "_dom_classes": [],
       "_model_module": "@jupyter-widgets/controls",
       "_model_module_version": "1.5.0",
       "_model_name": "HTMLModel",
       "_view_count": null,
       "_view_module": "@jupyter-widgets/controls",
       "_view_module_version": "1.5.0",
       "_view_name": "HTMLView",
       "description": "",
       "description_tooltip": null,
       "layout": "IPY_MODEL_95ba0caf0f8e4ec3965cbb0a8ebf7eb1",
       "placeholder": "​",
       "style": "IPY_MODEL_ebe34ee0dd2a4b6395a655942a8e12b4",
       "value": "100%"
      }
     },
     "4136d7f82197462391ff852458f709c4": {
      "model_module": "@jupyter-widgets/controls",
      "model_module_version": "1.5.0",
      "model_name": "HBoxModel",
      "state": {
       "_dom_classes": [],
       "_model_module": "@jupyter-widgets/controls",
       "_model_module_version": "1.5.0",
       "_model_name": "HBoxModel",
       "_view_count": null,
       "_view_module": "@jupyter-widgets/controls",
       "_view_module_version": "1.5.0",
       "_view_name": "HBoxView",
       "box_style": "",
       "children": [
        "IPY_MODEL_16dcfe66171c4cb98c38c9872c47480e",
        "IPY_MODEL_7498d9f0eec7401fb65dda597e692653",
        "IPY_MODEL_9118d21db7b64e06aba62845df408129"
       ],
       "layout": "IPY_MODEL_13ce9b3bd5a84c448a58457a7216128a"
      }
     },
     "7498d9f0eec7401fb65dda597e692653": {
      "model_module": "@jupyter-widgets/controls",
      "model_module_version": "1.5.0",
      "model_name": "FloatProgressModel",
      "state": {
       "_dom_classes": [],
       "_model_module": "@jupyter-widgets/controls",
       "_model_module_version": "1.5.0",
       "_model_name": "FloatProgressModel",
       "_view_count": null,
       "_view_module": "@jupyter-widgets/controls",
       "_view_module_version": "1.5.0",
       "_view_name": "ProgressView",
       "bar_style": "success",
       "description": "",
       "description_tooltip": null,
       "layout": "IPY_MODEL_7d7675a79ffe4199a171f655aa5661b6",
       "max": 98834.0,
       "min": 0.0,
       "orientation": "horizontal",
       "style": "IPY_MODEL_e14a01082ffd40949bf1f80b03db46c2",
       "value": 98834.0
      }
     },
     "7d7675a79ffe4199a171f655aa5661b6": {
      "model_module": "@jupyter-widgets/base",
      "model_module_version": "1.2.0",
      "model_name": "LayoutModel",
      "state": {
       "_model_module": "@jupyter-widgets/base",
       "_model_module_version": "1.2.0",
       "_model_name": "LayoutModel",
       "_view_count": null,
       "_view_module": "@jupyter-widgets/base",
       "_view_module_version": "1.2.0",
       "_view_name": "LayoutView",
       "align_content": null,
       "align_items": null,
       "align_self": null,
       "border": null,
       "bottom": null,
       "display": null,
       "flex": null,
       "flex_flow": null,
       "grid_area": null,
       "grid_auto_columns": null,
       "grid_auto_flow": null,
       "grid_auto_rows": null,
       "grid_column": null,
       "grid_gap": null,
       "grid_row": null,
       "grid_template_areas": null,
       "grid_template_columns": null,
       "grid_template_rows": null,
       "height": null,
       "justify_content": null,
       "justify_items": null,
       "left": null,
       "margin": null,
       "max_height": null,
       "max_width": null,
       "min_height": null,
       "min_width": null,
       "object_fit": null,
       "object_position": null,
       "order": null,
       "overflow": null,
       "overflow_x": null,
       "overflow_y": null,
       "padding": null,
       "right": null,
       "top": null,
       "visibility": null,
       "width": null
      }
     },
     "9118d21db7b64e06aba62845df408129": {
      "model_module": "@jupyter-widgets/controls",
      "model_module_version": "1.5.0",
      "model_name": "HTMLModel",
      "state": {
       "_dom_classes": [],
       "_model_module": "@jupyter-widgets/controls",
       "_model_module_version": "1.5.0",
       "_model_name": "HTMLModel",
       "_view_count": null,
       "_view_module": "@jupyter-widgets/controls",
       "_view_module_version": "1.5.0",
       "_view_name": "HTMLView",
       "description": "",
       "description_tooltip": null,
       "layout": "IPY_MODEL_c31816439dbf4a10b210d2beb1a405d2",
       "placeholder": "​",
       "style": "IPY_MODEL_da307dee7b7548bc80dd89d4bdbfe64f",
       "value": " 98834/98834 [11:44&lt;00:00, 157.86it/s]"
      }
     },
     "95ba0caf0f8e4ec3965cbb0a8ebf7eb1": {
      "model_module": "@jupyter-widgets/base",
      "model_module_version": "1.2.0",
      "model_name": "LayoutModel",
      "state": {
       "_model_module": "@jupyter-widgets/base",
       "_model_module_version": "1.2.0",
       "_model_name": "LayoutModel",
       "_view_count": null,
       "_view_module": "@jupyter-widgets/base",
       "_view_module_version": "1.2.0",
       "_view_name": "LayoutView",
       "align_content": null,
       "align_items": null,
       "align_self": null,
       "border": null,
       "bottom": null,
       "display": null,
       "flex": null,
       "flex_flow": null,
       "grid_area": null,
       "grid_auto_columns": null,
       "grid_auto_flow": null,
       "grid_auto_rows": null,
       "grid_column": null,
       "grid_gap": null,
       "grid_row": null,
       "grid_template_areas": null,
       "grid_template_columns": null,
       "grid_template_rows": null,
       "height": null,
       "justify_content": null,
       "justify_items": null,
       "left": null,
       "margin": null,
       "max_height": null,
       "max_width": null,
       "min_height": null,
       "min_width": null,
       "object_fit": null,
       "object_position": null,
       "order": null,
       "overflow": null,
       "overflow_x": null,
       "overflow_y": null,
       "padding": null,
       "right": null,
       "top": null,
       "visibility": null,
       "width": null
      }
     },
     "c31816439dbf4a10b210d2beb1a405d2": {
      "model_module": "@jupyter-widgets/base",
      "model_module_version": "1.2.0",
      "model_name": "LayoutModel",
      "state": {
       "_model_module": "@jupyter-widgets/base",
       "_model_module_version": "1.2.0",
       "_model_name": "LayoutModel",
       "_view_count": null,
       "_view_module": "@jupyter-widgets/base",
       "_view_module_version": "1.2.0",
       "_view_name": "LayoutView",
       "align_content": null,
       "align_items": null,
       "align_self": null,
       "border": null,
       "bottom": null,
       "display": null,
       "flex": null,
       "flex_flow": null,
       "grid_area": null,
       "grid_auto_columns": null,
       "grid_auto_flow": null,
       "grid_auto_rows": null,
       "grid_column": null,
       "grid_gap": null,
       "grid_row": null,
       "grid_template_areas": null,
       "grid_template_columns": null,
       "grid_template_rows": null,
       "height": null,
       "justify_content": null,
       "justify_items": null,
       "left": null,
       "margin": null,
       "max_height": null,
       "max_width": null,
       "min_height": null,
       "min_width": null,
       "object_fit": null,
       "object_position": null,
       "order": null,
       "overflow": null,
       "overflow_x": null,
       "overflow_y": null,
       "padding": null,
       "right": null,
       "top": null,
       "visibility": null,
       "width": null
      }
     },
     "da307dee7b7548bc80dd89d4bdbfe64f": {
      "model_module": "@jupyter-widgets/controls",
      "model_module_version": "1.5.0",
      "model_name": "DescriptionStyleModel",
      "state": {
       "_model_module": "@jupyter-widgets/controls",
       "_model_module_version": "1.5.0",
       "_model_name": "DescriptionStyleModel",
       "_view_count": null,
       "_view_module": "@jupyter-widgets/base",
       "_view_module_version": "1.2.0",
       "_view_name": "StyleView",
       "description_width": ""
      }
     },
     "e14a01082ffd40949bf1f80b03db46c2": {
      "model_module": "@jupyter-widgets/controls",
      "model_module_version": "1.5.0",
      "model_name": "ProgressStyleModel",
      "state": {
       "_model_module": "@jupyter-widgets/controls",
       "_model_module_version": "1.5.0",
       "_model_name": "ProgressStyleModel",
       "_view_count": null,
       "_view_module": "@jupyter-widgets/base",
       "_view_module_version": "1.2.0",
       "_view_name": "StyleView",
       "bar_color": null,
       "description_width": ""
      }
     },
     "ebe34ee0dd2a4b6395a655942a8e12b4": {
      "model_module": "@jupyter-widgets/controls",
      "model_module_version": "1.5.0",
      "model_name": "DescriptionStyleModel",
      "state": {
       "_model_module": "@jupyter-widgets/controls",
       "_model_module_version": "1.5.0",
       "_model_name": "DescriptionStyleModel",
       "_view_count": null,
       "_view_module": "@jupyter-widgets/base",
       "_view_module_version": "1.2.0",
       "_view_name": "StyleView",
       "description_width": ""
      }
     }
    },
    "version_major": 2,
    "version_minor": 0
   }
  }
 },
 "nbformat": 4,
 "nbformat_minor": 5
}
