{
 "cells": [
  {
   "cell_type": "code",
   "execution_count": 1,
   "id": "6472fd30-e085-46e8-b812-07a329a7bf04",
   "metadata": {},
   "outputs": [
    {
     "name": "stdout",
     "output_type": "stream",
     "text": [
      "Warning: Your Kaggle API key is readable by other users on this system! To fix this, you can run 'chmod 600 /home/jovyan/.kaggle/kaggle.json'\n"
     ]
    }
   ],
   "source": [
    "import pandas as pd\n",
    "import os\n",
    "from kaggle.api.kaggle_api_extended import KaggleApi"
   ]
  },
  {
   "cell_type": "code",
   "execution_count": 35,
   "id": "8bfa8df1-2a52-4af9-9dbb-cd4c085aafe2",
   "metadata": {},
   "outputs": [
    {
     "name": "stdout",
     "output_type": "stream",
     "text": [
      "Warning: Your Kaggle API key is readable by other users on this system! To fix this, you can run 'chmod 600 /home/jovyan/.kaggle/kaggle.json'\n",
      "Data package template written to: ../data/dataset-metadata.json\n"
     ]
    }
   ],
   "source": [
    "!kaggle datasets init -p ../data/"
   ]
  },
  {
   "cell_type": "code",
   "execution_count": 41,
   "id": "7230c1a8-cea5-44ca-bc88-86a10655f908",
   "metadata": {},
   "outputs": [
    {
     "name": "stdout",
     "output_type": "stream",
     "text": [
      "Warning: Your Kaggle API key is readable by other users on this system! To fix this, you can run 'chmod 600 /home/jovyan/.kaggle/kaggle.json'\n",
      "Starting upload for file reviews_from_users.csv\n",
      "100%|██████████████████████████████████████| 3.19k/3.19k [00:00<00:00, 4.68kB/s]\n",
      "Upload successful: reviews_from_users.csv (3KB)\n",
      "Starting upload for file dataset-metadata copy.json\n",
      "100%|██████████████████████████████████████| 2.19k/2.19k [00:00<00:00, 4.38kB/s]\n",
      "Upload successful: dataset-metadata copy.json (2KB)\n",
      "Starting upload for file reviews_from_movies.csv\n",
      "100%|██████████████████████████████████████| 2.35k/2.35k [00:00<00:00, 4.72kB/s]\n",
      "Upload successful: reviews_from_movies.csv (2KB)\n",
      "Starting upload for file movie_reviews.csv\n",
      "100%|██████████████████████████████████████| 5.47k/5.47k [00:00<00:00, 10.9kB/s]\n",
      "Upload successful: movie_reviews.csv (5KB)\n",
      "Dataset creation error: The requested title \"Letterboxd Reviews (2024)\" is already in use by a dataset. Please choose another title.\n"
     ]
    }
   ],
   "source": [
    "!kaggle datasets create -p ../data"
   ]
  },
  {
   "cell_type": "code",
   "execution_count": 40,
   "id": "0fa91e89-9e66-40b7-a415-efd7e010893c",
   "metadata": {},
   "outputs": [
    {
     "name": "stdout",
     "output_type": "stream",
     "text": [
      "Warning: Your Kaggle API key is readable by other users on this system! To fix this, you can run 'chmod 600 /home/jovyan/.kaggle/kaggle.json'\n",
      "Starting upload for file reviews_from_users.csv\n",
      "100%|██████████████████████████████████████| 3.19k/3.19k [00:00<00:00, 6.34kB/s]\n",
      "Upload successful: reviews_from_users.csv (3KB)\n",
      "Starting upload for file dataset-metadata copy.json\n",
      "100%|██████████████████████████████████████| 2.19k/2.19k [00:00<00:00, 5.13kB/s]\n",
      "Upload successful: dataset-metadata copy.json (2KB)\n",
      "Starting upload for file reviews_from_movies.csv\n",
      "100%|██████████████████████████████████████| 2.35k/2.35k [00:00<00:00, 4.73kB/s]\n",
      "Upload successful: reviews_from_movies.csv (2KB)\n",
      "Starting upload for file movie_reviews.csv\n",
      "100%|██████████████████████████████████████| 5.47k/5.47k [00:00<00:00, 10.9kB/s]\n",
      "Upload successful: movie_reviews.csv (5KB)\n",
      "Dataset version is being created. Please check progress at https://www.kaggle.com/colmwks/letterboxd-reviews-2024\n"
     ]
    }
   ],
   "source": [
    "!kaggle datasets version -p ../data/ -m \"Test message 3 with new meta data\""
   ]
  },
  {
   "cell_type": "code",
   "execution_count": 5,
   "id": "667478ca-f4ed-44b0-bdb9-02b6e6a31438",
   "metadata": {},
   "outputs": [
    {
     "data": {
      "text/html": [
       "<div>\n",
       "<style scoped>\n",
       "    .dataframe tbody tr th:only-of-type {\n",
       "        vertical-align: middle;\n",
       "    }\n",
       "\n",
       "    .dataframe tbody tr th {\n",
       "        vertical-align: top;\n",
       "    }\n",
       "\n",
       "    .dataframe thead th {\n",
       "        text-align: right;\n",
       "    }\n",
       "</style>\n",
       "<table border=\"1\" class=\"dataframe\">\n",
       "  <thead>\n",
       "    <tr style=\"text-align: right;\">\n",
       "      <th></th>\n",
       "      <th>movie_title</th>\n",
       "      <th>movie_url</th>\n",
       "      <th>review_text</th>\n",
       "      <th>rating</th>\n",
       "      <th>review_date</th>\n",
       "      <th>movie_year</th>\n",
       "      <th>user_url</th>\n",
       "    </tr>\n",
       "  </thead>\n",
       "  <tbody>\n",
       "    <tr>\n",
       "      <th>0</th>\n",
       "      <td>Bobo the Monkey</td>\n",
       "      <td>https://letterboxd.com/kurstboy/film/bobo-the-...</td>\n",
       "      <td>monkey mondays #33</td>\n",
       "      <td>0.8</td>\n",
       "      <td>Watched 19 Aug 2024</td>\n",
       "      <td>2021</td>\n",
       "      <td>https://letterboxd.com/kurstboy/</td>\n",
       "    </tr>\n",
       "    <tr>\n",
       "      <th>1</th>\n",
       "      <td>Alien Resurrection</td>\n",
       "      <td>https://letterboxd.com/schaffrillas/film/alien...</td>\n",
       "      <td>One of the dumbest franchise sequels I've ever...</td>\n",
       "      <td>0.5</td>\n",
       "      <td>Watched 18 Aug 2024</td>\n",
       "      <td>1997</td>\n",
       "      <td>https://letterboxd.com/schaffrillas/</td>\n",
       "    </tr>\n",
       "    <tr>\n",
       "      <th>2</th>\n",
       "      <td>The Lord of the Rings: The Fellowship of the Ring</td>\n",
       "      <td>https://letterboxd.com/jay/film/the-lord-of-th...</td>\n",
       "      <td>sometimes the side chick ain’t even a chick, i...</td>\n",
       "      <td>0.9</td>\n",
       "      <td>Rewatched 21 Aug 2024</td>\n",
       "      <td>2001</td>\n",
       "      <td>https://letterboxd.com/jay/</td>\n",
       "    </tr>\n",
       "    <tr>\n",
       "      <th>3</th>\n",
       "      <td>Phantom of the Paradise</td>\n",
       "      <td>https://letterboxd.com/jaragon23/film/phantom-...</td>\n",
       "      <td>The kind of movie that makes me love movies.</td>\n",
       "      <td>0.9</td>\n",
       "      <td>Watched 20 Aug 2024</td>\n",
       "      <td>1974</td>\n",
       "      <td>https://letterboxd.com/jaragon23/</td>\n",
       "    </tr>\n",
       "    <tr>\n",
       "      <th>4</th>\n",
       "      <td>The Bling Ring</td>\n",
       "      <td>https://letterboxd.com/deathproof/film/the-bli...</td>\n",
       "      <td>earlier tonight i was declaring this one of th...</td>\n",
       "      <td>1.0</td>\n",
       "      <td>Rewatched 21 Aug 2024</td>\n",
       "      <td>2013</td>\n",
       "      <td>https://letterboxd.com/deathproof/</td>\n",
       "    </tr>\n",
       "    <tr>\n",
       "      <th>5</th>\n",
       "      <td>Alien: Romulus</td>\n",
       "      <td>https://letterboxd.com/colonelmortimer/film/al...</td>\n",
       "      <td>The parts that are an ALIEN splatter movie are...</td>\n",
       "      <td>0.6</td>\n",
       "      <td>Watched 12 Aug 2024</td>\n",
       "      <td>2024</td>\n",
       "      <td>https://letterboxd.com/colonelmortimer/</td>\n",
       "    </tr>\n",
       "    <tr>\n",
       "      <th>6</th>\n",
       "      <td>The Wolf of Wall Street</td>\n",
       "      <td>https://letterboxd.com/jeaba/film/the-wolf-of-...</td>\n",
       "      <td>such an insufferable movie. love it!</td>\n",
       "      <td>0.9</td>\n",
       "      <td>Rewatched 20 Aug 2024</td>\n",
       "      <td>2013</td>\n",
       "      <td>https://letterboxd.com/jeaba/</td>\n",
       "    </tr>\n",
       "    <tr>\n",
       "      <th>7</th>\n",
       "      <td>Alien: Romulus</td>\n",
       "      <td>https://letterboxd.com/24framesofnick/film/ali...</td>\n",
       "      <td>DERS SUMFIN IN THE WA’UR💦💦\\nEXTENDED REVIEW HE...</td>\n",
       "      <td>0.6</td>\n",
       "      <td>Rewatched 20 Aug 2024</td>\n",
       "      <td>2024</td>\n",
       "      <td>https://letterboxd.com/24framesofnick/</td>\n",
       "    </tr>\n",
       "    <tr>\n",
       "      <th>8</th>\n",
       "      <td>Barry Lyndon</td>\n",
       "      <td>https://letterboxd.com/thejoshl/film/barry-lyn...</td>\n",
       "      <td>Having already proven himself a visionary of w...</td>\n",
       "      <td>1.0</td>\n",
       "      <td>Rewatched 18 Aug 2024</td>\n",
       "      <td>1975</td>\n",
       "      <td>https://letterboxd.com/thejoshl/</td>\n",
       "    </tr>\n",
       "    <tr>\n",
       "      <th>9</th>\n",
       "      <td>Longlegs</td>\n",
       "      <td>https://letterboxd.com/ingridgoeswest/film/lon...</td>\n",
       "      <td>Maika monroe you are irreplaceable</td>\n",
       "      <td>0.7</td>\n",
       "      <td>Watched 12 Jul 2024</td>\n",
       "      <td>2024</td>\n",
       "      <td>https://letterboxd.com/ingridgoeswest/</td>\n",
       "    </tr>\n",
       "    <tr>\n",
       "      <th>10</th>\n",
       "      <td>Barbie</td>\n",
       "      <td>https://letterboxd.com/film/barbie/</td>\n",
       "      <td>- I watched it at school.\\n:)</td>\n",
       "      <td>1.0</td>\n",
       "      <td>24 Jan 2024</td>\n",
       "      <td>2023</td>\n",
       "      <td>https://letterboxd.com/h_j_fitts/</td>\n",
       "    </tr>\n",
       "    <tr>\n",
       "      <th>11</th>\n",
       "      <td>Parasite</td>\n",
       "      <td>https://letterboxd.com/film/parasite-2019/</td>\n",
       "      <td>Eu vi faz muito tempo mas é muito bom</td>\n",
       "      <td>1.0</td>\n",
       "      <td>22 Aug 2024</td>\n",
       "      <td>2019</td>\n",
       "      <td>https://letterboxd.com/rafinhaesperanc/</td>\n",
       "    </tr>\n",
       "    <tr>\n",
       "      <th>12</th>\n",
       "      <td>Everything Everywhere All at Once</td>\n",
       "      <td>https://letterboxd.com/film/everything-everywh...</td>\n",
       "      <td>Me cago en mi putísima historia, me voy a mete...</td>\n",
       "      <td>1.0</td>\n",
       "      <td>22 Aug 2024</td>\n",
       "      <td>2022</td>\n",
       "      <td>https://letterboxd.com/lavacaquerie/</td>\n",
       "    </tr>\n",
       "    <tr>\n",
       "      <th>13</th>\n",
       "      <td>Fight Club</td>\n",
       "      <td>https://letterboxd.com/film/fight-club/</td>\n",
       "      <td>yeah just fucking amazing. maybe i’ve got myse...</td>\n",
       "      <td>0.9</td>\n",
       "      <td>22 Aug 2024</td>\n",
       "      <td>1999</td>\n",
       "      <td>https://letterboxd.com/luanaboso/</td>\n",
       "    </tr>\n",
       "    <tr>\n",
       "      <th>14</th>\n",
       "      <td>La La Land</td>\n",
       "      <td>https://letterboxd.com/film/la-la-land/</td>\n",
       "      <td>perfeição.</td>\n",
       "      <td>1.0</td>\n",
       "      <td>22 Aug 2024</td>\n",
       "      <td>2016</td>\n",
       "      <td>https://letterboxd.com/rodrigo_mobli/</td>\n",
       "    </tr>\n",
       "    <tr>\n",
       "      <th>15</th>\n",
       "      <td>Interstellar</td>\n",
       "      <td>https://letterboxd.com/film/interstellar/</td>\n",
       "      <td>All time favorite movie. The set, acting, susp...</td>\n",
       "      <td>1.0</td>\n",
       "      <td>22 Aug 2024</td>\n",
       "      <td>2014</td>\n",
       "      <td>https://letterboxd.com/bailster01/</td>\n",
       "    </tr>\n",
       "    <tr>\n",
       "      <th>16</th>\n",
       "      <td>Oppenheimer</td>\n",
       "      <td>https://letterboxd.com/film/oppenheimer-2023/</td>\n",
       "      <td>does every man who gets a biopic cheat on his ...</td>\n",
       "      <td>0.9</td>\n",
       "      <td>22 Aug 2024</td>\n",
       "      <td>2023</td>\n",
       "      <td>https://letterboxd.com/braveteefs/</td>\n",
       "    </tr>\n",
       "    <tr>\n",
       "      <th>17</th>\n",
       "      <td>Joker</td>\n",
       "      <td>https://letterboxd.com/film/joker-2019/</td>\n",
       "      <td>Une histoire intelligente. Des scènes renversa...</td>\n",
       "      <td>0.9</td>\n",
       "      <td>22 Jan 2022</td>\n",
       "      <td>2019</td>\n",
       "      <td>https://letterboxd.com/martincoste/</td>\n",
       "    </tr>\n",
       "    <tr>\n",
       "      <th>18</th>\n",
       "      <td>Dune</td>\n",
       "      <td>https://letterboxd.com/film/dune-2021/</td>\n",
       "      <td>I forgot to log this ages ago. Loved it</td>\n",
       "      <td>0.8</td>\n",
       "      <td>18 Jan 2024</td>\n",
       "      <td>2021</td>\n",
       "      <td>https://letterboxd.com/deagen/</td>\n",
       "    </tr>\n",
       "    <tr>\n",
       "      <th>19</th>\n",
       "      <td>Pulp Fiction</td>\n",
       "      <td>https://letterboxd.com/film/pulp-fiction/</td>\n",
       "      <td>Dritte Sichtung und ja immer noch fantastisch,...</td>\n",
       "      <td>0.8</td>\n",
       "      <td>22 Aug 2024</td>\n",
       "      <td>1994</td>\n",
       "      <td>https://letterboxd.com/sebastiangrosse/</td>\n",
       "    </tr>\n",
       "  </tbody>\n",
       "</table>\n",
       "</div>"
      ],
      "text/plain": [
       "                                          movie_title  \\\n",
       "0                                     Bobo the Monkey   \n",
       "1                                  Alien Resurrection   \n",
       "2   The Lord of the Rings: The Fellowship of the Ring   \n",
       "3                             Phantom of the Paradise   \n",
       "4                                      The Bling Ring   \n",
       "5                                      Alien: Romulus   \n",
       "6                             The Wolf of Wall Street   \n",
       "7                                      Alien: Romulus   \n",
       "8                                        Barry Lyndon   \n",
       "9                                            Longlegs   \n",
       "10                                             Barbie   \n",
       "11                                           Parasite   \n",
       "12                  Everything Everywhere All at Once   \n",
       "13                                         Fight Club   \n",
       "14                                         La La Land   \n",
       "15                                       Interstellar   \n",
       "16                                        Oppenheimer   \n",
       "17                                              Joker   \n",
       "18                                               Dune   \n",
       "19                                       Pulp Fiction   \n",
       "\n",
       "                                            movie_url  \\\n",
       "0   https://letterboxd.com/kurstboy/film/bobo-the-...   \n",
       "1   https://letterboxd.com/schaffrillas/film/alien...   \n",
       "2   https://letterboxd.com/jay/film/the-lord-of-th...   \n",
       "3   https://letterboxd.com/jaragon23/film/phantom-...   \n",
       "4   https://letterboxd.com/deathproof/film/the-bli...   \n",
       "5   https://letterboxd.com/colonelmortimer/film/al...   \n",
       "6   https://letterboxd.com/jeaba/film/the-wolf-of-...   \n",
       "7   https://letterboxd.com/24framesofnick/film/ali...   \n",
       "8   https://letterboxd.com/thejoshl/film/barry-lyn...   \n",
       "9   https://letterboxd.com/ingridgoeswest/film/lon...   \n",
       "10                https://letterboxd.com/film/barbie/   \n",
       "11         https://letterboxd.com/film/parasite-2019/   \n",
       "12  https://letterboxd.com/film/everything-everywh...   \n",
       "13            https://letterboxd.com/film/fight-club/   \n",
       "14            https://letterboxd.com/film/la-la-land/   \n",
       "15          https://letterboxd.com/film/interstellar/   \n",
       "16      https://letterboxd.com/film/oppenheimer-2023/   \n",
       "17            https://letterboxd.com/film/joker-2019/   \n",
       "18             https://letterboxd.com/film/dune-2021/   \n",
       "19          https://letterboxd.com/film/pulp-fiction/   \n",
       "\n",
       "                                          review_text  rating  \\\n",
       "0                                  monkey mondays #33     0.8   \n",
       "1   One of the dumbest franchise sequels I've ever...     0.5   \n",
       "2   sometimes the side chick ain’t even a chick, i...     0.9   \n",
       "3        The kind of movie that makes me love movies.     0.9   \n",
       "4   earlier tonight i was declaring this one of th...     1.0   \n",
       "5   The parts that are an ALIEN splatter movie are...     0.6   \n",
       "6                such an insufferable movie. love it!     0.9   \n",
       "7   DERS SUMFIN IN THE WA’UR💦💦\\nEXTENDED REVIEW HE...     0.6   \n",
       "8   Having already proven himself a visionary of w...     1.0   \n",
       "9                  Maika monroe you are irreplaceable     0.7   \n",
       "10                      - I watched it at school.\\n:)     1.0   \n",
       "11              Eu vi faz muito tempo mas é muito bom     1.0   \n",
       "12  Me cago en mi putísima historia, me voy a mete...     1.0   \n",
       "13  yeah just fucking amazing. maybe i’ve got myse...     0.9   \n",
       "14                                         perfeição.     1.0   \n",
       "15  All time favorite movie. The set, acting, susp...     1.0   \n",
       "16  does every man who gets a biopic cheat on his ...     0.9   \n",
       "17  Une histoire intelligente. Des scènes renversa...     0.9   \n",
       "18            I forgot to log this ages ago. Loved it     0.8   \n",
       "19  Dritte Sichtung und ja immer noch fantastisch,...     0.8   \n",
       "\n",
       "              review_date  movie_year                                 user_url  \n",
       "0     Watched 19 Aug 2024        2021         https://letterboxd.com/kurstboy/  \n",
       "1     Watched 18 Aug 2024        1997     https://letterboxd.com/schaffrillas/  \n",
       "2   Rewatched 21 Aug 2024        2001              https://letterboxd.com/jay/  \n",
       "3     Watched 20 Aug 2024        1974        https://letterboxd.com/jaragon23/  \n",
       "4   Rewatched 21 Aug 2024        2013       https://letterboxd.com/deathproof/  \n",
       "5     Watched 12 Aug 2024        2024  https://letterboxd.com/colonelmortimer/  \n",
       "6   Rewatched 20 Aug 2024        2013            https://letterboxd.com/jeaba/  \n",
       "7   Rewatched 20 Aug 2024        2024   https://letterboxd.com/24framesofnick/  \n",
       "8   Rewatched 18 Aug 2024        1975         https://letterboxd.com/thejoshl/  \n",
       "9     Watched 12 Jul 2024        2024   https://letterboxd.com/ingridgoeswest/  \n",
       "10            24 Jan 2024        2023        https://letterboxd.com/h_j_fitts/  \n",
       "11            22 Aug 2024        2019  https://letterboxd.com/rafinhaesperanc/  \n",
       "12            22 Aug 2024        2022     https://letterboxd.com/lavacaquerie/  \n",
       "13            22 Aug 2024        1999        https://letterboxd.com/luanaboso/  \n",
       "14            22 Aug 2024        2016    https://letterboxd.com/rodrigo_mobli/  \n",
       "15            22 Aug 2024        2014       https://letterboxd.com/bailster01/  \n",
       "16            22 Aug 2024        2023       https://letterboxd.com/braveteefs/  \n",
       "17            22 Jan 2022        2019      https://letterboxd.com/martincoste/  \n",
       "18            18 Jan 2024        2021           https://letterboxd.com/deagen/  \n",
       "19            22 Aug 2024        1994  https://letterboxd.com/sebastiangrosse/  "
      ]
     },
     "execution_count": 5,
     "metadata": {},
     "output_type": "execute_result"
    }
   ],
   "source": [
    "pd.read_csv(\"../data/movie_reviews.csv\")"
   ]
  },
  {
   "cell_type": "code",
   "execution_count": 42,
   "id": "f8f3decc-e496-4526-aaa9-7ebd652c8a19",
   "metadata": {},
   "outputs": [
    {
     "name": "stdout",
     "output_type": "stream",
     "text": [
      "Combined CSV saved to ../data/movie_reviews.csv\n",
      "Warning: Your Kaggle API key is readable by other users on this system! To fix this, you can run 'chmod 600 /home/jovyan/.kaggle/kaggle.json'\n",
      "Starting upload for file reviews_from_users.csv\n"
     ]
    },
    {
     "name": "stderr",
     "output_type": "stream",
     "text": [
      "100%|██████████| 3.19k/3.19k [00:00<00:00, 6.44kB/s]\n"
     ]
    },
    {
     "name": "stdout",
     "output_type": "stream",
     "text": [
      "Upload successful: reviews_from_users.csv (3KB)\n",
      "Starting upload for file dataset-metadata copy.json\n"
     ]
    },
    {
     "name": "stderr",
     "output_type": "stream",
     "text": [
      "100%|██████████| 2.19k/2.19k [00:00<00:00, 4.38kB/s]\n"
     ]
    },
    {
     "name": "stdout",
     "output_type": "stream",
     "text": [
      "Upload successful: dataset-metadata copy.json (2KB)\n",
      "Starting upload for file reviews_from_movies.csv\n"
     ]
    },
    {
     "name": "stderr",
     "output_type": "stream",
     "text": [
      "100%|██████████| 2.35k/2.35k [00:00<00:00, 3.94kB/s]\n"
     ]
    },
    {
     "name": "stdout",
     "output_type": "stream",
     "text": [
      "Upload successful: reviews_from_movies.csv (2KB)\n",
      "Starting upload for file movie_reviews.csv\n"
     ]
    },
    {
     "name": "stderr",
     "output_type": "stream",
     "text": [
      "100%|██████████| 5.47k/5.47k [00:00<00:00, 9.12kB/s]\n"
     ]
    },
    {
     "name": "stdout",
     "output_type": "stream",
     "text": [
      "Upload successful: movie_reviews.csv (5KB)\n",
      "Dataset successfully updated on Kaggle!\n"
     ]
    }
   ],
   "source": [
    "def combine_and_upload_to_kaggle(user_reviews_file, movie_reviews_file, output_file, kaggle_username):\n",
    "    # Load the CSV files\n",
    "    user_reviews_df = pd.read_csv(\"../data/reviews_from_users.csv\")\n",
    "    movie_reviews_df = pd.read_csv(\"../data/reviews_from_movies.csv\")\n",
    "\n",
    "    # Combine the dataframes\n",
    "    combined_df = pd.concat([user_reviews_df, movie_reviews_df], ignore_index=True)\n",
    "\n",
    "    # Save the combined dataframe to a new CSV file\n",
    "    combined_df.to_csv(output_file, index=False)\n",
    "    print(f\"Combined CSV saved to {output_file}\")\n",
    "\n",
    "    # Initialize Kaggle API\n",
    "    api = KaggleApi()\n",
    "    api.authenticate()\n",
    "\n",
    "    # Upload to Kaggle as a new version of the dataset\n",
    "    api.dataset_create_version(\n",
    "        folder=os.path.dirname(output_file),\n",
    "        version_notes=\"1.0\"\n",
    "    )\n",
    "    print(f\"Dataset successfully updated on Kaggle!\")\n",
    "\n",
    "if __name__ == \"__main__\":\n",
    "    # Specify your input files and output file\n",
    "    user_reviews_file = \"../data/reviews_from_users.csv\"\n",
    "    movie_reviews_file = \"../data/reviews_from_movies.csv\"\n",
    "    output_file = \"../data/movie_reviews.csv\"\n",
    "    \n",
    "    # Kaggle information\n",
    "    kaggle_dataset_slug = \"colmwks/letterboxd-reviews-2024\"\n",
    "    kaggle_username = \"colmwks\"\n",
    "\n",
    "    # Run the combination and upload\n",
    "    combine_and_upload_to_kaggle(user_reviews_file, movie_reviews_file, output_file, kaggle_username)"
   ]
  },
  {
   "cell_type": "code",
   "execution_count": 20,
   "id": "1acf713f-348b-48e6-b381-d5461919da89",
   "metadata": {},
   "outputs": [
    {
     "name": "stdout",
     "output_type": "stream",
     "text": [
      "Combined CSV saved to ../data/movie_reviews.csv\n",
      "Warning: Your Kaggle API key is readable by other users on this system! To fix this, you can run 'chmod 600 /home/jovyan/.kaggle/kaggle.json'\n",
      "Starting upload for file reviews_from_users.csv\n",
      "Upload successful: reviews_from_users.csv (3KB)\n",
      "Starting upload for file reviews_from_movies.csv\n",
      "Upload successful: reviews_from_movies.csv (2KB)\n",
      "Starting upload for file movie_reviews.csv\n"
     ]
    },
    {
     "name": "stderr",
     "output_type": "stream",
     "text": [
      "100%|██████████| 5.47k/5.47k [00:00<00:00, 11.0kB/s]\n"
     ]
    },
    {
     "name": "stdout",
     "output_type": "stream",
     "text": [
      "Upload successful: movie_reviews.csv (5KB)\n",
      "Dataset successfully updated on Kaggle!\n"
     ]
    }
   ],
   "source": [
    "def combine_and_upload_to_kaggle(user_reviews_file, movie_reviews_file, output_file, kaggle_username):\n",
    "    # Load the CSV files\n",
    "    user_reviews_df = pd.read_csv(\"../data/reviews_from_users.csv\")\n",
    "    movie_reviews_df = pd.read_csv(\"../data/reviews_from_movies.csv\")\n",
    "\n",
    "    # Rename columns to match for merging\n",
    "    #movie_reviews_df.rename(columns={'movie_title': 'movie_name', 'movie_year': 'movie_release_date'}, inplace=True)\n",
    "\n",
    "    # Combine the dataframes\n",
    "    combined_df = pd.concat([user_reviews_df, movie_reviews_df], ignore_index=True)\n",
    "\n",
    "    # Save the combined dataframe to a new CSV file\n",
    "    combined_df.to_csv(output_file, index=False)\n",
    "    print(f\"Combined CSV saved to {output_file}\")\n",
    "\n",
    "    # Initialize Kaggle API\n",
    "    api = KaggleApi()\n",
    "    api.authenticate()\n",
    "\n",
    "    # Upload to Kaggle as a new version of the dataset\n",
    "    api.dataset_create_new(\n",
    "        folder=os.path.dirname(output_file),\n",
    "        public=False\n",
    "    )\n",
    "    print(f\"Dataset successfully updated on Kaggle!\")\n",
    "\n",
    "if __name__ == \"__main__\":\n",
    "    # Specify your input files and output file\n",
    "    user_reviews_file = \"../data/reviews_from_users.csv\"\n",
    "    movie_reviews_file = \"../data/reviews_from_movies.csv\"\n",
    "    output_file = \"../data/movie_reviews.csv\"\n",
    "    \n",
    "    # Kaggle information\n",
    "    kaggle_username = \"colmwks\"\n",
    "\n",
    "    # Run the combination and upload\n",
    "    combine_and_upload_to_kaggle(user_reviews_file, movie_reviews_file, output_file, kaggle_username)"
   ]
  },
  {
   "cell_type": "code",
   "execution_count": 19,
   "id": "1aa5a888-448b-43b7-96af-190eb66f6b55",
   "metadata": {},
   "outputs": [
    {
     "name": "stdout",
     "output_type": "stream",
     "text": [
      "Combined CSV saved to ../data/movie_reviews.csv\n",
      "Warning: Your Kaggle API key is readable by other users on this system! To fix this, you can run 'chmod 600 /home/jovyan/.kaggle/kaggle.json'\n",
      "Starting upload for file reviews_from_users.csv\n"
     ]
    },
    {
     "name": "stderr",
     "output_type": "stream",
     "text": [
      "100%|██████████| 3.19k/3.19k [00:00<00:00, 6.44kB/s]\n"
     ]
    },
    {
     "name": "stdout",
     "output_type": "stream",
     "text": [
      "Upload successful: reviews_from_users.csv (3KB)\n",
      "Starting upload for file reviews_from_movies.csv\n"
     ]
    },
    {
     "name": "stderr",
     "output_type": "stream",
     "text": [
      "100%|██████████| 2.35k/2.35k [00:00<00:00, 4.76kB/s]\n"
     ]
    },
    {
     "name": "stdout",
     "output_type": "stream",
     "text": [
      "Upload successful: reviews_from_movies.csv (2KB)\n",
      "Starting upload for file movie_reviews.csv\n"
     ]
    },
    {
     "name": "stderr",
     "output_type": "stream",
     "text": [
      "100%|██████████| 5.47k/5.47k [00:00<00:00, 12.9kB/s]\n"
     ]
    },
    {
     "name": "stdout",
     "output_type": "stream",
     "text": [
      "Upload successful: movie_reviews.csv (5KB)\n"
     ]
    },
    {
     "ename": "ApiException",
     "evalue": "(403)\nReason: Forbidden\nHTTP response headers: HTTPHeaderDict({'Content-Type': 'application/json', 'Date': 'Thu, 22 Aug 2024 21:17:13 GMT', 'Access-Control-Allow-Credentials': 'true', 'Access-Control-Allow-Origin': '*', 'Set-Cookie': 'ka_sessionid=07c9abccd5147c80b75fe90b732dc67f; max-age=2626560; path=/, GCLB=COSiy9TOvIu58gEQAw; path=/; HttpOnly', 'Vary': 'Accept-Encoding', 'X-Kaggle-MillisecondsElapsed': '12', 'X-Kaggle-RequestId': '32253826b157b9f0c9610f063fe1e6fc', 'X-Kaggle-ApiVersion': '1.6.17', 'X-Kaggle-HubVersion': '0.2.9', 'X-Frame-Options': 'SAMEORIGIN', 'Strict-Transport-Security': 'max-age=63072000; includeSubDomains; preload', 'Content-Security-Policy': \"object-src 'none'; script-src 'nonce-YswyR0rZ+3rKgBxCFLf/ZA==' 'report-sample' 'unsafe-inline' 'unsafe-eval' 'strict-dynamic' https: http:; base-uri 'none'; report-uri https://csp.withgoogle.com/csp/kaggle/20201130; frame-src 'self' https://www.kaggleusercontent.com https://www.youtube.com/embed/ https://polygraph-cool.github.io https://www.google.com/recaptcha/ https://www.docdroid.com https://www.docdroid.net https://kaggle-static.storage.googleapis.com https://kkb-production.jupyter-proxy.kaggle.net https://kkb-production.firebaseapp.com https://kaggle-metastore.firebaseapp.com https://apis.google.com https://content-sheets.googleapis.com/ https://accounts.google.com/ https://storage.googleapis.com https://docs.google.com https://drive.google.com https://calendar.google.com/ ;\", 'X-Content-Type-Options': 'nosniff', 'Referrer-Policy': 'strict-origin-when-cross-origin', 'Via': '1.1 google', 'Alt-Svc': 'h3=\":443\"; ma=2592000,h3-29=\":443\"; ma=2592000', 'Transfer-Encoding': 'chunked'})\nHTTP response body: {\"code\":403,\"message\":\"Permission \\u0027datasets.update\\u0027 was denied\"}\n",
     "output_type": "error",
     "traceback": [
      "\u001b[0;31m---------------------------------------------------------------------------\u001b[0m",
      "\u001b[0;31mApiException\u001b[0m                              Traceback (most recent call last)",
      "Cell \u001b[0;32mIn[19], line 38\u001b[0m\n\u001b[1;32m     35\u001b[0m kaggle_username \u001b[38;5;241m=\u001b[39m \u001b[38;5;124m\"\u001b[39m\u001b[38;5;124mcolmwks\u001b[39m\u001b[38;5;124m\"\u001b[39m\n\u001b[1;32m     37\u001b[0m \u001b[38;5;66;03m# Run the combination and upload\u001b[39;00m\n\u001b[0;32m---> 38\u001b[0m \u001b[43mcombine_and_upload_to_kaggle\u001b[49m\u001b[43m(\u001b[49m\u001b[43muser_reviews_file\u001b[49m\u001b[43m,\u001b[49m\u001b[43m \u001b[49m\u001b[43mmovie_reviews_file\u001b[49m\u001b[43m,\u001b[49m\u001b[43m \u001b[49m\u001b[43moutput_file\u001b[49m\u001b[43m,\u001b[49m\u001b[43m \u001b[49m\u001b[43mkaggle_username\u001b[49m\u001b[43m)\u001b[49m\n",
      "Cell \u001b[0;32mIn[19], line 21\u001b[0m, in \u001b[0;36mcombine_and_upload_to_kaggle\u001b[0;34m(user_reviews_file, movie_reviews_file, output_file, kaggle_username)\u001b[0m\n\u001b[1;32m     18\u001b[0m api\u001b[38;5;241m.\u001b[39mauthenticate()\n\u001b[1;32m     20\u001b[0m \u001b[38;5;66;03m# Upload to Kaggle as a new version of the dataset\u001b[39;00m\n\u001b[0;32m---> 21\u001b[0m \u001b[43mapi\u001b[49m\u001b[38;5;241;43m.\u001b[39;49m\u001b[43mdataset_create_version\u001b[49m\u001b[43m(\u001b[49m\n\u001b[1;32m     22\u001b[0m \u001b[43m    \u001b[49m\u001b[43mfolder\u001b[49m\u001b[38;5;241;43m=\u001b[39;49m\u001b[43mos\u001b[49m\u001b[38;5;241;43m.\u001b[39;49m\u001b[43mpath\u001b[49m\u001b[38;5;241;43m.\u001b[39;49m\u001b[43mdirname\u001b[49m\u001b[43m(\u001b[49m\u001b[43moutput_file\u001b[49m\u001b[43m)\u001b[49m\u001b[43m,\u001b[49m\n\u001b[1;32m     23\u001b[0m \u001b[43m    \u001b[49m\u001b[43mversion_notes\u001b[49m\u001b[38;5;241;43m=\u001b[39;49m\u001b[38;5;124;43m\"\u001b[39;49m\u001b[38;5;124;43m1.0\u001b[39;49m\u001b[38;5;124;43m\"\u001b[39;49m\n\u001b[1;32m     24\u001b[0m \u001b[43m\u001b[49m\u001b[43m)\u001b[49m\n\u001b[1;32m     25\u001b[0m \u001b[38;5;28mprint\u001b[39m(\u001b[38;5;124mf\u001b[39m\u001b[38;5;124m\"\u001b[39m\u001b[38;5;124mDataset successfully updated on Kaggle!\u001b[39m\u001b[38;5;124m\"\u001b[39m)\n",
      "File \u001b[0;32m/opt/conda/lib/python3.11/site-packages/kaggle/api/kaggle_api_extended.py:1706\u001b[0m, in \u001b[0;36mKaggleApi.dataset_create_version\u001b[0;34m(self, folder, version_notes, quiet, convert_to_csv, delete_old_versions, dir_mode)\u001b[0m\n\u001b[1;32m   1700\u001b[0m \u001b[38;5;28mself\u001b[39m\u001b[38;5;241m.\u001b[39mupload_files(request, resources, folder, ApiBlobType\u001b[38;5;241m.\u001b[39mDATASET,\n\u001b[1;32m   1701\u001b[0m                   upload_context, quiet, dir_mode)\n\u001b[1;32m   1703\u001b[0m \u001b[38;5;28;01mif\u001b[39;00m id_no:\n\u001b[1;32m   1704\u001b[0m     result \u001b[38;5;241m=\u001b[39m DatasetNewVersionResponse(\n\u001b[1;32m   1705\u001b[0m         \u001b[38;5;28mself\u001b[39m\u001b[38;5;241m.\u001b[39mprocess_response(\n\u001b[0;32m-> 1706\u001b[0m             \u001b[38;5;28;43mself\u001b[39;49m\u001b[38;5;241;43m.\u001b[39;49m\u001b[43mwith_retry\u001b[49m\u001b[43m(\u001b[49m\n\u001b[1;32m   1707\u001b[0m \u001b[43m                \u001b[49m\u001b[38;5;28;43mself\u001b[39;49m\u001b[38;5;241;43m.\u001b[39;49m\u001b[43mdatasets_create_version_by_id_with_http_info\u001b[49m\u001b[43m)\u001b[49m\u001b[43m(\u001b[49m\n\u001b[1;32m   1708\u001b[0m \u001b[43m                    \u001b[49m\u001b[43mid_no\u001b[49m\u001b[43m,\u001b[49m\u001b[43m \u001b[49m\u001b[43mrequest\u001b[49m\u001b[43m)\u001b[49m))\n\u001b[1;32m   1709\u001b[0m \u001b[38;5;28;01melse\u001b[39;00m:\n\u001b[1;32m   1710\u001b[0m     \u001b[38;5;28;01mif\u001b[39;00m ref \u001b[38;5;241m==\u001b[39m \u001b[38;5;28mself\u001b[39m\u001b[38;5;241m.\u001b[39mconfig_values[\n\u001b[1;32m   1711\u001b[0m             \u001b[38;5;28mself\u001b[39m\u001b[38;5;241m.\u001b[39mCONFIG_NAME_USER] \u001b[38;5;241m+\u001b[39m \u001b[38;5;124m'\u001b[39m\u001b[38;5;124m/INSERT_SLUG_HERE\u001b[39m\u001b[38;5;124m'\u001b[39m:\n",
      "File \u001b[0;32m/opt/conda/lib/python3.11/site-packages/kaggle/api/kaggle_api_extended.py:365\u001b[0m, in \u001b[0;36mKaggleApi.with_retry.<locals>.retriable_func\u001b[0;34m(*args)\u001b[0m\n\u001b[1;32m    363\u001b[0m \u001b[38;5;28;01mfor\u001b[39;00m i \u001b[38;5;129;01min\u001b[39;00m \u001b[38;5;28mrange\u001b[39m(\u001b[38;5;241m1\u001b[39m, max_retries \u001b[38;5;241m+\u001b[39m \u001b[38;5;241m1\u001b[39m):\n\u001b[1;32m    364\u001b[0m     \u001b[38;5;28;01mtry\u001b[39;00m:\n\u001b[0;32m--> 365\u001b[0m         \u001b[38;5;28;01mreturn\u001b[39;00m \u001b[43mfunc\u001b[49m\u001b[43m(\u001b[49m\u001b[38;5;241;43m*\u001b[39;49m\u001b[43margs\u001b[49m\u001b[43m)\u001b[49m\n\u001b[1;32m    366\u001b[0m     \u001b[38;5;28;01mexcept\u001b[39;00m \u001b[38;5;167;01mException\u001b[39;00m \u001b[38;5;28;01mas\u001b[39;00m e:\n\u001b[1;32m    367\u001b[0m         \u001b[38;5;28;01mif\u001b[39;00m \u001b[38;5;28mself\u001b[39m\u001b[38;5;241m.\u001b[39m_is_retriable(e) \u001b[38;5;129;01mand\u001b[39;00m i \u001b[38;5;241m<\u001b[39m max_retries:\n",
      "File \u001b[0;32m/opt/conda/lib/python3.11/site-packages/kaggle/api/kaggle_api.py:1450\u001b[0m, in \u001b[0;36mKaggleApi.datasets_create_version_by_id_with_http_info\u001b[0;34m(self, id, dataset_new_version_request, **kwargs)\u001b[0m\n\u001b[1;32m   1447\u001b[0m \u001b[38;5;66;03m# Authentication setting\u001b[39;00m\n\u001b[1;32m   1448\u001b[0m auth_settings \u001b[38;5;241m=\u001b[39m [\u001b[38;5;124m'\u001b[39m\u001b[38;5;124mbasicAuth\u001b[39m\u001b[38;5;124m'\u001b[39m]  \u001b[38;5;66;03m# noqa: E501\u001b[39;00m\n\u001b[0;32m-> 1450\u001b[0m \u001b[38;5;28;01mreturn\u001b[39;00m \u001b[38;5;28;43mself\u001b[39;49m\u001b[38;5;241;43m.\u001b[39;49m\u001b[43mapi_client\u001b[49m\u001b[38;5;241;43m.\u001b[39;49m\u001b[43mcall_api\u001b[49m\u001b[43m(\u001b[49m\n\u001b[1;32m   1451\u001b[0m \u001b[43m    \u001b[49m\u001b[38;5;124;43m'\u001b[39;49m\u001b[38;5;124;43m/datasets/create/version/\u001b[39;49m\u001b[38;5;132;43;01m{id}\u001b[39;49;00m\u001b[38;5;124;43m'\u001b[39;49m\u001b[43m,\u001b[49m\u001b[43m \u001b[49m\u001b[38;5;124;43m'\u001b[39;49m\u001b[38;5;124;43mPOST\u001b[39;49m\u001b[38;5;124;43m'\u001b[39;49m\u001b[43m,\u001b[49m\n\u001b[1;32m   1452\u001b[0m \u001b[43m    \u001b[49m\u001b[43mpath_params\u001b[49m\u001b[43m,\u001b[49m\n\u001b[1;32m   1453\u001b[0m \u001b[43m    \u001b[49m\u001b[43mquery_params\u001b[49m\u001b[43m,\u001b[49m\n\u001b[1;32m   1454\u001b[0m \u001b[43m    \u001b[49m\u001b[43mheader_params\u001b[49m\u001b[43m,\u001b[49m\n\u001b[1;32m   1455\u001b[0m \u001b[43m    \u001b[49m\u001b[43mbody\u001b[49m\u001b[38;5;241;43m=\u001b[39;49m\u001b[43mbody_params\u001b[49m\u001b[43m,\u001b[49m\n\u001b[1;32m   1456\u001b[0m \u001b[43m    \u001b[49m\u001b[43mpost_params\u001b[49m\u001b[38;5;241;43m=\u001b[39;49m\u001b[43mform_params\u001b[49m\u001b[43m,\u001b[49m\n\u001b[1;32m   1457\u001b[0m \u001b[43m    \u001b[49m\u001b[43mfiles\u001b[49m\u001b[38;5;241;43m=\u001b[39;49m\u001b[43mlocal_var_files\u001b[49m\u001b[43m,\u001b[49m\n\u001b[1;32m   1458\u001b[0m \u001b[43m    \u001b[49m\u001b[43mresponse_type\u001b[49m\u001b[38;5;241;43m=\u001b[39;49m\u001b[38;5;124;43m'\u001b[39;49m\u001b[38;5;124;43mResult\u001b[39;49m\u001b[38;5;124;43m'\u001b[39;49m\u001b[43m,\u001b[49m\u001b[43m  \u001b[49m\u001b[38;5;66;43;03m# noqa: E501\u001b[39;49;00m\n\u001b[1;32m   1459\u001b[0m \u001b[43m    \u001b[49m\u001b[43mauth_settings\u001b[49m\u001b[38;5;241;43m=\u001b[39;49m\u001b[43mauth_settings\u001b[49m\u001b[43m,\u001b[49m\n\u001b[1;32m   1460\u001b[0m \u001b[43m    \u001b[49m\u001b[43masync_req\u001b[49m\u001b[38;5;241;43m=\u001b[39;49m\u001b[43mparams\u001b[49m\u001b[38;5;241;43m.\u001b[39;49m\u001b[43mget\u001b[49m\u001b[43m(\u001b[49m\u001b[38;5;124;43m'\u001b[39;49m\u001b[38;5;124;43masync_req\u001b[39;49m\u001b[38;5;124;43m'\u001b[39;49m\u001b[43m)\u001b[49m\u001b[43m,\u001b[49m\n\u001b[1;32m   1461\u001b[0m \u001b[43m    \u001b[49m\u001b[43m_return_http_data_only\u001b[49m\u001b[38;5;241;43m=\u001b[39;49m\u001b[43mparams\u001b[49m\u001b[38;5;241;43m.\u001b[39;49m\u001b[43mget\u001b[49m\u001b[43m(\u001b[49m\u001b[38;5;124;43m'\u001b[39;49m\u001b[38;5;124;43m_return_http_data_only\u001b[39;49m\u001b[38;5;124;43m'\u001b[39;49m\u001b[43m)\u001b[49m\u001b[43m,\u001b[49m\n\u001b[1;32m   1462\u001b[0m \u001b[43m    \u001b[49m\u001b[43m_preload_content\u001b[49m\u001b[38;5;241;43m=\u001b[39;49m\u001b[43mparams\u001b[49m\u001b[38;5;241;43m.\u001b[39;49m\u001b[43mget\u001b[49m\u001b[43m(\u001b[49m\u001b[38;5;124;43m'\u001b[39;49m\u001b[38;5;124;43m_preload_content\u001b[39;49m\u001b[38;5;124;43m'\u001b[39;49m\u001b[43m,\u001b[49m\u001b[43m \u001b[49m\u001b[38;5;28;43;01mTrue\u001b[39;49;00m\u001b[43m)\u001b[49m\u001b[43m,\u001b[49m\n\u001b[1;32m   1463\u001b[0m \u001b[43m    \u001b[49m\u001b[43m_request_timeout\u001b[49m\u001b[38;5;241;43m=\u001b[39;49m\u001b[43mparams\u001b[49m\u001b[38;5;241;43m.\u001b[39;49m\u001b[43mget\u001b[49m\u001b[43m(\u001b[49m\u001b[38;5;124;43m'\u001b[39;49m\u001b[38;5;124;43m_request_timeout\u001b[39;49m\u001b[38;5;124;43m'\u001b[39;49m\u001b[43m)\u001b[49m\u001b[43m,\u001b[49m\n\u001b[1;32m   1464\u001b[0m \u001b[43m    \u001b[49m\u001b[43mcollection_formats\u001b[49m\u001b[38;5;241;43m=\u001b[39;49m\u001b[43mcollection_formats\u001b[49m\u001b[43m)\u001b[49m\n",
      "File \u001b[0;32m/opt/conda/lib/python3.11/site-packages/kaggle/api_client.py:313\u001b[0m, in \u001b[0;36mApiClient.call_api\u001b[0;34m(self, resource_path, method, path_params, query_params, header_params, body, post_params, files, response_type, auth_settings, async_req, _return_http_data_only, collection_formats, _preload_content, _request_timeout)\u001b[0m\n\u001b[1;32m    276\u001b[0m \u001b[38;5;250m\u001b[39m\u001b[38;5;124;03m\"\"\"Makes the HTTP request (synchronous) and returns deserialized data.\u001b[39;00m\n\u001b[1;32m    277\u001b[0m \n\u001b[1;32m    278\u001b[0m \u001b[38;5;124;03mTo make an async request, set the async_req parameter.\u001b[39;00m\n\u001b[0;32m   (...)\u001b[0m\n\u001b[1;32m    310\u001b[0m \u001b[38;5;124;03m    then the method will return the response directly.\u001b[39;00m\n\u001b[1;32m    311\u001b[0m \u001b[38;5;124;03m\"\"\"\u001b[39;00m\n\u001b[1;32m    312\u001b[0m \u001b[38;5;28;01mif\u001b[39;00m \u001b[38;5;129;01mnot\u001b[39;00m async_req:\n\u001b[0;32m--> 313\u001b[0m     \u001b[38;5;28;01mreturn\u001b[39;00m \u001b[38;5;28;43mself\u001b[39;49m\u001b[38;5;241;43m.\u001b[39;49m\u001b[43m__call_api\u001b[49m\u001b[43m(\u001b[49m\u001b[43mresource_path\u001b[49m\u001b[43m,\u001b[49m\u001b[43m \u001b[49m\u001b[43mmethod\u001b[49m\u001b[43m,\u001b[49m\n\u001b[1;32m    314\u001b[0m \u001b[43m                           \u001b[49m\u001b[43mpath_params\u001b[49m\u001b[43m,\u001b[49m\u001b[43m \u001b[49m\u001b[43mquery_params\u001b[49m\u001b[43m,\u001b[49m\u001b[43m \u001b[49m\u001b[43mheader_params\u001b[49m\u001b[43m,\u001b[49m\n\u001b[1;32m    315\u001b[0m \u001b[43m                           \u001b[49m\u001b[43mbody\u001b[49m\u001b[43m,\u001b[49m\u001b[43m \u001b[49m\u001b[43mpost_params\u001b[49m\u001b[43m,\u001b[49m\u001b[43m \u001b[49m\u001b[43mfiles\u001b[49m\u001b[43m,\u001b[49m\n\u001b[1;32m    316\u001b[0m \u001b[43m                           \u001b[49m\u001b[43mresponse_type\u001b[49m\u001b[43m,\u001b[49m\u001b[43m \u001b[49m\u001b[43mauth_settings\u001b[49m\u001b[43m,\u001b[49m\n\u001b[1;32m    317\u001b[0m \u001b[43m                           \u001b[49m\u001b[43m_return_http_data_only\u001b[49m\u001b[43m,\u001b[49m\u001b[43m \u001b[49m\u001b[43mcollection_formats\u001b[49m\u001b[43m,\u001b[49m\n\u001b[1;32m    318\u001b[0m \u001b[43m                           \u001b[49m\u001b[43m_preload_content\u001b[49m\u001b[43m,\u001b[49m\u001b[43m \u001b[49m\u001b[43m_request_timeout\u001b[49m\u001b[43m)\u001b[49m\n\u001b[1;32m    319\u001b[0m \u001b[38;5;28;01melse\u001b[39;00m:\n\u001b[1;32m    320\u001b[0m     thread \u001b[38;5;241m=\u001b[39m \u001b[38;5;28mself\u001b[39m\u001b[38;5;241m.\u001b[39mpool\u001b[38;5;241m.\u001b[39mapply_async(\u001b[38;5;28mself\u001b[39m\u001b[38;5;241m.\u001b[39m__call_api, (resource_path,\n\u001b[1;32m    321\u001b[0m                                    method, path_params, query_params,\n\u001b[1;32m    322\u001b[0m                                    header_params, body,\n\u001b[0;32m   (...)\u001b[0m\n\u001b[1;32m    326\u001b[0m                                    collection_formats,\n\u001b[1;32m    327\u001b[0m                                    _preload_content, _request_timeout))\n",
      "File \u001b[0;32m/opt/conda/lib/python3.11/site-packages/kaggle/api_client.py:145\u001b[0m, in \u001b[0;36mApiClient.__call_api\u001b[0;34m(self, resource_path, method, path_params, query_params, header_params, body, post_params, files, response_type, auth_settings, _return_http_data_only, collection_formats, _preload_content, _request_timeout)\u001b[0m\n\u001b[1;32m    142\u001b[0m url \u001b[38;5;241m=\u001b[39m \u001b[38;5;28mself\u001b[39m\u001b[38;5;241m.\u001b[39mconfiguration\u001b[38;5;241m.\u001b[39mhost \u001b[38;5;241m+\u001b[39m resource_path\n\u001b[1;32m    144\u001b[0m \u001b[38;5;66;03m# perform request and return response\u001b[39;00m\n\u001b[0;32m--> 145\u001b[0m response_data \u001b[38;5;241m=\u001b[39m \u001b[38;5;28;43mself\u001b[39;49m\u001b[38;5;241;43m.\u001b[39;49m\u001b[43mrequest\u001b[49m\u001b[43m(\u001b[49m\n\u001b[1;32m    146\u001b[0m \u001b[43m    \u001b[49m\u001b[43mmethod\u001b[49m\u001b[43m,\u001b[49m\u001b[43m \u001b[49m\u001b[43murl\u001b[49m\u001b[43m,\u001b[49m\u001b[43m \u001b[49m\u001b[43mquery_params\u001b[49m\u001b[38;5;241;43m=\u001b[39;49m\u001b[43mquery_params\u001b[49m\u001b[43m,\u001b[49m\u001b[43m \u001b[49m\u001b[43mheaders\u001b[49m\u001b[38;5;241;43m=\u001b[39;49m\u001b[43mheader_params\u001b[49m\u001b[43m,\u001b[49m\n\u001b[1;32m    147\u001b[0m \u001b[43m    \u001b[49m\u001b[43mpost_params\u001b[49m\u001b[38;5;241;43m=\u001b[39;49m\u001b[43mpost_params\u001b[49m\u001b[43m,\u001b[49m\u001b[43m \u001b[49m\u001b[43mbody\u001b[49m\u001b[38;5;241;43m=\u001b[39;49m\u001b[43mbody\u001b[49m\u001b[43m,\u001b[49m\n\u001b[1;32m    148\u001b[0m \u001b[43m    \u001b[49m\u001b[43m_preload_content\u001b[49m\u001b[38;5;241;43m=\u001b[39;49m\u001b[43m_preload_content\u001b[49m\u001b[43m,\u001b[49m\n\u001b[1;32m    149\u001b[0m \u001b[43m    \u001b[49m\u001b[43m_request_timeout\u001b[49m\u001b[38;5;241;43m=\u001b[39;49m\u001b[43m_request_timeout\u001b[49m\u001b[43m)\u001b[49m\n\u001b[1;32m    151\u001b[0m \u001b[38;5;28mself\u001b[39m\u001b[38;5;241m.\u001b[39mlast_response \u001b[38;5;241m=\u001b[39m response_data\n\u001b[1;32m    153\u001b[0m return_data \u001b[38;5;241m=\u001b[39m response_data\n",
      "File \u001b[0;32m/opt/conda/lib/python3.11/site-packages/kaggle/api_client.py:355\u001b[0m, in \u001b[0;36mApiClient.request\u001b[0;34m(self, method, url, query_params, headers, post_params, body, _preload_content, _request_timeout)\u001b[0m\n\u001b[1;32m    347\u001b[0m     \u001b[38;5;28;01mreturn\u001b[39;00m \u001b[38;5;28mself\u001b[39m\u001b[38;5;241m.\u001b[39mrest_client\u001b[38;5;241m.\u001b[39mOPTIONS(url,\n\u001b[1;32m    348\u001b[0m                                     query_params\u001b[38;5;241m=\u001b[39mquery_params,\n\u001b[1;32m    349\u001b[0m                                     headers\u001b[38;5;241m=\u001b[39mheaders,\n\u001b[0;32m   (...)\u001b[0m\n\u001b[1;32m    352\u001b[0m                                     _request_timeout\u001b[38;5;241m=\u001b[39m_request_timeout,\n\u001b[1;32m    353\u001b[0m                                     body\u001b[38;5;241m=\u001b[39mbody)\n\u001b[1;32m    354\u001b[0m \u001b[38;5;28;01melif\u001b[39;00m method \u001b[38;5;241m==\u001b[39m \u001b[38;5;124m\"\u001b[39m\u001b[38;5;124mPOST\u001b[39m\u001b[38;5;124m\"\u001b[39m:\n\u001b[0;32m--> 355\u001b[0m     \u001b[38;5;28;01mreturn\u001b[39;00m \u001b[38;5;28;43mself\u001b[39;49m\u001b[38;5;241;43m.\u001b[39;49m\u001b[43mrest_client\u001b[49m\u001b[38;5;241;43m.\u001b[39;49m\u001b[43mPOST\u001b[49m\u001b[43m(\u001b[49m\u001b[43murl\u001b[49m\u001b[43m,\u001b[49m\n\u001b[1;32m    356\u001b[0m \u001b[43m                                 \u001b[49m\u001b[43mquery_params\u001b[49m\u001b[38;5;241;43m=\u001b[39;49m\u001b[43mquery_params\u001b[49m\u001b[43m,\u001b[49m\n\u001b[1;32m    357\u001b[0m \u001b[43m                                 \u001b[49m\u001b[43mheaders\u001b[49m\u001b[38;5;241;43m=\u001b[39;49m\u001b[43mheaders\u001b[49m\u001b[43m,\u001b[49m\n\u001b[1;32m    358\u001b[0m \u001b[43m                                 \u001b[49m\u001b[43mpost_params\u001b[49m\u001b[38;5;241;43m=\u001b[39;49m\u001b[43mpost_params\u001b[49m\u001b[43m,\u001b[49m\n\u001b[1;32m    359\u001b[0m \u001b[43m                                 \u001b[49m\u001b[43m_preload_content\u001b[49m\u001b[38;5;241;43m=\u001b[39;49m\u001b[43m_preload_content\u001b[49m\u001b[43m,\u001b[49m\n\u001b[1;32m    360\u001b[0m \u001b[43m                                 \u001b[49m\u001b[43m_request_timeout\u001b[49m\u001b[38;5;241;43m=\u001b[39;49m\u001b[43m_request_timeout\u001b[49m\u001b[43m,\u001b[49m\n\u001b[1;32m    361\u001b[0m \u001b[43m                                 \u001b[49m\u001b[43mbody\u001b[49m\u001b[38;5;241;43m=\u001b[39;49m\u001b[43mbody\u001b[49m\u001b[43m)\u001b[49m\n\u001b[1;32m    362\u001b[0m \u001b[38;5;28;01melif\u001b[39;00m method \u001b[38;5;241m==\u001b[39m \u001b[38;5;124m\"\u001b[39m\u001b[38;5;124mPUT\u001b[39m\u001b[38;5;124m\"\u001b[39m:\n\u001b[1;32m    363\u001b[0m     \u001b[38;5;28;01mreturn\u001b[39;00m \u001b[38;5;28mself\u001b[39m\u001b[38;5;241m.\u001b[39mrest_client\u001b[38;5;241m.\u001b[39mPUT(url,\n\u001b[1;32m    364\u001b[0m                                 query_params\u001b[38;5;241m=\u001b[39mquery_params,\n\u001b[1;32m    365\u001b[0m                                 headers\u001b[38;5;241m=\u001b[39mheaders,\n\u001b[0;32m   (...)\u001b[0m\n\u001b[1;32m    368\u001b[0m                                 _request_timeout\u001b[38;5;241m=\u001b[39m_request_timeout,\n\u001b[1;32m    369\u001b[0m                                 body\u001b[38;5;241m=\u001b[39mbody)\n",
      "File \u001b[0;32m/opt/conda/lib/python3.11/site-packages/kaggle/rest.py:266\u001b[0m, in \u001b[0;36mRESTClientObject.POST\u001b[0;34m(self, url, headers, query_params, post_params, body, _preload_content, _request_timeout)\u001b[0m\n\u001b[1;32m    264\u001b[0m \u001b[38;5;28;01mdef\u001b[39;00m \u001b[38;5;21mPOST\u001b[39m(\u001b[38;5;28mself\u001b[39m, url, headers\u001b[38;5;241m=\u001b[39m\u001b[38;5;28;01mNone\u001b[39;00m, query_params\u001b[38;5;241m=\u001b[39m\u001b[38;5;28;01mNone\u001b[39;00m, post_params\u001b[38;5;241m=\u001b[39m\u001b[38;5;28;01mNone\u001b[39;00m,\n\u001b[1;32m    265\u001b[0m          body\u001b[38;5;241m=\u001b[39m\u001b[38;5;28;01mNone\u001b[39;00m, _preload_content\u001b[38;5;241m=\u001b[39m\u001b[38;5;28;01mTrue\u001b[39;00m, _request_timeout\u001b[38;5;241m=\u001b[39m\u001b[38;5;28;01mNone\u001b[39;00m):\n\u001b[0;32m--> 266\u001b[0m     \u001b[38;5;28;01mreturn\u001b[39;00m \u001b[38;5;28;43mself\u001b[39;49m\u001b[38;5;241;43m.\u001b[39;49m\u001b[43mrequest\u001b[49m\u001b[43m(\u001b[49m\u001b[38;5;124;43m\"\u001b[39;49m\u001b[38;5;124;43mPOST\u001b[39;49m\u001b[38;5;124;43m\"\u001b[39;49m\u001b[43m,\u001b[49m\u001b[43m \u001b[49m\u001b[43murl\u001b[49m\u001b[43m,\u001b[49m\n\u001b[1;32m    267\u001b[0m \u001b[43m                        \u001b[49m\u001b[43mheaders\u001b[49m\u001b[38;5;241;43m=\u001b[39;49m\u001b[43mheaders\u001b[49m\u001b[43m,\u001b[49m\n\u001b[1;32m    268\u001b[0m \u001b[43m                        \u001b[49m\u001b[43mquery_params\u001b[49m\u001b[38;5;241;43m=\u001b[39;49m\u001b[43mquery_params\u001b[49m\u001b[43m,\u001b[49m\n\u001b[1;32m    269\u001b[0m \u001b[43m                        \u001b[49m\u001b[43mpost_params\u001b[49m\u001b[38;5;241;43m=\u001b[39;49m\u001b[43mpost_params\u001b[49m\u001b[43m,\u001b[49m\n\u001b[1;32m    270\u001b[0m \u001b[43m                        \u001b[49m\u001b[43m_preload_content\u001b[49m\u001b[38;5;241;43m=\u001b[39;49m\u001b[43m_preload_content\u001b[49m\u001b[43m,\u001b[49m\n\u001b[1;32m    271\u001b[0m \u001b[43m                        \u001b[49m\u001b[43m_request_timeout\u001b[49m\u001b[38;5;241;43m=\u001b[39;49m\u001b[43m_request_timeout\u001b[49m\u001b[43m,\u001b[49m\n\u001b[1;32m    272\u001b[0m \u001b[43m                        \u001b[49m\u001b[43mbody\u001b[49m\u001b[38;5;241;43m=\u001b[39;49m\u001b[43mbody\u001b[49m\u001b[43m)\u001b[49m\n",
      "File \u001b[0;32m/opt/conda/lib/python3.11/site-packages/kaggle/rest.py:225\u001b[0m, in \u001b[0;36mRESTClientObject.request\u001b[0;34m(self, method, url, query_params, headers, body, post_params, _preload_content, _request_timeout)\u001b[0m\n\u001b[1;32m    222\u001b[0m     logger\u001b[38;5;241m.\u001b[39mdebug(\u001b[38;5;124m\"\u001b[39m\u001b[38;5;124mresponse body: \u001b[39m\u001b[38;5;132;01m%s\u001b[39;00m\u001b[38;5;124m\"\u001b[39m, r\u001b[38;5;241m.\u001b[39mdata)\n\u001b[1;32m    224\u001b[0m \u001b[38;5;28;01mif\u001b[39;00m \u001b[38;5;129;01mnot\u001b[39;00m \u001b[38;5;241m200\u001b[39m \u001b[38;5;241m<\u001b[39m\u001b[38;5;241m=\u001b[39m r\u001b[38;5;241m.\u001b[39mstatus \u001b[38;5;241m<\u001b[39m\u001b[38;5;241m=\u001b[39m \u001b[38;5;241m299\u001b[39m:\n\u001b[0;32m--> 225\u001b[0m     \u001b[38;5;28;01mraise\u001b[39;00m ApiException(http_resp\u001b[38;5;241m=\u001b[39mr)\n\u001b[1;32m    227\u001b[0m \u001b[38;5;28;01mreturn\u001b[39;00m r\n",
      "\u001b[0;31mApiException\u001b[0m: (403)\nReason: Forbidden\nHTTP response headers: HTTPHeaderDict({'Content-Type': 'application/json', 'Date': 'Thu, 22 Aug 2024 21:17:13 GMT', 'Access-Control-Allow-Credentials': 'true', 'Access-Control-Allow-Origin': '*', 'Set-Cookie': 'ka_sessionid=07c9abccd5147c80b75fe90b732dc67f; max-age=2626560; path=/, GCLB=COSiy9TOvIu58gEQAw; path=/; HttpOnly', 'Vary': 'Accept-Encoding', 'X-Kaggle-MillisecondsElapsed': '12', 'X-Kaggle-RequestId': '32253826b157b9f0c9610f063fe1e6fc', 'X-Kaggle-ApiVersion': '1.6.17', 'X-Kaggle-HubVersion': '0.2.9', 'X-Frame-Options': 'SAMEORIGIN', 'Strict-Transport-Security': 'max-age=63072000; includeSubDomains; preload', 'Content-Security-Policy': \"object-src 'none'; script-src 'nonce-YswyR0rZ+3rKgBxCFLf/ZA==' 'report-sample' 'unsafe-inline' 'unsafe-eval' 'strict-dynamic' https: http:; base-uri 'none'; report-uri https://csp.withgoogle.com/csp/kaggle/20201130; frame-src 'self' https://www.kaggleusercontent.com https://www.youtube.com/embed/ https://polygraph-cool.github.io https://www.google.com/recaptcha/ https://www.docdroid.com https://www.docdroid.net https://kaggle-static.storage.googleapis.com https://kkb-production.jupyter-proxy.kaggle.net https://kkb-production.firebaseapp.com https://kaggle-metastore.firebaseapp.com https://apis.google.com https://content-sheets.googleapis.com/ https://accounts.google.com/ https://storage.googleapis.com https://docs.google.com https://drive.google.com https://calendar.google.com/ ;\", 'X-Content-Type-Options': 'nosniff', 'Referrer-Policy': 'strict-origin-when-cross-origin', 'Via': '1.1 google', 'Alt-Svc': 'h3=\":443\"; ma=2592000,h3-29=\":443\"; ma=2592000', 'Transfer-Encoding': 'chunked'})\nHTTP response body: {\"code\":403,\"message\":\"Permission \\u0027datasets.update\\u0027 was denied\"}\n"
     ]
    }
   ],
   "source": [
    "def combine_and_upload_to_kaggle(user_reviews_file, movie_reviews_file, output_file, kaggle_username):\n",
    "    # Load the CSV files\n",
    "    user_reviews_df = pd.read_csv(\"../data/reviews_from_users.csv\")\n",
    "    movie_reviews_df = pd.read_csv(\"../data/reviews_from_movies.csv\")\n",
    "\n",
    "    # Rename columns to match for merging\n",
    "    #movie_reviews_df.rename(columns={'movie_title': 'movie_name', 'movie_year': 'movie_release_date'}, inplace=True)\n",
    "\n",
    "    # Combine the dataframes\n",
    "    combined_df = pd.concat([user_reviews_df, movie_reviews_df], ignore_index=True)\n",
    "\n",
    "    # Save the combined dataframe to a new CSV file\n",
    "    combined_df.to_csv(output_file, index=False)\n",
    "    print(f\"Combined CSV saved to {output_file}\")\n",
    "\n",
    "    # Initialize Kaggle API\n",
    "    api = KaggleApi()\n",
    "    api.authenticate()\n",
    "\n",
    "    # Upload to Kaggle as a new version of the dataset\n",
    "    api.dataset_create_version(\n",
    "        folder=os.path.dirname(output_file),\n",
    "        version_notes=\"1.0\"\n",
    "    )\n",
    "    print(f\"Dataset successfully updated on Kaggle!\")\n",
    "\n",
    "if __name__ == \"__main__\":\n",
    "    # Specify your input files and output file\n",
    "    user_reviews_file = \"../data/reviews_from_users.csv\"\n",
    "    movie_reviews_file = \"../data/reviews_from_movies.csv\"\n",
    "    output_file = \"../data/movie_reviews.csv\"\n",
    "    \n",
    "    # Kaggle information\n",
    "    kaggle_dataset_slug = \"colmwks/letterboxd-reviews-2024\"\n",
    "    kaggle_username = \"colmwks\"\n",
    "\n",
    "    # Run the combination and upload\n",
    "    combine_and_upload_to_kaggle(user_reviews_file, movie_reviews_file, output_file, kaggle_username)"
   ]
  },
  {
   "cell_type": "code",
   "execution_count": null,
   "id": "1a20de77-176c-4897-9dae-f1520acd2f6a",
   "metadata": {},
   "outputs": [],
   "source": []
  },
  {
   "cell_type": "code",
   "execution_count": 15,
   "id": "510db9cc-8fce-434b-b5d0-e624f0507a8a",
   "metadata": {},
   "outputs": [
    {
     "name": "stdout",
     "output_type": "stream",
     "text": [
      "Warning: Your Kaggle API key is readable by other users on this system! To fix this, you can run 'chmod 600 /home/jovyan/.kaggle/kaggle.json'\n"
     ]
    }
   ],
   "source": [
    "api = KaggleApi()\n",
    "api.authenticate()\n",
    "\n"
   ]
  },
  {
   "cell_type": "code",
   "execution_count": 21,
   "id": "e51ad5ec-f8fe-4ac6-ab8c-4ed180cd73e6",
   "metadata": {},
   "outputs": [
    {
     "data": {
      "text/plain": [
       "['__call__',\n",
       " '__class__',\n",
       " '__delattr__',\n",
       " '__dir__',\n",
       " '__doc__',\n",
       " '__eq__',\n",
       " '__format__',\n",
       " '__ge__',\n",
       " '__getattribute__',\n",
       " '__getstate__',\n",
       " '__gt__',\n",
       " '__hash__',\n",
       " '__init__',\n",
       " '__init_subclass__',\n",
       " '__le__',\n",
       " '__lt__',\n",
       " '__name__',\n",
       " '__ne__',\n",
       " '__new__',\n",
       " '__objclass__',\n",
       " '__qualname__',\n",
       " '__reduce__',\n",
       " '__reduce_ex__',\n",
       " '__repr__',\n",
       " '__self__',\n",
       " '__setattr__',\n",
       " '__sizeof__',\n",
       " '__str__',\n",
       " '__subclasshook__',\n",
       " '__text_signature__']"
      ]
     },
     "execution_count": 21,
     "metadata": {},
     "output_type": "execute_result"
    }
   ],
   "source": [
    "dir(api.dataset_create_version.__init__)"
   ]
  },
  {
   "cell_type": "code",
   "execution_count": null,
   "id": "69ebbc9e-f499-4bf9-8a99-6e6744712f93",
   "metadata": {},
   "outputs": [],
   "source": []
  }
 ],
 "metadata": {
  "kernelspec": {
   "display_name": "Python 3 (ipykernel)",
   "language": "python",
   "name": "python3"
  },
  "language_info": {
   "codemirror_mode": {
    "name": "ipython",
    "version": 3
   },
   "file_extension": ".py",
   "mimetype": "text/x-python",
   "name": "python",
   "nbconvert_exporter": "python",
   "pygments_lexer": "ipython3",
   "version": "3.11.6"
  }
 },
 "nbformat": 4,
 "nbformat_minor": 5
}
