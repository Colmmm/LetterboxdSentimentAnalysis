{
 "cells": [
  {
   "cell_type": "markdown",
   "id": "aa3218ae",
   "metadata": {
    "papermill": {
     "duration": 0.011998,
     "end_time": "2024-09-02T16:16:22.298777",
     "exception": false,
     "start_time": "2024-09-02T16:16:22.286779",
     "status": "completed"
    },
    "tags": []
   },
   "source": [
    "# 1. Setting Up the Environment\n",
    "\n",
    "## 1.1. Install dependencies:\n",
    "This command updates the system's package list and installs various libraries required for running Chrome and Selenium."
   ]
  },
  {
   "cell_type": "code",
   "execution_count": 1,
   "id": "905b8076",
   "metadata": {
    "execution": {
     "iopub.execute_input": "2024-09-02T16:16:22.325433Z",
     "iopub.status.busy": "2024-09-02T16:16:22.324916Z",
     "iopub.status.idle": "2024-09-02T16:16:50.396311Z",
     "shell.execute_reply": "2024-09-02T16:16:50.394469Z"
    },
    "papermill": {
     "duration": 28.088494,
     "end_time": "2024-09-02T16:16:50.399730",
     "exception": false,
     "start_time": "2024-09-02T16:16:22.311236",
     "status": "completed"
    },
    "tags": []
   },
   "outputs": [
    {
     "name": "stdout",
     "output_type": "stream",
     "text": [
      "Get:1 http://packages.cloud.google.com/apt gcsfuse-focal InRelease [1227 B]\r\n",
      "Get:2 http://security.ubuntu.com/ubuntu focal-security InRelease [128 kB]\r\n",
      "Hit:3 http://archive.ubuntu.com/ubuntu focal InRelease\r\n",
      "Get:4 https://packages.cloud.google.com/apt cloud-sdk InRelease [1618 B]\r\n",
      "Get:5 http://archive.ubuntu.com/ubuntu focal-updates InRelease [128 kB]\r\n",
      "Get:6 https://packages.cloud.google.com/apt cloud-sdk/main all Packages [1511 kB]\r\n",
      "Get:7 http://archive.ubuntu.com/ubuntu focal-backports InRelease [128 kB]\r\n",
      "Get:8 http://security.ubuntu.com/ubuntu focal-security/multiverse amd64 Packages [30.9 kB]\r\n",
      "Get:9 https://packages.cloud.google.com/apt cloud-sdk/main amd64 Packages [3214 kB]\r\n",
      "Get:10 http://security.ubuntu.com/ubuntu focal-security/universe amd64 Packages [1269 kB]\r\n",
      "Get:11 http://archive.ubuntu.com/ubuntu focal-updates/multiverse amd64 Packages [33.5 kB]\r\n",
      "Get:12 http://archive.ubuntu.com/ubuntu focal-updates/universe amd64 Packages [1555 kB]\r\n",
      "Get:13 http://security.ubuntu.com/ubuntu focal-security/main amd64 Packages [3934 kB]\r\n",
      "Get:14 http://archive.ubuntu.com/ubuntu focal-updates/main amd64 Packages [4398 kB]\r\n",
      "Get:15 http://security.ubuntu.com/ubuntu focal-security/restricted amd64 Packages [3926 kB]\r\n",
      "Get:16 http://archive.ubuntu.com/ubuntu focal-updates/restricted amd64 Packages [4077 kB]\r\n",
      "\r\n",
      "E: Repository 'http://packages.cloud.google.com/apt gcsfuse-focal InRelease' changed its 'Origin' value from 'namespaces/gcs-fuse-prod/repositories/gcsfuse-focal' to 'gcsfuse-focal'\r\n",
      "E: Repository 'http://packages.cloud.google.com/apt gcsfuse-focal InRelease' changed its 'Label' value from 'namespaces/gcs-fuse-prod/repositories/gcsfuse-focal' to 'gcsfuse-focal'\r\n",
      "N: This must be accepted explicitly before updates for this repository can be applied. See apt-secure(8) manpage for details.\r\n",
      "\r\n",
      "\r\n",
      "\r\n",
      "libfontconfig1 is already the newest version (2.13.1-2ubuntu3).\r\n",
      "libvulkan1 is already the newest version (1.2.131.2-1).\r\n",
      "libvulkan1 set to manually installed.\r\n",
      "The following additional packages will be installed:\r\n",
      "  gconf-service gconf-service-backend libglib2.0-bin libudev1\r\n",
      "Recommended packages:\r\n",
      "  xdg-user-dirs\r\n",
      "The following NEW packages will be installed:\r\n",
      "  gconf-service gconf-service-backend gconf2-common libdbus-glib-1-2 libgbm1\r\n",
      "  libgconf-2-4 libu2f-udev libwayland-server0 udev\r\n",
      "The following packages will be upgraded:\r\n",
      "  libglib2.0-0 libglib2.0-bin libnss3 libudev1\r\n",
      "4 upgraded, 9 newly installed, 0 to remove and 128 not upgraded.\r\n",
      "Need to get 5180 kB of archives.\r\n",
      "After this operation, 18.4 MB of additional disk space will be used.\r\n",
      "Get:1 http://archive.ubuntu.com/ubuntu focal-updates/main amd64 libudev1 amd64 245.4-4ubuntu3.23 [75.6 kB]\r\n",
      "Get:2 http://archive.ubuntu.com/ubuntu focal-updates/main amd64 libglib2.0-bin amd64 2.64.6-1~ubuntu20.04.7 [72.8 kB]\r\n",
      "Get:3 http://archive.ubuntu.com/ubuntu focal-updates/main amd64 libglib2.0-0 amd64 2.64.6-1~ubuntu20.04.7 [1289 kB]\r\n",
      "Get:4 http://archive.ubuntu.com/ubuntu focal-updates/main amd64 udev amd64 245.4-4ubuntu3.23 [1366 kB]\r\n",
      "Get:5 http://archive.ubuntu.com/ubuntu focal/main amd64 libdbus-glib-1-2 amd64 0.110-5fakssync1 [59.1 kB]\r\n",
      "Get:6 http://archive.ubuntu.com/ubuntu focal/universe amd64 gconf2-common all 3.2.6-6ubuntu1 [698 kB]\r\n",
      "Get:7 http://archive.ubuntu.com/ubuntu focal/universe amd64 libgconf-2-4 amd64 3.2.6-6ubuntu1 [84.8 kB]\r\n",
      "Get:8 http://archive.ubuntu.com/ubuntu focal/universe amd64 gconf-service-backend amd64 3.2.6-6ubuntu1 [58.6 kB]\r\n",
      "Get:9 http://archive.ubuntu.com/ubuntu focal/universe amd64 gconf-service amd64 3.2.6-6ubuntu1 [17.4 kB]\r\n",
      "Get:10 http://archive.ubuntu.com/ubuntu focal-updates/main amd64 libwayland-server0 amd64 1.18.0-1ubuntu0.1 [31.3 kB]\r\n",
      "Get:11 http://archive.ubuntu.com/ubuntu focal-updates/main amd64 libgbm1 amd64 21.2.6-0ubuntu0.1~20.04.2 [29.2 kB]\r\n",
      "Get:12 http://archive.ubuntu.com/ubuntu focal-updates/main amd64 libnss3 amd64 2:3.98-0ubuntu0.20.04.2 [1391 kB]\r\n",
      "Get:13 http://archive.ubuntu.com/ubuntu focal/main amd64 libu2f-udev all 1.1.10-1 [6108 B]\r\n",
      "Fetched 5180 kB in 2s (3020 kB/s)\r\n",
      "(Reading database ... 108782 files and directories currently installed.)\r\n",
      "Preparing to unpack .../libudev1_245.4-4ubuntu3.23_amd64.deb ...\r\n",
      "Unpacking libudev1:amd64 (245.4-4ubuntu3.23) over (245.4-4ubuntu3.22) ...\r\n",
      "Setting up libudev1:amd64 (245.4-4ubuntu3.23) ...\r\n",
      "(Reading database ... 108782 files and directories currently installed.)\r\n",
      "Preparing to unpack .../00-libglib2.0-bin_2.64.6-1~ubuntu20.04.7_amd64.deb ...\r\n",
      "Unpacking libglib2.0-bin (2.64.6-1~ubuntu20.04.7) over (2.64.6-1~ubuntu20.04.6) ...\r\n",
      "Preparing to unpack .../01-libglib2.0-0_2.64.6-1~ubuntu20.04.7_amd64.deb ...\r\n",
      "Unpacking libglib2.0-0:amd64 (2.64.6-1~ubuntu20.04.7) over (2.64.6-1~ubuntu20.04.6) ...\r\n",
      "Selecting previously unselected package udev.\r\n",
      "Preparing to unpack .../02-udev_245.4-4ubuntu3.23_amd64.deb ...\r\n",
      "Unpacking udev (245.4-4ubuntu3.23) ...\r\n",
      "Selecting previously unselected package libdbus-glib-1-2:amd64.\r\n",
      "Preparing to unpack .../03-libdbus-glib-1-2_0.110-5fakssync1_amd64.deb ...\r\n",
      "Unpacking libdbus-glib-1-2:amd64 (0.110-5fakssync1) ...\r\n",
      "Selecting previously unselected package gconf2-common.\r\n",
      "Preparing to unpack .../04-gconf2-common_3.2.6-6ubuntu1_all.deb ...\r\n",
      "Unpacking gconf2-common (3.2.6-6ubuntu1) ...\r\n",
      "Selecting previously unselected package libgconf-2-4:amd64.\r\n",
      "Preparing to unpack .../05-libgconf-2-4_3.2.6-6ubuntu1_amd64.deb ...\r\n",
      "Unpacking libgconf-2-4:amd64 (3.2.6-6ubuntu1) ...\r\n",
      "Selecting previously unselected package gconf-service-backend.\r\n",
      "Preparing to unpack .../06-gconf-service-backend_3.2.6-6ubuntu1_amd64.deb ...\r\n",
      "Unpacking gconf-service-backend (3.2.6-6ubuntu1) ...\r\n",
      "Selecting previously unselected package gconf-service.\r\n",
      "Preparing to unpack .../07-gconf-service_3.2.6-6ubuntu1_amd64.deb ...\r\n",
      "Unpacking gconf-service (3.2.6-6ubuntu1) ...\r\n",
      "Selecting previously unselected package libwayland-server0:amd64.\r\n",
      "Preparing to unpack .../08-libwayland-server0_1.18.0-1ubuntu0.1_amd64.deb ...\r\n",
      "Unpacking libwayland-server0:amd64 (1.18.0-1ubuntu0.1) ...\r\n",
      "Selecting previously unselected package libgbm1:amd64.\r\n",
      "Preparing to unpack .../09-libgbm1_21.2.6-0ubuntu0.1~20.04.2_amd64.deb ...\r\n",
      "Unpacking libgbm1:amd64 (21.2.6-0ubuntu0.1~20.04.2) ...\r\n",
      "Preparing to unpack .../10-libnss3_2%3a3.98-0ubuntu0.20.04.2_amd64.deb ...\r\n",
      "Unpacking libnss3:amd64 (2:3.98-0ubuntu0.20.04.2) over (2:3.49.1-1ubuntu1.9) ...\r\n",
      "Selecting previously unselected package libu2f-udev.\r\n",
      "Preparing to unpack .../11-libu2f-udev_1.1.10-1_all.deb ...\r\n",
      "Unpacking libu2f-udev (1.1.10-1) ...\r\n",
      "Setting up libwayland-server0:amd64 (1.18.0-1ubuntu0.1) ...\r\n",
      "Setting up libgbm1:amd64 (21.2.6-0ubuntu0.1~20.04.2) ...\r\n",
      "Setting up libglib2.0-0:amd64 (2.64.6-1~ubuntu20.04.7) ...\r\n",
      "Setting up libglib2.0-bin (2.64.6-1~ubuntu20.04.7) ...\r\n",
      "Setting up libnss3:amd64 (2:3.98-0ubuntu0.20.04.2) ...\r\n",
      "Setting up gconf2-common (3.2.6-6ubuntu1) ...\r\n",
      "\r\n",
      "Creating config file /etc/gconf/2/path with new version\r\n",
      "Setting up libdbus-glib-1-2:amd64 (0.110-5fakssync1) ...\r\n",
      "Setting up udev (245.4-4ubuntu3.23) ...\r\n",
      "invoke-rc.d: could not determine current runlevel\r\n",
      "invoke-rc.d: policy-rc.d denied execution of start.\r\n",
      "Setting up libgconf-2-4:amd64 (3.2.6-6ubuntu1) ...\r\n",
      "Setting up libu2f-udev (1.1.10-1) ...\r\n",
      "Failed to send reload request: No such file or directory\r\n",
      "Setting up gconf-service (3.2.6-6ubuntu1) ...\r\n",
      "Setting up gconf-service-backend (3.2.6-6ubuntu1) ...\r\n",
      "Processing triggers for libc-bin (2.31-0ubuntu9.9) ...\r\n",
      "Processing triggers for systemd (245.4-4ubuntu3.22) ...\r\n",
      "Processing triggers for man-db (2.9.1-1) ...\r\n",
      "\r\n",
      "\r\n",
      "\r\n",
      "0 upgraded, 0 newly installed, 0 to remove and 128 not upgraded.\r\n"
     ]
    }
   ],
   "source": [
    "!apt-get update -y\n",
    "!apt-get install -y \\\n",
    "libglib2.0-0 \\\n",
    "libnss3 \\\n",
    "libdbus-glib-1-2 \\\n",
    "libgconf-2-4 \\\n",
    "libfontconfig1 \\\n",
    "libvulkan1 \\\n",
    "gconf2-common \\\n",
    "libwayland-server0 \\\n",
    "libgbm1 \\\n",
    "udev \\\n",
    "libu2f-udev \n",
    "!apt --fix-broken install -y  "
   ]
  },
  {
   "cell_type": "markdown",
   "id": "89eef712",
   "metadata": {
    "papermill": {
     "duration": 0.021002,
     "end_time": "2024-09-02T16:16:50.442002",
     "exception": false,
     "start_time": "2024-09-02T16:16:50.421000",
     "status": "completed"
    },
    "tags": []
   },
   "source": [
    "## 1.2. Download and extract Chrome:\n",
    "\n",
    "To use Selenium, you will need to download and install Chrome and Chromedriver.\n",
    "\n",
    "* **Chrome**: Chrome is a popular web browser that is known for its speed and security.\n",
    "* **Chromedriver**: Chromedriver is a tool that allows Selenium to interact with Chrome.\n",
    "\n",
    "Downloads the latest stable version of Chrome for Linux and extracts it to the /usr/bin directory."
   ]
  },
  {
   "cell_type": "code",
   "execution_count": 2,
   "id": "bf293017",
   "metadata": {
    "execution": {
     "iopub.execute_input": "2024-09-02T16:16:50.487213Z",
     "iopub.status.busy": "2024-09-02T16:16:50.486756Z",
     "iopub.status.idle": "2024-09-02T16:16:58.391278Z",
     "shell.execute_reply": "2024-09-02T16:16:58.389405Z"
    },
    "papermill": {
     "duration": 7.931392,
     "end_time": "2024-09-02T16:16:58.394933",
     "exception": false,
     "start_time": "2024-09-02T16:16:50.463541",
     "status": "completed"
    },
    "tags": []
   },
   "outputs": [
    {
     "name": "stdout",
     "output_type": "stream",
     "text": [
      "--2024-09-02 16:16:51--  https://edgedl.me.gvt1.com/edgedl/chrome/chrome-for-testing/116.0.5845.96/linux64/chrome-linux64.zip\r\n",
      "Resolving edgedl.me.gvt1.com (edgedl.me.gvt1.com)... 34.104.35.123, 2600:1900:4110:86f::\r\n",
      "Connecting to edgedl.me.gvt1.com (edgedl.me.gvt1.com)|34.104.35.123|:443... connected.\r\n",
      "HTTP request sent, awaiting response... 302 Found\r\n",
      "Location: https://storage.googleapis.com/chrome-for-testing-public/116.0.5845.96/linux64/chrome-linux64.zip [following]\r\n",
      "--2024-09-02 16:16:51--  https://storage.googleapis.com/chrome-for-testing-public/116.0.5845.96/linux64/chrome-linux64.zip\r\n",
      "Resolving storage.googleapis.com (storage.googleapis.com)... 173.194.202.207, 172.253.117.207, 74.125.197.207, ...\r\n",
      "Connecting to storage.googleapis.com (storage.googleapis.com)|173.194.202.207|:443... connected.\r\n",
      "HTTP request sent, awaiting response... 200 OK\r\n",
      "Length: 145898081 (139M) [application/zip]\r\n",
      "Saving to: '/tmp/chrome-linux64.zip'\r\n",
      "\r\n",
      "chrome-linux64.zip  100%[===================>] 139.14M   172MB/s    in 0.8s    \r\n",
      "\r\n",
      "2024-09-02 16:16:52 (172 MB/s) - '/tmp/chrome-linux64.zip' saved [145898081/145898081]\r\n",
      "\r\n",
      "Archive:  /tmp/chrome-linux64.zip\r\n",
      "  inflating: /usr/bin/chrome-linux64/MEIPreload/manifest.json  \r\n",
      "  inflating: /usr/bin/chrome-linux64/MEIPreload/preloaded_data.pb  \r\n",
      "  inflating: /usr/bin/chrome-linux64/chrome  \r\n",
      "  inflating: /usr/bin/chrome-linux64/chrome-wrapper  \r\n",
      "  inflating: /usr/bin/chrome-linux64/chrome_100_percent.pak  \r\n",
      "  inflating: /usr/bin/chrome-linux64/chrome_200_percent.pak  \r\n",
      "  inflating: /usr/bin/chrome-linux64/chrome_crashpad_handler  \r\n",
      "  inflating: /usr/bin/chrome-linux64/chrome_sandbox  \r\n",
      "  inflating: /usr/bin/chrome-linux64/icudtl.dat  \r\n",
      "  inflating: /usr/bin/chrome-linux64/libEGL.so  \r\n",
      "  inflating: /usr/bin/chrome-linux64/libGLESv2.so  \r\n",
      "  inflating: /usr/bin/chrome-linux64/libvk_swiftshader.so  \r\n",
      "  inflating: /usr/bin/chrome-linux64/libvulkan.so.1  \r\n",
      "  inflating: /usr/bin/chrome-linux64/nacl_helper  \r\n",
      "  inflating: /usr/bin/chrome-linux64/nacl_helper_bootstrap  \r\n",
      "  inflating: /usr/bin/chrome-linux64/nacl_irt_x86_64.nexe  \r\n",
      " extracting: /usr/bin/chrome-linux64/product_logo_48.png  \r\n",
      "  inflating: /usr/bin/chrome-linux64/resources.pak  \r\n",
      "  inflating: /usr/bin/chrome-linux64/v8_context_snapshot.bin  \r\n",
      "  inflating: /usr/bin/chrome-linux64/vk_swiftshader_icd.json  \r\n",
      "  inflating: /usr/bin/chrome-linux64/xdg-mime  \r\n",
      "  inflating: /usr/bin/chrome-linux64/xdg-settings  \r\n",
      "   creating: /usr/bin/chrome-linux64/locales/\r\n",
      "  inflating: /usr/bin/chrome-linux64/locales/fr.pak.info  \r\n",
      "  inflating: /usr/bin/chrome-linux64/locales/ur.pak.info  \r\n",
      "  inflating: /usr/bin/chrome-linux64/locales/sw.pak  \r\n",
      "  inflating: /usr/bin/chrome-linux64/locales/ar.pak  \r\n",
      "  inflating: /usr/bin/chrome-linux64/locales/sk.pak.info  \r\n",
      "  inflating: /usr/bin/chrome-linux64/locales/hu.pak.info  \r\n",
      "  inflating: /usr/bin/chrome-linux64/locales/ms.pak  \r\n",
      "  inflating: /usr/bin/chrome-linux64/locales/vi.pak.info  \r\n",
      "  inflating: /usr/bin/chrome-linux64/locales/es.pak  \r\n",
      "  inflating: /usr/bin/chrome-linux64/locales/he.pak.info  \r\n",
      "  inflating: /usr/bin/chrome-linux64/locales/hr.pak  \r\n",
      "  inflating: /usr/bin/chrome-linux64/locales/en-GB.pak  \r\n",
      "  inflating: /usr/bin/chrome-linux64/locales/zh-CN.pak  \r\n",
      "  inflating: /usr/bin/chrome-linux64/locales/pt-BR.pak.info  \r\n",
      "  inflating: /usr/bin/chrome-linux64/locales/en-US.pak.info  \r\n",
      "  inflating: /usr/bin/chrome-linux64/locales/de.pak.info  \r\n",
      "  inflating: /usr/bin/chrome-linux64/locales/af.pak.info  \r\n",
      "  inflating: /usr/bin/chrome-linux64/locales/fil.pak  \r\n",
      "  inflating: /usr/bin/chrome-linux64/locales/el.pak  \r\n",
      "  inflating: /usr/bin/chrome-linux64/locales/bg.pak  \r\n",
      "  inflating: /usr/bin/chrome-linux64/locales/fa.pak  \r\n",
      "  inflating: /usr/bin/chrome-linux64/locales/uk.pak  \r\n",
      "  inflating: /usr/bin/chrome-linux64/locales/kn.pak  \r\n",
      "  inflating: /usr/bin/chrome-linux64/locales/en-GB.pak.info  \r\n",
      "  inflating: /usr/bin/chrome-linux64/locales/sl.pak  \r\n",
      "  inflating: /usr/bin/chrome-linux64/locales/sv.pak.info  \r\n",
      "  inflating: /usr/bin/chrome-linux64/locales/ko.pak  \r\n",
      "  inflating: /usr/bin/chrome-linux64/locales/nb.pak  \r\n",
      "  inflating: /usr/bin/chrome-linux64/locales/tr.pak  \r\n",
      "  inflating: /usr/bin/chrome-linux64/locales/th.pak.info  \r\n",
      "  inflating: /usr/bin/chrome-linux64/locales/ar.pak.info  \r\n",
      "  inflating: /usr/bin/chrome-linux64/locales/pt-PT.pak.info  \r\n",
      "  inflating: /usr/bin/chrome-linux64/locales/pt-PT.pak  \r\n",
      "  inflating: /usr/bin/chrome-linux64/locales/vi.pak  \r\n",
      "  inflating: /usr/bin/chrome-linux64/locales/ml.pak.info  \r\n",
      "  inflating: /usr/bin/chrome-linux64/locales/es.pak.info  \r\n",
      "  inflating: /usr/bin/chrome-linux64/locales/mr.pak.info  \r\n",
      "  inflating: /usr/bin/chrome-linux64/locales/tr.pak.info  \r\n",
      "  inflating: /usr/bin/chrome-linux64/locales/hi.pak.info  \r\n",
      "  inflating: /usr/bin/chrome-linux64/locales/fa.pak.info  \r\n",
      "  inflating: /usr/bin/chrome-linux64/locales/ja.pak  \r\n",
      "  inflating: /usr/bin/chrome-linux64/locales/bg.pak.info  \r\n",
      "  inflating: /usr/bin/chrome-linux64/locales/sr.pak.info  \r\n",
      "  inflating: /usr/bin/chrome-linux64/locales/fi.pak  \r\n",
      "  inflating: /usr/bin/chrome-linux64/locales/ca.pak  \r\n",
      "  inflating: /usr/bin/chrome-linux64/locales/et.pak.info  \r\n",
      "  inflating: /usr/bin/chrome-linux64/locales/ko.pak.info  \r\n",
      "  inflating: /usr/bin/chrome-linux64/locales/gu.pak  \r\n",
      "  inflating: /usr/bin/chrome-linux64/locales/et.pak  \r\n",
      "  inflating: /usr/bin/chrome-linux64/locales/it.pak.info  \r\n",
      "  inflating: /usr/bin/chrome-linux64/locales/lv.pak.info  \r\n",
      "  inflating: /usr/bin/chrome-linux64/locales/sr.pak  \r\n",
      "  inflating: /usr/bin/chrome-linux64/locales/bn.pak  \r\n",
      "  inflating: /usr/bin/chrome-linux64/locales/pl.pak  \r\n",
      "  inflating: /usr/bin/chrome-linux64/locales/el.pak.info  \r\n",
      "  inflating: /usr/bin/chrome-linux64/locales/lv.pak  \r\n",
      "  inflating: /usr/bin/chrome-linux64/locales/ca.pak.info  \r\n",
      "  inflating: /usr/bin/chrome-linux64/locales/uk.pak.info  \r\n",
      "  inflating: /usr/bin/chrome-linux64/locales/nl.pak  \r\n",
      "  inflating: /usr/bin/chrome-linux64/locales/sw.pak.info  \r\n",
      "  inflating: /usr/bin/chrome-linux64/locales/de.pak  \r\n",
      "  inflating: /usr/bin/chrome-linux64/locales/af.pak  \r\n",
      "  inflating: /usr/bin/chrome-linux64/locales/hi.pak  \r\n",
      "  inflating: /usr/bin/chrome-linux64/locales/pl.pak.info  \r\n",
      "  inflating: /usr/bin/chrome-linux64/locales/he.pak  \r\n",
      "  inflating: /usr/bin/chrome-linux64/locales/sv.pak  \r\n",
      "  inflating: /usr/bin/chrome-linux64/locales/ms.pak.info  \r\n",
      "  inflating: /usr/bin/chrome-linux64/locales/sk.pak  \r\n",
      "  inflating: /usr/bin/chrome-linux64/locales/bn.pak.info  \r\n",
      "  inflating: /usr/bin/chrome-linux64/locales/cs.pak.info  \r\n",
      "  inflating: /usr/bin/chrome-linux64/locales/kn.pak.info  \r\n",
      "  inflating: /usr/bin/chrome-linux64/locales/zh-CN.pak.info  \r\n",
      "  inflating: /usr/bin/chrome-linux64/locales/id.pak.info  \r\n",
      "  inflating: /usr/bin/chrome-linux64/locales/es-419.pak.info  \r\n",
      "  inflating: /usr/bin/chrome-linux64/locales/lt.pak  \r\n",
      "  inflating: /usr/bin/chrome-linux64/locales/ur.pak  \r\n",
      "  inflating: /usr/bin/chrome-linux64/locales/ta.pak.info  \r\n",
      "  inflating: /usr/bin/chrome-linux64/locales/zh-TW.pak  \r\n",
      "  inflating: /usr/bin/chrome-linux64/locales/te.pak  \r\n",
      "  inflating: /usr/bin/chrome-linux64/locales/ja.pak.info  \r\n",
      "  inflating: /usr/bin/chrome-linux64/locales/en-US.pak  \r\n",
      "  inflating: /usr/bin/chrome-linux64/locales/nb.pak.info  \r\n",
      "  inflating: /usr/bin/chrome-linux64/locales/it.pak  \r\n",
      "  inflating: /usr/bin/chrome-linux64/locales/es-419.pak  \r\n",
      "  inflating: /usr/bin/chrome-linux64/locales/nl.pak.info  \r\n",
      "  inflating: /usr/bin/chrome-linux64/locales/cs.pak  \r\n",
      "  inflating: /usr/bin/chrome-linux64/locales/zh-TW.pak.info  \r\n",
      "  inflating: /usr/bin/chrome-linux64/locales/ru.pak.info  \r\n",
      "  inflating: /usr/bin/chrome-linux64/locales/da.pak  \r\n",
      "  inflating: /usr/bin/chrome-linux64/locales/lt.pak.info  \r\n",
      "  inflating: /usr/bin/chrome-linux64/locales/ml.pak  \r\n",
      "  inflating: /usr/bin/chrome-linux64/locales/mr.pak  \r\n",
      "  inflating: /usr/bin/chrome-linux64/locales/pt-BR.pak  \r\n",
      "  inflating: /usr/bin/chrome-linux64/locales/da.pak.info  \r\n",
      "  inflating: /usr/bin/chrome-linux64/locales/te.pak.info  \r\n",
      "  inflating: /usr/bin/chrome-linux64/locales/fil.pak.info  \r\n",
      "  inflating: /usr/bin/chrome-linux64/locales/ta.pak  \r\n",
      "  inflating: /usr/bin/chrome-linux64/locales/id.pak  \r\n",
      "  inflating: /usr/bin/chrome-linux64/locales/am.pak.info  \r\n",
      "  inflating: /usr/bin/chrome-linux64/locales/am.pak  \r\n",
      "  inflating: /usr/bin/chrome-linux64/locales/hu.pak  \r\n",
      "  inflating: /usr/bin/chrome-linux64/locales/fi.pak.info  \r\n",
      "  inflating: /usr/bin/chrome-linux64/locales/sl.pak.info  \r\n",
      "  inflating: /usr/bin/chrome-linux64/locales/ro.pak  \r\n",
      "  inflating: /usr/bin/chrome-linux64/locales/th.pak  \r\n",
      "  inflating: /usr/bin/chrome-linux64/locales/fr.pak  \r\n",
      "  inflating: /usr/bin/chrome-linux64/locales/gu.pak.info  \r\n",
      "  inflating: /usr/bin/chrome-linux64/locales/ru.pak  \r\n",
      "  inflating: /usr/bin/chrome-linux64/locales/ro.pak.info  \r\n",
      "  inflating: /usr/bin/chrome-linux64/locales/hr.pak.info  \r\n",
      "   creating: /usr/bin/chrome-linux64/resources/\r\n",
      "   creating: /usr/bin/chrome-linux64/resources/inspector_overlay/\r\n",
      "  inflating: /usr/bin/chrome-linux64/resources/inspector_overlay/inspector_overlay_resources.grd  \r\n",
      "  inflating: /usr/bin/chrome-linux64/resources/inspector_overlay/main.js  \r\n"
     ]
    }
   ],
   "source": [
    "!wget -P /tmp https://edgedl.me.gvt1.com/edgedl/chrome/chrome-for-testing/116.0.5845.96/linux64/chrome-linux64.zip\n",
    "!unzip /tmp/chrome-linux64.zip -d /usr/bin/"
   ]
  },
  {
   "cell_type": "markdown",
   "id": "3b212f6a",
   "metadata": {
    "papermill": {
     "duration": 0.024797,
     "end_time": "2024-09-02T16:16:58.445266",
     "exception": false,
     "start_time": "2024-09-02T16:16:58.420469",
     "status": "completed"
    },
    "tags": []
   },
   "source": [
    "## 1.3. Download and extract Chromedriver:\n",
    "\n",
    "As it was done in the previous code."
   ]
  },
  {
   "cell_type": "code",
   "execution_count": 3,
   "id": "1478c8ca",
   "metadata": {
    "execution": {
     "iopub.execute_input": "2024-09-02T16:16:58.503031Z",
     "iopub.status.busy": "2024-09-02T16:16:58.502245Z",
     "iopub.status.idle": "2024-09-02T16:17:01.434268Z",
     "shell.execute_reply": "2024-09-02T16:17:01.432852Z"
    },
    "papermill": {
     "duration": 2.96618,
     "end_time": "2024-09-02T16:17:01.438050",
     "exception": false,
     "start_time": "2024-09-02T16:16:58.471870",
     "status": "completed"
    },
    "tags": []
   },
   "outputs": [
    {
     "name": "stdout",
     "output_type": "stream",
     "text": [
      "--2024-09-02 16:16:59--  https://edgedl.me.gvt1.com/edgedl/chrome/chrome-for-testing/116.0.5845.96/linux64/chromedriver-linux64.zip\r\n",
      "Resolving edgedl.me.gvt1.com (edgedl.me.gvt1.com)... 34.104.35.123, 2600:1900:4110:86f::\r\n",
      "Connecting to edgedl.me.gvt1.com (edgedl.me.gvt1.com)|34.104.35.123|:443... connected.\r\n",
      "HTTP request sent, awaiting response... 302 Found\r\n",
      "Location: https://storage.googleapis.com/chrome-for-testing-public/116.0.5845.96/linux64/chromedriver-linux64.zip [following]\r\n",
      "--2024-09-02 16:16:59--  https://storage.googleapis.com/chrome-for-testing-public/116.0.5845.96/linux64/chromedriver-linux64.zip\r\n",
      "Resolving storage.googleapis.com (storage.googleapis.com)... 74.125.199.207, 173.194.202.207, 74.125.142.207, ...\r\n",
      "Connecting to storage.googleapis.com (storage.googleapis.com)|74.125.199.207|:443... connected.\r\n",
      "HTTP request sent, awaiting response... 200 OK\r\n",
      "Length: 7271942 (6.9M) [application/zip]\r\n",
      "Saving to: '/tmp/chromedriver-linux64.zip'\r\n",
      "\r\n",
      "chromedriver-linux6 100%[===================>]   6.93M  --.-KB/s    in 0.06s   \r\n",
      "\r\n",
      "2024-09-02 16:16:59 (107 MB/s) - '/tmp/chromedriver-linux64.zip' saved [7271942/7271942]\r\n",
      "\r\n",
      "Archive:  /tmp/chromedriver-linux64.zip\r\n",
      "  inflating: /usr/bin/chromedriver-linux64/LICENSE.chromedriver  \r\n",
      "  inflating: /usr/bin/chromedriver-linux64/chromedriver  \r\n"
     ]
    }
   ],
   "source": [
    "!wget -P /tmp https://edgedl.me.gvt1.com/edgedl/chrome/chrome-for-testing/116.0.5845.96/linux64/chromedriver-linux64.zip\n",
    "!unzip /tmp/chromedriver-linux64.zip -d /usr/bin/"
   ]
  },
  {
   "cell_type": "markdown",
   "id": "4685a4a9",
   "metadata": {
    "papermill": {
     "duration": 0.026854,
     "end_time": "2024-09-02T16:17:01.494330",
     "exception": false,
     "start_time": "2024-09-02T16:17:01.467476",
     "status": "completed"
    },
    "tags": []
   },
   "source": [
    "## 1.4. Install Python libraries"
   ]
  },
  {
   "cell_type": "code",
   "execution_count": 4,
   "id": "cefcc4e2",
   "metadata": {
    "execution": {
     "iopub.execute_input": "2024-09-02T16:17:01.552600Z",
     "iopub.status.busy": "2024-09-02T16:17:01.552124Z",
     "iopub.status.idle": "2024-09-02T16:17:46.529640Z",
     "shell.execute_reply": "2024-09-02T16:17:46.527695Z"
    },
    "papermill": {
     "duration": 45.010962,
     "end_time": "2024-09-02T16:17:46.533055",
     "exception": false,
     "start_time": "2024-09-02T16:17:01.522093",
     "status": "completed"
    },
    "tags": []
   },
   "outputs": [
    {
     "name": "stdout",
     "output_type": "stream",
     "text": [
      "\r\n",
      "\r\n",
      "\r\n",
      "The following additional packages will be installed:\r\n",
      "  apparmor chromium-browser chromium-chromedriver liblzo2-2 snapd\r\n",
      "  squashfs-tools\r\n",
      "Suggested packages:\r\n",
      "  apparmor-profiles-extra apparmor-utils zenity | kdialog\r\n",
      "The following NEW packages will be installed:\r\n",
      "  apparmor chromium-browser chromium-chromedriver liblzo2-2 python3-selenium\r\n",
      "  snapd squashfs-tools\r\n",
      "0 upgraded, 7 newly installed, 0 to remove and 128 not upgraded.\r\n",
      "Need to get 25.9 MB of archives.\r\n",
      "After this operation, 107 MB of additional disk space will be used.\r\n",
      "Get:1 http://archive.ubuntu.com/ubuntu focal-updates/main amd64 apparmor amd64 2.13.3-7ubuntu5.3 [502 kB]\r\n",
      "Get:2 http://archive.ubuntu.com/ubuntu focal/main amd64 liblzo2-2 amd64 2.10-2 [50.8 kB]\r\n",
      "Get:3 http://archive.ubuntu.com/ubuntu focal-updates/main amd64 squashfs-tools amd64 1:4.4-1ubuntu0.3 [117 kB]\r\n",
      "Get:4 http://archive.ubuntu.com/ubuntu focal-updates/main amd64 snapd amd64 2.63+20.04ubuntu0.1 [25.1 MB]\r\n",
      "Get:5 http://archive.ubuntu.com/ubuntu focal-updates/universe amd64 chromium-browser amd64 1:85.0.4183.83-0ubuntu0.20.04.3 [48.5 kB]\r\n",
      "Get:6 http://archive.ubuntu.com/ubuntu focal-updates/universe amd64 chromium-chromedriver amd64 1:85.0.4183.83-0ubuntu0.20.04.3 [2496 B]\r\n",
      "Get:7 http://archive.ubuntu.com/ubuntu focal/universe amd64 python3-selenium all 4.0.0~a1+dfsg1-1.1 [86.2 kB]\r\n",
      "Fetched 25.9 MB in 7s (3719 kB/s)\r\n",
      "Preconfiguring packages ...\r\n",
      "\n",
      "\u001b7\u001b[0;23r\u001b8\u001b[1ASelecting previously unselected package apparmor.\r\n",
      "(Reading database ... 109076 files and directories currently installed.)\r\n",
      "Preparing to unpack .../apparmor_2.13.3-7ubuntu5.3_amd64.deb ...\r\n",
      "\u001b7\u001b[24;0f\u001b[42m\u001b[30mProgress: [  0%]\u001b[49m\u001b[39m [..........................................................] \u001b8\u001b7\u001b[24;0f\u001b[42m\u001b[30mProgress: [  3%]\u001b[49m\u001b[39m [##........................................................] \u001b8Unpacking apparmor (2.13.3-7ubuntu5.3) ...\r\n",
      "\u001b7\u001b[24;0f\u001b[42m\u001b[30mProgress: [  7%]\u001b[49m\u001b[39m [####......................................................] \u001b8Selecting previously unselected package liblzo2-2:amd64.\r\n",
      "Preparing to unpack .../liblzo2-2_2.10-2_amd64.deb ...\r\n",
      "\u001b7\u001b[24;0f\u001b[42m\u001b[30mProgress: [ 10%]\u001b[49m\u001b[39m [######....................................................] \u001b8Unpacking liblzo2-2:amd64 (2.10-2) ...\r\n",
      "\u001b7\u001b[24;0f\u001b[42m\u001b[30mProgress: [ 14%]\u001b[49m\u001b[39m [########..................................................] \u001b8Selecting previously unselected package squashfs-tools.\r\n",
      "Preparing to unpack .../squashfs-tools_1%3a4.4-1ubuntu0.3_amd64.deb ...\r\n",
      "\u001b7\u001b[24;0f\u001b[42m\u001b[30mProgress: [ 17%]\u001b[49m\u001b[39m [#########.................................................] \u001b8Unpacking squashfs-tools (1:4.4-1ubuntu0.3) ...\r\n",
      "\u001b7\u001b[24;0f\u001b[42m\u001b[30mProgress: [ 21%]\u001b[49m\u001b[39m [############..............................................] \u001b8Selecting previously unselected package snapd.\r\n",
      "Preparing to unpack .../snapd_2.63+20.04ubuntu0.1_amd64.deb ...\r\n",
      "\u001b7\u001b[24;0f\u001b[42m\u001b[30mProgress: [ 24%]\u001b[49m\u001b[39m [##############............................................] \u001b8Unpacking snapd (2.63+20.04ubuntu0.1) ...\r\n",
      "\u001b7\u001b[24;0f\u001b[42m\u001b[30mProgress: [ 28%]\u001b[49m\u001b[39m [################..........................................] \u001b8Setting up apparmor (2.13.3-7ubuntu5.3) ...\r\n",
      "\u001b7\u001b[24;0f\u001b[42m\u001b[30mProgress: [ 31%]\u001b[49m\u001b[39m [##################........................................] \u001b8Created symlink /etc/systemd/system/sysinit.target.wants/apparmor.service -> /lib/systemd/system/apparmor.service.\r\n",
      "\u001b7\u001b[24;0f\u001b[42m\u001b[30mProgress: [ 34%]\u001b[49m\u001b[39m [###################.......................................] \u001b8Setting up liblzo2-2:amd64 (2.10-2) ...\r\n",
      "\u001b7\u001b[24;0f\u001b[42m\u001b[30mProgress: [ 38%]\u001b[49m\u001b[39m [######################....................................] \u001b8\u001b7\u001b[24;0f\u001b[42m\u001b[30mProgress: [ 41%]\u001b[49m\u001b[39m [########################..................................] \u001b8Setting up squashfs-tools (1:4.4-1ubuntu0.3) ...\r\n",
      "\u001b7\u001b[24;0f\u001b[42m\u001b[30mProgress: [ 45%]\u001b[49m\u001b[39m [##########################................................] \u001b8\u001b7\u001b[24;0f\u001b[42m\u001b[30mProgress: [ 48%]\u001b[49m\u001b[39m [############################..............................] \u001b8Setting up snapd (2.63+20.04ubuntu0.1) ...\r\n",
      "\u001b7\u001b[24;0f\u001b[42m\u001b[30mProgress: [ 52%]\u001b[49m\u001b[39m [#############################.............................] \u001b8Created symlink /etc/systemd/system/multi-user.target.wants/snapd.apparmor.service -> /lib/systemd/system/snapd.apparmor.service.\r\n",
      "Created symlink /etc/systemd/system/multi-user.target.wants/snapd.autoimport.service -> /lib/systemd/system/snapd.autoimport.service.\r\n",
      "Created symlink /etc/systemd/system/multi-user.target.wants/snapd.core-fixup.service -> /lib/systemd/system/snapd.core-fixup.service.\r\n",
      "Created symlink /etc/systemd/system/multi-user.target.wants/snapd.recovery-chooser-trigger.service -> /lib/systemd/system/snapd.recovery-chooser-trigger.service.\r\n",
      "Created symlink /etc/systemd/system/multi-user.target.wants/snapd.seeded.service -> /lib/systemd/system/snapd.seeded.service.\r\n",
      "Created symlink /etc/systemd/system/cloud-final.service.wants/snapd.seeded.service -> /lib/systemd/system/snapd.seeded.service.\r\n",
      "Created symlink /etc/systemd/system/multi-user.target.wants/snapd.service -> /lib/systemd/system/snapd.service.\r\n",
      "Created symlink /etc/systemd/system/timers.target.wants/snapd.snap-repair.timer -> /lib/systemd/system/snapd.snap-repair.timer.\r\n",
      "Created symlink /etc/systemd/system/sockets.target.wants/snapd.socket -> /lib/systemd/system/snapd.socket.\r\n",
      "Created symlink /etc/systemd/system/final.target.wants/snapd.system-shutdown.service -> /lib/systemd/system/snapd.system-shutdown.service.\r\n",
      "\u001b7\u001b[24;0f\u001b[42m\u001b[30mProgress: [ 55%]\u001b[49m\u001b[39m [################################..........................] \u001b8Selecting previously unselected package chromium-browser.\r\n",
      "(Reading database ... 109369 files and directories currently installed.)\r\n",
      "Preparing to unpack .../chromium-browser_1%3a85.0.4183.83-0ubuntu0.20.04.3_amd64.deb ...\r\n",
      "\u001b7\u001b[24;0f\u001b[42m\u001b[30mProgress: [ 59%]\u001b[49m\u001b[39m [##################################........................] \u001b8=> Installing the chromium snap\r\n",
      "==> Checking connectivity with the snap store\r\n",
      "===> System doesn't have a working snapd, skipping\r\n",
      "Unpacking chromium-browser (1:85.0.4183.83-0ubuntu0.20.04.3) ...\r\n",
      "\u001b7\u001b[24;0f\u001b[42m\u001b[30mProgress: [ 62%]\u001b[49m\u001b[39m [####################################......................] \u001b8Selecting previously unselected package chromium-chromedriver.\r\n",
      "Preparing to unpack .../chromium-chromedriver_1%3a85.0.4183.83-0ubuntu0.20.04.3_amd64.deb ...\r\n",
      "\u001b7\u001b[24;0f\u001b[42m\u001b[30mProgress: [ 66%]\u001b[49m\u001b[39m [######################################....................] \u001b8Unpacking chromium-chromedriver (1:85.0.4183.83-0ubuntu0.20.04.3) ...\r\n",
      "\u001b7\u001b[24;0f\u001b[42m\u001b[30mProgress: [ 69%]\u001b[49m\u001b[39m [#######################################...................] \u001b8Selecting previously unselected package python3-selenium.\r\n",
      "Preparing to unpack .../python3-selenium_4.0.0~a1+dfsg1-1.1_all.deb ...\r\n",
      "\u001b7\u001b[24;0f\u001b[42m\u001b[30mProgress: [ 72%]\u001b[49m\u001b[39m [##########################################................] \u001b8Unpacking python3-selenium (4.0.0~a1+dfsg1-1.1) ...\r\n",
      "\u001b7\u001b[24;0f\u001b[42m\u001b[30mProgress: [ 76%]\u001b[49m\u001b[39m [############################################..............] \u001b8Setting up python3-selenium (4.0.0~a1+dfsg1-1.1) ...\r\n",
      "\u001b7\u001b[24;0f\u001b[42m\u001b[30mProgress: [ 79%]\u001b[49m\u001b[39m [##############################################............] \u001b8\u001b7\u001b[24;0f\u001b[42m\u001b[30mProgress: [ 83%]\u001b[49m\u001b[39m [################################################..........] \u001b8Setting up chromium-browser (1:85.0.4183.83-0ubuntu0.20.04.3) ...\r\n",
      "\u001b7\u001b[24;0f\u001b[42m\u001b[30mProgress: [ 86%]\u001b[49m\u001b[39m [##################################################........] \u001b8update-alternatives: using /usr/bin/chromium-browser to provide /usr/bin/x-www-browser (x-www-browser) in auto mode\r\n",
      "update-alternatives: using /usr/bin/chromium-browser to provide /usr/bin/gnome-www-browser (gnome-www-browser) in auto mode\r\n",
      "\u001b7\u001b[24;0f\u001b[42m\u001b[30mProgress: [ 90%]\u001b[49m\u001b[39m [####################################################......] \u001b8Setting up chromium-chromedriver (1:85.0.4183.83-0ubuntu0.20.04.3) ...\r\n",
      "\u001b7\u001b[24;0f\u001b[42m\u001b[30mProgress: [ 93%]\u001b[49m\u001b[39m [#####################################################.....] \u001b8\u001b7\u001b[24;0f\u001b[42m\u001b[30mProgress: [ 97%]\u001b[49m\u001b[39m [########################################################..] \u001b8Processing triggers for mime-support (3.64ubuntu1) ...\r\n",
      "Processing triggers for hicolor-icon-theme (0.17-2) ...\r\n",
      "Processing triggers for libc-bin (2.31-0ubuntu9.9) ...\r\n",
      "Processing triggers for systemd (245.4-4ubuntu3.22) ...\r\n",
      "Processing triggers for man-db (2.9.1-1) ...\r\n",
      "Processing triggers for dbus (1.12.16-2ubuntu2.3) ...\r\n",
      "\r\n",
      "\u001b7\u001b[0;24r\u001b8\u001b[1A\u001b[JCollecting selenium==3.141.0\r\n",
      "  Obtaining dependency information for selenium==3.141.0 from https://files.pythonhosted.org/packages/80/d6/4294f0b4bce4de0abf13e17190289f9d0613b0a44e5dd6a7f5ca98459853/selenium-3.141.0-py2.py3-none-any.whl.metadata\r\n",
      "  Downloading selenium-3.141.0-py2.py3-none-any.whl.metadata (6.6 kB)\r\n",
      "Requirement already satisfied: urllib3 in /opt/conda/lib/python3.10/site-packages (from selenium==3.141.0) (1.26.15)\r\n",
      "Downloading selenium-3.141.0-py2.py3-none-any.whl (904 kB)\r\n",
      "\u001b[2K   \u001b[90m━━━━━━━━━━━━━━━━━━━━━━━━━━━━━━━━━━━━━━━━\u001b[0m \u001b[32m904.6/904.6 kB\u001b[0m \u001b[31m9.4 MB/s\u001b[0m eta \u001b[36m0:00:00\u001b[0m\r\n",
      "\u001b[?25hInstalling collected packages: selenium\r\n",
      "Successfully installed selenium-3.141.0\r\n"
     ]
    }
   ],
   "source": [
    "!apt install -y python3-selenium\n",
    "!pip install selenium==3.141.0"
   ]
  },
  {
   "cell_type": "markdown",
   "id": "d74ecc04",
   "metadata": {
    "papermill": {
     "duration": 0.035997,
     "end_time": "2024-09-02T16:17:46.606394",
     "exception": false,
     "start_time": "2024-09-02T16:17:46.570397",
     "status": "completed"
    },
    "tags": []
   },
   "source": [
    "# 2.Importing Libraries\n",
    "\n",
    "You will also need to install the following Python libraries:\n",
    "\n",
    "* **selenium**: The Selenium library provides the API for interacting with web pages.\n",
    "* **webdriver**: The webdriver library provides a way to interact with web drivers, such as Chromedriver.\n",
    "* **BeautifulSoup**: The BeautifulSoup library is used for parsing HTML content."
   ]
  },
  {
   "cell_type": "code",
   "execution_count": 5,
   "id": "e40b2524",
   "metadata": {
    "_cell_guid": "b1076dfc-b9ad-4769-8c92-a6c4dae69d19",
    "_uuid": "8f2839f25d086af736a60e9eeb907d3b93b6e0e5",
    "execution": {
     "iopub.execute_input": "2024-09-02T16:17:46.683890Z",
     "iopub.status.busy": "2024-09-02T16:17:46.683407Z",
     "iopub.status.idle": "2024-09-02T16:17:48.172296Z",
     "shell.execute_reply": "2024-09-02T16:17:48.170598Z"
    },
    "papermill": {
     "duration": 1.532228,
     "end_time": "2024-09-02T16:17:48.175466",
     "exception": false,
     "start_time": "2024-09-02T16:17:46.643238",
     "status": "completed"
    },
    "tags": []
   },
   "outputs": [],
   "source": [
    "import pandas as pd # data processing, CSV file I/O (e.g. pd.read_csv)\n",
    "import requests\n",
    "from bs4 import BeautifulSoup\n",
    "from tqdm import tqdm\n",
    "from retrying import retry\n",
    "import time\n",
    "import traceback\n",
    "import os"
   ]
  },
  {
   "cell_type": "markdown",
   "id": "024dba08",
   "metadata": {
    "papermill": {
     "duration": 0.035541,
     "end_time": "2024-09-02T16:17:48.246315",
     "exception": false,
     "start_time": "2024-09-02T16:17:48.210774",
     "status": "completed"
    },
    "tags": []
   },
   "source": [
    "# 3. Configuring Chrome Driver\n",
    "\n",
    "These functions define the locations of Chrome and Chromedriver executables. Additionally, initialize_driver creates a Chrome webdriver instance with specific options:\n",
    "\n",
    "* *--headless*: Runs Chrome in headless mode, making it invisible.\n",
    "* *--no-sandbox*: Disables the sandbox for improved performance.\n",
    "* *--start-fullscreen*: Starts Chrome in fullscreen mode.\n",
    "* *--allow-insecure-localhost*: Allows access to insecure local websites (if needed).\n",
    "* *--disable-dev-shm-usage*: Disables shared memory usage for Chrome.\n",
    "* *user-agent*: Sets the user agent string to mimic a regular browser."
   ]
  },
  {
   "cell_type": "code",
   "execution_count": 6,
   "id": "a6951307",
   "metadata": {
    "execution": {
     "iopub.execute_input": "2024-09-02T16:17:48.400022Z",
     "iopub.status.busy": "2024-09-02T16:17:48.398064Z",
     "iopub.status.idle": "2024-09-02T16:17:48.439236Z",
     "shell.execute_reply": "2024-09-02T16:17:48.437718Z"
    },
    "papermill": {
     "duration": 0.081969,
     "end_time": "2024-09-02T16:17:48.442483",
     "exception": false,
     "start_time": "2024-09-02T16:17:48.360514",
     "status": "completed"
    },
    "tags": []
   },
   "outputs": [],
   "source": [
    "from selenium import webdriver\n",
    "from selenium.webdriver.chrome.options import Options\n",
    "from selenium.webdriver.common.by import By\n",
    "from selenium.webdriver.support.ui import WebDriverWait\n",
    "from selenium.webdriver.support import expected_conditions as EC\n",
    "from selenium.webdriver.common.action_chains import ActionChains\n",
    "from selenium.common.exceptions import NoSuchElementException, TimeoutException, StaleElementReferenceException\n",
    "\n",
    "CHROME_BINARY_LOCATION = \"/usr/bin/chrome-linux64/chrome\"\n",
    "CHROMEDRIVER_BINARY_LOCATION = \"/usr/bin/chromedriver-linux64/chromedriver\"\n",
    "\n",
    "def add_driver_options(options):\n",
    "    \"\"\"\n",
    "    Add configurable options\n",
    "    \"\"\"\n",
    "    chrome_options = Options()\n",
    "    for opt in options:\n",
    "        chrome_options.add_argument(opt)\n",
    "    return chrome_options\n",
    "\n",
    "def initialize_driver():\n",
    "    \"\"\"\n",
    "    Initialize the web driver\n",
    "    \"\"\"\n",
    "    driver_config = {\n",
    "        \"options\": [\n",
    "            \"--headless\",\n",
    "            \"--no-sandbox\",\n",
    "            \"--start-fullscreen\",\n",
    "            \"--allow-insecure-localhost\",\n",
    "            \"--disable-dev-shm-usage\",\n",
    "            \"user-agent=Chrome/116.0.5845.96\"\n",
    "        ],\n",
    "    }\n",
    "    options = add_driver_options(driver_config[\"options\"])\n",
    "    options.binary_location = CHROME_BINARY_LOCATION\n",
    "    driver = webdriver.Chrome(\n",
    "        executable_path=CHROMEDRIVER_BINARY_LOCATION,\n",
    "        options=options)\n",
    "    return driver\n"
   ]
  },
  {
   "cell_type": "markdown",
   "id": "37bac970",
   "metadata": {
    "papermill": {
     "duration": 0.03468,
     "end_time": "2024-09-02T16:17:48.513079",
     "exception": false,
     "start_time": "2024-09-02T16:17:48.478399",
     "status": "completed"
    },
    "tags": []
   },
   "source": [
    "# 4) Scrape metadata"
   ]
  },
  {
   "cell_type": "code",
   "execution_count": 7,
   "id": "0c999407",
   "metadata": {
    "execution": {
     "iopub.execute_input": "2024-09-02T16:17:48.586238Z",
     "iopub.status.busy": "2024-09-02T16:17:48.585758Z",
     "iopub.status.idle": "2024-09-02T16:17:48.622539Z",
     "shell.execute_reply": "2024-09-02T16:17:48.621122Z"
    },
    "papermill": {
     "duration": 0.077497,
     "end_time": "2024-09-02T16:17:48.625698",
     "exception": false,
     "start_time": "2024-09-02T16:17:48.548201",
     "status": "completed"
    },
    "tags": []
   },
   "outputs": [],
   "source": [
    "from selenium.common.exceptions import TimeoutException, NoSuchElementException\n",
    "from tqdm import tqdm\n",
    "import pandas as pd\n",
    "import os\n",
    "\n",
    "def extract_movie_metadata(movie_url, driver):\n",
    "    movie_metadata = {}\n",
    "\n",
    "    try:\n",
    "        # Load the movie page\n",
    "        driver.get(movie_url)\n",
    "        WebDriverWait(driver, 20).until(\n",
    "            EC.presence_of_all_elements_located((By.CSS_SELECTOR, 'ul.film-stats'))\n",
    "        )\n",
    "\n",
    "        # Extract watches\n",
    "        try:\n",
    "            watches_element = driver.find_element(By.CSS_SELECTOR, 'li.stat.filmstat-watches a')\n",
    "            watches_text = watches_element.get_attribute('data-original-title')\n",
    "            movie_metadata['watches'] = int(watches_text.split()[2].replace(',', ''))\n",
    "        except (NoSuchElementException, ValueError):\n",
    "            movie_metadata['watches'] = None\n",
    "\n",
    "        # Extract likes\n",
    "        try:\n",
    "            likes_element = driver.find_element(By.CSS_SELECTOR, 'li.stat.filmstat-likes a')\n",
    "            likes_text = likes_element.get_attribute('data-original-title')\n",
    "            movie_metadata['likes'] = int(likes_text.split()[2].replace(',', ''))\n",
    "        except (NoSuchElementException, ValueError):\n",
    "            movie_metadata['likes'] = None\n",
    "\n",
    "        # Extract lists\n",
    "        try:\n",
    "            lists_element = driver.find_element(By.CSS_SELECTOR, 'li.stat.filmstat-lists a')\n",
    "            lists_text = lists_element.get_attribute('data-original-title')\n",
    "            movie_metadata['lists'] = int(lists_text.split()[2].replace(',', ''))\n",
    "        except (NoSuchElementException, ValueError):\n",
    "            movie_metadata['lists'] = None\n",
    "\n",
    "        # Extract synopsis\n",
    "        try:\n",
    "            synopsis_element = driver.find_element(By.CSS_SELECTOR, 'div.review.body-text.-prose.-hero.prettify div.truncate p')\n",
    "            movie_metadata['synopsis'] = synopsis_element.text\n",
    "        except NoSuchElementException:\n",
    "            movie_metadata['synopsis'] = None\n",
    "\n",
    "        # Extract fans\n",
    "        try:\n",
    "            fans_element = driver.find_element(By.CSS_SELECTOR, 'a.all-link.more-link')\n",
    "            fans_text = fans_element.text.split()[0]\n",
    "            if 'K' in fans_text:\n",
    "                fans_text = str(float(fans_text.replace('K', '')) * 1000)\n",
    "            elif 'M' in fans_text:\n",
    "                fans_text = str(float(fans_text.replace('M', '')) * 1000000)\n",
    "            fans_text = fans_text.replace('\\xa0', '').replace(',', '').split('.')[0]\n",
    "            movie_metadata['fans'] = int(fans_text)\n",
    "        except (NoSuchElementException, ValueError):\n",
    "            movie_metadata['fans'] = None\n",
    "\n",
    "        # Extract average rating and total number of ratings\n",
    "        try:\n",
    "            average_rating_element = driver.find_element(By.CSS_SELECTOR, 'span.average-rating a.tooltip.display-rating').get_attribute(\"data-original-title\")\n",
    "            movie_metadata['average_rating'] = float(average_rating_element.split()[3])\n",
    "            movie_metadata['total_ratings'] = int(average_rating_element.split()[6].replace(\",\", \"\"))\n",
    "        except (NoSuchElementException, ValueError):\n",
    "            movie_metadata['average_rating'] = None\n",
    "            movie_metadata['total_ratings'] = None\n",
    "\n",
    "        # Extract rating distribution\n",
    "        try:\n",
    "            histogram_element = driver.find_element(By.CSS_SELECTOR, 'div.rating-histogram.clear.rating-histogram-exploded')\n",
    "            rating_bars = histogram_element.find_elements(By.CSS_SELECTOR, 'li.rating-histogram-bar')\n",
    "            rating_distribution = []\n",
    "            for bar in rating_bars:\n",
    "                rating_text = bar.find_element(By.CSS_SELECTOR, 'a').get_attribute('data-original-title')\n",
    "                num_ratings = int(rating_text.split()[0].replace('\\xa0', '').replace(',', ''))\n",
    "                rating_distribution.append(num_ratings)\n",
    "            if movie_metadata['total_ratings']:\n",
    "                rating_distribution = [rating / movie_metadata['total_ratings'] for rating in rating_distribution]\n",
    "            movie_metadata['rating_distribution'] = rating_distribution\n",
    "        except (NoSuchElementException, ValueError):\n",
    "            movie_metadata['rating_distribution'] = None\n",
    "\n",
    "        # Extract genres from a different page\n",
    "        driver.get(f\"{movie_url}genres/\")\n",
    "        try:\n",
    "            genres_element = driver.find_element(By.CSS_SELECTOR, 'div#tab-genres p')\n",
    "            movie_metadata['genres'] = [genre.text for genre in genres_element.find_elements(By.TAG_NAME, 'a')]\n",
    "        except (NoSuchElementException, ValueError):\n",
    "            movie_metadata['genres'] = []\n",
    "\n",
    "    except TimeoutException:\n",
    "        print(f\"Timeout while loading {movie_url}\")\n",
    "        movie_metadata = None  # Returning None if there's a timeout\n",
    "\n",
    "    return movie_metadata\n",
    "\n",
    "def save_checkpoint(df, checkpoint_filename):\n",
    "    df.to_csv(checkpoint_filename, index=False)\n",
    "    print(f\"Checkpoint saved to {checkpoint_filename}\")\n",
    "\n",
    "def scrape_movie_metadata(movie_urls, driver, checkpoint_filename=\"movie_metadata_checkpoint.csv\", existing_metadata=None):\n",
    "    if existing_metadata is None:\n",
    "        existing_metadata = pd.DataFrame()\n",
    "\n",
    "    scraped_urls = set(existing_metadata['movie_url']) if 'movie_url' in existing_metadata.columns else set()\n",
    "    new_metadata = []\n",
    "    checkpoint_interval = 10\n",
    "\n",
    "    for idx, url in enumerate(tqdm(movie_urls, desc=\"Processing Movies\"), start=1):\n",
    "        if url not in scraped_urls:\n",
    "            metadata = extract_movie_metadata(url, driver)\n",
    "            if metadata:  # Only add if metadata is successfully retrieved\n",
    "                metadata['movie_url'] = url  # Use 'movie_url' instead of 'url'\n",
    "                new_metadata.append(metadata)\n",
    "                scraped_urls.add(url)\n",
    "\n",
    "        if idx % checkpoint_interval == 0:\n",
    "            df = pd.DataFrame(new_metadata)\n",
    "            movie_metadata_df = pd.concat([existing_metadata, df], ignore_index=True)\n",
    "            save_checkpoint(movie_metadata_df, checkpoint_filename)\n",
    "\n",
    "    new_metadata_df = pd.DataFrame(new_metadata)\n",
    "    movie_metadata_df = pd.concat([existing_metadata, new_metadata_df], ignore_index=True)\n",
    "    save_checkpoint(movie_metadata_df, checkpoint_filename)\n",
    "\n",
    "    return movie_metadata_df\n"
   ]
  },
  {
   "cell_type": "code",
   "execution_count": 8,
   "id": "0c8a3ec9",
   "metadata": {
    "execution": {
     "iopub.execute_input": "2024-09-02T16:17:48.704592Z",
     "iopub.status.busy": "2024-09-02T16:17:48.704104Z",
     "iopub.status.idle": "2024-09-02T16:17:48.957755Z",
     "shell.execute_reply": "2024-09-02T16:17:48.956544Z"
    },
    "papermill": {
     "duration": 0.297445,
     "end_time": "2024-09-02T16:17:48.960565",
     "exception": false,
     "start_time": "2024-09-02T16:17:48.663120",
     "status": "completed"
    },
    "tags": []
   },
   "outputs": [
    {
     "name": "stdout",
     "output_type": "stream",
     "text": [
      "4248 10000\n"
     ]
    },
    {
     "data": {
      "text/html": [
       "<div>\n",
       "<style scoped>\n",
       "    .dataframe tbody tr th:only-of-type {\n",
       "        vertical-align: middle;\n",
       "    }\n",
       "\n",
       "    .dataframe tbody tr th {\n",
       "        vertical-align: top;\n",
       "    }\n",
       "\n",
       "    .dataframe thead th {\n",
       "        text-align: right;\n",
       "    }\n",
       "</style>\n",
       "<table border=\"1\" class=\"dataframe\">\n",
       "  <thead>\n",
       "    <tr style=\"text-align: right;\">\n",
       "      <th></th>\n",
       "      <th>movie_title</th>\n",
       "      <th>movie_user_url</th>\n",
       "      <th>review_text</th>\n",
       "      <th>rating</th>\n",
       "      <th>review_date</th>\n",
       "      <th>movie_year</th>\n",
       "      <th>liked</th>\n",
       "      <th>user_url</th>\n",
       "      <th>username</th>\n",
       "      <th>movie_url</th>\n",
       "    </tr>\n",
       "  </thead>\n",
       "  <tbody>\n",
       "    <tr>\n",
       "      <th>0</th>\n",
       "      <td>The Bikeriders</td>\n",
       "      <td>https://letterboxd.com/kurstboy/film/the-biker...</td>\n",
       "      <td>michael shannon knocks it out of the park as a...</td>\n",
       "      <td>0.7</td>\n",
       "      <td>Watched 01 Sep 2024</td>\n",
       "      <td>2023.0</td>\n",
       "      <td>True</td>\n",
       "      <td>https://letterboxd.com/kurstboy/</td>\n",
       "      <td>kurstboy</td>\n",
       "      <td>https://letterboxd.com/film/the-bikeriders/</td>\n",
       "    </tr>\n",
       "    <tr>\n",
       "      <th>1</th>\n",
       "      <td>The Heartbreak Kid</td>\n",
       "      <td>https://letterboxd.com/kurstboy/film/the-heart...</td>\n",
       "      <td>40 to 50 out of 5 stars</td>\n",
       "      <td>1.0</td>\n",
       "      <td>Rewatched 28 Aug 2024</td>\n",
       "      <td>1972.0</td>\n",
       "      <td>True</td>\n",
       "      <td>https://letterboxd.com/kurstboy/</td>\n",
       "      <td>kurstboy</td>\n",
       "      <td>https://letterboxd.com/film/the-heartbreak-kid...</td>\n",
       "    </tr>\n",
       "    <tr>\n",
       "      <th>2</th>\n",
       "      <td>Design for Living</td>\n",
       "      <td>https://letterboxd.com/kurstboy/film/design-fo...</td>\n",
       "      <td>lubitsch just knows how to get it done</td>\n",
       "      <td>0.9</td>\n",
       "      <td>Watched 27 Aug 2024</td>\n",
       "      <td>1933.0</td>\n",
       "      <td>True</td>\n",
       "      <td>https://letterboxd.com/kurstboy/</td>\n",
       "      <td>kurstboy</td>\n",
       "      <td>https://letterboxd.com/film/design-for-living/</td>\n",
       "    </tr>\n",
       "    <tr>\n",
       "      <th>3</th>\n",
       "      <td>King Kong</td>\n",
       "      <td>https://letterboxd.com/kurstboy/film/king-kong...</td>\n",
       "      <td>monkey mondays #34\\nkind of flabbergasted at h...</td>\n",
       "      <td>0.8</td>\n",
       "      <td>Watched 26 Aug 2024</td>\n",
       "      <td>1976.0</td>\n",
       "      <td>True</td>\n",
       "      <td>https://letterboxd.com/kurstboy/</td>\n",
       "      <td>kurstboy</td>\n",
       "      <td>https://letterboxd.com/film/king-kong-1976/</td>\n",
       "    </tr>\n",
       "    <tr>\n",
       "      <th>4</th>\n",
       "      <td>Bobo the Monkey</td>\n",
       "      <td>https://letterboxd.com/kurstboy/film/bobo-the-...</td>\n",
       "      <td>monkey mondays #33</td>\n",
       "      <td>0.8</td>\n",
       "      <td>Watched 19 Aug 2024</td>\n",
       "      <td>2021.0</td>\n",
       "      <td>True</td>\n",
       "      <td>https://letterboxd.com/kurstboy/</td>\n",
       "      <td>kurstboy</td>\n",
       "      <td>https://letterboxd.com/film/bobo-the-monkey/</td>\n",
       "    </tr>\n",
       "  </tbody>\n",
       "</table>\n",
       "</div>"
      ],
      "text/plain": [
       "          movie_title                                     movie_user_url  \\\n",
       "0      The Bikeriders  https://letterboxd.com/kurstboy/film/the-biker...   \n",
       "1  The Heartbreak Kid  https://letterboxd.com/kurstboy/film/the-heart...   \n",
       "2   Design for Living  https://letterboxd.com/kurstboy/film/design-fo...   \n",
       "3           King Kong  https://letterboxd.com/kurstboy/film/king-kong...   \n",
       "4     Bobo the Monkey  https://letterboxd.com/kurstboy/film/bobo-the-...   \n",
       "\n",
       "                                         review_text  rating  \\\n",
       "0  michael shannon knocks it out of the park as a...     0.7   \n",
       "1                            40 to 50 out of 5 stars     1.0   \n",
       "2             lubitsch just knows how to get it done     0.9   \n",
       "3  monkey mondays #34\\nkind of flabbergasted at h...     0.8   \n",
       "4                                 monkey mondays #33     0.8   \n",
       "\n",
       "             review_date  movie_year  liked                          user_url  \\\n",
       "0    Watched 01 Sep 2024      2023.0   True  https://letterboxd.com/kurstboy/   \n",
       "1  Rewatched 28 Aug 2024      1972.0   True  https://letterboxd.com/kurstboy/   \n",
       "2    Watched 27 Aug 2024      1933.0   True  https://letterboxd.com/kurstboy/   \n",
       "3    Watched 26 Aug 2024      1976.0   True  https://letterboxd.com/kurstboy/   \n",
       "4    Watched 19 Aug 2024      2021.0   True  https://letterboxd.com/kurstboy/   \n",
       "\n",
       "   username                                          movie_url  \n",
       "0  kurstboy        https://letterboxd.com/film/the-bikeriders/  \n",
       "1  kurstboy  https://letterboxd.com/film/the-heartbreak-kid...  \n",
       "2  kurstboy     https://letterboxd.com/film/design-for-living/  \n",
       "3  kurstboy        https://letterboxd.com/film/king-kong-1976/  \n",
       "4  kurstboy       https://letterboxd.com/film/bobo-the-monkey/  "
      ]
     },
     "execution_count": 8,
     "metadata": {},
     "output_type": "execute_result"
    }
   ],
   "source": [
    "# read in user reviews and get unique movie urls\n",
    "user_reviews = pd.read_csv(\"/kaggle/input/user-scraper/user_reviews.csv\", index_col=0)\n",
    "# get movie urls to scrape\n",
    "movie_urls = user_reviews.movie_url.unique()\n",
    "#movie_urls = movie_urls[:10]\n",
    "# preview them\n",
    "print(len(movie_urls), len(user_reviews))\n",
    "user_reviews.head()"
   ]
  },
  {
   "cell_type": "code",
   "execution_count": 9,
   "id": "2d3bbc4f",
   "metadata": {
    "execution": {
     "iopub.execute_input": "2024-09-02T16:17:49.041490Z",
     "iopub.status.busy": "2024-09-02T16:17:49.040892Z",
     "iopub.status.idle": "2024-09-02T16:17:49.050576Z",
     "shell.execute_reply": "2024-09-02T16:17:49.048907Z"
    },
    "papermill": {
     "duration": 0.055714,
     "end_time": "2024-09-02T16:17:49.053558",
     "exception": false,
     "start_time": "2024-09-02T16:17:48.997844",
     "status": "completed"
    },
    "tags": []
   },
   "outputs": [],
   "source": [
    "def load_existing_metadata():\n",
    "    # Define the local file path and Kaggle input path\n",
    "    local_file = \"movie_metadata_checkpoint.csv\"\n",
    "    kaggle_file = \"/kaggle/input/add-metadata-to-user-reviews/movie_metadata_checkpoint.csv\"\n",
    "    \n",
    "    # Check if the local file exists\n",
    "    if os.path.exists(local_file):\n",
    "        print(f\"Loading metadata from local file: {local_file}\")\n",
    "        df = read_metadata(local_file)\n",
    "    elif os.path.exists(kaggle_file):\n",
    "        print(f\"Local file not found. Loading metadata from Kaggle input path: {kaggle_file}\")\n",
    "        df = read_metadata(kaggle_file)\n",
    "    else:\n",
    "        print(f\"No local or kaggle input file found\")\n",
    "        df = None\n",
    "    return df\n"
   ]
  },
  {
   "cell_type": "code",
   "execution_count": 10,
   "id": "4c0b5e8c",
   "metadata": {
    "execution": {
     "iopub.execute_input": "2024-09-02T16:17:49.127827Z",
     "iopub.status.busy": "2024-09-02T16:17:49.127225Z",
     "iopub.status.idle": "2024-09-02T23:51:39.933026Z",
     "shell.execute_reply": "2024-09-02T23:51:39.926750Z"
    },
    "papermill": {
     "duration": 27230.851553,
     "end_time": "2024-09-02T23:51:39.941119",
     "exception": false,
     "start_time": "2024-09-02T16:17:49.089566",
     "status": "completed"
    },
    "tags": []
   },
   "outputs": [
    {
     "name": "stdout",
     "output_type": "stream",
     "text": [
      "No local or kaggle input file found\n"
     ]
    },
    {
     "name": "stderr",
     "output_type": "stream",
     "text": [
      "Processing Movies:   0%|          | 10/4248 [03:20<9:51:04,  8.37s/it]"
     ]
    },
    {
     "name": "stdout",
     "output_type": "stream",
     "text": [
      "Checkpoint saved to movie_metadata_checkpoint.csv\n"
     ]
    },
    {
     "name": "stderr",
     "output_type": "stream",
     "text": [
      "Processing Movies:   0%|          | 20/4248 [04:24<8:09:15,  6.94s/it]"
     ]
    },
    {
     "name": "stdout",
     "output_type": "stream",
     "text": [
      "Checkpoint saved to movie_metadata_checkpoint.csv\n"
     ]
    },
    {
     "name": "stderr",
     "output_type": "stream",
     "text": [
      "Processing Movies:   1%|          | 30/4248 [05:23<7:01:36,  6.00s/it]"
     ]
    },
    {
     "name": "stdout",
     "output_type": "stream",
     "text": [
      "Checkpoint saved to movie_metadata_checkpoint.csv\n"
     ]
    },
    {
     "name": "stderr",
     "output_type": "stream",
     "text": [
      "Processing Movies:   1%|          | 40/4248 [06:29<7:38:02,  6.53s/it]"
     ]
    },
    {
     "name": "stdout",
     "output_type": "stream",
     "text": [
      "Checkpoint saved to movie_metadata_checkpoint.csv\n"
     ]
    },
    {
     "name": "stderr",
     "output_type": "stream",
     "text": [
      "Processing Movies:   1%|          | 50/4248 [07:22<6:28:31,  5.55s/it]"
     ]
    },
    {
     "name": "stdout",
     "output_type": "stream",
     "text": [
      "Checkpoint saved to movie_metadata_checkpoint.csv\n"
     ]
    },
    {
     "name": "stderr",
     "output_type": "stream",
     "text": [
      "Processing Movies:   1%|▏         | 60/4248 [08:30<8:09:19,  7.01s/it]"
     ]
    },
    {
     "name": "stdout",
     "output_type": "stream",
     "text": [
      "Checkpoint saved to movie_metadata_checkpoint.csv\n"
     ]
    },
    {
     "name": "stderr",
     "output_type": "stream",
     "text": [
      "Processing Movies:   2%|▏         | 70/4248 [09:35<7:46:52,  6.70s/it]"
     ]
    },
    {
     "name": "stdout",
     "output_type": "stream",
     "text": [
      "Checkpoint saved to movie_metadata_checkpoint.csv\n"
     ]
    },
    {
     "name": "stderr",
     "output_type": "stream",
     "text": [
      "Processing Movies:   2%|▏         | 80/4248 [10:34<6:49:10,  5.89s/it]"
     ]
    },
    {
     "name": "stdout",
     "output_type": "stream",
     "text": [
      "Checkpoint saved to movie_metadata_checkpoint.csv\n"
     ]
    },
    {
     "name": "stderr",
     "output_type": "stream",
     "text": [
      "Processing Movies:   2%|▏         | 90/4248 [11:43<7:50:29,  6.79s/it]"
     ]
    },
    {
     "name": "stdout",
     "output_type": "stream",
     "text": [
      "Checkpoint saved to movie_metadata_checkpoint.csv\n"
     ]
    },
    {
     "name": "stderr",
     "output_type": "stream",
     "text": [
      "Processing Movies:   2%|▏         | 100/4248 [12:43<7:13:15,  6.27s/it]"
     ]
    },
    {
     "name": "stdout",
     "output_type": "stream",
     "text": [
      "Checkpoint saved to movie_metadata_checkpoint.csv\n"
     ]
    },
    {
     "name": "stderr",
     "output_type": "stream",
     "text": [
      "Processing Movies:   3%|▎         | 110/4248 [13:47<7:19:03,  6.37s/it]"
     ]
    },
    {
     "name": "stdout",
     "output_type": "stream",
     "text": [
      "Checkpoint saved to movie_metadata_checkpoint.csv\n"
     ]
    },
    {
     "name": "stderr",
     "output_type": "stream",
     "text": [
      "Processing Movies:   3%|▎         | 120/4248 [14:53<7:14:42,  6.32s/it]"
     ]
    },
    {
     "name": "stdout",
     "output_type": "stream",
     "text": [
      "Checkpoint saved to movie_metadata_checkpoint.csv\n"
     ]
    },
    {
     "name": "stderr",
     "output_type": "stream",
     "text": [
      "Processing Movies:   3%|▎         | 130/4248 [15:59<6:50:50,  5.99s/it]"
     ]
    },
    {
     "name": "stdout",
     "output_type": "stream",
     "text": [
      "Checkpoint saved to movie_metadata_checkpoint.csv\n"
     ]
    },
    {
     "name": "stderr",
     "output_type": "stream",
     "text": [
      "Processing Movies:   3%|▎         | 140/4248 [17:04<7:25:43,  6.51s/it]"
     ]
    },
    {
     "name": "stdout",
     "output_type": "stream",
     "text": [
      "Checkpoint saved to movie_metadata_checkpoint.csv\n"
     ]
    },
    {
     "name": "stderr",
     "output_type": "stream",
     "text": [
      "Processing Movies:   4%|▎         | 150/4248 [18:12<7:25:47,  6.53s/it]"
     ]
    },
    {
     "name": "stdout",
     "output_type": "stream",
     "text": [
      "Checkpoint saved to movie_metadata_checkpoint.csv\n"
     ]
    },
    {
     "name": "stderr",
     "output_type": "stream",
     "text": [
      "Processing Movies:   4%|▍         | 160/4248 [19:21<7:20:53,  6.47s/it]"
     ]
    },
    {
     "name": "stdout",
     "output_type": "stream",
     "text": [
      "Checkpoint saved to movie_metadata_checkpoint.csv\n"
     ]
    },
    {
     "name": "stderr",
     "output_type": "stream",
     "text": [
      "Processing Movies:   4%|▍         | 170/4248 [20:26<6:57:29,  6.14s/it]"
     ]
    },
    {
     "name": "stdout",
     "output_type": "stream",
     "text": [
      "Checkpoint saved to movie_metadata_checkpoint.csv\n"
     ]
    },
    {
     "name": "stderr",
     "output_type": "stream",
     "text": [
      "Processing Movies:   4%|▍         | 180/4248 [21:34<8:07:38,  7.19s/it]"
     ]
    },
    {
     "name": "stdout",
     "output_type": "stream",
     "text": [
      "Checkpoint saved to movie_metadata_checkpoint.csv\n"
     ]
    },
    {
     "name": "stderr",
     "output_type": "stream",
     "text": [
      "Processing Movies:   4%|▍         | 190/4248 [22:43<7:49:02,  6.93s/it]"
     ]
    },
    {
     "name": "stdout",
     "output_type": "stream",
     "text": [
      "Checkpoint saved to movie_metadata_checkpoint.csv\n"
     ]
    },
    {
     "name": "stderr",
     "output_type": "stream",
     "text": [
      "Processing Movies:   5%|▍         | 200/4248 [23:50<7:10:48,  6.39s/it]"
     ]
    },
    {
     "name": "stdout",
     "output_type": "stream",
     "text": [
      "Checkpoint saved to movie_metadata_checkpoint.csv\n"
     ]
    },
    {
     "name": "stderr",
     "output_type": "stream",
     "text": [
      "Processing Movies:   5%|▍         | 210/4248 [24:56<7:30:53,  6.70s/it]"
     ]
    },
    {
     "name": "stdout",
     "output_type": "stream",
     "text": [
      "Checkpoint saved to movie_metadata_checkpoint.csv\n"
     ]
    },
    {
     "name": "stderr",
     "output_type": "stream",
     "text": [
      "Processing Movies:   5%|▌         | 220/4248 [26:02<7:22:26,  6.59s/it]"
     ]
    },
    {
     "name": "stdout",
     "output_type": "stream",
     "text": [
      "Checkpoint saved to movie_metadata_checkpoint.csv\n"
     ]
    },
    {
     "name": "stderr",
     "output_type": "stream",
     "text": [
      "Processing Movies:   5%|▌         | 230/4248 [27:08<7:25:39,  6.66s/it]"
     ]
    },
    {
     "name": "stdout",
     "output_type": "stream",
     "text": [
      "Checkpoint saved to movie_metadata_checkpoint.csv\n"
     ]
    },
    {
     "name": "stderr",
     "output_type": "stream",
     "text": [
      "Processing Movies:   6%|▌         | 240/4248 [28:15<7:34:13,  6.80s/it]"
     ]
    },
    {
     "name": "stdout",
     "output_type": "stream",
     "text": [
      "Checkpoint saved to movie_metadata_checkpoint.csv\n"
     ]
    },
    {
     "name": "stderr",
     "output_type": "stream",
     "text": [
      "Processing Movies:   6%|▌         | 250/4248 [29:19<7:02:45,  6.34s/it]"
     ]
    },
    {
     "name": "stdout",
     "output_type": "stream",
     "text": [
      "Checkpoint saved to movie_metadata_checkpoint.csv\n"
     ]
    },
    {
     "name": "stderr",
     "output_type": "stream",
     "text": [
      "Processing Movies:   6%|▌         | 260/4248 [30:23<6:56:14,  6.26s/it]"
     ]
    },
    {
     "name": "stdout",
     "output_type": "stream",
     "text": [
      "Checkpoint saved to movie_metadata_checkpoint.csv\n"
     ]
    },
    {
     "name": "stderr",
     "output_type": "stream",
     "text": [
      "Processing Movies:   6%|▋         | 270/4248 [31:29<7:08:49,  6.47s/it]"
     ]
    },
    {
     "name": "stdout",
     "output_type": "stream",
     "text": [
      "Checkpoint saved to movie_metadata_checkpoint.csv\n"
     ]
    },
    {
     "name": "stderr",
     "output_type": "stream",
     "text": [
      "Processing Movies:   7%|▋         | 280/4248 [32:28<6:49:36,  6.19s/it]"
     ]
    },
    {
     "name": "stdout",
     "output_type": "stream",
     "text": [
      "Checkpoint saved to movie_metadata_checkpoint.csv\n"
     ]
    },
    {
     "name": "stderr",
     "output_type": "stream",
     "text": [
      "Processing Movies:   7%|▋         | 290/4248 [33:19<5:12:05,  4.73s/it]"
     ]
    },
    {
     "name": "stdout",
     "output_type": "stream",
     "text": [
      "Checkpoint saved to movie_metadata_checkpoint.csv\n"
     ]
    },
    {
     "name": "stderr",
     "output_type": "stream",
     "text": [
      "Processing Movies:   7%|▋         | 300/4248 [34:16<6:10:11,  5.63s/it]"
     ]
    },
    {
     "name": "stdout",
     "output_type": "stream",
     "text": [
      "Checkpoint saved to movie_metadata_checkpoint.csv\n"
     ]
    },
    {
     "name": "stderr",
     "output_type": "stream",
     "text": [
      "Processing Movies:   7%|▋         | 310/4248 [35:15<6:35:27,  6.03s/it]"
     ]
    },
    {
     "name": "stdout",
     "output_type": "stream",
     "text": [
      "Checkpoint saved to movie_metadata_checkpoint.csv\n"
     ]
    },
    {
     "name": "stderr",
     "output_type": "stream",
     "text": [
      "Processing Movies:   8%|▊         | 320/4248 [36:11<6:18:23,  5.78s/it]"
     ]
    },
    {
     "name": "stdout",
     "output_type": "stream",
     "text": [
      "Checkpoint saved to movie_metadata_checkpoint.csv\n"
     ]
    },
    {
     "name": "stderr",
     "output_type": "stream",
     "text": [
      "Processing Movies:   8%|▊         | 330/4248 [37:02<6:12:51,  5.71s/it]"
     ]
    },
    {
     "name": "stdout",
     "output_type": "stream",
     "text": [
      "Checkpoint saved to movie_metadata_checkpoint.csv\n"
     ]
    },
    {
     "name": "stderr",
     "output_type": "stream",
     "text": [
      "Processing Movies:   8%|▊         | 340/4248 [37:56<5:26:27,  5.01s/it]"
     ]
    },
    {
     "name": "stdout",
     "output_type": "stream",
     "text": [
      "Checkpoint saved to movie_metadata_checkpoint.csv\n"
     ]
    },
    {
     "name": "stderr",
     "output_type": "stream",
     "text": [
      "Processing Movies:   8%|▊         | 350/4248 [38:59<6:31:02,  6.02s/it]"
     ]
    },
    {
     "name": "stdout",
     "output_type": "stream",
     "text": [
      "Checkpoint saved to movie_metadata_checkpoint.csv\n"
     ]
    },
    {
     "name": "stderr",
     "output_type": "stream",
     "text": [
      "Processing Movies:   8%|▊         | 360/4248 [39:58<6:33:48,  6.08s/it]"
     ]
    },
    {
     "name": "stdout",
     "output_type": "stream",
     "text": [
      "Checkpoint saved to movie_metadata_checkpoint.csv\n"
     ]
    },
    {
     "name": "stderr",
     "output_type": "stream",
     "text": [
      "Processing Movies:   9%|▊         | 370/4248 [40:58<7:07:09,  6.61s/it]"
     ]
    },
    {
     "name": "stdout",
     "output_type": "stream",
     "text": [
      "Checkpoint saved to movie_metadata_checkpoint.csv\n"
     ]
    },
    {
     "name": "stderr",
     "output_type": "stream",
     "text": [
      "Processing Movies:   9%|▉         | 380/4248 [41:57<7:05:43,  6.60s/it]"
     ]
    },
    {
     "name": "stdout",
     "output_type": "stream",
     "text": [
      "Checkpoint saved to movie_metadata_checkpoint.csv\n"
     ]
    },
    {
     "name": "stderr",
     "output_type": "stream",
     "text": [
      "Processing Movies:   9%|▉         | 390/4248 [42:55<5:54:40,  5.52s/it]"
     ]
    },
    {
     "name": "stdout",
     "output_type": "stream",
     "text": [
      "Checkpoint saved to movie_metadata_checkpoint.csv\n"
     ]
    },
    {
     "name": "stderr",
     "output_type": "stream",
     "text": [
      "Processing Movies:   9%|▉         | 400/4248 [43:54<6:07:35,  5.73s/it]"
     ]
    },
    {
     "name": "stdout",
     "output_type": "stream",
     "text": [
      "Checkpoint saved to movie_metadata_checkpoint.csv\n"
     ]
    },
    {
     "name": "stderr",
     "output_type": "stream",
     "text": [
      "Processing Movies:  10%|▉         | 410/4248 [44:51<6:36:35,  6.20s/it]"
     ]
    },
    {
     "name": "stdout",
     "output_type": "stream",
     "text": [
      "Checkpoint saved to movie_metadata_checkpoint.csv\n"
     ]
    },
    {
     "name": "stderr",
     "output_type": "stream",
     "text": [
      "Processing Movies:  10%|▉         | 420/4248 [45:50<6:23:46,  6.02s/it]"
     ]
    },
    {
     "name": "stdout",
     "output_type": "stream",
     "text": [
      "Checkpoint saved to movie_metadata_checkpoint.csv\n"
     ]
    },
    {
     "name": "stderr",
     "output_type": "stream",
     "text": [
      "Processing Movies:  10%|█         | 430/4248 [46:32<3:11:39,  3.01s/it]"
     ]
    },
    {
     "name": "stdout",
     "output_type": "stream",
     "text": [
      "Checkpoint saved to movie_metadata_checkpoint.csv\n"
     ]
    },
    {
     "name": "stderr",
     "output_type": "stream",
     "text": [
      "Processing Movies:  10%|█         | 440/4248 [47:32<6:28:20,  6.12s/it]"
     ]
    },
    {
     "name": "stdout",
     "output_type": "stream",
     "text": [
      "Checkpoint saved to movie_metadata_checkpoint.csv\n"
     ]
    },
    {
     "name": "stderr",
     "output_type": "stream",
     "text": [
      "Processing Movies:  11%|█         | 450/4248 [48:35<6:55:20,  6.56s/it]"
     ]
    },
    {
     "name": "stdout",
     "output_type": "stream",
     "text": [
      "Checkpoint saved to movie_metadata_checkpoint.csv\n"
     ]
    },
    {
     "name": "stderr",
     "output_type": "stream",
     "text": [
      "Processing Movies:  11%|█         | 460/4248 [49:37<6:53:59,  6.56s/it]"
     ]
    },
    {
     "name": "stdout",
     "output_type": "stream",
     "text": [
      "Checkpoint saved to movie_metadata_checkpoint.csv\n"
     ]
    },
    {
     "name": "stderr",
     "output_type": "stream",
     "text": [
      "Processing Movies:  11%|█         | 470/4248 [50:43<7:11:03,  6.85s/it]"
     ]
    },
    {
     "name": "stdout",
     "output_type": "stream",
     "text": [
      "Checkpoint saved to movie_metadata_checkpoint.csv\n"
     ]
    },
    {
     "name": "stderr",
     "output_type": "stream",
     "text": [
      "Processing Movies:  11%|█▏        | 480/4248 [51:50<6:56:37,  6.63s/it]"
     ]
    },
    {
     "name": "stdout",
     "output_type": "stream",
     "text": [
      "Checkpoint saved to movie_metadata_checkpoint.csv\n"
     ]
    },
    {
     "name": "stderr",
     "output_type": "stream",
     "text": [
      "Processing Movies:  12%|█▏        | 490/4248 [53:03<7:15:18,  6.95s/it]"
     ]
    },
    {
     "name": "stdout",
     "output_type": "stream",
     "text": [
      "Checkpoint saved to movie_metadata_checkpoint.csv\n"
     ]
    },
    {
     "name": "stderr",
     "output_type": "stream",
     "text": [
      "Processing Movies:  12%|█▏        | 500/4248 [54:15<7:16:40,  6.99s/it]"
     ]
    },
    {
     "name": "stdout",
     "output_type": "stream",
     "text": [
      "Checkpoint saved to movie_metadata_checkpoint.csv\n"
     ]
    },
    {
     "name": "stderr",
     "output_type": "stream",
     "text": [
      "Processing Movies:  12%|█▏        | 510/4248 [55:16<5:29:42,  5.29s/it]"
     ]
    },
    {
     "name": "stdout",
     "output_type": "stream",
     "text": [
      "Checkpoint saved to movie_metadata_checkpoint.csv\n"
     ]
    },
    {
     "name": "stderr",
     "output_type": "stream",
     "text": [
      "Processing Movies:  12%|█▏        | 520/4248 [56:25<6:58:17,  6.73s/it]"
     ]
    },
    {
     "name": "stdout",
     "output_type": "stream",
     "text": [
      "Checkpoint saved to movie_metadata_checkpoint.csv\n"
     ]
    },
    {
     "name": "stderr",
     "output_type": "stream",
     "text": [
      "Processing Movies:  12%|█▏        | 530/4248 [57:29<6:20:15,  6.14s/it]"
     ]
    },
    {
     "name": "stdout",
     "output_type": "stream",
     "text": [
      "Checkpoint saved to movie_metadata_checkpoint.csv\n"
     ]
    },
    {
     "name": "stderr",
     "output_type": "stream",
     "text": [
      "Processing Movies:  13%|█▎        | 540/4248 [58:25<6:31:28,  6.33s/it]"
     ]
    },
    {
     "name": "stdout",
     "output_type": "stream",
     "text": [
      "Checkpoint saved to movie_metadata_checkpoint.csv\n"
     ]
    },
    {
     "name": "stderr",
     "output_type": "stream",
     "text": [
      "Processing Movies:  13%|█▎        | 550/4248 [59:41<8:04:02,  7.85s/it]"
     ]
    },
    {
     "name": "stdout",
     "output_type": "stream",
     "text": [
      "Checkpoint saved to movie_metadata_checkpoint.csv\n"
     ]
    },
    {
     "name": "stderr",
     "output_type": "stream",
     "text": [
      "Processing Movies:  13%|█▎        | 560/4248 [1:00:46<6:25:15,  6.27s/it]"
     ]
    },
    {
     "name": "stdout",
     "output_type": "stream",
     "text": [
      "Checkpoint saved to movie_metadata_checkpoint.csv\n"
     ]
    },
    {
     "name": "stderr",
     "output_type": "stream",
     "text": [
      "Processing Movies:  13%|█▎        | 570/4248 [1:01:43<6:33:31,  6.42s/it]"
     ]
    },
    {
     "name": "stdout",
     "output_type": "stream",
     "text": [
      "Checkpoint saved to movie_metadata_checkpoint.csv\n"
     ]
    },
    {
     "name": "stderr",
     "output_type": "stream",
     "text": [
      "Processing Movies:  14%|█▎        | 580/4248 [1:02:52<7:00:30,  6.88s/it]"
     ]
    },
    {
     "name": "stdout",
     "output_type": "stream",
     "text": [
      "Checkpoint saved to movie_metadata_checkpoint.csv\n"
     ]
    },
    {
     "name": "stderr",
     "output_type": "stream",
     "text": [
      "Processing Movies:  14%|█▍        | 590/4248 [1:03:56<7:16:57,  7.17s/it]"
     ]
    },
    {
     "name": "stdout",
     "output_type": "stream",
     "text": [
      "Checkpoint saved to movie_metadata_checkpoint.csv\n"
     ]
    },
    {
     "name": "stderr",
     "output_type": "stream",
     "text": [
      "Processing Movies:  14%|█▍        | 600/4248 [1:05:02<5:38:23,  5.57s/it]"
     ]
    },
    {
     "name": "stdout",
     "output_type": "stream",
     "text": [
      "Checkpoint saved to movie_metadata_checkpoint.csv\n"
     ]
    },
    {
     "name": "stderr",
     "output_type": "stream",
     "text": [
      "Processing Movies:  14%|█▍        | 610/4248 [1:06:03<6:04:19,  6.01s/it]"
     ]
    },
    {
     "name": "stdout",
     "output_type": "stream",
     "text": [
      "Checkpoint saved to movie_metadata_checkpoint.csv\n"
     ]
    },
    {
     "name": "stderr",
     "output_type": "stream",
     "text": [
      "Processing Movies:  15%|█▍        | 620/4248 [1:07:06<6:25:57,  6.38s/it]"
     ]
    },
    {
     "name": "stdout",
     "output_type": "stream",
     "text": [
      "Checkpoint saved to movie_metadata_checkpoint.csv\n"
     ]
    },
    {
     "name": "stderr",
     "output_type": "stream",
     "text": [
      "Processing Movies:  15%|█▍        | 630/4248 [1:08:14<6:48:38,  6.78s/it]"
     ]
    },
    {
     "name": "stdout",
     "output_type": "stream",
     "text": [
      "Checkpoint saved to movie_metadata_checkpoint.csv\n"
     ]
    },
    {
     "name": "stderr",
     "output_type": "stream",
     "text": [
      "Processing Movies:  15%|█▌        | 640/4248 [1:09:14<6:22:14,  6.36s/it]"
     ]
    },
    {
     "name": "stdout",
     "output_type": "stream",
     "text": [
      "Checkpoint saved to movie_metadata_checkpoint.csv\n"
     ]
    },
    {
     "name": "stderr",
     "output_type": "stream",
     "text": [
      "Processing Movies:  15%|█▌        | 650/4248 [1:10:20<6:30:41,  6.52s/it]"
     ]
    },
    {
     "name": "stdout",
     "output_type": "stream",
     "text": [
      "Checkpoint saved to movie_metadata_checkpoint.csv\n"
     ]
    },
    {
     "name": "stderr",
     "output_type": "stream",
     "text": [
      "Processing Movies:  16%|█▌        | 660/4248 [1:11:16<6:29:11,  6.51s/it]"
     ]
    },
    {
     "name": "stdout",
     "output_type": "stream",
     "text": [
      "Checkpoint saved to movie_metadata_checkpoint.csv\n"
     ]
    },
    {
     "name": "stderr",
     "output_type": "stream",
     "text": [
      "Processing Movies:  16%|█▌        | 670/4248 [1:12:07<4:23:49,  4.42s/it]"
     ]
    },
    {
     "name": "stdout",
     "output_type": "stream",
     "text": [
      "Checkpoint saved to movie_metadata_checkpoint.csv\n"
     ]
    },
    {
     "name": "stderr",
     "output_type": "stream",
     "text": [
      "Processing Movies:  16%|█▌        | 680/4248 [1:12:50<5:12:22,  5.25s/it]"
     ]
    },
    {
     "name": "stdout",
     "output_type": "stream",
     "text": [
      "Checkpoint saved to movie_metadata_checkpoint.csv\n"
     ]
    },
    {
     "name": "stderr",
     "output_type": "stream",
     "text": [
      "Processing Movies:  16%|█▌        | 690/4248 [1:13:56<7:12:19,  7.29s/it]"
     ]
    },
    {
     "name": "stdout",
     "output_type": "stream",
     "text": [
      "Checkpoint saved to movie_metadata_checkpoint.csv\n"
     ]
    },
    {
     "name": "stderr",
     "output_type": "stream",
     "text": [
      "Processing Movies:  16%|█▋        | 700/4248 [1:15:04<6:57:01,  7.05s/it]"
     ]
    },
    {
     "name": "stdout",
     "output_type": "stream",
     "text": [
      "Checkpoint saved to movie_metadata_checkpoint.csv\n"
     ]
    },
    {
     "name": "stderr",
     "output_type": "stream",
     "text": [
      "Processing Movies:  17%|█▋        | 710/4248 [1:16:18<6:53:23,  7.01s/it]"
     ]
    },
    {
     "name": "stdout",
     "output_type": "stream",
     "text": [
      "Checkpoint saved to movie_metadata_checkpoint.csv\n"
     ]
    },
    {
     "name": "stderr",
     "output_type": "stream",
     "text": [
      "Processing Movies:  17%|█▋        | 720/4248 [1:17:18<6:05:31,  6.22s/it]"
     ]
    },
    {
     "name": "stdout",
     "output_type": "stream",
     "text": [
      "Checkpoint saved to movie_metadata_checkpoint.csv\n"
     ]
    },
    {
     "name": "stderr",
     "output_type": "stream",
     "text": [
      "Processing Movies:  17%|█▋        | 730/4248 [1:18:04<3:50:59,  3.94s/it]"
     ]
    },
    {
     "name": "stdout",
     "output_type": "stream",
     "text": [
      "Checkpoint saved to movie_metadata_checkpoint.csv\n"
     ]
    },
    {
     "name": "stderr",
     "output_type": "stream",
     "text": [
      "Processing Movies:  17%|█▋        | 740/4248 [1:18:48<5:07:48,  5.26s/it]"
     ]
    },
    {
     "name": "stdout",
     "output_type": "stream",
     "text": [
      "Checkpoint saved to movie_metadata_checkpoint.csv\n"
     ]
    },
    {
     "name": "stderr",
     "output_type": "stream",
     "text": [
      "Processing Movies:  18%|█▊        | 750/4248 [1:19:42<5:46:55,  5.95s/it]"
     ]
    },
    {
     "name": "stdout",
     "output_type": "stream",
     "text": [
      "Checkpoint saved to movie_metadata_checkpoint.csv\n"
     ]
    },
    {
     "name": "stderr",
     "output_type": "stream",
     "text": [
      "Processing Movies:  18%|█▊        | 760/4248 [1:20:33<3:48:21,  3.93s/it]"
     ]
    },
    {
     "name": "stdout",
     "output_type": "stream",
     "text": [
      "Checkpoint saved to movie_metadata_checkpoint.csv\n"
     ]
    },
    {
     "name": "stderr",
     "output_type": "stream",
     "text": [
      "Processing Movies:  18%|█▊        | 770/4248 [1:21:18<5:13:50,  5.41s/it]"
     ]
    },
    {
     "name": "stdout",
     "output_type": "stream",
     "text": [
      "Checkpoint saved to movie_metadata_checkpoint.csv\n"
     ]
    },
    {
     "name": "stderr",
     "output_type": "stream",
     "text": [
      "Processing Movies:  18%|█▊        | 780/4248 [1:22:27<6:00:05,  6.23s/it]"
     ]
    },
    {
     "name": "stdout",
     "output_type": "stream",
     "text": [
      "Checkpoint saved to movie_metadata_checkpoint.csv\n"
     ]
    },
    {
     "name": "stderr",
     "output_type": "stream",
     "text": [
      "Processing Movies:  19%|█▊        | 790/4248 [1:23:22<5:26:59,  5.67s/it]"
     ]
    },
    {
     "name": "stdout",
     "output_type": "stream",
     "text": [
      "Checkpoint saved to movie_metadata_checkpoint.csv\n"
     ]
    },
    {
     "name": "stderr",
     "output_type": "stream",
     "text": [
      "Processing Movies:  19%|█▉        | 800/4248 [1:24:21<5:38:02,  5.88s/it]"
     ]
    },
    {
     "name": "stdout",
     "output_type": "stream",
     "text": [
      "Checkpoint saved to movie_metadata_checkpoint.csv\n"
     ]
    },
    {
     "name": "stderr",
     "output_type": "stream",
     "text": [
      "Processing Movies:  19%|█▉        | 810/4248 [1:25:26<6:23:18,  6.69s/it]"
     ]
    },
    {
     "name": "stdout",
     "output_type": "stream",
     "text": [
      "Checkpoint saved to movie_metadata_checkpoint.csv\n"
     ]
    },
    {
     "name": "stderr",
     "output_type": "stream",
     "text": [
      "Processing Movies:  19%|█▉        | 820/4248 [1:26:29<5:47:51,  6.09s/it]"
     ]
    },
    {
     "name": "stdout",
     "output_type": "stream",
     "text": [
      "Checkpoint saved to movie_metadata_checkpoint.csv\n"
     ]
    },
    {
     "name": "stderr",
     "output_type": "stream",
     "text": [
      "Processing Movies:  20%|█▉        | 830/4248 [1:27:35<6:30:17,  6.85s/it]"
     ]
    },
    {
     "name": "stdout",
     "output_type": "stream",
     "text": [
      "Checkpoint saved to movie_metadata_checkpoint.csv\n"
     ]
    },
    {
     "name": "stderr",
     "output_type": "stream",
     "text": [
      "Processing Movies:  20%|█▉        | 840/4248 [1:28:39<6:21:41,  6.72s/it]"
     ]
    },
    {
     "name": "stdout",
     "output_type": "stream",
     "text": [
      "Checkpoint saved to movie_metadata_checkpoint.csv\n"
     ]
    },
    {
     "name": "stderr",
     "output_type": "stream",
     "text": [
      "Processing Movies:  20%|██        | 850/4248 [1:29:41<6:04:21,  6.43s/it]"
     ]
    },
    {
     "name": "stdout",
     "output_type": "stream",
     "text": [
      "Checkpoint saved to movie_metadata_checkpoint.csv\n"
     ]
    },
    {
     "name": "stderr",
     "output_type": "stream",
     "text": [
      "Processing Movies:  20%|██        | 860/4248 [1:30:51<6:35:00,  7.00s/it]"
     ]
    },
    {
     "name": "stdout",
     "output_type": "stream",
     "text": [
      "Checkpoint saved to movie_metadata_checkpoint.csv\n"
     ]
    },
    {
     "name": "stderr",
     "output_type": "stream",
     "text": [
      "Processing Movies:  20%|██        | 870/4248 [1:32:02<6:55:26,  7.38s/it]"
     ]
    },
    {
     "name": "stdout",
     "output_type": "stream",
     "text": [
      "Checkpoint saved to movie_metadata_checkpoint.csv\n"
     ]
    },
    {
     "name": "stderr",
     "output_type": "stream",
     "text": [
      "Processing Movies:  21%|██        | 880/4248 [1:33:12<6:42:49,  7.18s/it]"
     ]
    },
    {
     "name": "stdout",
     "output_type": "stream",
     "text": [
      "Checkpoint saved to movie_metadata_checkpoint.csv\n"
     ]
    },
    {
     "name": "stderr",
     "output_type": "stream",
     "text": [
      "Processing Movies:  21%|██        | 890/4248 [1:34:19<6:54:28,  7.41s/it]"
     ]
    },
    {
     "name": "stdout",
     "output_type": "stream",
     "text": [
      "Checkpoint saved to movie_metadata_checkpoint.csv\n"
     ]
    },
    {
     "name": "stderr",
     "output_type": "stream",
     "text": [
      "Processing Movies:  21%|██        | 900/4248 [1:35:32<6:53:39,  7.41s/it]"
     ]
    },
    {
     "name": "stdout",
     "output_type": "stream",
     "text": [
      "Checkpoint saved to movie_metadata_checkpoint.csv\n"
     ]
    },
    {
     "name": "stderr",
     "output_type": "stream",
     "text": [
      "Processing Movies:  21%|██▏       | 910/4248 [1:36:32<5:15:50,  5.68s/it]"
     ]
    },
    {
     "name": "stdout",
     "output_type": "stream",
     "text": [
      "Checkpoint saved to movie_metadata_checkpoint.csv\n"
     ]
    },
    {
     "name": "stderr",
     "output_type": "stream",
     "text": [
      "Processing Movies:  22%|██▏       | 920/4248 [1:37:43<6:30:23,  7.04s/it]"
     ]
    },
    {
     "name": "stdout",
     "output_type": "stream",
     "text": [
      "Checkpoint saved to movie_metadata_checkpoint.csv\n"
     ]
    },
    {
     "name": "stderr",
     "output_type": "stream",
     "text": [
      "Processing Movies:  22%|██▏       | 930/4248 [1:39:00<6:44:46,  7.32s/it]"
     ]
    },
    {
     "name": "stdout",
     "output_type": "stream",
     "text": [
      "Checkpoint saved to movie_metadata_checkpoint.csv\n"
     ]
    },
    {
     "name": "stderr",
     "output_type": "stream",
     "text": [
      "Processing Movies:  22%|██▏       | 940/4248 [1:40:10<6:17:17,  6.84s/it]"
     ]
    },
    {
     "name": "stdout",
     "output_type": "stream",
     "text": [
      "Checkpoint saved to movie_metadata_checkpoint.csv\n"
     ]
    },
    {
     "name": "stderr",
     "output_type": "stream",
     "text": [
      "Processing Movies:  22%|██▏       | 950/4248 [1:41:21<6:56:00,  7.57s/it]"
     ]
    },
    {
     "name": "stdout",
     "output_type": "stream",
     "text": [
      "Checkpoint saved to movie_metadata_checkpoint.csv\n"
     ]
    },
    {
     "name": "stderr",
     "output_type": "stream",
     "text": [
      "Processing Movies:  23%|██▎       | 960/4248 [1:42:32<6:11:21,  6.78s/it]"
     ]
    },
    {
     "name": "stdout",
     "output_type": "stream",
     "text": [
      "Checkpoint saved to movie_metadata_checkpoint.csv\n"
     ]
    },
    {
     "name": "stderr",
     "output_type": "stream",
     "text": [
      "Processing Movies:  23%|██▎       | 970/4248 [1:43:40<5:40:32,  6.23s/it]"
     ]
    },
    {
     "name": "stdout",
     "output_type": "stream",
     "text": [
      "Checkpoint saved to movie_metadata_checkpoint.csv\n"
     ]
    },
    {
     "name": "stderr",
     "output_type": "stream",
     "text": [
      "Processing Movies:  23%|██▎       | 980/4248 [1:44:49<6:19:20,  6.96s/it]"
     ]
    },
    {
     "name": "stdout",
     "output_type": "stream",
     "text": [
      "Checkpoint saved to movie_metadata_checkpoint.csv\n"
     ]
    },
    {
     "name": "stderr",
     "output_type": "stream",
     "text": [
      "Processing Movies:  23%|██▎       | 990/4248 [1:45:57<5:55:53,  6.55s/it]"
     ]
    },
    {
     "name": "stdout",
     "output_type": "stream",
     "text": [
      "Checkpoint saved to movie_metadata_checkpoint.csv\n"
     ]
    },
    {
     "name": "stderr",
     "output_type": "stream",
     "text": [
      "Processing Movies:  24%|██▎       | 1000/4248 [1:47:10<6:58:06,  7.72s/it]"
     ]
    },
    {
     "name": "stdout",
     "output_type": "stream",
     "text": [
      "Checkpoint saved to movie_metadata_checkpoint.csv\n"
     ]
    },
    {
     "name": "stderr",
     "output_type": "stream",
     "text": [
      "Processing Movies:  24%|██▍       | 1010/4248 [1:48:31<6:52:37,  7.65s/it]"
     ]
    },
    {
     "name": "stdout",
     "output_type": "stream",
     "text": [
      "Checkpoint saved to movie_metadata_checkpoint.csv\n"
     ]
    },
    {
     "name": "stderr",
     "output_type": "stream",
     "text": [
      "Processing Movies:  24%|██▍       | 1020/4248 [1:49:43<5:49:53,  6.50s/it]"
     ]
    },
    {
     "name": "stdout",
     "output_type": "stream",
     "text": [
      "Checkpoint saved to movie_metadata_checkpoint.csv\n"
     ]
    },
    {
     "name": "stderr",
     "output_type": "stream",
     "text": [
      "Processing Movies:  24%|██▍       | 1030/4248 [1:50:47<5:37:21,  6.29s/it]"
     ]
    },
    {
     "name": "stdout",
     "output_type": "stream",
     "text": [
      "Checkpoint saved to movie_metadata_checkpoint.csv\n"
     ]
    },
    {
     "name": "stderr",
     "output_type": "stream",
     "text": [
      "Processing Movies:  24%|██▍       | 1040/4248 [1:51:39<4:52:49,  5.48s/it]"
     ]
    },
    {
     "name": "stdout",
     "output_type": "stream",
     "text": [
      "Checkpoint saved to movie_metadata_checkpoint.csv\n"
     ]
    },
    {
     "name": "stderr",
     "output_type": "stream",
     "text": [
      "Processing Movies:  25%|██▍       | 1050/4248 [1:52:48<6:22:30,  7.18s/it]"
     ]
    },
    {
     "name": "stdout",
     "output_type": "stream",
     "text": [
      "Checkpoint saved to movie_metadata_checkpoint.csv\n"
     ]
    },
    {
     "name": "stderr",
     "output_type": "stream",
     "text": [
      "Processing Movies:  25%|██▍       | 1060/4248 [1:53:48<5:40:52,  6.42s/it]"
     ]
    },
    {
     "name": "stdout",
     "output_type": "stream",
     "text": [
      "Checkpoint saved to movie_metadata_checkpoint.csv\n"
     ]
    },
    {
     "name": "stderr",
     "output_type": "stream",
     "text": [
      "Processing Movies:  25%|██▌       | 1070/4248 [1:54:38<4:13:17,  4.78s/it]"
     ]
    },
    {
     "name": "stdout",
     "output_type": "stream",
     "text": [
      "Checkpoint saved to movie_metadata_checkpoint.csv\n"
     ]
    },
    {
     "name": "stderr",
     "output_type": "stream",
     "text": [
      "Processing Movies:  25%|██▌       | 1080/4248 [1:55:42<6:12:57,  7.06s/it]"
     ]
    },
    {
     "name": "stdout",
     "output_type": "stream",
     "text": [
      "Checkpoint saved to movie_metadata_checkpoint.csv\n"
     ]
    },
    {
     "name": "stderr",
     "output_type": "stream",
     "text": [
      "Processing Movies:  26%|██▌       | 1090/4248 [1:56:53<5:58:21,  6.81s/it]"
     ]
    },
    {
     "name": "stdout",
     "output_type": "stream",
     "text": [
      "Checkpoint saved to movie_metadata_checkpoint.csv\n"
     ]
    },
    {
     "name": "stderr",
     "output_type": "stream",
     "text": [
      "Processing Movies:  26%|██▌       | 1100/4248 [1:57:55<4:56:55,  5.66s/it]"
     ]
    },
    {
     "name": "stdout",
     "output_type": "stream",
     "text": [
      "Checkpoint saved to movie_metadata_checkpoint.csv\n"
     ]
    },
    {
     "name": "stderr",
     "output_type": "stream",
     "text": [
      "Processing Movies:  26%|██▌       | 1110/4248 [1:59:04<5:38:05,  6.46s/it]"
     ]
    },
    {
     "name": "stdout",
     "output_type": "stream",
     "text": [
      "Checkpoint saved to movie_metadata_checkpoint.csv\n"
     ]
    },
    {
     "name": "stderr",
     "output_type": "stream",
     "text": [
      "Processing Movies:  26%|██▋       | 1120/4248 [2:00:05<5:17:55,  6.10s/it]"
     ]
    },
    {
     "name": "stdout",
     "output_type": "stream",
     "text": [
      "Checkpoint saved to movie_metadata_checkpoint.csv\n"
     ]
    },
    {
     "name": "stderr",
     "output_type": "stream",
     "text": [
      "Processing Movies:  27%|██▋       | 1130/4248 [2:01:04<5:10:19,  5.97s/it]"
     ]
    },
    {
     "name": "stdout",
     "output_type": "stream",
     "text": [
      "Checkpoint saved to movie_metadata_checkpoint.csv\n"
     ]
    },
    {
     "name": "stderr",
     "output_type": "stream",
     "text": [
      "Processing Movies:  27%|██▋       | 1140/4248 [2:02:23<7:15:30,  8.41s/it]"
     ]
    },
    {
     "name": "stdout",
     "output_type": "stream",
     "text": [
      "Checkpoint saved to movie_metadata_checkpoint.csv\n"
     ]
    },
    {
     "name": "stderr",
     "output_type": "stream",
     "text": [
      "Processing Movies:  27%|██▋       | 1150/4248 [2:03:48<6:27:08,  7.50s/it]"
     ]
    },
    {
     "name": "stdout",
     "output_type": "stream",
     "text": [
      "Checkpoint saved to movie_metadata_checkpoint.csv\n"
     ]
    },
    {
     "name": "stderr",
     "output_type": "stream",
     "text": [
      "Processing Movies:  27%|██▋       | 1160/4248 [2:05:02<6:08:26,  7.16s/it]"
     ]
    },
    {
     "name": "stdout",
     "output_type": "stream",
     "text": [
      "Checkpoint saved to movie_metadata_checkpoint.csv\n"
     ]
    },
    {
     "name": "stderr",
     "output_type": "stream",
     "text": [
      "Processing Movies:  28%|██▊       | 1170/4248 [2:06:08<5:49:08,  6.81s/it]"
     ]
    },
    {
     "name": "stdout",
     "output_type": "stream",
     "text": [
      "Checkpoint saved to movie_metadata_checkpoint.csv\n"
     ]
    },
    {
     "name": "stderr",
     "output_type": "stream",
     "text": [
      "Processing Movies:  28%|██▊       | 1180/4248 [2:07:21<6:30:25,  7.64s/it]"
     ]
    },
    {
     "name": "stdout",
     "output_type": "stream",
     "text": [
      "Checkpoint saved to movie_metadata_checkpoint.csv\n"
     ]
    },
    {
     "name": "stderr",
     "output_type": "stream",
     "text": [
      "Processing Movies:  28%|██▊       | 1190/4248 [2:08:38<5:59:59,  7.06s/it]"
     ]
    },
    {
     "name": "stdout",
     "output_type": "stream",
     "text": [
      "Checkpoint saved to movie_metadata_checkpoint.csv\n"
     ]
    },
    {
     "name": "stderr",
     "output_type": "stream",
     "text": [
      "Processing Movies:  28%|██▊       | 1200/4248 [2:09:57<7:14:01,  8.54s/it]"
     ]
    },
    {
     "name": "stdout",
     "output_type": "stream",
     "text": [
      "Checkpoint saved to movie_metadata_checkpoint.csv\n"
     ]
    },
    {
     "name": "stderr",
     "output_type": "stream",
     "text": [
      "Processing Movies:  28%|██▊       | 1210/4248 [2:11:13<6:22:22,  7.55s/it]"
     ]
    },
    {
     "name": "stdout",
     "output_type": "stream",
     "text": [
      "Checkpoint saved to movie_metadata_checkpoint.csv\n"
     ]
    },
    {
     "name": "stderr",
     "output_type": "stream",
     "text": [
      "Processing Movies:  29%|██▊       | 1220/4248 [2:12:28<6:20:50,  7.55s/it]"
     ]
    },
    {
     "name": "stdout",
     "output_type": "stream",
     "text": [
      "Checkpoint saved to movie_metadata_checkpoint.csv\n"
     ]
    },
    {
     "name": "stderr",
     "output_type": "stream",
     "text": [
      "Processing Movies:  29%|██▉       | 1230/4248 [2:13:37<5:52:58,  7.02s/it]"
     ]
    },
    {
     "name": "stdout",
     "output_type": "stream",
     "text": [
      "Checkpoint saved to movie_metadata_checkpoint.csv\n"
     ]
    },
    {
     "name": "stderr",
     "output_type": "stream",
     "text": [
      "Processing Movies:  29%|██▉       | 1240/4248 [2:14:49<6:03:52,  7.26s/it]"
     ]
    },
    {
     "name": "stdout",
     "output_type": "stream",
     "text": [
      "Checkpoint saved to movie_metadata_checkpoint.csv\n"
     ]
    },
    {
     "name": "stderr",
     "output_type": "stream",
     "text": [
      "Processing Movies:  29%|██▉       | 1250/4248 [2:15:53<5:50:22,  7.01s/it]"
     ]
    },
    {
     "name": "stdout",
     "output_type": "stream",
     "text": [
      "Checkpoint saved to movie_metadata_checkpoint.csv\n"
     ]
    },
    {
     "name": "stderr",
     "output_type": "stream",
     "text": [
      "Processing Movies:  30%|██▉       | 1260/4248 [2:16:54<4:45:09,  5.73s/it]"
     ]
    },
    {
     "name": "stdout",
     "output_type": "stream",
     "text": [
      "Checkpoint saved to movie_metadata_checkpoint.csv\n"
     ]
    },
    {
     "name": "stderr",
     "output_type": "stream",
     "text": [
      "Processing Movies:  30%|██▉       | 1270/4248 [2:18:04<5:56:16,  7.18s/it]"
     ]
    },
    {
     "name": "stdout",
     "output_type": "stream",
     "text": [
      "Checkpoint saved to movie_metadata_checkpoint.csv\n"
     ]
    },
    {
     "name": "stderr",
     "output_type": "stream",
     "text": [
      "Processing Movies:  30%|███       | 1280/4248 [2:19:16<5:54:03,  7.16s/it]"
     ]
    },
    {
     "name": "stdout",
     "output_type": "stream",
     "text": [
      "Checkpoint saved to movie_metadata_checkpoint.csv\n"
     ]
    },
    {
     "name": "stderr",
     "output_type": "stream",
     "text": [
      "Processing Movies:  30%|███       | 1290/4248 [2:20:27<5:54:05,  7.18s/it]"
     ]
    },
    {
     "name": "stdout",
     "output_type": "stream",
     "text": [
      "Checkpoint saved to movie_metadata_checkpoint.csv\n"
     ]
    },
    {
     "name": "stderr",
     "output_type": "stream",
     "text": [
      "Processing Movies:  31%|███       | 1300/4248 [2:21:36<5:18:29,  6.48s/it]"
     ]
    },
    {
     "name": "stdout",
     "output_type": "stream",
     "text": [
      "Checkpoint saved to movie_metadata_checkpoint.csv\n"
     ]
    },
    {
     "name": "stderr",
     "output_type": "stream",
     "text": [
      "Processing Movies:  31%|███       | 1310/4248 [2:22:49<5:55:13,  7.25s/it]"
     ]
    },
    {
     "name": "stdout",
     "output_type": "stream",
     "text": [
      "Checkpoint saved to movie_metadata_checkpoint.csv\n"
     ]
    },
    {
     "name": "stderr",
     "output_type": "stream",
     "text": [
      "Processing Movies:  31%|███       | 1320/4248 [2:23:56<5:17:37,  6.51s/it]"
     ]
    },
    {
     "name": "stdout",
     "output_type": "stream",
     "text": [
      "Checkpoint saved to movie_metadata_checkpoint.csv\n"
     ]
    },
    {
     "name": "stderr",
     "output_type": "stream",
     "text": [
      "Processing Movies:  31%|███▏      | 1330/4248 [2:25:03<5:38:16,  6.96s/it]"
     ]
    },
    {
     "name": "stdout",
     "output_type": "stream",
     "text": [
      "Checkpoint saved to movie_metadata_checkpoint.csv\n"
     ]
    },
    {
     "name": "stderr",
     "output_type": "stream",
     "text": [
      "Processing Movies:  32%|███▏      | 1340/4248 [2:26:16<6:02:05,  7.47s/it]"
     ]
    },
    {
     "name": "stdout",
     "output_type": "stream",
     "text": [
      "Checkpoint saved to movie_metadata_checkpoint.csv\n"
     ]
    },
    {
     "name": "stderr",
     "output_type": "stream",
     "text": [
      "Processing Movies:  32%|███▏      | 1350/4248 [2:27:26<5:47:22,  7.19s/it]"
     ]
    },
    {
     "name": "stdout",
     "output_type": "stream",
     "text": [
      "Checkpoint saved to movie_metadata_checkpoint.csv\n"
     ]
    },
    {
     "name": "stderr",
     "output_type": "stream",
     "text": [
      "Processing Movies:  32%|███▏      | 1360/4248 [2:28:34<4:54:06,  6.11s/it]"
     ]
    },
    {
     "name": "stdout",
     "output_type": "stream",
     "text": [
      "Checkpoint saved to movie_metadata_checkpoint.csv\n"
     ]
    },
    {
     "name": "stderr",
     "output_type": "stream",
     "text": [
      "Processing Movies:  32%|███▏      | 1370/4248 [2:29:41<5:23:30,  6.74s/it]"
     ]
    },
    {
     "name": "stdout",
     "output_type": "stream",
     "text": [
      "Checkpoint saved to movie_metadata_checkpoint.csv\n"
     ]
    },
    {
     "name": "stderr",
     "output_type": "stream",
     "text": [
      "Processing Movies:  32%|███▏      | 1380/4248 [2:30:51<5:36:44,  7.04s/it]"
     ]
    },
    {
     "name": "stdout",
     "output_type": "stream",
     "text": [
      "Checkpoint saved to movie_metadata_checkpoint.csv\n"
     ]
    },
    {
     "name": "stderr",
     "output_type": "stream",
     "text": [
      "Processing Movies:  33%|███▎      | 1390/4248 [2:31:54<5:12:18,  6.56s/it]"
     ]
    },
    {
     "name": "stdout",
     "output_type": "stream",
     "text": [
      "Checkpoint saved to movie_metadata_checkpoint.csv\n"
     ]
    },
    {
     "name": "stderr",
     "output_type": "stream",
     "text": [
      "Processing Movies:  33%|███▎      | 1400/4248 [2:33:02<5:54:47,  7.47s/it]"
     ]
    },
    {
     "name": "stdout",
     "output_type": "stream",
     "text": [
      "Checkpoint saved to movie_metadata_checkpoint.csv\n"
     ]
    },
    {
     "name": "stderr",
     "output_type": "stream",
     "text": [
      "Processing Movies:  33%|███▎      | 1410/4248 [2:34:19<5:47:17,  7.34s/it]"
     ]
    },
    {
     "name": "stdout",
     "output_type": "stream",
     "text": [
      "Checkpoint saved to movie_metadata_checkpoint.csv\n"
     ]
    },
    {
     "name": "stderr",
     "output_type": "stream",
     "text": [
      "Processing Movies:  33%|███▎      | 1420/4248 [2:35:27<5:17:17,  6.73s/it]"
     ]
    },
    {
     "name": "stdout",
     "output_type": "stream",
     "text": [
      "Checkpoint saved to movie_metadata_checkpoint.csv\n"
     ]
    },
    {
     "name": "stderr",
     "output_type": "stream",
     "text": [
      "Processing Movies:  34%|███▎      | 1430/4248 [2:36:38<5:44:38,  7.34s/it]"
     ]
    },
    {
     "name": "stdout",
     "output_type": "stream",
     "text": [
      "Checkpoint saved to movie_metadata_checkpoint.csv\n"
     ]
    },
    {
     "name": "stderr",
     "output_type": "stream",
     "text": [
      "Processing Movies:  34%|███▍      | 1440/4248 [2:37:52<5:28:04,  7.01s/it]"
     ]
    },
    {
     "name": "stdout",
     "output_type": "stream",
     "text": [
      "Checkpoint saved to movie_metadata_checkpoint.csv\n"
     ]
    },
    {
     "name": "stderr",
     "output_type": "stream",
     "text": [
      "Processing Movies:  34%|███▍      | 1450/4248 [2:38:58<5:04:16,  6.52s/it]"
     ]
    },
    {
     "name": "stdout",
     "output_type": "stream",
     "text": [
      "Checkpoint saved to movie_metadata_checkpoint.csv\n"
     ]
    },
    {
     "name": "stderr",
     "output_type": "stream",
     "text": [
      "Processing Movies:  34%|███▍      | 1460/4248 [2:40:05<5:40:14,  7.32s/it]"
     ]
    },
    {
     "name": "stdout",
     "output_type": "stream",
     "text": [
      "Checkpoint saved to movie_metadata_checkpoint.csv\n"
     ]
    },
    {
     "name": "stderr",
     "output_type": "stream",
     "text": [
      "Processing Movies:  35%|███▍      | 1470/4248 [2:41:17<5:37:36,  7.29s/it]"
     ]
    },
    {
     "name": "stdout",
     "output_type": "stream",
     "text": [
      "Checkpoint saved to movie_metadata_checkpoint.csv\n"
     ]
    },
    {
     "name": "stderr",
     "output_type": "stream",
     "text": [
      "Processing Movies:  35%|███▍      | 1480/4248 [2:42:35<6:16:24,  8.16s/it]"
     ]
    },
    {
     "name": "stdout",
     "output_type": "stream",
     "text": [
      "Checkpoint saved to movie_metadata_checkpoint.csv\n"
     ]
    },
    {
     "name": "stderr",
     "output_type": "stream",
     "text": [
      "Processing Movies:  35%|███▌      | 1490/4248 [2:43:50<5:24:09,  7.05s/it]"
     ]
    },
    {
     "name": "stdout",
     "output_type": "stream",
     "text": [
      "Checkpoint saved to movie_metadata_checkpoint.csv\n"
     ]
    },
    {
     "name": "stderr",
     "output_type": "stream",
     "text": [
      "Processing Movies:  35%|███▌      | 1500/4248 [2:44:50<4:42:01,  6.16s/it]"
     ]
    },
    {
     "name": "stdout",
     "output_type": "stream",
     "text": [
      "Checkpoint saved to movie_metadata_checkpoint.csv\n"
     ]
    },
    {
     "name": "stderr",
     "output_type": "stream",
     "text": [
      "Processing Movies:  36%|███▌      | 1510/4248 [2:45:53<4:41:08,  6.16s/it]"
     ]
    },
    {
     "name": "stdout",
     "output_type": "stream",
     "text": [
      "Checkpoint saved to movie_metadata_checkpoint.csv\n"
     ]
    },
    {
     "name": "stderr",
     "output_type": "stream",
     "text": [
      "Processing Movies:  36%|███▌      | 1520/4248 [2:46:56<5:05:35,  6.72s/it]"
     ]
    },
    {
     "name": "stdout",
     "output_type": "stream",
     "text": [
      "Checkpoint saved to movie_metadata_checkpoint.csv\n"
     ]
    },
    {
     "name": "stderr",
     "output_type": "stream",
     "text": [
      "Processing Movies:  36%|███▌      | 1530/4248 [2:48:06<5:09:17,  6.83s/it]"
     ]
    },
    {
     "name": "stdout",
     "output_type": "stream",
     "text": [
      "Checkpoint saved to movie_metadata_checkpoint.csv\n"
     ]
    },
    {
     "name": "stderr",
     "output_type": "stream",
     "text": [
      "Processing Movies:  36%|███▋      | 1540/4248 [2:49:16<5:19:58,  7.09s/it]"
     ]
    },
    {
     "name": "stdout",
     "output_type": "stream",
     "text": [
      "Checkpoint saved to movie_metadata_checkpoint.csv\n"
     ]
    },
    {
     "name": "stderr",
     "output_type": "stream",
     "text": [
      "Processing Movies:  36%|███▋      | 1550/4248 [2:50:25<5:25:14,  7.23s/it]"
     ]
    },
    {
     "name": "stdout",
     "output_type": "stream",
     "text": [
      "Checkpoint saved to movie_metadata_checkpoint.csv\n"
     ]
    },
    {
     "name": "stderr",
     "output_type": "stream",
     "text": [
      "Processing Movies:  37%|███▋      | 1560/4248 [2:51:31<4:51:57,  6.52s/it]"
     ]
    },
    {
     "name": "stdout",
     "output_type": "stream",
     "text": [
      "Checkpoint saved to movie_metadata_checkpoint.csv\n"
     ]
    },
    {
     "name": "stderr",
     "output_type": "stream",
     "text": [
      "Processing Movies:  37%|███▋      | 1570/4248 [2:52:42<5:17:24,  7.11s/it]"
     ]
    },
    {
     "name": "stdout",
     "output_type": "stream",
     "text": [
      "Checkpoint saved to movie_metadata_checkpoint.csv\n"
     ]
    },
    {
     "name": "stderr",
     "output_type": "stream",
     "text": [
      "Processing Movies:  37%|███▋      | 1580/4248 [2:53:53<5:33:59,  7.51s/it]"
     ]
    },
    {
     "name": "stdout",
     "output_type": "stream",
     "text": [
      "Checkpoint saved to movie_metadata_checkpoint.csv\n"
     ]
    },
    {
     "name": "stderr",
     "output_type": "stream",
     "text": [
      "Processing Movies:  37%|███▋      | 1590/4248 [2:55:02<5:06:32,  6.92s/it]"
     ]
    },
    {
     "name": "stdout",
     "output_type": "stream",
     "text": [
      "Checkpoint saved to movie_metadata_checkpoint.csv\n"
     ]
    },
    {
     "name": "stderr",
     "output_type": "stream",
     "text": [
      "Processing Movies:  38%|███▊      | 1600/4248 [2:56:13<5:30:26,  7.49s/it]"
     ]
    },
    {
     "name": "stdout",
     "output_type": "stream",
     "text": [
      "Checkpoint saved to movie_metadata_checkpoint.csv\n"
     ]
    },
    {
     "name": "stderr",
     "output_type": "stream",
     "text": [
      "Processing Movies:  38%|███▊      | 1610/4248 [2:57:26<4:49:05,  6.58s/it]"
     ]
    },
    {
     "name": "stdout",
     "output_type": "stream",
     "text": [
      "Checkpoint saved to movie_metadata_checkpoint.csv\n"
     ]
    },
    {
     "name": "stderr",
     "output_type": "stream",
     "text": [
      "Processing Movies:  38%|███▊      | 1620/4248 [2:58:09<3:14:29,  4.44s/it]"
     ]
    },
    {
     "name": "stdout",
     "output_type": "stream",
     "text": [
      "Checkpoint saved to movie_metadata_checkpoint.csv\n"
     ]
    },
    {
     "name": "stderr",
     "output_type": "stream",
     "text": [
      "Processing Movies:  38%|███▊      | 1630/4248 [2:59:13<5:03:38,  6.96s/it]"
     ]
    },
    {
     "name": "stdout",
     "output_type": "stream",
     "text": [
      "Checkpoint saved to movie_metadata_checkpoint.csv\n"
     ]
    },
    {
     "name": "stderr",
     "output_type": "stream",
     "text": [
      "Processing Movies:  39%|███▊      | 1640/4248 [2:59:59<3:19:32,  4.59s/it]"
     ]
    },
    {
     "name": "stdout",
     "output_type": "stream",
     "text": [
      "Checkpoint saved to movie_metadata_checkpoint.csv\n"
     ]
    },
    {
     "name": "stderr",
     "output_type": "stream",
     "text": [
      "Processing Movies:  39%|███▉      | 1650/4248 [3:00:56<3:54:49,  5.42s/it]"
     ]
    },
    {
     "name": "stdout",
     "output_type": "stream",
     "text": [
      "Checkpoint saved to movie_metadata_checkpoint.csv\n"
     ]
    },
    {
     "name": "stderr",
     "output_type": "stream",
     "text": [
      "Processing Movies:  39%|███▉      | 1660/4248 [3:01:57<4:11:34,  5.83s/it]"
     ]
    },
    {
     "name": "stdout",
     "output_type": "stream",
     "text": [
      "Checkpoint saved to movie_metadata_checkpoint.csv\n"
     ]
    },
    {
     "name": "stderr",
     "output_type": "stream",
     "text": [
      "Processing Movies:  39%|███▉      | 1670/4248 [3:02:50<3:19:19,  4.64s/it]"
     ]
    },
    {
     "name": "stdout",
     "output_type": "stream",
     "text": [
      "Checkpoint saved to movie_metadata_checkpoint.csv\n"
     ]
    },
    {
     "name": "stderr",
     "output_type": "stream",
     "text": [
      "Processing Movies:  40%|███▉      | 1680/4248 [3:03:47<4:42:43,  6.61s/it]"
     ]
    },
    {
     "name": "stdout",
     "output_type": "stream",
     "text": [
      "Checkpoint saved to movie_metadata_checkpoint.csv\n"
     ]
    },
    {
     "name": "stderr",
     "output_type": "stream",
     "text": [
      "Processing Movies:  40%|███▉      | 1690/4248 [3:04:58<5:07:58,  7.22s/it]"
     ]
    },
    {
     "name": "stdout",
     "output_type": "stream",
     "text": [
      "Checkpoint saved to movie_metadata_checkpoint.csv\n"
     ]
    },
    {
     "name": "stderr",
     "output_type": "stream",
     "text": [
      "Processing Movies:  40%|████      | 1700/4248 [3:06:12<5:22:25,  7.59s/it]"
     ]
    },
    {
     "name": "stdout",
     "output_type": "stream",
     "text": [
      "Checkpoint saved to movie_metadata_checkpoint.csv\n"
     ]
    },
    {
     "name": "stderr",
     "output_type": "stream",
     "text": [
      "Processing Movies:  40%|████      | 1710/4248 [3:07:08<4:10:30,  5.92s/it]"
     ]
    },
    {
     "name": "stdout",
     "output_type": "stream",
     "text": [
      "Checkpoint saved to movie_metadata_checkpoint.csv\n"
     ]
    },
    {
     "name": "stderr",
     "output_type": "stream",
     "text": [
      "Processing Movies:  40%|████      | 1720/4248 [3:08:22<5:32:18,  7.89s/it]"
     ]
    },
    {
     "name": "stdout",
     "output_type": "stream",
     "text": [
      "Checkpoint saved to movie_metadata_checkpoint.csv\n"
     ]
    },
    {
     "name": "stderr",
     "output_type": "stream",
     "text": [
      "Processing Movies:  41%|████      | 1730/4248 [3:09:37<5:35:37,  8.00s/it]"
     ]
    },
    {
     "name": "stdout",
     "output_type": "stream",
     "text": [
      "Checkpoint saved to movie_metadata_checkpoint.csv\n"
     ]
    },
    {
     "name": "stderr",
     "output_type": "stream",
     "text": [
      "Processing Movies:  41%|████      | 1740/4248 [3:10:44<4:33:19,  6.54s/it]"
     ]
    },
    {
     "name": "stdout",
     "output_type": "stream",
     "text": [
      "Checkpoint saved to movie_metadata_checkpoint.csv\n"
     ]
    },
    {
     "name": "stderr",
     "output_type": "stream",
     "text": [
      "Processing Movies:  41%|████      | 1750/4248 [3:11:41<3:30:22,  5.05s/it]"
     ]
    },
    {
     "name": "stdout",
     "output_type": "stream",
     "text": [
      "Checkpoint saved to movie_metadata_checkpoint.csv\n"
     ]
    },
    {
     "name": "stderr",
     "output_type": "stream",
     "text": [
      "Processing Movies:  41%|████▏     | 1760/4248 [3:12:44<4:30:00,  6.51s/it]"
     ]
    },
    {
     "name": "stdout",
     "output_type": "stream",
     "text": [
      "Checkpoint saved to movie_metadata_checkpoint.csv\n"
     ]
    },
    {
     "name": "stderr",
     "output_type": "stream",
     "text": [
      "Processing Movies:  42%|████▏     | 1770/4248 [3:13:44<3:31:01,  5.11s/it]"
     ]
    },
    {
     "name": "stdout",
     "output_type": "stream",
     "text": [
      "Checkpoint saved to movie_metadata_checkpoint.csv\n"
     ]
    },
    {
     "name": "stderr",
     "output_type": "stream",
     "text": [
      "Processing Movies:  42%|████▏     | 1780/4248 [3:14:54<4:38:11,  6.76s/it]"
     ]
    },
    {
     "name": "stdout",
     "output_type": "stream",
     "text": [
      "Checkpoint saved to movie_metadata_checkpoint.csv\n"
     ]
    },
    {
     "name": "stderr",
     "output_type": "stream",
     "text": [
      "Processing Movies:  42%|████▏     | 1790/4248 [3:15:58<4:43:10,  6.91s/it]"
     ]
    },
    {
     "name": "stdout",
     "output_type": "stream",
     "text": [
      "Checkpoint saved to movie_metadata_checkpoint.csv\n"
     ]
    },
    {
     "name": "stderr",
     "output_type": "stream",
     "text": [
      "Processing Movies:  42%|████▏     | 1800/4248 [3:17:15<5:26:24,  8.00s/it]"
     ]
    },
    {
     "name": "stdout",
     "output_type": "stream",
     "text": [
      "Checkpoint saved to movie_metadata_checkpoint.csv\n"
     ]
    },
    {
     "name": "stderr",
     "output_type": "stream",
     "text": [
      "Processing Movies:  43%|████▎     | 1810/4248 [3:18:26<4:53:38,  7.23s/it]"
     ]
    },
    {
     "name": "stdout",
     "output_type": "stream",
     "text": [
      "Checkpoint saved to movie_metadata_checkpoint.csv\n"
     ]
    },
    {
     "name": "stderr",
     "output_type": "stream",
     "text": [
      "Processing Movies:  43%|████▎     | 1820/4248 [3:19:22<3:03:23,  4.53s/it]"
     ]
    },
    {
     "name": "stdout",
     "output_type": "stream",
     "text": [
      "Checkpoint saved to movie_metadata_checkpoint.csv\n"
     ]
    },
    {
     "name": "stderr",
     "output_type": "stream",
     "text": [
      "Processing Movies:  43%|████▎     | 1830/4248 [3:20:22<3:47:18,  5.64s/it]"
     ]
    },
    {
     "name": "stdout",
     "output_type": "stream",
     "text": [
      "Checkpoint saved to movie_metadata_checkpoint.csv\n"
     ]
    },
    {
     "name": "stderr",
     "output_type": "stream",
     "text": [
      "Processing Movies:  43%|████▎     | 1840/4248 [3:21:29<4:11:30,  6.27s/it]"
     ]
    },
    {
     "name": "stdout",
     "output_type": "stream",
     "text": [
      "Checkpoint saved to movie_metadata_checkpoint.csv\n"
     ]
    },
    {
     "name": "stderr",
     "output_type": "stream",
     "text": [
      "Processing Movies:  44%|████▎     | 1850/4248 [3:22:36<4:25:57,  6.65s/it]"
     ]
    },
    {
     "name": "stdout",
     "output_type": "stream",
     "text": [
      "Checkpoint saved to movie_metadata_checkpoint.csv\n"
     ]
    },
    {
     "name": "stderr",
     "output_type": "stream",
     "text": [
      "Processing Movies:  44%|████▍     | 1860/4248 [3:23:26<2:48:19,  4.23s/it]"
     ]
    },
    {
     "name": "stdout",
     "output_type": "stream",
     "text": [
      "Checkpoint saved to movie_metadata_checkpoint.csv\n"
     ]
    },
    {
     "name": "stderr",
     "output_type": "stream",
     "text": [
      "Processing Movies:  44%|████▍     | 1870/4248 [3:24:33<4:14:21,  6.42s/it]"
     ]
    },
    {
     "name": "stdout",
     "output_type": "stream",
     "text": [
      "Checkpoint saved to movie_metadata_checkpoint.csv\n"
     ]
    },
    {
     "name": "stderr",
     "output_type": "stream",
     "text": [
      "Processing Movies:  44%|████▍     | 1880/4248 [3:25:31<3:34:12,  5.43s/it]"
     ]
    },
    {
     "name": "stdout",
     "output_type": "stream",
     "text": [
      "Checkpoint saved to movie_metadata_checkpoint.csv\n"
     ]
    },
    {
     "name": "stderr",
     "output_type": "stream",
     "text": [
      "Processing Movies:  44%|████▍     | 1890/4248 [3:26:40<4:46:37,  7.29s/it]"
     ]
    },
    {
     "name": "stdout",
     "output_type": "stream",
     "text": [
      "Checkpoint saved to movie_metadata_checkpoint.csv\n"
     ]
    },
    {
     "name": "stderr",
     "output_type": "stream",
     "text": [
      "Processing Movies:  45%|████▍     | 1900/4248 [3:27:43<3:52:26,  5.94s/it]"
     ]
    },
    {
     "name": "stdout",
     "output_type": "stream",
     "text": [
      "Checkpoint saved to movie_metadata_checkpoint.csv\n"
     ]
    },
    {
     "name": "stderr",
     "output_type": "stream",
     "text": [
      "Processing Movies:  45%|████▍     | 1910/4248 [3:28:56<4:40:05,  7.19s/it]"
     ]
    },
    {
     "name": "stdout",
     "output_type": "stream",
     "text": [
      "Checkpoint saved to movie_metadata_checkpoint.csv\n"
     ]
    },
    {
     "name": "stderr",
     "output_type": "stream",
     "text": [
      "Processing Movies:  45%|████▌     | 1920/4248 [3:30:03<4:12:59,  6.52s/it]"
     ]
    },
    {
     "name": "stdout",
     "output_type": "stream",
     "text": [
      "Checkpoint saved to movie_metadata_checkpoint.csv\n"
     ]
    },
    {
     "name": "stderr",
     "output_type": "stream",
     "text": [
      "Processing Movies:  45%|████▌     | 1930/4248 [3:31:13<4:31:51,  7.04s/it]"
     ]
    },
    {
     "name": "stdout",
     "output_type": "stream",
     "text": [
      "Checkpoint saved to movie_metadata_checkpoint.csv\n"
     ]
    },
    {
     "name": "stderr",
     "output_type": "stream",
     "text": [
      "Processing Movies:  46%|████▌     | 1940/4248 [3:32:23<4:49:17,  7.52s/it]"
     ]
    },
    {
     "name": "stdout",
     "output_type": "stream",
     "text": [
      "Checkpoint saved to movie_metadata_checkpoint.csv\n"
     ]
    },
    {
     "name": "stderr",
     "output_type": "stream",
     "text": [
      "Processing Movies:  46%|████▌     | 1950/4248 [3:33:40<4:57:05,  7.76s/it]"
     ]
    },
    {
     "name": "stdout",
     "output_type": "stream",
     "text": [
      "Checkpoint saved to movie_metadata_checkpoint.csv\n"
     ]
    },
    {
     "name": "stderr",
     "output_type": "stream",
     "text": [
      "Processing Movies:  46%|████▌     | 1960/4248 [3:34:46<4:04:17,  6.41s/it]"
     ]
    },
    {
     "name": "stdout",
     "output_type": "stream",
     "text": [
      "Checkpoint saved to movie_metadata_checkpoint.csv\n"
     ]
    },
    {
     "name": "stderr",
     "output_type": "stream",
     "text": [
      "Processing Movies:  46%|████▋     | 1970/4248 [3:35:52<4:20:02,  6.85s/it]"
     ]
    },
    {
     "name": "stdout",
     "output_type": "stream",
     "text": [
      "Checkpoint saved to movie_metadata_checkpoint.csv\n"
     ]
    },
    {
     "name": "stderr",
     "output_type": "stream",
     "text": [
      "Processing Movies:  47%|████▋     | 1980/4248 [3:37:03<4:19:58,  6.88s/it]"
     ]
    },
    {
     "name": "stdout",
     "output_type": "stream",
     "text": [
      "Checkpoint saved to movie_metadata_checkpoint.csv\n"
     ]
    },
    {
     "name": "stderr",
     "output_type": "stream",
     "text": [
      "Processing Movies:  47%|████▋     | 1990/4248 [3:38:17<4:41:03,  7.47s/it]"
     ]
    },
    {
     "name": "stdout",
     "output_type": "stream",
     "text": [
      "Checkpoint saved to movie_metadata_checkpoint.csv\n"
     ]
    },
    {
     "name": "stderr",
     "output_type": "stream",
     "text": [
      "Processing Movies:  47%|████▋     | 2000/4248 [3:39:22<3:57:03,  6.33s/it]"
     ]
    },
    {
     "name": "stdout",
     "output_type": "stream",
     "text": [
      "Checkpoint saved to movie_metadata_checkpoint.csv\n"
     ]
    },
    {
     "name": "stderr",
     "output_type": "stream",
     "text": [
      "Processing Movies:  47%|████▋     | 2010/4248 [3:40:32<4:25:29,  7.12s/it]"
     ]
    },
    {
     "name": "stdout",
     "output_type": "stream",
     "text": [
      "Checkpoint saved to movie_metadata_checkpoint.csv\n"
     ]
    },
    {
     "name": "stderr",
     "output_type": "stream",
     "text": [
      "Processing Movies:  48%|████▊     | 2020/4248 [3:41:37<3:53:02,  6.28s/it]"
     ]
    },
    {
     "name": "stdout",
     "output_type": "stream",
     "text": [
      "Checkpoint saved to movie_metadata_checkpoint.csv\n"
     ]
    },
    {
     "name": "stderr",
     "output_type": "stream",
     "text": [
      "Processing Movies:  48%|████▊     | 2030/4248 [3:42:48<4:14:02,  6.87s/it]"
     ]
    },
    {
     "name": "stdout",
     "output_type": "stream",
     "text": [
      "Checkpoint saved to movie_metadata_checkpoint.csv\n"
     ]
    },
    {
     "name": "stderr",
     "output_type": "stream",
     "text": [
      "Processing Movies:  48%|████▊     | 2040/4248 [3:44:06<5:13:55,  8.53s/it]"
     ]
    },
    {
     "name": "stdout",
     "output_type": "stream",
     "text": [
      "Checkpoint saved to movie_metadata_checkpoint.csv\n"
     ]
    },
    {
     "name": "stderr",
     "output_type": "stream",
     "text": [
      "Processing Movies:  48%|████▊     | 2050/4248 [3:45:11<3:38:04,  5.95s/it]"
     ]
    },
    {
     "name": "stdout",
     "output_type": "stream",
     "text": [
      "Checkpoint saved to movie_metadata_checkpoint.csv\n"
     ]
    },
    {
     "name": "stderr",
     "output_type": "stream",
     "text": [
      "Processing Movies:  48%|████▊     | 2060/4248 [3:46:21<4:08:22,  6.81s/it]"
     ]
    },
    {
     "name": "stdout",
     "output_type": "stream",
     "text": [
      "Checkpoint saved to movie_metadata_checkpoint.csv\n"
     ]
    },
    {
     "name": "stderr",
     "output_type": "stream",
     "text": [
      "Processing Movies:  49%|████▊     | 2070/4248 [3:47:34<4:09:16,  6.87s/it]"
     ]
    },
    {
     "name": "stdout",
     "output_type": "stream",
     "text": [
      "Checkpoint saved to movie_metadata_checkpoint.csv\n"
     ]
    },
    {
     "name": "stderr",
     "output_type": "stream",
     "text": [
      "Processing Movies:  49%|████▉     | 2080/4248 [3:48:48<4:06:41,  6.83s/it]"
     ]
    },
    {
     "name": "stdout",
     "output_type": "stream",
     "text": [
      "Checkpoint saved to movie_metadata_checkpoint.csv\n"
     ]
    },
    {
     "name": "stderr",
     "output_type": "stream",
     "text": [
      "Processing Movies:  49%|████▉     | 2090/4248 [3:49:52<4:18:09,  7.18s/it]"
     ]
    },
    {
     "name": "stdout",
     "output_type": "stream",
     "text": [
      "Checkpoint saved to movie_metadata_checkpoint.csv\n"
     ]
    },
    {
     "name": "stderr",
     "output_type": "stream",
     "text": [
      "Processing Movies:  49%|████▉     | 2100/4248 [3:50:51<3:30:35,  5.88s/it]"
     ]
    },
    {
     "name": "stdout",
     "output_type": "stream",
     "text": [
      "Checkpoint saved to movie_metadata_checkpoint.csv\n"
     ]
    },
    {
     "name": "stderr",
     "output_type": "stream",
     "text": [
      "Processing Movies:  50%|████▉     | 2110/4248 [3:51:46<2:43:21,  4.58s/it]"
     ]
    },
    {
     "name": "stdout",
     "output_type": "stream",
     "text": [
      "Checkpoint saved to movie_metadata_checkpoint.csv\n"
     ]
    },
    {
     "name": "stderr",
     "output_type": "stream",
     "text": [
      "Processing Movies:  50%|████▉     | 2120/4248 [3:52:50<4:11:38,  7.09s/it]"
     ]
    },
    {
     "name": "stdout",
     "output_type": "stream",
     "text": [
      "Checkpoint saved to movie_metadata_checkpoint.csv\n"
     ]
    },
    {
     "name": "stderr",
     "output_type": "stream",
     "text": [
      "Processing Movies:  50%|█████     | 2130/4248 [3:54:06<4:19:29,  7.35s/it]"
     ]
    },
    {
     "name": "stdout",
     "output_type": "stream",
     "text": [
      "Checkpoint saved to movie_metadata_checkpoint.csv\n"
     ]
    },
    {
     "name": "stderr",
     "output_type": "stream",
     "text": [
      "Processing Movies:  50%|█████     | 2140/4248 [3:55:13<4:04:18,  6.95s/it]"
     ]
    },
    {
     "name": "stdout",
     "output_type": "stream",
     "text": [
      "Checkpoint saved to movie_metadata_checkpoint.csv\n"
     ]
    },
    {
     "name": "stderr",
     "output_type": "stream",
     "text": [
      "Processing Movies:  51%|█████     | 2150/4248 [3:56:19<3:49:45,  6.57s/it]"
     ]
    },
    {
     "name": "stdout",
     "output_type": "stream",
     "text": [
      "Checkpoint saved to movie_metadata_checkpoint.csv\n"
     ]
    },
    {
     "name": "stderr",
     "output_type": "stream",
     "text": [
      "Processing Movies:  51%|█████     | 2160/4248 [3:57:29<3:51:12,  6.64s/it]"
     ]
    },
    {
     "name": "stdout",
     "output_type": "stream",
     "text": [
      "Checkpoint saved to movie_metadata_checkpoint.csv\n"
     ]
    },
    {
     "name": "stderr",
     "output_type": "stream",
     "text": [
      "Processing Movies:  51%|█████     | 2170/4248 [3:58:41<4:07:26,  7.14s/it]"
     ]
    },
    {
     "name": "stdout",
     "output_type": "stream",
     "text": [
      "Checkpoint saved to movie_metadata_checkpoint.csv\n"
     ]
    },
    {
     "name": "stderr",
     "output_type": "stream",
     "text": [
      "Processing Movies:  51%|█████▏    | 2180/4248 [3:59:43<2:43:17,  4.74s/it]"
     ]
    },
    {
     "name": "stdout",
     "output_type": "stream",
     "text": [
      "Checkpoint saved to movie_metadata_checkpoint.csv\n"
     ]
    },
    {
     "name": "stderr",
     "output_type": "stream",
     "text": [
      "Processing Movies:  52%|█████▏    | 2190/4248 [4:00:42<3:13:17,  5.64s/it]"
     ]
    },
    {
     "name": "stdout",
     "output_type": "stream",
     "text": [
      "Checkpoint saved to movie_metadata_checkpoint.csv\n"
     ]
    },
    {
     "name": "stderr",
     "output_type": "stream",
     "text": [
      "Processing Movies:  52%|█████▏    | 2200/4248 [4:01:46<3:50:52,  6.76s/it]"
     ]
    },
    {
     "name": "stdout",
     "output_type": "stream",
     "text": [
      "Checkpoint saved to movie_metadata_checkpoint.csv\n"
     ]
    },
    {
     "name": "stderr",
     "output_type": "stream",
     "text": [
      "Processing Movies:  52%|█████▏    | 2210/4248 [4:02:58<4:06:18,  7.25s/it]"
     ]
    },
    {
     "name": "stdout",
     "output_type": "stream",
     "text": [
      "Checkpoint saved to movie_metadata_checkpoint.csv\n"
     ]
    },
    {
     "name": "stderr",
     "output_type": "stream",
     "text": [
      "Processing Movies:  52%|█████▏    | 2220/4248 [4:04:16<5:04:01,  9.00s/it]"
     ]
    },
    {
     "name": "stdout",
     "output_type": "stream",
     "text": [
      "Checkpoint saved to movie_metadata_checkpoint.csv\n"
     ]
    },
    {
     "name": "stderr",
     "output_type": "stream",
     "text": [
      "Processing Movies:  52%|█████▏    | 2230/4248 [4:05:19<2:57:27,  5.28s/it]"
     ]
    },
    {
     "name": "stdout",
     "output_type": "stream",
     "text": [
      "Checkpoint saved to movie_metadata_checkpoint.csv\n"
     ]
    },
    {
     "name": "stderr",
     "output_type": "stream",
     "text": [
      "Processing Movies:  53%|█████▎    | 2240/4248 [4:06:28<3:43:04,  6.67s/it]"
     ]
    },
    {
     "name": "stdout",
     "output_type": "stream",
     "text": [
      "Checkpoint saved to movie_metadata_checkpoint.csv\n"
     ]
    },
    {
     "name": "stderr",
     "output_type": "stream",
     "text": [
      "Processing Movies:  53%|█████▎    | 2250/4248 [4:07:42<4:10:46,  7.53s/it]"
     ]
    },
    {
     "name": "stdout",
     "output_type": "stream",
     "text": [
      "Checkpoint saved to movie_metadata_checkpoint.csv\n"
     ]
    },
    {
     "name": "stderr",
     "output_type": "stream",
     "text": [
      "Processing Movies:  53%|█████▎    | 2260/4248 [4:08:54<3:52:18,  7.01s/it]"
     ]
    },
    {
     "name": "stdout",
     "output_type": "stream",
     "text": [
      "Checkpoint saved to movie_metadata_checkpoint.csv\n"
     ]
    },
    {
     "name": "stderr",
     "output_type": "stream",
     "text": [
      "Processing Movies:  53%|█████▎    | 2270/4248 [4:09:59<3:36:41,  6.57s/it]"
     ]
    },
    {
     "name": "stdout",
     "output_type": "stream",
     "text": [
      "Checkpoint saved to movie_metadata_checkpoint.csv\n"
     ]
    },
    {
     "name": "stderr",
     "output_type": "stream",
     "text": [
      "Processing Movies:  54%|█████▎    | 2280/4248 [4:11:10<3:39:01,  6.68s/it]"
     ]
    },
    {
     "name": "stdout",
     "output_type": "stream",
     "text": [
      "Checkpoint saved to movie_metadata_checkpoint.csv\n"
     ]
    },
    {
     "name": "stderr",
     "output_type": "stream",
     "text": [
      "Processing Movies:  54%|█████▍    | 2290/4248 [4:12:09<3:26:03,  6.31s/it]"
     ]
    },
    {
     "name": "stdout",
     "output_type": "stream",
     "text": [
      "Checkpoint saved to movie_metadata_checkpoint.csv\n"
     ]
    },
    {
     "name": "stderr",
     "output_type": "stream",
     "text": [
      "Processing Movies:  54%|█████▍    | 2300/4248 [4:13:11<3:17:32,  6.08s/it]"
     ]
    },
    {
     "name": "stdout",
     "output_type": "stream",
     "text": [
      "Checkpoint saved to movie_metadata_checkpoint.csv\n"
     ]
    },
    {
     "name": "stderr",
     "output_type": "stream",
     "text": [
      "Processing Movies:  54%|█████▍    | 2310/4248 [4:13:53<1:55:41,  3.58s/it]"
     ]
    },
    {
     "name": "stdout",
     "output_type": "stream",
     "text": [
      "Checkpoint saved to movie_metadata_checkpoint.csv\n"
     ]
    },
    {
     "name": "stderr",
     "output_type": "stream",
     "text": [
      "Processing Movies:  55%|█████▍    | 2320/4248 [4:14:45<3:08:33,  5.87s/it]"
     ]
    },
    {
     "name": "stdout",
     "output_type": "stream",
     "text": [
      "Checkpoint saved to movie_metadata_checkpoint.csv\n"
     ]
    },
    {
     "name": "stderr",
     "output_type": "stream",
     "text": [
      "Processing Movies:  55%|█████▍    | 2330/4248 [4:15:32<1:55:48,  3.62s/it]"
     ]
    },
    {
     "name": "stdout",
     "output_type": "stream",
     "text": [
      "Checkpoint saved to movie_metadata_checkpoint.csv\n"
     ]
    },
    {
     "name": "stderr",
     "output_type": "stream",
     "text": [
      "Processing Movies:  55%|█████▌    | 2340/4248 [4:16:31<3:30:12,  6.61s/it]"
     ]
    },
    {
     "name": "stdout",
     "output_type": "stream",
     "text": [
      "Checkpoint saved to movie_metadata_checkpoint.csv\n"
     ]
    },
    {
     "name": "stderr",
     "output_type": "stream",
     "text": [
      "Processing Movies:  55%|█████▌    | 2350/4248 [4:17:13<2:02:46,  3.88s/it]"
     ]
    },
    {
     "name": "stdout",
     "output_type": "stream",
     "text": [
      "Checkpoint saved to movie_metadata_checkpoint.csv\n"
     ]
    },
    {
     "name": "stderr",
     "output_type": "stream",
     "text": [
      "Processing Movies:  56%|█████▌    | 2360/4248 [4:18:23<3:37:23,  6.91s/it]"
     ]
    },
    {
     "name": "stdout",
     "output_type": "stream",
     "text": [
      "Checkpoint saved to movie_metadata_checkpoint.csv\n"
     ]
    },
    {
     "name": "stderr",
     "output_type": "stream",
     "text": [
      "Processing Movies:  56%|█████▌    | 2370/4248 [4:19:42<4:39:37,  8.93s/it]"
     ]
    },
    {
     "name": "stdout",
     "output_type": "stream",
     "text": [
      "Checkpoint saved to movie_metadata_checkpoint.csv\n"
     ]
    },
    {
     "name": "stderr",
     "output_type": "stream",
     "text": [
      "Processing Movies:  56%|█████▌    | 2380/4248 [4:20:55<3:54:26,  7.53s/it]"
     ]
    },
    {
     "name": "stdout",
     "output_type": "stream",
     "text": [
      "Checkpoint saved to movie_metadata_checkpoint.csv\n"
     ]
    },
    {
     "name": "stderr",
     "output_type": "stream",
     "text": [
      "Processing Movies:  56%|█████▋    | 2390/4248 [4:22:08<4:03:19,  7.86s/it]"
     ]
    },
    {
     "name": "stdout",
     "output_type": "stream",
     "text": [
      "Checkpoint saved to movie_metadata_checkpoint.csv\n"
     ]
    },
    {
     "name": "stderr",
     "output_type": "stream",
     "text": [
      "Processing Movies:  56%|█████▋    | 2400/4248 [4:23:21<4:03:05,  7.89s/it]"
     ]
    },
    {
     "name": "stdout",
     "output_type": "stream",
     "text": [
      "Checkpoint saved to movie_metadata_checkpoint.csv\n"
     ]
    },
    {
     "name": "stderr",
     "output_type": "stream",
     "text": [
      "Processing Movies:  57%|█████▋    | 2410/4248 [4:24:30<3:22:22,  6.61s/it]"
     ]
    },
    {
     "name": "stdout",
     "output_type": "stream",
     "text": [
      "Checkpoint saved to movie_metadata_checkpoint.csv\n"
     ]
    },
    {
     "name": "stderr",
     "output_type": "stream",
     "text": [
      "Processing Movies:  57%|█████▋    | 2420/4248 [4:25:33<3:23:23,  6.68s/it]"
     ]
    },
    {
     "name": "stdout",
     "output_type": "stream",
     "text": [
      "Checkpoint saved to movie_metadata_checkpoint.csv\n"
     ]
    },
    {
     "name": "stderr",
     "output_type": "stream",
     "text": [
      "Processing Movies:  57%|█████▋    | 2430/4248 [4:26:22<2:26:09,  4.82s/it]"
     ]
    },
    {
     "name": "stdout",
     "output_type": "stream",
     "text": [
      "Checkpoint saved to movie_metadata_checkpoint.csv\n"
     ]
    },
    {
     "name": "stderr",
     "output_type": "stream",
     "text": [
      "Processing Movies:  57%|█████▋    | 2440/4248 [4:27:11<2:26:18,  4.86s/it]"
     ]
    },
    {
     "name": "stdout",
     "output_type": "stream",
     "text": [
      "Checkpoint saved to movie_metadata_checkpoint.csv\n"
     ]
    },
    {
     "name": "stderr",
     "output_type": "stream",
     "text": [
      "Processing Movies:  58%|█████▊    | 2450/4248 [4:27:59<2:50:07,  5.68s/it]"
     ]
    },
    {
     "name": "stdout",
     "output_type": "stream",
     "text": [
      "Checkpoint saved to movie_metadata_checkpoint.csv\n"
     ]
    },
    {
     "name": "stderr",
     "output_type": "stream",
     "text": [
      "Processing Movies:  58%|█████▊    | 2460/4248 [4:28:44<2:28:05,  4.97s/it]"
     ]
    },
    {
     "name": "stdout",
     "output_type": "stream",
     "text": [
      "Checkpoint saved to movie_metadata_checkpoint.csv\n"
     ]
    },
    {
     "name": "stderr",
     "output_type": "stream",
     "text": [
      "Processing Movies:  58%|█████▊    | 2470/4248 [4:29:35<2:32:54,  5.16s/it]"
     ]
    },
    {
     "name": "stdout",
     "output_type": "stream",
     "text": [
      "Checkpoint saved to movie_metadata_checkpoint.csv\n"
     ]
    },
    {
     "name": "stderr",
     "output_type": "stream",
     "text": [
      "Processing Movies:  58%|█████▊    | 2480/4248 [4:30:16<1:56:53,  3.97s/it]"
     ]
    },
    {
     "name": "stdout",
     "output_type": "stream",
     "text": [
      "Checkpoint saved to movie_metadata_checkpoint.csv\n"
     ]
    },
    {
     "name": "stderr",
     "output_type": "stream",
     "text": [
      "Processing Movies:  59%|█████▊    | 2490/4248 [4:31:03<3:00:49,  6.17s/it]"
     ]
    },
    {
     "name": "stdout",
     "output_type": "stream",
     "text": [
      "Checkpoint saved to movie_metadata_checkpoint.csv\n"
     ]
    },
    {
     "name": "stderr",
     "output_type": "stream",
     "text": [
      "Processing Movies:  59%|█████▉    | 2500/4248 [4:31:55<2:52:37,  5.93s/it]"
     ]
    },
    {
     "name": "stdout",
     "output_type": "stream",
     "text": [
      "Checkpoint saved to movie_metadata_checkpoint.csv\n"
     ]
    },
    {
     "name": "stderr",
     "output_type": "stream",
     "text": [
      "Processing Movies:  59%|█████▉    | 2510/4248 [4:32:57<2:54:58,  6.04s/it]"
     ]
    },
    {
     "name": "stdout",
     "output_type": "stream",
     "text": [
      "Checkpoint saved to movie_metadata_checkpoint.csv\n"
     ]
    },
    {
     "name": "stderr",
     "output_type": "stream",
     "text": [
      "Processing Movies:  59%|█████▉    | 2520/4248 [4:34:09<3:29:51,  7.29s/it]"
     ]
    },
    {
     "name": "stdout",
     "output_type": "stream",
     "text": [
      "Checkpoint saved to movie_metadata_checkpoint.csv\n"
     ]
    },
    {
     "name": "stderr",
     "output_type": "stream",
     "text": [
      "Processing Movies:  60%|█████▉    | 2530/4248 [4:35:16<3:16:32,  6.86s/it]"
     ]
    },
    {
     "name": "stdout",
     "output_type": "stream",
     "text": [
      "Checkpoint saved to movie_metadata_checkpoint.csv\n"
     ]
    },
    {
     "name": "stderr",
     "output_type": "stream",
     "text": [
      "Processing Movies:  60%|█████▉    | 2540/4248 [4:36:19<3:04:43,  6.49s/it]"
     ]
    },
    {
     "name": "stdout",
     "output_type": "stream",
     "text": [
      "Checkpoint saved to movie_metadata_checkpoint.csv\n"
     ]
    },
    {
     "name": "stderr",
     "output_type": "stream",
     "text": [
      "Processing Movies:  60%|██████    | 2550/4248 [4:37:26<3:13:57,  6.85s/it]"
     ]
    },
    {
     "name": "stdout",
     "output_type": "stream",
     "text": [
      "Checkpoint saved to movie_metadata_checkpoint.csv\n"
     ]
    },
    {
     "name": "stderr",
     "output_type": "stream",
     "text": [
      "Processing Movies:  60%|██████    | 2560/4248 [4:38:35<3:22:18,  7.19s/it]"
     ]
    },
    {
     "name": "stdout",
     "output_type": "stream",
     "text": [
      "Checkpoint saved to movie_metadata_checkpoint.csv\n"
     ]
    },
    {
     "name": "stderr",
     "output_type": "stream",
     "text": [
      "Processing Movies:  60%|██████    | 2570/4248 [4:39:32<1:52:59,  4.04s/it]"
     ]
    },
    {
     "name": "stdout",
     "output_type": "stream",
     "text": [
      "Checkpoint saved to movie_metadata_checkpoint.csv\n"
     ]
    },
    {
     "name": "stderr",
     "output_type": "stream",
     "text": [
      "Processing Movies:  61%|██████    | 2580/4248 [4:40:14<1:59:33,  4.30s/it]"
     ]
    },
    {
     "name": "stdout",
     "output_type": "stream",
     "text": [
      "Checkpoint saved to movie_metadata_checkpoint.csv\n"
     ]
    },
    {
     "name": "stderr",
     "output_type": "stream",
     "text": [
      "Processing Movies:  61%|██████    | 2590/4248 [4:40:51<1:49:25,  3.96s/it]"
     ]
    },
    {
     "name": "stdout",
     "output_type": "stream",
     "text": [
      "Checkpoint saved to movie_metadata_checkpoint.csv\n"
     ]
    },
    {
     "name": "stderr",
     "output_type": "stream",
     "text": [
      "Processing Movies:  61%|██████    | 2600/4248 [4:41:35<2:31:12,  5.50s/it]"
     ]
    },
    {
     "name": "stdout",
     "output_type": "stream",
     "text": [
      "Checkpoint saved to movie_metadata_checkpoint.csv\n"
     ]
    },
    {
     "name": "stderr",
     "output_type": "stream",
     "text": [
      "Processing Movies:  61%|██████▏   | 2610/4248 [4:42:33<2:30:00,  5.49s/it]"
     ]
    },
    {
     "name": "stdout",
     "output_type": "stream",
     "text": [
      "Checkpoint saved to movie_metadata_checkpoint.csv\n"
     ]
    },
    {
     "name": "stderr",
     "output_type": "stream",
     "text": [
      "Processing Movies:  62%|██████▏   | 2620/4248 [4:43:20<2:45:00,  6.08s/it]"
     ]
    },
    {
     "name": "stdout",
     "output_type": "stream",
     "text": [
      "Checkpoint saved to movie_metadata_checkpoint.csv\n"
     ]
    },
    {
     "name": "stderr",
     "output_type": "stream",
     "text": [
      "Processing Movies:  62%|██████▏   | 2630/4248 [4:44:02<1:57:32,  4.36s/it]"
     ]
    },
    {
     "name": "stdout",
     "output_type": "stream",
     "text": [
      "Checkpoint saved to movie_metadata_checkpoint.csv\n"
     ]
    },
    {
     "name": "stderr",
     "output_type": "stream",
     "text": [
      "Processing Movies:  62%|██████▏   | 2640/4248 [4:44:59<2:30:17,  5.61s/it]"
     ]
    },
    {
     "name": "stdout",
     "output_type": "stream",
     "text": [
      "Checkpoint saved to movie_metadata_checkpoint.csv\n"
     ]
    },
    {
     "name": "stderr",
     "output_type": "stream",
     "text": [
      "Processing Movies:  62%|██████▏   | 2650/4248 [4:46:02<3:02:29,  6.85s/it]"
     ]
    },
    {
     "name": "stdout",
     "output_type": "stream",
     "text": [
      "Checkpoint saved to movie_metadata_checkpoint.csv\n"
     ]
    },
    {
     "name": "stderr",
     "output_type": "stream",
     "text": [
      "Processing Movies:  63%|██████▎   | 2660/4248 [4:47:15<3:19:45,  7.55s/it]"
     ]
    },
    {
     "name": "stdout",
     "output_type": "stream",
     "text": [
      "Checkpoint saved to movie_metadata_checkpoint.csv\n"
     ]
    },
    {
     "name": "stderr",
     "output_type": "stream",
     "text": [
      "Processing Movies:  63%|██████▎   | 2670/4248 [4:48:31<3:14:32,  7.40s/it]"
     ]
    },
    {
     "name": "stdout",
     "output_type": "stream",
     "text": [
      "Checkpoint saved to movie_metadata_checkpoint.csv\n"
     ]
    },
    {
     "name": "stderr",
     "output_type": "stream",
     "text": [
      "Processing Movies:  63%|██████▎   | 2680/4248 [4:49:45<3:12:43,  7.37s/it]"
     ]
    },
    {
     "name": "stdout",
     "output_type": "stream",
     "text": [
      "Checkpoint saved to movie_metadata_checkpoint.csv\n"
     ]
    },
    {
     "name": "stderr",
     "output_type": "stream",
     "text": [
      "Processing Movies:  63%|██████▎   | 2690/4248 [4:50:53<3:07:56,  7.24s/it]"
     ]
    },
    {
     "name": "stdout",
     "output_type": "stream",
     "text": [
      "Checkpoint saved to movie_metadata_checkpoint.csv\n"
     ]
    },
    {
     "name": "stderr",
     "output_type": "stream",
     "text": [
      "Processing Movies:  64%|██████▎   | 2700/4248 [4:52:08<3:06:08,  7.21s/it]"
     ]
    },
    {
     "name": "stdout",
     "output_type": "stream",
     "text": [
      "Checkpoint saved to movie_metadata_checkpoint.csv\n"
     ]
    },
    {
     "name": "stderr",
     "output_type": "stream",
     "text": [
      "Processing Movies:  64%|██████▍   | 2710/4248 [4:53:22<3:08:45,  7.36s/it]"
     ]
    },
    {
     "name": "stdout",
     "output_type": "stream",
     "text": [
      "Checkpoint saved to movie_metadata_checkpoint.csv\n"
     ]
    },
    {
     "name": "stderr",
     "output_type": "stream",
     "text": [
      "Processing Movies:  64%|██████▍   | 2720/4248 [4:54:40<3:19:49,  7.85s/it]"
     ]
    },
    {
     "name": "stdout",
     "output_type": "stream",
     "text": [
      "Checkpoint saved to movie_metadata_checkpoint.csv\n"
     ]
    },
    {
     "name": "stderr",
     "output_type": "stream",
     "text": [
      "Processing Movies:  64%|██████▍   | 2730/4248 [4:55:58<3:06:14,  7.36s/it]"
     ]
    },
    {
     "name": "stdout",
     "output_type": "stream",
     "text": [
      "Checkpoint saved to movie_metadata_checkpoint.csv\n"
     ]
    },
    {
     "name": "stderr",
     "output_type": "stream",
     "text": [
      "Processing Movies:  65%|██████▍   | 2740/4248 [4:57:20<3:29:10,  8.32s/it]"
     ]
    },
    {
     "name": "stdout",
     "output_type": "stream",
     "text": [
      "Checkpoint saved to movie_metadata_checkpoint.csv\n"
     ]
    },
    {
     "name": "stderr",
     "output_type": "stream",
     "text": [
      "Processing Movies:  65%|██████▍   | 2743/4248 [4:57:56<5:00:42, 11.99s/it]"
     ]
    },
    {
     "name": "stdout",
     "output_type": "stream",
     "text": [
      "Timeout while loading https://letterboxd.com/film/happy-gilmore/\n"
     ]
    },
    {
     "name": "stderr",
     "output_type": "stream",
     "text": [
      "Processing Movies:  65%|██████▍   | 2750/4248 [4:58:45<2:47:09,  6.70s/it]"
     ]
    },
    {
     "name": "stdout",
     "output_type": "stream",
     "text": [
      "Checkpoint saved to movie_metadata_checkpoint.csv\n"
     ]
    },
    {
     "name": "stderr",
     "output_type": "stream",
     "text": [
      "Processing Movies:  65%|██████▍   | 2760/4248 [4:59:46<2:45:55,  6.69s/it]"
     ]
    },
    {
     "name": "stdout",
     "output_type": "stream",
     "text": [
      "Checkpoint saved to movie_metadata_checkpoint.csv\n"
     ]
    },
    {
     "name": "stderr",
     "output_type": "stream",
     "text": [
      "Processing Movies:  65%|██████▌   | 2770/4248 [5:00:56<2:59:29,  7.29s/it]"
     ]
    },
    {
     "name": "stdout",
     "output_type": "stream",
     "text": [
      "Checkpoint saved to movie_metadata_checkpoint.csv\n"
     ]
    },
    {
     "name": "stderr",
     "output_type": "stream",
     "text": [
      "Processing Movies:  65%|██████▌   | 2780/4248 [5:02:07<3:03:10,  7.49s/it]"
     ]
    },
    {
     "name": "stdout",
     "output_type": "stream",
     "text": [
      "Checkpoint saved to movie_metadata_checkpoint.csv\n"
     ]
    },
    {
     "name": "stderr",
     "output_type": "stream",
     "text": [
      "Processing Movies:  66%|██████▌   | 2790/4248 [5:03:31<3:25:34,  8.46s/it]"
     ]
    },
    {
     "name": "stdout",
     "output_type": "stream",
     "text": [
      "Checkpoint saved to movie_metadata_checkpoint.csv\n"
     ]
    },
    {
     "name": "stderr",
     "output_type": "stream",
     "text": [
      "Processing Movies:  66%|██████▌   | 2800/4248 [5:04:50<3:09:35,  7.86s/it]"
     ]
    },
    {
     "name": "stdout",
     "output_type": "stream",
     "text": [
      "Checkpoint saved to movie_metadata_checkpoint.csv\n"
     ]
    },
    {
     "name": "stderr",
     "output_type": "stream",
     "text": [
      "Processing Movies:  66%|██████▌   | 2810/4248 [5:06:16<3:16:41,  8.21s/it]"
     ]
    },
    {
     "name": "stdout",
     "output_type": "stream",
     "text": [
      "Checkpoint saved to movie_metadata_checkpoint.csv\n"
     ]
    },
    {
     "name": "stderr",
     "output_type": "stream",
     "text": [
      "Processing Movies:  66%|██████▋   | 2820/4248 [5:07:10<2:16:39,  5.74s/it]"
     ]
    },
    {
     "name": "stdout",
     "output_type": "stream",
     "text": [
      "Checkpoint saved to movie_metadata_checkpoint.csv\n"
     ]
    },
    {
     "name": "stderr",
     "output_type": "stream",
     "text": [
      "Processing Movies:  67%|██████▋   | 2830/4248 [5:08:09<2:37:17,  6.66s/it]"
     ]
    },
    {
     "name": "stdout",
     "output_type": "stream",
     "text": [
      "Checkpoint saved to movie_metadata_checkpoint.csv\n"
     ]
    },
    {
     "name": "stderr",
     "output_type": "stream",
     "text": [
      "Processing Movies:  67%|██████▋   | 2840/4248 [5:09:04<2:28:04,  6.31s/it]"
     ]
    },
    {
     "name": "stdout",
     "output_type": "stream",
     "text": [
      "Checkpoint saved to movie_metadata_checkpoint.csv\n"
     ]
    },
    {
     "name": "stderr",
     "output_type": "stream",
     "text": [
      "Processing Movies:  67%|██████▋   | 2850/4248 [5:09:46<1:56:25,  5.00s/it]"
     ]
    },
    {
     "name": "stdout",
     "output_type": "stream",
     "text": [
      "Checkpoint saved to movie_metadata_checkpoint.csv\n"
     ]
    },
    {
     "name": "stderr",
     "output_type": "stream",
     "text": [
      "Processing Movies:  67%|██████▋   | 2860/4248 [5:10:43<2:07:20,  5.50s/it]"
     ]
    },
    {
     "name": "stdout",
     "output_type": "stream",
     "text": [
      "Checkpoint saved to movie_metadata_checkpoint.csv\n"
     ]
    },
    {
     "name": "stderr",
     "output_type": "stream",
     "text": [
      "Processing Movies:  68%|██████▊   | 2870/4248 [5:11:24<1:25:14,  3.71s/it]"
     ]
    },
    {
     "name": "stdout",
     "output_type": "stream",
     "text": [
      "Checkpoint saved to movie_metadata_checkpoint.csv\n"
     ]
    },
    {
     "name": "stderr",
     "output_type": "stream",
     "text": [
      "Processing Movies:  68%|██████▊   | 2880/4248 [5:12:05<1:29:43,  3.94s/it]"
     ]
    },
    {
     "name": "stdout",
     "output_type": "stream",
     "text": [
      "Checkpoint saved to movie_metadata_checkpoint.csv\n"
     ]
    },
    {
     "name": "stderr",
     "output_type": "stream",
     "text": [
      "Processing Movies:  68%|██████▊   | 2890/4248 [5:13:16<2:52:22,  7.62s/it]"
     ]
    },
    {
     "name": "stdout",
     "output_type": "stream",
     "text": [
      "Checkpoint saved to movie_metadata_checkpoint.csv\n"
     ]
    },
    {
     "name": "stderr",
     "output_type": "stream",
     "text": [
      "Processing Movies:  68%|██████▊   | 2900/4248 [5:14:30<2:42:07,  7.22s/it]"
     ]
    },
    {
     "name": "stdout",
     "output_type": "stream",
     "text": [
      "Checkpoint saved to movie_metadata_checkpoint.csv\n"
     ]
    },
    {
     "name": "stderr",
     "output_type": "stream",
     "text": [
      "Processing Movies:  69%|██████▊   | 2910/4248 [5:15:44<2:27:25,  6.61s/it]"
     ]
    },
    {
     "name": "stdout",
     "output_type": "stream",
     "text": [
      "Checkpoint saved to movie_metadata_checkpoint.csv\n"
     ]
    },
    {
     "name": "stderr",
     "output_type": "stream",
     "text": [
      "Processing Movies:  69%|██████▊   | 2920/4248 [5:16:31<1:11:14,  3.22s/it]"
     ]
    },
    {
     "name": "stdout",
     "output_type": "stream",
     "text": [
      "Checkpoint saved to movie_metadata_checkpoint.csv\n"
     ]
    },
    {
     "name": "stderr",
     "output_type": "stream",
     "text": [
      "Processing Movies:  69%|██████▉   | 2930/4248 [5:17:25<2:25:33,  6.63s/it]"
     ]
    },
    {
     "name": "stdout",
     "output_type": "stream",
     "text": [
      "Checkpoint saved to movie_metadata_checkpoint.csv\n"
     ]
    },
    {
     "name": "stderr",
     "output_type": "stream",
     "text": [
      "Processing Movies:  69%|██████▉   | 2940/4248 [5:18:28<1:46:56,  4.91s/it]"
     ]
    },
    {
     "name": "stdout",
     "output_type": "stream",
     "text": [
      "Checkpoint saved to movie_metadata_checkpoint.csv\n"
     ]
    },
    {
     "name": "stderr",
     "output_type": "stream",
     "text": [
      "Processing Movies:  69%|██████▉   | 2950/4248 [5:19:21<2:29:52,  6.93s/it]"
     ]
    },
    {
     "name": "stdout",
     "output_type": "stream",
     "text": [
      "Checkpoint saved to movie_metadata_checkpoint.csv\n"
     ]
    },
    {
     "name": "stderr",
     "output_type": "stream",
     "text": [
      "Processing Movies:  70%|██████▉   | 2960/4248 [5:20:14<2:03:57,  5.77s/it]"
     ]
    },
    {
     "name": "stdout",
     "output_type": "stream",
     "text": [
      "Checkpoint saved to movie_metadata_checkpoint.csv\n"
     ]
    },
    {
     "name": "stderr",
     "output_type": "stream",
     "text": [
      "Processing Movies:  70%|██████▉   | 2970/4248 [5:21:04<1:20:27,  3.78s/it]"
     ]
    },
    {
     "name": "stdout",
     "output_type": "stream",
     "text": [
      "Checkpoint saved to movie_metadata_checkpoint.csv\n"
     ]
    },
    {
     "name": "stderr",
     "output_type": "stream",
     "text": [
      "Processing Movies:  70%|███████   | 2980/4248 [5:21:59<1:53:16,  5.36s/it]"
     ]
    },
    {
     "name": "stdout",
     "output_type": "stream",
     "text": [
      "Checkpoint saved to movie_metadata_checkpoint.csv\n"
     ]
    },
    {
     "name": "stderr",
     "output_type": "stream",
     "text": [
      "Processing Movies:  70%|███████   | 2990/4248 [5:22:47<1:32:18,  4.40s/it]"
     ]
    },
    {
     "name": "stdout",
     "output_type": "stream",
     "text": [
      "Checkpoint saved to movie_metadata_checkpoint.csv\n"
     ]
    },
    {
     "name": "stderr",
     "output_type": "stream",
     "text": [
      "Processing Movies:  71%|███████   | 3000/4248 [5:23:29<1:38:20,  4.73s/it]"
     ]
    },
    {
     "name": "stdout",
     "output_type": "stream",
     "text": [
      "Checkpoint saved to movie_metadata_checkpoint.csv\n"
     ]
    },
    {
     "name": "stderr",
     "output_type": "stream",
     "text": [
      "Processing Movies:  71%|███████   | 3010/4248 [5:24:10<1:27:38,  4.25s/it]"
     ]
    },
    {
     "name": "stdout",
     "output_type": "stream",
     "text": [
      "Checkpoint saved to movie_metadata_checkpoint.csv\n"
     ]
    },
    {
     "name": "stderr",
     "output_type": "stream",
     "text": [
      "Processing Movies:  71%|███████   | 3020/4248 [5:25:07<2:08:04,  6.26s/it]"
     ]
    },
    {
     "name": "stdout",
     "output_type": "stream",
     "text": [
      "Checkpoint saved to movie_metadata_checkpoint.csv\n"
     ]
    },
    {
     "name": "stderr",
     "output_type": "stream",
     "text": [
      "Processing Movies:  71%|███████▏  | 3030/4248 [5:25:58<1:37:47,  4.82s/it]"
     ]
    },
    {
     "name": "stdout",
     "output_type": "stream",
     "text": [
      "Checkpoint saved to movie_metadata_checkpoint.csv\n"
     ]
    },
    {
     "name": "stderr",
     "output_type": "stream",
     "text": [
      "Processing Movies:  72%|███████▏  | 3040/4248 [5:27:05<2:19:59,  6.95s/it]"
     ]
    },
    {
     "name": "stdout",
     "output_type": "stream",
     "text": [
      "Checkpoint saved to movie_metadata_checkpoint.csv\n"
     ]
    },
    {
     "name": "stderr",
     "output_type": "stream",
     "text": [
      "Processing Movies:  72%|███████▏  | 3050/4248 [5:28:17<2:07:41,  6.40s/it]"
     ]
    },
    {
     "name": "stdout",
     "output_type": "stream",
     "text": [
      "Checkpoint saved to movie_metadata_checkpoint.csv\n"
     ]
    },
    {
     "name": "stderr",
     "output_type": "stream",
     "text": [
      "Processing Movies:  72%|███████▏  | 3060/4248 [5:29:23<2:24:04,  7.28s/it]"
     ]
    },
    {
     "name": "stdout",
     "output_type": "stream",
     "text": [
      "Checkpoint saved to movie_metadata_checkpoint.csv\n"
     ]
    },
    {
     "name": "stderr",
     "output_type": "stream",
     "text": [
      "Processing Movies:  72%|███████▏  | 3070/4248 [5:30:43<2:40:43,  8.19s/it]"
     ]
    },
    {
     "name": "stdout",
     "output_type": "stream",
     "text": [
      "Checkpoint saved to movie_metadata_checkpoint.csv\n"
     ]
    },
    {
     "name": "stderr",
     "output_type": "stream",
     "text": [
      "Processing Movies:  73%|███████▎  | 3080/4248 [5:32:16<3:09:34,  9.74s/it]"
     ]
    },
    {
     "name": "stdout",
     "output_type": "stream",
     "text": [
      "Checkpoint saved to movie_metadata_checkpoint.csv\n"
     ]
    },
    {
     "name": "stderr",
     "output_type": "stream",
     "text": [
      "Processing Movies:  73%|███████▎  | 3090/4248 [5:33:24<2:19:24,  7.22s/it]"
     ]
    },
    {
     "name": "stdout",
     "output_type": "stream",
     "text": [
      "Checkpoint saved to movie_metadata_checkpoint.csv\n"
     ]
    },
    {
     "name": "stderr",
     "output_type": "stream",
     "text": [
      "Processing Movies:  73%|███████▎  | 3100/4248 [5:34:40<2:11:35,  6.88s/it]"
     ]
    },
    {
     "name": "stdout",
     "output_type": "stream",
     "text": [
      "Checkpoint saved to movie_metadata_checkpoint.csv\n"
     ]
    },
    {
     "name": "stderr",
     "output_type": "stream",
     "text": [
      "Processing Movies:  73%|███████▎  | 3110/4248 [5:35:42<1:45:19,  5.55s/it]"
     ]
    },
    {
     "name": "stdout",
     "output_type": "stream",
     "text": [
      "Checkpoint saved to movie_metadata_checkpoint.csv\n"
     ]
    },
    {
     "name": "stderr",
     "output_type": "stream",
     "text": [
      "Processing Movies:  73%|███████▎  | 3120/4248 [5:36:52<2:14:36,  7.16s/it]"
     ]
    },
    {
     "name": "stdout",
     "output_type": "stream",
     "text": [
      "Checkpoint saved to movie_metadata_checkpoint.csv\n"
     ]
    },
    {
     "name": "stderr",
     "output_type": "stream",
     "text": [
      "Processing Movies:  74%|███████▎  | 3130/4248 [5:38:09<2:33:04,  8.22s/it]"
     ]
    },
    {
     "name": "stdout",
     "output_type": "stream",
     "text": [
      "Checkpoint saved to movie_metadata_checkpoint.csv\n"
     ]
    },
    {
     "name": "stderr",
     "output_type": "stream",
     "text": [
      "Processing Movies:  74%|███████▍  | 3140/4248 [5:39:24<2:12:28,  7.17s/it]"
     ]
    },
    {
     "name": "stdout",
     "output_type": "stream",
     "text": [
      "Checkpoint saved to movie_metadata_checkpoint.csv\n"
     ]
    },
    {
     "name": "stderr",
     "output_type": "stream",
     "text": [
      "Processing Movies:  74%|███████▍  | 3150/4248 [5:40:19<1:29:28,  4.89s/it]"
     ]
    },
    {
     "name": "stdout",
     "output_type": "stream",
     "text": [
      "Checkpoint saved to movie_metadata_checkpoint.csv\n"
     ]
    },
    {
     "name": "stderr",
     "output_type": "stream",
     "text": [
      "Processing Movies:  74%|███████▍  | 3160/4248 [5:41:06<1:15:53,  4.18s/it]"
     ]
    },
    {
     "name": "stdout",
     "output_type": "stream",
     "text": [
      "Checkpoint saved to movie_metadata_checkpoint.csv\n"
     ]
    },
    {
     "name": "stderr",
     "output_type": "stream",
     "text": [
      "Processing Movies:  75%|███████▍  | 3170/4248 [5:42:00<1:42:50,  5.72s/it]"
     ]
    },
    {
     "name": "stdout",
     "output_type": "stream",
     "text": [
      "Checkpoint saved to movie_metadata_checkpoint.csv\n"
     ]
    },
    {
     "name": "stderr",
     "output_type": "stream",
     "text": [
      "Processing Movies:  75%|███████▍  | 3180/4248 [5:42:56<1:39:31,  5.59s/it]"
     ]
    },
    {
     "name": "stdout",
     "output_type": "stream",
     "text": [
      "Checkpoint saved to movie_metadata_checkpoint.csv\n"
     ]
    },
    {
     "name": "stderr",
     "output_type": "stream",
     "text": [
      "Processing Movies:  75%|███████▌  | 3190/4248 [5:43:45<1:38:46,  5.60s/it]"
     ]
    },
    {
     "name": "stdout",
     "output_type": "stream",
     "text": [
      "Checkpoint saved to movie_metadata_checkpoint.csv\n"
     ]
    },
    {
     "name": "stderr",
     "output_type": "stream",
     "text": [
      "Processing Movies:  75%|███████▌  | 3200/4248 [5:44:46<1:20:52,  4.63s/it]"
     ]
    },
    {
     "name": "stdout",
     "output_type": "stream",
     "text": [
      "Checkpoint saved to movie_metadata_checkpoint.csv\n"
     ]
    },
    {
     "name": "stderr",
     "output_type": "stream",
     "text": [
      "Processing Movies:  76%|███████▌  | 3210/4248 [5:45:37<1:34:42,  5.47s/it]"
     ]
    },
    {
     "name": "stdout",
     "output_type": "stream",
     "text": [
      "Checkpoint saved to movie_metadata_checkpoint.csv\n"
     ]
    },
    {
     "name": "stderr",
     "output_type": "stream",
     "text": [
      "Processing Movies:  76%|███████▌  | 3220/4248 [5:46:38<1:55:41,  6.75s/it]"
     ]
    },
    {
     "name": "stdout",
     "output_type": "stream",
     "text": [
      "Checkpoint saved to movie_metadata_checkpoint.csv\n"
     ]
    },
    {
     "name": "stderr",
     "output_type": "stream",
     "text": [
      "Processing Movies:  76%|███████▌  | 3230/4248 [5:47:34<1:34:03,  5.54s/it]"
     ]
    },
    {
     "name": "stdout",
     "output_type": "stream",
     "text": [
      "Checkpoint saved to movie_metadata_checkpoint.csv\n"
     ]
    },
    {
     "name": "stderr",
     "output_type": "stream",
     "text": [
      "Processing Movies:  76%|███████▋  | 3240/4248 [5:49:05<2:39:27,  9.49s/it]"
     ]
    },
    {
     "name": "stdout",
     "output_type": "stream",
     "text": [
      "Checkpoint saved to movie_metadata_checkpoint.csv\n"
     ]
    },
    {
     "name": "stderr",
     "output_type": "stream",
     "text": [
      "Processing Movies:  77%|███████▋  | 3250/4248 [5:50:36<2:12:06,  7.94s/it]"
     ]
    },
    {
     "name": "stdout",
     "output_type": "stream",
     "text": [
      "Checkpoint saved to movie_metadata_checkpoint.csv\n"
     ]
    },
    {
     "name": "stderr",
     "output_type": "stream",
     "text": [
      "Processing Movies:  77%|███████▋  | 3260/4248 [5:51:30<1:23:05,  5.05s/it]"
     ]
    },
    {
     "name": "stdout",
     "output_type": "stream",
     "text": [
      "Checkpoint saved to movie_metadata_checkpoint.csv\n"
     ]
    },
    {
     "name": "stderr",
     "output_type": "stream",
     "text": [
      "Processing Movies:  77%|███████▋  | 3270/4248 [5:52:25<1:17:41,  4.77s/it]"
     ]
    },
    {
     "name": "stdout",
     "output_type": "stream",
     "text": [
      "Checkpoint saved to movie_metadata_checkpoint.csv\n"
     ]
    },
    {
     "name": "stderr",
     "output_type": "stream",
     "text": [
      "Processing Movies:  77%|███████▋  | 3280/4248 [5:53:32<1:40:16,  6.22s/it]"
     ]
    },
    {
     "name": "stdout",
     "output_type": "stream",
     "text": [
      "Checkpoint saved to movie_metadata_checkpoint.csv\n"
     ]
    },
    {
     "name": "stderr",
     "output_type": "stream",
     "text": [
      "Processing Movies:  77%|███████▋  | 3290/4248 [5:54:41<1:52:45,  7.06s/it]"
     ]
    },
    {
     "name": "stdout",
     "output_type": "stream",
     "text": [
      "Checkpoint saved to movie_metadata_checkpoint.csv\n"
     ]
    },
    {
     "name": "stderr",
     "output_type": "stream",
     "text": [
      "Processing Movies:  78%|███████▊  | 3300/4248 [5:55:19<1:05:24,  4.14s/it]"
     ]
    },
    {
     "name": "stdout",
     "output_type": "stream",
     "text": [
      "Checkpoint saved to movie_metadata_checkpoint.csv\n"
     ]
    },
    {
     "name": "stderr",
     "output_type": "stream",
     "text": [
      "Processing Movies:  78%|███████▊  | 3310/4248 [5:55:58<1:16:26,  4.89s/it]"
     ]
    },
    {
     "name": "stdout",
     "output_type": "stream",
     "text": [
      "Checkpoint saved to movie_metadata_checkpoint.csv\n"
     ]
    },
    {
     "name": "stderr",
     "output_type": "stream",
     "text": [
      "Processing Movies:  78%|███████▊  | 3320/4248 [5:57:13<2:05:26,  8.11s/it]"
     ]
    },
    {
     "name": "stdout",
     "output_type": "stream",
     "text": [
      "Checkpoint saved to movie_metadata_checkpoint.csv\n"
     ]
    },
    {
     "name": "stderr",
     "output_type": "stream",
     "text": [
      "Processing Movies:  78%|███████▊  | 3330/4248 [5:58:24<1:44:09,  6.81s/it]"
     ]
    },
    {
     "name": "stdout",
     "output_type": "stream",
     "text": [
      "Checkpoint saved to movie_metadata_checkpoint.csv\n"
     ]
    },
    {
     "name": "stderr",
     "output_type": "stream",
     "text": [
      "Processing Movies:  79%|███████▊  | 3340/4248 [5:59:28<1:33:59,  6.21s/it]"
     ]
    },
    {
     "name": "stdout",
     "output_type": "stream",
     "text": [
      "Checkpoint saved to movie_metadata_checkpoint.csv\n"
     ]
    },
    {
     "name": "stderr",
     "output_type": "stream",
     "text": [
      "Processing Movies:  79%|███████▉  | 3350/4248 [6:00:36<1:46:46,  7.13s/it]"
     ]
    },
    {
     "name": "stdout",
     "output_type": "stream",
     "text": [
      "Checkpoint saved to movie_metadata_checkpoint.csv\n"
     ]
    },
    {
     "name": "stderr",
     "output_type": "stream",
     "text": [
      "Processing Movies:  79%|███████▉  | 3360/4248 [6:01:48<1:52:10,  7.58s/it]"
     ]
    },
    {
     "name": "stdout",
     "output_type": "stream",
     "text": [
      "Checkpoint saved to movie_metadata_checkpoint.csv\n"
     ]
    },
    {
     "name": "stderr",
     "output_type": "stream",
     "text": [
      "Processing Movies:  79%|███████▉  | 3370/4248 [6:03:00<1:48:28,  7.41s/it]"
     ]
    },
    {
     "name": "stdout",
     "output_type": "stream",
     "text": [
      "Checkpoint saved to movie_metadata_checkpoint.csv\n"
     ]
    },
    {
     "name": "stderr",
     "output_type": "stream",
     "text": [
      "Processing Movies:  80%|███████▉  | 3380/4248 [6:04:09<1:43:06,  7.13s/it]"
     ]
    },
    {
     "name": "stdout",
     "output_type": "stream",
     "text": [
      "Checkpoint saved to movie_metadata_checkpoint.csv\n"
     ]
    },
    {
     "name": "stderr",
     "output_type": "stream",
     "text": [
      "Processing Movies:  80%|███████▉  | 3390/4248 [6:05:02<1:03:15,  4.42s/it]"
     ]
    },
    {
     "name": "stdout",
     "output_type": "stream",
     "text": [
      "Checkpoint saved to movie_metadata_checkpoint.csv\n"
     ]
    },
    {
     "name": "stderr",
     "output_type": "stream",
     "text": [
      "Processing Movies:  80%|████████  | 3400/4248 [6:06:11<1:41:07,  7.15s/it]"
     ]
    },
    {
     "name": "stdout",
     "output_type": "stream",
     "text": [
      "Checkpoint saved to movie_metadata_checkpoint.csv\n"
     ]
    },
    {
     "name": "stderr",
     "output_type": "stream",
     "text": [
      "Processing Movies:  80%|████████  | 3410/4248 [6:07:25<1:46:32,  7.63s/it]"
     ]
    },
    {
     "name": "stdout",
     "output_type": "stream",
     "text": [
      "Checkpoint saved to movie_metadata_checkpoint.csv\n"
     ]
    },
    {
     "name": "stderr",
     "output_type": "stream",
     "text": [
      "Processing Movies:  81%|████████  | 3420/4248 [6:08:40<1:49:12,  7.91s/it]"
     ]
    },
    {
     "name": "stdout",
     "output_type": "stream",
     "text": [
      "Checkpoint saved to movie_metadata_checkpoint.csv\n"
     ]
    },
    {
     "name": "stderr",
     "output_type": "stream",
     "text": [
      "Processing Movies:  81%|████████  | 3430/4248 [6:09:48<1:34:43,  6.95s/it]"
     ]
    },
    {
     "name": "stdout",
     "output_type": "stream",
     "text": [
      "Checkpoint saved to movie_metadata_checkpoint.csv\n"
     ]
    },
    {
     "name": "stderr",
     "output_type": "stream",
     "text": [
      "Processing Movies:  81%|████████  | 3440/4248 [6:10:55<1:31:28,  6.79s/it]"
     ]
    },
    {
     "name": "stdout",
     "output_type": "stream",
     "text": [
      "Checkpoint saved to movie_metadata_checkpoint.csv\n"
     ]
    },
    {
     "name": "stderr",
     "output_type": "stream",
     "text": [
      "Processing Movies:  81%|████████  | 3450/4248 [6:12:05<1:31:28,  6.88s/it]"
     ]
    },
    {
     "name": "stdout",
     "output_type": "stream",
     "text": [
      "Checkpoint saved to movie_metadata_checkpoint.csv\n"
     ]
    },
    {
     "name": "stderr",
     "output_type": "stream",
     "text": [
      "Processing Movies:  81%|████████▏ | 3460/4248 [6:13:11<1:31:43,  6.98s/it]"
     ]
    },
    {
     "name": "stdout",
     "output_type": "stream",
     "text": [
      "Checkpoint saved to movie_metadata_checkpoint.csv\n"
     ]
    },
    {
     "name": "stderr",
     "output_type": "stream",
     "text": [
      "Processing Movies:  82%|████████▏ | 3470/4248 [6:14:14<1:20:00,  6.17s/it]"
     ]
    },
    {
     "name": "stdout",
     "output_type": "stream",
     "text": [
      "Checkpoint saved to movie_metadata_checkpoint.csv\n"
     ]
    },
    {
     "name": "stderr",
     "output_type": "stream",
     "text": [
      "Processing Movies:  82%|████████▏ | 3480/4248 [6:15:23<1:24:22,  6.59s/it]"
     ]
    },
    {
     "name": "stdout",
     "output_type": "stream",
     "text": [
      "Checkpoint saved to movie_metadata_checkpoint.csv\n"
     ]
    },
    {
     "name": "stderr",
     "output_type": "stream",
     "text": [
      "Processing Movies:  82%|████████▏ | 3490/4248 [6:16:31<1:25:17,  6.75s/it]"
     ]
    },
    {
     "name": "stdout",
     "output_type": "stream",
     "text": [
      "Checkpoint saved to movie_metadata_checkpoint.csv\n"
     ]
    },
    {
     "name": "stderr",
     "output_type": "stream",
     "text": [
      "Processing Movies:  82%|████████▏ | 3500/4248 [6:17:31<58:25,  4.69s/it]  "
     ]
    },
    {
     "name": "stdout",
     "output_type": "stream",
     "text": [
      "Checkpoint saved to movie_metadata_checkpoint.csv\n"
     ]
    },
    {
     "name": "stderr",
     "output_type": "stream",
     "text": [
      "Processing Movies:  83%|████████▎ | 3510/4248 [6:18:20<56:07,  4.56s/it]  "
     ]
    },
    {
     "name": "stdout",
     "output_type": "stream",
     "text": [
      "Checkpoint saved to movie_metadata_checkpoint.csv\n"
     ]
    },
    {
     "name": "stderr",
     "output_type": "stream",
     "text": [
      "Processing Movies:  83%|████████▎ | 3520/4248 [6:19:15<1:08:20,  5.63s/it]"
     ]
    },
    {
     "name": "stdout",
     "output_type": "stream",
     "text": [
      "Checkpoint saved to movie_metadata_checkpoint.csv\n"
     ]
    },
    {
     "name": "stderr",
     "output_type": "stream",
     "text": [
      "Processing Movies:  83%|████████▎ | 3530/4248 [6:20:03<55:50,  4.67s/it]"
     ]
    },
    {
     "name": "stdout",
     "output_type": "stream",
     "text": [
      "Checkpoint saved to movie_metadata_checkpoint.csv\n"
     ]
    },
    {
     "name": "stderr",
     "output_type": "stream",
     "text": [
      "Processing Movies:  83%|████████▎ | 3540/4248 [6:20:59<1:16:29,  6.48s/it]"
     ]
    },
    {
     "name": "stdout",
     "output_type": "stream",
     "text": [
      "Checkpoint saved to movie_metadata_checkpoint.csv\n"
     ]
    },
    {
     "name": "stderr",
     "output_type": "stream",
     "text": [
      "Processing Movies:  84%|████████▎ | 3550/4248 [6:21:42<43:27,  3.74s/it]"
     ]
    },
    {
     "name": "stdout",
     "output_type": "stream",
     "text": [
      "Checkpoint saved to movie_metadata_checkpoint.csv\n"
     ]
    },
    {
     "name": "stderr",
     "output_type": "stream",
     "text": [
      "Processing Movies:  84%|████████▍ | 3560/4248 [6:22:22<59:44,  5.21s/it]"
     ]
    },
    {
     "name": "stdout",
     "output_type": "stream",
     "text": [
      "Checkpoint saved to movie_metadata_checkpoint.csv\n"
     ]
    },
    {
     "name": "stderr",
     "output_type": "stream",
     "text": [
      "Processing Movies:  84%|████████▍ | 3570/4248 [6:23:03<40:56,  3.62s/it]"
     ]
    },
    {
     "name": "stdout",
     "output_type": "stream",
     "text": [
      "Checkpoint saved to movie_metadata_checkpoint.csv\n"
     ]
    },
    {
     "name": "stderr",
     "output_type": "stream",
     "text": [
      "Processing Movies:  84%|████████▍ | 3580/4248 [6:24:10<1:19:27,  7.14s/it]"
     ]
    },
    {
     "name": "stdout",
     "output_type": "stream",
     "text": [
      "Checkpoint saved to movie_metadata_checkpoint.csv\n"
     ]
    },
    {
     "name": "stderr",
     "output_type": "stream",
     "text": [
      "Processing Movies:  85%|████████▍ | 3590/4248 [6:25:25<1:23:37,  7.63s/it]"
     ]
    },
    {
     "name": "stdout",
     "output_type": "stream",
     "text": [
      "Checkpoint saved to movie_metadata_checkpoint.csv\n"
     ]
    },
    {
     "name": "stderr",
     "output_type": "stream",
     "text": [
      "Processing Movies:  85%|████████▍ | 3600/4248 [6:26:44<1:28:38,  8.21s/it]"
     ]
    },
    {
     "name": "stdout",
     "output_type": "stream",
     "text": [
      "Checkpoint saved to movie_metadata_checkpoint.csv\n"
     ]
    },
    {
     "name": "stderr",
     "output_type": "stream",
     "text": [
      "Processing Movies:  85%|████████▍ | 3610/4248 [6:28:02<1:18:45,  7.41s/it]"
     ]
    },
    {
     "name": "stdout",
     "output_type": "stream",
     "text": [
      "Checkpoint saved to movie_metadata_checkpoint.csv\n"
     ]
    },
    {
     "name": "stderr",
     "output_type": "stream",
     "text": [
      "Processing Movies:  85%|████████▌ | 3620/4248 [6:29:08<1:09:37,  6.65s/it]"
     ]
    },
    {
     "name": "stdout",
     "output_type": "stream",
     "text": [
      "Checkpoint saved to movie_metadata_checkpoint.csv\n"
     ]
    },
    {
     "name": "stderr",
     "output_type": "stream",
     "text": [
      "Processing Movies:  85%|████████▌ | 3630/4248 [6:30:11<1:06:40,  6.47s/it]"
     ]
    },
    {
     "name": "stdout",
     "output_type": "stream",
     "text": [
      "Checkpoint saved to movie_metadata_checkpoint.csv\n"
     ]
    },
    {
     "name": "stderr",
     "output_type": "stream",
     "text": [
      "Processing Movies:  86%|████████▌ | 3640/4248 [6:31:31<1:19:21,  7.83s/it]"
     ]
    },
    {
     "name": "stdout",
     "output_type": "stream",
     "text": [
      "Checkpoint saved to movie_metadata_checkpoint.csv\n"
     ]
    },
    {
     "name": "stderr",
     "output_type": "stream",
     "text": [
      "Processing Movies:  86%|████████▌ | 3650/4248 [6:32:40<1:13:53,  7.41s/it]"
     ]
    },
    {
     "name": "stdout",
     "output_type": "stream",
     "text": [
      "Checkpoint saved to movie_metadata_checkpoint.csv\n"
     ]
    },
    {
     "name": "stderr",
     "output_type": "stream",
     "text": [
      "Processing Movies:  86%|████████▌ | 3660/4248 [6:33:55<1:13:37,  7.51s/it]"
     ]
    },
    {
     "name": "stdout",
     "output_type": "stream",
     "text": [
      "Checkpoint saved to movie_metadata_checkpoint.csv\n"
     ]
    },
    {
     "name": "stderr",
     "output_type": "stream",
     "text": [
      "Processing Movies:  86%|████████▋ | 3670/4248 [6:34:58<1:09:32,  7.22s/it]"
     ]
    },
    {
     "name": "stdout",
     "output_type": "stream",
     "text": [
      "Checkpoint saved to movie_metadata_checkpoint.csv\n"
     ]
    },
    {
     "name": "stderr",
     "output_type": "stream",
     "text": [
      "Processing Movies:  87%|████████▋ | 3680/4248 [6:36:05<1:06:03,  6.98s/it]"
     ]
    },
    {
     "name": "stdout",
     "output_type": "stream",
     "text": [
      "Checkpoint saved to movie_metadata_checkpoint.csv\n"
     ]
    },
    {
     "name": "stderr",
     "output_type": "stream",
     "text": [
      "Processing Movies:  87%|████████▋ | 3690/4248 [6:37:12<1:02:10,  6.69s/it]"
     ]
    },
    {
     "name": "stdout",
     "output_type": "stream",
     "text": [
      "Checkpoint saved to movie_metadata_checkpoint.csv\n"
     ]
    },
    {
     "name": "stderr",
     "output_type": "stream",
     "text": [
      "Processing Movies:  87%|████████▋ | 3700/4248 [6:38:25<1:08:00,  7.45s/it]"
     ]
    },
    {
     "name": "stdout",
     "output_type": "stream",
     "text": [
      "Checkpoint saved to movie_metadata_checkpoint.csv\n"
     ]
    },
    {
     "name": "stderr",
     "output_type": "stream",
     "text": [
      "Processing Movies:  87%|████████▋ | 3710/4248 [6:39:24<40:08,  4.48s/it]"
     ]
    },
    {
     "name": "stdout",
     "output_type": "stream",
     "text": [
      "Checkpoint saved to movie_metadata_checkpoint.csv\n"
     ]
    },
    {
     "name": "stderr",
     "output_type": "stream",
     "text": [
      "Processing Movies:  88%|████████▊ | 3720/4248 [6:40:19<53:05,  6.03s/it]"
     ]
    },
    {
     "name": "stdout",
     "output_type": "stream",
     "text": [
      "Checkpoint saved to movie_metadata_checkpoint.csv\n"
     ]
    },
    {
     "name": "stderr",
     "output_type": "stream",
     "text": [
      "Processing Movies:  88%|████████▊ | 3730/4248 [6:41:21<52:42,  6.10s/it]"
     ]
    },
    {
     "name": "stdout",
     "output_type": "stream",
     "text": [
      "Checkpoint saved to movie_metadata_checkpoint.csv\n"
     ]
    },
    {
     "name": "stderr",
     "output_type": "stream",
     "text": [
      "Processing Movies:  88%|████████▊ | 3740/4248 [6:42:13<46:53,  5.54s/it]"
     ]
    },
    {
     "name": "stdout",
     "output_type": "stream",
     "text": [
      "Checkpoint saved to movie_metadata_checkpoint.csv\n"
     ]
    },
    {
     "name": "stderr",
     "output_type": "stream",
     "text": [
      "Processing Movies:  88%|████████▊ | 3750/4248 [6:43:04<51:06,  6.16s/it]"
     ]
    },
    {
     "name": "stdout",
     "output_type": "stream",
     "text": [
      "Checkpoint saved to movie_metadata_checkpoint.csv\n"
     ]
    },
    {
     "name": "stderr",
     "output_type": "stream",
     "text": [
      "Processing Movies:  89%|████████▊ | 3760/4248 [6:44:01<43:15,  5.32s/it]"
     ]
    },
    {
     "name": "stdout",
     "output_type": "stream",
     "text": [
      "Checkpoint saved to movie_metadata_checkpoint.csv\n"
     ]
    },
    {
     "name": "stderr",
     "output_type": "stream",
     "text": [
      "Processing Movies:  89%|████████▊ | 3770/4248 [6:44:48<47:10,  5.92s/it]"
     ]
    },
    {
     "name": "stdout",
     "output_type": "stream",
     "text": [
      "Checkpoint saved to movie_metadata_checkpoint.csv\n"
     ]
    },
    {
     "name": "stderr",
     "output_type": "stream",
     "text": [
      "Processing Movies:  89%|████████▉ | 3780/4248 [6:45:45<48:51,  6.26s/it]"
     ]
    },
    {
     "name": "stdout",
     "output_type": "stream",
     "text": [
      "Checkpoint saved to movie_metadata_checkpoint.csv\n"
     ]
    },
    {
     "name": "stderr",
     "output_type": "stream",
     "text": [
      "Processing Movies:  89%|████████▉ | 3790/4248 [6:46:45<46:10,  6.05s/it]"
     ]
    },
    {
     "name": "stdout",
     "output_type": "stream",
     "text": [
      "Checkpoint saved to movie_metadata_checkpoint.csv\n"
     ]
    },
    {
     "name": "stderr",
     "output_type": "stream",
     "text": [
      "Processing Movies:  89%|████████▉ | 3800/4248 [6:47:55<55:28,  7.43s/it]"
     ]
    },
    {
     "name": "stdout",
     "output_type": "stream",
     "text": [
      "Checkpoint saved to movie_metadata_checkpoint.csv\n"
     ]
    },
    {
     "name": "stderr",
     "output_type": "stream",
     "text": [
      "Processing Movies:  90%|████████▉ | 3810/4248 [6:49:01<49:44,  6.81s/it]"
     ]
    },
    {
     "name": "stdout",
     "output_type": "stream",
     "text": [
      "Checkpoint saved to movie_metadata_checkpoint.csv\n"
     ]
    },
    {
     "name": "stderr",
     "output_type": "stream",
     "text": [
      "Processing Movies:  90%|████████▉ | 3820/4248 [6:50:13<51:26,  7.21s/it]"
     ]
    },
    {
     "name": "stdout",
     "output_type": "stream",
     "text": [
      "Checkpoint saved to movie_metadata_checkpoint.csv\n"
     ]
    },
    {
     "name": "stderr",
     "output_type": "stream",
     "text": [
      "Processing Movies:  90%|█████████ | 3830/4248 [6:51:11<42:14,  6.06s/it]"
     ]
    },
    {
     "name": "stdout",
     "output_type": "stream",
     "text": [
      "Checkpoint saved to movie_metadata_checkpoint.csv\n"
     ]
    },
    {
     "name": "stderr",
     "output_type": "stream",
     "text": [
      "Processing Movies:  90%|█████████ | 3840/4248 [6:52:07<44:03,  6.48s/it]"
     ]
    },
    {
     "name": "stdout",
     "output_type": "stream",
     "text": [
      "Checkpoint saved to movie_metadata_checkpoint.csv\n"
     ]
    },
    {
     "name": "stderr",
     "output_type": "stream",
     "text": [
      "Processing Movies:  91%|█████████ | 3850/4248 [6:53:05<40:10,  6.06s/it]"
     ]
    },
    {
     "name": "stdout",
     "output_type": "stream",
     "text": [
      "Checkpoint saved to movie_metadata_checkpoint.csv\n"
     ]
    },
    {
     "name": "stderr",
     "output_type": "stream",
     "text": [
      "Processing Movies:  91%|█████████ | 3860/4248 [6:54:19<49:23,  7.64s/it]"
     ]
    },
    {
     "name": "stdout",
     "output_type": "stream",
     "text": [
      "Checkpoint saved to movie_metadata_checkpoint.csv\n"
     ]
    },
    {
     "name": "stderr",
     "output_type": "stream",
     "text": [
      "Processing Movies:  91%|█████████ | 3870/4248 [6:55:23<38:25,  6.10s/it]"
     ]
    },
    {
     "name": "stdout",
     "output_type": "stream",
     "text": [
      "Checkpoint saved to movie_metadata_checkpoint.csv\n"
     ]
    },
    {
     "name": "stderr",
     "output_type": "stream",
     "text": [
      "Processing Movies:  91%|█████████▏| 3880/4248 [6:56:30<36:30,  5.95s/it]"
     ]
    },
    {
     "name": "stdout",
     "output_type": "stream",
     "text": [
      "Checkpoint saved to movie_metadata_checkpoint.csv\n"
     ]
    },
    {
     "name": "stderr",
     "output_type": "stream",
     "text": [
      "Processing Movies:  92%|█████████▏| 3890/4248 [6:57:21<32:53,  5.51s/it]"
     ]
    },
    {
     "name": "stdout",
     "output_type": "stream",
     "text": [
      "Checkpoint saved to movie_metadata_checkpoint.csv\n"
     ]
    },
    {
     "name": "stderr",
     "output_type": "stream",
     "text": [
      "Processing Movies:  92%|█████████▏| 3900/4248 [6:58:31<40:14,  6.94s/it]"
     ]
    },
    {
     "name": "stdout",
     "output_type": "stream",
     "text": [
      "Checkpoint saved to movie_metadata_checkpoint.csv\n"
     ]
    },
    {
     "name": "stderr",
     "output_type": "stream",
     "text": [
      "Processing Movies:  92%|█████████▏| 3910/4248 [6:59:42<40:25,  7.18s/it]"
     ]
    },
    {
     "name": "stdout",
     "output_type": "stream",
     "text": [
      "Checkpoint saved to movie_metadata_checkpoint.csv\n"
     ]
    },
    {
     "name": "stderr",
     "output_type": "stream",
     "text": [
      "Processing Movies:  92%|█████████▏| 3920/4248 [7:00:57<42:39,  7.80s/it]"
     ]
    },
    {
     "name": "stdout",
     "output_type": "stream",
     "text": [
      "Checkpoint saved to movie_metadata_checkpoint.csv\n"
     ]
    },
    {
     "name": "stderr",
     "output_type": "stream",
     "text": [
      "Processing Movies:  93%|█████████▎| 3930/4248 [7:01:51<35:39,  6.73s/it]"
     ]
    },
    {
     "name": "stdout",
     "output_type": "stream",
     "text": [
      "Checkpoint saved to movie_metadata_checkpoint.csv\n"
     ]
    },
    {
     "name": "stderr",
     "output_type": "stream",
     "text": [
      "Processing Movies:  93%|█████████▎| 3940/4248 [7:02:56<36:46,  7.16s/it]"
     ]
    },
    {
     "name": "stdout",
     "output_type": "stream",
     "text": [
      "Checkpoint saved to movie_metadata_checkpoint.csv\n"
     ]
    },
    {
     "name": "stderr",
     "output_type": "stream",
     "text": [
      "Processing Movies:  93%|█████████▎| 3950/4248 [7:03:41<25:40,  5.17s/it]"
     ]
    },
    {
     "name": "stdout",
     "output_type": "stream",
     "text": [
      "Checkpoint saved to movie_metadata_checkpoint.csv\n"
     ]
    },
    {
     "name": "stderr",
     "output_type": "stream",
     "text": [
      "Processing Movies:  93%|█████████▎| 3960/4248 [7:04:28<25:36,  5.34s/it]"
     ]
    },
    {
     "name": "stdout",
     "output_type": "stream",
     "text": [
      "Checkpoint saved to movie_metadata_checkpoint.csv\n"
     ]
    },
    {
     "name": "stderr",
     "output_type": "stream",
     "text": [
      "Processing Movies:  93%|█████████▎| 3970/4248 [7:05:30<31:51,  6.88s/it]"
     ]
    },
    {
     "name": "stdout",
     "output_type": "stream",
     "text": [
      "Checkpoint saved to movie_metadata_checkpoint.csv\n"
     ]
    },
    {
     "name": "stderr",
     "output_type": "stream",
     "text": [
      "Processing Movies:  94%|█████████▎| 3980/4248 [7:06:28<29:32,  6.61s/it]"
     ]
    },
    {
     "name": "stdout",
     "output_type": "stream",
     "text": [
      "Checkpoint saved to movie_metadata_checkpoint.csv\n"
     ]
    },
    {
     "name": "stderr",
     "output_type": "stream",
     "text": [
      "Processing Movies:  94%|█████████▍| 3990/4248 [7:07:11<16:13,  3.77s/it]"
     ]
    },
    {
     "name": "stdout",
     "output_type": "stream",
     "text": [
      "Checkpoint saved to movie_metadata_checkpoint.csv\n"
     ]
    },
    {
     "name": "stderr",
     "output_type": "stream",
     "text": [
      "Processing Movies:  94%|█████████▍| 4000/4248 [7:08:01<17:44,  4.29s/it]"
     ]
    },
    {
     "name": "stdout",
     "output_type": "stream",
     "text": [
      "Checkpoint saved to movie_metadata_checkpoint.csv\n"
     ]
    },
    {
     "name": "stderr",
     "output_type": "stream",
     "text": [
      "Processing Movies:  94%|█████████▍| 4010/4248 [7:08:40<18:09,  4.58s/it]"
     ]
    },
    {
     "name": "stdout",
     "output_type": "stream",
     "text": [
      "Checkpoint saved to movie_metadata_checkpoint.csv\n"
     ]
    },
    {
     "name": "stderr",
     "output_type": "stream",
     "text": [
      "Processing Movies:  95%|█████████▍| 4020/4248 [7:09:26<22:35,  5.94s/it]"
     ]
    },
    {
     "name": "stdout",
     "output_type": "stream",
     "text": [
      "Checkpoint saved to movie_metadata_checkpoint.csv\n"
     ]
    },
    {
     "name": "stderr",
     "output_type": "stream",
     "text": [
      "Processing Movies:  95%|█████████▍| 4030/4248 [7:10:31<26:13,  7.22s/it]"
     ]
    },
    {
     "name": "stdout",
     "output_type": "stream",
     "text": [
      "Checkpoint saved to movie_metadata_checkpoint.csv\n"
     ]
    },
    {
     "name": "stderr",
     "output_type": "stream",
     "text": [
      "Processing Movies:  95%|█████████▌| 4040/4248 [7:11:44<26:56,  7.77s/it]"
     ]
    },
    {
     "name": "stdout",
     "output_type": "stream",
     "text": [
      "Checkpoint saved to movie_metadata_checkpoint.csv\n"
     ]
    },
    {
     "name": "stderr",
     "output_type": "stream",
     "text": [
      "Processing Movies:  95%|█████████▌| 4050/4248 [7:13:07<28:49,  8.73s/it]"
     ]
    },
    {
     "name": "stdout",
     "output_type": "stream",
     "text": [
      "Checkpoint saved to movie_metadata_checkpoint.csv\n"
     ]
    },
    {
     "name": "stderr",
     "output_type": "stream",
     "text": [
      "Processing Movies:  96%|█████████▌| 4060/4248 [7:14:31<24:38,  7.86s/it]"
     ]
    },
    {
     "name": "stdout",
     "output_type": "stream",
     "text": [
      "Checkpoint saved to movie_metadata_checkpoint.csv\n"
     ]
    },
    {
     "name": "stderr",
     "output_type": "stream",
     "text": [
      "Processing Movies:  96%|█████████▌| 4070/4248 [7:15:53<24:33,  8.28s/it]"
     ]
    },
    {
     "name": "stdout",
     "output_type": "stream",
     "text": [
      "Checkpoint saved to movie_metadata_checkpoint.csv\n"
     ]
    },
    {
     "name": "stderr",
     "output_type": "stream",
     "text": [
      "Processing Movies:  96%|█████████▌| 4080/4248 [7:17:07<19:57,  7.13s/it]"
     ]
    },
    {
     "name": "stdout",
     "output_type": "stream",
     "text": [
      "Checkpoint saved to movie_metadata_checkpoint.csv\n"
     ]
    },
    {
     "name": "stderr",
     "output_type": "stream",
     "text": [
      "Processing Movies:  96%|█████████▋| 4090/4248 [7:18:08<18:21,  6.97s/it]"
     ]
    },
    {
     "name": "stdout",
     "output_type": "stream",
     "text": [
      "Checkpoint saved to movie_metadata_checkpoint.csv\n"
     ]
    },
    {
     "name": "stderr",
     "output_type": "stream",
     "text": [
      "Processing Movies:  97%|█████████▋| 4100/4248 [7:19:16<17:18,  7.02s/it]"
     ]
    },
    {
     "name": "stdout",
     "output_type": "stream",
     "text": [
      "Checkpoint saved to movie_metadata_checkpoint.csv\n"
     ]
    },
    {
     "name": "stderr",
     "output_type": "stream",
     "text": [
      "Processing Movies:  97%|█████████▋| 4110/4248 [7:20:18<14:24,  6.27s/it]"
     ]
    },
    {
     "name": "stdout",
     "output_type": "stream",
     "text": [
      "Checkpoint saved to movie_metadata_checkpoint.csv\n"
     ]
    },
    {
     "name": "stderr",
     "output_type": "stream",
     "text": [
      "Processing Movies:  97%|█████████▋| 4120/4248 [7:21:15<11:30,  5.40s/it]"
     ]
    },
    {
     "name": "stdout",
     "output_type": "stream",
     "text": [
      "Checkpoint saved to movie_metadata_checkpoint.csv\n"
     ]
    },
    {
     "name": "stderr",
     "output_type": "stream",
     "text": [
      "Processing Movies:  97%|█████████▋| 4130/4248 [7:22:14<13:43,  6.98s/it]"
     ]
    },
    {
     "name": "stdout",
     "output_type": "stream",
     "text": [
      "Checkpoint saved to movie_metadata_checkpoint.csv\n"
     ]
    },
    {
     "name": "stderr",
     "output_type": "stream",
     "text": [
      "Processing Movies:  97%|█████████▋| 4140/4248 [7:23:08<08:31,  4.74s/it]"
     ]
    },
    {
     "name": "stdout",
     "output_type": "stream",
     "text": [
      "Checkpoint saved to movie_metadata_checkpoint.csv\n"
     ]
    },
    {
     "name": "stderr",
     "output_type": "stream",
     "text": [
      "Processing Movies:  98%|█████████▊| 4150/4248 [7:24:08<09:15,  5.67s/it]"
     ]
    },
    {
     "name": "stdout",
     "output_type": "stream",
     "text": [
      "Checkpoint saved to movie_metadata_checkpoint.csv\n"
     ]
    },
    {
     "name": "stderr",
     "output_type": "stream",
     "text": [
      "Processing Movies:  98%|█████████▊| 4160/4248 [7:25:20<10:48,  7.36s/it]"
     ]
    },
    {
     "name": "stdout",
     "output_type": "stream",
     "text": [
      "Checkpoint saved to movie_metadata_checkpoint.csv\n"
     ]
    },
    {
     "name": "stderr",
     "output_type": "stream",
     "text": [
      "Processing Movies:  98%|█████████▊| 4170/4248 [7:26:26<09:34,  7.36s/it]"
     ]
    },
    {
     "name": "stdout",
     "output_type": "stream",
     "text": [
      "Checkpoint saved to movie_metadata_checkpoint.csv\n"
     ]
    },
    {
     "name": "stderr",
     "output_type": "stream",
     "text": [
      "Processing Movies:  98%|█████████▊| 4180/4248 [7:27:42<08:36,  7.60s/it]"
     ]
    },
    {
     "name": "stdout",
     "output_type": "stream",
     "text": [
      "Checkpoint saved to movie_metadata_checkpoint.csv\n"
     ]
    },
    {
     "name": "stderr",
     "output_type": "stream",
     "text": [
      "Processing Movies:  99%|█████████▊| 4190/4248 [7:28:33<04:28,  4.63s/it]"
     ]
    },
    {
     "name": "stdout",
     "output_type": "stream",
     "text": [
      "Checkpoint saved to movie_metadata_checkpoint.csv\n"
     ]
    },
    {
     "name": "stderr",
     "output_type": "stream",
     "text": [
      "Processing Movies:  99%|█████████▉| 4200/4248 [7:29:35<04:40,  5.84s/it]"
     ]
    },
    {
     "name": "stdout",
     "output_type": "stream",
     "text": [
      "Checkpoint saved to movie_metadata_checkpoint.csv\n"
     ]
    },
    {
     "name": "stderr",
     "output_type": "stream",
     "text": [
      "Processing Movies:  99%|█████████▉| 4210/4248 [7:30:31<03:16,  5.16s/it]"
     ]
    },
    {
     "name": "stdout",
     "output_type": "stream",
     "text": [
      "Checkpoint saved to movie_metadata_checkpoint.csv\n"
     ]
    },
    {
     "name": "stderr",
     "output_type": "stream",
     "text": [
      "Processing Movies:  99%|█████████▉| 4220/4248 [7:31:22<02:08,  4.58s/it]"
     ]
    },
    {
     "name": "stdout",
     "output_type": "stream",
     "text": [
      "Checkpoint saved to movie_metadata_checkpoint.csv\n"
     ]
    },
    {
     "name": "stderr",
     "output_type": "stream",
     "text": [
      "Processing Movies: 100%|█████████▉| 4230/4248 [7:32:03<01:22,  4.57s/it]"
     ]
    },
    {
     "name": "stdout",
     "output_type": "stream",
     "text": [
      "Checkpoint saved to movie_metadata_checkpoint.csv\n"
     ]
    },
    {
     "name": "stderr",
     "output_type": "stream",
     "text": [
      "Processing Movies: 100%|█████████▉| 4240/4248 [7:32:52<00:38,  4.76s/it]"
     ]
    },
    {
     "name": "stdout",
     "output_type": "stream",
     "text": [
      "Checkpoint saved to movie_metadata_checkpoint.csv\n"
     ]
    },
    {
     "name": "stderr",
     "output_type": "stream",
     "text": [
      "Processing Movies: 100%|██████████| 4248/4248 [7:33:40<00:00,  6.41s/it]\n"
     ]
    },
    {
     "name": "stdout",
     "output_type": "stream",
     "text": [
      "Checkpoint saved to movie_metadata_checkpoint.csv\n"
     ]
    }
   ],
   "source": [
    "# Scrape reviews from user urls\n",
    "if __name__ == \"__main__\":\n",
    "    driver = initialize_driver()\n",
    "    try:\n",
    "        # load checkpoint\n",
    "        existing_metadata_df = load_existing_metadata()\n",
    "        # Scrape the metadata\n",
    "        metadata_df = scrape_movie_metadata(movie_urls, driver, checkpoint_filename=\"movie_metadata_checkpoint.csv\", existing_metadata=existing_metadata_df)\n",
    "        metadata_df.to_csv('movie_metadata.csv', index=False)\n",
    "    finally:\n",
    "        driver.quit()  # Ensure the driver is closed after usage"
   ]
  },
  {
   "cell_type": "code",
   "execution_count": 11,
   "id": "64ee6667",
   "metadata": {
    "execution": {
     "iopub.execute_input": "2024-09-02T23:51:41.998875Z",
     "iopub.status.busy": "2024-09-02T23:51:41.994518Z",
     "iopub.status.idle": "2024-09-02T23:51:42.095112Z",
     "shell.execute_reply": "2024-09-02T23:51:42.090665Z"
    },
    "papermill": {
     "duration": 1.32572,
     "end_time": "2024-09-02T23:51:42.107920",
     "exception": false,
     "start_time": "2024-09-02T23:51:40.782200",
     "status": "completed"
    },
    "tags": []
   },
   "outputs": [
    {
     "data": {
      "text/html": [
       "<div>\n",
       "<style scoped>\n",
       "    .dataframe tbody tr th:only-of-type {\n",
       "        vertical-align: middle;\n",
       "    }\n",
       "\n",
       "    .dataframe tbody tr th {\n",
       "        vertical-align: top;\n",
       "    }\n",
       "\n",
       "    .dataframe thead th {\n",
       "        text-align: right;\n",
       "    }\n",
       "</style>\n",
       "<table border=\"1\" class=\"dataframe\">\n",
       "  <thead>\n",
       "    <tr style=\"text-align: right;\">\n",
       "      <th></th>\n",
       "      <th>watches</th>\n",
       "      <th>likes</th>\n",
       "      <th>lists</th>\n",
       "      <th>synopsis</th>\n",
       "      <th>fans</th>\n",
       "      <th>average_rating</th>\n",
       "      <th>total_ratings</th>\n",
       "      <th>rating_distribution</th>\n",
       "      <th>genres</th>\n",
       "      <th>movie_url</th>\n",
       "    </tr>\n",
       "  </thead>\n",
       "  <tbody>\n",
       "    <tr>\n",
       "      <th>0</th>\n",
       "      <td>219784.0</td>\n",
       "      <td>61820.0</td>\n",
       "      <td>58512.0</td>\n",
       "      <td>After a chance encounter at a local bar, stron...</td>\n",
       "      <td>472.0</td>\n",
       "      <td>3.40</td>\n",
       "      <td>192854.0</td>\n",
       "      <td>[0.0019392908625177595, 0.0067149242432098894,...</td>\n",
       "      <td>[Crime, Drama]</td>\n",
       "      <td>https://letterboxd.com/film/the-bikeriders/</td>\n",
       "    </tr>\n",
       "    <tr>\n",
       "      <th>1</th>\n",
       "      <td>25534.0</td>\n",
       "      <td>8856.0</td>\n",
       "      <td>19728.0</td>\n",
       "      <td>Three days into his Miami honeymoon with needy...</td>\n",
       "      <td>291.0</td>\n",
       "      <td>3.93</td>\n",
       "      <td>18023.0</td>\n",
       "      <td>[0.0021639016811851523, 0.004716195971813794, ...</td>\n",
       "      <td>[Romance, Comedy]</td>\n",
       "      <td>https://letterboxd.com/film/the-heartbreak-kid...</td>\n",
       "    </tr>\n",
       "    <tr>\n",
       "      <th>2</th>\n",
       "      <td>25089.0</td>\n",
       "      <td>8498.0</td>\n",
       "      <td>15777.0</td>\n",
       "      <td>An independent woman can’t choose between the ...</td>\n",
       "      <td>227.0</td>\n",
       "      <td>3.90</td>\n",
       "      <td>17118.0</td>\n",
       "      <td>[0.0009346886318495151, 0.002511975698095572, ...</td>\n",
       "      <td>[Comedy, Romance]</td>\n",
       "      <td>https://letterboxd.com/film/design-for-living/</td>\n",
       "    </tr>\n",
       "    <tr>\n",
       "      <th>3</th>\n",
       "      <td>36763.0</td>\n",
       "      <td>4655.0</td>\n",
       "      <td>10914.0</td>\n",
       "      <td>An oil company expedition disturbs the peace o...</td>\n",
       "      <td>17.0</td>\n",
       "      <td>2.94</td>\n",
       "      <td>21139.0</td>\n",
       "      <td>[0.007379724679502341, 0.026396707507450684, 0...</td>\n",
       "      <td>[Fantasy, Adventure]</td>\n",
       "      <td>https://letterboxd.com/film/king-kong-1976/</td>\n",
       "    </tr>\n",
       "    <tr>\n",
       "      <th>4</th>\n",
       "      <td>8341.0</td>\n",
       "      <td>2233.0</td>\n",
       "      <td>1360.0</td>\n",
       "      <td>A little monkey fakes death to evade the law.</td>\n",
       "      <td>NaN</td>\n",
       "      <td>3.63</td>\n",
       "      <td>3653.0</td>\n",
       "      <td>[0.004106214070626882, 0.005748699698877635, 0...</td>\n",
       "      <td>[Animation]</td>\n",
       "      <td>https://letterboxd.com/film/bobo-the-monkey/</td>\n",
       "    </tr>\n",
       "  </tbody>\n",
       "</table>\n",
       "</div>"
      ],
      "text/plain": [
       "    watches    likes    lists  \\\n",
       "0  219784.0  61820.0  58512.0   \n",
       "1   25534.0   8856.0  19728.0   \n",
       "2   25089.0   8498.0  15777.0   \n",
       "3   36763.0   4655.0  10914.0   \n",
       "4    8341.0   2233.0   1360.0   \n",
       "\n",
       "                                            synopsis   fans  average_rating  \\\n",
       "0  After a chance encounter at a local bar, stron...  472.0            3.40   \n",
       "1  Three days into his Miami honeymoon with needy...  291.0            3.93   \n",
       "2  An independent woman can’t choose between the ...  227.0            3.90   \n",
       "3  An oil company expedition disturbs the peace o...   17.0            2.94   \n",
       "4      A little monkey fakes death to evade the law.    NaN            3.63   \n",
       "\n",
       "   total_ratings                                rating_distribution  \\\n",
       "0       192854.0  [0.0019392908625177595, 0.0067149242432098894,...   \n",
       "1        18023.0  [0.0021639016811851523, 0.004716195971813794, ...   \n",
       "2        17118.0  [0.0009346886318495151, 0.002511975698095572, ...   \n",
       "3        21139.0  [0.007379724679502341, 0.026396707507450684, 0...   \n",
       "4         3653.0  [0.004106214070626882, 0.005748699698877635, 0...   \n",
       "\n",
       "                 genres                                          movie_url  \n",
       "0        [Crime, Drama]        https://letterboxd.com/film/the-bikeriders/  \n",
       "1     [Romance, Comedy]  https://letterboxd.com/film/the-heartbreak-kid...  \n",
       "2     [Comedy, Romance]     https://letterboxd.com/film/design-for-living/  \n",
       "3  [Fantasy, Adventure]        https://letterboxd.com/film/king-kong-1976/  \n",
       "4           [Animation]       https://letterboxd.com/film/bobo-the-monkey/  "
      ]
     },
     "execution_count": 11,
     "metadata": {},
     "output_type": "execute_result"
    }
   ],
   "source": [
    "# Display the DataFrame\n",
    "metadata_df.head()"
   ]
  },
  {
   "cell_type": "markdown",
   "id": "32838d49",
   "metadata": {
    "papermill": {
     "duration": 0.706768,
     "end_time": "2024-09-02T23:51:44.177812",
     "exception": false,
     "start_time": "2024-09-02T23:51:43.471044",
     "status": "completed"
    },
    "tags": []
   },
   "source": [
    "# 5) Add movie metadata to user reviews"
   ]
  },
  {
   "cell_type": "code",
   "execution_count": 12,
   "id": "18ef6de8",
   "metadata": {
    "execution": {
     "iopub.execute_input": "2024-09-02T23:51:45.574883Z",
     "iopub.status.busy": "2024-09-02T23:51:45.574378Z",
     "iopub.status.idle": "2024-09-02T23:51:46.557269Z",
     "shell.execute_reply": "2024-09-02T23:51:46.555314Z"
    },
    "papermill": {
     "duration": 1.750128,
     "end_time": "2024-09-02T23:51:46.562063",
     "exception": false,
     "start_time": "2024-09-02T23:51:44.811935",
     "status": "completed"
    },
    "tags": []
   },
   "outputs": [],
   "source": [
    "user_reviews_with_metadata = pd.merge(user_reviews, metadata_df, on='movie_url', how='left')\n",
    "user_reviews_with_metadata.to_csv('user_reviews_with_metadata.csv', index=False)"
   ]
  },
  {
   "cell_type": "code",
   "execution_count": 13,
   "id": "58c4dd60",
   "metadata": {
    "execution": {
     "iopub.execute_input": "2024-09-02T23:51:47.758900Z",
     "iopub.status.busy": "2024-09-02T23:51:47.758394Z",
     "iopub.status.idle": "2024-09-02T23:51:47.793964Z",
     "shell.execute_reply": "2024-09-02T23:51:47.792593Z"
    },
    "papermill": {
     "duration": 0.639682,
     "end_time": "2024-09-02T23:51:47.798106",
     "exception": false,
     "start_time": "2024-09-02T23:51:47.158424",
     "status": "completed"
    },
    "tags": []
   },
   "outputs": [
    {
     "name": "stdout",
     "output_type": "stream",
     "text": [
      "(10000, 19)\n"
     ]
    },
    {
     "data": {
      "text/html": [
       "<div>\n",
       "<style scoped>\n",
       "    .dataframe tbody tr th:only-of-type {\n",
       "        vertical-align: middle;\n",
       "    }\n",
       "\n",
       "    .dataframe tbody tr th {\n",
       "        vertical-align: top;\n",
       "    }\n",
       "\n",
       "    .dataframe thead th {\n",
       "        text-align: right;\n",
       "    }\n",
       "</style>\n",
       "<table border=\"1\" class=\"dataframe\">\n",
       "  <thead>\n",
       "    <tr style=\"text-align: right;\">\n",
       "      <th></th>\n",
       "      <th>movie_title</th>\n",
       "      <th>movie_user_url</th>\n",
       "      <th>review_text</th>\n",
       "      <th>rating</th>\n",
       "      <th>review_date</th>\n",
       "      <th>movie_year</th>\n",
       "      <th>liked</th>\n",
       "      <th>user_url</th>\n",
       "      <th>username</th>\n",
       "      <th>movie_url</th>\n",
       "      <th>watches</th>\n",
       "      <th>likes</th>\n",
       "      <th>lists</th>\n",
       "      <th>synopsis</th>\n",
       "      <th>fans</th>\n",
       "      <th>average_rating</th>\n",
       "      <th>total_ratings</th>\n",
       "      <th>rating_distribution</th>\n",
       "      <th>genres</th>\n",
       "    </tr>\n",
       "  </thead>\n",
       "  <tbody>\n",
       "    <tr>\n",
       "      <th>0</th>\n",
       "      <td>The Bikeriders</td>\n",
       "      <td>https://letterboxd.com/kurstboy/film/the-biker...</td>\n",
       "      <td>michael shannon knocks it out of the park as a...</td>\n",
       "      <td>0.7</td>\n",
       "      <td>Watched 01 Sep 2024</td>\n",
       "      <td>2023.0</td>\n",
       "      <td>True</td>\n",
       "      <td>https://letterboxd.com/kurstboy/</td>\n",
       "      <td>kurstboy</td>\n",
       "      <td>https://letterboxd.com/film/the-bikeriders/</td>\n",
       "      <td>219784.0</td>\n",
       "      <td>61820.0</td>\n",
       "      <td>58512.0</td>\n",
       "      <td>After a chance encounter at a local bar, stron...</td>\n",
       "      <td>472.0</td>\n",
       "      <td>3.40</td>\n",
       "      <td>192854.0</td>\n",
       "      <td>[0.0019392908625177595, 0.0067149242432098894,...</td>\n",
       "      <td>[Crime, Drama]</td>\n",
       "    </tr>\n",
       "    <tr>\n",
       "      <th>1</th>\n",
       "      <td>The Heartbreak Kid</td>\n",
       "      <td>https://letterboxd.com/kurstboy/film/the-heart...</td>\n",
       "      <td>40 to 50 out of 5 stars</td>\n",
       "      <td>1.0</td>\n",
       "      <td>Rewatched 28 Aug 2024</td>\n",
       "      <td>1972.0</td>\n",
       "      <td>True</td>\n",
       "      <td>https://letterboxd.com/kurstboy/</td>\n",
       "      <td>kurstboy</td>\n",
       "      <td>https://letterboxd.com/film/the-heartbreak-kid...</td>\n",
       "      <td>25534.0</td>\n",
       "      <td>8856.0</td>\n",
       "      <td>19728.0</td>\n",
       "      <td>Three days into his Miami honeymoon with needy...</td>\n",
       "      <td>291.0</td>\n",
       "      <td>3.93</td>\n",
       "      <td>18023.0</td>\n",
       "      <td>[0.0021639016811851523, 0.004716195971813794, ...</td>\n",
       "      <td>[Romance, Comedy]</td>\n",
       "    </tr>\n",
       "    <tr>\n",
       "      <th>2</th>\n",
       "      <td>Design for Living</td>\n",
       "      <td>https://letterboxd.com/kurstboy/film/design-fo...</td>\n",
       "      <td>lubitsch just knows how to get it done</td>\n",
       "      <td>0.9</td>\n",
       "      <td>Watched 27 Aug 2024</td>\n",
       "      <td>1933.0</td>\n",
       "      <td>True</td>\n",
       "      <td>https://letterboxd.com/kurstboy/</td>\n",
       "      <td>kurstboy</td>\n",
       "      <td>https://letterboxd.com/film/design-for-living/</td>\n",
       "      <td>25089.0</td>\n",
       "      <td>8498.0</td>\n",
       "      <td>15777.0</td>\n",
       "      <td>An independent woman can’t choose between the ...</td>\n",
       "      <td>227.0</td>\n",
       "      <td>3.90</td>\n",
       "      <td>17118.0</td>\n",
       "      <td>[0.0009346886318495151, 0.002511975698095572, ...</td>\n",
       "      <td>[Comedy, Romance]</td>\n",
       "    </tr>\n",
       "    <tr>\n",
       "      <th>3</th>\n",
       "      <td>King Kong</td>\n",
       "      <td>https://letterboxd.com/kurstboy/film/king-kong...</td>\n",
       "      <td>monkey mondays #34\\nkind of flabbergasted at h...</td>\n",
       "      <td>0.8</td>\n",
       "      <td>Watched 26 Aug 2024</td>\n",
       "      <td>1976.0</td>\n",
       "      <td>True</td>\n",
       "      <td>https://letterboxd.com/kurstboy/</td>\n",
       "      <td>kurstboy</td>\n",
       "      <td>https://letterboxd.com/film/king-kong-1976/</td>\n",
       "      <td>36763.0</td>\n",
       "      <td>4655.0</td>\n",
       "      <td>10914.0</td>\n",
       "      <td>An oil company expedition disturbs the peace o...</td>\n",
       "      <td>17.0</td>\n",
       "      <td>2.94</td>\n",
       "      <td>21139.0</td>\n",
       "      <td>[0.007379724679502341, 0.026396707507450684, 0...</td>\n",
       "      <td>[Fantasy, Adventure]</td>\n",
       "    </tr>\n",
       "    <tr>\n",
       "      <th>4</th>\n",
       "      <td>Bobo the Monkey</td>\n",
       "      <td>https://letterboxd.com/kurstboy/film/bobo-the-...</td>\n",
       "      <td>monkey mondays #33</td>\n",
       "      <td>0.8</td>\n",
       "      <td>Watched 19 Aug 2024</td>\n",
       "      <td>2021.0</td>\n",
       "      <td>True</td>\n",
       "      <td>https://letterboxd.com/kurstboy/</td>\n",
       "      <td>kurstboy</td>\n",
       "      <td>https://letterboxd.com/film/bobo-the-monkey/</td>\n",
       "      <td>8341.0</td>\n",
       "      <td>2233.0</td>\n",
       "      <td>1360.0</td>\n",
       "      <td>A little monkey fakes death to evade the law.</td>\n",
       "      <td>NaN</td>\n",
       "      <td>3.63</td>\n",
       "      <td>3653.0</td>\n",
       "      <td>[0.004106214070626882, 0.005748699698877635, 0...</td>\n",
       "      <td>[Animation]</td>\n",
       "    </tr>\n",
       "  </tbody>\n",
       "</table>\n",
       "</div>"
      ],
      "text/plain": [
       "          movie_title                                     movie_user_url  \\\n",
       "0      The Bikeriders  https://letterboxd.com/kurstboy/film/the-biker...   \n",
       "1  The Heartbreak Kid  https://letterboxd.com/kurstboy/film/the-heart...   \n",
       "2   Design for Living  https://letterboxd.com/kurstboy/film/design-fo...   \n",
       "3           King Kong  https://letterboxd.com/kurstboy/film/king-kong...   \n",
       "4     Bobo the Monkey  https://letterboxd.com/kurstboy/film/bobo-the-...   \n",
       "\n",
       "                                         review_text  rating  \\\n",
       "0  michael shannon knocks it out of the park as a...     0.7   \n",
       "1                            40 to 50 out of 5 stars     1.0   \n",
       "2             lubitsch just knows how to get it done     0.9   \n",
       "3  monkey mondays #34\\nkind of flabbergasted at h...     0.8   \n",
       "4                                 monkey mondays #33     0.8   \n",
       "\n",
       "             review_date  movie_year  liked                          user_url  \\\n",
       "0    Watched 01 Sep 2024      2023.0   True  https://letterboxd.com/kurstboy/   \n",
       "1  Rewatched 28 Aug 2024      1972.0   True  https://letterboxd.com/kurstboy/   \n",
       "2    Watched 27 Aug 2024      1933.0   True  https://letterboxd.com/kurstboy/   \n",
       "3    Watched 26 Aug 2024      1976.0   True  https://letterboxd.com/kurstboy/   \n",
       "4    Watched 19 Aug 2024      2021.0   True  https://letterboxd.com/kurstboy/   \n",
       "\n",
       "   username                                          movie_url   watches  \\\n",
       "0  kurstboy        https://letterboxd.com/film/the-bikeriders/  219784.0   \n",
       "1  kurstboy  https://letterboxd.com/film/the-heartbreak-kid...   25534.0   \n",
       "2  kurstboy     https://letterboxd.com/film/design-for-living/   25089.0   \n",
       "3  kurstboy        https://letterboxd.com/film/king-kong-1976/   36763.0   \n",
       "4  kurstboy       https://letterboxd.com/film/bobo-the-monkey/    8341.0   \n",
       "\n",
       "     likes    lists                                           synopsis   fans  \\\n",
       "0  61820.0  58512.0  After a chance encounter at a local bar, stron...  472.0   \n",
       "1   8856.0  19728.0  Three days into his Miami honeymoon with needy...  291.0   \n",
       "2   8498.0  15777.0  An independent woman can’t choose between the ...  227.0   \n",
       "3   4655.0  10914.0  An oil company expedition disturbs the peace o...   17.0   \n",
       "4   2233.0   1360.0      A little monkey fakes death to evade the law.    NaN   \n",
       "\n",
       "   average_rating  total_ratings  \\\n",
       "0            3.40       192854.0   \n",
       "1            3.93        18023.0   \n",
       "2            3.90        17118.0   \n",
       "3            2.94        21139.0   \n",
       "4            3.63         3653.0   \n",
       "\n",
       "                                 rating_distribution                genres  \n",
       "0  [0.0019392908625177595, 0.0067149242432098894,...        [Crime, Drama]  \n",
       "1  [0.0021639016811851523, 0.004716195971813794, ...     [Romance, Comedy]  \n",
       "2  [0.0009346886318495151, 0.002511975698095572, ...     [Comedy, Romance]  \n",
       "3  [0.007379724679502341, 0.026396707507450684, 0...  [Fantasy, Adventure]  \n",
       "4  [0.004106214070626882, 0.005748699698877635, 0...           [Animation]  "
      ]
     },
     "execution_count": 13,
     "metadata": {},
     "output_type": "execute_result"
    }
   ],
   "source": [
    "print(user_reviews_with_metadata.shape)\n",
    "user_reviews_with_metadata.head()"
   ]
  },
  {
   "cell_type": "code",
   "execution_count": null,
   "id": "891aa4e2",
   "metadata": {
    "papermill": {
     "duration": 0.591798,
     "end_time": "2024-09-02T23:51:49.037344",
     "exception": false,
     "start_time": "2024-09-02T23:51:48.445546",
     "status": "completed"
    },
    "tags": []
   },
   "outputs": [],
   "source": []
  }
 ],
 "metadata": {
  "kaggle": {
   "accelerator": "none",
   "dataSources": [
    {
     "sourceId": 195023362,
     "sourceType": "kernelVersion"
    },
    {
     "sourceId": 195023541,
     "sourceType": "kernelVersion"
    }
   ],
   "dockerImageVersionId": 30635,
   "isGpuEnabled": false,
   "isInternetEnabled": true,
   "language": "python",
   "sourceType": "notebook"
  },
  "kernelspec": {
   "display_name": "Python 3",
   "language": "python",
   "name": "python3"
  },
  "language_info": {
   "codemirror_mode": {
    "name": "ipython",
    "version": 3
   },
   "file_extension": ".py",
   "mimetype": "text/x-python",
   "name": "python",
   "nbconvert_exporter": "python",
   "pygments_lexer": "ipython3",
   "version": "3.10.12"
  },
  "papermill": {
   "default_parameters": {},
   "duration": 27334.037702,
   "end_time": "2024-09-02T23:51:51.078275",
   "environment_variables": {},
   "exception": null,
   "input_path": "__notebook__.ipynb",
   "output_path": "__notebook__.ipynb",
   "parameters": {},
   "start_time": "2024-09-02T16:16:17.040573",
   "version": "2.4.0"
  }
 },
 "nbformat": 4,
 "nbformat_minor": 5
}
