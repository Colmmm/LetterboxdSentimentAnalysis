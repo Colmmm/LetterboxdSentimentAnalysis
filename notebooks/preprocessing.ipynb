{
 "cells": [
  {
   "cell_type": "code",
   "execution_count": 11,
   "id": "2450abe7-57a5-4fcf-be2b-74c8261727a1",
   "metadata": {},
   "outputs": [],
   "source": [
    "import pandas as pd"
   ]
  },
  {
   "cell_type": "code",
   "execution_count": 24,
   "id": "ccec3851-2f93-4a6a-a5fb-0879c17596a5",
   "metadata": {},
   "outputs": [],
   "source": [
    "reviews_from_movies = pd.read_csv('../data/reviews_from_movies.csv')\n",
    "reviews_from_users = pd.read_csv('../data/reviews_from_users.csv')\n",
    "reviews_df = pd.concat([reviews_from_users, reviews_from_movies], ignore_index=True)"
   ]
  },
  {
   "cell_type": "code",
   "execution_count": 25,
   "id": "0f37f6cc-a036-4c5b-a541-25ee06b230d3",
   "metadata": {},
   "outputs": [
    {
     "data": {
      "text/html": [
       "<div>\n",
       "<style scoped>\n",
       "    .dataframe tbody tr th:only-of-type {\n",
       "        vertical-align: middle;\n",
       "    }\n",
       "\n",
       "    .dataframe tbody tr th {\n",
       "        vertical-align: top;\n",
       "    }\n",
       "\n",
       "    .dataframe thead th {\n",
       "        text-align: right;\n",
       "    }\n",
       "</style>\n",
       "<table border=\"1\" class=\"dataframe\">\n",
       "  <thead>\n",
       "    <tr style=\"text-align: right;\">\n",
       "      <th></th>\n",
       "      <th>rating</th>\n",
       "      <th>movie_year</th>\n",
       "    </tr>\n",
       "  </thead>\n",
       "  <tbody>\n",
       "    <tr>\n",
       "      <th>count</th>\n",
       "      <td>102.000000</td>\n",
       "      <td>102.000000</td>\n",
       "    </tr>\n",
       "    <tr>\n",
       "      <th>mean</th>\n",
       "      <td>0.836275</td>\n",
       "      <td>2014.980392</td>\n",
       "    </tr>\n",
       "    <tr>\n",
       "      <th>std</th>\n",
       "      <td>0.167562</td>\n",
       "      <td>9.718799</td>\n",
       "    </tr>\n",
       "    <tr>\n",
       "      <th>min</th>\n",
       "      <td>0.300000</td>\n",
       "      <td>1994.000000</td>\n",
       "    </tr>\n",
       "    <tr>\n",
       "      <th>25%</th>\n",
       "      <td>0.800000</td>\n",
       "      <td>2014.000000</td>\n",
       "    </tr>\n",
       "    <tr>\n",
       "      <th>50%</th>\n",
       "      <td>0.800000</td>\n",
       "      <td>2019.000000</td>\n",
       "    </tr>\n",
       "    <tr>\n",
       "      <th>75%</th>\n",
       "      <td>1.000000</td>\n",
       "      <td>2022.000000</td>\n",
       "    </tr>\n",
       "    <tr>\n",
       "      <th>max</th>\n",
       "      <td>1.000000</td>\n",
       "      <td>2023.000000</td>\n",
       "    </tr>\n",
       "  </tbody>\n",
       "</table>\n",
       "</div>"
      ],
      "text/plain": [
       "           rating   movie_year\n",
       "count  102.000000   102.000000\n",
       "mean     0.836275  2014.980392\n",
       "std      0.167562     9.718799\n",
       "min      0.300000  1994.000000\n",
       "25%      0.800000  2014.000000\n",
       "50%      0.800000  2019.000000\n",
       "75%      1.000000  2022.000000\n",
       "max      1.000000  2023.000000"
      ]
     },
     "execution_count": 25,
     "metadata": {},
     "output_type": "execute_result"
    }
   ],
   "source": [
    "reviews_df.describe()"
   ]
  },
  {
   "cell_type": "code",
   "execution_count": 26,
   "id": "13c2e6e2-dce8-4fec-9c0d-0b288928dc6b",
   "metadata": {},
   "outputs": [],
   "source": [
    "# Remove duplicates\n",
    "reviews_df.drop_duplicates(inplace=True)\n",
    "\n",
    "# Drop rows with missing review_text or rating (or fill as appropriate)\n",
    "reviews_df.dropna(subset=['review_text', 'rating'], inplace=True)\n",
    "\n",
    "# Limit review text to 500 characters\n",
    "reviews_df['review_text'] = reviews_df['review_text'].apply(lambda x: x[:500] if isinstance(x, str) else x)"
   ]
  },
  {
   "cell_type": "code",
   "execution_count": 27,
   "id": "9240ee54-2ffb-4132-b27b-2cfa4fe1d13f",
   "metadata": {},
   "outputs": [],
   "source": [
    "#!pip install langdetect\n",
    "from langdetect import detect, DetectorFactory\n",
    "from langdetect.lang_detect_exception import LangDetectException\n",
    "\n",
    "# Ensures consistent results\n",
    "DetectorFactory.seed = 0\n",
    "\n",
    "# Function to detect language\n",
    "def detect_language(text):\n",
    "    try:\n",
    "        return detect(text)\n",
    "    except LangDetectException:\n",
    "        return \"unknown\""
   ]
  },
  {
   "cell_type": "code",
   "execution_count": 28,
   "id": "0011dc42-3a40-4fcd-ba1b-a5460ed7ac09",
   "metadata": {},
   "outputs": [],
   "source": [
    "# Add a language column\n",
    "reviews_df['language'] = reviews_df['review_text'].apply(detect_language)"
   ]
  },
  {
   "cell_type": "code",
   "execution_count": 29,
   "id": "15661d5d-8112-4093-b854-0e3a25a51b41",
   "metadata": {},
   "outputs": [],
   "source": [
    "# Filter to keep only English reviews\n",
    "reviews_df = reviews_df[reviews_df['language'] == 'en']"
   ]
  },
  {
   "cell_type": "code",
   "execution_count": 30,
   "id": "5c24076c-7f3c-4ff5-b49e-8d3f369de5a0",
   "metadata": {},
   "outputs": [],
   "source": [
    "# Drop the language column if no longer needed\n",
    "reviews_df.drop(columns=['language'], inplace=True)"
   ]
  },
  {
   "cell_type": "code",
   "execution_count": 31,
   "id": "273c2d20-f4d6-4cf9-8ba0-9fb8fb45159f",
   "metadata": {},
   "outputs": [
    {
     "data": {
      "text/html": [
       "<div>\n",
       "<style scoped>\n",
       "    .dataframe tbody tr th:only-of-type {\n",
       "        vertical-align: middle;\n",
       "    }\n",
       "\n",
       "    .dataframe tbody tr th {\n",
       "        vertical-align: top;\n",
       "    }\n",
       "\n",
       "    .dataframe thead th {\n",
       "        text-align: right;\n",
       "    }\n",
       "</style>\n",
       "<table border=\"1\" class=\"dataframe\">\n",
       "  <thead>\n",
       "    <tr style=\"text-align: right;\">\n",
       "      <th></th>\n",
       "      <th>rating</th>\n",
       "      <th>movie_year</th>\n",
       "    </tr>\n",
       "  </thead>\n",
       "  <tbody>\n",
       "    <tr>\n",
       "      <th>count</th>\n",
       "      <td>51.000000</td>\n",
       "      <td>51.000000</td>\n",
       "    </tr>\n",
       "    <tr>\n",
       "      <th>mean</th>\n",
       "      <td>0.845098</td>\n",
       "      <td>2017.117647</td>\n",
       "    </tr>\n",
       "    <tr>\n",
       "      <th>std</th>\n",
       "      <td>0.174715</td>\n",
       "      <td>8.056419</td>\n",
       "    </tr>\n",
       "    <tr>\n",
       "      <th>min</th>\n",
       "      <td>0.300000</td>\n",
       "      <td>1994.000000</td>\n",
       "    </tr>\n",
       "    <tr>\n",
       "      <th>25%</th>\n",
       "      <td>0.800000</td>\n",
       "      <td>2016.000000</td>\n",
       "    </tr>\n",
       "    <tr>\n",
       "      <th>50%</th>\n",
       "      <td>0.900000</td>\n",
       "      <td>2019.000000</td>\n",
       "    </tr>\n",
       "    <tr>\n",
       "      <th>75%</th>\n",
       "      <td>1.000000</td>\n",
       "      <td>2022.500000</td>\n",
       "    </tr>\n",
       "    <tr>\n",
       "      <th>max</th>\n",
       "      <td>1.000000</td>\n",
       "      <td>2023.000000</td>\n",
       "    </tr>\n",
       "  </tbody>\n",
       "</table>\n",
       "</div>"
      ],
      "text/plain": [
       "          rating   movie_year\n",
       "count  51.000000    51.000000\n",
       "mean    0.845098  2017.117647\n",
       "std     0.174715     8.056419\n",
       "min     0.300000  1994.000000\n",
       "25%     0.800000  2016.000000\n",
       "50%     0.900000  2019.000000\n",
       "75%     1.000000  2022.500000\n",
       "max     1.000000  2023.000000"
      ]
     },
     "execution_count": 31,
     "metadata": {},
     "output_type": "execute_result"
    }
   ],
   "source": [
    "reviews_df.describe()"
   ]
  },
  {
   "cell_type": "code",
   "execution_count": 69,
   "id": "e09e5e1b-4a4b-4cef-8f34-27c2ab47dcc2",
   "metadata": {},
   "outputs": [
    {
     "data": {
      "text/html": [
       "<div>\n",
       "<style scoped>\n",
       "    .dataframe tbody tr th:only-of-type {\n",
       "        vertical-align: middle;\n",
       "    }\n",
       "\n",
       "    .dataframe tbody tr th {\n",
       "        vertical-align: top;\n",
       "    }\n",
       "\n",
       "    .dataframe thead th {\n",
       "        text-align: right;\n",
       "    }\n",
       "</style>\n",
       "<table border=\"1\" class=\"dataframe\">\n",
       "  <thead>\n",
       "    <tr style=\"text-align: right;\">\n",
       "      <th></th>\n",
       "      <th>review_text</th>\n",
       "      <th>rating</th>\n",
       "    </tr>\n",
       "  </thead>\n",
       "  <tbody>\n",
       "    <tr>\n",
       "      <th>0</th>\n",
       "      <td>monkey mondays #33</td>\n",
       "      <td>0.8</td>\n",
       "    </tr>\n",
       "    <tr>\n",
       "      <th>1</th>\n",
       "      <td>I mean...it's no Pride and Prejudice (2005) bu...</td>\n",
       "      <td>0.6</td>\n",
       "    </tr>\n",
       "    <tr>\n",
       "      <th>2</th>\n",
       "      <td>Addressed my inert fear of pink and pretty dre...</td>\n",
       "      <td>0.6</td>\n",
       "    </tr>\n",
       "    <tr>\n",
       "      <th>5</th>\n",
       "      <td>it was good for the most part, couldn’t really...</td>\n",
       "      <td>0.7</td>\n",
       "    </tr>\n",
       "    <tr>\n",
       "      <th>7</th>\n",
       "      <td>Well, I'm late to the bespoke party, but this ...</td>\n",
       "      <td>0.8</td>\n",
       "    </tr>\n",
       "  </tbody>\n",
       "</table>\n",
       "</div>"
      ],
      "text/plain": [
       "                                         review_text  rating\n",
       "0                                 monkey mondays #33     0.8\n",
       "1  I mean...it's no Pride and Prejudice (2005) bu...     0.6\n",
       "2  Addressed my inert fear of pink and pretty dre...     0.6\n",
       "5  it was good for the most part, couldn’t really...     0.7\n",
       "7  Well, I'm late to the bespoke party, but this ...     0.8"
      ]
     },
     "execution_count": 69,
     "metadata": {},
     "output_type": "execute_result"
    }
   ],
   "source": [
    "# Drop unwanted columns or reorder them\n",
    "reviews_df = reviews_df[['review_text', 'rating']]\n",
    "reviews_df.head()"
   ]
  },
  {
   "cell_type": "code",
   "execution_count": 70,
   "id": "2c7f9db0-8c22-452c-b5cc-d638fc053d31",
   "metadata": {},
   "outputs": [],
   "source": [
    "# Save the cleaned data\n",
    "reviews_df.to_csv('../cleaned_reviews.csv', index=False)"
   ]
  },
  {
   "cell_type": "code",
   "execution_count": 79,
   "id": "f59d17db-cd4c-4e98-bf54-20d29d0e0ed9",
   "metadata": {},
   "outputs": [
    {
     "name": "stderr",
     "output_type": "stream",
     "text": [
      "[nltk_data] Downloading package punkt to /home/jovyan/nltk_data...\n",
      "[nltk_data]   Package punkt is already up-to-date!\n",
      "[nltk_data] Downloading package stopwords to /home/jovyan/nltk_data...\n",
      "[nltk_data]   Package stopwords is already up-to-date!\n",
      "[nltk_data] Downloading package wordnet to /home/jovyan/nltk_data...\n",
      "[nltk_data]   Package wordnet is already up-to-date!\n"
     ]
    }
   ],
   "source": [
    "#!pip install nltk\n",
    "#!pip install contractions\n",
    "import re\n",
    "import nltk\n",
    "import contractions\n",
    "from nltk.corpus import stopwords\n",
    "from nltk.tokenize import word_tokenize\n",
    "from nltk.stem import WordNetLemmatizer\n",
    "import pandas as pd\n",
    "\n",
    "# Download NLTK resources\n",
    "nltk.download('punkt')\n",
    "nltk.download('stopwords')\n",
    "nltk.download('wordnet')\n",
    "\n",
    "\n",
    "# Initialize lemmatizer and stop words\n",
    "lemmatizer = WordNetLemmatizer()\n",
    "stop_words = set(stopwords.words('english'))\n",
    "\n",
    "# Define a set of important words that should not be removed\n",
    "important_words = {\"no\", \"not\", \"but\"}\n",
    "stop_words = stop_words - important_words\n",
    "\n",
    "def clean_text(text):\n",
    "    # Expand contractions\n",
    "    text = contractions.fix(text)\n",
    "    \n",
    "    # Lowercase text\n",
    "    text = text.lower()\n",
    "    \n",
    "    # Replace specific punctuation (e.g., ellipses) with a space\n",
    "    text = re.sub(r'\\.\\.\\.+', ' ', text)\n",
    "    \n",
    "    # Remove all punctuation except for spaces\n",
    "    text = re.sub(r'[^\\w\\s]', '', text)\n",
    "    \n",
    "    # Tokenize text\n",
    "    tokens = word_tokenize(text)\n",
    "    \n",
    "    # Remove stop words, but keep important context words\n",
    "    cleaned_tokens = [lemmatizer.lemmatize(token) for token in tokens if token not in stop_words]\n",
    "    \n",
    "    # Join tokens back into a sentence\n",
    "    cleaned_text = ' '.join(cleaned_tokens)\n",
    "    \n",
    "    return cleaned_text"
   ]
  },
  {
   "cell_type": "code",
   "execution_count": 80,
   "id": "af7380b6-2289-4eea-bfc8-ec6dce7f8ed2",
   "metadata": {},
   "outputs": [
    {
     "name": "stdout",
     "output_type": "stream",
     "text": [
      "                                         review_text  \\\n",
      "0                                 monkey mondays #33   \n",
      "1  I mean...it's no Pride and Prejudice (2005) bu...   \n",
      "2  Addressed my inert fear of pink and pretty dre...   \n",
      "5  it was good for the most part, couldn’t really...   \n",
      "7  Well, I'm late to the bespoke party, but this ...   \n",
      "\n",
      "                                      cleaned_review  \n",
      "0                                   monkey monday 33  \n",
      "1                   mean no pride prejudice 2005 but  \n",
      "2  addressed inert fear pink pretty dress changed...  \n",
      "5  good part could not really tell though near en...  \n",
      "7  well late bespoke party but actually pretty go...  \n"
     ]
    }
   ],
   "source": [
    "# Apply cleaning to the review_text column\n",
    "reviews_df['cleaned_review'] = reviews_df['review_text'].apply(clean_text)\n",
    "\n",
    "# Display the cleaned reviews\n",
    "print(reviews_df[['review_text', 'cleaned_review']].head())"
   ]
  },
  {
   "cell_type": "code",
   "execution_count": 83,
   "id": "417ac769-289d-4749-9b11-0fa78ddff7ff",
   "metadata": {},
   "outputs": [
    {
     "data": {
      "text/plain": [
       "'it was good for the most part, couldn’t really tell you though because near the end i just started putting airhead bites on my friend in the theater instead of paying attention'"
      ]
     },
     "execution_count": 83,
     "metadata": {},
     "output_type": "execute_result"
    }
   ],
   "source": [
    "reviews_df.iloc[3].review_text"
   ]
  },
  {
   "cell_type": "code",
   "execution_count": 84,
   "id": "b39c91e9-45ba-492f-82c0-fe5ba23e0045",
   "metadata": {},
   "outputs": [
    {
     "data": {
      "text/plain": [
       "'good part could not really tell though near end started putting airhead bite friend theater instead paying attention'"
      ]
     },
     "execution_count": 84,
     "metadata": {},
     "output_type": "execute_result"
    }
   ],
   "source": [
    "reviews_df.iloc[3].cleaned_review"
   ]
  },
  {
   "cell_type": "code",
   "execution_count": 85,
   "id": "aab6d429-ac1a-48a2-9cfc-4ff1992066af",
   "metadata": {},
   "outputs": [
    {
     "data": {
      "text/plain": [
       "np.float64(0.7000000000000001)"
      ]
     },
     "execution_count": 85,
     "metadata": {},
     "output_type": "execute_result"
    }
   ],
   "source": [
    "reviews_df.iloc[3].rating"
   ]
  },
  {
   "cell_type": "code",
   "execution_count": 90,
   "id": "ff32be01-1d54-44be-97fc-c2a42c0618d2",
   "metadata": {},
   "outputs": [
    {
     "name": "stdout",
     "output_type": "stream",
     "text": [
      "   rating rating_category\n",
      "0     0.8            good\n",
      "1     0.6         neutral\n",
      "2     0.6         neutral\n",
      "5     0.7            good\n",
      "7     0.8            good\n"
     ]
    }
   ],
   "source": [
    "# Define the thresholds for categories\n",
    "def categorize_rating(rating):\n",
    "    if rating <= 0.4:\n",
    "        return 'bad'\n",
    "    elif rating <= 0.7:\n",
    "        return 'neutral'\n",
    "    else:\n",
    "        return 'good'\n",
    "\n",
    "# Apply categorization to the rating column\n",
    "reviews_df['rating_category'] = reviews_df['rating'].apply(categorize_rating)\n",
    "\n",
    "# Display the updated dataframe\n",
    "print(reviews_df[['rating', 'rating_category']].head())"
   ]
  },
  {
   "cell_type": "code",
   "execution_count": 91,
   "id": "68a5876e-4e6b-40c9-be05-d144377e0827",
   "metadata": {},
   "outputs": [
    {
     "name": "stdout",
     "output_type": "stream",
     "text": [
      "  rating_category  rating_category_encoded\n",
      "0            good                        1\n",
      "1         neutral                        2\n",
      "2         neutral                        2\n",
      "5            good                        1\n",
      "7            good                        1\n"
     ]
    }
   ],
   "source": [
    "from sklearn.preprocessing import LabelEncoder\n",
    "\n",
    "# Initialize the LabelEncoder\n",
    "label_encoder = LabelEncoder()\n",
    "\n",
    "# Convert categories to numerical values\n",
    "reviews_df['rating_category_encoded'] = label_encoder.fit_transform(reviews_df['rating_category'])\n",
    "\n",
    "# Display the updated dataframe with encoded categories\n",
    "print(reviews_df[['rating_category', 'rating_category_encoded']].head())"
   ]
  },
  {
   "cell_type": "code",
   "execution_count": 112,
   "id": "26b51eea-0f77-49df-a15b-12c3ae243b42",
   "metadata": {},
   "outputs": [
    {
     "name": "stdout",
     "output_type": "stream",
     "text": [
      "Accuracy: 0.8461538461538461\n",
      "Classification Report:\n",
      "               precision    recall  f1-score   support\n",
      "\n",
      "           0       0.00      0.00      0.00         2\n",
      "           1       0.85      1.00      0.92        22\n",
      "           2       0.00      0.00      0.00         2\n",
      "\n",
      "    accuracy                           0.85        26\n",
      "   macro avg       0.28      0.33      0.31        26\n",
      "weighted avg       0.72      0.85      0.78        26\n",
      "\n"
     ]
    },
    {
     "name": "stderr",
     "output_type": "stream",
     "text": [
      "/opt/conda/lib/python3.11/site-packages/sklearn/metrics/_classification.py:1531: UndefinedMetricWarning: Precision is ill-defined and being set to 0.0 in labels with no predicted samples. Use `zero_division` parameter to control this behavior.\n",
      "  _warn_prf(average, modifier, f\"{metric.capitalize()} is\", len(result))\n",
      "/opt/conda/lib/python3.11/site-packages/sklearn/metrics/_classification.py:1531: UndefinedMetricWarning: Precision is ill-defined and being set to 0.0 in labels with no predicted samples. Use `zero_division` parameter to control this behavior.\n",
      "  _warn_prf(average, modifier, f\"{metric.capitalize()} is\", len(result))\n",
      "/opt/conda/lib/python3.11/site-packages/sklearn/metrics/_classification.py:1531: UndefinedMetricWarning: Precision is ill-defined and being set to 0.0 in labels with no predicted samples. Use `zero_division` parameter to control this behavior.\n",
      "  _warn_prf(average, modifier, f\"{metric.capitalize()} is\", len(result))\n"
     ]
    }
   ],
   "source": [
    "from sklearn.model_selection import train_test_split\n",
    "from sklearn.feature_extraction.text import TfidfVectorizer\n",
    "from sklearn.linear_model import LogisticRegression\n",
    "from sklearn.metrics import accuracy_score, classification_report\n",
    "\n",
    "# TF-IDF vectorization\n",
    "vectorizer = TfidfVectorizer(max_features=5000)\n",
    "X = vectorizer.fit_transform(reviews_df['cleaned_review'])\n",
    "\n",
    "# Encode target variable\n",
    "y = reviews_df['rating_category_encoded']\n",
    "\n",
    "# Split data\n",
    "X_train, X_test, y_train, y_test, X_train_raw, X_test_raw = train_test_split(\n",
    "    X, y, reviews_df[['review_text']], test_size=0.5, random_state=421\n",
    ")\n",
    "\n",
    "# Train model\n",
    "model = LogisticRegression()\n",
    "model.fit(X_train, y_train)\n",
    "\n",
    "# Evaluate model\n",
    "y_pred = model.predict(X_test)\n",
    "print(\"Accuracy:\", accuracy_score(y_test, y_pred))\n",
    "print(\"Classification Report:\\n\", classification_report(y_test, y_pred))"
   ]
  },
  {
   "cell_type": "code",
   "execution_count": 113,
   "id": "af04d725-3e8d-4a57-8f12-d1e04b6e5c99",
   "metadata": {},
   "outputs": [
    {
     "name": "stdout",
     "output_type": "stream",
     "text": [
      "                                          review_text  true_rating  \\\n",
      "45                                 wdym they broke up            1   \n",
      "21                                       eat the rich            1   \n",
      "63  The first 1 and a half hour may seem boring, b...            1   \n",
      "14  yk the movies good when it has sons! \\nthe men...            1   \n",
      "53                        the only movie that matters            1   \n",
      "\n",
      "    predicted_rating  \n",
      "45                 1  \n",
      "21                 1  \n",
      "63                 1  \n",
      "14                 1  \n",
      "53                 1  \n"
     ]
    }
   ],
   "source": [
    "# Create DataFrame with test data and predictions\n",
    "test_df = X_test_raw.copy()\n",
    "test_df['true_rating'] = y_test\n",
    "test_df['predicted_rating'] = y_pred\n",
    "\n",
    "# Display the DataFrame\n",
    "print(test_df.head())"
   ]
  },
  {
   "cell_type": "code",
   "execution_count": 114,
   "id": "0a0a3132-bad4-4167-9b82-d9214d174f61",
   "metadata": {},
   "outputs": [
    {
     "data": {
      "text/html": [
       "<div>\n",
       "<style scoped>\n",
       "    .dataframe tbody tr th:only-of-type {\n",
       "        vertical-align: middle;\n",
       "    }\n",
       "\n",
       "    .dataframe tbody tr th {\n",
       "        vertical-align: top;\n",
       "    }\n",
       "\n",
       "    .dataframe thead th {\n",
       "        text-align: right;\n",
       "    }\n",
       "</style>\n",
       "<table border=\"1\" class=\"dataframe\">\n",
       "  <thead>\n",
       "    <tr style=\"text-align: right;\">\n",
       "      <th></th>\n",
       "      <th>review_text</th>\n",
       "      <th>true_rating</th>\n",
       "      <th>predicted_rating</th>\n",
       "    </tr>\n",
       "  </thead>\n",
       "  <tbody>\n",
       "    <tr>\n",
       "      <th>45</th>\n",
       "      <td>wdym they broke up</td>\n",
       "      <td>1</td>\n",
       "      <td>1</td>\n",
       "    </tr>\n",
       "    <tr>\n",
       "      <th>21</th>\n",
       "      <td>eat the rich</td>\n",
       "      <td>1</td>\n",
       "      <td>1</td>\n",
       "    </tr>\n",
       "    <tr>\n",
       "      <th>63</th>\n",
       "      <td>The first 1 and a half hour may seem boring, b...</td>\n",
       "      <td>1</td>\n",
       "      <td>1</td>\n",
       "    </tr>\n",
       "    <tr>\n",
       "      <th>14</th>\n",
       "      <td>yk the movies good when it has sons! \\nthe men...</td>\n",
       "      <td>1</td>\n",
       "      <td>1</td>\n",
       "    </tr>\n",
       "    <tr>\n",
       "      <th>53</th>\n",
       "      <td>the only movie that matters</td>\n",
       "      <td>1</td>\n",
       "      <td>1</td>\n",
       "    </tr>\n",
       "    <tr>\n",
       "      <th>66</th>\n",
       "      <td>History</td>\n",
       "      <td>1</td>\n",
       "      <td>1</td>\n",
       "    </tr>\n",
       "    <tr>\n",
       "      <th>71</th>\n",
       "      <td>no words (actually a shit ton im just lazy)</td>\n",
       "      <td>1</td>\n",
       "      <td>1</td>\n",
       "    </tr>\n",
       "    <tr>\n",
       "      <th>69</th>\n",
       "      <td>If the Oscar’s had a character for over hyped ...</td>\n",
       "      <td>0</td>\n",
       "      <td>1</td>\n",
       "    </tr>\n",
       "    <tr>\n",
       "      <th>47</th>\n",
       "      <td>I think you can now choose this film as the mo...</td>\n",
       "      <td>2</td>\n",
       "      <td>1</td>\n",
       "    </tr>\n",
       "    <tr>\n",
       "      <th>49</th>\n",
       "      <td>guess i'll see you in the movies</td>\n",
       "      <td>1</td>\n",
       "      <td>1</td>\n",
       "    </tr>\n",
       "    <tr>\n",
       "      <th>29</th>\n",
       "      <td>imagine the police losing a fight against a ma...</td>\n",
       "      <td>1</td>\n",
       "      <td>1</td>\n",
       "    </tr>\n",
       "    <tr>\n",
       "      <th>82</th>\n",
       "      <td>stop fighting, this is not u, look at me, i kn...</td>\n",
       "      <td>1</td>\n",
       "      <td>1</td>\n",
       "    </tr>\n",
       "    <tr>\n",
       "      <th>62</th>\n",
       "      <td>amateurs seek the sun get eaten power stays in...</td>\n",
       "      <td>1</td>\n",
       "      <td>1</td>\n",
       "    </tr>\n",
       "    <tr>\n",
       "      <th>17</th>\n",
       "      <td>This movie was really really good at depicting...</td>\n",
       "      <td>1</td>\n",
       "      <td>1</td>\n",
       "    </tr>\n",
       "    <tr>\n",
       "      <th>37</th>\n",
       "      <td>fell asleep but idk if the movie was boring or...</td>\n",
       "      <td>2</td>\n",
       "      <td>1</td>\n",
       "    </tr>\n",
       "    <tr>\n",
       "      <th>5</th>\n",
       "      <td>it was good for the most part, couldn’t really...</td>\n",
       "      <td>1</td>\n",
       "      <td>1</td>\n",
       "    </tr>\n",
       "    <tr>\n",
       "      <th>42</th>\n",
       "      <td>i have no words to describe what this movie ha...</td>\n",
       "      <td>1</td>\n",
       "      <td>1</td>\n",
       "    </tr>\n",
       "    <tr>\n",
       "      <th>48</th>\n",
       "      <td>another favourite horror film</td>\n",
       "      <td>1</td>\n",
       "      <td>1</td>\n",
       "    </tr>\n",
       "    <tr>\n",
       "      <th>0</th>\n",
       "      <td>monkey mondays #33</td>\n",
       "      <td>1</td>\n",
       "      <td>1</td>\n",
       "    </tr>\n",
       "    <tr>\n",
       "      <th>79</th>\n",
       "      <td>i want to dance on those stairs</td>\n",
       "      <td>1</td>\n",
       "      <td>1</td>\n",
       "    </tr>\n",
       "    <tr>\n",
       "      <th>60</th>\n",
       "      <td>overrated though</td>\n",
       "      <td>1</td>\n",
       "      <td>1</td>\n",
       "    </tr>\n",
       "    <tr>\n",
       "      <th>26</th>\n",
       "      <td>stupid film, should have their directors card ...</td>\n",
       "      <td>0</td>\n",
       "      <td>1</td>\n",
       "    </tr>\n",
       "    <tr>\n",
       "      <th>94</th>\n",
       "      <td>this some serious gourmet shit</td>\n",
       "      <td>1</td>\n",
       "      <td>1</td>\n",
       "    </tr>\n",
       "    <tr>\n",
       "      <th>7</th>\n",
       "      <td>Well, I'm late to the bespoke party, but this ...</td>\n",
       "      <td>1</td>\n",
       "      <td>1</td>\n",
       "    </tr>\n",
       "    <tr>\n",
       "      <th>67</th>\n",
       "      <td>After the show went to the bathroom with some ...</td>\n",
       "      <td>1</td>\n",
       "      <td>1</td>\n",
       "    </tr>\n",
       "    <tr>\n",
       "      <th>22</th>\n",
       "      <td>Watch this before you die</td>\n",
       "      <td>1</td>\n",
       "      <td>1</td>\n",
       "    </tr>\n",
       "  </tbody>\n",
       "</table>\n",
       "</div>"
      ],
      "text/plain": [
       "                                          review_text  true_rating  \\\n",
       "45                                 wdym they broke up            1   \n",
       "21                                       eat the rich            1   \n",
       "63  The first 1 and a half hour may seem boring, b...            1   \n",
       "14  yk the movies good when it has sons! \\nthe men...            1   \n",
       "53                        the only movie that matters            1   \n",
       "66                                            History            1   \n",
       "71        no words (actually a shit ton im just lazy)            1   \n",
       "69  If the Oscar’s had a character for over hyped ...            0   \n",
       "47  I think you can now choose this film as the mo...            2   \n",
       "49                   guess i'll see you in the movies            1   \n",
       "29  imagine the police losing a fight against a ma...            1   \n",
       "82  stop fighting, this is not u, look at me, i kn...            1   \n",
       "62  amateurs seek the sun get eaten power stays in...            1   \n",
       "17  This movie was really really good at depicting...            1   \n",
       "37  fell asleep but idk if the movie was boring or...            2   \n",
       "5   it was good for the most part, couldn’t really...            1   \n",
       "42  i have no words to describe what this movie ha...            1   \n",
       "48                      another favourite horror film            1   \n",
       "0                                  monkey mondays #33            1   \n",
       "79                    i want to dance on those stairs            1   \n",
       "60                                   overrated though            1   \n",
       "26  stupid film, should have their directors card ...            0   \n",
       "94                     this some serious gourmet shit            1   \n",
       "7   Well, I'm late to the bespoke party, but this ...            1   \n",
       "67  After the show went to the bathroom with some ...            1   \n",
       "22                          Watch this before you die            1   \n",
       "\n",
       "    predicted_rating  \n",
       "45                 1  \n",
       "21                 1  \n",
       "63                 1  \n",
       "14                 1  \n",
       "53                 1  \n",
       "66                 1  \n",
       "71                 1  \n",
       "69                 1  \n",
       "47                 1  \n",
       "49                 1  \n",
       "29                 1  \n",
       "82                 1  \n",
       "62                 1  \n",
       "17                 1  \n",
       "37                 1  \n",
       "5                  1  \n",
       "42                 1  \n",
       "48                 1  \n",
       "0                  1  \n",
       "79                 1  \n",
       "60                 1  \n",
       "26                 1  \n",
       "94                 1  \n",
       "7                  1  \n",
       "67                 1  \n",
       "22                 1  "
      ]
     },
     "execution_count": 114,
     "metadata": {},
     "output_type": "execute_result"
    }
   ],
   "source": [
    "test_df"
   ]
  },
  {
   "cell_type": "code",
   "execution_count": 105,
   "id": "e63ebbe5-d469-4978-9b5e-9f7b4d3506fc",
   "metadata": {},
   "outputs": [
    {
     "data": {
      "text/plain": [
       "review_text                wdym they broke up\n",
       "rating                                    0.8\n",
       "cleaned_review                     wdym broke\n",
       "rating_category                          good\n",
       "rating_category_encoded                     1\n",
       "Name: 45, dtype: object"
      ]
     },
     "execution_count": 105,
     "metadata": {},
     "output_type": "execute_result"
    }
   ],
   "source": [
    "reviews_df.loc[45]"
   ]
  },
  {
   "cell_type": "code",
   "execution_count": 111,
   "id": "c69f1f90-88c1-4d46-9615-1c861d75ee76",
   "metadata": {},
   "outputs": [
    {
     "data": {
      "text/html": [
       "<div>\n",
       "<style scoped>\n",
       "    .dataframe tbody tr th:only-of-type {\n",
       "        vertical-align: middle;\n",
       "    }\n",
       "\n",
       "    .dataframe tbody tr th {\n",
       "        vertical-align: top;\n",
       "    }\n",
       "\n",
       "    .dataframe thead th {\n",
       "        text-align: right;\n",
       "    }\n",
       "</style>\n",
       "<table border=\"1\" class=\"dataframe\">\n",
       "  <thead>\n",
       "    <tr style=\"text-align: right;\">\n",
       "      <th></th>\n",
       "      <th>review_text</th>\n",
       "      <th>rating</th>\n",
       "      <th>cleaned_review</th>\n",
       "      <th>rating_category</th>\n",
       "      <th>rating_category_encoded</th>\n",
       "    </tr>\n",
       "  </thead>\n",
       "  <tbody>\n",
       "    <tr>\n",
       "      <th>1</th>\n",
       "      <td>I mean...it's no Pride and Prejudice (2005) bu...</td>\n",
       "      <td>0.6</td>\n",
       "      <td>mean no pride prejudice 2005 but</td>\n",
       "      <td>neutral</td>\n",
       "      <td>2</td>\n",
       "    </tr>\n",
       "    <tr>\n",
       "      <th>2</th>\n",
       "      <td>Addressed my inert fear of pink and pretty dre...</td>\n",
       "      <td>0.6</td>\n",
       "      <td>addressed inert fear pink pretty dress changed...</td>\n",
       "      <td>neutral</td>\n",
       "      <td>2</td>\n",
       "    </tr>\n",
       "    <tr>\n",
       "      <th>37</th>\n",
       "      <td>fell asleep but idk if the movie was boring or...</td>\n",
       "      <td>0.5</td>\n",
       "      <td>fell asleep but not know movie boring tired</td>\n",
       "      <td>neutral</td>\n",
       "      <td>2</td>\n",
       "    </tr>\n",
       "    <tr>\n",
       "      <th>47</th>\n",
       "      <td>I think you can now choose this film as the mo...</td>\n",
       "      <td>0.6</td>\n",
       "      <td>think choose film overrated film today eu acho...</td>\n",
       "      <td>neutral</td>\n",
       "      <td>2</td>\n",
       "    </tr>\n",
       "    <tr>\n",
       "      <th>87</th>\n",
       "      <td>Was kind of a snooze fest ngl</td>\n",
       "      <td>0.6</td>\n",
       "      <td>kind snooze fest ngl</td>\n",
       "      <td>neutral</td>\n",
       "      <td>2</td>\n",
       "    </tr>\n",
       "  </tbody>\n",
       "</table>\n",
       "</div>"
      ],
      "text/plain": [
       "                                          review_text  rating  \\\n",
       "1   I mean...it's no Pride and Prejudice (2005) bu...     0.6   \n",
       "2   Addressed my inert fear of pink and pretty dre...     0.6   \n",
       "37  fell asleep but idk if the movie was boring or...     0.5   \n",
       "47  I think you can now choose this film as the mo...     0.6   \n",
       "87                      Was kind of a snooze fest ngl     0.6   \n",
       "\n",
       "                                       cleaned_review rating_category  \\\n",
       "1                    mean no pride prejudice 2005 but         neutral   \n",
       "2   addressed inert fear pink pretty dress changed...         neutral   \n",
       "37        fell asleep but not know movie boring tired         neutral   \n",
       "47  think choose film overrated film today eu acho...         neutral   \n",
       "87                               kind snooze fest ngl         neutral   \n",
       "\n",
       "    rating_category_encoded  \n",
       "1                         2  \n",
       "2                         2  \n",
       "37                        2  \n",
       "47                        2  \n",
       "87                        2  "
      ]
     },
     "execution_count": 111,
     "metadata": {},
     "output_type": "execute_result"
    }
   ],
   "source": [
    "reviews_df.query('rating_category_encoded==2')"
   ]
  },
  {
   "cell_type": "code",
   "execution_count": null,
   "id": "bbb090a0-82d3-40bd-a6f8-ad3c8dc1386f",
   "metadata": {},
   "outputs": [],
   "source": []
  }
 ],
 "metadata": {
  "kernelspec": {
   "display_name": "Python 3 (ipykernel)",
   "language": "python",
   "name": "python3"
  },
  "language_info": {
   "codemirror_mode": {
    "name": "ipython",
    "version": 3
   },
   "file_extension": ".py",
   "mimetype": "text/x-python",
   "name": "python",
   "nbconvert_exporter": "python",
   "pygments_lexer": "ipython3",
   "version": "3.11.6"
  }
 },
 "nbformat": 4,
 "nbformat_minor": 5
}
