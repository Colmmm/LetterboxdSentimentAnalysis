{
 "cells": [
  {
   "cell_type": "markdown",
   "id": "d4aabc3e",
   "metadata": {
    "papermill": {
     "duration": 0.005412,
     "end_time": "2024-08-28T09:11:51.184538",
     "exception": false,
     "start_time": "2024-08-28T09:11:51.179126",
     "status": "completed"
    },
    "tags": []
   },
   "source": [
    "# 1. Setting Up the Environment\n",
    "\n",
    "## 1.1. Install dependencies:\n",
    "This command updates the system's package list and installs various libraries required for running Chrome and Selenium."
   ]
  },
  {
   "cell_type": "code",
   "execution_count": 1,
   "id": "10c4c05a",
   "metadata": {
    "execution": {
     "iopub.execute_input": "2024-08-28T09:11:51.196595Z",
     "iopub.status.busy": "2024-08-28T09:11:51.195602Z",
     "iopub.status.idle": "2024-08-28T09:12:15.259440Z",
     "shell.execute_reply": "2024-08-28T09:12:15.257841Z"
    },
    "papermill": {
     "duration": 24.07306,
     "end_time": "2024-08-28T09:12:15.262657",
     "exception": false,
     "start_time": "2024-08-28T09:11:51.189597",
     "status": "completed"
    },
    "tags": []
   },
   "outputs": [
    {
     "name": "stdout",
     "output_type": "stream",
     "text": [
      "Get:1 http://packages.cloud.google.com/apt gcsfuse-focal InRelease [1227 B]\r\n",
      "Get:2 https://packages.cloud.google.com/apt cloud-sdk InRelease [1618 B]\r\n",
      "Hit:3 http://archive.ubuntu.com/ubuntu focal InRelease\r\n",
      "Get:4 http://security.ubuntu.com/ubuntu focal-security InRelease [128 kB]\r\n",
      "Get:5 http://archive.ubuntu.com/ubuntu focal-updates InRelease [128 kB]\r\n",
      "Get:6 https://packages.cloud.google.com/apt cloud-sdk/main amd64 Packages [3214 kB]\r\n",
      "Get:7 https://packages.cloud.google.com/apt cloud-sdk/main all Packages [1511 kB]\r\n",
      "Get:8 http://security.ubuntu.com/ubuntu focal-security/main amd64 Packages [3933 kB]\r\n",
      "Get:9 http://archive.ubuntu.com/ubuntu focal-backports InRelease [128 kB]\r\n",
      "Get:10 http://archive.ubuntu.com/ubuntu focal-updates/universe amd64 Packages [1545 kB]\r\n",
      "Get:11 http://archive.ubuntu.com/ubuntu focal-updates/restricted amd64 Packages [4077 kB]\r\n",
      "Get:12 http://security.ubuntu.com/ubuntu focal-security/multiverse amd64 Packages [30.9 kB]\r\n",
      "Get:13 http://security.ubuntu.com/ubuntu focal-security/restricted amd64 Packages [3926 kB]\r\n",
      "Get:14 http://archive.ubuntu.com/ubuntu focal-updates/main amd64 Packages [4398 kB]\r\n",
      "Get:15 http://security.ubuntu.com/ubuntu focal-security/universe amd64 Packages [1258 kB]\r\n",
      "Get:16 http://archive.ubuntu.com/ubuntu focal-updates/multiverse amd64 Packages [33.5 kB]\r\n",
      "\r\n",
      "E: Repository 'http://packages.cloud.google.com/apt gcsfuse-focal InRelease' changed its 'Origin' value from 'namespaces/gcs-fuse-prod/repositories/gcsfuse-focal' to 'gcsfuse-focal'\r\n",
      "E: Repository 'http://packages.cloud.google.com/apt gcsfuse-focal InRelease' changed its 'Label' value from 'namespaces/gcs-fuse-prod/repositories/gcsfuse-focal' to 'gcsfuse-focal'\r\n",
      "N: This must be accepted explicitly before updates for this repository can be applied. See apt-secure(8) manpage for details.\r\n",
      "\r\n",
      "\r\n",
      "\r\n",
      "libfontconfig1 is already the newest version (2.13.1-2ubuntu3).\r\n",
      "libvulkan1 is already the newest version (1.2.131.2-1).\r\n",
      "libvulkan1 set to manually installed.\r\n",
      "The following additional packages will be installed:\r\n",
      "  gconf-service gconf-service-backend libglib2.0-bin libudev1\r\n",
      "Recommended packages:\r\n",
      "  xdg-user-dirs\r\n",
      "The following NEW packages will be installed:\r\n",
      "  gconf-service gconf-service-backend gconf2-common libdbus-glib-1-2 libgbm1\r\n",
      "  libgconf-2-4 libu2f-udev libwayland-server0 udev\r\n",
      "The following packages will be upgraded:\r\n",
      "  libglib2.0-0 libglib2.0-bin libnss3 libudev1\r\n",
      "4 upgraded, 9 newly installed, 0 to remove and 128 not upgraded.\r\n",
      "Need to get 5180 kB of archives.\r\n",
      "After this operation, 18.4 MB of additional disk space will be used.\r\n",
      "Get:1 http://archive.ubuntu.com/ubuntu focal-updates/main amd64 libudev1 amd64 245.4-4ubuntu3.23 [75.6 kB]\r\n",
      "Get:2 http://archive.ubuntu.com/ubuntu focal-updates/main amd64 libglib2.0-bin amd64 2.64.6-1~ubuntu20.04.7 [72.8 kB]\r\n",
      "Get:3 http://archive.ubuntu.com/ubuntu focal-updates/main amd64 libglib2.0-0 amd64 2.64.6-1~ubuntu20.04.7 [1289 kB]\r\n",
      "Get:4 http://archive.ubuntu.com/ubuntu focal-updates/main amd64 udev amd64 245.4-4ubuntu3.23 [1366 kB]\r\n",
      "Get:5 http://archive.ubuntu.com/ubuntu focal/main amd64 libdbus-glib-1-2 amd64 0.110-5fakssync1 [59.1 kB]\r\n",
      "Get:6 http://archive.ubuntu.com/ubuntu focal/universe amd64 gconf2-common all 3.2.6-6ubuntu1 [698 kB]\r\n",
      "Get:7 http://archive.ubuntu.com/ubuntu focal/universe amd64 libgconf-2-4 amd64 3.2.6-6ubuntu1 [84.8 kB]\r\n",
      "Get:8 http://archive.ubuntu.com/ubuntu focal/universe amd64 gconf-service-backend amd64 3.2.6-6ubuntu1 [58.6 kB]\r\n",
      "Get:9 http://archive.ubuntu.com/ubuntu focal/universe amd64 gconf-service amd64 3.2.6-6ubuntu1 [17.4 kB]\r\n",
      "Get:10 http://archive.ubuntu.com/ubuntu focal-updates/main amd64 libwayland-server0 amd64 1.18.0-1ubuntu0.1 [31.3 kB]\r\n",
      "Get:11 http://archive.ubuntu.com/ubuntu focal-updates/main amd64 libgbm1 amd64 21.2.6-0ubuntu0.1~20.04.2 [29.2 kB]\r\n",
      "Get:12 http://archive.ubuntu.com/ubuntu focal-updates/main amd64 libnss3 amd64 2:3.98-0ubuntu0.20.04.2 [1391 kB]\r\n",
      "Get:13 http://archive.ubuntu.com/ubuntu focal/main amd64 libu2f-udev all 1.1.10-1 [6108 B]\r\n",
      "Fetched 5180 kB in 3s (2016 kB/s)\r\n",
      "(Reading database ... 108782 files and directories currently installed.)\r\n",
      "Preparing to unpack .../libudev1_245.4-4ubuntu3.23_amd64.deb ...\r\n",
      "Unpacking libudev1:amd64 (245.4-4ubuntu3.23) over (245.4-4ubuntu3.22) ...\r\n",
      "Setting up libudev1:amd64 (245.4-4ubuntu3.23) ...\r\n",
      "(Reading database ... 108782 files and directories currently installed.)\r\n",
      "Preparing to unpack .../00-libglib2.0-bin_2.64.6-1~ubuntu20.04.7_amd64.deb ...\r\n",
      "Unpacking libglib2.0-bin (2.64.6-1~ubuntu20.04.7) over (2.64.6-1~ubuntu20.04.6) ...\r\n",
      "Preparing to unpack .../01-libglib2.0-0_2.64.6-1~ubuntu20.04.7_amd64.deb ...\r\n",
      "Unpacking libglib2.0-0:amd64 (2.64.6-1~ubuntu20.04.7) over (2.64.6-1~ubuntu20.04.6) ...\r\n",
      "Selecting previously unselected package udev.\r\n",
      "Preparing to unpack .../02-udev_245.4-4ubuntu3.23_amd64.deb ...\r\n",
      "Unpacking udev (245.4-4ubuntu3.23) ...\r\n",
      "Selecting previously unselected package libdbus-glib-1-2:amd64.\r\n",
      "Preparing to unpack .../03-libdbus-glib-1-2_0.110-5fakssync1_amd64.deb ...\r\n",
      "Unpacking libdbus-glib-1-2:amd64 (0.110-5fakssync1) ...\r\n",
      "Selecting previously unselected package gconf2-common.\r\n",
      "Preparing to unpack .../04-gconf2-common_3.2.6-6ubuntu1_all.deb ...\r\n",
      "Unpacking gconf2-common (3.2.6-6ubuntu1) ...\r\n",
      "Selecting previously unselected package libgconf-2-4:amd64.\r\n",
      "Preparing to unpack .../05-libgconf-2-4_3.2.6-6ubuntu1_amd64.deb ...\r\n",
      "Unpacking libgconf-2-4:amd64 (3.2.6-6ubuntu1) ...\r\n",
      "Selecting previously unselected package gconf-service-backend.\r\n",
      "Preparing to unpack .../06-gconf-service-backend_3.2.6-6ubuntu1_amd64.deb ...\r\n",
      "Unpacking gconf-service-backend (3.2.6-6ubuntu1) ...\r\n",
      "Selecting previously unselected package gconf-service.\r\n",
      "Preparing to unpack .../07-gconf-service_3.2.6-6ubuntu1_amd64.deb ...\r\n",
      "Unpacking gconf-service (3.2.6-6ubuntu1) ...\r\n",
      "Selecting previously unselected package libwayland-server0:amd64.\r\n",
      "Preparing to unpack .../08-libwayland-server0_1.18.0-1ubuntu0.1_amd64.deb ...\r\n",
      "Unpacking libwayland-server0:amd64 (1.18.0-1ubuntu0.1) ...\r\n",
      "Selecting previously unselected package libgbm1:amd64.\r\n",
      "Preparing to unpack .../09-libgbm1_21.2.6-0ubuntu0.1~20.04.2_amd64.deb ...\r\n",
      "Unpacking libgbm1:amd64 (21.2.6-0ubuntu0.1~20.04.2) ...\r\n",
      "Preparing to unpack .../10-libnss3_2%3a3.98-0ubuntu0.20.04.2_amd64.deb ...\r\n",
      "Unpacking libnss3:amd64 (2:3.98-0ubuntu0.20.04.2) over (2:3.49.1-1ubuntu1.9) ...\r\n",
      "Selecting previously unselected package libu2f-udev.\r\n",
      "Preparing to unpack .../11-libu2f-udev_1.1.10-1_all.deb ...\r\n",
      "Unpacking libu2f-udev (1.1.10-1) ...\r\n",
      "Setting up libwayland-server0:amd64 (1.18.0-1ubuntu0.1) ...\r\n",
      "Setting up libgbm1:amd64 (21.2.6-0ubuntu0.1~20.04.2) ...\r\n",
      "Setting up libglib2.0-0:amd64 (2.64.6-1~ubuntu20.04.7) ...\r\n",
      "Setting up libglib2.0-bin (2.64.6-1~ubuntu20.04.7) ...\r\n",
      "Setting up libnss3:amd64 (2:3.98-0ubuntu0.20.04.2) ...\r\n",
      "Setting up gconf2-common (3.2.6-6ubuntu1) ...\r\n",
      "\r\n",
      "Creating config file /etc/gconf/2/path with new version\r\n",
      "Setting up libdbus-glib-1-2:amd64 (0.110-5fakssync1) ...\r\n",
      "Setting up udev (245.4-4ubuntu3.23) ...\r\n",
      "invoke-rc.d: could not determine current runlevel\r\n",
      "invoke-rc.d: policy-rc.d denied execution of start.\r\n",
      "Setting up libgconf-2-4:amd64 (3.2.6-6ubuntu1) ...\r\n",
      "Setting up libu2f-udev (1.1.10-1) ...\r\n",
      "Failed to send reload request: No such file or directory\r\n",
      "Setting up gconf-service (3.2.6-6ubuntu1) ...\r\n",
      "Setting up gconf-service-backend (3.2.6-6ubuntu1) ...\r\n",
      "Processing triggers for libc-bin (2.31-0ubuntu9.9) ...\r\n",
      "Processing triggers for systemd (245.4-4ubuntu3.22) ...\r\n",
      "Processing triggers for man-db (2.9.1-1) ...\r\n",
      "\r\n",
      "\r\n",
      "\r\n",
      "0 upgraded, 0 newly installed, 0 to remove and 128 not upgraded.\r\n"
     ]
    }
   ],
   "source": [
    "!apt-get update -y\n",
    "!apt-get install -y \\\n",
    "libglib2.0-0 \\\n",
    "libnss3 \\\n",
    "libdbus-glib-1-2 \\\n",
    "libgconf-2-4 \\\n",
    "libfontconfig1 \\\n",
    "libvulkan1 \\\n",
    "gconf2-common \\\n",
    "libwayland-server0 \\\n",
    "libgbm1 \\\n",
    "udev \\\n",
    "libu2f-udev \n",
    "!apt --fix-broken install -y  "
   ]
  },
  {
   "cell_type": "markdown",
   "id": "a6d2ef58",
   "metadata": {
    "papermill": {
     "duration": 0.019435,
     "end_time": "2024-08-28T09:12:15.302516",
     "exception": false,
     "start_time": "2024-08-28T09:12:15.283081",
     "status": "completed"
    },
    "tags": []
   },
   "source": [
    "## 1.2. Download and extract Chrome:\n",
    "\n",
    "To use Selenium, you will need to download and install Chrome and Chromedriver.\n",
    "\n",
    "* **Chrome**: Chrome is a popular web browser that is known for its speed and security.\n",
    "* **Chromedriver**: Chromedriver is a tool that allows Selenium to interact with Chrome.\n",
    "\n",
    "Downloads the latest stable version of Chrome for Linux and extracts it to the /usr/bin directory."
   ]
  },
  {
   "cell_type": "code",
   "execution_count": 2,
   "id": "6022a515",
   "metadata": {
    "execution": {
     "iopub.execute_input": "2024-08-28T09:12:15.332961Z",
     "iopub.status.busy": "2024-08-28T09:12:15.332569Z",
     "iopub.status.idle": "2024-08-28T09:12:27.934260Z",
     "shell.execute_reply": "2024-08-28T09:12:27.933124Z"
    },
    "papermill": {
     "duration": 12.620073,
     "end_time": "2024-08-28T09:12:27.936880",
     "exception": false,
     "start_time": "2024-08-28T09:12:15.316807",
     "status": "completed"
    },
    "tags": []
   },
   "outputs": [
    {
     "name": "stdout",
     "output_type": "stream",
     "text": [
      "--2024-08-28 09:12:16--  https://edgedl.me.gvt1.com/edgedl/chrome/chrome-for-testing/116.0.5845.96/linux64/chrome-linux64.zip\r\n",
      "Resolving edgedl.me.gvt1.com (edgedl.me.gvt1.com)... 34.104.35.123, 2600:1900:4110:86f::\r\n",
      "Connecting to edgedl.me.gvt1.com (edgedl.me.gvt1.com)|34.104.35.123|:443... connected.\r\n",
      "HTTP request sent, awaiting response... 302 Found\r\n",
      "Location: https://storage.googleapis.com/chrome-for-testing-public/116.0.5845.96/linux64/chrome-linux64.zip [following]\r\n",
      "--2024-08-28 09:12:16--  https://storage.googleapis.com/chrome-for-testing-public/116.0.5845.96/linux64/chrome-linux64.zip\r\n",
      "Resolving storage.googleapis.com (storage.googleapis.com)... 64.233.187.207, 142.251.8.207, 173.194.174.207, ...\r\n",
      "Connecting to storage.googleapis.com (storage.googleapis.com)|64.233.187.207|:443... connected.\r\n",
      "HTTP request sent, awaiting response... 200 OK\r\n",
      "Length: 145898081 (139M) [application/zip]\r\n",
      "Saving to: '/tmp/chrome-linux64.zip'\r\n",
      "\r\n",
      "chrome-linux64.zip  100%[===================>] 139.14M  27.3MB/s    in 6.1s    \r\n",
      "\r\n",
      "2024-08-28 09:12:22 (22.9 MB/s) - '/tmp/chrome-linux64.zip' saved [145898081/145898081]\r\n",
      "\r\n",
      "Archive:  /tmp/chrome-linux64.zip\r\n",
      "  inflating: /usr/bin/chrome-linux64/MEIPreload/manifest.json  \r\n",
      "  inflating: /usr/bin/chrome-linux64/MEIPreload/preloaded_data.pb  \r\n",
      "  inflating: /usr/bin/chrome-linux64/chrome  \r\n",
      "  inflating: /usr/bin/chrome-linux64/chrome-wrapper  \r\n",
      "  inflating: /usr/bin/chrome-linux64/chrome_100_percent.pak  \r\n",
      "  inflating: /usr/bin/chrome-linux64/chrome_200_percent.pak  \r\n",
      "  inflating: /usr/bin/chrome-linux64/chrome_crashpad_handler  \r\n",
      "  inflating: /usr/bin/chrome-linux64/chrome_sandbox  \r\n",
      "  inflating: /usr/bin/chrome-linux64/icudtl.dat  \r\n",
      "  inflating: /usr/bin/chrome-linux64/libEGL.so  \r\n",
      "  inflating: /usr/bin/chrome-linux64/libGLESv2.so  \r\n",
      "  inflating: /usr/bin/chrome-linux64/libvk_swiftshader.so  \r\n",
      "  inflating: /usr/bin/chrome-linux64/libvulkan.so.1  \r\n",
      "  inflating: /usr/bin/chrome-linux64/nacl_helper  \r\n",
      "  inflating: /usr/bin/chrome-linux64/nacl_helper_bootstrap  \r\n",
      "  inflating: /usr/bin/chrome-linux64/nacl_irt_x86_64.nexe  \r\n",
      " extracting: /usr/bin/chrome-linux64/product_logo_48.png  \r\n",
      "  inflating: /usr/bin/chrome-linux64/resources.pak  \r\n",
      "  inflating: /usr/bin/chrome-linux64/v8_context_snapshot.bin  \r\n",
      "  inflating: /usr/bin/chrome-linux64/vk_swiftshader_icd.json  \r\n",
      "  inflating: /usr/bin/chrome-linux64/xdg-mime  \r\n",
      "  inflating: /usr/bin/chrome-linux64/xdg-settings  \r\n",
      "   creating: /usr/bin/chrome-linux64/locales/\r\n",
      "  inflating: /usr/bin/chrome-linux64/locales/fr.pak.info  \r\n",
      "  inflating: /usr/bin/chrome-linux64/locales/ur.pak.info  \r\n",
      "  inflating: /usr/bin/chrome-linux64/locales/sw.pak  \r\n",
      "  inflating: /usr/bin/chrome-linux64/locales/ar.pak  \r\n",
      "  inflating: /usr/bin/chrome-linux64/locales/sk.pak.info  \r\n",
      "  inflating: /usr/bin/chrome-linux64/locales/hu.pak.info  \r\n",
      "  inflating: /usr/bin/chrome-linux64/locales/ms.pak  \r\n",
      "  inflating: /usr/bin/chrome-linux64/locales/vi.pak.info  \r\n",
      "  inflating: /usr/bin/chrome-linux64/locales/es.pak  \r\n",
      "  inflating: /usr/bin/chrome-linux64/locales/he.pak.info  \r\n",
      "  inflating: /usr/bin/chrome-linux64/locales/hr.pak  \r\n",
      "  inflating: /usr/bin/chrome-linux64/locales/en-GB.pak  \r\n",
      "  inflating: /usr/bin/chrome-linux64/locales/zh-CN.pak  \r\n",
      "  inflating: /usr/bin/chrome-linux64/locales/pt-BR.pak.info  \r\n",
      "  inflating: /usr/bin/chrome-linux64/locales/en-US.pak.info  \r\n",
      "  inflating: /usr/bin/chrome-linux64/locales/de.pak.info  \r\n",
      "  inflating: /usr/bin/chrome-linux64/locales/af.pak.info  \r\n",
      "  inflating: /usr/bin/chrome-linux64/locales/fil.pak  \r\n",
      "  inflating: /usr/bin/chrome-linux64/locales/el.pak  \r\n",
      "  inflating: /usr/bin/chrome-linux64/locales/bg.pak  \r\n",
      "  inflating: /usr/bin/chrome-linux64/locales/fa.pak  \r\n",
      "  inflating: /usr/bin/chrome-linux64/locales/uk.pak  \r\n",
      "  inflating: /usr/bin/chrome-linux64/locales/kn.pak  \r\n",
      "  inflating: /usr/bin/chrome-linux64/locales/en-GB.pak.info  \r\n",
      "  inflating: /usr/bin/chrome-linux64/locales/sl.pak  \r\n",
      "  inflating: /usr/bin/chrome-linux64/locales/sv.pak.info  \r\n",
      "  inflating: /usr/bin/chrome-linux64/locales/ko.pak  \r\n",
      "  inflating: /usr/bin/chrome-linux64/locales/nb.pak  \r\n",
      "  inflating: /usr/bin/chrome-linux64/locales/tr.pak  \r\n",
      "  inflating: /usr/bin/chrome-linux64/locales/th.pak.info  \r\n",
      "  inflating: /usr/bin/chrome-linux64/locales/ar.pak.info  \r\n",
      "  inflating: /usr/bin/chrome-linux64/locales/pt-PT.pak.info  \r\n",
      "  inflating: /usr/bin/chrome-linux64/locales/pt-PT.pak  \r\n",
      "  inflating: /usr/bin/chrome-linux64/locales/vi.pak  \r\n",
      "  inflating: /usr/bin/chrome-linux64/locales/ml.pak.info  \r\n",
      "  inflating: /usr/bin/chrome-linux64/locales/es.pak.info  \r\n",
      "  inflating: /usr/bin/chrome-linux64/locales/mr.pak.info  \r\n",
      "  inflating: /usr/bin/chrome-linux64/locales/tr.pak.info  \r\n",
      "  inflating: /usr/bin/chrome-linux64/locales/hi.pak.info  \r\n",
      "  inflating: /usr/bin/chrome-linux64/locales/fa.pak.info  \r\n",
      "  inflating: /usr/bin/chrome-linux64/locales/ja.pak  \r\n",
      "  inflating: /usr/bin/chrome-linux64/locales/bg.pak.info  \r\n",
      "  inflating: /usr/bin/chrome-linux64/locales/sr.pak.info  \r\n",
      "  inflating: /usr/bin/chrome-linux64/locales/fi.pak  \r\n",
      "  inflating: /usr/bin/chrome-linux64/locales/ca.pak  \r\n",
      "  inflating: /usr/bin/chrome-linux64/locales/et.pak.info  \r\n",
      "  inflating: /usr/bin/chrome-linux64/locales/ko.pak.info  \r\n",
      "  inflating: /usr/bin/chrome-linux64/locales/gu.pak  \r\n",
      "  inflating: /usr/bin/chrome-linux64/locales/et.pak  \r\n",
      "  inflating: /usr/bin/chrome-linux64/locales/it.pak.info  \r\n",
      "  inflating: /usr/bin/chrome-linux64/locales/lv.pak.info  \r\n",
      "  inflating: /usr/bin/chrome-linux64/locales/sr.pak  \r\n",
      "  inflating: /usr/bin/chrome-linux64/locales/bn.pak  \r\n",
      "  inflating: /usr/bin/chrome-linux64/locales/pl.pak  \r\n",
      "  inflating: /usr/bin/chrome-linux64/locales/el.pak.info  \r\n",
      "  inflating: /usr/bin/chrome-linux64/locales/lv.pak  \r\n",
      "  inflating: /usr/bin/chrome-linux64/locales/ca.pak.info  \r\n",
      "  inflating: /usr/bin/chrome-linux64/locales/uk.pak.info  \r\n",
      "  inflating: /usr/bin/chrome-linux64/locales/nl.pak  \r\n",
      "  inflating: /usr/bin/chrome-linux64/locales/sw.pak.info  \r\n",
      "  inflating: /usr/bin/chrome-linux64/locales/de.pak  \r\n",
      "  inflating: /usr/bin/chrome-linux64/locales/af.pak  \r\n",
      "  inflating: /usr/bin/chrome-linux64/locales/hi.pak  \r\n",
      "  inflating: /usr/bin/chrome-linux64/locales/pl.pak.info  \r\n",
      "  inflating: /usr/bin/chrome-linux64/locales/he.pak  \r\n",
      "  inflating: /usr/bin/chrome-linux64/locales/sv.pak  \r\n",
      "  inflating: /usr/bin/chrome-linux64/locales/ms.pak.info  \r\n",
      "  inflating: /usr/bin/chrome-linux64/locales/sk.pak  \r\n",
      "  inflating: /usr/bin/chrome-linux64/locales/bn.pak.info  \r\n",
      "  inflating: /usr/bin/chrome-linux64/locales/cs.pak.info  \r\n",
      "  inflating: /usr/bin/chrome-linux64/locales/kn.pak.info  \r\n",
      "  inflating: /usr/bin/chrome-linux64/locales/zh-CN.pak.info  \r\n",
      "  inflating: /usr/bin/chrome-linux64/locales/id.pak.info  \r\n",
      "  inflating: /usr/bin/chrome-linux64/locales/es-419.pak.info  \r\n",
      "  inflating: /usr/bin/chrome-linux64/locales/lt.pak  \r\n",
      "  inflating: /usr/bin/chrome-linux64/locales/ur.pak  \r\n",
      "  inflating: /usr/bin/chrome-linux64/locales/ta.pak.info  \r\n",
      "  inflating: /usr/bin/chrome-linux64/locales/zh-TW.pak  \r\n",
      "  inflating: /usr/bin/chrome-linux64/locales/te.pak  \r\n",
      "  inflating: /usr/bin/chrome-linux64/locales/ja.pak.info  \r\n",
      "  inflating: /usr/bin/chrome-linux64/locales/en-US.pak  \r\n",
      "  inflating: /usr/bin/chrome-linux64/locales/nb.pak.info  \r\n",
      "  inflating: /usr/bin/chrome-linux64/locales/it.pak  \r\n",
      "  inflating: /usr/bin/chrome-linux64/locales/es-419.pak  \r\n",
      "  inflating: /usr/bin/chrome-linux64/locales/nl.pak.info  \r\n",
      "  inflating: /usr/bin/chrome-linux64/locales/cs.pak  \r\n",
      "  inflating: /usr/bin/chrome-linux64/locales/zh-TW.pak.info  \r\n",
      "  inflating: /usr/bin/chrome-linux64/locales/ru.pak.info  \r\n",
      "  inflating: /usr/bin/chrome-linux64/locales/da.pak  \r\n",
      "  inflating: /usr/bin/chrome-linux64/locales/lt.pak.info  \r\n",
      "  inflating: /usr/bin/chrome-linux64/locales/ml.pak  \r\n",
      "  inflating: /usr/bin/chrome-linux64/locales/mr.pak  \r\n",
      "  inflating: /usr/bin/chrome-linux64/locales/pt-BR.pak  \r\n",
      "  inflating: /usr/bin/chrome-linux64/locales/da.pak.info  \r\n",
      "  inflating: /usr/bin/chrome-linux64/locales/te.pak.info  \r\n",
      "  inflating: /usr/bin/chrome-linux64/locales/fil.pak.info  \r\n",
      "  inflating: /usr/bin/chrome-linux64/locales/ta.pak  \r\n",
      "  inflating: /usr/bin/chrome-linux64/locales/id.pak  \r\n",
      "  inflating: /usr/bin/chrome-linux64/locales/am.pak.info  \r\n",
      "  inflating: /usr/bin/chrome-linux64/locales/am.pak  \r\n",
      "  inflating: /usr/bin/chrome-linux64/locales/hu.pak  \r\n",
      "  inflating: /usr/bin/chrome-linux64/locales/fi.pak.info  \r\n",
      "  inflating: /usr/bin/chrome-linux64/locales/sl.pak.info  \r\n",
      "  inflating: /usr/bin/chrome-linux64/locales/ro.pak  \r\n",
      "  inflating: /usr/bin/chrome-linux64/locales/th.pak  \r\n",
      "  inflating: /usr/bin/chrome-linux64/locales/fr.pak  \r\n",
      "  inflating: /usr/bin/chrome-linux64/locales/gu.pak.info  \r\n",
      "  inflating: /usr/bin/chrome-linux64/locales/ru.pak  \r\n",
      "  inflating: /usr/bin/chrome-linux64/locales/ro.pak.info  \r\n",
      "  inflating: /usr/bin/chrome-linux64/locales/hr.pak.info  \r\n",
      "   creating: /usr/bin/chrome-linux64/resources/\r\n",
      "   creating: /usr/bin/chrome-linux64/resources/inspector_overlay/\r\n",
      "  inflating: /usr/bin/chrome-linux64/resources/inspector_overlay/inspector_overlay_resources.grd  \r\n",
      "  inflating: /usr/bin/chrome-linux64/resources/inspector_overlay/main.js  \r\n"
     ]
    }
   ],
   "source": [
    "!wget -P /tmp https://edgedl.me.gvt1.com/edgedl/chrome/chrome-for-testing/116.0.5845.96/linux64/chrome-linux64.zip\n",
    "!unzip /tmp/chrome-linux64.zip -d /usr/bin/"
   ]
  },
  {
   "cell_type": "markdown",
   "id": "60eaf4d1",
   "metadata": {
    "papermill": {
     "duration": 0.017014,
     "end_time": "2024-08-28T09:12:27.971537",
     "exception": false,
     "start_time": "2024-08-28T09:12:27.954523",
     "status": "completed"
    },
    "tags": []
   },
   "source": [
    "## 1.3. Download and extract Chromedriver:\n",
    "\n",
    "As it was done in the previous code."
   ]
  },
  {
   "cell_type": "code",
   "execution_count": 3,
   "id": "9812d3bf",
   "metadata": {
    "execution": {
     "iopub.execute_input": "2024-08-28T09:12:28.008923Z",
     "iopub.status.busy": "2024-08-28T09:12:28.007853Z",
     "iopub.status.idle": "2024-08-28T09:12:32.101611Z",
     "shell.execute_reply": "2024-08-28T09:12:32.100546Z"
    },
    "papermill": {
     "duration": 4.115385,
     "end_time": "2024-08-28T09:12:32.104269",
     "exception": false,
     "start_time": "2024-08-28T09:12:27.988884",
     "status": "completed"
    },
    "tags": []
   },
   "outputs": [
    {
     "name": "stdout",
     "output_type": "stream",
     "text": [
      "--2024-08-28 09:12:28--  https://edgedl.me.gvt1.com/edgedl/chrome/chrome-for-testing/116.0.5845.96/linux64/chromedriver-linux64.zip\r\n",
      "Resolving edgedl.me.gvt1.com (edgedl.me.gvt1.com)... 34.104.35.123, 2600:1900:4110:86f::\r\n",
      "Connecting to edgedl.me.gvt1.com (edgedl.me.gvt1.com)|34.104.35.123|:443... connected.\r\n",
      "HTTP request sent, awaiting response... 302 Found\r\n",
      "Location: https://storage.googleapis.com/chrome-for-testing-public/116.0.5845.96/linux64/chromedriver-linux64.zip [following]\r\n",
      "--2024-08-28 09:12:29--  https://storage.googleapis.com/chrome-for-testing-public/116.0.5845.96/linux64/chromedriver-linux64.zip\r\n",
      "Resolving storage.googleapis.com (storage.googleapis.com)... 64.233.189.207, 74.125.23.207, 74.125.203.207, ...\r\n",
      "Connecting to storage.googleapis.com (storage.googleapis.com)|64.233.189.207|:443... connected.\r\n",
      "HTTP request sent, awaiting response... 200 OK\r\n",
      "Length: 7271942 (6.9M) [application/zip]\r\n",
      "Saving to: '/tmp/chromedriver-linux64.zip'\r\n",
      "\r\n",
      "chromedriver-linux6 100%[===================>]   6.93M  6.35MB/s    in 1.1s    \r\n",
      "\r\n",
      "2024-08-28 09:12:30 (6.35 MB/s) - '/tmp/chromedriver-linux64.zip' saved [7271942/7271942]\r\n",
      "\r\n",
      "Archive:  /tmp/chromedriver-linux64.zip\r\n",
      "  inflating: /usr/bin/chromedriver-linux64/LICENSE.chromedriver  \r\n",
      "  inflating: /usr/bin/chromedriver-linux64/chromedriver  \r\n"
     ]
    }
   ],
   "source": [
    "!wget -P /tmp https://edgedl.me.gvt1.com/edgedl/chrome/chrome-for-testing/116.0.5845.96/linux64/chromedriver-linux64.zip\n",
    "!unzip /tmp/chromedriver-linux64.zip -d /usr/bin/"
   ]
  },
  {
   "cell_type": "markdown",
   "id": "77e66e97",
   "metadata": {
    "papermill": {
     "duration": 0.017673,
     "end_time": "2024-08-28T09:12:32.140515",
     "exception": false,
     "start_time": "2024-08-28T09:12:32.122842",
     "status": "completed"
    },
    "tags": []
   },
   "source": [
    "## 1.4. Install Python libraries"
   ]
  },
  {
   "cell_type": "code",
   "execution_count": 4,
   "id": "6eb72447",
   "metadata": {
    "execution": {
     "iopub.execute_input": "2024-08-28T09:12:32.178223Z",
     "iopub.status.busy": "2024-08-28T09:12:32.177837Z",
     "iopub.status.idle": "2024-08-28T09:13:04.170828Z",
     "shell.execute_reply": "2024-08-28T09:13:04.169661Z"
    },
    "papermill": {
     "duration": 32.015033,
     "end_time": "2024-08-28T09:13:04.173465",
     "exception": false,
     "start_time": "2024-08-28T09:12:32.158432",
     "status": "completed"
    },
    "tags": []
   },
   "outputs": [
    {
     "name": "stdout",
     "output_type": "stream",
     "text": [
      "\r\n",
      "\r\n",
      "\r\n",
      "The following additional packages will be installed:\r\n",
      "  apparmor chromium-browser chromium-chromedriver liblzo2-2 snapd\r\n",
      "  squashfs-tools\r\n",
      "Suggested packages:\r\n",
      "  apparmor-profiles-extra apparmor-utils zenity | kdialog\r\n",
      "The following NEW packages will be installed:\r\n",
      "  apparmor chromium-browser chromium-chromedriver liblzo2-2 python3-selenium\r\n",
      "  snapd squashfs-tools\r\n",
      "0 upgraded, 7 newly installed, 0 to remove and 128 not upgraded.\r\n",
      "Need to get 25.9 MB of archives.\r\n",
      "After this operation, 107 MB of additional disk space will be used.\r\n",
      "Get:1 http://archive.ubuntu.com/ubuntu focal-updates/main amd64 apparmor amd64 2.13.3-7ubuntu5.3 [502 kB]\r\n",
      "Get:2 http://archive.ubuntu.com/ubuntu focal/main amd64 liblzo2-2 amd64 2.10-2 [50.8 kB]\r\n",
      "Get:3 http://archive.ubuntu.com/ubuntu focal-updates/main amd64 squashfs-tools amd64 1:4.4-1ubuntu0.3 [117 kB]\r\n",
      "Get:4 http://archive.ubuntu.com/ubuntu focal-updates/main amd64 snapd amd64 2.63+20.04ubuntu0.1 [25.1 MB]\r\n",
      "Get:5 http://archive.ubuntu.com/ubuntu focal-updates/universe amd64 chromium-browser amd64 1:85.0.4183.83-0ubuntu0.20.04.3 [48.5 kB]\r\n",
      "Get:6 http://archive.ubuntu.com/ubuntu focal-updates/universe amd64 chromium-chromedriver amd64 1:85.0.4183.83-0ubuntu0.20.04.3 [2496 B]\r\n",
      "Get:7 http://archive.ubuntu.com/ubuntu focal/universe amd64 python3-selenium all 4.0.0~a1+dfsg1-1.1 [86.2 kB]\r\n",
      "Fetched 25.9 MB in 4s (6378 kB/s)\r\n",
      "Preconfiguring packages ...\r\n",
      "\n",
      "\u001b7\u001b[0;23r\u001b8\u001b[1ASelecting previously unselected package apparmor.\r\n",
      "(Reading database ... 109076 files and directories currently installed.)\r\n",
      "Preparing to unpack .../apparmor_2.13.3-7ubuntu5.3_amd64.deb ...\r\n",
      "\u001b7\u001b[24;0f\u001b[42m\u001b[30mProgress: [  0%]\u001b[49m\u001b[39m [..........................................................] \u001b8\u001b7\u001b[24;0f\u001b[42m\u001b[30mProgress: [  3%]\u001b[49m\u001b[39m [##........................................................] \u001b8Unpacking apparmor (2.13.3-7ubuntu5.3) ...\r\n",
      "\u001b7\u001b[24;0f\u001b[42m\u001b[30mProgress: [  7%]\u001b[49m\u001b[39m [####......................................................] \u001b8Selecting previously unselected package liblzo2-2:amd64.\r\n",
      "Preparing to unpack .../liblzo2-2_2.10-2_amd64.deb ...\r\n",
      "\u001b7\u001b[24;0f\u001b[42m\u001b[30mProgress: [ 10%]\u001b[49m\u001b[39m [######....................................................] \u001b8Unpacking liblzo2-2:amd64 (2.10-2) ...\r\n",
      "\u001b7\u001b[24;0f\u001b[42m\u001b[30mProgress: [ 14%]\u001b[49m\u001b[39m [########..................................................] \u001b8Selecting previously unselected package squashfs-tools.\r\n",
      "Preparing to unpack .../squashfs-tools_1%3a4.4-1ubuntu0.3_amd64.deb ...\r\n",
      "\u001b7\u001b[24;0f\u001b[42m\u001b[30mProgress: [ 17%]\u001b[49m\u001b[39m [#########.................................................] \u001b8Unpacking squashfs-tools (1:4.4-1ubuntu0.3) ...\r\n",
      "\u001b7\u001b[24;0f\u001b[42m\u001b[30mProgress: [ 21%]\u001b[49m\u001b[39m [############..............................................] \u001b8Selecting previously unselected package snapd.\r\n",
      "Preparing to unpack .../snapd_2.63+20.04ubuntu0.1_amd64.deb ...\r\n",
      "\u001b7\u001b[24;0f\u001b[42m\u001b[30mProgress: [ 24%]\u001b[49m\u001b[39m [##############............................................] \u001b8Unpacking snapd (2.63+20.04ubuntu0.1) ...\r\n",
      "\u001b7\u001b[24;0f\u001b[42m\u001b[30mProgress: [ 28%]\u001b[49m\u001b[39m [################..........................................] \u001b8Setting up apparmor (2.13.3-7ubuntu5.3) ...\r\n",
      "\u001b7\u001b[24;0f\u001b[42m\u001b[30mProgress: [ 31%]\u001b[49m\u001b[39m [##################........................................] \u001b8Created symlink /etc/systemd/system/sysinit.target.wants/apparmor.service -> /lib/systemd/system/apparmor.service.\r\n",
      "\u001b7\u001b[24;0f\u001b[42m\u001b[30mProgress: [ 34%]\u001b[49m\u001b[39m [###################.......................................] \u001b8Setting up liblzo2-2:amd64 (2.10-2) ...\r\n",
      "\u001b7\u001b[24;0f\u001b[42m\u001b[30mProgress: [ 38%]\u001b[49m\u001b[39m [######################....................................] \u001b8\u001b7\u001b[24;0f\u001b[42m\u001b[30mProgress: [ 41%]\u001b[49m\u001b[39m [########################..................................] \u001b8Setting up squashfs-tools (1:4.4-1ubuntu0.3) ...\r\n",
      "\u001b7\u001b[24;0f\u001b[42m\u001b[30mProgress: [ 45%]\u001b[49m\u001b[39m [##########################................................] \u001b8\u001b7\u001b[24;0f\u001b[42m\u001b[30mProgress: [ 48%]\u001b[49m\u001b[39m [############################..............................] \u001b8Setting up snapd (2.63+20.04ubuntu0.1) ...\r\n",
      "\u001b7\u001b[24;0f\u001b[42m\u001b[30mProgress: [ 52%]\u001b[49m\u001b[39m [#############################.............................] \u001b8Created symlink /etc/systemd/system/multi-user.target.wants/snapd.apparmor.service -> /lib/systemd/system/snapd.apparmor.service.\r\n",
      "Created symlink /etc/systemd/system/multi-user.target.wants/snapd.autoimport.service -> /lib/systemd/system/snapd.autoimport.service.\r\n",
      "Created symlink /etc/systemd/system/multi-user.target.wants/snapd.core-fixup.service -> /lib/systemd/system/snapd.core-fixup.service.\r\n",
      "Created symlink /etc/systemd/system/multi-user.target.wants/snapd.recovery-chooser-trigger.service -> /lib/systemd/system/snapd.recovery-chooser-trigger.service.\r\n",
      "Created symlink /etc/systemd/system/multi-user.target.wants/snapd.seeded.service -> /lib/systemd/system/snapd.seeded.service.\r\n",
      "Created symlink /etc/systemd/system/cloud-final.service.wants/snapd.seeded.service -> /lib/systemd/system/snapd.seeded.service.\r\n",
      "Created symlink /etc/systemd/system/multi-user.target.wants/snapd.service -> /lib/systemd/system/snapd.service.\r\n",
      "Created symlink /etc/systemd/system/timers.target.wants/snapd.snap-repair.timer -> /lib/systemd/system/snapd.snap-repair.timer.\r\n",
      "Created symlink /etc/systemd/system/sockets.target.wants/snapd.socket -> /lib/systemd/system/snapd.socket.\r\n",
      "Created symlink /etc/systemd/system/final.target.wants/snapd.system-shutdown.service -> /lib/systemd/system/snapd.system-shutdown.service.\r\n",
      "\u001b7\u001b[24;0f\u001b[42m\u001b[30mProgress: [ 55%]\u001b[49m\u001b[39m [################################..........................] \u001b8Selecting previously unselected package chromium-browser.\r\n",
      "(Reading database ... 109369 files and directories currently installed.)\r\n",
      "Preparing to unpack .../chromium-browser_1%3a85.0.4183.83-0ubuntu0.20.04.3_amd64.deb ...\r\n",
      "\u001b7\u001b[24;0f\u001b[42m\u001b[30mProgress: [ 59%]\u001b[49m\u001b[39m [##################################........................] \u001b8=> Installing the chromium snap\r\n",
      "==> Checking connectivity with the snap store\r\n",
      "===> System doesn't have a working snapd, skipping\r\n",
      "Unpacking chromium-browser (1:85.0.4183.83-0ubuntu0.20.04.3) ...\r\n",
      "\u001b7\u001b[24;0f\u001b[42m\u001b[30mProgress: [ 62%]\u001b[49m\u001b[39m [####################################......................] \u001b8Selecting previously unselected package chromium-chromedriver.\r\n",
      "Preparing to unpack .../chromium-chromedriver_1%3a85.0.4183.83-0ubuntu0.20.04.3_amd64.deb ...\r\n",
      "\u001b7\u001b[24;0f\u001b[42m\u001b[30mProgress: [ 66%]\u001b[49m\u001b[39m [######################################....................] \u001b8Unpacking chromium-chromedriver (1:85.0.4183.83-0ubuntu0.20.04.3) ...\r\n",
      "\u001b7\u001b[24;0f\u001b[42m\u001b[30mProgress: [ 69%]\u001b[49m\u001b[39m [#######################################...................] \u001b8Selecting previously unselected package python3-selenium.\r\n",
      "Preparing to unpack .../python3-selenium_4.0.0~a1+dfsg1-1.1_all.deb ...\r\n",
      "\u001b7\u001b[24;0f\u001b[42m\u001b[30mProgress: [ 72%]\u001b[49m\u001b[39m [##########################################................] \u001b8Unpacking python3-selenium (4.0.0~a1+dfsg1-1.1) ...\r\n",
      "\u001b7\u001b[24;0f\u001b[42m\u001b[30mProgress: [ 76%]\u001b[49m\u001b[39m [############################################..............] \u001b8Setting up python3-selenium (4.0.0~a1+dfsg1-1.1) ...\r\n",
      "\u001b7\u001b[24;0f\u001b[42m\u001b[30mProgress: [ 79%]\u001b[49m\u001b[39m [##############################################............] \u001b8\u001b7\u001b[24;0f\u001b[42m\u001b[30mProgress: [ 83%]\u001b[49m\u001b[39m [################################################..........] \u001b8Setting up chromium-browser (1:85.0.4183.83-0ubuntu0.20.04.3) ...\r\n",
      "\u001b7\u001b[24;0f\u001b[42m\u001b[30mProgress: [ 86%]\u001b[49m\u001b[39m [##################################################........] \u001b8update-alternatives: using /usr/bin/chromium-browser to provide /usr/bin/x-www-browser (x-www-browser) in auto mode\r\n",
      "update-alternatives: using /usr/bin/chromium-browser to provide /usr/bin/gnome-www-browser (gnome-www-browser) in auto mode\r\n",
      "\u001b7\u001b[24;0f\u001b[42m\u001b[30mProgress: [ 90%]\u001b[49m\u001b[39m [####################################################......] \u001b8Setting up chromium-chromedriver (1:85.0.4183.83-0ubuntu0.20.04.3) ...\r\n",
      "\u001b7\u001b[24;0f\u001b[42m\u001b[30mProgress: [ 93%]\u001b[49m\u001b[39m [#####################################################.....] \u001b8\u001b7\u001b[24;0f\u001b[42m\u001b[30mProgress: [ 97%]\u001b[49m\u001b[39m [########################################################..] \u001b8Processing triggers for mime-support (3.64ubuntu1) ...\r\n",
      "Processing triggers for hicolor-icon-theme (0.17-2) ...\r\n",
      "Processing triggers for libc-bin (2.31-0ubuntu9.9) ...\r\n",
      "Processing triggers for systemd (245.4-4ubuntu3.22) ...\r\n",
      "Processing triggers for man-db (2.9.1-1) ...\r\n",
      "Processing triggers for dbus (1.12.16-2ubuntu2.3) ...\r\n",
      "\r\n",
      "\u001b7\u001b[0;24r\u001b8\u001b[1A\u001b[JCollecting selenium==3.141.0\r\n",
      "  Obtaining dependency information for selenium==3.141.0 from https://files.pythonhosted.org/packages/80/d6/4294f0b4bce4de0abf13e17190289f9d0613b0a44e5dd6a7f5ca98459853/selenium-3.141.0-py2.py3-none-any.whl.metadata\r\n",
      "  Downloading selenium-3.141.0-py2.py3-none-any.whl.metadata (6.6 kB)\r\n",
      "Requirement already satisfied: urllib3 in /opt/conda/lib/python3.10/site-packages (from selenium==3.141.0) (1.26.15)\r\n",
      "Downloading selenium-3.141.0-py2.py3-none-any.whl (904 kB)\r\n",
      "\u001b[2K   \u001b[90m━━━━━━━━━━━━━━━━━━━━━━━━━━━━━━━━━━━━━━━━\u001b[0m \u001b[32m904.6/904.6 kB\u001b[0m \u001b[31m11.4 MB/s\u001b[0m eta \u001b[36m0:00:00\u001b[0m\r\n",
      "\u001b[?25hInstalling collected packages: selenium\r\n",
      "Successfully installed selenium-3.141.0\r\n"
     ]
    }
   ],
   "source": [
    "!apt install -y python3-selenium\n",
    "!pip install selenium==3.141.0"
   ]
  },
  {
   "cell_type": "markdown",
   "id": "eda08756",
   "metadata": {
    "papermill": {
     "duration": 0.023372,
     "end_time": "2024-08-28T09:13:04.220870",
     "exception": false,
     "start_time": "2024-08-28T09:13:04.197498",
     "status": "completed"
    },
    "tags": []
   },
   "source": [
    "# 2.Importing Libraries\n",
    "\n",
    "You will also need to install the following Python libraries:\n",
    "\n",
    "* **selenium**: The Selenium library provides the API for interacting with web pages.\n",
    "* **webdriver**: The webdriver library provides a way to interact with web drivers, such as Chromedriver.\n",
    "* **BeautifulSoup**: The BeautifulSoup library is used for parsing HTML content."
   ]
  },
  {
   "cell_type": "code",
   "execution_count": 5,
   "id": "af890dcd",
   "metadata": {
    "_cell_guid": "b1076dfc-b9ad-4769-8c92-a6c4dae69d19",
    "_uuid": "8f2839f25d086af736a60e9eeb907d3b93b6e0e5",
    "execution": {
     "iopub.execute_input": "2024-08-28T09:13:04.270542Z",
     "iopub.status.busy": "2024-08-28T09:13:04.270146Z",
     "iopub.status.idle": "2024-08-28T09:13:05.361208Z",
     "shell.execute_reply": "2024-08-28T09:13:05.360155Z"
    },
    "papermill": {
     "duration": 1.1196,
     "end_time": "2024-08-28T09:13:05.363976",
     "exception": false,
     "start_time": "2024-08-28T09:13:04.244376",
     "status": "completed"
    },
    "tags": []
   },
   "outputs": [],
   "source": [
    "import pandas as pd # data processing, CSV file I/O (e.g. pd.read_csv)\n",
    "import requests\n",
    "from bs4 import BeautifulSoup\n",
    "from tqdm import tqdm"
   ]
  },
  {
   "cell_type": "code",
   "execution_count": 6,
   "id": "8476b8c0",
   "metadata": {
    "execution": {
     "iopub.execute_input": "2024-08-28T09:13:05.415241Z",
     "iopub.status.busy": "2024-08-28T09:13:05.414431Z",
     "iopub.status.idle": "2024-08-28T09:13:05.421860Z",
     "shell.execute_reply": "2024-08-28T09:13:05.420977Z"
    },
    "papermill": {
     "duration": 0.035705,
     "end_time": "2024-08-28T09:13:05.423977",
     "exception": false,
     "start_time": "2024-08-28T09:13:05.388272",
     "status": "completed"
    },
    "tags": []
   },
   "outputs": [],
   "source": [
    "from retrying import retry\n",
    "import time\n",
    "import traceback"
   ]
  },
  {
   "cell_type": "markdown",
   "id": "0d0c1a3e",
   "metadata": {
    "papermill": {
     "duration": 0.085246,
     "end_time": "2024-08-28T09:13:05.533052",
     "exception": false,
     "start_time": "2024-08-28T09:13:05.447806",
     "status": "completed"
    },
    "tags": []
   },
   "source": [
    "# 3. Configuring Chrome Driver\n",
    "\n",
    "These functions define the locations of Chrome and Chromedriver executables. Additionally, initialize_driver creates a Chrome webdriver instance with specific options:\n",
    "\n",
    "* *--headless*: Runs Chrome in headless mode, making it invisible.\n",
    "* *--no-sandbox*: Disables the sandbox for improved performance.\n",
    "* *--start-fullscreen*: Starts Chrome in fullscreen mode.\n",
    "* *--allow-insecure-localhost*: Allows access to insecure local websites (if needed).\n",
    "* *--disable-dev-shm-usage*: Disables shared memory usage for Chrome.\n",
    "* *user-agent*: Sets the user agent string to mimic a regular browser."
   ]
  },
  {
   "cell_type": "code",
   "execution_count": 7,
   "id": "07e7593d",
   "metadata": {
    "execution": {
     "iopub.execute_input": "2024-08-28T09:13:05.582481Z",
     "iopub.status.busy": "2024-08-28T09:13:05.582069Z",
     "iopub.status.idle": "2024-08-28T09:13:05.612912Z",
     "shell.execute_reply": "2024-08-28T09:13:05.611791Z"
    },
    "papermill": {
     "duration": 0.05911,
     "end_time": "2024-08-28T09:13:05.615939",
     "exception": false,
     "start_time": "2024-08-28T09:13:05.556829",
     "status": "completed"
    },
    "tags": []
   },
   "outputs": [],
   "source": [
    "from selenium import webdriver\n",
    "from selenium.webdriver.chrome.options import Options\n",
    "from selenium.webdriver.common.by import By\n",
    "from selenium.webdriver.support.ui import WebDriverWait\n",
    "from selenium.webdriver.support import expected_conditions as EC\n",
    "from selenium.webdriver.common.action_chains import ActionChains\n",
    "\n",
    "CHROME_BINARY_LOCATION = \"/usr/bin/chrome-linux64/chrome\"\n",
    "CHROMEDRIVER_BINARY_LOCATION = \"/usr/bin/chromedriver-linux64/chromedriver\"\n",
    "\n",
    "def add_driver_options(options):\n",
    "    \"\"\"\n",
    "    Add configurable options\n",
    "    \"\"\"\n",
    "    chrome_options = Options()\n",
    "    for opt in options:\n",
    "        chrome_options.add_argument(opt)\n",
    "    return chrome_options\n",
    "\n",
    "def initialize_driver():\n",
    "    \"\"\"\n",
    "    Initialize the web driver\n",
    "    \"\"\"\n",
    "    driver_config = {\n",
    "        \"options\": [\n",
    "            \"--headless\",\n",
    "            \"--no-sandbox\",\n",
    "            \"--start-fullscreen\",\n",
    "            \"--allow-insecure-localhost\",\n",
    "            \"--disable-dev-shm-usage\",\n",
    "            \"user-agent=Chrome/116.0.5845.96\"\n",
    "        ],\n",
    "    }\n",
    "    options = add_driver_options(driver_config[\"options\"])\n",
    "    options.binary_location = CHROME_BINARY_LOCATION\n",
    "    driver = webdriver.Chrome(\n",
    "        executable_path=CHROMEDRIVER_BINARY_LOCATION,\n",
    "        options=options)\n",
    "    return driver\n"
   ]
  },
  {
   "cell_type": "markdown",
   "id": "a02d1fa5",
   "metadata": {
    "papermill": {
     "duration": 0.024425,
     "end_time": "2024-08-28T09:13:05.665501",
     "exception": false,
     "start_time": "2024-08-28T09:13:05.641076",
     "status": "completed"
    },
    "tags": []
   },
   "source": [
    "# 4. Using Selenium to scrape movie_urls and reviews"
   ]
  },
  {
   "cell_type": "code",
   "execution_count": 8,
   "id": "f4b7bb79",
   "metadata": {
    "execution": {
     "iopub.execute_input": "2024-08-28T09:13:05.716294Z",
     "iopub.status.busy": "2024-08-28T09:13:05.715930Z",
     "iopub.status.idle": "2024-08-28T09:13:05.728375Z",
     "shell.execute_reply": "2024-08-28T09:13:05.727262Z"
    },
    "papermill": {
     "duration": 0.040904,
     "end_time": "2024-08-28T09:13:05.730801",
     "exception": false,
     "start_time": "2024-08-28T09:13:05.689897",
     "status": "completed"
    },
    "tags": []
   },
   "outputs": [],
   "source": [
    "from selenium import webdriver\n",
    "from selenium.webdriver.chrome.options import Options\n",
    "from selenium.webdriver.common.by import By\n",
    "from selenium.webdriver.support.ui import WebDriverWait\n",
    "from selenium.webdriver.support import expected_conditions as EC\n",
    "from tqdm import tqdm\n",
    "import pandas as pd\n",
    "\n",
    "# Define the WebDriver initialization function\n",
    "def initialize_driver():\n",
    "    CHROME_BINARY_LOCATION = \"/usr/bin/chrome-linux64/chrome\"\n",
    "    CHROMEDRIVER_BINARY_LOCATION = \"/usr/bin/chromedriver-linux64/chromedriver\"\n",
    "\n",
    "    chrome_options = Options()\n",
    "    chrome_options.binary_location = CHROME_BINARY_LOCATION\n",
    "    chrome_options.add_argument(\"--headless\")\n",
    "    chrome_options.add_argument(\"--no-sandbox\")\n",
    "    chrome_options.add_argument(\"--start-fullscreen\")\n",
    "    chrome_options.add_argument(\"--allow-insecure-localhost\")\n",
    "    chrome_options.add_argument(\"--disable-dev-shm-usage\")\n",
    "    chrome_options.add_argument(\"user-agent=Chrome/116.0.5845.96\")\n",
    "\n",
    "    driver = webdriver.Chrome(\n",
    "        executable_path=CHROMEDRIVER_BINARY_LOCATION,\n",
    "        options=chrome_options\n",
    "    )\n",
    "    return driver\n",
    "\n",
    "# Define the function to scrape movie URLs\n",
    "def scrape_movie_urls(driver, num_movies):\n",
    "    \"\"\"\n",
    "    Scrape a number of popular movie URLs from Letterboxd.\n",
    "\n",
    "    Args:\n",
    "        driver (webdriver.Chrome): The initialized Chrome driver.\n",
    "        num_movies (int): Number of movie URLs to scrape.\n",
    "\n",
    "    Returns:\n",
    "        pd.DataFrame: DataFrame containing the movie URLs.\n",
    "    \"\"\"\n",
    "    print(\"...Connected to selenium service!\")\n",
    "    movie_urls = []\n",
    "    page = 1\n",
    "    \n",
    "    # Initialize the DataFrame at the start to avoid UnboundLocalError\n",
    "    df = pd.DataFrame(columns=['url'])\n",
    "\n",
    "    try:\n",
    "        while len(movie_urls) < num_movies:\n",
    "            driver.get(f\"https://letterboxd.com/films/popular/page/{page}/\")\n",
    "            \n",
    "            # Wait for the movie elements to be present\n",
    "            WebDriverWait(driver, 10).until(\n",
    "                EC.presence_of_all_elements_located((By.CSS_SELECTOR, 'a.frame'))\n",
    "            )\n",
    "            \n",
    "            elements = driver.find_elements(By.CSS_SELECTOR, 'a.frame')\n",
    "            for element in tqdm(elements, desc=f\"Processing Page {page}\", leave=False):\n",
    "                if len(movie_urls) >= num_movies:\n",
    "                    break\n",
    "                movie_urls.append(element.get_attribute('href'))\n",
    "            \n",
    "            print(f\"Page {page} processed, {len(movie_urls)} URLs found.\")\n",
    "            page += 1\n",
    "        \n",
    "        # Convert the list to a DataFrame once the scraping loop is done\n",
    "        df = pd.DataFrame(movie_urls, columns=['url'])\n",
    "        print(\"Movie URLs successfully scraped!\\nMovie URLs preview:\")\n",
    "        print(df.head().to_string())\n",
    "    \n",
    "    except Exception as e:\n",
    "        print(f\"An error occurred: {e}\")\n",
    "    \n",
    "    finally:\n",
    "        print(\"\\nClosing connection to selenium webdriver...\")\n",
    "        driver.quit()\n",
    "        print(\"Connection closed successfully!\\n\\n\")\n",
    "    \n",
    "    return df\n",
    "\n",
    "\n"
   ]
  },
  {
   "cell_type": "code",
   "execution_count": 9,
   "id": "bfe2c24a",
   "metadata": {
    "execution": {
     "iopub.execute_input": "2024-08-28T09:13:05.782590Z",
     "iopub.status.busy": "2024-08-28T09:13:05.781698Z",
     "iopub.status.idle": "2024-08-28T09:13:05.802824Z",
     "shell.execute_reply": "2024-08-28T09:13:05.801879Z"
    },
    "papermill": {
     "duration": 0.049993,
     "end_time": "2024-08-28T09:13:05.805375",
     "exception": false,
     "start_time": "2024-08-28T09:13:05.755382",
     "status": "completed"
    },
    "tags": []
   },
   "outputs": [],
   "source": [
    "from selenium import webdriver\n",
    "from selenium.webdriver.chrome.service import Service\n",
    "from selenium.webdriver.chrome.options import Options\n",
    "from selenium.webdriver.common.by import By\n",
    "from selenium.webdriver.support.ui import WebDriverWait\n",
    "from selenium.webdriver.support import expected_conditions as EC\n",
    "from selenium.common.exceptions import NoSuchElementException, TimeoutException\n",
    "from tqdm import tqdm\n",
    "import pandas as pd\n",
    "import os\n",
    "\n",
    "# Initialize the WebDriver\n",
    "def initialize_driver():\n",
    "    CHROME_BINARY_LOCATION = \"/usr/bin/chrome-linux64/chrome\"\n",
    "    CHROMEDRIVER_BINARY_LOCATION = \"/usr/bin/chromedriver-linux64/chromedriver\"\n",
    "\n",
    "    chrome_options = Options()\n",
    "    chrome_options.binary_location = CHROME_BINARY_LOCATION\n",
    "    chrome_options.add_argument(\"--headless\")\n",
    "    chrome_options.add_argument(\"--no-sandbox\")\n",
    "    chrome_options.add_argument(\"--start-fullscreen\")\n",
    "    chrome_options.add_argument(\"--allow-insecure-localhost\")\n",
    "    chrome_options.add_argument(\"--disable-dev-shm-usage\")\n",
    "    chrome_options.add_argument(\"user-agent=Chrome/116.0.5845.96\")\n",
    "\n",
    "    driver = webdriver.Chrome(\n",
    "        executable_path=CHROMEDRIVER_BINARY_LOCATION,\n",
    "        options=chrome_options\n",
    "    )\n",
    "    return driver\n",
    "\n",
    "# Normalize the star rating\n",
    "def normalize_rating(star_rating):\n",
    "    rating_map = {'★': 0.2, '½': 0.1}\n",
    "    return sum(rating_map[char] for char in star_rating if char in rating_map)\n",
    "\n",
    "# Extract review details from a review element\n",
    "def extract_movie_review_details(element):\n",
    "    review = {}\n",
    "\n",
    "    try:\n",
    "        user_url_element = element.find_element(By.CSS_SELECTOR, 'a.avatar.-a40')\n",
    "        review['user_url'] = user_url_element.get_attribute('href')\n",
    "    except NoSuchElementException:\n",
    "        review['user_url'] = None\n",
    "\n",
    "    try:\n",
    "        review_text_element = element.find_element(By.CSS_SELECTOR, 'div.body-text.-prose.collapsible-text')\n",
    "        review['review_text'] = review_text_element.text\n",
    "    except NoSuchElementException:\n",
    "        review['review_text'] = None\n",
    "\n",
    "    try:\n",
    "        rating_element = element.find_element(By.CSS_SELECTOR, 'span.rating')\n",
    "        review['rating'] = normalize_rating(rating_element.text)\n",
    "    except NoSuchElementException:\n",
    "        review['rating'] = None\n",
    "\n",
    "    try:\n",
    "        review_date_element = element.find_element(By.CSS_SELECTOR, 'span.date > span._nobr')\n",
    "        review['review_date'] = review_date_element.text\n",
    "    except NoSuchElementException:\n",
    "        review['review_date'] = None\n",
    "\n",
    "    return review\n",
    "\n",
    "# Scrape reviews for a single movie\n",
    "def scrape_reviews_for_movie(driver, movie_url, num_reviews_per_movie):\n",
    "    movie_reviews = []\n",
    "    page = 1\n",
    "\n",
    "    try:\n",
    "        driver.get(f\"{movie_url}/reviews/\")\n",
    "\n",
    "        # Scrape movie title and release year\n",
    "        try:\n",
    "            movie_title_element = driver.find_element(By.CSS_SELECTOR, 'div.contextual-title h1.headline-2 a')\n",
    "            movie_title = movie_title_element.text\n",
    "        except NoSuchElementException:\n",
    "            movie_title = None\n",
    "\n",
    "        try:\n",
    "            movie_year_element = driver.find_element(By.CSS_SELECTOR, 'div.contextual-title h1.headline-2 small.metadata a')\n",
    "            movie_year = movie_year_element.text\n",
    "        except NoSuchElementException:\n",
    "            movie_year = None\n",
    "\n",
    "        while len(movie_reviews) < num_reviews_per_movie:\n",
    "            review_elements = driver.find_elements(By.CSS_SELECTOR, 'li.film-detail')\n",
    "\n",
    "            for element in review_elements:\n",
    "                if len(movie_reviews) >= num_reviews_per_movie:\n",
    "                    break\n",
    "\n",
    "                review = extract_movie_review_details(element)\n",
    "                review['movie_title'] = movie_title\n",
    "                review['movie_year'] = movie_year\n",
    "                review['movie_url'] = movie_url\n",
    "\n",
    "                if review['review_text'] and review['rating'] is not None:\n",
    "                    movie_reviews.append(review)\n",
    "\n",
    "            if len(movie_reviews) < num_reviews_per_movie:\n",
    "                page += 1\n",
    "                driver.get(f\"{movie_url}/reviews/page/{page}/\")\n",
    "            else:\n",
    "                break\n",
    "\n",
    "    except TimeoutException:\n",
    "        print(f\"Timeout while loading reviews for movie {movie_url}\")\n",
    "\n",
    "    return movie_reviews\n",
    "\n",
    "# Save the DataFrame as a checkpoint\n",
    "def save_checkpoint(df, checkpoint_filename):\n",
    "    df.to_csv(checkpoint_filename, index=False)\n",
    "    print(f\"Checkpoint saved to {checkpoint_filename}\")\n",
    "\n",
    "# Scrape reviews from a list of movie URLs\n",
    "def scrape_reviews_from_movies(driver, movie_urls, num_reviews_per_movie, checkpoint_filename=\"movie_reviews_checkpoint.csv\"):\n",
    "    print(\"Successfully connected to WebDriver!\")\n",
    "    all_reviews = []\n",
    "    checkpoint_interval = 10  # Save every 10 movies\n",
    "\n",
    "    for idx, movie_url in enumerate(tqdm(movie_urls, desc=\"Processing Movies\"), start=1):\n",
    "        print(f\"Scraping reviews for movie: {movie_url}\")\n",
    "        movie_reviews = scrape_reviews_for_movie(driver, movie_url, num_reviews_per_movie)\n",
    "        all_reviews.extend(movie_reviews)\n",
    "\n",
    "        # Save checkpoint at intervals\n",
    "        if idx % checkpoint_interval == 0:\n",
    "            df = pd.DataFrame(all_reviews)\n",
    "            save_checkpoint(df, checkpoint_filename)\n",
    "\n",
    "    # Save the final data\n",
    "    df = pd.DataFrame(all_reviews)\n",
    "    save_checkpoint(df, checkpoint_filename)\n",
    "\n",
    "    print(\"Reviews successfully scraped from movie URLs!\\nReviews preview:\")\n",
    "    print(df.head().to_string())\n",
    "    print(\"\\nClosing connection to selenium WebDriver...\")\n",
    "    driver.quit()\n",
    "    print(\"Connection closed successfully!\\n\\n\")\n",
    "\n",
    "    return df\n",
    "\n",
    "\n"
   ]
  },
  {
   "cell_type": "code",
   "execution_count": 10,
   "id": "d1e79d82",
   "metadata": {
    "execution": {
     "iopub.execute_input": "2024-08-28T09:13:05.854820Z",
     "iopub.status.busy": "2024-08-28T09:13:05.854426Z",
     "iopub.status.idle": "2024-08-28T09:15:43.784607Z",
     "shell.execute_reply": "2024-08-28T09:15:43.783507Z"
    },
    "papermill": {
     "duration": 157.957455,
     "end_time": "2024-08-28T09:15:43.786949",
     "exception": false,
     "start_time": "2024-08-28T09:13:05.829494",
     "status": "completed"
    },
    "tags": []
   },
   "outputs": [
    {
     "name": "stdout",
     "output_type": "stream",
     "text": [
      "...Connected to selenium service!\n"
     ]
    },
    {
     "name": "stderr",
     "output_type": "stream",
     "text": [
      "                                                                  \r"
     ]
    },
    {
     "name": "stdout",
     "output_type": "stream",
     "text": [
      "Page 1 processed, 72 URLs found.\n"
     ]
    },
    {
     "name": "stderr",
     "output_type": "stream",
     "text": [
      "                                                                  \r"
     ]
    },
    {
     "name": "stdout",
     "output_type": "stream",
     "text": [
      "Page 2 processed, 144 URLs found.\n"
     ]
    },
    {
     "name": "stderr",
     "output_type": "stream",
     "text": [
      "                                                                  \r"
     ]
    },
    {
     "name": "stdout",
     "output_type": "stream",
     "text": [
      "Page 3 processed, 215 URLs found.\n"
     ]
    },
    {
     "name": "stderr",
     "output_type": "stream",
     "text": [
      "                                                                  \r"
     ]
    },
    {
     "name": "stdout",
     "output_type": "stream",
     "text": [
      "Page 4 processed, 287 URLs found.\n"
     ]
    },
    {
     "name": "stderr",
     "output_type": "stream",
     "text": [
      "                                                                  \r"
     ]
    },
    {
     "name": "stdout",
     "output_type": "stream",
     "text": [
      "Page 5 processed, 359 URLs found.\n"
     ]
    },
    {
     "name": "stderr",
     "output_type": "stream",
     "text": [
      "                                                                  \r"
     ]
    },
    {
     "name": "stdout",
     "output_type": "stream",
     "text": [
      "Page 6 processed, 431 URLs found.\n"
     ]
    },
    {
     "name": "stderr",
     "output_type": "stream",
     "text": [
      "                                                                  \r"
     ]
    },
    {
     "name": "stdout",
     "output_type": "stream",
     "text": [
      "Page 7 processed, 500 URLs found.\n",
      "Movie URLs successfully scraped!\n",
      "Movie URLs preview:\n",
      "                                                              url\n",
      "0                             https://letterboxd.com/film/barbie/\n",
      "1                      https://letterboxd.com/film/parasite-2019/\n",
      "2  https://letterboxd.com/film/everything-everywhere-all-at-once/\n",
      "3                         https://letterboxd.com/film/fight-club/\n",
      "4                         https://letterboxd.com/film/la-la-land/\n",
      "\n",
      "Closing connection to selenium webdriver...\n",
      "Connection closed successfully!\n",
      "\n",
      "\n"
     ]
    }
   ],
   "source": [
    "if __name__ == \"__main__\":\n",
    "    driver = initialize_driver()\n",
    "    try:\n",
    "        num_movies_to_scrape = 500  # Adjust this number as needed\n",
    "        movie_urls_df = scrape_movie_urls(driver, num_movies_to_scrape)\n",
    "        movie_urls_df.to_csv('/kaggle/working/movie_urls.csv')\n",
    "    finally:\n",
    "        driver.quit()  # Ensure the driver is closed after usage"
   ]
  },
  {
   "cell_type": "code",
   "execution_count": 11,
   "id": "6c6240ef",
   "metadata": {
    "execution": {
     "iopub.execute_input": "2024-08-28T09:15:43.848940Z",
     "iopub.status.busy": "2024-08-28T09:15:43.848528Z",
     "iopub.status.idle": "2024-08-28T18:56:42.622247Z",
     "shell.execute_reply": "2024-08-28T18:56:42.620199Z"
    },
    "papermill": {
     "duration": 34858.807903,
     "end_time": "2024-08-28T18:56:42.625530",
     "exception": false,
     "start_time": "2024-08-28T09:15:43.817627",
     "status": "completed"
    },
    "tags": []
   },
   "outputs": [
    {
     "name": "stdout",
     "output_type": "stream",
     "text": [
      "Successfully connected to WebDriver!\n"
     ]
    },
    {
     "name": "stderr",
     "output_type": "stream",
     "text": [
      "Processing Movies:   0%|          | 0/500 [00:00<?, ?it/s]"
     ]
    },
    {
     "name": "stdout",
     "output_type": "stream",
     "text": [
      "Scraping reviews for movie: https://letterboxd.com/film/barbie/\n"
     ]
    },
    {
     "name": "stderr",
     "output_type": "stream",
     "text": [
      "Processing Movies:   0%|          | 1/500 [02:46<23:08:40, 166.97s/it]"
     ]
    },
    {
     "name": "stdout",
     "output_type": "stream",
     "text": [
      "Scraping reviews for movie: https://letterboxd.com/film/parasite-2019/\n"
     ]
    },
    {
     "name": "stderr",
     "output_type": "stream",
     "text": [
      "Processing Movies:   0%|          | 2/500 [03:18<12:04:22, 87.27s/it] "
     ]
    },
    {
     "name": "stdout",
     "output_type": "stream",
     "text": [
      "Scraping reviews for movie: https://letterboxd.com/film/everything-everywhere-all-at-once/\n"
     ]
    },
    {
     "name": "stderr",
     "output_type": "stream",
     "text": [
      "Processing Movies:   1%|          | 3/500 [03:49<8:29:49, 61.55s/it] "
     ]
    },
    {
     "name": "stdout",
     "output_type": "stream",
     "text": [
      "Scraping reviews for movie: https://letterboxd.com/film/fight-club/\n"
     ]
    },
    {
     "name": "stderr",
     "output_type": "stream",
     "text": [
      "Processing Movies:   1%|          | 4/500 [04:20<6:49:01, 49.48s/it]"
     ]
    },
    {
     "name": "stdout",
     "output_type": "stream",
     "text": [
      "Scraping reviews for movie: https://letterboxd.com/film/la-la-land/\n"
     ]
    },
    {
     "name": "stderr",
     "output_type": "stream",
     "text": [
      "Processing Movies:   1%|          | 5/500 [04:51<5:52:41, 42.75s/it]"
     ]
    },
    {
     "name": "stdout",
     "output_type": "stream",
     "text": [
      "Scraping reviews for movie: https://letterboxd.com/film/interstellar/\n"
     ]
    },
    {
     "name": "stderr",
     "output_type": "stream",
     "text": [
      "Processing Movies:   1%|          | 6/500 [05:22<5:19:48, 38.84s/it]"
     ]
    },
    {
     "name": "stdout",
     "output_type": "stream",
     "text": [
      "Scraping reviews for movie: https://letterboxd.com/film/oppenheimer-2023/\n"
     ]
    },
    {
     "name": "stderr",
     "output_type": "stream",
     "text": [
      "Processing Movies:   1%|▏         | 7/500 [05:54<5:00:59, 36.63s/it]"
     ]
    },
    {
     "name": "stdout",
     "output_type": "stream",
     "text": [
      "Scraping reviews for movie: https://letterboxd.com/film/joker-2019/\n"
     ]
    },
    {
     "name": "stderr",
     "output_type": "stream",
     "text": [
      "Processing Movies:   2%|▏         | 8/500 [06:26<4:47:41, 35.08s/it]"
     ]
    },
    {
     "name": "stdout",
     "output_type": "stream",
     "text": [
      "Scraping reviews for movie: https://letterboxd.com/film/dune-2021/\n"
     ]
    },
    {
     "name": "stderr",
     "output_type": "stream",
     "text": [
      "Processing Movies:   2%|▏         | 9/500 [06:58<4:40:06, 34.23s/it]"
     ]
    },
    {
     "name": "stdout",
     "output_type": "stream",
     "text": [
      "Scraping reviews for movie: https://letterboxd.com/film/pulp-fiction/\n"
     ]
    },
    {
     "name": "stderr",
     "output_type": "stream",
     "text": [
      "Processing Movies:   2%|▏         | 10/500 [07:31<4:34:53, 33.66s/it]"
     ]
    },
    {
     "name": "stdout",
     "output_type": "stream",
     "text": [
      "Checkpoint saved to movie_reviews_checkpoint.csv\n",
      "Scraping reviews for movie: https://letterboxd.com/film/whiplash-2014/\n"
     ]
    },
    {
     "name": "stderr",
     "output_type": "stream",
     "text": [
      "Processing Movies:   2%|▏         | 11/500 [08:03<4:30:25, 33.18s/it]"
     ]
    },
    {
     "name": "stdout",
     "output_type": "stream",
     "text": [
      "Scraping reviews for movie: https://letterboxd.com/film/spider-man-into-the-spider-verse/\n"
     ]
    },
    {
     "name": "stderr",
     "output_type": "stream",
     "text": [
      "Processing Movies:   2%|▏         | 12/500 [08:35<4:26:49, 32.81s/it]"
     ]
    },
    {
     "name": "stdout",
     "output_type": "stream",
     "text": [
      "Scraping reviews for movie: https://letterboxd.com/film/get-out-2017/\n"
     ]
    },
    {
     "name": "stderr",
     "output_type": "stream",
     "text": [
      "Processing Movies:   3%|▎         | 13/500 [09:06<4:23:27, 32.46s/it]"
     ]
    },
    {
     "name": "stdout",
     "output_type": "stream",
     "text": [
      "Scraping reviews for movie: https://letterboxd.com/film/midsommar/\n"
     ]
    },
    {
     "name": "stderr",
     "output_type": "stream",
     "text": [
      "Processing Movies:   3%|▎         | 14/500 [09:38<4:20:00, 32.10s/it]"
     ]
    },
    {
     "name": "stdout",
     "output_type": "stream",
     "text": [
      "Scraping reviews for movie: https://letterboxd.com/film/the-batman/\n"
     ]
    },
    {
     "name": "stderr",
     "output_type": "stream",
     "text": [
      "Processing Movies:   3%|▎         | 15/500 [10:09<4:18:21, 31.96s/it]"
     ]
    },
    {
     "name": "stdout",
     "output_type": "stream",
     "text": [
      "Scraping reviews for movie: https://letterboxd.com/film/knives-out-2019/\n"
     ]
    },
    {
     "name": "stderr",
     "output_type": "stream",
     "text": [
      "Processing Movies:   3%|▎         | 16/500 [10:40<4:15:15, 31.64s/it]"
     ]
    },
    {
     "name": "stdout",
     "output_type": "stream",
     "text": [
      "Scraping reviews for movie: https://letterboxd.com/film/the-dark-knight/\n"
     ]
    },
    {
     "name": "stderr",
     "output_type": "stream",
     "text": [
      "Processing Movies:   3%|▎         | 17/500 [11:12<4:14:30, 31.62s/it]"
     ]
    },
    {
     "name": "stdout",
     "output_type": "stream",
     "text": [
      "Scraping reviews for movie: https://letterboxd.com/film/inception/\n"
     ]
    },
    {
     "name": "stderr",
     "output_type": "stream",
     "text": [
      "Processing Movies:   4%|▎         | 18/500 [11:42<4:11:56, 31.36s/it]"
     ]
    },
    {
     "name": "stdout",
     "output_type": "stream",
     "text": [
      "Scraping reviews for movie: https://letterboxd.com/film/saltburn/\n"
     ]
    },
    {
     "name": "stderr",
     "output_type": "stream",
     "text": [
      "Processing Movies:   4%|▍         | 19/500 [12:14<4:11:19, 31.35s/it]"
     ]
    },
    {
     "name": "stdout",
     "output_type": "stream",
     "text": [
      "Scraping reviews for movie: https://letterboxd.com/film/the-truman-show/\n"
     ]
    },
    {
     "name": "stderr",
     "output_type": "stream",
     "text": [
      "Processing Movies:   4%|▍         | 20/500 [12:44<4:09:16, 31.16s/it]"
     ]
    },
    {
     "name": "stdout",
     "output_type": "stream",
     "text": [
      "Checkpoint saved to movie_reviews_checkpoint.csv\n",
      "Scraping reviews for movie: https://letterboxd.com/film/poor-things-2023/\n"
     ]
    },
    {
     "name": "stderr",
     "output_type": "stream",
     "text": [
      "Processing Movies:   4%|▍         | 21/500 [13:15<4:08:13, 31.09s/it]"
     ]
    },
    {
     "name": "stdout",
     "output_type": "stream",
     "text": [
      "Scraping reviews for movie: https://letterboxd.com/film/spider-man-across-the-spider-verse/\n"
     ]
    },
    {
     "name": "stderr",
     "output_type": "stream",
     "text": [
      "Processing Movies:   4%|▍         | 22/500 [13:48<4:12:02, 31.64s/it]"
     ]
    },
    {
     "name": "stdout",
     "output_type": "stream",
     "text": [
      "Scraping reviews for movie: https://letterboxd.com/film/lady-bird/\n"
     ]
    },
    {
     "name": "stderr",
     "output_type": "stream",
     "text": [
      "Processing Movies:   5%|▍         | 23/500 [14:21<4:13:22, 31.87s/it]"
     ]
    },
    {
     "name": "stdout",
     "output_type": "stream",
     "text": [
      "Scraping reviews for movie: https://letterboxd.com/film/american-psycho/\n"
     ]
    },
    {
     "name": "stderr",
     "output_type": "stream",
     "text": [
      "Processing Movies:   5%|▍         | 24/500 [14:52<4:11:42, 31.73s/it]"
     ]
    },
    {
     "name": "stdout",
     "output_type": "stream",
     "text": [
      "Scraping reviews for movie: https://letterboxd.com/film/dune-part-two/\n"
     ]
    },
    {
     "name": "stderr",
     "output_type": "stream",
     "text": [
      "Processing Movies:   5%|▌         | 25/500 [15:24<4:10:47, 31.68s/it]"
     ]
    },
    {
     "name": "stdout",
     "output_type": "stream",
     "text": [
      "Scraping reviews for movie: https://letterboxd.com/film/the-grand-budapest-hotel/\n"
     ]
    },
    {
     "name": "stderr",
     "output_type": "stream",
     "text": [
      "Processing Movies:   5%|▌         | 26/500 [15:55<4:10:22, 31.69s/it]"
     ]
    },
    {
     "name": "stdout",
     "output_type": "stream",
     "text": [
      "Scraping reviews for movie: https://letterboxd.com/film/the-wolf-of-wall-street/\n"
     ]
    },
    {
     "name": "stderr",
     "output_type": "stream",
     "text": [
      "Processing Movies:   5%|▌         | 27/500 [16:28<4:13:08, 32.11s/it]"
     ]
    },
    {
     "name": "stdout",
     "output_type": "stream",
     "text": [
      "Scraping reviews for movie: https://letterboxd.com/film/eternal-sunshine-of-the-spotless-mind/\n"
     ]
    },
    {
     "name": "stderr",
     "output_type": "stream",
     "text": [
      "Processing Movies:   6%|▌         | 28/500 [17:01<4:13:49, 32.27s/it]"
     ]
    },
    {
     "name": "stdout",
     "output_type": "stream",
     "text": [
      "Scraping reviews for movie: https://letterboxd.com/film/spirited-away/\n"
     ]
    },
    {
     "name": "stderr",
     "output_type": "stream",
     "text": [
      "Processing Movies:   6%|▌         | 29/500 [17:34<4:14:02, 32.36s/it]"
     ]
    },
    {
     "name": "stdout",
     "output_type": "stream",
     "text": [
      "Scraping reviews for movie: https://letterboxd.com/film/spider-man-no-way-home/\n"
     ]
    },
    {
     "name": "stderr",
     "output_type": "stream",
     "text": [
      "Processing Movies:   6%|▌         | 30/500 [18:06<4:12:54, 32.29s/it]"
     ]
    },
    {
     "name": "stdout",
     "output_type": "stream",
     "text": [
      "Checkpoint saved to movie_reviews_checkpoint.csv\n",
      "Scraping reviews for movie: https://letterboxd.com/film/the-menu-2022/\n"
     ]
    },
    {
     "name": "stderr",
     "output_type": "stream",
     "text": [
      "Processing Movies:   6%|▌         | 31/500 [18:38<4:11:22, 32.16s/it]"
     ]
    },
    {
     "name": "stdout",
     "output_type": "stream",
     "text": [
      "Scraping reviews for movie: https://letterboxd.com/film/gone-girl/\n"
     ]
    },
    {
     "name": "stderr",
     "output_type": "stream",
     "text": [
      "Processing Movies:   6%|▋         | 32/500 [19:10<4:12:05, 32.32s/it]"
     ]
    },
    {
     "name": "stdout",
     "output_type": "stream",
     "text": [
      "Scraping reviews for movie: https://letterboxd.com/film/the-shining/\n"
     ]
    },
    {
     "name": "stderr",
     "output_type": "stream",
     "text": [
      "Processing Movies:   7%|▋         | 33/500 [19:43<4:11:22, 32.30s/it]"
     ]
    },
    {
     "name": "stdout",
     "output_type": "stream",
     "text": [
      "Scraping reviews for movie: https://letterboxd.com/film/once-upon-a-time-in-hollywood/\n"
     ]
    },
    {
     "name": "stderr",
     "output_type": "stream",
     "text": [
      "Processing Movies:   7%|▋         | 34/500 [20:14<4:09:02, 32.07s/it]"
     ]
    },
    {
     "name": "stdout",
     "output_type": "stream",
     "text": [
      "Scraping reviews for movie: https://letterboxd.com/film/black-swan/\n"
     ]
    },
    {
     "name": "stderr",
     "output_type": "stream",
     "text": [
      "Processing Movies:   7%|▋         | 35/500 [20:46<4:07:31, 31.94s/it]"
     ]
    },
    {
     "name": "stdout",
     "output_type": "stream",
     "text": [
      "Scraping reviews for movie: https://letterboxd.com/film/inglourious-basterds/\n"
     ]
    },
    {
     "name": "stderr",
     "output_type": "stream",
     "text": [
      "Processing Movies:   7%|▋         | 36/500 [21:18<4:07:25, 32.00s/it]"
     ]
    },
    {
     "name": "stdout",
     "output_type": "stream",
     "text": [
      "Scraping reviews for movie: https://letterboxd.com/film/forrest-gump/\n"
     ]
    },
    {
     "name": "stderr",
     "output_type": "stream",
     "text": [
      "Processing Movies:   7%|▋         | 37/500 [21:50<4:06:50, 31.99s/it]"
     ]
    },
    {
     "name": "stdout",
     "output_type": "stream",
     "text": [
      "Scraping reviews for movie: https://letterboxd.com/film/little-women-2019/\n"
     ]
    },
    {
     "name": "stderr",
     "output_type": "stream",
     "text": [
      "Processing Movies:   8%|▊         | 38/500 [22:23<4:08:08, 32.23s/it]"
     ]
    },
    {
     "name": "stdout",
     "output_type": "stream",
     "text": [
      "Scraping reviews for movie: https://letterboxd.com/film/se7en/\n"
     ]
    },
    {
     "name": "stderr",
     "output_type": "stream",
     "text": [
      "Processing Movies:   8%|▊         | 39/500 [22:56<4:09:08, 32.43s/it]"
     ]
    },
    {
     "name": "stdout",
     "output_type": "stream",
     "text": [
      "Scraping reviews for movie: https://letterboxd.com/film/the-silence-of-the-lambs/\n"
     ]
    },
    {
     "name": "stderr",
     "output_type": "stream",
     "text": [
      "Processing Movies:   8%|▊         | 40/500 [23:28<4:08:24, 32.40s/it]"
     ]
    },
    {
     "name": "stdout",
     "output_type": "stream",
     "text": [
      "Checkpoint saved to movie_reviews_checkpoint.csv\n",
      "Scraping reviews for movie: https://letterboxd.com/film/avengers-infinity-war/\n"
     ]
    },
    {
     "name": "stderr",
     "output_type": "stream",
     "text": [
      "Processing Movies:   8%|▊         | 41/500 [24:00<4:07:54, 32.41s/it]"
     ]
    },
    {
     "name": "stdout",
     "output_type": "stream",
     "text": [
      "Scraping reviews for movie: https://letterboxd.com/film/10-things-i-hate-about-you/\n"
     ]
    },
    {
     "name": "stderr",
     "output_type": "stream",
     "text": [
      "Processing Movies:   8%|▊         | 42/500 [24:32<4:05:26, 32.15s/it]"
     ]
    },
    {
     "name": "stdout",
     "output_type": "stream",
     "text": [
      "Scraping reviews for movie: https://letterboxd.com/film/kill-bill-vol-1/\n"
     ]
    },
    {
     "name": "stderr",
     "output_type": "stream",
     "text": [
      "Processing Movies:   9%|▊         | 43/500 [25:04<4:04:40, 32.12s/it]"
     ]
    },
    {
     "name": "stdout",
     "output_type": "stream",
     "text": [
      "Scraping reviews for movie: https://letterboxd.com/film/baby-driver/\n"
     ]
    },
    {
     "name": "stderr",
     "output_type": "stream",
     "text": [
      "Processing Movies:   9%|▉         | 44/500 [25:36<4:04:19, 32.15s/it]"
     ]
    },
    {
     "name": "stdout",
     "output_type": "stream",
     "text": [
      "Scraping reviews for movie: https://letterboxd.com/film/avengers-endgame/\n"
     ]
    },
    {
     "name": "stderr",
     "output_type": "stream",
     "text": [
      "Processing Movies:   9%|▉         | 45/500 [26:08<4:04:08, 32.19s/it]"
     ]
    },
    {
     "name": "stdout",
     "output_type": "stream",
     "text": [
      "Scraping reviews for movie: https://letterboxd.com/film/the-godfather/\n"
     ]
    },
    {
     "name": "stderr",
     "output_type": "stream",
     "text": [
      "Processing Movies:   9%|▉         | 46/500 [26:41<4:03:25, 32.17s/it]"
     ]
    },
    {
     "name": "stdout",
     "output_type": "stream",
     "text": [
      "Scraping reviews for movie: https://letterboxd.com/film/call-me-by-your-name/\n"
     ]
    },
    {
     "name": "stderr",
     "output_type": "stream",
     "text": [
      "Processing Movies:   9%|▉         | 47/500 [27:13<4:02:33, 32.13s/it]"
     ]
    },
    {
     "name": "stdout",
     "output_type": "stream",
     "text": [
      "Scraping reviews for movie: https://letterboxd.com/film/shutter-island/\n"
     ]
    },
    {
     "name": "stderr",
     "output_type": "stream",
     "text": [
      "Processing Movies:  10%|▉         | 48/500 [27:44<4:00:45, 31.96s/it]"
     ]
    },
    {
     "name": "stdout",
     "output_type": "stream",
     "text": [
      "Scraping reviews for movie: https://letterboxd.com/film/glass-onion/\n"
     ]
    },
    {
     "name": "stderr",
     "output_type": "stream",
     "text": [
      "Processing Movies:  10%|▉         | 49/500 [28:16<3:59:10, 31.82s/it]"
     ]
    },
    {
     "name": "stdout",
     "output_type": "stream",
     "text": [
      "Scraping reviews for movie: https://letterboxd.com/film/django-unchained/\n"
     ]
    },
    {
     "name": "stderr",
     "output_type": "stream",
     "text": [
      "Processing Movies:  10%|█         | 50/500 [28:48<4:00:57, 32.13s/it]"
     ]
    },
    {
     "name": "stdout",
     "output_type": "stream",
     "text": [
      "Checkpoint saved to movie_reviews_checkpoint.csv\n",
      "Scraping reviews for movie: https://letterboxd.com/film/ratatouille/\n"
     ]
    },
    {
     "name": "stderr",
     "output_type": "stream",
     "text": [
      "Processing Movies:  10%|█         | 51/500 [29:21<4:01:31, 32.27s/it]"
     ]
    },
    {
     "name": "stdout",
     "output_type": "stream",
     "text": [
      "Scraping reviews for movie: https://letterboxd.com/film/hereditary/\n"
     ]
    },
    {
     "name": "stderr",
     "output_type": "stream",
     "text": [
      "Processing Movies:  10%|█         | 52/500 [29:55<4:04:13, 32.71s/it]"
     ]
    },
    {
     "name": "stdout",
     "output_type": "stream",
     "text": [
      "Scraping reviews for movie: https://letterboxd.com/film/her/\n"
     ]
    },
    {
     "name": "stderr",
     "output_type": "stream",
     "text": [
      "Processing Movies:  11%|█         | 53/500 [30:27<4:02:42, 32.58s/it]"
     ]
    },
    {
     "name": "stdout",
     "output_type": "stream",
     "text": [
      "Scraping reviews for movie: https://letterboxd.com/film/the-social-network/\n"
     ]
    },
    {
     "name": "stderr",
     "output_type": "stream",
     "text": [
      "Processing Movies:  11%|█         | 54/500 [30:59<4:01:13, 32.45s/it]"
     ]
    },
    {
     "name": "stdout",
     "output_type": "stream",
     "text": [
      "Scraping reviews for movie: https://letterboxd.com/film/dead-poets-society/\n"
     ]
    },
    {
     "name": "stderr",
     "output_type": "stream",
     "text": [
      "Processing Movies:  11%|█         | 55/500 [31:32<4:00:28, 32.42s/it]"
     ]
    },
    {
     "name": "stdout",
     "output_type": "stream",
     "text": [
      "Scraping reviews for movie: https://letterboxd.com/film/challengers/\n"
     ]
    },
    {
     "name": "stderr",
     "output_type": "stream",
     "text": [
      "Processing Movies:  11%|█         | 56/500 [32:05<4:01:06, 32.58s/it]"
     ]
    },
    {
     "name": "stdout",
     "output_type": "stream",
     "text": [
      "Scraping reviews for movie: https://letterboxd.com/film/nope/\n"
     ]
    },
    {
     "name": "stderr",
     "output_type": "stream",
     "text": [
      "Processing Movies:  11%|█▏        | 57/500 [32:37<3:59:18, 32.41s/it]"
     ]
    },
    {
     "name": "stdout",
     "output_type": "stream",
     "text": [
      "Scraping reviews for movie: https://letterboxd.com/film/fantastic-mr-fox/\n"
     ]
    },
    {
     "name": "stderr",
     "output_type": "stream",
     "text": [
      "Processing Movies:  12%|█▏        | 58/500 [33:11<4:02:18, 32.89s/it]"
     ]
    },
    {
     "name": "stdout",
     "output_type": "stream",
     "text": [
      "Scraping reviews for movie: https://letterboxd.com/film/scott-pilgrim-vs-the-world/\n"
     ]
    },
    {
     "name": "stderr",
     "output_type": "stream",
     "text": [
      "Processing Movies:  12%|█▏        | 59/500 [33:44<4:02:35, 33.01s/it]"
     ]
    },
    {
     "name": "stdout",
     "output_type": "stream",
     "text": [
      "Scraping reviews for movie: https://letterboxd.com/film/the-matrix/\n"
     ]
    },
    {
     "name": "stderr",
     "output_type": "stream",
     "text": [
      "Processing Movies:  12%|█▏        | 60/500 [34:18<4:04:53, 33.40s/it]"
     ]
    },
    {
     "name": "stdout",
     "output_type": "stream",
     "text": [
      "Checkpoint saved to movie_reviews_checkpoint.csv\n",
      "Scraping reviews for movie: https://letterboxd.com/film/taxi-driver/\n"
     ]
    },
    {
     "name": "stderr",
     "output_type": "stream",
     "text": [
      "Processing Movies:  12%|█▏        | 61/500 [34:52<4:04:46, 33.45s/it]"
     ]
    },
    {
     "name": "stdout",
     "output_type": "stream",
     "text": [
      "Scraping reviews for movie: https://letterboxd.com/film/inside-out-2015/\n"
     ]
    },
    {
     "name": "stderr",
     "output_type": "stream",
     "text": [
      "Processing Movies:  12%|█▏        | 62/500 [35:32<4:19:49, 35.59s/it]"
     ]
    },
    {
     "name": "stdout",
     "output_type": "stream",
     "text": [
      "Scraping reviews for movie: https://letterboxd.com/film/the-perks-of-being-a-wallflower/\n"
     ]
    },
    {
     "name": "stderr",
     "output_type": "stream",
     "text": [
      "Processing Movies:  13%|█▎        | 63/500 [36:06<4:14:07, 34.89s/it]"
     ]
    },
    {
     "name": "stdout",
     "output_type": "stream",
     "text": [
      "Scraping reviews for movie: https://letterboxd.com/film/jojo-rabbit/\n"
     ]
    },
    {
     "name": "stderr",
     "output_type": "stream",
     "text": [
      "Processing Movies:  13%|█▎        | 64/500 [36:40<4:12:11, 34.71s/it]"
     ]
    },
    {
     "name": "stdout",
     "output_type": "stream",
     "text": [
      "Scraping reviews for movie: https://letterboxd.com/film/guardians-of-the-galaxy/\n"
     ]
    },
    {
     "name": "stderr",
     "output_type": "stream",
     "text": [
      "Processing Movies:  13%|█▎        | 65/500 [37:14<4:10:07, 34.50s/it]"
     ]
    },
    {
     "name": "stdout",
     "output_type": "stream",
     "text": [
      "Scraping reviews for movie: https://letterboxd.com/film/arrival-2016/\n"
     ]
    },
    {
     "name": "stderr",
     "output_type": "stream",
     "text": [
      "Processing Movies:  13%|█▎        | 66/500 [37:48<4:09:47, 34.53s/it]"
     ]
    },
    {
     "name": "stdout",
     "output_type": "stream",
     "text": [
      "Scraping reviews for movie: https://letterboxd.com/film/black-panther/\n"
     ]
    },
    {
     "name": "stderr",
     "output_type": "stream",
     "text": [
      "Processing Movies:  13%|█▎        | 67/500 [38:22<4:07:16, 34.27s/it]"
     ]
    },
    {
     "name": "stdout",
     "output_type": "stream",
     "text": [
      "Scraping reviews for movie: https://letterboxd.com/film/blade-runner-2049/\n"
     ]
    },
    {
     "name": "stderr",
     "output_type": "stream",
     "text": [
      "Processing Movies:  14%|█▎        | 68/500 [38:56<4:04:55, 34.02s/it]"
     ]
    },
    {
     "name": "stdout",
     "output_type": "stream",
     "text": [
      "Scraping reviews for movie: https://letterboxd.com/film/good-will-hunting/\n"
     ]
    },
    {
     "name": "stderr",
     "output_type": "stream",
     "text": [
      "Processing Movies:  14%|█▍        | 69/500 [39:30<4:04:24, 34.02s/it]"
     ]
    },
    {
     "name": "stdout",
     "output_type": "stream",
     "text": [
      "Scraping reviews for movie: https://letterboxd.com/film/the-lord-of-the-rings-the-fellowship-of-the-ring/\n"
     ]
    },
    {
     "name": "stderr",
     "output_type": "stream",
     "text": [
      "Processing Movies:  14%|█▍        | 70/500 [40:04<4:05:31, 34.26s/it]"
     ]
    },
    {
     "name": "stdout",
     "output_type": "stream",
     "text": [
      "Checkpoint saved to movie_reviews_checkpoint.csv\n",
      "Scraping reviews for movie: https://letterboxd.com/film/the-shawshank-redemption/\n"
     ]
    },
    {
     "name": "stderr",
     "output_type": "stream",
     "text": [
      "Processing Movies:  14%|█▍        | 71/500 [40:38<4:04:19, 34.17s/it]"
     ]
    },
    {
     "name": "stdout",
     "output_type": "stream",
     "text": [
      "Scraping reviews for movie: https://letterboxd.com/film/deadpool/\n"
     ]
    },
    {
     "name": "stderr",
     "output_type": "stream",
     "text": [
      "Processing Movies:  14%|█▍        | 72/500 [41:13<4:03:56, 34.20s/it]"
     ]
    },
    {
     "name": "stdout",
     "output_type": "stream",
     "text": [
      "Scraping reviews for movie: https://letterboxd.com/film/500-days-of-summer/\n"
     ]
    },
    {
     "name": "stderr",
     "output_type": "stream",
     "text": [
      "Processing Movies:  15%|█▍        | 73/500 [41:46<4:02:07, 34.02s/it]"
     ]
    },
    {
     "name": "stdout",
     "output_type": "stream",
     "text": [
      "Scraping reviews for movie: https://letterboxd.com/film/past-lives/\n"
     ]
    },
    {
     "name": "stderr",
     "output_type": "stream",
     "text": [
      "Processing Movies:  15%|█▍        | 74/500 [42:21<4:02:21, 34.13s/it]"
     ]
    },
    {
     "name": "stdout",
     "output_type": "stream",
     "text": [
      "Scraping reviews for movie: https://letterboxd.com/film/mad-max-fury-road/\n"
     ]
    },
    {
     "name": "stderr",
     "output_type": "stream",
     "text": [
      "Processing Movies:  15%|█▌        | 75/500 [42:55<4:02:33, 34.24s/it]"
     ]
    },
    {
     "name": "stdout",
     "output_type": "stream",
     "text": [
      "Scraping reviews for movie: https://letterboxd.com/film/coco-2017/\n"
     ]
    },
    {
     "name": "stderr",
     "output_type": "stream",
     "text": [
      "Processing Movies:  15%|█▌        | 76/500 [43:29<4:02:09, 34.27s/it]"
     ]
    },
    {
     "name": "stdout",
     "output_type": "stream",
     "text": [
      "Scraping reviews for movie: https://letterboxd.com/film/titanic-1997/\n"
     ]
    },
    {
     "name": "stderr",
     "output_type": "stream",
     "text": [
      "Processing Movies:  15%|█▌        | 77/500 [44:04<4:02:17, 34.37s/it]"
     ]
    },
    {
     "name": "stdout",
     "output_type": "stream",
     "text": [
      "Scraping reviews for movie: https://letterboxd.com/film/donnie-darko/\n"
     ]
    },
    {
     "name": "stderr",
     "output_type": "stream",
     "text": [
      "Processing Movies:  16%|█▌        | 78/500 [44:40<4:04:35, 34.78s/it]"
     ]
    },
    {
     "name": "stdout",
     "output_type": "stream",
     "text": [
      "Scraping reviews for movie: https://letterboxd.com/film/pearl-2022/\n"
     ]
    },
    {
     "name": "stderr",
     "output_type": "stream",
     "text": [
      "Processing Movies:  16%|█▌        | 79/500 [45:16<4:06:31, 35.14s/it]"
     ]
    },
    {
     "name": "stdout",
     "output_type": "stream",
     "text": [
      "Scraping reviews for movie: https://letterboxd.com/film/dont-look-up-2021/\n"
     ]
    },
    {
     "name": "stderr",
     "output_type": "stream",
     "text": [
      "Processing Movies:  16%|█▌        | 80/500 [45:52<4:08:13, 35.46s/it]"
     ]
    },
    {
     "name": "stdout",
     "output_type": "stream",
     "text": [
      "Checkpoint saved to movie_reviews_checkpoint.csv\n",
      "Scraping reviews for movie: https://letterboxd.com/film/mean-girls/\n"
     ]
    },
    {
     "name": "stderr",
     "output_type": "stream",
     "text": [
      "Processing Movies:  16%|█▌        | 81/500 [46:26<4:05:17, 35.13s/it]"
     ]
    },
    {
     "name": "stdout",
     "output_type": "stream",
     "text": [
      "Scraping reviews for movie: https://letterboxd.com/film/up/\n"
     ]
    },
    {
     "name": "stderr",
     "output_type": "stream",
     "text": [
      "Processing Movies:  16%|█▋        | 82/500 [47:02<4:05:00, 35.17s/it]"
     ]
    },
    {
     "name": "stdout",
     "output_type": "stream",
     "text": [
      "Scraping reviews for movie: https://letterboxd.com/film/anatomy-of-a-fall/\n"
     ]
    },
    {
     "name": "stderr",
     "output_type": "stream",
     "text": [
      "Processing Movies:  17%|█▋        | 83/500 [47:36<4:03:33, 35.04s/it]"
     ]
    },
    {
     "name": "stdout",
     "output_type": "stream",
     "text": [
      "Scraping reviews for movie: https://letterboxd.com/film/drive-2011/\n"
     ]
    },
    {
     "name": "stderr",
     "output_type": "stream",
     "text": [
      "Processing Movies:  17%|█▋        | 84/500 [48:12<4:03:44, 35.16s/it]"
     ]
    },
    {
     "name": "stdout",
     "output_type": "stream",
     "text": [
      "Scraping reviews for movie: https://letterboxd.com/film/star-wars/\n"
     ]
    },
    {
     "name": "stderr",
     "output_type": "stream",
     "text": [
      "Processing Movies:  17%|█▋        | 85/500 [48:46<4:02:18, 35.03s/it]"
     ]
    },
    {
     "name": "stdout",
     "output_type": "stream",
     "text": [
      "Scraping reviews for movie: https://letterboxd.com/film/back-to-the-future/\n"
     ]
    },
    {
     "name": "stderr",
     "output_type": "stream",
     "text": [
      "Processing Movies:  17%|█▋        | 86/500 [49:21<4:00:47, 34.90s/it]"
     ]
    },
    {
     "name": "stdout",
     "output_type": "stream",
     "text": [
      "Scraping reviews for movie: https://letterboxd.com/film/us-2019/\n"
     ]
    },
    {
     "name": "stderr",
     "output_type": "stream",
     "text": [
      "Processing Movies:  17%|█▋        | 87/500 [49:55<3:57:55, 34.57s/it]"
     ]
    },
    {
     "name": "stdout",
     "output_type": "stream",
     "text": [
      "Scraping reviews for movie: https://letterboxd.com/film/guardians-of-the-galaxy-vol-3/\n"
     ]
    },
    {
     "name": "stderr",
     "output_type": "stream",
     "text": [
      "Processing Movies:  18%|█▊        | 88/500 [50:29<3:56:11, 34.40s/it]"
     ]
    },
    {
     "name": "stdout",
     "output_type": "stream",
     "text": [
      "Scraping reviews for movie: https://letterboxd.com/film/avatar-the-way-of-water/\n"
     ]
    },
    {
     "name": "stderr",
     "output_type": "stream",
     "text": [
      "Processing Movies:  18%|█▊        | 89/500 [51:04<3:56:23, 34.51s/it]"
     ]
    },
    {
     "name": "stdout",
     "output_type": "stream",
     "text": [
      "Scraping reviews for movie: https://letterboxd.com/film/howls-moving-castle/\n"
     ]
    },
    {
     "name": "stderr",
     "output_type": "stream",
     "text": [
      "Processing Movies:  18%|█▊        | 90/500 [51:37<3:53:55, 34.23s/it]"
     ]
    },
    {
     "name": "stdout",
     "output_type": "stream",
     "text": [
      "Checkpoint saved to movie_reviews_checkpoint.csv\n",
      "Scraping reviews for movie: https://letterboxd.com/film/x-2022/\n"
     ]
    },
    {
     "name": "stderr",
     "output_type": "stream",
     "text": [
      "Processing Movies:  18%|█▊        | 91/500 [52:11<3:52:54, 34.17s/it]"
     ]
    },
    {
     "name": "stdout",
     "output_type": "stream",
     "text": [
      "Scraping reviews for movie: https://letterboxd.com/film/spider-man-homecoming/\n"
     ]
    },
    {
     "name": "stderr",
     "output_type": "stream",
     "text": [
      "Processing Movies:  18%|█▊        | 92/500 [52:45<3:51:22, 34.03s/it]"
     ]
    },
    {
     "name": "stdout",
     "output_type": "stream",
     "text": [
      "Scraping reviews for movie: https://letterboxd.com/film/soul-2020/\n"
     ]
    },
    {
     "name": "stderr",
     "output_type": "stream",
     "text": [
      "Processing Movies:  19%|█▊        | 93/500 [53:19<3:50:17, 33.95s/it]"
     ]
    },
    {
     "name": "stdout",
     "output_type": "stream",
     "text": [
      "Scraping reviews for movie: https://letterboxd.com/film/top-gun-maverick/\n"
     ]
    },
    {
     "name": "stderr",
     "output_type": "stream",
     "text": [
      "Processing Movies:  19%|█▉        | 94/500 [53:53<3:51:18, 34.18s/it]"
     ]
    },
    {
     "name": "stdout",
     "output_type": "stream",
     "text": [
      "Scraping reviews for movie: https://letterboxd.com/film/little-miss-sunshine/\n"
     ]
    },
    {
     "name": "stderr",
     "output_type": "stream",
     "text": [
      "Processing Movies:  19%|█▉        | 95/500 [54:27<3:49:10, 33.95s/it]"
     ]
    },
    {
     "name": "stdout",
     "output_type": "stream",
     "text": [
      "Scraping reviews for movie: https://letterboxd.com/film/goodfellas/\n"
     ]
    },
    {
     "name": "stderr",
     "output_type": "stream",
     "text": [
      "Processing Movies:  19%|█▉        | 96/500 [55:01<3:48:04, 33.87s/it]"
     ]
    },
    {
     "name": "stdout",
     "output_type": "stream",
     "text": [
      "Scraping reviews for movie: https://letterboxd.com/film/the-hunger-games/\n"
     ]
    },
    {
     "name": "stderr",
     "output_type": "stream",
     "text": [
      "Processing Movies:  19%|█▉        | 97/500 [55:35<3:48:15, 33.98s/it]"
     ]
    },
    {
     "name": "stdout",
     "output_type": "stream",
     "text": [
      "Scraping reviews for movie: https://letterboxd.com/film/inside-out-2-2024/\n"
     ]
    },
    {
     "name": "stderr",
     "output_type": "stream",
     "text": [
      "Processing Movies:  20%|█▉        | 98/500 [56:09<3:47:38, 33.98s/it]"
     ]
    },
    {
     "name": "stdout",
     "output_type": "stream",
     "text": [
      "Scraping reviews for movie: https://letterboxd.com/film/harry-potter-and-the-prisoner-of-azkaban/\n"
     ]
    },
    {
     "name": "stderr",
     "output_type": "stream",
     "text": [
      "Processing Movies:  20%|█▉        | 99/500 [56:43<3:47:36, 34.06s/it]"
     ]
    },
    {
     "name": "stdout",
     "output_type": "stream",
     "text": [
      "Scraping reviews for movie: https://letterboxd.com/film/aftersun/\n"
     ]
    },
    {
     "name": "stderr",
     "output_type": "stream",
     "text": [
      "Processing Movies:  20%|██        | 100/500 [57:17<3:47:33, 34.13s/it]"
     ]
    },
    {
     "name": "stdout",
     "output_type": "stream",
     "text": [
      "Checkpoint saved to movie_reviews_checkpoint.csv\n",
      "Scraping reviews for movie: https://letterboxd.com/film/walle/\n"
     ]
    },
    {
     "name": "stderr",
     "output_type": "stream",
     "text": [
      "Processing Movies:  20%|██        | 101/500 [57:52<3:48:39, 34.39s/it]"
     ]
    },
    {
     "name": "stdout",
     "output_type": "stream",
     "text": [
      "Scraping reviews for movie: https://letterboxd.com/film/the-lighthouse-2019/\n"
     ]
    },
    {
     "name": "stderr",
     "output_type": "stream",
     "text": [
      "Processing Movies:  20%|██        | 102/500 [58:27<3:48:18, 34.42s/it]"
     ]
    },
    {
     "name": "stdout",
     "output_type": "stream",
     "text": [
      "Scraping reviews for movie: https://letterboxd.com/film/bottoms/\n"
     ]
    },
    {
     "name": "stderr",
     "output_type": "stream",
     "text": [
      "Processing Movies:  21%|██        | 103/500 [59:01<3:48:06, 34.47s/it]"
     ]
    },
    {
     "name": "stdout",
     "output_type": "stream",
     "text": [
      "Scraping reviews for movie: https://letterboxd.com/film/coraline/\n"
     ]
    },
    {
     "name": "stderr",
     "output_type": "stream",
     "text": [
      "Processing Movies:  21%|██        | 104/500 [59:36<3:47:01, 34.40s/it]"
     ]
    },
    {
     "name": "stdout",
     "output_type": "stream",
     "text": [
      "Scraping reviews for movie: https://letterboxd.com/film/harry-potter-and-the-philosophers-stone/\n"
     ]
    },
    {
     "name": "stderr",
     "output_type": "stream",
     "text": [
      "Processing Movies:  21%|██        | 105/500 [1:00:10<3:45:56, 34.32s/it]"
     ]
    },
    {
     "name": "stdout",
     "output_type": "stream",
     "text": [
      "Scraping reviews for movie: https://letterboxd.com/film/bullet-train/\n"
     ]
    },
    {
     "name": "stderr",
     "output_type": "stream",
     "text": [
      "Processing Movies:  21%|██        | 106/500 [1:00:44<3:44:35, 34.20s/it]"
     ]
    },
    {
     "name": "stdout",
     "output_type": "stream",
     "text": [
      "Scraping reviews for movie: https://letterboxd.com/film/thor-ragnarok/\n"
     ]
    },
    {
     "name": "stderr",
     "output_type": "stream",
     "text": [
      "Processing Movies:  21%|██▏       | 107/500 [1:01:19<3:45:44, 34.47s/it]"
     ]
    },
    {
     "name": "stdout",
     "output_type": "stream",
     "text": [
      "Scraping reviews for movie: https://letterboxd.com/film/deadpool-wolverine/\n"
     ]
    },
    {
     "name": "stderr",
     "output_type": "stream",
     "text": [
      "Processing Movies:  22%|██▏       | 108/500 [1:01:54<3:46:13, 34.63s/it]"
     ]
    },
    {
     "name": "stdout",
     "output_type": "stream",
     "text": [
      "Scraping reviews for movie: https://letterboxd.com/film/1917/\n"
     ]
    },
    {
     "name": "stderr",
     "output_type": "stream",
     "text": [
      "Processing Movies:  22%|██▏       | 109/500 [1:02:28<3:44:52, 34.51s/it]"
     ]
    },
    {
     "name": "stdout",
     "output_type": "stream",
     "text": [
      "Scraping reviews for movie: https://letterboxd.com/film/avatar/\n"
     ]
    },
    {
     "name": "stderr",
     "output_type": "stream",
     "text": [
      "Processing Movies:  22%|██▏       | 110/500 [1:03:03<3:45:12, 34.65s/it]"
     ]
    },
    {
     "name": "stdout",
     "output_type": "stream",
     "text": [
      "Checkpoint saved to movie_reviews_checkpoint.csv\n",
      "Scraping reviews for movie: https://letterboxd.com/film/the-devil-wears-prada/\n"
     ]
    },
    {
     "name": "stderr",
     "output_type": "stream",
     "text": [
      "Processing Movies:  22%|██▏       | 111/500 [1:03:37<3:44:26, 34.62s/it]"
     ]
    },
    {
     "name": "stdout",
     "output_type": "stream",
     "text": [
      "Scraping reviews for movie: https://letterboxd.com/film/no-country-for-old-men/\n"
     ]
    },
    {
     "name": "stderr",
     "output_type": "stream",
     "text": [
      "Processing Movies:  22%|██▏       | 112/500 [1:04:12<3:42:41, 34.44s/it]"
     ]
    },
    {
     "name": "stdout",
     "output_type": "stream",
     "text": [
      "Scraping reviews for movie: https://letterboxd.com/film/2001-a-space-odyssey/\n"
     ]
    },
    {
     "name": "stderr",
     "output_type": "stream",
     "text": [
      "Processing Movies:  23%|██▎       | 113/500 [1:04:50<3:49:23, 35.57s/it]"
     ]
    },
    {
     "name": "stdout",
     "output_type": "stream",
     "text": [
      "Scraping reviews for movie: https://letterboxd.com/film/prisoners/\n"
     ]
    },
    {
     "name": "stderr",
     "output_type": "stream",
     "text": [
      "Processing Movies:  23%|██▎       | 114/500 [1:05:24<3:46:30, 35.21s/it]"
     ]
    },
    {
     "name": "stdout",
     "output_type": "stream",
     "text": [
      "Scraping reviews for movie: https://letterboxd.com/film/the-breakfast-club/\n"
     ]
    },
    {
     "name": "stderr",
     "output_type": "stream",
     "text": [
      "Processing Movies:  23%|██▎       | 115/500 [1:05:58<3:44:13, 34.94s/it]"
     ]
    },
    {
     "name": "stdout",
     "output_type": "stream",
     "text": [
      "Scraping reviews for movie: https://letterboxd.com/film/moonlight-2016/\n"
     ]
    },
    {
     "name": "stderr",
     "output_type": "stream",
     "text": [
      "Processing Movies:  23%|██▎       | 116/500 [1:06:33<3:43:42, 34.95s/it]"
     ]
    },
    {
     "name": "stdout",
     "output_type": "stream",
     "text": [
      "Scraping reviews for movie: https://letterboxd.com/film/doctor-strange-in-the-multiverse-of-madness/\n"
     ]
    },
    {
     "name": "stderr",
     "output_type": "stream",
     "text": [
      "Processing Movies:  23%|██▎       | 117/500 [1:07:09<3:43:44, 35.05s/it]"
     ]
    },
    {
     "name": "stdout",
     "output_type": "stream",
     "text": [
      "Scraping reviews for movie: https://letterboxd.com/film/the-avengers-2012/\n"
     ]
    },
    {
     "name": "stderr",
     "output_type": "stream",
     "text": [
      "Processing Movies:  24%|██▎       | 118/500 [1:07:44<3:43:13, 35.06s/it]"
     ]
    },
    {
     "name": "stdout",
     "output_type": "stream",
     "text": [
      "Scraping reviews for movie: https://letterboxd.com/film/spider-man-far-from-home/\n"
     ]
    },
    {
     "name": "stderr",
     "output_type": "stream",
     "text": [
      "Processing Movies:  24%|██▍       | 119/500 [1:08:19<3:43:34, 35.21s/it]"
     ]
    },
    {
     "name": "stdout",
     "output_type": "stream",
     "text": [
      "Scraping reviews for movie: https://letterboxd.com/film/memento/\n"
     ]
    },
    {
     "name": "stderr",
     "output_type": "stream",
     "text": [
      "Processing Movies:  24%|██▍       | 120/500 [1:08:55<3:43:32, 35.30s/it]"
     ]
    },
    {
     "name": "stdout",
     "output_type": "stream",
     "text": [
      "Checkpoint saved to movie_reviews_checkpoint.csv\n",
      "Scraping reviews for movie: https://letterboxd.com/film/uncut-gems/\n"
     ]
    },
    {
     "name": "stderr",
     "output_type": "stream",
     "text": [
      "Processing Movies:  24%|██▍       | 121/500 [1:09:30<3:42:34, 35.24s/it]"
     ]
    },
    {
     "name": "stdout",
     "output_type": "stream",
     "text": [
      "Scraping reviews for movie: https://letterboxd.com/film/alien/\n"
     ]
    },
    {
     "name": "stderr",
     "output_type": "stream",
     "text": [
      "Processing Movies:  24%|██▍       | 122/500 [1:10:04<3:40:37, 35.02s/it]"
     ]
    },
    {
     "name": "stdout",
     "output_type": "stream",
     "text": [
      "Scraping reviews for movie: https://letterboxd.com/film/dunkirk-2017/\n"
     ]
    },
    {
     "name": "stderr",
     "output_type": "stream",
     "text": [
      "Processing Movies:  25%|██▍       | 123/500 [1:10:39<3:39:55, 35.00s/it]"
     ]
    },
    {
     "name": "stdout",
     "output_type": "stream",
     "text": [
      "Scraping reviews for movie: https://letterboxd.com/film/killers-of-the-flower-moon/\n"
     ]
    },
    {
     "name": "stderr",
     "output_type": "stream",
     "text": [
      "Processing Movies:  25%|██▍       | 124/500 [1:11:15<3:40:52, 35.24s/it]"
     ]
    },
    {
     "name": "stdout",
     "output_type": "stream",
     "text": [
      "Scraping reviews for movie: https://letterboxd.com/film/it-2017/\n"
     ]
    },
    {
     "name": "stderr",
     "output_type": "stream",
     "text": [
      "Processing Movies:  25%|██▌       | 125/500 [1:11:50<3:40:11, 35.23s/it]"
     ]
    },
    {
     "name": "stdout",
     "output_type": "stream",
     "text": [
      "Scraping reviews for movie: https://letterboxd.com/film/puss-in-boots-the-last-wish/\n"
     ]
    },
    {
     "name": "stderr",
     "output_type": "stream",
     "text": [
      "Processing Movies:  25%|██▌       | 126/500 [1:12:26<3:41:02, 35.46s/it]"
     ]
    },
    {
     "name": "stdout",
     "output_type": "stream",
     "text": [
      "Scraping reviews for movie: https://letterboxd.com/film/scream/\n"
     ]
    },
    {
     "name": "stderr",
     "output_type": "stream",
     "text": [
      "Processing Movies:  25%|██▌       | 127/500 [1:13:01<3:38:55, 35.22s/it]"
     ]
    },
    {
     "name": "stdout",
     "output_type": "stream",
     "text": [
      "Scraping reviews for movie: https://letterboxd.com/film/shrek/\n"
     ]
    },
    {
     "name": "stderr",
     "output_type": "stream",
     "text": [
      "Processing Movies:  26%|██▌       | 128/500 [1:13:36<3:38:33, 35.25s/it]"
     ]
    },
    {
     "name": "stdout",
     "output_type": "stream",
     "text": [
      "Scraping reviews for movie: https://letterboxd.com/film/spider-man/\n"
     ]
    },
    {
     "name": "stderr",
     "output_type": "stream",
     "text": [
      "Processing Movies:  26%|██▌       | 129/500 [1:14:13<3:39:46, 35.54s/it]"
     ]
    },
    {
     "name": "stdout",
     "output_type": "stream",
     "text": [
      "Scraping reviews for movie: https://letterboxd.com/film/catch-me-if-you-can-2002/\n"
     ]
    },
    {
     "name": "stderr",
     "output_type": "stream",
     "text": [
      "Processing Movies:  26%|██▌       | 130/500 [1:14:49<3:39:57, 35.67s/it]"
     ]
    },
    {
     "name": "stdout",
     "output_type": "stream",
     "text": [
      "Checkpoint saved to movie_reviews_checkpoint.csv\n",
      "Scraping reviews for movie: https://letterboxd.com/film/the-empire-strikes-back/\n"
     ]
    },
    {
     "name": "stderr",
     "output_type": "stream",
     "text": [
      "Processing Movies:  26%|██▌       | 131/500 [1:15:25<3:40:56, 35.93s/it]"
     ]
    },
    {
     "name": "stdout",
     "output_type": "stream",
     "text": [
      "Scraping reviews for movie: https://letterboxd.com/film/a-quiet-place-2018/\n"
     ]
    },
    {
     "name": "stderr",
     "output_type": "stream",
     "text": [
      "Processing Movies:  26%|██▋       | 132/500 [1:16:02<3:42:44, 36.32s/it]"
     ]
    },
    {
     "name": "stdout",
     "output_type": "stream",
     "text": [
      "Scraping reviews for movie: https://letterboxd.com/film/my-neighbor-totoro/\n"
     ]
    },
    {
     "name": "stderr",
     "output_type": "stream",
     "text": [
      "Processing Movies:  27%|██▋       | 133/500 [1:16:39<3:42:27, 36.37s/it]"
     ]
    },
    {
     "name": "stdout",
     "output_type": "stream",
     "text": [
      "Scraping reviews for movie: https://letterboxd.com/film/anyone-but-you/\n"
     ]
    },
    {
     "name": "stderr",
     "output_type": "stream",
     "text": [
      "Processing Movies:  27%|██▋       | 134/500 [1:17:16<3:43:28, 36.63s/it]"
     ]
    },
    {
     "name": "stdout",
     "output_type": "stream",
     "text": [
      "Scraping reviews for movie: https://letterboxd.com/film/the-holdovers/\n"
     ]
    },
    {
     "name": "stderr",
     "output_type": "stream",
     "text": [
      "Processing Movies:  27%|██▋       | 135/500 [1:17:54<3:46:05, 37.17s/it]"
     ]
    },
    {
     "name": "stdout",
     "output_type": "stream",
     "text": [
      "Scraping reviews for movie: https://letterboxd.com/film/nightcrawler/\n"
     ]
    },
    {
     "name": "stderr",
     "output_type": "stream",
     "text": [
      "Processing Movies:  27%|██▋       | 136/500 [1:18:36<3:53:30, 38.49s/it]"
     ]
    },
    {
     "name": "stdout",
     "output_type": "stream",
     "text": [
      "Scraping reviews for movie: https://letterboxd.com/film/the-banshees-of-inisherin/\n"
     ]
    },
    {
     "name": "stderr",
     "output_type": "stream",
     "text": [
      "Processing Movies:  27%|██▋       | 137/500 [1:19:14<3:52:48, 38.48s/it]"
     ]
    },
    {
     "name": "stdout",
     "output_type": "stream",
     "text": [
      "Scraping reviews for movie: https://letterboxd.com/film/toy-story/\n"
     ]
    },
    {
     "name": "stderr",
     "output_type": "stream",
     "text": [
      "Processing Movies:  28%|██▊       | 138/500 [1:19:53<3:51:58, 38.45s/it]"
     ]
    },
    {
     "name": "stdout",
     "output_type": "stream",
     "text": [
      "Scraping reviews for movie: https://letterboxd.com/film/jurassic-park/\n"
     ]
    },
    {
     "name": "stderr",
     "output_type": "stream",
     "text": [
      "Processing Movies:  28%|██▊       | 139/500 [1:20:31<3:51:19, 38.45s/it]"
     ]
    },
    {
     "name": "stdout",
     "output_type": "stream",
     "text": [
      "Scraping reviews for movie: https://letterboxd.com/film/the-lord-of-the-rings-the-return-of-the-king/\n"
     ]
    },
    {
     "name": "stderr",
     "output_type": "stream",
     "text": [
      "Processing Movies:  28%|██▊       | 140/500 [1:21:13<3:56:12, 39.37s/it]"
     ]
    },
    {
     "name": "stdout",
     "output_type": "stream",
     "text": [
      "Checkpoint saved to movie_reviews_checkpoint.csv\n",
      "Scraping reviews for movie: https://letterboxd.com/film/requiem-for-a-dream/\n"
     ]
    },
    {
     "name": "stderr",
     "output_type": "stream",
     "text": [
      "Processing Movies:  28%|██▊       | 141/500 [1:21:51<3:52:40, 38.89s/it]"
     ]
    },
    {
     "name": "stdout",
     "output_type": "stream",
     "text": [
      "Scraping reviews for movie: https://letterboxd.com/film/tenet/\n"
     ]
    },
    {
     "name": "stderr",
     "output_type": "stream",
     "text": [
      "Processing Movies:  28%|██▊       | 142/500 [1:22:29<3:52:01, 38.89s/it]"
     ]
    },
    {
     "name": "stdout",
     "output_type": "stream",
     "text": [
      "Scraping reviews for movie: https://letterboxd.com/film/lost-in-translation/\n"
     ]
    },
    {
     "name": "stderr",
     "output_type": "stream",
     "text": [
      "Processing Movies:  29%|██▊       | 143/500 [1:23:09<3:51:55, 38.98s/it]"
     ]
    },
    {
     "name": "stdout",
     "output_type": "stream",
     "text": [
      "Scraping reviews for movie: https://letterboxd.com/film/the-incredibles/\n"
     ]
    },
    {
     "name": "stderr",
     "output_type": "stream",
     "text": [
      "Processing Movies:  29%|██▉       | 144/500 [1:23:48<3:52:00, 39.10s/it]"
     ]
    },
    {
     "name": "stdout",
     "output_type": "stream",
     "text": [
      "Scraping reviews for movie: https://letterboxd.com/film/superbad/\n"
     ]
    },
    {
     "name": "stderr",
     "output_type": "stream",
     "text": [
      "Processing Movies:  29%|██▉       | 145/500 [1:24:27<3:50:30, 38.96s/it]"
     ]
    },
    {
     "name": "stdout",
     "output_type": "stream",
     "text": [
      "Scraping reviews for movie: https://letterboxd.com/film/iron-man-2008/\n"
     ]
    },
    {
     "name": "stderr",
     "output_type": "stream",
     "text": [
      "Processing Movies:  29%|██▉       | 146/500 [1:25:06<3:50:16, 39.03s/it]"
     ]
    },
    {
     "name": "stdout",
     "output_type": "stream",
     "text": [
      "Scraping reviews for movie: https://letterboxd.com/film/zodiac/\n"
     ]
    },
    {
     "name": "stderr",
     "output_type": "stream",
     "text": [
      "Processing Movies:  29%|██▉       | 147/500 [1:25:44<3:48:37, 38.86s/it]"
     ]
    },
    {
     "name": "stdout",
     "output_type": "stream",
     "text": [
      "Scraping reviews for movie: https://letterboxd.com/film/the-hunger-games-the-ballad-of-songbirds-snakes/\n"
     ]
    },
    {
     "name": "stderr",
     "output_type": "stream",
     "text": [
      "Processing Movies:  30%|██▉       | 148/500 [1:26:24<3:49:06, 39.05s/it]"
     ]
    },
    {
     "name": "stdout",
     "output_type": "stream",
     "text": [
      "Scraping reviews for movie: https://letterboxd.com/film/guardians-of-the-galaxy-vol-2/\n"
     ]
    },
    {
     "name": "stderr",
     "output_type": "stream",
     "text": [
      "Processing Movies:  30%|██▉       | 149/500 [1:27:04<3:49:39, 39.26s/it]"
     ]
    },
    {
     "name": "stdout",
     "output_type": "stream",
     "text": [
      "Scraping reviews for movie: https://letterboxd.com/film/finding-nemo/\n"
     ]
    },
    {
     "name": "stderr",
     "output_type": "stream",
     "text": [
      "Processing Movies:  30%|███       | 150/500 [1:27:44<3:51:37, 39.71s/it]"
     ]
    },
    {
     "name": "stdout",
     "output_type": "stream",
     "text": [
      "Checkpoint saved to movie_reviews_checkpoint.csv\n",
      "Scraping reviews for movie: https://letterboxd.com/film/wonka/\n"
     ]
    },
    {
     "name": "stderr",
     "output_type": "stream",
     "text": [
      "Processing Movies:  30%|███       | 151/500 [1:28:24<3:51:37, 39.82s/it]"
     ]
    },
    {
     "name": "stdout",
     "output_type": "stream",
     "text": [
      "Scraping reviews for movie: https://letterboxd.com/film/before-sunrise/\n"
     ]
    },
    {
     "name": "stderr",
     "output_type": "stream",
     "text": [
      "Processing Movies:  30%|███       | 152/500 [1:29:05<3:51:32, 39.92s/it]"
     ]
    },
    {
     "name": "stdout",
     "output_type": "stream",
     "text": [
      "Scraping reviews for movie: https://letterboxd.com/film/portrait-of-a-lady-on-fire/\n"
     ]
    },
    {
     "name": "stderr",
     "output_type": "stream",
     "text": [
      "Processing Movies:  31%|███       | 153/500 [1:29:45<3:52:26, 40.19s/it]"
     ]
    },
    {
     "name": "stdout",
     "output_type": "stream",
     "text": [
      "Scraping reviews for movie: https://letterboxd.com/film/monsters-inc/\n"
     ]
    },
    {
     "name": "stderr",
     "output_type": "stream",
     "text": [
      "Processing Movies:  31%|███       | 154/500 [1:30:27<3:53:35, 40.51s/it]"
     ]
    },
    {
     "name": "stdout",
     "output_type": "stream",
     "text": [
      "Scraping reviews for movie: https://letterboxd.com/film/a-clockwork-orange/\n"
     ]
    },
    {
     "name": "stderr",
     "output_type": "stream",
     "text": [
      "Processing Movies:  31%|███       | 155/500 [1:31:08<3:54:15, 40.74s/it]"
     ]
    },
    {
     "name": "stdout",
     "output_type": "stream",
     "text": [
      "Scraping reviews for movie: https://letterboxd.com/film/the-lord-of-the-rings-the-two-towers/\n"
     ]
    },
    {
     "name": "stderr",
     "output_type": "stream",
     "text": [
      "Processing Movies:  31%|███       | 156/500 [1:31:49<3:54:17, 40.86s/it]"
     ]
    },
    {
     "name": "stdout",
     "output_type": "stream",
     "text": [
      "Scraping reviews for movie: https://letterboxd.com/film/pride-prejudice/\n"
     ]
    },
    {
     "name": "stderr",
     "output_type": "stream",
     "text": [
      "Processing Movies:  31%|███▏      | 157/500 [1:32:31<3:55:40, 41.23s/it]"
     ]
    },
    {
     "name": "stdout",
     "output_type": "stream",
     "text": [
      "Scraping reviews for movie: https://letterboxd.com/film/the-super-mario-bros-movie/\n"
     ]
    },
    {
     "name": "stderr",
     "output_type": "stream",
     "text": [
      "Processing Movies:  32%|███▏      | 158/500 [1:33:12<3:54:50, 41.20s/it]"
     ]
    },
    {
     "name": "stdout",
     "output_type": "stream",
     "text": [
      "Scraping reviews for movie: https://letterboxd.com/film/home-alone/\n"
     ]
    },
    {
     "name": "stderr",
     "output_type": "stream",
     "text": [
      "Processing Movies:  32%|███▏      | 159/500 [1:33:54<3:55:45, 41.48s/it]"
     ]
    },
    {
     "name": "stdout",
     "output_type": "stream",
     "text": [
      "Scraping reviews for movie: https://letterboxd.com/film/marriage-story-2019/\n"
     ]
    },
    {
     "name": "stderr",
     "output_type": "stream",
     "text": [
      "Processing Movies:  32%|███▏      | 160/500 [1:34:37<3:56:25, 41.72s/it]"
     ]
    },
    {
     "name": "stdout",
     "output_type": "stream",
     "text": [
      "Checkpoint saved to movie_reviews_checkpoint.csv\n",
      "Scraping reviews for movie: https://letterboxd.com/film/captain-america-civil-war/\n"
     ]
    },
    {
     "name": "stderr",
     "output_type": "stream",
     "text": [
      "Processing Movies:  32%|███▏      | 161/500 [1:35:21<3:59:57, 42.47s/it]"
     ]
    },
    {
     "name": "stdout",
     "output_type": "stream",
     "text": [
      "Scraping reviews for movie: https://letterboxd.com/film/spider-man-2/\n"
     ]
    },
    {
     "name": "stderr",
     "output_type": "stream",
     "text": [
      "Processing Movies:  32%|███▏      | 162/500 [1:36:03<3:58:12, 42.29s/it]"
     ]
    },
    {
     "name": "stdout",
     "output_type": "stream",
     "text": [
      "Scraping reviews for movie: https://letterboxd.com/film/oldboy/\n"
     ]
    },
    {
     "name": "stderr",
     "output_type": "stream",
     "text": [
      "Processing Movies:  33%|███▎      | 163/500 [1:36:45<3:57:05, 42.21s/it]"
     ]
    },
    {
     "name": "stdout",
     "output_type": "stream",
     "text": [
      "Scraping reviews for movie: https://letterboxd.com/film/reservoir-dogs/\n"
     ]
    },
    {
     "name": "stderr",
     "output_type": "stream",
     "text": [
      "Processing Movies:  33%|███▎      | 164/500 [1:37:27<3:55:57, 42.14s/it]"
     ]
    },
    {
     "name": "stdout",
     "output_type": "stream",
     "text": [
      "Scraping reviews for movie: https://letterboxd.com/film/blade-runner/\n"
     ]
    },
    {
     "name": "stderr",
     "output_type": "stream",
     "text": [
      "Processing Movies:  33%|███▎      | 165/500 [1:38:09<3:55:49, 42.24s/it]"
     ]
    },
    {
     "name": "stdout",
     "output_type": "stream",
     "text": [
      "Scraping reviews for movie: https://letterboxd.com/film/the-dark-knight-rises/\n"
     ]
    },
    {
     "name": "stderr",
     "output_type": "stream",
     "text": [
      "Processing Movies:  33%|███▎      | 166/500 [1:38:53<3:58:03, 42.77s/it]"
     ]
    },
    {
     "name": "stdout",
     "output_type": "stream",
     "text": [
      "Scraping reviews for movie: https://letterboxd.com/film/doctor-strange-2016/\n"
     ]
    },
    {
     "name": "stderr",
     "output_type": "stream",
     "text": [
      "Processing Movies:  33%|███▎      | 167/500 [1:39:36<3:56:59, 42.70s/it]"
     ]
    },
    {
     "name": "stdout",
     "output_type": "stream",
     "text": [
      "Scraping reviews for movie: https://letterboxd.com/film/asteroid-city/\n"
     ]
    },
    {
     "name": "stderr",
     "output_type": "stream",
     "text": [
      "Processing Movies:  34%|███▎      | 168/500 [1:40:20<3:58:00, 43.01s/it]"
     ]
    },
    {
     "name": "stdout",
     "output_type": "stream",
     "text": [
      "Scraping reviews for movie: https://letterboxd.com/film/harry-potter-and-the-goblet-of-fire/\n"
     ]
    },
    {
     "name": "stderr",
     "output_type": "stream",
     "text": [
      "Processing Movies:  34%|███▍      | 169/500 [1:41:04<3:58:55, 43.31s/it]"
     ]
    },
    {
     "name": "stdout",
     "output_type": "stream",
     "text": [
      "Scraping reviews for movie: https://letterboxd.com/film/the-hunger-games-catching-fire/\n"
     ]
    },
    {
     "name": "stderr",
     "output_type": "stream",
     "text": [
      "Processing Movies:  34%|███▍      | 170/500 [1:41:48<4:00:25, 43.71s/it]"
     ]
    },
    {
     "name": "stdout",
     "output_type": "stream",
     "text": [
      "Checkpoint saved to movie_reviews_checkpoint.csv\n",
      "Scraping reviews for movie: https://letterboxd.com/film/the-prestige/\n"
     ]
    },
    {
     "name": "stderr",
     "output_type": "stream",
     "text": [
      "Processing Movies:  34%|███▍      | 171/500 [1:42:34<4:03:55, 44.49s/it]"
     ]
    },
    {
     "name": "stdout",
     "output_type": "stream",
     "text": [
      "Scraping reviews for movie: https://letterboxd.com/film/harry-potter-and-the-chamber-of-secrets/\n"
     ]
    },
    {
     "name": "stderr",
     "output_type": "stream",
     "text": [
      "Processing Movies:  34%|███▍      | 172/500 [1:43:20<4:04:28, 44.72s/it]"
     ]
    },
    {
     "name": "stdout",
     "output_type": "stream",
     "text": [
      "Scraping reviews for movie: https://letterboxd.com/film/john-wick/\n"
     ]
    },
    {
     "name": "stderr",
     "output_type": "stream",
     "text": [
      "Processing Movies:  35%|███▍      | 173/500 [1:44:05<4:03:49, 44.74s/it]"
     ]
    },
    {
     "name": "stdout",
     "output_type": "stream",
     "text": [
      "Scraping reviews for movie: https://letterboxd.com/film/batman-begins/\n"
     ]
    },
    {
     "name": "stderr",
     "output_type": "stream",
     "text": [
      "Processing Movies:  35%|███▍      | 174/500 [1:44:50<4:04:24, 44.98s/it]"
     ]
    },
    {
     "name": "stdout",
     "output_type": "stream",
     "text": [
      "Scraping reviews for movie: https://letterboxd.com/film/psycho/\n"
     ]
    },
    {
     "name": "stderr",
     "output_type": "stream",
     "text": [
      "Processing Movies:  35%|███▌      | 175/500 [1:45:36<4:05:19, 45.29s/it]"
     ]
    },
    {
     "name": "stdout",
     "output_type": "stream",
     "text": [
      "Scraping reviews for movie: https://letterboxd.com/film/mamma-mia/\n"
     ]
    },
    {
     "name": "stderr",
     "output_type": "stream",
     "text": [
      "Processing Movies:  35%|███▌      | 176/500 [1:46:21<4:04:22, 45.25s/it]"
     ]
    },
    {
     "name": "stdout",
     "output_type": "stream",
     "text": [
      "Scraping reviews for movie: https://letterboxd.com/film/the-witch-2015/\n"
     ]
    },
    {
     "name": "stderr",
     "output_type": "stream",
     "text": [
      "Processing Movies:  35%|███▌      | 177/500 [1:47:06<4:02:38, 45.07s/it]"
     ]
    },
    {
     "name": "stdout",
     "output_type": "stream",
     "text": [
      "Scraping reviews for movie: https://letterboxd.com/film/star-wars-the-force-awakens/\n"
     ]
    },
    {
     "name": "stderr",
     "output_type": "stream",
     "text": [
      "Processing Movies:  36%|███▌      | 178/500 [1:47:52<4:02:46, 45.24s/it]"
     ]
    },
    {
     "name": "stdout",
     "output_type": "stream",
     "text": [
      "Scraping reviews for movie: https://letterboxd.com/film/the-lion-king/\n"
     ]
    },
    {
     "name": "stderr",
     "output_type": "stream",
     "text": [
      "Processing Movies:  36%|███▌      | 179/500 [1:48:39<4:05:59, 45.98s/it]"
     ]
    },
    {
     "name": "stdout",
     "output_type": "stream",
     "text": [
      "Scraping reviews for movie: https://letterboxd.com/film/amelie/\n"
     ]
    },
    {
     "name": "stderr",
     "output_type": "stream",
     "text": [
      "Processing Movies:  36%|███▌      | 180/500 [1:49:29<4:10:38, 47.00s/it]"
     ]
    },
    {
     "name": "stdout",
     "output_type": "stream",
     "text": [
      "Checkpoint saved to movie_reviews_checkpoint.csv\n",
      "Scraping reviews for movie: https://letterboxd.com/film/captain-america-the-winter-soldier/\n"
     ]
    },
    {
     "name": "stderr",
     "output_type": "stream",
     "text": [
      "Processing Movies:  36%|███▌      | 181/500 [1:50:14<4:08:02, 46.65s/it]"
     ]
    },
    {
     "name": "stdout",
     "output_type": "stream",
     "text": [
      "Scraping reviews for movie: https://letterboxd.com/film/barbarian-2022/\n"
     ]
    },
    {
     "name": "stderr",
     "output_type": "stream",
     "text": [
      "Processing Movies:  36%|███▋      | 182/500 [1:51:02<4:09:16, 47.03s/it]"
     ]
    },
    {
     "name": "stdout",
     "output_type": "stream",
     "text": [
      "Scraping reviews for movie: https://letterboxd.com/film/bohemian-rhapsody/\n"
     ]
    },
    {
     "name": "stderr",
     "output_type": "stream",
     "text": [
      "Processing Movies:  37%|███▋      | 183/500 [1:51:52<4:11:53, 47.68s/it]"
     ]
    },
    {
     "name": "stdout",
     "output_type": "stream",
     "text": [
      "Scraping reviews for movie: https://letterboxd.com/film/schindlers-list/\n"
     ]
    },
    {
     "name": "stderr",
     "output_type": "stream",
     "text": [
      "Processing Movies:  37%|███▋      | 184/500 [1:52:40<4:11:44, 47.80s/it]"
     ]
    },
    {
     "name": "stdout",
     "output_type": "stream",
     "text": [
      "Scraping reviews for movie: https://letterboxd.com/film/babylon-2022/\n"
     ]
    },
    {
     "name": "stderr",
     "output_type": "stream",
     "text": [
      "Processing Movies:  37%|███▋      | 185/500 [1:53:28<4:11:42, 47.94s/it]"
     ]
    },
    {
     "name": "stdout",
     "output_type": "stream",
     "text": [
      "Scraping reviews for movie: https://letterboxd.com/film/princess-mononoke/\n"
     ]
    },
    {
     "name": "stderr",
     "output_type": "stream",
     "text": [
      "Processing Movies:  37%|███▋      | 186/500 [1:54:15<4:10:16, 47.82s/it]"
     ]
    },
    {
     "name": "stdout",
     "output_type": "stream",
     "text": [
      "Scraping reviews for movie: https://letterboxd.com/film/priscilla/\n"
     ]
    },
    {
     "name": "stderr",
     "output_type": "stream",
     "text": [
      "Processing Movies:  37%|███▋      | 187/500 [1:55:05<4:12:48, 48.46s/it]"
     ]
    },
    {
     "name": "stdout",
     "output_type": "stream",
     "text": [
      "Scraping reviews for movie: https://letterboxd.com/film/the-lobster/\n"
     ]
    },
    {
     "name": "stderr",
     "output_type": "stream",
     "text": [
      "Processing Movies:  38%|███▊      | 188/500 [1:55:53<4:10:28, 48.17s/it]"
     ]
    },
    {
     "name": "stdout",
     "output_type": "stream",
     "text": [
      "Scraping reviews for movie: https://letterboxd.com/film/the-boy-and-the-heron/\n"
     ]
    },
    {
     "name": "stderr",
     "output_type": "stream",
     "text": [
      "Processing Movies:  38%|███▊      | 189/500 [1:56:40<4:08:25, 47.93s/it]"
     ]
    },
    {
     "name": "stdout",
     "output_type": "stream",
     "text": [
      "Scraping reviews for movie: https://letterboxd.com/film/harry-potter-and-the-deathly-hallows-part-2/\n"
     ]
    },
    {
     "name": "stderr",
     "output_type": "stream",
     "text": [
      "Processing Movies:  38%|███▊      | 190/500 [1:57:29<4:08:34, 48.11s/it]"
     ]
    },
    {
     "name": "stdout",
     "output_type": "stream",
     "text": [
      "Checkpoint saved to movie_reviews_checkpoint.csv\n",
      "Scraping reviews for movie: https://letterboxd.com/film/brokeback-mountain/\n"
     ]
    },
    {
     "name": "stderr",
     "output_type": "stream",
     "text": [
      "Processing Movies:  38%|███▊      | 191/500 [1:58:17<4:08:29, 48.25s/it]"
     ]
    },
    {
     "name": "stdout",
     "output_type": "stream",
     "text": [
      "Scraping reviews for movie: https://letterboxd.com/film/the-french-dispatch/\n"
     ]
    },
    {
     "name": "stderr",
     "output_type": "stream",
     "text": [
      "Processing Movies:  38%|███▊      | 192/500 [1:59:09<4:12:15, 49.14s/it]"
     ]
    },
    {
     "name": "stdout",
     "output_type": "stream",
     "text": [
      "Scraping reviews for movie: https://letterboxd.com/film/star-wars-episode-iii-revenge-of-the-sith/\n"
     ]
    },
    {
     "name": "stderr",
     "output_type": "stream",
     "text": [
      "Processing Movies:  39%|███▊      | 193/500 [1:59:57<4:10:12, 48.90s/it]"
     ]
    },
    {
     "name": "stdout",
     "output_type": "stream",
     "text": [
      "Scraping reviews for movie: https://letterboxd.com/film/jaws/\n"
     ]
    },
    {
     "name": "stderr",
     "output_type": "stream",
     "text": [
      "Processing Movies:  39%|███▉      | 194/500 [2:00:47<4:10:45, 49.17s/it]"
     ]
    },
    {
     "name": "stdout",
     "output_type": "stream",
     "text": [
      "Scraping reviews for movie: https://letterboxd.com/film/talk-to-me-2022/\n"
     ]
    },
    {
     "name": "stderr",
     "output_type": "stream",
     "text": [
      "Processing Movies:  39%|███▉      | 195/500 [2:01:36<4:09:18, 49.04s/it]"
     ]
    },
    {
     "name": "stdout",
     "output_type": "stream",
     "text": [
      "Scraping reviews for movie: https://letterboxd.com/film/deadpool-2/\n"
     ]
    },
    {
     "name": "stderr",
     "output_type": "stream",
     "text": [
      "Processing Movies:  39%|███▉      | 196/500 [2:02:25<4:09:43, 49.29s/it]"
     ]
    },
    {
     "name": "stdout",
     "output_type": "stream",
     "text": [
      "Scraping reviews for movie: https://letterboxd.com/film/bodies-bodies-bodies/\n"
     ]
    },
    {
     "name": "stderr",
     "output_type": "stream",
     "text": [
      "Processing Movies:  39%|███▉      | 197/500 [2:03:16<4:11:01, 49.71s/it]"
     ]
    },
    {
     "name": "stdout",
     "output_type": "stream",
     "text": [
      "Scraping reviews for movie: https://letterboxd.com/film/ex-machina-2015/\n"
     ]
    },
    {
     "name": "stderr",
     "output_type": "stream",
     "text": [
      "Processing Movies:  40%|███▉      | 198/500 [2:04:07<4:11:58, 50.06s/it]"
     ]
    },
    {
     "name": "stdout",
     "output_type": "stream",
     "text": [
      "Scraping reviews for movie: https://letterboxd.com/film/the-whale-2022/\n"
     ]
    },
    {
     "name": "stderr",
     "output_type": "stream",
     "text": [
      "Processing Movies:  40%|███▉      | 199/500 [2:04:58<4:12:58, 50.43s/it]"
     ]
    },
    {
     "name": "stdout",
     "output_type": "stream",
     "text": [
      "Scraping reviews for movie: https://letterboxd.com/film/return-of-the-jedi/\n"
     ]
    },
    {
     "name": "stderr",
     "output_type": "stream",
     "text": [
      "Processing Movies:  40%|████      | 200/500 [2:05:48<4:11:20, 50.27s/it]"
     ]
    },
    {
     "name": "stdout",
     "output_type": "stream",
     "text": [
      "Checkpoint saved to movie_reviews_checkpoint.csv\n",
      "Scraping reviews for movie: https://letterboxd.com/film/clueless/\n"
     ]
    },
    {
     "name": "stderr",
     "output_type": "stream",
     "text": [
      "Processing Movies:  40%|████      | 201/500 [2:06:39<4:11:13, 50.41s/it]"
     ]
    },
    {
     "name": "stdout",
     "output_type": "stream",
     "text": [
      "Scraping reviews for movie: https://letterboxd.com/film/there-will-be-blood/\n"
     ]
    },
    {
     "name": "stderr",
     "output_type": "stream",
     "text": [
      "Processing Movies:  40%|████      | 202/500 [2:07:30<4:11:53, 50.72s/it]"
     ]
    },
    {
     "name": "stdout",
     "output_type": "stream",
     "text": [
      "Scraping reviews for movie: https://letterboxd.com/film/split-2016/\n"
     ]
    },
    {
     "name": "stderr",
     "output_type": "stream",
     "text": [
      "Processing Movies:  41%|████      | 203/500 [2:08:20<4:10:08, 50.53s/it]"
     ]
    },
    {
     "name": "stdout",
     "output_type": "stream",
     "text": [
      "Scraping reviews for movie: https://letterboxd.com/film/juno/\n"
     ]
    },
    {
     "name": "stderr",
     "output_type": "stream",
     "text": [
      "Processing Movies:  41%|████      | 204/500 [2:09:11<4:09:34, 50.59s/it]"
     ]
    },
    {
     "name": "stdout",
     "output_type": "stream",
     "text": [
      "Scraping reviews for movie: https://letterboxd.com/film/dont-worry-darling/\n"
     ]
    },
    {
     "name": "stderr",
     "output_type": "stream",
     "text": [
      "Processing Movies:  41%|████      | 205/500 [2:10:02<4:08:39, 50.57s/it]"
     ]
    },
    {
     "name": "stdout",
     "output_type": "stream",
     "text": [
      "Scraping reviews for movie: https://letterboxd.com/film/the-notebook/\n"
     ]
    },
    {
     "name": "stderr",
     "output_type": "stream",
     "text": [
      "Processing Movies:  41%|████      | 206/500 [2:10:52<4:07:06, 50.43s/it]"
     ]
    },
    {
     "name": "stdout",
     "output_type": "stream",
     "text": [
      "Scraping reviews for movie: https://letterboxd.com/film/harry-potter-and-the-order-of-the-phoenix/\n"
     ]
    },
    {
     "name": "stderr",
     "output_type": "stream",
     "text": [
      "Processing Movies:  41%|████▏     | 207/500 [2:11:42<4:06:20, 50.45s/it]"
     ]
    },
    {
     "name": "stdout",
     "output_type": "stream",
     "text": [
      "Scraping reviews for movie: https://letterboxd.com/film/the-departed/\n"
     ]
    },
    {
     "name": "stderr",
     "output_type": "stream",
     "text": [
      "Processing Movies:  42%|████▏     | 208/500 [2:12:33<4:06:41, 50.69s/it]"
     ]
    },
    {
     "name": "stdout",
     "output_type": "stream",
     "text": [
      "Scraping reviews for movie: https://letterboxd.com/film/the-nightmare-before-christmas/\n"
     ]
    },
    {
     "name": "stderr",
     "output_type": "stream",
     "text": [
      "Processing Movies:  42%|████▏     | 209/500 [2:13:25<4:07:20, 51.00s/it]"
     ]
    },
    {
     "name": "stdout",
     "output_type": "stream",
     "text": [
      "Scraping reviews for movie: https://letterboxd.com/film/avengers-age-of-ultron/\n"
     ]
    },
    {
     "name": "stderr",
     "output_type": "stream",
     "text": [
      "Processing Movies:  42%|████▏     | 210/500 [2:14:16<4:06:41, 51.04s/it]"
     ]
    },
    {
     "name": "stdout",
     "output_type": "stream",
     "text": [
      "Checkpoint saved to movie_reviews_checkpoint.csv\n",
      "Scraping reviews for movie: https://letterboxd.com/film/logan-2017/\n"
     ]
    },
    {
     "name": "stderr",
     "output_type": "stream",
     "text": [
      "Processing Movies:  42%|████▏     | 211/500 [2:15:07<4:05:21, 50.94s/it]"
     ]
    },
    {
     "name": "stdout",
     "output_type": "stream",
     "text": [
      "Scraping reviews for movie: https://letterboxd.com/film/perfect-blue/\n"
     ]
    },
    {
     "name": "stderr",
     "output_type": "stream",
     "text": [
      "Processing Movies:  42%|████▏     | 212/500 [2:15:59<4:05:23, 51.12s/it]"
     ]
    },
    {
     "name": "stdout",
     "output_type": "stream",
     "text": [
      "Scraping reviews for movie: https://letterboxd.com/film/twilight-2008/\n"
     ]
    },
    {
     "name": "stderr",
     "output_type": "stream",
     "text": [
      "Processing Movies:  43%|████▎     | 213/500 [2:16:51<4:06:07, 51.45s/it]"
     ]
    },
    {
     "name": "stdout",
     "output_type": "stream",
     "text": [
      "Scraping reviews for movie: https://letterboxd.com/film/shrek-2/\n"
     ]
    },
    {
     "name": "stderr",
     "output_type": "stream",
     "text": [
      "Processing Movies:  43%|████▎     | 214/500 [2:17:44<4:08:16, 52.09s/it]"
     ]
    },
    {
     "name": "stdout",
     "output_type": "stream",
     "text": [
      "Scraping reviews for movie: https://letterboxd.com/film/thor-love-and-thunder/\n"
     ]
    },
    {
     "name": "stderr",
     "output_type": "stream",
     "text": [
      "Processing Movies:  43%|████▎     | 215/500 [2:18:39<4:10:43, 52.79s/it]"
     ]
    },
    {
     "name": "stdout",
     "output_type": "stream",
     "text": [
      "Scraping reviews for movie: https://letterboxd.com/film/fargo/\n"
     ]
    },
    {
     "name": "stderr",
     "output_type": "stream",
     "text": [
      "Processing Movies:  43%|████▎     | 216/500 [2:19:34<4:13:02, 53.46s/it]"
     ]
    },
    {
     "name": "stdout",
     "output_type": "stream",
     "text": [
      "Scraping reviews for movie: https://letterboxd.com/film/the-iron-claw-2023/\n"
     ]
    },
    {
     "name": "stderr",
     "output_type": "stream",
     "text": [
      "Processing Movies:  43%|████▎     | 217/500 [2:20:29<4:13:54, 53.83s/it]"
     ]
    },
    {
     "name": "stdout",
     "output_type": "stream",
     "text": [
      "Scraping reviews for movie: https://letterboxd.com/film/the-martian/\n"
     ]
    },
    {
     "name": "stderr",
     "output_type": "stream",
     "text": [
      "Processing Movies:  44%|████▎     | 218/500 [2:21:31<4:24:48, 56.34s/it]"
     ]
    },
    {
     "name": "stdout",
     "output_type": "stream",
     "text": [
      "Scraping reviews for movie: https://letterboxd.com/film/birdman-or-the-unexpected-virtue-of-ignorance/\n"
     ]
    },
    {
     "name": "stderr",
     "output_type": "stream",
     "text": [
      "Processing Movies:  44%|████▍     | 219/500 [2:22:34<4:33:59, 58.50s/it]"
     ]
    },
    {
     "name": "stdout",
     "output_type": "stream",
     "text": [
      "Scraping reviews for movie: https://letterboxd.com/film/the-zone-of-interest/\n"
     ]
    },
    {
     "name": "stderr",
     "output_type": "stream",
     "text": [
      "Processing Movies:  44%|████▍     | 220/500 [2:23:36<4:38:04, 59.59s/it]"
     ]
    },
    {
     "name": "stdout",
     "output_type": "stream",
     "text": [
      "Checkpoint saved to movie_reviews_checkpoint.csv\n",
      "Scraping reviews for movie: https://letterboxd.com/film/the-suicide-squad/\n"
     ]
    },
    {
     "name": "stderr",
     "output_type": "stream",
     "text": [
      "Processing Movies:  44%|████▍     | 221/500 [2:24:40<4:42:57, 60.85s/it]"
     ]
    },
    {
     "name": "stdout",
     "output_type": "stream",
     "text": [
      "Scraping reviews for movie: https://letterboxd.com/film/no-hard-feelings-2023/\n"
     ]
    },
    {
     "name": "stderr",
     "output_type": "stream",
     "text": [
      "Processing Movies:  44%|████▍     | 222/500 [2:25:37<4:36:24, 59.66s/it]"
     ]
    },
    {
     "name": "stdout",
     "output_type": "stream",
     "text": [
      "Scraping reviews for movie: https://letterboxd.com/film/mulholland-drive/\n"
     ]
    },
    {
     "name": "stderr",
     "output_type": "stream",
     "text": [
      "Processing Movies:  45%|████▍     | 223/500 [2:26:34<4:32:02, 58.93s/it]"
     ]
    },
    {
     "name": "stdout",
     "output_type": "stream",
     "text": [
      "Scraping reviews for movie: https://letterboxd.com/film/scarface-1983/\n"
     ]
    },
    {
     "name": "stderr",
     "output_type": "stream",
     "text": [
      "Processing Movies:  45%|████▍     | 224/500 [2:27:29<4:25:35, 57.74s/it]"
     ]
    },
    {
     "name": "stdout",
     "output_type": "stream",
     "text": [
      "Scraping reviews for movie: https://letterboxd.com/film/star-wars-episode-i-the-phantom-menace/\n"
     ]
    },
    {
     "name": "stderr",
     "output_type": "stream",
     "text": [
      "Processing Movies:  45%|████▌     | 225/500 [2:28:24<4:20:12, 56.77s/it]"
     ]
    },
    {
     "name": "stdout",
     "output_type": "stream",
     "text": [
      "Scraping reviews for movie: https://letterboxd.com/film/harry-potter-and-the-half-blood-prince/\n"
     ]
    },
    {
     "name": "stderr",
     "output_type": "stream",
     "text": [
      "Processing Movies:  45%|████▌     | 226/500 [2:29:20<4:17:49, 56.46s/it]"
     ]
    },
    {
     "name": "stdout",
     "output_type": "stream",
     "text": [
      "Scraping reviews for movie: https://letterboxd.com/film/bones-and-all/\n"
     ]
    },
    {
     "name": "stderr",
     "output_type": "stream",
     "text": [
      "Processing Movies:  45%|████▌     | 227/500 [2:30:14<4:14:07, 55.85s/it]"
     ]
    },
    {
     "name": "stdout",
     "output_type": "stream",
     "text": [
      "Scraping reviews for movie: https://letterboxd.com/film/leon-the-professional/\n"
     ]
    },
    {
     "name": "stderr",
     "output_type": "stream",
     "text": [
      "Processing Movies:  46%|████▌     | 228/500 [2:31:09<4:12:25, 55.68s/it]"
     ]
    },
    {
     "name": "stdout",
     "output_type": "stream",
     "text": [
      "Scraping reviews for movie: https://letterboxd.com/film/last-night-in-soho/\n"
     ]
    },
    {
     "name": "stderr",
     "output_type": "stream",
     "text": [
      "Processing Movies:  46%|████▌     | 229/500 [2:32:05<4:12:02, 55.80s/it]"
     ]
    },
    {
     "name": "stdout",
     "output_type": "stream",
     "text": [
      "Scraping reviews for movie: https://letterboxd.com/film/society-of-the-snow/\n"
     ]
    },
    {
     "name": "stderr",
     "output_type": "stream",
     "text": [
      "Processing Movies:  46%|████▌     | 230/500 [2:33:01<4:10:41, 55.71s/it]"
     ]
    },
    {
     "name": "stdout",
     "output_type": "stream",
     "text": [
      "Checkpoint saved to movie_reviews_checkpoint.csv\n",
      "Scraping reviews for movie: https://letterboxd.com/film/encanto/\n"
     ]
    },
    {
     "name": "stderr",
     "output_type": "stream",
     "text": [
      "Processing Movies:  46%|████▌     | 231/500 [2:33:56<4:09:40, 55.69s/it]"
     ]
    },
    {
     "name": "stdout",
     "output_type": "stream",
     "text": [
      "Scraping reviews for movie: https://letterboxd.com/film/i-tonya/\n"
     ]
    },
    {
     "name": "stderr",
     "output_type": "stream",
     "text": [
      "Processing Movies:  46%|████▋     | 232/500 [2:34:53<4:09:48, 55.93s/it]"
     ]
    },
    {
     "name": "stdout",
     "output_type": "stream",
     "text": [
      "Scraping reviews for movie: https://letterboxd.com/film/the-godfather-part-ii/\n"
     ]
    },
    {
     "name": "stderr",
     "output_type": "stream",
     "text": [
      "Processing Movies:  47%|████▋     | 233/500 [2:35:51<4:11:27, 56.51s/it]"
     ]
    },
    {
     "name": "stdout",
     "output_type": "stream",
     "text": [
      "Scraping reviews for movie: https://letterboxd.com/film/star-wars-the-last-jedi/\n"
     ]
    },
    {
     "name": "stderr",
     "output_type": "stream",
     "text": [
      "Processing Movies:  47%|████▋     | 234/500 [2:36:47<4:09:31, 56.28s/it]"
     ]
    },
    {
     "name": "stdout",
     "output_type": "stream",
     "text": [
      "Scraping reviews for movie: https://letterboxd.com/film/12-angry-men/\n"
     ]
    },
    {
     "name": "stderr",
     "output_type": "stream",
     "text": [
      "Processing Movies:  47%|████▋     | 235/500 [2:37:43<4:08:42, 56.31s/it]"
     ]
    },
    {
     "name": "stdout",
     "output_type": "stream",
     "text": [
      "Scraping reviews for movie: https://letterboxd.com/film/the-big-lebowski/\n"
     ]
    },
    {
     "name": "stderr",
     "output_type": "stream",
     "text": [
      "Processing Movies:  47%|████▋     | 236/500 [2:38:41<4:10:10, 56.86s/it]"
     ]
    },
    {
     "name": "stdout",
     "output_type": "stream",
     "text": [
      "Scraping reviews for movie: https://letterboxd.com/film/harry-potter-and-the-deathly-hallows-part-1/\n"
     ]
    },
    {
     "name": "stderr",
     "output_type": "stream",
     "text": [
      "Processing Movies:  47%|████▋     | 237/500 [2:39:38<4:09:08, 56.84s/it]"
     ]
    },
    {
     "name": "stdout",
     "output_type": "stream",
     "text": [
      "Scraping reviews for movie: https://letterboxd.com/film/black-widow-2021/\n"
     ]
    },
    {
     "name": "stderr",
     "output_type": "stream",
     "text": [
      "Processing Movies:  48%|████▊     | 238/500 [2:40:34<4:07:29, 56.68s/it]"
     ]
    },
    {
     "name": "stdout",
     "output_type": "stream",
     "text": [
      "Scraping reviews for movie: https://letterboxd.com/film/pirates-of-the-caribbean-the-curse-of-the-black-pearl/\n"
     ]
    },
    {
     "name": "stderr",
     "output_type": "stream",
     "text": [
      "Processing Movies:  48%|████▊     | 239/500 [2:41:32<4:08:01, 57.02s/it]"
     ]
    },
    {
     "name": "stdout",
     "output_type": "stream",
     "text": [
      "Scraping reviews for movie: https://letterboxd.com/film/kill-bill-vol-2/\n"
     ]
    },
    {
     "name": "stderr",
     "output_type": "stream",
     "text": [
      "Processing Movies:  48%|████▊     | 240/500 [2:42:30<4:07:58, 57.22s/it]"
     ]
    },
    {
     "name": "stdout",
     "output_type": "stream",
     "text": [
      "Checkpoint saved to movie_reviews_checkpoint.csv\n",
      "Scraping reviews for movie: https://letterboxd.com/film/ferris-buellers-day-off/\n"
     ]
    },
    {
     "name": "stderr",
     "output_type": "stream",
     "text": [
      "Processing Movies:  48%|████▊     | 241/500 [2:43:29<4:09:23, 57.77s/it]"
     ]
    },
    {
     "name": "stdout",
     "output_type": "stream",
     "text": [
      "Scraping reviews for movie: https://letterboxd.com/film/edward-scissorhands/\n"
     ]
    },
    {
     "name": "stderr",
     "output_type": "stream",
     "text": [
      "Processing Movies:  48%|████▊     | 242/500 [2:44:26<4:07:16, 57.50s/it]"
     ]
    },
    {
     "name": "stdout",
     "output_type": "stream",
     "text": [
      "Scraping reviews for movie: https://letterboxd.com/film/the-thing/\n"
     ]
    },
    {
     "name": "stderr",
     "output_type": "stream",
     "text": [
      "Processing Movies:  49%|████▊     | 243/500 [2:45:24<4:07:46, 57.85s/it]"
     ]
    },
    {
     "name": "stdout",
     "output_type": "stream",
     "text": [
      "Scraping reviews for movie: https://letterboxd.com/film/about-time/\n"
     ]
    },
    {
     "name": "stderr",
     "output_type": "stream",
     "text": [
      "Processing Movies:  49%|████▉     | 244/500 [2:46:21<4:05:48, 57.61s/it]"
     ]
    },
    {
     "name": "stdout",
     "output_type": "stream",
     "text": [
      "Scraping reviews for movie: https://letterboxd.com/film/trainspotting/\n"
     ]
    },
    {
     "name": "stderr",
     "output_type": "stream",
     "text": [
      "Processing Movies:  49%|████▉     | 245/500 [2:47:18<4:04:10, 57.45s/it]"
     ]
    },
    {
     "name": "stdout",
     "output_type": "stream",
     "text": [
      "Scraping reviews for movie: https://letterboxd.com/film/longlegs/\n"
     ]
    },
    {
     "name": "stderr",
     "output_type": "stream",
     "text": [
      "Processing Movies:  49%|████▉     | 246/500 [2:48:16<4:03:15, 57.46s/it]"
     ]
    },
    {
     "name": "stdout",
     "output_type": "stream",
     "text": [
      "Scraping reviews for movie: https://letterboxd.com/film/the-amazing-spider-man/\n"
     ]
    },
    {
     "name": "stderr",
     "output_type": "stream",
     "text": [
      "Processing Movies:  49%|████▉     | 247/500 [2:49:13<4:01:18, 57.23s/it]"
     ]
    },
    {
     "name": "stdout",
     "output_type": "stream",
     "text": [
      "Scraping reviews for movie: https://letterboxd.com/film/moonrise-kingdom/\n"
     ]
    },
    {
     "name": "stderr",
     "output_type": "stream",
     "text": [
      "Processing Movies:  50%|████▉     | 248/500 [2:50:10<4:00:21, 57.23s/it]"
     ]
    },
    {
     "name": "stdout",
     "output_type": "stream",
     "text": [
      "Scraping reviews for movie: https://letterboxd.com/film/captain-marvel/\n"
     ]
    },
    {
     "name": "stderr",
     "output_type": "stream",
     "text": [
      "Processing Movies:  50%|████▉     | 249/500 [2:51:09<4:02:01, 57.85s/it]"
     ]
    },
    {
     "name": "stdout",
     "output_type": "stream",
     "text": [
      "Scraping reviews for movie: https://letterboxd.com/film/shang-chi-and-the-legend-of-the-ten-rings/\n"
     ]
    },
    {
     "name": "stderr",
     "output_type": "stream",
     "text": [
      "Processing Movies:  50%|█████     | 250/500 [2:52:11<4:06:12, 59.09s/it]"
     ]
    },
    {
     "name": "stdout",
     "output_type": "stream",
     "text": [
      "Checkpoint saved to movie_reviews_checkpoint.csv\n",
      "Scraping reviews for movie: https://letterboxd.com/film/rogue-one-a-star-wars-story/\n"
     ]
    },
    {
     "name": "stderr",
     "output_type": "stream",
     "text": [
      "Processing Movies:  50%|█████     | 251/500 [2:53:15<4:11:51, 60.69s/it]"
     ]
    },
    {
     "name": "stdout",
     "output_type": "stream",
     "text": [
      "Scraping reviews for movie: https://letterboxd.com/film/saving-private-ryan/\n"
     ]
    },
    {
     "name": "stderr",
     "output_type": "stream",
     "text": [
      "Processing Movies:  50%|█████     | 252/500 [2:54:25<4:21:16, 63.21s/it]"
     ]
    },
    {
     "name": "stdout",
     "output_type": "stream",
     "text": [
      "Scraping reviews for movie: https://letterboxd.com/film/the-nice-guys/\n"
     ]
    },
    {
     "name": "stderr",
     "output_type": "stream",
     "text": [
      "Processing Movies:  51%|█████     | 253/500 [2:55:37<4:31:55, 66.05s/it]"
     ]
    },
    {
     "name": "stdout",
     "output_type": "stream",
     "text": [
      "Scraping reviews for movie: https://letterboxd.com/film/captain-america-the-first-avenger/\n"
     ]
    },
    {
     "name": "stderr",
     "output_type": "stream",
     "text": [
      "Processing Movies:  51%|█████     | 254/500 [2:56:45<4:33:19, 66.67s/it]"
     ]
    },
    {
     "name": "stdout",
     "output_type": "stream",
     "text": [
      "Scraping reviews for movie: https://letterboxd.com/film/ant-man/\n"
     ]
    },
    {
     "name": "stderr",
     "output_type": "stream",
     "text": [
      "Processing Movies:  51%|█████     | 255/500 [2:57:52<4:32:20, 66.69s/it]"
     ]
    },
    {
     "name": "stdout",
     "output_type": "stream",
     "text": [
      "Scraping reviews for movie: https://letterboxd.com/film/your-name/\n"
     ]
    },
    {
     "name": "stderr",
     "output_type": "stream",
     "text": [
      "Processing Movies:  51%|█████     | 256/500 [2:58:59<4:31:44, 66.82s/it]"
     ]
    },
    {
     "name": "stdout",
     "output_type": "stream",
     "text": [
      "Scraping reviews for movie: https://letterboxd.com/film/girl-interrupted/\n"
     ]
    },
    {
     "name": "stderr",
     "output_type": "stream",
     "text": [
      "Processing Movies:  51%|█████▏    | 257/500 [3:00:05<4:29:22, 66.51s/it]"
     ]
    },
    {
     "name": "stdout",
     "output_type": "stream",
     "text": [
      "Scraping reviews for movie: https://letterboxd.com/film/the-revenant-2015/\n"
     ]
    },
    {
     "name": "stderr",
     "output_type": "stream",
     "text": [
      "Processing Movies:  52%|█████▏    | 258/500 [3:01:11<4:27:55, 66.43s/it]"
     ]
    },
    {
     "name": "stdout",
     "output_type": "stream",
     "text": [
      "Scraping reviews for movie: https://letterboxd.com/film/the-favourite/\n"
     ]
    },
    {
     "name": "stderr",
     "output_type": "stream",
     "text": [
      "Processing Movies:  52%|█████▏    | 259/500 [3:02:17<4:26:25, 66.33s/it]"
     ]
    },
    {
     "name": "stdout",
     "output_type": "stream",
     "text": [
      "Scraping reviews for movie: https://letterboxd.com/film/five-nights-at-freddys/\n"
     ]
    },
    {
     "name": "stderr",
     "output_type": "stream",
     "text": [
      "Processing Movies:  52%|█████▏    | 260/500 [3:03:26<4:27:53, 66.97s/it]"
     ]
    },
    {
     "name": "stdout",
     "output_type": "stream",
     "text": [
      "Checkpoint saved to movie_reviews_checkpoint.csv\n",
      "Scraping reviews for movie: https://letterboxd.com/film/american-beauty/\n"
     ]
    },
    {
     "name": "stderr",
     "output_type": "stream",
     "text": [
      "Processing Movies:  52%|█████▏    | 261/500 [3:04:33<4:26:52, 67.00s/it]"
     ]
    },
    {
     "name": "stdout",
     "output_type": "stream",
     "text": [
      "Scraping reviews for movie: https://letterboxd.com/film/jennifers-body/\n"
     ]
    },
    {
     "name": "stderr",
     "output_type": "stream",
     "text": [
      "Processing Movies:  52%|█████▏    | 262/500 [3:05:39<4:25:01, 66.81s/it]"
     ]
    },
    {
     "name": "stdout",
     "output_type": "stream",
     "text": [
      "Scraping reviews for movie: https://letterboxd.com/film/elvis-2022/\n"
     ]
    },
    {
     "name": "stderr",
     "output_type": "stream",
     "text": [
      "Processing Movies:  53%|█████▎    | 263/500 [3:06:44<4:20:52, 66.04s/it]"
     ]
    },
    {
     "name": "stdout",
     "output_type": "stream",
     "text": [
      "Scraping reviews for movie: https://letterboxd.com/film/the-great-gatsby-2013/\n"
     ]
    },
    {
     "name": "stderr",
     "output_type": "stream",
     "text": [
      "Processing Movies:  53%|█████▎    | 264/500 [3:07:50<4:20:30, 66.23s/it]"
     ]
    },
    {
     "name": "stdout",
     "output_type": "stream",
     "text": [
      "Scraping reviews for movie: https://letterboxd.com/film/eyes-wide-shut/\n"
     ]
    },
    {
     "name": "stderr",
     "output_type": "stream",
     "text": [
      "Processing Movies:  53%|█████▎    | 265/500 [3:09:01<4:24:44, 67.60s/it]"
     ]
    },
    {
     "name": "stdout",
     "output_type": "stream",
     "text": [
      "Scraping reviews for movie: https://letterboxd.com/film/the-virgin-suicides/\n"
     ]
    },
    {
     "name": "stderr",
     "output_type": "stream",
     "text": [
      "Processing Movies:  53%|█████▎    | 266/500 [3:10:05<4:19:37, 66.57s/it]"
     ]
    },
    {
     "name": "stdout",
     "output_type": "stream",
     "text": [
      "Scraping reviews for movie: https://letterboxd.com/film/blackkklansman/\n"
     ]
    },
    {
     "name": "stderr",
     "output_type": "stream",
     "text": [
      "Processing Movies:  53%|█████▎    | 267/500 [3:11:11<4:18:11, 66.49s/it]"
     ]
    },
    {
     "name": "stdout",
     "output_type": "stream",
     "text": [
      "Scraping reviews for movie: https://letterboxd.com/film/apocalypse-now/\n"
     ]
    },
    {
     "name": "stderr",
     "output_type": "stream",
     "text": [
      "Processing Movies:  54%|█████▎    | 268/500 [3:12:15<4:13:58, 65.68s/it]"
     ]
    },
    {
     "name": "stdout",
     "output_type": "stream",
     "text": [
      "Scraping reviews for movie: https://letterboxd.com/film/luca-2021/\n"
     ]
    },
    {
     "name": "stderr",
     "output_type": "stream",
     "text": [
      "Processing Movies:  54%|█████▍    | 269/500 [3:13:18<4:09:36, 64.83s/it]"
     ]
    },
    {
     "name": "stdout",
     "output_type": "stream",
     "text": [
      "Scraping reviews for movie: https://letterboxd.com/film/black-panther-wakanda-forever/\n"
     ]
    },
    {
     "name": "stderr",
     "output_type": "stream",
     "text": [
      "Processing Movies:  54%|█████▍    | 270/500 [3:14:22<4:06:52, 64.40s/it]"
     ]
    },
    {
     "name": "stdout",
     "output_type": "stream",
     "text": [
      "Checkpoint saved to movie_reviews_checkpoint.csv\n",
      "Scraping reviews for movie: https://letterboxd.com/film/gladiator-2000/\n"
     ]
    },
    {
     "name": "stderr",
     "output_type": "stream",
     "text": [
      "Processing Movies:  54%|█████▍    | 271/500 [3:15:24<4:04:02, 63.94s/it]"
     ]
    },
    {
     "name": "stdout",
     "output_type": "stream",
     "text": [
      "Scraping reviews for movie: https://letterboxd.com/film/the-florida-project/\n"
     ]
    },
    {
     "name": "stderr",
     "output_type": "stream",
     "text": [
      "Processing Movies:  54%|█████▍    | 272/500 [3:16:29<4:04:09, 64.25s/it]"
     ]
    },
    {
     "name": "stdout",
     "output_type": "stream",
     "text": [
      "Scraping reviews for movie: https://letterboxd.com/film/the-shape-of-water/\n"
     ]
    },
    {
     "name": "stderr",
     "output_type": "stream",
     "text": [
      "Processing Movies:  55%|█████▍    | 273/500 [3:17:34<4:03:16, 64.30s/it]"
     ]
    },
    {
     "name": "stdout",
     "output_type": "stream",
     "text": [
      "Scraping reviews for movie: https://letterboxd.com/film/the-worst-person-in-the-world/\n"
     ]
    },
    {
     "name": "stderr",
     "output_type": "stream",
     "text": [
      "Processing Movies:  55%|█████▍    | 274/500 [3:18:41<4:05:54, 65.28s/it]"
     ]
    },
    {
     "name": "stdout",
     "output_type": "stream",
     "text": [
      "Scraping reviews for movie: https://letterboxd.com/film/beautiful-boy-2018/\n"
     ]
    },
    {
     "name": "stderr",
     "output_type": "stream",
     "text": [
      "Processing Movies:  55%|█████▌    | 275/500 [3:19:47<4:05:24, 65.44s/it]"
     ]
    },
    {
     "name": "stdout",
     "output_type": "stream",
     "text": [
      "Scraping reviews for movie: https://letterboxd.com/film/toy-story-3/\n"
     ]
    },
    {
     "name": "stderr",
     "output_type": "stream",
     "text": [
      "Processing Movies:  55%|█████▌    | 276/500 [3:20:52<4:03:55, 65.34s/it]"
     ]
    },
    {
     "name": "stdout",
     "output_type": "stream",
     "text": [
      "Scraping reviews for movie: https://letterboxd.com/film/zootopia/\n"
     ]
    },
    {
     "name": "stderr",
     "output_type": "stream",
     "text": [
      "Processing Movies:  55%|█████▌    | 277/500 [3:22:00<4:05:09, 65.96s/it]"
     ]
    },
    {
     "name": "stdout",
     "output_type": "stream",
     "text": [
      "Scraping reviews for movie: https://letterboxd.com/film/in-the-mood-for-love/\n"
     ]
    },
    {
     "name": "stderr",
     "output_type": "stream",
     "text": [
      "Processing Movies:  56%|█████▌    | 278/500 [3:23:11<4:10:01, 67.58s/it]"
     ]
    },
    {
     "name": "stdout",
     "output_type": "stream",
     "text": [
      "Scraping reviews for movie: https://letterboxd.com/film/isle-of-dogs-2018/\n"
     ]
    },
    {
     "name": "stderr",
     "output_type": "stream",
     "text": [
      "Processing Movies:  56%|█████▌    | 279/500 [3:24:21<4:12:04, 68.44s/it]"
     ]
    },
    {
     "name": "stdout",
     "output_type": "stream",
     "text": [
      "Scraping reviews for movie: https://letterboxd.com/film/the-pianist/\n"
     ]
    },
    {
     "name": "stderr",
     "output_type": "stream",
     "text": [
      "Processing Movies:  56%|█████▌    | 280/500 [3:25:31<4:11:40, 68.64s/it]"
     ]
    },
    {
     "name": "stdout",
     "output_type": "stream",
     "text": [
      "Checkpoint saved to movie_reviews_checkpoint.csv\n",
      "Scraping reviews for movie: https://letterboxd.com/film/the-hateful-eight/\n"
     ]
    },
    {
     "name": "stderr",
     "output_type": "stream",
     "text": [
      "Processing Movies:  56%|█████▌    | 281/500 [3:26:39<4:10:31, 68.63s/it]"
     ]
    },
    {
     "name": "stdout",
     "output_type": "stream",
     "text": [
      "Scraping reviews for movie: https://letterboxd.com/film/turning-red/\n"
     ]
    },
    {
     "name": "stderr",
     "output_type": "stream",
     "text": [
      "Processing Movies:  56%|█████▋    | 282/500 [3:27:50<4:11:25, 69.20s/it]"
     ]
    },
    {
     "name": "stdout",
     "output_type": "stream",
     "text": [
      "Scraping reviews for movie: https://letterboxd.com/film/raiders-of-the-lost-ark/\n"
     ]
    },
    {
     "name": "stderr",
     "output_type": "stream",
     "text": [
      "Processing Movies:  57%|█████▋    | 283/500 [3:28:59<4:10:02, 69.13s/it]"
     ]
    },
    {
     "name": "stdout",
     "output_type": "stream",
     "text": [
      "Scraping reviews for movie: https://letterboxd.com/film/star-wars-episode-ii-attack-of-the-clones/\n"
     ]
    },
    {
     "name": "stderr",
     "output_type": "stream",
     "text": [
      "Processing Movies:  57%|█████▋    | 284/500 [3:30:08<4:08:58, 69.16s/it]"
     ]
    },
    {
     "name": "stdout",
     "output_type": "stream",
     "text": [
      "Scraping reviews for movie: https://letterboxd.com/film/booksmart/\n"
     ]
    },
    {
     "name": "stderr",
     "output_type": "stream",
     "text": [
      "Processing Movies:  57%|█████▋    | 285/500 [3:31:19<4:10:01, 69.78s/it]"
     ]
    },
    {
     "name": "stdout",
     "output_type": "stream",
     "text": [
      "Scraping reviews for movie: https://letterboxd.com/film/star-wars-the-rise-of-skywalker/\n"
     ]
    },
    {
     "name": "stderr",
     "output_type": "stream",
     "text": [
      "Processing Movies:  57%|█████▋    | 286/500 [3:32:33<4:13:32, 71.09s/it]"
     ]
    },
    {
     "name": "stdout",
     "output_type": "stream",
     "text": [
      "Scraping reviews for movie: https://letterboxd.com/film/triangle-of-sadness/\n"
     ]
    },
    {
     "name": "stderr",
     "output_type": "stream",
     "text": [
      "Processing Movies:  57%|█████▋    | 287/500 [3:33:46<4:14:33, 71.71s/it]"
     ]
    },
    {
     "name": "stdout",
     "output_type": "stream",
     "text": [
      "Scraping reviews for movie: https://letterboxd.com/film/moana-2016/\n"
     ]
    },
    {
     "name": "stderr",
     "output_type": "stream",
     "text": [
      "Processing Movies:  58%|█████▊    | 288/500 [3:35:02<4:17:50, 72.97s/it]"
     ]
    },
    {
     "name": "stdout",
     "output_type": "stream",
     "text": [
      "Scraping reviews for movie: https://letterboxd.com/film/the-handmaiden/\n"
     ]
    },
    {
     "name": "stderr",
     "output_type": "stream",
     "text": [
      "Processing Movies:  58%|█████▊    | 289/500 [3:36:19<4:20:51, 74.18s/it]"
     ]
    },
    {
     "name": "stdout",
     "output_type": "stream",
     "text": [
      "Scraping reviews for movie: https://letterboxd.com/film/legally-blonde/\n"
     ]
    },
    {
     "name": "stderr",
     "output_type": "stream",
     "text": [
      "Processing Movies:  58%|█████▊    | 290/500 [3:37:36<4:22:31, 75.01s/it]"
     ]
    },
    {
     "name": "stdout",
     "output_type": "stream",
     "text": [
      "Checkpoint saved to movie_reviews_checkpoint.csv\n",
      "Scraping reviews for movie: https://letterboxd.com/film/spider-man-3/\n"
     ]
    },
    {
     "name": "stderr",
     "output_type": "stream",
     "text": [
      "Processing Movies:  58%|█████▊    | 291/500 [3:38:52<4:21:59, 75.21s/it]"
     ]
    },
    {
     "name": "stdout",
     "output_type": "stream",
     "text": [
      "Scraping reviews for movie: https://letterboxd.com/film/iron-man-3/\n"
     ]
    },
    {
     "name": "stderr",
     "output_type": "stream",
     "text": [
      "Processing Movies:  58%|█████▊    | 292/500 [3:40:05<4:18:09, 74.47s/it]"
     ]
    },
    {
     "name": "stdout",
     "output_type": "stream",
     "text": [
      "Scraping reviews for movie: https://letterboxd.com/film/incredibles-2/\n"
     ]
    },
    {
     "name": "stderr",
     "output_type": "stream",
     "text": [
      "Processing Movies:  59%|█████▊    | 293/500 [3:41:24<4:22:05, 75.97s/it]"
     ]
    },
    {
     "name": "stdout",
     "output_type": "stream",
     "text": [
      "Scraping reviews for movie: https://letterboxd.com/film/the-royal-tenenbaums/\n"
     ]
    },
    {
     "name": "stderr",
     "output_type": "stream",
     "text": [
      "Processing Movies:  59%|█████▉    | 294/500 [3:42:41<4:21:42, 76.23s/it]"
     ]
    },
    {
     "name": "stdout",
     "output_type": "stream",
     "text": [
      "Scraping reviews for movie: https://letterboxd.com/film/charlie-and-the-chocolate-factory/\n"
     ]
    },
    {
     "name": "stderr",
     "output_type": "stream",
     "text": [
      "Processing Movies:  59%|█████▉    | 295/500 [3:43:57<4:20:07, 76.14s/it]"
     ]
    },
    {
     "name": "stdout",
     "output_type": "stream",
     "text": [
      "Scraping reviews for movie: https://letterboxd.com/film/suicide-squad-2016/\n"
     ]
    },
    {
     "name": "stderr",
     "output_type": "stream",
     "text": [
      "Processing Movies:  59%|█████▉    | 296/500 [3:45:14<4:20:16, 76.55s/it]"
     ]
    },
    {
     "name": "stdout",
     "output_type": "stream",
     "text": [
      "Scraping reviews for movie: https://letterboxd.com/film/iron-man-2/\n"
     ]
    },
    {
     "name": "stderr",
     "output_type": "stream",
     "text": [
      "Processing Movies:  59%|█████▉    | 297/500 [3:46:31<4:19:10, 76.60s/it]"
     ]
    },
    {
     "name": "stdout",
     "output_type": "stream",
     "text": [
      "Scraping reviews for movie: https://letterboxd.com/film/the-conjuring/\n"
     ]
    },
    {
     "name": "stderr",
     "output_type": "stream",
     "text": [
      "Processing Movies:  60%|█████▉    | 298/500 [3:47:48<4:18:28, 76.78s/it]"
     ]
    },
    {
     "name": "stdout",
     "output_type": "stream",
     "text": [
      "Scraping reviews for movie: https://letterboxd.com/film/toy-story-2/\n"
     ]
    },
    {
     "name": "stderr",
     "output_type": "stream",
     "text": [
      "Processing Movies:  60%|█████▉    | 299/500 [3:49:09<4:21:20, 78.01s/it]"
     ]
    },
    {
     "name": "stdout",
     "output_type": "stream",
     "text": [
      "Scraping reviews for movie: https://letterboxd.com/film/big-hero-6/\n"
     ]
    },
    {
     "name": "stderr",
     "output_type": "stream",
     "text": [
      "Processing Movies:  60%|██████    | 300/500 [3:50:26<4:18:43, 77.62s/it]"
     ]
    },
    {
     "name": "stdout",
     "output_type": "stream",
     "text": [
      "Checkpoint saved to movie_reviews_checkpoint.csv\n",
      "Scraping reviews for movie: https://letterboxd.com/film/the-northman/\n"
     ]
    },
    {
     "name": "stderr",
     "output_type": "stream",
     "text": [
      "Processing Movies:  60%|██████    | 301/500 [3:51:45<4:18:56, 78.07s/it]"
     ]
    },
    {
     "name": "stdout",
     "output_type": "stream",
     "text": [
      "Scraping reviews for movie: https://letterboxd.com/film/thor/\n"
     ]
    },
    {
     "name": "stderr",
     "output_type": "stream",
     "text": [
      "Processing Movies:  60%|██████    | 302/500 [3:53:02<4:16:48, 77.82s/it]"
     ]
    },
    {
     "name": "stdout",
     "output_type": "stream",
     "text": [
      "Scraping reviews for movie: https://letterboxd.com/film/frozen-2013/\n"
     ]
    },
    {
     "name": "stderr",
     "output_type": "stream",
     "text": [
      "Processing Movies:  61%|██████    | 303/500 [3:54:26<4:21:38, 79.69s/it]"
     ]
    },
    {
     "name": "stdout",
     "output_type": "stream",
     "text": [
      "Scraping reviews for movie: https://letterboxd.com/film/city-of-god/\n"
     ]
    },
    {
     "name": "stderr",
     "output_type": "stream",
     "text": [
      "Processing Movies:  61%|██████    | 304/500 [3:55:46<4:20:23, 79.71s/it]"
     ]
    },
    {
     "name": "stdout",
     "output_type": "stream",
     "text": [
      "Scraping reviews for movie: https://letterboxd.com/film/cars/\n"
     ]
    },
    {
     "name": "stderr",
     "output_type": "stream",
     "text": [
      "Processing Movies:  61%|██████    | 305/500 [3:57:09<4:22:36, 80.80s/it]"
     ]
    },
    {
     "name": "stdout",
     "output_type": "stream",
     "text": [
      "Scraping reviews for movie: https://letterboxd.com/film/sound-of-metal/\n"
     ]
    },
    {
     "name": "stderr",
     "output_type": "stream",
     "text": [
      "Processing Movies:  61%|██████    | 306/500 [3:58:32<4:22:40, 81.24s/it]"
     ]
    },
    {
     "name": "stdout",
     "output_type": "stream",
     "text": [
      "Scraping reviews for movie: https://letterboxd.com/film/kingsman-the-secret-service/\n"
     ]
    },
    {
     "name": "stderr",
     "output_type": "stream",
     "text": [
      "Processing Movies:  61%|██████▏   | 307/500 [3:59:55<4:23:25, 81.90s/it]"
     ]
    },
    {
     "name": "stdout",
     "output_type": "stream",
     "text": [
      "Scraping reviews for movie: https://letterboxd.com/film/furiosa-a-mad-max-saga/\n"
     ]
    },
    {
     "name": "stderr",
     "output_type": "stream",
     "text": [
      "Processing Movies:  62%|██████▏   | 308/500 [4:01:23<4:27:28, 83.59s/it]"
     ]
    },
    {
     "name": "stdout",
     "output_type": "stream",
     "text": [
      "Scraping reviews for movie: https://letterboxd.com/film/the-killing-of-a-sacred-deer/\n"
     ]
    },
    {
     "name": "stderr",
     "output_type": "stream",
     "text": [
      "Processing Movies:  62%|██████▏   | 309/500 [4:02:50<4:29:24, 84.63s/it]"
     ]
    },
    {
     "name": "stdout",
     "output_type": "stream",
     "text": [
      "Scraping reviews for movie: https://letterboxd.com/film/the-hangover/\n"
     ]
    },
    {
     "name": "stderr",
     "output_type": "stream",
     "text": [
      "Processing Movies:  62%|██████▏   | 310/500 [4:04:21<4:34:22, 86.64s/it]"
     ]
    },
    {
     "name": "stdout",
     "output_type": "stream",
     "text": [
      "Checkpoint saved to movie_reviews_checkpoint.csv\n",
      "Scraping reviews for movie: https://letterboxd.com/film/licorice-pizza/\n"
     ]
    },
    {
     "name": "stderr",
     "output_type": "stream",
     "text": [
      "Processing Movies:  62%|██████▏   | 311/500 [4:05:59<4:43:52, 90.12s/it]"
     ]
    },
    {
     "name": "stdout",
     "output_type": "stream",
     "text": [
      "Scraping reviews for movie: https://letterboxd.com/film/the-hunger-games-mockingjay-part-1/\n"
     ]
    },
    {
     "name": "stderr",
     "output_type": "stream",
     "text": [
      "Processing Movies:  62%|██████▏   | 312/500 [4:07:28<4:40:47, 89.61s/it]"
     ]
    },
    {
     "name": "stdout",
     "output_type": "stream",
     "text": [
      "Scraping reviews for movie: https://letterboxd.com/film/vertigo/\n"
     ]
    },
    {
     "name": "stderr",
     "output_type": "stream",
     "text": [
      "Processing Movies:  63%|██████▎   | 313/500 [4:08:57<4:39:14, 89.60s/it]"
     ]
    },
    {
     "name": "stdout",
     "output_type": "stream",
     "text": [
      "Scraping reviews for movie: https://letterboxd.com/film/how-to-train-your-dragon/\n"
     ]
    },
    {
     "name": "stderr",
     "output_type": "stream",
     "text": [
      "Processing Movies:  63%|██████▎   | 314/500 [4:10:24<4:34:46, 88.64s/it]"
     ]
    },
    {
     "name": "stdout",
     "output_type": "stream",
     "text": [
      "Scraping reviews for movie: https://letterboxd.com/film/crazy-stupid-love/\n"
     ]
    },
    {
     "name": "stderr",
     "output_type": "stream",
     "text": [
      "Processing Movies:  63%|██████▎   | 315/500 [4:11:44<4:25:19, 86.05s/it]"
     ]
    },
    {
     "name": "stdout",
     "output_type": "stream",
     "text": [
      "Scraping reviews for movie: https://letterboxd.com/film/civil-war-2024/\n"
     ]
    },
    {
     "name": "stderr",
     "output_type": "stream",
     "text": [
      "Processing Movies:  63%|██████▎   | 316/500 [4:13:05<4:19:54, 84.75s/it]"
     ]
    },
    {
     "name": "stdout",
     "output_type": "stream",
     "text": [
      "Scraping reviews for movie: https://letterboxd.com/film/corpse-bride/\n"
     ]
    },
    {
     "name": "stderr",
     "output_type": "stream",
     "text": [
      "Processing Movies:  63%|██████▎   | 317/500 [4:14:31<4:19:03, 84.94s/it]"
     ]
    },
    {
     "name": "stdout",
     "output_type": "stream",
     "text": [
      "Scraping reviews for movie: https://letterboxd.com/film/tar-2022/\n"
     ]
    },
    {
     "name": "stderr",
     "output_type": "stream",
     "text": [
      "Processing Movies:  64%|██████▎   | 318/500 [4:16:01<4:22:46, 86.63s/it]"
     ]
    },
    {
     "name": "stdout",
     "output_type": "stream",
     "text": [
      "Scraping reviews for movie: https://letterboxd.com/film/the-sixth-sense/\n"
     ]
    },
    {
     "name": "stderr",
     "output_type": "stream",
     "text": [
      "Processing Movies:  64%|██████▍   | 319/500 [4:17:28<4:21:30, 86.69s/it]"
     ]
    },
    {
     "name": "stdout",
     "output_type": "stream",
     "text": [
      "Scraping reviews for movie: https://letterboxd.com/film/die-hard/\n"
     ]
    },
    {
     "name": "stderr",
     "output_type": "stream",
     "text": [
      "Processing Movies:  64%|██████▍   | 320/500 [4:18:55<4:19:57, 86.65s/it]"
     ]
    },
    {
     "name": "stdout",
     "output_type": "stream",
     "text": [
      "Checkpoint saved to movie_reviews_checkpoint.csv\n",
      "Scraping reviews for movie: https://letterboxd.com/film/halloween-1978/\n"
     ]
    },
    {
     "name": "stderr",
     "output_type": "stream",
     "text": [
      "Processing Movies:  64%|██████▍   | 321/500 [4:20:28<4:24:45, 88.74s/it]"
     ]
    },
    {
     "name": "stdout",
     "output_type": "stream",
     "text": [
      "Scraping reviews for movie: https://letterboxd.com/film/when-harry-met-sally/\n"
     ]
    },
    {
     "name": "stderr",
     "output_type": "stream",
     "text": [
      "Processing Movies:  64%|██████▍   | 322/500 [4:21:57<4:23:19, 88.76s/it]"
     ]
    },
    {
     "name": "stdout",
     "output_type": "stream",
     "text": [
      "Scraping reviews for movie: https://letterboxd.com/film/tick-tick-boom-2021/\n"
     ]
    },
    {
     "name": "stderr",
     "output_type": "stream",
     "text": [
      "Processing Movies:  65%|██████▍   | 323/500 [4:23:28<4:23:24, 89.29s/it]"
     ]
    },
    {
     "name": "stdout",
     "output_type": "stream",
     "text": [
      "Scraping reviews for movie: https://letterboxd.com/film/godzilla-minus-one/\n"
     ]
    },
    {
     "name": "stderr",
     "output_type": "stream",
     "text": [
      "Processing Movies:  65%|██████▍   | 324/500 [4:24:56<4:21:06, 89.01s/it]"
     ]
    },
    {
     "name": "stdout",
     "output_type": "stream",
     "text": [
      "Scraping reviews for movie: https://letterboxd.com/film/all-quiet-on-the-western-front-2022/\n"
     ]
    },
    {
     "name": "stderr",
     "output_type": "stream",
     "text": [
      "Processing Movies:  65%|██████▌   | 325/500 [4:26:36<4:29:20, 92.35s/it]"
     ]
    },
    {
     "name": "stdout",
     "output_type": "stream",
     "text": [
      "Scraping reviews for movie: https://letterboxd.com/film/eternals/\n"
     ]
    },
    {
     "name": "stderr",
     "output_type": "stream",
     "text": [
      "Processing Movies:  65%|██████▌   | 326/500 [4:28:08<4:27:04, 92.09s/it]"
     ]
    },
    {
     "name": "stdout",
     "output_type": "stream",
     "text": [
      "Scraping reviews for movie: https://letterboxd.com/film/john-wick-chapter-4/\n"
     ]
    },
    {
     "name": "stderr",
     "output_type": "stream",
     "text": [
      "Processing Movies:  65%|██████▌   | 327/500 [4:29:42<4:27:04, 92.63s/it]"
     ]
    },
    {
     "name": "stdout",
     "output_type": "stream",
     "text": [
      "Scraping reviews for movie: https://letterboxd.com/film/mother-2017/\n"
     ]
    },
    {
     "name": "stderr",
     "output_type": "stream",
     "text": [
      "Processing Movies:  66%|██████▌   | 328/500 [4:31:15<4:26:03, 92.81s/it]"
     ]
    },
    {
     "name": "stdout",
     "output_type": "stream",
     "text": [
      "Scraping reviews for movie: https://letterboxd.com/film/the-irishman-2019/\n"
     ]
    },
    {
     "name": "stderr",
     "output_type": "stream",
     "text": [
      "Processing Movies:  66%|██████▌   | 329/500 [4:32:47<4:23:38, 92.50s/it]"
     ]
    },
    {
     "name": "stdout",
     "output_type": "stream",
     "text": [
      "Scraping reviews for movie: https://letterboxd.com/film/pans-labyrinth/\n"
     ]
    },
    {
     "name": "stderr",
     "output_type": "stream",
     "text": [
      "Processing Movies:  66%|██████▌   | 330/500 [4:34:13<4:17:03, 90.72s/it]"
     ]
    },
    {
     "name": "stdout",
     "output_type": "stream",
     "text": [
      "Checkpoint saved to movie_reviews_checkpoint.csv\n",
      "Scraping reviews for movie: https://letterboxd.com/film/shaun-of-the-dead/\n"
     ]
    },
    {
     "name": "stderr",
     "output_type": "stream",
     "text": [
      "Processing Movies:  66%|██████▌   | 331/500 [4:35:43<4:15:06, 90.57s/it]"
     ]
    },
    {
     "name": "stdout",
     "output_type": "stream",
     "text": [
      "Scraping reviews for movie: https://letterboxd.com/film/oceans-eleven-2001/\n"
     ]
    },
    {
     "name": "stderr",
     "output_type": "stream",
     "text": [
      "Processing Movies:  66%|██████▋   | 332/500 [4:37:09<4:09:39, 89.16s/it]"
     ]
    },
    {
     "name": "stdout",
     "output_type": "stream",
     "text": [
      "Scraping reviews for movie: https://letterboxd.com/film/la-haine/\n"
     ]
    },
    {
     "name": "stderr",
     "output_type": "stream",
     "text": [
      "Processing Movies:  67%|██████▋   | 333/500 [4:38:38<4:07:39, 88.98s/it]"
     ]
    },
    {
     "name": "stdout",
     "output_type": "stream",
     "text": [
      "Scraping reviews for movie: https://letterboxd.com/film/beetlejuice/\n"
     ]
    },
    {
     "name": "stderr",
     "output_type": "stream",
     "text": [
      "Processing Movies:  67%|██████▋   | 334/500 [4:40:02<4:02:22, 87.60s/it]"
     ]
    },
    {
     "name": "stdout",
     "output_type": "stream",
     "text": [
      "Scraping reviews for movie: https://letterboxd.com/film/the-black-phone/\n"
     ]
    },
    {
     "name": "stderr",
     "output_type": "stream",
     "text": [
      "Processing Movies:  67%|██████▋   | 335/500 [4:41:27<3:58:49, 86.85s/it]"
     ]
    },
    {
     "name": "stdout",
     "output_type": "stream",
     "text": [
      "Scraping reviews for movie: https://letterboxd.com/film/all-of-us-strangers/\n"
     ]
    },
    {
     "name": "stderr",
     "output_type": "stream",
     "text": [
      "Processing Movies:  67%|██████▋   | 336/500 [4:42:55<3:57:53, 87.03s/it]"
     ]
    },
    {
     "name": "stdout",
     "output_type": "stream",
     "text": [
      "Scraping reviews for movie: https://letterboxd.com/film/the-killer-2023/\n"
     ]
    },
    {
     "name": "stderr",
     "output_type": "stream",
     "text": [
      "Processing Movies:  67%|██████▋   | 337/500 [4:44:22<3:56:49, 87.18s/it]"
     ]
    },
    {
     "name": "stdout",
     "output_type": "stream",
     "text": [
      "Scraping reviews for movie: https://letterboxd.com/film/promising-young-woman/\n"
     ]
    },
    {
     "name": "stderr",
     "output_type": "stream",
     "text": [
      "Processing Movies:  68%|██████▊   | 338/500 [4:45:57<4:01:38, 89.50s/it]"
     ]
    },
    {
     "name": "stdout",
     "output_type": "stream",
     "text": [
      "Scraping reviews for movie: https://letterboxd.com/film/et-the-extra-terrestrial/\n"
     ]
    },
    {
     "name": "stderr",
     "output_type": "stream",
     "text": [
      "Processing Movies:  68%|██████▊   | 339/500 [4:47:35<4:06:46, 91.97s/it]"
     ]
    },
    {
     "name": "stdout",
     "output_type": "stream",
     "text": [
      "Scraping reviews for movie: https://letterboxd.com/film/ponyo/\n"
     ]
    },
    {
     "name": "stderr",
     "output_type": "stream",
     "text": [
      "Processing Movies:  68%|██████▊   | 340/500 [4:49:12<4:09:33, 93.59s/it]"
     ]
    },
    {
     "name": "stdout",
     "output_type": "stream",
     "text": [
      "Checkpoint saved to movie_reviews_checkpoint.csv\n",
      "Scraping reviews for movie: https://letterboxd.com/film/one-flew-over-the-cuckoos-nest/\n"
     ]
    },
    {
     "name": "stderr",
     "output_type": "stream",
     "text": [
      "Processing Movies:  68%|██████▊   | 341/500 [4:50:50<4:11:22, 94.86s/it]"
     ]
    },
    {
     "name": "stdout",
     "output_type": "stream",
     "text": [
      "Scraping reviews for movie: https://letterboxd.com/film/cruella/\n"
     ]
    },
    {
     "name": "stderr",
     "output_type": "stream",
     "text": [
      "Processing Movies:  68%|██████▊   | 342/500 [4:52:23<4:07:52, 94.13s/it]"
     ]
    },
    {
     "name": "stdout",
     "output_type": "stream",
     "text": [
      "Scraping reviews for movie: https://letterboxd.com/film/kikis-delivery-service/\n"
     ]
    },
    {
     "name": "stderr",
     "output_type": "stream",
     "text": [
      "Processing Movies:  69%|██████▊   | 343/500 [4:53:49<4:00:20, 91.85s/it]"
     ]
    },
    {
     "name": "stdout",
     "output_type": "stream",
     "text": [
      "Scraping reviews for movie: https://letterboxd.com/film/13-going-on-30/\n"
     ]
    },
    {
     "name": "stderr",
     "output_type": "stream",
     "text": [
      "Processing Movies:  69%|██████▉   | 344/500 [4:55:21<3:59:06, 91.96s/it]"
     ]
    },
    {
     "name": "stdout",
     "output_type": "stream",
     "text": [
      "Scraping reviews for movie: https://letterboxd.com/film/may-december/\n"
     ]
    },
    {
     "name": "stderr",
     "output_type": "stream",
     "text": [
      "Processing Movies:  69%|██████▉   | 345/500 [4:57:04<4:06:05, 95.26s/it]"
     ]
    },
    {
     "name": "stdout",
     "output_type": "stream",
     "text": [
      "Scraping reviews for movie: https://letterboxd.com/film/stand-by-me/\n"
     ]
    },
    {
     "name": "stderr",
     "output_type": "stream",
     "text": [
      "Processing Movies:  69%|██████▉   | 346/500 [4:58:37<4:02:28, 94.47s/it]"
     ]
    },
    {
     "name": "stdout",
     "output_type": "stream",
     "text": [
      "Scraping reviews for movie: https://letterboxd.com/film/before-sunset/\n"
     ]
    },
    {
     "name": "stderr",
     "output_type": "stream",
     "text": [
      "Processing Movies:  69%|██████▉   | 347/500 [5:00:06<3:56:30, 92.75s/it]"
     ]
    },
    {
     "name": "stdout",
     "output_type": "stream",
     "text": [
      "Scraping reviews for movie: https://letterboxd.com/film/kung-fu-panda/\n"
     ]
    },
    {
     "name": "stderr",
     "output_type": "stream",
     "text": [
      "Processing Movies:  70%|██████▉   | 348/500 [5:01:34<3:51:15, 91.28s/it]"
     ]
    },
    {
     "name": "stdout",
     "output_type": "stream",
     "text": [
      "Scraping reviews for movie: https://letterboxd.com/film/the-hunger-games-mockingjay-part-2/\n"
     ]
    },
    {
     "name": "stderr",
     "output_type": "stream",
     "text": [
      "Processing Movies:  70%|██████▉   | 349/500 [5:03:04<3:48:49, 90.92s/it]"
     ]
    },
    {
     "name": "stdout",
     "output_type": "stream",
     "text": [
      "Scraping reviews for movie: https://letterboxd.com/film/the-exorcist/\n"
     ]
    },
    {
     "name": "stderr",
     "output_type": "stream",
     "text": [
      "Processing Movies:  70%|███████   | 350/500 [5:04:33<3:46:21, 90.54s/it]"
     ]
    },
    {
     "name": "stdout",
     "output_type": "stream",
     "text": [
      "Checkpoint saved to movie_reviews_checkpoint.csv\n",
      "Scraping reviews for movie: https://letterboxd.com/film/manchester-by-the-sea/\n"
     ]
    },
    {
     "name": "stderr",
     "output_type": "stream",
     "text": [
      "Processing Movies:  70%|███████   | 351/500 [5:06:24<3:59:37, 96.49s/it]"
     ]
    },
    {
     "name": "stdout",
     "output_type": "stream",
     "text": [
      "Scraping reviews for movie: https://letterboxd.com/film/train-to-busan/\n"
     ]
    },
    {
     "name": "stderr",
     "output_type": "stream",
     "text": [
      "Processing Movies:  70%|███████   | 352/500 [5:08:15<4:09:15, 101.05s/it]"
     ]
    },
    {
     "name": "stdout",
     "output_type": "stream",
     "text": [
      "Scraping reviews for movie: https://letterboxd.com/film/heat-1995/\n"
     ]
    },
    {
     "name": "stderr",
     "output_type": "stream",
     "text": [
      "Processing Movies:  71%|███████   | 353/500 [5:10:07<4:15:15, 104.19s/it]"
     ]
    },
    {
     "name": "stdout",
     "output_type": "stream",
     "text": [
      "Scraping reviews for movie: https://letterboxd.com/film/a-star-is-born-2018/\n"
     ]
    },
    {
     "name": "stderr",
     "output_type": "stream",
     "text": [
      "Processing Movies:  71%|███████   | 354/500 [5:12:01<4:20:53, 107.22s/it]"
     ]
    },
    {
     "name": "stdout",
     "output_type": "stream",
     "text": [
      "Scraping reviews for movie: https://letterboxd.com/film/annihilation/\n"
     ]
    },
    {
     "name": "stderr",
     "output_type": "stream",
     "text": [
      "Processing Movies:  71%|███████   | 355/500 [5:13:49<4:19:49, 107.51s/it]"
     ]
    },
    {
     "name": "stdout",
     "output_type": "stream",
     "text": [
      "Scraping reviews for movie: https://letterboxd.com/film/the-imitation-game/\n"
     ]
    },
    {
     "name": "stderr",
     "output_type": "stream",
     "text": [
      "Processing Movies:  71%|███████   | 356/500 [5:15:40<4:20:20, 108.48s/it]"
     ]
    },
    {
     "name": "stdout",
     "output_type": "stream",
     "text": [
      "Scraping reviews for movie: https://letterboxd.com/film/the-big-short/\n"
     ]
    },
    {
     "name": "stderr",
     "output_type": "stream",
     "text": [
      "Processing Movies:  71%|███████▏  | 357/500 [5:17:27<4:17:24, 108.00s/it]"
     ]
    },
    {
     "name": "stdout",
     "output_type": "stream",
     "text": [
      "Scraping reviews for movie: https://letterboxd.com/film/the-amazing-spider-man-2/\n"
     ]
    },
    {
     "name": "stderr",
     "output_type": "stream",
     "text": [
      "Processing Movies:  72%|███████▏  | 358/500 [5:19:13<4:14:27, 107.51s/it]"
     ]
    },
    {
     "name": "stdout",
     "output_type": "stream",
     "text": [
      "Scraping reviews for movie: https://letterboxd.com/film/easy-a/\n"
     ]
    },
    {
     "name": "stderr",
     "output_type": "stream",
     "text": [
      "Processing Movies:  72%|███████▏  | 359/500 [5:20:58<4:10:25, 106.56s/it]"
     ]
    },
    {
     "name": "stdout",
     "output_type": "stream",
     "text": [
      "Scraping reviews for movie: https://letterboxd.com/film/smile-2022/\n"
     ]
    },
    {
     "name": "stderr",
     "output_type": "stream",
     "text": [
      "Processing Movies:  72%|███████▏  | 360/500 [5:23:38<4:46:31, 122.79s/it]"
     ]
    },
    {
     "name": "stdout",
     "output_type": "stream",
     "text": [
      "Checkpoint saved to movie_reviews_checkpoint.csv\n",
      "Scraping reviews for movie: https://letterboxd.com/film/venom-2018/\n"
     ]
    },
    {
     "name": "stderr",
     "output_type": "stream",
     "text": [
      "Processing Movies:  72%|███████▏  | 361/500 [5:25:29<4:36:16, 119.26s/it]"
     ]
    },
    {
     "name": "stdout",
     "output_type": "stream",
     "text": [
      "Scraping reviews for movie: https://letterboxd.com/film/full-metal-jacket/\n"
     ]
    },
    {
     "name": "stderr",
     "output_type": "stream",
     "text": [
      "Processing Movies:  72%|███████▏  | 362/500 [5:27:18<4:27:05, 116.13s/it]"
     ]
    },
    {
     "name": "stdout",
     "output_type": "stream",
     "text": [
      "Scraping reviews for movie: https://letterboxd.com/film/chungking-express/\n"
     ]
    },
    {
     "name": "stderr",
     "output_type": "stream",
     "text": [
      "Processing Movies:  73%|███████▎  | 363/500 [5:29:05<4:18:58, 113.42s/it]"
     ]
    },
    {
     "name": "stdout",
     "output_type": "stream",
     "text": [
      "Scraping reviews for movie: https://letterboxd.com/film/fallen-angels/\n"
     ]
    },
    {
     "name": "stderr",
     "output_type": "stream",
     "text": [
      "Processing Movies:  73%|███████▎  | 364/500 [5:30:54<4:13:42, 111.93s/it]"
     ]
    },
    {
     "name": "stdout",
     "output_type": "stream",
     "text": [
      "Scraping reviews for movie: https://letterboxd.com/film/free-guy/\n"
     ]
    },
    {
     "name": "stderr",
     "output_type": "stream",
     "text": [
      "Processing Movies:  73%|███████▎  | 365/500 [5:32:33<4:03:01, 108.01s/it]"
     ]
    },
    {
     "name": "stdout",
     "output_type": "stream",
     "text": [
      "Scraping reviews for movie: https://letterboxd.com/film/casablanca/\n"
     ]
    },
    {
     "name": "stderr",
     "output_type": "stream",
     "text": [
      "Processing Movies:  73%|███████▎  | 366/500 [5:33:59<3:46:58, 101.63s/it]"
     ]
    },
    {
     "name": "stdout",
     "output_type": "stream",
     "text": [
      "Scraping reviews for movie: https://letterboxd.com/film/wonder-woman-2017/\n"
     ]
    },
    {
     "name": "stderr",
     "output_type": "stream",
     "text": [
      "Processing Movies:  73%|███████▎  | 367/500 [5:35:27<3:35:43, 97.32s/it] "
     ]
    },
    {
     "name": "stdout",
     "output_type": "stream",
     "text": [
      "Scraping reviews for movie: https://letterboxd.com/film/the-green-mile/\n"
     ]
    },
    {
     "name": "stderr",
     "output_type": "stream",
     "text": [
      "Processing Movies:  74%|███████▎  | 368/500 [5:36:58<3:29:54, 95.41s/it]"
     ]
    },
    {
     "name": "stdout",
     "output_type": "stream",
     "text": [
      "Scraping reviews for movie: https://letterboxd.com/film/toy-story-4/\n"
     ]
    },
    {
     "name": "stderr",
     "output_type": "stream",
     "text": [
      "Processing Movies:  74%|███████▍  | 369/500 [5:38:23<3:21:43, 92.39s/it]"
     ]
    },
    {
     "name": "stdout",
     "output_type": "stream",
     "text": [
      "Scraping reviews for movie: https://letterboxd.com/film/memories-of-murder/\n"
     ]
    },
    {
     "name": "stderr",
     "output_type": "stream",
     "text": [
      "Processing Movies:  74%|███████▍  | 370/500 [5:39:51<3:17:22, 91.10s/it]"
     ]
    },
    {
     "name": "stdout",
     "output_type": "stream",
     "text": [
      "Checkpoint saved to movie_reviews_checkpoint.csv\n",
      "Scraping reviews for movie: https://letterboxd.com/film/grave-of-the-fireflies/\n"
     ]
    },
    {
     "name": "stderr",
     "output_type": "stream",
     "text": [
      "Processing Movies:  74%|███████▍  | 371/500 [5:41:16<3:12:09, 89.38s/it]"
     ]
    },
    {
     "name": "stdout",
     "output_type": "stream",
     "text": [
      "Scraping reviews for movie: https://letterboxd.com/film/school-of-rock/\n"
     ]
    },
    {
     "name": "stderr",
     "output_type": "stream",
     "text": [
      "Processing Movies:  74%|███████▍  | 372/500 [5:42:42<3:08:07, 88.19s/it]"
     ]
    },
    {
     "name": "stdout",
     "output_type": "stream",
     "text": [
      "Scraping reviews for movie: https://letterboxd.com/film/the-lego-movie/\n"
     ]
    },
    {
     "name": "stderr",
     "output_type": "stream",
     "text": [
      "Processing Movies:  75%|███████▍  | 373/500 [5:44:06<3:04:28, 87.15s/it]"
     ]
    },
    {
     "name": "stdout",
     "output_type": "stream",
     "text": [
      "Scraping reviews for movie: https://letterboxd.com/film/the-fabelmans/\n"
     ]
    },
    {
     "name": "stderr",
     "output_type": "stream",
     "text": [
      "Processing Movies:  75%|███████▍  | 374/500 [5:45:31<3:01:33, 86.46s/it]"
     ]
    },
    {
     "name": "stdout",
     "output_type": "stream",
     "text": [
      "Scraping reviews for movie: https://letterboxd.com/film/the-fall-guy-2024/\n"
     ]
    },
    {
     "name": "stderr",
     "output_type": "stream",
     "text": [
      "Processing Movies:  75%|███████▌  | 375/500 [5:46:56<2:59:12, 86.02s/it]"
     ]
    },
    {
     "name": "stdout",
     "output_type": "stream",
     "text": [
      "Scraping reviews for movie: https://letterboxd.com/film/ant-man-and-the-wasp/\n"
     ]
    },
    {
     "name": "stderr",
     "output_type": "stream",
     "text": [
      "Processing Movies:  75%|███████▌  | 376/500 [5:48:23<2:58:16, 86.26s/it]"
     ]
    },
    {
     "name": "stdout",
     "output_type": "stream",
     "text": [
      "Scraping reviews for movie: https://letterboxd.com/film/top-gun/\n"
     ]
    },
    {
     "name": "stderr",
     "output_type": "stream",
     "text": [
      "Processing Movies:  75%|███████▌  | 377/500 [5:49:49<2:56:19, 86.01s/it]"
     ]
    },
    {
     "name": "stdout",
     "output_type": "stream",
     "text": [
      "Scraping reviews for movie: https://letterboxd.com/film/palm-springs-2020/\n"
     ]
    },
    {
     "name": "stderr",
     "output_type": "stream",
     "text": [
      "Processing Movies:  76%|███████▌  | 378/500 [5:51:13<2:53:54, 85.53s/it]"
     ]
    },
    {
     "name": "stdout",
     "output_type": "stream",
     "text": [
      "Scraping reviews for movie: https://letterboxd.com/film/frances-ha/\n"
     ]
    },
    {
     "name": "stderr",
     "output_type": "stream",
     "text": [
      "Processing Movies:  76%|███████▌  | 379/500 [5:52:39<2:52:43, 85.65s/it]"
     ]
    },
    {
     "name": "stdout",
     "output_type": "stream",
     "text": [
      "Scraping reviews for movie: https://letterboxd.com/film/ready-player-one/\n"
     ]
    },
    {
     "name": "stderr",
     "output_type": "stream",
     "text": [
      "Processing Movies:  76%|███████▌  | 380/500 [5:54:05<2:51:45, 85.88s/it]"
     ]
    },
    {
     "name": "stdout",
     "output_type": "stream",
     "text": [
      "Checkpoint saved to movie_reviews_checkpoint.csv\n",
      "Scraping reviews for movie: https://letterboxd.com/film/notting-hill/\n"
     ]
    },
    {
     "name": "stderr",
     "output_type": "stream",
     "text": [
      "Processing Movies:  76%|███████▌  | 381/500 [5:55:37<2:54:02, 87.75s/it]"
     ]
    },
    {
     "name": "stdout",
     "output_type": "stream",
     "text": [
      "Scraping reviews for movie: https://letterboxd.com/film/john-wick-chapter-2/\n"
     ]
    },
    {
     "name": "stderr",
     "output_type": "stream",
     "text": [
      "Processing Movies:  76%|███████▋  | 382/500 [5:57:10<2:55:18, 89.14s/it]"
     ]
    },
    {
     "name": "stdout",
     "output_type": "stream",
     "text": [
      "Scraping reviews for movie: https://letterboxd.com/film/silver-linings-playbook/\n"
     ]
    },
    {
     "name": "stderr",
     "output_type": "stream",
     "text": [
      "Processing Movies:  77%|███████▋  | 383/500 [5:58:43<2:56:25, 90.48s/it]"
     ]
    },
    {
     "name": "stdout",
     "output_type": "stream",
     "text": [
      "Scraping reviews for movie: https://letterboxd.com/film/good-time/\n"
     ]
    },
    {
     "name": "stderr",
     "output_type": "stream",
     "text": [
      "Processing Movies:  77%|███████▋  | 384/500 [6:00:16<2:56:25, 91.26s/it]"
     ]
    },
    {
     "name": "stdout",
     "output_type": "stream",
     "text": [
      "Scraping reviews for movie: https://letterboxd.com/film/it-chapter-two/\n"
     ]
    },
    {
     "name": "stderr",
     "output_type": "stream",
     "text": [
      "Processing Movies:  77%|███████▋  | 385/500 [6:01:46<2:53:53, 90.72s/it]"
     ]
    },
    {
     "name": "stdout",
     "output_type": "stream",
     "text": [
      "Scraping reviews for movie: https://letterboxd.com/film/three-billboards-outside-ebbing-missouri/\n"
     ]
    },
    {
     "name": "stderr",
     "output_type": "stream",
     "text": [
      "Processing Movies:  77%|███████▋  | 386/500 [6:03:17<2:52:33, 90.82s/it]"
     ]
    },
    {
     "name": "stdout",
     "output_type": "stream",
     "text": [
      "Scraping reviews for movie: https://letterboxd.com/film/elemental-2023/\n"
     ]
    },
    {
     "name": "stderr",
     "output_type": "stream",
     "text": [
      "Processing Movies:  77%|███████▋  | 387/500 [6:04:47<2:50:26, 90.50s/it]"
     ]
    },
    {
     "name": "stdout",
     "output_type": "stream",
     "text": [
      "Scraping reviews for movie: https://letterboxd.com/film/how-to-lose-a-guy-in-10-days/\n"
     ]
    },
    {
     "name": "stderr",
     "output_type": "stream",
     "text": [
      "Processing Movies:  78%|███████▊  | 388/500 [6:06:18<2:49:07, 90.60s/it]"
     ]
    },
    {
     "name": "stdout",
     "output_type": "stream",
     "text": [
      "Scraping reviews for movie: https://letterboxd.com/film/birds-of-prey-and-the-fantabulous-emancipation-of-one-harley-quinn/\n"
     ]
    },
    {
     "name": "stderr",
     "output_type": "stream",
     "text": [
      "Processing Movies:  78%|███████▊  | 389/500 [6:07:48<2:47:40, 90.64s/it]"
     ]
    },
    {
     "name": "stdout",
     "output_type": "stream",
     "text": [
      "Scraping reviews for movie: https://letterboxd.com/film/thor-the-dark-world/\n"
     ]
    },
    {
     "name": "stderr",
     "output_type": "stream",
     "text": [
      "Processing Movies:  78%|███████▊  | 390/500 [6:09:17<2:44:55, 89.96s/it]"
     ]
    },
    {
     "name": "stdout",
     "output_type": "stream",
     "text": [
      "Checkpoint saved to movie_reviews_checkpoint.csv\n",
      "Scraping reviews for movie: https://letterboxd.com/film/citizen-kane/\n"
     ]
    },
    {
     "name": "stderr",
     "output_type": "stream",
     "text": [
      "Processing Movies:  78%|███████▊  | 391/500 [6:10:59<2:50:17, 93.74s/it]"
     ]
    },
    {
     "name": "stdout",
     "output_type": "stream",
     "text": [
      "Scraping reviews for movie: https://letterboxd.com/film/rear-window/\n"
     ]
    },
    {
     "name": "stderr",
     "output_type": "stream",
     "text": [
      "Processing Movies:  78%|███████▊  | 392/500 [6:12:29<2:46:23, 92.44s/it]"
     ]
    },
    {
     "name": "stdout",
     "output_type": "stream",
     "text": [
      "Scraping reviews for movie: https://letterboxd.com/film/zombieland/\n"
     ]
    },
    {
     "name": "stderr",
     "output_type": "stream",
     "text": [
      "Processing Movies:  79%|███████▊  | 393/500 [6:14:00<2:44:17, 92.12s/it]"
     ]
    },
    {
     "name": "stdout",
     "output_type": "stream",
     "text": [
      "Scraping reviews for movie: https://letterboxd.com/film/midnight-in-paris/\n"
     ]
    },
    {
     "name": "stderr",
     "output_type": "stream",
     "text": [
      "Processing Movies:  79%|███████▉  | 394/500 [6:15:31<2:42:15, 91.85s/it]"
     ]
    },
    {
     "name": "stdout",
     "output_type": "stream",
     "text": [
      "Scraping reviews for movie: https://letterboxd.com/film/the-princess-bride/\n"
     ]
    },
    {
     "name": "stderr",
     "output_type": "stream",
     "text": [
      "Processing Movies:  79%|███████▉  | 395/500 [6:17:01<2:39:41, 91.26s/it]"
     ]
    },
    {
     "name": "stdout",
     "output_type": "stream",
     "text": [
      "Scraping reviews for movie: https://letterboxd.com/film/a-quiet-place-part-ii/\n"
     ]
    },
    {
     "name": "stderr",
     "output_type": "stream",
     "text": [
      "Processing Movies:  79%|███████▉  | 396/500 [6:18:36<2:39:53, 92.25s/it]"
     ]
    },
    {
     "name": "stdout",
     "output_type": "stream",
     "text": [
      "Scraping reviews for movie: https://letterboxd.com/film/akira/\n"
     ]
    },
    {
     "name": "stderr",
     "output_type": "stream",
     "text": [
      "Processing Movies:  79%|███████▉  | 397/500 [6:20:08<2:38:10, 92.14s/it]"
     ]
    },
    {
     "name": "stdout",
     "output_type": "stream",
     "text": [
      "Scraping reviews for movie: https://letterboxd.com/film/mid90s/\n"
     ]
    },
    {
     "name": "stderr",
     "output_type": "stream",
     "text": [
      "Processing Movies:  80%|███████▉  | 398/500 [6:21:41<2:37:10, 92.45s/it]"
     ]
    },
    {
     "name": "stdout",
     "output_type": "stream",
     "text": [
      "Scraping reviews for movie: https://letterboxd.com/film/ready-or-not-2019/\n"
     ]
    },
    {
     "name": "stderr",
     "output_type": "stream",
     "text": [
      "Processing Movies:  80%|███████▉  | 399/500 [6:23:13<2:35:46, 92.54s/it]"
     ]
    },
    {
     "name": "stdout",
     "output_type": "stream",
     "text": [
      "Scraping reviews for movie: https://letterboxd.com/film/green-book/\n"
     ]
    },
    {
     "name": "stderr",
     "output_type": "stream",
     "text": [
      "Processing Movies:  80%|████████  | 400/500 [6:24:55<2:38:33, 95.14s/it]"
     ]
    },
    {
     "name": "stdout",
     "output_type": "stream",
     "text": [
      "Checkpoint saved to movie_reviews_checkpoint.csv\n",
      "Scraping reviews for movie: https://letterboxd.com/film/ford-v-ferrari/\n"
     ]
    },
    {
     "name": "stderr",
     "output_type": "stream",
     "text": [
      "Processing Movies:  80%|████████  | 401/500 [6:26:42<2:42:50, 98.69s/it]"
     ]
    },
    {
     "name": "stdout",
     "output_type": "stream",
     "text": [
      "Scraping reviews for movie: https://letterboxd.com/film/carrie-1976/\n"
     ]
    },
    {
     "name": "stderr",
     "output_type": "stream",
     "text": [
      "Processing Movies:  80%|████████  | 402/500 [6:28:27<2:44:39, 100.81s/it]"
     ]
    },
    {
     "name": "stdout",
     "output_type": "stream",
     "text": [
      "Scraping reviews for movie: https://letterboxd.com/film/saw/\n"
     ]
    },
    {
     "name": "stderr",
     "output_type": "stream",
     "text": [
      "Processing Movies:  81%|████████  | 403/500 [6:30:17<2:47:10, 103.40s/it]"
     ]
    },
    {
     "name": "stdout",
     "output_type": "stream",
     "text": [
      "Scraping reviews for movie: https://letterboxd.com/film/pretty-woman/\n"
     ]
    },
    {
     "name": "stderr",
     "output_type": "stream",
     "text": [
      "Processing Movies:  81%|████████  | 404/500 [6:32:08<2:49:07, 105.70s/it]"
     ]
    },
    {
     "name": "stdout",
     "output_type": "stream",
     "text": [
      "Scraping reviews for movie: https://letterboxd.com/film/ant-man-and-the-wasp-quantumania/\n"
     ]
    },
    {
     "name": "stderr",
     "output_type": "stream",
     "text": [
      "Processing Movies:  81%|████████  | 405/500 [6:34:03<2:51:57, 108.61s/it]"
     ]
    },
    {
     "name": "stdout",
     "output_type": "stream",
     "text": [
      "Scraping reviews for movie: https://letterboxd.com/film/scream-2022/\n"
     ]
    },
    {
     "name": "stderr",
     "output_type": "stream",
     "text": [
      "Processing Movies:  81%|████████  | 406/500 [6:35:55<2:51:21, 109.37s/it]"
     ]
    },
    {
     "name": "stdout",
     "output_type": "stream",
     "text": [
      "Scraping reviews for movie: https://letterboxd.com/film/21-jump-street/\n"
     ]
    },
    {
     "name": "stderr",
     "output_type": "stream",
     "text": [
      "Processing Movies:  81%|████████▏ | 407/500 [6:37:47<2:50:53, 110.25s/it]"
     ]
    },
    {
     "name": "stdout",
     "output_type": "stream",
     "text": [
      "Scraping reviews for movie: https://letterboxd.com/film/guillermo-del-toros-pinocchio/\n"
     ]
    },
    {
     "name": "stderr",
     "output_type": "stream",
     "text": [
      "Processing Movies:  82%|████████▏ | 408/500 [6:39:42<2:51:08, 111.61s/it]"
     ]
    },
    {
     "name": "stdout",
     "output_type": "stream",
     "text": [
      "Scraping reviews for movie: https://letterboxd.com/film/pitch-perfect/\n"
     ]
    },
    {
     "name": "stderr",
     "output_type": "stream",
     "text": [
      "Processing Movies:  82%|████████▏ | 409/500 [6:41:26<2:46:05, 109.51s/it]"
     ]
    },
    {
     "name": "stdout",
     "output_type": "stream",
     "text": [
      "Scraping reviews for movie: https://letterboxd.com/film/mulan/\n"
     ]
    },
    {
     "name": "stderr",
     "output_type": "stream",
     "text": [
      "Processing Movies:  82%|████████▏ | 410/500 [6:43:20<2:46:03, 110.71s/it]"
     ]
    },
    {
     "name": "stdout",
     "output_type": "stream",
     "text": [
      "Checkpoint saved to movie_reviews_checkpoint.csv\n",
      "Scraping reviews for movie: https://letterboxd.com/film/beau-is-afraid/\n"
     ]
    },
    {
     "name": "stderr",
     "output_type": "stream",
     "text": [
      "Processing Movies:  82%|████████▏ | 411/500 [6:45:12<2:45:05, 111.30s/it]"
     ]
    },
    {
     "name": "stdout",
     "output_type": "stream",
     "text": [
      "Scraping reviews for movie: https://letterboxd.com/film/love-lies-bleeding-2024/\n"
     ]
    },
    {
     "name": "stderr",
     "output_type": "stream",
     "text": [
      "Processing Movies:  82%|████████▏ | 412/500 [6:47:08<2:45:15, 112.68s/it]"
     ]
    },
    {
     "name": "stdout",
     "output_type": "stream",
     "text": [
      "Scraping reviews for movie: https://letterboxd.com/film/the-texas-chain-saw-massacre/\n"
     ]
    },
    {
     "name": "stderr",
     "output_type": "stream",
     "text": [
      "Processing Movies:  83%|████████▎ | 413/500 [6:48:57<2:41:52, 111.64s/it]"
     ]
    },
    {
     "name": "stdout",
     "output_type": "stream",
     "text": [
      "Scraping reviews for movie: https://letterboxd.com/film/leave-the-world-behind-2023/\n"
     ]
    },
    {
     "name": "stderr",
     "output_type": "stream",
     "text": [
      "Processing Movies:  83%|████████▎ | 414/500 [6:50:46<2:38:32, 110.61s/it]"
     ]
    },
    {
     "name": "stdout",
     "output_type": "stream",
     "text": [
      "Scraping reviews for movie: https://letterboxd.com/film/scream-vi/\n"
     ]
    },
    {
     "name": "stderr",
     "output_type": "stream",
     "text": [
      "Processing Movies:  83%|████████▎ | 415/500 [6:52:31<2:34:24, 109.00s/it]"
     ]
    },
    {
     "name": "stdout",
     "output_type": "stream",
     "text": [
      "Scraping reviews for movie: https://letterboxd.com/film/love-actually/\n"
     ]
    },
    {
     "name": "stderr",
     "output_type": "stream",
     "text": [
      "Processing Movies:  83%|████████▎ | 416/500 [6:54:16<2:30:45, 107.68s/it]"
     ]
    },
    {
     "name": "stdout",
     "output_type": "stream",
     "text": [
      "Scraping reviews for movie: https://letterboxd.com/film/the-queens-gambit/\n"
     ]
    },
    {
     "name": "stderr",
     "output_type": "stream",
     "text": [
      "Processing Movies:  83%|████████▎ | 417/500 [6:56:08<2:30:49, 109.03s/it]"
     ]
    },
    {
     "name": "stdout",
     "output_type": "stream",
     "text": [
      "Scraping reviews for movie: https://letterboxd.com/film/hot-fuzz/\n"
     ]
    },
    {
     "name": "stderr",
     "output_type": "stream",
     "text": [
      "Processing Movies:  84%|████████▎ | 418/500 [6:57:56<2:28:49, 108.90s/it]"
     ]
    },
    {
     "name": "stdout",
     "output_type": "stream",
     "text": [
      "Scraping reviews for movie: https://letterboxd.com/film/john-wick-chapter-3-parabellum/\n"
     ]
    },
    {
     "name": "stderr",
     "output_type": "stream",
     "text": [
      "Processing Movies:  84%|████████▍ | 419/500 [6:59:44<2:26:41, 108.66s/it]"
     ]
    },
    {
     "name": "stdout",
     "output_type": "stream",
     "text": [
      "Scraping reviews for movie: https://letterboxd.com/film/twisters/\n"
     ]
    },
    {
     "name": "stderr",
     "output_type": "stream",
     "text": [
      "Processing Movies:  84%|████████▍ | 420/500 [7:01:31<2:24:12, 108.16s/it]"
     ]
    },
    {
     "name": "stdout",
     "output_type": "stream",
     "text": [
      "Checkpoint saved to movie_reviews_checkpoint.csv\n",
      "Scraping reviews for movie: https://letterboxd.com/film/shiva-baby-2020/\n"
     ]
    },
    {
     "name": "stderr",
     "output_type": "stream",
     "text": [
      "Processing Movies:  84%|████████▍ | 421/500 [7:03:24<2:23:59, 109.36s/it]"
     ]
    },
    {
     "name": "stdout",
     "output_type": "stream",
     "text": [
      "Scraping reviews for movie: https://letterboxd.com/film/aliens/\n"
     ]
    },
    {
     "name": "stderr",
     "output_type": "stream",
     "text": [
      "Processing Movies:  84%|████████▍ | 422/500 [7:05:13<2:22:01, 109.25s/it]"
     ]
    },
    {
     "name": "stdout",
     "output_type": "stream",
     "text": [
      "Scraping reviews for movie: https://letterboxd.com/film/minari/\n"
     ]
    },
    {
     "name": "stderr",
     "output_type": "stream",
     "text": [
      "Processing Movies:  85%|████████▍ | 423/500 [7:07:02<2:20:28, 109.46s/it]"
     ]
    },
    {
     "name": "stdout",
     "output_type": "stream",
     "text": [
      "Scraping reviews for movie: https://letterboxd.com/film/children-of-men/\n"
     ]
    },
    {
     "name": "stderr",
     "output_type": "stream",
     "text": [
      "Processing Movies:  85%|████████▍ | 424/500 [7:08:52<2:18:30, 109.34s/it]"
     ]
    },
    {
     "name": "stdout",
     "output_type": "stream",
     "text": [
      "Scraping reviews for movie: https://letterboxd.com/film/v-for-vendetta/\n"
     ]
    },
    {
     "name": "stderr",
     "output_type": "stream",
     "text": [
      "Processing Movies:  85%|████████▌ | 425/500 [7:10:40<2:16:12, 108.97s/it]"
     ]
    },
    {
     "name": "stdout",
     "output_type": "stream",
     "text": [
      "Scraping reviews for movie: https://letterboxd.com/film/blue-velvet/\n"
     ]
    },
    {
     "name": "stderr",
     "output_type": "stream",
     "text": [
      "Processing Movies:  85%|████████▌ | 426/500 [7:12:30<2:15:03, 109.50s/it]"
     ]
    },
    {
     "name": "stdout",
     "output_type": "stream",
     "text": [
      "Scraping reviews for movie: https://letterboxd.com/film/snowpiercer/\n"
     ]
    },
    {
     "name": "stderr",
     "output_type": "stream",
     "text": [
      "Processing Movies:  85%|████████▌ | 427/500 [7:14:49<2:23:41, 118.10s/it]"
     ]
    },
    {
     "name": "stdout",
     "output_type": "stream",
     "text": [
      "Scraping reviews for movie: https://letterboxd.com/film/room-2015/\n"
     ]
    },
    {
     "name": "stderr",
     "output_type": "stream",
     "text": [
      "Processing Movies:  86%|████████▌ | 428/500 [7:16:42<2:19:54, 116.58s/it]"
     ]
    },
    {
     "name": "stdout",
     "output_type": "stream",
     "text": [
      "Scraping reviews for movie: https://letterboxd.com/film/the-rocky-horror-picture-show/\n"
     ]
    },
    {
     "name": "stderr",
     "output_type": "stream",
     "text": [
      "Processing Movies:  86%|████████▌ | 429/500 [7:18:41<2:18:46, 117.28s/it]"
     ]
    },
    {
     "name": "stdout",
     "output_type": "stream",
     "text": [
      "Scraping reviews for movie: https://letterboxd.com/film/m3gan/\n"
     ]
    },
    {
     "name": "stderr",
     "output_type": "stream",
     "text": [
      "Processing Movies:  86%|████████▌ | 430/500 [7:20:42<2:18:23, 118.62s/it]"
     ]
    },
    {
     "name": "stdout",
     "output_type": "stream",
     "text": [
      "Checkpoint saved to movie_reviews_checkpoint.csv\n",
      "Scraping reviews for movie: https://letterboxd.com/film/maxxxine/\n"
     ]
    },
    {
     "name": "stderr",
     "output_type": "stream",
     "text": [
      "Processing Movies:  86%|████████▌ | 431/500 [7:22:40<2:15:57, 118.22s/it]"
     ]
    },
    {
     "name": "stdout",
     "output_type": "stream",
     "text": [
      "Scraping reviews for movie: https://letterboxd.com/film/the-curious-case-of-benjamin-button/\n"
     ]
    },
    {
     "name": "stderr",
     "output_type": "stream",
     "text": [
      "Processing Movies:  86%|████████▋ | 432/500 [7:24:39<2:14:22, 118.57s/it]"
     ]
    },
    {
     "name": "stdout",
     "output_type": "stream",
     "text": [
      "Scraping reviews for movie: https://letterboxd.com/film/the-edge-of-seventeen/\n"
     ]
    },
    {
     "name": "stderr",
     "output_type": "stream",
     "text": [
      "Processing Movies:  87%|████████▋ | 433/500 [7:26:36<2:11:52, 118.09s/it]"
     ]
    },
    {
     "name": "stdout",
     "output_type": "stream",
     "text": [
      "Scraping reviews for movie: https://letterboxd.com/film/it-follows/\n"
     ]
    },
    {
     "name": "stderr",
     "output_type": "stream",
     "text": [
      "Processing Movies:  87%|████████▋ | 434/500 [7:28:32<2:09:11, 117.45s/it]"
     ]
    },
    {
     "name": "stdout",
     "output_type": "stream",
     "text": [
      "Scraping reviews for movie: https://letterboxd.com/film/come-and-see/\n"
     ]
    },
    {
     "name": "stderr",
     "output_type": "stream",
     "text": [
      "Processing Movies:  87%|████████▋ | 435/500 [7:30:30<2:07:23, 117.59s/it]"
     ]
    },
    {
     "name": "stdout",
     "output_type": "stream",
     "text": [
      "Scraping reviews for movie: https://letterboxd.com/film/sicario-2015/\n"
     ]
    },
    {
     "name": "stderr",
     "output_type": "stream",
     "text": [
      "Processing Movies:  87%|████████▋ | 436/500 [7:32:24<2:04:28, 116.69s/it]"
     ]
    },
    {
     "name": "stdout",
     "output_type": "stream",
     "text": [
      "Scraping reviews for movie: https://letterboxd.com/film/the-green-knight/\n"
     ]
    },
    {
     "name": "stderr",
     "output_type": "stream",
     "text": [
      "Processing Movies:  87%|████████▋ | 437/500 [7:34:18<2:01:34, 115.79s/it]"
     ]
    },
    {
     "name": "stdout",
     "output_type": "stream",
     "text": [
      "Scraping reviews for movie: https://letterboxd.com/film/marie-antoinette-2006/\n"
     ]
    },
    {
     "name": "stderr",
     "output_type": "stream",
     "text": [
      "Processing Movies:  88%|████████▊ | 438/500 [7:36:29<2:04:27, 120.44s/it]"
     ]
    },
    {
     "name": "stdout",
     "output_type": "stream",
     "text": [
      "Scraping reviews for movie: https://letterboxd.com/film/perfect-days-2023/\n"
     ]
    },
    {
     "name": "stderr",
     "output_type": "stream",
     "text": [
      "Processing Movies:  88%|████████▊ | 439/500 [7:38:27<2:01:38, 119.65s/it]"
     ]
    },
    {
     "name": "stdout",
     "output_type": "stream",
     "text": [
      "Scraping reviews for movie: https://letterboxd.com/film/bird-box/\n"
     ]
    },
    {
     "name": "stderr",
     "output_type": "stream",
     "text": [
      "Processing Movies:  88%|████████▊ | 440/500 [7:40:18<1:57:06, 117.11s/it]"
     ]
    },
    {
     "name": "stdout",
     "output_type": "stream",
     "text": [
      "Checkpoint saved to movie_reviews_checkpoint.csv\n",
      "Scraping reviews for movie: https://letterboxd.com/film/monkey-man/\n"
     ]
    },
    {
     "name": "stderr",
     "output_type": "stream",
     "text": [
      "Processing Movies:  88%|████████▊ | 441/500 [7:42:07<1:52:35, 114.50s/it]"
     ]
    },
    {
     "name": "stdout",
     "output_type": "stream",
     "text": [
      "Scraping reviews for movie: https://letterboxd.com/film/the-greatest-showman/\n"
     ]
    },
    {
     "name": "stderr",
     "output_type": "stream",
     "text": [
      "Processing Movies:  88%|████████▊ | 442/500 [7:44:03<1:51:02, 114.87s/it]"
     ]
    },
    {
     "name": "stdout",
     "output_type": "stream",
     "text": [
      "Scraping reviews for movie: https://letterboxd.com/film/carol-2015/\n"
     ]
    },
    {
     "name": "stderr",
     "output_type": "stream",
     "text": [
      "Processing Movies:  89%|████████▊ | 443/500 [7:45:59<1:49:33, 115.33s/it]"
     ]
    },
    {
     "name": "stdout",
     "output_type": "stream",
     "text": [
      "Scraping reviews for movie: https://letterboxd.com/film/paris-texas/\n"
     ]
    },
    {
     "name": "stderr",
     "output_type": "stream",
     "text": [
      "Processing Movies:  89%|████████▉ | 444/500 [7:47:51<1:46:49, 114.45s/it]"
     ]
    },
    {
     "name": "stdout",
     "output_type": "stream",
     "text": [
      "Scraping reviews for movie: https://letterboxd.com/film/phantom-thread/\n"
     ]
    },
    {
     "name": "stderr",
     "output_type": "stream",
     "text": [
      "Processing Movies:  89%|████████▉ | 445/500 [7:50:06<1:50:23, 120.42s/it]"
     ]
    },
    {
     "name": "stdout",
     "output_type": "stream",
     "text": [
      "Scraping reviews for movie: https://letterboxd.com/film/boyhood/\n"
     ]
    },
    {
     "name": "stderr",
     "output_type": "stream",
     "text": [
      "Processing Movies:  89%|████████▉ | 446/500 [7:52:06<1:48:14, 120.27s/it]"
     ]
    },
    {
     "name": "stdout",
     "output_type": "stream",
     "text": [
      "Scraping reviews for movie: https://letterboxd.com/film/evil-dead-rise/\n"
     ]
    },
    {
     "name": "stderr",
     "output_type": "stream",
     "text": [
      "Processing Movies:  89%|████████▉ | 447/500 [7:54:00<1:44:39, 118.48s/it]"
     ]
    },
    {
     "name": "stdout",
     "output_type": "stream",
     "text": [
      "Scraping reviews for movie: https://letterboxd.com/film/the-good-the-bad-and-the-ugly/\n"
     ]
    },
    {
     "name": "stderr",
     "output_type": "stream",
     "text": [
      "Processing Movies:  90%|████████▉ | 448/500 [7:55:59<1:42:49, 118.64s/it]"
     ]
    },
    {
     "name": "stdout",
     "output_type": "stream",
     "text": [
      "Scraping reviews for movie: https://letterboxd.com/film/no-time-to-die-2021/\n"
     ]
    },
    {
     "name": "stderr",
     "output_type": "stream",
     "text": [
      "Processing Movies:  90%|████████▉ | 449/500 [7:57:49<1:38:45, 116.20s/it]"
     ]
    },
    {
     "name": "stdout",
     "output_type": "stream",
     "text": [
      "Scraping reviews for movie: https://letterboxd.com/film/rise-of-the-planet-of-the-apes/\n"
     ]
    },
    {
     "name": "stderr",
     "output_type": "stream",
     "text": [
      "Processing Movies:  90%|█████████ | 450/500 [7:59:39<1:35:10, 114.22s/it]"
     ]
    },
    {
     "name": "stdout",
     "output_type": "stream",
     "text": [
      "Checkpoint saved to movie_reviews_checkpoint.csv\n",
      "Scraping reviews for movie: https://letterboxd.com/film/gravity-2013/\n"
     ]
    },
    {
     "name": "stderr",
     "output_type": "stream",
     "text": [
      "Processing Movies:  90%|█████████ | 451/500 [8:01:41<1:35:17, 116.69s/it]"
     ]
    },
    {
     "name": "stdout",
     "output_type": "stream",
     "text": [
      "Scraping reviews for movie: https://letterboxd.com/film/brave-2012/\n"
     ]
    },
    {
     "name": "stderr",
     "output_type": "stream",
     "text": [
      "Processing Movies:  90%|█████████ | 452/500 [8:03:38<1:33:15, 116.58s/it]"
     ]
    },
    {
     "name": "stdout",
     "output_type": "stream",
     "text": [
      "Scraping reviews for movie: https://letterboxd.com/film/mission-impossible-dead-reckoning-part-one/\n"
     ]
    },
    {
     "name": "stderr",
     "output_type": "stream",
     "text": [
      "Processing Movies:  91%|█████████ | 453/500 [8:05:33<1:30:53, 116.04s/it]"
     ]
    },
    {
     "name": "stdout",
     "output_type": "stream",
     "text": [
      "Scraping reviews for movie: https://letterboxd.com/film/fantastic-beasts-and-where-to-find-them/\n"
     ]
    },
    {
     "name": "stderr",
     "output_type": "stream",
     "text": [
      "Processing Movies:  91%|█████████ | 454/500 [8:07:26<1:28:26, 115.35s/it]"
     ]
    },
    {
     "name": "stdout",
     "output_type": "stream",
     "text": [
      "Scraping reviews for movie: https://letterboxd.com/film/punch-drunk-love/\n"
     ]
    },
    {
     "name": "stderr",
     "output_type": "stream",
     "text": [
      "Processing Movies:  91%|█████████ | 455/500 [8:09:21<1:26:17, 115.05s/it]"
     ]
    },
    {
     "name": "stdout",
     "output_type": "stream",
     "text": [
      "Scraping reviews for movie: https://letterboxd.com/film/suspiria/\n"
     ]
    },
    {
     "name": "stderr",
     "output_type": "stream",
     "text": [
      "Processing Movies:  91%|█████████ | 456/500 [8:11:20<1:25:23, 116.44s/it]"
     ]
    },
    {
     "name": "stdout",
     "output_type": "stream",
     "text": [
      "Scraping reviews for movie: https://letterboxd.com/film/wreck-it-ralph/\n"
     ]
    },
    {
     "name": "stderr",
     "output_type": "stream",
     "text": [
      "Processing Movies:  91%|█████████▏| 457/500 [8:13:30<1:26:17, 120.40s/it]"
     ]
    },
    {
     "name": "stdout",
     "output_type": "stream",
     "text": [
      "Scraping reviews for movie: https://letterboxd.com/film/nomadland/\n"
     ]
    },
    {
     "name": "stderr",
     "output_type": "stream",
     "text": [
      "Processing Movies:  92%|█████████▏| 458/500 [8:15:29<1:23:59, 119.99s/it]"
     ]
    },
    {
     "name": "stdout",
     "output_type": "stream",
     "text": [
      "Scraping reviews for movie: https://letterboxd.com/film/dungeons-dragons-honor-among-thieves/\n"
     ]
    },
    {
     "name": "stderr",
     "output_type": "stream",
     "text": [
      "Processing Movies:  92%|█████████▏| 459/500 [8:17:23<1:20:39, 118.05s/it]"
     ]
    },
    {
     "name": "stdout",
     "output_type": "stream",
     "text": [
      "Scraping reviews for movie: https://letterboxd.com/film/jurassic-world/\n"
     ]
    },
    {
     "name": "stderr",
     "output_type": "stream",
     "text": [
      "Processing Movies:  92%|█████████▏| 460/500 [8:19:19<1:18:26, 117.66s/it]"
     ]
    },
    {
     "name": "stdout",
     "output_type": "stream",
     "text": [
      "Checkpoint saved to movie_reviews_checkpoint.csv\n",
      "Scraping reviews for movie: https://letterboxd.com/film/grease/\n"
     ]
    },
    {
     "name": "stderr",
     "output_type": "stream",
     "text": [
      "Processing Movies:  92%|█████████▏| 461/500 [8:21:21<1:17:15, 118.85s/it]"
     ]
    },
    {
     "name": "stdout",
     "output_type": "stream",
     "text": [
      "Scraping reviews for movie: https://letterboxd.com/film/the-princess-diaries/\n"
     ]
    },
    {
     "name": "stderr",
     "output_type": "stream",
     "text": [
      "Processing Movies:  92%|█████████▏| 462/500 [8:23:17<1:14:40, 117.92s/it]"
     ]
    },
    {
     "name": "stdout",
     "output_type": "stream",
     "text": [
      "Scraping reviews for movie: https://letterboxd.com/film/rocky/\n"
     ]
    },
    {
     "name": "stderr",
     "output_type": "stream",
     "text": [
      "Processing Movies:  93%|█████████▎| 463/500 [8:25:16<1:12:57, 118.31s/it]"
     ]
    },
    {
     "name": "stdout",
     "output_type": "stream",
     "text": [
      "Scraping reviews for movie: https://letterboxd.com/film/another-round/\n"
     ]
    },
    {
     "name": "stderr",
     "output_type": "stream",
     "text": [
      "Processing Movies:  93%|█████████▎| 464/500 [8:27:18<1:11:37, 119.37s/it]"
     ]
    },
    {
     "name": "stdout",
     "output_type": "stream",
     "text": [
      "Scraping reviews for movie: https://letterboxd.com/film/the-terminator/\n"
     ]
    },
    {
     "name": "stderr",
     "output_type": "stream",
     "text": [
      "Processing Movies:  93%|█████████▎| 465/500 [8:29:19<1:09:54, 119.85s/it]"
     ]
    },
    {
     "name": "stdout",
     "output_type": "stream",
     "text": [
      "Scraping reviews for movie: https://letterboxd.com/film/terminator-2-judgment-day/\n"
     ]
    },
    {
     "name": "stderr",
     "output_type": "stream",
     "text": [
      "Processing Movies:  93%|█████████▎| 466/500 [8:31:14<1:07:11, 118.58s/it]"
     ]
    },
    {
     "name": "stdout",
     "output_type": "stream",
     "text": [
      "Scraping reviews for movie: https://letterboxd.com/film/suspiria-2018/\n"
     ]
    },
    {
     "name": "stderr",
     "output_type": "stream",
     "text": [
      "Processing Movies:  93%|█████████▎| 467/500 [8:33:11<1:04:55, 118.06s/it]"
     ]
    },
    {
     "name": "stdout",
     "output_type": "stream",
     "text": [
      "Scraping reviews for movie: https://letterboxd.com/film/crazy-rich-asians/\n"
     ]
    },
    {
     "name": "stderr",
     "output_type": "stream",
     "text": [
      "Processing Movies:  94%|█████████▎| 468/500 [8:35:05<1:02:17, 116.79s/it]"
     ]
    },
    {
     "name": "stdout",
     "output_type": "stream",
     "text": [
      "Scraping reviews for movie: https://letterboxd.com/film/im-thinking-of-ending-things/\n"
     ]
    },
    {
     "name": "stderr",
     "output_type": "stream",
     "text": [
      "Processing Movies:  94%|█████████▍| 469/500 [8:37:03<1:00:32, 117.18s/it]"
     ]
    },
    {
     "name": "stdout",
     "output_type": "stream",
     "text": [
      "Scraping reviews for movie: https://letterboxd.com/film/skyfall/\n"
     ]
    },
    {
     "name": "stderr",
     "output_type": "stream",
     "text": [
      "Processing Movies:  94%|█████████▍| 470/500 [8:39:07<59:33, 119.12s/it]  "
     ]
    },
    {
     "name": "stdout",
     "output_type": "stream",
     "text": [
      "Checkpoint saved to movie_reviews_checkpoint.csv\n",
      "Scraping reviews for movie: https://letterboxd.com/film/ghostbusters/\n"
     ]
    },
    {
     "name": "stderr",
     "output_type": "stream",
     "text": [
      "Processing Movies:  94%|█████████▍| 471/500 [8:41:06<57:33, 119.10s/it]"
     ]
    },
    {
     "name": "stdout",
     "output_type": "stream",
     "text": [
      "Scraping reviews for movie: https://letterboxd.com/film/oceans-eight/\n"
     ]
    },
    {
     "name": "stderr",
     "output_type": "stream",
     "text": [
      "Processing Movies:  94%|█████████▍| 472/500 [8:43:02<55:08, 118.15s/it]"
     ]
    },
    {
     "name": "stdout",
     "output_type": "stream",
     "text": [
      "Scraping reviews for movie: https://letterboxd.com/film/but-im-a-cheerleader/\n"
     ]
    },
    {
     "name": "stderr",
     "output_type": "stream",
     "text": [
      "Processing Movies:  95%|█████████▍| 473/500 [8:45:03<53:33, 119.00s/it]"
     ]
    },
    {
     "name": "stdout",
     "output_type": "stream",
     "text": [
      "Scraping reviews for movie: https://letterboxd.com/film/american-fiction/\n"
     ]
    },
    {
     "name": "stderr",
     "output_type": "stream",
     "text": [
      "Processing Movies:  95%|█████████▍| 474/500 [8:47:01<51:28, 118.77s/it]"
     ]
    },
    {
     "name": "stdout",
     "output_type": "stream",
     "text": [
      "Scraping reviews for movie: https://letterboxd.com/film/mean-girls-2024/\n"
     ]
    },
    {
     "name": "stderr",
     "output_type": "stream",
     "text": [
      "Processing Movies:  95%|█████████▌| 475/500 [8:48:56<49:04, 117.79s/it]"
     ]
    },
    {
     "name": "stdout",
     "output_type": "stream",
     "text": [
      "Scraping reviews for movie: https://letterboxd.com/film/x-men-days-of-future-past/\n"
     ]
    },
    {
     "name": "stderr",
     "output_type": "stream",
     "text": [
      "Processing Movies:  95%|█████████▌| 476/500 [8:51:02<48:01, 120.08s/it]"
     ]
    },
    {
     "name": "stdout",
     "output_type": "stream",
     "text": [
      "Scraping reviews for movie: https://letterboxd.com/film/pirates-of-the-caribbean-dead-mans-chest/\n"
     ]
    },
    {
     "name": "stderr",
     "output_type": "stream",
     "text": [
      "Processing Movies:  95%|█████████▌| 477/500 [8:52:58<45:37, 119.01s/it]"
     ]
    },
    {
     "name": "stdout",
     "output_type": "stream",
     "text": [
      "Scraping reviews for movie: https://letterboxd.com/film/dr-strangelove-or-how-i-learned-to-stop-worrying-and-love-the-bomb/\n"
     ]
    },
    {
     "name": "stderr",
     "output_type": "stream",
     "text": [
      "Processing Movies:  96%|█████████▌| 478/500 [8:54:59<43:48, 119.50s/it]"
     ]
    },
    {
     "name": "stdout",
     "output_type": "stream",
     "text": [
      "Scraping reviews for movie: https://letterboxd.com/film/back-to-the-future-part-ii/\n"
     ]
    },
    {
     "name": "stderr",
     "output_type": "stream",
     "text": [
      "Processing Movies:  96%|█████████▌| 479/500 [8:56:57<41:41, 119.14s/it]"
     ]
    },
    {
     "name": "stdout",
     "output_type": "stream",
     "text": [
      "Scraping reviews for movie: https://letterboxd.com/film/a-quiet-place-day-one/\n"
     ]
    },
    {
     "name": "stderr",
     "output_type": "stream",
     "text": [
      "Processing Movies:  96%|█████████▌| 480/500 [8:58:55<39:32, 118.64s/it]"
     ]
    },
    {
     "name": "stdout",
     "output_type": "stream",
     "text": [
      "Checkpoint saved to movie_reviews_checkpoint.csv\n",
      "Scraping reviews for movie: https://letterboxd.com/film/the-cabin-in-the-woods/\n"
     ]
    },
    {
     "name": "stderr",
     "output_type": "stream",
     "text": [
      "Processing Movies:  96%|█████████▌| 481/500 [9:00:54<37:38, 118.88s/it]"
     ]
    },
    {
     "name": "stdout",
     "output_type": "stream",
     "text": [
      "Scraping reviews for movie: https://letterboxd.com/film/alice-in-wonderland-2010/\n"
     ]
    },
    {
     "name": "stderr",
     "output_type": "stream",
     "text": [
      "Processing Movies:  96%|█████████▋| 482/500 [9:02:55<35:48, 119.37s/it]"
     ]
    },
    {
     "name": "stdout",
     "output_type": "stream",
     "text": [
      "Scraping reviews for movie: https://letterboxd.com/film/squid-game/\n"
     ]
    },
    {
     "name": "stderr",
     "output_type": "stream",
     "text": [
      "Processing Movies:  97%|█████████▋| 483/500 [9:04:53<33:41, 118.91s/it]"
     ]
    },
    {
     "name": "stdout",
     "output_type": "stream",
     "text": [
      "Scraping reviews for movie: https://letterboxd.com/film/mr-mrs-smith-2005/\n"
     ]
    },
    {
     "name": "stderr",
     "output_type": "stream",
     "text": [
      "Processing Movies:  97%|█████████▋| 484/500 [9:06:46<31:17, 117.35s/it]"
     ]
    },
    {
     "name": "stdout",
     "output_type": "stream",
     "text": [
      "Scraping reviews for movie: https://letterboxd.com/film/almost-famous/\n"
     ]
    },
    {
     "name": "stderr",
     "output_type": "stream",
     "text": [
      "Processing Movies:  97%|█████████▋| 485/500 [9:08:44<29:23, 117.53s/it]"
     ]
    },
    {
     "name": "stdout",
     "output_type": "stream",
     "text": [
      "Scraping reviews for movie: https://letterboxd.com/film/the-maze-runner/\n"
     ]
    },
    {
     "name": "stderr",
     "output_type": "stream",
     "text": [
      "Processing Movies:  97%|█████████▋| 486/500 [9:10:35<26:56, 115.45s/it]"
     ]
    },
    {
     "name": "stdout",
     "output_type": "stream",
     "text": [
      "Scraping reviews for movie: https://letterboxd.com/film/12-years-a-slave/\n"
     ]
    },
    {
     "name": "stderr",
     "output_type": "stream",
     "text": [
      "Processing Movies:  97%|█████████▋| 487/500 [9:12:46<26:02, 120.22s/it]"
     ]
    },
    {
     "name": "stdout",
     "output_type": "stream",
     "text": [
      "Scraping reviews for movie: https://letterboxd.com/film/the-usual-suspects/\n"
     ]
    },
    {
     "name": "stderr",
     "output_type": "stream",
     "text": [
      "Processing Movies:  98%|█████████▊| 488/500 [9:15:02<24:59, 124.98s/it]"
     ]
    },
    {
     "name": "stdout",
     "output_type": "stream",
     "text": [
      "Scraping reviews for movie: https://letterboxd.com/film/the-idea-of-you-2024/\n"
     ]
    },
    {
     "name": "stderr",
     "output_type": "stream",
     "text": [
      "Processing Movies:  98%|█████████▊| 489/500 [9:17:06<22:51, 124.68s/it]"
     ]
    },
    {
     "name": "stdout",
     "output_type": "stream",
     "text": [
      "Scraping reviews for movie: https://letterboxd.com/film/the-blair-witch-project/\n"
     ]
    },
    {
     "name": "stderr",
     "output_type": "stream",
     "text": [
      "Processing Movies:  98%|█████████▊| 490/500 [9:19:18<21:07, 126.80s/it]"
     ]
    },
    {
     "name": "stdout",
     "output_type": "stream",
     "text": [
      "Checkpoint saved to movie_reviews_checkpoint.csv\n",
      "Scraping reviews for movie: https://letterboxd.com/film/groundhog-day/\n"
     ]
    },
    {
     "name": "stderr",
     "output_type": "stream",
     "text": [
      "Processing Movies:  98%|█████████▊| 491/500 [9:21:25<19:00, 126.76s/it]"
     ]
    },
    {
     "name": "stdout",
     "output_type": "stream",
     "text": [
      "Scraping reviews for movie: https://letterboxd.com/film/now-you-see-me/\n"
     ]
    },
    {
     "name": "stderr",
     "output_type": "stream",
     "text": [
      "Processing Movies:  98%|█████████▊| 492/500 [9:23:33<16:56, 127.11s/it]"
     ]
    },
    {
     "name": "stdout",
     "output_type": "stream",
     "text": [
      "Scraping reviews for movie: https://letterboxd.com/film/finding-dory/\n"
     ]
    },
    {
     "name": "stderr",
     "output_type": "stream",
     "text": [
      "Processing Movies:  99%|█████████▊| 493/500 [9:25:30<14:29, 124.25s/it]"
     ]
    },
    {
     "name": "stdout",
     "output_type": "stream",
     "text": [
      "Scraping reviews for movie: https://letterboxd.com/film/what-we-do-in-the-shadows/\n"
     ]
    },
    {
     "name": "stderr",
     "output_type": "stream",
     "text": [
      "Processing Movies:  99%|█████████▉| 494/500 [9:27:36<12:28, 124.71s/it]"
     ]
    },
    {
     "name": "stdout",
     "output_type": "stream",
     "text": [
      "Scraping reviews for movie: https://letterboxd.com/film/boogie-nights/\n"
     ]
    },
    {
     "name": "stderr",
     "output_type": "stream",
     "text": [
      "Processing Movies:  99%|█████████▉| 495/500 [9:30:02<10:55, 131.01s/it]"
     ]
    },
    {
     "name": "stdout",
     "output_type": "stream",
     "text": [
      "Scraping reviews for movie: https://letterboxd.com/film/life-of-pi/\n"
     ]
    },
    {
     "name": "stderr",
     "output_type": "stream",
     "text": [
      "Processing Movies:  99%|█████████▉| 496/500 [9:32:13<08:44, 131.22s/it]"
     ]
    },
    {
     "name": "stdout",
     "output_type": "stream",
     "text": [
      "Scraping reviews for movie: https://letterboxd.com/film/magnolia/\n"
     ]
    },
    {
     "name": "stderr",
     "output_type": "stream",
     "text": [
      "Processing Movies:  99%|█████████▉| 497/500 [9:34:21<06:30, 130.08s/it]"
     ]
    },
    {
     "name": "stdout",
     "output_type": "stream",
     "text": [
      "Scraping reviews for movie: https://letterboxd.com/film/heathers/\n"
     ]
    },
    {
     "name": "stderr",
     "output_type": "stream",
     "text": [
      "Processing Movies: 100%|█████████▉| 498/500 [9:36:35<04:22, 131.29s/it]"
     ]
    },
    {
     "name": "stdout",
     "output_type": "stream",
     "text": [
      "Scraping reviews for movie: https://letterboxd.com/film/fresh-2022/\n"
     ]
    },
    {
     "name": "stderr",
     "output_type": "stream",
     "text": [
      "Processing Movies: 100%|█████████▉| 499/500 [9:38:47<02:11, 131.44s/it]"
     ]
    },
    {
     "name": "stdout",
     "output_type": "stream",
     "text": [
      "Scraping reviews for movie: https://letterboxd.com/film/hacksaw-ridge/\n"
     ]
    },
    {
     "name": "stderr",
     "output_type": "stream",
     "text": [
      "Processing Movies: 100%|██████████| 500/500 [9:40:52<00:00, 69.70s/it] "
     ]
    },
    {
     "name": "stdout",
     "output_type": "stream",
     "text": [
      "Checkpoint saved to movie_reviews_checkpoint.csv\n"
     ]
    },
    {
     "name": "stderr",
     "output_type": "stream",
     "text": [
      "\n"
     ]
    },
    {
     "name": "stdout",
     "output_type": "stream",
     "text": [
      "Checkpoint saved to movie_reviews_checkpoint.csv\n",
      "Reviews successfully scraped from movie URLs!\n",
      "Reviews preview:\n",
      "                              user_url                                                                                                               review_text  rating  review_date movie_title movie_year                            movie_url\n",
      "0       https://letterboxd.com/aykins/                                                                                          feminism displayed at its worst.     0.4  28 Aug 2024      Barbie       2023  https://letterboxd.com/film/barbie/\n",
      "1     https://letterboxd.com/maiimaoo/  Ryan Gosling... Get in my bed RN please.\\nThis movie could literally save the world though if I'm being serious with you     1.0  21 Jul 2023      Barbie       2023  https://letterboxd.com/film/barbie/\n",
      "2     https://letterboxd.com/ambres29/                         #decue avec tout ce que j'avais vu dessus j'pensais qu'il allait être génial bah pas ouf au final     0.4  28 Aug 2024      Barbie       2023  https://letterboxd.com/film/barbie/\n",
      "3  https://letterboxd.com/whosaymaree/                           im sorry to all the barbies hair that i’ve cut, and have to walk around barbie land like that…😓     1.0  28 Aug 2024      Barbie       2023  https://letterboxd.com/film/barbie/\n",
      "4     https://letterboxd.com/ronzcarm/                                                                                                              I'm just Ken     0.8  28 Aug 2024      Barbie       2023  https://letterboxd.com/film/barbie/\n",
      "\n",
      "Closing connection to selenium WebDriver...\n",
      "Connection closed successfully!\n",
      "\n",
      "\n"
     ]
    }
   ],
   "source": [
    "if __name__ == \"__main__\":\n",
    "    driver = initialize_driver()\n",
    "    try:\n",
    "        num_reviews_per_movie = 100  # Adjust as needed\n",
    "        movie_urls_df = pd.read_csv('movie_urls.csv')  # Assuming you have a CSV file of movie URLs\n",
    "        reviews_df = scrape_reviews_from_movies(driver, movie_urls_df['url'], num_reviews_per_movie)\n",
    "        # Save to file if needed\n",
    "        reviews_df.to_csv('/kaggle/working/movie_reviews.csv')\n",
    "    finally:\n",
    "        driver.quit()  # Ensure the driver is closed after usage"
   ]
  },
  {
   "cell_type": "code",
   "execution_count": null,
   "id": "c5bca437",
   "metadata": {
    "papermill": {
     "duration": 0.168561,
     "end_time": "2024-08-28T18:56:43.107589",
     "exception": false,
     "start_time": "2024-08-28T18:56:42.939028",
     "status": "completed"
    },
    "tags": []
   },
   "outputs": [],
   "source": []
  },
  {
   "cell_type": "code",
   "execution_count": null,
   "id": "e4208fb6",
   "metadata": {
    "papermill": {
     "duration": 0.201846,
     "end_time": "2024-08-28T18:56:43.462951",
     "exception": false,
     "start_time": "2024-08-28T18:56:43.261105",
     "status": "completed"
    },
    "tags": []
   },
   "outputs": [],
   "source": []
  }
 ],
 "metadata": {
  "kaggle": {
   "accelerator": "none",
   "dataSources": [
    {
     "datasetId": 4413046,
     "sourceId": 7581027,
     "sourceType": "datasetVersion"
    }
   ],
   "dockerImageVersionId": 30635,
   "isGpuEnabled": false,
   "isInternetEnabled": true,
   "language": "python",
   "sourceType": "notebook"
  },
  "kernelspec": {
   "display_name": "Python 3",
   "language": "python",
   "name": "python3"
  },
  "language_info": {
   "codemirror_mode": {
    "name": "ipython",
    "version": 3
   },
   "file_extension": ".py",
   "mimetype": "text/x-python",
   "name": "python",
   "nbconvert_exporter": "python",
   "pygments_lexer": "ipython3",
   "version": "3.10.12"
  },
  "papermill": {
   "default_parameters": {},
   "duration": 35097.513172,
   "end_time": "2024-08-28T18:56:45.031545",
   "environment_variables": {},
   "exception": null,
   "input_path": "__notebook__.ipynb",
   "output_path": "__notebook__.ipynb",
   "parameters": {},
   "start_time": "2024-08-28T09:11:47.518373",
   "version": "2.4.0"
  }
 },
 "nbformat": 4,
 "nbformat_minor": 5
}
